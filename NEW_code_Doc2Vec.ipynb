{
  "nbformat": 4,
  "nbformat_minor": 0,
  "metadata": {
    "colab": {
      "provenance": [],
      "collapsed_sections": [
        "4JEn5Q2Mfy5k",
        "3KGLlVi8l0Vg",
        "_jKX0DCWDfYn",
        "NEvRzCStIR3z"
      ],
      "authorship_tag": "ABX9TyMvNZNuOkW7h4wNs1p8pR89",
      "include_colab_link": true
    },
    "kernelspec": {
      "name": "python3",
      "display_name": "Python 3"
    },
    "language_info": {
      "name": "python"
    }
  },
  "cells": [
    {
      "cell_type": "markdown",
      "metadata": {
        "id": "view-in-github",
        "colab_type": "text"
      },
      "source": [
        "<a href=\"https://colab.research.google.com/github/antopeza/Final-Project-Brainster/blob/main/NEW_code_Doc2Vec.ipynb\" target=\"_parent\"><img src=\"https://colab.research.google.com/assets/colab-badge.svg\" alt=\"Open In Colab\"/></a>"
      ]
    },
    {
      "cell_type": "code",
      "execution_count": 1,
      "metadata": {
        "id": "e-KBkFqJDgmY"
      },
      "outputs": [],
      "source": [
        "import pandas as pd\n",
        "import numpy as np\n",
        "from numpy import random\n",
        "from numpy import vstack\n",
        "import matplotlib.pyplot as plt\n",
        "import os \n",
        "\n",
        "import re\n",
        "\n",
        "import string\n",
        "from string import punctuation\n",
        "\n",
        "\n",
        "from sklearn.model_selection import train_test_split, GridSearchCV\n",
        "from sklearn.pipeline import Pipeline\n",
        "from sklearn.feature_extraction.text import CountVectorizer, TfidfVectorizer\n",
        "from sklearn.linear_model import LogisticRegression\n",
        "from sklearn.svm import SVC\n",
        "from sklearn.svm import LinearSVC\n",
        "import sklearn.metrics as metrics\n",
        "from sklearn.metrics import classification_report, confusion_matrix, accuracy_score\n",
        "\n",
        "import xgboost as xgb\n",
        "\n",
        "import nltk\n",
        "from nltk.stem import WordNetLemmatizer, PorterStemmer, LancasterStemmer\n",
        "from nltk.corpus import wordnet, stopwords\n",
        "from nltk import pos_tag, word_tokenize\n",
        "\n",
        "import gensim\n",
        "from gensim.parsing.preprocessing import remove_stopwords\n",
        "\n",
        "from keras.preprocessing.text import Tokenizer\n",
        "from keras_preprocessing.sequence import pad_sequences\n",
        "from keras.models import Model, Sequential, load_model\n",
        "from keras.layers import Input, Embedding, LSTM, Dense\n",
        "from keras.callbacks import ModelCheckpoint, EarlyStopping\n",
        "\n",
        "from imblearn.over_sampling import SMOTE\n",
        "from collections import Counter\n",
        "\n",
        "#from scikeras.wrappers import KerasClassifier\n",
        "\n",
        "import pickle\n",
        "from pickle import dump\n",
        "from pickle import load\n",
        "\n",
        "from imblearn.over_sampling import SMOTE\n",
        "from collections import Counter\n",
        "\n",
        "%matplotlib inline\n",
        "import warnings\n",
        "warnings.filterwarnings('ignore')"
      ]
    },
    {
      "cell_type": "code",
      "source": [
        "from google.colab import drive \n",
        "drive.mount('/drive')"
      ],
      "metadata": {
        "colab": {
          "base_uri": "https://localhost:8080/"
        },
        "id": "UBbY-W7bD2F6",
        "outputId": "2fb5f72d-f289-4309-deac-8717d370afa3"
      },
      "execution_count": 3,
      "outputs": [
        {
          "output_type": "stream",
          "name": "stdout",
          "text": [
            "Mounted at /drive\n"
          ]
        }
      ]
    },
    {
      "cell_type": "code",
      "source": [
        "nltk.download(\"punkt\")\n",
        "nltk.download(\"stopwords\")\n",
        "nltk.download(\"wordnet\")\n",
        "nltk.download(\"averaged_perceptron_tagger\")\n",
        "nltk.download('omw-1.4')"
      ],
      "metadata": {
        "colab": {
          "base_uri": "https://localhost:8080/"
        },
        "id": "ok8svMpmDmG9",
        "outputId": "542c5ccb-4004-4f4d-b02b-2e44a670524d"
      },
      "execution_count": 4,
      "outputs": [
        {
          "output_type": "stream",
          "name": "stderr",
          "text": [
            "[nltk_data] Downloading package punkt to /root/nltk_data...\n",
            "[nltk_data]   Unzipping tokenizers/punkt.zip.\n",
            "[nltk_data] Downloading package stopwords to /root/nltk_data...\n",
            "[nltk_data]   Unzipping corpora/stopwords.zip.\n",
            "[nltk_data] Downloading package wordnet to /root/nltk_data...\n",
            "[nltk_data] Downloading package averaged_perceptron_tagger to\n",
            "[nltk_data]     /root/nltk_data...\n",
            "[nltk_data]   Unzipping taggers/averaged_perceptron_tagger.zip.\n",
            "[nltk_data] Downloading package omw-1.4 to /root/nltk_data...\n"
          ]
        },
        {
          "output_type": "execute_result",
          "data": {
            "text/plain": [
              "True"
            ]
          },
          "metadata": {},
          "execution_count": 4
        }
      ]
    },
    {
      "cell_type": "code",
      "source": [
        "stops = set(stopwords.words('english'))\n",
        "#print(stops)"
      ],
      "metadata": {
        "id": "eihupDCWDobb"
      },
      "execution_count": 5,
      "outputs": []
    },
    {
      "cell_type": "code",
      "source": [
        "stemmer =  PorterStemmer()\n",
        "lemmer = WordNetLemmatizer()"
      ],
      "metadata": {
        "id": "zkLm5h4mDqlo"
      },
      "execution_count": 6,
      "outputs": []
    },
    {
      "cell_type": "code",
      "source": [
        "#df_raw = pd.read_csv(path)\n",
        "df_raw = pd.read_csv('/drive/My Drive/MACHINE LEARNING/FINAL PROJECT/train.csv')"
      ],
      "metadata": {
        "id": "GVt98k6CDuZo"
      },
      "execution_count": 7,
      "outputs": []
    },
    {
      "cell_type": "code",
      "source": [
        "print('shape of df  = ', df_raw.shape)\n",
        "print()\n",
        "df_raw.head(2)"
      ],
      "metadata": {
        "colab": {
          "base_uri": "https://localhost:8080/",
          "height": 148
        },
        "id": "yT4ICsPwDw65",
        "outputId": "72d3cec1-ccc9-445f-de82-a2b9e00bc2b8"
      },
      "execution_count": 8,
      "outputs": [
        {
          "output_type": "stream",
          "name": "stdout",
          "text": [
            "shape of df  =  (404290, 6)\n",
            "\n"
          ]
        },
        {
          "output_type": "execute_result",
          "data": {
            "text/plain": [
              "   id  qid1  qid2                                          question1  \\\n",
              "0   0     1     2  What is the step by step guide to invest in sh...   \n",
              "1   1     3     4  What is the story of Kohinoor (Koh-i-Noor) Dia...   \n",
              "\n",
              "                                           question2  is_duplicate  \n",
              "0  What is the step by step guide to invest in sh...             0  \n",
              "1  What would happen if the Indian government sto...             0  "
            ],
            "text/html": [
              "\n",
              "  <div id=\"df-c25eeffe-6177-4daf-a8cc-8ea6b30cc751\">\n",
              "    <div class=\"colab-df-container\">\n",
              "      <div>\n",
              "<style scoped>\n",
              "    .dataframe tbody tr th:only-of-type {\n",
              "        vertical-align: middle;\n",
              "    }\n",
              "\n",
              "    .dataframe tbody tr th {\n",
              "        vertical-align: top;\n",
              "    }\n",
              "\n",
              "    .dataframe thead th {\n",
              "        text-align: right;\n",
              "    }\n",
              "</style>\n",
              "<table border=\"1\" class=\"dataframe\">\n",
              "  <thead>\n",
              "    <tr style=\"text-align: right;\">\n",
              "      <th></th>\n",
              "      <th>id</th>\n",
              "      <th>qid1</th>\n",
              "      <th>qid2</th>\n",
              "      <th>question1</th>\n",
              "      <th>question2</th>\n",
              "      <th>is_duplicate</th>\n",
              "    </tr>\n",
              "  </thead>\n",
              "  <tbody>\n",
              "    <tr>\n",
              "      <th>0</th>\n",
              "      <td>0</td>\n",
              "      <td>1</td>\n",
              "      <td>2</td>\n",
              "      <td>What is the step by step guide to invest in sh...</td>\n",
              "      <td>What is the step by step guide to invest in sh...</td>\n",
              "      <td>0</td>\n",
              "    </tr>\n",
              "    <tr>\n",
              "      <th>1</th>\n",
              "      <td>1</td>\n",
              "      <td>3</td>\n",
              "      <td>4</td>\n",
              "      <td>What is the story of Kohinoor (Koh-i-Noor) Dia...</td>\n",
              "      <td>What would happen if the Indian government sto...</td>\n",
              "      <td>0</td>\n",
              "    </tr>\n",
              "  </tbody>\n",
              "</table>\n",
              "</div>\n",
              "      <button class=\"colab-df-convert\" onclick=\"convertToInteractive('df-c25eeffe-6177-4daf-a8cc-8ea6b30cc751')\"\n",
              "              title=\"Convert this dataframe to an interactive table.\"\n",
              "              style=\"display:none;\">\n",
              "        \n",
              "  <svg xmlns=\"http://www.w3.org/2000/svg\" height=\"24px\"viewBox=\"0 0 24 24\"\n",
              "       width=\"24px\">\n",
              "    <path d=\"M0 0h24v24H0V0z\" fill=\"none\"/>\n",
              "    <path d=\"M18.56 5.44l.94 2.06.94-2.06 2.06-.94-2.06-.94-.94-2.06-.94 2.06-2.06.94zm-11 1L8.5 8.5l.94-2.06 2.06-.94-2.06-.94L8.5 2.5l-.94 2.06-2.06.94zm10 10l.94 2.06.94-2.06 2.06-.94-2.06-.94-.94-2.06-.94 2.06-2.06.94z\"/><path d=\"M17.41 7.96l-1.37-1.37c-.4-.4-.92-.59-1.43-.59-.52 0-1.04.2-1.43.59L10.3 9.45l-7.72 7.72c-.78.78-.78 2.05 0 2.83L4 21.41c.39.39.9.59 1.41.59.51 0 1.02-.2 1.41-.59l7.78-7.78 2.81-2.81c.8-.78.8-2.07 0-2.86zM5.41 20L4 18.59l7.72-7.72 1.47 1.35L5.41 20z\"/>\n",
              "  </svg>\n",
              "      </button>\n",
              "      \n",
              "  <style>\n",
              "    .colab-df-container {\n",
              "      display:flex;\n",
              "      flex-wrap:wrap;\n",
              "      gap: 12px;\n",
              "    }\n",
              "\n",
              "    .colab-df-convert {\n",
              "      background-color: #E8F0FE;\n",
              "      border: none;\n",
              "      border-radius: 50%;\n",
              "      cursor: pointer;\n",
              "      display: none;\n",
              "      fill: #1967D2;\n",
              "      height: 32px;\n",
              "      padding: 0 0 0 0;\n",
              "      width: 32px;\n",
              "    }\n",
              "\n",
              "    .colab-df-convert:hover {\n",
              "      background-color: #E2EBFA;\n",
              "      box-shadow: 0px 1px 2px rgba(60, 64, 67, 0.3), 0px 1px 3px 1px rgba(60, 64, 67, 0.15);\n",
              "      fill: #174EA6;\n",
              "    }\n",
              "\n",
              "    [theme=dark] .colab-df-convert {\n",
              "      background-color: #3B4455;\n",
              "      fill: #D2E3FC;\n",
              "    }\n",
              "\n",
              "    [theme=dark] .colab-df-convert:hover {\n",
              "      background-color: #434B5C;\n",
              "      box-shadow: 0px 1px 3px 1px rgba(0, 0, 0, 0.15);\n",
              "      filter: drop-shadow(0px 1px 2px rgba(0, 0, 0, 0.3));\n",
              "      fill: #FFFFFF;\n",
              "    }\n",
              "  </style>\n",
              "\n",
              "      <script>\n",
              "        const buttonEl =\n",
              "          document.querySelector('#df-c25eeffe-6177-4daf-a8cc-8ea6b30cc751 button.colab-df-convert');\n",
              "        buttonEl.style.display =\n",
              "          google.colab.kernel.accessAllowed ? 'block' : 'none';\n",
              "\n",
              "        async function convertToInteractive(key) {\n",
              "          const element = document.querySelector('#df-c25eeffe-6177-4daf-a8cc-8ea6b30cc751');\n",
              "          const dataTable =\n",
              "            await google.colab.kernel.invokeFunction('convertToInteractive',\n",
              "                                                     [key], {});\n",
              "          if (!dataTable) return;\n",
              "\n",
              "          const docLinkHtml = 'Like what you see? Visit the ' +\n",
              "            '<a target=\"_blank\" href=https://colab.research.google.com/notebooks/data_table.ipynb>data table notebook</a>'\n",
              "            + ' to learn more about interactive tables.';\n",
              "          element.innerHTML = '';\n",
              "          dataTable['output_type'] = 'display_data';\n",
              "          await google.colab.output.renderOutput(dataTable, element);\n",
              "          const docLink = document.createElement('div');\n",
              "          docLink.innerHTML = docLinkHtml;\n",
              "          element.appendChild(docLink);\n",
              "        }\n",
              "      </script>\n",
              "    </div>\n",
              "  </div>\n",
              "  "
            ]
          },
          "metadata": {},
          "execution_count": 8
        }
      ]
    },
    {
      "cell_type": "code",
      "source": [
        "df_raw[df_raw.isnull().any(axis=1)]"
      ],
      "metadata": {
        "colab": {
          "base_uri": "https://localhost:8080/",
          "height": 143
        },
        "id": "nmzhM5GaD9su",
        "outputId": "c3e94bff-8b6e-487d-9be2-565308dd1ad8"
      },
      "execution_count": 8,
      "outputs": [
        {
          "output_type": "execute_result",
          "data": {
            "text/plain": [
              "            id    qid1    qid2                         question1  \\\n",
              "105780  105780  174363  174364    How can I develop android app?   \n",
              "201841  201841  303951  174364  How can I create an Android app?   \n",
              "363362  363362  493340  493341                               NaN   \n",
              "\n",
              "                                                question2  is_duplicate  \n",
              "105780                                                NaN             0  \n",
              "201841                                                NaN             0  \n",
              "363362  My Chinese name is Haichao Yu. What English na...             0  "
            ],
            "text/html": [
              "\n",
              "  <div id=\"df-fa75a78e-c84b-4341-91c8-7849db624abb\">\n",
              "    <div class=\"colab-df-container\">\n",
              "      <div>\n",
              "<style scoped>\n",
              "    .dataframe tbody tr th:only-of-type {\n",
              "        vertical-align: middle;\n",
              "    }\n",
              "\n",
              "    .dataframe tbody tr th {\n",
              "        vertical-align: top;\n",
              "    }\n",
              "\n",
              "    .dataframe thead th {\n",
              "        text-align: right;\n",
              "    }\n",
              "</style>\n",
              "<table border=\"1\" class=\"dataframe\">\n",
              "  <thead>\n",
              "    <tr style=\"text-align: right;\">\n",
              "      <th></th>\n",
              "      <th>id</th>\n",
              "      <th>qid1</th>\n",
              "      <th>qid2</th>\n",
              "      <th>question1</th>\n",
              "      <th>question2</th>\n",
              "      <th>is_duplicate</th>\n",
              "    </tr>\n",
              "  </thead>\n",
              "  <tbody>\n",
              "    <tr>\n",
              "      <th>105780</th>\n",
              "      <td>105780</td>\n",
              "      <td>174363</td>\n",
              "      <td>174364</td>\n",
              "      <td>How can I develop android app?</td>\n",
              "      <td>NaN</td>\n",
              "      <td>0</td>\n",
              "    </tr>\n",
              "    <tr>\n",
              "      <th>201841</th>\n",
              "      <td>201841</td>\n",
              "      <td>303951</td>\n",
              "      <td>174364</td>\n",
              "      <td>How can I create an Android app?</td>\n",
              "      <td>NaN</td>\n",
              "      <td>0</td>\n",
              "    </tr>\n",
              "    <tr>\n",
              "      <th>363362</th>\n",
              "      <td>363362</td>\n",
              "      <td>493340</td>\n",
              "      <td>493341</td>\n",
              "      <td>NaN</td>\n",
              "      <td>My Chinese name is Haichao Yu. What English na...</td>\n",
              "      <td>0</td>\n",
              "    </tr>\n",
              "  </tbody>\n",
              "</table>\n",
              "</div>\n",
              "      <button class=\"colab-df-convert\" onclick=\"convertToInteractive('df-fa75a78e-c84b-4341-91c8-7849db624abb')\"\n",
              "              title=\"Convert this dataframe to an interactive table.\"\n",
              "              style=\"display:none;\">\n",
              "        \n",
              "  <svg xmlns=\"http://www.w3.org/2000/svg\" height=\"24px\"viewBox=\"0 0 24 24\"\n",
              "       width=\"24px\">\n",
              "    <path d=\"M0 0h24v24H0V0z\" fill=\"none\"/>\n",
              "    <path d=\"M18.56 5.44l.94 2.06.94-2.06 2.06-.94-2.06-.94-.94-2.06-.94 2.06-2.06.94zm-11 1L8.5 8.5l.94-2.06 2.06-.94-2.06-.94L8.5 2.5l-.94 2.06-2.06.94zm10 10l.94 2.06.94-2.06 2.06-.94-2.06-.94-.94-2.06-.94 2.06-2.06.94z\"/><path d=\"M17.41 7.96l-1.37-1.37c-.4-.4-.92-.59-1.43-.59-.52 0-1.04.2-1.43.59L10.3 9.45l-7.72 7.72c-.78.78-.78 2.05 0 2.83L4 21.41c.39.39.9.59 1.41.59.51 0 1.02-.2 1.41-.59l7.78-7.78 2.81-2.81c.8-.78.8-2.07 0-2.86zM5.41 20L4 18.59l7.72-7.72 1.47 1.35L5.41 20z\"/>\n",
              "  </svg>\n",
              "      </button>\n",
              "      \n",
              "  <style>\n",
              "    .colab-df-container {\n",
              "      display:flex;\n",
              "      flex-wrap:wrap;\n",
              "      gap: 12px;\n",
              "    }\n",
              "\n",
              "    .colab-df-convert {\n",
              "      background-color: #E8F0FE;\n",
              "      border: none;\n",
              "      border-radius: 50%;\n",
              "      cursor: pointer;\n",
              "      display: none;\n",
              "      fill: #1967D2;\n",
              "      height: 32px;\n",
              "      padding: 0 0 0 0;\n",
              "      width: 32px;\n",
              "    }\n",
              "\n",
              "    .colab-df-convert:hover {\n",
              "      background-color: #E2EBFA;\n",
              "      box-shadow: 0px 1px 2px rgba(60, 64, 67, 0.3), 0px 1px 3px 1px rgba(60, 64, 67, 0.15);\n",
              "      fill: #174EA6;\n",
              "    }\n",
              "\n",
              "    [theme=dark] .colab-df-convert {\n",
              "      background-color: #3B4455;\n",
              "      fill: #D2E3FC;\n",
              "    }\n",
              "\n",
              "    [theme=dark] .colab-df-convert:hover {\n",
              "      background-color: #434B5C;\n",
              "      box-shadow: 0px 1px 3px 1px rgba(0, 0, 0, 0.15);\n",
              "      filter: drop-shadow(0px 1px 2px rgba(0, 0, 0, 0.3));\n",
              "      fill: #FFFFFF;\n",
              "    }\n",
              "  </style>\n",
              "\n",
              "      <script>\n",
              "        const buttonEl =\n",
              "          document.querySelector('#df-fa75a78e-c84b-4341-91c8-7849db624abb button.colab-df-convert');\n",
              "        buttonEl.style.display =\n",
              "          google.colab.kernel.accessAllowed ? 'block' : 'none';\n",
              "\n",
              "        async function convertToInteractive(key) {\n",
              "          const element = document.querySelector('#df-fa75a78e-c84b-4341-91c8-7849db624abb');\n",
              "          const dataTable =\n",
              "            await google.colab.kernel.invokeFunction('convertToInteractive',\n",
              "                                                     [key], {});\n",
              "          if (!dataTable) return;\n",
              "\n",
              "          const docLinkHtml = 'Like what you see? Visit the ' +\n",
              "            '<a target=\"_blank\" href=https://colab.research.google.com/notebooks/data_table.ipynb>data table notebook</a>'\n",
              "            + ' to learn more about interactive tables.';\n",
              "          element.innerHTML = '';\n",
              "          dataTable['output_type'] = 'display_data';\n",
              "          await google.colab.output.renderOutput(dataTable, element);\n",
              "          const docLink = document.createElement('div');\n",
              "          docLink.innerHTML = docLinkHtml;\n",
              "          element.appendChild(docLink);\n",
              "        }\n",
              "      </script>\n",
              "    </div>\n",
              "  </div>\n",
              "  "
            ]
          },
          "metadata": {},
          "execution_count": 8
        }
      ]
    },
    {
      "cell_type": "code",
      "source": [
        "df_raw = df_raw.fillna(\"\")\n",
        "df_raw.isnull().sum()"
      ],
      "metadata": {
        "colab": {
          "base_uri": "https://localhost:8080/"
        },
        "id": "U6MgVQvXEDkK",
        "outputId": "96569da8-5c05-4459-9a71-f2a23128e574"
      },
      "execution_count": 8,
      "outputs": [
        {
          "output_type": "execute_result",
          "data": {
            "text/plain": [
              "id              0\n",
              "qid1            0\n",
              "qid2            0\n",
              "question1       0\n",
              "question2       0\n",
              "is_duplicate    0\n",
              "dtype: int64"
            ]
          },
          "metadata": {},
          "execution_count": 8
        }
      ]
    },
    {
      "cell_type": "code",
      "source": [
        "# randomly selected samples from df for the new df to perform operations\n",
        "df = df_raw.sample(5000)\n",
        "df = df[['question1', 'question2', 'is_duplicate']]\n",
        "print(df.shape)"
      ],
      "metadata": {
        "colab": {
          "base_uri": "https://localhost:8080/"
        },
        "id": "GXqgqnxiESn0",
        "outputId": "e3b8b2fd-5998-4044-cab1-9d757e75117d"
      },
      "execution_count": 9,
      "outputs": [
        {
          "output_type": "stream",
          "name": "stdout",
          "text": [
            "(5000, 3)\n"
          ]
        }
      ]
    },
    {
      "cell_type": "code",
      "source": [
        "df_copy = df.copy()"
      ],
      "metadata": {
        "id": "Bl3kqF6NQ6pn"
      },
      "execution_count": 10,
      "outputs": []
    },
    {
      "cell_type": "markdown",
      "source": [
        "# Clean Data"
      ],
      "metadata": {
        "id": "u9_jhJzDjWUy"
      }
    },
    {
      "cell_type": "code",
      "source": [
        "def get_wordnet_pos(tag):\n",
        "    if tag.startswith(\"N\"):\n",
        "        return wordnet.NOUN\n",
        "    if tag.startswith(\"J\"):\n",
        "        return wordnet.ADJ\n",
        "    if tag.startswith(\"V\"):\n",
        "        return wordnet.VERB\n",
        "    if tag.startswith(\"R\"):\n",
        "        return wordnet.ADV\n",
        "    return wordnet.NOUN\n",
        "\n",
        "def clean_sentence(sentence, stopwords = False, lemmatize = False, stem = False):\n",
        "    sentence = sentence.lower().strip()\n",
        "    sentence = re.sub(r'[^a-z0-9\\s]', '', sentence)  # removing all caracters that are not alpha numeric\n",
        "    #sentence = re.sub(r'\\s{2,}', ' ', sentence\n",
        "   \n",
        "    sentence = sentence.translate(str.maketrans('', '', string.punctuation))  # remove punctuation\n",
        "    \n",
        "    if stopwords:\n",
        "        sentence = remove_stopwords(sentence)  \n",
        "        \n",
        "    if lemmatize:\n",
        "        nltk_tagged = nltk.pos_tag(nltk.word_tokenize(sentence))\n",
        "        wn_tagged = map(lambda x: (x[0], get_wordnet_pos(x[1])), nltk_tagged)\n",
        "        res_words = []\n",
        "        for word, tag in wn_tagged:\n",
        "            if tag is None:\n",
        "                res_words.append(word)\n",
        "            else :\n",
        "                res_words.append(lemmer.lemmatize(word, tag))\n",
        "        sentence = \" \".join(res_words)\n",
        "        \n",
        "    if stem:\n",
        "        sent_stemmed = ''\n",
        "        for word in sentence.split():\n",
        "            sent_stemmed += ' '+ stemmer.stem(word)\n",
        "        sentence = sent_stemmed\n",
        "   \n",
        "    return sentence\n",
        "\n",
        "def get_cleaned_senteces(df, stopwords = False, lemmatize = False, stem = False):\n",
        "    #sents1 = dfq[['question1']]  \n",
        "    #sents2 = dfq[['question2']]\n",
        "    cleaned_sentences1 = []\n",
        "    cleaned_sentences2 = []\n",
        "    \n",
        "    for index, row in df.iterrows():\n",
        "        # print (index, row)\n",
        "        cleaned1 = clean_sentence(row['question1'], stopwords, lemmatize, stem) \n",
        "        cleaned2 = clean_sentence(row['question2'], stopwords, lemmatize, stem)\n",
        "\n",
        "        cleaned_sentences1.append(cleaned1)\n",
        "        cleaned_sentences2.append(cleaned2)\n",
        "    return cleaned_sentences1, cleaned_sentences2"
      ],
      "metadata": {
        "id": "ynqJ5flWEUEk"
      },
      "execution_count": 10,
      "outputs": []
    },
    {
      "cell_type": "code",
      "source": [
        "def to_df(q1cleaned, q2cleaned, df):\n",
        "    '''cleaned sentences to df'''\n",
        "    X_temp1 = pd.DataFrame()\n",
        "    X_temp2 = pd.DataFrame()\n",
        "    X_temp1['q1'] = pd.DataFrame(q1cleaned, index = df.index)\n",
        "    X_temp2['q2'] = pd.DataFrame(q2cleaned, index = df.index)\n",
        "    X_temp = pd.concat([X_temp1, X_temp2], axis = 1)\n",
        "    X_temp['is_duplicate'] = df_raw['is_duplicate']\n",
        "    return X_temp"
      ],
      "metadata": {
        "id": "V-k52RcgEiWV"
      },
      "execution_count": 11,
      "outputs": []
    },
    {
      "cell_type": "markdown",
      "source": [
        "#### With Stopwords, lemmatized, not stemmed"
      ],
      "metadata": {
        "id": "5ljrxCFPk7D8"
      }
    },
    {
      "cell_type": "code",
      "source": [
        "# With stopwords lemmatized, not stemmed\n",
        "q1_sw_lemma, q2_sw_lemma = get_cleaned_senteces(df, stopwords = False, lemmatize = True, stem = False)\n",
        "assert len(q1_sw_lemma) == len(q2_sw_lemma)\n",
        "df_sw_lemma = to_df(q1_sw_lemma, q2_sw_lemma, df)\n",
        "df_sw_lemma.shape"
      ],
      "metadata": {
        "colab": {
          "base_uri": "https://localhost:8080/"
        },
        "id": "S7oZESZlOaV1",
        "outputId": "16ae0ee2-072e-4447-d457-31981de3b824"
      },
      "execution_count": 12,
      "outputs": [
        {
          "output_type": "execute_result",
          "data": {
            "text/plain": [
              "(5000, 3)"
            ]
          },
          "metadata": {},
          "execution_count": 12
        }
      ]
    },
    {
      "cell_type": "markdown",
      "source": [
        "#### With Stopwords, stemmed, not lemmatized "
      ],
      "metadata": {
        "id": "g4spCai9lC7-"
      }
    },
    {
      "cell_type": "code",
      "source": [
        "q1_sw_stem, q2_sw_stem = get_cleaned_senteces(df, stopwords = False, lemmatize = False, stem = True)\n",
        "assert len(q1_sw_stem) == len(q2_sw_stem)\n",
        "df_sw_stem = to_df(q1_sw_stem, q2_sw_stem, df)\n",
        "df_sw_stem.shape"
      ],
      "metadata": {
        "colab": {
          "base_uri": "https://localhost:8080/"
        },
        "id": "nNAC16bYRtr_",
        "outputId": "590f901c-b65b-483c-c45e-e4d0b52974c2"
      },
      "execution_count": 13,
      "outputs": [
        {
          "output_type": "execute_result",
          "data": {
            "text/plain": [
              "(5000, 3)"
            ]
          },
          "metadata": {},
          "execution_count": 13
        }
      ]
    },
    {
      "cell_type": "markdown",
      "source": [
        "#### With stopwords, not lemmatized nor stemmed"
      ],
      "metadata": {
        "id": "1BSvoisylMEZ"
      }
    },
    {
      "cell_type": "code",
      "source": [
        "q1_sw, q2_sw = get_cleaned_senteces(df, stopwords = False, lemmatize = False, stem = False)\n",
        "assert len(q1_sw) == len(q2_sw)\n",
        "df_sw = to_df(q1_sw, q2_sw, df)\n",
        "df_sw.shape"
      ],
      "metadata": {
        "colab": {
          "base_uri": "https://localhost:8080/"
        },
        "id": "2EEjzuUglWuA",
        "outputId": "2254f28a-5e94-46b7-a378-97cfb4a4a64c"
      },
      "execution_count": 15,
      "outputs": [
        {
          "output_type": "execute_result",
          "data": {
            "text/plain": [
              "(5000, 3)"
            ]
          },
          "metadata": {},
          "execution_count": 15
        }
      ]
    },
    {
      "cell_type": "markdown",
      "source": [
        "#### Without Stopwords, lemmatized, not stemmed\n"
      ],
      "metadata": {
        "id": "jX9Hu4HqmGjq"
      }
    },
    {
      "cell_type": "code",
      "source": [
        "q1_lemma, q2_lemma = get_cleaned_senteces(df, stopwords = True, lemmatize = True, stem = False)\n",
        "assert len(q1_lemma) == len(q2_lemma)\n",
        "df_lemma = to_df(q1_lemma, q2_lemma, df)\n",
        "df_lemma.shape"
      ],
      "metadata": {
        "colab": {
          "base_uri": "https://localhost:8080/"
        },
        "id": "RvPtJo-zmQnv",
        "outputId": "c1c3fe85-812a-4c44-d053-d0dbf9842305"
      },
      "execution_count": 16,
      "outputs": [
        {
          "output_type": "execute_result",
          "data": {
            "text/plain": [
              "(5000, 3)"
            ]
          },
          "metadata": {},
          "execution_count": 16
        }
      ]
    },
    {
      "cell_type": "markdown",
      "source": [
        "#### Without Stopwords, stemmed"
      ],
      "metadata": {
        "id": "8Vf2MjpLmay-"
      }
    },
    {
      "cell_type": "code",
      "source": [
        "q1_stem, q2_stem = get_cleaned_senteces(df, stopwords = True, lemmatize = False, stem = True)\n",
        "assert len(q1_stem) == len(q2_stem)\n",
        "df_stem = to_df(q1_stem, q2_stem, df)\n",
        "df_stem.shape"
      ],
      "metadata": {
        "colab": {
          "base_uri": "https://localhost:8080/"
        },
        "id": "mewxphR3mgz6",
        "outputId": "e4584532-db85-4316-aa47-5b6bc136a58a"
      },
      "execution_count": 17,
      "outputs": [
        {
          "output_type": "execute_result",
          "data": {
            "text/plain": [
              "(5000, 3)"
            ]
          },
          "metadata": {},
          "execution_count": 17
        }
      ]
    },
    {
      "cell_type": "markdown",
      "source": [
        "#### Without Stopwords, not lemmatized nor stemmed"
      ],
      "metadata": {
        "id": "yGc3K6pAnQpn"
      }
    },
    {
      "cell_type": "code",
      "source": [
        "q1_out, q2_out = get_cleaned_senteces(df, stopwords = True, lemmatize = False, stem = False)\n",
        "assert len(q1_out) == len(q2_out)\n",
        "df_out = to_df(q1_out, q2_out, df)\n",
        "df_out.shape"
      ],
      "metadata": {
        "colab": {
          "base_uri": "https://localhost:8080/"
        },
        "id": "G4zZgJhdnPqd",
        "outputId": "422dd64a-d48a-48a9-826f-63ac3594597e"
      },
      "execution_count": 20,
      "outputs": [
        {
          "output_type": "execute_result",
          "data": {
            "text/plain": [
              "(5000, 3)"
            ]
          },
          "metadata": {},
          "execution_count": 20
        }
      ]
    },
    {
      "cell_type": "code",
      "source": [
        "display ('With stopwords, without lemma and stem', df_sw.iloc[[22]])\n",
        "display ('With stopwords, lemmatized and without stem', df_sw_lemma.iloc[[22]])\n",
        "display ('With stopwords, stemmed and without lemma', df_sw_stem.iloc[[22]])\n",
        "display ('Without stopwords, lemma and stem', df_out.iloc[[22]])\n",
        "display ('Without stopwords and stem, lemmatized', df_lemma.iloc[[22]])\n",
        "display ('Without stopwords and lemma, stemmed', df_stem.iloc[[22]])"
      ],
      "metadata": {
        "colab": {
          "base_uri": "https://localhost:8080/",
          "height": 512
        },
        "id": "JQeieU-pHxLu",
        "outputId": "eb84b0c1-9255-462a-c7a0-1a45f103eb21"
      },
      "execution_count": 21,
      "outputs": [
        {
          "output_type": "display_data",
          "data": {
            "text/plain": [
              "'With stopwords, without lemma and stem'"
            ],
            "application/vnd.google.colaboratory.intrinsic+json": {
              "type": "string"
            }
          },
          "metadata": {}
        },
        {
          "output_type": "display_data",
          "data": {
            "text/plain": [
              "                                           q1  \\\n",
              "272872  what does it feel like to be on quora   \n",
              "\n",
              "                                             q2  is_duplicate  \n",
              "272872  what does it feel like to post on quora             1  "
            ],
            "text/html": [
              "\n",
              "  <div id=\"df-c9111e01-9c8e-49a9-b46d-37460f5c7a67\">\n",
              "    <div class=\"colab-df-container\">\n",
              "      <div>\n",
              "<style scoped>\n",
              "    .dataframe tbody tr th:only-of-type {\n",
              "        vertical-align: middle;\n",
              "    }\n",
              "\n",
              "    .dataframe tbody tr th {\n",
              "        vertical-align: top;\n",
              "    }\n",
              "\n",
              "    .dataframe thead th {\n",
              "        text-align: right;\n",
              "    }\n",
              "</style>\n",
              "<table border=\"1\" class=\"dataframe\">\n",
              "  <thead>\n",
              "    <tr style=\"text-align: right;\">\n",
              "      <th></th>\n",
              "      <th>q1</th>\n",
              "      <th>q2</th>\n",
              "      <th>is_duplicate</th>\n",
              "    </tr>\n",
              "  </thead>\n",
              "  <tbody>\n",
              "    <tr>\n",
              "      <th>272872</th>\n",
              "      <td>what does it feel like to be on quora</td>\n",
              "      <td>what does it feel like to post on quora</td>\n",
              "      <td>1</td>\n",
              "    </tr>\n",
              "  </tbody>\n",
              "</table>\n",
              "</div>\n",
              "      <button class=\"colab-df-convert\" onclick=\"convertToInteractive('df-c9111e01-9c8e-49a9-b46d-37460f5c7a67')\"\n",
              "              title=\"Convert this dataframe to an interactive table.\"\n",
              "              style=\"display:none;\">\n",
              "        \n",
              "  <svg xmlns=\"http://www.w3.org/2000/svg\" height=\"24px\"viewBox=\"0 0 24 24\"\n",
              "       width=\"24px\">\n",
              "    <path d=\"M0 0h24v24H0V0z\" fill=\"none\"/>\n",
              "    <path d=\"M18.56 5.44l.94 2.06.94-2.06 2.06-.94-2.06-.94-.94-2.06-.94 2.06-2.06.94zm-11 1L8.5 8.5l.94-2.06 2.06-.94-2.06-.94L8.5 2.5l-.94 2.06-2.06.94zm10 10l.94 2.06.94-2.06 2.06-.94-2.06-.94-.94-2.06-.94 2.06-2.06.94z\"/><path d=\"M17.41 7.96l-1.37-1.37c-.4-.4-.92-.59-1.43-.59-.52 0-1.04.2-1.43.59L10.3 9.45l-7.72 7.72c-.78.78-.78 2.05 0 2.83L4 21.41c.39.39.9.59 1.41.59.51 0 1.02-.2 1.41-.59l7.78-7.78 2.81-2.81c.8-.78.8-2.07 0-2.86zM5.41 20L4 18.59l7.72-7.72 1.47 1.35L5.41 20z\"/>\n",
              "  </svg>\n",
              "      </button>\n",
              "      \n",
              "  <style>\n",
              "    .colab-df-container {\n",
              "      display:flex;\n",
              "      flex-wrap:wrap;\n",
              "      gap: 12px;\n",
              "    }\n",
              "\n",
              "    .colab-df-convert {\n",
              "      background-color: #E8F0FE;\n",
              "      border: none;\n",
              "      border-radius: 50%;\n",
              "      cursor: pointer;\n",
              "      display: none;\n",
              "      fill: #1967D2;\n",
              "      height: 32px;\n",
              "      padding: 0 0 0 0;\n",
              "      width: 32px;\n",
              "    }\n",
              "\n",
              "    .colab-df-convert:hover {\n",
              "      background-color: #E2EBFA;\n",
              "      box-shadow: 0px 1px 2px rgba(60, 64, 67, 0.3), 0px 1px 3px 1px rgba(60, 64, 67, 0.15);\n",
              "      fill: #174EA6;\n",
              "    }\n",
              "\n",
              "    [theme=dark] .colab-df-convert {\n",
              "      background-color: #3B4455;\n",
              "      fill: #D2E3FC;\n",
              "    }\n",
              "\n",
              "    [theme=dark] .colab-df-convert:hover {\n",
              "      background-color: #434B5C;\n",
              "      box-shadow: 0px 1px 3px 1px rgba(0, 0, 0, 0.15);\n",
              "      filter: drop-shadow(0px 1px 2px rgba(0, 0, 0, 0.3));\n",
              "      fill: #FFFFFF;\n",
              "    }\n",
              "  </style>\n",
              "\n",
              "      <script>\n",
              "        const buttonEl =\n",
              "          document.querySelector('#df-c9111e01-9c8e-49a9-b46d-37460f5c7a67 button.colab-df-convert');\n",
              "        buttonEl.style.display =\n",
              "          google.colab.kernel.accessAllowed ? 'block' : 'none';\n",
              "\n",
              "        async function convertToInteractive(key) {\n",
              "          const element = document.querySelector('#df-c9111e01-9c8e-49a9-b46d-37460f5c7a67');\n",
              "          const dataTable =\n",
              "            await google.colab.kernel.invokeFunction('convertToInteractive',\n",
              "                                                     [key], {});\n",
              "          if (!dataTable) return;\n",
              "\n",
              "          const docLinkHtml = 'Like what you see? Visit the ' +\n",
              "            '<a target=\"_blank\" href=https://colab.research.google.com/notebooks/data_table.ipynb>data table notebook</a>'\n",
              "            + ' to learn more about interactive tables.';\n",
              "          element.innerHTML = '';\n",
              "          dataTable['output_type'] = 'display_data';\n",
              "          await google.colab.output.renderOutput(dataTable, element);\n",
              "          const docLink = document.createElement('div');\n",
              "          docLink.innerHTML = docLinkHtml;\n",
              "          element.appendChild(docLink);\n",
              "        }\n",
              "      </script>\n",
              "    </div>\n",
              "  </div>\n",
              "  "
            ]
          },
          "metadata": {}
        },
        {
          "output_type": "display_data",
          "data": {
            "text/plain": [
              "'With stopwords, lemmatized and without stem'"
            ],
            "application/vnd.google.colaboratory.intrinsic+json": {
              "type": "string"
            }
          },
          "metadata": {}
        },
        {
          "output_type": "display_data",
          "data": {
            "text/plain": [
              "                                         q1  \\\n",
              "272872  what do it feel like to be on quora   \n",
              "\n",
              "                                           q2  is_duplicate  \n",
              "272872  what do it feel like to post on quora             1  "
            ],
            "text/html": [
              "\n",
              "  <div id=\"df-4510dd9f-ac44-4c20-b1ac-48d5554030fa\">\n",
              "    <div class=\"colab-df-container\">\n",
              "      <div>\n",
              "<style scoped>\n",
              "    .dataframe tbody tr th:only-of-type {\n",
              "        vertical-align: middle;\n",
              "    }\n",
              "\n",
              "    .dataframe tbody tr th {\n",
              "        vertical-align: top;\n",
              "    }\n",
              "\n",
              "    .dataframe thead th {\n",
              "        text-align: right;\n",
              "    }\n",
              "</style>\n",
              "<table border=\"1\" class=\"dataframe\">\n",
              "  <thead>\n",
              "    <tr style=\"text-align: right;\">\n",
              "      <th></th>\n",
              "      <th>q1</th>\n",
              "      <th>q2</th>\n",
              "      <th>is_duplicate</th>\n",
              "    </tr>\n",
              "  </thead>\n",
              "  <tbody>\n",
              "    <tr>\n",
              "      <th>272872</th>\n",
              "      <td>what do it feel like to be on quora</td>\n",
              "      <td>what do it feel like to post on quora</td>\n",
              "      <td>1</td>\n",
              "    </tr>\n",
              "  </tbody>\n",
              "</table>\n",
              "</div>\n",
              "      <button class=\"colab-df-convert\" onclick=\"convertToInteractive('df-4510dd9f-ac44-4c20-b1ac-48d5554030fa')\"\n",
              "              title=\"Convert this dataframe to an interactive table.\"\n",
              "              style=\"display:none;\">\n",
              "        \n",
              "  <svg xmlns=\"http://www.w3.org/2000/svg\" height=\"24px\"viewBox=\"0 0 24 24\"\n",
              "       width=\"24px\">\n",
              "    <path d=\"M0 0h24v24H0V0z\" fill=\"none\"/>\n",
              "    <path d=\"M18.56 5.44l.94 2.06.94-2.06 2.06-.94-2.06-.94-.94-2.06-.94 2.06-2.06.94zm-11 1L8.5 8.5l.94-2.06 2.06-.94-2.06-.94L8.5 2.5l-.94 2.06-2.06.94zm10 10l.94 2.06.94-2.06 2.06-.94-2.06-.94-.94-2.06-.94 2.06-2.06.94z\"/><path d=\"M17.41 7.96l-1.37-1.37c-.4-.4-.92-.59-1.43-.59-.52 0-1.04.2-1.43.59L10.3 9.45l-7.72 7.72c-.78.78-.78 2.05 0 2.83L4 21.41c.39.39.9.59 1.41.59.51 0 1.02-.2 1.41-.59l7.78-7.78 2.81-2.81c.8-.78.8-2.07 0-2.86zM5.41 20L4 18.59l7.72-7.72 1.47 1.35L5.41 20z\"/>\n",
              "  </svg>\n",
              "      </button>\n",
              "      \n",
              "  <style>\n",
              "    .colab-df-container {\n",
              "      display:flex;\n",
              "      flex-wrap:wrap;\n",
              "      gap: 12px;\n",
              "    }\n",
              "\n",
              "    .colab-df-convert {\n",
              "      background-color: #E8F0FE;\n",
              "      border: none;\n",
              "      border-radius: 50%;\n",
              "      cursor: pointer;\n",
              "      display: none;\n",
              "      fill: #1967D2;\n",
              "      height: 32px;\n",
              "      padding: 0 0 0 0;\n",
              "      width: 32px;\n",
              "    }\n",
              "\n",
              "    .colab-df-convert:hover {\n",
              "      background-color: #E2EBFA;\n",
              "      box-shadow: 0px 1px 2px rgba(60, 64, 67, 0.3), 0px 1px 3px 1px rgba(60, 64, 67, 0.15);\n",
              "      fill: #174EA6;\n",
              "    }\n",
              "\n",
              "    [theme=dark] .colab-df-convert {\n",
              "      background-color: #3B4455;\n",
              "      fill: #D2E3FC;\n",
              "    }\n",
              "\n",
              "    [theme=dark] .colab-df-convert:hover {\n",
              "      background-color: #434B5C;\n",
              "      box-shadow: 0px 1px 3px 1px rgba(0, 0, 0, 0.15);\n",
              "      filter: drop-shadow(0px 1px 2px rgba(0, 0, 0, 0.3));\n",
              "      fill: #FFFFFF;\n",
              "    }\n",
              "  </style>\n",
              "\n",
              "      <script>\n",
              "        const buttonEl =\n",
              "          document.querySelector('#df-4510dd9f-ac44-4c20-b1ac-48d5554030fa button.colab-df-convert');\n",
              "        buttonEl.style.display =\n",
              "          google.colab.kernel.accessAllowed ? 'block' : 'none';\n",
              "\n",
              "        async function convertToInteractive(key) {\n",
              "          const element = document.querySelector('#df-4510dd9f-ac44-4c20-b1ac-48d5554030fa');\n",
              "          const dataTable =\n",
              "            await google.colab.kernel.invokeFunction('convertToInteractive',\n",
              "                                                     [key], {});\n",
              "          if (!dataTable) return;\n",
              "\n",
              "          const docLinkHtml = 'Like what you see? Visit the ' +\n",
              "            '<a target=\"_blank\" href=https://colab.research.google.com/notebooks/data_table.ipynb>data table notebook</a>'\n",
              "            + ' to learn more about interactive tables.';\n",
              "          element.innerHTML = '';\n",
              "          dataTable['output_type'] = 'display_data';\n",
              "          await google.colab.output.renderOutput(dataTable, element);\n",
              "          const docLink = document.createElement('div');\n",
              "          docLink.innerHTML = docLinkHtml;\n",
              "          element.appendChild(docLink);\n",
              "        }\n",
              "      </script>\n",
              "    </div>\n",
              "  </div>\n",
              "  "
            ]
          },
          "metadata": {}
        },
        {
          "output_type": "display_data",
          "data": {
            "text/plain": [
              "'With stopwords, stemmed and without lemma'"
            ],
            "application/vnd.google.colaboratory.intrinsic+json": {
              "type": "string"
            }
          },
          "metadata": {}
        },
        {
          "output_type": "display_data",
          "data": {
            "text/plain": [
              "                                           q1  \\\n",
              "272872   what doe it feel like to be on quora   \n",
              "\n",
              "                                             q2  is_duplicate  \n",
              "272872   what doe it feel like to post on quora             1  "
            ],
            "text/html": [
              "\n",
              "  <div id=\"df-75183e44-7093-46b0-aec9-b1885fbf7f6b\">\n",
              "    <div class=\"colab-df-container\">\n",
              "      <div>\n",
              "<style scoped>\n",
              "    .dataframe tbody tr th:only-of-type {\n",
              "        vertical-align: middle;\n",
              "    }\n",
              "\n",
              "    .dataframe tbody tr th {\n",
              "        vertical-align: top;\n",
              "    }\n",
              "\n",
              "    .dataframe thead th {\n",
              "        text-align: right;\n",
              "    }\n",
              "</style>\n",
              "<table border=\"1\" class=\"dataframe\">\n",
              "  <thead>\n",
              "    <tr style=\"text-align: right;\">\n",
              "      <th></th>\n",
              "      <th>q1</th>\n",
              "      <th>q2</th>\n",
              "      <th>is_duplicate</th>\n",
              "    </tr>\n",
              "  </thead>\n",
              "  <tbody>\n",
              "    <tr>\n",
              "      <th>272872</th>\n",
              "      <td>what doe it feel like to be on quora</td>\n",
              "      <td>what doe it feel like to post on quora</td>\n",
              "      <td>1</td>\n",
              "    </tr>\n",
              "  </tbody>\n",
              "</table>\n",
              "</div>\n",
              "      <button class=\"colab-df-convert\" onclick=\"convertToInteractive('df-75183e44-7093-46b0-aec9-b1885fbf7f6b')\"\n",
              "              title=\"Convert this dataframe to an interactive table.\"\n",
              "              style=\"display:none;\">\n",
              "        \n",
              "  <svg xmlns=\"http://www.w3.org/2000/svg\" height=\"24px\"viewBox=\"0 0 24 24\"\n",
              "       width=\"24px\">\n",
              "    <path d=\"M0 0h24v24H0V0z\" fill=\"none\"/>\n",
              "    <path d=\"M18.56 5.44l.94 2.06.94-2.06 2.06-.94-2.06-.94-.94-2.06-.94 2.06-2.06.94zm-11 1L8.5 8.5l.94-2.06 2.06-.94-2.06-.94L8.5 2.5l-.94 2.06-2.06.94zm10 10l.94 2.06.94-2.06 2.06-.94-2.06-.94-.94-2.06-.94 2.06-2.06.94z\"/><path d=\"M17.41 7.96l-1.37-1.37c-.4-.4-.92-.59-1.43-.59-.52 0-1.04.2-1.43.59L10.3 9.45l-7.72 7.72c-.78.78-.78 2.05 0 2.83L4 21.41c.39.39.9.59 1.41.59.51 0 1.02-.2 1.41-.59l7.78-7.78 2.81-2.81c.8-.78.8-2.07 0-2.86zM5.41 20L4 18.59l7.72-7.72 1.47 1.35L5.41 20z\"/>\n",
              "  </svg>\n",
              "      </button>\n",
              "      \n",
              "  <style>\n",
              "    .colab-df-container {\n",
              "      display:flex;\n",
              "      flex-wrap:wrap;\n",
              "      gap: 12px;\n",
              "    }\n",
              "\n",
              "    .colab-df-convert {\n",
              "      background-color: #E8F0FE;\n",
              "      border: none;\n",
              "      border-radius: 50%;\n",
              "      cursor: pointer;\n",
              "      display: none;\n",
              "      fill: #1967D2;\n",
              "      height: 32px;\n",
              "      padding: 0 0 0 0;\n",
              "      width: 32px;\n",
              "    }\n",
              "\n",
              "    .colab-df-convert:hover {\n",
              "      background-color: #E2EBFA;\n",
              "      box-shadow: 0px 1px 2px rgba(60, 64, 67, 0.3), 0px 1px 3px 1px rgba(60, 64, 67, 0.15);\n",
              "      fill: #174EA6;\n",
              "    }\n",
              "\n",
              "    [theme=dark] .colab-df-convert {\n",
              "      background-color: #3B4455;\n",
              "      fill: #D2E3FC;\n",
              "    }\n",
              "\n",
              "    [theme=dark] .colab-df-convert:hover {\n",
              "      background-color: #434B5C;\n",
              "      box-shadow: 0px 1px 3px 1px rgba(0, 0, 0, 0.15);\n",
              "      filter: drop-shadow(0px 1px 2px rgba(0, 0, 0, 0.3));\n",
              "      fill: #FFFFFF;\n",
              "    }\n",
              "  </style>\n",
              "\n",
              "      <script>\n",
              "        const buttonEl =\n",
              "          document.querySelector('#df-75183e44-7093-46b0-aec9-b1885fbf7f6b button.colab-df-convert');\n",
              "        buttonEl.style.display =\n",
              "          google.colab.kernel.accessAllowed ? 'block' : 'none';\n",
              "\n",
              "        async function convertToInteractive(key) {\n",
              "          const element = document.querySelector('#df-75183e44-7093-46b0-aec9-b1885fbf7f6b');\n",
              "          const dataTable =\n",
              "            await google.colab.kernel.invokeFunction('convertToInteractive',\n",
              "                                                     [key], {});\n",
              "          if (!dataTable) return;\n",
              "\n",
              "          const docLinkHtml = 'Like what you see? Visit the ' +\n",
              "            '<a target=\"_blank\" href=https://colab.research.google.com/notebooks/data_table.ipynb>data table notebook</a>'\n",
              "            + ' to learn more about interactive tables.';\n",
              "          element.innerHTML = '';\n",
              "          dataTable['output_type'] = 'display_data';\n",
              "          await google.colab.output.renderOutput(dataTable, element);\n",
              "          const docLink = document.createElement('div');\n",
              "          docLink.innerHTML = docLinkHtml;\n",
              "          element.appendChild(docLink);\n",
              "        }\n",
              "      </script>\n",
              "    </div>\n",
              "  </div>\n",
              "  "
            ]
          },
          "metadata": {}
        },
        {
          "output_type": "display_data",
          "data": {
            "text/plain": [
              "'Without stopwords, lemma and stem'"
            ],
            "application/vnd.google.colaboratory.intrinsic+json": {
              "type": "string"
            }
          },
          "metadata": {}
        },
        {
          "output_type": "display_data",
          "data": {
            "text/plain": [
              "                     q1                    q2  is_duplicate\n",
              "272872  feel like quora  feel like post quora             1"
            ],
            "text/html": [
              "\n",
              "  <div id=\"df-a98f76d0-6ff5-4813-b52b-aedaa2edfd64\">\n",
              "    <div class=\"colab-df-container\">\n",
              "      <div>\n",
              "<style scoped>\n",
              "    .dataframe tbody tr th:only-of-type {\n",
              "        vertical-align: middle;\n",
              "    }\n",
              "\n",
              "    .dataframe tbody tr th {\n",
              "        vertical-align: top;\n",
              "    }\n",
              "\n",
              "    .dataframe thead th {\n",
              "        text-align: right;\n",
              "    }\n",
              "</style>\n",
              "<table border=\"1\" class=\"dataframe\">\n",
              "  <thead>\n",
              "    <tr style=\"text-align: right;\">\n",
              "      <th></th>\n",
              "      <th>q1</th>\n",
              "      <th>q2</th>\n",
              "      <th>is_duplicate</th>\n",
              "    </tr>\n",
              "  </thead>\n",
              "  <tbody>\n",
              "    <tr>\n",
              "      <th>272872</th>\n",
              "      <td>feel like quora</td>\n",
              "      <td>feel like post quora</td>\n",
              "      <td>1</td>\n",
              "    </tr>\n",
              "  </tbody>\n",
              "</table>\n",
              "</div>\n",
              "      <button class=\"colab-df-convert\" onclick=\"convertToInteractive('df-a98f76d0-6ff5-4813-b52b-aedaa2edfd64')\"\n",
              "              title=\"Convert this dataframe to an interactive table.\"\n",
              "              style=\"display:none;\">\n",
              "        \n",
              "  <svg xmlns=\"http://www.w3.org/2000/svg\" height=\"24px\"viewBox=\"0 0 24 24\"\n",
              "       width=\"24px\">\n",
              "    <path d=\"M0 0h24v24H0V0z\" fill=\"none\"/>\n",
              "    <path d=\"M18.56 5.44l.94 2.06.94-2.06 2.06-.94-2.06-.94-.94-2.06-.94 2.06-2.06.94zm-11 1L8.5 8.5l.94-2.06 2.06-.94-2.06-.94L8.5 2.5l-.94 2.06-2.06.94zm10 10l.94 2.06.94-2.06 2.06-.94-2.06-.94-.94-2.06-.94 2.06-2.06.94z\"/><path d=\"M17.41 7.96l-1.37-1.37c-.4-.4-.92-.59-1.43-.59-.52 0-1.04.2-1.43.59L10.3 9.45l-7.72 7.72c-.78.78-.78 2.05 0 2.83L4 21.41c.39.39.9.59 1.41.59.51 0 1.02-.2 1.41-.59l7.78-7.78 2.81-2.81c.8-.78.8-2.07 0-2.86zM5.41 20L4 18.59l7.72-7.72 1.47 1.35L5.41 20z\"/>\n",
              "  </svg>\n",
              "      </button>\n",
              "      \n",
              "  <style>\n",
              "    .colab-df-container {\n",
              "      display:flex;\n",
              "      flex-wrap:wrap;\n",
              "      gap: 12px;\n",
              "    }\n",
              "\n",
              "    .colab-df-convert {\n",
              "      background-color: #E8F0FE;\n",
              "      border: none;\n",
              "      border-radius: 50%;\n",
              "      cursor: pointer;\n",
              "      display: none;\n",
              "      fill: #1967D2;\n",
              "      height: 32px;\n",
              "      padding: 0 0 0 0;\n",
              "      width: 32px;\n",
              "    }\n",
              "\n",
              "    .colab-df-convert:hover {\n",
              "      background-color: #E2EBFA;\n",
              "      box-shadow: 0px 1px 2px rgba(60, 64, 67, 0.3), 0px 1px 3px 1px rgba(60, 64, 67, 0.15);\n",
              "      fill: #174EA6;\n",
              "    }\n",
              "\n",
              "    [theme=dark] .colab-df-convert {\n",
              "      background-color: #3B4455;\n",
              "      fill: #D2E3FC;\n",
              "    }\n",
              "\n",
              "    [theme=dark] .colab-df-convert:hover {\n",
              "      background-color: #434B5C;\n",
              "      box-shadow: 0px 1px 3px 1px rgba(0, 0, 0, 0.15);\n",
              "      filter: drop-shadow(0px 1px 2px rgba(0, 0, 0, 0.3));\n",
              "      fill: #FFFFFF;\n",
              "    }\n",
              "  </style>\n",
              "\n",
              "      <script>\n",
              "        const buttonEl =\n",
              "          document.querySelector('#df-a98f76d0-6ff5-4813-b52b-aedaa2edfd64 button.colab-df-convert');\n",
              "        buttonEl.style.display =\n",
              "          google.colab.kernel.accessAllowed ? 'block' : 'none';\n",
              "\n",
              "        async function convertToInteractive(key) {\n",
              "          const element = document.querySelector('#df-a98f76d0-6ff5-4813-b52b-aedaa2edfd64');\n",
              "          const dataTable =\n",
              "            await google.colab.kernel.invokeFunction('convertToInteractive',\n",
              "                                                     [key], {});\n",
              "          if (!dataTable) return;\n",
              "\n",
              "          const docLinkHtml = 'Like what you see? Visit the ' +\n",
              "            '<a target=\"_blank\" href=https://colab.research.google.com/notebooks/data_table.ipynb>data table notebook</a>'\n",
              "            + ' to learn more about interactive tables.';\n",
              "          element.innerHTML = '';\n",
              "          dataTable['output_type'] = 'display_data';\n",
              "          await google.colab.output.renderOutput(dataTable, element);\n",
              "          const docLink = document.createElement('div');\n",
              "          docLink.innerHTML = docLinkHtml;\n",
              "          element.appendChild(docLink);\n",
              "        }\n",
              "      </script>\n",
              "    </div>\n",
              "  </div>\n",
              "  "
            ]
          },
          "metadata": {}
        },
        {
          "output_type": "display_data",
          "data": {
            "text/plain": [
              "'Without stopwords and stem, lemmatized'"
            ],
            "application/vnd.google.colaboratory.intrinsic+json": {
              "type": "string"
            }
          },
          "metadata": {}
        },
        {
          "output_type": "display_data",
          "data": {
            "text/plain": [
              "                     q1                    q2  is_duplicate\n",
              "272872  feel like quora  feel like post quora             1"
            ],
            "text/html": [
              "\n",
              "  <div id=\"df-bfa54c2f-2fc9-4b3a-985a-6a6033d4cbd8\">\n",
              "    <div class=\"colab-df-container\">\n",
              "      <div>\n",
              "<style scoped>\n",
              "    .dataframe tbody tr th:only-of-type {\n",
              "        vertical-align: middle;\n",
              "    }\n",
              "\n",
              "    .dataframe tbody tr th {\n",
              "        vertical-align: top;\n",
              "    }\n",
              "\n",
              "    .dataframe thead th {\n",
              "        text-align: right;\n",
              "    }\n",
              "</style>\n",
              "<table border=\"1\" class=\"dataframe\">\n",
              "  <thead>\n",
              "    <tr style=\"text-align: right;\">\n",
              "      <th></th>\n",
              "      <th>q1</th>\n",
              "      <th>q2</th>\n",
              "      <th>is_duplicate</th>\n",
              "    </tr>\n",
              "  </thead>\n",
              "  <tbody>\n",
              "    <tr>\n",
              "      <th>272872</th>\n",
              "      <td>feel like quora</td>\n",
              "      <td>feel like post quora</td>\n",
              "      <td>1</td>\n",
              "    </tr>\n",
              "  </tbody>\n",
              "</table>\n",
              "</div>\n",
              "      <button class=\"colab-df-convert\" onclick=\"convertToInteractive('df-bfa54c2f-2fc9-4b3a-985a-6a6033d4cbd8')\"\n",
              "              title=\"Convert this dataframe to an interactive table.\"\n",
              "              style=\"display:none;\">\n",
              "        \n",
              "  <svg xmlns=\"http://www.w3.org/2000/svg\" height=\"24px\"viewBox=\"0 0 24 24\"\n",
              "       width=\"24px\">\n",
              "    <path d=\"M0 0h24v24H0V0z\" fill=\"none\"/>\n",
              "    <path d=\"M18.56 5.44l.94 2.06.94-2.06 2.06-.94-2.06-.94-.94-2.06-.94 2.06-2.06.94zm-11 1L8.5 8.5l.94-2.06 2.06-.94-2.06-.94L8.5 2.5l-.94 2.06-2.06.94zm10 10l.94 2.06.94-2.06 2.06-.94-2.06-.94-.94-2.06-.94 2.06-2.06.94z\"/><path d=\"M17.41 7.96l-1.37-1.37c-.4-.4-.92-.59-1.43-.59-.52 0-1.04.2-1.43.59L10.3 9.45l-7.72 7.72c-.78.78-.78 2.05 0 2.83L4 21.41c.39.39.9.59 1.41.59.51 0 1.02-.2 1.41-.59l7.78-7.78 2.81-2.81c.8-.78.8-2.07 0-2.86zM5.41 20L4 18.59l7.72-7.72 1.47 1.35L5.41 20z\"/>\n",
              "  </svg>\n",
              "      </button>\n",
              "      \n",
              "  <style>\n",
              "    .colab-df-container {\n",
              "      display:flex;\n",
              "      flex-wrap:wrap;\n",
              "      gap: 12px;\n",
              "    }\n",
              "\n",
              "    .colab-df-convert {\n",
              "      background-color: #E8F0FE;\n",
              "      border: none;\n",
              "      border-radius: 50%;\n",
              "      cursor: pointer;\n",
              "      display: none;\n",
              "      fill: #1967D2;\n",
              "      height: 32px;\n",
              "      padding: 0 0 0 0;\n",
              "      width: 32px;\n",
              "    }\n",
              "\n",
              "    .colab-df-convert:hover {\n",
              "      background-color: #E2EBFA;\n",
              "      box-shadow: 0px 1px 2px rgba(60, 64, 67, 0.3), 0px 1px 3px 1px rgba(60, 64, 67, 0.15);\n",
              "      fill: #174EA6;\n",
              "    }\n",
              "\n",
              "    [theme=dark] .colab-df-convert {\n",
              "      background-color: #3B4455;\n",
              "      fill: #D2E3FC;\n",
              "    }\n",
              "\n",
              "    [theme=dark] .colab-df-convert:hover {\n",
              "      background-color: #434B5C;\n",
              "      box-shadow: 0px 1px 3px 1px rgba(0, 0, 0, 0.15);\n",
              "      filter: drop-shadow(0px 1px 2px rgba(0, 0, 0, 0.3));\n",
              "      fill: #FFFFFF;\n",
              "    }\n",
              "  </style>\n",
              "\n",
              "      <script>\n",
              "        const buttonEl =\n",
              "          document.querySelector('#df-bfa54c2f-2fc9-4b3a-985a-6a6033d4cbd8 button.colab-df-convert');\n",
              "        buttonEl.style.display =\n",
              "          google.colab.kernel.accessAllowed ? 'block' : 'none';\n",
              "\n",
              "        async function convertToInteractive(key) {\n",
              "          const element = document.querySelector('#df-bfa54c2f-2fc9-4b3a-985a-6a6033d4cbd8');\n",
              "          const dataTable =\n",
              "            await google.colab.kernel.invokeFunction('convertToInteractive',\n",
              "                                                     [key], {});\n",
              "          if (!dataTable) return;\n",
              "\n",
              "          const docLinkHtml = 'Like what you see? Visit the ' +\n",
              "            '<a target=\"_blank\" href=https://colab.research.google.com/notebooks/data_table.ipynb>data table notebook</a>'\n",
              "            + ' to learn more about interactive tables.';\n",
              "          element.innerHTML = '';\n",
              "          dataTable['output_type'] = 'display_data';\n",
              "          await google.colab.output.renderOutput(dataTable, element);\n",
              "          const docLink = document.createElement('div');\n",
              "          docLink.innerHTML = docLinkHtml;\n",
              "          element.appendChild(docLink);\n",
              "        }\n",
              "      </script>\n",
              "    </div>\n",
              "  </div>\n",
              "  "
            ]
          },
          "metadata": {}
        },
        {
          "output_type": "display_data",
          "data": {
            "text/plain": [
              "'Without stopwords and lemma, stemmed'"
            ],
            "application/vnd.google.colaboratory.intrinsic+json": {
              "type": "string"
            }
          },
          "metadata": {}
        },
        {
          "output_type": "display_data",
          "data": {
            "text/plain": [
              "                      q1                     q2  is_duplicate\n",
              "272872   feel like quora   feel like post quora             1"
            ],
            "text/html": [
              "\n",
              "  <div id=\"df-95b37a17-ea19-47c9-afa4-de2a8856c27d\">\n",
              "    <div class=\"colab-df-container\">\n",
              "      <div>\n",
              "<style scoped>\n",
              "    .dataframe tbody tr th:only-of-type {\n",
              "        vertical-align: middle;\n",
              "    }\n",
              "\n",
              "    .dataframe tbody tr th {\n",
              "        vertical-align: top;\n",
              "    }\n",
              "\n",
              "    .dataframe thead th {\n",
              "        text-align: right;\n",
              "    }\n",
              "</style>\n",
              "<table border=\"1\" class=\"dataframe\">\n",
              "  <thead>\n",
              "    <tr style=\"text-align: right;\">\n",
              "      <th></th>\n",
              "      <th>q1</th>\n",
              "      <th>q2</th>\n",
              "      <th>is_duplicate</th>\n",
              "    </tr>\n",
              "  </thead>\n",
              "  <tbody>\n",
              "    <tr>\n",
              "      <th>272872</th>\n",
              "      <td>feel like quora</td>\n",
              "      <td>feel like post quora</td>\n",
              "      <td>1</td>\n",
              "    </tr>\n",
              "  </tbody>\n",
              "</table>\n",
              "</div>\n",
              "      <button class=\"colab-df-convert\" onclick=\"convertToInteractive('df-95b37a17-ea19-47c9-afa4-de2a8856c27d')\"\n",
              "              title=\"Convert this dataframe to an interactive table.\"\n",
              "              style=\"display:none;\">\n",
              "        \n",
              "  <svg xmlns=\"http://www.w3.org/2000/svg\" height=\"24px\"viewBox=\"0 0 24 24\"\n",
              "       width=\"24px\">\n",
              "    <path d=\"M0 0h24v24H0V0z\" fill=\"none\"/>\n",
              "    <path d=\"M18.56 5.44l.94 2.06.94-2.06 2.06-.94-2.06-.94-.94-2.06-.94 2.06-2.06.94zm-11 1L8.5 8.5l.94-2.06 2.06-.94-2.06-.94L8.5 2.5l-.94 2.06-2.06.94zm10 10l.94 2.06.94-2.06 2.06-.94-2.06-.94-.94-2.06-.94 2.06-2.06.94z\"/><path d=\"M17.41 7.96l-1.37-1.37c-.4-.4-.92-.59-1.43-.59-.52 0-1.04.2-1.43.59L10.3 9.45l-7.72 7.72c-.78.78-.78 2.05 0 2.83L4 21.41c.39.39.9.59 1.41.59.51 0 1.02-.2 1.41-.59l7.78-7.78 2.81-2.81c.8-.78.8-2.07 0-2.86zM5.41 20L4 18.59l7.72-7.72 1.47 1.35L5.41 20z\"/>\n",
              "  </svg>\n",
              "      </button>\n",
              "      \n",
              "  <style>\n",
              "    .colab-df-container {\n",
              "      display:flex;\n",
              "      flex-wrap:wrap;\n",
              "      gap: 12px;\n",
              "    }\n",
              "\n",
              "    .colab-df-convert {\n",
              "      background-color: #E8F0FE;\n",
              "      border: none;\n",
              "      border-radius: 50%;\n",
              "      cursor: pointer;\n",
              "      display: none;\n",
              "      fill: #1967D2;\n",
              "      height: 32px;\n",
              "      padding: 0 0 0 0;\n",
              "      width: 32px;\n",
              "    }\n",
              "\n",
              "    .colab-df-convert:hover {\n",
              "      background-color: #E2EBFA;\n",
              "      box-shadow: 0px 1px 2px rgba(60, 64, 67, 0.3), 0px 1px 3px 1px rgba(60, 64, 67, 0.15);\n",
              "      fill: #174EA6;\n",
              "    }\n",
              "\n",
              "    [theme=dark] .colab-df-convert {\n",
              "      background-color: #3B4455;\n",
              "      fill: #D2E3FC;\n",
              "    }\n",
              "\n",
              "    [theme=dark] .colab-df-convert:hover {\n",
              "      background-color: #434B5C;\n",
              "      box-shadow: 0px 1px 3px 1px rgba(0, 0, 0, 0.15);\n",
              "      filter: drop-shadow(0px 1px 2px rgba(0, 0, 0, 0.3));\n",
              "      fill: #FFFFFF;\n",
              "    }\n",
              "  </style>\n",
              "\n",
              "      <script>\n",
              "        const buttonEl =\n",
              "          document.querySelector('#df-95b37a17-ea19-47c9-afa4-de2a8856c27d button.colab-df-convert');\n",
              "        buttonEl.style.display =\n",
              "          google.colab.kernel.accessAllowed ? 'block' : 'none';\n",
              "\n",
              "        async function convertToInteractive(key) {\n",
              "          const element = document.querySelector('#df-95b37a17-ea19-47c9-afa4-de2a8856c27d');\n",
              "          const dataTable =\n",
              "            await google.colab.kernel.invokeFunction('convertToInteractive',\n",
              "                                                     [key], {});\n",
              "          if (!dataTable) return;\n",
              "\n",
              "          const docLinkHtml = 'Like what you see? Visit the ' +\n",
              "            '<a target=\"_blank\" href=https://colab.research.google.com/notebooks/data_table.ipynb>data table notebook</a>'\n",
              "            + ' to learn more about interactive tables.';\n",
              "          element.innerHTML = '';\n",
              "          dataTable['output_type'] = 'display_data';\n",
              "          await google.colab.output.renderOutput(dataTable, element);\n",
              "          const docLink = document.createElement('div');\n",
              "          docLink.innerHTML = docLinkHtml;\n",
              "          element.appendChild(docLink);\n",
              "        }\n",
              "      </script>\n",
              "    </div>\n",
              "  </div>\n",
              "  "
            ]
          },
          "metadata": {}
        }
      ]
    },
    {
      "cell_type": "code",
      "source": [
        "# print('Value counts:\\n', X_sw_train['is_duplicate'].value_counts())\n",
        "# print('\\nPercent of labels value:\\n', X_sw_train['is_duplicate'].value_counts()/X_sw_train['is_duplicate'].count()*100)\n",
        "# X_sw_train['is_duplicate'].value_counts().plot(kind = 'bar')\n",
        "# plt.title('\\nDistribution of train labels', color = 'purple', size = 12)\n",
        "# plt.show()"
      ],
      "metadata": {
        "id": "pDav_LwGEmzm"
      },
      "execution_count": 119,
      "outputs": []
    },
    {
      "cell_type": "code",
      "source": [
        "# print('Value counts:\\n', X_sw_test['is_duplicate'].value_counts())\n",
        "# print('\\nPercent of labels value:\\n', X_sw_test['is_duplicate'].value_counts()/X_sw_test['is_duplicate'].count()*100)\n",
        "# X_sw_test['is_duplicate'].value_counts().plot(kind = 'bar')\n",
        "# plt.title('\\nDistribution of test labels', color = 'purple', size = 12)\n",
        "# plt.show()"
      ],
      "metadata": {
        "id": "3_2e5g9UXY4Q"
      },
      "execution_count": 120,
      "outputs": []
    },
    {
      "cell_type": "code",
      "source": [
        "# display (X_sw_train.head(2))\n",
        "# display(X_sw_test.head(2))\n",
        "# display(df_clean.head(2))"
      ],
      "metadata": {
        "id": "HGkjnpdXEoXd"
      },
      "execution_count": 121,
      "outputs": []
    },
    {
      "cell_type": "code",
      "source": [
        "#X_sw_test[X_sw_test.isnull().any(axis=1)]"
      ],
      "metadata": {
        "id": "758pchOPXiy4"
      },
      "execution_count": 44,
      "outputs": []
    },
    {
      "cell_type": "code",
      "source": [],
      "metadata": {
        "id": "ItwPkTNnJ2KW"
      },
      "execution_count": null,
      "outputs": []
    },
    {
      "cell_type": "markdown",
      "source": [
        "# *TOKENIZATION"
      ],
      "metadata": {
        "id": "Tkas5cGGBk-G"
      }
    },
    {
      "cell_type": "code",
      "source": [
        "def tokenization(text):\n",
        "    tokens = re.split(' ',text)\n",
        "    return tokens\n",
        "def token(text):\n",
        "    text = text.apply(lambda x: tokenization(x))\n",
        "    return text"
      ],
      "metadata": {
        "id": "05E4u-vAKISG"
      },
      "execution_count": 22,
      "outputs": []
    },
    {
      "cell_type": "code",
      "source": [
        "df_lemma['q1'] = df_lemma['q1'].pipe(token) \n",
        "df_lemma['q2'] = df_lemma['q2'].pipe(token) \n",
        "df_lemma.head(2)"
      ],
      "metadata": {
        "colab": {
          "base_uri": "https://localhost:8080/",
          "height": 112
        },
        "id": "9-cgiLi0KsmR",
        "outputId": "a950a6ac-3188-4074-f8ed-add8e4e92c43"
      },
      "execution_count": 122,
      "outputs": [
        {
          "output_type": "execute_result",
          "data": {
            "text/plain": [
              "                                                q1  \\\n",
              "179733  [idea, decorate, project, business, study]   \n",
              "169496                [country, candy, corn, come]   \n",
              "\n",
              "                                                      q2  is_duplicate  \n",
              "179733  [study, start, successful, business, nice, idea]             0  \n",
              "169496                                [like, eat, candy]             0  "
            ],
            "text/html": [
              "\n",
              "  <div id=\"df-145536d3-73b4-4efd-9701-85a7a66db718\">\n",
              "    <div class=\"colab-df-container\">\n",
              "      <div>\n",
              "<style scoped>\n",
              "    .dataframe tbody tr th:only-of-type {\n",
              "        vertical-align: middle;\n",
              "    }\n",
              "\n",
              "    .dataframe tbody tr th {\n",
              "        vertical-align: top;\n",
              "    }\n",
              "\n",
              "    .dataframe thead th {\n",
              "        text-align: right;\n",
              "    }\n",
              "</style>\n",
              "<table border=\"1\" class=\"dataframe\">\n",
              "  <thead>\n",
              "    <tr style=\"text-align: right;\">\n",
              "      <th></th>\n",
              "      <th>q1</th>\n",
              "      <th>q2</th>\n",
              "      <th>is_duplicate</th>\n",
              "    </tr>\n",
              "  </thead>\n",
              "  <tbody>\n",
              "    <tr>\n",
              "      <th>179733</th>\n",
              "      <td>[idea, decorate, project, business, study]</td>\n",
              "      <td>[study, start, successful, business, nice, idea]</td>\n",
              "      <td>0</td>\n",
              "    </tr>\n",
              "    <tr>\n",
              "      <th>169496</th>\n",
              "      <td>[country, candy, corn, come]</td>\n",
              "      <td>[like, eat, candy]</td>\n",
              "      <td>0</td>\n",
              "    </tr>\n",
              "  </tbody>\n",
              "</table>\n",
              "</div>\n",
              "      <button class=\"colab-df-convert\" onclick=\"convertToInteractive('df-145536d3-73b4-4efd-9701-85a7a66db718')\"\n",
              "              title=\"Convert this dataframe to an interactive table.\"\n",
              "              style=\"display:none;\">\n",
              "        \n",
              "  <svg xmlns=\"http://www.w3.org/2000/svg\" height=\"24px\"viewBox=\"0 0 24 24\"\n",
              "       width=\"24px\">\n",
              "    <path d=\"M0 0h24v24H0V0z\" fill=\"none\"/>\n",
              "    <path d=\"M18.56 5.44l.94 2.06.94-2.06 2.06-.94-2.06-.94-.94-2.06-.94 2.06-2.06.94zm-11 1L8.5 8.5l.94-2.06 2.06-.94-2.06-.94L8.5 2.5l-.94 2.06-2.06.94zm10 10l.94 2.06.94-2.06 2.06-.94-2.06-.94-.94-2.06-.94 2.06-2.06.94z\"/><path d=\"M17.41 7.96l-1.37-1.37c-.4-.4-.92-.59-1.43-.59-.52 0-1.04.2-1.43.59L10.3 9.45l-7.72 7.72c-.78.78-.78 2.05 0 2.83L4 21.41c.39.39.9.59 1.41.59.51 0 1.02-.2 1.41-.59l7.78-7.78 2.81-2.81c.8-.78.8-2.07 0-2.86zM5.41 20L4 18.59l7.72-7.72 1.47 1.35L5.41 20z\"/>\n",
              "  </svg>\n",
              "      </button>\n",
              "      \n",
              "  <style>\n",
              "    .colab-df-container {\n",
              "      display:flex;\n",
              "      flex-wrap:wrap;\n",
              "      gap: 12px;\n",
              "    }\n",
              "\n",
              "    .colab-df-convert {\n",
              "      background-color: #E8F0FE;\n",
              "      border: none;\n",
              "      border-radius: 50%;\n",
              "      cursor: pointer;\n",
              "      display: none;\n",
              "      fill: #1967D2;\n",
              "      height: 32px;\n",
              "      padding: 0 0 0 0;\n",
              "      width: 32px;\n",
              "    }\n",
              "\n",
              "    .colab-df-convert:hover {\n",
              "      background-color: #E2EBFA;\n",
              "      box-shadow: 0px 1px 2px rgba(60, 64, 67, 0.3), 0px 1px 3px 1px rgba(60, 64, 67, 0.15);\n",
              "      fill: #174EA6;\n",
              "    }\n",
              "\n",
              "    [theme=dark] .colab-df-convert {\n",
              "      background-color: #3B4455;\n",
              "      fill: #D2E3FC;\n",
              "    }\n",
              "\n",
              "    [theme=dark] .colab-df-convert:hover {\n",
              "      background-color: #434B5C;\n",
              "      box-shadow: 0px 1px 3px 1px rgba(0, 0, 0, 0.15);\n",
              "      filter: drop-shadow(0px 1px 2px rgba(0, 0, 0, 0.3));\n",
              "      fill: #FFFFFF;\n",
              "    }\n",
              "  </style>\n",
              "\n",
              "      <script>\n",
              "        const buttonEl =\n",
              "          document.querySelector('#df-145536d3-73b4-4efd-9701-85a7a66db718 button.colab-df-convert');\n",
              "        buttonEl.style.display =\n",
              "          google.colab.kernel.accessAllowed ? 'block' : 'none';\n",
              "\n",
              "        async function convertToInteractive(key) {\n",
              "          const element = document.querySelector('#df-145536d3-73b4-4efd-9701-85a7a66db718');\n",
              "          const dataTable =\n",
              "            await google.colab.kernel.invokeFunction('convertToInteractive',\n",
              "                                                     [key], {});\n",
              "          if (!dataTable) return;\n",
              "\n",
              "          const docLinkHtml = 'Like what you see? Visit the ' +\n",
              "            '<a target=\"_blank\" href=https://colab.research.google.com/notebooks/data_table.ipynb>data table notebook</a>'\n",
              "            + ' to learn more about interactive tables.';\n",
              "          element.innerHTML = '';\n",
              "          dataTable['output_type'] = 'display_data';\n",
              "          await google.colab.output.renderOutput(dataTable, element);\n",
              "          const docLink = document.createElement('div');\n",
              "          docLink.innerHTML = docLinkHtml;\n",
              "          element.appendChild(docLink);\n",
              "        }\n",
              "      </script>\n",
              "    </div>\n",
              "  </div>\n",
              "  "
            ]
          },
          "metadata": {},
          "execution_count": 122
        }
      ]
    },
    {
      "cell_type": "code",
      "source": [
        "df_sw_lemma['q1'] = df_sw_lemma['q1'].pipe(token) \n",
        "df_sw_lemma['q2'] = df_sw_lemma['q2'].pipe(token) \n",
        "df_sw_lemma.head(2)"
      ],
      "metadata": {
        "id": "0OBQgw2Sp9qL"
      },
      "execution_count": null,
      "outputs": []
    },
    {
      "cell_type": "code",
      "source": [
        "df_sw_stem['q1'] = df_sw_stem['q1'].pipe(token) \n",
        "df_sw_stem['q2'] = df_sw_stem['q2'].pipe(token) \n",
        "df_sw_stem.head(2)"
      ],
      "metadata": {
        "id": "oST0zN9yp2vX"
      },
      "execution_count": null,
      "outputs": []
    },
    {
      "cell_type": "code",
      "source": [
        "df_stem['q1'] = df_stem['q1'].pipe(token) \n",
        "df_stem['q2'] = df_stem['q2'].pipe(token) \n",
        "df_stem.head(2)"
      ],
      "metadata": {
        "colab": {
          "base_uri": "https://localhost:8080/",
          "height": 112
        },
        "id": "7IGKOueUSbnc",
        "outputId": "7361fee1-08d6-47e3-f950-3e2ed7df22fb"
      },
      "execution_count": 58,
      "outputs": [
        {
          "output_type": "execute_result",
          "data": {
            "text/plain": [
              "                                                       q1  \\\n",
              "327246  [, can, i, regist, my, startup, compani, in, t...   \n",
              "26328   [, what, is, a, good, entrylevel, job, in, the...   \n",
              "\n",
              "                                                       q2  is_duplicate  \n",
              "327246  [, can, i, start, a, compani, in, the, us, wit...             1  \n",
              "26328   [, what, are, the, best, entri, level, job, in...             0  "
            ],
            "text/html": [
              "\n",
              "  <div id=\"df-68f7ab80-0319-446d-a0b8-1469bf0e2c81\">\n",
              "    <div class=\"colab-df-container\">\n",
              "      <div>\n",
              "<style scoped>\n",
              "    .dataframe tbody tr th:only-of-type {\n",
              "        vertical-align: middle;\n",
              "    }\n",
              "\n",
              "    .dataframe tbody tr th {\n",
              "        vertical-align: top;\n",
              "    }\n",
              "\n",
              "    .dataframe thead th {\n",
              "        text-align: right;\n",
              "    }\n",
              "</style>\n",
              "<table border=\"1\" class=\"dataframe\">\n",
              "  <thead>\n",
              "    <tr style=\"text-align: right;\">\n",
              "      <th></th>\n",
              "      <th>q1</th>\n",
              "      <th>q2</th>\n",
              "      <th>is_duplicate</th>\n",
              "    </tr>\n",
              "  </thead>\n",
              "  <tbody>\n",
              "    <tr>\n",
              "      <th>327246</th>\n",
              "      <td>[, can, i, regist, my, startup, compani, in, t...</td>\n",
              "      <td>[, can, i, start, a, compani, in, the, us, wit...</td>\n",
              "      <td>1</td>\n",
              "    </tr>\n",
              "    <tr>\n",
              "      <th>26328</th>\n",
              "      <td>[, what, is, a, good, entrylevel, job, in, the...</td>\n",
              "      <td>[, what, are, the, best, entri, level, job, in...</td>\n",
              "      <td>0</td>\n",
              "    </tr>\n",
              "  </tbody>\n",
              "</table>\n",
              "</div>\n",
              "      <button class=\"colab-df-convert\" onclick=\"convertToInteractive('df-68f7ab80-0319-446d-a0b8-1469bf0e2c81')\"\n",
              "              title=\"Convert this dataframe to an interactive table.\"\n",
              "              style=\"display:none;\">\n",
              "        \n",
              "  <svg xmlns=\"http://www.w3.org/2000/svg\" height=\"24px\"viewBox=\"0 0 24 24\"\n",
              "       width=\"24px\">\n",
              "    <path d=\"M0 0h24v24H0V0z\" fill=\"none\"/>\n",
              "    <path d=\"M18.56 5.44l.94 2.06.94-2.06 2.06-.94-2.06-.94-.94-2.06-.94 2.06-2.06.94zm-11 1L8.5 8.5l.94-2.06 2.06-.94-2.06-.94L8.5 2.5l-.94 2.06-2.06.94zm10 10l.94 2.06.94-2.06 2.06-.94-2.06-.94-.94-2.06-.94 2.06-2.06.94z\"/><path d=\"M17.41 7.96l-1.37-1.37c-.4-.4-.92-.59-1.43-.59-.52 0-1.04.2-1.43.59L10.3 9.45l-7.72 7.72c-.78.78-.78 2.05 0 2.83L4 21.41c.39.39.9.59 1.41.59.51 0 1.02-.2 1.41-.59l7.78-7.78 2.81-2.81c.8-.78.8-2.07 0-2.86zM5.41 20L4 18.59l7.72-7.72 1.47 1.35L5.41 20z\"/>\n",
              "  </svg>\n",
              "      </button>\n",
              "      \n",
              "  <style>\n",
              "    .colab-df-container {\n",
              "      display:flex;\n",
              "      flex-wrap:wrap;\n",
              "      gap: 12px;\n",
              "    }\n",
              "\n",
              "    .colab-df-convert {\n",
              "      background-color: #E8F0FE;\n",
              "      border: none;\n",
              "      border-radius: 50%;\n",
              "      cursor: pointer;\n",
              "      display: none;\n",
              "      fill: #1967D2;\n",
              "      height: 32px;\n",
              "      padding: 0 0 0 0;\n",
              "      width: 32px;\n",
              "    }\n",
              "\n",
              "    .colab-df-convert:hover {\n",
              "      background-color: #E2EBFA;\n",
              "      box-shadow: 0px 1px 2px rgba(60, 64, 67, 0.3), 0px 1px 3px 1px rgba(60, 64, 67, 0.15);\n",
              "      fill: #174EA6;\n",
              "    }\n",
              "\n",
              "    [theme=dark] .colab-df-convert {\n",
              "      background-color: #3B4455;\n",
              "      fill: #D2E3FC;\n",
              "    }\n",
              "\n",
              "    [theme=dark] .colab-df-convert:hover {\n",
              "      background-color: #434B5C;\n",
              "      box-shadow: 0px 1px 3px 1px rgba(0, 0, 0, 0.15);\n",
              "      filter: drop-shadow(0px 1px 2px rgba(0, 0, 0, 0.3));\n",
              "      fill: #FFFFFF;\n",
              "    }\n",
              "  </style>\n",
              "\n",
              "      <script>\n",
              "        const buttonEl =\n",
              "          document.querySelector('#df-68f7ab80-0319-446d-a0b8-1469bf0e2c81 button.colab-df-convert');\n",
              "        buttonEl.style.display =\n",
              "          google.colab.kernel.accessAllowed ? 'block' : 'none';\n",
              "\n",
              "        async function convertToInteractive(key) {\n",
              "          const element = document.querySelector('#df-68f7ab80-0319-446d-a0b8-1469bf0e2c81');\n",
              "          const dataTable =\n",
              "            await google.colab.kernel.invokeFunction('convertToInteractive',\n",
              "                                                     [key], {});\n",
              "          if (!dataTable) return;\n",
              "\n",
              "          const docLinkHtml = 'Like what you see? Visit the ' +\n",
              "            '<a target=\"_blank\" href=https://colab.research.google.com/notebooks/data_table.ipynb>data table notebook</a>'\n",
              "            + ' to learn more about interactive tables.';\n",
              "          element.innerHTML = '';\n",
              "          dataTable['output_type'] = 'display_data';\n",
              "          await google.colab.output.renderOutput(dataTable, element);\n",
              "          const docLink = document.createElement('div');\n",
              "          docLink.innerHTML = docLinkHtml;\n",
              "          element.appendChild(docLink);\n",
              "        }\n",
              "      </script>\n",
              "    </div>\n",
              "  </div>\n",
              "  "
            ]
          },
          "metadata": {},
          "execution_count": 58
        }
      ]
    },
    {
      "cell_type": "code",
      "source": [
        "df_sw['q1'] = df_sw['q1'].pipe(token) \n",
        "df_sw['q2'] = df_sw['q2'].pipe(token) \n",
        "df_stem.head(2)"
      ],
      "metadata": {
        "id": "aMHmrhBfpbb7"
      },
      "execution_count": null,
      "outputs": []
    },
    {
      "cell_type": "code",
      "source": [
        "df_out['q1'] = df_out['q1'].pipe(token) \n",
        "df_out['q2'] = df_out['q2'].pipe(token) \n",
        "df_out.head(2)"
      ],
      "metadata": {
        "colab": {
          "base_uri": "https://localhost:8080/",
          "height": 112
        },
        "id": "mOIFw09PplSu",
        "outputId": "e619ce00-2aba-443f-c52d-13379d55a3ba"
      },
      "execution_count": 23,
      "outputs": [
        {
          "output_type": "execute_result",
          "data": {
            "text/plain": [
              "                                                   q1  \\\n",
              "179733  [ideas, decorate, project, business, studies]   \n",
              "169496                   [country, candy, corn, come]   \n",
              "\n",
              "                                                      q2  is_duplicate  \n",
              "179733  [study, start, successful, business, nice, idea]             0  \n",
              "169496                             [like, eating, candy]             0  "
            ],
            "text/html": [
              "\n",
              "  <div id=\"df-e397520c-67ce-4d53-be34-670da74d4831\">\n",
              "    <div class=\"colab-df-container\">\n",
              "      <div>\n",
              "<style scoped>\n",
              "    .dataframe tbody tr th:only-of-type {\n",
              "        vertical-align: middle;\n",
              "    }\n",
              "\n",
              "    .dataframe tbody tr th {\n",
              "        vertical-align: top;\n",
              "    }\n",
              "\n",
              "    .dataframe thead th {\n",
              "        text-align: right;\n",
              "    }\n",
              "</style>\n",
              "<table border=\"1\" class=\"dataframe\">\n",
              "  <thead>\n",
              "    <tr style=\"text-align: right;\">\n",
              "      <th></th>\n",
              "      <th>q1</th>\n",
              "      <th>q2</th>\n",
              "      <th>is_duplicate</th>\n",
              "    </tr>\n",
              "  </thead>\n",
              "  <tbody>\n",
              "    <tr>\n",
              "      <th>179733</th>\n",
              "      <td>[ideas, decorate, project, business, studies]</td>\n",
              "      <td>[study, start, successful, business, nice, idea]</td>\n",
              "      <td>0</td>\n",
              "    </tr>\n",
              "    <tr>\n",
              "      <th>169496</th>\n",
              "      <td>[country, candy, corn, come]</td>\n",
              "      <td>[like, eating, candy]</td>\n",
              "      <td>0</td>\n",
              "    </tr>\n",
              "  </tbody>\n",
              "</table>\n",
              "</div>\n",
              "      <button class=\"colab-df-convert\" onclick=\"convertToInteractive('df-e397520c-67ce-4d53-be34-670da74d4831')\"\n",
              "              title=\"Convert this dataframe to an interactive table.\"\n",
              "              style=\"display:none;\">\n",
              "        \n",
              "  <svg xmlns=\"http://www.w3.org/2000/svg\" height=\"24px\"viewBox=\"0 0 24 24\"\n",
              "       width=\"24px\">\n",
              "    <path d=\"M0 0h24v24H0V0z\" fill=\"none\"/>\n",
              "    <path d=\"M18.56 5.44l.94 2.06.94-2.06 2.06-.94-2.06-.94-.94-2.06-.94 2.06-2.06.94zm-11 1L8.5 8.5l.94-2.06 2.06-.94-2.06-.94L8.5 2.5l-.94 2.06-2.06.94zm10 10l.94 2.06.94-2.06 2.06-.94-2.06-.94-.94-2.06-.94 2.06-2.06.94z\"/><path d=\"M17.41 7.96l-1.37-1.37c-.4-.4-.92-.59-1.43-.59-.52 0-1.04.2-1.43.59L10.3 9.45l-7.72 7.72c-.78.78-.78 2.05 0 2.83L4 21.41c.39.39.9.59 1.41.59.51 0 1.02-.2 1.41-.59l7.78-7.78 2.81-2.81c.8-.78.8-2.07 0-2.86zM5.41 20L4 18.59l7.72-7.72 1.47 1.35L5.41 20z\"/>\n",
              "  </svg>\n",
              "      </button>\n",
              "      \n",
              "  <style>\n",
              "    .colab-df-container {\n",
              "      display:flex;\n",
              "      flex-wrap:wrap;\n",
              "      gap: 12px;\n",
              "    }\n",
              "\n",
              "    .colab-df-convert {\n",
              "      background-color: #E8F0FE;\n",
              "      border: none;\n",
              "      border-radius: 50%;\n",
              "      cursor: pointer;\n",
              "      display: none;\n",
              "      fill: #1967D2;\n",
              "      height: 32px;\n",
              "      padding: 0 0 0 0;\n",
              "      width: 32px;\n",
              "    }\n",
              "\n",
              "    .colab-df-convert:hover {\n",
              "      background-color: #E2EBFA;\n",
              "      box-shadow: 0px 1px 2px rgba(60, 64, 67, 0.3), 0px 1px 3px 1px rgba(60, 64, 67, 0.15);\n",
              "      fill: #174EA6;\n",
              "    }\n",
              "\n",
              "    [theme=dark] .colab-df-convert {\n",
              "      background-color: #3B4455;\n",
              "      fill: #D2E3FC;\n",
              "    }\n",
              "\n",
              "    [theme=dark] .colab-df-convert:hover {\n",
              "      background-color: #434B5C;\n",
              "      box-shadow: 0px 1px 3px 1px rgba(0, 0, 0, 0.15);\n",
              "      filter: drop-shadow(0px 1px 2px rgba(0, 0, 0, 0.3));\n",
              "      fill: #FFFFFF;\n",
              "    }\n",
              "  </style>\n",
              "\n",
              "      <script>\n",
              "        const buttonEl =\n",
              "          document.querySelector('#df-e397520c-67ce-4d53-be34-670da74d4831 button.colab-df-convert');\n",
              "        buttonEl.style.display =\n",
              "          google.colab.kernel.accessAllowed ? 'block' : 'none';\n",
              "\n",
              "        async function convertToInteractive(key) {\n",
              "          const element = document.querySelector('#df-e397520c-67ce-4d53-be34-670da74d4831');\n",
              "          const dataTable =\n",
              "            await google.colab.kernel.invokeFunction('convertToInteractive',\n",
              "                                                     [key], {});\n",
              "          if (!dataTable) return;\n",
              "\n",
              "          const docLinkHtml = 'Like what you see? Visit the ' +\n",
              "            '<a target=\"_blank\" href=https://colab.research.google.com/notebooks/data_table.ipynb>data table notebook</a>'\n",
              "            + ' to learn more about interactive tables.';\n",
              "          element.innerHTML = '';\n",
              "          dataTable['output_type'] = 'display_data';\n",
              "          await google.colab.output.renderOutput(dataTable, element);\n",
              "          const docLink = document.createElement('div');\n",
              "          docLink.innerHTML = docLinkHtml;\n",
              "          element.appendChild(docLink);\n",
              "        }\n",
              "      </script>\n",
              "    </div>\n",
              "  </div>\n",
              "  "
            ]
          },
          "metadata": {},
          "execution_count": 23
        }
      ]
    },
    {
      "cell_type": "markdown",
      "source": [
        "#### Doc2Vec Without Stopwords, not stemmed not lemmatized"
      ],
      "metadata": {
        "id": "3S2Ypm0hqKUq"
      }
    },
    {
      "cell_type": "code",
      "source": [
        "from gensim.models.doc2vec import Doc2Vec, TaggedDocument\n",
        "def doc2vec(df):\n",
        "  q1 = [TaggedDocument(d, [i]) for i, d in enumerate(df['q1'])]\n",
        "  q2 = [TaggedDocument(d, [i]) for i, d in enumerate(df['q2'])]\n",
        "  return q1, q2"
      ],
      "metadata": {
        "id": "mUvNpFMKqSkP"
      },
      "execution_count": 26,
      "outputs": []
    },
    {
      "cell_type": "code",
      "source": [
        "def model_doc2vec(q1, vector, window, epochs):\n",
        "  q1 = Doc2Vec(q1, dm = 1, vector_size = vector, window = window, min_count = 2, epochs = epochs)\n",
        "  return q1"
      ],
      "metadata": {
        "id": "DI9pvKAVseUy"
      },
      "execution_count": 50,
      "outputs": []
    },
    {
      "cell_type": "markdown",
      "source": [
        "### Apply Doc2Vec"
      ],
      "metadata": {
        "id": "3jTAR0XNxm4g"
      }
    },
    {
      "cell_type": "code",
      "source": [
        "#lemmatized, without stopwords\n",
        "q1_lemma_d2v, q2_lemma_d2v = doc2vec(df_lemma)\n",
        "assert len(q1_lemma_d2v) == len(q2_lemma_d2v)"
      ],
      "metadata": {
        "id": "eNIW8JQlxzeb"
      },
      "execution_count": 123,
      "outputs": []
    },
    {
      "cell_type": "code",
      "source": [
        "#lemmatized with stopwords\n",
        "q1_sw_lemma_d2v, q2_sw_lemma_d2v = doc2vec(df_sw_lemma)\n",
        "assert len(q1_sw_lemma_d2v) == len(q2_sw_lemma_d2v)"
      ],
      "metadata": {
        "id": "bFWM_faxyGCL"
      },
      "execution_count": null,
      "outputs": []
    },
    {
      "cell_type": "code",
      "source": [
        "#Stemmed without stopwords\n",
        "q1_stem_d2v, q2_stem_d2v = doc2vec(df_stem)\n",
        "assert len(q1_stem_d2v) == len(q2_stem_d2v)"
      ],
      "metadata": {
        "id": "0-QZvc5Sx88k"
      },
      "execution_count": 55,
      "outputs": []
    },
    {
      "cell_type": "code",
      "source": [
        "#Stemmed with stopwords\n",
        "q1_sw_stem_d2v, q2_sw_stem_d2v = doc2vec(df_sw_stem)\n",
        "assert len(q1_sw_stem_d2v) == len(q2_sw_stem_d2v)"
      ],
      "metadata": {
        "id": "aPizJEgayCVz"
      },
      "execution_count": null,
      "outputs": []
    },
    {
      "cell_type": "code",
      "source": [
        "#With Stopwords, not lemmatized, not stemmed\n",
        "q1_sw_d2v, q2_sw_d2v = doc2vec(df_sw)\n",
        "assert len(q1_sw_d2v) == len(q2_sw_d2v)"
      ],
      "metadata": {
        "id": "oFwzTiP6xqly"
      },
      "execution_count": null,
      "outputs": []
    },
    {
      "cell_type": "code",
      "source": [
        "#Without stopwords, not lemmatized, not stemmed \n",
        "q1_out_d2v, q2_out_d2v = doc2vec(df_out)\n",
        "assert len(q1_out_d2v) == len(q2_out_d2v)"
      ],
      "metadata": {
        "id": "iBdztD6MxkWq"
      },
      "execution_count": null,
      "outputs": []
    },
    {
      "cell_type": "markdown",
      "source": [
        "### Activating Doc2Vec model"
      ],
      "metadata": {
        "id": "pTJYpxOJzIcc"
      }
    },
    {
      "cell_type": "code",
      "source": [
        "#PARAMETER FOR DOC2VEC MODEL \n",
        "vector = 100\n",
        "window = 3\n",
        "epochs = 20"
      ],
      "metadata": {
        "id": "9rLS83NPtOdV"
      },
      "execution_count": 124,
      "outputs": []
    },
    {
      "cell_type": "code",
      "source": [
        "#lemmatized, without stopwords\n",
        "X_q1_lemma_d2v = model_doc2vec(q1_lemma_d2v, vector, window, epochs)\n",
        "X_q2_lemma_d2v = model_doc2vec(q2_lemma_d2v, vector, window, epochs)"
      ],
      "metadata": {
        "id": "YkmAVk10zOK0"
      },
      "execution_count": 125,
      "outputs": []
    },
    {
      "cell_type": "code",
      "source": [
        "#lemmatized, with stopwords\n",
        "X_q1_sw_lemma_d2v = model_doc2vec(q1_sw_lemma_d2v, vector, window, epochs)\n",
        "X_q2_sw_lemma_d2v = model_doc2vec(q2_sw_lemma_d2v, vector, window, epochs)"
      ],
      "metadata": {
        "id": "2H31DHSSzHR0"
      },
      "execution_count": null,
      "outputs": []
    },
    {
      "cell_type": "code",
      "source": [
        "#Stemmed, without stopwords\n",
        "X_q1_stem_d2v = model_doc2vec(q1_stem_d2v, vector, window, epochs)\n",
        "X_q2_stem_d2v = model_doc2vec(q2_stem_d2v, vector, window, epochs)"
      ],
      "metadata": {
        "colab": {
          "base_uri": "https://localhost:8080/"
        },
        "id": "D9x--QGbrOXX",
        "outputId": "b6282b0d-da0a-4538-8e6b-8b07b457e097"
      },
      "execution_count": 47,
      "outputs": [
        {
          "output_type": "execute_result",
          "data": {
            "text/plain": [
              "[TaggedDocument(words=['ideas', 'decorate', 'project', 'business', 'studies'], tags=[0]),\n",
              " TaggedDocument(words=['country', 'candy', 'corn', 'come'], tags=[1])]"
            ]
          },
          "metadata": {},
          "execution_count": 47
        }
      ]
    },
    {
      "cell_type": "code",
      "source": [
        "#Stemmed, with stopwords\n",
        "X_q1_sw_stem_d2v = model_doc2vec(q1_sw_stem_d2v, vector, window, epochs)\n",
        "X_q2_sw_stem_d2v = model_doc2vec(q2_sw_stem_d2v, vector, window, epochs)"
      ],
      "metadata": {
        "colab": {
          "base_uri": "https://localhost:8080/"
        },
        "id": "x1DQ7wK7ryNu",
        "outputId": "37d85e14-4b9b-471e-909e-3f9130a1ab3c"
      },
      "execution_count": 31,
      "outputs": [
        {
          "output_type": "execute_result",
          "data": {
            "text/plain": [
              "[TaggedDocument(words='what are some ideas to decorate my project of business studies', tags=[0]),\n",
              " TaggedDocument(words='which country did candy corn come from', tags=[1])]"
            ]
          },
          "metadata": {},
          "execution_count": 31
        }
      ]
    },
    {
      "cell_type": "code",
      "source": [
        "#With Stopwords, not lemmatized, not stemmed\n",
        "X_q1_sw_d2v = model_doc2vec(q1_sw_d2v, vector, window, epochs)\n",
        "X_q2_sw_d2v = model_doc2vec(q2_sw_d2v, vector, window, epochs)"
      ],
      "metadata": {
        "colab": {
          "base_uri": "https://localhost:8080/"
        },
        "id": "Zp94XpJbz7pw",
        "outputId": "a2916769-afc5-4437-fe86-cf288780786e"
      },
      "execution_count": 87,
      "outputs": [
        {
          "output_type": "stream",
          "name": "stderr",
          "text": [
            "WARNING:gensim.models.doc2vec:Each 'words' should be a list of words (usually unicode strings). First 'words' here is instead plain <class 'str'>.\n",
            "WARNING:gensim.models.doc2vec:Each 'words' should be a list of words (usually unicode strings). First 'words' here is instead plain <class 'str'>.\n"
          ]
        }
      ]
    },
    {
      "cell_type": "code",
      "source": [
        "#Without stopwords, not lemmatized, not stemmed \n",
        "X_q1_out_d2v = model_doc2vec(q1_out_d2v, vector, window, epochs)\n",
        "X_q2_out_d2v = model_doc2vec(q2_out_d2v, vector, window, epochs)\n"
      ],
      "metadata": {
        "id": "R_iMv56A0HXt"
      },
      "execution_count": 81,
      "outputs": []
    },
    {
      "cell_type": "markdown",
      "source": [
        "#### Convert to array "
      ],
      "metadata": {
        "id": "px9h8tDG0fPZ"
      }
    },
    {
      "cell_type": "code",
      "source": [
        "# Lemmatized, with stopwords, not stemmed\n",
        "\n",
        "size = len(df) - 1\n",
        "arr_q1_lemma = X_q1_lemma_d2v[0] \n",
        "\n",
        "for i in range(size):\n",
        "  arrT = X_q1_lemma_d2v[i+1]\n",
        "  arr_q1_lemma = np.vstack([arr_q1_lemma, arrT])\n",
        "\n",
        "arr_q2_lemma = X_q2_lemma_d2v[0] \n",
        "\n",
        "for i in range(size):\n",
        "  arrT = X_q2_lemma_d2v[i+1]\n",
        "  arr_q2_lemma = np.vstack([arr_q2_lemma, arrT])\n",
        "\n",
        "assert arr_q1_lemma.shape == arr_q2_lemma.shape\n",
        "\n",
        "#arr_q1_lemma = create_arrays(X_q1_lemma_d2v)\n",
        "#arr_q2_lemma = create_arrays(X_q2_lemma_d2v)"
      ],
      "metadata": {
        "id": "QFtn0fye5INs"
      },
      "execution_count": 135,
      "outputs": []
    },
    {
      "cell_type": "code",
      "source": [
        "# Lemmatized, without stopwords, not stemmed\n",
        "\n",
        "size = len(df) - 1\n",
        "arr_q1_sw_lemma = X_q1_sw_lemma_d2v[0] \n",
        "\n",
        "for i in range(size):\n",
        "  arrT = X_q1_sw_lemma_d2v[i+1]\n",
        "  arr_q1_sw_lemma = np.vstack([arr_q1_sw_lemma, arrT])\n",
        "\n",
        "arr_q2_sw_lemma = X_q2_sw_lemma_d2v[0] \n",
        "\n",
        "for i in range(size):\n",
        "  arrT = X_q2_sw_lemma_d2v[i+1]\n",
        "  arr_q2_sw_lemma = np.vstack([arr_q2_sw_lemma, arrT])\n",
        "\n",
        "assert arr_q1_sw_lemma.shape == arr_q2_sw_lemma.shape\n",
        "\n",
        "# arr_q1_sw_lemma = create_arrays(X_q1_sw_lemma_d2v)\n",
        "# arr_q2_sw_lemma = create_arrays(X_q2_sw_lemma_d2v) "
      ],
      "metadata": {
        "id": "0BRNEZMv5U2X"
      },
      "execution_count": null,
      "outputs": []
    },
    {
      "cell_type": "code",
      "source": [
        "# Stemmed, with stopwords, not lemmatized\n",
        "\n",
        "size = len(df) - 1\n",
        "arr_q1_stem = X_q1_stem_d2v[0] \n",
        "\n",
        "for i in range(size):\n",
        "  arrT = X_q1_stem_d2v[i+1]\n",
        "  arr_q1_stem = np.vstack([arr_q1_stem, arrT])\n",
        "\n",
        "arr_q2_stem = X_q2_stem_d2v[0] \n",
        "\n",
        "for i in range(size):\n",
        "  arrT = X_q2_stem_d2v[i+1]\n",
        "  arr_q2_stem = np.vstack([arr_q2_stem, arrT])\n",
        "\n",
        "assert arr_q1_stem.shape == arr_q2_stem.shape\n",
        "\n",
        "# arr_q1_stem = create_arrays(X_q1_stem_d2v)\n",
        "# arr_q2_stem = create_arrays(X_q2_stem_d2v)"
      ],
      "metadata": {
        "id": "em1SzG5d5g8Y"
      },
      "execution_count": null,
      "outputs": []
    },
    {
      "cell_type": "code",
      "source": [
        "# Stemmed, without stopwords, not lemmatized \n",
        "\n",
        "size = len(df) - 1\n",
        "arr_q1_sw_stem = X_q1_sw_stem_d2v[0] \n",
        "\n",
        "for i in range(size):\n",
        "  arrT = X_q1_sw_stem_d2v[i+1]\n",
        "  arr_q1_sw_stem = np.vstack([arr_q1_sw_stem, arrT])\n",
        "\n",
        "arr_q2_sw_stem = X_q2_sw_stem_d2v[0] \n",
        "\n",
        "for i in range(size):\n",
        "  arrT = X_q2_sw_stem_d2v[i+1]\n",
        "  arr_q2_sw_stem = np.vstack([arr_q2_sw_stem, arrT])\n",
        "\n",
        "assert arr_q1_sw_stem.shape == arr_q2_sw_stem.shape\n",
        "\n",
        "# arr_q1_sw_stem = create_arrays(X_q1_sw_stem_d2v)\n",
        "# arr_q2_sw_stem = create_arrays(X_q2_sw_stem_d2v)"
      ],
      "metadata": {
        "id": "LPF52ZUt5oZf"
      },
      "execution_count": null,
      "outputs": []
    },
    {
      "cell_type": "code",
      "source": [
        "# Without stopwords, not lemmatized, not stemmed\n",
        "size = len(df) - 1\n",
        "arr_q1_out = X_q1_out_d2v[0] \n",
        "\n",
        "for i in range(size):\n",
        "  arrT = X_q1_out_d2v[i+1]\n",
        "  arr_q1_out = np.vstack([arr_q1_out, arrT])\n",
        "\n",
        "arr_q2_out = X_q2_out_d2v[0] \n",
        "\n",
        "for i in range(size):\n",
        "  arrT = X_q2_out_d2v[i+1]\n",
        "  arr_q2_out = np.vstack([arr_q2_out, arrT])\n",
        "\n",
        "assert arr_q1_out.shape == arr_q2_out.shape"
      ],
      "metadata": {
        "id": "oVwHxnT706KA"
      },
      "execution_count": 83,
      "outputs": []
    },
    {
      "cell_type": "code",
      "source": [
        "# With stopword, not lemmatized, not stemmed\n",
        "\n",
        "size = len(df) - 1\n",
        "arr_q1_sw = X_q1_sw_d2v[0] \n",
        "\n",
        "for i in range(size):\n",
        "  arrT = X_q1_sw_d2v[i+1]\n",
        "  arr_q1_sw = np.vstack([arr_q1_sw, arrT])\n",
        "\n",
        "arr_q2_sw = X_q2_sw_d2v[0] \n",
        "\n",
        "for i in range(size):\n",
        "  arrT = X_q2_sw_d2v[i+1]\n",
        "  arr_q2_sw = np.vstack([arr_q2_sw, arrT])\n",
        "\n",
        "assert arr_q1_sw.shape == arr_q2_sw.shape"
      ],
      "metadata": {
        "id": "Kr_x8xVm5Bda"
      },
      "execution_count": 99,
      "outputs": []
    },
    {
      "cell_type": "markdown",
      "source": [
        "### Convert to dataframe "
      ],
      "metadata": {
        "id": "e5y_8A2VDe2K"
      }
    },
    {
      "cell_type": "code",
      "source": [],
      "metadata": {
        "id": "s2zBWkoMDhZD"
      },
      "execution_count": null,
      "outputs": []
    },
    {
      "cell_type": "code",
      "source": [
        "def df_arr(arr_q1, arr_q2, df_one):\n",
        "  tem1 = pd.DataFrame()\n",
        "  tem2 = pd.DataFrame()\n",
        "  temp1['q1'] = pd.DataFrame(arr_q1, index = df.index)\n",
        "  temp2['q2'] = pd.DataFrame(arr_q2, index = df.index)\n",
        "  X_temp = pd.concat([temp1, temp2], axis=1)\n",
        "  X_temp['is_duplicate'] = df['is_duplicate']\n",
        "  return X_temp"
      ],
      "metadata": {
        "id": "EZBLIoGx6lqA"
      },
      "execution_count": 89,
      "outputs": []
    },
    {
      "cell_type": "code",
      "source": [
        "q2_df_model2 = pd.DataFrame(q2_arr_st)\n",
        "q2_df_model2 = pd.DataFrame(q2_arr_st)\n",
        "X_model2 = pd.concat([q2_df_model2, q2_df_model2], axis=1)\n",
        "y = df['is_duplicate']\n",
        "y = np.array(y)\n",
        "y_df = pd.DataFrame(y)\n",
        "y_df.shape\n",
        "df_model2 = X_model2.join(y_df, lsuffix='_left', rsuffix='_right')\n",
        "df_model2.shape"
      ],
      "metadata": {
        "id": "mZRJvPEE6hx9"
      },
      "execution_count": null,
      "outputs": []
    },
    {
      "cell_type": "code",
      "source": [
        "def to_df(q1cleaned, q2cleaned, df):\n",
        "    '''cleaned sentences to df'''\n",
        "    X_temp1 = pd.DataFrame()\n",
        "    X_temp2 = pd.DataFrame()\n",
        "    X_temp1['q1'] = pd.DataFrame(q1cleaned, index = df.index)\n",
        "    X_temp2['q2'] = pd.DataFrame(q2cleaned, index = df.index)\n",
        "    X_temp = pd.concat([X_temp1, X_temp2], axis = 1)\n",
        "    X_temp['is_duplicate'] = df['is_duplicate']\n",
        "    return X_temp"
      ],
      "metadata": {
        "id": "2cvKok_b6iX9"
      },
      "execution_count": null,
      "outputs": []
    },
    {
      "cell_type": "markdown",
      "source": [
        "# DOC2VEC - STEMMED"
      ],
      "metadata": {
        "id": "o6Kc5Iq7Eytg"
      }
    },
    {
      "cell_type": "code",
      "source": [
        "from gensim.models.doc2vec import Doc2Vec, TaggedDocument\n",
        "\n",
        "q1_stem = [TaggedDocument(d, [i]) for i, d in enumerate(df_stem['q1'])]\n",
        "q2_stem = [TaggedDocument(d, [i]) for i, d in enumerate(df_stem['q2'])]"
      ],
      "metadata": {
        "id": "EiBf9Ijjebta"
      },
      "execution_count": 108,
      "outputs": []
    },
    {
      "cell_type": "code",
      "source": [
        "q1_model_stem = Doc2Vec(q1_stem, dm = 0, vector_size = 8, window = 2, min_count = 1, epochs = 10)\n",
        "q2_model_stem = Doc2Vec(q2_stem, dm = 0, vector_size = 8, window = 2, min_count = 1, epochs = 10)"
      ],
      "metadata": {
        "colab": {
          "base_uri": "https://localhost:8080/"
        },
        "id": "fw3vukTufZPz",
        "outputId": "2ef80ea9-57e8-4dd6-b184-f5cb83921b66"
      },
      "execution_count": 109,
      "outputs": [
        {
          "output_type": "stream",
          "name": "stderr",
          "text": [
            "WARNING:gensim.models.doc2vec:Each 'words' should be a list of words (usually unicode strings). First 'words' here is instead plain <class 'str'>.\n",
            "WARNING:gensim.models.doc2vec:Each 'words' should be a list of words (usually unicode strings). First 'words' here is instead plain <class 'str'>.\n"
          ]
        }
      ]
    },
    {
      "cell_type": "code",
      "source": [
        "# vector = model_stem.infer_vector(['only', 'you', 'can', 'prevent', 'forest', 'fires'])\n",
        "# print(vector)"
      ],
      "metadata": {
        "colab": {
          "base_uri": "https://localhost:8080/"
        },
        "id": "tDeH4qsnfydo",
        "outputId": "01dcec7c-7127-4643-ef97-91717af49a46"
      },
      "execution_count": 63,
      "outputs": [
        {
          "output_type": "stream",
          "name": "stdout",
          "text": [
            "[-0.02208794 -0.05290269  0.02206466  0.02093315 -0.00707981]\n"
          ]
        }
      ]
    },
    {
      "cell_type": "code",
      "source": [
        "q1_arr_st = q1_model_stem[0] \n",
        "\n",
        "for i in range(2999):\n",
        "  arrT = q1_model_stem[i+1]\n",
        "  q1_arr_st = np.vstack([q1_arr_st, arrT])\n",
        "\n",
        "#print(q1_arr)\n",
        "\n",
        "q2_arr_st = q2_model_stem[0] \n",
        "\n",
        "for i in range(2999):\n",
        "  arrT = q2_model_stem[i+1]\n",
        "  q2_arr_st = np.vstack([q2_arr_st, arrT])\n",
        "\n",
        "#print(q2_arr)"
      ],
      "metadata": {
        "id": "gQLhHUj8bLqR"
      },
      "execution_count": 69,
      "outputs": []
    },
    {
      "cell_type": "code",
      "source": [
        "q2_df_model2 = pd.DataFrame(q2_arr_st)\n",
        "q2_df_model2 = pd.DataFrame(q2_arr_st)\n",
        "X_model2 = pd.concat([q2_df_model2, q2_df_model2], axis=1)\n",
        "y = df['is_duplicate']\n",
        "y = np.array(y)\n",
        "y_df = pd.DataFrame(y)\n",
        "y_df.shape\n",
        "df_model2 = X_model2.join(y_df, lsuffix='_left', rsuffix='_right')\n",
        "df_model2.shape"
      ],
      "metadata": {
        "colab": {
          "base_uri": "https://localhost:8080/"
        },
        "id": "0_nBF5M_cds1",
        "outputId": "2bfeac94-ddde-4b4b-d485-d273fe311353"
      },
      "execution_count": 70,
      "outputs": [
        {
          "output_type": "execute_result",
          "data": {
            "text/plain": [
              "(3000, 17)"
            ]
          },
          "metadata": {},
          "execution_count": 70
        }
      ]
    },
    {
      "cell_type": "code",
      "source": [
        "y= df_model2['0_right']\n",
        "X_train_st, X_test_st, y_train_st, y_test_st = train_test_split(df_model2, y, stratify = y, test_size = 0.2, random_state = 0)"
      ],
      "metadata": {
        "id": "xa7AuLi_dAga"
      },
      "execution_count": 76,
      "outputs": []
    },
    {
      "cell_type": "code",
      "source": [
        "def rf_clf(X_train, X_test, y_train, y_test):\n",
        "    '''Parameter tuning for Random Forest Classifier and model fit'''\n",
        "    \n",
        "    splits = ShuffleSplit(n_splits = 1, test_size = .2, random_state = 0)\n",
        "    rf_param_grid = {'n_estimators':[200, 500, 800], 'min_samples_split':[3, 13], 'max_depth': [10, 30, None]}\n",
        "    rf_clf = RandomForestClassifier(random_state = 0)\n",
        "    \n",
        "    rf_search = HalvingGridSearchCV(rf_clf, rf_param_grid, cv = splits, factor = 2, scoring = 'accuracy', \n",
        "                                        max_resources = 5, aggressive_elimination = False, verbose = 0)\n",
        "    rf_search.fit(X_train, y_train)\n",
        "    \n",
        "    rf_model = rf_search.best_estimator_\n",
        "    \n",
        "    y_pred = rf_model.predict(X_test)\n",
        "    \n",
        "    log_loss = metrics.log_loss(y_test, y_pred)\n",
        "    accuracy = metrics.accuracy_score(y_test, y_pred)\n",
        "    precision = metrics.precision_score(y_test, y_pred)\n",
        "    recall = metrics.recall_score(y_test, y_pred)\n",
        "    f1_score = metrics.f1_score(y_test, y_pred)\n",
        "    print (rf_model)\n",
        "    return accuracy, precision, recall, f1_score, log_loss, y_pred, rf_model"
      ],
      "metadata": {
        "id": "ekjWmKRDdcDn"
      },
      "execution_count": 77,
      "outputs": []
    },
    {
      "cell_type": "code",
      "source": [
        "acc_rf, precision_rf, recall_rf, f1_score_rf, log_loss_rf, y_pred_rf, berf  = rf_clf(X_train_st, X_test_st, y_train_st, y_test_st)"
      ],
      "metadata": {
        "colab": {
          "base_uri": "https://localhost:8080/"
        },
        "id": "bpXMUiADdnkI",
        "outputId": "100fe932-b18b-426b-c475-2c08b962e42f"
      },
      "execution_count": 78,
      "outputs": [
        {
          "output_type": "stream",
          "name": "stdout",
          "text": [
            "RandomForestClassifier(max_depth=10, min_samples_split=3, n_estimators=200,\n",
            "                       random_state=0)\n"
          ]
        }
      ]
    },
    {
      "cell_type": "code",
      "source": [
        "report_rf = classification_report(y_pred_rf, y_test_st)\n",
        "matrix_rf = confusion_matrix(y_pred_rf, y_test_st)\n",
        "print('Classification Report - RF\\n', report_rf)\n",
        "print()\n",
        "print('Confusion Matrix - RF\\n', matrix_rf)"
      ],
      "metadata": {
        "colab": {
          "base_uri": "https://localhost:8080/"
        },
        "id": "_43tcEntdx8X",
        "outputId": "714abfc3-eb57-439a-8ec2-0e1ba00b6f58"
      },
      "execution_count": 79,
      "outputs": [
        {
          "output_type": "stream",
          "name": "stdout",
          "text": [
            "Classification Report - RF\n",
            "               precision    recall  f1-score   support\n",
            "\n",
            "           0       1.00      1.00      1.00       390\n",
            "           1       1.00      1.00      1.00       210\n",
            "\n",
            "    accuracy                           1.00       600\n",
            "   macro avg       1.00      1.00      1.00       600\n",
            "weighted avg       1.00      1.00      1.00       600\n",
            "\n",
            "\n",
            "Confusion Matrix - RF\n",
            " [[390   0]\n",
            " [  0 210]]\n"
          ]
        }
      ]
    },
    {
      "cell_type": "markdown",
      "source": [
        "#otro intento doc2vec"
      ],
      "metadata": {
        "id": "4JEn5Q2Mfy5k"
      }
    },
    {
      "cell_type": "code",
      "source": [
        "from gensim.models.doc2vec import Doc2Vec, TaggedDocument\n",
        "\n",
        "X_sw_train_tag1 = [TaggedDocument(d, [i]) for i, d in enumerate(X_cleaned['q1'])]\n",
        "X_sw_train_tag2 = [TaggedDocument(d, [i]) for i, d in enumerate(X_cleaned['q2'])]\n"
      ],
      "metadata": {
        "id": "YhCOMr8UE1ol"
      },
      "execution_count": 89,
      "outputs": []
    },
    {
      "cell_type": "code",
      "source": [
        "from gensim.models.doc2vec import Doc2Vec, TaggedDocument\n",
        "\n",
        "X_train_tag1 = [TaggedDocument(d, [i]) for i, d in enumerate(X_cleaned['q1'])]\n",
        "X_train_tag2 = [TaggedDocument(d, [i]) for i, d in enumerate(X_cleaned['q2'])]"
      ],
      "metadata": {
        "id": "i_eaWk7pOxdW"
      },
      "execution_count": 14,
      "outputs": []
    },
    {
      "cell_type": "code",
      "source": [
        "X_train_tag1[0:5]"
      ],
      "metadata": {
        "colab": {
          "base_uri": "https://localhost:8080/"
        },
        "id": "phyAH0jnz8ei",
        "outputId": "f45fa89c-f031-4858-9695-e0f394cdce52"
      },
      "execution_count": 106,
      "outputs": [
        {
          "output_type": "execute_result",
          "data": {
            "text/plain": [
              "[TaggedDocument(words='why do prophet muhammad marry 6 year old girl why dint he think to adopt her keep calm and answer', tags=[0]),\n",
              " TaggedDocument(words='how instagram be helpful', tags=[1]),\n",
              " TaggedDocument(words='be there an app that give you recipe base on what you have in the fridge', tags=[2]),\n",
              " TaggedDocument(words='what do the phrase shes get character mean', tags=[3]),\n",
              " TaggedDocument(words='what do lamb chop taste like', tags=[4])]"
            ]
          },
          "metadata": {},
          "execution_count": 106
        }
      ]
    },
    {
      "cell_type": "code",
      "source": [
        "X_sw_test_tag1 = [TaggedDocument(d, [i]) for i, d in enumerate(X_sw_test['q1'])]\n",
        "X_sw_test_tag2 = [TaggedDocument(d, [i]) for i, d in enumerate(X_sw_test['q2'])]"
      ],
      "metadata": {
        "id": "3jt8oJWZeHO0"
      },
      "execution_count": 104,
      "outputs": []
    },
    {
      "cell_type": "code",
      "source": [
        "X_train_tagged = X_train_tag1 + X_train_tag2\n",
        "#X_train_tagged\n",
        "\n",
        "#X_test_tagged = X_sw_test_tag1 + X_sw_test_tag2\n"
      ],
      "metadata": {
        "id": "VEc7KTq9YEJW"
      },
      "execution_count": 17,
      "outputs": []
    },
    {
      "cell_type": "markdown",
      "source": [
        "# Doc2Vec and similarity"
      ],
      "metadata": {
        "id": "3KGLlVi8l0Vg"
      }
    },
    {
      "cell_type": "code",
      "source": [
        "model_doc2vec = Doc2Vec(vector_size =20, window=2, min_count=1, epochs=50)"
      ],
      "metadata": {
        "id": "0ZfyygZkKFJZ"
      },
      "execution_count": 18,
      "outputs": []
    },
    {
      "cell_type": "code",
      "source": [
        "model_doc2vec.build_vocab(X_train_tagged)"
      ],
      "metadata": {
        "colab": {
          "base_uri": "https://localhost:8080/"
        },
        "id": "BU3rL6SLYgMi",
        "outputId": "10d34619-5aea-4848-ee86-da555d55cd9e"
      },
      "execution_count": 19,
      "outputs": [
        {
          "output_type": "stream",
          "name": "stderr",
          "text": [
            "WARNING:gensim.models.doc2vec:Each 'words' should be a list of words (usually unicode strings). First 'words' here is instead plain <class 'str'>.\n"
          ]
        }
      ]
    },
    {
      "cell_type": "code",
      "source": [
        "model_doc2vec.train(X_train_tagged, total_examples=model_doc2vec.corpus_count, epochs=model_doc2vec.epochs)"
      ],
      "metadata": {
        "id": "AXi1c0RkZ8iR"
      },
      "execution_count": 20,
      "outputs": []
    },
    {
      "cell_type": "code",
      "source": [
        "print(model_doc2vec.infer_vector(X_sw_test))"
      ],
      "metadata": {
        "colab": {
          "base_uri": "https://localhost:8080/"
        },
        "id": "RLGzGKoUaLis",
        "outputId": "45de5651-3467-430d-de75-a1ebebc1df5b"
      },
      "execution_count": 109,
      "outputs": [
        {
          "output_type": "stream",
          "name": "stdout",
          "text": [
            "[ 0.00553507 -0.02057612 -0.00601494  0.01590716  0.00477619 -0.00957217\n",
            " -0.01354616  0.01898067 -0.00717559  0.00853975  0.00150559 -0.01450056\n",
            " -0.00628278 -0.02179538 -0.01993607 -0.02084691  0.00312932 -0.0190215\n",
            " -0.00581192  0.01894295]\n"
          ]
        }
      ]
    },
    {
      "cell_type": "code",
      "source": [
        "#TEST THE MODEL ON X_sw_test\n",
        "\n",
        "test = model_doc2vec.infer_vector(X_sw_test)\n",
        "model_doc2vec.docvecs.most_similar(positive = [test])\n",
        "#positive = List of sentences that contribute positively.\n"
      ],
      "metadata": {
        "colab": {
          "base_uri": "https://localhost:8080/"
        },
        "id": "-Jk8EZ4JaZR5",
        "outputId": "982064a8-5552-44f6-9097-b2e94a3159d8"
      },
      "execution_count": 90,
      "outputs": [
        {
          "output_type": "execute_result",
          "data": {
            "text/plain": [
              "[(1607, 0.3674626350402832),\n",
              " (1454, 0.3508557975292206),\n",
              " (1876, 0.3459669351577759),\n",
              " (2316, 0.3180397152900696),\n",
              " (1868, 0.31006860733032227),\n",
              " (389, 0.3054264485836029),\n",
              " (1438, 0.28425800800323486),\n",
              " (1760, 0.272051066160202),\n",
              " (2109, 0.2675776481628418),\n",
              " (2054, 0.2670101821422577)]"
            ]
          },
          "metadata": {},
          "execution_count": 90
        }
      ]
    },
    {
      "cell_type": "markdown",
      "source": [
        "# buen codigo para doc2vec cosine similarity"
      ],
      "metadata": {
        "id": "_jKX0DCWDfYn"
      }
    },
    {
      "cell_type": "code",
      "source": [
        "# import\n",
        "from gensim.models.doc2vec import Doc2Vec, TaggedDocument\n",
        "q1_tag = [TaggedDocument(d, [i]) for i, d in enumerate(df_clean['q1'])]\n",
        "q2_tag = [TaggedDocument(d, [i]) for i, d in enumerate(df_clean['q2'])]\n",
        "#tagged_data"
      ],
      "metadata": {
        "id": "NQgOZXNGDg22"
      },
      "execution_count": 16,
      "outputs": []
    },
    {
      "cell_type": "code",
      "source": [
        "q1_model = Doc2Vec(q1_tag, vector_size = 20, window = 2, min_count = 1, epochs = 100)\n",
        "q2_model = Doc2Vec(q2_tag, vector_size = 20, window = 2, min_count = 1, epochs = 100)"
      ],
      "metadata": {
        "id": "86WLyp4t1FjV"
      },
      "execution_count": 17,
      "outputs": []
    },
    {
      "cell_type": "code",
      "source": [
        "q1_model[0]"
      ],
      "metadata": {
        "colab": {
          "base_uri": "https://localhost:8080/"
        },
        "id": "h9MRYcs_4ync",
        "outputId": "827214fa-d523-4fc4-a17c-7e15dfe089ea"
      },
      "execution_count": 31,
      "outputs": [
        {
          "output_type": "execute_result",
          "data": {
            "text/plain": [
              "array([ 0.5810266 ,  1.2083697 ,  0.9162264 , -0.0174998 , -0.15741944,\n",
              "       -1.4726185 , -0.62223524,  0.5812599 ,  0.7438206 , -0.04712546,\n",
              "       -0.8470433 ,  0.6188074 ,  0.6834843 ,  0.34443977, -0.66070366,\n",
              "        0.66500264,  0.1121475 , -0.8982408 ,  0.18651539, -0.18247873],\n",
              "      dtype=float32)"
            ]
          },
          "metadata": {},
          "execution_count": 31
        }
      ]
    },
    {
      "cell_type": "code",
      "source": [
        "# #cosine similarity - to finish \n",
        "# test_doc = word_tokenize(\"What is the step by step guide to invest\".lower())\n",
        "# test_doc_vector = model.infer_vector(test_doc)\n",
        "# model.docvecs.most_similar(positive = [test_doc_vector])\n"
      ],
      "metadata": {
        "colab": {
          "base_uri": "https://localhost:8080/"
        },
        "id": "Xs18YdDfG9sm",
        "outputId": "944f9527-f1a4-4f20-eebf-da6bfef775bc"
      },
      "execution_count": 76,
      "outputs": [
        {
          "output_type": "execute_result",
          "data": {
            "text/plain": [
              "[(1555, 0.7962811589241028),\n",
              " (2760, 0.7377956509590149),\n",
              " (1810, 0.7373658418655396),\n",
              " (2765, 0.7061798572540283),\n",
              " (2729, 0.6963450312614441),\n",
              " (1806, 0.688534677028656),\n",
              " (1839, 0.685553789138794),\n",
              " (2233, 0.6750451326370239),\n",
              " (1854, 0.6687722206115723),\n",
              " (2190, 0.6662200093269348)]"
            ]
          },
          "metadata": {},
          "execution_count": 76
        }
      ]
    },
    {
      "cell_type": "code",
      "source": [],
      "metadata": {
        "id": "QL5yZAACTNJ8"
      },
      "execution_count": null,
      "outputs": []
    },
    {
      "cell_type": "markdown",
      "source": [
        "buen codigo"
      ],
      "metadata": {
        "id": "Lk8YIWopTRfx"
      }
    },
    {
      "cell_type": "code",
      "source": [
        "from gensim.models.doc2vec import Doc2Vec, TaggedDocument\n",
        "q1_lemma = [TaggedDocument(d, [i]) for i, d in enumerate(df_lemma['q1'])]\n",
        "q2_lemma = [TaggedDocument(d, [i]) for i, d in enumerate(df_lemma['q2'])]\n"
      ],
      "metadata": {
        "id": "dSbOk1BAHycB"
      },
      "execution_count": 19,
      "outputs": []
    },
    {
      "cell_type": "code",
      "source": [
        "model = Doc2Vec(tagged_data_lemma, vector_size = 10, window = 2, min_count = 1, epochs = 100)\n",
        "model"
      ],
      "metadata": {
        "colab": {
          "base_uri": "https://localhost:8080/"
        },
        "id": "JwWuni6YKpG7",
        "outputId": "0131a50c-3377-41dd-d7c4-06f907aa1876"
      },
      "execution_count": 85,
      "outputs": [
        {
          "output_type": "execute_result",
          "data": {
            "text/plain": [
              "<gensim.models.doc2vec.Doc2Vec at 0x7f3fe79a1910>"
            ]
          },
          "metadata": {},
          "execution_count": 85
        }
      ]
    },
    {
      "cell_type": "code",
      "source": [
        "# test_doc = word_tokenize(\"What is the step by step guide to invest\".lower())\n",
        "# test_doc_vector = model.infer_vector(test_doc)\n",
        "# model.docvecs.most_similar(positive = [test_doc_vector])"
      ],
      "metadata": {
        "colab": {
          "base_uri": "https://localhost:8080/"
        },
        "id": "n-08F7PrLCCz",
        "outputId": "6304016b-6858-4dba-cd8d-a940a72d2a43"
      },
      "execution_count": 81,
      "outputs": [
        {
          "output_type": "execute_result",
          "data": {
            "text/plain": [
              "[(1854, 0.8070089221000671),\n",
              " (42, 0.7843912839889526),\n",
              " (958, 0.779266357421875),\n",
              " (1183, 0.7622733116149902),\n",
              " (1839, 0.7594348192214966),\n",
              " (2007, 0.7579702138900757),\n",
              " (2760, 0.7547283172607422),\n",
              " (909, 0.7446797490119934),\n",
              " (2765, 0.7345895767211914),\n",
              " (1835, 0.732286810874939)]"
            ]
          },
          "metadata": {},
          "execution_count": 81
        }
      ]
    },
    {
      "cell_type": "code",
      "source": [],
      "metadata": {
        "id": "9ItKPpcL4tsl"
      },
      "execution_count": null,
      "outputs": []
    },
    {
      "cell_type": "markdown",
      "source": [
        "#try svc"
      ],
      "metadata": {
        "id": "NEvRzCStIR3z"
      }
    },
    {
      "cell_type": "code",
      "source": [
        "y= df['0_right']\n",
        "X_train, X_test, y_train, y_test = train_test_split(df, y, stratify = y, test_size = 0.2, random_state = 0)"
      ],
      "metadata": {
        "id": "ri8gKtUPL1vf"
      },
      "execution_count": 86,
      "outputs": []
    },
    {
      "cell_type": "code",
      "source": [
        "from sklearn.ensemble import RandomForestClassifier\n",
        "from sklearn.datasets import make_classification\n",
        "#X, y = make_classification(random_state=0, shuffle=False)\n",
        "clf = RandomForestClassifier(max_depth=2, random_state=0)\n",
        "clf.fit(X_train, y_train)\n"
      ],
      "metadata": {
        "colab": {
          "base_uri": "https://localhost:8080/"
        },
        "id": "Y5BHAFQDMHwB",
        "outputId": "81763b0b-0183-4950-f8f6-6ec7635bba5b"
      },
      "execution_count": 90,
      "outputs": [
        {
          "output_type": "execute_result",
          "data": {
            "text/plain": [
              "RandomForestClassifier(max_depth=2, random_state=0)"
            ]
          },
          "metadata": {},
          "execution_count": 90
        }
      ]
    },
    {
      "cell_type": "code",
      "source": [
        "from sklearn.model_selection import ShuffleSplit"
      ],
      "metadata": {
        "id": "3z7vRVH3NY2o"
      },
      "execution_count": 38,
      "outputs": []
    },
    {
      "cell_type": "code",
      "source": [
        "from sklearn.ensemble import RandomForestClassifier\n",
        "from sklearn.experimental import enable_halving_search_cv  # noqa\n",
        "from sklearn.model_selection import HalvingGridSearchCV"
      ],
      "metadata": {
        "id": "yCZImk8qNjgJ"
      },
      "execution_count": 37,
      "outputs": []
    },
    {
      "cell_type": "code",
      "source": [
        "def rf_clf(X_train, X_test, y_train, y_test):\n",
        "    '''Parameter tuning for Random Forest Classifier and model fit'''\n",
        "    \n",
        "    splits = ShuffleSplit(n_splits = 1, test_size = .2, random_state = 0)\n",
        "    rf_param_grid = {'n_estimators':[200, 500, 800], 'min_samples_split':[5, 15], 'max_depth': [70, 150, None]}\n",
        "    rf_clf = RandomForestClassifier(random_state = 0)\n",
        "    \n",
        "    rf_bow_search = HalvingGridSearchCV(rf_clf, rf_param_grid, cv = splits, factor = 2, scoring = 'accuracy', \n",
        "                                        max_resources = 40, aggressive_elimination = True,verbose = 0)\n",
        "    rf_bow_search.fit(X_train, y_train)\n",
        "    \n",
        "    rf_bow_model = rf_bow_search.best_estimator_\n",
        "    \n",
        "    y_pred = rf_bow_model.predict(X_test)\n",
        "    \n",
        "    log_loss = metrics.log_loss(y_test, y_pred)\n",
        "    accuracy = metrics.accuracy_score(y_test, y_pred)\n",
        "    precision = metrics.precision_score(y_test, y_pred)\n",
        "    recall = metrics.recall_score(y_test, y_pred)\n",
        "    f1_score = metrics.f1_score(y_test, y_pred)\n",
        "    print (rf_bow_model)\n",
        "    #print('log loss', rf_loss_bow, '\\nacc', rf_acc_bow)\n",
        "    return accuracy, precision, recall, f1_score, log_loss, y_pred, rf_bow_model"
      ],
      "metadata": {
        "id": "eeWzYQJ7NEo4"
      },
      "execution_count": 91,
      "outputs": []
    },
    {
      "cell_type": "code",
      "source": [
        "acc_rf, precision_rf, recall_rf, f1_score_rf, log_loss_rf, y_pred_rf, berf  = rf_clf(X_train, X_test, y_train, y_test)"
      ],
      "metadata": {
        "colab": {
          "base_uri": "https://localhost:8080/"
        },
        "id": "k__5u6WrNHFo",
        "outputId": "816bf57d-74a7-4c08-db9e-c691fbf44b46"
      },
      "execution_count": 97,
      "outputs": [
        {
          "output_type": "stream",
          "name": "stdout",
          "text": [
            "RandomForestClassifier(min_samples_split=15, n_estimators=500, random_state=0)\n"
          ]
        }
      ]
    },
    {
      "cell_type": "code",
      "source": [
        "report_BoW_rf = classification_report(y_pred_rf, y_test)\n",
        "matrix_BoW_rf = confusion_matrix(y_pred_rf, y_test)\n",
        "print('Classification Report - RF\\n', report_BoW_rf)\n",
        "print()\n",
        "print('Confusion Matrix - RF\\n', matrix_BoW_rf)"
      ],
      "metadata": {
        "colab": {
          "base_uri": "https://localhost:8080/"
        },
        "id": "tfQMOsl5OEDC",
        "outputId": "11465cc9-f109-4a11-cc88-eebd0c0cdbc3"
      },
      "execution_count": 98,
      "outputs": [
        {
          "output_type": "stream",
          "name": "stdout",
          "text": [
            "Classification Report - RF\n",
            "               precision    recall  f1-score   support\n",
            "\n",
            "           0       1.00      1.00      1.00       381\n",
            "           1       1.00      1.00      1.00       219\n",
            "\n",
            "    accuracy                           1.00       600\n",
            "   macro avg       1.00      1.00      1.00       600\n",
            "weighted avg       1.00      1.00      1.00       600\n",
            "\n",
            "\n",
            "Confusion Matrix - RF\n",
            " [[381   0]\n",
            " [  0 219]]\n"
          ]
        }
      ]
    },
    {
      "cell_type": "markdown",
      "source": [
        "#Doc2Vec - Lemmatized"
      ],
      "metadata": {
        "id": "n6ZwQqX4M5C_"
      }
    },
    {
      "cell_type": "code",
      "source": [
        "from gensim.models.doc2vec import Doc2Vec, TaggedDocument\n",
        "q1_lemma = [TaggedDocument(d, [i]) for i, d in enumerate(df_lemma['q1'])]\n",
        "q2_lemma = [TaggedDocument(d, [i]) for i, d in enumerate(df_lemma['q2'])]"
      ],
      "metadata": {
        "id": "-iTK-kxDM7VR"
      },
      "execution_count": 93,
      "outputs": []
    },
    {
      "cell_type": "code",
      "source": [
        "#Model for question 1 and question 2 separately\n",
        "q1_model_one = Doc2Vec(q1_lemma, dm = 0, vector_size = 10, window = 2, min_count = 1, epochs = 20)\n",
        "q2_model_one = Doc2Vec(q2_lemma, dm = 0, vector_size = 10, window = 2, min_count = 1, epochs = 20)"
      ],
      "metadata": {
        "colab": {
          "base_uri": "https://localhost:8080/"
        },
        "id": "xG7xwPSsNN0x",
        "outputId": "d6fce737-8bf2-4858-b62f-3ad1b910b2b9"
      },
      "execution_count": 94,
      "outputs": [
        {
          "output_type": "stream",
          "name": "stderr",
          "text": [
            "WARNING:gensim.models.base_any2vec:consider setting layer size to a multiple of 4 for greater performance\n",
            "WARNING:gensim.models.base_any2vec:consider setting layer size to a multiple of 4 for greater performance\n"
          ]
        }
      ]
    },
    {
      "cell_type": "code",
      "source": [
        "q1_arr = q1_model_one[0] \n",
        "\n",
        "for i in range(2999):\n",
        "  arrT = q1_model_one[i+1]\n",
        "  q1_arr = np.vstack([q1_arr, arrT])\n",
        "\n",
        "print(q1_arr)\n",
        "\n",
        "q2_arr = q2_model_one[0] \n",
        "\n",
        "for i in range(2999):\n",
        "  arrT = q2_model_one[i+1]\n",
        "  q2_arr = np.vstack([q2_arr, arrT])\n",
        "\n",
        "print(q2_arr)"
      ],
      "metadata": {
        "colab": {
          "base_uri": "https://localhost:8080/"
        },
        "id": "lOyaJM91POkp",
        "outputId": "20b2c2b6-2a2f-459a-edee-81ee6c1c0c0d"
      },
      "execution_count": 95,
      "outputs": [
        {
          "output_type": "stream",
          "name": "stdout",
          "text": [
            "[[ 0.10032979 -0.55578184 -0.06625117 ... -0.25241283 -0.05939401\n",
            "  -0.7159061 ]\n",
            " [ 0.08974945 -0.5286851   0.02084151 ... -0.23568097  0.07601853\n",
            "  -0.5445449 ]\n",
            " [ 0.06887603 -0.23924154 -0.04770829 ... -0.09055078  0.01026634\n",
            "  -0.31425464]\n",
            " ...\n",
            " [ 0.06162458 -0.4878645  -0.11002222 ... -0.18940294  0.00814996\n",
            "  -0.5836134 ]\n",
            " [ 0.05525352 -0.34166166 -0.06969745 ... -0.15237166  0.0567542\n",
            "  -0.48107553]\n",
            " [ 0.10098049 -0.33037513 -0.0701501  ... -0.11666341 -0.00074098\n",
            "  -0.4287096 ]]\n",
            "[[-0.07451188 -0.24052733 -0.02674165 ... -0.16225918  0.06101755\n",
            "  -0.6091608 ]\n",
            " [-0.06616969 -0.26921144  0.06970199 ... -0.1462597   0.14958256\n",
            "  -0.40313926]\n",
            " [-0.02195901 -0.16725123 -0.00397086 ... -0.11239309  0.14229198\n",
            "  -0.42865592]\n",
            " ...\n",
            " [-0.05998328 -0.29216203  0.04668297 ... -0.14245567  0.14026663\n",
            "  -0.5836935 ]\n",
            " [-0.09857899 -0.2456381   0.01048574 ... -0.11982813  0.1782285\n",
            "  -0.6047648 ]\n",
            " [ 0.00367951 -0.30113846  0.04034358 ... -0.07426413  0.09873463\n",
            "  -0.6346708 ]]\n"
          ]
        }
      ]
    },
    {
      "cell_type": "code",
      "source": [
        "q1_df_model1 = pd.DataFrame(q1_arr)\n",
        "q2_df_model1 = pd.DataFrame(q2_arr)\n",
        "X_model1 = pd.concat([q1_df_model1, q2_df_model1], axis=1)\n",
        "y = df['is_duplicate']\n",
        "y = np.array(y)\n",
        "y_df = pd.DataFrame(y)\n",
        "y_df.shape\n",
        "df_model1 = X_model1.join(y_df, lsuffix='_left', rsuffix='_right')\n",
        "df_model1.shape"
      ],
      "metadata": {
        "colab": {
          "base_uri": "https://localhost:8080/"
        },
        "id": "tKVxevmhROoq",
        "outputId": "32088962-12b6-4f24-d0a5-c96fcf9166b2"
      },
      "execution_count": 96,
      "outputs": [
        {
          "output_type": "execute_result",
          "data": {
            "text/plain": [
              "(3000, 21)"
            ]
          },
          "metadata": {},
          "execution_count": 96
        }
      ]
    },
    {
      "cell_type": "code",
      "source": [
        "y= df_model1['0_right']\n",
        "X_train, X_test, y_train, y_test = train_test_split(df_model1, y, stratify = y, test_size = 0.3, random_state = 42)"
      ],
      "metadata": {
        "id": "wUTsfHf2SP0Y"
      },
      "execution_count": 98,
      "outputs": []
    },
    {
      "cell_type": "code",
      "source": [],
      "metadata": {
        "id": "tSRNatVJh9Gb"
      },
      "execution_count": null,
      "outputs": []
    },
    {
      "cell_type": "markdown",
      "source": [
        "#RandomForest"
      ],
      "metadata": {
        "id": "lEY6ocnuh9ej"
      }
    },
    {
      "cell_type": "code",
      "source": [
        "def rf_clf(X_train, X_test, y_train, y_test):\n",
        "    '''Parameter tuning for Random Forest Classifier and model fit'''\n",
        "    \n",
        "    splits = ShuffleSplit(n_splits = 1, test_size = .3, random_state = 42)\n",
        "    rf_param_grid = {'n_estimators':[20, 50, 80], 'min_samples_split':[3, 13], 'max_depth': [10, 30, None]}\n",
        "    rf_clf = RandomForestClassifier(random_state = 42)\n",
        "    \n",
        "    rf_search = HalvingGridSearchCV(rf_clf, rf_param_grid, cv = splits, factor = 2, scoring = 'accuracy', \n",
        "                                        max_resources = 5, aggressive_elimination = False, verbose = 0)\n",
        "    rf_search.fit(X_train, y_train)\n",
        "    \n",
        "    rf_model = rf_search.best_estimator_\n",
        "    \n",
        "    y_pred = rf_model.predict(X_test)\n",
        "    \n",
        "    log_loss = metrics.log_loss(y_test, y_pred)\n",
        "    accuracy = metrics.accuracy_score(y_test, y_pred)\n",
        "    precision = metrics.precision_score(y_test, y_pred)\n",
        "    recall = metrics.recall_score(y_test, y_pred)\n",
        "    f1_score = metrics.f1_score(y_test, y_pred)\n",
        "    print (rf_model)\n",
        "    return accuracy, precision, recall, f1_score, log_loss, y_pred, rf_model"
      ],
      "metadata": {
        "id": "tgQ-rAiESm9p"
      },
      "execution_count": 104,
      "outputs": []
    },
    {
      "cell_type": "code",
      "source": [
        "acc_rf, precision_rf, recall_rf, f1_score_rf, log_loss_rf, y_pred, berf  = rf_clf(X_train, X_test, y_train, y_test)"
      ],
      "metadata": {
        "colab": {
          "base_uri": "https://localhost:8080/"
        },
        "id": "nD_U0Q6MUtQJ",
        "outputId": "ff1a4d50-01b2-45d6-cebe-a0b90819419e"
      },
      "execution_count": 105,
      "outputs": [
        {
          "output_type": "stream",
          "name": "stdout",
          "text": [
            "RandomForestClassifier(max_depth=10, min_samples_split=3, n_estimators=20,\n",
            "                       random_state=42)\n"
          ]
        }
      ]
    },
    {
      "cell_type": "code",
      "source": [
        "report_rf = classification_report(y_pred, y_test)\n",
        "matrix_rf = confusion_matrix(y_pred, y_test)\n",
        "print('Classification Report - RF\\n', report_rf)\n",
        "print()\n",
        "print('Confusion Matrix - RF\\n', matrix_rf)"
      ],
      "metadata": {
        "colab": {
          "base_uri": "https://localhost:8080/"
        },
        "id": "nfcG9h1AU2mF",
        "outputId": "e32270ab-cf8d-4ab6-ff4b-5a9710fb2181"
      },
      "execution_count": 106,
      "outputs": [
        {
          "output_type": "stream",
          "name": "stdout",
          "text": [
            "Classification Report - RF\n",
            "               precision    recall  f1-score   support\n",
            "\n",
            "           0       1.00      1.00      1.00       575\n",
            "           1       1.00      1.00      1.00       325\n",
            "\n",
            "    accuracy                           1.00       900\n",
            "   macro avg       1.00      1.00      1.00       900\n",
            "weighted avg       1.00      1.00      1.00       900\n",
            "\n",
            "\n",
            "Confusion Matrix - RF\n",
            " [[575   0]\n",
            " [  0 325]]\n"
          ]
        }
      ]
    },
    {
      "cell_type": "code",
      "source": [],
      "metadata": {
        "id": "f49bvHuCZ9fv"
      },
      "execution_count": null,
      "outputs": []
    },
    {
      "cell_type": "markdown",
      "source": [
        "# Logistic Regression Lemmatized"
      ],
      "metadata": {
        "id": "QjZeA0S4eTNl"
      }
    },
    {
      "cell_type": "code",
      "source": [
        "def lr_clf(X_train, X_test, y_train, y_test):\n",
        "    '''Parameter tuning for Logistic Regression Classifier and model fit'''\n",
        "    \n",
        "    splits = ShuffleSplit(n_splits = 1, test_size = .2, random_state = 0)\n",
        "    lr_param_grid = {'C':[100, 10, 1.0, 0.1, 0.01], 'solver':['sag', 'lbfgs']}\n",
        "    lr_clf = LogisticRegression(penalty = 'l2', random_state = 0)\n",
        "   \n",
        "    lr_d2v_search = HalvingGridSearchCV(lr_clf, lr_param_grid, cv = splits, factor = 2, scoring = 'accuracy', verbose = 0)\n",
        "    lr_d2v_search.fit(X_train, y_train)\n",
        "    \n",
        "    lr_d2v_model = lr_d2v_search.best_estimator_\n",
        "    y_pred_lr_d2v = lr_d2v_model.predict(X_test)\n",
        "    lr_loss_d2v = metrics.log_loss(y_test, y_pred_lr_d2v)\n",
        "    lr_acc_d2v = metrics.accuracy_score(y_test, y_pred_lr_d2v)\n",
        "    print (lr_d2v_model)\n",
        "    print('log loss', lr_loss_d2v, '\\nacc', lr_acc_d2v)\n",
        "    return lr_acc_d2v, lr_loss_d2v, y_pred_lr_d2v   "
      ],
      "metadata": {
        "id": "8hEvjd9teWUq"
      },
      "execution_count": 84,
      "outputs": []
    },
    {
      "cell_type": "code",
      "source": [
        "lr_acc_d2v, lr_loss_d2v, y_pred_lr_d2v = lr_clf(X_train, X_test, y_train, y_test)"
      ],
      "metadata": {
        "colab": {
          "base_uri": "https://localhost:8080/"
        },
        "id": "HlJkfWzvewRi",
        "outputId": "91ff42a1-4305-44fe-d60a-ccdee0ab0a31"
      },
      "execution_count": 85,
      "outputs": [
        {
          "output_type": "stream",
          "name": "stdout",
          "text": [
            "LogisticRegression(C=0.1, random_state=0, solver='sag')\n",
            "log loss 9.992007221626413e-16 \n",
            "acc 1.0\n"
          ]
        }
      ]
    },
    {
      "cell_type": "markdown",
      "source": [
        "# SCV"
      ],
      "metadata": {
        "id": "3x9Aauowjs4V"
      }
    },
    {
      "cell_type": "code",
      "source": [
        "from sklearn.svm import SVC\n",
        "\n",
        "clf_svc = SVC(C=1.0, kernel='rbf', degree=3, gamma='scale', coef0=0.0, shrinking=True, probability=False, tol=0.001, cache_size=200\n",
        "              , class_weight=None, verbose=False, max_iter=-1, decision_function_shape='ovr', break_ties=False, random_state=None)\n",
        "\n",
        "\n",
        "clf_svc.fit(X_train, y_train)\n",
        "\n",
        "y_pred = clf_svc.predict(X_test)\n",
        "#y_pred"
      ],
      "metadata": {
        "id": "UItlnyz7juPJ"
      },
      "execution_count": 111,
      "outputs": []
    },
    {
      "cell_type": "code",
      "source": [
        "log_loss = metrics.log_loss(y_test, y_pred)\n",
        "accuracy = metrics.accuracy_score(y_test, y_pred)\n",
        "precision = metrics.precision_score(y_test, y_pred)\n",
        "recall = metrics.recall_score(y_test, y_pred)\n",
        "f1_score = metrics.f1_score(y_test, y_pred)\n"
      ],
      "metadata": {
        "id": "C3-L8oOLkkAh"
      },
      "execution_count": 112,
      "outputs": []
    },
    {
      "cell_type": "code",
      "source": [
        "print(log_loss)\n",
        "print(accuracy)\n",
        "print(precision)\n",
        "print(f1_score)"
      ],
      "metadata": {
        "colab": {
          "base_uri": "https://localhost:8080/"
        },
        "id": "DO4Gnzkhkumc",
        "outputId": "90318738-ad42-4c48-aed4-4b3e7d6f9b15"
      },
      "execution_count": 113,
      "outputs": [
        {
          "output_type": "stream",
          "name": "stdout",
          "text": [
            "9.992007221626413e-16\n",
            "1.0\n",
            "1.0\n",
            "1.0\n"
          ]
        }
      ]
    }
  ]
}
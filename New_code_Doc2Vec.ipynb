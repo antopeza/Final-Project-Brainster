{
  "nbformat": 4,
  "nbformat_minor": 0,
  "metadata": {
    "colab": {
      "provenance": [],
      "collapsed_sections": [
        "3KGLlVi8l0Vg",
        "_jKX0DCWDfYn"
      ],
      "authorship_tag": "ABX9TyOcsZwo2X2M4i/WO+kvgyQ6",
      "include_colab_link": true
    },
    "kernelspec": {
      "name": "python3",
      "display_name": "Python 3"
    },
    "language_info": {
      "name": "python"
    }
  },
  "cells": [
    {
      "cell_type": "markdown",
      "metadata": {
        "id": "view-in-github",
        "colab_type": "text"
      },
      "source": [
        "<a href=\"https://colab.research.google.com/github/antopeza/Final-Project-Brainster/blob/main/New_code_Doc2Vec.ipynb\" target=\"_parent\"><img src=\"https://colab.research.google.com/assets/colab-badge.svg\" alt=\"Open In Colab\"/></a>"
      ]
    },
    {
      "cell_type": "code",
      "execution_count": 2,
      "metadata": {
        "id": "e-KBkFqJDgmY"
      },
      "outputs": [],
      "source": [
        "import pandas as pd\n",
        "import numpy as np\n",
        "from numpy import random\n",
        "from numpy import vstack\n",
        "import matplotlib.pyplot as plt\n",
        "import os \n",
        "\n",
        "import re\n",
        "\n",
        "import string\n",
        "from string import punctuation\n",
        "\n",
        "from sklearn.model_selection import ShuffleSplit\n",
        "from sklearn.ensemble import RandomForestClassifier\n",
        "from sklearn.experimental import enable_halving_search_cv \n",
        "from sklearn.model_selection import HalvingGridSearchCV\n",
        "\n",
        "from sklearn.model_selection import train_test_split, GridSearchCV\n",
        "from sklearn.pipeline import Pipeline\n",
        "from sklearn.feature_extraction.text import CountVectorizer, TfidfVectorizer\n",
        "from sklearn.linear_model import LogisticRegression\n",
        "from sklearn import svm\n",
        "from sklearn.svm import SVC\n",
        "from sklearn.svm import LinearSVC\n",
        "import sklearn.metrics as metrics\n",
        "from sklearn.metrics import classification_report, confusion_matrix, accuracy_score\n",
        "\n",
        "import xgboost as xgb\n",
        "\n",
        "import nltk\n",
        "from nltk.stem import WordNetLemmatizer, PorterStemmer, LancasterStemmer\n",
        "from nltk.corpus import wordnet, stopwords\n",
        "from nltk import pos_tag, word_tokenize\n",
        "\n",
        "import gensim\n",
        "from gensim.parsing.preprocessing import remove_stopwords\n",
        "\n",
        "from keras.preprocessing.text import Tokenizer\n",
        "from keras_preprocessing.sequence import pad_sequences\n",
        "from keras.models import Model, Sequential, load_model\n",
        "from keras.layers import Input, Embedding, LSTM, Dense\n",
        "from keras.callbacks import ModelCheckpoint, EarlyStopping\n",
        "\n",
        "from imblearn.over_sampling import SMOTE\n",
        "from collections import Counter\n",
        "\n",
        "#from scikeras.wrappers import KerasClassifier\n",
        "\n",
        "import pickle\n",
        "from pickle import dump\n",
        "from pickle import load\n",
        "\n",
        "from imblearn.over_sampling import SMOTE\n",
        "from collections import Counter\n",
        "\n",
        "%matplotlib inline\n",
        "import warnings\n",
        "warnings.filterwarnings('ignore')"
      ]
    },
    {
      "cell_type": "code",
      "source": [
        "from google.colab import drive \n",
        "drive.mount('/drive')"
      ],
      "metadata": {
        "colab": {
          "base_uri": "https://localhost:8080/"
        },
        "id": "UBbY-W7bD2F6",
        "outputId": "258e63dd-9c27-4587-af35-9697fda125ac"
      },
      "execution_count": 3,
      "outputs": [
        {
          "output_type": "stream",
          "name": "stdout",
          "text": [
            "Mounted at /drive\n"
          ]
        }
      ]
    },
    {
      "cell_type": "code",
      "source": [
        "nltk.download(\"punkt\")\n",
        "nltk.download(\"stopwords\")\n",
        "nltk.download(\"wordnet\")\n",
        "nltk.download(\"averaged_perceptron_tagger\")\n",
        "nltk.download('omw-1.4')"
      ],
      "metadata": {
        "colab": {
          "base_uri": "https://localhost:8080/"
        },
        "id": "ok8svMpmDmG9",
        "outputId": "de0035a2-459d-4b47-c376-9cc3e4993457"
      },
      "execution_count": 4,
      "outputs": [
        {
          "output_type": "stream",
          "name": "stderr",
          "text": [
            "[nltk_data] Downloading package punkt to /root/nltk_data...\n",
            "[nltk_data]   Unzipping tokenizers/punkt.zip.\n",
            "[nltk_data] Downloading package stopwords to /root/nltk_data...\n",
            "[nltk_data]   Unzipping corpora/stopwords.zip.\n",
            "[nltk_data] Downloading package wordnet to /root/nltk_data...\n",
            "[nltk_data] Downloading package averaged_perceptron_tagger to\n",
            "[nltk_data]     /root/nltk_data...\n",
            "[nltk_data]   Unzipping taggers/averaged_perceptron_tagger.zip.\n",
            "[nltk_data] Downloading package omw-1.4 to /root/nltk_data...\n"
          ]
        },
        {
          "output_type": "execute_result",
          "data": {
            "text/plain": [
              "True"
            ]
          },
          "metadata": {},
          "execution_count": 4
        }
      ]
    },
    {
      "cell_type": "code",
      "source": [
        "stops = set(stopwords.words('english'))\n",
        "#print(stops)"
      ],
      "metadata": {
        "id": "eihupDCWDobb"
      },
      "execution_count": 5,
      "outputs": []
    },
    {
      "cell_type": "code",
      "source": [
        "stemmer =  PorterStemmer()\n",
        "lemmer = WordNetLemmatizer()"
      ],
      "metadata": {
        "id": "zkLm5h4mDqlo"
      },
      "execution_count": 6,
      "outputs": []
    },
    {
      "cell_type": "code",
      "source": [
        "#df_raw = pd.read_csv(path)\n",
        "df_raw = pd.read_csv('/drive/My Drive/MACHINE LEARNING/FINAL PROJECT/train.csv')"
      ],
      "metadata": {
        "id": "GVt98k6CDuZo"
      },
      "execution_count": 7,
      "outputs": []
    },
    {
      "cell_type": "code",
      "source": [
        "print('shape of df  = ', df_raw.shape)\n",
        "print()\n",
        "df_raw.head(2)"
      ],
      "metadata": {
        "colab": {
          "base_uri": "https://localhost:8080/",
          "height": 148
        },
        "id": "yT4ICsPwDw65",
        "outputId": "72d3cec1-ccc9-445f-de82-a2b9e00bc2b8"
      },
      "execution_count": null,
      "outputs": [
        {
          "output_type": "stream",
          "name": "stdout",
          "text": [
            "shape of df  =  (404290, 6)\n",
            "\n"
          ]
        },
        {
          "output_type": "execute_result",
          "data": {
            "text/plain": [
              "   id  qid1  qid2                                          question1  \\\n",
              "0   0     1     2  What is the step by step guide to invest in sh...   \n",
              "1   1     3     4  What is the story of Kohinoor (Koh-i-Noor) Dia...   \n",
              "\n",
              "                                           question2  is_duplicate  \n",
              "0  What is the step by step guide to invest in sh...             0  \n",
              "1  What would happen if the Indian government sto...             0  "
            ],
            "text/html": [
              "\n",
              "  <div id=\"df-c25eeffe-6177-4daf-a8cc-8ea6b30cc751\">\n",
              "    <div class=\"colab-df-container\">\n",
              "      <div>\n",
              "<style scoped>\n",
              "    .dataframe tbody tr th:only-of-type {\n",
              "        vertical-align: middle;\n",
              "    }\n",
              "\n",
              "    .dataframe tbody tr th {\n",
              "        vertical-align: top;\n",
              "    }\n",
              "\n",
              "    .dataframe thead th {\n",
              "        text-align: right;\n",
              "    }\n",
              "</style>\n",
              "<table border=\"1\" class=\"dataframe\">\n",
              "  <thead>\n",
              "    <tr style=\"text-align: right;\">\n",
              "      <th></th>\n",
              "      <th>id</th>\n",
              "      <th>qid1</th>\n",
              "      <th>qid2</th>\n",
              "      <th>question1</th>\n",
              "      <th>question2</th>\n",
              "      <th>is_duplicate</th>\n",
              "    </tr>\n",
              "  </thead>\n",
              "  <tbody>\n",
              "    <tr>\n",
              "      <th>0</th>\n",
              "      <td>0</td>\n",
              "      <td>1</td>\n",
              "      <td>2</td>\n",
              "      <td>What is the step by step guide to invest in sh...</td>\n",
              "      <td>What is the step by step guide to invest in sh...</td>\n",
              "      <td>0</td>\n",
              "    </tr>\n",
              "    <tr>\n",
              "      <th>1</th>\n",
              "      <td>1</td>\n",
              "      <td>3</td>\n",
              "      <td>4</td>\n",
              "      <td>What is the story of Kohinoor (Koh-i-Noor) Dia...</td>\n",
              "      <td>What would happen if the Indian government sto...</td>\n",
              "      <td>0</td>\n",
              "    </tr>\n",
              "  </tbody>\n",
              "</table>\n",
              "</div>\n",
              "      <button class=\"colab-df-convert\" onclick=\"convertToInteractive('df-c25eeffe-6177-4daf-a8cc-8ea6b30cc751')\"\n",
              "              title=\"Convert this dataframe to an interactive table.\"\n",
              "              style=\"display:none;\">\n",
              "        \n",
              "  <svg xmlns=\"http://www.w3.org/2000/svg\" height=\"24px\"viewBox=\"0 0 24 24\"\n",
              "       width=\"24px\">\n",
              "    <path d=\"M0 0h24v24H0V0z\" fill=\"none\"/>\n",
              "    <path d=\"M18.56 5.44l.94 2.06.94-2.06 2.06-.94-2.06-.94-.94-2.06-.94 2.06-2.06.94zm-11 1L8.5 8.5l.94-2.06 2.06-.94-2.06-.94L8.5 2.5l-.94 2.06-2.06.94zm10 10l.94 2.06.94-2.06 2.06-.94-2.06-.94-.94-2.06-.94 2.06-2.06.94z\"/><path d=\"M17.41 7.96l-1.37-1.37c-.4-.4-.92-.59-1.43-.59-.52 0-1.04.2-1.43.59L10.3 9.45l-7.72 7.72c-.78.78-.78 2.05 0 2.83L4 21.41c.39.39.9.59 1.41.59.51 0 1.02-.2 1.41-.59l7.78-7.78 2.81-2.81c.8-.78.8-2.07 0-2.86zM5.41 20L4 18.59l7.72-7.72 1.47 1.35L5.41 20z\"/>\n",
              "  </svg>\n",
              "      </button>\n",
              "      \n",
              "  <style>\n",
              "    .colab-df-container {\n",
              "      display:flex;\n",
              "      flex-wrap:wrap;\n",
              "      gap: 12px;\n",
              "    }\n",
              "\n",
              "    .colab-df-convert {\n",
              "      background-color: #E8F0FE;\n",
              "      border: none;\n",
              "      border-radius: 50%;\n",
              "      cursor: pointer;\n",
              "      display: none;\n",
              "      fill: #1967D2;\n",
              "      height: 32px;\n",
              "      padding: 0 0 0 0;\n",
              "      width: 32px;\n",
              "    }\n",
              "\n",
              "    .colab-df-convert:hover {\n",
              "      background-color: #E2EBFA;\n",
              "      box-shadow: 0px 1px 2px rgba(60, 64, 67, 0.3), 0px 1px 3px 1px rgba(60, 64, 67, 0.15);\n",
              "      fill: #174EA6;\n",
              "    }\n",
              "\n",
              "    [theme=dark] .colab-df-convert {\n",
              "      background-color: #3B4455;\n",
              "      fill: #D2E3FC;\n",
              "    }\n",
              "\n",
              "    [theme=dark] .colab-df-convert:hover {\n",
              "      background-color: #434B5C;\n",
              "      box-shadow: 0px 1px 3px 1px rgba(0, 0, 0, 0.15);\n",
              "      filter: drop-shadow(0px 1px 2px rgba(0, 0, 0, 0.3));\n",
              "      fill: #FFFFFF;\n",
              "    }\n",
              "  </style>\n",
              "\n",
              "      <script>\n",
              "        const buttonEl =\n",
              "          document.querySelector('#df-c25eeffe-6177-4daf-a8cc-8ea6b30cc751 button.colab-df-convert');\n",
              "        buttonEl.style.display =\n",
              "          google.colab.kernel.accessAllowed ? 'block' : 'none';\n",
              "\n",
              "        async function convertToInteractive(key) {\n",
              "          const element = document.querySelector('#df-c25eeffe-6177-4daf-a8cc-8ea6b30cc751');\n",
              "          const dataTable =\n",
              "            await google.colab.kernel.invokeFunction('convertToInteractive',\n",
              "                                                     [key], {});\n",
              "          if (!dataTable) return;\n",
              "\n",
              "          const docLinkHtml = 'Like what you see? Visit the ' +\n",
              "            '<a target=\"_blank\" href=https://colab.research.google.com/notebooks/data_table.ipynb>data table notebook</a>'\n",
              "            + ' to learn more about interactive tables.';\n",
              "          element.innerHTML = '';\n",
              "          dataTable['output_type'] = 'display_data';\n",
              "          await google.colab.output.renderOutput(dataTable, element);\n",
              "          const docLink = document.createElement('div');\n",
              "          docLink.innerHTML = docLinkHtml;\n",
              "          element.appendChild(docLink);\n",
              "        }\n",
              "      </script>\n",
              "    </div>\n",
              "  </div>\n",
              "  "
            ]
          },
          "metadata": {},
          "execution_count": 8
        }
      ]
    },
    {
      "cell_type": "code",
      "source": [
        "df_raw[df_raw.isnull().any(axis=1)]"
      ],
      "metadata": {
        "colab": {
          "base_uri": "https://localhost:8080/",
          "height": 143
        },
        "id": "nmzhM5GaD9su",
        "outputId": "c3e94bff-8b6e-487d-9be2-565308dd1ad8"
      },
      "execution_count": null,
      "outputs": [
        {
          "output_type": "execute_result",
          "data": {
            "text/plain": [
              "            id    qid1    qid2                         question1  \\\n",
              "105780  105780  174363  174364    How can I develop android app?   \n",
              "201841  201841  303951  174364  How can I create an Android app?   \n",
              "363362  363362  493340  493341                               NaN   \n",
              "\n",
              "                                                question2  is_duplicate  \n",
              "105780                                                NaN             0  \n",
              "201841                                                NaN             0  \n",
              "363362  My Chinese name is Haichao Yu. What English na...             0  "
            ],
            "text/html": [
              "\n",
              "  <div id=\"df-fa75a78e-c84b-4341-91c8-7849db624abb\">\n",
              "    <div class=\"colab-df-container\">\n",
              "      <div>\n",
              "<style scoped>\n",
              "    .dataframe tbody tr th:only-of-type {\n",
              "        vertical-align: middle;\n",
              "    }\n",
              "\n",
              "    .dataframe tbody tr th {\n",
              "        vertical-align: top;\n",
              "    }\n",
              "\n",
              "    .dataframe thead th {\n",
              "        text-align: right;\n",
              "    }\n",
              "</style>\n",
              "<table border=\"1\" class=\"dataframe\">\n",
              "  <thead>\n",
              "    <tr style=\"text-align: right;\">\n",
              "      <th></th>\n",
              "      <th>id</th>\n",
              "      <th>qid1</th>\n",
              "      <th>qid2</th>\n",
              "      <th>question1</th>\n",
              "      <th>question2</th>\n",
              "      <th>is_duplicate</th>\n",
              "    </tr>\n",
              "  </thead>\n",
              "  <tbody>\n",
              "    <tr>\n",
              "      <th>105780</th>\n",
              "      <td>105780</td>\n",
              "      <td>174363</td>\n",
              "      <td>174364</td>\n",
              "      <td>How can I develop android app?</td>\n",
              "      <td>NaN</td>\n",
              "      <td>0</td>\n",
              "    </tr>\n",
              "    <tr>\n",
              "      <th>201841</th>\n",
              "      <td>201841</td>\n",
              "      <td>303951</td>\n",
              "      <td>174364</td>\n",
              "      <td>How can I create an Android app?</td>\n",
              "      <td>NaN</td>\n",
              "      <td>0</td>\n",
              "    </tr>\n",
              "    <tr>\n",
              "      <th>363362</th>\n",
              "      <td>363362</td>\n",
              "      <td>493340</td>\n",
              "      <td>493341</td>\n",
              "      <td>NaN</td>\n",
              "      <td>My Chinese name is Haichao Yu. What English na...</td>\n",
              "      <td>0</td>\n",
              "    </tr>\n",
              "  </tbody>\n",
              "</table>\n",
              "</div>\n",
              "      <button class=\"colab-df-convert\" onclick=\"convertToInteractive('df-fa75a78e-c84b-4341-91c8-7849db624abb')\"\n",
              "              title=\"Convert this dataframe to an interactive table.\"\n",
              "              style=\"display:none;\">\n",
              "        \n",
              "  <svg xmlns=\"http://www.w3.org/2000/svg\" height=\"24px\"viewBox=\"0 0 24 24\"\n",
              "       width=\"24px\">\n",
              "    <path d=\"M0 0h24v24H0V0z\" fill=\"none\"/>\n",
              "    <path d=\"M18.56 5.44l.94 2.06.94-2.06 2.06-.94-2.06-.94-.94-2.06-.94 2.06-2.06.94zm-11 1L8.5 8.5l.94-2.06 2.06-.94-2.06-.94L8.5 2.5l-.94 2.06-2.06.94zm10 10l.94 2.06.94-2.06 2.06-.94-2.06-.94-.94-2.06-.94 2.06-2.06.94z\"/><path d=\"M17.41 7.96l-1.37-1.37c-.4-.4-.92-.59-1.43-.59-.52 0-1.04.2-1.43.59L10.3 9.45l-7.72 7.72c-.78.78-.78 2.05 0 2.83L4 21.41c.39.39.9.59 1.41.59.51 0 1.02-.2 1.41-.59l7.78-7.78 2.81-2.81c.8-.78.8-2.07 0-2.86zM5.41 20L4 18.59l7.72-7.72 1.47 1.35L5.41 20z\"/>\n",
              "  </svg>\n",
              "      </button>\n",
              "      \n",
              "  <style>\n",
              "    .colab-df-container {\n",
              "      display:flex;\n",
              "      flex-wrap:wrap;\n",
              "      gap: 12px;\n",
              "    }\n",
              "\n",
              "    .colab-df-convert {\n",
              "      background-color: #E8F0FE;\n",
              "      border: none;\n",
              "      border-radius: 50%;\n",
              "      cursor: pointer;\n",
              "      display: none;\n",
              "      fill: #1967D2;\n",
              "      height: 32px;\n",
              "      padding: 0 0 0 0;\n",
              "      width: 32px;\n",
              "    }\n",
              "\n",
              "    .colab-df-convert:hover {\n",
              "      background-color: #E2EBFA;\n",
              "      box-shadow: 0px 1px 2px rgba(60, 64, 67, 0.3), 0px 1px 3px 1px rgba(60, 64, 67, 0.15);\n",
              "      fill: #174EA6;\n",
              "    }\n",
              "\n",
              "    [theme=dark] .colab-df-convert {\n",
              "      background-color: #3B4455;\n",
              "      fill: #D2E3FC;\n",
              "    }\n",
              "\n",
              "    [theme=dark] .colab-df-convert:hover {\n",
              "      background-color: #434B5C;\n",
              "      box-shadow: 0px 1px 3px 1px rgba(0, 0, 0, 0.15);\n",
              "      filter: drop-shadow(0px 1px 2px rgba(0, 0, 0, 0.3));\n",
              "      fill: #FFFFFF;\n",
              "    }\n",
              "  </style>\n",
              "\n",
              "      <script>\n",
              "        const buttonEl =\n",
              "          document.querySelector('#df-fa75a78e-c84b-4341-91c8-7849db624abb button.colab-df-convert');\n",
              "        buttonEl.style.display =\n",
              "          google.colab.kernel.accessAllowed ? 'block' : 'none';\n",
              "\n",
              "        async function convertToInteractive(key) {\n",
              "          const element = document.querySelector('#df-fa75a78e-c84b-4341-91c8-7849db624abb');\n",
              "          const dataTable =\n",
              "            await google.colab.kernel.invokeFunction('convertToInteractive',\n",
              "                                                     [key], {});\n",
              "          if (!dataTable) return;\n",
              "\n",
              "          const docLinkHtml = 'Like what you see? Visit the ' +\n",
              "            '<a target=\"_blank\" href=https://colab.research.google.com/notebooks/data_table.ipynb>data table notebook</a>'\n",
              "            + ' to learn more about interactive tables.';\n",
              "          element.innerHTML = '';\n",
              "          dataTable['output_type'] = 'display_data';\n",
              "          await google.colab.output.renderOutput(dataTable, element);\n",
              "          const docLink = document.createElement('div');\n",
              "          docLink.innerHTML = docLinkHtml;\n",
              "          element.appendChild(docLink);\n",
              "        }\n",
              "      </script>\n",
              "    </div>\n",
              "  </div>\n",
              "  "
            ]
          },
          "metadata": {},
          "execution_count": 8
        }
      ]
    },
    {
      "cell_type": "code",
      "source": [
        "df_raw = df_raw.fillna(\"\")\n",
        "df_raw.isnull().sum()"
      ],
      "metadata": {
        "colab": {
          "base_uri": "https://localhost:8080/"
        },
        "id": "U6MgVQvXEDkK",
        "outputId": "9011205b-16c6-46dc-d293-4543fdb5b2d5"
      },
      "execution_count": 8,
      "outputs": [
        {
          "output_type": "execute_result",
          "data": {
            "text/plain": [
              "id              0\n",
              "qid1            0\n",
              "qid2            0\n",
              "question1       0\n",
              "question2       0\n",
              "is_duplicate    0\n",
              "dtype: int64"
            ]
          },
          "metadata": {},
          "execution_count": 8
        }
      ]
    },
    {
      "cell_type": "code",
      "source": [
        "# randomly selected samples from df for the new df to perform operations\n",
        "df = df_raw.sample(5000)\n",
        "df = df[['question1', 'question2', 'is_duplicate']]\n",
        "print(df.shape)"
      ],
      "metadata": {
        "colab": {
          "base_uri": "https://localhost:8080/"
        },
        "id": "GXqgqnxiESn0",
        "outputId": "76fb9730-4341-474d-98b9-f7868b35c7db"
      },
      "execution_count": 9,
      "outputs": [
        {
          "output_type": "stream",
          "name": "stdout",
          "text": [
            "(5000, 3)\n"
          ]
        }
      ]
    },
    {
      "cell_type": "code",
      "source": [
        "df_copy = df.copy()"
      ],
      "metadata": {
        "id": "Bl3kqF6NQ6pn"
      },
      "execution_count": null,
      "outputs": []
    },
    {
      "cell_type": "markdown",
      "source": [
        "# Clean Data"
      ],
      "metadata": {
        "id": "u9_jhJzDjWUy"
      }
    },
    {
      "cell_type": "code",
      "source": [
        "def get_wordnet_pos(tag):\n",
        "    if tag.startswith(\"N\"):\n",
        "        return wordnet.NOUN\n",
        "    if tag.startswith(\"J\"):\n",
        "        return wordnet.ADJ\n",
        "    if tag.startswith(\"V\"):\n",
        "        return wordnet.VERB\n",
        "    if tag.startswith(\"R\"):\n",
        "        return wordnet.ADV\n",
        "    return wordnet.NOUN\n",
        "\n",
        "def clean_sentence(sentence, stopwords = False, lemmatize = False, stem = False):\n",
        "    sentence = sentence.lower().strip()\n",
        "    sentence = re.sub(r'[^a-z0-9\\s]', '', sentence)  # removing all caracters that are not alpha numeric\n",
        "    #sentence = re.sub(r'\\s{2,}', ' ', sentence\n",
        "   \n",
        "    sentence = sentence.translate(str.maketrans('', '', string.punctuation))  # remove punctuation\n",
        "    \n",
        "    if stopwords:\n",
        "        sentence = remove_stopwords(sentence)  \n",
        "        \n",
        "    if lemmatize:\n",
        "        nltk_tagged = nltk.pos_tag(nltk.word_tokenize(sentence))\n",
        "        wn_tagged = map(lambda x: (x[0], get_wordnet_pos(x[1])), nltk_tagged)\n",
        "        res_words = []\n",
        "        for word, tag in wn_tagged:\n",
        "            if tag is None:\n",
        "                res_words.append(word)\n",
        "            else :\n",
        "                res_words.append(lemmer.lemmatize(word, tag))\n",
        "        sentence = \" \".join(res_words)\n",
        "        \n",
        "    if stem:\n",
        "        sent_stemmed = ''\n",
        "        for word in sentence.split():\n",
        "            sent_stemmed += ' '+ stemmer.stem(word)\n",
        "        sentence = sent_stemmed\n",
        "   \n",
        "    return sentence\n",
        "\n",
        "def get_cleaned_senteces(df, stopwords = False, lemmatize = False, stem = False):\n",
        "    #sents1 = dfq[['question1']]  \n",
        "    #sents2 = dfq[['question2']]\n",
        "    cleaned_sentences1 = []\n",
        "    cleaned_sentences2 = []\n",
        "    \n",
        "    for index, row in df.iterrows():\n",
        "        # print (index, row)\n",
        "        cleaned1 = clean_sentence(row['question1'], stopwords, lemmatize, stem) \n",
        "        cleaned2 = clean_sentence(row['question2'], stopwords, lemmatize, stem)\n",
        "\n",
        "        cleaned_sentences1.append(cleaned1)\n",
        "        cleaned_sentences2.append(cleaned2)\n",
        "    return cleaned_sentences1, cleaned_sentences2"
      ],
      "metadata": {
        "id": "ynqJ5flWEUEk"
      },
      "execution_count": 10,
      "outputs": []
    },
    {
      "cell_type": "code",
      "source": [
        "def to_df(q1cleaned, q2cleaned, df):\n",
        "    '''cleaned sentences to df'''\n",
        "    X_temp1 = pd.DataFrame()\n",
        "    X_temp2 = pd.DataFrame()\n",
        "    X_temp1['q1'] = pd.DataFrame(q1cleaned, index = df.index)\n",
        "    X_temp2['q2'] = pd.DataFrame(q2cleaned, index = df.index)\n",
        "    X_temp = pd.concat([X_temp1, X_temp2], axis = 1)\n",
        "    X_temp['is_duplicate'] = df_raw['is_duplicate']\n",
        "    return X_temp"
      ],
      "metadata": {
        "id": "V-k52RcgEiWV"
      },
      "execution_count": 11,
      "outputs": []
    },
    {
      "cell_type": "markdown",
      "source": [
        "#### With Stopwords, lemmatized"
      ],
      "metadata": {
        "id": "5ljrxCFPk7D8"
      }
    },
    {
      "cell_type": "code",
      "source": [
        "# With stopwords lemmatized, not stemmed\n",
        "q1_sw_lemma, q2_sw_lemma = get_cleaned_senteces(df, stopwords = False, lemmatize = True, stem = False)\n",
        "assert len(q1_sw_lemma) == len(q2_sw_lemma)\n",
        "df_sw_lemma = to_df(q1_sw_lemma, q2_sw_lemma, df)\n",
        "df_sw_lemma.shape"
      ],
      "metadata": {
        "colab": {
          "base_uri": "https://localhost:8080/"
        },
        "id": "S7oZESZlOaV1",
        "outputId": "443f204e-e652-40dc-9d23-358a5e368b9e"
      },
      "execution_count": 12,
      "outputs": [
        {
          "output_type": "execute_result",
          "data": {
            "text/plain": [
              "(5000, 3)"
            ]
          },
          "metadata": {},
          "execution_count": 12
        }
      ]
    },
    {
      "cell_type": "markdown",
      "source": [
        "#### With Stopwords, stemmed"
      ],
      "metadata": {
        "id": "g4spCai9lC7-"
      }
    },
    {
      "cell_type": "code",
      "source": [
        "q1_sw_stem, q2_sw_stem = get_cleaned_senteces(df, stopwords = False, lemmatize = False, stem = True)\n",
        "assert len(q1_sw_stem) == len(q2_sw_stem)\n",
        "df_sw_stem = to_df(q1_sw_stem, q2_sw_stem, df)\n",
        "df_sw_stem.shape"
      ],
      "metadata": {
        "colab": {
          "base_uri": "https://localhost:8080/"
        },
        "id": "nNAC16bYRtr_",
        "outputId": "60b3cdf0-886b-4103-c886-7922cc61ffd1"
      },
      "execution_count": 13,
      "outputs": [
        {
          "output_type": "execute_result",
          "data": {
            "text/plain": [
              "(5000, 3)"
            ]
          },
          "metadata": {},
          "execution_count": 13
        }
      ]
    },
    {
      "cell_type": "markdown",
      "source": [
        "#### With stopwords, not lemmatized nor stemmed"
      ],
      "metadata": {
        "id": "1BSvoisylMEZ"
      }
    },
    {
      "cell_type": "code",
      "source": [
        "q1_sw, q2_sw = get_cleaned_senteces(df, stopwords = False, lemmatize = False, stem = False)\n",
        "assert len(q1_sw) == len(q2_sw)\n",
        "df_sw = to_df(q1_sw, q2_sw, df)\n",
        "df_sw.shape"
      ],
      "metadata": {
        "colab": {
          "base_uri": "https://localhost:8080/"
        },
        "id": "2EEjzuUglWuA",
        "outputId": "fd87c73a-4fca-4e77-fab1-56eb84a7e3a8"
      },
      "execution_count": 14,
      "outputs": [
        {
          "output_type": "execute_result",
          "data": {
            "text/plain": [
              "(5000, 3)"
            ]
          },
          "metadata": {},
          "execution_count": 14
        }
      ]
    },
    {
      "cell_type": "markdown",
      "source": [
        "#### Without Stopwords, lemmatized\n"
      ],
      "metadata": {
        "id": "jX9Hu4HqmGjq"
      }
    },
    {
      "cell_type": "code",
      "source": [
        "q1_lemma, q2_lemma = get_cleaned_senteces(df, stopwords = True, lemmatize = True, stem = False)\n",
        "assert len(q1_lemma) == len(q2_lemma)\n",
        "df_lemma = to_df(q1_lemma, q2_lemma, df)\n",
        "df_lemma.shape"
      ],
      "metadata": {
        "colab": {
          "base_uri": "https://localhost:8080/"
        },
        "id": "RvPtJo-zmQnv",
        "outputId": "6a0ce578-d9cd-4d37-ec1e-40a7c60e8e83"
      },
      "execution_count": 15,
      "outputs": [
        {
          "output_type": "execute_result",
          "data": {
            "text/plain": [
              "(5000, 3)"
            ]
          },
          "metadata": {},
          "execution_count": 15
        }
      ]
    },
    {
      "cell_type": "markdown",
      "source": [
        "#### Without Stopwords, stemmed"
      ],
      "metadata": {
        "id": "8Vf2MjpLmay-"
      }
    },
    {
      "cell_type": "code",
      "source": [
        "q1_stem, q2_stem = get_cleaned_senteces(df, stopwords = True, lemmatize = False, stem = True)\n",
        "assert len(q1_stem) == len(q2_stem)\n",
        "df_stem = to_df(q1_stem, q2_stem, df)\n",
        "df_stem.shape"
      ],
      "metadata": {
        "colab": {
          "base_uri": "https://localhost:8080/"
        },
        "id": "mewxphR3mgz6",
        "outputId": "b7a4a1fd-d172-49c8-afcd-8269f49d464b"
      },
      "execution_count": 16,
      "outputs": [
        {
          "output_type": "execute_result",
          "data": {
            "text/plain": [
              "(5000, 3)"
            ]
          },
          "metadata": {},
          "execution_count": 16
        }
      ]
    },
    {
      "cell_type": "markdown",
      "source": [
        "#### Without Stopwords, not lemmatized nor stemmed"
      ],
      "metadata": {
        "id": "yGc3K6pAnQpn"
      }
    },
    {
      "cell_type": "code",
      "source": [
        "q1_out, q2_out = get_cleaned_senteces(df, stopwords = True, lemmatize = False, stem = False)\n",
        "assert len(q1_out) == len(q2_out)\n",
        "df_out = to_df(q1_out, q2_out, df)\n",
        "df_out.shape"
      ],
      "metadata": {
        "colab": {
          "base_uri": "https://localhost:8080/"
        },
        "id": "G4zZgJhdnPqd",
        "outputId": "5f2c3733-9d61-4f25-a315-5eedddda1932"
      },
      "execution_count": 17,
      "outputs": [
        {
          "output_type": "execute_result",
          "data": {
            "text/plain": [
              "(5000, 3)"
            ]
          },
          "metadata": {},
          "execution_count": 17
        }
      ]
    },
    {
      "cell_type": "code",
      "source": [
        "display ('With stopwords, without lemma and stem', df_sw.iloc[[22]])\n",
        "display ('With stopwords, lemmatized and without stem', df_sw_lemma.iloc[[22]])\n",
        "display ('With stopwords, stemmed and without lemma', df_sw_stem.iloc[[22]])\n",
        "display ('Without stopwords, lemma and stem', df_out.iloc[[22]])\n",
        "display ('Without stopwords and stem, lemmatized', df_lemma.iloc[[22]])\n",
        "display ('Without stopwords and lemma, stemmed', df_stem.iloc[[22]])"
      ],
      "metadata": {
        "colab": {
          "base_uri": "https://localhost:8080/",
          "height": 512
        },
        "id": "JQeieU-pHxLu",
        "outputId": "eb84b0c1-9255-462a-c7a0-1a45f103eb21"
      },
      "execution_count": null,
      "outputs": [
        {
          "output_type": "display_data",
          "data": {
            "text/plain": [
              "'With stopwords, without lemma and stem'"
            ],
            "application/vnd.google.colaboratory.intrinsic+json": {
              "type": "string"
            }
          },
          "metadata": {}
        },
        {
          "output_type": "display_data",
          "data": {
            "text/plain": [
              "                                           q1  \\\n",
              "272872  what does it feel like to be on quora   \n",
              "\n",
              "                                             q2  is_duplicate  \n",
              "272872  what does it feel like to post on quora             1  "
            ],
            "text/html": [
              "\n",
              "  <div id=\"df-c9111e01-9c8e-49a9-b46d-37460f5c7a67\">\n",
              "    <div class=\"colab-df-container\">\n",
              "      <div>\n",
              "<style scoped>\n",
              "    .dataframe tbody tr th:only-of-type {\n",
              "        vertical-align: middle;\n",
              "    }\n",
              "\n",
              "    .dataframe tbody tr th {\n",
              "        vertical-align: top;\n",
              "    }\n",
              "\n",
              "    .dataframe thead th {\n",
              "        text-align: right;\n",
              "    }\n",
              "</style>\n",
              "<table border=\"1\" class=\"dataframe\">\n",
              "  <thead>\n",
              "    <tr style=\"text-align: right;\">\n",
              "      <th></th>\n",
              "      <th>q1</th>\n",
              "      <th>q2</th>\n",
              "      <th>is_duplicate</th>\n",
              "    </tr>\n",
              "  </thead>\n",
              "  <tbody>\n",
              "    <tr>\n",
              "      <th>272872</th>\n",
              "      <td>what does it feel like to be on quora</td>\n",
              "      <td>what does it feel like to post on quora</td>\n",
              "      <td>1</td>\n",
              "    </tr>\n",
              "  </tbody>\n",
              "</table>\n",
              "</div>\n",
              "      <button class=\"colab-df-convert\" onclick=\"convertToInteractive('df-c9111e01-9c8e-49a9-b46d-37460f5c7a67')\"\n",
              "              title=\"Convert this dataframe to an interactive table.\"\n",
              "              style=\"display:none;\">\n",
              "        \n",
              "  <svg xmlns=\"http://www.w3.org/2000/svg\" height=\"24px\"viewBox=\"0 0 24 24\"\n",
              "       width=\"24px\">\n",
              "    <path d=\"M0 0h24v24H0V0z\" fill=\"none\"/>\n",
              "    <path d=\"M18.56 5.44l.94 2.06.94-2.06 2.06-.94-2.06-.94-.94-2.06-.94 2.06-2.06.94zm-11 1L8.5 8.5l.94-2.06 2.06-.94-2.06-.94L8.5 2.5l-.94 2.06-2.06.94zm10 10l.94 2.06.94-2.06 2.06-.94-2.06-.94-.94-2.06-.94 2.06-2.06.94z\"/><path d=\"M17.41 7.96l-1.37-1.37c-.4-.4-.92-.59-1.43-.59-.52 0-1.04.2-1.43.59L10.3 9.45l-7.72 7.72c-.78.78-.78 2.05 0 2.83L4 21.41c.39.39.9.59 1.41.59.51 0 1.02-.2 1.41-.59l7.78-7.78 2.81-2.81c.8-.78.8-2.07 0-2.86zM5.41 20L4 18.59l7.72-7.72 1.47 1.35L5.41 20z\"/>\n",
              "  </svg>\n",
              "      </button>\n",
              "      \n",
              "  <style>\n",
              "    .colab-df-container {\n",
              "      display:flex;\n",
              "      flex-wrap:wrap;\n",
              "      gap: 12px;\n",
              "    }\n",
              "\n",
              "    .colab-df-convert {\n",
              "      background-color: #E8F0FE;\n",
              "      border: none;\n",
              "      border-radius: 50%;\n",
              "      cursor: pointer;\n",
              "      display: none;\n",
              "      fill: #1967D2;\n",
              "      height: 32px;\n",
              "      padding: 0 0 0 0;\n",
              "      width: 32px;\n",
              "    }\n",
              "\n",
              "    .colab-df-convert:hover {\n",
              "      background-color: #E2EBFA;\n",
              "      box-shadow: 0px 1px 2px rgba(60, 64, 67, 0.3), 0px 1px 3px 1px rgba(60, 64, 67, 0.15);\n",
              "      fill: #174EA6;\n",
              "    }\n",
              "\n",
              "    [theme=dark] .colab-df-convert {\n",
              "      background-color: #3B4455;\n",
              "      fill: #D2E3FC;\n",
              "    }\n",
              "\n",
              "    [theme=dark] .colab-df-convert:hover {\n",
              "      background-color: #434B5C;\n",
              "      box-shadow: 0px 1px 3px 1px rgba(0, 0, 0, 0.15);\n",
              "      filter: drop-shadow(0px 1px 2px rgba(0, 0, 0, 0.3));\n",
              "      fill: #FFFFFF;\n",
              "    }\n",
              "  </style>\n",
              "\n",
              "      <script>\n",
              "        const buttonEl =\n",
              "          document.querySelector('#df-c9111e01-9c8e-49a9-b46d-37460f5c7a67 button.colab-df-convert');\n",
              "        buttonEl.style.display =\n",
              "          google.colab.kernel.accessAllowed ? 'block' : 'none';\n",
              "\n",
              "        async function convertToInteractive(key) {\n",
              "          const element = document.querySelector('#df-c9111e01-9c8e-49a9-b46d-37460f5c7a67');\n",
              "          const dataTable =\n",
              "            await google.colab.kernel.invokeFunction('convertToInteractive',\n",
              "                                                     [key], {});\n",
              "          if (!dataTable) return;\n",
              "\n",
              "          const docLinkHtml = 'Like what you see? Visit the ' +\n",
              "            '<a target=\"_blank\" href=https://colab.research.google.com/notebooks/data_table.ipynb>data table notebook</a>'\n",
              "            + ' to learn more about interactive tables.';\n",
              "          element.innerHTML = '';\n",
              "          dataTable['output_type'] = 'display_data';\n",
              "          await google.colab.output.renderOutput(dataTable, element);\n",
              "          const docLink = document.createElement('div');\n",
              "          docLink.innerHTML = docLinkHtml;\n",
              "          element.appendChild(docLink);\n",
              "        }\n",
              "      </script>\n",
              "    </div>\n",
              "  </div>\n",
              "  "
            ]
          },
          "metadata": {}
        },
        {
          "output_type": "display_data",
          "data": {
            "text/plain": [
              "'With stopwords, lemmatized and without stem'"
            ],
            "application/vnd.google.colaboratory.intrinsic+json": {
              "type": "string"
            }
          },
          "metadata": {}
        },
        {
          "output_type": "display_data",
          "data": {
            "text/plain": [
              "                                         q1  \\\n",
              "272872  what do it feel like to be on quora   \n",
              "\n",
              "                                           q2  is_duplicate  \n",
              "272872  what do it feel like to post on quora             1  "
            ],
            "text/html": [
              "\n",
              "  <div id=\"df-4510dd9f-ac44-4c20-b1ac-48d5554030fa\">\n",
              "    <div class=\"colab-df-container\">\n",
              "      <div>\n",
              "<style scoped>\n",
              "    .dataframe tbody tr th:only-of-type {\n",
              "        vertical-align: middle;\n",
              "    }\n",
              "\n",
              "    .dataframe tbody tr th {\n",
              "        vertical-align: top;\n",
              "    }\n",
              "\n",
              "    .dataframe thead th {\n",
              "        text-align: right;\n",
              "    }\n",
              "</style>\n",
              "<table border=\"1\" class=\"dataframe\">\n",
              "  <thead>\n",
              "    <tr style=\"text-align: right;\">\n",
              "      <th></th>\n",
              "      <th>q1</th>\n",
              "      <th>q2</th>\n",
              "      <th>is_duplicate</th>\n",
              "    </tr>\n",
              "  </thead>\n",
              "  <tbody>\n",
              "    <tr>\n",
              "      <th>272872</th>\n",
              "      <td>what do it feel like to be on quora</td>\n",
              "      <td>what do it feel like to post on quora</td>\n",
              "      <td>1</td>\n",
              "    </tr>\n",
              "  </tbody>\n",
              "</table>\n",
              "</div>\n",
              "      <button class=\"colab-df-convert\" onclick=\"convertToInteractive('df-4510dd9f-ac44-4c20-b1ac-48d5554030fa')\"\n",
              "              title=\"Convert this dataframe to an interactive table.\"\n",
              "              style=\"display:none;\">\n",
              "        \n",
              "  <svg xmlns=\"http://www.w3.org/2000/svg\" height=\"24px\"viewBox=\"0 0 24 24\"\n",
              "       width=\"24px\">\n",
              "    <path d=\"M0 0h24v24H0V0z\" fill=\"none\"/>\n",
              "    <path d=\"M18.56 5.44l.94 2.06.94-2.06 2.06-.94-2.06-.94-.94-2.06-.94 2.06-2.06.94zm-11 1L8.5 8.5l.94-2.06 2.06-.94-2.06-.94L8.5 2.5l-.94 2.06-2.06.94zm10 10l.94 2.06.94-2.06 2.06-.94-2.06-.94-.94-2.06-.94 2.06-2.06.94z\"/><path d=\"M17.41 7.96l-1.37-1.37c-.4-.4-.92-.59-1.43-.59-.52 0-1.04.2-1.43.59L10.3 9.45l-7.72 7.72c-.78.78-.78 2.05 0 2.83L4 21.41c.39.39.9.59 1.41.59.51 0 1.02-.2 1.41-.59l7.78-7.78 2.81-2.81c.8-.78.8-2.07 0-2.86zM5.41 20L4 18.59l7.72-7.72 1.47 1.35L5.41 20z\"/>\n",
              "  </svg>\n",
              "      </button>\n",
              "      \n",
              "  <style>\n",
              "    .colab-df-container {\n",
              "      display:flex;\n",
              "      flex-wrap:wrap;\n",
              "      gap: 12px;\n",
              "    }\n",
              "\n",
              "    .colab-df-convert {\n",
              "      background-color: #E8F0FE;\n",
              "      border: none;\n",
              "      border-radius: 50%;\n",
              "      cursor: pointer;\n",
              "      display: none;\n",
              "      fill: #1967D2;\n",
              "      height: 32px;\n",
              "      padding: 0 0 0 0;\n",
              "      width: 32px;\n",
              "    }\n",
              "\n",
              "    .colab-df-convert:hover {\n",
              "      background-color: #E2EBFA;\n",
              "      box-shadow: 0px 1px 2px rgba(60, 64, 67, 0.3), 0px 1px 3px 1px rgba(60, 64, 67, 0.15);\n",
              "      fill: #174EA6;\n",
              "    }\n",
              "\n",
              "    [theme=dark] .colab-df-convert {\n",
              "      background-color: #3B4455;\n",
              "      fill: #D2E3FC;\n",
              "    }\n",
              "\n",
              "    [theme=dark] .colab-df-convert:hover {\n",
              "      background-color: #434B5C;\n",
              "      box-shadow: 0px 1px 3px 1px rgba(0, 0, 0, 0.15);\n",
              "      filter: drop-shadow(0px 1px 2px rgba(0, 0, 0, 0.3));\n",
              "      fill: #FFFFFF;\n",
              "    }\n",
              "  </style>\n",
              "\n",
              "      <script>\n",
              "        const buttonEl =\n",
              "          document.querySelector('#df-4510dd9f-ac44-4c20-b1ac-48d5554030fa button.colab-df-convert');\n",
              "        buttonEl.style.display =\n",
              "          google.colab.kernel.accessAllowed ? 'block' : 'none';\n",
              "\n",
              "        async function convertToInteractive(key) {\n",
              "          const element = document.querySelector('#df-4510dd9f-ac44-4c20-b1ac-48d5554030fa');\n",
              "          const dataTable =\n",
              "            await google.colab.kernel.invokeFunction('convertToInteractive',\n",
              "                                                     [key], {});\n",
              "          if (!dataTable) return;\n",
              "\n",
              "          const docLinkHtml = 'Like what you see? Visit the ' +\n",
              "            '<a target=\"_blank\" href=https://colab.research.google.com/notebooks/data_table.ipynb>data table notebook</a>'\n",
              "            + ' to learn more about interactive tables.';\n",
              "          element.innerHTML = '';\n",
              "          dataTable['output_type'] = 'display_data';\n",
              "          await google.colab.output.renderOutput(dataTable, element);\n",
              "          const docLink = document.createElement('div');\n",
              "          docLink.innerHTML = docLinkHtml;\n",
              "          element.appendChild(docLink);\n",
              "        }\n",
              "      </script>\n",
              "    </div>\n",
              "  </div>\n",
              "  "
            ]
          },
          "metadata": {}
        },
        {
          "output_type": "display_data",
          "data": {
            "text/plain": [
              "'With stopwords, stemmed and without lemma'"
            ],
            "application/vnd.google.colaboratory.intrinsic+json": {
              "type": "string"
            }
          },
          "metadata": {}
        },
        {
          "output_type": "display_data",
          "data": {
            "text/plain": [
              "                                           q1  \\\n",
              "272872   what doe it feel like to be on quora   \n",
              "\n",
              "                                             q2  is_duplicate  \n",
              "272872   what doe it feel like to post on quora             1  "
            ],
            "text/html": [
              "\n",
              "  <div id=\"df-75183e44-7093-46b0-aec9-b1885fbf7f6b\">\n",
              "    <div class=\"colab-df-container\">\n",
              "      <div>\n",
              "<style scoped>\n",
              "    .dataframe tbody tr th:only-of-type {\n",
              "        vertical-align: middle;\n",
              "    }\n",
              "\n",
              "    .dataframe tbody tr th {\n",
              "        vertical-align: top;\n",
              "    }\n",
              "\n",
              "    .dataframe thead th {\n",
              "        text-align: right;\n",
              "    }\n",
              "</style>\n",
              "<table border=\"1\" class=\"dataframe\">\n",
              "  <thead>\n",
              "    <tr style=\"text-align: right;\">\n",
              "      <th></th>\n",
              "      <th>q1</th>\n",
              "      <th>q2</th>\n",
              "      <th>is_duplicate</th>\n",
              "    </tr>\n",
              "  </thead>\n",
              "  <tbody>\n",
              "    <tr>\n",
              "      <th>272872</th>\n",
              "      <td>what doe it feel like to be on quora</td>\n",
              "      <td>what doe it feel like to post on quora</td>\n",
              "      <td>1</td>\n",
              "    </tr>\n",
              "  </tbody>\n",
              "</table>\n",
              "</div>\n",
              "      <button class=\"colab-df-convert\" onclick=\"convertToInteractive('df-75183e44-7093-46b0-aec9-b1885fbf7f6b')\"\n",
              "              title=\"Convert this dataframe to an interactive table.\"\n",
              "              style=\"display:none;\">\n",
              "        \n",
              "  <svg xmlns=\"http://www.w3.org/2000/svg\" height=\"24px\"viewBox=\"0 0 24 24\"\n",
              "       width=\"24px\">\n",
              "    <path d=\"M0 0h24v24H0V0z\" fill=\"none\"/>\n",
              "    <path d=\"M18.56 5.44l.94 2.06.94-2.06 2.06-.94-2.06-.94-.94-2.06-.94 2.06-2.06.94zm-11 1L8.5 8.5l.94-2.06 2.06-.94-2.06-.94L8.5 2.5l-.94 2.06-2.06.94zm10 10l.94 2.06.94-2.06 2.06-.94-2.06-.94-.94-2.06-.94 2.06-2.06.94z\"/><path d=\"M17.41 7.96l-1.37-1.37c-.4-.4-.92-.59-1.43-.59-.52 0-1.04.2-1.43.59L10.3 9.45l-7.72 7.72c-.78.78-.78 2.05 0 2.83L4 21.41c.39.39.9.59 1.41.59.51 0 1.02-.2 1.41-.59l7.78-7.78 2.81-2.81c.8-.78.8-2.07 0-2.86zM5.41 20L4 18.59l7.72-7.72 1.47 1.35L5.41 20z\"/>\n",
              "  </svg>\n",
              "      </button>\n",
              "      \n",
              "  <style>\n",
              "    .colab-df-container {\n",
              "      display:flex;\n",
              "      flex-wrap:wrap;\n",
              "      gap: 12px;\n",
              "    }\n",
              "\n",
              "    .colab-df-convert {\n",
              "      background-color: #E8F0FE;\n",
              "      border: none;\n",
              "      border-radius: 50%;\n",
              "      cursor: pointer;\n",
              "      display: none;\n",
              "      fill: #1967D2;\n",
              "      height: 32px;\n",
              "      padding: 0 0 0 0;\n",
              "      width: 32px;\n",
              "    }\n",
              "\n",
              "    .colab-df-convert:hover {\n",
              "      background-color: #E2EBFA;\n",
              "      box-shadow: 0px 1px 2px rgba(60, 64, 67, 0.3), 0px 1px 3px 1px rgba(60, 64, 67, 0.15);\n",
              "      fill: #174EA6;\n",
              "    }\n",
              "\n",
              "    [theme=dark] .colab-df-convert {\n",
              "      background-color: #3B4455;\n",
              "      fill: #D2E3FC;\n",
              "    }\n",
              "\n",
              "    [theme=dark] .colab-df-convert:hover {\n",
              "      background-color: #434B5C;\n",
              "      box-shadow: 0px 1px 3px 1px rgba(0, 0, 0, 0.15);\n",
              "      filter: drop-shadow(0px 1px 2px rgba(0, 0, 0, 0.3));\n",
              "      fill: #FFFFFF;\n",
              "    }\n",
              "  </style>\n",
              "\n",
              "      <script>\n",
              "        const buttonEl =\n",
              "          document.querySelector('#df-75183e44-7093-46b0-aec9-b1885fbf7f6b button.colab-df-convert');\n",
              "        buttonEl.style.display =\n",
              "          google.colab.kernel.accessAllowed ? 'block' : 'none';\n",
              "\n",
              "        async function convertToInteractive(key) {\n",
              "          const element = document.querySelector('#df-75183e44-7093-46b0-aec9-b1885fbf7f6b');\n",
              "          const dataTable =\n",
              "            await google.colab.kernel.invokeFunction('convertToInteractive',\n",
              "                                                     [key], {});\n",
              "          if (!dataTable) return;\n",
              "\n",
              "          const docLinkHtml = 'Like what you see? Visit the ' +\n",
              "            '<a target=\"_blank\" href=https://colab.research.google.com/notebooks/data_table.ipynb>data table notebook</a>'\n",
              "            + ' to learn more about interactive tables.';\n",
              "          element.innerHTML = '';\n",
              "          dataTable['output_type'] = 'display_data';\n",
              "          await google.colab.output.renderOutput(dataTable, element);\n",
              "          const docLink = document.createElement('div');\n",
              "          docLink.innerHTML = docLinkHtml;\n",
              "          element.appendChild(docLink);\n",
              "        }\n",
              "      </script>\n",
              "    </div>\n",
              "  </div>\n",
              "  "
            ]
          },
          "metadata": {}
        },
        {
          "output_type": "display_data",
          "data": {
            "text/plain": [
              "'Without stopwords, lemma and stem'"
            ],
            "application/vnd.google.colaboratory.intrinsic+json": {
              "type": "string"
            }
          },
          "metadata": {}
        },
        {
          "output_type": "display_data",
          "data": {
            "text/plain": [
              "                     q1                    q2  is_duplicate\n",
              "272872  feel like quora  feel like post quora             1"
            ],
            "text/html": [
              "\n",
              "  <div id=\"df-a98f76d0-6ff5-4813-b52b-aedaa2edfd64\">\n",
              "    <div class=\"colab-df-container\">\n",
              "      <div>\n",
              "<style scoped>\n",
              "    .dataframe tbody tr th:only-of-type {\n",
              "        vertical-align: middle;\n",
              "    }\n",
              "\n",
              "    .dataframe tbody tr th {\n",
              "        vertical-align: top;\n",
              "    }\n",
              "\n",
              "    .dataframe thead th {\n",
              "        text-align: right;\n",
              "    }\n",
              "</style>\n",
              "<table border=\"1\" class=\"dataframe\">\n",
              "  <thead>\n",
              "    <tr style=\"text-align: right;\">\n",
              "      <th></th>\n",
              "      <th>q1</th>\n",
              "      <th>q2</th>\n",
              "      <th>is_duplicate</th>\n",
              "    </tr>\n",
              "  </thead>\n",
              "  <tbody>\n",
              "    <tr>\n",
              "      <th>272872</th>\n",
              "      <td>feel like quora</td>\n",
              "      <td>feel like post quora</td>\n",
              "      <td>1</td>\n",
              "    </tr>\n",
              "  </tbody>\n",
              "</table>\n",
              "</div>\n",
              "      <button class=\"colab-df-convert\" onclick=\"convertToInteractive('df-a98f76d0-6ff5-4813-b52b-aedaa2edfd64')\"\n",
              "              title=\"Convert this dataframe to an interactive table.\"\n",
              "              style=\"display:none;\">\n",
              "        \n",
              "  <svg xmlns=\"http://www.w3.org/2000/svg\" height=\"24px\"viewBox=\"0 0 24 24\"\n",
              "       width=\"24px\">\n",
              "    <path d=\"M0 0h24v24H0V0z\" fill=\"none\"/>\n",
              "    <path d=\"M18.56 5.44l.94 2.06.94-2.06 2.06-.94-2.06-.94-.94-2.06-.94 2.06-2.06.94zm-11 1L8.5 8.5l.94-2.06 2.06-.94-2.06-.94L8.5 2.5l-.94 2.06-2.06.94zm10 10l.94 2.06.94-2.06 2.06-.94-2.06-.94-.94-2.06-.94 2.06-2.06.94z\"/><path d=\"M17.41 7.96l-1.37-1.37c-.4-.4-.92-.59-1.43-.59-.52 0-1.04.2-1.43.59L10.3 9.45l-7.72 7.72c-.78.78-.78 2.05 0 2.83L4 21.41c.39.39.9.59 1.41.59.51 0 1.02-.2 1.41-.59l7.78-7.78 2.81-2.81c.8-.78.8-2.07 0-2.86zM5.41 20L4 18.59l7.72-7.72 1.47 1.35L5.41 20z\"/>\n",
              "  </svg>\n",
              "      </button>\n",
              "      \n",
              "  <style>\n",
              "    .colab-df-container {\n",
              "      display:flex;\n",
              "      flex-wrap:wrap;\n",
              "      gap: 12px;\n",
              "    }\n",
              "\n",
              "    .colab-df-convert {\n",
              "      background-color: #E8F0FE;\n",
              "      border: none;\n",
              "      border-radius: 50%;\n",
              "      cursor: pointer;\n",
              "      display: none;\n",
              "      fill: #1967D2;\n",
              "      height: 32px;\n",
              "      padding: 0 0 0 0;\n",
              "      width: 32px;\n",
              "    }\n",
              "\n",
              "    .colab-df-convert:hover {\n",
              "      background-color: #E2EBFA;\n",
              "      box-shadow: 0px 1px 2px rgba(60, 64, 67, 0.3), 0px 1px 3px 1px rgba(60, 64, 67, 0.15);\n",
              "      fill: #174EA6;\n",
              "    }\n",
              "\n",
              "    [theme=dark] .colab-df-convert {\n",
              "      background-color: #3B4455;\n",
              "      fill: #D2E3FC;\n",
              "    }\n",
              "\n",
              "    [theme=dark] .colab-df-convert:hover {\n",
              "      background-color: #434B5C;\n",
              "      box-shadow: 0px 1px 3px 1px rgba(0, 0, 0, 0.15);\n",
              "      filter: drop-shadow(0px 1px 2px rgba(0, 0, 0, 0.3));\n",
              "      fill: #FFFFFF;\n",
              "    }\n",
              "  </style>\n",
              "\n",
              "      <script>\n",
              "        const buttonEl =\n",
              "          document.querySelector('#df-a98f76d0-6ff5-4813-b52b-aedaa2edfd64 button.colab-df-convert');\n",
              "        buttonEl.style.display =\n",
              "          google.colab.kernel.accessAllowed ? 'block' : 'none';\n",
              "\n",
              "        async function convertToInteractive(key) {\n",
              "          const element = document.querySelector('#df-a98f76d0-6ff5-4813-b52b-aedaa2edfd64');\n",
              "          const dataTable =\n",
              "            await google.colab.kernel.invokeFunction('convertToInteractive',\n",
              "                                                     [key], {});\n",
              "          if (!dataTable) return;\n",
              "\n",
              "          const docLinkHtml = 'Like what you see? Visit the ' +\n",
              "            '<a target=\"_blank\" href=https://colab.research.google.com/notebooks/data_table.ipynb>data table notebook</a>'\n",
              "            + ' to learn more about interactive tables.';\n",
              "          element.innerHTML = '';\n",
              "          dataTable['output_type'] = 'display_data';\n",
              "          await google.colab.output.renderOutput(dataTable, element);\n",
              "          const docLink = document.createElement('div');\n",
              "          docLink.innerHTML = docLinkHtml;\n",
              "          element.appendChild(docLink);\n",
              "        }\n",
              "      </script>\n",
              "    </div>\n",
              "  </div>\n",
              "  "
            ]
          },
          "metadata": {}
        },
        {
          "output_type": "display_data",
          "data": {
            "text/plain": [
              "'Without stopwords and stem, lemmatized'"
            ],
            "application/vnd.google.colaboratory.intrinsic+json": {
              "type": "string"
            }
          },
          "metadata": {}
        },
        {
          "output_type": "display_data",
          "data": {
            "text/plain": [
              "                     q1                    q2  is_duplicate\n",
              "272872  feel like quora  feel like post quora             1"
            ],
            "text/html": [
              "\n",
              "  <div id=\"df-bfa54c2f-2fc9-4b3a-985a-6a6033d4cbd8\">\n",
              "    <div class=\"colab-df-container\">\n",
              "      <div>\n",
              "<style scoped>\n",
              "    .dataframe tbody tr th:only-of-type {\n",
              "        vertical-align: middle;\n",
              "    }\n",
              "\n",
              "    .dataframe tbody tr th {\n",
              "        vertical-align: top;\n",
              "    }\n",
              "\n",
              "    .dataframe thead th {\n",
              "        text-align: right;\n",
              "    }\n",
              "</style>\n",
              "<table border=\"1\" class=\"dataframe\">\n",
              "  <thead>\n",
              "    <tr style=\"text-align: right;\">\n",
              "      <th></th>\n",
              "      <th>q1</th>\n",
              "      <th>q2</th>\n",
              "      <th>is_duplicate</th>\n",
              "    </tr>\n",
              "  </thead>\n",
              "  <tbody>\n",
              "    <tr>\n",
              "      <th>272872</th>\n",
              "      <td>feel like quora</td>\n",
              "      <td>feel like post quora</td>\n",
              "      <td>1</td>\n",
              "    </tr>\n",
              "  </tbody>\n",
              "</table>\n",
              "</div>\n",
              "      <button class=\"colab-df-convert\" onclick=\"convertToInteractive('df-bfa54c2f-2fc9-4b3a-985a-6a6033d4cbd8')\"\n",
              "              title=\"Convert this dataframe to an interactive table.\"\n",
              "              style=\"display:none;\">\n",
              "        \n",
              "  <svg xmlns=\"http://www.w3.org/2000/svg\" height=\"24px\"viewBox=\"0 0 24 24\"\n",
              "       width=\"24px\">\n",
              "    <path d=\"M0 0h24v24H0V0z\" fill=\"none\"/>\n",
              "    <path d=\"M18.56 5.44l.94 2.06.94-2.06 2.06-.94-2.06-.94-.94-2.06-.94 2.06-2.06.94zm-11 1L8.5 8.5l.94-2.06 2.06-.94-2.06-.94L8.5 2.5l-.94 2.06-2.06.94zm10 10l.94 2.06.94-2.06 2.06-.94-2.06-.94-.94-2.06-.94 2.06-2.06.94z\"/><path d=\"M17.41 7.96l-1.37-1.37c-.4-.4-.92-.59-1.43-.59-.52 0-1.04.2-1.43.59L10.3 9.45l-7.72 7.72c-.78.78-.78 2.05 0 2.83L4 21.41c.39.39.9.59 1.41.59.51 0 1.02-.2 1.41-.59l7.78-7.78 2.81-2.81c.8-.78.8-2.07 0-2.86zM5.41 20L4 18.59l7.72-7.72 1.47 1.35L5.41 20z\"/>\n",
              "  </svg>\n",
              "      </button>\n",
              "      \n",
              "  <style>\n",
              "    .colab-df-container {\n",
              "      display:flex;\n",
              "      flex-wrap:wrap;\n",
              "      gap: 12px;\n",
              "    }\n",
              "\n",
              "    .colab-df-convert {\n",
              "      background-color: #E8F0FE;\n",
              "      border: none;\n",
              "      border-radius: 50%;\n",
              "      cursor: pointer;\n",
              "      display: none;\n",
              "      fill: #1967D2;\n",
              "      height: 32px;\n",
              "      padding: 0 0 0 0;\n",
              "      width: 32px;\n",
              "    }\n",
              "\n",
              "    .colab-df-convert:hover {\n",
              "      background-color: #E2EBFA;\n",
              "      box-shadow: 0px 1px 2px rgba(60, 64, 67, 0.3), 0px 1px 3px 1px rgba(60, 64, 67, 0.15);\n",
              "      fill: #174EA6;\n",
              "    }\n",
              "\n",
              "    [theme=dark] .colab-df-convert {\n",
              "      background-color: #3B4455;\n",
              "      fill: #D2E3FC;\n",
              "    }\n",
              "\n",
              "    [theme=dark] .colab-df-convert:hover {\n",
              "      background-color: #434B5C;\n",
              "      box-shadow: 0px 1px 3px 1px rgba(0, 0, 0, 0.15);\n",
              "      filter: drop-shadow(0px 1px 2px rgba(0, 0, 0, 0.3));\n",
              "      fill: #FFFFFF;\n",
              "    }\n",
              "  </style>\n",
              "\n",
              "      <script>\n",
              "        const buttonEl =\n",
              "          document.querySelector('#df-bfa54c2f-2fc9-4b3a-985a-6a6033d4cbd8 button.colab-df-convert');\n",
              "        buttonEl.style.display =\n",
              "          google.colab.kernel.accessAllowed ? 'block' : 'none';\n",
              "\n",
              "        async function convertToInteractive(key) {\n",
              "          const element = document.querySelector('#df-bfa54c2f-2fc9-4b3a-985a-6a6033d4cbd8');\n",
              "          const dataTable =\n",
              "            await google.colab.kernel.invokeFunction('convertToInteractive',\n",
              "                                                     [key], {});\n",
              "          if (!dataTable) return;\n",
              "\n",
              "          const docLinkHtml = 'Like what you see? Visit the ' +\n",
              "            '<a target=\"_blank\" href=https://colab.research.google.com/notebooks/data_table.ipynb>data table notebook</a>'\n",
              "            + ' to learn more about interactive tables.';\n",
              "          element.innerHTML = '';\n",
              "          dataTable['output_type'] = 'display_data';\n",
              "          await google.colab.output.renderOutput(dataTable, element);\n",
              "          const docLink = document.createElement('div');\n",
              "          docLink.innerHTML = docLinkHtml;\n",
              "          element.appendChild(docLink);\n",
              "        }\n",
              "      </script>\n",
              "    </div>\n",
              "  </div>\n",
              "  "
            ]
          },
          "metadata": {}
        },
        {
          "output_type": "display_data",
          "data": {
            "text/plain": [
              "'Without stopwords and lemma, stemmed'"
            ],
            "application/vnd.google.colaboratory.intrinsic+json": {
              "type": "string"
            }
          },
          "metadata": {}
        },
        {
          "output_type": "display_data",
          "data": {
            "text/plain": [
              "                      q1                     q2  is_duplicate\n",
              "272872   feel like quora   feel like post quora             1"
            ],
            "text/html": [
              "\n",
              "  <div id=\"df-95b37a17-ea19-47c9-afa4-de2a8856c27d\">\n",
              "    <div class=\"colab-df-container\">\n",
              "      <div>\n",
              "<style scoped>\n",
              "    .dataframe tbody tr th:only-of-type {\n",
              "        vertical-align: middle;\n",
              "    }\n",
              "\n",
              "    .dataframe tbody tr th {\n",
              "        vertical-align: top;\n",
              "    }\n",
              "\n",
              "    .dataframe thead th {\n",
              "        text-align: right;\n",
              "    }\n",
              "</style>\n",
              "<table border=\"1\" class=\"dataframe\">\n",
              "  <thead>\n",
              "    <tr style=\"text-align: right;\">\n",
              "      <th></th>\n",
              "      <th>q1</th>\n",
              "      <th>q2</th>\n",
              "      <th>is_duplicate</th>\n",
              "    </tr>\n",
              "  </thead>\n",
              "  <tbody>\n",
              "    <tr>\n",
              "      <th>272872</th>\n",
              "      <td>feel like quora</td>\n",
              "      <td>feel like post quora</td>\n",
              "      <td>1</td>\n",
              "    </tr>\n",
              "  </tbody>\n",
              "</table>\n",
              "</div>\n",
              "      <button class=\"colab-df-convert\" onclick=\"convertToInteractive('df-95b37a17-ea19-47c9-afa4-de2a8856c27d')\"\n",
              "              title=\"Convert this dataframe to an interactive table.\"\n",
              "              style=\"display:none;\">\n",
              "        \n",
              "  <svg xmlns=\"http://www.w3.org/2000/svg\" height=\"24px\"viewBox=\"0 0 24 24\"\n",
              "       width=\"24px\">\n",
              "    <path d=\"M0 0h24v24H0V0z\" fill=\"none\"/>\n",
              "    <path d=\"M18.56 5.44l.94 2.06.94-2.06 2.06-.94-2.06-.94-.94-2.06-.94 2.06-2.06.94zm-11 1L8.5 8.5l.94-2.06 2.06-.94-2.06-.94L8.5 2.5l-.94 2.06-2.06.94zm10 10l.94 2.06.94-2.06 2.06-.94-2.06-.94-.94-2.06-.94 2.06-2.06.94z\"/><path d=\"M17.41 7.96l-1.37-1.37c-.4-.4-.92-.59-1.43-.59-.52 0-1.04.2-1.43.59L10.3 9.45l-7.72 7.72c-.78.78-.78 2.05 0 2.83L4 21.41c.39.39.9.59 1.41.59.51 0 1.02-.2 1.41-.59l7.78-7.78 2.81-2.81c.8-.78.8-2.07 0-2.86zM5.41 20L4 18.59l7.72-7.72 1.47 1.35L5.41 20z\"/>\n",
              "  </svg>\n",
              "      </button>\n",
              "      \n",
              "  <style>\n",
              "    .colab-df-container {\n",
              "      display:flex;\n",
              "      flex-wrap:wrap;\n",
              "      gap: 12px;\n",
              "    }\n",
              "\n",
              "    .colab-df-convert {\n",
              "      background-color: #E8F0FE;\n",
              "      border: none;\n",
              "      border-radius: 50%;\n",
              "      cursor: pointer;\n",
              "      display: none;\n",
              "      fill: #1967D2;\n",
              "      height: 32px;\n",
              "      padding: 0 0 0 0;\n",
              "      width: 32px;\n",
              "    }\n",
              "\n",
              "    .colab-df-convert:hover {\n",
              "      background-color: #E2EBFA;\n",
              "      box-shadow: 0px 1px 2px rgba(60, 64, 67, 0.3), 0px 1px 3px 1px rgba(60, 64, 67, 0.15);\n",
              "      fill: #174EA6;\n",
              "    }\n",
              "\n",
              "    [theme=dark] .colab-df-convert {\n",
              "      background-color: #3B4455;\n",
              "      fill: #D2E3FC;\n",
              "    }\n",
              "\n",
              "    [theme=dark] .colab-df-convert:hover {\n",
              "      background-color: #434B5C;\n",
              "      box-shadow: 0px 1px 3px 1px rgba(0, 0, 0, 0.15);\n",
              "      filter: drop-shadow(0px 1px 2px rgba(0, 0, 0, 0.3));\n",
              "      fill: #FFFFFF;\n",
              "    }\n",
              "  </style>\n",
              "\n",
              "      <script>\n",
              "        const buttonEl =\n",
              "          document.querySelector('#df-95b37a17-ea19-47c9-afa4-de2a8856c27d button.colab-df-convert');\n",
              "        buttonEl.style.display =\n",
              "          google.colab.kernel.accessAllowed ? 'block' : 'none';\n",
              "\n",
              "        async function convertToInteractive(key) {\n",
              "          const element = document.querySelector('#df-95b37a17-ea19-47c9-afa4-de2a8856c27d');\n",
              "          const dataTable =\n",
              "            await google.colab.kernel.invokeFunction('convertToInteractive',\n",
              "                                                     [key], {});\n",
              "          if (!dataTable) return;\n",
              "\n",
              "          const docLinkHtml = 'Like what you see? Visit the ' +\n",
              "            '<a target=\"_blank\" href=https://colab.research.google.com/notebooks/data_table.ipynb>data table notebook</a>'\n",
              "            + ' to learn more about interactive tables.';\n",
              "          element.innerHTML = '';\n",
              "          dataTable['output_type'] = 'display_data';\n",
              "          await google.colab.output.renderOutput(dataTable, element);\n",
              "          const docLink = document.createElement('div');\n",
              "          docLink.innerHTML = docLinkHtml;\n",
              "          element.appendChild(docLink);\n",
              "        }\n",
              "      </script>\n",
              "    </div>\n",
              "  </div>\n",
              "  "
            ]
          },
          "metadata": {}
        }
      ]
    },
    {
      "cell_type": "code",
      "source": [
        "# print('Value counts:\\n', X_sw_train['is_duplicate'].value_counts())\n",
        "# print('\\nPercent of labels value:\\n', X_sw_train['is_duplicate'].value_counts()/X_sw_train['is_duplicate'].count()*100)\n",
        "# X_sw_train['is_duplicate'].value_counts().plot(kind = 'bar')\n",
        "# plt.title('\\nDistribution of train labels', color = 'purple', size = 12)\n",
        "# plt.show()"
      ],
      "metadata": {
        "id": "pDav_LwGEmzm"
      },
      "execution_count": null,
      "outputs": []
    },
    {
      "cell_type": "code",
      "source": [
        "# print('Value counts:\\n', X_sw_test['is_duplicate'].value_counts())\n",
        "# print('\\nPercent of labels value:\\n', X_sw_test['is_duplicate'].value_counts()/X_sw_test['is_duplicate'].count()*100)\n",
        "# X_sw_test['is_duplicate'].value_counts().plot(kind = 'bar')\n",
        "# plt.title('\\nDistribution of test labels', color = 'purple', size = 12)\n",
        "# plt.show()"
      ],
      "metadata": {
        "id": "3_2e5g9UXY4Q"
      },
      "execution_count": null,
      "outputs": []
    },
    {
      "cell_type": "code",
      "source": [
        "# display (X_sw_train.head(2))\n",
        "# display(X_sw_test.head(2))\n",
        "# display(df_clean.head(2))"
      ],
      "metadata": {
        "id": "HGkjnpdXEoXd"
      },
      "execution_count": null,
      "outputs": []
    },
    {
      "cell_type": "code",
      "source": [
        "#X_sw_test[X_sw_test.isnull().any(axis=1)]"
      ],
      "metadata": {
        "id": "758pchOPXiy4"
      },
      "execution_count": null,
      "outputs": []
    },
    {
      "cell_type": "markdown",
      "source": [
        "# *TOKENIZATION"
      ],
      "metadata": {
        "id": "Tkas5cGGBk-G"
      }
    },
    {
      "cell_type": "code",
      "source": [
        "def tokenization(text):\n",
        "    tokens = re.split(' ',text)\n",
        "    return tokens\n",
        "def token(text):\n",
        "    text = text.apply(lambda x: tokenization(x))\n",
        "    return text"
      ],
      "metadata": {
        "id": "05E4u-vAKISG"
      },
      "execution_count": 14,
      "outputs": []
    },
    {
      "cell_type": "code",
      "source": [
        "#Tokenize - lemmatized data without stopwords\n",
        "df_lemma['q1'] = df_lemma['q1'].pipe(token) \n",
        "df_lemma['q2'] = df_lemma['q2'].pipe(token) \n",
        "df_lemma.head(2)"
      ],
      "metadata": {
        "colab": {
          "base_uri": "https://localhost:8080/",
          "height": 112
        },
        "id": "9-cgiLi0KsmR",
        "outputId": "62a68781-386b-4d7b-a40d-5dd78fcd52a4"
      },
      "execution_count": null,
      "outputs": [
        {
          "output_type": "execute_result",
          "data": {
            "text/plain": [
              "                                         q1                                q2  \\\n",
              "296968  [indian, lamborghini, usa, legally]  [study, usa, indian, good, idea]   \n",
              "236824                     [learn, english]                  [learn, english]   \n",
              "\n",
              "        is_duplicate  \n",
              "296968             0  \n",
              "236824             0  "
            ],
            "text/html": [
              "\n",
              "  <div id=\"df-025ca1b9-2ff5-4101-8010-506657a717e2\">\n",
              "    <div class=\"colab-df-container\">\n",
              "      <div>\n",
              "<style scoped>\n",
              "    .dataframe tbody tr th:only-of-type {\n",
              "        vertical-align: middle;\n",
              "    }\n",
              "\n",
              "    .dataframe tbody tr th {\n",
              "        vertical-align: top;\n",
              "    }\n",
              "\n",
              "    .dataframe thead th {\n",
              "        text-align: right;\n",
              "    }\n",
              "</style>\n",
              "<table border=\"1\" class=\"dataframe\">\n",
              "  <thead>\n",
              "    <tr style=\"text-align: right;\">\n",
              "      <th></th>\n",
              "      <th>q1</th>\n",
              "      <th>q2</th>\n",
              "      <th>is_duplicate</th>\n",
              "    </tr>\n",
              "  </thead>\n",
              "  <tbody>\n",
              "    <tr>\n",
              "      <th>296968</th>\n",
              "      <td>[indian, lamborghini, usa, legally]</td>\n",
              "      <td>[study, usa, indian, good, idea]</td>\n",
              "      <td>0</td>\n",
              "    </tr>\n",
              "    <tr>\n",
              "      <th>236824</th>\n",
              "      <td>[learn, english]</td>\n",
              "      <td>[learn, english]</td>\n",
              "      <td>0</td>\n",
              "    </tr>\n",
              "  </tbody>\n",
              "</table>\n",
              "</div>\n",
              "      <button class=\"colab-df-convert\" onclick=\"convertToInteractive('df-025ca1b9-2ff5-4101-8010-506657a717e2')\"\n",
              "              title=\"Convert this dataframe to an interactive table.\"\n",
              "              style=\"display:none;\">\n",
              "        \n",
              "  <svg xmlns=\"http://www.w3.org/2000/svg\" height=\"24px\"viewBox=\"0 0 24 24\"\n",
              "       width=\"24px\">\n",
              "    <path d=\"M0 0h24v24H0V0z\" fill=\"none\"/>\n",
              "    <path d=\"M18.56 5.44l.94 2.06.94-2.06 2.06-.94-2.06-.94-.94-2.06-.94 2.06-2.06.94zm-11 1L8.5 8.5l.94-2.06 2.06-.94-2.06-.94L8.5 2.5l-.94 2.06-2.06.94zm10 10l.94 2.06.94-2.06 2.06-.94-2.06-.94-.94-2.06-.94 2.06-2.06.94z\"/><path d=\"M17.41 7.96l-1.37-1.37c-.4-.4-.92-.59-1.43-.59-.52 0-1.04.2-1.43.59L10.3 9.45l-7.72 7.72c-.78.78-.78 2.05 0 2.83L4 21.41c.39.39.9.59 1.41.59.51 0 1.02-.2 1.41-.59l7.78-7.78 2.81-2.81c.8-.78.8-2.07 0-2.86zM5.41 20L4 18.59l7.72-7.72 1.47 1.35L5.41 20z\"/>\n",
              "  </svg>\n",
              "      </button>\n",
              "      \n",
              "  <style>\n",
              "    .colab-df-container {\n",
              "      display:flex;\n",
              "      flex-wrap:wrap;\n",
              "      gap: 12px;\n",
              "    }\n",
              "\n",
              "    .colab-df-convert {\n",
              "      background-color: #E8F0FE;\n",
              "      border: none;\n",
              "      border-radius: 50%;\n",
              "      cursor: pointer;\n",
              "      display: none;\n",
              "      fill: #1967D2;\n",
              "      height: 32px;\n",
              "      padding: 0 0 0 0;\n",
              "      width: 32px;\n",
              "    }\n",
              "\n",
              "    .colab-df-convert:hover {\n",
              "      background-color: #E2EBFA;\n",
              "      box-shadow: 0px 1px 2px rgba(60, 64, 67, 0.3), 0px 1px 3px 1px rgba(60, 64, 67, 0.15);\n",
              "      fill: #174EA6;\n",
              "    }\n",
              "\n",
              "    [theme=dark] .colab-df-convert {\n",
              "      background-color: #3B4455;\n",
              "      fill: #D2E3FC;\n",
              "    }\n",
              "\n",
              "    [theme=dark] .colab-df-convert:hover {\n",
              "      background-color: #434B5C;\n",
              "      box-shadow: 0px 1px 3px 1px rgba(0, 0, 0, 0.15);\n",
              "      filter: drop-shadow(0px 1px 2px rgba(0, 0, 0, 0.3));\n",
              "      fill: #FFFFFF;\n",
              "    }\n",
              "  </style>\n",
              "\n",
              "      <script>\n",
              "        const buttonEl =\n",
              "          document.querySelector('#df-025ca1b9-2ff5-4101-8010-506657a717e2 button.colab-df-convert');\n",
              "        buttonEl.style.display =\n",
              "          google.colab.kernel.accessAllowed ? 'block' : 'none';\n",
              "\n",
              "        async function convertToInteractive(key) {\n",
              "          const element = document.querySelector('#df-025ca1b9-2ff5-4101-8010-506657a717e2');\n",
              "          const dataTable =\n",
              "            await google.colab.kernel.invokeFunction('convertToInteractive',\n",
              "                                                     [key], {});\n",
              "          if (!dataTable) return;\n",
              "\n",
              "          const docLinkHtml = 'Like what you see? Visit the ' +\n",
              "            '<a target=\"_blank\" href=https://colab.research.google.com/notebooks/data_table.ipynb>data table notebook</a>'\n",
              "            + ' to learn more about interactive tables.';\n",
              "          element.innerHTML = '';\n",
              "          dataTable['output_type'] = 'display_data';\n",
              "          await google.colab.output.renderOutput(dataTable, element);\n",
              "          const docLink = document.createElement('div');\n",
              "          docLink.innerHTML = docLinkHtml;\n",
              "          element.appendChild(docLink);\n",
              "        }\n",
              "      </script>\n",
              "    </div>\n",
              "  </div>\n",
              "  "
            ]
          },
          "metadata": {},
          "execution_count": 43
        }
      ]
    },
    {
      "cell_type": "code",
      "source": [
        "# Tokenize - lemmatized data with stopwords\n",
        "df_sw_lemma['q1'] = df_sw_lemma['q1'].pipe(token) \n",
        "df_sw_lemma['q2'] = df_sw_lemma['q2'].pipe(token) \n",
        "df_sw_lemma.head(2)"
      ],
      "metadata": {
        "id": "0OBQgw2Sp9qL"
      },
      "execution_count": null,
      "outputs": []
    },
    {
      "cell_type": "code",
      "source": [
        "# Tokenize - Stemmed data with stopwords\n",
        "df_sw_stem['q1'] = df_sw_stem['q1'].pipe(token) \n",
        "df_sw_stem['q2'] = df_sw_stem['q2'].pipe(token) \n",
        "df_sw_stem.head(2)"
      ],
      "metadata": {
        "id": "oST0zN9yp2vX",
        "colab": {
          "base_uri": "https://localhost:8080/",
          "height": 112
        },
        "outputId": "4aacef5e-4a96-4707-8de7-5fea7db525d6"
      },
      "execution_count": 15,
      "outputs": [
        {
          "output_type": "execute_result",
          "data": {
            "text/plain": [
              "                                                       q1  \\\n",
              "11965   [, what, is, the, list, of, job, titl, at, rsm...   \n",
              "342404  [, should, peopl, over, 94, not, be, allow, to...   \n",
              "\n",
              "                                                       q2  is_duplicate  \n",
              "11965   [, which, countri, is, the, best, to, work, in...             0  \n",
              "342404  [, should, peopl, over, 97, not, be, allow, to...             1  "
            ],
            "text/html": [
              "\n",
              "  <div id=\"df-5c7f6d77-7031-44ac-ae9b-67c71626d526\">\n",
              "    <div class=\"colab-df-container\">\n",
              "      <div>\n",
              "<style scoped>\n",
              "    .dataframe tbody tr th:only-of-type {\n",
              "        vertical-align: middle;\n",
              "    }\n",
              "\n",
              "    .dataframe tbody tr th {\n",
              "        vertical-align: top;\n",
              "    }\n",
              "\n",
              "    .dataframe thead th {\n",
              "        text-align: right;\n",
              "    }\n",
              "</style>\n",
              "<table border=\"1\" class=\"dataframe\">\n",
              "  <thead>\n",
              "    <tr style=\"text-align: right;\">\n",
              "      <th></th>\n",
              "      <th>q1</th>\n",
              "      <th>q2</th>\n",
              "      <th>is_duplicate</th>\n",
              "    </tr>\n",
              "  </thead>\n",
              "  <tbody>\n",
              "    <tr>\n",
              "      <th>11965</th>\n",
              "      <td>[, what, is, the, list, of, job, titl, at, rsm...</td>\n",
              "      <td>[, which, countri, is, the, best, to, work, in...</td>\n",
              "      <td>0</td>\n",
              "    </tr>\n",
              "    <tr>\n",
              "      <th>342404</th>\n",
              "      <td>[, should, peopl, over, 94, not, be, allow, to...</td>\n",
              "      <td>[, should, peopl, over, 97, not, be, allow, to...</td>\n",
              "      <td>1</td>\n",
              "    </tr>\n",
              "  </tbody>\n",
              "</table>\n",
              "</div>\n",
              "      <button class=\"colab-df-convert\" onclick=\"convertToInteractive('df-5c7f6d77-7031-44ac-ae9b-67c71626d526')\"\n",
              "              title=\"Convert this dataframe to an interactive table.\"\n",
              "              style=\"display:none;\">\n",
              "        \n",
              "  <svg xmlns=\"http://www.w3.org/2000/svg\" height=\"24px\"viewBox=\"0 0 24 24\"\n",
              "       width=\"24px\">\n",
              "    <path d=\"M0 0h24v24H0V0z\" fill=\"none\"/>\n",
              "    <path d=\"M18.56 5.44l.94 2.06.94-2.06 2.06-.94-2.06-.94-.94-2.06-.94 2.06-2.06.94zm-11 1L8.5 8.5l.94-2.06 2.06-.94-2.06-.94L8.5 2.5l-.94 2.06-2.06.94zm10 10l.94 2.06.94-2.06 2.06-.94-2.06-.94-.94-2.06-.94 2.06-2.06.94z\"/><path d=\"M17.41 7.96l-1.37-1.37c-.4-.4-.92-.59-1.43-.59-.52 0-1.04.2-1.43.59L10.3 9.45l-7.72 7.72c-.78.78-.78 2.05 0 2.83L4 21.41c.39.39.9.59 1.41.59.51 0 1.02-.2 1.41-.59l7.78-7.78 2.81-2.81c.8-.78.8-2.07 0-2.86zM5.41 20L4 18.59l7.72-7.72 1.47 1.35L5.41 20z\"/>\n",
              "  </svg>\n",
              "      </button>\n",
              "      \n",
              "  <style>\n",
              "    .colab-df-container {\n",
              "      display:flex;\n",
              "      flex-wrap:wrap;\n",
              "      gap: 12px;\n",
              "    }\n",
              "\n",
              "    .colab-df-convert {\n",
              "      background-color: #E8F0FE;\n",
              "      border: none;\n",
              "      border-radius: 50%;\n",
              "      cursor: pointer;\n",
              "      display: none;\n",
              "      fill: #1967D2;\n",
              "      height: 32px;\n",
              "      padding: 0 0 0 0;\n",
              "      width: 32px;\n",
              "    }\n",
              "\n",
              "    .colab-df-convert:hover {\n",
              "      background-color: #E2EBFA;\n",
              "      box-shadow: 0px 1px 2px rgba(60, 64, 67, 0.3), 0px 1px 3px 1px rgba(60, 64, 67, 0.15);\n",
              "      fill: #174EA6;\n",
              "    }\n",
              "\n",
              "    [theme=dark] .colab-df-convert {\n",
              "      background-color: #3B4455;\n",
              "      fill: #D2E3FC;\n",
              "    }\n",
              "\n",
              "    [theme=dark] .colab-df-convert:hover {\n",
              "      background-color: #434B5C;\n",
              "      box-shadow: 0px 1px 3px 1px rgba(0, 0, 0, 0.15);\n",
              "      filter: drop-shadow(0px 1px 2px rgba(0, 0, 0, 0.3));\n",
              "      fill: #FFFFFF;\n",
              "    }\n",
              "  </style>\n",
              "\n",
              "      <script>\n",
              "        const buttonEl =\n",
              "          document.querySelector('#df-5c7f6d77-7031-44ac-ae9b-67c71626d526 button.colab-df-convert');\n",
              "        buttonEl.style.display =\n",
              "          google.colab.kernel.accessAllowed ? 'block' : 'none';\n",
              "\n",
              "        async function convertToInteractive(key) {\n",
              "          const element = document.querySelector('#df-5c7f6d77-7031-44ac-ae9b-67c71626d526');\n",
              "          const dataTable =\n",
              "            await google.colab.kernel.invokeFunction('convertToInteractive',\n",
              "                                                     [key], {});\n",
              "          if (!dataTable) return;\n",
              "\n",
              "          const docLinkHtml = 'Like what you see? Visit the ' +\n",
              "            '<a target=\"_blank\" href=https://colab.research.google.com/notebooks/data_table.ipynb>data table notebook</a>'\n",
              "            + ' to learn more about interactive tables.';\n",
              "          element.innerHTML = '';\n",
              "          dataTable['output_type'] = 'display_data';\n",
              "          await google.colab.output.renderOutput(dataTable, element);\n",
              "          const docLink = document.createElement('div');\n",
              "          docLink.innerHTML = docLinkHtml;\n",
              "          element.appendChild(docLink);\n",
              "        }\n",
              "      </script>\n",
              "    </div>\n",
              "  </div>\n",
              "  "
            ]
          },
          "metadata": {},
          "execution_count": 15
        }
      ]
    },
    {
      "cell_type": "code",
      "source": [
        "# Tokenize - Stemmed data without stopwords\n",
        "df_stem['q1'] = df_stem['q1'].pipe(token) \n",
        "df_stem['q2'] = df_stem['q2'].pipe(token) \n",
        "df_stem.head(2)"
      ],
      "metadata": {
        "colab": {
          "base_uri": "https://localhost:8080/",
          "height": 112
        },
        "id": "7IGKOueUSbnc",
        "outputId": "7361fee1-08d6-47e3-f950-3e2ed7df22fb"
      },
      "execution_count": null,
      "outputs": [
        {
          "output_type": "execute_result",
          "data": {
            "text/plain": [
              "                                                       q1  \\\n",
              "327246  [, can, i, regist, my, startup, compani, in, t...   \n",
              "26328   [, what, is, a, good, entrylevel, job, in, the...   \n",
              "\n",
              "                                                       q2  is_duplicate  \n",
              "327246  [, can, i, start, a, compani, in, the, us, wit...             1  \n",
              "26328   [, what, are, the, best, entri, level, job, in...             0  "
            ],
            "text/html": [
              "\n",
              "  <div id=\"df-68f7ab80-0319-446d-a0b8-1469bf0e2c81\">\n",
              "    <div class=\"colab-df-container\">\n",
              "      <div>\n",
              "<style scoped>\n",
              "    .dataframe tbody tr th:only-of-type {\n",
              "        vertical-align: middle;\n",
              "    }\n",
              "\n",
              "    .dataframe tbody tr th {\n",
              "        vertical-align: top;\n",
              "    }\n",
              "\n",
              "    .dataframe thead th {\n",
              "        text-align: right;\n",
              "    }\n",
              "</style>\n",
              "<table border=\"1\" class=\"dataframe\">\n",
              "  <thead>\n",
              "    <tr style=\"text-align: right;\">\n",
              "      <th></th>\n",
              "      <th>q1</th>\n",
              "      <th>q2</th>\n",
              "      <th>is_duplicate</th>\n",
              "    </tr>\n",
              "  </thead>\n",
              "  <tbody>\n",
              "    <tr>\n",
              "      <th>327246</th>\n",
              "      <td>[, can, i, regist, my, startup, compani, in, t...</td>\n",
              "      <td>[, can, i, start, a, compani, in, the, us, wit...</td>\n",
              "      <td>1</td>\n",
              "    </tr>\n",
              "    <tr>\n",
              "      <th>26328</th>\n",
              "      <td>[, what, is, a, good, entrylevel, job, in, the...</td>\n",
              "      <td>[, what, are, the, best, entri, level, job, in...</td>\n",
              "      <td>0</td>\n",
              "    </tr>\n",
              "  </tbody>\n",
              "</table>\n",
              "</div>\n",
              "      <button class=\"colab-df-convert\" onclick=\"convertToInteractive('df-68f7ab80-0319-446d-a0b8-1469bf0e2c81')\"\n",
              "              title=\"Convert this dataframe to an interactive table.\"\n",
              "              style=\"display:none;\">\n",
              "        \n",
              "  <svg xmlns=\"http://www.w3.org/2000/svg\" height=\"24px\"viewBox=\"0 0 24 24\"\n",
              "       width=\"24px\">\n",
              "    <path d=\"M0 0h24v24H0V0z\" fill=\"none\"/>\n",
              "    <path d=\"M18.56 5.44l.94 2.06.94-2.06 2.06-.94-2.06-.94-.94-2.06-.94 2.06-2.06.94zm-11 1L8.5 8.5l.94-2.06 2.06-.94-2.06-.94L8.5 2.5l-.94 2.06-2.06.94zm10 10l.94 2.06.94-2.06 2.06-.94-2.06-.94-.94-2.06-.94 2.06-2.06.94z\"/><path d=\"M17.41 7.96l-1.37-1.37c-.4-.4-.92-.59-1.43-.59-.52 0-1.04.2-1.43.59L10.3 9.45l-7.72 7.72c-.78.78-.78 2.05 0 2.83L4 21.41c.39.39.9.59 1.41.59.51 0 1.02-.2 1.41-.59l7.78-7.78 2.81-2.81c.8-.78.8-2.07 0-2.86zM5.41 20L4 18.59l7.72-7.72 1.47 1.35L5.41 20z\"/>\n",
              "  </svg>\n",
              "      </button>\n",
              "      \n",
              "  <style>\n",
              "    .colab-df-container {\n",
              "      display:flex;\n",
              "      flex-wrap:wrap;\n",
              "      gap: 12px;\n",
              "    }\n",
              "\n",
              "    .colab-df-convert {\n",
              "      background-color: #E8F0FE;\n",
              "      border: none;\n",
              "      border-radius: 50%;\n",
              "      cursor: pointer;\n",
              "      display: none;\n",
              "      fill: #1967D2;\n",
              "      height: 32px;\n",
              "      padding: 0 0 0 0;\n",
              "      width: 32px;\n",
              "    }\n",
              "\n",
              "    .colab-df-convert:hover {\n",
              "      background-color: #E2EBFA;\n",
              "      box-shadow: 0px 1px 2px rgba(60, 64, 67, 0.3), 0px 1px 3px 1px rgba(60, 64, 67, 0.15);\n",
              "      fill: #174EA6;\n",
              "    }\n",
              "\n",
              "    [theme=dark] .colab-df-convert {\n",
              "      background-color: #3B4455;\n",
              "      fill: #D2E3FC;\n",
              "    }\n",
              "\n",
              "    [theme=dark] .colab-df-convert:hover {\n",
              "      background-color: #434B5C;\n",
              "      box-shadow: 0px 1px 3px 1px rgba(0, 0, 0, 0.15);\n",
              "      filter: drop-shadow(0px 1px 2px rgba(0, 0, 0, 0.3));\n",
              "      fill: #FFFFFF;\n",
              "    }\n",
              "  </style>\n",
              "\n",
              "      <script>\n",
              "        const buttonEl =\n",
              "          document.querySelector('#df-68f7ab80-0319-446d-a0b8-1469bf0e2c81 button.colab-df-convert');\n",
              "        buttonEl.style.display =\n",
              "          google.colab.kernel.accessAllowed ? 'block' : 'none';\n",
              "\n",
              "        async function convertToInteractive(key) {\n",
              "          const element = document.querySelector('#df-68f7ab80-0319-446d-a0b8-1469bf0e2c81');\n",
              "          const dataTable =\n",
              "            await google.colab.kernel.invokeFunction('convertToInteractive',\n",
              "                                                     [key], {});\n",
              "          if (!dataTable) return;\n",
              "\n",
              "          const docLinkHtml = 'Like what you see? Visit the ' +\n",
              "            '<a target=\"_blank\" href=https://colab.research.google.com/notebooks/data_table.ipynb>data table notebook</a>'\n",
              "            + ' to learn more about interactive tables.';\n",
              "          element.innerHTML = '';\n",
              "          dataTable['output_type'] = 'display_data';\n",
              "          await google.colab.output.renderOutput(dataTable, element);\n",
              "          const docLink = document.createElement('div');\n",
              "          docLink.innerHTML = docLinkHtml;\n",
              "          element.appendChild(docLink);\n",
              "        }\n",
              "      </script>\n",
              "    </div>\n",
              "  </div>\n",
              "  "
            ]
          },
          "metadata": {},
          "execution_count": 58
        }
      ]
    },
    {
      "cell_type": "code",
      "source": [
        "# Tokenize - With stopwords, not lemmatized nor stemmed\n",
        "df_sw['q1'] = df_sw['q1'].pipe(token) \n",
        "df_sw['q2'] = df_sw['q2'].pipe(token) \n",
        "df_stem.head(2)"
      ],
      "metadata": {
        "id": "aMHmrhBfpbb7"
      },
      "execution_count": null,
      "outputs": []
    },
    {
      "cell_type": "code",
      "source": [
        "# Tokenize - Without stopwords, not lemmatized nor stemmed\n",
        "df_out['q1'] = df_out['q1'].pipe(token) \n",
        "df_out['q2'] = df_out['q2'].pipe(token) \n",
        "df_out.head(2)"
      ],
      "metadata": {
        "colab": {
          "base_uri": "https://localhost:8080/",
          "height": 224
        },
        "id": "mOIFw09PplSu",
        "outputId": "d9f12f16-5354-4fba-807f-61ad0b92fa6e"
      },
      "execution_count": null,
      "outputs": [
        {
          "output_type": "error",
          "ename": "NameError",
          "evalue": "ignored",
          "traceback": [
            "\u001b[0;31m---------------------------------------------------------------------------\u001b[0m",
            "\u001b[0;31mNameError\u001b[0m                                 Traceback (most recent call last)",
            "\u001b[0;32m<ipython-input-74-c8ddd266603c>\u001b[0m in \u001b[0;36m<module>\u001b[0;34m\u001b[0m\n\u001b[1;32m      1\u001b[0m \u001b[0;31m# Tokenize - Without stopwords, not lemmatized nor stemmed\u001b[0m\u001b[0;34m\u001b[0m\u001b[0;34m\u001b[0m\u001b[0;34m\u001b[0m\u001b[0m\n\u001b[0;32m----> 2\u001b[0;31m \u001b[0mdf_token_out\u001b[0m\u001b[0;34m[\u001b[0m\u001b[0;34m'q1'\u001b[0m\u001b[0;34m]\u001b[0m \u001b[0;34m=\u001b[0m \u001b[0mdf_out\u001b[0m\u001b[0;34m[\u001b[0m\u001b[0;34m'q1'\u001b[0m\u001b[0;34m]\u001b[0m\u001b[0;34m.\u001b[0m\u001b[0mpipe\u001b[0m\u001b[0;34m(\u001b[0m\u001b[0mtoken\u001b[0m\u001b[0;34m)\u001b[0m\u001b[0;34m\u001b[0m\u001b[0;34m\u001b[0m\u001b[0m\n\u001b[0m\u001b[1;32m      3\u001b[0m \u001b[0mdf_token_out\u001b[0m\u001b[0;34m[\u001b[0m\u001b[0;34m'q2'\u001b[0m\u001b[0;34m]\u001b[0m \u001b[0;34m=\u001b[0m \u001b[0mdf_out\u001b[0m\u001b[0;34m[\u001b[0m\u001b[0;34m'q2'\u001b[0m\u001b[0;34m]\u001b[0m\u001b[0;34m.\u001b[0m\u001b[0mpipe\u001b[0m\u001b[0;34m(\u001b[0m\u001b[0mtoken\u001b[0m\u001b[0;34m)\u001b[0m\u001b[0;34m\u001b[0m\u001b[0;34m\u001b[0m\u001b[0m\n\u001b[1;32m      4\u001b[0m \u001b[0mdf_token_out\u001b[0m\u001b[0;34m.\u001b[0m\u001b[0mhead\u001b[0m\u001b[0;34m(\u001b[0m\u001b[0;36m2\u001b[0m\u001b[0;34m)\u001b[0m\u001b[0;34m\u001b[0m\u001b[0;34m\u001b[0m\u001b[0m\n",
            "\u001b[0;31mNameError\u001b[0m: name 'df_token_out' is not defined"
          ]
        }
      ]
    },
    {
      "cell_type": "code",
      "source": [
        "df_sw_lemma.head(2)"
      ],
      "metadata": {
        "colab": {
          "base_uri": "https://localhost:8080/",
          "height": 112
        },
        "id": "rKqo_jv7upuE",
        "outputId": "52d13564-6afe-4856-ed0a-d217e937bea6"
      },
      "execution_count": null,
      "outputs": [
        {
          "output_type": "execute_result",
          "data": {
            "text/plain": [
              "                                                      q1  \\\n",
              "82361                            who invent wash machine   \n",
              "12785  be hack a crime when someone do it to earn mon...   \n",
              "\n",
              "                                                      q2  is_duplicate  \n",
              "82361                     who invent the washing machine             1  \n",
              "12785  what do pakistani girl look for in a guy objec...             0  "
            ],
            "text/html": [
              "\n",
              "  <div id=\"df-ffebc1a2-f4bd-44b0-82eb-6d93e636b94b\">\n",
              "    <div class=\"colab-df-container\">\n",
              "      <div>\n",
              "<style scoped>\n",
              "    .dataframe tbody tr th:only-of-type {\n",
              "        vertical-align: middle;\n",
              "    }\n",
              "\n",
              "    .dataframe tbody tr th {\n",
              "        vertical-align: top;\n",
              "    }\n",
              "\n",
              "    .dataframe thead th {\n",
              "        text-align: right;\n",
              "    }\n",
              "</style>\n",
              "<table border=\"1\" class=\"dataframe\">\n",
              "  <thead>\n",
              "    <tr style=\"text-align: right;\">\n",
              "      <th></th>\n",
              "      <th>q1</th>\n",
              "      <th>q2</th>\n",
              "      <th>is_duplicate</th>\n",
              "    </tr>\n",
              "  </thead>\n",
              "  <tbody>\n",
              "    <tr>\n",
              "      <th>82361</th>\n",
              "      <td>who invent wash machine</td>\n",
              "      <td>who invent the washing machine</td>\n",
              "      <td>1</td>\n",
              "    </tr>\n",
              "    <tr>\n",
              "      <th>12785</th>\n",
              "      <td>be hack a crime when someone do it to earn mon...</td>\n",
              "      <td>what do pakistani girl look for in a guy objec...</td>\n",
              "      <td>0</td>\n",
              "    </tr>\n",
              "  </tbody>\n",
              "</table>\n",
              "</div>\n",
              "      <button class=\"colab-df-convert\" onclick=\"convertToInteractive('df-ffebc1a2-f4bd-44b0-82eb-6d93e636b94b')\"\n",
              "              title=\"Convert this dataframe to an interactive table.\"\n",
              "              style=\"display:none;\">\n",
              "        \n",
              "  <svg xmlns=\"http://www.w3.org/2000/svg\" height=\"24px\"viewBox=\"0 0 24 24\"\n",
              "       width=\"24px\">\n",
              "    <path d=\"M0 0h24v24H0V0z\" fill=\"none\"/>\n",
              "    <path d=\"M18.56 5.44l.94 2.06.94-2.06 2.06-.94-2.06-.94-.94-2.06-.94 2.06-2.06.94zm-11 1L8.5 8.5l.94-2.06 2.06-.94-2.06-.94L8.5 2.5l-.94 2.06-2.06.94zm10 10l.94 2.06.94-2.06 2.06-.94-2.06-.94-.94-2.06-.94 2.06-2.06.94z\"/><path d=\"M17.41 7.96l-1.37-1.37c-.4-.4-.92-.59-1.43-.59-.52 0-1.04.2-1.43.59L10.3 9.45l-7.72 7.72c-.78.78-.78 2.05 0 2.83L4 21.41c.39.39.9.59 1.41.59.51 0 1.02-.2 1.41-.59l7.78-7.78 2.81-2.81c.8-.78.8-2.07 0-2.86zM5.41 20L4 18.59l7.72-7.72 1.47 1.35L5.41 20z\"/>\n",
              "  </svg>\n",
              "      </button>\n",
              "      \n",
              "  <style>\n",
              "    .colab-df-container {\n",
              "      display:flex;\n",
              "      flex-wrap:wrap;\n",
              "      gap: 12px;\n",
              "    }\n",
              "\n",
              "    .colab-df-convert {\n",
              "      background-color: #E8F0FE;\n",
              "      border: none;\n",
              "      border-radius: 50%;\n",
              "      cursor: pointer;\n",
              "      display: none;\n",
              "      fill: #1967D2;\n",
              "      height: 32px;\n",
              "      padding: 0 0 0 0;\n",
              "      width: 32px;\n",
              "    }\n",
              "\n",
              "    .colab-df-convert:hover {\n",
              "      background-color: #E2EBFA;\n",
              "      box-shadow: 0px 1px 2px rgba(60, 64, 67, 0.3), 0px 1px 3px 1px rgba(60, 64, 67, 0.15);\n",
              "      fill: #174EA6;\n",
              "    }\n",
              "\n",
              "    [theme=dark] .colab-df-convert {\n",
              "      background-color: #3B4455;\n",
              "      fill: #D2E3FC;\n",
              "    }\n",
              "\n",
              "    [theme=dark] .colab-df-convert:hover {\n",
              "      background-color: #434B5C;\n",
              "      box-shadow: 0px 1px 3px 1px rgba(0, 0, 0, 0.15);\n",
              "      filter: drop-shadow(0px 1px 2px rgba(0, 0, 0, 0.3));\n",
              "      fill: #FFFFFF;\n",
              "    }\n",
              "  </style>\n",
              "\n",
              "      <script>\n",
              "        const buttonEl =\n",
              "          document.querySelector('#df-ffebc1a2-f4bd-44b0-82eb-6d93e636b94b button.colab-df-convert');\n",
              "        buttonEl.style.display =\n",
              "          google.colab.kernel.accessAllowed ? 'block' : 'none';\n",
              "\n",
              "        async function convertToInteractive(key) {\n",
              "          const element = document.querySelector('#df-ffebc1a2-f4bd-44b0-82eb-6d93e636b94b');\n",
              "          const dataTable =\n",
              "            await google.colab.kernel.invokeFunction('convertToInteractive',\n",
              "                                                     [key], {});\n",
              "          if (!dataTable) return;\n",
              "\n",
              "          const docLinkHtml = 'Like what you see? Visit the ' +\n",
              "            '<a target=\"_blank\" href=https://colab.research.google.com/notebooks/data_table.ipynb>data table notebook</a>'\n",
              "            + ' to learn more about interactive tables.';\n",
              "          element.innerHTML = '';\n",
              "          dataTable['output_type'] = 'display_data';\n",
              "          await google.colab.output.renderOutput(dataTable, element);\n",
              "          const docLink = document.createElement('div');\n",
              "          docLink.innerHTML = docLinkHtml;\n",
              "          element.appendChild(docLink);\n",
              "        }\n",
              "      </script>\n",
              "    </div>\n",
              "  </div>\n",
              "  "
            ]
          },
          "metadata": {},
          "execution_count": 76
        }
      ]
    },
    {
      "cell_type": "markdown",
      "source": [
        "#### Doc2Vec Without Stopwords, not stemmed not lemmatized"
      ],
      "metadata": {
        "id": "3S2Ypm0hqKUq"
      }
    },
    {
      "cell_type": "code",
      "source": [
        "from gensim.models.doc2vec import Doc2Vec, TaggedDocument\n",
        "def doc2vec(df):\n",
        "  q1 = [TaggedDocument(d, [i]) for i, d in enumerate(df['q1'])]\n",
        "  q2 = [TaggedDocument(d, [i]) for i, d in enumerate(df['q2'])]\n",
        "  return q1, q2"
      ],
      "metadata": {
        "id": "mUvNpFMKqSkP"
      },
      "execution_count": 18,
      "outputs": []
    },
    {
      "cell_type": "code",
      "source": [
        "def model_doc2vec(q1, vector, epochs):\n",
        "  q1 = Doc2Vec(q1, dm = 1, vector_size = vector, window = 3, min_count = 2, epochs = epochs)\n",
        "  return q1"
      ],
      "metadata": {
        "id": "DI9pvKAVseUy"
      },
      "execution_count": 19,
      "outputs": []
    },
    {
      "cell_type": "markdown",
      "source": [
        "### Run Doc2Vec Function"
      ],
      "metadata": {
        "id": "3jTAR0XNxm4g"
      }
    },
    {
      "cell_type": "code",
      "source": [
        "#lemmatized, without stopwords\n",
        "q1_lemma_d2v, q2_lemma_d2v = doc2vec(df_lemma)\n",
        "assert len(q1_lemma_d2v) == len(q2_lemma_d2v)"
      ],
      "metadata": {
        "id": "eNIW8JQlxzeb"
      },
      "execution_count": 20,
      "outputs": []
    },
    {
      "cell_type": "code",
      "source": [
        "q1_lemma_d2v"
      ],
      "metadata": {
        "colab": {
          "base_uri": "https://localhost:8080/"
        },
        "id": "sz7ReGHXL4p6",
        "outputId": "cbb8fd0c-c9f0-469b-f39e-65ca1b2f3f73"
      },
      "execution_count": 21,
      "outputs": [
        {
          "output_type": "execute_result",
          "data": {
            "text/plain": [
              "[TaggedDocument(words='way hack facebook account', tags=[0]),\n",
              " TaggedDocument(words='vote donald trump president', tags=[1]),\n",
              " TaggedDocument(words='best way fight mental health issue', tags=[2]),\n",
              " TaggedDocument(words='cmu sphinx speech recognition', tags=[3]),\n",
              " TaggedDocument(words='know temperature sun', tags=[4]),\n",
              " TaggedDocument(words='slowly lose weight', tags=[5]),\n",
              " TaggedDocument(words='delete question quora', tags=[6]),\n",
              " TaggedDocument(words='data analyst job', tags=[7]),\n",
              " TaggedDocument(words='xiaomi redmi support video call', tags=[8]),\n",
              " TaggedDocument(words='step want start business', tags=[9]),\n",
              " TaggedDocument(words='mean dog bite dream', tags=[10]),\n",
              " TaggedDocument(words='log facebook password', tags=[11]),\n",
              " TaggedDocument(words='improve english aspect', tags=[12]),\n",
              " TaggedDocument(words='avoid mosquito house', tags=[13]),\n",
              " TaggedDocument(words='china best keep secret', tags=[14]),\n",
              " TaggedDocument(words='difference nagar palika nagar nigam nagar parishad', tags=[15]),\n",
              " TaggedDocument(words='richard muller know richard s muller', tags=[16]),\n",
              " TaggedDocument(words='probability big boss7 script', tags=[17]),\n",
              " TaggedDocument(words='mean celebration', tags=[18]),\n",
              " TaggedDocument(words='possible install custom operate iphone device legal', tags=[19]),\n",
              " TaggedDocument(words='illegal use information post json feed unsecure api apps', tags=[20]),\n",
              " TaggedDocument(words='difference psychiatrist therapist', tags=[21]),\n",
              " TaggedDocument(words='take cellphone picture consent sure theyve delete', tags=[22]),\n",
              " TaggedDocument(words='way job dubai abroad', tags=[23]),\n",
              " TaggedDocument(words='heard rumor new r 2000 note go revoked year true', tags=[24]),\n",
              " TaggedDocument(words='pareto principle valid economy 20 industry gdp value dont produce 80 total gdp', tags=[25]),\n",
              " TaggedDocument(words='licence legal fee need open second coffee shop new location', tags=[26]),\n",
              " TaggedDocument(words='plan comfort allow correct incorrect', tags=[27]),\n",
              " TaggedDocument(words='difference single double action pistol', tags=[28]),\n",
              " TaggedDocument(words='real estate agent wisconsin', tags=[29]),\n",
              " TaggedDocument(words='color combine green', tags=[30]),\n",
              " TaggedDocument(words='quality woman look guy consider longtime partner', tags=[31]),\n",
              " TaggedDocument(words='human colonize mar dog cat permit pet scientific purpose', tags=[32]),\n",
              " TaggedDocument(words='job isro complete aerospace engineering iisc bangalore', tags=[33]),\n",
              " TaggedDocument(words='happens sell ban console gamestop', tags=[34]),\n",
              " TaggedDocument(words='opera singer fluent language learn foreign language phonetically', tags=[35]),\n",
              " TaggedDocument(words='different layout neopet petpages', tags=[36]),\n",
              " TaggedDocument(words='like summer student wesleyan university ct different normal school year', tags=[37]),\n",
              " TaggedDocument(words='best prank', tags=[38]),\n",
              " TaggedDocument(words='control emotion sadness', tags=[39]),\n",
              " TaggedDocument(words='daily masturbation cause hair fall', tags=[40]),\n",
              " TaggedDocument(words='syphilis treatment', tags=[41]),\n",
              " TaggedDocument(words='anaerobic respiration occur', tags=[42]),\n",
              " TaggedDocument(words='difference nerd geek', tags=[43]),\n",
              " TaggedDocument(words='weird dish try', tags=[44]),\n",
              " TaggedDocument(words='trump sue ny time libel sexual assault article ny time tapes apprentice prove', tags=[45]),\n",
              " TaggedDocument(words='superhuman', tags=[46]),\n",
              " TaggedDocument(words='pakistani youth think late uri terrorism attack', tags=[47]),\n",
              " TaggedDocument(words='upload fullresolution picture dslr instagram', tags=[48]),\n",
              " TaggedDocument(words='suitable career option intj personality type', tags=[49]),\n",
              " TaggedDocument(words='army pay basic training', tags=[50]),\n",
              " TaggedDocument(words='bad experience birthday', tags=[51]),\n",
              " TaggedDocument(words='hide apps moto g3', tags=[52]),\n",
              " TaggedDocument(words='great movie villain time', tags=[53]),\n",
              " TaggedDocument(words='eat bitter thing help control diabetes', tags=[54]),\n",
              " TaggedDocument(words='martial art win bruce lee jet li', tags=[55]),\n",
              " TaggedDocument(words='like attend monterrey institute technology high education international student', tags=[56]),\n",
              " TaggedDocument(words='advantage disadvantage nuclear power', tags=[57]),\n",
              " TaggedDocument(words='best dj', tags=[58]),\n",
              " TaggedDocument(words='present day war freedom comparison war fight', tags=[59]),\n",
              " TaggedDocument(words='ring worm arm im sure im bitten insect whatim worry', tags=[60]),\n",
              " TaggedDocument(words='senior consultant tier management consulting firm like mckinsey bain bcg strategy booz', tags=[61]),\n",
              " TaggedDocument(words='increase intel hdr graphic dedicate video memory windows 81 desktop', tags=[62]),\n",
              " TaggedDocument(words='best place visit bhutan', tags=[63]),\n",
              " TaggedDocument(words='apply princeton early action restrictive georgetown uchicago ea open', tags=[64]),\n",
              " TaggedDocument(words='passcode 4 number combination password number enter code order code 1234 enter 4321', tags=[65]),\n",
              " TaggedDocument(words='globalization good bad thing', tags=[66]),\n",
              " TaggedDocument(words='start tamil youtube channel want youtube', tags=[67]),\n",
              " TaggedDocument(words='government abruptly ban 500 rupee 1000 rupee currency note india', tags=[68]),\n",
              " TaggedDocument(words='ansic', tags=[69]),\n",
              " TaggedDocument(words='mhtcet expect cutoff c vjti', tags=[70]),\n",
              " TaggedDocument(words='day leh ladakh trip', tags=[71]),\n",
              " TaggedDocument(words='sheriff different police', tags=[72]),\n",
              " TaggedDocument(words='official signature cursive', tags=[73]),\n",
              " TaggedDocument(words='reset gmail password highlight recovery email option', tags=[74]),\n",
              " TaggedDocument(words='switch job ict tier 2 contract permanent role different employer uk process', tags=[75]),\n",
              " TaggedDocument(words='nuclear bomb nagasaki specifically 3 day hiroshima militarily necessary morally justify', tags=[76]),\n",
              " TaggedDocument(words='abnormal psychology feel like borderline personality disorder', tags=[77]),\n",
              " TaggedDocument(words='like test iphone 7 waterproof feature', tags=[78]),\n",
              " TaggedDocument(words='prepare micat 2017', tags=[79]),\n",
              " TaggedDocument(words='die peanut allergy guy', tags=[80]),\n",
              " TaggedDocument(words='improve english speaking ability', tags=[81]),\n",
              " TaggedDocument(words='intermolecular force 1 propanol determine', tags=[82]),\n",
              " TaggedDocument(words='suicide squad rat india', tags=[83]),\n",
              " TaggedDocument(words='prepared 1z0444 exam', tags=[84]),\n",
              " TaggedDocument(words='set max sooryavansham', tags=[85]),\n",
              " TaggedDocument(words='best car accessory technology', tags=[86]),\n",
              " TaggedDocument(words='cure cancer government company hide public', tags=[87]),\n",
              " TaggedDocument(words='average height 14 year old', tags=[88]),\n",
              " TaggedDocument(words='difference panic attack anxiety attack', tags=[89]),\n",
              " TaggedDocument(words='dont indian earn smartly yoga foreigner think mean employment unemployed yearning youth', tags=[90]),\n",
              " TaggedDocument(words='end end development', tags=[91]),\n",
              " TaggedDocument(words='whats song', tags=[92]),\n",
              " TaggedDocument(words='play elder scroll skyrim', tags=[93]),\n",
              " TaggedDocument(words='mark score neet 2016 govt medical college kerala', tags=[94]),\n",
              " TaggedDocument(words='vit vellore btech cse placement year 201617', tags=[95]),\n",
              " TaggedDocument(words='best book iit jee main advance', tags=[96]),\n",
              " TaggedDocument(words='im emotional girl hurt easily overcome', tags=[97]),\n",
              " TaggedDocument(words='want forgiven sin hinduism', tags=[98]),\n",
              " TaggedDocument(words='best interview question', tags=[99]),\n",
              " TaggedDocument(words='dark web address', tags=[100]),\n",
              " TaggedDocument(words='medical test undergo marriage', tags=[101]),\n",
              " TaggedDocument(words='possible alternative reservation india', tags=[102]),\n",
              " TaggedDocument(words='make bbc news countdown theme damn catchy', tags=[103]),\n",
              " TaggedDocument(words='linear function application math question help', tags=[104]),\n",
              " TaggedDocument(words='start python', tags=[105]),\n",
              " TaggedDocument(words='wechat replace email business correspondence china', tags=[106]),\n",
              " TaggedDocument(words='improve credit score', tags=[107]),\n",
              " TaggedDocument(words='average cost produce tv tv cost figure', tags=[108]),\n",
              " TaggedDocument(words='student fail dipmat301 dipmat401 vtu exam', tags=[109]),\n",
              " TaggedDocument(words='invisible day', tags=[110]),\n",
              " TaggedDocument(words='message viber sent offline choose delete', tags=[111]),\n",
              " TaggedDocument(words='cold gobi desert average temperature compare one simpson desert', tags=[112]),\n",
              " TaggedDocument(words='great english song begin', tags=[113]),\n",
              " TaggedDocument(words='michelle obama michael out man', tags=[114]),\n",
              " TaggedDocument(words='best porn site buy membership', tags=[115]),\n",
              " TaggedDocument(words='foozeball table friend season joeys chandler apartment', tags=[116]),\n",
              " TaggedDocument(words='create prank video public uploading youtube legal india', tags=[117]),\n",
              " TaggedDocument(words='need sale consultant', tags=[118]),\n",
              " TaggedDocument(words='web crawler', tags=[119]),\n",
              " TaggedDocument(words='message send whatsapp later see message see show double tick sign', tags=[120]),\n",
              " TaggedDocument(words='doesnt mainstream medium report myanmar kill muslim people country', tags=[121]),\n",
              " TaggedDocument(words='dont major network broadcast news program radio love listen even news way home car', tags=[122]),\n",
              " TaggedDocument(words='dog obsess food', tags=[123]),\n",
              " TaggedDocument(words='employee myers industry good worklife balance differ position department', tags=[124]),\n",
              " TaggedDocument(words='deal rude student', tags=[125]),\n",
              " TaggedDocument(words='good therapist specialize attachment theoryattachment issue', tags=[126]),\n",
              " TaggedDocument(words='best video see', tags=[127]),\n",
              " TaggedDocument(words='unusual different food cuisine nepal', tags=[128]),\n",
              " TaggedDocument(words='good online course learn foreign language', tags=[129]),\n",
              " TaggedDocument(words='design concept open brand', tags=[130]),\n",
              " TaggedDocument(words='cousin sister start ignore insult reply rudly message', tags=[131]),\n",
              " TaggedDocument(words='time marry couple age group 40 50 sex', tags=[132]),\n",
              " TaggedDocument(words='stupid cat', tags=[133]),\n",
              " TaggedDocument(words='amma popular tamil nadu', tags=[134]),\n",
              " TaggedDocument(words='delete question quora', tags=[135]),\n",
              " TaggedDocument(words='use quora acquire knowledge', tags=[136]),\n",
              " TaggedDocument(words='good solar panel installation provider near florence arizona az', tags=[137]),\n",
              " TaggedDocument(words='hillary win election', tags=[138]),\n",
              " TaggedDocument(words='ankara choose capital turkey', tags=[139]),\n",
              " TaggedDocument(words='lady bathroom', tags=[140]),\n",
              " TaggedDocument(words='best sell dslr 2016 india 60000', tags=[141]),\n",
              " TaggedDocument(words='replace usps mailbox key', tags=[142]),\n",
              " TaggedDocument(words='funny joke heard', tags=[143]),\n",
              " TaggedDocument(words='install wordpress folder', tags=[144]),\n",
              " TaggedDocument(words='value x x 140 hcf 20 lcm 420', tags=[145]),\n",
              " TaggedDocument(words='difference observational participatory documentary mode', tags=[146]),\n",
              " TaggedDocument(words='leave mckinsey', tags=[147]),\n",
              " TaggedDocument(words='invite plus', tags=[148]),\n",
              " TaggedDocument(words='save money online shopping', tags=[149]),\n",
              " TaggedDocument(words='special cheque', tags=[150]),\n",
              " TaggedDocument(words='best book refer west bengal civil service examination preparation', tags=[151]),\n",
              " TaggedDocument(words='game developer thought undertale', tags=[152]),\n",
              " TaggedDocument(words='best book preparation entrance msc biotechnology', tags=[153]),\n",
              " TaggedDocument(words='learn forex trading', tags=[154]),\n",
              " TaggedDocument(words='best way learn hack whitehat', tags=[155]),\n",
              " TaggedDocument(words='popular target canada canadian shopper target take zellers', tags=[156]),\n",
              " TaggedDocument(words='plug mac mini laptop', tags=[157]),\n",
              " TaggedDocument(words='im go paris equivalent neighborhood paris mission san francisco williamsburg new york', tags=[158]),\n",
              " TaggedDocument(words='good prank lyric text text friend', tags=[159]),\n",
              " TaggedDocument(words='parameter', tags=[160]),\n",
              " TaggedDocument(words='build career data science', tags=[161]),\n",
              " TaggedDocument(words='like intern nsa', tags=[162]),\n",
              " TaggedDocument(words='difference depression bipolar disorder', tags=[163]),\n",
              " TaggedDocument(words='need debate religion important country', tags=[164]),\n",
              " TaggedDocument(words='grow hair thicker naturally', tags=[165]),\n",
              " TaggedDocument(words='major unanswered question physic', tags=[166]),\n",
              " TaggedDocument(words='best time day workout exercise', tags=[167]),\n",
              " TaggedDocument(words='difference program initiative federal funding', tags=[168]),\n",
              " TaggedDocument(words='perm file jan 6th year h1b come soon perm approve wait 365 day date filing perm', tags=[169]),\n",
              " TaggedDocument(words='european country participate ww2 manage', tags=[170]),\n",
              " TaggedDocument(words='carrier option production engineer coep m mba good package job', tags=[171]),\n",
              " TaggedDocument(words='muslim know prophet muhammad look like hadith koran muslim feel curious appearance', tags=[172]),\n",
              " TaggedDocument(words='human control dreams anytime want', tags=[173]),\n",
              " TaggedDocument(words='minister india', tags=[174]),\n",
              " TaggedDocument(words='apple earn money ipod itunes', tags=[175]),\n",
              " TaggedDocument(words='business analytics salary fresher', tags=[176]),\n",
              " TaggedDocument(words='explain western disturbance create rainfall pakistan', tags=[177]),\n",
              " TaggedDocument(words='buy thing pinterest', tags=[178]),\n",
              " TaggedDocument(words='traveled time point longer able understand english speaker', tags=[179]),\n",
              " TaggedDocument(words='whats difference 32gb emmc normal 500gb 1 tb 320 gb hard drive mean 32 gb space available store data make emmc special', tags=[180]),\n",
              " TaggedDocument(words='sound iphone', tags=[181]),\n",
              " TaggedDocument(words='view profile pic whatsapp', tags=[182]),\n",
              " TaggedDocument(words='500 1000 note ban india', tags=[183]),\n",
              " TaggedDocument(words='trait difference sociopath psychopath', tags=[184]),\n",
              " TaggedDocument(words='advantage remove headphone jack iphone 7', tags=[185]),\n",
              " TaggedDocument(words='best practice move wordpress site share host virtual server cloud server', tags=[186]),\n",
              " TaggedDocument(words='best bollywood movie year 2016', tags=[187]),\n",
              " TaggedDocument(words='christianity threat islamic evangelicalism', tags=[188]),\n",
              " TaggedDocument(words='synonym mean', tags=[189]),\n",
              " TaggedDocument(words='good way lose weight', tags=[190]),\n",
              " TaggedDocument(words='prepare cat month', tags=[191]),\n",
              " TaggedDocument(words='know support donald trump', tags=[192]),\n",
              " TaggedDocument(words='old facebook account', tags=[193]),\n",
              " TaggedDocument(words='friendly dj birthday party sydney', tags=[194]),\n",
              " TaggedDocument(words='important sex relationship', tags=[195]),\n",
              " TaggedDocument(words='typical day attica state prison whats schedule', tags=[196]),\n",
              " TaggedDocument(words='best way backtest stock trading strategy', tags=[197]),\n",
              " TaggedDocument(words='buy bob ross original painting', tags=[198]),\n",
              " TaggedDocument(words='city seattle portland rainy overcast weather', tags=[199]),\n",
              " TaggedDocument(words='fact hinduism scientific religion', tags=[200]),\n",
              " TaggedDocument(words='power indian prime minister', tags=[201]),\n",
              " TaggedDocument(words='date girl', tags=[202]),\n",
              " TaggedDocument(words='benefit quora', tags=[203]),\n",
              " TaggedDocument(words='ethnicity', tags=[204]),\n",
              " TaggedDocument(words='tip make job interview process medicine', tags=[205]),\n",
              " TaggedDocument(words='time travel possible yes', tags=[206]),\n",
              " TaggedDocument(words='expectorant', tags=[207]),\n",
              " TaggedDocument(words='tony soprano die', tags=[208]),\n",
              " TaggedDocument(words='cause wake broken teeth', tags=[209]),\n",
              " TaggedDocument(words='way unblur picture partly blur', tags=[210]),\n",
              " TaggedDocument(words='learn mandarin cantonese time', tags=[211]),\n",
              " TaggedDocument(words='change profile pic quora', tags=[212]),\n",
              " TaggedDocument(words='rid stretch mark neck', tags=[213]),\n",
              " TaggedDocument(words='good age start reading shakespeare play child', tags=[214]),\n",
              " TaggedDocument(words='luke skywalker destroy death star', tags=[215]),\n",
              " TaggedDocument(words='different way earn healthy pocket money student india', tags=[216]),\n",
              " TaggedDocument(words='restore deleted plenty fish profile', tags=[217]),\n",
              " TaggedDocument(words='music prohibit islam', tags=[218]),\n",
              " TaggedDocument(words='live hundred year multiple citizenships access different continent', tags=[219]),\n",
              " TaggedDocument(words='whats difficult job situation face solve', tags=[220]),\n",
              " TaggedDocument(words='information pair spandrel hunt scene isfahan iran art institute chicago', tags=[221]),\n",
              " TaggedDocument(words='low calorie food consume daily', tags=[222]),\n",
              " TaggedDocument(words='country india demonetization currency note', tags=[223]),\n",
              " TaggedDocument(words='supporter black life matter movement think blackonblack crime', tags=[224]),\n",
              " TaggedDocument(words='kind top wear dark pink colour jeggings suggest help pic', tags=[225]),\n",
              " TaggedDocument(words='best college india aeronautical', tags=[226]),\n",
              " TaggedDocument(words='happens dairy cow old milk turn hamburger cow', tags=[227]),\n",
              " TaggedDocument(words='la la la naughty boy mean line end la la na na chorus sound roughly like du hay ee bu ju hay', tags=[228]),\n",
              " TaggedDocument(words='university national commerce recruit new grad major look', tags=[229]),\n",
              " TaggedDocument(words='think modis sudden decision scrap 500 1000 r denomination', tags=[230]),\n",
              " TaggedDocument(words='way h1b sponsorship company directly apply consultancy', tags=[231]),\n",
              " TaggedDocument(words='long distance relationship fail', tags=[232]),\n",
              " TaggedDocument(words='hate love person time happen', tags=[233]),\n",
              " TaggedDocument(words='best way lose weight', tags=[234]),\n",
              " TaggedDocument(words='make breast attractive', tags=[235]),\n",
              " TaggedDocument(words='best medium player window play hevc file vlc', tags=[236]),\n",
              " TaggedDocument(words='donald trump duck income tax return issue', tags=[237]),\n",
              " TaggedDocument(words='logic rac reservation cancellation seat indian railway waitlisted ticket', tags=[238]),\n",
              " TaggedDocument(words='website udemy course low price free course', tags=[239]),\n",
              " TaggedDocument(words='e1e2e3 standard basis r3 e1e2e2e3e1e3 basis r3 solve', tags=[240]),\n",
              " TaggedDocument(words='genie 3 wish wish', tags=[241]),\n",
              " TaggedDocument(words='delete question answer', tags=[242]),\n",
              " TaggedDocument(words='senator represent state senator vote determines', tags=[243]),\n",
              " TaggedDocument(words='open block site google chrome', tags=[244]),\n",
              " TaggedDocument(words='rid scar pimple face cream heal', tags=[245]),\n",
              " TaggedDocument(words='forget love heart', tags=[246]),\n",
              " TaggedDocument(words='ancient khmer empire scientifically test', tags=[247]),\n",
              " TaggedDocument(words='trick way show number whatsapp account save hisher whatsapp number contact list theyve', tags=[248]),\n",
              " TaggedDocument(words='mean life dont know life', tags=[249]),\n",
              " TaggedDocument(words='difference magnetic flux magnetic field', tags=[250]),\n",
              " TaggedDocument(words='weekday morning gmat class bangalore', tags=[251]),\n",
              " TaggedDocument(words='step uan number pf account', tags=[252]),\n",
              " TaggedDocument(words='valuable thing', tags=[253]),\n",
              " TaggedDocument(words='speak english fluently build vocabulary', tags=[254]),\n",
              " TaggedDocument(words='good choice suzuki gixxer pulsar 150 dtsi pulsar 180 dtsi', tags=[255]),\n",
              " TaggedDocument(words='doctor feel medical marijuana pain appetite increase cannabis oil treatment certain disease', tags=[256]),\n",
              " TaggedDocument(words='wild dog saw man drown river save', tags=[257]),\n",
              " TaggedDocument(words='watch bollywood movie online', tags=[258]),\n",
              " TaggedDocument(words='invention light bulb', tags=[259]),\n",
              " TaggedDocument(words='prophet muhammad pbuh mecca prophet', tags=[260]),\n",
              " TaggedDocument(words='perform bypass surgery 2 month post heart attack expect improvement lvef 6 month', tags=[261]),\n",
              " TaggedDocument(words='minimize distance probability distribution', tags=[262]),\n",
              " TaggedDocument(words='salary varun ship junior engineer 2015', tags=[263]),\n",
              " TaggedDocument(words='increase traffic blog wwwmidnightexpressionswordpresscom', tags=[264]),\n",
              " TaggedDocument(words='complete post graduation science planning time phd good topic plan', tags=[265]),\n",
              " TaggedDocument(words='university powell industry recruit new grad major look', tags=[266]),\n",
              " TaggedDocument(words='smile bite low lip mean', tags=[267]),\n",
              " TaggedDocument(words='future scope google progressive web apps', tags=[268]),\n",
              " TaggedDocument(words='english use india american british', tags=[269]),\n",
              " TaggedDocument(words='feel time breath', tags=[270]),\n",
              " TaggedDocument(words='best programming language know', tags=[271]),\n",
              " TaggedDocument(words='learn language fast', tags=[272]),\n",
              " TaggedDocument(words='unspoken rule sex', tags=[273]),\n",
              " TaggedDocument(words='go wrong polling 2016 presidential election', tags=[274]),\n",
              " TaggedDocument(words='quickbooks installation support phone number', tags=[275]),\n",
              " TaggedDocument(words='avoid get severe crick neck', tags=[276]),\n",
              " TaggedDocument(words='star alive', tags=[277]),\n",
              " TaggedDocument(words='female dominatrix india', tags=[278]),\n",
              " TaggedDocument(words='individual event history source pride tom prncipe', tags=[279]),\n",
              " TaggedDocument(words='bake cooky soft chewy', tags=[280]),\n",
              " TaggedDocument(words='crack gate 2017 eee branch', tags=[281]),\n",
              " TaggedDocument(words='start program c thorough c c', tags=[282]),\n",
              " TaggedDocument(words='cause comminute fracture elbow', tags=[283]),\n",
              " TaggedDocument(words='elon musk work', tags=[284]),\n",
              " TaggedDocument(words='saw new episode big bang theory affair einstein marilyn monroe true proof', tags=[285]),\n",
              " TaggedDocument(words='translate', tags=[286]),\n",
              " TaggedDocument(words='question limit quora', tags=[287]),\n",
              " TaggedDocument(words='illegal watch movie online free', tags=[288]),\n",
              " TaggedDocument(words='cost petrol pump', tags=[289]),\n",
              " TaggedDocument(words='country prepare ms mechanical engineering precisely aeronautical help term well future', tags=[290]),\n",
              " TaggedDocument(words='artificial intelligence human workforce', tags=[291]),\n",
              " TaggedDocument(words='army v marine win', tags=[292]),\n",
              " TaggedDocument(words='phrase come mean', tags=[293]),\n",
              " TaggedDocument(words='write good gsoc proposal', tags=[294]),\n",
              " TaggedDocument(words='iteration python', tags=[295]),\n",
              " TaggedDocument(words='possible build android app eclipse software', tags=[296]),\n",
              " TaggedDocument(words='somebody authorize atomic strike hiroshima nagasaki', tags=[297]),\n",
              " TaggedDocument(words='difference use sinojapanese number nativejapanese number', tags=[298]),\n",
              " TaggedDocument(words='mean tamil word aiyyo', tags=[299]),\n",
              " TaggedDocument(words='best country migrate india start new life', tags=[300]),\n",
              " TaggedDocument(words='determine certain physical quantity vector', tags=[301]),\n",
              " TaggedDocument(words='well android studio eclipse netbeans android development', tags=[302]),\n",
              " TaggedDocument(words='earn living quora', tags=[303]),\n",
              " TaggedDocument(words='difference ionic covalent hydrogen bond', tags=[304]),\n",
              " TaggedDocument(words='way money online', tags=[305]),\n",
              " TaggedDocument(words='unpin item mean message android device try free space delete unpinning item apps medium content', tags=[306]),\n",
              " TaggedDocument(words='speak english fluently interview', tags=[307]),\n",
              " TaggedDocument(words='increase intel hdr graphic dedicate video memory windows 81 desktop', tags=[308]),\n",
              " TaggedDocument(words='theory identity supreme leader snoke', tags=[309]),\n",
              " TaggedDocument(words='hire legit hacker', tags=[310]),\n",
              " TaggedDocument(words='play card humanity player', tags=[311]),\n",
              " TaggedDocument(words='doesnt oneplus function like ir blaster fingerprint sensor flash barometer optical image stabilization gesture control heart rate spo2 dustproof water resistant wireless charge', tags=[312]),\n",
              " TaggedDocument(words='superstition eye twitch validity', tags=[313]),\n",
              " TaggedDocument(words='way save quora question read offline', tags=[314]),\n",
              " TaggedDocument(words='delete friend snapchat fight appear add list score know mean', tags=[315]),\n",
              " TaggedDocument(words='lose weight 1 month', tags=[316]),\n",
              " TaggedDocument(words='mechanical engineer job india', tags=[317]),\n",
              " TaggedDocument(words='review mohenjo daro', tags=[318]),\n",
              " TaggedDocument(words='best alternative maggi', tags=[319]),\n",
              " TaggedDocument(words='talk girl', tags=[320]),\n",
              " TaggedDocument(words='breakdown fantasy user yahoo espn cbs', tags=[321]),\n",
              " TaggedDocument(words='mbbs student start magazine business', tags=[322]),\n",
              " TaggedDocument(words='red light issue board battery board battery blink uncontrollably remote beep', tags=[323]),\n",
              " TaggedDocument(words='difference cappuccino latte espresso', tags=[324]),\n",
              " TaggedDocument(words='track lose mobile device imei number', tags=[325]),\n",
              " TaggedDocument(words='4k tv worth', tags=[326]),\n",
              " TaggedDocument(words='strike time visitor special unusual arrive scottsdale az', tags=[327]),\n",
              " TaggedDocument(words='superstitious mean right eyelid twitch', tags=[328]),\n",
              " TaggedDocument(words='best smartphones 10k india', tags=[329]),\n",
              " TaggedDocument(words='good mathematics forum', tags=[330]),\n",
              " TaggedDocument(words='fly mexico valid h1b visa', tags=[331]),\n",
              " TaggedDocument(words='best college india abroad mba economics', tags=[332]),\n",
              " TaggedDocument(words='ob money', tags=[333]),\n",
              " TaggedDocument(words='billionaire listen billionaire bruno mar mean he stick', tags=[334]),\n",
              " TaggedDocument(words='celebrate new year celebrate new year seriously', tags=[335]),\n",
              " TaggedDocument(words='india best phone buy rs inr 1820k', tags=[336]),\n",
              " TaggedDocument(words='men feel hymen insert penis vagina', tags=[337]),\n",
              " TaggedDocument(words='coolest programming language learn', tags=[338]),\n",
              " TaggedDocument(words='car rental company track drive youve gps', tags=[339]),\n",
              " TaggedDocument(words='implicit association race test work', tags=[340]),\n",
              " TaggedDocument(words='difference antigenicity immunogenicity', tags=[341]),\n",
              " TaggedDocument(words='vedic math', tags=[342]),\n",
              " TaggedDocument(words='russian pilot tell fly space mig possible', tags=[343]),\n",
              " TaggedDocument(words='watch english movie online subtitle', tags=[344]),\n",
              " TaggedDocument(words='cheap courier service india world', tags=[345]),\n",
              " TaggedDocument(words='common example nonvascular plant compare contrast red algae', tags=[346]),\n",
              " TaggedDocument(words='fight life unite mankind mean war suffering hunger', tags=[347]),\n",
              " TaggedDocument(words='know youre love', tags=[348]),\n",
              " TaggedDocument(words='james comey blame hillary clinton defeat', tags=[349]),\n",
              " TaggedDocument(words='benefit fill nitrogen gas instead air tubeless tire', tags=[350]),\n",
              " TaggedDocument(words='engineering msc biomedical', tags=[351]),\n",
              " TaggedDocument(words='intellectually stimulate website know', tags=[352]),\n",
              " TaggedDocument(words='salary complete mba iim', tags=[353]),\n",
              " TaggedDocument(words='country asia powerful', tags=[354]),\n",
              " TaggedDocument(words='employee read international good worklife balance differ position department', tags=[355]),\n",
              " TaggedDocument(words='take ipill month period day expect get intimate month period pregnant', tags=[356]),\n",
              " TaggedDocument(words='arjuna hero mahabharata', tags=[357]),\n",
              " TaggedDocument(words='canada job opportunity complete ms chemical engineering', tags=[358]),\n",
              " TaggedDocument(words='possible photon massless', tags=[359]),\n",
              " TaggedDocument(words='t orecognize camera image exist image database io android web', tags=[360]),\n",
              " TaggedDocument(words='step sense spirit ghost', tags=[361]),\n",
              " TaggedDocument(words='zabbix server run fix', tags=[362]),\n",
              " TaggedDocument(words='tip hack get class want freshman barry university', tags=[363]),\n",
              " TaggedDocument(words='permanent court arbitration vomit western institution make illegal ridiculous ruling world', tags=[364]),\n",
              " TaggedDocument(words='movie show', tags=[365]),\n",
              " TaggedDocument(words='food best gain weight', tags=[366]),\n",
              " TaggedDocument(words='skin', tags=[367]),\n",
              " TaggedDocument(words='low functioning sociopath', tags=[368]),\n",
              " TaggedDocument(words='la vega call sin city way', tags=[369]),\n",
              " TaggedDocument(words='usage period parenthesis vary', tags=[370]),\n",
              " TaggedDocument(words='best comedy movie', tags=[371]),\n",
              " TaggedDocument(words='asks start streak snapchat', tags=[372]),\n",
              " TaggedDocument(words='ive gramatically correct', tags=[373]),\n",
              " TaggedDocument(words='get away', tags=[374]),\n",
              " TaggedDocument(words='downside require police wear body camera', tags=[375]),\n",
              " TaggedDocument(words='ww3 happen point 2017', tags=[376]),\n",
              " TaggedDocument(words='defend try mess mind', tags=[377]),\n",
              " TaggedDocument(words='vote hillary clinton vote war', tags=[378]),\n",
              " TaggedDocument(words='sonam gupta story', tags=[379]),\n",
              " TaggedDocument(words='mindblowing fact indian temple', tags=[380]),\n",
              " TaggedDocument(words='day dispatch pan card application receive income tax office processing', tags=[381]),\n",
              " TaggedDocument(words='tell james ronsey misspell likely writer filmmaker probably british isle', tags=[382]),\n",
              " TaggedDocument(words='sahara average temperature compare one karakum desert', tags=[383]),\n",
              " TaggedDocument(words='bos abruptly leave work family medical emergency', tags=[384]),\n",
              " TaggedDocument(words='way download complete dump cricinfo statsguru database', tags=[385]),\n",
              " TaggedDocument(words='best way prostitute india', tags=[386]),\n",
              " TaggedDocument(words='ban 500 1000 rupee note impact real estate construction industry india', tags=[387]),\n",
              " TaggedDocument(words='like start company wan na work 18 hour day need idea business idea', tags=[388]),\n",
              " TaggedDocument(words='startup achieve operational efficiency', tags=[389]),\n",
              " TaggedDocument(words='bluetooth speaker best rs 5k', tags=[390]),\n",
              " TaggedDocument(words='fabric best nightwear', tags=[391]),\n",
              " TaggedDocument(words='loop replace loop', tags=[392]),\n",
              " TaggedDocument(words='best inspirational song', tags=[393]),\n",
              " TaggedDocument(words='figure interest', tags=[394]),\n",
              " TaggedDocument(words='reignition apollo 13 lem engine possible', tags=[395]),\n",
              " TaggedDocument(words='kvpy 2016 sa', tags=[396]),\n",
              " TaggedDocument(words='come mind think ethic', tags=[397]),\n",
              " TaggedDocument(words='dentist expensive', tags=[398]),\n",
              " TaggedDocument(words='land moon film studio', tags=[399]),\n",
              " TaggedDocument(words='agent weather rock', tags=[400]),\n",
              " TaggedDocument(words='spanish word lose', tags=[401]),\n",
              " TaggedDocument(words='robert vadra case', tags=[402]),\n",
              " TaggedDocument(words='school change 21st century canada', tags=[403]),\n",
              " TaggedDocument(words='strategic debt restructuring', tags=[404]),\n",
              " TaggedDocument(words='best teacher come', tags=[405]),\n",
              " TaggedDocument(words='application rectifier', tags=[406]),\n",
              " TaggedDocument(words='best coworking space bangalore indiranagar', tags=[407]),\n",
              " TaggedDocument(words='work partnerex bf experience effect emotional abuse year stop', tags=[408]),\n",
              " TaggedDocument(words='best photo edit apps android', tags=[409]),\n",
              " TaggedDocument(words='programmer develop app idea', tags=[410]),\n",
              " TaggedDocument(words='unobservant sign low intelligence', tags=[411]),\n",
              " TaggedDocument(words='way determine theme shopify store view source code', tags=[412]),\n",
              " TaggedDocument(words='delete text message android', tags=[413]),\n",
              " TaggedDocument(words='streamoptions chemical engineer btech', tags=[414]),\n",
              " TaggedDocument(words='coach institute choose kota iit jee', tags=[415]),\n",
              " TaggedDocument(words='happens startx session', tags=[416]),\n",
              " TaggedDocument(words='hawala operate', tags=[417]),\n",
              " TaggedDocument(words='topic quora follower', tags=[418]),\n",
              " TaggedDocument(words='well web application java python', tags=[419]),\n",
              " TaggedDocument(words='best binary option broker', tags=[420]),\n",
              " TaggedDocument(words='type food eat im plan lose weight', tags=[421]),\n",
              " TaggedDocument(words='twitter statistic country', tags=[422]),\n",
              " TaggedDocument(words='possible car run water', tags=[423]),\n",
              " TaggedDocument(words='best camera phone', tags=[424]),\n",
              " TaggedDocument(words='require develop app', tags=[425]),\n",
              " TaggedDocument(words='shouldnt vote donald trump', tags=[426]),\n",
              " TaggedDocument(words='item eligible refund developer app app store', tags=[427]),\n",
              " TaggedDocument(words='download song save phone gaana app android', tags=[428]),\n",
              " TaggedDocument(words='lose focus concentration', tags=[429]),\n",
              " TaggedDocument(words='caught spy neighbor happen', tags=[430]),\n",
              " TaggedDocument(words='time travel possible 5 year', tags=[431]),\n",
              " TaggedDocument(words='525 tall 11 year old', tags=[432]),\n",
              " TaggedDocument(words='ceo startup want monitor employee leave toilet cubicle mess use', tags=[433]),\n",
              " TaggedDocument(words='view pv sindhus silver medal performance', tags=[434]),\n",
              " TaggedDocument(words='intelligent alien alien specie fiction', tags=[435]),\n",
              " TaggedDocument(words='fill cat form write average year graduation final year aggregate', tags=[436]),\n",
              " TaggedDocument(words='new owner multi family building tenant adjust rent amount', tags=[437]),\n",
              " TaggedDocument(words='indian government pay world bank imf year loan india take', tags=[438]),\n",
              " TaggedDocument(words='chinese communist party religious member', tags=[439]),\n",
              " TaggedDocument(words='im people uncomfortable annoyed irritate mean im antisocial', tags=[440]),\n",
              " TaggedDocument(words='hedge fund management company different hedge fund company', tags=[441]),\n",
              " TaggedDocument(words='passport come existence', tags=[442]),\n",
              " TaggedDocument(words='bad answer read quora', tags=[443]),\n",
              " TaggedDocument(words='pro con linux mint v ubuntu', tags=[444]),\n",
              " TaggedDocument(words='conjure 2013 movie example share psychosis', tags=[445]),\n",
              " TaggedDocument(words='best way avoid question need improvement quora', tags=[446]),\n",
              " TaggedDocument(words='transfer balance tata docomo network andhra pradesh circle', tags=[447]),\n",
              " TaggedDocument(words='procedure international transit frankfurt airport', tags=[448]),\n",
              " TaggedDocument(words='good effect economy increase tariff', tags=[449]),\n",
              " TaggedDocument(words='sleep sort', tags=[450]),\n",
              " TaggedDocument(words='constantly motivate study', tags=[451]),\n",
              " TaggedDocument(words='probability draw red deck card ace jack king consider odd queen consider', tags=[452]),\n",
              " TaggedDocument(words='im freshman high school grade pretty trash right improve', tags=[453]),\n",
              " TaggedDocument(words='country india bharat india', tags=[454]),\n",
              " TaggedDocument(words='buy ugly christmas sweater san francisco', tags=[455]),\n",
              " TaggedDocument(words='way money online', tags=[456]),\n",
              " TaggedDocument(words='feminism fight woman right gender equality', tags=[457]),\n",
              " TaggedDocument(words='traffic website', tags=[458]),\n",
              " TaggedDocument(words='success onion juice regrow hair', tags=[459]),\n",
              " TaggedDocument(words='best market place buy kurtis wholesale rate india', tags=[460]),\n",
              " TaggedDocument(words='good lawyer quality good lawyer', tags=[461]),\n",
              " TaggedDocument(words='safety precaution handle shotgun propose nra south carolina', tags=[462]),\n",
              " TaggedDocument(words='scrap 500 1000 rupee note affect swiss account holder', tags=[463]),\n",
              " TaggedDocument(words='life like', tags=[464]),\n",
              " TaggedDocument(words='study hard crack hpsc exam worth', tags=[465]),\n",
              " TaggedDocument(words='relationship', tags=[466]),\n",
              " TaggedDocument(words='im confuse people enjoy beer bitter taste people drink whisky intoxication enjoy taste', tags=[467]),\n",
              " TaggedDocument(words='license game start game cafe', tags=[468]),\n",
              " TaggedDocument(words='language learn learn python', tags=[469]),\n",
              " TaggedDocument(words='happen ask question anonymously', tags=[470]),\n",
              " TaggedDocument(words='wealthfront influential quora', tags=[471]),\n",
              " TaggedDocument(words='thing come mind mention north east india', tags=[472]),\n",
              " TaggedDocument(words='people fall depression', tags=[473]),\n",
              " TaggedDocument(words='like vacation home', tags=[474]),\n",
              " TaggedDocument(words='learn multiple language boost memory', tags=[475]),\n",
              " TaggedDocument(words='replenacell anti age cream work look young', tags=[476]),\n",
              " TaggedDocument(words='feel leave christianity', tags=[477]),\n",
              " TaggedDocument(words='amaze success story indian stock market', tags=[478]),\n",
              " TaggedDocument(words='emotionally available detached', tags=[479]),\n",
              " TaggedDocument(words='term white house racially discriminate name white house', tags=[480]),\n",
              " TaggedDocument(words='restrain order', tags=[481]),\n",
              " TaggedDocument(words='think lack economic growth child deal generational theft epitomize 19902010 era', tags=[482]),\n",
              " TaggedDocument(words='quora answer image upvotes', tags=[483]),\n",
              " TaggedDocument(words='time travel theory', tags=[484]),\n",
              " TaggedDocument(words='suppose hillary clinton president husband gentleman', tags=[485]),\n",
              " TaggedDocument(words='gain follower quora', tags=[486]),\n",
              " TaggedDocument(words='molar pull have pain normal', tags=[487]),\n",
              " TaggedDocument(words='standard charter bank atm fraud friends money steal account receive message money withdrawn account action', tags=[488]),\n",
              " TaggedDocument(words='quote accept love think deserve mean', tags=[489]),\n",
              " TaggedDocument(words='necessary cover food store fridge', tags=[490]),\n",
              " TaggedDocument(words='value jtree check box java swing', tags=[491]),\n",
              " TaggedDocument(words='litvak hasid think meir kahane', tags=[492]),\n",
              " TaggedDocument(words='girl doesnt want relationship', tags=[493]),\n",
              " TaggedDocument(words='best quickbooks data recovery support number new york', tags=[494]),\n",
              " TaggedDocument(words='pumpkin associate halloween', tags=[495]),\n",
              " TaggedDocument(words='sleep', tags=[496]),\n",
              " TaggedDocument(words='identify ranking keywords google search result', tags=[497]),\n",
              " TaggedDocument(words='mitochondrion differ plant animal cell', tags=[498]),\n",
              " TaggedDocument(words='ntt data recruit selection process', tags=[499]),\n",
              " TaggedDocument(words='people earn money instagram', tags=[500]),\n",
              " TaggedDocument(words='online test series good ia prelim raus career launcher vision ia', tags=[501]),\n",
              " TaggedDocument(words='crazy moment college life', tags=[502]),\n",
              " TaggedDocument(words='good gate late steve job program', tags=[503]),\n",
              " TaggedDocument(words='comment girl like', tags=[504]),\n",
              " TaggedDocument(words='prepare jee advance exam', tags=[505]),\n",
              " TaggedDocument(words='world like bank exist', tags=[506]),\n",
              " TaggedDocument(words='red mean stop united state situation red mean', tags=[507]),\n",
              " TaggedDocument(words='volume football', tags=[508]),\n",
              " TaggedDocument(words='officer feel bad arrest people honest sell marijuana judge jail year', tags=[509]),\n",
              " TaggedDocument(words='need know algorithms data analyst', tags=[510]),\n",
              " TaggedDocument(words='god 2 lesson ant', tags=[511]),\n",
              " TaggedDocument(words='movie franchise terminator terminator soldier wear clothes time travel', tags=[512]),\n",
              " TaggedDocument(words='mean water resistant 10 bar', tags=[513]),\n",
              " TaggedDocument(words='list stylish collection designer floor tile sydney', tags=[514]),\n",
              " TaggedDocument(words='prove 1022', tags=[515]),\n",
              " TaggedDocument(words='start group discussion topic discussion', tags=[516]),\n",
              " TaggedDocument(words='acquire taste', tags=[517]),\n",
              " TaggedDocument(words='history judge fidel castro brutal dictator honourable freedom fighter', tags=[518]),\n",
              " TaggedDocument(words='feel like cry', tags=[519]),\n",
              " TaggedDocument(words='check android phone track tapped encrypt device help hurt difference fact', tags=[520]),\n",
              " TaggedDocument(words='im confuse future', tags=[521]),\n",
              " TaggedDocument(words='career see young talent come look understand guy way', tags=[522]),\n",
              " TaggedDocument(words='sexualisation men help feminist movement', tags=[523]),\n",
              " TaggedDocument(words='best way study communication', tags=[524]),\n",
              " TaggedDocument(words='money uber driver miami florida', tags=[525]),\n",
              " TaggedDocument(words='need happen ma transaction announce close', tags=[526]),\n",
              " TaggedDocument(words='tv channel money', tags=[527]),\n",
              " TaggedDocument(words='bank dreft', tags=[528]),\n",
              " TaggedDocument(words='modis announcement ban 500 1000 currency note affect economy', tags=[529]),\n",
              " TaggedDocument(words='restorative resting sleeping', tags=[530]),\n",
              " TaggedDocument(words='quic', tags=[531]),\n",
              " TaggedDocument(words='propofol succinylcholine kill person immediately', tags=[532]),\n",
              " TaggedDocument(words='invest sip profitable', tags=[533]),\n",
              " TaggedDocument(words='proud', tags=[534]),\n",
              " TaggedDocument(words='important inr 500 inr 1000 note average person', tags=[535]),\n",
              " TaggedDocument(words='prepare barc interview metallurgy', tags=[536]),\n",
              " TaggedDocument(words='learn spring framework help', tags=[537]),\n",
              " TaggedDocument(words='determine number proton neutron carbon', tags=[538]),\n",
              " TaggedDocument(words='hotel dehradun hillstation safe unmarried couple harassment police hotel staff moral police', tags=[539]),\n",
              " TaggedDocument(words='best bollywood movie watch', tags=[540]),\n",
              " TaggedDocument(words='buzz aldrin upset wasnt person moon', tags=[541]),\n",
              " TaggedDocument(words='nfl team win super bowl home stadium', tags=[542]),\n",
              " TaggedDocument(words='gain weight work', tags=[543]),\n",
              " TaggedDocument(words='proactiv consider bad skin', tags=[544]),\n",
              " TaggedDocument(words='hanuman chalisa call chalisa didnt pachasa', tags=[545]),\n",
              " TaggedDocument(words='cure cancer', tags=[546]),\n",
              " TaggedDocument(words='meet gay professional athlete', tags=[547]),\n",
              " TaggedDocument(words='thing new employee know go day lhc group', tags=[548]),\n",
              " TaggedDocument(words='gender segregation toilet necessary', tags=[549]),\n",
              " TaggedDocument(words='acquire mastery mindset possess great indian scholar rishis', tags=[550]),\n",
              " TaggedDocument(words='2 gb ram', tags=[551]),\n",
              " TaggedDocument(words='donald trump chance hillary clinton general election', tags=[552]),\n",
              " TaggedDocument(words='good fiction book read', tags=[553]),\n",
              " TaggedDocument(words='gross margin stationery item', tags=[554]),\n",
              " TaggedDocument(words='hbsag nonreactive mean', tags=[555]),\n",
              " TaggedDocument(words='foursquare disadvantage', tags=[556]),\n",
              " TaggedDocument(words='jk rowling write sequel harry potter', tags=[557]),\n",
              " TaggedDocument(words='samsung galaxy tab s2 80 worth', tags=[558]),\n",
              " TaggedDocument(words='difference human resource management personnel administration', tags=[559]),\n",
              " TaggedDocument(words='best book learn oracle database 12 c', tags=[560]),\n",
              " TaggedDocument(words='manga relate episode naruto shippuden anime', tags=[561]),\n",
              " TaggedDocument(words='humanity adapt long term impact climate change reason hold hope specie adapt survive', tags=[562]),\n",
              " TaggedDocument(words='ielts well pte', tags=[563]),\n",
              " TaggedDocument(words='search air ticket incognito web browser prevent airfare search engines increase price flight search', tags=[564]),\n",
              " TaggedDocument(words='make man decide marry', tags=[565]),\n",
              " TaggedDocument(words='chronological order release harry potter movie', tags=[566]),\n",
              " TaggedDocument(words='hack neighbour wifi iphone', tags=[567]),\n",
              " TaggedDocument(words='formation adp atp call', tags=[568]),\n",
              " TaggedDocument(words='good msc innovation entrepreneurship management imperial college london', tags=[569]),\n",
              " TaggedDocument(words='page website use seo', tags=[570]),\n",
              " TaggedDocument(words='bother black man white woman bother white man black woman bother', tags=[571]),\n",
              " TaggedDocument(words='best dslr camera beginner', tags=[572]),\n",
              " TaggedDocument(words='function nuchal line', tags=[573]),\n",
              " TaggedDocument(words='quora writer lonely unemployed', tags=[574]),\n",
              " TaggedDocument(words='whats expansion pk mean drunken', tags=[575]),\n",
              " TaggedDocument(words='best institute product designing', tags=[576]),\n",
              " TaggedDocument(words='huffington post take long publish post', tags=[577]),\n",
              " TaggedDocument(words='best zodiac sign', tags=[578]),\n",
              " TaggedDocument(words='gold platinum diamond purchase', tags=[579]),\n",
              " TaggedDocument(words='facility available accenture office', tags=[580]),\n",
              " TaggedDocument(words='dispose printer ribbon confidential information', tags=[581]),\n",
              " TaggedDocument(words='individual event history source pride angola', tags=[582]),\n",
              " TaggedDocument(words='doesnt iq test measure', tags=[583]),\n",
              " TaggedDocument(words='driver license number social security number', tags=[584]),\n",
              " TaggedDocument(words='boil chicken', tags=[585]),\n",
              " TaggedDocument(words='phone well le 2 redmi note 3', tags=[586]),\n",
              " TaggedDocument(words='good diet plan commuter want gain weight', tags=[587]),\n",
              " TaggedDocument(words='way student earn money college', tags=[588]),\n",
              " TaggedDocument(words='best book algorithms data structure', tags=[589]),\n",
              " TaggedDocument(words='indian society tall girl like date short guy', tags=[590]),\n",
              " TaggedDocument(words='ldl cholesterol bad hdl cholesterol good', tags=[591]),\n",
              " TaggedDocument(words='traffic website', tags=[592]),\n",
              " TaggedDocument(words='bestknown example animal albino unusual white pigmentation', tags=[593]),\n",
              " TaggedDocument(words='compile c program git bash similar linux terminal', tags=[594]),\n",
              " TaggedDocument(words='manaphy annoyingly pokemon ranger temple sea', tags=[595]),\n",
              " TaggedDocument(words='difference cumin comino', tags=[596]),\n",
              " TaggedDocument(words='mean dark entrepreneurship', tags=[597]),\n",
              " TaggedDocument(words='want know cost design hybrid app hyderabad freelancer provide service hyderabad', tags=[598]),\n",
              " TaggedDocument(words='china territorial dispute country', tags=[599]),\n",
              " TaggedDocument(words='safe', tags=[600]),\n",
              " TaggedDocument(words='well cricketer shane warne muralitharan', tags=[601]),\n",
              " TaggedDocument(words='reduce weight', tags=[602]),\n",
              " TaggedDocument(words='yosemite national park', tags=[603]),\n",
              " TaggedDocument(words='musical instrument band tune concert bb use 440hz primary frequency', tags=[604]),\n",
              " TaggedDocument(words='recover gmail account', tags=[605]),\n",
              " TaggedDocument(words='prepare ielts', tags=[606]),\n",
              " TaggedDocument(words='people fall love', tags=[607]),\n",
              " TaggedDocument(words='worst mistake', tags=[608]),\n",
              " TaggedDocument(words='characteristic 32 bit video edit software', tags=[609]),\n",
              " TaggedDocument(words='work home', tags=[610]),\n",
              " TaggedDocument(words='role clutch automobile', tags=[611]),\n",
              " TaggedDocument(words='people want impeach george w bush', tags=[612]),\n",
              " TaggedDocument(words='want set export business india suitable product start low budget', tags=[613]),\n",
              " TaggedDocument(words='edx coursera', tags=[614]),\n",
              " TaggedDocument(words='best strategy promote service business', tags=[615]),\n",
              " TaggedDocument(words='happen holocaust', tags=[616]),\n",
              " TaggedDocument(words='son hebrew', tags=[617]),\n",
              " TaggedDocument(words='people sweat excessively armpit', tags=[618]),\n",
              " TaggedDocument(words='whats difference autism schizoaffective disorder', tags=[619]),\n",
              " TaggedDocument(words='somebody explain time relative layman term', tags=[620]),\n",
              " TaggedDocument(words='country high rate adultery', tags=[621]),\n",
              " TaggedDocument(words='java pas reference pas value', tags=[622]),\n",
              " TaggedDocument(words='preserve driftwood', tags=[623]),\n",
              " TaggedDocument(words='lactation start pregnancy', tags=[624]),\n",
              " TaggedDocument(words='significance microsoft azure service fabric', tags=[625]),\n",
              " TaggedDocument(words='slack app base golden ratio', tags=[626]),\n",
              " TaggedDocument(words='happens die', tags=[627]),\n",
              " TaggedDocument(words='whats opinion britain leave eu brexit', tags=[628]),\n",
              " TaggedDocument(words='study 10th icse exam english literature', tags=[629]),\n",
              " TaggedDocument(words='european guy think asianhispanic girl', tags=[630]),\n",
              " TaggedDocument(words='programmable shifter', tags=[631]),\n",
              " TaggedDocument(words='baby bear stuck', tags=[632]),\n",
              " TaggedDocument(words='clairvoyant', tags=[633]),\n",
              " TaggedDocument(words='recommend high school international student new york usa', tags=[634]),\n",
              " TaggedDocument(words='breakup', tags=[635]),\n",
              " TaggedDocument(words='quora private message feature', tags=[636]),\n",
              " TaggedDocument(words='join military 30', tags=[637]),\n",
              " TaggedDocument(words='business requirement start food truck business kenya', tags=[638]),\n",
              " TaggedDocument(words='m dhoni captaincy', tags=[639]),\n",
              " TaggedDocument(words='united state republic democracy', tags=[640]),\n",
              " TaggedDocument(words='people god work mysterious way actually mean unexpected thing happen', tags=[641]),\n",
              " TaggedDocument(words='order fiverr', tags=[642]),\n",
              " TaggedDocument(words='less know important historical figure aruba people know', tags=[643]),\n",
              " TaggedDocument(words='smoking bad', tags=[644]),\n",
              " TaggedDocument(words='ritalin increase cortisol level', tags=[645]),\n",
              " TaggedDocument(words='people ocd think bad thing happen dont compulsion', tags=[646]),\n",
              " TaggedDocument(words='best youtube documentary', tags=[647]),\n",
              " TaggedDocument(words='people 94 allowed vote', tags=[648]),\n",
              " TaggedDocument(words='late mobile application', tags=[649]),\n",
              " TaggedDocument(words='character touhou backstories', tags=[650]),\n",
              " TaggedDocument(words='greek orthodox church', tags=[651]),\n",
              " TaggedDocument(words='safety precaution handle shotgun propose nra minnesota', tags=[652]),\n",
              " TaggedDocument(words='ask girl look stupid', tags=[653]),\n",
              " TaggedDocument(words='eat 800 calorie day lose weight', tags=[654]),\n",
              " TaggedDocument(words='bring person life', tags=[655]),\n",
              " TaggedDocument(words='weird dream youve', tags=[656]),\n",
              " TaggedDocument(words='people believe earth flat', tags=[657]),\n",
              " TaggedDocument(words='able start jvoicexml try run demo application give error orgjvoicexmleventerrornoresourceerror errornoresource pool type jsapi10 unknown error configuration setting jsapi available jvxml', tags=[658]),\n",
              " TaggedDocument(words='car travel speed light happen turn headlight', tags=[659]),\n",
              " TaggedDocument(words='lesserknown sight visit las pia rizal philippine', tags=[660]),\n",
              " TaggedDocument(words='mean dream dreamt rain n n feeling difficult father dead body pass away 2 mon', tags=[661]),\n",
              " TaggedDocument(words='like engineer', tags=[662]),\n",
              " TaggedDocument(words='introvert lead good life extrovert', tags=[663]),\n",
              " TaggedDocument(words='learn speak fluent english', tags=[664]),\n",
              " TaggedDocument(words='mindblowing fact scientist inventor', tags=[665]),\n",
              " TaggedDocument(words='best thing company work', tags=[666]),\n",
              " TaggedDocument(words='molasses need refrigerate happens refrigerate', tags=[667]),\n",
              " TaggedDocument(words='dark matter simps wave double slit experiment', tags=[668]),\n",
              " TaggedDocument(words='poor country asia death rate compare poor country america', tags=[669]),\n",
              " TaggedDocument(words='best resource learn javascript', tags=[670]),\n",
              " TaggedDocument(words='whats best way sushi chef', tags=[671]),\n",
              " TaggedDocument(words='view ban 500 1000 rupee note affect black money gon na work expose black money', tags=[672]),\n",
              " TaggedDocument(words='asylum', tags=[673]),\n",
              " TaggedDocument(words='clinton expel oxford', tags=[674]),\n",
              " TaggedDocument(words='exact definition transgender', tags=[675]),\n",
              " TaggedDocument(words='russia think china', tags=[676]),\n",
              " TaggedDocument(words='proper etiquette texting date', tags=[677]),\n",
              " TaggedDocument(words='coldest object universe low temperature record laboratory', tags=[678]),\n",
              " TaggedDocument(words='drone sale take past year technological advance consumer drone possible', tags=[679]),\n",
              " TaggedDocument(words='print new currency note like r 2000 go help curb future black money market', tags=[680]),\n",
              " TaggedDocument(words='thing like unlimited money', tags=[681]),\n",
              " TaggedDocument(words='think open cafe queen anne seattle neighborhood kind cafe concept fit neighborhood', tags=[682]),\n",
              " TaggedDocument(words='metal sponge', tags=[683]),\n",
              " TaggedDocument(words='like debate ted cruz princeton', tags=[684]),\n",
              " TaggedDocument(words='16 year old start online business', tags=[685]),\n",
              " TaggedDocument(words='didnt shawshank redemption win oscar', tags=[686]),\n",
              " TaggedDocument(words='crack gsoc 16', tags=[687]),\n",
              " TaggedDocument(words='complete mba dual specialization marketing hr im work management trainee contractual psu want work abroad start', tags=[688]),\n",
              " TaggedDocument(words='dark vacuum energy create expansion potential energy transforms type energy expansion', tags=[689]),\n",
              " TaggedDocument(words='right decision', tags=[690]),\n",
              " TaggedDocument(words='great traitor india', tags=[691]),\n",
              " TaggedDocument(words='parliament call august house', tags=[692]),\n",
              " TaggedDocument(words='mean australian stock investor stock fully frank dividend', tags=[693]),\n",
              " TaggedDocument(words='current saree trend', tags=[694]),\n",
              " TaggedDocument(words='rule regulation visit inmate valdosta prison compare prison florida', tags=[695]),\n",
              " TaggedDocument(words='learn sanskrit', tags=[696]),\n",
              " TaggedDocument(words='best way apply job', tags=[697]),\n",
              " TaggedDocument(words='original meaningpurpose united state senate long applies', tags=[698]),\n",
              " TaggedDocument(words='iron change solid liquid gas', tags=[699]),\n",
              " TaggedDocument(words='male age 21 57 weigh 180 lbs good meal plan breakfast lunch dinner food eat reach 160 lb', tags=[700]),\n",
              " TaggedDocument(words='control anger', tags=[701]),\n",
              " TaggedDocument(words='people switch pc mac happy', tags=[702]),\n",
              " TaggedDocument(words='married woman affair', tags=[703]),\n",
              " TaggedDocument(words='advantage short man', tags=[704]),\n",
              " TaggedDocument(words='software design embroidery 16 head machine', tags=[705]),\n",
              " TaggedDocument(words='whats catchy freelance makeup artist', tags=[706]),\n",
              " TaggedDocument(words='figure speech sentence', tags=[707]),\n",
              " TaggedDocument(words='political influence church england 2017', tags=[708]),\n",
              " TaggedDocument(words='think indias surgical strike pakistan', tags=[709]),\n",
              " TaggedDocument(words='onan transformer nameplate', tags=[710]),\n",
              " TaggedDocument(words='ill adopt future tell future kid theyre adopt', tags=[711]),\n",
              " TaggedDocument(words='law word suggestion', tags=[712]),\n",
              " TaggedDocument(words='youre lesbian bi know girl like', tags=[713]),\n",
              " TaggedDocument(words='ask promotion', tags=[714]),\n",
              " TaggedDocument(words='qiymatcom', tags=[715]),\n",
              " TaggedDocument(words='people gather relevant information relate question', tags=[716]),\n",
              " TaggedDocument(words='brain reuptake neurotransmitter like dopamine serotonin mood well', tags=[717]),\n",
              " TaggedDocument(words='book prefer bitsat 2016', tags=[718]),\n",
              " TaggedDocument(words='difference tfidf delta tfidf', tags=[719]),\n",
              " TaggedDocument(words='best heist movie indian cinema', tags=[720]),\n",
              " TaggedDocument(words='major highway california compare major highway maine', tags=[721]),\n",
              " TaggedDocument(words='light reflect photon mass', tags=[722]),\n",
              " TaggedDocument(words='downside attend cole normale suprieure', tags=[723]),\n",
              " TaggedDocument(words='jeff bezos nationality', tags=[724]),\n",
              " TaggedDocument(words='government prioritise civil liberty national security', tags=[725]),\n",
              " TaggedDocument(words='connect 51 speaker 35 mm jack lg tv 32lb5650 build dolby digital dts decoder work', tags=[726]),\n",
              " TaggedDocument(words='believe god organize religion', tags=[727]),\n",
              " TaggedDocument(words='possibility chief innovation officer career', tags=[728]),\n",
              " TaggedDocument(words='guy wear panty', tags=[729]),\n",
              " TaggedDocument(words='best website preparation elitmus', tags=[730]),\n",
              " TaggedDocument(words='moroccan like culture compare nigeria', tags=[731]),\n",
              " TaggedDocument(words='green tea fat burner help weight loss drink time drink', tags=[732]),\n",
              " TaggedDocument(words='science prove god exist', tags=[733]),\n",
              " TaggedDocument(words='purpose view section quora', tags=[734]),\n",
              " TaggedDocument(words='indian society obsess bollywood cricket politics religion', tags=[735]),\n",
              " TaggedDocument(words='movie 2016 10 list', tags=[736]),\n",
              " TaggedDocument(words='goal math', tags=[737]),\n",
              " TaggedDocument(words='open snapchat message person know open', tags=[738]),\n",
              " TaggedDocument(words='antonym example antonyms', tags=[739]),\n",
              " TaggedDocument(words='difference painting sculpture', tags=[740]),\n",
              " TaggedDocument(words='average electrical engineering salary arizona', tags=[741]),\n",
              " TaggedDocument(words='reservation remove india', tags=[742]),\n",
              " TaggedDocument(words='audacity filter run disguise voice', tags=[743]),\n",
              " TaggedDocument(words='way turn whatsapp data pack', tags=[744]),\n",
              " TaggedDocument(words='point dimensional analysis', tags=[745]),\n",
              " TaggedDocument(words='social security number online free', tags=[746]),\n",
              " TaggedDocument(words='second ionization energy lithium determine', tags=[747]),\n",
              " TaggedDocument(words='good gift foreign visitor bring theyre invite someone home comoros time', tags=[748]),\n",
              " TaggedDocument(words='boyfriend touchy female friend im comfortable anymore shes friend talk', tags=[749]),\n",
              " TaggedDocument(words='us chemistry pharmacy', tags=[750]),\n",
              " TaggedDocument(words='proof existence extraterrestrial', tags=[751]),\n",
              " TaggedDocument(words='encryption key well implement hive udf 128 bit 256 bit', tags=[752]),\n",
              " TaggedDocument(words='gary johnson go debate 2016 presidential debate', tags=[753]),\n",
              " TaggedDocument(words='race hannibal carthage', tags=[754]),\n",
              " TaggedDocument(words='party girl cheat', tags=[755]),\n",
              " TaggedDocument(words='mayan flute gold story', tags=[756]),\n",
              " TaggedDocument(words='money fast', tags=[757]),\n",
              " TaggedDocument(words='educational toy helpful kid', tags=[758]),\n",
              " TaggedDocument(words='world best romantic movie', tags=[759]),\n",
              " TaggedDocument(words='draft questionnaire look follow aspect improve customer service question ask', tags=[760]),\n",
              " TaggedDocument(words='best complete bsc horticulture best career option', tags=[761]),\n",
              " TaggedDocument(words='expect time travel reality', tags=[762]),\n",
              " TaggedDocument(words='mean friend', tags=[763]),\n",
              " TaggedDocument(words='im love best friend im gay he straight', tags=[764]),\n",
              " TaggedDocument(words='new harry potter book harry potter curse child', tags=[765]),\n",
              " TaggedDocument(words='like aaj tak', tags=[766]),\n",
              " TaggedDocument(words='review 2016 macbook pro', tags=[767]),\n",
              " TaggedDocument(words='luthier', tags=[768]),\n",
              " TaggedDocument(words='create google survey allow 2 answer recipient 2nd answer partner dont email address', tags=[769]),\n",
              " TaggedDocument(words='repair loose microusb cable', tags=[770]),\n",
              " TaggedDocument(words='relay reverse proxy socketio hidden server nat', tags=[771]),\n",
              " TaggedDocument(words='difference cupcake muffin', tags=[772]),\n",
              " TaggedDocument(words='photograph person world', tags=[773]),\n",
              " TaggedDocument(words='expect cutoff kvpy sx 2016', tags=[774]),\n",
              " TaggedDocument(words='happens matter enters black hole', tags=[775]),\n",
              " TaggedDocument(words='long wisdom tooth finally come', tags=[776]),\n",
              " TaggedDocument(words='train dog perfectly', tags=[777]),\n",
              " TaggedDocument(words='home remedy acne', tags=[778]),\n",
              " TaggedDocument(words='mind blowing tool gadget people dont know', tags=[779]),\n",
              " TaggedDocument(words='face gain lot fat reduce', tags=[780]),\n",
              " TaggedDocument(words='matter', tags=[781]),\n",
              " TaggedDocument(words='best phone gadget 2016', tags=[782]),\n",
              " TaggedDocument(words='difference programming language markup language script language', tags=[783]),\n",
              " TaggedDocument(words='people prefer spending time quora instead work gain money', tags=[784]),\n",
              " TaggedDocument(words='people talk', tags=[785]),\n",
              " TaggedDocument(words='current scalar vector quantity', tags=[786]),\n",
              " TaggedDocument(words='sexy lesbian movie', tags=[787]),\n",
              " TaggedDocument(words='best uber hack', tags=[788]),\n",
              " TaggedDocument(words='happen pakistan declare terrorist state', tags=[789]),\n",
              " TaggedDocument(words='blog popular wordpress', tags=[790]),\n",
              " TaggedDocument(words='feel like woman penis inside compare have finger inside', tags=[791]),\n",
              " TaggedDocument(words='procedure form link postgresql java', tags=[792]),\n",
              " TaggedDocument(words='jock itch smell bad treat', tags=[793]),\n",
              " TaggedDocument(words='sex girl like', tags=[794]),\n",
              " TaggedDocument(words='buy song itunes 099 go artist pocket', tags=[795]),\n",
              " TaggedDocument(words='short attention span learn advanced english material quickly consider dumb student', tags=[796]),\n",
              " TaggedDocument(words='happens drink soda expired month', tags=[797]),\n",
              " TaggedDocument(words='buy bitcoin', tags=[798]),\n",
              " TaggedDocument(words='mention ghost write homework harvard student grad school application', tags=[799]),\n",
              " TaggedDocument(words='dont know deal relationship situation help', tags=[800]),\n",
              " TaggedDocument(words='best seo company delhi', tags=[801]),\n",
              " TaggedDocument(words='learn chinese', tags=[802]),\n",
              " TaggedDocument(words='triclosan toothpaste', tags=[803]),\n",
              " TaggedDocument(words='thing new employee know go day universal electronics', tags=[804]),\n",
              " TaggedDocument(words='learn fly theyre break', tags=[805]),\n",
              " TaggedDocument(words='best song pink floyd', tags=[806]),\n",
              " TaggedDocument(words='sex worker prostitution cost eat pussy thailand', tags=[807]),\n",
              " TaggedDocument(words='liger large', tags=[808]),\n",
              " TaggedDocument(words='deal stress', tags=[809]),\n",
              " TaggedDocument(words='right wing leave wing india mean', tags=[810]),\n",
              " TaggedDocument(words='feel depress want go time well', tags=[811]),\n",
              " TaggedDocument(words='sleep 15 year old need', tags=[812]),\n",
              " TaggedDocument(words='oppinion western cultural influence culture', tags=[813]),\n",
              " TaggedDocument(words='calculate gpa cgpa', tags=[814]),\n",
              " TaggedDocument(words='online shopping replace physical store completely future', tags=[815]),\n",
              " TaggedDocument(words='iran like summer', tags=[816]),\n",
              " TaggedDocument(words='interesting fact element carbon', tags=[817]),\n",
              " TaggedDocument(words='quora expect stay business censor thing', tags=[818]),\n",
              " TaggedDocument(words='good solar panel installation provider near thermal california ca', tags=[819]),\n",
              " TaggedDocument(words='india day girl wear designer dress function hw thy afford wat thy function use normal day', tags=[820]),\n",
              " TaggedDocument(words='free comic online', tags=[821]),\n",
              " TaggedDocument(words='happen heat sulphur high temperature', tags=[822]),\n",
              " TaggedDocument(words='gain weight', tags=[823]),\n",
              " TaggedDocument(words='america internet censorship', tags=[824]),\n",
              " TaggedDocument(words='hack iphone 7 icloud account', tags=[825]),\n",
              " TaggedDocument(words='apply pan card document need apply', tags=[826]),\n",
              " TaggedDocument(words='scrap use 500 1000 rupee currency note india solve problem corruption', tags=[827]),\n",
              " TaggedDocument(words='girlfriend break', tags=[828]),\n",
              " TaggedDocument(words='indie game', tags=[829]),\n",
              " TaggedDocument(words='grow taller 52 56 age 18', tags=[830]),\n",
              " TaggedDocument(words='improve general knowledge', tags=[831]),\n",
              " TaggedDocument(words='best diabetes doctor patna', tags=[832]),\n",
              " TaggedDocument(words='star war force awakens 2015 movie cast rey purposely choose actor look like keira knightley play queen amidalas double prequels', tags=[833]),\n",
              " TaggedDocument(words='money paytm wallet bank account', tags=[834]),\n",
              " TaggedDocument(words='taupe colour shoe wear', tags=[835]),\n",
              " TaggedDocument(words='publish book', tags=[836]),\n",
              " TaggedDocument(words='buy online lic plan', tags=[837]),\n",
              " TaggedDocument(words='learn stock market', tags=[838]),\n",
              " TaggedDocument(words='possible work tech field economics degree', tags=[839]),\n",
              " TaggedDocument(words='apply prepare gre', tags=[840]),\n",
              " TaggedDocument(words='tqwl ticket confirmd easily', tags=[841]),\n",
              " TaggedDocument(words='effect 500 1000 r note ban', tags=[842]),\n",
              " TaggedDocument(words='cricket pitch process', tags=[843]),\n",
              " TaggedDocument(words='invest indexed fund india', tags=[844]),\n",
              " TaggedDocument(words='salary increase job today', tags=[845]),\n",
              " TaggedDocument(words='best anime', tags=[846]),\n",
              " TaggedDocument(words='easy painless way die instantly', tags=[847]),\n",
              " TaggedDocument(words='whats thing woman man', tags=[848]),\n",
              " TaggedDocument(words='sex toy sell india', tags=[849]),\n",
              " TaggedDocument(words='outsource help small business', tags=[850]),\n",
              " TaggedDocument(words='time white house grandfather', tags=[851]),\n",
              " TaggedDocument(words='increase iq', tags=[852]),\n",
              " TaggedDocument(words='stop procrastination', tags=[853]),\n",
              " TaggedDocument(words='higgs field look like', tags=[854]),\n",
              " TaggedDocument(words='model class 11 physic', tags=[855]),\n",
              " TaggedDocument(words='similarity differences data information', tags=[856]),\n",
              " TaggedDocument(words='think president', tags=[857]),\n",
              " TaggedDocument(words='coal gate scam somebody explain detail', tags=[858]),\n",
              " TaggedDocument(words='cause broccoli bitter', tags=[859]),\n",
              " TaggedDocument(words='know met', tags=[860]),\n",
              " TaggedDocument(words='difference jquery version', tags=[861]),\n",
              " TaggedDocument(words='actually purpose life', tags=[862]),\n",
              " TaggedDocument(words='convert ethane ethene', tags=[863]),\n",
              " TaggedDocument(words='requirement president united state requirement different iran', tags=[864]),\n",
              " TaggedDocument(words='whats important knowledge imagination', tags=[865]),\n",
              " TaggedDocument(words='whats question janet yellen', tags=[866]),\n",
              " TaggedDocument(words='atheist', tags=[867]),\n",
              " TaggedDocument(words='interest quora question', tags=[868]),\n",
              " TaggedDocument(words='beauty standard philippine', tags=[869]),\n",
              " TaggedDocument(words='learn linux kernel development', tags=[870]),\n",
              " TaggedDocument(words='morning gym workout good evening gym workout', tags=[871]),\n",
              " TaggedDocument(words='careat startup h1b', tags=[872]),\n",
              " TaggedDocument(words='upload profile picture quora', tags=[873]),\n",
              " TaggedDocument(words='artist money deviantart', tags=[874]),\n",
              " TaggedDocument(words='advantage disadvantage dual camera like huawei honor 6 plus htc m8 triple camera like future smartphone', tags=[875]),\n",
              " TaggedDocument(words='reason join afmc get college low mark pmts', tags=[876]),\n",
              " TaggedDocument(words='important android phone apps', tags=[877]),\n",
              " TaggedDocument(words='college punjab offer scholarship', tags=[878]),\n",
              " TaggedDocument(words='android youtube app search youtube channel', tags=[879]),\n",
              " TaggedDocument(words='selfish person friend win lottery', tags=[880]),\n",
              " TaggedDocument(words='south indian guy think north indian girl', tags=[881]),\n",
              " TaggedDocument(words='use word unicorn', tags=[882]),\n",
              " TaggedDocument(words='way thailand send want space future weapon', tags=[883]),\n",
              " TaggedDocument(words='nuclear insurance pool', tags=[884]),\n",
              " TaggedDocument(words='apple go come new ipod touch', tags=[885]),\n",
              " TaggedDocument(words='difference wireframe mockup prototype', tags=[886]),\n",
              " TaggedDocument(words='point life stop hating', tags=[887]),\n",
              " TaggedDocument(words='stop terrorism', tags=[888]),\n",
              " TaggedDocument(words='got arrest', tags=[889]),\n",
              " TaggedDocument(words='true expectation set government demonization reality lack implement properly', tags=[890]),\n",
              " TaggedDocument(words='marginal capital coefficient mean economics', tags=[891]),\n",
              " TaggedDocument(words='happen burn plastic garbage yard', tags=[892]),\n",
              " TaggedDocument(words='difference genotype allele', tags=[893]),\n",
              " TaggedDocument(words='disk', tags=[894]),\n",
              " TaggedDocument(words='donate money charity', tags=[895]),\n",
              " TaggedDocument(words='american think government prop brutal dictatorship world', tags=[896]),\n",
              " TaggedDocument(words='men wear underwear', tags=[897]),\n",
              " TaggedDocument(words='agricultural engineer know dont', tags=[898]),\n",
              " TaggedDocument(words='juice bar able succeed nyc', tags=[899]),\n",
              " TaggedDocument(words='empirical study available profitability option seller vs option buyer', tags=[900]),\n",
              " TaggedDocument(words='dance form india', tags=[901]),\n",
              " TaggedDocument(words='possible fruit contain insect have hole', tags=[902]),\n",
              " TaggedDocument(words='doesnt police government help child beggar usually traffic signal', tags=[903]),\n",
              " TaggedDocument(words='best place travel goa', tags=[904]),\n",
              " TaggedDocument(words='download youtube video sd card', tags=[905]),\n",
              " TaggedDocument(words='human dont feel hunger', tags=[906]),\n",
              " TaggedDocument(words='visit south africa place visit', tags=[907]),\n",
              " TaggedDocument(words='dominantsubmissive relationship work', tags=[908]),\n",
              " TaggedDocument(words='program language learn video game development', tags=[909]),\n",
              " TaggedDocument(words='lunate sulcus function', tags=[910]),\n",
              " TaggedDocument(words='good solar panel installation provider near millbrae california ca', tags=[911]),\n",
              " TaggedDocument(words='catalytic converter', tags=[912]),\n",
              " TaggedDocument(words='whats absolute easy way commit suicide', tags=[913]),\n",
              " TaggedDocument(words='jesus bear december 25th', tags=[914]),\n",
              " TaggedDocument(words='income invest share market way start invest', tags=[915]),\n",
              " TaggedDocument(words='instagram account visit profile', tags=[916]),\n",
              " TaggedDocument(words='happen donald trump drop race right', tags=[917]),\n",
              " TaggedDocument(words='individual event history source pride tom prncipe', tags=[918]),\n",
              " TaggedDocument(words='best government job india', tags=[919]),\n",
              " TaggedDocument(words='germany feel muslim terrorist attack france', tags=[920]),\n",
              " TaggedDocument(words='melt freeze point substance', tags=[921]),\n",
              " TaggedDocument(words='95 board study 2 month start prepare 2 month class 12th board', tags=[922]),\n",
              " TaggedDocument(words='nuclear membrane', tags=[923]),\n",
              " TaggedDocument(words='girlfriend masturbate girlfriend know imagine', tags=[924]),\n",
              " TaggedDocument(words='human impact biodiversity', tags=[925]),\n",
              " TaggedDocument(words='write song tell story', tags=[926]),\n",
              " TaggedDocument(words='improve english pronunciation', tags=[927]),\n",
              " TaggedDocument(words='whats best decision youve', tags=[928]),\n",
              " TaggedDocument(words='soybean cash crop louisiana economic impact industry louisiana', tags=[929]),\n",
              " TaggedDocument(words='feel like encounter resentment trump hillary disagree v disagree bernie kasich', tags=[930]),\n",
              " TaggedDocument(words='failure rate real estate agent', tags=[931]),\n",
              " TaggedDocument(words='future', tags=[932]),\n",
              " TaggedDocument(words='alien plead asylum earth return share information tech weapon nation earth agree', tags=[933]),\n",
              " TaggedDocument(words='tip hack make degree developmental child psychology useful', tags=[934]),\n",
              " TaggedDocument(words='start preparation crack ias exam good book idea middle class family', tags=[935]),\n",
              " TaggedDocument(words='learn funny', tags=[936]),\n",
              " TaggedDocument(words='difference script language program language explain example', tags=[937]),\n",
              " TaggedDocument(words='founder fund invest stemcentrx', tags=[938]),\n",
              " TaggedDocument(words='know victim narcissist abuse', tags=[939]),\n",
              " TaggedDocument(words='difference speed velocity measure', tags=[940]),\n",
              " TaggedDocument(words='feel tire wake solution', tags=[941]),\n",
              " TaggedDocument(words='change android ip address permanently', tags=[942]),\n",
              " TaggedDocument(words='scientist track progress research project', tags=[943]),\n",
              " TaggedDocument(words='best browser quora', tags=[944]),\n",
              " TaggedDocument(words='chance survive shot eye 300grain hp 50ae desert eagle nonexistent', tags=[945]),\n",
              " TaggedDocument(words='calorie burn day build pack', tags=[946]),\n",
              " TaggedDocument(words='price iphone 6 plus drop day iphone 7 release', tags=[947]),\n",
              " TaggedDocument(words='woman date feel attract man shorter', tags=[948]),\n",
              " TaggedDocument(words='convert video 3gp', tags=[949]),\n",
              " TaggedDocument(words='quora fill stupid question', tags=[950]),\n",
              " TaggedDocument(words='small sized movie good quality', tags=[951]),\n",
              " TaggedDocument(words='solution augustus provide problem plague roman republic', tags=[952]),\n",
              " TaggedDocument(words='popular exam 50 year clat iit jee', tags=[953]),\n",
              " TaggedDocument(words='ideal ergonomic setup want code 12 hour day day long time', tags=[954]),\n",
              " TaggedDocument(words='gym 3 day week result', tags=[955]),\n",
              " TaggedDocument(words='real earth flat', tags=[956]),\n",
              " TaggedDocument(words='great leader', tags=[957]),\n",
              " TaggedDocument(words='think benefit human protect wild animal', tags=[958]),\n",
              " TaggedDocument(words='trend facebook', tags=[959]),\n",
              " TaggedDocument(words='best way lose weight', tags=[960]),\n",
              " TaggedDocument(words='bjp wave kerala election', tags=[961]),\n",
              " TaggedDocument(words='bad breakup think meet later happiness well match', tags=[962]),\n",
              " TaggedDocument(words='increase height 25 year', tags=[963]),\n",
              " TaggedDocument(words='hpv away', tags=[964]),\n",
              " TaggedDocument(words='driver license number', tags=[965]),\n",
              " TaggedDocument(words='speak english study 11 year', tags=[966]),\n",
              " TaggedDocument(words='gmail account create phone number', tags=[967]),\n",
              " TaggedDocument(words='happen enter black hole wormhole', tags=[968]),\n",
              " TaggedDocument(words='learn math quickly', tags=[969]),\n",
              " TaggedDocument(words='best nespresso capsule flavor', tags=[970]),\n",
              " TaggedDocument(words='duolingo good learning german', tags=[971]),\n",
              " TaggedDocument(words='universe expand limit dark vacuum energy create expands', tags=[972]),\n",
              " TaggedDocument(words='inspire book read', tags=[973]),\n",
              " TaggedDocument(words='refurbish phone mean', tags=[974]),\n",
              " TaggedDocument(words='shatter glass sound concrete', tags=[975]),\n",
              " TaggedDocument(words='animal react psychopath stare', tags=[976]),\n",
              " TaggedDocument(words='school best 9th standard bangalore', tags=[977]),\n",
              " TaggedDocument(words='alcl3 covalent ionic compound', tags=[978]),\n",
              " TaggedDocument(words='menu mcdonalds restaurants rome italy', tags=[979]),\n",
              " TaggedDocument(words='people smarter', tags=[980]),\n",
              " TaggedDocument(words='tip uber driver', tags=[981]),\n",
              " TaggedDocument(words='best way prepare cbse class 12 board examination', tags=[982]),\n",
              " TaggedDocument(words='rid acne scar chest', tags=[983]),\n",
              " TaggedDocument(words='way earn money online', tags=[984]),\n",
              " TaggedDocument(words='quality assistance sale house potts point', tags=[985]),\n",
              " TaggedDocument(words='october revolution', tags=[986]),\n",
              " TaggedDocument(words='superhero suit movie', tags=[987]),\n",
              " TaggedDocument(words='people indifferent pessimistic negatively skeptical attitude spiritualityyoga guru', tags=[988]),\n",
              " TaggedDocument(words='disney tv movie underrate', tags=[989]),\n",
              " TaggedDocument(words='convince reason support birdwatch', tags=[990]),\n",
              " TaggedDocument(words='good psychological hack', tags=[991]),\n",
              " TaggedDocument(words='sue government noise pollution run fighter jet neighborhood set car alarm', tags=[992]),\n",
              " TaggedDocument(words='visa dubai', tags=[993]),\n",
              " TaggedDocument(words='care guinea pig', tags=[994]),\n",
              " TaggedDocument(words='commercial mirror solar system work mirror point sun directly tower', tags=[995]),\n",
              " TaggedDocument(words='hitchhiker guide galaxy netflix', tags=[996]),\n",
              " TaggedDocument(words='dont want friend negative best friend anymore', tags=[997]),\n",
              " TaggedDocument(words='possible buy product online sparkasse girokonto card yes', tags=[998]),\n",
              " TaggedDocument(words='best material prepare ssc cgl tier 3 2016', tags=[999]),\n",
              " ...]"
            ]
          },
          "metadata": {},
          "execution_count": 21
        }
      ]
    },
    {
      "cell_type": "code",
      "source": [
        "#lemmatized with stopwords\n",
        "q1_sw_lemma_d2v, q2_sw_lemma_d2v = doc2vec(df_sw_lemma)\n",
        "assert len(q1_sw_lemma_d2v) == len(q2_sw_lemma_d2v)"
      ],
      "metadata": {
        "id": "bFWM_faxyGCL"
      },
      "execution_count": 71,
      "outputs": []
    },
    {
      "cell_type": "code",
      "source": [
        "#Stemmed without stopwords\n",
        "q1_stem_d2v, q2_stem_d2v = doc2vec(df_stem)\n",
        "assert len(q1_stem_d2v) == len(q2_stem_d2v)"
      ],
      "metadata": {
        "id": "0-QZvc5Sx88k"
      },
      "execution_count": 18,
      "outputs": []
    },
    {
      "cell_type": "code",
      "source": [
        "#Stemmed with stopwords\n",
        "q1_sw_stem_d2v, q2_sw_stem_d2v = doc2vec(df_sw_stem)\n",
        "assert len(q1_sw_stem_d2v) == len(q2_sw_stem_d2v)"
      ],
      "metadata": {
        "id": "aPizJEgayCVz"
      },
      "execution_count": 19,
      "outputs": []
    },
    {
      "cell_type": "code",
      "source": [
        "#With Stopwords, not lemmatized, not stemmed\n",
        "q1_sw_d2v, q2_sw_d2v = doc2vec(df_sw)\n",
        "assert len(q1_sw_d2v) == len(q2_sw_d2v)"
      ],
      "metadata": {
        "id": "oFwzTiP6xqly"
      },
      "execution_count": 72,
      "outputs": []
    },
    {
      "cell_type": "code",
      "source": [
        "#Without stopwords, not lemmatized, not stemmed \n",
        "q1_out_d2v, q2_out_d2v = doc2vec(df_out)\n",
        "assert len(q1_out_d2v) == len(q2_out_d2v)"
      ],
      "metadata": {
        "id": "iBdztD6MxkWq"
      },
      "execution_count": 73,
      "outputs": []
    },
    {
      "cell_type": "code",
      "source": [
        "q1_out_d2v"
      ],
      "metadata": {
        "colab": {
          "base_uri": "https://localhost:8080/",
          "height": 169
        },
        "id": "N6Poi4j4LPTr",
        "outputId": "ec8ba082-af69-4789-c8eb-c9cb51c6ed85"
      },
      "execution_count": 1,
      "outputs": [
        {
          "output_type": "error",
          "ename": "NameError",
          "evalue": "ignored",
          "traceback": [
            "\u001b[0;31m---------------------------------------------------------------------------\u001b[0m",
            "\u001b[0;31mNameError\u001b[0m                                 Traceback (most recent call last)",
            "\u001b[0;32m<ipython-input-1-d4ae59db591b>\u001b[0m in \u001b[0;36m<module>\u001b[0;34m\u001b[0m\n\u001b[0;32m----> 1\u001b[0;31m \u001b[0mq1_out_d2v\u001b[0m\u001b[0;34m\u001b[0m\u001b[0;34m\u001b[0m\u001b[0m\n\u001b[0m",
            "\u001b[0;31mNameError\u001b[0m: name 'q1_out_d2v' is not defined"
          ]
        }
      ]
    },
    {
      "cell_type": "markdown",
      "source": [
        "### Activating Doc2Vec model"
      ],
      "metadata": {
        "id": "pTJYpxOJzIcc"
      }
    },
    {
      "cell_type": "code",
      "source": [
        "#PARAMETER FOR DOC2VEC MODEL \n",
        "vector = 100\n",
        "epochs = 30"
      ],
      "metadata": {
        "id": "9rLS83NPtOdV"
      },
      "execution_count": 22,
      "outputs": []
    },
    {
      "cell_type": "code",
      "source": [
        "#lemmatized, without stopwords\n",
        "X_q1_lemma_d2v = model_doc2vec(q1_lemma_d2v, vector, epochs)\n",
        "X_q2_lemma_d2v = model_doc2vec(q2_lemma_d2v, vector, epochs)"
      ],
      "metadata": {
        "id": "YkmAVk10zOK0",
        "colab": {
          "base_uri": "https://localhost:8080/"
        },
        "outputId": "2e3d3634-7bb8-43df-fe15-140f065fe5e6"
      },
      "execution_count": 23,
      "outputs": [
        {
          "output_type": "stream",
          "name": "stderr",
          "text": [
            "WARNING:gensim.models.doc2vec:Each 'words' should be a list of words (usually unicode strings). First 'words' here is instead plain <class 'str'>.\n",
            "WARNING:gensim.models.doc2vec:Each 'words' should be a list of words (usually unicode strings). First 'words' here is instead plain <class 'str'>.\n"
          ]
        }
      ]
    },
    {
      "cell_type": "code",
      "source": [
        "X_q1_lemma_d2v[3]"
      ],
      "metadata": {
        "colab": {
          "base_uri": "https://localhost:8080/"
        },
        "id": "GRwUF0eeMOUa",
        "outputId": "057d85fe-91e3-4676-90f4-6a43f3b94a44"
      },
      "execution_count": 25,
      "outputs": [
        {
          "output_type": "execute_result",
          "data": {
            "text/plain": [
              "array([-0.0412178 ,  0.0650392 , -0.03289882, -0.06239975, -0.04449236,\n",
              "       -0.05524763,  0.01518274,  0.01704511, -0.00225002, -0.01494878,\n",
              "       -0.02816903, -0.04239533, -0.01095802, -0.01047989,  0.04452044,\n",
              "        0.01604926, -0.06396134,  0.03761509,  0.02213238, -0.02187038,\n",
              "        0.07058885, -0.11782056,  0.02092711, -0.00885683, -0.00918218,\n",
              "        0.00654902, -0.05415202, -0.03866808,  0.03968927, -0.03057757,\n",
              "        0.06795979, -0.01312713,  0.04055554,  0.11056983,  0.04085131,\n",
              "        0.00388256, -0.11027972, -0.00476998,  0.01890036, -0.03465449,\n",
              "       -0.01525936, -0.02555254,  0.04056199, -0.00315608,  0.1644517 ,\n",
              "       -0.02954346,  0.06438619, -0.09759032, -0.01544671,  0.02586464,\n",
              "       -0.01098517,  0.04467121,  0.03315813, -0.01806021, -0.04481287,\n",
              "       -0.04398055, -0.06040594, -0.02592981,  0.06214213,  0.0215547 ,\n",
              "       -0.05317705,  0.02340506,  0.02212236,  0.03644421,  0.02416401,\n",
              "        0.01749371,  0.05854058, -0.01435456,  0.03896435, -0.03502464,\n",
              "       -0.08736879, -0.08545496, -0.0066712 , -0.02103747, -0.06989974,\n",
              "        0.03408615, -0.0441222 , -0.02490416, -0.08528937,  0.04264401,\n",
              "       -0.04137413,  0.11107121,  0.00487367, -0.03462793, -0.07820214,\n",
              "        0.04548848, -0.10100199,  0.01905766,  0.06732816,  0.04030311,\n",
              "       -0.01857945, -0.01432943,  0.00386344, -0.08576322, -0.08646081,\n",
              "       -0.05882532,  0.0365404 , -0.01702579, -0.02120368, -0.02731569],\n",
              "      dtype=float32)"
            ]
          },
          "metadata": {},
          "execution_count": 25
        }
      ]
    },
    {
      "cell_type": "code",
      "source": [
        "#lemmatized, with stopwords\n",
        "X_q1_sw_lemma_d2v = model_doc2vec(q1_sw_lemma_d2v, vector, epochs)\n",
        "X_q2_sw_lemma_d2v = model_doc2vec(q2_sw_lemma_d2v, vector, epochs)"
      ],
      "metadata": {
        "colab": {
          "base_uri": "https://localhost:8080/"
        },
        "id": "2H31DHSSzHR0",
        "outputId": "c4aa9872-be2d-4550-a4e6-be220a0e3c71"
      },
      "execution_count": 75,
      "outputs": [
        {
          "output_type": "stream",
          "name": "stderr",
          "text": [
            "WARNING:gensim.models.doc2vec:Each 'words' should be a list of words (usually unicode strings). First 'words' here is instead plain <class 'str'>.\n",
            "WARNING:gensim.models.doc2vec:Each 'words' should be a list of words (usually unicode strings). First 'words' here is instead plain <class 'str'>.\n"
          ]
        }
      ]
    },
    {
      "cell_type": "code",
      "source": [
        "#Stemmed, without stopwords\n",
        "X_q1_stem_d2v = model_doc2vec(q1_stem_d2v, vector,  epochs)\n",
        "X_q2_stem_d2v = model_doc2vec(q2_stem_d2v, vector,  epochs)"
      ],
      "metadata": {
        "colab": {
          "base_uri": "https://localhost:8080/"
        },
        "id": "D9x--QGbrOXX",
        "outputId": "88110e64-d6a0-4868-80ea-5bb99083e015"
      },
      "execution_count": 76,
      "outputs": [
        {
          "output_type": "stream",
          "name": "stderr",
          "text": [
            "WARNING:gensim.models.doc2vec:Each 'words' should be a list of words (usually unicode strings). First 'words' here is instead plain <class 'str'>.\n",
            "WARNING:gensim.models.doc2vec:Each 'words' should be a list of words (usually unicode strings). First 'words' here is instead plain <class 'str'>.\n"
          ]
        }
      ]
    },
    {
      "cell_type": "code",
      "source": [
        "#Stemmed, with stopwords\n",
        "X_q1_sw_stem_d2v = model_doc2vec(q1_sw_stem_d2v, vector, epochs)\n",
        "X_q2_sw_stem_d2v = model_doc2vec(q2_sw_stem_d2v, vector, epochs)"
      ],
      "metadata": {
        "id": "x1DQ7wK7ryNu"
      },
      "execution_count": 77,
      "outputs": []
    },
    {
      "cell_type": "code",
      "source": [
        "#With Stopwords, not lemmatized, not stemmed\n",
        "X_q1_sw_d2v = model_doc2vec(q1_sw_d2v, vector, epochs)\n",
        "X_q2_sw_d2v = model_doc2vec(q2_sw_d2v, vector, epochs)"
      ],
      "metadata": {
        "colab": {
          "base_uri": "https://localhost:8080/"
        },
        "id": "Zp94XpJbz7pw",
        "outputId": "b8e02d8a-5f78-4bfc-860a-5eadb38f3e2f"
      },
      "execution_count": 78,
      "outputs": [
        {
          "output_type": "stream",
          "name": "stderr",
          "text": [
            "WARNING:gensim.models.doc2vec:Each 'words' should be a list of words (usually unicode strings). First 'words' here is instead plain <class 'str'>.\n",
            "WARNING:gensim.models.doc2vec:Each 'words' should be a list of words (usually unicode strings). First 'words' here is instead plain <class 'str'>.\n"
          ]
        }
      ]
    },
    {
      "cell_type": "code",
      "source": [
        "#Without stopwords, not lemmatized, not stemmed \n",
        "X_q1_out_d2v = model_doc2vec(q1_out_d2v, vector, epochs)\n",
        "X_q2_out_d2v = model_doc2vec(q2_out_d2v, vector, epochs)\n"
      ],
      "metadata": {
        "id": "R_iMv56A0HXt",
        "colab": {
          "base_uri": "https://localhost:8080/"
        },
        "outputId": "d715e51f-2f99-4db4-8632-4f98afe376e0"
      },
      "execution_count": 79,
      "outputs": [
        {
          "output_type": "stream",
          "name": "stderr",
          "text": [
            "WARNING:gensim.models.doc2vec:Each 'words' should be a list of words (usually unicode strings). First 'words' here is instead plain <class 'str'>.\n",
            "WARNING:gensim.models.doc2vec:Each 'words' should be a list of words (usually unicode strings). First 'words' here is instead plain <class 'str'>.\n"
          ]
        }
      ]
    },
    {
      "cell_type": "markdown",
      "source": [
        "#### Convert to array "
      ],
      "metadata": {
        "id": "px9h8tDG0fPZ"
      }
    },
    {
      "cell_type": "code",
      "source": [
        "# Lemmatized, without stopwords, not stemmed\n",
        "\n",
        "size = len(df) - 1\n",
        "arr_q1_lemma = X_q1_lemma_d2v[0] \n",
        "\n",
        "for i in range(size):\n",
        "  arrT = X_q1_lemma_d2v[i+1]\n",
        "  arr_q1_lemma = np.vstack([arr_q1_lemma, arrT])\n",
        "\n",
        "arr_q2_lemma = X_q2_lemma_d2v[0] \n",
        "\n",
        "for i in range(size):\n",
        "  arrT = X_q2_lemma_d2v[i+1]\n",
        "  arr_q2_lemma = np.vstack([arr_q2_lemma, arrT])\n",
        "\n",
        "assert arr_q1_lemma.shape == arr_q2_lemma.shape\n",
        "\n",
        "#arr_q1_lemma = create_arrays(X_q1_lemma_d2v)\n",
        "#arr_q2_lemma = create_arrays(X_q2_lemma_d2v)"
      ],
      "metadata": {
        "id": "QFtn0fye5INs"
      },
      "execution_count": 80,
      "outputs": []
    },
    {
      "cell_type": "code",
      "source": [
        "# Lemmatized, with stopwords, not stemmed\n",
        "\n",
        "size = len(df) - 1\n",
        "arr_q1_sw_lemma = X_q1_sw_lemma_d2v[0] \n",
        "\n",
        "for i in range(size):\n",
        "  arrT = X_q1_sw_lemma_d2v[i+1]\n",
        "  arr_q1_sw_lemma = np.vstack([arr_q1_sw_lemma, arrT])\n",
        "\n",
        "arr_q2_sw_lemma = X_q2_sw_lemma_d2v[0] \n",
        "\n",
        "for i in range(size):\n",
        "  arrT = X_q2_sw_lemma_d2v[i+1]\n",
        "  arr_q2_sw_lemma = np.vstack([arr_q2_sw_lemma, arrT])\n",
        "\n",
        "assert arr_q1_sw_lemma.shape == arr_q2_sw_lemma.shape\n",
        "\n",
        "# arr_q1_sw_lemma = create_arrays(X_q1_sw_lemma_d2v)\n",
        "# arr_q2_sw_lemma = create_arrays(X_q2_sw_lemma_d2v) "
      ],
      "metadata": {
        "id": "0BRNEZMv5U2X"
      },
      "execution_count": 81,
      "outputs": []
    },
    {
      "cell_type": "code",
      "source": [
        "# Stemmed, with stopwords, not lemmatized\n",
        "\n",
        "size = len(df) - 1\n",
        "arr_q1_stem = X_q1_stem_d2v[0] \n",
        "\n",
        "for i in range(size):\n",
        "  arrT = X_q1_stem_d2v[i+1]\n",
        "  arr_q1_stem = np.vstack([arr_q1_stem, arrT])\n",
        "\n",
        "arr_q2_stem = X_q2_stem_d2v[0] \n",
        "\n",
        "for i in range(size):\n",
        "  arrT = X_q2_stem_d2v[i+1]\n",
        "  arr_q2_stem = np.vstack([arr_q2_stem, arrT])\n",
        "\n",
        "assert arr_q1_stem.shape == arr_q2_stem.shape\n",
        "\n",
        "# arr_q1_stem = create_arrays(X_q1_stem_d2v)\n",
        "# arr_q2_stem = create_arrays(X_q2_stem_d2v)"
      ],
      "metadata": {
        "id": "em1SzG5d5g8Y"
      },
      "execution_count": 82,
      "outputs": []
    },
    {
      "cell_type": "code",
      "source": [
        "# Stemmed, without stopwords, not lemmatized \n",
        "\n",
        "size = len(df) - 1\n",
        "arr_q1_sw_stem = X_q1_sw_stem_d2v[0] \n",
        "\n",
        "for i in range(size):\n",
        "  arrT = X_q1_sw_stem_d2v[i+1]\n",
        "  arr_q1_sw_stem = np.vstack([arr_q1_sw_stem, arrT])\n",
        "\n",
        "arr_q2_sw_stem = X_q2_sw_stem_d2v[0] \n",
        "\n",
        "for i in range(size):\n",
        "  arrT = X_q2_sw_stem_d2v[i+1]\n",
        "  arr_q2_sw_stem = np.vstack([arr_q2_sw_stem, arrT])\n",
        "\n",
        "assert arr_q1_sw_stem.shape == arr_q2_sw_stem.shape\n",
        "\n",
        "# arr_q1_sw_stem = create_arrays(X_q1_sw_stem_d2v)\n",
        "# arr_q2_sw_stem = create_arrays(X_q2_sw_stem_d2v)"
      ],
      "metadata": {
        "id": "LPF52ZUt5oZf"
      },
      "execution_count": 83,
      "outputs": []
    },
    {
      "cell_type": "code",
      "source": [
        "# Without stopwords, not lemmatized, not stemmed\n",
        "size = len(df) - 1\n",
        "arr_q1_out = X_q1_out_d2v[0] \n",
        "\n",
        "for i in range(size):\n",
        "  arrT = X_q1_out_d2v[i+1]\n",
        "  arr_q1_out = np.vstack([arr_q1_out, arrT])\n",
        "\n",
        "arr_q2_out = X_q2_out_d2v[0] \n",
        "\n",
        "for i in range(size):\n",
        "  arrT = X_q2_out_d2v[i+1]\n",
        "  arr_q2_out = np.vstack([arr_q2_out, arrT])\n",
        "\n",
        "assert arr_q1_out.shape == arr_q2_out.shape"
      ],
      "metadata": {
        "id": "oVwHxnT706KA"
      },
      "execution_count": 84,
      "outputs": []
    },
    {
      "cell_type": "code",
      "source": [
        "# With stopword, not lemmatized, not stemmed\n",
        "\n",
        "size = len(df) - 1\n",
        "arr_q1_sw = X_q1_sw_d2v[0] \n",
        "\n",
        "for i in range(size):\n",
        "  arrT = X_q1_sw_d2v[i+1]\n",
        "  arr_q1_sw = np.vstack([arr_q1_sw, arrT])\n",
        "\n",
        "arr_q2_sw = X_q2_sw_d2v[0] \n",
        "\n",
        "for i in range(size):\n",
        "  arrT = X_q2_sw_d2v[i+1]\n",
        "  arr_q2_sw = np.vstack([arr_q2_sw, arrT])\n",
        "\n",
        "assert arr_q1_sw.shape == arr_q2_sw.shape"
      ],
      "metadata": {
        "id": "Kr_x8xVm5Bda"
      },
      "execution_count": 85,
      "outputs": []
    },
    {
      "cell_type": "markdown",
      "source": [
        "### Convert to dataframe "
      ],
      "metadata": {
        "id": "e5y_8A2VDe2K"
      }
    },
    {
      "cell_type": "code",
      "source": [
        "def df_arr(arr_q1, arr_q2, df):\n",
        "  temp1 = pd.DataFrame(arr_q1)\n",
        "  temp2 = pd.DataFrame(arr_q2)\n",
        "  X_temp = pd.concat([temp1, temp2], axis=1)\n",
        "  y = df['is_duplicate']\n",
        "  y = np.array(y)\n",
        "  y_df = pd.DataFrame(y)\n",
        "  df_X = X_temp.join(y_df,  lsuffix='_left', rsuffix='_right')\n",
        "  #X_temp['is_duplicate'] = df['is_duplicate']\n",
        "  return df_X"
      ],
      "metadata": {
        "id": "EZBLIoGx6lqA"
      },
      "execution_count": 25,
      "outputs": []
    },
    {
      "cell_type": "code",
      "source": [
        "# Dataframe - Lemmatized without stopwords \n",
        "lemma_df = df_arr(arr_q1_lemma, arr_q2_lemma, df)"
      ],
      "metadata": {
        "id": "iWL38OcEDzmH"
      },
      "execution_count": 86,
      "outputs": []
    },
    {
      "cell_type": "code",
      "source": [
        "# Dataframe - Lemmatized with stopwords \n",
        "sw_lemma_df = df_arr(arr_q1_sw_lemma, arr_q2_sw_lemma, df)"
      ],
      "metadata": {
        "id": "Egehn2ulFf5e"
      },
      "execution_count": 87,
      "outputs": []
    },
    {
      "cell_type": "code",
      "source": [
        "# Dataframe - Stemmed without stopwords \n",
        "stem_df = df_arr(arr_q1_stem, arr_q2_stem, df)"
      ],
      "metadata": {
        "id": "_SVL-Hg3G5ez"
      },
      "execution_count": 26,
      "outputs": []
    },
    {
      "cell_type": "code",
      "source": [
        "# Dataframe - Lemmatized with stopwords \n",
        "sw_stem_df = df_arr(arr_q1_sw_stem, arr_q2_sw_stem, df)"
      ],
      "metadata": {
        "id": "oMNLK2DBG_I2"
      },
      "execution_count": 27,
      "outputs": []
    },
    {
      "cell_type": "code",
      "source": [
        "# Dataframe - With stopwords, not lemmatized, not stemmed\n",
        "sw_df = df_arr(arr_q1_sw, arr_q2_sw, df)"
      ],
      "metadata": {
        "id": "7F2zrTu6HE8w"
      },
      "execution_count": 88,
      "outputs": []
    },
    {
      "cell_type": "code",
      "source": [
        "# Dataframe - Without stopwords, not lemmatized, not stemmed\n",
        "out_df = df_arr(arr_q1_out, arr_q2_out, df)"
      ],
      "metadata": {
        "id": "JzKJvV5sHRz5"
      },
      "execution_count": 89,
      "outputs": []
    },
    {
      "cell_type": "code",
      "source": [
        "stem_df.head(2)\n"
      ],
      "metadata": {
        "colab": {
          "base_uri": "https://localhost:8080/",
          "height": 205
        },
        "id": "i-pJJEHjVMzN",
        "outputId": "a0ec5e62-2b81-4cf9-c455-907e0d80982c"
      },
      "execution_count": 28,
      "outputs": [
        {
          "output_type": "execute_result",
          "data": {
            "text/plain": [
              "     0_left         1         2         3         4         5         6  \\\n",
              "0 -0.007656 -0.017189 -0.058634  0.072262 -0.014387  0.013050 -0.043178   \n",
              "1 -0.031230  0.023416  0.008874  0.074721 -0.016633 -0.025616 -0.050669   \n",
              "\n",
              "          7         8         9  ...        91        92        93        94  \\\n",
              "0 -0.065979  0.055877 -0.036416  ... -0.054352  0.042411 -0.017314 -0.025635   \n",
              "1 -0.018542  0.036259 -0.002108  ... -0.076787  0.021046 -0.026546  0.046404   \n",
              "\n",
              "         95        96        97        98        99  0_right  \n",
              "0  0.013351 -0.065088  0.013830  0.062138  0.054103        0  \n",
              "1 -0.064159  0.009849  0.009103  0.022082  0.063962        1  \n",
              "\n",
              "[2 rows x 201 columns]"
            ],
            "text/html": [
              "\n",
              "  <div id=\"df-9de67784-6c8c-45e6-b200-237e22da46cb\">\n",
              "    <div class=\"colab-df-container\">\n",
              "      <div>\n",
              "<style scoped>\n",
              "    .dataframe tbody tr th:only-of-type {\n",
              "        vertical-align: middle;\n",
              "    }\n",
              "\n",
              "    .dataframe tbody tr th {\n",
              "        vertical-align: top;\n",
              "    }\n",
              "\n",
              "    .dataframe thead th {\n",
              "        text-align: right;\n",
              "    }\n",
              "</style>\n",
              "<table border=\"1\" class=\"dataframe\">\n",
              "  <thead>\n",
              "    <tr style=\"text-align: right;\">\n",
              "      <th></th>\n",
              "      <th>0_left</th>\n",
              "      <th>1</th>\n",
              "      <th>2</th>\n",
              "      <th>3</th>\n",
              "      <th>4</th>\n",
              "      <th>5</th>\n",
              "      <th>6</th>\n",
              "      <th>7</th>\n",
              "      <th>8</th>\n",
              "      <th>9</th>\n",
              "      <th>...</th>\n",
              "      <th>91</th>\n",
              "      <th>92</th>\n",
              "      <th>93</th>\n",
              "      <th>94</th>\n",
              "      <th>95</th>\n",
              "      <th>96</th>\n",
              "      <th>97</th>\n",
              "      <th>98</th>\n",
              "      <th>99</th>\n",
              "      <th>0_right</th>\n",
              "    </tr>\n",
              "  </thead>\n",
              "  <tbody>\n",
              "    <tr>\n",
              "      <th>0</th>\n",
              "      <td>-0.007656</td>\n",
              "      <td>-0.017189</td>\n",
              "      <td>-0.058634</td>\n",
              "      <td>0.072262</td>\n",
              "      <td>-0.014387</td>\n",
              "      <td>0.013050</td>\n",
              "      <td>-0.043178</td>\n",
              "      <td>-0.065979</td>\n",
              "      <td>0.055877</td>\n",
              "      <td>-0.036416</td>\n",
              "      <td>...</td>\n",
              "      <td>-0.054352</td>\n",
              "      <td>0.042411</td>\n",
              "      <td>-0.017314</td>\n",
              "      <td>-0.025635</td>\n",
              "      <td>0.013351</td>\n",
              "      <td>-0.065088</td>\n",
              "      <td>0.013830</td>\n",
              "      <td>0.062138</td>\n",
              "      <td>0.054103</td>\n",
              "      <td>0</td>\n",
              "    </tr>\n",
              "    <tr>\n",
              "      <th>1</th>\n",
              "      <td>-0.031230</td>\n",
              "      <td>0.023416</td>\n",
              "      <td>0.008874</td>\n",
              "      <td>0.074721</td>\n",
              "      <td>-0.016633</td>\n",
              "      <td>-0.025616</td>\n",
              "      <td>-0.050669</td>\n",
              "      <td>-0.018542</td>\n",
              "      <td>0.036259</td>\n",
              "      <td>-0.002108</td>\n",
              "      <td>...</td>\n",
              "      <td>-0.076787</td>\n",
              "      <td>0.021046</td>\n",
              "      <td>-0.026546</td>\n",
              "      <td>0.046404</td>\n",
              "      <td>-0.064159</td>\n",
              "      <td>0.009849</td>\n",
              "      <td>0.009103</td>\n",
              "      <td>0.022082</td>\n",
              "      <td>0.063962</td>\n",
              "      <td>1</td>\n",
              "    </tr>\n",
              "  </tbody>\n",
              "</table>\n",
              "<p>2 rows × 201 columns</p>\n",
              "</div>\n",
              "      <button class=\"colab-df-convert\" onclick=\"convertToInteractive('df-9de67784-6c8c-45e6-b200-237e22da46cb')\"\n",
              "              title=\"Convert this dataframe to an interactive table.\"\n",
              "              style=\"display:none;\">\n",
              "        \n",
              "  <svg xmlns=\"http://www.w3.org/2000/svg\" height=\"24px\"viewBox=\"0 0 24 24\"\n",
              "       width=\"24px\">\n",
              "    <path d=\"M0 0h24v24H0V0z\" fill=\"none\"/>\n",
              "    <path d=\"M18.56 5.44l.94 2.06.94-2.06 2.06-.94-2.06-.94-.94-2.06-.94 2.06-2.06.94zm-11 1L8.5 8.5l.94-2.06 2.06-.94-2.06-.94L8.5 2.5l-.94 2.06-2.06.94zm10 10l.94 2.06.94-2.06 2.06-.94-2.06-.94-.94-2.06-.94 2.06-2.06.94z\"/><path d=\"M17.41 7.96l-1.37-1.37c-.4-.4-.92-.59-1.43-.59-.52 0-1.04.2-1.43.59L10.3 9.45l-7.72 7.72c-.78.78-.78 2.05 0 2.83L4 21.41c.39.39.9.59 1.41.59.51 0 1.02-.2 1.41-.59l7.78-7.78 2.81-2.81c.8-.78.8-2.07 0-2.86zM5.41 20L4 18.59l7.72-7.72 1.47 1.35L5.41 20z\"/>\n",
              "  </svg>\n",
              "      </button>\n",
              "      \n",
              "  <style>\n",
              "    .colab-df-container {\n",
              "      display:flex;\n",
              "      flex-wrap:wrap;\n",
              "      gap: 12px;\n",
              "    }\n",
              "\n",
              "    .colab-df-convert {\n",
              "      background-color: #E8F0FE;\n",
              "      border: none;\n",
              "      border-radius: 50%;\n",
              "      cursor: pointer;\n",
              "      display: none;\n",
              "      fill: #1967D2;\n",
              "      height: 32px;\n",
              "      padding: 0 0 0 0;\n",
              "      width: 32px;\n",
              "    }\n",
              "\n",
              "    .colab-df-convert:hover {\n",
              "      background-color: #E2EBFA;\n",
              "      box-shadow: 0px 1px 2px rgba(60, 64, 67, 0.3), 0px 1px 3px 1px rgba(60, 64, 67, 0.15);\n",
              "      fill: #174EA6;\n",
              "    }\n",
              "\n",
              "    [theme=dark] .colab-df-convert {\n",
              "      background-color: #3B4455;\n",
              "      fill: #D2E3FC;\n",
              "    }\n",
              "\n",
              "    [theme=dark] .colab-df-convert:hover {\n",
              "      background-color: #434B5C;\n",
              "      box-shadow: 0px 1px 3px 1px rgba(0, 0, 0, 0.15);\n",
              "      filter: drop-shadow(0px 1px 2px rgba(0, 0, 0, 0.3));\n",
              "      fill: #FFFFFF;\n",
              "    }\n",
              "  </style>\n",
              "\n",
              "      <script>\n",
              "        const buttonEl =\n",
              "          document.querySelector('#df-9de67784-6c8c-45e6-b200-237e22da46cb button.colab-df-convert');\n",
              "        buttonEl.style.display =\n",
              "          google.colab.kernel.accessAllowed ? 'block' : 'none';\n",
              "\n",
              "        async function convertToInteractive(key) {\n",
              "          const element = document.querySelector('#df-9de67784-6c8c-45e6-b200-237e22da46cb');\n",
              "          const dataTable =\n",
              "            await google.colab.kernel.invokeFunction('convertToInteractive',\n",
              "                                                     [key], {});\n",
              "          if (!dataTable) return;\n",
              "\n",
              "          const docLinkHtml = 'Like what you see? Visit the ' +\n",
              "            '<a target=\"_blank\" href=https://colab.research.google.com/notebooks/data_table.ipynb>data table notebook</a>'\n",
              "            + ' to learn more about interactive tables.';\n",
              "          element.innerHTML = '';\n",
              "          dataTable['output_type'] = 'display_data';\n",
              "          await google.colab.output.renderOutput(dataTable, element);\n",
              "          const docLink = document.createElement('div');\n",
              "          docLink.innerHTML = docLinkHtml;\n",
              "          element.appendChild(docLink);\n",
              "        }\n",
              "      </script>\n",
              "    </div>\n",
              "  </div>\n",
              "  "
            ]
          },
          "metadata": {},
          "execution_count": 28
        }
      ]
    },
    {
      "cell_type": "code",
      "source": [
        "df_stem.head(2)"
      ],
      "metadata": {
        "colab": {
          "base_uri": "https://localhost:8080/",
          "height": 112
        },
        "id": "NA1_aJNuVQEn",
        "outputId": "20f31b7a-9427-4c2f-d17f-e2ee62efbebd"
      },
      "execution_count": 29,
      "outputs": [
        {
          "output_type": "execute_result",
          "data": {
            "text/plain": [
              "                                          q1                         q2  \\\n",
              "11965    list job titl rsm audit firm kuwait   countri best work kuwait   \n",
              "342404                   peopl 94 allow vote        peopl 97 allow vote   \n",
              "\n",
              "        is_duplicate  \n",
              "11965              0  \n",
              "342404             1  "
            ],
            "text/html": [
              "\n",
              "  <div id=\"df-539c01ca-24b3-4983-b2ba-c1ba1a7588c4\">\n",
              "    <div class=\"colab-df-container\">\n",
              "      <div>\n",
              "<style scoped>\n",
              "    .dataframe tbody tr th:only-of-type {\n",
              "        vertical-align: middle;\n",
              "    }\n",
              "\n",
              "    .dataframe tbody tr th {\n",
              "        vertical-align: top;\n",
              "    }\n",
              "\n",
              "    .dataframe thead th {\n",
              "        text-align: right;\n",
              "    }\n",
              "</style>\n",
              "<table border=\"1\" class=\"dataframe\">\n",
              "  <thead>\n",
              "    <tr style=\"text-align: right;\">\n",
              "      <th></th>\n",
              "      <th>q1</th>\n",
              "      <th>q2</th>\n",
              "      <th>is_duplicate</th>\n",
              "    </tr>\n",
              "  </thead>\n",
              "  <tbody>\n",
              "    <tr>\n",
              "      <th>11965</th>\n",
              "      <td>list job titl rsm audit firm kuwait</td>\n",
              "      <td>countri best work kuwait</td>\n",
              "      <td>0</td>\n",
              "    </tr>\n",
              "    <tr>\n",
              "      <th>342404</th>\n",
              "      <td>peopl 94 allow vote</td>\n",
              "      <td>peopl 97 allow vote</td>\n",
              "      <td>1</td>\n",
              "    </tr>\n",
              "  </tbody>\n",
              "</table>\n",
              "</div>\n",
              "      <button class=\"colab-df-convert\" onclick=\"convertToInteractive('df-539c01ca-24b3-4983-b2ba-c1ba1a7588c4')\"\n",
              "              title=\"Convert this dataframe to an interactive table.\"\n",
              "              style=\"display:none;\">\n",
              "        \n",
              "  <svg xmlns=\"http://www.w3.org/2000/svg\" height=\"24px\"viewBox=\"0 0 24 24\"\n",
              "       width=\"24px\">\n",
              "    <path d=\"M0 0h24v24H0V0z\" fill=\"none\"/>\n",
              "    <path d=\"M18.56 5.44l.94 2.06.94-2.06 2.06-.94-2.06-.94-.94-2.06-.94 2.06-2.06.94zm-11 1L8.5 8.5l.94-2.06 2.06-.94-2.06-.94L8.5 2.5l-.94 2.06-2.06.94zm10 10l.94 2.06.94-2.06 2.06-.94-2.06-.94-.94-2.06-.94 2.06-2.06.94z\"/><path d=\"M17.41 7.96l-1.37-1.37c-.4-.4-.92-.59-1.43-.59-.52 0-1.04.2-1.43.59L10.3 9.45l-7.72 7.72c-.78.78-.78 2.05 0 2.83L4 21.41c.39.39.9.59 1.41.59.51 0 1.02-.2 1.41-.59l7.78-7.78 2.81-2.81c.8-.78.8-2.07 0-2.86zM5.41 20L4 18.59l7.72-7.72 1.47 1.35L5.41 20z\"/>\n",
              "  </svg>\n",
              "      </button>\n",
              "      \n",
              "  <style>\n",
              "    .colab-df-container {\n",
              "      display:flex;\n",
              "      flex-wrap:wrap;\n",
              "      gap: 12px;\n",
              "    }\n",
              "\n",
              "    .colab-df-convert {\n",
              "      background-color: #E8F0FE;\n",
              "      border: none;\n",
              "      border-radius: 50%;\n",
              "      cursor: pointer;\n",
              "      display: none;\n",
              "      fill: #1967D2;\n",
              "      height: 32px;\n",
              "      padding: 0 0 0 0;\n",
              "      width: 32px;\n",
              "    }\n",
              "\n",
              "    .colab-df-convert:hover {\n",
              "      background-color: #E2EBFA;\n",
              "      box-shadow: 0px 1px 2px rgba(60, 64, 67, 0.3), 0px 1px 3px 1px rgba(60, 64, 67, 0.15);\n",
              "      fill: #174EA6;\n",
              "    }\n",
              "\n",
              "    [theme=dark] .colab-df-convert {\n",
              "      background-color: #3B4455;\n",
              "      fill: #D2E3FC;\n",
              "    }\n",
              "\n",
              "    [theme=dark] .colab-df-convert:hover {\n",
              "      background-color: #434B5C;\n",
              "      box-shadow: 0px 1px 3px 1px rgba(0, 0, 0, 0.15);\n",
              "      filter: drop-shadow(0px 1px 2px rgba(0, 0, 0, 0.3));\n",
              "      fill: #FFFFFF;\n",
              "    }\n",
              "  </style>\n",
              "\n",
              "      <script>\n",
              "        const buttonEl =\n",
              "          document.querySelector('#df-539c01ca-24b3-4983-b2ba-c1ba1a7588c4 button.colab-df-convert');\n",
              "        buttonEl.style.display =\n",
              "          google.colab.kernel.accessAllowed ? 'block' : 'none';\n",
              "\n",
              "        async function convertToInteractive(key) {\n",
              "          const element = document.querySelector('#df-539c01ca-24b3-4983-b2ba-c1ba1a7588c4');\n",
              "          const dataTable =\n",
              "            await google.colab.kernel.invokeFunction('convertToInteractive',\n",
              "                                                     [key], {});\n",
              "          if (!dataTable) return;\n",
              "\n",
              "          const docLinkHtml = 'Like what you see? Visit the ' +\n",
              "            '<a target=\"_blank\" href=https://colab.research.google.com/notebooks/data_table.ipynb>data table notebook</a>'\n",
              "            + ' to learn more about interactive tables.';\n",
              "          element.innerHTML = '';\n",
              "          dataTable['output_type'] = 'display_data';\n",
              "          await google.colab.output.renderOutput(dataTable, element);\n",
              "          const docLink = document.createElement('div');\n",
              "          docLink.innerHTML = docLinkHtml;\n",
              "          element.appendChild(docLink);\n",
              "        }\n",
              "      </script>\n",
              "    </div>\n",
              "  </div>\n",
              "  "
            ]
          },
          "metadata": {},
          "execution_count": 29
        }
      ]
    },
    {
      "cell_type": "code",
      "source": [
        "df_sw_stem.head(2)"
      ],
      "metadata": {
        "colab": {
          "base_uri": "https://localhost:8080/",
          "height": 112
        },
        "id": "LQkKSgUDVUKt",
        "outputId": "60ba5d88-eb66-48e5-d310-d62eb86a0f2b"
      },
      "execution_count": 30,
      "outputs": [
        {
          "output_type": "execute_result",
          "data": {
            "text/plain": [
              "                                                       q1  \\\n",
              "11965   [, what, is, the, list, of, job, titl, at, rsm...   \n",
              "342404  [, should, peopl, over, 94, not, be, allow, to...   \n",
              "\n",
              "                                                       q2  is_duplicate  \n",
              "11965   [, which, countri, is, the, best, to, work, in...             0  \n",
              "342404  [, should, peopl, over, 97, not, be, allow, to...             1  "
            ],
            "text/html": [
              "\n",
              "  <div id=\"df-b50fb2ef-821a-405e-ad42-41128c53f3c4\">\n",
              "    <div class=\"colab-df-container\">\n",
              "      <div>\n",
              "<style scoped>\n",
              "    .dataframe tbody tr th:only-of-type {\n",
              "        vertical-align: middle;\n",
              "    }\n",
              "\n",
              "    .dataframe tbody tr th {\n",
              "        vertical-align: top;\n",
              "    }\n",
              "\n",
              "    .dataframe thead th {\n",
              "        text-align: right;\n",
              "    }\n",
              "</style>\n",
              "<table border=\"1\" class=\"dataframe\">\n",
              "  <thead>\n",
              "    <tr style=\"text-align: right;\">\n",
              "      <th></th>\n",
              "      <th>q1</th>\n",
              "      <th>q2</th>\n",
              "      <th>is_duplicate</th>\n",
              "    </tr>\n",
              "  </thead>\n",
              "  <tbody>\n",
              "    <tr>\n",
              "      <th>11965</th>\n",
              "      <td>[, what, is, the, list, of, job, titl, at, rsm...</td>\n",
              "      <td>[, which, countri, is, the, best, to, work, in...</td>\n",
              "      <td>0</td>\n",
              "    </tr>\n",
              "    <tr>\n",
              "      <th>342404</th>\n",
              "      <td>[, should, peopl, over, 94, not, be, allow, to...</td>\n",
              "      <td>[, should, peopl, over, 97, not, be, allow, to...</td>\n",
              "      <td>1</td>\n",
              "    </tr>\n",
              "  </tbody>\n",
              "</table>\n",
              "</div>\n",
              "      <button class=\"colab-df-convert\" onclick=\"convertToInteractive('df-b50fb2ef-821a-405e-ad42-41128c53f3c4')\"\n",
              "              title=\"Convert this dataframe to an interactive table.\"\n",
              "              style=\"display:none;\">\n",
              "        \n",
              "  <svg xmlns=\"http://www.w3.org/2000/svg\" height=\"24px\"viewBox=\"0 0 24 24\"\n",
              "       width=\"24px\">\n",
              "    <path d=\"M0 0h24v24H0V0z\" fill=\"none\"/>\n",
              "    <path d=\"M18.56 5.44l.94 2.06.94-2.06 2.06-.94-2.06-.94-.94-2.06-.94 2.06-2.06.94zm-11 1L8.5 8.5l.94-2.06 2.06-.94-2.06-.94L8.5 2.5l-.94 2.06-2.06.94zm10 10l.94 2.06.94-2.06 2.06-.94-2.06-.94-.94-2.06-.94 2.06-2.06.94z\"/><path d=\"M17.41 7.96l-1.37-1.37c-.4-.4-.92-.59-1.43-.59-.52 0-1.04.2-1.43.59L10.3 9.45l-7.72 7.72c-.78.78-.78 2.05 0 2.83L4 21.41c.39.39.9.59 1.41.59.51 0 1.02-.2 1.41-.59l7.78-7.78 2.81-2.81c.8-.78.8-2.07 0-2.86zM5.41 20L4 18.59l7.72-7.72 1.47 1.35L5.41 20z\"/>\n",
              "  </svg>\n",
              "      </button>\n",
              "      \n",
              "  <style>\n",
              "    .colab-df-container {\n",
              "      display:flex;\n",
              "      flex-wrap:wrap;\n",
              "      gap: 12px;\n",
              "    }\n",
              "\n",
              "    .colab-df-convert {\n",
              "      background-color: #E8F0FE;\n",
              "      border: none;\n",
              "      border-radius: 50%;\n",
              "      cursor: pointer;\n",
              "      display: none;\n",
              "      fill: #1967D2;\n",
              "      height: 32px;\n",
              "      padding: 0 0 0 0;\n",
              "      width: 32px;\n",
              "    }\n",
              "\n",
              "    .colab-df-convert:hover {\n",
              "      background-color: #E2EBFA;\n",
              "      box-shadow: 0px 1px 2px rgba(60, 64, 67, 0.3), 0px 1px 3px 1px rgba(60, 64, 67, 0.15);\n",
              "      fill: #174EA6;\n",
              "    }\n",
              "\n",
              "    [theme=dark] .colab-df-convert {\n",
              "      background-color: #3B4455;\n",
              "      fill: #D2E3FC;\n",
              "    }\n",
              "\n",
              "    [theme=dark] .colab-df-convert:hover {\n",
              "      background-color: #434B5C;\n",
              "      box-shadow: 0px 1px 3px 1px rgba(0, 0, 0, 0.15);\n",
              "      filter: drop-shadow(0px 1px 2px rgba(0, 0, 0, 0.3));\n",
              "      fill: #FFFFFF;\n",
              "    }\n",
              "  </style>\n",
              "\n",
              "      <script>\n",
              "        const buttonEl =\n",
              "          document.querySelector('#df-b50fb2ef-821a-405e-ad42-41128c53f3c4 button.colab-df-convert');\n",
              "        buttonEl.style.display =\n",
              "          google.colab.kernel.accessAllowed ? 'block' : 'none';\n",
              "\n",
              "        async function convertToInteractive(key) {\n",
              "          const element = document.querySelector('#df-b50fb2ef-821a-405e-ad42-41128c53f3c4');\n",
              "          const dataTable =\n",
              "            await google.colab.kernel.invokeFunction('convertToInteractive',\n",
              "                                                     [key], {});\n",
              "          if (!dataTable) return;\n",
              "\n",
              "          const docLinkHtml = 'Like what you see? Visit the ' +\n",
              "            '<a target=\"_blank\" href=https://colab.research.google.com/notebooks/data_table.ipynb>data table notebook</a>'\n",
              "            + ' to learn more about interactive tables.';\n",
              "          element.innerHTML = '';\n",
              "          dataTable['output_type'] = 'display_data';\n",
              "          await google.colab.output.renderOutput(dataTable, element);\n",
              "          const docLink = document.createElement('div');\n",
              "          docLink.innerHTML = docLinkHtml;\n",
              "          element.appendChild(docLink);\n",
              "        }\n",
              "      </script>\n",
              "    </div>\n",
              "  </div>\n",
              "  "
            ]
          },
          "metadata": {},
          "execution_count": 30
        }
      ]
    },
    {
      "cell_type": "markdown",
      "source": [
        "### Split Data"
      ],
      "metadata": {
        "id": "uhX3GryDHeLw"
      }
    },
    {
      "cell_type": "code",
      "source": [
        "# Lemmatized with stopwords \n",
        "y_sw_lemma= sw_lemma_df['0_right']\n",
        "X_train_sw_lemma, X_test_sw_lemma, y_train_sw_lemma, y_test_sw_lemma = train_test_split(sw_lemma_df, y_sw_lemma, stratify = y_sw_lemma, test_size = 0.15, random_state = 0)"
      ],
      "metadata": {
        "id": "5cvCwCIMHf2m"
      },
      "execution_count": 90,
      "outputs": []
    },
    {
      "cell_type": "code",
      "source": [
        "# Lemmatized without stopwords \n",
        "y_lemma= lemma_df['0_right']\n",
        "X_train_lemma, X_test_lemma, y_train_lemma, y_test_lemma = train_test_split(lemma_df, y_lemma, stratify = y_lemma, test_size = 0.15, random_state = 0)"
      ],
      "metadata": {
        "id": "vODYoycbIs7w"
      },
      "execution_count": 91,
      "outputs": []
    },
    {
      "cell_type": "code",
      "source": [
        "# Stemmed with stopwords \n",
        "y_sw_stem= sw_stem_df['0_right']\n",
        "X_train_sw_stem, X_test_sw_stem, y_train_sw_stem, y_test_sw_stem = train_test_split(sw_stem_df, y_sw_stem, stratify = y_sw_stem, test_size = 0.15, random_state = 0)"
      ],
      "metadata": {
        "id": "CrTS7I77I1x-"
      },
      "execution_count": 44,
      "outputs": []
    },
    {
      "cell_type": "code",
      "source": [
        "# Stemmed without stopwords \n",
        "y_stem= stem_df['0_right']\n",
        "X_train_stem, X_test_stem, y_train_stem, y_test_stem = train_test_split(stem_df, y_stem, stratify = y_stem, test_size = 0.15, random_state = 0)"
      ],
      "metadata": {
        "id": "90g_DHHmJDQ1"
      },
      "execution_count": 92,
      "outputs": []
    },
    {
      "cell_type": "code",
      "source": [
        "# With Stopwords, not lemmatized, not stemmed \n",
        "y_sw= sw_df['0_right']\n",
        "X_train_sw, X_test_sw, y_train_sw, y_test_sw = train_test_split(sw_df, y_sw, stratify = y_sw, test_size = 0.15, random_state = 0)"
      ],
      "metadata": {
        "id": "Msewo_c9JMrV"
      },
      "execution_count": 93,
      "outputs": []
    },
    {
      "cell_type": "code",
      "source": [
        "# Without Stopwords, not lemmatized, not stemmed \n",
        "y_out= out_df['0_right']\n",
        "X_train_out, X_test_out, y_train_out, y_test_out = train_test_split(out_df, y_out, stratify = y_out, test_size = 0.15, random_state = 0)"
      ],
      "metadata": {
        "id": "h5LEe63lJmZ-"
      },
      "execution_count": 94,
      "outputs": []
    },
    {
      "cell_type": "markdown",
      "source": [
        "# MODELS"
      ],
      "metadata": {
        "id": "f4QFQjaCKfk6"
      }
    },
    {
      "cell_type": "markdown",
      "source": [
        "### Random Forest"
      ],
      "metadata": {
        "id": "WCOguGYTKjGO"
      }
    },
    {
      "cell_type": "code",
      "source": [
        "def rf_clf(X_train, X_test, y_train, y_test):\n",
        "    '''Parameter tuning for Random Forest Classifier and model fit'''\n",
        "    \n",
        "    splits = ShuffleSplit(n_splits = 1, test_size = .2, random_state = 0)\n",
        "    rf_param_grid = {'n_estimators':[20, 50, 80], 'min_samples_split':[3, 13], 'max_depth': [10, 30, None]}\n",
        "    rf_clf = RandomForestClassifier(random_state = 0)\n",
        "    \n",
        "    rf_search = HalvingGridSearchCV(rf_clf, rf_param_grid, cv = splits, factor = 2, scoring = 'accuracy', \n",
        "                                        max_resources = 5, aggressive_elimination = False, verbose = 0)\n",
        "    rf_search.fit(X_train, y_train)\n",
        "    \n",
        "    rf_model = rf_search.best_estimator_\n",
        "    \n",
        "    y_pred = rf_model.predict(X_test)\n",
        "    \n",
        "    log_loss = metrics.log_loss(y_test, y_pred)\n",
        "    accuracy = metrics.accuracy_score(y_test, y_pred)\n",
        "    precision = metrics.precision_score(y_test, y_pred)\n",
        "    recall = metrics.recall_score(y_test, y_pred)\n",
        "    f1_score = metrics.f1_score(y_test, y_pred)\n",
        "    print (rf_model)\n",
        "    return accuracy, precision, recall, f1_score, log_loss, y_pred, rf_model"
      ],
      "metadata": {
        "id": "UW0BChf1Khn9"
      },
      "execution_count": 33,
      "outputs": []
    },
    {
      "cell_type": "markdown",
      "source": [
        "## Logistic Regression"
      ],
      "metadata": {
        "id": "SbVvYvLKKm1Q"
      }
    },
    {
      "cell_type": "code",
      "source": [
        "def lr_clf(X_train, X_test, y_train, y_test):\n",
        "    '''Parameter tuning for Logistic Regression Classifier and model fit'''\n",
        "    \n",
        "    splits = ShuffleSplit(n_splits = 1, test_size = .2, random_state = 0)\n",
        "    lr_param_grid = {'C':[100, 10, 1.0, 0.1, 0.01], 'solver':['sag', 'lbfgs']}\n",
        "    lr_clf = LogisticRegression(penalty = 'l2', random_state = 0)\n",
        "   \n",
        "    lr_d2v_search = HalvingGridSearchCV(lr_clf, lr_param_grid, cv = splits, factor = 2, scoring = 'accuracy', verbose = 0)\n",
        "    lr_d2v_search.fit(X_train, y_train)\n",
        "    \n",
        "    lr_d2v_model = lr_d2v_search.best_estimator_\n",
        "    y_pred_lr_d2v = lr_d2v_model.predict(X_test)\n",
        "    lr_loss_d2v = metrics.log_loss(y_test, y_pred_lr_d2v)\n",
        "    lr_acc_d2v = metrics.accuracy_score(y_test, y_pred_lr_d2v)\n",
        "    print (lr_d2v_model)\n",
        "    print('log loss', lr_loss_d2v, '\\nacc', lr_acc_d2v)\n",
        "    return lr_acc_d2v, lr_loss_d2v, y_pred_lr_d2v   "
      ],
      "metadata": {
        "id": "8bfjRhbEKo8C"
      },
      "execution_count": 34,
      "outputs": []
    },
    {
      "cell_type": "markdown",
      "source": [
        "# Support Vector Classification - SVC"
      ],
      "metadata": {
        "id": "zsXrp_CDq05P"
      }
    },
    {
      "cell_type": "code",
      "source": [
        "from sklearn.svm import SVC\n",
        "def svc_clf(X_train, X_test, y_train, y_test):\n",
        "  clf_svc = svm.SVC(kernel='sigmoid', decision_function_shape='ovr', random_state=None)   #kernel default='rbf', decision_function_shape='ovr', random_state=None\n",
        "\n",
        "\n",
        "  clf_svc.fit(X_train, y_train)\n",
        "\n",
        "  y_pred = clf_svc.predict(X_test)\n",
        "  log_loss = metrics.log_loss(y_test, y_pred)\n",
        "  accuracy = metrics.accuracy_score(y_test, y_pred)\n",
        "  precision = metrics.precision_score(y_test, y_pred)\n",
        "  recall = metrics.recall_score(y_test, y_pred)\n",
        "  f1_score = metrics.f1_score(y_test, y_pred)\n",
        "  return accuracy, precision, recall, f1_score, log_loss, y_pred"
      ],
      "metadata": {
        "id": "0bg41J_gq7ko"
      },
      "execution_count": 63,
      "outputs": []
    },
    {
      "cell_type": "code",
      "source": [],
      "metadata": {
        "id": "Xsyk9GtrcH9h"
      },
      "execution_count": 54,
      "outputs": []
    },
    {
      "cell_type": "markdown",
      "source": [
        "# Activate model functions"
      ],
      "metadata": {
        "id": "k7Cf5LDnw4fq"
      }
    },
    {
      "cell_type": "markdown",
      "source": [
        "#### On Lemmatized data"
      ],
      "metadata": {
        "id": "hgKbFubUw-kb"
      }
    },
    {
      "cell_type": "code",
      "source": [
        "# Lemmatized, without stopwords\n",
        "\n",
        "#Random Forest\n",
        "acc_rf_lemma, precision_rf_lemma, recall_rf_lemma, f1_score_rf_lemma, log_loss_rf_lemma, y_pred_rf_lemma, berf_lemma  = rf_clf(X_train_lemma, X_test_lemma, y_train_lemma, y_test_lemma)\n",
        "\n",
        "report_rf_lemma = classification_report(y_pred_rf_lemma, y_test_lemma)\n",
        "matrix_rf_lemma = confusion_matrix(y_pred_rf_lemma, y_test_lemma)\n",
        "print('Classification Report - RF\\n', report_rf_lemma)\n",
        "print()\n",
        "print('Confusion Matrix - RF\\n', matrix_rf_lemma)\n",
        "\n",
        "#Logistic Regression\n",
        "lr_acc_lemma, lr_loss_lemma, y_pred_lr_lemma = lr_clf(X_train_lemma, X_test_lemma, y_train_lemma, y_test_lemma)\n",
        "print()\n",
        "\n",
        "# SVC \n",
        "acc_svc_lemma, precision_svc_lemma, recall_svc_lemma, f1_score_svc_lemma, log_loss_svc_lemma, y_pred_svc_lemma = svc_clf(X_train_lemma, X_test_lemma, y_train_lemma, y_test_lemma)\n",
        "\n",
        "report_svc_lemma = classification_report(y_pred_svc_lemma, y_test_lemma)\n",
        "matrix_svc_lemma = confusion_matrix(y_pred_svc_lemma, y_test_lemma)\n",
        "\n",
        "print('Classification Report - SVC\\n', report_svc_lemma)\n",
        "print()\n",
        "print('Confusion Matrix - SVC\\n', matrix_svc_lemma)"
      ],
      "metadata": {
        "colab": {
          "base_uri": "https://localhost:8080/"
        },
        "id": "1-hudrcTK0G_",
        "outputId": "423e4bdb-81e8-4ee6-e08a-a5282d08644d"
      },
      "execution_count": 95,
      "outputs": [
        {
          "output_type": "stream",
          "name": "stdout",
          "text": [
            "RandomForestClassifier(max_depth=10, min_samples_split=3, n_estimators=20,\n",
            "                       random_state=0)\n",
            "Classification Report - RF\n",
            "               precision    recall  f1-score   support\n",
            "\n",
            "           0       1.00      0.96      0.98       492\n",
            "           1       0.92      1.00      0.96       258\n",
            "\n",
            "    accuracy                           0.97       750\n",
            "   macro avg       0.96      0.98      0.97       750\n",
            "weighted avg       0.97      0.97      0.97       750\n",
            "\n",
            "\n",
            "Confusion Matrix - RF\n",
            " [[470  22]\n",
            " [  1 257]]\n",
            "LogisticRegression(C=0.01, random_state=0, solver='sag')\n",
            "log loss 9.992007221626413e-16 \n",
            "acc 1.0\n",
            "\n",
            "Classification Report - SVC\n",
            "               precision    recall  f1-score   support\n",
            "\n",
            "           0       0.99      0.99      0.99       475\n",
            "           1       0.97      0.99      0.98       275\n",
            "\n",
            "    accuracy                           0.99       750\n",
            "   macro avg       0.98      0.99      0.99       750\n",
            "weighted avg       0.99      0.99      0.99       750\n",
            "\n",
            "\n",
            "Confusion Matrix - SVC\n",
            " [[468   7]\n",
            " [  3 272]]\n"
          ]
        }
      ]
    },
    {
      "cell_type": "code",
      "source": [
        "# Lemmatized, with stopwords\n",
        "\n",
        "#Random Forest\n",
        "acc_rf_sw_lemma, precision_rf_sw_lemma, recall_rf_sw_lemma, f1_score_rf_sw_lemma, log_loss_rf_sw_lemma, y_pred_rf_sw_lemma, berf_sw_lemma  = rf_clf(X_train_sw_lemma, X_test_sw_lemma, y_train_sw_lemma, y_test_sw_lemma)\n",
        "\n",
        "report_rf_sw_lemma = classification_report(y_pred_rf_sw_lemma, y_test_sw_lemma)\n",
        "matrix_rf_sw_lemma = confusion_matrix(y_pred_rf_sw_lemma, y_test_sw_lemma)\n",
        "print('Classification Report - RF\\n', report_rf_sw_lemma)\n",
        "print()\n",
        "print('Confusion Matrix - RF\\n', matrix_rf_sw_lemma)\n",
        "print()\n",
        "\n",
        "#Logistic Regression\n",
        "lr_acc_sw_lemma, lr_loss_sw_lemma, y_pred_lr_sw_lemma = lr_clf(X_train_sw_lemma, X_test_sw_lemma, y_train_sw_lemma, y_test_sw_lemma)\n",
        "print()\n",
        "\n",
        "# SVC \n",
        "acc_svc_sw_lemma, precision_svc_sw_lemma, recall_svc_sw_lemma, f1_score_svc_sw_lemma, log_loss_svc_sw_lemma, y_pred_svc_sw_lemma = svc_clf(X_train_sw_lemma, X_test_sw_lemma, y_train_sw_lemma, y_test_sw_lemma)\n",
        "\n",
        "report_svc_sw_lemma = classification_report(y_pred_svc_sw_lemma, y_test_sw_lemma)\n",
        "matrix_svc_sw_lemma = confusion_matrix(y_pred_svc_sw_lemma, y_test_sw_lemma)\n",
        "\n",
        "print('Classification Report - SVC\\n', report_svc_sw_lemma)\n",
        "print()\n",
        "print('Confusion Matrix - SVC\\n', matrix_svc_sw_lemma)"
      ],
      "metadata": {
        "colab": {
          "base_uri": "https://localhost:8080/"
        },
        "id": "59MSTGOoK5dM",
        "outputId": "2fbf2d93-5cc0-4d0b-cd7f-0d2dfc67ef72"
      },
      "execution_count": 96,
      "outputs": [
        {
          "output_type": "stream",
          "name": "stdout",
          "text": [
            "RandomForestClassifier(max_depth=10, min_samples_split=3, n_estimators=20,\n",
            "                       random_state=0)\n",
            "Classification Report - RF\n",
            "               precision    recall  f1-score   support\n",
            "\n",
            "           0       1.00      0.97      0.98       486\n",
            "           1       0.95      1.00      0.97       264\n",
            "\n",
            "    accuracy                           0.98       750\n",
            "   macro avg       0.97      0.98      0.98       750\n",
            "weighted avg       0.98      0.98      0.98       750\n",
            "\n",
            "\n",
            "Confusion Matrix - RF\n",
            " [[471  15]\n",
            " [  0 264]]\n",
            "\n",
            "LogisticRegression(C=0.1, random_state=0, solver='sag')\n",
            "log loss 9.992007221626413e-16 \n",
            "acc 1.0\n",
            "\n",
            "Classification Report - SVC\n",
            "               precision    recall  f1-score   support\n",
            "\n",
            "           0       1.00      0.99      1.00       475\n",
            "           1       0.99      1.00      0.99       275\n",
            "\n",
            "    accuracy                           0.99       750\n",
            "   macro avg       0.99      1.00      0.99       750\n",
            "weighted avg       0.99      0.99      0.99       750\n",
            "\n",
            "\n",
            "Confusion Matrix - SVC\n",
            " [[471   4]\n",
            " [  0 275]]\n"
          ]
        }
      ]
    },
    {
      "cell_type": "code",
      "source": [],
      "metadata": {
        "id": "uK5ecUYAPSgY"
      },
      "execution_count": null,
      "outputs": []
    },
    {
      "cell_type": "markdown",
      "source": [
        "# With stopwords, not lemmatized nor stemmed"
      ],
      "metadata": {
        "id": "SRfvTuPUy2pO"
      }
    },
    {
      "cell_type": "code",
      "source": [
        "# With stopwords, not lemmatized, nor stemmed\n",
        "\n",
        "#Random Forest\n",
        "acc_rf_sw, precision_rf_sw, recall_rf_sw, f1_score_rf_sw, log_loss_rf_sw, y_pred_rf_sw, berf_sw  = rf_clf(X_train_sw, X_test_sw, y_train_sw, y_test_sw)\n",
        "\n",
        "report_rf_sw = classification_report(y_pred_rf_sw, y_test_sw)\n",
        "matrix_rf_sw = confusion_matrix(y_pred_rf_sw, y_test_sw)\n",
        "print('Classification Report - RF\\n', report_rf_sw)\n",
        "print()\n",
        "print('Confusion Matrix - RF\\n', matrix_rf_sw)\n",
        "print()\n",
        "\n",
        "#Logistic Regression\n",
        "lr_acc_sw, lr_loss_sw, y_pred_lr_sw = lr_clf(X_train_sw, X_test_sw, y_train_sw, y_test_sw)\n",
        "print()\n",
        "\n",
        "# SVC \n",
        "acc_svc_sw, precision_svc_sw, recall_svc_sw, f1_score_svc_sw, log_loss_svc_sw, y_pred_svc_sw = svc_clf(X_train_sw, X_test_sw, y_train_sw, y_test_sw)\n",
        "\n",
        "report_svc_sw = classification_report(y_pred_svc_sw, y_test_sw)\n",
        "matrix_svc_sw = confusion_matrix(y_pred_svc_sw, y_test_sw)\n",
        "\n",
        "print('Classification Report - SVC\\n', report_svc_sw)\n",
        "print()\n",
        "print('Confusion Matrix - SVC\\n', matrix_svc_sw)"
      ],
      "metadata": {
        "colab": {
          "base_uri": "https://localhost:8080/"
        },
        "id": "xCNGgMoEy6Sx",
        "outputId": "abfeec1a-786e-4015-cd7b-d0af5efd22df"
      },
      "execution_count": 97,
      "outputs": [
        {
          "output_type": "stream",
          "name": "stdout",
          "text": [
            "RandomForestClassifier(max_depth=10, min_samples_split=3, n_estimators=20,\n",
            "                       random_state=0)\n",
            "Classification Report - RF\n",
            "               precision    recall  f1-score   support\n",
            "\n",
            "           0       1.00      0.96      0.98       493\n",
            "           1       0.92      1.00      0.96       257\n",
            "\n",
            "    accuracy                           0.97       750\n",
            "   macro avg       0.96      0.98      0.97       750\n",
            "weighted avg       0.97      0.97      0.97       750\n",
            "\n",
            "\n",
            "Confusion Matrix - RF\n",
            " [[471  22]\n",
            " [  0 257]]\n",
            "\n",
            "LogisticRegression(C=0.1, random_state=0, solver='sag')\n",
            "log loss 9.992007221626413e-16 \n",
            "acc 1.0\n",
            "\n",
            "Classification Report - SVC\n",
            "               precision    recall  f1-score   support\n",
            "\n",
            "           0       1.00      0.99      1.00       475\n",
            "           1       0.99      1.00      0.99       275\n",
            "\n",
            "    accuracy                           0.99       750\n",
            "   macro avg       0.99      1.00      0.99       750\n",
            "weighted avg       0.99      0.99      0.99       750\n",
            "\n",
            "\n",
            "Confusion Matrix - SVC\n",
            " [[471   4]\n",
            " [  0 275]]\n"
          ]
        }
      ]
    },
    {
      "cell_type": "markdown",
      "source": [
        "### Without stopwords, not lemmatized nor stemmed"
      ],
      "metadata": {
        "id": "GI9p1Fqoxj5p"
      }
    },
    {
      "cell_type": "code",
      "source": [
        "# Without stopwords, not lemmatized, nor stemmed\n",
        "\n",
        "#Random Forest\n",
        "acc_rf_out, precision_rf_out, recall_rf_out, f1_score_rf_out, log_loss_rf_out, y_pred_rf_out, berf_out  = rf_clf(X_train_out, X_test_out, y_train_out, y_test_out)\n",
        "\n",
        "report_rf_out = classification_report(y_pred_rf_out, y_test_out)\n",
        "matrix_rf_out = confusion_matrix(y_pred_rf_out, y_test_out)\n",
        "print('Classification Report - RF\\n', report_rf_out)\n",
        "print()\n",
        "print('Confusion Matrix - RF\\n', matrix_rf_out)\n",
        "print()\n",
        "\n",
        "#Logistic Regression\n",
        "lr_acc_out, lr_loss_out, y_pred_lr_out = lr_clf(X_train_out, X_test_out, y_train_out, y_test_out)\n",
        "print()\n",
        "\n",
        "# SVC \n",
        "acc_svc_out, precision_svc_out, recall_svc_out, f1_score_svc_out, log_loss_svc_out, y_pred_svc_out = svc_clf(X_train_out, X_test_out, y_train_out, y_test_out)\n",
        "\n",
        "report_svc_out = classification_report(y_pred_svc_out, y_test_out)\n",
        "matrix_svc_out = confusion_matrix(y_pred_svc_out, y_test_out)\n",
        "\n",
        "print('Classification Report - SVC\\n', report_svc_out)\n",
        "print()\n",
        "print('Confusion Matrix - SVC\\n', matrix_svc_out)"
      ],
      "metadata": {
        "id": "Tf2xdrk_xntZ",
        "colab": {
          "base_uri": "https://localhost:8080/"
        },
        "outputId": "a0172341-beae-44cc-b724-652de6124f6c"
      },
      "execution_count": 98,
      "outputs": [
        {
          "output_type": "stream",
          "name": "stdout",
          "text": [
            "RandomForestClassifier(max_depth=10, min_samples_split=3, n_estimators=20,\n",
            "                       random_state=0)\n",
            "Classification Report - RF\n",
            "               precision    recall  f1-score   support\n",
            "\n",
            "           0       1.00      0.99      0.99       477\n",
            "           1       0.98      1.00      0.99       273\n",
            "\n",
            "    accuracy                           0.99       750\n",
            "   macro avg       0.99      0.99      0.99       750\n",
            "weighted avg       0.99      0.99      0.99       750\n",
            "\n",
            "\n",
            "Confusion Matrix - RF\n",
            " [[471   6]\n",
            " [  0 273]]\n",
            "\n",
            "LogisticRegression(C=0.01, random_state=0, solver='sag')\n",
            "log loss 9.992007221626413e-16 \n",
            "acc 1.0\n",
            "\n",
            "Classification Report - SVC\n",
            "               precision    recall  f1-score   support\n",
            "\n",
            "           0       1.00      0.99      0.99       475\n",
            "           1       0.98      0.99      0.99       275\n",
            "\n",
            "    accuracy                           0.99       750\n",
            "   macro avg       0.99      0.99      0.99       750\n",
            "weighted avg       0.99      0.99      0.99       750\n",
            "\n",
            "\n",
            "Confusion Matrix - SVC\n",
            " [[469   6]\n",
            " [  2 273]]\n"
          ]
        }
      ]
    },
    {
      "cell_type": "markdown",
      "source": [
        "# Stemmed data with stopwords"
      ],
      "metadata": {
        "id": "970VJSBbzvSo"
      }
    },
    {
      "cell_type": "code",
      "source": [
        "# Stemmed with stopwords\n",
        "\n",
        "#Random Forest\n",
        "acc_rf_sw_stem, precision_rf_sw_stem, recall_rf_sw_stem, f1_score_rf_sw_stem, log_loss_rf_sw_stem, y_pred_rf_sw_stem, berf_sw_stem  = rf_clf(X_train_sw_stem, X_test_sw_stem, y_train_sw_stem, y_test_sw_stem)\n",
        "\n",
        "report_rf_sw_stem = classification_report(y_pred_rf_sw_stem, y_test_sw_stem)\n",
        "matrix_rf_sw_stem = confusion_matrix(y_pred_rf_sw_stem, y_test_sw_stem)\n",
        "print('Classification Report - RF\\n', report_rf_sw_stem)\n",
        "print()\n",
        "print('Confusion Matrix - RF\\n', matrix_rf_sw_stem)\n",
        "print()\n",
        "\n",
        "#Logistic Regression\n",
        "lr_acc_sw_stem, lr_loss_sw_stem, y_pred_lr_sw_stem = lr_clf(X_train_sw_stem, X_test_sw_stem, y_train_sw_stem, y_test_sw_stem)\n",
        "print()\n",
        "\n",
        "# SVC \n",
        "acc_svc_sw_stem, precision_svc_sw_stem, recall_svc_sw_stem, f1_score_svc_sw_stem, log_loss_svc_sw_stem, y_pred_svc_sw_stem = svc_clf(X_train_sw_stem, X_test_sw_stem, y_train_sw_stem, y_test_sw_stem)\n",
        "\n",
        "report_svc_sw_stem = classification_report(y_pred_svc_sw_stem, y_test_sw_stem)\n",
        "matrix_svc_sw_stem = confusion_matrix(y_pred_svc_sw_stem, y_test_sw_stem)\n",
        "\n",
        "print('Classification Report - SVC\\n', report_svc_sw_stem)\n",
        "print()\n",
        "print('Confusion Matrix - SVC\\n', matrix_svc_sw_stem)"
      ],
      "metadata": {
        "id": "ZZcoPW3hzxqC",
        "colab": {
          "base_uri": "https://localhost:8080/"
        },
        "outputId": "b7051bb4-9d31-4c8c-8a1e-a00382d6617f"
      },
      "execution_count": 99,
      "outputs": [
        {
          "output_type": "stream",
          "name": "stdout",
          "text": [
            "RandomForestClassifier(max_depth=10, min_samples_split=3, n_estimators=20,\n",
            "                       random_state=0)\n",
            "Classification Report - RF\n",
            "               precision    recall  f1-score   support\n",
            "\n",
            "           0       1.00      0.95      0.97       494\n",
            "           1       0.91      1.00      0.95       256\n",
            "\n",
            "    accuracy                           0.97       750\n",
            "   macro avg       0.96      0.97      0.96       750\n",
            "weighted avg       0.97      0.97      0.97       750\n",
            "\n",
            "\n",
            "Confusion Matrix - RF\n",
            " [[470  24]\n",
            " [  1 255]]\n",
            "\n",
            "LogisticRegression(C=0.01, random_state=0, solver='sag')\n",
            "log loss 9.992007221626413e-16 \n",
            "acc 1.0\n",
            "\n",
            "Classification Report - SVC\n",
            "               precision    recall  f1-score   support\n",
            "\n",
            "           0       0.99      0.99      0.99       469\n",
            "           1       0.98      0.98      0.98       281\n",
            "\n",
            "    accuracy                           0.98       750\n",
            "   macro avg       0.98      0.98      0.98       750\n",
            "weighted avg       0.98      0.98      0.98       750\n",
            "\n",
            "\n",
            "Confusion Matrix - SVC\n",
            " [[464   5]\n",
            " [  7 274]]\n"
          ]
        }
      ]
    },
    {
      "cell_type": "markdown",
      "source": [
        "# Stemmed without stopwords\n"
      ],
      "metadata": {
        "id": "wliNwVz00kaD"
      }
    },
    {
      "cell_type": "code",
      "source": [
        "# Stemmed with stopwords\n",
        "\n",
        "#Random Forest\n",
        "acc_rf_stem, precision_rf_stem, recall_rf_stem, f1_score_rf_stem, log_loss_rf_stem, y_pred_rf_stem, berf_stem  = rf_clf(X_train_stem, X_test_stem, y_train_stem, y_test_stem)\n",
        "\n",
        "report_rf_stem = classification_report(y_pred_rf_stem, y_test_stem)\n",
        "matrix_rf_stem = confusion_matrix(y_pred_rf_stem, y_test_stem)\n",
        "print('Classification Report - RF\\n', report_rf_stem)\n",
        "print()\n",
        "print('Confusion Matrix - RF\\n', matrix_rf_stem)\n",
        "print()\n",
        "\n",
        "#Logistic Regression\n",
        "lr_acc_stem, lr_loss_stem, y_pred_lr_stem = lr_clf(X_train_stem, X_test_stem, y_train_stem, y_test_stem)\n",
        "print()\n",
        "\n",
        "# SVC \n",
        "acc_svc_stem, precision_svc_stem, recall_svc_stem, f1_score_svc_stem, log_loss_svc_stem, y_pred_svc_stem = svc_clf(X_train_stem, X_test_stem, y_train_stem, y_test_stem)\n",
        "\n",
        "report_svc_stem = classification_report(y_pred_svc_stem, y_test_stem)\n",
        "matrix_svc_stem = confusion_matrix(y_pred_svc_stem, y_test_stem)\n",
        "\n",
        "print('Classification Report - SVC\\n', report_svc_stem)\n",
        "print()\n",
        "print('Confusion Matrix - SVC\\n', matrix_svc_stem)"
      ],
      "metadata": {
        "id": "40HD7PM30m5p",
        "colab": {
          "base_uri": "https://localhost:8080/"
        },
        "outputId": "2c5b3d26-4ffe-4333-8cbf-e1ef70df04b8"
      },
      "execution_count": 100,
      "outputs": [
        {
          "output_type": "stream",
          "name": "stdout",
          "text": [
            "RandomForestClassifier(max_depth=10, min_samples_split=3, n_estimators=20,\n",
            "                       random_state=0)\n",
            "Classification Report - RF\n",
            "               precision    recall  f1-score   support\n",
            "\n",
            "           0       1.00      0.98      0.99       482\n",
            "           1       0.96      1.00      0.98       268\n",
            "\n",
            "    accuracy                           0.99       750\n",
            "   macro avg       0.98      0.99      0.98       750\n",
            "weighted avg       0.99      0.99      0.99       750\n",
            "\n",
            "\n",
            "Confusion Matrix - RF\n",
            " [[471  11]\n",
            " [  0 268]]\n",
            "\n",
            "LogisticRegression(C=0.1, random_state=0, solver='sag')\n",
            "log loss 9.992007221626413e-16 \n",
            "acc 1.0\n",
            "\n",
            "Classification Report - SVC\n",
            "               precision    recall  f1-score   support\n",
            "\n",
            "           0       1.00      0.99      0.99       477\n",
            "           1       0.98      1.00      0.99       273\n",
            "\n",
            "    accuracy                           0.99       750\n",
            "   macro avg       0.99      0.99      0.99       750\n",
            "weighted avg       0.99      0.99      0.99       750\n",
            "\n",
            "\n",
            "Confusion Matrix - SVC\n",
            " [[471   6]\n",
            " [  0 273]]\n"
          ]
        }
      ]
    },
    {
      "cell_type": "code",
      "source": [
        "result_df = pd.DataFrame(index = ['accuracy', 'loss'])"
      ],
      "metadata": {
        "id": "bVvgKjvE4GtT"
      },
      "execution_count": 114,
      "outputs": []
    },
    {
      "cell_type": "code",
      "source": [
        "#DATAFRAME RESULT FOR STEMMED DATA WITHOUT STOPWORDS\n",
        "result_df['random_forest_d2v_stemmed'] = f1_score_rf_stem, log_loss_rf_stem\n",
        "result_df['log_regression_d2v_stemmed'] = lr_acc_stem, lr_loss_stem\n",
        "result_df['svc_d2v_stem'] = f1_score_svc_stem, log_loss_svc_stem\n",
        "\n",
        "result_df.drop(['rf_d2v_sw_stem', 'lr_d2v_sw_stem', 'svc_d2v_sw_stem'], axis=1)"
      ],
      "metadata": {
        "id": "jQgJu3rR4Yao"
      },
      "execution_count": 132,
      "outputs": []
    },
    {
      "cell_type": "code",
      "source": [
        "result_df"
      ],
      "metadata": {
        "colab": {
          "base_uri": "https://localhost:8080/",
          "height": 112
        },
        "id": "fIgX6sU6XVJ1",
        "outputId": "a2eb38a8-763f-483f-bac4-f978b8f58098"
      },
      "execution_count": 133,
      "outputs": [
        {
          "output_type": "execute_result",
          "data": {
            "text/plain": [
              "          rf_d2v_sw_stem  lr_d2v_sw_stem  svc_d2v_sw_stem  \\\n",
              "accuracy        0.985333    1.000000e+00          0.99200   \n",
              "loss            0.506569    9.992007e-16          0.27631   \n",
              "\n",
              "          random_forest_d2v_stemmed  log_regression_d2v_stemmed  svc_d2v_stem  \n",
              "accuracy                   0.979890                1.000000e+00       0.98913  \n",
              "loss                       0.506569                9.992007e-16       0.27631  "
            ],
            "text/html": [
              "\n",
              "  <div id=\"df-ffab6b0e-4fef-4be6-b616-027b6a115de8\">\n",
              "    <div class=\"colab-df-container\">\n",
              "      <div>\n",
              "<style scoped>\n",
              "    .dataframe tbody tr th:only-of-type {\n",
              "        vertical-align: middle;\n",
              "    }\n",
              "\n",
              "    .dataframe tbody tr th {\n",
              "        vertical-align: top;\n",
              "    }\n",
              "\n",
              "    .dataframe thead th {\n",
              "        text-align: right;\n",
              "    }\n",
              "</style>\n",
              "<table border=\"1\" class=\"dataframe\">\n",
              "  <thead>\n",
              "    <tr style=\"text-align: right;\">\n",
              "      <th></th>\n",
              "      <th>rf_d2v_sw_stem</th>\n",
              "      <th>lr_d2v_sw_stem</th>\n",
              "      <th>svc_d2v_sw_stem</th>\n",
              "      <th>random_forest_d2v_stemmed</th>\n",
              "      <th>log_regression_d2v_stemmed</th>\n",
              "      <th>svc_d2v_stem</th>\n",
              "    </tr>\n",
              "  </thead>\n",
              "  <tbody>\n",
              "    <tr>\n",
              "      <th>accuracy</th>\n",
              "      <td>0.985333</td>\n",
              "      <td>1.000000e+00</td>\n",
              "      <td>0.99200</td>\n",
              "      <td>0.979890</td>\n",
              "      <td>1.000000e+00</td>\n",
              "      <td>0.98913</td>\n",
              "    </tr>\n",
              "    <tr>\n",
              "      <th>loss</th>\n",
              "      <td>0.506569</td>\n",
              "      <td>9.992007e-16</td>\n",
              "      <td>0.27631</td>\n",
              "      <td>0.506569</td>\n",
              "      <td>9.992007e-16</td>\n",
              "      <td>0.27631</td>\n",
              "    </tr>\n",
              "  </tbody>\n",
              "</table>\n",
              "</div>\n",
              "      <button class=\"colab-df-convert\" onclick=\"convertToInteractive('df-ffab6b0e-4fef-4be6-b616-027b6a115de8')\"\n",
              "              title=\"Convert this dataframe to an interactive table.\"\n",
              "              style=\"display:none;\">\n",
              "        \n",
              "  <svg xmlns=\"http://www.w3.org/2000/svg\" height=\"24px\"viewBox=\"0 0 24 24\"\n",
              "       width=\"24px\">\n",
              "    <path d=\"M0 0h24v24H0V0z\" fill=\"none\"/>\n",
              "    <path d=\"M18.56 5.44l.94 2.06.94-2.06 2.06-.94-2.06-.94-.94-2.06-.94 2.06-2.06.94zm-11 1L8.5 8.5l.94-2.06 2.06-.94-2.06-.94L8.5 2.5l-.94 2.06-2.06.94zm10 10l.94 2.06.94-2.06 2.06-.94-2.06-.94-.94-2.06-.94 2.06-2.06.94z\"/><path d=\"M17.41 7.96l-1.37-1.37c-.4-.4-.92-.59-1.43-.59-.52 0-1.04.2-1.43.59L10.3 9.45l-7.72 7.72c-.78.78-.78 2.05 0 2.83L4 21.41c.39.39.9.59 1.41.59.51 0 1.02-.2 1.41-.59l7.78-7.78 2.81-2.81c.8-.78.8-2.07 0-2.86zM5.41 20L4 18.59l7.72-7.72 1.47 1.35L5.41 20z\"/>\n",
              "  </svg>\n",
              "      </button>\n",
              "      \n",
              "  <style>\n",
              "    .colab-df-container {\n",
              "      display:flex;\n",
              "      flex-wrap:wrap;\n",
              "      gap: 12px;\n",
              "    }\n",
              "\n",
              "    .colab-df-convert {\n",
              "      background-color: #E8F0FE;\n",
              "      border: none;\n",
              "      border-radius: 50%;\n",
              "      cursor: pointer;\n",
              "      display: none;\n",
              "      fill: #1967D2;\n",
              "      height: 32px;\n",
              "      padding: 0 0 0 0;\n",
              "      width: 32px;\n",
              "    }\n",
              "\n",
              "    .colab-df-convert:hover {\n",
              "      background-color: #E2EBFA;\n",
              "      box-shadow: 0px 1px 2px rgba(60, 64, 67, 0.3), 0px 1px 3px 1px rgba(60, 64, 67, 0.15);\n",
              "      fill: #174EA6;\n",
              "    }\n",
              "\n",
              "    [theme=dark] .colab-df-convert {\n",
              "      background-color: #3B4455;\n",
              "      fill: #D2E3FC;\n",
              "    }\n",
              "\n",
              "    [theme=dark] .colab-df-convert:hover {\n",
              "      background-color: #434B5C;\n",
              "      box-shadow: 0px 1px 3px 1px rgba(0, 0, 0, 0.15);\n",
              "      filter: drop-shadow(0px 1px 2px rgba(0, 0, 0, 0.3));\n",
              "      fill: #FFFFFF;\n",
              "    }\n",
              "  </style>\n",
              "\n",
              "      <script>\n",
              "        const buttonEl =\n",
              "          document.querySelector('#df-ffab6b0e-4fef-4be6-b616-027b6a115de8 button.colab-df-convert');\n",
              "        buttonEl.style.display =\n",
              "          google.colab.kernel.accessAllowed ? 'block' : 'none';\n",
              "\n",
              "        async function convertToInteractive(key) {\n",
              "          const element = document.querySelector('#df-ffab6b0e-4fef-4be6-b616-027b6a115de8');\n",
              "          const dataTable =\n",
              "            await google.colab.kernel.invokeFunction('convertToInteractive',\n",
              "                                                     [key], {});\n",
              "          if (!dataTable) return;\n",
              "\n",
              "          const docLinkHtml = 'Like what you see? Visit the ' +\n",
              "            '<a target=\"_blank\" href=https://colab.research.google.com/notebooks/data_table.ipynb>data table notebook</a>'\n",
              "            + ' to learn more about interactive tables.';\n",
              "          element.innerHTML = '';\n",
              "          dataTable['output_type'] = 'display_data';\n",
              "          await google.colab.output.renderOutput(dataTable, element);\n",
              "          const docLink = document.createElement('div');\n",
              "          docLink.innerHTML = docLinkHtml;\n",
              "          element.appendChild(docLink);\n",
              "        }\n",
              "      </script>\n",
              "    </div>\n",
              "  </div>\n",
              "  "
            ]
          },
          "metadata": {},
          "execution_count": 133
        }
      ]
    },
    {
      "cell_type": "markdown",
      "source": [
        "# Cosine Similarity"
      ],
      "metadata": {
        "id": "pkMao6QHvHqD"
      }
    },
    {
      "cell_type": "code",
      "source": [
        "from sklearn.metrics.pairwise import cosine_similarity"
      ],
      "metadata": {
        "id": "V3jwkfmLvJqV"
      },
      "execution_count": 101,
      "outputs": []
    },
    {
      "cell_type": "code",
      "source": [
        "#cosine = cosine_similarity(X_train_lemma, y_train_lemma, dense_output=True)"
      ],
      "metadata": {
        "id": "4rRip2xcvM2Q"
      },
      "execution_count": 104,
      "outputs": []
    },
    {
      "cell_type": "code",
      "source": [
        "cosine_similarity(arr_q1_lemma , arr_q2_lemma, dense_output=True)"
      ],
      "metadata": {
        "colab": {
          "base_uri": "https://localhost:8080/"
        },
        "id": "gqh3J2fN0kQe",
        "outputId": "d1763a84-b980-4f75-a7f2-61aac6414a1d"
      },
      "execution_count": 113,
      "outputs": [
        {
          "output_type": "execute_result",
          "data": {
            "text/plain": [
              "array([[0.77353704, 0.6493094 , 0.7844405 , ..., 0.61083734, 0.6324987 ,\n",
              "        0.8206404 ],\n",
              "       [0.33382827, 0.8227184 , 0.5351572 , ..., 0.5696451 , 0.4045978 ,\n",
              "        0.5432366 ],\n",
              "       [0.57329106, 0.65007234, 0.86115694, ..., 0.77194357, 0.52491057,\n",
              "        0.7496874 ],\n",
              "       ...,\n",
              "       [0.5479884 , 0.5654626 , 0.74211514, ..., 0.8167627 , 0.58999306,\n",
              "        0.8312438 ],\n",
              "       [0.63509995, 0.54801077, 0.78231716, ..., 0.63727254, 0.88014674,\n",
              "        0.81301326],\n",
              "       [0.6825827 , 0.6387254 , 0.84284997, ..., 0.6468858 , 0.6542733 ,\n",
              "        0.8440794 ]], dtype=float32)"
            ]
          },
          "metadata": {},
          "execution_count": 113
        }
      ]
    },
    {
      "cell_type": "code",
      "source": [
        "cosine_similarity(arr_q1_lemma , arr_q2_lemma)\n",
        "cosine_similarity(arr_q1_sw_lemma , arr_q2_sw_lemma)\n",
        "cosine_similarity(arr_q1_stem , arr_q2_stem)\n",
        "cosine_similarity(arr_q1_sw_stem , arr_q2_sw_stem)\n",
        "cosine_similarity(arr_q1_sw , arr_q2_sw)\n",
        "cosine_similarity(arr_q1_out , arr_q2_out)"
      ],
      "metadata": {
        "id": "ELyMvNJI1vfA"
      },
      "execution_count": 111,
      "outputs": []
    },
    {
      "cell_type": "markdown",
      "source": [
        "# Doc2Vec and similarity"
      ],
      "metadata": {
        "id": "3KGLlVi8l0Vg"
      }
    },
    {
      "cell_type": "code",
      "source": [
        "model_doc2vec = Doc2Vec(vector_size =20, window=2, min_count=1, epochs=50)"
      ],
      "metadata": {
        "id": "0ZfyygZkKFJZ"
      },
      "execution_count": null,
      "outputs": []
    },
    {
      "cell_type": "code",
      "source": [
        "model_doc2vec.build_vocab(X_train_tagged)"
      ],
      "metadata": {
        "colab": {
          "base_uri": "https://localhost:8080/"
        },
        "id": "BU3rL6SLYgMi",
        "outputId": "10d34619-5aea-4848-ee86-da555d55cd9e"
      },
      "execution_count": null,
      "outputs": [
        {
          "output_type": "stream",
          "name": "stderr",
          "text": [
            "WARNING:gensim.models.doc2vec:Each 'words' should be a list of words (usually unicode strings). First 'words' here is instead plain <class 'str'>.\n"
          ]
        }
      ]
    },
    {
      "cell_type": "code",
      "source": [
        "model_doc2vec.train(X_train_tagged, total_examples=model_doc2vec.corpus_count, epochs=model_doc2vec.epochs)"
      ],
      "metadata": {
        "id": "AXi1c0RkZ8iR"
      },
      "execution_count": null,
      "outputs": []
    },
    {
      "cell_type": "code",
      "source": [
        "print(model_doc2vec.infer_vector(X_sw_test))"
      ],
      "metadata": {
        "colab": {
          "base_uri": "https://localhost:8080/"
        },
        "id": "RLGzGKoUaLis",
        "outputId": "45de5651-3467-430d-de75-a1ebebc1df5b"
      },
      "execution_count": null,
      "outputs": [
        {
          "output_type": "stream",
          "name": "stdout",
          "text": [
            "[ 0.00553507 -0.02057612 -0.00601494  0.01590716  0.00477619 -0.00957217\n",
            " -0.01354616  0.01898067 -0.00717559  0.00853975  0.00150559 -0.01450056\n",
            " -0.00628278 -0.02179538 -0.01993607 -0.02084691  0.00312932 -0.0190215\n",
            " -0.00581192  0.01894295]\n"
          ]
        }
      ]
    },
    {
      "cell_type": "code",
      "source": [
        "#TEST THE MODEL ON X_sw_test\n",
        "\n",
        "test = model_doc2vec.infer_vector(X_sw_test)\n",
        "model_doc2vec.docvecs.most_similar(positive = [test])\n",
        "#positive = List of sentences that contribute positively.\n"
      ],
      "metadata": {
        "colab": {
          "base_uri": "https://localhost:8080/"
        },
        "id": "-Jk8EZ4JaZR5",
        "outputId": "982064a8-5552-44f6-9097-b2e94a3159d8"
      },
      "execution_count": null,
      "outputs": [
        {
          "output_type": "execute_result",
          "data": {
            "text/plain": [
              "[(1607, 0.3674626350402832),\n",
              " (1454, 0.3508557975292206),\n",
              " (1876, 0.3459669351577759),\n",
              " (2316, 0.3180397152900696),\n",
              " (1868, 0.31006860733032227),\n",
              " (389, 0.3054264485836029),\n",
              " (1438, 0.28425800800323486),\n",
              " (1760, 0.272051066160202),\n",
              " (2109, 0.2675776481628418),\n",
              " (2054, 0.2670101821422577)]"
            ]
          },
          "metadata": {},
          "execution_count": 90
        }
      ]
    },
    {
      "cell_type": "markdown",
      "source": [
        "# buen codigo para doc2vec cosine similarity"
      ],
      "metadata": {
        "id": "_jKX0DCWDfYn"
      }
    },
    {
      "cell_type": "code",
      "source": [
        "# import\n",
        "from gensim.models.doc2vec import Doc2Vec, TaggedDocument\n",
        "q1_tag = [TaggedDocument(d, [i]) for i, d in enumerate(df_clean['q1'])]\n",
        "q2_tag = [TaggedDocument(d, [i]) for i, d in enumerate(df_clean['q2'])]\n",
        "#tagged_data"
      ],
      "metadata": {
        "id": "NQgOZXNGDg22"
      },
      "execution_count": null,
      "outputs": []
    },
    {
      "cell_type": "code",
      "source": [
        "q1_model = Doc2Vec(q1_tag, vector_size = 20, window = 2, min_count = 1, epochs = 100)\n",
        "q2_model = Doc2Vec(q2_tag, vector_size = 20, window = 2, min_count = 1, epochs = 100)"
      ],
      "metadata": {
        "id": "86WLyp4t1FjV"
      },
      "execution_count": null,
      "outputs": []
    },
    {
      "cell_type": "code",
      "source": [
        "q1_model[0]"
      ],
      "metadata": {
        "colab": {
          "base_uri": "https://localhost:8080/"
        },
        "id": "h9MRYcs_4ync",
        "outputId": "827214fa-d523-4fc4-a17c-7e15dfe089ea"
      },
      "execution_count": null,
      "outputs": [
        {
          "output_type": "execute_result",
          "data": {
            "text/plain": [
              "array([ 0.5810266 ,  1.2083697 ,  0.9162264 , -0.0174998 , -0.15741944,\n",
              "       -1.4726185 , -0.62223524,  0.5812599 ,  0.7438206 , -0.04712546,\n",
              "       -0.8470433 ,  0.6188074 ,  0.6834843 ,  0.34443977, -0.66070366,\n",
              "        0.66500264,  0.1121475 , -0.8982408 ,  0.18651539, -0.18247873],\n",
              "      dtype=float32)"
            ]
          },
          "metadata": {},
          "execution_count": 31
        }
      ]
    },
    {
      "cell_type": "code",
      "source": [
        "# #cosine similarity - to finish \n",
        "# test_doc = word_tokenize(\"What is the step by step guide to invest\".lower())\n",
        "# test_doc_vector = model.infer_vector(test_doc)\n",
        "# model.docvecs.most_similar(positive = [test_doc_vector])\n"
      ],
      "metadata": {
        "colab": {
          "base_uri": "https://localhost:8080/"
        },
        "id": "Xs18YdDfG9sm",
        "outputId": "944f9527-f1a4-4f20-eebf-da6bfef775bc"
      },
      "execution_count": null,
      "outputs": [
        {
          "output_type": "execute_result",
          "data": {
            "text/plain": [
              "[(1555, 0.7962811589241028),\n",
              " (2760, 0.7377956509590149),\n",
              " (1810, 0.7373658418655396),\n",
              " (2765, 0.7061798572540283),\n",
              " (2729, 0.6963450312614441),\n",
              " (1806, 0.688534677028656),\n",
              " (1839, 0.685553789138794),\n",
              " (2233, 0.6750451326370239),\n",
              " (1854, 0.6687722206115723),\n",
              " (2190, 0.6662200093269348)]"
            ]
          },
          "metadata": {},
          "execution_count": 76
        }
      ]
    },
    {
      "cell_type": "code",
      "source": [],
      "metadata": {
        "id": "QL5yZAACTNJ8"
      },
      "execution_count": null,
      "outputs": []
    },
    {
      "cell_type": "markdown",
      "source": [
        "buen codigo"
      ],
      "metadata": {
        "id": "Lk8YIWopTRfx"
      }
    },
    {
      "cell_type": "code",
      "source": [
        "# test_doc = word_tokenize(\"What is the step by step guide to invest\".lower())\n",
        "# test_doc_vector = model.infer_vector(test_doc)\n",
        "# model.docvecs.most_similar(positive = [test_doc_vector])"
      ],
      "metadata": {
        "colab": {
          "base_uri": "https://localhost:8080/"
        },
        "id": "n-08F7PrLCCz",
        "outputId": "6304016b-6858-4dba-cd8d-a940a72d2a43"
      },
      "execution_count": null,
      "outputs": [
        {
          "output_type": "execute_result",
          "data": {
            "text/plain": [
              "[(1854, 0.8070089221000671),\n",
              " (42, 0.7843912839889526),\n",
              " (958, 0.779266357421875),\n",
              " (1183, 0.7622733116149902),\n",
              " (1839, 0.7594348192214966),\n",
              " (2007, 0.7579702138900757),\n",
              " (2760, 0.7547283172607422),\n",
              " (909, 0.7446797490119934),\n",
              " (2765, 0.7345895767211914),\n",
              " (1835, 0.732286810874939)]"
            ]
          },
          "metadata": {},
          "execution_count": 81
        }
      ]
    }
  ]
}
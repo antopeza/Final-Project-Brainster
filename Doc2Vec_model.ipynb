{
  "nbformat": 4,
  "nbformat_minor": 0,
  "metadata": {
    "colab": {
      "provenance": [],
      "collapsed_sections": [
        "uhX3GryDHeLw",
        "3KGLlVi8l0Vg"
      ],
      "authorship_tag": "ABX9TyNlA0goaT+3HJkWBY+sKEJk",
      "include_colab_link": true
    },
    "kernelspec": {
      "name": "python3",
      "display_name": "Python 3"
    },
    "language_info": {
      "name": "python"
    }
  },
  "cells": [
    {
      "cell_type": "markdown",
      "metadata": {
        "id": "view-in-github",
        "colab_type": "text"
      },
      "source": [
        "<a href=\"https://colab.research.google.com/github/antopeza/Final-Project-Brainster/blob/main/Doc2Vec_model.ipynb\" target=\"_parent\"><img src=\"https://colab.research.google.com/assets/colab-badge.svg\" alt=\"Open In Colab\"/></a>"
      ]
    },
    {
      "cell_type": "code",
      "execution_count": 2,
      "metadata": {
        "id": "e-KBkFqJDgmY"
      },
      "outputs": [],
      "source": [
        "import pandas as pd\n",
        "import numpy as np\n",
        "from numpy import random\n",
        "from numpy import vstack\n",
        "import matplotlib.pyplot as plt\n",
        "import os \n",
        "\n",
        "import re\n",
        "\n",
        "import string\n",
        "from string import punctuation\n",
        "\n",
        "from sklearn.model_selection import ShuffleSplit\n",
        "from sklearn.ensemble import RandomForestClassifier\n",
        "from sklearn.experimental import enable_halving_search_cv \n",
        "from sklearn.model_selection import HalvingGridSearchCV\n",
        "\n",
        "from sklearn.model_selection import train_test_split, GridSearchCV\n",
        "from sklearn.pipeline import Pipeline\n",
        "from sklearn.feature_extraction.text import CountVectorizer, TfidfVectorizer\n",
        "from sklearn.linear_model import LogisticRegression\n",
        "from sklearn import svm\n",
        "from sklearn.svm import SVC\n",
        "from sklearn.svm import LinearSVC\n",
        "import sklearn.metrics as metrics\n",
        "from sklearn.metrics import classification_report, confusion_matrix, accuracy_score\n",
        "\n",
        "import xgboost as xgb\n",
        "\n",
        "import nltk\n",
        "from nltk.stem import WordNetLemmatizer, PorterStemmer, LancasterStemmer\n",
        "from nltk.corpus import wordnet, stopwords\n",
        "from nltk import pos_tag, word_tokenize\n",
        "\n",
        "import gensim\n",
        "from gensim.parsing.preprocessing import remove_stopwords\n",
        "\n",
        "from keras.preprocessing.text import Tokenizer\n",
        "from keras_preprocessing.sequence import pad_sequences\n",
        "from keras.models import Model, Sequential, load_model\n",
        "from keras.layers import Input, Embedding, LSTM, Dense\n",
        "from keras.callbacks import ModelCheckpoint, EarlyStopping\n",
        "\n",
        "from imblearn.over_sampling import SMOTE\n",
        "from collections import Counter\n",
        "\n",
        "#from scikeras.wrappers import KerasClassifier\n",
        "\n",
        "import pickle\n",
        "from pickle import dump\n",
        "from pickle import load\n",
        "\n",
        "from imblearn.over_sampling import SMOTE\n",
        "from collections import Counter\n",
        "\n",
        "%matplotlib inline\n",
        "import warnings\n",
        "warnings.filterwarnings('ignore')"
      ]
    },
    {
      "cell_type": "code",
      "source": [
        "from google.colab import drive \n",
        "drive.mount('/drive')"
      ],
      "metadata": {
        "colab": {
          "base_uri": "https://localhost:8080/"
        },
        "id": "UBbY-W7bD2F6",
        "outputId": "b4a09489-6037-4572-cc4d-21a42fa1f1e8"
      },
      "execution_count": 3,
      "outputs": [
        {
          "output_type": "stream",
          "name": "stdout",
          "text": [
            "Mounted at /drive\n"
          ]
        }
      ]
    },
    {
      "cell_type": "code",
      "source": [
        "nltk.download(\"punkt\")\n",
        "nltk.download(\"stopwords\")\n",
        "nltk.download(\"wordnet\")\n",
        "nltk.download(\"averaged_perceptron_tagger\")\n",
        "nltk.download('omw-1.4')"
      ],
      "metadata": {
        "colab": {
          "base_uri": "https://localhost:8080/"
        },
        "id": "ok8svMpmDmG9",
        "outputId": "3d29d902-7af9-4fc3-ae73-005e1b32c623"
      },
      "execution_count": 4,
      "outputs": [
        {
          "output_type": "stream",
          "name": "stderr",
          "text": [
            "[nltk_data] Downloading package punkt to /root/nltk_data...\n",
            "[nltk_data]   Unzipping tokenizers/punkt.zip.\n",
            "[nltk_data] Downloading package stopwords to /root/nltk_data...\n",
            "[nltk_data]   Unzipping corpora/stopwords.zip.\n",
            "[nltk_data] Downloading package wordnet to /root/nltk_data...\n",
            "[nltk_data] Downloading package averaged_perceptron_tagger to\n",
            "[nltk_data]     /root/nltk_data...\n",
            "[nltk_data]   Unzipping taggers/averaged_perceptron_tagger.zip.\n",
            "[nltk_data] Downloading package omw-1.4 to /root/nltk_data...\n"
          ]
        },
        {
          "output_type": "execute_result",
          "data": {
            "text/plain": [
              "True"
            ]
          },
          "metadata": {},
          "execution_count": 4
        }
      ]
    },
    {
      "cell_type": "code",
      "source": [
        "stops = set(stopwords.words('english'))\n",
        "#print(stops)"
      ],
      "metadata": {
        "id": "eihupDCWDobb"
      },
      "execution_count": 5,
      "outputs": []
    },
    {
      "cell_type": "code",
      "source": [
        "stemmer =  PorterStemmer()\n",
        "lemmer = WordNetLemmatizer()"
      ],
      "metadata": {
        "id": "zkLm5h4mDqlo"
      },
      "execution_count": 6,
      "outputs": []
    },
    {
      "cell_type": "code",
      "source": [
        "#df_raw = pd.read_csv(path)\n",
        "df_raw = pd.read_csv('/drive/My Drive/MACHINE LEARNING/FINAL PROJECT/train.csv')"
      ],
      "metadata": {
        "id": "GVt98k6CDuZo"
      },
      "execution_count": 7,
      "outputs": []
    },
    {
      "cell_type": "code",
      "source": [
        "# print('shape of df  = ', df_raw.shape)\n",
        "# print()\n",
        "# df_raw.head(2)"
      ],
      "metadata": {
        "colab": {
          "base_uri": "https://localhost:8080/",
          "height": 148
        },
        "id": "yT4ICsPwDw65",
        "outputId": "67609490-41b7-429d-d62b-6a697db7fda5"
      },
      "execution_count": null,
      "outputs": [
        {
          "output_type": "stream",
          "name": "stdout",
          "text": [
            "shape of df  =  (404290, 6)\n",
            "\n"
          ]
        },
        {
          "output_type": "execute_result",
          "data": {
            "text/plain": [
              "   id  qid1  qid2                                          question1  \\\n",
              "0   0     1     2  What is the step by step guide to invest in sh...   \n",
              "1   1     3     4  What is the story of Kohinoor (Koh-i-Noor) Dia...   \n",
              "\n",
              "                                           question2  is_duplicate  \n",
              "0  What is the step by step guide to invest in sh...             0  \n",
              "1  What would happen if the Indian government sto...             0  "
            ],
            "text/html": [
              "\n",
              "  <div id=\"df-cd655c27-016e-4fe4-b129-5bf2cb240328\">\n",
              "    <div class=\"colab-df-container\">\n",
              "      <div>\n",
              "<style scoped>\n",
              "    .dataframe tbody tr th:only-of-type {\n",
              "        vertical-align: middle;\n",
              "    }\n",
              "\n",
              "    .dataframe tbody tr th {\n",
              "        vertical-align: top;\n",
              "    }\n",
              "\n",
              "    .dataframe thead th {\n",
              "        text-align: right;\n",
              "    }\n",
              "</style>\n",
              "<table border=\"1\" class=\"dataframe\">\n",
              "  <thead>\n",
              "    <tr style=\"text-align: right;\">\n",
              "      <th></th>\n",
              "      <th>id</th>\n",
              "      <th>qid1</th>\n",
              "      <th>qid2</th>\n",
              "      <th>question1</th>\n",
              "      <th>question2</th>\n",
              "      <th>is_duplicate</th>\n",
              "    </tr>\n",
              "  </thead>\n",
              "  <tbody>\n",
              "    <tr>\n",
              "      <th>0</th>\n",
              "      <td>0</td>\n",
              "      <td>1</td>\n",
              "      <td>2</td>\n",
              "      <td>What is the step by step guide to invest in sh...</td>\n",
              "      <td>What is the step by step guide to invest in sh...</td>\n",
              "      <td>0</td>\n",
              "    </tr>\n",
              "    <tr>\n",
              "      <th>1</th>\n",
              "      <td>1</td>\n",
              "      <td>3</td>\n",
              "      <td>4</td>\n",
              "      <td>What is the story of Kohinoor (Koh-i-Noor) Dia...</td>\n",
              "      <td>What would happen if the Indian government sto...</td>\n",
              "      <td>0</td>\n",
              "    </tr>\n",
              "  </tbody>\n",
              "</table>\n",
              "</div>\n",
              "      <button class=\"colab-df-convert\" onclick=\"convertToInteractive('df-cd655c27-016e-4fe4-b129-5bf2cb240328')\"\n",
              "              title=\"Convert this dataframe to an interactive table.\"\n",
              "              style=\"display:none;\">\n",
              "        \n",
              "  <svg xmlns=\"http://www.w3.org/2000/svg\" height=\"24px\"viewBox=\"0 0 24 24\"\n",
              "       width=\"24px\">\n",
              "    <path d=\"M0 0h24v24H0V0z\" fill=\"none\"/>\n",
              "    <path d=\"M18.56 5.44l.94 2.06.94-2.06 2.06-.94-2.06-.94-.94-2.06-.94 2.06-2.06.94zm-11 1L8.5 8.5l.94-2.06 2.06-.94-2.06-.94L8.5 2.5l-.94 2.06-2.06.94zm10 10l.94 2.06.94-2.06 2.06-.94-2.06-.94-.94-2.06-.94 2.06-2.06.94z\"/><path d=\"M17.41 7.96l-1.37-1.37c-.4-.4-.92-.59-1.43-.59-.52 0-1.04.2-1.43.59L10.3 9.45l-7.72 7.72c-.78.78-.78 2.05 0 2.83L4 21.41c.39.39.9.59 1.41.59.51 0 1.02-.2 1.41-.59l7.78-7.78 2.81-2.81c.8-.78.8-2.07 0-2.86zM5.41 20L4 18.59l7.72-7.72 1.47 1.35L5.41 20z\"/>\n",
              "  </svg>\n",
              "      </button>\n",
              "      \n",
              "  <style>\n",
              "    .colab-df-container {\n",
              "      display:flex;\n",
              "      flex-wrap:wrap;\n",
              "      gap: 12px;\n",
              "    }\n",
              "\n",
              "    .colab-df-convert {\n",
              "      background-color: #E8F0FE;\n",
              "      border: none;\n",
              "      border-radius: 50%;\n",
              "      cursor: pointer;\n",
              "      display: none;\n",
              "      fill: #1967D2;\n",
              "      height: 32px;\n",
              "      padding: 0 0 0 0;\n",
              "      width: 32px;\n",
              "    }\n",
              "\n",
              "    .colab-df-convert:hover {\n",
              "      background-color: #E2EBFA;\n",
              "      box-shadow: 0px 1px 2px rgba(60, 64, 67, 0.3), 0px 1px 3px 1px rgba(60, 64, 67, 0.15);\n",
              "      fill: #174EA6;\n",
              "    }\n",
              "\n",
              "    [theme=dark] .colab-df-convert {\n",
              "      background-color: #3B4455;\n",
              "      fill: #D2E3FC;\n",
              "    }\n",
              "\n",
              "    [theme=dark] .colab-df-convert:hover {\n",
              "      background-color: #434B5C;\n",
              "      box-shadow: 0px 1px 3px 1px rgba(0, 0, 0, 0.15);\n",
              "      filter: drop-shadow(0px 1px 2px rgba(0, 0, 0, 0.3));\n",
              "      fill: #FFFFFF;\n",
              "    }\n",
              "  </style>\n",
              "\n",
              "      <script>\n",
              "        const buttonEl =\n",
              "          document.querySelector('#df-cd655c27-016e-4fe4-b129-5bf2cb240328 button.colab-df-convert');\n",
              "        buttonEl.style.display =\n",
              "          google.colab.kernel.accessAllowed ? 'block' : 'none';\n",
              "\n",
              "        async function convertToInteractive(key) {\n",
              "          const element = document.querySelector('#df-cd655c27-016e-4fe4-b129-5bf2cb240328');\n",
              "          const dataTable =\n",
              "            await google.colab.kernel.invokeFunction('convertToInteractive',\n",
              "                                                     [key], {});\n",
              "          if (!dataTable) return;\n",
              "\n",
              "          const docLinkHtml = 'Like what you see? Visit the ' +\n",
              "            '<a target=\"_blank\" href=https://colab.research.google.com/notebooks/data_table.ipynb>data table notebook</a>'\n",
              "            + ' to learn more about interactive tables.';\n",
              "          element.innerHTML = '';\n",
              "          dataTable['output_type'] = 'display_data';\n",
              "          await google.colab.output.renderOutput(dataTable, element);\n",
              "          const docLink = document.createElement('div');\n",
              "          docLink.innerHTML = docLinkHtml;\n",
              "          element.appendChild(docLink);\n",
              "        }\n",
              "      </script>\n",
              "    </div>\n",
              "  </div>\n",
              "  "
            ]
          },
          "metadata": {},
          "execution_count": 7
        }
      ]
    },
    {
      "cell_type": "code",
      "source": [
        "#df_raw[df_raw.isnull().any(axis=1)]"
      ],
      "metadata": {
        "colab": {
          "base_uri": "https://localhost:8080/",
          "height": 143
        },
        "id": "nmzhM5GaD9su",
        "outputId": "c3e94bff-8b6e-487d-9be2-565308dd1ad8"
      },
      "execution_count": null,
      "outputs": [
        {
          "output_type": "execute_result",
          "data": {
            "text/plain": [
              "            id    qid1    qid2                         question1  \\\n",
              "105780  105780  174363  174364    How can I develop android app?   \n",
              "201841  201841  303951  174364  How can I create an Android app?   \n",
              "363362  363362  493340  493341                               NaN   \n",
              "\n",
              "                                                question2  is_duplicate  \n",
              "105780                                                NaN             0  \n",
              "201841                                                NaN             0  \n",
              "363362  My Chinese name is Haichao Yu. What English na...             0  "
            ],
            "text/html": [
              "\n",
              "  <div id=\"df-fa75a78e-c84b-4341-91c8-7849db624abb\">\n",
              "    <div class=\"colab-df-container\">\n",
              "      <div>\n",
              "<style scoped>\n",
              "    .dataframe tbody tr th:only-of-type {\n",
              "        vertical-align: middle;\n",
              "    }\n",
              "\n",
              "    .dataframe tbody tr th {\n",
              "        vertical-align: top;\n",
              "    }\n",
              "\n",
              "    .dataframe thead th {\n",
              "        text-align: right;\n",
              "    }\n",
              "</style>\n",
              "<table border=\"1\" class=\"dataframe\">\n",
              "  <thead>\n",
              "    <tr style=\"text-align: right;\">\n",
              "      <th></th>\n",
              "      <th>id</th>\n",
              "      <th>qid1</th>\n",
              "      <th>qid2</th>\n",
              "      <th>question1</th>\n",
              "      <th>question2</th>\n",
              "      <th>is_duplicate</th>\n",
              "    </tr>\n",
              "  </thead>\n",
              "  <tbody>\n",
              "    <tr>\n",
              "      <th>105780</th>\n",
              "      <td>105780</td>\n",
              "      <td>174363</td>\n",
              "      <td>174364</td>\n",
              "      <td>How can I develop android app?</td>\n",
              "      <td>NaN</td>\n",
              "      <td>0</td>\n",
              "    </tr>\n",
              "    <tr>\n",
              "      <th>201841</th>\n",
              "      <td>201841</td>\n",
              "      <td>303951</td>\n",
              "      <td>174364</td>\n",
              "      <td>How can I create an Android app?</td>\n",
              "      <td>NaN</td>\n",
              "      <td>0</td>\n",
              "    </tr>\n",
              "    <tr>\n",
              "      <th>363362</th>\n",
              "      <td>363362</td>\n",
              "      <td>493340</td>\n",
              "      <td>493341</td>\n",
              "      <td>NaN</td>\n",
              "      <td>My Chinese name is Haichao Yu. What English na...</td>\n",
              "      <td>0</td>\n",
              "    </tr>\n",
              "  </tbody>\n",
              "</table>\n",
              "</div>\n",
              "      <button class=\"colab-df-convert\" onclick=\"convertToInteractive('df-fa75a78e-c84b-4341-91c8-7849db624abb')\"\n",
              "              title=\"Convert this dataframe to an interactive table.\"\n",
              "              style=\"display:none;\">\n",
              "        \n",
              "  <svg xmlns=\"http://www.w3.org/2000/svg\" height=\"24px\"viewBox=\"0 0 24 24\"\n",
              "       width=\"24px\">\n",
              "    <path d=\"M0 0h24v24H0V0z\" fill=\"none\"/>\n",
              "    <path d=\"M18.56 5.44l.94 2.06.94-2.06 2.06-.94-2.06-.94-.94-2.06-.94 2.06-2.06.94zm-11 1L8.5 8.5l.94-2.06 2.06-.94-2.06-.94L8.5 2.5l-.94 2.06-2.06.94zm10 10l.94 2.06.94-2.06 2.06-.94-2.06-.94-.94-2.06-.94 2.06-2.06.94z\"/><path d=\"M17.41 7.96l-1.37-1.37c-.4-.4-.92-.59-1.43-.59-.52 0-1.04.2-1.43.59L10.3 9.45l-7.72 7.72c-.78.78-.78 2.05 0 2.83L4 21.41c.39.39.9.59 1.41.59.51 0 1.02-.2 1.41-.59l7.78-7.78 2.81-2.81c.8-.78.8-2.07 0-2.86zM5.41 20L4 18.59l7.72-7.72 1.47 1.35L5.41 20z\"/>\n",
              "  </svg>\n",
              "      </button>\n",
              "      \n",
              "  <style>\n",
              "    .colab-df-container {\n",
              "      display:flex;\n",
              "      flex-wrap:wrap;\n",
              "      gap: 12px;\n",
              "    }\n",
              "\n",
              "    .colab-df-convert {\n",
              "      background-color: #E8F0FE;\n",
              "      border: none;\n",
              "      border-radius: 50%;\n",
              "      cursor: pointer;\n",
              "      display: none;\n",
              "      fill: #1967D2;\n",
              "      height: 32px;\n",
              "      padding: 0 0 0 0;\n",
              "      width: 32px;\n",
              "    }\n",
              "\n",
              "    .colab-df-convert:hover {\n",
              "      background-color: #E2EBFA;\n",
              "      box-shadow: 0px 1px 2px rgba(60, 64, 67, 0.3), 0px 1px 3px 1px rgba(60, 64, 67, 0.15);\n",
              "      fill: #174EA6;\n",
              "    }\n",
              "\n",
              "    [theme=dark] .colab-df-convert {\n",
              "      background-color: #3B4455;\n",
              "      fill: #D2E3FC;\n",
              "    }\n",
              "\n",
              "    [theme=dark] .colab-df-convert:hover {\n",
              "      background-color: #434B5C;\n",
              "      box-shadow: 0px 1px 3px 1px rgba(0, 0, 0, 0.15);\n",
              "      filter: drop-shadow(0px 1px 2px rgba(0, 0, 0, 0.3));\n",
              "      fill: #FFFFFF;\n",
              "    }\n",
              "  </style>\n",
              "\n",
              "      <script>\n",
              "        const buttonEl =\n",
              "          document.querySelector('#df-fa75a78e-c84b-4341-91c8-7849db624abb button.colab-df-convert');\n",
              "        buttonEl.style.display =\n",
              "          google.colab.kernel.accessAllowed ? 'block' : 'none';\n",
              "\n",
              "        async function convertToInteractive(key) {\n",
              "          const element = document.querySelector('#df-fa75a78e-c84b-4341-91c8-7849db624abb');\n",
              "          const dataTable =\n",
              "            await google.colab.kernel.invokeFunction('convertToInteractive',\n",
              "                                                     [key], {});\n",
              "          if (!dataTable) return;\n",
              "\n",
              "          const docLinkHtml = 'Like what you see? Visit the ' +\n",
              "            '<a target=\"_blank\" href=https://colab.research.google.com/notebooks/data_table.ipynb>data table notebook</a>'\n",
              "            + ' to learn more about interactive tables.';\n",
              "          element.innerHTML = '';\n",
              "          dataTable['output_type'] = 'display_data';\n",
              "          await google.colab.output.renderOutput(dataTable, element);\n",
              "          const docLink = document.createElement('div');\n",
              "          docLink.innerHTML = docLinkHtml;\n",
              "          element.appendChild(docLink);\n",
              "        }\n",
              "      </script>\n",
              "    </div>\n",
              "  </div>\n",
              "  "
            ]
          },
          "metadata": {},
          "execution_count": 8
        }
      ]
    },
    {
      "cell_type": "code",
      "source": [
        "df_raw = df_raw.fillna(\"\")\n",
        "df_raw.isnull().sum()"
      ],
      "metadata": {
        "colab": {
          "base_uri": "https://localhost:8080/"
        },
        "id": "U6MgVQvXEDkK",
        "outputId": "ca6de248-8e95-4565-d0b0-8fb32a97a583"
      },
      "execution_count": 8,
      "outputs": [
        {
          "output_type": "execute_result",
          "data": {
            "text/plain": [
              "id              0\n",
              "qid1            0\n",
              "qid2            0\n",
              "question1       0\n",
              "question2       0\n",
              "is_duplicate    0\n",
              "dtype: int64"
            ]
          },
          "metadata": {},
          "execution_count": 8
        }
      ]
    },
    {
      "cell_type": "code",
      "source": [
        "# randomly selected samples from df for the new df to perform operations\n",
        "df = df_raw.sample(50000)\n",
        "df = df[['question1', 'question2', 'is_duplicate']]\n",
        "print(df.shape)"
      ],
      "metadata": {
        "colab": {
          "base_uri": "https://localhost:8080/"
        },
        "id": "GXqgqnxiESn0",
        "outputId": "6ddd1e41-416b-40d3-c75e-441ca5e23409"
      },
      "execution_count": 9,
      "outputs": [
        {
          "output_type": "stream",
          "name": "stdout",
          "text": [
            "(50000, 3)\n"
          ]
        }
      ]
    },
    {
      "cell_type": "code",
      "source": [
        "#df_copy = df.copy()"
      ],
      "metadata": {
        "id": "Bl3kqF6NQ6pn"
      },
      "execution_count": null,
      "outputs": []
    },
    {
      "cell_type": "markdown",
      "source": [
        "# Clean Data"
      ],
      "metadata": {
        "id": "u9_jhJzDjWUy"
      }
    },
    {
      "cell_type": "code",
      "source": [
        "def get_wordnet_pos(tag):\n",
        "    if tag.startswith(\"N\"):\n",
        "        return wordnet.NOUN\n",
        "    if tag.startswith(\"J\"):\n",
        "        return wordnet.ADJ\n",
        "    if tag.startswith(\"V\"):\n",
        "        return wordnet.VERB\n",
        "    if tag.startswith(\"R\"):\n",
        "        return wordnet.ADV\n",
        "    return wordnet.NOUN\n",
        "\n",
        "def clean_sentence(sentence, stopwords = False, lemmatize = False, stem = False):\n",
        "    sentence = sentence.lower().strip()\n",
        "    sentence = re.sub(r'[^a-z0-9\\s]', '', sentence)  # removing all caracters that are not alpha numeric\n",
        "    #sentence = re.sub(r'\\s{2,}', ' ', sentence\n",
        "   \n",
        "    sentence = sentence.translate(str.maketrans('', '', string.punctuation))  # remove punctuation\n",
        "    \n",
        "    if stopwords:\n",
        "        sentence = remove_stopwords(sentence)  \n",
        "        \n",
        "    if lemmatize:\n",
        "        nltk_tagged = nltk.pos_tag(nltk.word_tokenize(sentence))\n",
        "        wn_tagged = map(lambda x: (x[0], get_wordnet_pos(x[1])), nltk_tagged)\n",
        "        res_words = []\n",
        "        for word, tag in wn_tagged:\n",
        "            if tag is None:\n",
        "                res_words.append(word)\n",
        "            else :\n",
        "                res_words.append(lemmer.lemmatize(word, tag))\n",
        "        sentence = \" \".join(res_words)\n",
        "        \n",
        "    if stem:\n",
        "        sent_stemmed = ''\n",
        "        for word in sentence.split():\n",
        "            sent_stemmed += ' '+ stemmer.stem(word)\n",
        "        sentence = sent_stemmed\n",
        "   \n",
        "    return sentence\n",
        "\n",
        "def get_cleaned_senteces(df, stopwords = False, lemmatize = False, stem = False):\n",
        "    #sents1 = dfq[['question1']]  \n",
        "    #sents2 = dfq[['question2']]\n",
        "    cleaned_sentences1 = []\n",
        "    cleaned_sentences2 = []\n",
        "    \n",
        "    for index, row in df.iterrows():\n",
        "        # print (index, row)\n",
        "        cleaned1 = clean_sentence(row['question1'], stopwords, lemmatize, stem) \n",
        "        cleaned2 = clean_sentence(row['question2'], stopwords, lemmatize, stem)\n",
        "\n",
        "        cleaned_sentences1.append(cleaned1)\n",
        "        cleaned_sentences2.append(cleaned2)\n",
        "    return cleaned_sentences1, cleaned_sentences2"
      ],
      "metadata": {
        "id": "ynqJ5flWEUEk"
      },
      "execution_count": 10,
      "outputs": []
    },
    {
      "cell_type": "code",
      "source": [
        "def to_df(q1cleaned, q2cleaned, df):\n",
        "    '''cleaned sentences to df'''\n",
        "    X_temp1 = pd.DataFrame()\n",
        "    X_temp2 = pd.DataFrame()\n",
        "    X_temp1['q1'] = pd.DataFrame(q1cleaned, index = df.index)\n",
        "    X_temp2['q2'] = pd.DataFrame(q2cleaned, index = df.index)\n",
        "    X_temp = pd.concat([X_temp1, X_temp2], axis = 1)\n",
        "    X_temp['is_duplicate'] = df_raw['is_duplicate']\n",
        "    return X_temp"
      ],
      "metadata": {
        "id": "V-k52RcgEiWV"
      },
      "execution_count": 11,
      "outputs": []
    },
    {
      "cell_type": "markdown",
      "source": [
        "#### With Stopwords, lemmatized"
      ],
      "metadata": {
        "id": "5ljrxCFPk7D8"
      }
    },
    {
      "cell_type": "code",
      "source": [
        "# With stopwords lemmatized, not stemmed\n",
        "q1_sw_lemma, q2_sw_lemma = get_cleaned_senteces(df, stopwords = False, lemmatize = True, stem = False)\n",
        "assert len(q1_sw_lemma) == len(q2_sw_lemma)\n",
        "df_sw_lemma = to_df(q1_sw_lemma, q2_sw_lemma, df)\n",
        "df_sw_lemma.shape"
      ],
      "metadata": {
        "colab": {
          "base_uri": "https://localhost:8080/"
        },
        "id": "S7oZESZlOaV1",
        "outputId": "1b1fc495-e20b-46eb-b41c-f9656b97b292"
      },
      "execution_count": 12,
      "outputs": [
        {
          "output_type": "execute_result",
          "data": {
            "text/plain": [
              "(50000, 3)"
            ]
          },
          "metadata": {},
          "execution_count": 12
        }
      ]
    },
    {
      "cell_type": "markdown",
      "source": [
        "#### With Stopwords, stemmed"
      ],
      "metadata": {
        "id": "g4spCai9lC7-"
      }
    },
    {
      "cell_type": "code",
      "source": [
        "q1_sw_stem, q2_sw_stem = get_cleaned_senteces(df, stopwords = False, lemmatize = False, stem = True)\n",
        "assert len(q1_sw_stem) == len(q2_sw_stem)\n",
        "df_sw_stem = to_df(q1_sw_stem, q2_sw_stem, df)\n",
        "df_sw_stem.shape"
      ],
      "metadata": {
        "colab": {
          "base_uri": "https://localhost:8080/"
        },
        "id": "nNAC16bYRtr_",
        "outputId": "36a22306-c0aa-43a7-bc52-0b478f9fccb4"
      },
      "execution_count": 13,
      "outputs": [
        {
          "output_type": "execute_result",
          "data": {
            "text/plain": [
              "(50000, 3)"
            ]
          },
          "metadata": {},
          "execution_count": 13
        }
      ]
    },
    {
      "cell_type": "markdown",
      "source": [
        "#### With stopwords, not lemmatized nor stemmed"
      ],
      "metadata": {
        "id": "1BSvoisylMEZ"
      }
    },
    {
      "cell_type": "code",
      "source": [
        "q1_sw, q2_sw = get_cleaned_senteces(df, stopwords = False, lemmatize = False, stem = False)\n",
        "assert len(q1_sw) == len(q2_sw)\n",
        "df_sw = to_df(q1_sw, q2_sw, df)\n",
        "df_sw.shape"
      ],
      "metadata": {
        "colab": {
          "base_uri": "https://localhost:8080/"
        },
        "id": "2EEjzuUglWuA",
        "outputId": "bdceb5af-6e37-40a7-c69a-fc23bc68a83a"
      },
      "execution_count": 14,
      "outputs": [
        {
          "output_type": "execute_result",
          "data": {
            "text/plain": [
              "(50000, 3)"
            ]
          },
          "metadata": {},
          "execution_count": 14
        }
      ]
    },
    {
      "cell_type": "markdown",
      "source": [
        "#### Without Stopwords, lemmatized\n"
      ],
      "metadata": {
        "id": "jX9Hu4HqmGjq"
      }
    },
    {
      "cell_type": "code",
      "source": [
        "q1_lemma, q2_lemma = get_cleaned_senteces(df, stopwords = True, lemmatize = True, stem = False)\n",
        "assert len(q1_lemma) == len(q2_lemma)\n",
        "df_lemma = to_df(q1_lemma, q2_lemma, df)\n",
        "df_lemma.shape"
      ],
      "metadata": {
        "colab": {
          "base_uri": "https://localhost:8080/"
        },
        "id": "RvPtJo-zmQnv",
        "outputId": "4d37b4db-4d77-41a9-96e1-06d29d57c55e"
      },
      "execution_count": 15,
      "outputs": [
        {
          "output_type": "execute_result",
          "data": {
            "text/plain": [
              "(50000, 3)"
            ]
          },
          "metadata": {},
          "execution_count": 15
        }
      ]
    },
    {
      "cell_type": "markdown",
      "source": [
        "#### Without Stopwords, stemmed"
      ],
      "metadata": {
        "id": "8Vf2MjpLmay-"
      }
    },
    {
      "cell_type": "code",
      "source": [
        "q1_stem, q2_stem = get_cleaned_senteces(df, stopwords = True, lemmatize = False, stem = True)\n",
        "assert len(q1_stem) == len(q2_stem)\n",
        "df_stem = to_df(q1_stem, q2_stem, df)\n",
        "df_stem.shape"
      ],
      "metadata": {
        "colab": {
          "base_uri": "https://localhost:8080/"
        },
        "id": "mewxphR3mgz6",
        "outputId": "9ca9538b-3eb8-487b-d97d-5ef36bfcb6c2"
      },
      "execution_count": 22,
      "outputs": [
        {
          "output_type": "execute_result",
          "data": {
            "text/plain": [
              "(50000, 3)"
            ]
          },
          "metadata": {},
          "execution_count": 22
        }
      ]
    },
    {
      "cell_type": "markdown",
      "source": [
        "#### Without Stopwords, not lemmatized nor stemmed"
      ],
      "metadata": {
        "id": "yGc3K6pAnQpn"
      }
    },
    {
      "cell_type": "code",
      "source": [
        "q1_out, q2_out = get_cleaned_senteces(df, stopwords = True, lemmatize = False, stem = False)\n",
        "assert len(q1_out) == len(q2_out)\n",
        "df_out = to_df(q1_out, q2_out, df)\n",
        "df_out.shape"
      ],
      "metadata": {
        "colab": {
          "base_uri": "https://localhost:8080/"
        },
        "id": "G4zZgJhdnPqd",
        "outputId": "ec0caf7b-dad9-45cf-a2f1-32c527449e6e"
      },
      "execution_count": 16,
      "outputs": [
        {
          "output_type": "execute_result",
          "data": {
            "text/plain": [
              "(50000, 3)"
            ]
          },
          "metadata": {},
          "execution_count": 16
        }
      ]
    },
    {
      "cell_type": "code",
      "source": [
        "display ('With stopwords, without lemma and stem', df_sw.iloc[[22]])\n",
        "display ('With stopwords, lemmatized and without stem', df_sw_lemma.iloc[[22]])\n",
        "display ('With stopwords, stemmed and without lemma', df_sw_stem.iloc[[22]])\n",
        "display ('Without stopwords, lemma and stem', df_out.iloc[[22]])\n",
        "display ('Without stopwords and stem, lemmatized', df_lemma.iloc[[22]])\n",
        "display ('Without stopwords and lemma, stemmed', df_stem.iloc[[22]])"
      ],
      "metadata": {
        "colab": {
          "base_uri": "https://localhost:8080/",
          "height": 512
        },
        "id": "JQeieU-pHxLu",
        "outputId": "eb84b0c1-9255-462a-c7a0-1a45f103eb21"
      },
      "execution_count": null,
      "outputs": [
        {
          "output_type": "display_data",
          "data": {
            "text/plain": [
              "'With stopwords, without lemma and stem'"
            ],
            "application/vnd.google.colaboratory.intrinsic+json": {
              "type": "string"
            }
          },
          "metadata": {}
        },
        {
          "output_type": "display_data",
          "data": {
            "text/plain": [
              "                                           q1  \\\n",
              "272872  what does it feel like to be on quora   \n",
              "\n",
              "                                             q2  is_duplicate  \n",
              "272872  what does it feel like to post on quora             1  "
            ],
            "text/html": [
              "\n",
              "  <div id=\"df-c9111e01-9c8e-49a9-b46d-37460f5c7a67\">\n",
              "    <div class=\"colab-df-container\">\n",
              "      <div>\n",
              "<style scoped>\n",
              "    .dataframe tbody tr th:only-of-type {\n",
              "        vertical-align: middle;\n",
              "    }\n",
              "\n",
              "    .dataframe tbody tr th {\n",
              "        vertical-align: top;\n",
              "    }\n",
              "\n",
              "    .dataframe thead th {\n",
              "        text-align: right;\n",
              "    }\n",
              "</style>\n",
              "<table border=\"1\" class=\"dataframe\">\n",
              "  <thead>\n",
              "    <tr style=\"text-align: right;\">\n",
              "      <th></th>\n",
              "      <th>q1</th>\n",
              "      <th>q2</th>\n",
              "      <th>is_duplicate</th>\n",
              "    </tr>\n",
              "  </thead>\n",
              "  <tbody>\n",
              "    <tr>\n",
              "      <th>272872</th>\n",
              "      <td>what does it feel like to be on quora</td>\n",
              "      <td>what does it feel like to post on quora</td>\n",
              "      <td>1</td>\n",
              "    </tr>\n",
              "  </tbody>\n",
              "</table>\n",
              "</div>\n",
              "      <button class=\"colab-df-convert\" onclick=\"convertToInteractive('df-c9111e01-9c8e-49a9-b46d-37460f5c7a67')\"\n",
              "              title=\"Convert this dataframe to an interactive table.\"\n",
              "              style=\"display:none;\">\n",
              "        \n",
              "  <svg xmlns=\"http://www.w3.org/2000/svg\" height=\"24px\"viewBox=\"0 0 24 24\"\n",
              "       width=\"24px\">\n",
              "    <path d=\"M0 0h24v24H0V0z\" fill=\"none\"/>\n",
              "    <path d=\"M18.56 5.44l.94 2.06.94-2.06 2.06-.94-2.06-.94-.94-2.06-.94 2.06-2.06.94zm-11 1L8.5 8.5l.94-2.06 2.06-.94-2.06-.94L8.5 2.5l-.94 2.06-2.06.94zm10 10l.94 2.06.94-2.06 2.06-.94-2.06-.94-.94-2.06-.94 2.06-2.06.94z\"/><path d=\"M17.41 7.96l-1.37-1.37c-.4-.4-.92-.59-1.43-.59-.52 0-1.04.2-1.43.59L10.3 9.45l-7.72 7.72c-.78.78-.78 2.05 0 2.83L4 21.41c.39.39.9.59 1.41.59.51 0 1.02-.2 1.41-.59l7.78-7.78 2.81-2.81c.8-.78.8-2.07 0-2.86zM5.41 20L4 18.59l7.72-7.72 1.47 1.35L5.41 20z\"/>\n",
              "  </svg>\n",
              "      </button>\n",
              "      \n",
              "  <style>\n",
              "    .colab-df-container {\n",
              "      display:flex;\n",
              "      flex-wrap:wrap;\n",
              "      gap: 12px;\n",
              "    }\n",
              "\n",
              "    .colab-df-convert {\n",
              "      background-color: #E8F0FE;\n",
              "      border: none;\n",
              "      border-radius: 50%;\n",
              "      cursor: pointer;\n",
              "      display: none;\n",
              "      fill: #1967D2;\n",
              "      height: 32px;\n",
              "      padding: 0 0 0 0;\n",
              "      width: 32px;\n",
              "    }\n",
              "\n",
              "    .colab-df-convert:hover {\n",
              "      background-color: #E2EBFA;\n",
              "      box-shadow: 0px 1px 2px rgba(60, 64, 67, 0.3), 0px 1px 3px 1px rgba(60, 64, 67, 0.15);\n",
              "      fill: #174EA6;\n",
              "    }\n",
              "\n",
              "    [theme=dark] .colab-df-convert {\n",
              "      background-color: #3B4455;\n",
              "      fill: #D2E3FC;\n",
              "    }\n",
              "\n",
              "    [theme=dark] .colab-df-convert:hover {\n",
              "      background-color: #434B5C;\n",
              "      box-shadow: 0px 1px 3px 1px rgba(0, 0, 0, 0.15);\n",
              "      filter: drop-shadow(0px 1px 2px rgba(0, 0, 0, 0.3));\n",
              "      fill: #FFFFFF;\n",
              "    }\n",
              "  </style>\n",
              "\n",
              "      <script>\n",
              "        const buttonEl =\n",
              "          document.querySelector('#df-c9111e01-9c8e-49a9-b46d-37460f5c7a67 button.colab-df-convert');\n",
              "        buttonEl.style.display =\n",
              "          google.colab.kernel.accessAllowed ? 'block' : 'none';\n",
              "\n",
              "        async function convertToInteractive(key) {\n",
              "          const element = document.querySelector('#df-c9111e01-9c8e-49a9-b46d-37460f5c7a67');\n",
              "          const dataTable =\n",
              "            await google.colab.kernel.invokeFunction('convertToInteractive',\n",
              "                                                     [key], {});\n",
              "          if (!dataTable) return;\n",
              "\n",
              "          const docLinkHtml = 'Like what you see? Visit the ' +\n",
              "            '<a target=\"_blank\" href=https://colab.research.google.com/notebooks/data_table.ipynb>data table notebook</a>'\n",
              "            + ' to learn more about interactive tables.';\n",
              "          element.innerHTML = '';\n",
              "          dataTable['output_type'] = 'display_data';\n",
              "          await google.colab.output.renderOutput(dataTable, element);\n",
              "          const docLink = document.createElement('div');\n",
              "          docLink.innerHTML = docLinkHtml;\n",
              "          element.appendChild(docLink);\n",
              "        }\n",
              "      </script>\n",
              "    </div>\n",
              "  </div>\n",
              "  "
            ]
          },
          "metadata": {}
        },
        {
          "output_type": "display_data",
          "data": {
            "text/plain": [
              "'With stopwords, lemmatized and without stem'"
            ],
            "application/vnd.google.colaboratory.intrinsic+json": {
              "type": "string"
            }
          },
          "metadata": {}
        },
        {
          "output_type": "display_data",
          "data": {
            "text/plain": [
              "                                         q1  \\\n",
              "272872  what do it feel like to be on quora   \n",
              "\n",
              "                                           q2  is_duplicate  \n",
              "272872  what do it feel like to post on quora             1  "
            ],
            "text/html": [
              "\n",
              "  <div id=\"df-4510dd9f-ac44-4c20-b1ac-48d5554030fa\">\n",
              "    <div class=\"colab-df-container\">\n",
              "      <div>\n",
              "<style scoped>\n",
              "    .dataframe tbody tr th:only-of-type {\n",
              "        vertical-align: middle;\n",
              "    }\n",
              "\n",
              "    .dataframe tbody tr th {\n",
              "        vertical-align: top;\n",
              "    }\n",
              "\n",
              "    .dataframe thead th {\n",
              "        text-align: right;\n",
              "    }\n",
              "</style>\n",
              "<table border=\"1\" class=\"dataframe\">\n",
              "  <thead>\n",
              "    <tr style=\"text-align: right;\">\n",
              "      <th></th>\n",
              "      <th>q1</th>\n",
              "      <th>q2</th>\n",
              "      <th>is_duplicate</th>\n",
              "    </tr>\n",
              "  </thead>\n",
              "  <tbody>\n",
              "    <tr>\n",
              "      <th>272872</th>\n",
              "      <td>what do it feel like to be on quora</td>\n",
              "      <td>what do it feel like to post on quora</td>\n",
              "      <td>1</td>\n",
              "    </tr>\n",
              "  </tbody>\n",
              "</table>\n",
              "</div>\n",
              "      <button class=\"colab-df-convert\" onclick=\"convertToInteractive('df-4510dd9f-ac44-4c20-b1ac-48d5554030fa')\"\n",
              "              title=\"Convert this dataframe to an interactive table.\"\n",
              "              style=\"display:none;\">\n",
              "        \n",
              "  <svg xmlns=\"http://www.w3.org/2000/svg\" height=\"24px\"viewBox=\"0 0 24 24\"\n",
              "       width=\"24px\">\n",
              "    <path d=\"M0 0h24v24H0V0z\" fill=\"none\"/>\n",
              "    <path d=\"M18.56 5.44l.94 2.06.94-2.06 2.06-.94-2.06-.94-.94-2.06-.94 2.06-2.06.94zm-11 1L8.5 8.5l.94-2.06 2.06-.94-2.06-.94L8.5 2.5l-.94 2.06-2.06.94zm10 10l.94 2.06.94-2.06 2.06-.94-2.06-.94-.94-2.06-.94 2.06-2.06.94z\"/><path d=\"M17.41 7.96l-1.37-1.37c-.4-.4-.92-.59-1.43-.59-.52 0-1.04.2-1.43.59L10.3 9.45l-7.72 7.72c-.78.78-.78 2.05 0 2.83L4 21.41c.39.39.9.59 1.41.59.51 0 1.02-.2 1.41-.59l7.78-7.78 2.81-2.81c.8-.78.8-2.07 0-2.86zM5.41 20L4 18.59l7.72-7.72 1.47 1.35L5.41 20z\"/>\n",
              "  </svg>\n",
              "      </button>\n",
              "      \n",
              "  <style>\n",
              "    .colab-df-container {\n",
              "      display:flex;\n",
              "      flex-wrap:wrap;\n",
              "      gap: 12px;\n",
              "    }\n",
              "\n",
              "    .colab-df-convert {\n",
              "      background-color: #E8F0FE;\n",
              "      border: none;\n",
              "      border-radius: 50%;\n",
              "      cursor: pointer;\n",
              "      display: none;\n",
              "      fill: #1967D2;\n",
              "      height: 32px;\n",
              "      padding: 0 0 0 0;\n",
              "      width: 32px;\n",
              "    }\n",
              "\n",
              "    .colab-df-convert:hover {\n",
              "      background-color: #E2EBFA;\n",
              "      box-shadow: 0px 1px 2px rgba(60, 64, 67, 0.3), 0px 1px 3px 1px rgba(60, 64, 67, 0.15);\n",
              "      fill: #174EA6;\n",
              "    }\n",
              "\n",
              "    [theme=dark] .colab-df-convert {\n",
              "      background-color: #3B4455;\n",
              "      fill: #D2E3FC;\n",
              "    }\n",
              "\n",
              "    [theme=dark] .colab-df-convert:hover {\n",
              "      background-color: #434B5C;\n",
              "      box-shadow: 0px 1px 3px 1px rgba(0, 0, 0, 0.15);\n",
              "      filter: drop-shadow(0px 1px 2px rgba(0, 0, 0, 0.3));\n",
              "      fill: #FFFFFF;\n",
              "    }\n",
              "  </style>\n",
              "\n",
              "      <script>\n",
              "        const buttonEl =\n",
              "          document.querySelector('#df-4510dd9f-ac44-4c20-b1ac-48d5554030fa button.colab-df-convert');\n",
              "        buttonEl.style.display =\n",
              "          google.colab.kernel.accessAllowed ? 'block' : 'none';\n",
              "\n",
              "        async function convertToInteractive(key) {\n",
              "          const element = document.querySelector('#df-4510dd9f-ac44-4c20-b1ac-48d5554030fa');\n",
              "          const dataTable =\n",
              "            await google.colab.kernel.invokeFunction('convertToInteractive',\n",
              "                                                     [key], {});\n",
              "          if (!dataTable) return;\n",
              "\n",
              "          const docLinkHtml = 'Like what you see? Visit the ' +\n",
              "            '<a target=\"_blank\" href=https://colab.research.google.com/notebooks/data_table.ipynb>data table notebook</a>'\n",
              "            + ' to learn more about interactive tables.';\n",
              "          element.innerHTML = '';\n",
              "          dataTable['output_type'] = 'display_data';\n",
              "          await google.colab.output.renderOutput(dataTable, element);\n",
              "          const docLink = document.createElement('div');\n",
              "          docLink.innerHTML = docLinkHtml;\n",
              "          element.appendChild(docLink);\n",
              "        }\n",
              "      </script>\n",
              "    </div>\n",
              "  </div>\n",
              "  "
            ]
          },
          "metadata": {}
        },
        {
          "output_type": "display_data",
          "data": {
            "text/plain": [
              "'With stopwords, stemmed and without lemma'"
            ],
            "application/vnd.google.colaboratory.intrinsic+json": {
              "type": "string"
            }
          },
          "metadata": {}
        },
        {
          "output_type": "display_data",
          "data": {
            "text/plain": [
              "                                           q1  \\\n",
              "272872   what doe it feel like to be on quora   \n",
              "\n",
              "                                             q2  is_duplicate  \n",
              "272872   what doe it feel like to post on quora             1  "
            ],
            "text/html": [
              "\n",
              "  <div id=\"df-75183e44-7093-46b0-aec9-b1885fbf7f6b\">\n",
              "    <div class=\"colab-df-container\">\n",
              "      <div>\n",
              "<style scoped>\n",
              "    .dataframe tbody tr th:only-of-type {\n",
              "        vertical-align: middle;\n",
              "    }\n",
              "\n",
              "    .dataframe tbody tr th {\n",
              "        vertical-align: top;\n",
              "    }\n",
              "\n",
              "    .dataframe thead th {\n",
              "        text-align: right;\n",
              "    }\n",
              "</style>\n",
              "<table border=\"1\" class=\"dataframe\">\n",
              "  <thead>\n",
              "    <tr style=\"text-align: right;\">\n",
              "      <th></th>\n",
              "      <th>q1</th>\n",
              "      <th>q2</th>\n",
              "      <th>is_duplicate</th>\n",
              "    </tr>\n",
              "  </thead>\n",
              "  <tbody>\n",
              "    <tr>\n",
              "      <th>272872</th>\n",
              "      <td>what doe it feel like to be on quora</td>\n",
              "      <td>what doe it feel like to post on quora</td>\n",
              "      <td>1</td>\n",
              "    </tr>\n",
              "  </tbody>\n",
              "</table>\n",
              "</div>\n",
              "      <button class=\"colab-df-convert\" onclick=\"convertToInteractive('df-75183e44-7093-46b0-aec9-b1885fbf7f6b')\"\n",
              "              title=\"Convert this dataframe to an interactive table.\"\n",
              "              style=\"display:none;\">\n",
              "        \n",
              "  <svg xmlns=\"http://www.w3.org/2000/svg\" height=\"24px\"viewBox=\"0 0 24 24\"\n",
              "       width=\"24px\">\n",
              "    <path d=\"M0 0h24v24H0V0z\" fill=\"none\"/>\n",
              "    <path d=\"M18.56 5.44l.94 2.06.94-2.06 2.06-.94-2.06-.94-.94-2.06-.94 2.06-2.06.94zm-11 1L8.5 8.5l.94-2.06 2.06-.94-2.06-.94L8.5 2.5l-.94 2.06-2.06.94zm10 10l.94 2.06.94-2.06 2.06-.94-2.06-.94-.94-2.06-.94 2.06-2.06.94z\"/><path d=\"M17.41 7.96l-1.37-1.37c-.4-.4-.92-.59-1.43-.59-.52 0-1.04.2-1.43.59L10.3 9.45l-7.72 7.72c-.78.78-.78 2.05 0 2.83L4 21.41c.39.39.9.59 1.41.59.51 0 1.02-.2 1.41-.59l7.78-7.78 2.81-2.81c.8-.78.8-2.07 0-2.86zM5.41 20L4 18.59l7.72-7.72 1.47 1.35L5.41 20z\"/>\n",
              "  </svg>\n",
              "      </button>\n",
              "      \n",
              "  <style>\n",
              "    .colab-df-container {\n",
              "      display:flex;\n",
              "      flex-wrap:wrap;\n",
              "      gap: 12px;\n",
              "    }\n",
              "\n",
              "    .colab-df-convert {\n",
              "      background-color: #E8F0FE;\n",
              "      border: none;\n",
              "      border-radius: 50%;\n",
              "      cursor: pointer;\n",
              "      display: none;\n",
              "      fill: #1967D2;\n",
              "      height: 32px;\n",
              "      padding: 0 0 0 0;\n",
              "      width: 32px;\n",
              "    }\n",
              "\n",
              "    .colab-df-convert:hover {\n",
              "      background-color: #E2EBFA;\n",
              "      box-shadow: 0px 1px 2px rgba(60, 64, 67, 0.3), 0px 1px 3px 1px rgba(60, 64, 67, 0.15);\n",
              "      fill: #174EA6;\n",
              "    }\n",
              "\n",
              "    [theme=dark] .colab-df-convert {\n",
              "      background-color: #3B4455;\n",
              "      fill: #D2E3FC;\n",
              "    }\n",
              "\n",
              "    [theme=dark] .colab-df-convert:hover {\n",
              "      background-color: #434B5C;\n",
              "      box-shadow: 0px 1px 3px 1px rgba(0, 0, 0, 0.15);\n",
              "      filter: drop-shadow(0px 1px 2px rgba(0, 0, 0, 0.3));\n",
              "      fill: #FFFFFF;\n",
              "    }\n",
              "  </style>\n",
              "\n",
              "      <script>\n",
              "        const buttonEl =\n",
              "          document.querySelector('#df-75183e44-7093-46b0-aec9-b1885fbf7f6b button.colab-df-convert');\n",
              "        buttonEl.style.display =\n",
              "          google.colab.kernel.accessAllowed ? 'block' : 'none';\n",
              "\n",
              "        async function convertToInteractive(key) {\n",
              "          const element = document.querySelector('#df-75183e44-7093-46b0-aec9-b1885fbf7f6b');\n",
              "          const dataTable =\n",
              "            await google.colab.kernel.invokeFunction('convertToInteractive',\n",
              "                                                     [key], {});\n",
              "          if (!dataTable) return;\n",
              "\n",
              "          const docLinkHtml = 'Like what you see? Visit the ' +\n",
              "            '<a target=\"_blank\" href=https://colab.research.google.com/notebooks/data_table.ipynb>data table notebook</a>'\n",
              "            + ' to learn more about interactive tables.';\n",
              "          element.innerHTML = '';\n",
              "          dataTable['output_type'] = 'display_data';\n",
              "          await google.colab.output.renderOutput(dataTable, element);\n",
              "          const docLink = document.createElement('div');\n",
              "          docLink.innerHTML = docLinkHtml;\n",
              "          element.appendChild(docLink);\n",
              "        }\n",
              "      </script>\n",
              "    </div>\n",
              "  </div>\n",
              "  "
            ]
          },
          "metadata": {}
        },
        {
          "output_type": "display_data",
          "data": {
            "text/plain": [
              "'Without stopwords, lemma and stem'"
            ],
            "application/vnd.google.colaboratory.intrinsic+json": {
              "type": "string"
            }
          },
          "metadata": {}
        },
        {
          "output_type": "display_data",
          "data": {
            "text/plain": [
              "                     q1                    q2  is_duplicate\n",
              "272872  feel like quora  feel like post quora             1"
            ],
            "text/html": [
              "\n",
              "  <div id=\"df-a98f76d0-6ff5-4813-b52b-aedaa2edfd64\">\n",
              "    <div class=\"colab-df-container\">\n",
              "      <div>\n",
              "<style scoped>\n",
              "    .dataframe tbody tr th:only-of-type {\n",
              "        vertical-align: middle;\n",
              "    }\n",
              "\n",
              "    .dataframe tbody tr th {\n",
              "        vertical-align: top;\n",
              "    }\n",
              "\n",
              "    .dataframe thead th {\n",
              "        text-align: right;\n",
              "    }\n",
              "</style>\n",
              "<table border=\"1\" class=\"dataframe\">\n",
              "  <thead>\n",
              "    <tr style=\"text-align: right;\">\n",
              "      <th></th>\n",
              "      <th>q1</th>\n",
              "      <th>q2</th>\n",
              "      <th>is_duplicate</th>\n",
              "    </tr>\n",
              "  </thead>\n",
              "  <tbody>\n",
              "    <tr>\n",
              "      <th>272872</th>\n",
              "      <td>feel like quora</td>\n",
              "      <td>feel like post quora</td>\n",
              "      <td>1</td>\n",
              "    </tr>\n",
              "  </tbody>\n",
              "</table>\n",
              "</div>\n",
              "      <button class=\"colab-df-convert\" onclick=\"convertToInteractive('df-a98f76d0-6ff5-4813-b52b-aedaa2edfd64')\"\n",
              "              title=\"Convert this dataframe to an interactive table.\"\n",
              "              style=\"display:none;\">\n",
              "        \n",
              "  <svg xmlns=\"http://www.w3.org/2000/svg\" height=\"24px\"viewBox=\"0 0 24 24\"\n",
              "       width=\"24px\">\n",
              "    <path d=\"M0 0h24v24H0V0z\" fill=\"none\"/>\n",
              "    <path d=\"M18.56 5.44l.94 2.06.94-2.06 2.06-.94-2.06-.94-.94-2.06-.94 2.06-2.06.94zm-11 1L8.5 8.5l.94-2.06 2.06-.94-2.06-.94L8.5 2.5l-.94 2.06-2.06.94zm10 10l.94 2.06.94-2.06 2.06-.94-2.06-.94-.94-2.06-.94 2.06-2.06.94z\"/><path d=\"M17.41 7.96l-1.37-1.37c-.4-.4-.92-.59-1.43-.59-.52 0-1.04.2-1.43.59L10.3 9.45l-7.72 7.72c-.78.78-.78 2.05 0 2.83L4 21.41c.39.39.9.59 1.41.59.51 0 1.02-.2 1.41-.59l7.78-7.78 2.81-2.81c.8-.78.8-2.07 0-2.86zM5.41 20L4 18.59l7.72-7.72 1.47 1.35L5.41 20z\"/>\n",
              "  </svg>\n",
              "      </button>\n",
              "      \n",
              "  <style>\n",
              "    .colab-df-container {\n",
              "      display:flex;\n",
              "      flex-wrap:wrap;\n",
              "      gap: 12px;\n",
              "    }\n",
              "\n",
              "    .colab-df-convert {\n",
              "      background-color: #E8F0FE;\n",
              "      border: none;\n",
              "      border-radius: 50%;\n",
              "      cursor: pointer;\n",
              "      display: none;\n",
              "      fill: #1967D2;\n",
              "      height: 32px;\n",
              "      padding: 0 0 0 0;\n",
              "      width: 32px;\n",
              "    }\n",
              "\n",
              "    .colab-df-convert:hover {\n",
              "      background-color: #E2EBFA;\n",
              "      box-shadow: 0px 1px 2px rgba(60, 64, 67, 0.3), 0px 1px 3px 1px rgba(60, 64, 67, 0.15);\n",
              "      fill: #174EA6;\n",
              "    }\n",
              "\n",
              "    [theme=dark] .colab-df-convert {\n",
              "      background-color: #3B4455;\n",
              "      fill: #D2E3FC;\n",
              "    }\n",
              "\n",
              "    [theme=dark] .colab-df-convert:hover {\n",
              "      background-color: #434B5C;\n",
              "      box-shadow: 0px 1px 3px 1px rgba(0, 0, 0, 0.15);\n",
              "      filter: drop-shadow(0px 1px 2px rgba(0, 0, 0, 0.3));\n",
              "      fill: #FFFFFF;\n",
              "    }\n",
              "  </style>\n",
              "\n",
              "      <script>\n",
              "        const buttonEl =\n",
              "          document.querySelector('#df-a98f76d0-6ff5-4813-b52b-aedaa2edfd64 button.colab-df-convert');\n",
              "        buttonEl.style.display =\n",
              "          google.colab.kernel.accessAllowed ? 'block' : 'none';\n",
              "\n",
              "        async function convertToInteractive(key) {\n",
              "          const element = document.querySelector('#df-a98f76d0-6ff5-4813-b52b-aedaa2edfd64');\n",
              "          const dataTable =\n",
              "            await google.colab.kernel.invokeFunction('convertToInteractive',\n",
              "                                                     [key], {});\n",
              "          if (!dataTable) return;\n",
              "\n",
              "          const docLinkHtml = 'Like what you see? Visit the ' +\n",
              "            '<a target=\"_blank\" href=https://colab.research.google.com/notebooks/data_table.ipynb>data table notebook</a>'\n",
              "            + ' to learn more about interactive tables.';\n",
              "          element.innerHTML = '';\n",
              "          dataTable['output_type'] = 'display_data';\n",
              "          await google.colab.output.renderOutput(dataTable, element);\n",
              "          const docLink = document.createElement('div');\n",
              "          docLink.innerHTML = docLinkHtml;\n",
              "          element.appendChild(docLink);\n",
              "        }\n",
              "      </script>\n",
              "    </div>\n",
              "  </div>\n",
              "  "
            ]
          },
          "metadata": {}
        },
        {
          "output_type": "display_data",
          "data": {
            "text/plain": [
              "'Without stopwords and stem, lemmatized'"
            ],
            "application/vnd.google.colaboratory.intrinsic+json": {
              "type": "string"
            }
          },
          "metadata": {}
        },
        {
          "output_type": "display_data",
          "data": {
            "text/plain": [
              "                     q1                    q2  is_duplicate\n",
              "272872  feel like quora  feel like post quora             1"
            ],
            "text/html": [
              "\n",
              "  <div id=\"df-bfa54c2f-2fc9-4b3a-985a-6a6033d4cbd8\">\n",
              "    <div class=\"colab-df-container\">\n",
              "      <div>\n",
              "<style scoped>\n",
              "    .dataframe tbody tr th:only-of-type {\n",
              "        vertical-align: middle;\n",
              "    }\n",
              "\n",
              "    .dataframe tbody tr th {\n",
              "        vertical-align: top;\n",
              "    }\n",
              "\n",
              "    .dataframe thead th {\n",
              "        text-align: right;\n",
              "    }\n",
              "</style>\n",
              "<table border=\"1\" class=\"dataframe\">\n",
              "  <thead>\n",
              "    <tr style=\"text-align: right;\">\n",
              "      <th></th>\n",
              "      <th>q1</th>\n",
              "      <th>q2</th>\n",
              "      <th>is_duplicate</th>\n",
              "    </tr>\n",
              "  </thead>\n",
              "  <tbody>\n",
              "    <tr>\n",
              "      <th>272872</th>\n",
              "      <td>feel like quora</td>\n",
              "      <td>feel like post quora</td>\n",
              "      <td>1</td>\n",
              "    </tr>\n",
              "  </tbody>\n",
              "</table>\n",
              "</div>\n",
              "      <button class=\"colab-df-convert\" onclick=\"convertToInteractive('df-bfa54c2f-2fc9-4b3a-985a-6a6033d4cbd8')\"\n",
              "              title=\"Convert this dataframe to an interactive table.\"\n",
              "              style=\"display:none;\">\n",
              "        \n",
              "  <svg xmlns=\"http://www.w3.org/2000/svg\" height=\"24px\"viewBox=\"0 0 24 24\"\n",
              "       width=\"24px\">\n",
              "    <path d=\"M0 0h24v24H0V0z\" fill=\"none\"/>\n",
              "    <path d=\"M18.56 5.44l.94 2.06.94-2.06 2.06-.94-2.06-.94-.94-2.06-.94 2.06-2.06.94zm-11 1L8.5 8.5l.94-2.06 2.06-.94-2.06-.94L8.5 2.5l-.94 2.06-2.06.94zm10 10l.94 2.06.94-2.06 2.06-.94-2.06-.94-.94-2.06-.94 2.06-2.06.94z\"/><path d=\"M17.41 7.96l-1.37-1.37c-.4-.4-.92-.59-1.43-.59-.52 0-1.04.2-1.43.59L10.3 9.45l-7.72 7.72c-.78.78-.78 2.05 0 2.83L4 21.41c.39.39.9.59 1.41.59.51 0 1.02-.2 1.41-.59l7.78-7.78 2.81-2.81c.8-.78.8-2.07 0-2.86zM5.41 20L4 18.59l7.72-7.72 1.47 1.35L5.41 20z\"/>\n",
              "  </svg>\n",
              "      </button>\n",
              "      \n",
              "  <style>\n",
              "    .colab-df-container {\n",
              "      display:flex;\n",
              "      flex-wrap:wrap;\n",
              "      gap: 12px;\n",
              "    }\n",
              "\n",
              "    .colab-df-convert {\n",
              "      background-color: #E8F0FE;\n",
              "      border: none;\n",
              "      border-radius: 50%;\n",
              "      cursor: pointer;\n",
              "      display: none;\n",
              "      fill: #1967D2;\n",
              "      height: 32px;\n",
              "      padding: 0 0 0 0;\n",
              "      width: 32px;\n",
              "    }\n",
              "\n",
              "    .colab-df-convert:hover {\n",
              "      background-color: #E2EBFA;\n",
              "      box-shadow: 0px 1px 2px rgba(60, 64, 67, 0.3), 0px 1px 3px 1px rgba(60, 64, 67, 0.15);\n",
              "      fill: #174EA6;\n",
              "    }\n",
              "\n",
              "    [theme=dark] .colab-df-convert {\n",
              "      background-color: #3B4455;\n",
              "      fill: #D2E3FC;\n",
              "    }\n",
              "\n",
              "    [theme=dark] .colab-df-convert:hover {\n",
              "      background-color: #434B5C;\n",
              "      box-shadow: 0px 1px 3px 1px rgba(0, 0, 0, 0.15);\n",
              "      filter: drop-shadow(0px 1px 2px rgba(0, 0, 0, 0.3));\n",
              "      fill: #FFFFFF;\n",
              "    }\n",
              "  </style>\n",
              "\n",
              "      <script>\n",
              "        const buttonEl =\n",
              "          document.querySelector('#df-bfa54c2f-2fc9-4b3a-985a-6a6033d4cbd8 button.colab-df-convert');\n",
              "        buttonEl.style.display =\n",
              "          google.colab.kernel.accessAllowed ? 'block' : 'none';\n",
              "\n",
              "        async function convertToInteractive(key) {\n",
              "          const element = document.querySelector('#df-bfa54c2f-2fc9-4b3a-985a-6a6033d4cbd8');\n",
              "          const dataTable =\n",
              "            await google.colab.kernel.invokeFunction('convertToInteractive',\n",
              "                                                     [key], {});\n",
              "          if (!dataTable) return;\n",
              "\n",
              "          const docLinkHtml = 'Like what you see? Visit the ' +\n",
              "            '<a target=\"_blank\" href=https://colab.research.google.com/notebooks/data_table.ipynb>data table notebook</a>'\n",
              "            + ' to learn more about interactive tables.';\n",
              "          element.innerHTML = '';\n",
              "          dataTable['output_type'] = 'display_data';\n",
              "          await google.colab.output.renderOutput(dataTable, element);\n",
              "          const docLink = document.createElement('div');\n",
              "          docLink.innerHTML = docLinkHtml;\n",
              "          element.appendChild(docLink);\n",
              "        }\n",
              "      </script>\n",
              "    </div>\n",
              "  </div>\n",
              "  "
            ]
          },
          "metadata": {}
        },
        {
          "output_type": "display_data",
          "data": {
            "text/plain": [
              "'Without stopwords and lemma, stemmed'"
            ],
            "application/vnd.google.colaboratory.intrinsic+json": {
              "type": "string"
            }
          },
          "metadata": {}
        },
        {
          "output_type": "display_data",
          "data": {
            "text/plain": [
              "                      q1                     q2  is_duplicate\n",
              "272872   feel like quora   feel like post quora             1"
            ],
            "text/html": [
              "\n",
              "  <div id=\"df-95b37a17-ea19-47c9-afa4-de2a8856c27d\">\n",
              "    <div class=\"colab-df-container\">\n",
              "      <div>\n",
              "<style scoped>\n",
              "    .dataframe tbody tr th:only-of-type {\n",
              "        vertical-align: middle;\n",
              "    }\n",
              "\n",
              "    .dataframe tbody tr th {\n",
              "        vertical-align: top;\n",
              "    }\n",
              "\n",
              "    .dataframe thead th {\n",
              "        text-align: right;\n",
              "    }\n",
              "</style>\n",
              "<table border=\"1\" class=\"dataframe\">\n",
              "  <thead>\n",
              "    <tr style=\"text-align: right;\">\n",
              "      <th></th>\n",
              "      <th>q1</th>\n",
              "      <th>q2</th>\n",
              "      <th>is_duplicate</th>\n",
              "    </tr>\n",
              "  </thead>\n",
              "  <tbody>\n",
              "    <tr>\n",
              "      <th>272872</th>\n",
              "      <td>feel like quora</td>\n",
              "      <td>feel like post quora</td>\n",
              "      <td>1</td>\n",
              "    </tr>\n",
              "  </tbody>\n",
              "</table>\n",
              "</div>\n",
              "      <button class=\"colab-df-convert\" onclick=\"convertToInteractive('df-95b37a17-ea19-47c9-afa4-de2a8856c27d')\"\n",
              "              title=\"Convert this dataframe to an interactive table.\"\n",
              "              style=\"display:none;\">\n",
              "        \n",
              "  <svg xmlns=\"http://www.w3.org/2000/svg\" height=\"24px\"viewBox=\"0 0 24 24\"\n",
              "       width=\"24px\">\n",
              "    <path d=\"M0 0h24v24H0V0z\" fill=\"none\"/>\n",
              "    <path d=\"M18.56 5.44l.94 2.06.94-2.06 2.06-.94-2.06-.94-.94-2.06-.94 2.06-2.06.94zm-11 1L8.5 8.5l.94-2.06 2.06-.94-2.06-.94L8.5 2.5l-.94 2.06-2.06.94zm10 10l.94 2.06.94-2.06 2.06-.94-2.06-.94-.94-2.06-.94 2.06-2.06.94z\"/><path d=\"M17.41 7.96l-1.37-1.37c-.4-.4-.92-.59-1.43-.59-.52 0-1.04.2-1.43.59L10.3 9.45l-7.72 7.72c-.78.78-.78 2.05 0 2.83L4 21.41c.39.39.9.59 1.41.59.51 0 1.02-.2 1.41-.59l7.78-7.78 2.81-2.81c.8-.78.8-2.07 0-2.86zM5.41 20L4 18.59l7.72-7.72 1.47 1.35L5.41 20z\"/>\n",
              "  </svg>\n",
              "      </button>\n",
              "      \n",
              "  <style>\n",
              "    .colab-df-container {\n",
              "      display:flex;\n",
              "      flex-wrap:wrap;\n",
              "      gap: 12px;\n",
              "    }\n",
              "\n",
              "    .colab-df-convert {\n",
              "      background-color: #E8F0FE;\n",
              "      border: none;\n",
              "      border-radius: 50%;\n",
              "      cursor: pointer;\n",
              "      display: none;\n",
              "      fill: #1967D2;\n",
              "      height: 32px;\n",
              "      padding: 0 0 0 0;\n",
              "      width: 32px;\n",
              "    }\n",
              "\n",
              "    .colab-df-convert:hover {\n",
              "      background-color: #E2EBFA;\n",
              "      box-shadow: 0px 1px 2px rgba(60, 64, 67, 0.3), 0px 1px 3px 1px rgba(60, 64, 67, 0.15);\n",
              "      fill: #174EA6;\n",
              "    }\n",
              "\n",
              "    [theme=dark] .colab-df-convert {\n",
              "      background-color: #3B4455;\n",
              "      fill: #D2E3FC;\n",
              "    }\n",
              "\n",
              "    [theme=dark] .colab-df-convert:hover {\n",
              "      background-color: #434B5C;\n",
              "      box-shadow: 0px 1px 3px 1px rgba(0, 0, 0, 0.15);\n",
              "      filter: drop-shadow(0px 1px 2px rgba(0, 0, 0, 0.3));\n",
              "      fill: #FFFFFF;\n",
              "    }\n",
              "  </style>\n",
              "\n",
              "      <script>\n",
              "        const buttonEl =\n",
              "          document.querySelector('#df-95b37a17-ea19-47c9-afa4-de2a8856c27d button.colab-df-convert');\n",
              "        buttonEl.style.display =\n",
              "          google.colab.kernel.accessAllowed ? 'block' : 'none';\n",
              "\n",
              "        async function convertToInteractive(key) {\n",
              "          const element = document.querySelector('#df-95b37a17-ea19-47c9-afa4-de2a8856c27d');\n",
              "          const dataTable =\n",
              "            await google.colab.kernel.invokeFunction('convertToInteractive',\n",
              "                                                     [key], {});\n",
              "          if (!dataTable) return;\n",
              "\n",
              "          const docLinkHtml = 'Like what you see? Visit the ' +\n",
              "            '<a target=\"_blank\" href=https://colab.research.google.com/notebooks/data_table.ipynb>data table notebook</a>'\n",
              "            + ' to learn more about interactive tables.';\n",
              "          element.innerHTML = '';\n",
              "          dataTable['output_type'] = 'display_data';\n",
              "          await google.colab.output.renderOutput(dataTable, element);\n",
              "          const docLink = document.createElement('div');\n",
              "          docLink.innerHTML = docLinkHtml;\n",
              "          element.appendChild(docLink);\n",
              "        }\n",
              "      </script>\n",
              "    </div>\n",
              "  </div>\n",
              "  "
            ]
          },
          "metadata": {}
        }
      ]
    },
    {
      "cell_type": "code",
      "source": [
        "# print('Value counts:\\n', X_sw_train['is_duplicate'].value_counts())\n",
        "# print('\\nPercent of labels value:\\n', X_sw_train['is_duplicate'].value_counts()/X_sw_train['is_duplicate'].count()*100)\n",
        "# X_sw_train['is_duplicate'].value_counts().plot(kind = 'bar')\n",
        "# plt.title('\\nDistribution of train labels', color = 'purple', size = 12)\n",
        "# plt.show()"
      ],
      "metadata": {
        "id": "pDav_LwGEmzm"
      },
      "execution_count": null,
      "outputs": []
    },
    {
      "cell_type": "code",
      "source": [
        "# print('Value counts:\\n', X_sw_test['is_duplicate'].value_counts())\n",
        "# print('\\nPercent of labels value:\\n', X_sw_test['is_duplicate'].value_counts()/X_sw_test['is_duplicate'].count()*100)\n",
        "# X_sw_test['is_duplicate'].value_counts().plot(kind = 'bar')\n",
        "# plt.title('\\nDistribution of test labels', color = 'purple', size = 12)\n",
        "# plt.show()"
      ],
      "metadata": {
        "id": "3_2e5g9UXY4Q"
      },
      "execution_count": null,
      "outputs": []
    },
    {
      "cell_type": "code",
      "source": [
        "# display (X_sw_train.head(2))\n",
        "# display(X_sw_test.head(2))\n",
        "# display(df_clean.head(2))"
      ],
      "metadata": {
        "id": "HGkjnpdXEoXd"
      },
      "execution_count": null,
      "outputs": []
    },
    {
      "cell_type": "code",
      "source": [
        "#X_sw_test[X_sw_test.isnull().any(axis=1)]"
      ],
      "metadata": {
        "id": "758pchOPXiy4"
      },
      "execution_count": null,
      "outputs": []
    },
    {
      "cell_type": "markdown",
      "source": [
        "### TOKENIZATION"
      ],
      "metadata": {
        "id": "Tkas5cGGBk-G"
      }
    },
    {
      "cell_type": "code",
      "source": [
        "def tokenization(text):\n",
        "    tokens = re.split(' ',text)\n",
        "    return tokens\n",
        "def token(text):\n",
        "    text = text.apply(lambda x: tokenization(x))\n",
        "    return text"
      ],
      "metadata": {
        "id": "05E4u-vAKISG"
      },
      "execution_count": null,
      "outputs": []
    },
    {
      "cell_type": "code",
      "source": [
        "#Tokenize - lemmatized data without stopwords\n",
        "df_lemma['q1'] = df_lemma['q1'].pipe(token) \n",
        "df_lemma['q2'] = df_lemma['q2'].pipe(token) \n",
        "df_lemma.head(2)"
      ],
      "metadata": {
        "colab": {
          "base_uri": "https://localhost:8080/",
          "height": 112
        },
        "id": "9-cgiLi0KsmR",
        "outputId": "62a68781-386b-4d7b-a40d-5dd78fcd52a4"
      },
      "execution_count": null,
      "outputs": [
        {
          "output_type": "execute_result",
          "data": {
            "text/plain": [
              "                                         q1                                q2  \\\n",
              "296968  [indian, lamborghini, usa, legally]  [study, usa, indian, good, idea]   \n",
              "236824                     [learn, english]                  [learn, english]   \n",
              "\n",
              "        is_duplicate  \n",
              "296968             0  \n",
              "236824             0  "
            ],
            "text/html": [
              "\n",
              "  <div id=\"df-025ca1b9-2ff5-4101-8010-506657a717e2\">\n",
              "    <div class=\"colab-df-container\">\n",
              "      <div>\n",
              "<style scoped>\n",
              "    .dataframe tbody tr th:only-of-type {\n",
              "        vertical-align: middle;\n",
              "    }\n",
              "\n",
              "    .dataframe tbody tr th {\n",
              "        vertical-align: top;\n",
              "    }\n",
              "\n",
              "    .dataframe thead th {\n",
              "        text-align: right;\n",
              "    }\n",
              "</style>\n",
              "<table border=\"1\" class=\"dataframe\">\n",
              "  <thead>\n",
              "    <tr style=\"text-align: right;\">\n",
              "      <th></th>\n",
              "      <th>q1</th>\n",
              "      <th>q2</th>\n",
              "      <th>is_duplicate</th>\n",
              "    </tr>\n",
              "  </thead>\n",
              "  <tbody>\n",
              "    <tr>\n",
              "      <th>296968</th>\n",
              "      <td>[indian, lamborghini, usa, legally]</td>\n",
              "      <td>[study, usa, indian, good, idea]</td>\n",
              "      <td>0</td>\n",
              "    </tr>\n",
              "    <tr>\n",
              "      <th>236824</th>\n",
              "      <td>[learn, english]</td>\n",
              "      <td>[learn, english]</td>\n",
              "      <td>0</td>\n",
              "    </tr>\n",
              "  </tbody>\n",
              "</table>\n",
              "</div>\n",
              "      <button class=\"colab-df-convert\" onclick=\"convertToInteractive('df-025ca1b9-2ff5-4101-8010-506657a717e2')\"\n",
              "              title=\"Convert this dataframe to an interactive table.\"\n",
              "              style=\"display:none;\">\n",
              "        \n",
              "  <svg xmlns=\"http://www.w3.org/2000/svg\" height=\"24px\"viewBox=\"0 0 24 24\"\n",
              "       width=\"24px\">\n",
              "    <path d=\"M0 0h24v24H0V0z\" fill=\"none\"/>\n",
              "    <path d=\"M18.56 5.44l.94 2.06.94-2.06 2.06-.94-2.06-.94-.94-2.06-.94 2.06-2.06.94zm-11 1L8.5 8.5l.94-2.06 2.06-.94-2.06-.94L8.5 2.5l-.94 2.06-2.06.94zm10 10l.94 2.06.94-2.06 2.06-.94-2.06-.94-.94-2.06-.94 2.06-2.06.94z\"/><path d=\"M17.41 7.96l-1.37-1.37c-.4-.4-.92-.59-1.43-.59-.52 0-1.04.2-1.43.59L10.3 9.45l-7.72 7.72c-.78.78-.78 2.05 0 2.83L4 21.41c.39.39.9.59 1.41.59.51 0 1.02-.2 1.41-.59l7.78-7.78 2.81-2.81c.8-.78.8-2.07 0-2.86zM5.41 20L4 18.59l7.72-7.72 1.47 1.35L5.41 20z\"/>\n",
              "  </svg>\n",
              "      </button>\n",
              "      \n",
              "  <style>\n",
              "    .colab-df-container {\n",
              "      display:flex;\n",
              "      flex-wrap:wrap;\n",
              "      gap: 12px;\n",
              "    }\n",
              "\n",
              "    .colab-df-convert {\n",
              "      background-color: #E8F0FE;\n",
              "      border: none;\n",
              "      border-radius: 50%;\n",
              "      cursor: pointer;\n",
              "      display: none;\n",
              "      fill: #1967D2;\n",
              "      height: 32px;\n",
              "      padding: 0 0 0 0;\n",
              "      width: 32px;\n",
              "    }\n",
              "\n",
              "    .colab-df-convert:hover {\n",
              "      background-color: #E2EBFA;\n",
              "      box-shadow: 0px 1px 2px rgba(60, 64, 67, 0.3), 0px 1px 3px 1px rgba(60, 64, 67, 0.15);\n",
              "      fill: #174EA6;\n",
              "    }\n",
              "\n",
              "    [theme=dark] .colab-df-convert {\n",
              "      background-color: #3B4455;\n",
              "      fill: #D2E3FC;\n",
              "    }\n",
              "\n",
              "    [theme=dark] .colab-df-convert:hover {\n",
              "      background-color: #434B5C;\n",
              "      box-shadow: 0px 1px 3px 1px rgba(0, 0, 0, 0.15);\n",
              "      filter: drop-shadow(0px 1px 2px rgba(0, 0, 0, 0.3));\n",
              "      fill: #FFFFFF;\n",
              "    }\n",
              "  </style>\n",
              "\n",
              "      <script>\n",
              "        const buttonEl =\n",
              "          document.querySelector('#df-025ca1b9-2ff5-4101-8010-506657a717e2 button.colab-df-convert');\n",
              "        buttonEl.style.display =\n",
              "          google.colab.kernel.accessAllowed ? 'block' : 'none';\n",
              "\n",
              "        async function convertToInteractive(key) {\n",
              "          const element = document.querySelector('#df-025ca1b9-2ff5-4101-8010-506657a717e2');\n",
              "          const dataTable =\n",
              "            await google.colab.kernel.invokeFunction('convertToInteractive',\n",
              "                                                     [key], {});\n",
              "          if (!dataTable) return;\n",
              "\n",
              "          const docLinkHtml = 'Like what you see? Visit the ' +\n",
              "            '<a target=\"_blank\" href=https://colab.research.google.com/notebooks/data_table.ipynb>data table notebook</a>'\n",
              "            + ' to learn more about interactive tables.';\n",
              "          element.innerHTML = '';\n",
              "          dataTable['output_type'] = 'display_data';\n",
              "          await google.colab.output.renderOutput(dataTable, element);\n",
              "          const docLink = document.createElement('div');\n",
              "          docLink.innerHTML = docLinkHtml;\n",
              "          element.appendChild(docLink);\n",
              "        }\n",
              "      </script>\n",
              "    </div>\n",
              "  </div>\n",
              "  "
            ]
          },
          "metadata": {},
          "execution_count": 43
        }
      ]
    },
    {
      "cell_type": "code",
      "source": [
        "# Tokenize - lemmatized data with stopwords\n",
        "df_sw_lemma['q1'] = df_sw_lemma['q1'].pipe(token) \n",
        "df_sw_lemma['q2'] = df_sw_lemma['q2'].pipe(token) \n",
        "df_sw_lemma.head(2)"
      ],
      "metadata": {
        "id": "0OBQgw2Sp9qL"
      },
      "execution_count": null,
      "outputs": []
    },
    {
      "cell_type": "code",
      "source": [
        "# Tokenize - Stemmed data with stopwords\n",
        "df_sw_stem['q1'] = df_sw_stem['q1'].pipe(token) \n",
        "df_sw_stem['q2'] = df_sw_stem['q2'].pipe(token) \n",
        "df_sw_stem.head(2)"
      ],
      "metadata": {
        "id": "oST0zN9yp2vX",
        "colab": {
          "base_uri": "https://localhost:8080/",
          "height": 112
        },
        "outputId": "4aacef5e-4a96-4707-8de7-5fea7db525d6"
      },
      "execution_count": null,
      "outputs": [
        {
          "output_type": "execute_result",
          "data": {
            "text/plain": [
              "                                                       q1  \\\n",
              "11965   [, what, is, the, list, of, job, titl, at, rsm...   \n",
              "342404  [, should, peopl, over, 94, not, be, allow, to...   \n",
              "\n",
              "                                                       q2  is_duplicate  \n",
              "11965   [, which, countri, is, the, best, to, work, in...             0  \n",
              "342404  [, should, peopl, over, 97, not, be, allow, to...             1  "
            ],
            "text/html": [
              "\n",
              "  <div id=\"df-5c7f6d77-7031-44ac-ae9b-67c71626d526\">\n",
              "    <div class=\"colab-df-container\">\n",
              "      <div>\n",
              "<style scoped>\n",
              "    .dataframe tbody tr th:only-of-type {\n",
              "        vertical-align: middle;\n",
              "    }\n",
              "\n",
              "    .dataframe tbody tr th {\n",
              "        vertical-align: top;\n",
              "    }\n",
              "\n",
              "    .dataframe thead th {\n",
              "        text-align: right;\n",
              "    }\n",
              "</style>\n",
              "<table border=\"1\" class=\"dataframe\">\n",
              "  <thead>\n",
              "    <tr style=\"text-align: right;\">\n",
              "      <th></th>\n",
              "      <th>q1</th>\n",
              "      <th>q2</th>\n",
              "      <th>is_duplicate</th>\n",
              "    </tr>\n",
              "  </thead>\n",
              "  <tbody>\n",
              "    <tr>\n",
              "      <th>11965</th>\n",
              "      <td>[, what, is, the, list, of, job, titl, at, rsm...</td>\n",
              "      <td>[, which, countri, is, the, best, to, work, in...</td>\n",
              "      <td>0</td>\n",
              "    </tr>\n",
              "    <tr>\n",
              "      <th>342404</th>\n",
              "      <td>[, should, peopl, over, 94, not, be, allow, to...</td>\n",
              "      <td>[, should, peopl, over, 97, not, be, allow, to...</td>\n",
              "      <td>1</td>\n",
              "    </tr>\n",
              "  </tbody>\n",
              "</table>\n",
              "</div>\n",
              "      <button class=\"colab-df-convert\" onclick=\"convertToInteractive('df-5c7f6d77-7031-44ac-ae9b-67c71626d526')\"\n",
              "              title=\"Convert this dataframe to an interactive table.\"\n",
              "              style=\"display:none;\">\n",
              "        \n",
              "  <svg xmlns=\"http://www.w3.org/2000/svg\" height=\"24px\"viewBox=\"0 0 24 24\"\n",
              "       width=\"24px\">\n",
              "    <path d=\"M0 0h24v24H0V0z\" fill=\"none\"/>\n",
              "    <path d=\"M18.56 5.44l.94 2.06.94-2.06 2.06-.94-2.06-.94-.94-2.06-.94 2.06-2.06.94zm-11 1L8.5 8.5l.94-2.06 2.06-.94-2.06-.94L8.5 2.5l-.94 2.06-2.06.94zm10 10l.94 2.06.94-2.06 2.06-.94-2.06-.94-.94-2.06-.94 2.06-2.06.94z\"/><path d=\"M17.41 7.96l-1.37-1.37c-.4-.4-.92-.59-1.43-.59-.52 0-1.04.2-1.43.59L10.3 9.45l-7.72 7.72c-.78.78-.78 2.05 0 2.83L4 21.41c.39.39.9.59 1.41.59.51 0 1.02-.2 1.41-.59l7.78-7.78 2.81-2.81c.8-.78.8-2.07 0-2.86zM5.41 20L4 18.59l7.72-7.72 1.47 1.35L5.41 20z\"/>\n",
              "  </svg>\n",
              "      </button>\n",
              "      \n",
              "  <style>\n",
              "    .colab-df-container {\n",
              "      display:flex;\n",
              "      flex-wrap:wrap;\n",
              "      gap: 12px;\n",
              "    }\n",
              "\n",
              "    .colab-df-convert {\n",
              "      background-color: #E8F0FE;\n",
              "      border: none;\n",
              "      border-radius: 50%;\n",
              "      cursor: pointer;\n",
              "      display: none;\n",
              "      fill: #1967D2;\n",
              "      height: 32px;\n",
              "      padding: 0 0 0 0;\n",
              "      width: 32px;\n",
              "    }\n",
              "\n",
              "    .colab-df-convert:hover {\n",
              "      background-color: #E2EBFA;\n",
              "      box-shadow: 0px 1px 2px rgba(60, 64, 67, 0.3), 0px 1px 3px 1px rgba(60, 64, 67, 0.15);\n",
              "      fill: #174EA6;\n",
              "    }\n",
              "\n",
              "    [theme=dark] .colab-df-convert {\n",
              "      background-color: #3B4455;\n",
              "      fill: #D2E3FC;\n",
              "    }\n",
              "\n",
              "    [theme=dark] .colab-df-convert:hover {\n",
              "      background-color: #434B5C;\n",
              "      box-shadow: 0px 1px 3px 1px rgba(0, 0, 0, 0.15);\n",
              "      filter: drop-shadow(0px 1px 2px rgba(0, 0, 0, 0.3));\n",
              "      fill: #FFFFFF;\n",
              "    }\n",
              "  </style>\n",
              "\n",
              "      <script>\n",
              "        const buttonEl =\n",
              "          document.querySelector('#df-5c7f6d77-7031-44ac-ae9b-67c71626d526 button.colab-df-convert');\n",
              "        buttonEl.style.display =\n",
              "          google.colab.kernel.accessAllowed ? 'block' : 'none';\n",
              "\n",
              "        async function convertToInteractive(key) {\n",
              "          const element = document.querySelector('#df-5c7f6d77-7031-44ac-ae9b-67c71626d526');\n",
              "          const dataTable =\n",
              "            await google.colab.kernel.invokeFunction('convertToInteractive',\n",
              "                                                     [key], {});\n",
              "          if (!dataTable) return;\n",
              "\n",
              "          const docLinkHtml = 'Like what you see? Visit the ' +\n",
              "            '<a target=\"_blank\" href=https://colab.research.google.com/notebooks/data_table.ipynb>data table notebook</a>'\n",
              "            + ' to learn more about interactive tables.';\n",
              "          element.innerHTML = '';\n",
              "          dataTable['output_type'] = 'display_data';\n",
              "          await google.colab.output.renderOutput(dataTable, element);\n",
              "          const docLink = document.createElement('div');\n",
              "          docLink.innerHTML = docLinkHtml;\n",
              "          element.appendChild(docLink);\n",
              "        }\n",
              "      </script>\n",
              "    </div>\n",
              "  </div>\n",
              "  "
            ]
          },
          "metadata": {},
          "execution_count": 15
        }
      ]
    },
    {
      "cell_type": "code",
      "source": [
        "# Tokenize - Stemmed data without stopwords\n",
        "df_stem['q1'] = df_stem['q1'].pipe(token) \n",
        "df_stem['q2'] = df_stem['q2'].pipe(token) \n",
        "df_stem.head(2)"
      ],
      "metadata": {
        "colab": {
          "base_uri": "https://localhost:8080/",
          "height": 112
        },
        "id": "7IGKOueUSbnc",
        "outputId": "7361fee1-08d6-47e3-f950-3e2ed7df22fb"
      },
      "execution_count": null,
      "outputs": [
        {
          "output_type": "execute_result",
          "data": {
            "text/plain": [
              "                                                       q1  \\\n",
              "327246  [, can, i, regist, my, startup, compani, in, t...   \n",
              "26328   [, what, is, a, good, entrylevel, job, in, the...   \n",
              "\n",
              "                                                       q2  is_duplicate  \n",
              "327246  [, can, i, start, a, compani, in, the, us, wit...             1  \n",
              "26328   [, what, are, the, best, entri, level, job, in...             0  "
            ],
            "text/html": [
              "\n",
              "  <div id=\"df-68f7ab80-0319-446d-a0b8-1469bf0e2c81\">\n",
              "    <div class=\"colab-df-container\">\n",
              "      <div>\n",
              "<style scoped>\n",
              "    .dataframe tbody tr th:only-of-type {\n",
              "        vertical-align: middle;\n",
              "    }\n",
              "\n",
              "    .dataframe tbody tr th {\n",
              "        vertical-align: top;\n",
              "    }\n",
              "\n",
              "    .dataframe thead th {\n",
              "        text-align: right;\n",
              "    }\n",
              "</style>\n",
              "<table border=\"1\" class=\"dataframe\">\n",
              "  <thead>\n",
              "    <tr style=\"text-align: right;\">\n",
              "      <th></th>\n",
              "      <th>q1</th>\n",
              "      <th>q2</th>\n",
              "      <th>is_duplicate</th>\n",
              "    </tr>\n",
              "  </thead>\n",
              "  <tbody>\n",
              "    <tr>\n",
              "      <th>327246</th>\n",
              "      <td>[, can, i, regist, my, startup, compani, in, t...</td>\n",
              "      <td>[, can, i, start, a, compani, in, the, us, wit...</td>\n",
              "      <td>1</td>\n",
              "    </tr>\n",
              "    <tr>\n",
              "      <th>26328</th>\n",
              "      <td>[, what, is, a, good, entrylevel, job, in, the...</td>\n",
              "      <td>[, what, are, the, best, entri, level, job, in...</td>\n",
              "      <td>0</td>\n",
              "    </tr>\n",
              "  </tbody>\n",
              "</table>\n",
              "</div>\n",
              "      <button class=\"colab-df-convert\" onclick=\"convertToInteractive('df-68f7ab80-0319-446d-a0b8-1469bf0e2c81')\"\n",
              "              title=\"Convert this dataframe to an interactive table.\"\n",
              "              style=\"display:none;\">\n",
              "        \n",
              "  <svg xmlns=\"http://www.w3.org/2000/svg\" height=\"24px\"viewBox=\"0 0 24 24\"\n",
              "       width=\"24px\">\n",
              "    <path d=\"M0 0h24v24H0V0z\" fill=\"none\"/>\n",
              "    <path d=\"M18.56 5.44l.94 2.06.94-2.06 2.06-.94-2.06-.94-.94-2.06-.94 2.06-2.06.94zm-11 1L8.5 8.5l.94-2.06 2.06-.94-2.06-.94L8.5 2.5l-.94 2.06-2.06.94zm10 10l.94 2.06.94-2.06 2.06-.94-2.06-.94-.94-2.06-.94 2.06-2.06.94z\"/><path d=\"M17.41 7.96l-1.37-1.37c-.4-.4-.92-.59-1.43-.59-.52 0-1.04.2-1.43.59L10.3 9.45l-7.72 7.72c-.78.78-.78 2.05 0 2.83L4 21.41c.39.39.9.59 1.41.59.51 0 1.02-.2 1.41-.59l7.78-7.78 2.81-2.81c.8-.78.8-2.07 0-2.86zM5.41 20L4 18.59l7.72-7.72 1.47 1.35L5.41 20z\"/>\n",
              "  </svg>\n",
              "      </button>\n",
              "      \n",
              "  <style>\n",
              "    .colab-df-container {\n",
              "      display:flex;\n",
              "      flex-wrap:wrap;\n",
              "      gap: 12px;\n",
              "    }\n",
              "\n",
              "    .colab-df-convert {\n",
              "      background-color: #E8F0FE;\n",
              "      border: none;\n",
              "      border-radius: 50%;\n",
              "      cursor: pointer;\n",
              "      display: none;\n",
              "      fill: #1967D2;\n",
              "      height: 32px;\n",
              "      padding: 0 0 0 0;\n",
              "      width: 32px;\n",
              "    }\n",
              "\n",
              "    .colab-df-convert:hover {\n",
              "      background-color: #E2EBFA;\n",
              "      box-shadow: 0px 1px 2px rgba(60, 64, 67, 0.3), 0px 1px 3px 1px rgba(60, 64, 67, 0.15);\n",
              "      fill: #174EA6;\n",
              "    }\n",
              "\n",
              "    [theme=dark] .colab-df-convert {\n",
              "      background-color: #3B4455;\n",
              "      fill: #D2E3FC;\n",
              "    }\n",
              "\n",
              "    [theme=dark] .colab-df-convert:hover {\n",
              "      background-color: #434B5C;\n",
              "      box-shadow: 0px 1px 3px 1px rgba(0, 0, 0, 0.15);\n",
              "      filter: drop-shadow(0px 1px 2px rgba(0, 0, 0, 0.3));\n",
              "      fill: #FFFFFF;\n",
              "    }\n",
              "  </style>\n",
              "\n",
              "      <script>\n",
              "        const buttonEl =\n",
              "          document.querySelector('#df-68f7ab80-0319-446d-a0b8-1469bf0e2c81 button.colab-df-convert');\n",
              "        buttonEl.style.display =\n",
              "          google.colab.kernel.accessAllowed ? 'block' : 'none';\n",
              "\n",
              "        async function convertToInteractive(key) {\n",
              "          const element = document.querySelector('#df-68f7ab80-0319-446d-a0b8-1469bf0e2c81');\n",
              "          const dataTable =\n",
              "            await google.colab.kernel.invokeFunction('convertToInteractive',\n",
              "                                                     [key], {});\n",
              "          if (!dataTable) return;\n",
              "\n",
              "          const docLinkHtml = 'Like what you see? Visit the ' +\n",
              "            '<a target=\"_blank\" href=https://colab.research.google.com/notebooks/data_table.ipynb>data table notebook</a>'\n",
              "            + ' to learn more about interactive tables.';\n",
              "          element.innerHTML = '';\n",
              "          dataTable['output_type'] = 'display_data';\n",
              "          await google.colab.output.renderOutput(dataTable, element);\n",
              "          const docLink = document.createElement('div');\n",
              "          docLink.innerHTML = docLinkHtml;\n",
              "          element.appendChild(docLink);\n",
              "        }\n",
              "      </script>\n",
              "    </div>\n",
              "  </div>\n",
              "  "
            ]
          },
          "metadata": {},
          "execution_count": 58
        }
      ]
    },
    {
      "cell_type": "code",
      "source": [
        "# Tokenize - With stopwords, not lemmatized nor stemmed\n",
        "df_sw['q1'] = df_sw['q1'].pipe(token) \n",
        "df_sw['q2'] = df_sw['q2'].pipe(token) \n",
        "df_stem.head(2)"
      ],
      "metadata": {
        "id": "aMHmrhBfpbb7"
      },
      "execution_count": null,
      "outputs": []
    },
    {
      "cell_type": "code",
      "source": [
        "# Tokenize - Without stopwords, not lemmatized nor stemmed\n",
        "df_out['q1'] = df_out['q1'].pipe(token) \n",
        "df_out['q2'] = df_out['q2'].pipe(token) \n",
        "df_out.head(2)"
      ],
      "metadata": {
        "colab": {
          "base_uri": "https://localhost:8080/",
          "height": 224
        },
        "id": "mOIFw09PplSu",
        "outputId": "d9f12f16-5354-4fba-807f-61ad0b92fa6e"
      },
      "execution_count": null,
      "outputs": [
        {
          "output_type": "error",
          "ename": "NameError",
          "evalue": "ignored",
          "traceback": [
            "\u001b[0;31m---------------------------------------------------------------------------\u001b[0m",
            "\u001b[0;31mNameError\u001b[0m                                 Traceback (most recent call last)",
            "\u001b[0;32m<ipython-input-74-c8ddd266603c>\u001b[0m in \u001b[0;36m<module>\u001b[0;34m\u001b[0m\n\u001b[1;32m      1\u001b[0m \u001b[0;31m# Tokenize - Without stopwords, not lemmatized nor stemmed\u001b[0m\u001b[0;34m\u001b[0m\u001b[0;34m\u001b[0m\u001b[0;34m\u001b[0m\u001b[0m\n\u001b[0;32m----> 2\u001b[0;31m \u001b[0mdf_token_out\u001b[0m\u001b[0;34m[\u001b[0m\u001b[0;34m'q1'\u001b[0m\u001b[0;34m]\u001b[0m \u001b[0;34m=\u001b[0m \u001b[0mdf_out\u001b[0m\u001b[0;34m[\u001b[0m\u001b[0;34m'q1'\u001b[0m\u001b[0;34m]\u001b[0m\u001b[0;34m.\u001b[0m\u001b[0mpipe\u001b[0m\u001b[0;34m(\u001b[0m\u001b[0mtoken\u001b[0m\u001b[0;34m)\u001b[0m\u001b[0;34m\u001b[0m\u001b[0;34m\u001b[0m\u001b[0m\n\u001b[0m\u001b[1;32m      3\u001b[0m \u001b[0mdf_token_out\u001b[0m\u001b[0;34m[\u001b[0m\u001b[0;34m'q2'\u001b[0m\u001b[0;34m]\u001b[0m \u001b[0;34m=\u001b[0m \u001b[0mdf_out\u001b[0m\u001b[0;34m[\u001b[0m\u001b[0;34m'q2'\u001b[0m\u001b[0;34m]\u001b[0m\u001b[0;34m.\u001b[0m\u001b[0mpipe\u001b[0m\u001b[0;34m(\u001b[0m\u001b[0mtoken\u001b[0m\u001b[0;34m)\u001b[0m\u001b[0;34m\u001b[0m\u001b[0;34m\u001b[0m\u001b[0m\n\u001b[1;32m      4\u001b[0m \u001b[0mdf_token_out\u001b[0m\u001b[0;34m.\u001b[0m\u001b[0mhead\u001b[0m\u001b[0;34m(\u001b[0m\u001b[0;36m2\u001b[0m\u001b[0;34m)\u001b[0m\u001b[0;34m\u001b[0m\u001b[0;34m\u001b[0m\u001b[0m\n",
            "\u001b[0;31mNameError\u001b[0m: name 'df_token_out' is not defined"
          ]
        }
      ]
    },
    {
      "cell_type": "code",
      "source": [
        "df_sw_lemma.head(2)"
      ],
      "metadata": {
        "colab": {
          "base_uri": "https://localhost:8080/",
          "height": 112
        },
        "id": "rKqo_jv7upuE",
        "outputId": "52d13564-6afe-4856-ed0a-d217e937bea6"
      },
      "execution_count": null,
      "outputs": [
        {
          "output_type": "execute_result",
          "data": {
            "text/plain": [
              "                                                      q1  \\\n",
              "82361                            who invent wash machine   \n",
              "12785  be hack a crime when someone do it to earn mon...   \n",
              "\n",
              "                                                      q2  is_duplicate  \n",
              "82361                     who invent the washing machine             1  \n",
              "12785  what do pakistani girl look for in a guy objec...             0  "
            ],
            "text/html": [
              "\n",
              "  <div id=\"df-ffebc1a2-f4bd-44b0-82eb-6d93e636b94b\">\n",
              "    <div class=\"colab-df-container\">\n",
              "      <div>\n",
              "<style scoped>\n",
              "    .dataframe tbody tr th:only-of-type {\n",
              "        vertical-align: middle;\n",
              "    }\n",
              "\n",
              "    .dataframe tbody tr th {\n",
              "        vertical-align: top;\n",
              "    }\n",
              "\n",
              "    .dataframe thead th {\n",
              "        text-align: right;\n",
              "    }\n",
              "</style>\n",
              "<table border=\"1\" class=\"dataframe\">\n",
              "  <thead>\n",
              "    <tr style=\"text-align: right;\">\n",
              "      <th></th>\n",
              "      <th>q1</th>\n",
              "      <th>q2</th>\n",
              "      <th>is_duplicate</th>\n",
              "    </tr>\n",
              "  </thead>\n",
              "  <tbody>\n",
              "    <tr>\n",
              "      <th>82361</th>\n",
              "      <td>who invent wash machine</td>\n",
              "      <td>who invent the washing machine</td>\n",
              "      <td>1</td>\n",
              "    </tr>\n",
              "    <tr>\n",
              "      <th>12785</th>\n",
              "      <td>be hack a crime when someone do it to earn mon...</td>\n",
              "      <td>what do pakistani girl look for in a guy objec...</td>\n",
              "      <td>0</td>\n",
              "    </tr>\n",
              "  </tbody>\n",
              "</table>\n",
              "</div>\n",
              "      <button class=\"colab-df-convert\" onclick=\"convertToInteractive('df-ffebc1a2-f4bd-44b0-82eb-6d93e636b94b')\"\n",
              "              title=\"Convert this dataframe to an interactive table.\"\n",
              "              style=\"display:none;\">\n",
              "        \n",
              "  <svg xmlns=\"http://www.w3.org/2000/svg\" height=\"24px\"viewBox=\"0 0 24 24\"\n",
              "       width=\"24px\">\n",
              "    <path d=\"M0 0h24v24H0V0z\" fill=\"none\"/>\n",
              "    <path d=\"M18.56 5.44l.94 2.06.94-2.06 2.06-.94-2.06-.94-.94-2.06-.94 2.06-2.06.94zm-11 1L8.5 8.5l.94-2.06 2.06-.94-2.06-.94L8.5 2.5l-.94 2.06-2.06.94zm10 10l.94 2.06.94-2.06 2.06-.94-2.06-.94-.94-2.06-.94 2.06-2.06.94z\"/><path d=\"M17.41 7.96l-1.37-1.37c-.4-.4-.92-.59-1.43-.59-.52 0-1.04.2-1.43.59L10.3 9.45l-7.72 7.72c-.78.78-.78 2.05 0 2.83L4 21.41c.39.39.9.59 1.41.59.51 0 1.02-.2 1.41-.59l7.78-7.78 2.81-2.81c.8-.78.8-2.07 0-2.86zM5.41 20L4 18.59l7.72-7.72 1.47 1.35L5.41 20z\"/>\n",
              "  </svg>\n",
              "      </button>\n",
              "      \n",
              "  <style>\n",
              "    .colab-df-container {\n",
              "      display:flex;\n",
              "      flex-wrap:wrap;\n",
              "      gap: 12px;\n",
              "    }\n",
              "\n",
              "    .colab-df-convert {\n",
              "      background-color: #E8F0FE;\n",
              "      border: none;\n",
              "      border-radius: 50%;\n",
              "      cursor: pointer;\n",
              "      display: none;\n",
              "      fill: #1967D2;\n",
              "      height: 32px;\n",
              "      padding: 0 0 0 0;\n",
              "      width: 32px;\n",
              "    }\n",
              "\n",
              "    .colab-df-convert:hover {\n",
              "      background-color: #E2EBFA;\n",
              "      box-shadow: 0px 1px 2px rgba(60, 64, 67, 0.3), 0px 1px 3px 1px rgba(60, 64, 67, 0.15);\n",
              "      fill: #174EA6;\n",
              "    }\n",
              "\n",
              "    [theme=dark] .colab-df-convert {\n",
              "      background-color: #3B4455;\n",
              "      fill: #D2E3FC;\n",
              "    }\n",
              "\n",
              "    [theme=dark] .colab-df-convert:hover {\n",
              "      background-color: #434B5C;\n",
              "      box-shadow: 0px 1px 3px 1px rgba(0, 0, 0, 0.15);\n",
              "      filter: drop-shadow(0px 1px 2px rgba(0, 0, 0, 0.3));\n",
              "      fill: #FFFFFF;\n",
              "    }\n",
              "  </style>\n",
              "\n",
              "      <script>\n",
              "        const buttonEl =\n",
              "          document.querySelector('#df-ffebc1a2-f4bd-44b0-82eb-6d93e636b94b button.colab-df-convert');\n",
              "        buttonEl.style.display =\n",
              "          google.colab.kernel.accessAllowed ? 'block' : 'none';\n",
              "\n",
              "        async function convertToInteractive(key) {\n",
              "          const element = document.querySelector('#df-ffebc1a2-f4bd-44b0-82eb-6d93e636b94b');\n",
              "          const dataTable =\n",
              "            await google.colab.kernel.invokeFunction('convertToInteractive',\n",
              "                                                     [key], {});\n",
              "          if (!dataTable) return;\n",
              "\n",
              "          const docLinkHtml = 'Like what you see? Visit the ' +\n",
              "            '<a target=\"_blank\" href=https://colab.research.google.com/notebooks/data_table.ipynb>data table notebook</a>'\n",
              "            + ' to learn more about interactive tables.';\n",
              "          element.innerHTML = '';\n",
              "          dataTable['output_type'] = 'display_data';\n",
              "          await google.colab.output.renderOutput(dataTable, element);\n",
              "          const docLink = document.createElement('div');\n",
              "          docLink.innerHTML = docLinkHtml;\n",
              "          element.appendChild(docLink);\n",
              "        }\n",
              "      </script>\n",
              "    </div>\n",
              "  </div>\n",
              "  "
            ]
          },
          "metadata": {},
          "execution_count": 76
        }
      ]
    },
    {
      "cell_type": "markdown",
      "source": [
        "# Doc2Vec function"
      ],
      "metadata": {
        "id": "3S2Ypm0hqKUq"
      }
    },
    {
      "cell_type": "code",
      "source": [
        "from gensim.models.doc2vec import Doc2Vec, TaggedDocument\n",
        "def doc2vec(df):\n",
        "  q1 = [TaggedDocument(d, [i]) for i, d in enumerate(df['q1'])]\n",
        "  q2 = [TaggedDocument(d, [i]) for i, d in enumerate(df['q2'])]\n",
        "  return q1, q2"
      ],
      "metadata": {
        "id": "mUvNpFMKqSkP"
      },
      "execution_count": 17,
      "outputs": []
    },
    {
      "cell_type": "code",
      "source": [
        "def model_doc2vec(q1, dm, vector, window, epochs):\n",
        "  q1 = Doc2Vec(q1, dm = dm, vector_size = vector, window = window, min_count = 2, epochs = epochs)\n",
        "  return q1"
      ],
      "metadata": {
        "id": "DI9pvKAVseUy"
      },
      "execution_count": 117,
      "outputs": []
    },
    {
      "cell_type": "markdown",
      "source": [
        "### Run Doc2Vec Function"
      ],
      "metadata": {
        "id": "3jTAR0XNxm4g"
      }
    },
    {
      "cell_type": "code",
      "source": [
        "#lemmatized, without stopwords\n",
        "q1_lemma_d2v, q2_lemma_d2v = doc2vec(df_lemma)\n",
        "assert len(q1_lemma_d2v) == len(q2_lemma_d2v)"
      ],
      "metadata": {
        "id": "eNIW8JQlxzeb"
      },
      "execution_count": 19,
      "outputs": []
    },
    {
      "cell_type": "code",
      "source": [
        "#q1_lemma_d2v"
      ],
      "metadata": {
        "id": "sz7ReGHXL4p6"
      },
      "execution_count": null,
      "outputs": []
    },
    {
      "cell_type": "code",
      "source": [
        "#lemmatized with stopwords\n",
        "q1_sw_lemma_d2v, q2_sw_lemma_d2v = doc2vec(df_sw_lemma)\n",
        "assert len(q1_sw_lemma_d2v) == len(q2_sw_lemma_d2v)"
      ],
      "metadata": {
        "id": "bFWM_faxyGCL"
      },
      "execution_count": 20,
      "outputs": []
    },
    {
      "cell_type": "code",
      "source": [
        "#Stemmed without stopwords\n",
        "q1_stem_d2v, q2_stem_d2v = doc2vec(df_stem)\n",
        "assert len(q1_stem_d2v) == len(q2_stem_d2v)"
      ],
      "metadata": {
        "id": "0-QZvc5Sx88k"
      },
      "execution_count": 23,
      "outputs": []
    },
    {
      "cell_type": "code",
      "source": [
        "#Stemmed with stopwords\n",
        "q1_sw_stem_d2v, q2_sw_stem_d2v = doc2vec(df_sw_stem)\n",
        "assert len(q1_sw_stem_d2v) == len(q2_sw_stem_d2v)"
      ],
      "metadata": {
        "id": "aPizJEgayCVz"
      },
      "execution_count": 24,
      "outputs": []
    },
    {
      "cell_type": "code",
      "source": [
        "#With Stopwords, not lemmatized, not stemmed\n",
        "q1_sw_d2v, q2_sw_d2v = doc2vec(df_sw)\n",
        "assert len(q1_sw_d2v) == len(q2_sw_d2v)"
      ],
      "metadata": {
        "id": "oFwzTiP6xqly"
      },
      "execution_count": 93,
      "outputs": []
    },
    {
      "cell_type": "code",
      "source": [
        "#Without stopwords, not lemmatized, not stemmed \n",
        "q1_out_d2v, q2_out_d2v = doc2vec(df_out)\n",
        "assert len(q1_out_d2v) == len(q2_out_d2v)"
      ],
      "metadata": {
        "id": "iBdztD6MxkWq"
      },
      "execution_count": 26,
      "outputs": []
    },
    {
      "cell_type": "markdown",
      "source": [
        "### Activating Doc2Vec model"
      ],
      "metadata": {
        "id": "pTJYpxOJzIcc"
      }
    },
    {
      "cell_type": "code",
      "source": [
        "#PARAMETER FOR DOC2VEC MODEL \n",
        "dm = 1\n",
        "window = 3\n",
        "vector = 100\n",
        "epochs = 50"
      ],
      "metadata": {
        "id": "9rLS83NPtOdV"
      },
      "execution_count": 150,
      "outputs": []
    },
    {
      "cell_type": "code",
      "source": [
        "#lemmatized, without stopwords\n",
        "X_q1_lemma_d2v = model_doc2vec(q1_lemma_d2v, dm, vector, window, epochs)\n",
        "X_q2_lemma_d2v = model_doc2vec(q2_lemma_d2v, dm,  vector, window, epochs)"
      ],
      "metadata": {
        "id": "YkmAVk10zOK0",
        "colab": {
          "base_uri": "https://localhost:8080/"
        },
        "outputId": "5ce810c9-d0a6-4e3b-d5c8-8c9cff308584"
      },
      "execution_count": 151,
      "outputs": [
        {
          "output_type": "stream",
          "name": "stderr",
          "text": [
            "WARNING:gensim.models.doc2vec:Each 'words' should be a list of words (usually unicode strings). First 'words' here is instead plain <class 'str'>.\n",
            "WARNING:gensim.models.doc2vec:Each 'words' should be a list of words (usually unicode strings). First 'words' here is instead plain <class 'str'>.\n"
          ]
        }
      ]
    },
    {
      "cell_type": "code",
      "source": [
        "#lemmatized, with stopwords\n",
        "X_q1_sw_lemma_d2v = model_doc2vec(q1_sw_lemma_d2v, vector, epochs)\n",
        "X_q2_sw_lemma_d2v = model_doc2vec(q2_sw_lemma_d2v, vector, epochs)"
      ],
      "metadata": {
        "colab": {
          "base_uri": "https://localhost:8080/"
        },
        "id": "2H31DHSSzHR0",
        "outputId": "363d4fcc-0586-4485-c038-360417f8ebcf"
      },
      "execution_count": 72,
      "outputs": [
        {
          "output_type": "stream",
          "name": "stderr",
          "text": [
            "WARNING:gensim.models.doc2vec:Each 'words' should be a list of words (usually unicode strings). First 'words' here is instead plain <class 'str'>.\n",
            "WARNING:gensim.models.doc2vec:Each 'words' should be a list of words (usually unicode strings). First 'words' here is instead plain <class 'str'>.\n"
          ]
        }
      ]
    },
    {
      "cell_type": "code",
      "source": [
        "#Stemmed, without stopwords\n",
        "X_q1_stem_d2v = model_doc2vec(q1_stem_d2v, vector,  epochs)\n",
        "X_q2_stem_d2v = model_doc2vec(q2_stem_d2v, vector,  epochs)"
      ],
      "metadata": {
        "colab": {
          "base_uri": "https://localhost:8080/"
        },
        "id": "D9x--QGbrOXX",
        "outputId": "a6684fd2-d864-4dc0-eb72-03905d2e5090"
      },
      "execution_count": 73,
      "outputs": [
        {
          "output_type": "stream",
          "name": "stderr",
          "text": [
            "WARNING:gensim.models.doc2vec:Each 'words' should be a list of words (usually unicode strings). First 'words' here is instead plain <class 'str'>.\n",
            "WARNING:gensim.models.doc2vec:Each 'words' should be a list of words (usually unicode strings). First 'words' here is instead plain <class 'str'>.\n"
          ]
        }
      ]
    },
    {
      "cell_type": "code",
      "source": [
        "#Stemmed, with stopwords\n",
        "X_q1_sw_stem_d2v = model_doc2vec(q1_sw_stem_d2v, vector, epochs)\n",
        "X_q2_sw_stem_d2v = model_doc2vec(q2_sw_stem_d2v, vector, epochs)"
      ],
      "metadata": {
        "colab": {
          "base_uri": "https://localhost:8080/"
        },
        "id": "x1DQ7wK7ryNu",
        "outputId": "6104dfe8-2f31-47a5-d582-0ae10653b771"
      },
      "execution_count": 69,
      "outputs": [
        {
          "output_type": "stream",
          "name": "stderr",
          "text": [
            "WARNING:gensim.models.doc2vec:Each 'words' should be a list of words (usually unicode strings). First 'words' here is instead plain <class 'str'>.\n",
            "WARNING:gensim.models.doc2vec:Each 'words' should be a list of words (usually unicode strings). First 'words' here is instead plain <class 'str'>.\n"
          ]
        }
      ]
    },
    {
      "cell_type": "code",
      "source": [
        "#With Stopwords, not lemmatized, not stemmed\n",
        "X_q1_sw_d2v = model_doc2vec(q1_sw_d2v, vector, epochs)\n",
        "X_q2_sw_d2v = model_doc2vec(q2_sw_d2v, vector, epochs)"
      ],
      "metadata": {
        "colab": {
          "base_uri": "https://localhost:8080/"
        },
        "id": "Zp94XpJbz7pw",
        "outputId": "0f545ec6-4bff-4807-a520-215dbc4f0d90"
      },
      "execution_count": 94,
      "outputs": [
        {
          "output_type": "stream",
          "name": "stderr",
          "text": [
            "WARNING:gensim.models.doc2vec:Each 'words' should be a list of words (usually unicode strings). First 'words' here is instead plain <class 'str'>.\n",
            "WARNING:gensim.models.doc2vec:Each 'words' should be a list of words (usually unicode strings). First 'words' here is instead plain <class 'str'>.\n"
          ]
        }
      ]
    },
    {
      "cell_type": "code",
      "source": [
        "#Without stopwords, not lemmatized, not stemmed \n",
        "X_q1_out_d2v = model_doc2vec(q1_out_d2v, vector, epochs)\n",
        "X_q2_out_d2v = model_doc2vec(q2_out_d2v, vector, epochs)\n"
      ],
      "metadata": {
        "id": "R_iMv56A0HXt",
        "colab": {
          "base_uri": "https://localhost:8080/"
        },
        "outputId": "42b2268b-61d2-4399-e5ba-6f00e5f61b9f"
      },
      "execution_count": 74,
      "outputs": [
        {
          "output_type": "stream",
          "name": "stderr",
          "text": [
            "WARNING:gensim.models.doc2vec:Each 'words' should be a list of words (usually unicode strings). First 'words' here is instead plain <class 'str'>.\n",
            "WARNING:gensim.models.doc2vec:Each 'words' should be a list of words (usually unicode strings). First 'words' here is instead plain <class 'str'>.\n"
          ]
        }
      ]
    },
    {
      "cell_type": "markdown",
      "source": [
        "#### Convert to array "
      ],
      "metadata": {
        "id": "px9h8tDG0fPZ"
      }
    },
    {
      "cell_type": "code",
      "source": [
        "# Lemmatized, without stopwords, not stemmed\n",
        "\n",
        "size = len(df) - 1\n",
        "arr_q1_lemma = X_q1_lemma_d2v[0] \n",
        "\n",
        "for i in range(size):\n",
        "  arrT = X_q1_lemma_d2v[i+1]\n",
        "  arr_q1_lemma = np.vstack([arr_q1_lemma, arrT])\n",
        "\n",
        "arr_q2_lemma = X_q2_lemma_d2v[0] \n",
        "\n",
        "for i in range(size):\n",
        "  arrT = X_q2_lemma_d2v[i+1]\n",
        "  arr_q2_lemma = np.vstack([arr_q2_lemma, arrT])\n",
        "\n",
        "assert arr_q1_lemma.shape == arr_q2_lemma.shape\n",
        "\n",
        "#arr_q1_lemma = create_arrays(X_q1_lemma_d2v)\n",
        "#arr_q2_lemma = create_arrays(X_q2_lemma_d2v)"
      ],
      "metadata": {
        "id": "QFtn0fye5INs"
      },
      "execution_count": 152,
      "outputs": []
    },
    {
      "cell_type": "code",
      "source": [
        "# Lemmatized, with stopwords, not stemmed\n",
        "\n",
        "size = len(df) - 1\n",
        "arr_q1_sw_lemma = X_q1_sw_lemma_d2v[0] \n",
        "\n",
        "for i in range(size):\n",
        "  arrT = X_q1_sw_lemma_d2v[i+1]\n",
        "  arr_q1_sw_lemma = np.vstack([arr_q1_sw_lemma, arrT])\n",
        "\n",
        "arr_q2_sw_lemma = X_q2_sw_lemma_d2v[0] \n",
        "\n",
        "for i in range(size):\n",
        "  arrT = X_q2_sw_lemma_d2v[i+1]\n",
        "  arr_q2_sw_lemma = np.vstack([arr_q2_sw_lemma, arrT])\n",
        "\n",
        "assert arr_q1_sw_lemma.shape == arr_q2_sw_lemma.shape\n",
        "\n",
        "# arr_q1_sw_lemma = create_arrays(X_q1_sw_lemma_d2v)\n",
        "# arr_q2_sw_lemma = create_arrays(X_q2_sw_lemma_d2v) "
      ],
      "metadata": {
        "id": "0BRNEZMv5U2X"
      },
      "execution_count": 75,
      "outputs": []
    },
    {
      "cell_type": "code",
      "source": [
        "# Stemmed, without stopwords, not lemmatized\n",
        "\n",
        "size = len(df) - 1\n",
        "arr_q1_stem = X_q1_stem_d2v[0] \n",
        "\n",
        "for i in range(size):\n",
        "  arrT = X_q1_stem_d2v[i+1]\n",
        "  arr_q1_stem = np.vstack([arr_q1_stem, arrT])\n",
        "\n",
        "arr_q2_stem = X_q2_stem_d2v[0] \n",
        "\n",
        "for i in range(size):\n",
        "  arrT = X_q2_stem_d2v[i+1]\n",
        "  arr_q2_stem = np.vstack([arr_q2_stem, arrT])\n",
        "\n",
        "assert arr_q1_stem.shape == arr_q2_stem.shape\n",
        "\n",
        "# arr_q1_stem = create_arrays(X_q1_stem_d2v)\n",
        "# arr_q2_stem = create_arrays(X_q2_stem_d2v)"
      ],
      "metadata": {
        "id": "em1SzG5d5g8Y"
      },
      "execution_count": 76,
      "outputs": []
    },
    {
      "cell_type": "code",
      "source": [
        "# Stemmed, with stopwords, not lemmatized \n",
        "\n",
        "size = len(df) - 1\n",
        "arr_q1_sw_stem = X_q1_sw_stem_d2v[0] \n",
        "\n",
        "for i in range(size):\n",
        "  arrT = X_q1_sw_stem_d2v[i+1]\n",
        "  arr_q1_sw_stem = np.vstack([arr_q1_sw_stem, arrT])\n",
        "\n",
        "arr_q2_sw_stem = X_q2_sw_stem_d2v[0] \n",
        "\n",
        "for i in range(size):\n",
        "  arrT = X_q2_sw_stem_d2v[i+1]\n",
        "  arr_q2_sw_stem = np.vstack([arr_q2_sw_stem, arrT])\n",
        "\n",
        "assert arr_q1_sw_stem.shape == arr_q2_sw_stem.shape\n",
        "\n",
        "# arr_q1_sw_stem = create_arrays(X_q1_sw_stem_d2v)\n",
        "# arr_q2_sw_stem = create_arrays(X_q2_sw_stem_d2v)"
      ],
      "metadata": {
        "id": "LPF52ZUt5oZf",
        "colab": {
          "base_uri": "https://localhost:8080/",
          "height": 444
        },
        "outputId": "5de7e0d6-b01f-41b0-8c26-ffbdba1d89a5"
      },
      "execution_count": 77,
      "outputs": [
        {
          "output_type": "error",
          "ename": "KeyboardInterrupt",
          "evalue": "ignored",
          "traceback": [
            "\u001b[0;31m---------------------------------------------------------------------------\u001b[0m",
            "\u001b[0;31mKeyboardInterrupt\u001b[0m                         Traceback (most recent call last)",
            "\u001b[0;32m<ipython-input-77-0c2dde37e085>\u001b[0m in \u001b[0;36m<module>\u001b[0;34m\u001b[0m\n\u001b[1;32m     12\u001b[0m \u001b[0;32mfor\u001b[0m \u001b[0mi\u001b[0m \u001b[0;32min\u001b[0m \u001b[0mrange\u001b[0m\u001b[0;34m(\u001b[0m\u001b[0msize\u001b[0m\u001b[0;34m)\u001b[0m\u001b[0;34m:\u001b[0m\u001b[0;34m\u001b[0m\u001b[0;34m\u001b[0m\u001b[0m\n\u001b[1;32m     13\u001b[0m   \u001b[0marrT\u001b[0m \u001b[0;34m=\u001b[0m \u001b[0mX_q2_sw_stem_d2v\u001b[0m\u001b[0;34m[\u001b[0m\u001b[0mi\u001b[0m\u001b[0;34m+\u001b[0m\u001b[0;36m1\u001b[0m\u001b[0;34m]\u001b[0m\u001b[0;34m\u001b[0m\u001b[0;34m\u001b[0m\u001b[0m\n\u001b[0;32m---> 14\u001b[0;31m   \u001b[0marr_q2_sw_stem\u001b[0m \u001b[0;34m=\u001b[0m \u001b[0mnp\u001b[0m\u001b[0;34m.\u001b[0m\u001b[0mvstack\u001b[0m\u001b[0;34m(\u001b[0m\u001b[0;34m[\u001b[0m\u001b[0marr_q2_sw_stem\u001b[0m\u001b[0;34m,\u001b[0m \u001b[0marrT\u001b[0m\u001b[0;34m]\u001b[0m\u001b[0;34m)\u001b[0m\u001b[0;34m\u001b[0m\u001b[0;34m\u001b[0m\u001b[0m\n\u001b[0m\u001b[1;32m     15\u001b[0m \u001b[0;34m\u001b[0m\u001b[0m\n\u001b[1;32m     16\u001b[0m \u001b[0;32massert\u001b[0m \u001b[0marr_q1_sw_stem\u001b[0m\u001b[0;34m.\u001b[0m\u001b[0mshape\u001b[0m \u001b[0;34m==\u001b[0m \u001b[0marr_q2_sw_stem\u001b[0m\u001b[0;34m.\u001b[0m\u001b[0mshape\u001b[0m\u001b[0;34m\u001b[0m\u001b[0;34m\u001b[0m\u001b[0m\n",
            "\u001b[0;32m<__array_function__ internals>\u001b[0m in \u001b[0;36mvstack\u001b[0;34m(*args, **kwargs)\u001b[0m\n",
            "\u001b[0;32m/usr/local/lib/python3.7/dist-packages/numpy/core/shape_base.py\u001b[0m in \u001b[0;36mvstack\u001b[0;34m(tup)\u001b[0m\n\u001b[1;32m    280\u001b[0m     \u001b[0;32mif\u001b[0m \u001b[0;32mnot\u001b[0m \u001b[0misinstance\u001b[0m\u001b[0;34m(\u001b[0m\u001b[0marrs\u001b[0m\u001b[0;34m,\u001b[0m \u001b[0mlist\u001b[0m\u001b[0;34m)\u001b[0m\u001b[0;34m:\u001b[0m\u001b[0;34m\u001b[0m\u001b[0;34m\u001b[0m\u001b[0m\n\u001b[1;32m    281\u001b[0m         \u001b[0marrs\u001b[0m \u001b[0;34m=\u001b[0m \u001b[0;34m[\u001b[0m\u001b[0marrs\u001b[0m\u001b[0;34m]\u001b[0m\u001b[0;34m\u001b[0m\u001b[0;34m\u001b[0m\u001b[0m\n\u001b[0;32m--> 282\u001b[0;31m     \u001b[0;32mreturn\u001b[0m \u001b[0m_nx\u001b[0m\u001b[0;34m.\u001b[0m\u001b[0mconcatenate\u001b[0m\u001b[0;34m(\u001b[0m\u001b[0marrs\u001b[0m\u001b[0;34m,\u001b[0m \u001b[0;36m0\u001b[0m\u001b[0;34m)\u001b[0m\u001b[0;34m\u001b[0m\u001b[0;34m\u001b[0m\u001b[0m\n\u001b[0m\u001b[1;32m    283\u001b[0m \u001b[0;34m\u001b[0m\u001b[0m\n\u001b[1;32m    284\u001b[0m \u001b[0;34m\u001b[0m\u001b[0m\n",
            "\u001b[0;32m<__array_function__ internals>\u001b[0m in \u001b[0;36mconcatenate\u001b[0;34m(*args, **kwargs)\u001b[0m\n",
            "\u001b[0;31mKeyboardInterrupt\u001b[0m: "
          ]
        }
      ]
    },
    {
      "cell_type": "code",
      "source": [
        "# Without stopwords, not lemmatized, not stemmed\n",
        "size = len(df) - 1\n",
        "arr_q1_out = X_q1_out_d2v[0] \n",
        "\n",
        "for i in range(size):\n",
        "  arrT = X_q1_out_d2v[i+1]\n",
        "  arr_q1_out = np.vstack([arr_q1_out, arrT])\n",
        "\n",
        "arr_q2_out = X_q2_out_d2v[0] \n",
        "\n",
        "for i in range(size):\n",
        "  arrT = X_q2_out_d2v[i+1]\n",
        "  arr_q2_out = np.vstack([arr_q2_out, arrT])\n",
        "\n",
        "assert arr_q1_out.shape == arr_q2_out.shape"
      ],
      "metadata": {
        "id": "oVwHxnT706KA"
      },
      "execution_count": null,
      "outputs": []
    },
    {
      "cell_type": "code",
      "source": [
        "# With stopword, not lemmatized, not stemmed\n",
        "\n",
        "size = len(df) - 1\n",
        "arr_q1_sw = X_q1_sw_d2v[0] \n",
        "\n",
        "for i in range(size):\n",
        "  arrT = X_q1_sw_d2v[i+1]\n",
        "  arr_q1_sw = np.vstack([arr_q1_sw, arrT])\n",
        "\n",
        "arr_q2_sw = X_q2_sw_d2v[0] \n",
        "\n",
        "for i in range(size):\n",
        "  arrT = X_q2_sw_d2v[i+1]\n",
        "  arr_q2_sw = np.vstack([arr_q2_sw, arrT])\n",
        "\n",
        "assert arr_q1_sw.shape == arr_q2_sw.shape"
      ],
      "metadata": {
        "id": "Kr_x8xVm5Bda"
      },
      "execution_count": 95,
      "outputs": []
    },
    {
      "cell_type": "markdown",
      "source": [
        "### Convert to dataframe "
      ],
      "metadata": {
        "id": "e5y_8A2VDe2K"
      }
    },
    {
      "cell_type": "code",
      "source": [
        "def df_arr(arr_q1, arr_q2, df):\n",
        "  temp1 = pd.DataFrame(arr_q1)\n",
        "  temp2 = pd.DataFrame(arr_q2)\n",
        "  X_temp = pd.concat([temp1, temp2], axis=1)\n",
        "  y = df['is_duplicate']\n",
        "  y = np.array(y)\n",
        "  y_df = pd.DataFrame(y)\n",
        "  df_X = X_temp.join(y_df,  lsuffix='_left', rsuffix='_right')\n",
        "  #X_temp['is_duplicate'] = df['is_duplicate']\n",
        "  return df_X"
      ],
      "metadata": {
        "id": "EZBLIoGx6lqA"
      },
      "execution_count": 33,
      "outputs": []
    },
    {
      "cell_type": "code",
      "source": [
        "# Dataframe - Lemmatized without stopwords \n",
        "lemma_df = df_arr(arr_q1_lemma, arr_q2_lemma, df)"
      ],
      "metadata": {
        "id": "iWL38OcEDzmH"
      },
      "execution_count": 153,
      "outputs": []
    },
    {
      "cell_type": "code",
      "source": [
        "# Dataframe - Lemmatized with stopwords \n",
        "sw_lemma_df = df_arr(arr_q1_sw_lemma, arr_q2_sw_lemma, df)"
      ],
      "metadata": {
        "id": "Egehn2ulFf5e"
      },
      "execution_count": null,
      "outputs": []
    },
    {
      "cell_type": "code",
      "source": [
        "# Dataframe - Stemmed without stopwords \n",
        "stem_df = df_arr(arr_q1_stem, arr_q2_stem, df)"
      ],
      "metadata": {
        "id": "_SVL-Hg3G5ez"
      },
      "execution_count": 78,
      "outputs": []
    },
    {
      "cell_type": "code",
      "source": [
        "# Dataframe - Lemmatized with stopwords \n",
        "sw_stem_df = df_arr(arr_q1_sw_stem, arr_q2_sw_stem, df)"
      ],
      "metadata": {
        "id": "oMNLK2DBG_I2"
      },
      "execution_count": null,
      "outputs": []
    },
    {
      "cell_type": "code",
      "source": [
        "# Dataframe - With stopwords, not lemmatized, not stemmed\n",
        "sw_df = df_arr(arr_q1_sw, arr_q2_sw, df)"
      ],
      "metadata": {
        "id": "7F2zrTu6HE8w"
      },
      "execution_count": 96,
      "outputs": []
    },
    {
      "cell_type": "code",
      "source": [
        "# Dataframe - Without stopwords, not lemmatized, not stemmed\n",
        "out_df = df_arr(arr_q1_out, arr_q2_out, df)"
      ],
      "metadata": {
        "id": "JzKJvV5sHRz5"
      },
      "execution_count": null,
      "outputs": []
    },
    {
      "cell_type": "markdown",
      "source": [
        "### Split Data"
      ],
      "metadata": {
        "id": "uhX3GryDHeLw"
      }
    },
    {
      "cell_type": "code",
      "source": [
        "# Lemmatized with stopwords \n",
        "y_sw_lemma= sw_lemma_df['0_right']\n",
        "X_train_sw_lemma, X_test_sw_lemma, y_train_sw_lemma, y_test_sw_lemma = train_test_split(sw_lemma_df, y_sw_lemma, stratify = y_sw_lemma, test_size = 0.15, random_state = 42)"
      ],
      "metadata": {
        "id": "5cvCwCIMHf2m",
        "colab": {
          "base_uri": "https://localhost:8080/",
          "height": 207
        },
        "outputId": "afc0f2c6-24bf-4a72-c77f-4ca280c8240a"
      },
      "execution_count": 123,
      "outputs": [
        {
          "output_type": "error",
          "ename": "NameError",
          "evalue": "ignored",
          "traceback": [
            "\u001b[0;31m---------------------------------------------------------------------------\u001b[0m",
            "\u001b[0;31mNameError\u001b[0m                                 Traceback (most recent call last)",
            "\u001b[0;32m<ipython-input-123-828e3c285e99>\u001b[0m in \u001b[0;36m<module>\u001b[0;34m\u001b[0m\n\u001b[1;32m      1\u001b[0m \u001b[0;31m# Lemmatized with stopwords\u001b[0m\u001b[0;34m\u001b[0m\u001b[0;34m\u001b[0m\u001b[0;34m\u001b[0m\u001b[0m\n\u001b[0;32m----> 2\u001b[0;31m \u001b[0my_sw_lemma\u001b[0m\u001b[0;34m=\u001b[0m \u001b[0msw_lemma_df\u001b[0m\u001b[0;34m[\u001b[0m\u001b[0;34m'0_right'\u001b[0m\u001b[0;34m]\u001b[0m\u001b[0;34m\u001b[0m\u001b[0;34m\u001b[0m\u001b[0m\n\u001b[0m\u001b[1;32m      3\u001b[0m \u001b[0mX_train_sw_lemma\u001b[0m\u001b[0;34m,\u001b[0m \u001b[0mX_test_sw_lemma\u001b[0m\u001b[0;34m,\u001b[0m \u001b[0my_train_sw_lemma\u001b[0m\u001b[0;34m,\u001b[0m \u001b[0my_test_sw_lemma\u001b[0m \u001b[0;34m=\u001b[0m \u001b[0mtrain_test_split\u001b[0m\u001b[0;34m(\u001b[0m\u001b[0msw_lemma_df\u001b[0m\u001b[0;34m,\u001b[0m \u001b[0my_sw_lemma\u001b[0m\u001b[0;34m,\u001b[0m \u001b[0mstratify\u001b[0m \u001b[0;34m=\u001b[0m \u001b[0my_sw_lemma\u001b[0m\u001b[0;34m,\u001b[0m \u001b[0mtest_size\u001b[0m \u001b[0;34m=\u001b[0m \u001b[0;36m0.15\u001b[0m\u001b[0;34m,\u001b[0m \u001b[0mrandom_state\u001b[0m \u001b[0;34m=\u001b[0m \u001b[0;36m42\u001b[0m\u001b[0;34m)\u001b[0m\u001b[0;34m\u001b[0m\u001b[0;34m\u001b[0m\u001b[0m\n",
            "\u001b[0;31mNameError\u001b[0m: name 'sw_lemma_df' is not defined"
          ]
        }
      ]
    },
    {
      "cell_type": "code",
      "source": [
        "# Lemmatized without stopwords \n",
        "y_lemma= lemma_df['0_right']\n",
        "X_train_lemma, X_test_lemma, y_train_lemma, y_test_lemma = train_test_split(lemma_df, y_lemma, stratify = y_lemma, test_size = 0.15, random_state = 42)"
      ],
      "metadata": {
        "id": "vODYoycbIs7w"
      },
      "execution_count": 154,
      "outputs": []
    },
    {
      "cell_type": "code",
      "source": [
        "# Stemmed with stopwords \n",
        "y_sw_stem= sw_stem_df['0_right']\n",
        "X_train_sw_stem, X_test_sw_stem, y_train_sw_stem, y_test_sw_stem = train_test_split(sw_stem_df, y_sw_stem, stratify = y_sw_stem, test_size = 0.15, random_state = 42)"
      ],
      "metadata": {
        "id": "CrTS7I77I1x-"
      },
      "execution_count": null,
      "outputs": []
    },
    {
      "cell_type": "code",
      "source": [
        "# Stemmed without stopwords \n",
        "y_stem= stem_df['0_right']\n",
        "X_train_stem, X_test_stem, y_train_stem, y_test_stem = train_test_split(stem_df, y_stem, stratify = y_stem, test_size = 0.15, random_state = 42)"
      ],
      "metadata": {
        "id": "90g_DHHmJDQ1"
      },
      "execution_count": 79,
      "outputs": []
    },
    {
      "cell_type": "code",
      "source": [
        "# With Stopwords, not lemmatized, not stemmed \n",
        "y_sw= sw_df['0_right']\n",
        "X_train_sw, X_test_sw, y_train_sw, y_test_sw = train_test_split(sw_df, y_sw, stratify = y_sw, test_size = 0.15, random_state = 42)"
      ],
      "metadata": {
        "id": "Msewo_c9JMrV"
      },
      "execution_count": 97,
      "outputs": []
    },
    {
      "cell_type": "code",
      "source": [
        "# Without Stopwords, not lemmatized, not stemmed \n",
        "y_out= out_df['0_right']\n",
        "X_train_out, X_test_out, y_train_out, y_test_out = train_test_split(out_df, y_out, stratify = y_out, test_size = 0.15, random_state = 42)"
      ],
      "metadata": {
        "id": "h5LEe63lJmZ-"
      },
      "execution_count": null,
      "outputs": []
    },
    {
      "cell_type": "markdown",
      "source": [
        "# MODELS"
      ],
      "metadata": {
        "id": "f4QFQjaCKfk6"
      }
    },
    {
      "cell_type": "code",
      "source": [
        "# Creating DataFrame for Evaluations\n",
        "result_se = pd.DataFrame(columns = ['Model Name', 'Accuracy', 'Precision', 'Recall', 'F1_score', 'Log_loss'])\n",
        "result_se.head()"
      ],
      "metadata": {
        "colab": {
          "base_uri": "https://localhost:8080/",
          "height": 49
        },
        "id": "qKtT2-uaqqdc",
        "outputId": "9b2f96df-7c94-4afa-ba58-d7aaf7630b98"
      },
      "execution_count": null,
      "outputs": [
        {
          "output_type": "execute_result",
          "data": {
            "text/plain": [
              "Empty DataFrame\n",
              "Columns: [Model Name, Accuracy, Precision, Recall, F1_score, Log_loss]\n",
              "Index: []"
            ],
            "text/html": [
              "\n",
              "  <div id=\"df-e9aacc5d-a7ba-4a89-857e-08173f2e7aef\">\n",
              "    <div class=\"colab-df-container\">\n",
              "      <div>\n",
              "<style scoped>\n",
              "    .dataframe tbody tr th:only-of-type {\n",
              "        vertical-align: middle;\n",
              "    }\n",
              "\n",
              "    .dataframe tbody tr th {\n",
              "        vertical-align: top;\n",
              "    }\n",
              "\n",
              "    .dataframe thead th {\n",
              "        text-align: right;\n",
              "    }\n",
              "</style>\n",
              "<table border=\"1\" class=\"dataframe\">\n",
              "  <thead>\n",
              "    <tr style=\"text-align: right;\">\n",
              "      <th></th>\n",
              "      <th>Model Name</th>\n",
              "      <th>Accuracy</th>\n",
              "      <th>Precision</th>\n",
              "      <th>Recall</th>\n",
              "      <th>F1_score</th>\n",
              "      <th>Log_loss</th>\n",
              "    </tr>\n",
              "  </thead>\n",
              "  <tbody>\n",
              "  </tbody>\n",
              "</table>\n",
              "</div>\n",
              "      <button class=\"colab-df-convert\" onclick=\"convertToInteractive('df-e9aacc5d-a7ba-4a89-857e-08173f2e7aef')\"\n",
              "              title=\"Convert this dataframe to an interactive table.\"\n",
              "              style=\"display:none;\">\n",
              "        \n",
              "  <svg xmlns=\"http://www.w3.org/2000/svg\" height=\"24px\"viewBox=\"0 0 24 24\"\n",
              "       width=\"24px\">\n",
              "    <path d=\"M0 0h24v24H0V0z\" fill=\"none\"/>\n",
              "    <path d=\"M18.56 5.44l.94 2.06.94-2.06 2.06-.94-2.06-.94-.94-2.06-.94 2.06-2.06.94zm-11 1L8.5 8.5l.94-2.06 2.06-.94-2.06-.94L8.5 2.5l-.94 2.06-2.06.94zm10 10l.94 2.06.94-2.06 2.06-.94-2.06-.94-.94-2.06-.94 2.06-2.06.94z\"/><path d=\"M17.41 7.96l-1.37-1.37c-.4-.4-.92-.59-1.43-.59-.52 0-1.04.2-1.43.59L10.3 9.45l-7.72 7.72c-.78.78-.78 2.05 0 2.83L4 21.41c.39.39.9.59 1.41.59.51 0 1.02-.2 1.41-.59l7.78-7.78 2.81-2.81c.8-.78.8-2.07 0-2.86zM5.41 20L4 18.59l7.72-7.72 1.47 1.35L5.41 20z\"/>\n",
              "  </svg>\n",
              "      </button>\n",
              "      \n",
              "  <style>\n",
              "    .colab-df-container {\n",
              "      display:flex;\n",
              "      flex-wrap:wrap;\n",
              "      gap: 12px;\n",
              "    }\n",
              "\n",
              "    .colab-df-convert {\n",
              "      background-color: #E8F0FE;\n",
              "      border: none;\n",
              "      border-radius: 50%;\n",
              "      cursor: pointer;\n",
              "      display: none;\n",
              "      fill: #1967D2;\n",
              "      height: 32px;\n",
              "      padding: 0 0 0 0;\n",
              "      width: 32px;\n",
              "    }\n",
              "\n",
              "    .colab-df-convert:hover {\n",
              "      background-color: #E2EBFA;\n",
              "      box-shadow: 0px 1px 2px rgba(60, 64, 67, 0.3), 0px 1px 3px 1px rgba(60, 64, 67, 0.15);\n",
              "      fill: #174EA6;\n",
              "    }\n",
              "\n",
              "    [theme=dark] .colab-df-convert {\n",
              "      background-color: #3B4455;\n",
              "      fill: #D2E3FC;\n",
              "    }\n",
              "\n",
              "    [theme=dark] .colab-df-convert:hover {\n",
              "      background-color: #434B5C;\n",
              "      box-shadow: 0px 1px 3px 1px rgba(0, 0, 0, 0.15);\n",
              "      filter: drop-shadow(0px 1px 2px rgba(0, 0, 0, 0.3));\n",
              "      fill: #FFFFFF;\n",
              "    }\n",
              "  </style>\n",
              "\n",
              "      <script>\n",
              "        const buttonEl =\n",
              "          document.querySelector('#df-e9aacc5d-a7ba-4a89-857e-08173f2e7aef button.colab-df-convert');\n",
              "        buttonEl.style.display =\n",
              "          google.colab.kernel.accessAllowed ? 'block' : 'none';\n",
              "\n",
              "        async function convertToInteractive(key) {\n",
              "          const element = document.querySelector('#df-e9aacc5d-a7ba-4a89-857e-08173f2e7aef');\n",
              "          const dataTable =\n",
              "            await google.colab.kernel.invokeFunction('convertToInteractive',\n",
              "                                                     [key], {});\n",
              "          if (!dataTable) return;\n",
              "\n",
              "          const docLinkHtml = 'Like what you see? Visit the ' +\n",
              "            '<a target=\"_blank\" href=https://colab.research.google.com/notebooks/data_table.ipynb>data table notebook</a>'\n",
              "            + ' to learn more about interactive tables.';\n",
              "          element.innerHTML = '';\n",
              "          dataTable['output_type'] = 'display_data';\n",
              "          await google.colab.output.renderOutput(dataTable, element);\n",
              "          const docLink = document.createElement('div');\n",
              "          docLink.innerHTML = docLinkHtml;\n",
              "          element.appendChild(docLink);\n",
              "        }\n",
              "      </script>\n",
              "    </div>\n",
              "  </div>\n",
              "  "
            ]
          },
          "metadata": {},
          "execution_count": 37
        }
      ]
    },
    {
      "cell_type": "code",
      "source": [
        "def res(model, acc, precision, recall, f1_score, log_loss):\n",
        "    result_se.loc[len(result_se)]   = [model, acc, precision, recall, f1_score, log_loss]\n",
        "    pd.set_option('display.max_rows', None)\n",
        "    display (result_se)\n",
        "    return result_se"
      ],
      "metadata": {
        "id": "5P_-2CmgqtcC"
      },
      "execution_count": null,
      "outputs": []
    },
    {
      "cell_type": "markdown",
      "source": [
        "### Random Forest"
      ],
      "metadata": {
        "id": "WCOguGYTKjGO"
      }
    },
    {
      "cell_type": "code",
      "source": [
        "def rf_clf(X_train, X_test, y_train, y_test):\n",
        "    '''Parameter tuning for Random Forest Classifier and model fit'''\n",
        "    \n",
        "    #splits = ShuffleSplit(n_splits = 1, test_size = .2, random_state = 0)\n",
        "\n",
        "    rf_clf = RandomForestClassifier(random_state = 0)\n",
        "    rf_param_grid = { \"max_depth\": [4, None],\n",
        "               \"min_samples_split\": [ 20, 40]\n",
        "              }\n",
        "    \n",
        "    \n",
        "    rf_search = HalvingGridSearchCV(rf_clf, rf_param_grid, scoring='accuracy', resource='n_estimators', max_resources=5,              \n",
        "                              random_state=0).fit(X_train, y_train)\n",
        "    \n",
        "    rf_model = rf_search.best_estimator_\n",
        "\n",
        "    y_pred = rf_model.predict(X_test)\n",
        "    \n",
        "    log_loss = metrics.log_loss(y_test, y_pred)\n",
        "    accuracy = metrics.accuracy_score(y_test, y_pred)\n",
        "    precision = metrics.precision_score(y_test, y_pred)\n",
        "    recall = metrics.recall_score(y_test, y_pred)\n",
        "    f1_score = metrics.f1_score(y_test, y_pred)\n",
        "    print (rf_model)\n",
        "    #print('log loss', rf_loss_bow, '\\nacc', rf_acc_bow)\n",
        "    return accuracy, precision, recall, f1_score, log_loss, y_pred, rf_model"
      ],
      "metadata": {
        "id": "LNQI_3FN6AsI"
      },
      "execution_count": 36,
      "outputs": []
    },
    {
      "cell_type": "markdown",
      "source": [
        "## Logistic Regression"
      ],
      "metadata": {
        "id": "SbVvYvLKKm1Q"
      }
    },
    {
      "cell_type": "code",
      "source": [
        "def lr_clf(X_train, X_test, y_train, y_test):\n",
        "    '''Parameter tuning for Logistic Regression Classifier and model fit'''\n",
        "    \n",
        "    splits = ShuffleSplit(n_splits = 1, test_size = .2, random_state = 0)\n",
        "    #lr_param_grid = {'C':[100, 10]}     \n",
        "    lr_clf = LogisticRegression(C=0.001, random_state = 0)\n",
        "   \n",
        "    #lr_search = HalvingGridSearchCV(lr_clf, lr_param_grid, scoring = 'accuracy')\n",
        "    lr_clf.fit(X_train, y_train)\n",
        "    \n",
        "    #lr_model = lr_search.best_estimator_\n",
        "    \n",
        "    y_pred = lr_clf.predict(X_test)\n",
        "    \n",
        "    log_loss = metrics.log_loss(y_test, y_pred)\n",
        "    accuracy = metrics.accuracy_score(y_test, y_pred)\n",
        "    precision = metrics.precision_score(y_test, y_pred)\n",
        "    recall = metrics.recall_score(y_test, y_pred)\n",
        "    f1_score = metrics.f1_score(y_test, y_pred)\n",
        "    #print (lr_model)\n",
        "    #print('log loss', rf_loss_bow, '\\nacc', rf_acc_bow)\n",
        "    return accuracy, precision, recall, f1_score, log_loss, y_pred"
      ],
      "metadata": {
        "id": "8bfjRhbEKo8C"
      },
      "execution_count": 105,
      "outputs": []
    },
    {
      "cell_type": "markdown",
      "source": [
        "# Support Vector Classification - SVC"
      ],
      "metadata": {
        "id": "zsXrp_CDq05P"
      }
    },
    {
      "cell_type": "code",
      "source": [
        "def svc_clf(X_train, X_test, y_train, y_test):\n",
        "    '''Parameter tuning for XGB Classifier and model fit'''\n",
        "   \n",
        "    splits = ShuffleSplit(n_splits = 1, test_size = .2, random_state = 0)\n",
        "    \n",
        "    #svc_param_grid = {'C': [0.1, 10, 100], 'gamma': [1, 0.1, 0.01], 'kernel': ['sigmoid', 'linear', 'poly', 'rbf']}\n",
        "    #svc_param_grid = {'C': [0.1, 100], 'gamma': [1, 0.1, 0.01], 'kernel': ['sigmoid', 'poly', 'rbf']}\n",
        "    svc_param_grid = {'C': [1], \n",
        "     #          'gamma': [1,0.1,0.01,0.001,0.0001], \n",
        "               'kernel': [ 'sigmoid']}\n",
        "    svc_clf = SVC()\n",
        "   # gamma='scale'\n",
        "    svc_search = HalvingGridSearchCV(svc_clf, svc_param_grid, factor = 2, scoring = 'accuracy')\n",
        "    svc_search.fit(X_train, y_train)\n",
        "    \n",
        "    svc_model = svc_search.best_params_\n",
        "    svc_model_est = svc_search.best_estimator_\n",
        "    \n",
        "    y_pred = svc_model_est.predict(X_test)\n",
        "    \n",
        "    log_loss = metrics.log_loss(y_test, y_pred)\n",
        "    accuracy = metrics.accuracy_score(y_test, y_pred)\n",
        "    precision = metrics.precision_score(y_test, y_pred, average='weighted')\n",
        "    recall = metrics.recall_score(y_test, y_pred, average='weighted')\n",
        "    f1_score = metrics.f1_score(y_test, y_pred, average='macro')\n",
        "    print (svc_model)\n",
        "    return accuracy, precision, recall, f1_score, log_loss, y_pred, svc_model_est  "
      ],
      "metadata": {
        "id": "7mihAwFj2dK_"
      },
      "execution_count": 101,
      "outputs": []
    },
    {
      "cell_type": "markdown",
      "source": [
        "# Activate algorithm functions"
      ],
      "metadata": {
        "id": "k7Cf5LDnw4fq"
      }
    },
    {
      "cell_type": "markdown",
      "source": [
        "#### On Lemmatized data"
      ],
      "metadata": {
        "id": "hgKbFubUw-kb"
      }
    },
    {
      "cell_type": "code",
      "source": [
        "# Lemmatized, without stopwords  \n",
        "\n",
        "#Random Forest\n",
        "acc_rf_lemma, precision_rf_lemma, recall_rf_lemma, f1_score_rf_lemma, log_loss_rf_lemma, y_pred_rf_lemma, berf_lemma  = rf_clf(X_train_lemma, X_test_lemma, y_train_lemma, y_test_lemma)\n",
        "\n",
        "report_rf_lemma = classification_report(y_pred_rf_lemma, y_test_lemma)\n",
        "matrix_rf_lemma = confusion_matrix(y_pred_rf_lemma, y_test_lemma)\n",
        "print('Classification Report - RF\\n', report_rf_lemma)\n",
        "print()\n",
        "print('Confusion Matrix - RF\\n', matrix_rf_lemma)\n",
        "\n",
        "#Logistic Regression\n",
        "acc_lr_lemma, precision_lr_lemma, recall_lr_lemma, f1_score_lr_lemma, log_loss_lr_lemma,  y_pred_lr_lemma, belr_lemma = lr_clf(X_train_lemma, X_test_lemma, y_train_lemma, y_test_lemma)\n",
        "print()\n",
        "\n",
        "\n",
        "report_lr_lemma = classification_report(y_pred_lr_lemma, y_test_lemma)\n",
        "matrix_lr_lemma = confusion_matrix(y_pred_lr_lemma, y_test_lemma)\n",
        "print('Classification Report - Logistic Regression\\n', report_lr_lemma)\n",
        "print()\n",
        "print('Confusion Matrix - Logistic Regression\\n', matrix_lr_lemma)\n",
        "\n",
        "# SVC \n",
        "acc_svc_lemma, precision_svc_lemma, recall_svc_lemma, f1_score_svc_lemma, log_loss_svc_lemma, y_pred_svc_lemma, besvc_lemma = svc_clf(X_train_lemma, X_test_lemma, y_train_lemma, y_test_lemma)\n",
        "\n",
        "report_svc_lemma = classification_report(y_pred_svc_lemma, y_test_lemma)\n",
        "matrix_svc_lemma = confusion_matrix(y_pred_svc_lemma, y_test_lemma)\n",
        "\n",
        "print('Classification Report - SVC\\n', report_svc_lemma)\n",
        "print()\n",
        "print('Confusion Matrix - SVC\\n', matrix_svc_lemma)"
      ],
      "metadata": {
        "colab": {
          "base_uri": "https://localhost:8080/"
        },
        "id": "1-hudrcTK0G_",
        "outputId": "864dde67-dc76-44d6-c976-62afd85f06b0"
      },
      "execution_count": null,
      "outputs": [
        {
          "output_type": "stream",
          "name": "stdout",
          "text": [
            "RandomForestClassifier(max_depth=10, min_samples_split=3, n_estimators=10,\n",
            "                       random_state=0)\n",
            "Classification Report - RF\n",
            "               precision    recall  f1-score   support\n",
            "\n",
            "           0       1.00      0.98      0.99       478\n",
            "           1       0.96      1.00      0.98       272\n",
            "\n",
            "    accuracy                           0.99       750\n",
            "   macro avg       0.98      0.99      0.98       750\n",
            "weighted avg       0.99      0.99      0.99       750\n",
            "\n",
            "\n",
            "Confusion Matrix - RF\n",
            " [[467  11]\n",
            " [  0 272]]\n",
            "LogisticRegression(C=0.1, random_state=0, solver='sag')\n",
            "\n",
            "Classification Report - Logistic Regression\n",
            "               precision    recall  f1-score   support\n",
            "\n",
            "           0       1.00      1.00      1.00       467\n",
            "           1       1.00      1.00      1.00       283\n",
            "\n",
            "    accuracy                           1.00       750\n",
            "   macro avg       1.00      1.00      1.00       750\n",
            "weighted avg       1.00      1.00      1.00       750\n",
            "\n",
            "\n",
            "Confusion Matrix - Logistic Regression\n",
            " [[467   0]\n",
            " [  0 283]]\n",
            "{'max_depth': 10, 'n_estimators': 150}\n",
            "Classification Report - XGB\n",
            "               precision    recall  f1-score   support\n",
            "\n",
            "           0       1.00      1.00      1.00       467\n",
            "           1       1.00      1.00      1.00       283\n",
            "\n",
            "    accuracy                           1.00       750\n",
            "   macro avg       1.00      1.00      1.00       750\n",
            "weighted avg       1.00      1.00      1.00       750\n",
            "\n",
            "\n",
            "Confusion Matrix - XGB\n",
            " [[467   0]\n",
            " [  0 283]]\n",
            "Classification Report - SVC\n",
            "               precision    recall  f1-score   support\n",
            "\n",
            "           0       1.00      0.98      0.99       475\n",
            "           1       0.97      1.00      0.99       275\n",
            "\n",
            "    accuracy                           0.99       750\n",
            "   macro avg       0.99      0.99      0.99       750\n",
            "weighted avg       0.99      0.99      0.99       750\n",
            "\n",
            "\n",
            "Confusion Matrix - SVC\n",
            " [[467   8]\n",
            " [  0 275]]\n",
            "{'C': 100, 'max_iter': 10000}\n",
            "Classification Report - Linear SVC\n",
            "               precision    recall  f1-score   support\n",
            "\n",
            "           0       1.00      1.00      1.00       467\n",
            "           1       1.00      1.00      1.00       283\n",
            "\n",
            "    accuracy                           1.00       750\n",
            "   macro avg       1.00      1.00      1.00       750\n",
            "weighted avg       1.00      1.00      1.00       750\n",
            "\n",
            "\n",
            "Confusion Matrix - Linear SVC\n",
            " [[467   0]\n",
            " [  0 283]]\n"
          ]
        }
      ]
    },
    {
      "cell_type": "code",
      "source": [
        "# Creating DataFrame for Evaluations\n",
        "result_lemma = pd.DataFrame(columns = ['Model Name', 'Accuracy', 'Precision', 'Recall', 'F1_score', 'Log_loss'])\n",
        "result_lemma.head()"
      ],
      "metadata": {
        "colab": {
          "base_uri": "https://localhost:8080/",
          "height": 49
        },
        "id": "4fxtc3SGRUu8",
        "outputId": "7438c1fc-f183-4a1b-dc93-86c5611b95fa"
      },
      "execution_count": null,
      "outputs": [
        {
          "output_type": "execute_result",
          "data": {
            "text/plain": [
              "Empty DataFrame\n",
              "Columns: [Model Name, Accuracy, Precision, Recall, F1_score, Log_loss]\n",
              "Index: []"
            ],
            "text/html": [
              "\n",
              "  <div id=\"df-52da26b8-a191-4940-b9c7-44a051b680b8\">\n",
              "    <div class=\"colab-df-container\">\n",
              "      <div>\n",
              "<style scoped>\n",
              "    .dataframe tbody tr th:only-of-type {\n",
              "        vertical-align: middle;\n",
              "    }\n",
              "\n",
              "    .dataframe tbody tr th {\n",
              "        vertical-align: top;\n",
              "    }\n",
              "\n",
              "    .dataframe thead th {\n",
              "        text-align: right;\n",
              "    }\n",
              "</style>\n",
              "<table border=\"1\" class=\"dataframe\">\n",
              "  <thead>\n",
              "    <tr style=\"text-align: right;\">\n",
              "      <th></th>\n",
              "      <th>Model Name</th>\n",
              "      <th>Accuracy</th>\n",
              "      <th>Precision</th>\n",
              "      <th>Recall</th>\n",
              "      <th>F1_score</th>\n",
              "      <th>Log_loss</th>\n",
              "    </tr>\n",
              "  </thead>\n",
              "  <tbody>\n",
              "  </tbody>\n",
              "</table>\n",
              "</div>\n",
              "      <button class=\"colab-df-convert\" onclick=\"convertToInteractive('df-52da26b8-a191-4940-b9c7-44a051b680b8')\"\n",
              "              title=\"Convert this dataframe to an interactive table.\"\n",
              "              style=\"display:none;\">\n",
              "        \n",
              "  <svg xmlns=\"http://www.w3.org/2000/svg\" height=\"24px\"viewBox=\"0 0 24 24\"\n",
              "       width=\"24px\">\n",
              "    <path d=\"M0 0h24v24H0V0z\" fill=\"none\"/>\n",
              "    <path d=\"M18.56 5.44l.94 2.06.94-2.06 2.06-.94-2.06-.94-.94-2.06-.94 2.06-2.06.94zm-11 1L8.5 8.5l.94-2.06 2.06-.94-2.06-.94L8.5 2.5l-.94 2.06-2.06.94zm10 10l.94 2.06.94-2.06 2.06-.94-2.06-.94-.94-2.06-.94 2.06-2.06.94z\"/><path d=\"M17.41 7.96l-1.37-1.37c-.4-.4-.92-.59-1.43-.59-.52 0-1.04.2-1.43.59L10.3 9.45l-7.72 7.72c-.78.78-.78 2.05 0 2.83L4 21.41c.39.39.9.59 1.41.59.51 0 1.02-.2 1.41-.59l7.78-7.78 2.81-2.81c.8-.78.8-2.07 0-2.86zM5.41 20L4 18.59l7.72-7.72 1.47 1.35L5.41 20z\"/>\n",
              "  </svg>\n",
              "      </button>\n",
              "      \n",
              "  <style>\n",
              "    .colab-df-container {\n",
              "      display:flex;\n",
              "      flex-wrap:wrap;\n",
              "      gap: 12px;\n",
              "    }\n",
              "\n",
              "    .colab-df-convert {\n",
              "      background-color: #E8F0FE;\n",
              "      border: none;\n",
              "      border-radius: 50%;\n",
              "      cursor: pointer;\n",
              "      display: none;\n",
              "      fill: #1967D2;\n",
              "      height: 32px;\n",
              "      padding: 0 0 0 0;\n",
              "      width: 32px;\n",
              "    }\n",
              "\n",
              "    .colab-df-convert:hover {\n",
              "      background-color: #E2EBFA;\n",
              "      box-shadow: 0px 1px 2px rgba(60, 64, 67, 0.3), 0px 1px 3px 1px rgba(60, 64, 67, 0.15);\n",
              "      fill: #174EA6;\n",
              "    }\n",
              "\n",
              "    [theme=dark] .colab-df-convert {\n",
              "      background-color: #3B4455;\n",
              "      fill: #D2E3FC;\n",
              "    }\n",
              "\n",
              "    [theme=dark] .colab-df-convert:hover {\n",
              "      background-color: #434B5C;\n",
              "      box-shadow: 0px 1px 3px 1px rgba(0, 0, 0, 0.15);\n",
              "      filter: drop-shadow(0px 1px 2px rgba(0, 0, 0, 0.3));\n",
              "      fill: #FFFFFF;\n",
              "    }\n",
              "  </style>\n",
              "\n",
              "      <script>\n",
              "        const buttonEl =\n",
              "          document.querySelector('#df-52da26b8-a191-4940-b9c7-44a051b680b8 button.colab-df-convert');\n",
              "        buttonEl.style.display =\n",
              "          google.colab.kernel.accessAllowed ? 'block' : 'none';\n",
              "\n",
              "        async function convertToInteractive(key) {\n",
              "          const element = document.querySelector('#df-52da26b8-a191-4940-b9c7-44a051b680b8');\n",
              "          const dataTable =\n",
              "            await google.colab.kernel.invokeFunction('convertToInteractive',\n",
              "                                                     [key], {});\n",
              "          if (!dataTable) return;\n",
              "\n",
              "          const docLinkHtml = 'Like what you see? Visit the ' +\n",
              "            '<a target=\"_blank\" href=https://colab.research.google.com/notebooks/data_table.ipynb>data table notebook</a>'\n",
              "            + ' to learn more about interactive tables.';\n",
              "          element.innerHTML = '';\n",
              "          dataTable['output_type'] = 'display_data';\n",
              "          await google.colab.output.renderOutput(dataTable, element);\n",
              "          const docLink = document.createElement('div');\n",
              "          docLink.innerHTML = docLinkHtml;\n",
              "          element.appendChild(docLink);\n",
              "        }\n",
              "      </script>\n",
              "    </div>\n",
              "  </div>\n",
              "  "
            ]
          },
          "metadata": {},
          "execution_count": 78
        }
      ]
    },
    {
      "cell_type": "code",
      "source": [
        "result_lemma = res('RandomForest Classifier',acc_rf_lemma, precision_rf_lemma, recall_rf_lemma, f1_score_rf_lemma, log_loss_rf_lemma, y_pred_rf_lemma, berf_lemma)\n",
        "result_lemma = res('Logistic Regression', acc_lr_lemma, precision_lr_lemma, recall_lr_lemma, f1_score_lr_lemma, log_loss_lr_lemma,  y_pred_lr_lemma, belr_lemma)\n",
        "result_lemma = res('SVC Classifier', acc_svc_lemma, precision_svc_lemma, recall_svc_lemma, f1_score_svc_lemma, log_loss_svc_lemma, y_pred_svc_lemma, besvc_lemma)"
      ],
      "metadata": {
        "id": "_r2KX2MERbCZ"
      },
      "execution_count": null,
      "outputs": []
    },
    {
      "cell_type": "markdown",
      "source": [
        "## Lemmatized with stopwords"
      ],
      "metadata": {
        "id": "ptMT75OG9DtP"
      }
    },
    {
      "cell_type": "code",
      "source": [
        "# Lemmatized, with stopwords\n",
        "\n",
        "#Random Forest\n",
        "acc_rf_sw_lemma, precision_rf_sw_lemma, recall_rf_sw_lemma, f1_score_rf_sw_lemma, log_loss_rf_sw_lemma, y_pred_rf_sw_lemma, berf_sw_lemma  = rf_clf(X_train_sw_lemma, X_test_sw_lemma, y_train_sw_lemma, y_test_sw_lemma)\n",
        "\n",
        "report_rf_sw_lemma = classification_report(y_pred_rf_sw_lemma, y_test_sw_lemma)\n",
        "matrix_rf_sw_lemma = confusion_matrix(y_pred_rf_sw_lemma, y_test_sw_lemma)\n",
        "print('Classification Report - RF\\n', report_rf_sw_lemma)\n",
        "print()\n",
        "print('Confusion Matrix - RF\\n', matrix_rf_sw_lemma)\n",
        "print()\n",
        "\n",
        "#Logistic Regression\n",
        "acc_lr_sw_lemma, precision_lr_sw_lemma, recall_lr_sw_lemma, f1_score_lr_sw_lemma, log_loss_lr_sw_lemma,  y_pred_lr_sw_lemma, belr_sw_lemma = lr_clf(X_train_sw_lemma, X_test_sw_lemma, y_train_sw_lemma, y_test_sw_lemma)\n",
        "print()\n",
        "\n",
        "\n",
        "report_lr_sw_lemma = classification_report(y_pred_lr_sw_lemma, y_test_sw_lemma)\n",
        "matrix_lr_sw_lemma = confusion_matrix(y_pred_lr_sw_lemma, y_test_sw_lemma)\n",
        "print('Classification Report - Logistic Regression\\n', report_lr_sw_lemma)\n",
        "print()\n",
        "print('Confusion Matrix - Logistic Regression\\n', matrix_lr_sw_lemma)\n",
        "\n",
        "\n",
        "# SVC \n",
        "acc_svc_sw_lemma, precision_svc_sw_lemma, recall_svc_sw_lemma, f1_score_svc_sw_lemma, log_loss_svc_sw_lemma, y_pred_svc_sw_lemma, besvc_sw_lemma = svc_clf(X_train_sw_lemma, X_test_sw_lemma, y_train_sw_lemma, y_test_sw_lemma)\n",
        "\n",
        "report_svc_sw_lemma = classification_report(y_pred_svc_sw_lemma, y_test_sw_lemma)\n",
        "matrix_svc_sw_lemma = confusion_matrix(y_pred_svc_sw_lemma, y_test_sw_lemma)\n",
        "\n",
        "print('Classification Report - SVC\\n', report_svc_sw_lemma)\n",
        "print()\n",
        "print('Confusion Matrix - SVC\\n', matrix_svc_sw_lemma)"
      ],
      "metadata": {
        "colab": {
          "base_uri": "https://localhost:8080/"
        },
        "id": "59MSTGOoK5dM",
        "outputId": "2c0f530e-7a17-4730-b35e-65a634440846"
      },
      "execution_count": null,
      "outputs": [
        {
          "output_type": "stream",
          "name": "stdout",
          "text": [
            "RandomForestClassifier(max_depth=10, min_samples_split=3, n_estimators=20,\n",
            "                       random_state=0)\n",
            "Classification Report - RF\n",
            "               precision    recall  f1-score   support\n",
            "\n",
            "           0       1.00      1.00      1.00       467\n",
            "           1       1.00      1.00      1.00       283\n",
            "\n",
            "    accuracy                           1.00       750\n",
            "   macro avg       1.00      1.00      1.00       750\n",
            "weighted avg       1.00      1.00      1.00       750\n",
            "\n",
            "\n",
            "Confusion Matrix - RF\n",
            " [[467   0]\n",
            " [  0 283]]\n",
            "\n",
            "LogisticRegression(C=0.01, random_state=0, solver='sag')\n",
            "log loss 9.992007221626413e-16 \n",
            "acc 1.0\n",
            "\n",
            "Classification Report - SVC\n",
            "               precision    recall  f1-score   support\n",
            "\n",
            "           0       0.99      0.99      0.99       469\n",
            "           1       0.98      0.99      0.99       281\n",
            "\n",
            "    accuracy                           0.99       750\n",
            "   macro avg       0.99      0.99      0.99       750\n",
            "weighted avg       0.99      0.99      0.99       750\n",
            "\n",
            "\n",
            "Confusion Matrix - SVC\n",
            " [[464   5]\n",
            " [  3 278]]\n"
          ]
        }
      ]
    },
    {
      "cell_type": "code",
      "source": [
        "# Creating DataFrame for Evaluations\n",
        "result_sw_lemma = pd.DataFrame(columns = ['Model Name', 'Accuracy', 'Precision', 'Recall', 'F1_score', 'Log_loss'])\n",
        "result_sw_lemma.head()"
      ],
      "metadata": {
        "id": "uK5ecUYAPSgY"
      },
      "execution_count": null,
      "outputs": []
    },
    {
      "cell_type": "code",
      "source": [
        "result_sw_lemma = res('RandomForest Classifier', acc_rf_sw_lemma, precision_rf_sw_lemma, recall_rf_sw_lemma, f1_score_rf_sw_lemma, log_loss_rf_sw_lemma, y_pred_rf_sw_lemma, berf_sw_lemma)\n",
        "result_sw_lemma = res('Logistic Regression', acc_lr_sw_lemma, precision_lr_sw_lemma, recall_lr_sw_lemma, f1_score_lr_sw_lemma, log_loss_lr_sw_lemma,  y_pred_lr_sw_lemma, belr_sw_lemma)\n",
        "result_sw_lemma = res('SVC Classifier', acc_svc_sw_lemma, precision_svc_sw_lemma, recall_svc_sw_lemma, f1_score_svc_sw_lemma, log_loss_svc_sw_lemma, y_pred_svc_sw_lemma, besvc_sw_lemma)"
      ],
      "metadata": {
        "id": "X402iAKY9xdY"
      },
      "execution_count": null,
      "outputs": []
    },
    {
      "cell_type": "markdown",
      "source": [
        "# With stopwords, not lemmatized nor stemmed"
      ],
      "metadata": {
        "id": "SRfvTuPUy2pO"
      }
    },
    {
      "cell_type": "code",
      "source": [
        "# With stopwords, not lemmatized, nor stemmed\n",
        "\n",
        "#Random Forest\n",
        "acc_rf_sw, precision_rf_sw, recall_rf_sw, f1_score_rf_sw, log_loss_rf_sw, y_pred_rf_sw, berf_sw  = rf_clf(X_train_sw, X_test_sw, y_train_sw, y_test_sw)\n",
        "\n",
        "report_rf_sw = classification_report(y_pred_rf_sw, y_test_sw)\n",
        "matrix_rf_sw = confusion_matrix(y_pred_rf_sw, y_test_sw)\n",
        "print('Classification Report - RF\\n', report_rf_sw)\n",
        "print()\n",
        "print('Confusion Matrix - RF\\n', matrix_rf_sw)\n",
        "print()\n",
        "\n",
        "#Logistic Regression\n",
        "acc_lr_sw, precision_lr_sw, recall_lr_sw, f1_score_lr_sw, log_loss_lr_sw,  y_pred_lr_sw, belr_sw = lr_clf(X_train_sw, X_test_sw, y_train_sw, y_test_sw)\n",
        "print()\n",
        "report_lr_sw = classification_report(y_pred_lr_sw, y_test_sw)\n",
        "matrix_lr_sw = confusion_matrix(y_pred_lr_sw, y_test_sw)\n",
        "print('Classification Report - Logistic Regression\\n', report_lr_sw)\n",
        "print()\n",
        "print('Confusion Matrix - Logistic Regression\\n', matrix_lr_sw)\n",
        "\n",
        "\n",
        "# SVC \n",
        "acc_svc_sw, precision_svc_sw, recall_svc_sw, f1_score_svc_sw, log_loss_svc_sw, y_pred_svc_sw, besvc_sw= svc_clf(X_train_sw, X_test_sw, y_train_sw, y_test_sw)\n",
        "\n",
        "report_svc_sw = classification_report(y_pred_svc_sw, y_test_sw)\n",
        "matrix_svc_sw = confusion_matrix(y_pred_svc_sw, y_test_sw)\n",
        "\n",
        "print('Classification Report - SVC\\n', report_svc_sw)\n",
        "print()\n",
        "print('Confusion Matrix - SVC\\n', matrix_svc_sw)"
      ],
      "metadata": {
        "colab": {
          "base_uri": "https://localhost:8080/"
        },
        "id": "xCNGgMoEy6Sx",
        "outputId": "f5f4a250-fcbb-4158-aafc-97c4dc1b2ac7"
      },
      "execution_count": null,
      "outputs": [
        {
          "output_type": "stream",
          "name": "stdout",
          "text": [
            "RandomForestClassifier(max_depth=10, min_samples_split=3, n_estimators=20,\n",
            "                       random_state=0)\n",
            "Classification Report - RF\n",
            "               precision    recall  f1-score   support\n",
            "\n",
            "           0       1.00      1.00      1.00       468\n",
            "           1       1.00      1.00      1.00       282\n",
            "\n",
            "    accuracy                           1.00       750\n",
            "   macro avg       1.00      1.00      1.00       750\n",
            "weighted avg       1.00      1.00      1.00       750\n",
            "\n",
            "\n",
            "Confusion Matrix - RF\n",
            " [[467   1]\n",
            " [  0 282]]\n",
            "\n",
            "LogisticRegression(C=0.1, random_state=0, solver='sag')\n",
            "log loss 9.992007221626413e-16 \n",
            "acc 1.0\n",
            "\n",
            "Classification Report - SVC\n",
            "               precision    recall  f1-score   support\n",
            "\n",
            "           0       0.99      0.99      0.99       468\n",
            "           1       0.98      0.98      0.98       282\n",
            "\n",
            "    accuracy                           0.99       750\n",
            "   macro avg       0.98      0.98      0.98       750\n",
            "weighted avg       0.99      0.99      0.99       750\n",
            "\n",
            "\n",
            "Confusion Matrix - SVC\n",
            " [[462   6]\n",
            " [  5 277]]\n"
          ]
        }
      ]
    },
    {
      "cell_type": "code",
      "source": [
        "# Creating DataFrame for Evaluations\n",
        "result_sw = pd.DataFrame(columns = ['Model Name', 'Accuracy', 'Precision', 'Recall', 'F1_score', 'Log_loss'])\n",
        "result_sw.head()"
      ],
      "metadata": {
        "id": "7UCg0N8e-qXj"
      },
      "execution_count": null,
      "outputs": []
    },
    {
      "cell_type": "code",
      "source": [
        "result_sw = res('RandomForest Classifier', acc_rf_sw, precision_rf_sw, recall_rf_sw, f1_score_rf_sw, log_loss_rf_sw, y_pred_rf_sw, berf_sw)\n",
        "result_sw = res('Logistic Regression',acc_lr_sw, precision_lr_sw, recall_lr_sw, f1_score_lr_sw, log_loss_lr_sw,  y_pred_lr_sw, belr_sw)\n",
        "result_sw = res('SVC Classifier', acc_svc_sw, precision_svc_sw, recall_svc_sw, f1_score_svc_sw, log_loss_svc_sw, y_pred_svc_sw, besvc_sw)"
      ],
      "metadata": {
        "id": "b0B-1zUQ8gwm"
      },
      "execution_count": null,
      "outputs": []
    },
    {
      "cell_type": "markdown",
      "source": [
        "### Without stopwords, not lemmatized nor stemmed"
      ],
      "metadata": {
        "id": "GI9p1Fqoxj5p"
      }
    },
    {
      "cell_type": "code",
      "source": [
        "# Without stopwords, not lemmatized, nor stemmed\n",
        "\n",
        "#Random Forest\n",
        "acc_rf_out, precision_rf_out, recall_rf_out, f1_score_rf_out, log_loss_rf_out, y_pred_rf_out, berf_out  = rf_clf(X_train_out, X_test_out, y_train_out, y_test_out)\n",
        "\n",
        "report_rf_out = classification_report(y_pred_rf_out, y_test_out)\n",
        "matrix_rf_out = confusion_matrix(y_pred_rf_out, y_test_out)\n",
        "print('Classification Report - RF\\n', report_rf_out)\n",
        "print()\n",
        "print('Confusion Matrix - RF\\n', matrix_rf_out)\n",
        "print()\n",
        "\n",
        "#Logistic Regression\n",
        "acc_lr_out, precision_lr_out, recall_lr_out, f1_score_lr_out, log_loss_lr_out,  y_pred_lr_out, belr_out = lr_clf(X_train_out, X_test_out, y_train_out, y_test_out)\n",
        "print()\n",
        "report_lr_out = classification_report(y_pred_lr_out, y_test_out)\n",
        "matrix_lr_out = confusion_matrix(y_pred_lr_out, y_test_out)\n",
        "print('Classification Report - Logistic Regression\\n', report_lr_out)\n",
        "print()\n",
        "print('Confusion Matrix - Logistic Regression\\n', matrix_lr_out)\n",
        "\n",
        "\n",
        "# SVC \n",
        "acc_svc_out, precision_svc_out, recall_svc_out, f1_score_svc_out, log_loss_svc_out, y_pred_svc_out, besvc_out = svc_clf(X_train_out, X_test_out, y_train_out, y_test_out)\n",
        "\n",
        "report_svc_out = classification_report(y_pred_svc_out, y_test_out)\n",
        "matrix_svc_out = confusion_matrix(y_pred_svc_out, y_test_out)\n",
        "\n",
        "print('Classification Report - SVC\\n', report_svc_out)\n",
        "print()\n",
        "print('Confusion Matrix - SVC\\n', matrix_svc_out)"
      ],
      "metadata": {
        "id": "Tf2xdrk_xntZ",
        "colab": {
          "base_uri": "https://localhost:8080/"
        },
        "outputId": "41a4ead9-4c28-4b7a-b44e-bfdbce7d184c"
      },
      "execution_count": null,
      "outputs": [
        {
          "output_type": "stream",
          "name": "stdout",
          "text": [
            "RandomForestClassifier(max_depth=10, min_samples_split=3, n_estimators=20,\n",
            "                       random_state=0)\n",
            "Classification Report - RF\n",
            "               precision    recall  f1-score   support\n",
            "\n",
            "           0       1.00      1.00      1.00       468\n",
            "           1       1.00      1.00      1.00       282\n",
            "\n",
            "    accuracy                           1.00       750\n",
            "   macro avg       1.00      1.00      1.00       750\n",
            "weighted avg       1.00      1.00      1.00       750\n",
            "\n",
            "\n",
            "Confusion Matrix - RF\n",
            " [[467   1]\n",
            " [  0 282]]\n",
            "\n",
            "LogisticRegression(C=0.01, random_state=0, solver='sag')\n",
            "log loss 9.992007221626413e-16 \n",
            "acc 1.0\n",
            "\n",
            "Classification Report - SVC\n",
            "               precision    recall  f1-score   support\n",
            "\n",
            "           0       0.98      0.97      0.98       470\n",
            "           1       0.96      0.97      0.96       280\n",
            "\n",
            "    accuracy                           0.97       750\n",
            "   macro avg       0.97      0.97      0.97       750\n",
            "weighted avg       0.97      0.97      0.97       750\n",
            "\n",
            "\n",
            "Confusion Matrix - SVC\n",
            " [[458  12]\n",
            " [  9 271]]\n"
          ]
        }
      ]
    },
    {
      "cell_type": "code",
      "source": [
        "# Creating DataFrame for Evaluations\n",
        "result_out = pd.DataFrame(columns = ['Model Name', 'Accuracy', 'Precision', 'Recall', 'F1_score', 'Log_loss'])\n",
        "result_out.head()"
      ],
      "metadata": {
        "id": "LATu_IGZ8NhC"
      },
      "execution_count": null,
      "outputs": []
    },
    {
      "cell_type": "code",
      "source": [
        "result_out = res('RandomForest Classifier', acc_rf_out, precision_rf_out, recall_rf_out, f1_score_rf_out, log_loss_rf_out, y_pred_rf_out, berf_out)\n",
        "result_out = res('Logistic Regression', acc_lr_out, precision_lr_out, recall_lr_out, f1_score_lr_out, log_loss_lr_out,  y_pred_lr_out, belr_out)\n",
        "result_out = res('SVC Classifier', acc_svc_out, precision_svc_out, recall_svc_out, f1_score_svc_out, log_loss_svc_out, y_pred_svc_out, besvc_out)"
      ],
      "metadata": {
        "id": "rKqUdIe1_hiJ"
      },
      "execution_count": null,
      "outputs": []
    },
    {
      "cell_type": "markdown",
      "source": [
        "# Stemmed data with stopwords"
      ],
      "metadata": {
        "id": "970VJSBbzvSo"
      }
    },
    {
      "cell_type": "code",
      "source": [
        "# Stemmed with stopwords\n",
        "\n",
        "#Random Forest\n",
        "acc_rf_sw_stem, precision_rf_sw_stem, recall_rf_sw_stem, f1_score_rf_sw_stem, log_loss_rf_sw_stem, y_pred_rf_sw_stem, berf_sw_stem  = rf_clf(X_train_sw_stem, X_test_sw_stem, y_train_sw_stem, y_test_sw_stem)\n",
        "\n",
        "report_rf_sw_stem = classification_report(y_pred_rf_sw_stem, y_test_sw_stem)\n",
        "matrix_rf_sw_stem = confusion_matrix(y_pred_rf_sw_stem, y_test_sw_stem)\n",
        "print('Classification Report - RF\\n', report_rf_sw_stem)\n",
        "print()\n",
        "print('Confusion Matrix - RF\\n', matrix_rf_sw_stem)\n",
        "print()\n",
        "\n",
        "\n",
        "#Logistic Regression\n",
        "acc_lr_sw_stem, precision_lr_sw_stem, recall_lr_sw_stem, f1_score_lr_sw_stem, log_loss_lr_sw_stem,  y_pred_lr_sw_stem, belr_sw_stem = lr_clf(X_train_sw_stem, X_test_sw_stem, y_train_sw_stem, y_test_sw_stem)\n",
        "print()\n",
        "report_lr_sw_stem = classification_report(y_pred_lr_sw_stem, y_test_sw_stem)\n",
        "matrix_lr_sw_stem = confusion_matrix(y_pred_lr_sw_stem, y_test_sw_stem)\n",
        "print('Classification Report - Logistic Regression\\n', report_lr_sw_stem)\n",
        "print()\n",
        "print('Confusion Matrix - Logistic Regression\\n', matrix_lr_sw_stem)\n",
        "\n",
        "\n",
        "# SVC \n",
        "acc_svc_sw_stem, precision_svc_sw_stem, recall_svc_sw_stem, f1_score_svc_sw_stem, log_loss_svc_sw_stem, y_pred_svc_sw_stem, besvc_sw_stem = svc_clf(X_train_sw_stem, X_test_sw_stem, y_train_sw_stem, y_test_sw_stem)\n",
        "\n",
        "report_svc_sw_stem = classification_report(y_pred_svc_sw_stem, y_test_sw_stem)\n",
        "matrix_svc_sw_stem = confusion_matrix(y_pred_svc_sw_stem, y_test_sw_stem)\n",
        "\n",
        "print('Classification Report - SVC\\n', report_svc_sw_stem)\n",
        "print()\n",
        "print('Confusion Matrix - SVC\\n', matrix_svc_sw_stem)"
      ],
      "metadata": {
        "id": "ZZcoPW3hzxqC",
        "colab": {
          "base_uri": "https://localhost:8080/"
        },
        "outputId": "790d34b9-55d3-4e3d-c83f-197f83576aba"
      },
      "execution_count": null,
      "outputs": [
        {
          "output_type": "stream",
          "name": "stdout",
          "text": [
            "RandomForestClassifier(max_depth=10, min_samples_split=3, n_estimators=20,\n",
            "                       random_state=0)\n",
            "Classification Report - RF\n",
            "               precision    recall  f1-score   support\n",
            "\n",
            "           0       1.00      1.00      1.00       468\n",
            "           1       1.00      1.00      1.00       282\n",
            "\n",
            "    accuracy                           1.00       750\n",
            "   macro avg       1.00      1.00      1.00       750\n",
            "weighted avg       1.00      1.00      1.00       750\n",
            "\n",
            "\n",
            "Confusion Matrix - RF\n",
            " [[467   1]\n",
            " [  0 282]]\n",
            "\n",
            "LogisticRegression(C=0.1, random_state=0, solver='sag')\n",
            "log loss 9.992007221626413e-16 \n",
            "acc 1.0\n",
            "\n",
            "Classification Report - SVC\n",
            "               precision    recall  f1-score   support\n",
            "\n",
            "           0       1.00      1.00      1.00       468\n",
            "           1       0.99      1.00      0.99       282\n",
            "\n",
            "    accuracy                           1.00       750\n",
            "   macro avg       1.00      1.00      1.00       750\n",
            "weighted avg       1.00      1.00      1.00       750\n",
            "\n",
            "\n",
            "Confusion Matrix - SVC\n",
            " [[466   2]\n",
            " [  1 281]]\n"
          ]
        }
      ]
    },
    {
      "cell_type": "code",
      "source": [
        "# Creating DataFrame for Evaluations\n",
        "result_sw_stem = pd.DataFrame(columns = ['Model Name', 'Accuracy', 'Precision', 'Recall', 'F1_score', 'Log_loss'])\n",
        "result_sw_stem.head()"
      ],
      "metadata": {
        "id": "l-BImBMj74zE"
      },
      "execution_count": null,
      "outputs": []
    },
    {
      "cell_type": "code",
      "source": [
        "result_sw_stem = res('RandomForest Classifier', acc_rf_sw_stem, precision_rf_sw_stem, recall_rf_sw_stem, f1_score_rf_sw_stem, log_loss_rf_sw_stem, y_pred_rf_sw_stem, berf_sw_stem)\n",
        "result_sw_stem = res('Logistic Regression', acc_lr_sw_stem, precision_lr_sw_stem, recall_lr_sw_stem, f1_score_lr_sw_stem, log_loss_lr_sw_stem,  y_pred_lr_sw_stem, belr_sw_stem)\n",
        "result_sw_stem = res('SVC Classifier', acc_svc_sw_stem, precision_svc_sw_stem, recall_svc_sw_stem, f1_score_svc_sw_stem, log_loss_svc_sw_stem, y_pred_svc_sw_stem, besvc_sw_stem)"
      ],
      "metadata": {
        "id": "66h_oBQeCM0x"
      },
      "execution_count": null,
      "outputs": []
    },
    {
      "cell_type": "markdown",
      "source": [
        "# Stemmed without stopwords\n"
      ],
      "metadata": {
        "id": "wliNwVz00kaD"
      }
    },
    {
      "cell_type": "code",
      "source": [
        "# Stemmed with stopwords\n",
        "\n",
        "#Random Forest\n",
        "acc_rf_stem, precision_rf_stem, recall_rf_stem, f1_score_rf_stem, log_loss_rf_stem, y_pred_rf_stem, berf_stem  = rf_clf(X_train_stem, X_test_stem, y_train_stem, y_test_stem)\n",
        "\n",
        "report_rf_stem = classification_report(y_pred_rf_stem, y_test_stem)\n",
        "matrix_rf_stem = confusion_matrix(y_pred_rf_stem, y_test_stem)\n",
        "print('Classification Report - RF\\n', report_rf_stem)\n",
        "print()\n",
        "print('Confusion Matrix - RF\\n', matrix_rf_stem)\n",
        "print()\n",
        "\n",
        "#Logistic Regression\n",
        "acc_lr_stem, precision_lr_stem, recall_lr_stem, f1_score_lr_stem, log_loss_lr_stem,  y_pred_lr_stem, belr_stem = lr_clf(X_train_stem, X_test_stem, y_train_stem, y_test_stem)\n",
        "print()\n",
        "report_lr_stem = classification_report(y_pred_lr_stem, y_test_stem)\n",
        "matrix_lr_stem = confusion_matrix(y_pred_lr_stem, y_test_stem)\n",
        "print('Classification Report - Logistic Regression\\n', report_lr_stem)\n",
        "print()\n",
        "print('Confusion Matrix - Logistic Regression\\n', matrix_lr_stem)\n",
        "\n",
        "# SVC \n",
        "acc_svc_stem, precision_svc_stem, recall_svc_stem, f1_score_svc_stem, log_loss_svc_stem, y_pred_svc_stem, besvc_stem = svc_clf(X_train_stem, X_test_stem, y_train_stem, y_test_stem)\n",
        "\n",
        "report_svc_stem = classification_report(y_pred_svc_stem, y_test_stem)\n",
        "matrix_svc_stem = confusion_matrix(y_pred_svc_stem, y_test_stem)\n",
        "\n",
        "print('Classification Report - SVC\\n', report_svc_stem)\n",
        "print()\n",
        "print('Confusion Matrix - SVC\\n', matrix_svc_stem)"
      ],
      "metadata": {
        "id": "40HD7PM30m5p",
        "colab": {
          "base_uri": "https://localhost:8080/"
        },
        "outputId": "18ec1b82-2a17-49f0-b6e2-5278a44fa6fe"
      },
      "execution_count": null,
      "outputs": [
        {
          "output_type": "stream",
          "name": "stdout",
          "text": [
            "RandomForestClassifier(max_depth=10, min_samples_split=3, n_estimators=20,\n",
            "                       random_state=0)\n",
            "Classification Report - RF\n",
            "               precision    recall  f1-score   support\n",
            "\n",
            "           0       1.00      1.00      1.00       467\n",
            "           1       1.00      1.00      1.00       283\n",
            "\n",
            "    accuracy                           1.00       750\n",
            "   macro avg       1.00      1.00      1.00       750\n",
            "weighted avg       1.00      1.00      1.00       750\n",
            "\n",
            "\n",
            "Confusion Matrix - RF\n",
            " [[467   0]\n",
            " [  0 283]]\n",
            "\n",
            "LogisticRegression(C=0.1, random_state=0, solver='sag')\n",
            "log loss 9.992007221626413e-16 \n",
            "acc 1.0\n",
            "\n",
            "Classification Report - SVC\n",
            "               precision    recall  f1-score   support\n",
            "\n",
            "           0       0.99      0.97      0.98       475\n",
            "           1       0.95      0.98      0.97       275\n",
            "\n",
            "    accuracy                           0.98       750\n",
            "   macro avg       0.97      0.98      0.97       750\n",
            "weighted avg       0.98      0.98      0.98       750\n",
            "\n",
            "\n",
            "Confusion Matrix - SVC\n",
            " [[462  13]\n",
            " [  5 270]]\n"
          ]
        }
      ]
    },
    {
      "cell_type": "code",
      "source": [
        "# Creating DataFrame for Evaluations\n",
        "result_stem = pd.DataFrame(columns = ['Model Name', 'Accuracy', 'Precision', 'Recall', 'F1_score', 'Log_loss'])\n",
        "result_stem.head()"
      ],
      "metadata": {
        "id": "bVvgKjvE4GtT"
      },
      "execution_count": null,
      "outputs": []
    },
    {
      "cell_type": "code",
      "source": [
        "result_stem = res('RandomForest Classifier', acc_rf_stem, precision_rf_stem, recall_rf_stem, f1_score_rf_stem, log_loss_rf_stem, y_pred_rf_stem, berf_stem)\n",
        "result_stem = res('Logistic Regression', acc_lr_stem, precision_lr_stem, recall_lr_stem, f1_score_lr_stem, log_loss_lr_stem,  y_pred_lr_stem, belr_stem)\n",
        "result_stem = res('SVC Classifier', acc_svc_stem, precision_svc_stem, recall_svc_stem, f1_score_svc_stem, log_loss_svc_stem, y_pred_svc_stem, besvc_stem)"
      ],
      "metadata": {
        "id": "jQgJu3rR4Yao"
      },
      "execution_count": null,
      "outputs": []
    },
    {
      "cell_type": "markdown",
      "source": [
        "# Cosine Similarity"
      ],
      "metadata": {
        "id": "pkMao6QHvHqD"
      }
    },
    {
      "cell_type": "code",
      "source": [
        "from sklearn.metrics.pairwise import cosine_similarity"
      ],
      "metadata": {
        "id": "V3jwkfmLvJqV"
      },
      "execution_count": null,
      "outputs": []
    },
    {
      "cell_type": "code",
      "source": [
        "#cosine = cosine_similarity(X_train_lemma, y_train_lemma, dense_output=True)"
      ],
      "metadata": {
        "id": "4rRip2xcvM2Q"
      },
      "execution_count": null,
      "outputs": []
    },
    {
      "cell_type": "code",
      "source": [
        "cosine_similarity(arr_q1_lemma , arr_q2_lemma, dense_output=True)"
      ],
      "metadata": {
        "colab": {
          "base_uri": "https://localhost:8080/"
        },
        "id": "gqh3J2fN0kQe",
        "outputId": "d1763a84-b980-4f75-a7f2-61aac6414a1d"
      },
      "execution_count": null,
      "outputs": [
        {
          "output_type": "execute_result",
          "data": {
            "text/plain": [
              "array([[0.77353704, 0.6493094 , 0.7844405 , ..., 0.61083734, 0.6324987 ,\n",
              "        0.8206404 ],\n",
              "       [0.33382827, 0.8227184 , 0.5351572 , ..., 0.5696451 , 0.4045978 ,\n",
              "        0.5432366 ],\n",
              "       [0.57329106, 0.65007234, 0.86115694, ..., 0.77194357, 0.52491057,\n",
              "        0.7496874 ],\n",
              "       ...,\n",
              "       [0.5479884 , 0.5654626 , 0.74211514, ..., 0.8167627 , 0.58999306,\n",
              "        0.8312438 ],\n",
              "       [0.63509995, 0.54801077, 0.78231716, ..., 0.63727254, 0.88014674,\n",
              "        0.81301326],\n",
              "       [0.6825827 , 0.6387254 , 0.84284997, ..., 0.6468858 , 0.6542733 ,\n",
              "        0.8440794 ]], dtype=float32)"
            ]
          },
          "metadata": {},
          "execution_count": 113
        }
      ]
    },
    {
      "cell_type": "code",
      "source": [
        "cosine_similarity(arr_q1_lemma , arr_q2_lemma)\n",
        "cosine_similarity(arr_q1_sw_lemma , arr_q2_sw_lemma)\n",
        "cosine_similarity(arr_q1_stem , arr_q2_stem)\n",
        "cosine_similarity(arr_q1_sw_stem , arr_q2_sw_stem)\n",
        "cosine_similarity(arr_q1_sw , arr_q2_sw)\n",
        "cosine_similarity(arr_q1_out , arr_q2_out)"
      ],
      "metadata": {
        "id": "ELyMvNJI1vfA"
      },
      "execution_count": null,
      "outputs": []
    }
  ]
}
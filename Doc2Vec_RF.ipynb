{
  "nbformat": 4,
  "nbformat_minor": 0,
  "metadata": {
    "colab": {
      "provenance": [],
      "collapsed_sections": [],
      "authorship_tag": "ABX9TyNpfBpxOj5hPdrAnkpUpkIr",
      "include_colab_link": true
    },
    "kernelspec": {
      "name": "python3",
      "display_name": "Python 3"
    },
    "language_info": {
      "name": "python"
    }
  },
  "cells": [
    {
      "cell_type": "markdown",
      "metadata": {
        "id": "view-in-github",
        "colab_type": "text"
      },
      "source": [
        "<a href=\"https://colab.research.google.com/github/antopeza/Final-Project-Brainster/blob/main/Doc2Vec_RF.ipynb\" target=\"_parent\"><img src=\"https://colab.research.google.com/assets/colab-badge.svg\" alt=\"Open In Colab\"/></a>"
      ]
    },
    {
      "cell_type": "code",
      "execution_count": 1,
      "metadata": {
        "id": "e-KBkFqJDgmY"
      },
      "outputs": [],
      "source": [
        "import pandas as pd\n",
        "import numpy as np\n",
        "from numpy import random\n",
        "import matplotlib.pyplot as plt\n",
        "import os \n",
        "\n",
        "import re\n",
        "\n",
        "import string\n",
        "from string import punctuation\n",
        "\n",
        "\n",
        "from sklearn.model_selection import train_test_split, GridSearchCV\n",
        "from sklearn.pipeline import Pipeline\n",
        "from sklearn.feature_extraction.text import CountVectorizer, TfidfVectorizer\n",
        "from sklearn.linear_model import LogisticRegression\n",
        "from sklearn.svm import SVC\n",
        "from sklearn.svm import LinearSVC\n",
        "import sklearn.metrics as metrics\n",
        "from sklearn.metrics import classification_report, confusion_matrix, accuracy_score\n",
        "\n",
        "import xgboost as xgb\n",
        "\n",
        "import nltk\n",
        "from nltk.stem import WordNetLemmatizer, PorterStemmer, LancasterStemmer\n",
        "from nltk.corpus import wordnet, stopwords\n",
        "from nltk import pos_tag, word_tokenize\n",
        "\n",
        "import gensim\n",
        "from gensim.parsing.preprocessing import remove_stopwords\n",
        "\n",
        "from keras.preprocessing.text import Tokenizer\n",
        "from keras_preprocessing.sequence import pad_sequences\n",
        "from keras.models import Model, Sequential, load_model\n",
        "from keras.layers import Input, Embedding, LSTM, Dense\n",
        "from keras.callbacks import ModelCheckpoint, EarlyStopping\n",
        "\n",
        "from imblearn.over_sampling import SMOTE\n",
        "from collections import Counter\n",
        "\n",
        "#from scikeras.wrappers import KerasClassifier\n",
        "\n",
        "import pickle\n",
        "from pickle import dump\n",
        "from pickle import load\n",
        "\n",
        "from imblearn.over_sampling import SMOTE\n",
        "from collections import Counter\n",
        "\n",
        "%matplotlib inline\n",
        "import warnings\n",
        "warnings.filterwarnings('ignore')"
      ]
    },
    {
      "cell_type": "code",
      "source": [
        "from google.colab import drive \n",
        "drive.mount('/drive')"
      ],
      "metadata": {
        "colab": {
          "base_uri": "https://localhost:8080/"
        },
        "id": "UBbY-W7bD2F6",
        "outputId": "500b31b6-bda9-43c5-f77b-f1608a62a74a"
      },
      "execution_count": 2,
      "outputs": [
        {
          "output_type": "stream",
          "name": "stdout",
          "text": [
            "Mounted at /drive\n"
          ]
        }
      ]
    },
    {
      "cell_type": "code",
      "source": [
        "nltk.download(\"punkt\")\n",
        "nltk.download(\"stopwords\")\n",
        "nltk.download(\"wordnet\")\n",
        "nltk.download(\"averaged_perceptron_tagger\")\n",
        "nltk.download('omw-1.4')"
      ],
      "metadata": {
        "colab": {
          "base_uri": "https://localhost:8080/"
        },
        "id": "ok8svMpmDmG9",
        "outputId": "96931f17-3e2a-424c-edcd-5c4338767915"
      },
      "execution_count": 3,
      "outputs": [
        {
          "output_type": "stream",
          "name": "stderr",
          "text": [
            "[nltk_data] Downloading package punkt to /root/nltk_data...\n",
            "[nltk_data]   Unzipping tokenizers/punkt.zip.\n",
            "[nltk_data] Downloading package stopwords to /root/nltk_data...\n",
            "[nltk_data]   Unzipping corpora/stopwords.zip.\n",
            "[nltk_data] Downloading package wordnet to /root/nltk_data...\n",
            "[nltk_data] Downloading package averaged_perceptron_tagger to\n",
            "[nltk_data]     /root/nltk_data...\n",
            "[nltk_data]   Unzipping taggers/averaged_perceptron_tagger.zip.\n",
            "[nltk_data] Downloading package omw-1.4 to /root/nltk_data...\n"
          ]
        },
        {
          "output_type": "execute_result",
          "data": {
            "text/plain": [
              "True"
            ]
          },
          "metadata": {},
          "execution_count": 3
        }
      ]
    },
    {
      "cell_type": "code",
      "source": [
        "stops = set(stopwords.words('english'))\n",
        "#print(stops)"
      ],
      "metadata": {
        "id": "eihupDCWDobb"
      },
      "execution_count": 4,
      "outputs": []
    },
    {
      "cell_type": "code",
      "source": [
        "stemmer =  PorterStemmer()\n",
        "lemmer = WordNetLemmatizer()"
      ],
      "metadata": {
        "id": "zkLm5h4mDqlo"
      },
      "execution_count": 5,
      "outputs": []
    },
    {
      "cell_type": "code",
      "source": [
        "# example\n",
        "print(stemmer.stem('halves'))\n",
        "print(lemmer.lemmatize('halves'))"
      ],
      "metadata": {
        "colab": {
          "base_uri": "https://localhost:8080/"
        },
        "id": "V3L1FQegDsqY",
        "outputId": "5ed33e1a-c486-4df5-b17f-a57296703192"
      },
      "execution_count": 6,
      "outputs": [
        {
          "output_type": "stream",
          "name": "stdout",
          "text": [
            "halv\n",
            "half\n"
          ]
        }
      ]
    },
    {
      "cell_type": "code",
      "source": [
        "#df_raw = pd.read_csv(path)\n",
        "df_raw = pd.read_csv('/drive/My Drive/MACHINE LEARNING/FINAL PROJECT/train.csv')"
      ],
      "metadata": {
        "id": "GVt98k6CDuZo"
      },
      "execution_count": 7,
      "outputs": []
    },
    {
      "cell_type": "code",
      "source": [
        "print('shape of df  = ', df_raw.shape)\n",
        "print()\n",
        "df_raw.head(2)"
      ],
      "metadata": {
        "colab": {
          "base_uri": "https://localhost:8080/",
          "height": 147
        },
        "id": "yT4ICsPwDw65",
        "outputId": "72d3cec1-ccc9-445f-de82-a2b9e00bc2b8"
      },
      "execution_count": 8,
      "outputs": [
        {
          "output_type": "stream",
          "name": "stdout",
          "text": [
            "shape of df  =  (404290, 6)\n",
            "\n"
          ]
        },
        {
          "output_type": "execute_result",
          "data": {
            "text/plain": [
              "   id  qid1  qid2                                          question1  \\\n",
              "0   0     1     2  What is the step by step guide to invest in sh...   \n",
              "1   1     3     4  What is the story of Kohinoor (Koh-i-Noor) Dia...   \n",
              "\n",
              "                                           question2  is_duplicate  \n",
              "0  What is the step by step guide to invest in sh...             0  \n",
              "1  What would happen if the Indian government sto...             0  "
            ],
            "text/html": [
              "\n",
              "  <div id=\"df-c25eeffe-6177-4daf-a8cc-8ea6b30cc751\">\n",
              "    <div class=\"colab-df-container\">\n",
              "      <div>\n",
              "<style scoped>\n",
              "    .dataframe tbody tr th:only-of-type {\n",
              "        vertical-align: middle;\n",
              "    }\n",
              "\n",
              "    .dataframe tbody tr th {\n",
              "        vertical-align: top;\n",
              "    }\n",
              "\n",
              "    .dataframe thead th {\n",
              "        text-align: right;\n",
              "    }\n",
              "</style>\n",
              "<table border=\"1\" class=\"dataframe\">\n",
              "  <thead>\n",
              "    <tr style=\"text-align: right;\">\n",
              "      <th></th>\n",
              "      <th>id</th>\n",
              "      <th>qid1</th>\n",
              "      <th>qid2</th>\n",
              "      <th>question1</th>\n",
              "      <th>question2</th>\n",
              "      <th>is_duplicate</th>\n",
              "    </tr>\n",
              "  </thead>\n",
              "  <tbody>\n",
              "    <tr>\n",
              "      <th>0</th>\n",
              "      <td>0</td>\n",
              "      <td>1</td>\n",
              "      <td>2</td>\n",
              "      <td>What is the step by step guide to invest in sh...</td>\n",
              "      <td>What is the step by step guide to invest in sh...</td>\n",
              "      <td>0</td>\n",
              "    </tr>\n",
              "    <tr>\n",
              "      <th>1</th>\n",
              "      <td>1</td>\n",
              "      <td>3</td>\n",
              "      <td>4</td>\n",
              "      <td>What is the story of Kohinoor (Koh-i-Noor) Dia...</td>\n",
              "      <td>What would happen if the Indian government sto...</td>\n",
              "      <td>0</td>\n",
              "    </tr>\n",
              "  </tbody>\n",
              "</table>\n",
              "</div>\n",
              "      <button class=\"colab-df-convert\" onclick=\"convertToInteractive('df-c25eeffe-6177-4daf-a8cc-8ea6b30cc751')\"\n",
              "              title=\"Convert this dataframe to an interactive table.\"\n",
              "              style=\"display:none;\">\n",
              "        \n",
              "  <svg xmlns=\"http://www.w3.org/2000/svg\" height=\"24px\"viewBox=\"0 0 24 24\"\n",
              "       width=\"24px\">\n",
              "    <path d=\"M0 0h24v24H0V0z\" fill=\"none\"/>\n",
              "    <path d=\"M18.56 5.44l.94 2.06.94-2.06 2.06-.94-2.06-.94-.94-2.06-.94 2.06-2.06.94zm-11 1L8.5 8.5l.94-2.06 2.06-.94-2.06-.94L8.5 2.5l-.94 2.06-2.06.94zm10 10l.94 2.06.94-2.06 2.06-.94-2.06-.94-.94-2.06-.94 2.06-2.06.94z\"/><path d=\"M17.41 7.96l-1.37-1.37c-.4-.4-.92-.59-1.43-.59-.52 0-1.04.2-1.43.59L10.3 9.45l-7.72 7.72c-.78.78-.78 2.05 0 2.83L4 21.41c.39.39.9.59 1.41.59.51 0 1.02-.2 1.41-.59l7.78-7.78 2.81-2.81c.8-.78.8-2.07 0-2.86zM5.41 20L4 18.59l7.72-7.72 1.47 1.35L5.41 20z\"/>\n",
              "  </svg>\n",
              "      </button>\n",
              "      \n",
              "  <style>\n",
              "    .colab-df-container {\n",
              "      display:flex;\n",
              "      flex-wrap:wrap;\n",
              "      gap: 12px;\n",
              "    }\n",
              "\n",
              "    .colab-df-convert {\n",
              "      background-color: #E8F0FE;\n",
              "      border: none;\n",
              "      border-radius: 50%;\n",
              "      cursor: pointer;\n",
              "      display: none;\n",
              "      fill: #1967D2;\n",
              "      height: 32px;\n",
              "      padding: 0 0 0 0;\n",
              "      width: 32px;\n",
              "    }\n",
              "\n",
              "    .colab-df-convert:hover {\n",
              "      background-color: #E2EBFA;\n",
              "      box-shadow: 0px 1px 2px rgba(60, 64, 67, 0.3), 0px 1px 3px 1px rgba(60, 64, 67, 0.15);\n",
              "      fill: #174EA6;\n",
              "    }\n",
              "\n",
              "    [theme=dark] .colab-df-convert {\n",
              "      background-color: #3B4455;\n",
              "      fill: #D2E3FC;\n",
              "    }\n",
              "\n",
              "    [theme=dark] .colab-df-convert:hover {\n",
              "      background-color: #434B5C;\n",
              "      box-shadow: 0px 1px 3px 1px rgba(0, 0, 0, 0.15);\n",
              "      filter: drop-shadow(0px 1px 2px rgba(0, 0, 0, 0.3));\n",
              "      fill: #FFFFFF;\n",
              "    }\n",
              "  </style>\n",
              "\n",
              "      <script>\n",
              "        const buttonEl =\n",
              "          document.querySelector('#df-c25eeffe-6177-4daf-a8cc-8ea6b30cc751 button.colab-df-convert');\n",
              "        buttonEl.style.display =\n",
              "          google.colab.kernel.accessAllowed ? 'block' : 'none';\n",
              "\n",
              "        async function convertToInteractive(key) {\n",
              "          const element = document.querySelector('#df-c25eeffe-6177-4daf-a8cc-8ea6b30cc751');\n",
              "          const dataTable =\n",
              "            await google.colab.kernel.invokeFunction('convertToInteractive',\n",
              "                                                     [key], {});\n",
              "          if (!dataTable) return;\n",
              "\n",
              "          const docLinkHtml = 'Like what you see? Visit the ' +\n",
              "            '<a target=\"_blank\" href=https://colab.research.google.com/notebooks/data_table.ipynb>data table notebook</a>'\n",
              "            + ' to learn more about interactive tables.';\n",
              "          element.innerHTML = '';\n",
              "          dataTable['output_type'] = 'display_data';\n",
              "          await google.colab.output.renderOutput(dataTable, element);\n",
              "          const docLink = document.createElement('div');\n",
              "          docLink.innerHTML = docLinkHtml;\n",
              "          element.appendChild(docLink);\n",
              "        }\n",
              "      </script>\n",
              "    </div>\n",
              "  </div>\n",
              "  "
            ]
          },
          "metadata": {},
          "execution_count": 8
        }
      ]
    },
    {
      "cell_type": "code",
      "source": [
        "df_raw[df_raw.isnull().any(axis=1)]"
      ],
      "metadata": {
        "colab": {
          "base_uri": "https://localhost:8080/",
          "height": 143
        },
        "id": "nmzhM5GaD9su",
        "outputId": "c3e94bff-8b6e-487d-9be2-565308dd1ad8"
      },
      "execution_count": 8,
      "outputs": [
        {
          "output_type": "execute_result",
          "data": {
            "text/plain": [
              "            id    qid1    qid2                         question1  \\\n",
              "105780  105780  174363  174364    How can I develop android app?   \n",
              "201841  201841  303951  174364  How can I create an Android app?   \n",
              "363362  363362  493340  493341                               NaN   \n",
              "\n",
              "                                                question2  is_duplicate  \n",
              "105780                                                NaN             0  \n",
              "201841                                                NaN             0  \n",
              "363362  My Chinese name is Haichao Yu. What English na...             0  "
            ],
            "text/html": [
              "\n",
              "  <div id=\"df-fa75a78e-c84b-4341-91c8-7849db624abb\">\n",
              "    <div class=\"colab-df-container\">\n",
              "      <div>\n",
              "<style scoped>\n",
              "    .dataframe tbody tr th:only-of-type {\n",
              "        vertical-align: middle;\n",
              "    }\n",
              "\n",
              "    .dataframe tbody tr th {\n",
              "        vertical-align: top;\n",
              "    }\n",
              "\n",
              "    .dataframe thead th {\n",
              "        text-align: right;\n",
              "    }\n",
              "</style>\n",
              "<table border=\"1\" class=\"dataframe\">\n",
              "  <thead>\n",
              "    <tr style=\"text-align: right;\">\n",
              "      <th></th>\n",
              "      <th>id</th>\n",
              "      <th>qid1</th>\n",
              "      <th>qid2</th>\n",
              "      <th>question1</th>\n",
              "      <th>question2</th>\n",
              "      <th>is_duplicate</th>\n",
              "    </tr>\n",
              "  </thead>\n",
              "  <tbody>\n",
              "    <tr>\n",
              "      <th>105780</th>\n",
              "      <td>105780</td>\n",
              "      <td>174363</td>\n",
              "      <td>174364</td>\n",
              "      <td>How can I develop android app?</td>\n",
              "      <td>NaN</td>\n",
              "      <td>0</td>\n",
              "    </tr>\n",
              "    <tr>\n",
              "      <th>201841</th>\n",
              "      <td>201841</td>\n",
              "      <td>303951</td>\n",
              "      <td>174364</td>\n",
              "      <td>How can I create an Android app?</td>\n",
              "      <td>NaN</td>\n",
              "      <td>0</td>\n",
              "    </tr>\n",
              "    <tr>\n",
              "      <th>363362</th>\n",
              "      <td>363362</td>\n",
              "      <td>493340</td>\n",
              "      <td>493341</td>\n",
              "      <td>NaN</td>\n",
              "      <td>My Chinese name is Haichao Yu. What English na...</td>\n",
              "      <td>0</td>\n",
              "    </tr>\n",
              "  </tbody>\n",
              "</table>\n",
              "</div>\n",
              "      <button class=\"colab-df-convert\" onclick=\"convertToInteractive('df-fa75a78e-c84b-4341-91c8-7849db624abb')\"\n",
              "              title=\"Convert this dataframe to an interactive table.\"\n",
              "              style=\"display:none;\">\n",
              "        \n",
              "  <svg xmlns=\"http://www.w3.org/2000/svg\" height=\"24px\"viewBox=\"0 0 24 24\"\n",
              "       width=\"24px\">\n",
              "    <path d=\"M0 0h24v24H0V0z\" fill=\"none\"/>\n",
              "    <path d=\"M18.56 5.44l.94 2.06.94-2.06 2.06-.94-2.06-.94-.94-2.06-.94 2.06-2.06.94zm-11 1L8.5 8.5l.94-2.06 2.06-.94-2.06-.94L8.5 2.5l-.94 2.06-2.06.94zm10 10l.94 2.06.94-2.06 2.06-.94-2.06-.94-.94-2.06-.94 2.06-2.06.94z\"/><path d=\"M17.41 7.96l-1.37-1.37c-.4-.4-.92-.59-1.43-.59-.52 0-1.04.2-1.43.59L10.3 9.45l-7.72 7.72c-.78.78-.78 2.05 0 2.83L4 21.41c.39.39.9.59 1.41.59.51 0 1.02-.2 1.41-.59l7.78-7.78 2.81-2.81c.8-.78.8-2.07 0-2.86zM5.41 20L4 18.59l7.72-7.72 1.47 1.35L5.41 20z\"/>\n",
              "  </svg>\n",
              "      </button>\n",
              "      \n",
              "  <style>\n",
              "    .colab-df-container {\n",
              "      display:flex;\n",
              "      flex-wrap:wrap;\n",
              "      gap: 12px;\n",
              "    }\n",
              "\n",
              "    .colab-df-convert {\n",
              "      background-color: #E8F0FE;\n",
              "      border: none;\n",
              "      border-radius: 50%;\n",
              "      cursor: pointer;\n",
              "      display: none;\n",
              "      fill: #1967D2;\n",
              "      height: 32px;\n",
              "      padding: 0 0 0 0;\n",
              "      width: 32px;\n",
              "    }\n",
              "\n",
              "    .colab-df-convert:hover {\n",
              "      background-color: #E2EBFA;\n",
              "      box-shadow: 0px 1px 2px rgba(60, 64, 67, 0.3), 0px 1px 3px 1px rgba(60, 64, 67, 0.15);\n",
              "      fill: #174EA6;\n",
              "    }\n",
              "\n",
              "    [theme=dark] .colab-df-convert {\n",
              "      background-color: #3B4455;\n",
              "      fill: #D2E3FC;\n",
              "    }\n",
              "\n",
              "    [theme=dark] .colab-df-convert:hover {\n",
              "      background-color: #434B5C;\n",
              "      box-shadow: 0px 1px 3px 1px rgba(0, 0, 0, 0.15);\n",
              "      filter: drop-shadow(0px 1px 2px rgba(0, 0, 0, 0.3));\n",
              "      fill: #FFFFFF;\n",
              "    }\n",
              "  </style>\n",
              "\n",
              "      <script>\n",
              "        const buttonEl =\n",
              "          document.querySelector('#df-fa75a78e-c84b-4341-91c8-7849db624abb button.colab-df-convert');\n",
              "        buttonEl.style.display =\n",
              "          google.colab.kernel.accessAllowed ? 'block' : 'none';\n",
              "\n",
              "        async function convertToInteractive(key) {\n",
              "          const element = document.querySelector('#df-fa75a78e-c84b-4341-91c8-7849db624abb');\n",
              "          const dataTable =\n",
              "            await google.colab.kernel.invokeFunction('convertToInteractive',\n",
              "                                                     [key], {});\n",
              "          if (!dataTable) return;\n",
              "\n",
              "          const docLinkHtml = 'Like what you see? Visit the ' +\n",
              "            '<a target=\"_blank\" href=https://colab.research.google.com/notebooks/data_table.ipynb>data table notebook</a>'\n",
              "            + ' to learn more about interactive tables.';\n",
              "          element.innerHTML = '';\n",
              "          dataTable['output_type'] = 'display_data';\n",
              "          await google.colab.output.renderOutput(dataTable, element);\n",
              "          const docLink = document.createElement('div');\n",
              "          docLink.innerHTML = docLinkHtml;\n",
              "          element.appendChild(docLink);\n",
              "        }\n",
              "      </script>\n",
              "    </div>\n",
              "  </div>\n",
              "  "
            ]
          },
          "metadata": {},
          "execution_count": 8
        }
      ]
    },
    {
      "cell_type": "code",
      "source": [
        "df_raw = df_raw.fillna(\"\")\n",
        "df_raw.isnull().sum()"
      ],
      "metadata": {
        "colab": {
          "base_uri": "https://localhost:8080/"
        },
        "id": "U6MgVQvXEDkK",
        "outputId": "c19d1570-f7ff-4a94-c272-2338541f0a55"
      },
      "execution_count": 8,
      "outputs": [
        {
          "output_type": "execute_result",
          "data": {
            "text/plain": [
              "id              0\n",
              "qid1            0\n",
              "qid2            0\n",
              "question1       0\n",
              "question2       0\n",
              "is_duplicate    0\n",
              "dtype: int64"
            ]
          },
          "metadata": {},
          "execution_count": 8
        }
      ]
    },
    {
      "cell_type": "code",
      "source": [
        "# randomly selected samples from df for the new df to perform operations\n",
        "df = df_raw.sample(3100)\n",
        "df = df[['question1', 'question2', 'is_duplicate']]\n",
        "print(df.shape)"
      ],
      "metadata": {
        "colab": {
          "base_uri": "https://localhost:8080/"
        },
        "id": "GXqgqnxiESn0",
        "outputId": "e92f8aed-0bc8-496a-b8b8-fd0867af4f84"
      },
      "execution_count": 9,
      "outputs": [
        {
          "output_type": "stream",
          "name": "stdout",
          "text": [
            "(3100, 3)\n"
          ]
        }
      ]
    },
    {
      "cell_type": "code",
      "source": [
        "df_copy = df.copy()"
      ],
      "metadata": {
        "id": "Bl3kqF6NQ6pn"
      },
      "execution_count": 10,
      "outputs": []
    },
    {
      "cell_type": "markdown",
      "source": [
        "# In case of split before normalization"
      ],
      "metadata": {
        "id": "Kkcbxj8SjOs1"
      }
    },
    {
      "cell_type": "code",
      "source": [
        "y = df['is_duplicate']\n",
        "X_train, X_test, y_train, y_test = train_test_split(df.iloc[:, 0:-1], \n",
        "                                                                y, stratify = y, test_size = 0.2, random_state = 0)\n",
        "\n",
        "print(\"Whole dataset: \", len(df))\n",
        "print(\"X_train size =\", len(X_train))\n",
        "print(\"X_split size =\", len(X_test))\n",
        "print(\"y_train size =\", len(y_train))\n",
        "print(\"y_split size =\", len(y_test))"
      ],
      "metadata": {
        "colab": {
          "base_uri": "https://localhost:8080/"
        },
        "id": "DqbOPL-mRF9I",
        "outputId": "a68cca8e-798e-47f2-eb9b-bf2bea62ebd1"
      },
      "execution_count": 97,
      "outputs": [
        {
          "output_type": "stream",
          "name": "stdout",
          "text": [
            "Whole dataset:  3100\n",
            "X_train size = 2480\n",
            "X_split size = 620\n",
            "y_train size = 2480\n",
            "y_split size = 620\n"
          ]
        }
      ]
    },
    {
      "cell_type": "code",
      "source": [
        "y_train_df = pd.DataFrame(y_train, columns=['is_duplicate'])\n",
        "X_train = X_train.join(y_train_df, lsuffix='_left', rsuffix='_right')\n",
        "X_train"
      ],
      "metadata": {
        "colab": {
          "base_uri": "https://localhost:8080/",
          "height": 424
        },
        "id": "8bNee4VtVv9o",
        "outputId": "19bc6e87-e313-49a0-84c3-f4f6fbcedfa4"
      },
      "execution_count": 98,
      "outputs": [
        {
          "output_type": "execute_result",
          "data": {
            "text/plain": [
              "                                                question1  \\\n",
              "66080   Can you suggest a reputed US based SEO service...   \n",
              "24056   What is a lucrative career for an introverted,...   \n",
              "139620                           What's your zodiac sign?   \n",
              "226122                      How old would Jesus be today?   \n",
              "32413              What are the principles of federalism?   \n",
              "...                                                   ...   \n",
              "107150                        How was the 2G scam caught?   \n",
              "130687  How do I remove personal information from atla...   \n",
              "314943                      How is convict conditionning?   \n",
              "89163                           Why don't human lay eggs?   \n",
              "335872  If US politicians helped train, fund and arm I...   \n",
              "\n",
              "                                                question2  is_duplicate  \n",
              "66080   Can anyone give me a review of the MSG . My Da...             0  \n",
              "24056   What is a lucrative career for someone who is ...             1  \n",
              "139620        Are you sensitive? What's your zodiac sign?             0  \n",
              "226122                                  How old is Jesus?             1  \n",
              "32413            What are fundamental ethical principles?             0  \n",
              "...                                                   ...           ...  \n",
              "107150  If anybody want to expose a biggest scams in g...             0  \n",
              "130687  How do I remove my personal information from t...             1  \n",
              "314943                      What is Convict conditioning?             1  \n",
              "89163   How does a chicken lay an egg within another e...             0  \n",
              "335872            Is it true that the US is funding ISIS?             0  \n",
              "\n",
              "[2480 rows x 3 columns]"
            ],
            "text/html": [
              "\n",
              "  <div id=\"df-b117704f-8062-491c-93a0-2764c5f101ae\">\n",
              "    <div class=\"colab-df-container\">\n",
              "      <div>\n",
              "<style scoped>\n",
              "    .dataframe tbody tr th:only-of-type {\n",
              "        vertical-align: middle;\n",
              "    }\n",
              "\n",
              "    .dataframe tbody tr th {\n",
              "        vertical-align: top;\n",
              "    }\n",
              "\n",
              "    .dataframe thead th {\n",
              "        text-align: right;\n",
              "    }\n",
              "</style>\n",
              "<table border=\"1\" class=\"dataframe\">\n",
              "  <thead>\n",
              "    <tr style=\"text-align: right;\">\n",
              "      <th></th>\n",
              "      <th>question1</th>\n",
              "      <th>question2</th>\n",
              "      <th>is_duplicate</th>\n",
              "    </tr>\n",
              "  </thead>\n",
              "  <tbody>\n",
              "    <tr>\n",
              "      <th>66080</th>\n",
              "      <td>Can you suggest a reputed US based SEO service...</td>\n",
              "      <td>Can anyone give me a review of the MSG . My Da...</td>\n",
              "      <td>0</td>\n",
              "    </tr>\n",
              "    <tr>\n",
              "      <th>24056</th>\n",
              "      <td>What is a lucrative career for an introverted,...</td>\n",
              "      <td>What is a lucrative career for someone who is ...</td>\n",
              "      <td>1</td>\n",
              "    </tr>\n",
              "    <tr>\n",
              "      <th>139620</th>\n",
              "      <td>What's your zodiac sign?</td>\n",
              "      <td>Are you sensitive? What's your zodiac sign?</td>\n",
              "      <td>0</td>\n",
              "    </tr>\n",
              "    <tr>\n",
              "      <th>226122</th>\n",
              "      <td>How old would Jesus be today?</td>\n",
              "      <td>How old is Jesus?</td>\n",
              "      <td>1</td>\n",
              "    </tr>\n",
              "    <tr>\n",
              "      <th>32413</th>\n",
              "      <td>What are the principles of federalism?</td>\n",
              "      <td>What are fundamental ethical principles?</td>\n",
              "      <td>0</td>\n",
              "    </tr>\n",
              "    <tr>\n",
              "      <th>...</th>\n",
              "      <td>...</td>\n",
              "      <td>...</td>\n",
              "      <td>...</td>\n",
              "    </tr>\n",
              "    <tr>\n",
              "      <th>107150</th>\n",
              "      <td>How was the 2G scam caught?</td>\n",
              "      <td>If anybody want to expose a biggest scams in g...</td>\n",
              "      <td>0</td>\n",
              "    </tr>\n",
              "    <tr>\n",
              "      <th>130687</th>\n",
              "      <td>How do I remove personal information from atla...</td>\n",
              "      <td>How do I remove my personal information from t...</td>\n",
              "      <td>1</td>\n",
              "    </tr>\n",
              "    <tr>\n",
              "      <th>314943</th>\n",
              "      <td>How is convict conditionning?</td>\n",
              "      <td>What is Convict conditioning?</td>\n",
              "      <td>1</td>\n",
              "    </tr>\n",
              "    <tr>\n",
              "      <th>89163</th>\n",
              "      <td>Why don't human lay eggs?</td>\n",
              "      <td>How does a chicken lay an egg within another e...</td>\n",
              "      <td>0</td>\n",
              "    </tr>\n",
              "    <tr>\n",
              "      <th>335872</th>\n",
              "      <td>If US politicians helped train, fund and arm I...</td>\n",
              "      <td>Is it true that the US is funding ISIS?</td>\n",
              "      <td>0</td>\n",
              "    </tr>\n",
              "  </tbody>\n",
              "</table>\n",
              "<p>2480 rows × 3 columns</p>\n",
              "</div>\n",
              "      <button class=\"colab-df-convert\" onclick=\"convertToInteractive('df-b117704f-8062-491c-93a0-2764c5f101ae')\"\n",
              "              title=\"Convert this dataframe to an interactive table.\"\n",
              "              style=\"display:none;\">\n",
              "        \n",
              "  <svg xmlns=\"http://www.w3.org/2000/svg\" height=\"24px\"viewBox=\"0 0 24 24\"\n",
              "       width=\"24px\">\n",
              "    <path d=\"M0 0h24v24H0V0z\" fill=\"none\"/>\n",
              "    <path d=\"M18.56 5.44l.94 2.06.94-2.06 2.06-.94-2.06-.94-.94-2.06-.94 2.06-2.06.94zm-11 1L8.5 8.5l.94-2.06 2.06-.94-2.06-.94L8.5 2.5l-.94 2.06-2.06.94zm10 10l.94 2.06.94-2.06 2.06-.94-2.06-.94-.94-2.06-.94 2.06-2.06.94z\"/><path d=\"M17.41 7.96l-1.37-1.37c-.4-.4-.92-.59-1.43-.59-.52 0-1.04.2-1.43.59L10.3 9.45l-7.72 7.72c-.78.78-.78 2.05 0 2.83L4 21.41c.39.39.9.59 1.41.59.51 0 1.02-.2 1.41-.59l7.78-7.78 2.81-2.81c.8-.78.8-2.07 0-2.86zM5.41 20L4 18.59l7.72-7.72 1.47 1.35L5.41 20z\"/>\n",
              "  </svg>\n",
              "      </button>\n",
              "      \n",
              "  <style>\n",
              "    .colab-df-container {\n",
              "      display:flex;\n",
              "      flex-wrap:wrap;\n",
              "      gap: 12px;\n",
              "    }\n",
              "\n",
              "    .colab-df-convert {\n",
              "      background-color: #E8F0FE;\n",
              "      border: none;\n",
              "      border-radius: 50%;\n",
              "      cursor: pointer;\n",
              "      display: none;\n",
              "      fill: #1967D2;\n",
              "      height: 32px;\n",
              "      padding: 0 0 0 0;\n",
              "      width: 32px;\n",
              "    }\n",
              "\n",
              "    .colab-df-convert:hover {\n",
              "      background-color: #E2EBFA;\n",
              "      box-shadow: 0px 1px 2px rgba(60, 64, 67, 0.3), 0px 1px 3px 1px rgba(60, 64, 67, 0.15);\n",
              "      fill: #174EA6;\n",
              "    }\n",
              "\n",
              "    [theme=dark] .colab-df-convert {\n",
              "      background-color: #3B4455;\n",
              "      fill: #D2E3FC;\n",
              "    }\n",
              "\n",
              "    [theme=dark] .colab-df-convert:hover {\n",
              "      background-color: #434B5C;\n",
              "      box-shadow: 0px 1px 3px 1px rgba(0, 0, 0, 0.15);\n",
              "      filter: drop-shadow(0px 1px 2px rgba(0, 0, 0, 0.3));\n",
              "      fill: #FFFFFF;\n",
              "    }\n",
              "  </style>\n",
              "\n",
              "      <script>\n",
              "        const buttonEl =\n",
              "          document.querySelector('#df-b117704f-8062-491c-93a0-2764c5f101ae button.colab-df-convert');\n",
              "        buttonEl.style.display =\n",
              "          google.colab.kernel.accessAllowed ? 'block' : 'none';\n",
              "\n",
              "        async function convertToInteractive(key) {\n",
              "          const element = document.querySelector('#df-b117704f-8062-491c-93a0-2764c5f101ae');\n",
              "          const dataTable =\n",
              "            await google.colab.kernel.invokeFunction('convertToInteractive',\n",
              "                                                     [key], {});\n",
              "          if (!dataTable) return;\n",
              "\n",
              "          const docLinkHtml = 'Like what you see? Visit the ' +\n",
              "            '<a target=\"_blank\" href=https://colab.research.google.com/notebooks/data_table.ipynb>data table notebook</a>'\n",
              "            + ' to learn more about interactive tables.';\n",
              "          element.innerHTML = '';\n",
              "          dataTable['output_type'] = 'display_data';\n",
              "          await google.colab.output.renderOutput(dataTable, element);\n",
              "          const docLink = document.createElement('div');\n",
              "          docLink.innerHTML = docLinkHtml;\n",
              "          element.appendChild(docLink);\n",
              "        }\n",
              "      </script>\n",
              "    </div>\n",
              "  </div>\n",
              "  "
            ]
          },
          "metadata": {},
          "execution_count": 98
        }
      ]
    },
    {
      "cell_type": "code",
      "source": [
        "y_test_df = pd.DataFrame(y_test, columns=['is_duplicate'])\n",
        "X_test = X_test.join(y_test_df, lsuffix='_left', rsuffix='_right')\n",
        "X_test"
      ],
      "metadata": {
        "colab": {
          "base_uri": "https://localhost:8080/",
          "height": 424
        },
        "id": "QzDwOwI9V4EA",
        "outputId": "a28e8c48-99c8-42ba-a689-9a9cd8c56a66"
      },
      "execution_count": 99,
      "outputs": [
        {
          "output_type": "execute_result",
          "data": {
            "text/plain": [
              "                                                question1  \\\n",
              "394442  Can you provide me the list of the best hollyw...   \n",
              "206906  Which is the best book to refer to completely ...   \n",
              "200493  Where is the best place to register the .it do...   \n",
              "375357              Why do trained falcons wear blinders?   \n",
              "381392               How is the value of gold calculated?   \n",
              "...                                                   ...   \n",
              "215428             What is the best launcher for Android?   \n",
              "383811  Can I use NFL player images and logos on my we...   \n",
              "134865   Which country is better to immigrate from India?   \n",
              "35963   What's the difference between Google AdWords, ...   \n",
              "74593    Does drinking beer daily help in gaining weight?   \n",
              "\n",
              "                                                question2  is_duplicate  \n",
              "394442  What are the best top 10 movies of Hollywood e...             1  \n",
              "206906  Which is the best book for understanding Kali ...             1  \n",
              "200493  Where is the best place to register an .is dom...             0  \n",
              "375357            How do falcons get rid from honey bees?             0  \n",
              "381392                   What is the value of gold today?             0  \n",
              "...                                                   ...           ...  \n",
              "215428                 What is best launcher for Android?             1  \n",
              "383811                        Who will win Super Bowl 51?             0  \n",
              "134865  Which are the easiest developed countries to i...             0  \n",
              "35963                       How can I use Google AdWords?             0  \n",
              "74593   I'm a skinny guy. I tried gaining weight but c...             0  \n",
              "\n",
              "[620 rows x 3 columns]"
            ],
            "text/html": [
              "\n",
              "  <div id=\"df-bad46570-60d0-4a79-a98a-e804b21a61c6\">\n",
              "    <div class=\"colab-df-container\">\n",
              "      <div>\n",
              "<style scoped>\n",
              "    .dataframe tbody tr th:only-of-type {\n",
              "        vertical-align: middle;\n",
              "    }\n",
              "\n",
              "    .dataframe tbody tr th {\n",
              "        vertical-align: top;\n",
              "    }\n",
              "\n",
              "    .dataframe thead th {\n",
              "        text-align: right;\n",
              "    }\n",
              "</style>\n",
              "<table border=\"1\" class=\"dataframe\">\n",
              "  <thead>\n",
              "    <tr style=\"text-align: right;\">\n",
              "      <th></th>\n",
              "      <th>question1</th>\n",
              "      <th>question2</th>\n",
              "      <th>is_duplicate</th>\n",
              "    </tr>\n",
              "  </thead>\n",
              "  <tbody>\n",
              "    <tr>\n",
              "      <th>394442</th>\n",
              "      <td>Can you provide me the list of the best hollyw...</td>\n",
              "      <td>What are the best top 10 movies of Hollywood e...</td>\n",
              "      <td>1</td>\n",
              "    </tr>\n",
              "    <tr>\n",
              "      <th>206906</th>\n",
              "      <td>Which is the best book to refer to completely ...</td>\n",
              "      <td>Which is the best book for understanding Kali ...</td>\n",
              "      <td>1</td>\n",
              "    </tr>\n",
              "    <tr>\n",
              "      <th>200493</th>\n",
              "      <td>Where is the best place to register the .it do...</td>\n",
              "      <td>Where is the best place to register an .is dom...</td>\n",
              "      <td>0</td>\n",
              "    </tr>\n",
              "    <tr>\n",
              "      <th>375357</th>\n",
              "      <td>Why do trained falcons wear blinders?</td>\n",
              "      <td>How do falcons get rid from honey bees?</td>\n",
              "      <td>0</td>\n",
              "    </tr>\n",
              "    <tr>\n",
              "      <th>381392</th>\n",
              "      <td>How is the value of gold calculated?</td>\n",
              "      <td>What is the value of gold today?</td>\n",
              "      <td>0</td>\n",
              "    </tr>\n",
              "    <tr>\n",
              "      <th>...</th>\n",
              "      <td>...</td>\n",
              "      <td>...</td>\n",
              "      <td>...</td>\n",
              "    </tr>\n",
              "    <tr>\n",
              "      <th>215428</th>\n",
              "      <td>What is the best launcher for Android?</td>\n",
              "      <td>What is best launcher for Android?</td>\n",
              "      <td>1</td>\n",
              "    </tr>\n",
              "    <tr>\n",
              "      <th>383811</th>\n",
              "      <td>Can I use NFL player images and logos on my we...</td>\n",
              "      <td>Who will win Super Bowl 51?</td>\n",
              "      <td>0</td>\n",
              "    </tr>\n",
              "    <tr>\n",
              "      <th>134865</th>\n",
              "      <td>Which country is better to immigrate from India?</td>\n",
              "      <td>Which are the easiest developed countries to i...</td>\n",
              "      <td>0</td>\n",
              "    </tr>\n",
              "    <tr>\n",
              "      <th>35963</th>\n",
              "      <td>What's the difference between Google AdWords, ...</td>\n",
              "      <td>How can I use Google AdWords?</td>\n",
              "      <td>0</td>\n",
              "    </tr>\n",
              "    <tr>\n",
              "      <th>74593</th>\n",
              "      <td>Does drinking beer daily help in gaining weight?</td>\n",
              "      <td>I'm a skinny guy. I tried gaining weight but c...</td>\n",
              "      <td>0</td>\n",
              "    </tr>\n",
              "  </tbody>\n",
              "</table>\n",
              "<p>620 rows × 3 columns</p>\n",
              "</div>\n",
              "      <button class=\"colab-df-convert\" onclick=\"convertToInteractive('df-bad46570-60d0-4a79-a98a-e804b21a61c6')\"\n",
              "              title=\"Convert this dataframe to an interactive table.\"\n",
              "              style=\"display:none;\">\n",
              "        \n",
              "  <svg xmlns=\"http://www.w3.org/2000/svg\" height=\"24px\"viewBox=\"0 0 24 24\"\n",
              "       width=\"24px\">\n",
              "    <path d=\"M0 0h24v24H0V0z\" fill=\"none\"/>\n",
              "    <path d=\"M18.56 5.44l.94 2.06.94-2.06 2.06-.94-2.06-.94-.94-2.06-.94 2.06-2.06.94zm-11 1L8.5 8.5l.94-2.06 2.06-.94-2.06-.94L8.5 2.5l-.94 2.06-2.06.94zm10 10l.94 2.06.94-2.06 2.06-.94-2.06-.94-.94-2.06-.94 2.06-2.06.94z\"/><path d=\"M17.41 7.96l-1.37-1.37c-.4-.4-.92-.59-1.43-.59-.52 0-1.04.2-1.43.59L10.3 9.45l-7.72 7.72c-.78.78-.78 2.05 0 2.83L4 21.41c.39.39.9.59 1.41.59.51 0 1.02-.2 1.41-.59l7.78-7.78 2.81-2.81c.8-.78.8-2.07 0-2.86zM5.41 20L4 18.59l7.72-7.72 1.47 1.35L5.41 20z\"/>\n",
              "  </svg>\n",
              "      </button>\n",
              "      \n",
              "  <style>\n",
              "    .colab-df-container {\n",
              "      display:flex;\n",
              "      flex-wrap:wrap;\n",
              "      gap: 12px;\n",
              "    }\n",
              "\n",
              "    .colab-df-convert {\n",
              "      background-color: #E8F0FE;\n",
              "      border: none;\n",
              "      border-radius: 50%;\n",
              "      cursor: pointer;\n",
              "      display: none;\n",
              "      fill: #1967D2;\n",
              "      height: 32px;\n",
              "      padding: 0 0 0 0;\n",
              "      width: 32px;\n",
              "    }\n",
              "\n",
              "    .colab-df-convert:hover {\n",
              "      background-color: #E2EBFA;\n",
              "      box-shadow: 0px 1px 2px rgba(60, 64, 67, 0.3), 0px 1px 3px 1px rgba(60, 64, 67, 0.15);\n",
              "      fill: #174EA6;\n",
              "    }\n",
              "\n",
              "    [theme=dark] .colab-df-convert {\n",
              "      background-color: #3B4455;\n",
              "      fill: #D2E3FC;\n",
              "    }\n",
              "\n",
              "    [theme=dark] .colab-df-convert:hover {\n",
              "      background-color: #434B5C;\n",
              "      box-shadow: 0px 1px 3px 1px rgba(0, 0, 0, 0.15);\n",
              "      filter: drop-shadow(0px 1px 2px rgba(0, 0, 0, 0.3));\n",
              "      fill: #FFFFFF;\n",
              "    }\n",
              "  </style>\n",
              "\n",
              "      <script>\n",
              "        const buttonEl =\n",
              "          document.querySelector('#df-bad46570-60d0-4a79-a98a-e804b21a61c6 button.colab-df-convert');\n",
              "        buttonEl.style.display =\n",
              "          google.colab.kernel.accessAllowed ? 'block' : 'none';\n",
              "\n",
              "        async function convertToInteractive(key) {\n",
              "          const element = document.querySelector('#df-bad46570-60d0-4a79-a98a-e804b21a61c6');\n",
              "          const dataTable =\n",
              "            await google.colab.kernel.invokeFunction('convertToInteractive',\n",
              "                                                     [key], {});\n",
              "          if (!dataTable) return;\n",
              "\n",
              "          const docLinkHtml = 'Like what you see? Visit the ' +\n",
              "            '<a target=\"_blank\" href=https://colab.research.google.com/notebooks/data_table.ipynb>data table notebook</a>'\n",
              "            + ' to learn more about interactive tables.';\n",
              "          element.innerHTML = '';\n",
              "          dataTable['output_type'] = 'display_data';\n",
              "          await google.colab.output.renderOutput(dataTable, element);\n",
              "          const docLink = document.createElement('div');\n",
              "          docLink.innerHTML = docLinkHtml;\n",
              "          element.appendChild(docLink);\n",
              "        }\n",
              "      </script>\n",
              "    </div>\n",
              "  </div>\n",
              "  "
            ]
          },
          "metadata": {},
          "execution_count": 99
        }
      ]
    },
    {
      "cell_type": "markdown",
      "source": [
        "# Clean Data"
      ],
      "metadata": {
        "id": "u9_jhJzDjWUy"
      }
    },
    {
      "cell_type": "code",
      "source": [
        "def get_wordnet_pos(tag):\n",
        "    if tag.startswith(\"N\"):\n",
        "        return wordnet.NOUN\n",
        "    if tag.startswith(\"J\"):\n",
        "        return wordnet.ADJ\n",
        "    if tag.startswith(\"V\"):\n",
        "        return wordnet.VERB\n",
        "    if tag.startswith(\"R\"):\n",
        "        return wordnet.ADV\n",
        "    return wordnet.NOUN\n",
        "\n",
        "def clean_sentence(sentence, stopwords = False, lemmatize = False, stem = False):\n",
        "    sentence = sentence.lower().strip()\n",
        "    sentence = re.sub(r'[^a-z0-9\\s]', '', sentence)  # removing all caracters that are not alpha numeric\n",
        "    #sentence = re.sub(r'\\s{2,}', ' ', sentence\n",
        "   \n",
        "    sentence = sentence.translate(str.maketrans('', '', string.punctuation))  # remove punctuation\n",
        "    \n",
        "    if stopwords:\n",
        "        sentence = remove_stopwords(sentence)  \n",
        "        \n",
        "    if lemmatize:\n",
        "        nltk_tagged = nltk.pos_tag(nltk.word_tokenize(sentence))\n",
        "        wn_tagged = map(lambda x: (x[0], get_wordnet_pos(x[1])), nltk_tagged)\n",
        "        res_words = []\n",
        "        for word, tag in wn_tagged:\n",
        "            if tag is None:\n",
        "                res_words.append(word)\n",
        "            else :\n",
        "                res_words.append(lemmer.lemmatize(word, tag))\n",
        "        sentence = \" \".join(res_words)\n",
        "        \n",
        "    if stem:\n",
        "        sent_stemmed = ''\n",
        "        for word in sentence.split():\n",
        "            sent_stemmed += ' '+ stemmer.stem(word)\n",
        "        sentence = sent_stemmed\n",
        "   \n",
        "    return sentence\n",
        "\n",
        "def get_cleaned_senteces(df, stopwords = False, lemmatize = False, stem = False):\n",
        "    #sents1 = dfq[['question1']]  \n",
        "    #sents2 = dfq[['question2']]\n",
        "    cleaned_sentences1 = []\n",
        "    cleaned_sentences2 = []\n",
        "    \n",
        "    for index, row in df.iterrows():\n",
        "        # print (index, row)\n",
        "        cleaned1 = clean_sentence(row['question1'], stopwords, lemmatize, stem) \n",
        "        cleaned2 = clean_sentence(row['question2'], stopwords, lemmatize, stem)\n",
        "\n",
        "        cleaned_sentences1.append(cleaned1)\n",
        "        cleaned_sentences2.append(cleaned2)\n",
        "    return cleaned_sentences1, cleaned_sentences2"
      ],
      "metadata": {
        "id": "ynqJ5flWEUEk"
      },
      "execution_count": 11,
      "outputs": []
    },
    {
      "cell_type": "code",
      "source": [
        "def to_df(q1cleaned, q2cleaned, df):\n",
        "    '''cleaned sentences to df'''\n",
        "    X_temp1 = pd.DataFrame()\n",
        "    X_temp2 = pd.DataFrame()\n",
        "    X_temp1['q1'] = pd.DataFrame(q1cleaned, index = df.index)\n",
        "    X_temp2['q2'] = pd.DataFrame(q2cleaned, index = df.index)\n",
        "    X_temp = pd.concat([X_temp1, X_temp2], axis = 1)\n",
        "    X_temp['is_duplicate'] = df_raw['is_duplicate']\n",
        "    return X_temp"
      ],
      "metadata": {
        "id": "V-k52RcgEiWV"
      },
      "execution_count": 12,
      "outputs": []
    },
    {
      "cell_type": "code",
      "source": [
        "# #Train part \n",
        "# # With stopwords lemmatized, not stemmed\n",
        "# q1_sw, q2_sw = get_cleaned_senteces(X_train, stopwords = False, lemmatize = True, stem = False)\n",
        "# assert len(q1_sw) == len(q2_sw)\n",
        "# X_sw_train = to_df(q1_sw, q2_sw, X_train)\n",
        "# X_sw_train.shape"
      ],
      "metadata": {
        "colab": {
          "base_uri": "https://localhost:8080/"
        },
        "id": "6pSmgWosElWQ",
        "outputId": "d0f6aef7-6d6c-479f-a82b-d80058d14971"
      },
      "execution_count": 101,
      "outputs": [
        {
          "output_type": "execute_result",
          "data": {
            "text/plain": [
              "(2480, 3)"
            ]
          },
          "metadata": {},
          "execution_count": 101
        }
      ]
    },
    {
      "cell_type": "code",
      "source": [
        "#Entire data without split\n",
        "# With stopwords lemmatized, not stemmed\n",
        "q1_clean, q2_clean = get_cleaned_senteces(df_copy, stopwords = False, lemmatize = True, stem = False)\n",
        "assert len(q1_clean) == len(q2_clean)\n",
        "df_clean = to_df(q1_clean, q2_clean, df_copy)\n",
        "df_clean.shape"
      ],
      "metadata": {
        "colab": {
          "base_uri": "https://localhost:8080/"
        },
        "id": "S7oZESZlOaV1",
        "outputId": "c0cdd207-1a8c-47ec-9f01-92eae237bf7a"
      },
      "execution_count": 13,
      "outputs": [
        {
          "output_type": "execute_result",
          "data": {
            "text/plain": [
              "(3100, 3)"
            ]
          },
          "metadata": {},
          "execution_count": 13
        }
      ]
    },
    {
      "cell_type": "code",
      "source": [
        "df_clean.head(2)"
      ],
      "metadata": {
        "colab": {
          "base_uri": "https://localhost:8080/",
          "height": 112
        },
        "id": "JQeieU-pHxLu",
        "outputId": "507139af-6171-424a-a0bc-2876e61270ae"
      },
      "execution_count": 18,
      "outputs": [
        {
          "output_type": "execute_result",
          "data": {
            "text/plain": [
              "                                              q1  \\\n",
              "192049  how exactly do catnip do it thing to cat   \n",
              "307227  what book i should buy for learn english   \n",
              "\n",
              "                                             q2  is_duplicate  \n",
              "192049  why how do catnip affect cat be it safe             1  \n",
              "307227   what be the best book to learn english             0  "
            ],
            "text/html": [
              "\n",
              "  <div id=\"df-770ed092-6fff-4128-9600-598e73fb2153\">\n",
              "    <div class=\"colab-df-container\">\n",
              "      <div>\n",
              "<style scoped>\n",
              "    .dataframe tbody tr th:only-of-type {\n",
              "        vertical-align: middle;\n",
              "    }\n",
              "\n",
              "    .dataframe tbody tr th {\n",
              "        vertical-align: top;\n",
              "    }\n",
              "\n",
              "    .dataframe thead th {\n",
              "        text-align: right;\n",
              "    }\n",
              "</style>\n",
              "<table border=\"1\" class=\"dataframe\">\n",
              "  <thead>\n",
              "    <tr style=\"text-align: right;\">\n",
              "      <th></th>\n",
              "      <th>q1</th>\n",
              "      <th>q2</th>\n",
              "      <th>is_duplicate</th>\n",
              "    </tr>\n",
              "  </thead>\n",
              "  <tbody>\n",
              "    <tr>\n",
              "      <th>192049</th>\n",
              "      <td>how exactly do catnip do it thing to cat</td>\n",
              "      <td>why how do catnip affect cat be it safe</td>\n",
              "      <td>1</td>\n",
              "    </tr>\n",
              "    <tr>\n",
              "      <th>307227</th>\n",
              "      <td>what book i should buy for learn english</td>\n",
              "      <td>what be the best book to learn english</td>\n",
              "      <td>0</td>\n",
              "    </tr>\n",
              "  </tbody>\n",
              "</table>\n",
              "</div>\n",
              "      <button class=\"colab-df-convert\" onclick=\"convertToInteractive('df-770ed092-6fff-4128-9600-598e73fb2153')\"\n",
              "              title=\"Convert this dataframe to an interactive table.\"\n",
              "              style=\"display:none;\">\n",
              "        \n",
              "  <svg xmlns=\"http://www.w3.org/2000/svg\" height=\"24px\"viewBox=\"0 0 24 24\"\n",
              "       width=\"24px\">\n",
              "    <path d=\"M0 0h24v24H0V0z\" fill=\"none\"/>\n",
              "    <path d=\"M18.56 5.44l.94 2.06.94-2.06 2.06-.94-2.06-.94-.94-2.06-.94 2.06-2.06.94zm-11 1L8.5 8.5l.94-2.06 2.06-.94-2.06-.94L8.5 2.5l-.94 2.06-2.06.94zm10 10l.94 2.06.94-2.06 2.06-.94-2.06-.94-.94-2.06-.94 2.06-2.06.94z\"/><path d=\"M17.41 7.96l-1.37-1.37c-.4-.4-.92-.59-1.43-.59-.52 0-1.04.2-1.43.59L10.3 9.45l-7.72 7.72c-.78.78-.78 2.05 0 2.83L4 21.41c.39.39.9.59 1.41.59.51 0 1.02-.2 1.41-.59l7.78-7.78 2.81-2.81c.8-.78.8-2.07 0-2.86zM5.41 20L4 18.59l7.72-7.72 1.47 1.35L5.41 20z\"/>\n",
              "  </svg>\n",
              "      </button>\n",
              "      \n",
              "  <style>\n",
              "    .colab-df-container {\n",
              "      display:flex;\n",
              "      flex-wrap:wrap;\n",
              "      gap: 12px;\n",
              "    }\n",
              "\n",
              "    .colab-df-convert {\n",
              "      background-color: #E8F0FE;\n",
              "      border: none;\n",
              "      border-radius: 50%;\n",
              "      cursor: pointer;\n",
              "      display: none;\n",
              "      fill: #1967D2;\n",
              "      height: 32px;\n",
              "      padding: 0 0 0 0;\n",
              "      width: 32px;\n",
              "    }\n",
              "\n",
              "    .colab-df-convert:hover {\n",
              "      background-color: #E2EBFA;\n",
              "      box-shadow: 0px 1px 2px rgba(60, 64, 67, 0.3), 0px 1px 3px 1px rgba(60, 64, 67, 0.15);\n",
              "      fill: #174EA6;\n",
              "    }\n",
              "\n",
              "    [theme=dark] .colab-df-convert {\n",
              "      background-color: #3B4455;\n",
              "      fill: #D2E3FC;\n",
              "    }\n",
              "\n",
              "    [theme=dark] .colab-df-convert:hover {\n",
              "      background-color: #434B5C;\n",
              "      box-shadow: 0px 1px 3px 1px rgba(0, 0, 0, 0.15);\n",
              "      filter: drop-shadow(0px 1px 2px rgba(0, 0, 0, 0.3));\n",
              "      fill: #FFFFFF;\n",
              "    }\n",
              "  </style>\n",
              "\n",
              "      <script>\n",
              "        const buttonEl =\n",
              "          document.querySelector('#df-770ed092-6fff-4128-9600-598e73fb2153 button.colab-df-convert');\n",
              "        buttonEl.style.display =\n",
              "          google.colab.kernel.accessAllowed ? 'block' : 'none';\n",
              "\n",
              "        async function convertToInteractive(key) {\n",
              "          const element = document.querySelector('#df-770ed092-6fff-4128-9600-598e73fb2153');\n",
              "          const dataTable =\n",
              "            await google.colab.kernel.invokeFunction('convertToInteractive',\n",
              "                                                     [key], {});\n",
              "          if (!dataTable) return;\n",
              "\n",
              "          const docLinkHtml = 'Like what you see? Visit the ' +\n",
              "            '<a target=\"_blank\" href=https://colab.research.google.com/notebooks/data_table.ipynb>data table notebook</a>'\n",
              "            + ' to learn more about interactive tables.';\n",
              "          element.innerHTML = '';\n",
              "          dataTable['output_type'] = 'display_data';\n",
              "          await google.colab.output.renderOutput(dataTable, element);\n",
              "          const docLink = document.createElement('div');\n",
              "          docLink.innerHTML = docLinkHtml;\n",
              "          element.appendChild(docLink);\n",
              "        }\n",
              "      </script>\n",
              "    </div>\n",
              "  </div>\n",
              "  "
            ]
          },
          "metadata": {},
          "execution_count": 18
        }
      ]
    },
    {
      "cell_type": "code",
      "source": [
        "# #Test part\n",
        "# # With stopwords lemmatized, not stemmed\n",
        "# q1_sw, q2_sw = get_cleaned_senteces(X_test, stopwords = False, lemmatize = True, stem = False)\n",
        "# assert len(q1_sw) == len(q2_sw)\n",
        "# X_sw_test = to_df(q1_sw, q2_sw, X_test)\n",
        "# X_sw_test.shape"
      ],
      "metadata": {
        "colab": {
          "base_uri": "https://localhost:8080/"
        },
        "id": "uM-h72BEWXhi",
        "outputId": "4bc915f5-752e-4b56-d90f-2f8bf8f836ac"
      },
      "execution_count": 102,
      "outputs": [
        {
          "output_type": "execute_result",
          "data": {
            "text/plain": [
              "(620, 3)"
            ]
          },
          "metadata": {},
          "execution_count": 102
        }
      ]
    },
    {
      "cell_type": "code",
      "source": [
        "# print('Value counts:\\n', X_sw_train['is_duplicate'].value_counts())\n",
        "# print('\\nPercent of labels value:\\n', X_sw_train['is_duplicate'].value_counts()/X_sw_train['is_duplicate'].count()*100)\n",
        "# X_sw_train['is_duplicate'].value_counts().plot(kind = 'bar')\n",
        "# plt.title('\\nDistribution of train labels', color = 'purple', size = 12)\n",
        "# plt.show()"
      ],
      "metadata": {
        "id": "pDav_LwGEmzm"
      },
      "execution_count": 119,
      "outputs": []
    },
    {
      "cell_type": "code",
      "source": [
        "# print('Value counts:\\n', X_sw_test['is_duplicate'].value_counts())\n",
        "# print('\\nPercent of labels value:\\n', X_sw_test['is_duplicate'].value_counts()/X_sw_test['is_duplicate'].count()*100)\n",
        "# X_sw_test['is_duplicate'].value_counts().plot(kind = 'bar')\n",
        "# plt.title('\\nDistribution of test labels', color = 'purple', size = 12)\n",
        "# plt.show()"
      ],
      "metadata": {
        "id": "3_2e5g9UXY4Q"
      },
      "execution_count": 120,
      "outputs": []
    },
    {
      "cell_type": "code",
      "source": [
        "# display (X_sw_train.head(2))\n",
        "# display(X_sw_test.head(2))\n",
        "# display(df_clean.head(2))"
      ],
      "metadata": {
        "id": "HGkjnpdXEoXd"
      },
      "execution_count": 121,
      "outputs": []
    },
    {
      "cell_type": "code",
      "source": [
        "#X_sw_test[X_sw_test.isnull().any(axis=1)]"
      ],
      "metadata": {
        "id": "758pchOPXiy4"
      },
      "execution_count": 44,
      "outputs": []
    },
    {
      "cell_type": "code",
      "source": [],
      "metadata": {
        "id": "ItwPkTNnJ2KW"
      },
      "execution_count": null,
      "outputs": []
    },
    {
      "cell_type": "markdown",
      "source": [
        "# *TOKENIZATION"
      ],
      "metadata": {
        "id": "Tkas5cGGBk-G"
      }
    },
    {
      "cell_type": "code",
      "source": [
        "def tokenization(text):\n",
        "    tokens = re.split(' ',text)\n",
        "    return tokens\n",
        "def token(text):\n",
        "    text = text.apply(lambda x: tokenization(x))\n",
        "    return text"
      ],
      "metadata": {
        "id": "05E4u-vAKISG"
      },
      "execution_count": 14,
      "outputs": []
    },
    {
      "cell_type": "code",
      "source": [
        "df_clean['q1'] = df_clean['q1'].pipe(token) \n",
        "df_clean['q2'] = df_clean['q2'].pipe(token) \n",
        "df_clean.head(2)"
      ],
      "metadata": {
        "colab": {
          "base_uri": "https://localhost:8080/",
          "height": 112
        },
        "id": "9-cgiLi0KsmR",
        "outputId": "e38aac00-6182-419d-b841-7a99ca041fd1"
      },
      "execution_count": 15,
      "outputs": [
        {
          "output_type": "execute_result",
          "data": {
            "text/plain": [
              "                                                       q1  \\\n",
              "335301  [star, war, creative, franchise, in, episode, ...   \n",
              "153236  [do, it, hurt, your, eye, when, you, scroll, o...   \n",
              "\n",
              "                                                       q2  is_duplicate  \n",
              "335301  [star, war, creative, franchise, in, episode, ...             0  \n",
              "153236  [what, be, a, double, din, touch, screen, stereo]             0  "
            ],
            "text/html": [
              "\n",
              "  <div id=\"df-2b7f1fa0-01fb-49a0-9513-2e76d81d963f\">\n",
              "    <div class=\"colab-df-container\">\n",
              "      <div>\n",
              "<style scoped>\n",
              "    .dataframe tbody tr th:only-of-type {\n",
              "        vertical-align: middle;\n",
              "    }\n",
              "\n",
              "    .dataframe tbody tr th {\n",
              "        vertical-align: top;\n",
              "    }\n",
              "\n",
              "    .dataframe thead th {\n",
              "        text-align: right;\n",
              "    }\n",
              "</style>\n",
              "<table border=\"1\" class=\"dataframe\">\n",
              "  <thead>\n",
              "    <tr style=\"text-align: right;\">\n",
              "      <th></th>\n",
              "      <th>q1</th>\n",
              "      <th>q2</th>\n",
              "      <th>is_duplicate</th>\n",
              "    </tr>\n",
              "  </thead>\n",
              "  <tbody>\n",
              "    <tr>\n",
              "      <th>335301</th>\n",
              "      <td>[star, war, creative, franchise, in, episode, ...</td>\n",
              "      <td>[star, war, creative, franchise, in, episode, ...</td>\n",
              "      <td>0</td>\n",
              "    </tr>\n",
              "    <tr>\n",
              "      <th>153236</th>\n",
              "      <td>[do, it, hurt, your, eye, when, you, scroll, o...</td>\n",
              "      <td>[what, be, a, double, din, touch, screen, stereo]</td>\n",
              "      <td>0</td>\n",
              "    </tr>\n",
              "  </tbody>\n",
              "</table>\n",
              "</div>\n",
              "      <button class=\"colab-df-convert\" onclick=\"convertToInteractive('df-2b7f1fa0-01fb-49a0-9513-2e76d81d963f')\"\n",
              "              title=\"Convert this dataframe to an interactive table.\"\n",
              "              style=\"display:none;\">\n",
              "        \n",
              "  <svg xmlns=\"http://www.w3.org/2000/svg\" height=\"24px\"viewBox=\"0 0 24 24\"\n",
              "       width=\"24px\">\n",
              "    <path d=\"M0 0h24v24H0V0z\" fill=\"none\"/>\n",
              "    <path d=\"M18.56 5.44l.94 2.06.94-2.06 2.06-.94-2.06-.94-.94-2.06-.94 2.06-2.06.94zm-11 1L8.5 8.5l.94-2.06 2.06-.94-2.06-.94L8.5 2.5l-.94 2.06-2.06.94zm10 10l.94 2.06.94-2.06 2.06-.94-2.06-.94-.94-2.06-.94 2.06-2.06.94z\"/><path d=\"M17.41 7.96l-1.37-1.37c-.4-.4-.92-.59-1.43-.59-.52 0-1.04.2-1.43.59L10.3 9.45l-7.72 7.72c-.78.78-.78 2.05 0 2.83L4 21.41c.39.39.9.59 1.41.59.51 0 1.02-.2 1.41-.59l7.78-7.78 2.81-2.81c.8-.78.8-2.07 0-2.86zM5.41 20L4 18.59l7.72-7.72 1.47 1.35L5.41 20z\"/>\n",
              "  </svg>\n",
              "      </button>\n",
              "      \n",
              "  <style>\n",
              "    .colab-df-container {\n",
              "      display:flex;\n",
              "      flex-wrap:wrap;\n",
              "      gap: 12px;\n",
              "    }\n",
              "\n",
              "    .colab-df-convert {\n",
              "      background-color: #E8F0FE;\n",
              "      border: none;\n",
              "      border-radius: 50%;\n",
              "      cursor: pointer;\n",
              "      display: none;\n",
              "      fill: #1967D2;\n",
              "      height: 32px;\n",
              "      padding: 0 0 0 0;\n",
              "      width: 32px;\n",
              "    }\n",
              "\n",
              "    .colab-df-convert:hover {\n",
              "      background-color: #E2EBFA;\n",
              "      box-shadow: 0px 1px 2px rgba(60, 64, 67, 0.3), 0px 1px 3px 1px rgba(60, 64, 67, 0.15);\n",
              "      fill: #174EA6;\n",
              "    }\n",
              "\n",
              "    [theme=dark] .colab-df-convert {\n",
              "      background-color: #3B4455;\n",
              "      fill: #D2E3FC;\n",
              "    }\n",
              "\n",
              "    [theme=dark] .colab-df-convert:hover {\n",
              "      background-color: #434B5C;\n",
              "      box-shadow: 0px 1px 3px 1px rgba(0, 0, 0, 0.15);\n",
              "      filter: drop-shadow(0px 1px 2px rgba(0, 0, 0, 0.3));\n",
              "      fill: #FFFFFF;\n",
              "    }\n",
              "  </style>\n",
              "\n",
              "      <script>\n",
              "        const buttonEl =\n",
              "          document.querySelector('#df-2b7f1fa0-01fb-49a0-9513-2e76d81d963f button.colab-df-convert');\n",
              "        buttonEl.style.display =\n",
              "          google.colab.kernel.accessAllowed ? 'block' : 'none';\n",
              "\n",
              "        async function convertToInteractive(key) {\n",
              "          const element = document.querySelector('#df-2b7f1fa0-01fb-49a0-9513-2e76d81d963f');\n",
              "          const dataTable =\n",
              "            await google.colab.kernel.invokeFunction('convertToInteractive',\n",
              "                                                     [key], {});\n",
              "          if (!dataTable) return;\n",
              "\n",
              "          const docLinkHtml = 'Like what you see? Visit the ' +\n",
              "            '<a target=\"_blank\" href=https://colab.research.google.com/notebooks/data_table.ipynb>data table notebook</a>'\n",
              "            + ' to learn more about interactive tables.';\n",
              "          element.innerHTML = '';\n",
              "          dataTable['output_type'] = 'display_data';\n",
              "          await google.colab.output.renderOutput(dataTable, element);\n",
              "          const docLink = document.createElement('div');\n",
              "          docLink.innerHTML = docLinkHtml;\n",
              "          element.appendChild(docLink);\n",
              "        }\n",
              "      </script>\n",
              "    </div>\n",
              "  </div>\n",
              "  "
            ]
          },
          "metadata": {},
          "execution_count": 15
        }
      ]
    },
    {
      "cell_type": "markdown",
      "source": [
        "# SECOND TRY"
      ],
      "metadata": {
        "id": "OgE4e0iRJ3IX"
      }
    },
    {
      "cell_type": "code",
      "source": [
        "from gensim import corpora\n",
        "\n",
        "dictionary_q1 = corpora.Dictionary(df_clean['q1'])\n",
        "dictionary_q2 = corpora.Dictionary(df_clean['q2'])\n",
        "print(dictionary_q1)\n",
        "print(dictionary_q2)\n"
      ],
      "metadata": {
        "colab": {
          "base_uri": "https://localhost:8080/"
        },
        "id": "FFBP7z0TJ4oE",
        "outputId": "64a15eca-32f0-4480-a5e1-f92167d5c91e"
      },
      "execution_count": 20,
      "outputs": [
        {
          "output_type": "stream",
          "name": "stdout",
          "text": [
            "Dictionary(5339 unique tokens: ['cat', 'catnip', 'do', 'exactly', 'how']...)\n",
            "Dictionary(5117 unique tokens: ['affect', 'be', 'cat', 'catnip', 'do']...)\n"
          ]
        }
      ]
    },
    {
      "cell_type": "code",
      "source": [
        "import pprint"
      ],
      "metadata": {
        "id": "OTsbitRFP4cF"
      },
      "execution_count": 21,
      "outputs": []
    },
    {
      "cell_type": "code",
      "source": [
        "#pprint.pprint(dictionary_q2.token2id)"
      ],
      "metadata": {
        "id": "PAhZe_GkN3Ph"
      },
      "execution_count": 141,
      "outputs": []
    },
    {
      "cell_type": "code",
      "source": [
        "new_doc = \"Human computer interaction\"\n",
        "new_vec = dictionary_q1.doc2bow(new_doc.lower().split())\n",
        "print(new_vec)"
      ],
      "metadata": {
        "colab": {
          "base_uri": "https://localhost:8080/"
        },
        "id": "yXBc3VyEQD3q",
        "outputId": "6882058f-59bd-4b8e-da5f-8d3f06608207"
      },
      "execution_count": 22,
      "outputs": [
        {
          "output_type": "stream",
          "name": "stdout",
          "text": [
            "[(65, 1), (118, 1), (685, 1)]\n"
          ]
        }
      ]
    },
    {
      "cell_type": "code",
      "source": [
        "bow_corpus_q1 = [dictionary_q1.doc2bow(text) for text in df_clean['q1']]\n",
        "#bow_corpus_q2 = [dictionary_q2.doc2bow(text) for text in df_clean['q2']]\n",
        "\n",
        "#pprint.pprint(bow_corpus)"
      ],
      "metadata": {
        "id": "eHPkzshuR2Yf"
      },
      "execution_count": 23,
      "outputs": []
    },
    {
      "cell_type": "code",
      "source": [
        "print(bow_corpus_q1)"
      ],
      "metadata": {
        "colab": {
          "base_uri": "https://localhost:8080/"
        },
        "id": "tUzVBYLiTbFR",
        "outputId": "f41beb43-1888-4908-bc2e-86e57b69378b"
      },
      "execution_count": 23,
      "outputs": [
        {
          "output_type": "stream",
          "name": "stdout",
          "text": [
            "[[(0, 1), (1, 1), (2, 1), (3, 1), (4, 2), (5, 1), (6, 1), (7, 2), (8, 1), (9, 1), (10, 2), (11, 1), (12, 1), (13, 1)], [(12, 1), (14, 1), (15, 1), (16, 1), (17, 1), (18, 1), (19, 1), (20, 1), (21, 1), (22, 1)], [(23, 1), (24, 1), (25, 1), (26, 1), (27, 1), (28, 1), (29, 1), (30, 1), (31, 1)], [(0, 1), (12, 1), (14, 1), (32, 1), (33, 1), (34, 1), (35, 1), (36, 1), (37, 1), (38, 1), (39, 1)], [(6, 1), (12, 1), (14, 1), (32, 1), (40, 1), (41, 1), (42, 1)], [(12, 1), (14, 1), (24, 1), (39, 1), (43, 1), (44, 1), (45, 1), (46, 1), (47, 1), (48, 1)], [(12, 1), (14, 1), (16, 1), (39, 1), (49, 1), (50, 1), (51, 1), (52, 1)], [(12, 1), (14, 1), (16, 1), (39, 1), (49, 1), (53, 1), (54, 1), (55, 1), (56, 1), (57, 1), (58, 1), (59, 1), (60, 1)], [(12, 1), (14, 1), (24, 1), (39, 1), (47, 3), (61, 1), (62, 1), (63, 1), (64, 1), (65, 1), (66, 1), (67, 1), (68, 1), (69, 1), (70, 1), (71, 1), (72, 1), (73, 1), (74, 1), (75, 1), (76, 1), (77, 1)], [(12, 1), (14, 1), (31, 1), (39, 1), (60, 1), (78, 1), (79, 1), (80, 1), (81, 1)], [(6, 1), (14, 1), (31, 1), (39, 1), (45, 1), (60, 1), (61, 1), (80, 1), (81, 1), (82, 1), (83, 1), (84, 1), (85, 1), (86, 1), (87, 1)], [(6, 1), (12, 1), (14, 1), (32, 1), (47, 1), (60, 1), (83, 1), (88, 1), (89, 1), (90, 1), (91, 1), (92, 1), (93, 1), (94, 1), (95, 1), (96, 1), (97, 1), (98, 1), (99, 1), (100, 1)], [(0, 1), (101, 1), (102, 1), (103, 1), (104, 1), (105, 1), (106, 1)], [(14, 1), (32, 1), (107, 1), (108, 1), (109, 1)], [(14, 1), (39, 1), (47, 1), (110, 1), (111, 1), (112, 1), (113, 1)], [(13, 1), (14, 1), (17, 1), (60, 1), (61, 1), (77, 1), (114, 1), (115, 1), (116, 1), (117, 1)], [(14, 1), (39, 1), (47, 1), (118, 1), (119, 1), (120, 1), (121, 1), (122, 1), (123, 1)], [(12, 1), (14, 1), (47, 1), (124, 1), (125, 1), (126, 1), (127, 1), (128, 1)], [(10, 1), (14, 1), (39, 1), (47, 1), (86, 1), (129, 1), (130, 1)], [(6, 1), (12, 1), (13, 1), (14, 1), (19, 1), (49, 1), (105, 1), (131, 1)], [(3, 1), (31, 1), (39, 1), (62, 1), (132, 1), (133, 1), (134, 2), (135, 4)], [(12, 1), (14, 1), (39, 1), (136, 1), (137, 1)], [(6, 1), (13, 1), (14, 1), (138, 1), (139, 1), (140, 1), (141, 1), (142, 1)], [(12, 2), (14, 1), (39, 1), (47, 1), (119, 1), (143, 1), (144, 1), (145, 1), (146, 1), (147, 1), (148, 1)], [(14, 1), (39, 1), (49, 1), (60, 1), (149, 1), (150, 1), (151, 1), (152, 1), (153, 1), (154, 1)], [(0, 1), (32, 1), (61, 1), (96, 1), (154, 1), (155, 1), (156, 1), (157, 1), (158, 1), (159, 1)], [(25, 1), (60, 1), (61, 1), (160, 1), (161, 1), (162, 1), (163, 1), (164, 1)], [(12, 1), (14, 1), (39, 1), (57, 1), (60, 2), (62, 1), (93, 1), (135, 1), (165, 1), (166, 1), (167, 1), (168, 1), (169, 1), (170, 1), (171, 1)], [(3, 1), (12, 1), (13, 1), (172, 1), (173, 1), (174, 1), (175, 1), (176, 1), (177, 1), (178, 1)], [(14, 1), (16, 1), (25, 1), (179, 1), (180, 1), (181, 1), (182, 2)], [(0, 1), (19, 1), (39, 1), (79, 1), (83, 1), (85, 1), (183, 1), (184, 1), (185, 1), (186, 1)], [(10, 1), (14, 1), (17, 1), (27, 1), (39, 1), (187, 1), (188, 1), (189, 1)], [(0, 1), (12, 1), (14, 1), (39, 1), (47, 1), (69, 1), (190, 1), (191, 1), (192, 1)], [(6, 1), (12, 1), (14, 1), (19, 1), (39, 1), (47, 1), (193, 1), (194, 1), (195, 1)], [(10, 1), (12, 1), (14, 1), (17, 1), (33, 1), (39, 1), (60, 1), (196, 1), (197, 1), (198, 1), (199, 1), (200, 1), (201, 1), (202, 1)], [(6, 1), (12, 1), (14, 1), (39, 1), (49, 1), (97, 1), (203, 1), (204, 1), (205, 1), (206, 1)], [(12, 1), (76, 1), (168, 1), (207, 1), (208, 1), (209, 1), (210, 1), (211, 1), (212, 1), (213, 1), (214, 1), (215, 1)], [(3, 1), (6, 1), (12, 1), (13, 1), (216, 1), (217, 1), (218, 1), (219, 1), (220, 1), (221, 1), (222, 1)], [(3, 1), (32, 1), (61, 1), (149, 1), (223, 1), (224, 1), (225, 1)], [(12, 1), (14, 1), (39, 1), (81, 1), (226, 1), (227, 1), (228, 1), (229, 1), (230, 1), (231, 1)], [(12, 1), (49, 1), (60, 1), (139, 1), (232, 1), (233, 1), (234, 1)], [(6, 1), (7, 1), (12, 1), (25, 1), (33, 1), (84, 1), (235, 1), (236, 1), (237, 1), (238, 1)], [(6, 1), (31, 1), (39, 1), (61, 1), (79, 1), (184, 1), (239, 1), (240, 1), (241, 1), (242, 1)], [(14, 1), (32, 1), (60, 1), (61, 1), (69, 1), (149, 1), (243, 1), (244, 1), (245, 1)], [(16, 2), (25, 1), (32, 1), (54, 1), (60, 1), (61, 1), (161, 1), (246, 1), (247, 1), (248, 1), (249, 1), (250, 1), (251, 1)], [(13, 1), (14, 1), (252, 1), (253, 1), (254, 1), (255, 1), (256, 1)], [(3, 1), (25, 1), (31, 2), (39, 1), (184, 1), (257, 1), (258, 1), (259, 1), (260, 1), (261, 1)], [(25, 1), (27, 1), (39, 1), (94, 1), (116, 1), (170, 1), (201, 1), (225, 1), (262, 1), (263, 1)], [(10, 2), (14, 2), (39, 2), (47, 1), (264, 1), (265, 1), (266, 1)], [(6, 2), (47, 1), (161, 2), (247, 1), (267, 1), (268, 1), (269, 1), (270, 1), (271, 1), (272, 1), (273, 1)], [(14, 1), (16, 1), (31, 1), (60, 1), (61, 1), (85, 1), (86, 1), (274, 1), (275, 1), (276, 1), (277, 1), (278, 1), (279, 1), (280, 1)], [(12, 1), (31, 1), (32, 1), (47, 1), (226, 1), (281, 1), (282, 1), (283, 1)], [(25, 1), (32, 1), (96, 1), (161, 1), (259, 1), (284, 1), (285, 1), (286, 1)], [(12, 1), (14, 1), (16, 1), (49, 1), (105, 1), (287, 1), (288, 1), (289, 1)], [(3, 1), (12, 1), (16, 1), (39, 1), (60, 1), (154, 1), (158, 1), (161, 1), (290, 1), (291, 1), (292, 1), (293, 1), (294, 1)], [(3, 1), (13, 1), (14, 1), (69, 1), (86, 1), (295, 2), (296, 1), (297, 1), (298, 1), (299, 1), (300, 1), (301, 1)], [(3, 1), (6, 2), (14, 1), (25, 1), (27, 1), (30, 1), (69, 1), (84, 1), (302, 1), (303, 1), (304, 2), (305, 3), (306, 1)], [(13, 1), (154, 1), (161, 1), (225, 1), (307, 1)], [(6, 1), (12, 2), (14, 1), (39, 1), (81, 1), (228, 1), (308, 1), (309, 1)], [(6, 1), (12, 1), (14, 1), (16, 1), (19, 1), (39, 1), (49, 1), (310, 1), (311, 1)], [(14, 1), (39, 1), (312, 1)], [(6, 1), (14, 1), (32, 1), (313, 1), (314, 1), (315, 1), (316, 1)], [(10, 1), (12, 1), (14, 1), (19, 1), (39, 1), (47, 1), (62, 1), (317, 1), (318, 1)], [(76, 1), (319, 1), (320, 1), (321, 1), (322, 1), (323, 1), (324, 1), (325, 1)], [(3, 1), (6, 1), (32, 1), (117, 1), (326, 1), (327, 1), (328, 1), (329, 1)], [(12, 1), (14, 1), (60, 1), (61, 1), (69, 1), (84, 1), (85, 1), (106, 1), (309, 1), (330, 1), (331, 1), (332, 1), (333, 1), (334, 1), (335, 1), (336, 1), (337, 1), (338, 1), (339, 1), (340, 1)], [(47, 1), (341, 1), (342, 1), (343, 1)], [(14, 1), (39, 1), (288, 1), (344, 1)], [(3, 1), (31, 1), (32, 1), (80, 1), (93, 1), (345, 1), (346, 1), (347, 1), (348, 1), (349, 1), (350, 1)], [(6, 1), (25, 1), (56, 1), (99, 1), (161, 1), (164, 1), (259, 1), (351, 1), (352, 1)], [(3, 1), (32, 1), (61, 1), (161, 1), (259, 1), (353, 1), (354, 1)], [(12, 1), (14, 1), (39, 1), (349, 1), (355, 1), (356, 1)], [(3, 1), (6, 1), (13, 1), (27, 1), (31, 1), (39, 1), (60, 1), (69, 1), (84, 1), (86, 1), (93, 1), (184, 1), (331, 1), (357, 1), (358, 1), (359, 1), (360, 1), (361, 1), (362, 1), (363, 1), (364, 1), (365, 1), (366, 1), (367, 1), (368, 1)], [(3, 1), (16, 1), (32, 1), (47, 1), (259, 1), (369, 1), (370, 1), (371, 1), (372, 1), (373, 1), (374, 1), (375, 1), (376, 1), (377, 1)], [(10, 1), (14, 1), (39, 1), (47, 1), (378, 1), (379, 1), (380, 1)], [(6, 1), (25, 1), (27, 1), (61, 1), (69, 1), (290, 1), (362, 1), (381, 1), (382, 1), (383, 1)], [(13, 1), (14, 1), (27, 1), (28, 1), (225, 1), (384, 1)], [(25, 1), (30, 1), (32, 1), (161, 1), (201, 1), (385, 1), (386, 1), (387, 1), (388, 1)], [(12, 1), (14, 1), (49, 1), (60, 1), (61, 1), (164, 1), (259, 1), (389, 1), (390, 1), (391, 1)], [(0, 1), (19, 1), (39, 1), (60, 1), (79, 1), (85, 1), (93, 1), (184, 1), (185, 1), (392, 1)], [(12, 1), (14, 1), (47, 1), (128, 1), (393, 1), (394, 1), (395, 1), (396, 1)], [(0, 1), (12, 3), (14, 1), (47, 1), (152, 1), (397, 1), (398, 1)], [(13, 1), (14, 1), (20, 1), (399, 1), (400, 1)], [(26, 1), (27, 1), (29, 1), (128, 1), (201, 1), (384, 1)], [(0, 1), (12, 2), (13, 1), (14, 1), (19, 1), (47, 1), (172, 2), (224, 1), (401, 1), (402, 1), (403, 1), (404, 1), (405, 1), (406, 1)], [(6, 1), (12, 1), (14, 1), (39, 1), (49, 1), (60, 1), (390, 1), (407, 1), (408, 1), (409, 1)], [(0, 1), (12, 1), (14, 1), (39, 1), (410, 1), (411, 1), (412, 1), (413, 1)], [(12, 1), (14, 1), (16, 1), (39, 1), (76, 1), (352, 1), (414, 1), (415, 1)], [(12, 1), (25, 1), (27, 1), (32, 1), (61, 1), (161, 1), (234, 1), (416, 1), (417, 1)], [(25, 1), (32, 1), (61, 2), (83, 1), (120, 1), (184, 1), (360, 1), (418, 1), (419, 1)], [(12, 1), (14, 1), (39, 1), (47, 1), (420, 1), (421, 1)], [(12, 1), (14, 1), (16, 1), (39, 1), (422, 1), (423, 1), (424, 1), (425, 1), (426, 1), (427, 1)], [(12, 1), (14, 1), (47, 1), (128, 1), (428, 1), (429, 1), (430, 1)], [(12, 1), (14, 2), (47, 1), (60, 1), (141, 1), (172, 1), (202, 1), (257, 1), (292, 1), (431, 1), (432, 1), (433, 1), (434, 1), (435, 1)], [(3, 1), (32, 1), (151, 1), (161, 1), (436, 1), (437, 1)], [(12, 1), (14, 1), (39, 1), (47, 1), (438, 1), (439, 1), (440, 1)], [(0, 1), (6, 1), (14, 2), (17, 1), (32, 1), (60, 2), (105, 1), (369, 1), (403, 1), (441, 1), (442, 1), (443, 1), (444, 1), (445, 1), (446, 1), (447, 1), (448, 1)], [(14, 1), (39, 1), (86, 1), (102, 1), (449, 1)], [(3, 1), (31, 1), (39, 1), (80, 1), (135, 1), (168, 1), (198, 1), (410, 1), (450, 1), (451, 1), (452, 1), (453, 1), (454, 1), (455, 1), (456, 1), (457, 1), (458, 1), (459, 1), (460, 1)], [(0, 1), (6, 1), (12, 1), (14, 1), (19, 1), (39, 1), (47, 2), (98, 1), (461, 1), (462, 1), (463, 1), (464, 1), (465, 1), (466, 1)], [(3, 1), (31, 1), (39, 1), (172, 1), (304, 1), (467, 1)], [(6, 1), (12, 3), (32, 1), (47, 1), (76, 1), (89, 1), (95, 1), (96, 1), (98, 1), (100, 1), (463, 1), (468, 1), (469, 1), (470, 1)], [(3, 1), (32, 1), (61, 1), (117, 1), (365, 1), (471, 1), (472, 1)], [(3, 1), (12, 1), (39, 1), (304, 1), (473, 1), (474, 1), (475, 1), (476, 1)], [(6, 1), (10, 1), (25, 1), (161, 1), (164, 1), (259, 1), (355, 1), (477, 1), (478, 1), (479, 1), (480, 1)], [(12, 1), (14, 1), (39, 1), (150, 1), (228, 1), (318, 1), (481, 1), (482, 1)], [(12, 1), (14, 1), (25, 1), (31, 2), (39, 1), (80, 2), (94, 1), (188, 1), (277, 1), (483, 1), (484, 1), (485, 1)], [(3, 1), (12, 1), (47, 1), (60, 1), (162, 1), (486, 1), (487, 1), (488, 1), (489, 1), (490, 1), (491, 1), (492, 1), (493, 1), (494, 1), (495, 1)], [(13, 1), (14, 1), (141, 1), (496, 1), (497, 1), (498, 1), (499, 1), (500, 1)], [(14, 1), (32, 1), (143, 1), (501, 1), (502, 1), (503, 1), (504, 1)], [(10, 1), (12, 2), (14, 1), (39, 1), (44, 1), (47, 1), (176, 1), (309, 1), (505, 1), (506, 1), (507, 1)], [(25, 1), (39, 1), (60, 1), (277, 1), (508, 1), (509, 1), (510, 1), (511, 1)], [(3, 1), (14, 2), (154, 2), (169, 1), (236, 1), (448, 1), (512, 2), (513, 1), (514, 1), (515, 2), (516, 1)], [(25, 1), (27, 1), (32, 1), (61, 1), (148, 1), (161, 1), (386, 1), (517, 1), (518, 1), (519, 1)], [(6, 1), (12, 1), (14, 1), (36, 1), (39, 1), (45, 1), (60, 1), (520, 1)], [(3, 1), (12, 1), (13, 1), (460, 1), (521, 1), (522, 1), (523, 1), (524, 1), (525, 1), (526, 1), (527, 1), (528, 1)], [(6, 1), (12, 1), (14, 2), (17, 1), (20, 1), (39, 1), (141, 1), (184, 1), (224, 1), (529, 1), (530, 1), (531, 1), (532, 1)], [(3, 1), (7, 1), (13, 1), (62, 1), (81, 1), (263, 2), (533, 1), (534, 1), (535, 1), (536, 1)], [(6, 1), (25, 1), (32, 1), (161, 1), (537, 1), (538, 1), (539, 1), (540, 1), (541, 1)], [(3, 2), (6, 1), (13, 1), (31, 1), (60, 1), (128, 1), (512, 1), (542, 1), (543, 1)], [(12, 2), (14, 1), (27, 1), (39, 1), (47, 2), (61, 1), (86, 1), (264, 1), (353, 1), (544, 1), (545, 1), (546, 1), (547, 1), (548, 1)], [(0, 1), (6, 1), (25, 1), (31, 1), (32, 1), (549, 1), (550, 1), (551, 1), (552, 1), (553, 1)], [(12, 1), (14, 1), (54, 1), (309, 1), (392, 1), (505, 1), (554, 1)], [(12, 1), (49, 1), (139, 1), (162, 1), (340, 1), (555, 1), (556, 1)], [(14, 1), (39, 1), (69, 1), (77, 1), (557, 1), (558, 1)], [(14, 1), (39, 1), (60, 1), (559, 1), (560, 1), (561, 1), (562, 1)], [(25, 1), (161, 1), (164, 1), (259, 1), (563, 1)], [(3, 1), (32, 1), (44, 1), (96, 1), (112, 1), (161, 1), (394, 1)], [(6, 1), (12, 1), (14, 1), (39, 1), (47, 1), (564, 1), (565, 1), (566, 1), (567, 1)], [(6, 1), (12, 1), (19, 1), (76, 1), (460, 1), (568, 1), (569, 1), (570, 1), (571, 1)], [(3, 1), (20, 1), (25, 1), (32, 1), (77, 1), (139, 1), (184, 1), (227, 1), (572, 1), (573, 1), (574, 1), (575, 1), (576, 1), (577, 1), (578, 1), (579, 2), (580, 1), (581, 1)], [(3, 1), (13, 1), (16, 1), (21, 1), (24, 1), (31, 1), (61, 1), (582, 1), (583, 1), (584, 1)], [(3, 1), (6, 1), (14, 1), (32, 1), (47, 1), (61, 1), (77, 1), (161, 2), (224, 1), (517, 1), (539, 1), (541, 1), (585, 1), (586, 1), (587, 1), (588, 1), (589, 1), (590, 1)], [(14, 1), (84, 1), (128, 1), (591, 1), (592, 1), (593, 1), (594, 1), (595, 1)], [(10, 1), (14, 1), (27, 1), (39, 1), (287, 1), (596, 1), (597, 1), (598, 1), (599, 1)], [(0, 1), (600, 1), (601, 1), (602, 1)], [(3, 1), (13, 1), (14, 1), (17, 2), (60, 1), (105, 1), (224, 1), (542, 1), (603, 1), (604, 1), (605, 1)], [(14, 1), (39, 1), (606, 1), (607, 1)], [(12, 2), (14, 1), (39, 1), (46, 1), (47, 1), (476, 1), (608, 1), (609, 1)], [(3, 1), (6, 1), (32, 1), (148, 1), (161, 1), (518, 1), (519, 1), (610, 1), (611, 1)], [(3, 1), (37, 1), (39, 1), (612, 1), (613, 1), (614, 1), (615, 1)], [(0, 1), (3, 1), (13, 1), (60, 1), (83, 1), (89, 1), (547, 1), (616, 1), (617, 1), (618, 1), (619, 1)], [(3, 1), (12, 1), (15, 1), (31, 1), (39, 1), (47, 1), (53, 1), (135, 1), (620, 1), (621, 1)], [(3, 1), (11, 1), (39, 1), (83, 1), (622, 1), (623, 1), (624, 1)], [(3, 1), (31, 1), (32, 1), (61, 1), (77, 1), (625, 1), (626, 1), (627, 1)], [(0, 1), (3, 1), (6, 1), (16, 1), (30, 1), (34, 1), (83, 1), (123, 1), (161, 1), (227, 1), (259, 1), (538, 1), (547, 1), (628, 1), (629, 1), (630, 1), (631, 1), (632, 1), (633, 1), (634, 1), (635, 2), (636, 1)], [(0, 1), (12, 1), (13, 1), (14, 1), (33, 1), (47, 1), (80, 1), (135, 1), (228, 1), (637, 1), (638, 1), (639, 1), (640, 1)], [(6, 1), (14, 2), (27, 1), (30, 1), (60, 1), (105, 1), (117, 1), (136, 1), (161, 2), (452, 1), (641, 1), (642, 2), (643, 1), (644, 1), (645, 1), (646, 1), (647, 1), (648, 2), (649, 1), (650, 1), (651, 1)], [(0, 1), (12, 1), (14, 1), (39, 1), (410, 1), (411, 1), (652, 1), (653, 1)], [(27, 1), (31, 1), (39, 1), (49, 1), (85, 1), (86, 1), (165, 2), (225, 1), (654, 1), (655, 1), (656, 1)], [(10, 1), (14, 1), (39, 1), (657, 1), (658, 1), (659, 1), (660, 1)], [(3, 1), (12, 3), (20, 1), (27, 1), (31, 1), (32, 1), (47, 1), (61, 1), (86, 1), (279, 1), (376, 1), (661, 1), (662, 1), (663, 1), (664, 1), (665, 1), (666, 1), (667, 1)], [(6, 1), (25, 1), (161, 1), (201, 1), (541, 1), (668, 1), (669, 1), (670, 1), (671, 1), (672, 1), (673, 1)], [(12, 1), (14, 1), (49, 1), (84, 1), (105, 1), (142, 1), (674, 1), (675, 1)], [(3, 1), (32, 1), (60, 1), (96, 1), (97, 1), (259, 1), (676, 1), (677, 1), (678, 1)], [(12, 1), (14, 1), (39, 1), (47, 1), (679, 1), (680, 1), (681, 1)], [(12, 1), (25, 1), (47, 1), (143, 1), (161, 1), (165, 1), (201, 2), (225, 1), (331, 1), (682, 1), (683, 1)], [(3, 1), (32, 1), (60, 1), (61, 2), (161, 1), (386, 1), (684, 1), (685, 1), (686, 1), (687, 1), (688, 1)], [(6, 1), (14, 1), (16, 1), (32, 1), (34, 1), (141, 1), (689, 1), (690, 1), (691, 1), (692, 1), (693, 1), (694, 1), (695, 1)], [(3, 1), (32, 1), (143, 1), (161, 1), (259, 1), (271, 1), (599, 1), (696, 1), (697, 1)], [(25, 1), (27, 1), (32, 1), (97, 1), (161, 1), (259, 1), (356, 1), (698, 1), (699, 1)], [(6, 1), (12, 1), (14, 1), (16, 1), (39, 1), (49, 1), (700, 1), (701, 1), (702, 1), (703, 1)], [(3, 1), (13, 1), (19, 1), (259, 1), (704, 1)], [(14, 1), (69, 1), (574, 1), (705, 1), (706, 1), (707, 1), (708, 1)], [(6, 1), (12, 1), (14, 1), (16, 1), (39, 1), (49, 1), (351, 1), (709, 1), (710, 1), (711, 1)], [(3, 1), (12, 2), (13, 1), (47, 1), (60, 1), (61, 1), (143, 1), (227, 1), (712, 1), (713, 1), (714, 1), (715, 1), (716, 1)], [(6, 2), (12, 1), (14, 1), (16, 1), (35, 1), (39, 1), (717, 1), (718, 1), (719, 1), (720, 1)], [(0, 1), (3, 1), (12, 1), (25, 1), (39, 1), (60, 1), (184, 1), (540, 1), (721, 1), (722, 1), (723, 1), (724, 1), (725, 1), (726, 1), (727, 1), (728, 1), (729, 1)], [(3, 1), (24, 1), (32, 1), (149, 1), (725, 1), (730, 1)], [(0, 1), (14, 1), (31, 2), (47, 1), (61, 3), (69, 1), (83, 1), (184, 1), (259, 2), (360, 1), (731, 1), (732, 1), (733, 1), (734, 1), (735, 1)], [(12, 1), (14, 1), (39, 1), (47, 1), (486, 1), (736, 1), (737, 1)], [(0, 1), (6, 1), (12, 1), (14, 1), (20, 1), (39, 1), (62, 1), (81, 1), (244, 1), (397, 1), (738, 1), (739, 1), (740, 1)], [(0, 1), (3, 1), (7, 1), (12, 1), (39, 1), (60, 1), (62, 1), (77, 1), (227, 1), (410, 1), (535, 1), (741, 1), (742, 1), (743, 1), (744, 1), (745, 1), (746, 1)], [(32, 1), (37, 1), (44, 1), (69, 1), (85, 1), (184, 1), (363, 1), (472, 1), (655, 1), (747, 1), (748, 1), (749, 1), (750, 1), (751, 1), (752, 1), (753, 1)], [(14, 1), (25, 1), (32, 1), (61, 1), (157, 1), (161, 1), (754, 1)], [(0, 1), (10, 1), (14, 1), (39, 1), (47, 1), (61, 1), (264, 1), (265, 1), (755, 1)], [(7, 1), (12, 1), (14, 1), (61, 1), (80, 1), (89, 1), (128, 1), (200, 1), (621, 1), (635, 1), (756, 1), (757, 1), (758, 2), (759, 1)], [(3, 1), (32, 1), (74, 1), (96, 1), (161, 1), (760, 1), (761, 1), (762, 1)], [(24, 2), (39, 1), (79, 1), (85, 1), (184, 1), (454, 2), (763, 1), (764, 1), (765, 1)], [(3, 1), (13, 1), (161, 1), (196, 1), (259, 1), (478, 1), (766, 1), (767, 1)], [(0, 1), (12, 2), (14, 2), (47, 1), (69, 2), (158, 1), (340, 1), (679, 1), (768, 1), (769, 1), (770, 1)], [(3, 1), (32, 1), (161, 1), (771, 1), (772, 1)], [(0, 1), (12, 1), (14, 1), (39, 1), (47, 1), (437, 1), (736, 1), (773, 1)], [(32, 1), (76, 1), (96, 1), (760, 1), (774, 1)], [(0, 1), (12, 1), (14, 1), (39, 1), (410, 1), (411, 1), (775, 1), (776, 1)], [(3, 1), (31, 1), (32, 1), (777, 1), (778, 1), (779, 1)], [(12, 1), (14, 1), (16, 2), (24, 1), (39, 1), (69, 1), (696, 1), (780, 1), (781, 1), (782, 1)], [(6, 1), (12, 2), (14, 1), (19, 1), (39, 1), (47, 1), (783, 1), (784, 1), (785, 1)], [(3, 1), (27, 1), (39, 1), (60, 1), (154, 1), (161, 1), (170, 1), (201, 1), (225, 1), (262, 1)], [(10, 1), (14, 1), (31, 1), (39, 1), (80, 1), (81, 1), (350, 1), (536, 1), (786, 1), (787, 1)], [(12, 1), (14, 1), (39, 1), (205, 1), (788, 1)], [(14, 1), (17, 1), (39, 1), (60, 1), (162, 1), (202, 1), (760, 1)], [(0, 1), (12, 1), (14, 1), (22, 1), (32, 1), (47, 2), (61, 3), (69, 1), (154, 1), (161, 2), (184, 1), (789, 1), (790, 1), (791, 2), (792, 1), (793, 1), (794, 1), (795, 1), (796, 1), (797, 1)], [(3, 1), (6, 1), (12, 1), (14, 1), (31, 1), (32, 1), (39, 1), (47, 1), (61, 1), (77, 1), (86, 1), (117, 1), (142, 1), (352, 2), (508, 1), (798, 1), (799, 2)], [(6, 2), (24, 1), (25, 1), (47, 1), (60, 1), (61, 1), (201, 1), (263, 1), (541, 1), (800, 1), (801, 1), (802, 1), (803, 1), (804, 1), (805, 1), (806, 1), (807, 1)], [(14, 1), (84, 1), (105, 1), (808, 1), (809, 1), (810, 1), (811, 2), (812, 1), (813, 1)], [(44, 1), (247, 1), (303, 1), (726, 1), (814, 1), (815, 1)], [(0, 1), (14, 1), (27, 1), (141, 1), (257, 1), (410, 1), (446, 1), (816, 1), (817, 1), (818, 1), (819, 1), (820, 1), (821, 1), (822, 1)], [(3, 1), (4, 1), (39, 1), (60, 1), (69, 1), (83, 1), (547, 1), (823, 1)], [(6, 1), (10, 1), (14, 1), (39, 1), (422, 1), (824, 1), (825, 1)], [(12, 1), (14, 1), (47, 1), (105, 1), (228, 1), (481, 1), (826, 1), (827, 1), (828, 1)], [(0, 1), (12, 1), (14, 1), (39, 1), (410, 1), (411, 1), (773, 1), (829, 1)], [(6, 1), (16, 1), (105, 1), (152, 1), (636, 1), (830, 1), (831, 1), (832, 1)], [(3, 1), (13, 1), (170, 1), (201, 1), (225, 1), (833, 1)], [(0, 1), (12, 2), (27, 2), (161, 2), (201, 1), (226, 1), (227, 1), (229, 1), (259, 1), (485, 1), (589, 1), (634, 1), (834, 1), (835, 1), (836, 1)], [(3, 1), (16, 1), (32, 1), (116, 1), (161, 1), (837, 1), (838, 1), (839, 1)], [(3, 1), (6, 1), (27, 1), (32, 1), (82, 1), (161, 1), (201, 1), (225, 1), (384, 1), (840, 1), (841, 1)], [(12, 1), (14, 1), (39, 1), (49, 1), (170, 1), (481, 1), (842, 1)], [(12, 1), (14, 1), (49, 1), (88, 1), (100, 1), (105, 1), (843, 1), (844, 1)], [(6, 2), (12, 1), (14, 1), (31, 1), (39, 1), (47, 1), (61, 1), (77, 1), (221, 1), (436, 1), (460, 1), (845, 1), (846, 1), (847, 1), (848, 1), (849, 1), (850, 1), (851, 1), (852, 1)], [(3, 1), (247, 1), (632, 1), (636, 1), (853, 1), (854, 1), (855, 1)], [(13, 1), (19, 1), (154, 1), (363, 1), (392, 1), (576, 1), (717, 1), (856, 1), (857, 1)], [(10, 1), (14, 1), (16, 1), (24, 1), (39, 1), (47, 1), (61, 1), (158, 1), (162, 1), (263, 1), (290, 1), (858, 1), (859, 1), (860, 1), (861, 1)], [(84, 1), (154, 1), (161, 1), (329, 1), (862, 1)], [(12, 1), (14, 1), (33, 1), (39, 1), (47, 1), (224, 1), (264, 1), (686, 1), (715, 1), (863, 1), (864, 1)], [(3, 1), (12, 1), (39, 1), (163, 1), (196, 1), (231, 1), (260, 1), (865, 1), (866, 1), (867, 1)], [(3, 1), (6, 2), (14, 1), (32, 1), (83, 1), (161, 1), (231, 1), (347, 1), (376, 1), (868, 1), (869, 1), (870, 1), (871, 1), (872, 1)], [(10, 1), (14, 1), (17, 1), (39, 1), (62, 1), (158, 1), (287, 1), (288, 1)], [(3, 1), (13, 1), (27, 1), (201, 1), (873, 1), (874, 1), (875, 1), (876, 1), (877, 1)], [(6, 1), (12, 2), (14, 1), (19, 1), (39, 1), (47, 1), (878, 1), (879, 1), (880, 1), (881, 1), (882, 1)], [(13, 1), (19, 1), (61, 1), (227, 1), (883, 1), (884, 1), (885, 1), (886, 1), (887, 1), (888, 1)], [(6, 1), (12, 1), (14, 1), (19, 1), (39, 1), (79, 1), (85, 1), (112, 1), (150, 1), (184, 1), (187, 1), (196, 1), (227, 1), (889, 1), (890, 1), (891, 1)], [(0, 1), (12, 1), (25, 1), (27, 1), (31, 2), (32, 1), (34, 1), (60, 1), (61, 1), (86, 1), (158, 1), (247, 1), (259, 1), (287, 1), (363, 1), (448, 1), (571, 1), (661, 1), (892, 1), (893, 1), (894, 1), (895, 1), (896, 1), (897, 1), (898, 1)], [(61, 1), (77, 1), (105, 1), (634, 1), (847, 1), (899, 1), (900, 1), (901, 1), (902, 1), (903, 1)], [(6, 1), (14, 1), (39, 1), (45, 1), (86, 1), (904, 1), (905, 1)], [(12, 1), (15, 1), (21, 1), (22, 1), (53, 1), (76, 1), (84, 1), (583, 1), (620, 1), (621, 1), (906, 1), (907, 1)], [(6, 1), (12, 1), (14, 1), (16, 1), (17, 1), (39, 1), (61, 1), (116, 1), (150, 1), (228, 1), (257, 1), (259, 1), (271, 1), (314, 1), (482, 1)], [(6, 1), (10, 1), (14, 1), (39, 1), (49, 1), (60, 1), (151, 1), (908, 1), (909, 1), (910, 1), (911, 1)], [(12, 1), (14, 1), (16, 1), (39, 1), (61, 1), (77, 1), (698, 1), (912, 1), (913, 1), (914, 1), (915, 1), (916, 1), (917, 1)], [(32, 1), (44, 1), (655, 1), (918, 1), (919, 1)], [(12, 1), (15, 1), (21, 1), (39, 1), (60, 1), (79, 1), (85, 1), (184, 1), (583, 1), (920, 1), (921, 1), (922, 1)], [(3, 1), (12, 1), (324, 1), (386, 1), (538, 1), (923, 1)], [(0, 1), (6, 1), (12, 1), (14, 1), (39, 1), (61, 1), (69, 1), (279, 1), (460, 1), (717, 1), (924, 1), (925, 1), (926, 1), (927, 2), (928, 1), (929, 1), (930, 1)], [(3, 1), (31, 1), (86, 1), (164, 1), (931, 1), (932, 1)], [(3, 1), (7, 1), (47, 1), (77, 2), (159, 1), (176, 1), (355, 1), (542, 1), (650, 1), (933, 1), (934, 2), (935, 1)], [(12, 1), (14, 1), (16, 1), (49, 1), (105, 1), (139, 1), (232, 1), (287, 1), (936, 1), (937, 1)], [(0, 1), (6, 1), (14, 1), (19, 1), (27, 1), (32, 1), (60, 1), (61, 1), (89, 1), (93, 1), (96, 1), (98, 1), (242, 1), (461, 1), (462, 1), (466, 1), (938, 1), (939, 1)], [(12, 1), (14, 1), (16, 1), (39, 1), (61, 1), (119, 1), (194, 1), (940, 1), (941, 1), (942, 1)], [(3, 1), (6, 1), (39, 1), (61, 1), (154, 1), (158, 1), (161, 1), (288, 1), (353, 1), (860, 2), (943, 1), (944, 1), (945, 1)], [(14, 1), (16, 1), (39, 1), (60, 1), (61, 2), (77, 1), (83, 1), (227, 1), (229, 1), (636, 2), (946, 1)], [(14, 1), (16, 1), (31, 1), (39, 1), (947, 1)], [(3, 1), (31, 1), (39, 1), (60, 1), (61, 1), (300, 1), (747, 1), (789, 1), (948, 1), (949, 1), (950, 1)], [(16, 1), (24, 1), (25, 1), (32, 1), (37, 1), (47, 1), (61, 1), (116, 1), (152, 1), (161, 1), (270, 1), (781, 1), (951, 1), (952, 1)], [(3, 1), (6, 1), (16, 1), (32, 1), (61, 1), (161, 1), (599, 1), (953, 1), (954, 1), (955, 1), (956, 1), (957, 1)], [(3, 1), (25, 1), (61, 1), (139, 1), (161, 1), (164, 1), (633, 1), (958, 1)], [(12, 2), (14, 2), (16, 1), (31, 1), (37, 1), (39, 1), (60, 1), (93, 1), (97, 1), (123, 1), (959, 1), (960, 1), (961, 1)], [(3, 1), (6, 1), (12, 1), (32, 1), (37, 1), (44, 1), (60, 2), (69, 1), (472, 1), (962, 1), (963, 1), (964, 1), (965, 1)], [(3, 1), (13, 1), (60, 1), (83, 1), (632, 1), (636, 1), (966, 1)], [(0, 1), (12, 1), (14, 1), (19, 1), (39, 1), (47, 1), (578, 1), (967, 1), (968, 1), (969, 1), (970, 1), (971, 1)], [(3, 1), (12, 1), (32, 1), (161, 2), (201, 1), (227, 1), (259, 1), (661, 1), (665, 2), (972, 1), (973, 2), (974, 1)], [(14, 1), (128, 1), (975, 1), (976, 1)], [(13, 1), (14, 1), (161, 2), (279, 1), (460, 1), (576, 1), (977, 1), (978, 1)], [(14, 1), (60, 1), (69, 1), (259, 1), (979, 1), (980, 1), (981, 1)], [(13, 1), (22, 1), (33, 1), (227, 1), (257, 1), (481, 1), (982, 1), (983, 1)], [(12, 1), (14, 1), (16, 1), (27, 1), (341, 1), (712, 1), (984, 1), (985, 1)], [(3, 1), (31, 1), (32, 1), (77, 1), (625, 1), (986, 1), (987, 1)], [(14, 1), (16, 1), (60, 1), (61, 2), (69, 1), (77, 1), (244, 1), (360, 1), (732, 1), (988, 1), (989, 1), (990, 1)], [(6, 1), (11, 1), (12, 2), (14, 1), (16, 1), (39, 1), (442, 1), (991, 1), (992, 1), (993, 1)], [(14, 1), (32, 1), (60, 1), (80, 1), (121, 1), (184, 1), (196, 1), (416, 1), (981, 2), (994, 1), (995, 1)], [(8, 1), (25, 1), (32, 1), (161, 1), (201, 1), (876, 1), (996, 1)], [(12, 1), (14, 2), (39, 2), (47, 1), (344, 1), (726, 1), (997, 1), (998, 1), (999, 1), (1000, 1)], [(12, 1), (14, 2), (16, 1), (31, 1), (39, 1), (60, 1), (79, 1), (80, 1), (81, 1), (227, 1), (533, 1), (1001, 1)], [(32, 1), (226, 1), (301, 1), (493, 1), (1002, 1), (1003, 1)], [(12, 1), (14, 1), (39, 1), (47, 1), (613, 1), (1004, 1), (1005, 1), (1006, 1), (1007, 1)], [(6, 1), (12, 2), (14, 1), (27, 1), (39, 1), (172, 1), (1008, 1), (1009, 1), (1010, 1), (1011, 1), (1012, 1), (1013, 1), (1014, 1)], [(3, 1), (12, 1), (13, 1), (14, 1), (24, 1), (39, 1), (69, 1), (304, 1), (314, 1), (1015, 1), (1016, 1), (1017, 1), (1018, 1)], [(3, 1), (13, 1), (39, 1), (47, 1), (83, 1), (84, 1), (360, 1), (762, 1), (1019, 1), (1020, 1), (1021, 1), (1022, 1)], [(0, 1), (12, 1), (13, 1), (14, 1), (60, 1), (144, 1), (300, 1), (314, 1), (931, 1), (1023, 1), (1024, 1)], [(6, 1), (12, 1), (44, 1), (84, 1), (105, 1), (228, 1), (309, 1), (756, 1), (1025, 1), (1026, 1), (1027, 1), (1028, 1)], [(3, 1), (14, 1), (32, 1), (61, 1), (161, 2), (184, 1), (360, 1), (536, 1), (576, 1), (1029, 1)], [(13, 1), (184, 1), (258, 1), (259, 1), (301, 2), (747, 1), (751, 1), (1030, 1), (1031, 1), (1032, 1), (1033, 1), (1034, 1), (1035, 1), (1036, 1)], [(0, 1), (14, 1), (32, 1), (158, 2), (1037, 1), (1038, 1), (1039, 1)], [(12, 1), (14, 1), (39, 1), (47, 1), (564, 1), (1040, 1), (1041, 1)], [(12, 1), (14, 1), (39, 1), (60, 1), (148, 1), (634, 1), (995, 1), (1042, 1), (1043, 1), (1044, 1)], [(3, 1), (31, 1), (32, 1), (60, 1), (84, 1), (87, 1), (1045, 1), (1046, 1), (1047, 1), (1048, 1)], [(6, 1), (12, 2), (14, 1), (16, 2), (17, 1), (39, 1), (60, 2), (61, 1), (158, 1), (290, 1), (394, 1), (460, 1), (1049, 1), (1050, 1), (1051, 1), (1052, 1), (1053, 1), (1054, 1), (1055, 1), (1056, 1)], [(0, 1), (12, 1), (14, 1), (85, 1), (184, 1), (227, 1), (301, 1), (558, 1), (576, 1), (647, 1), (833, 1), (952, 1), (1057, 1), (1058, 1), (1059, 1), (1060, 1), (1061, 1), (1062, 1), (1063, 1)], [(14, 1), (498, 1), (650, 1), (1064, 1), (1065, 1)], [(14, 1), (39, 1), (86, 1), (1066, 1), (1067, 1)], [(12, 1), (14, 1), (39, 1), (47, 1), (257, 1), (973, 1), (1068, 1), (1069, 1), (1070, 1)], [(13, 1), (61, 1), (279, 1), (301, 1), (331, 1), (540, 1), (815, 1), (1071, 1), (1072, 1)], [(25, 1), (30, 1), (32, 1), (112, 1), (161, 1), (954, 1), (1073, 1), (1074, 1)], [(3, 1), (13, 1), (77, 1), (161, 1), (259, 1), (1075, 1), (1076, 1), (1077, 1)], [(1, 1), (6, 1), (69, 1), (84, 1), (85, 1), (184, 1), (337, 1), (862, 1), (1078, 1), (1079, 1), (1080, 1), (1081, 1), (1082, 1)], [(3, 1), (16, 1), (32, 1), (61, 1), (139, 1), (161, 1), (172, 1), (973, 1), (1083, 1), (1084, 1), (1085, 1)], [(3, 1), (39, 1), (62, 1), (535, 1), (1086, 1), (1087, 1)], [(6, 1), (12, 2), (14, 1), (39, 1), (47, 2), (61, 1), (819, 1), (1088, 1), (1089, 1), (1090, 1), (1091, 1), (1092, 1), (1093, 1), (1094, 1)], [(10, 1), (14, 2), (39, 2), (564, 1), (1095, 1), (1096, 1)], [(6, 1), (12, 1), (14, 1), (39, 1), (49, 1), (861, 1), (1097, 1)], [(6, 1), (12, 2), (14, 1), (27, 1), (39, 1), (97, 1), (172, 1), (1008, 1), (1010, 1), (1011, 1), (1012, 1), (1013, 1), (1014, 1), (1098, 1)], [(0, 1), (12, 1), (14, 2), (19, 1), (39, 1), (69, 1), (76, 2), (141, 1), (185, 1), (257, 1), (392, 1), (410, 1), (464, 1), (686, 1), (1099, 1), (1100, 1), (1101, 1)], [(3, 1), (32, 1), (47, 1), (161, 1), (201, 1), (262, 1), (1102, 1), (1103, 1)], [(3, 1), (12, 2), (28, 2), (37, 1), (39, 1), (54, 1), (77, 1), (94, 1), (98, 1), (148, 1), (154, 1), (161, 2), (263, 1), (272, 1), (363, 1), (452, 1), (1104, 1), (1105, 1), (1106, 1), (1107, 1), (1108, 1), (1109, 1)], [(12, 1), (14, 1), (16, 1), (39, 1), (49, 1), (61, 1), (128, 1), (143, 1), (269, 1), (482, 1), (549, 1), (643, 1), (743, 1), (1110, 1), (1111, 1), (1112, 1), (1113, 1)], [(7, 1), (13, 1), (14, 1), (20, 1), (184, 1), (853, 1), (856, 1), (1114, 1), (1115, 1)], [(0, 1), (6, 1), (8, 1), (39, 1), (47, 1), (148, 1), (154, 1), (161, 2), (201, 1), (227, 1), (1116, 1), (1117, 1), (1118, 1), (1119, 1), (1120, 1)], [(6, 1), (14, 1), (17, 1), (61, 1), (105, 1), (1121, 1), (1122, 1), (1123, 1), (1124, 1), (1125, 1), (1126, 1), (1127, 1)], [(6, 1), (25, 1), (32, 1), (61, 1), (301, 1), (674, 1), (1128, 1), (1129, 1)], [(3, 1), (31, 1), (32, 1), (61, 1), (1130, 1), (1131, 1), (1132, 1), (1133, 1), (1134, 1)], [(12, 1), (14, 1), (16, 1), (39, 1), (1135, 1), (1136, 1), (1137, 1), (1138, 1)], [(12, 1), (44, 1), (47, 1), (61, 1), (257, 1), (340, 1), (1139, 1), (1140, 1), (1141, 1), (1142, 1), (1143, 1)], [(0, 1), (6, 1), (12, 1), (14, 1), (39, 1), (49, 1), (711, 1), (1144, 1), (1145, 1), (1146, 1), (1147, 1)], [(6, 1), (12, 1), (14, 1), (16, 2), (17, 1), (39, 1), (60, 2), (61, 1), (158, 1), (290, 1), (394, 1), (460, 1), (1049, 1), (1050, 1), (1052, 1), (1053, 1), (1054, 1), (1055, 1), (1056, 1), (1148, 1)], [(12, 1), (13, 1), (14, 1), (16, 1), (22, 1), (39, 1), (49, 1), (60, 1), (161, 1), (165, 1), (1149, 1)], [(32, 1), (44, 1), (96, 1), (117, 1), (154, 1), (161, 1), (162, 1), (394, 1), (760, 1)], [(3, 1), (13, 1), (161, 1), (196, 1), (201, 1), (227, 1), (935, 1), (1150, 1), (1151, 1), (1152, 1), (1153, 1)], [(13, 1), (14, 1), (201, 1), (1154, 1), (1155, 1), (1156, 1)], [(6, 1), (412, 1), (855, 1), (1157, 1), (1158, 1), (1159, 1)], [(6, 1), (14, 1), (39, 1), (578, 1), (1160, 1), (1161, 1), (1162, 1), (1163, 1), (1164, 1)], [(12, 1), (39, 1), (60, 1), (341, 1), (1165, 1), (1166, 1), (1167, 1)], [(0, 1), (3, 1), (14, 1), (18, 1), (27, 1), (32, 1), (60, 2), (61, 1), (76, 2), (77, 1), (80, 1), (117, 1), (161, 2), (169, 1), (201, 1), (222, 1), (259, 1), (300, 1), (361, 1), (362, 1), (499, 1), (576, 1), (593, 1), (899, 1), (1168, 1), (1169, 1), (1170, 1), (1171, 1)], [(12, 1), (14, 1), (31, 1), (164, 1), (227, 1), (228, 1), (390, 1), (409, 1), (481, 1), (1172, 1)], [(10, 1), (14, 1), (39, 1), (62, 1), (317, 1), (647, 1), (949, 1), (1173, 1)], [(0, 1), (6, 1), (12, 1), (14, 1), (16, 1), (25, 1), (60, 1), (61, 1), (69, 3), (84, 1), (148, 1), (161, 2), (201, 1), (227, 1), (300, 1), (409, 1), (460, 2), (1031, 1), (1174, 1), (1175, 1), (1176, 1), (1177, 1), (1178, 1), (1179, 1), (1180, 1), (1181, 1), (1182, 1)], [(14, 1), (25, 1), (39, 1), (96, 1), (112, 1), (161, 1), (162, 1), (202, 1)], [(3, 1), (32, 1), (161, 1), (1183, 1), (1184, 1), (1185, 1)], [(12, 1), (45, 1), (47, 1), (61, 1), (340, 1), (751, 1), (1186, 1)], [(3, 1), (12, 1), (14, 1), (16, 1), (39, 1), (60, 1), (304, 1), (455, 1), (759, 1), (1187, 1), (1188, 1), (1189, 1)], [(10, 1), (14, 1), (39, 1), (77, 1), (517, 1), (676, 1), (1190, 1), (1191, 1), (1192, 1)], [(13, 1), (16, 1), (21, 1), (31, 1), (85, 1), (584, 1)], [(0, 1), (6, 1), (14, 1), (61, 1), (141, 1), (657, 1), (954, 1), (1193, 1), (1194, 1), (1195, 1), (1196, 1), (1197, 1)], [(12, 1), (14, 1), (44, 1), (128, 1), (185, 1), (228, 1), (1095, 1), (1198, 1), (1199, 1), (1200, 1)], [(25, 1), (32, 1), (61, 1), (161, 1), (339, 1), (392, 1)], [(14, 1), (39, 1), (61, 2), (83, 1), (1201, 1), (1202, 1), (1203, 1)], [(6, 1), (14, 1), (19, 1), (44, 1), (61, 1), (69, 1), (76, 1), (161, 1), (184, 1), (232, 1), (784, 1), (815, 1), (1204, 1), (1205, 1), (1206, 1)], [(0, 1), (3, 1), (13, 1), (235, 1), (279, 1), (576, 1), (621, 1), (904, 1), (1207, 1), (1208, 1), (1209, 1)], [(14, 1), (47, 1), (141, 1), (196, 1), (257, 1), (1210, 1), (1211, 1), (1212, 1), (1213, 1)], [(3, 1), (18, 1), (25, 2), (84, 1), (282, 2), (283, 2), (576, 1), (743, 1), (1214, 2)], [(3, 1), (12, 1), (32, 1), (47, 2), (161, 1), (259, 1), (1215, 1), (1216, 1), (1217, 1), (1218, 1)], [(12, 2), (76, 1), (196, 1), (259, 1), (285, 1), (306, 1), (621, 1), (813, 1), (862, 1), (1219, 1)], [(12, 1), (14, 1), (39, 1), (228, 1), (997, 1), (1220, 1), (1221, 1)], [(12, 1), (14, 1), (39, 1), (47, 1), (49, 1), (981, 1), (1222, 1), (1223, 1)], [(3, 1), (7, 1), (32, 1), (60, 1), (1224, 1), (1225, 1)], [(14, 1), (39, 1), (1226, 1)], [(3, 1), (6, 1), (14, 1), (39, 1), (44, 1), (60, 2), (61, 1), (69, 2), (80, 1), (154, 1), (161, 3), (232, 2), (367, 1), (435, 1), (460, 1), (481, 1), (535, 1), (643, 1), (1227, 1), (1228, 1), (1229, 1), (1230, 1), (1231, 1), (1232, 1)], [(0, 1), (3, 1), (12, 1), (32, 1), (60, 1), (93, 1), (279, 1), (386, 1), (661, 1), (1233, 1), (1234, 1), (1235, 1)], [(3, 1), (6, 1), (32, 1), (61, 1), (84, 1), (161, 1), (168, 1), (196, 1), (259, 1), (1236, 1), (1237, 1), (1238, 1), (1239, 1), (1240, 1)], [(25, 1), (32, 1), (61, 1), (301, 1), (1241, 1), (1242, 1), (1243, 1)], [(3, 1), (6, 1), (32, 1), (45, 1), (149, 1), (161, 1), (1244, 1)], [(10, 1), (12, 1), (14, 1), (39, 1), (47, 2), (508, 1), (1245, 1), (1246, 1), (1247, 1), (1248, 1)], [(14, 1), (39, 1), (47, 1), (122, 1), (708, 1), (828, 1), (1249, 1), (1250, 1), (1251, 1), (1252, 1)], [(14, 1), (39, 1), (289, 1), (1253, 1)], [(6, 1), (12, 1), (14, 1), (19, 1), (39, 1), (49, 1), (160, 1), (234, 1), (1254, 1)], [(13, 1), (14, 1), (20, 1), (34, 1), (617, 1), (1255, 1), (1256, 1)], [(0, 1), (6, 1), (12, 1), (22, 1), (61, 1), (85, 1), (128, 1), (410, 1), (1257, 1), (1258, 1), (1259, 1), (1260, 1), (1261, 1), (1262, 1)], [(25, 1), (27, 1), (32, 1), (161, 1), (201, 1), (416, 1), (417, 1), (1263, 1)], [(3, 1), (32, 1), (112, 1), (161, 1), (1264, 1), (1265, 1)], [(3, 1), (25, 1), (32, 1), (117, 1), (435, 1), (448, 1), (1266, 1), (1267, 1), (1268, 1), (1269, 1), (1270, 1)], [(0, 1), (12, 1), (14, 1), (39, 1), (47, 1), (148, 1), (1271, 1), (1272, 1), (1273, 1), (1274, 1)], [(3, 1), (6, 1), (12, 1), (39, 1), (604, 1), (1275, 1), (1276, 1)], [(0, 1), (12, 1), (14, 1), (39, 1), (288, 1), (410, 1), (411, 1), (1277, 1)], [(10, 1), (14, 1), (39, 1), (80, 1), (227, 1), (287, 1), (318, 1), (1278, 1), (1279, 1), (1280, 1)], [(3, 2), (39, 1), (60, 1), (61, 1), (161, 1), (1281, 1), (1282, 1), (1283, 1)], [(14, 1), (84, 1), (105, 1), (808, 1), (809, 1), (811, 2), (813, 1), (1284, 1), (1285, 1), (1286, 1)], [(0, 1), (6, 1), (12, 1), (13, 1), (14, 1), (128, 1), (533, 1), (621, 1), (909, 1), (1287, 1)], [(14, 1), (84, 1), (105, 1), (214, 1), (812, 1), (813, 1), (1288, 1), (1289, 1), (1290, 1)], [(6, 1), (12, 1), (14, 1), (62, 1), (558, 1), (716, 1), (1291, 1), (1292, 1), (1293, 1)], [(12, 1), (14, 1), (16, 1), (60, 1), (69, 1), (80, 1), (148, 2), (161, 1), (304, 1), (435, 2), (792, 1), (884, 1), (937, 1), (1071, 1), (1294, 1), (1295, 1), (1296, 1), (1297, 1), (1298, 1)], [(3, 1), (30, 1), (32, 1), (44, 1), (61, 1), (161, 1), (232, 1), (773, 1), (1205, 1), (1299, 1), (1300, 1)], [(3, 1), (7, 1), (10, 1), (12, 1), (13, 1), (14, 1), (135, 1), (750, 1), (1301, 1)], [(14, 1), (24, 1), (25, 1), (32, 1), (779, 1), (1302, 1), (1303, 1)], [(6, 1), (12, 1), (14, 1), (49, 1), (103, 1), (128, 1), (1304, 1), (1305, 1)], [(10, 1), (12, 1), (14, 1), (31, 1), (39, 1), (47, 1), (84, 1), (85, 1), (227, 1), (452, 1), (1130, 1), (1306, 1), (1307, 1), (1308, 1), (1309, 1)], [(25, 1), (32, 1), (61, 1), (80, 1), (161, 1), (227, 1), (360, 1), (1077, 1), (1310, 1), (1311, 1)], [(12, 1), (13, 1), (14, 1), (47, 1), (172, 1), (1216, 1), (1235, 1), (1312, 1), (1313, 1), (1314, 1)], [(3, 1), (16, 1), (39, 1), (69, 1), (97, 1), (104, 1), (697, 1), (1315, 1)], [(3, 1), (31, 1), (324, 1), (583, 1), (928, 1), (1316, 1), (1317, 1)], [(0, 1), (6, 1), (14, 1), (39, 1), (60, 1), (69, 1), (83, 1), (158, 1), (329, 1), (1318, 1), (1319, 1), (1320, 1)], [(12, 1), (14, 1), (39, 1), (60, 1), (61, 1), (789, 1), (1321, 1), (1322, 1)], [(3, 1), (6, 1), (7, 1), (8, 1), (12, 1), (13, 1), (14, 1), (25, 1), (27, 1), (61, 2), (62, 1), (80, 1), (84, 1), (112, 1), (205, 1), (329, 1), (460, 1), (576, 1), (625, 1), (1007, 1), (1076, 1), (1214, 1), (1296, 1), (1323, 1), (1324, 1), (1325, 1), (1326, 1), (1327, 1), (1328, 1)], [(12, 1), (14, 1), (39, 1), (49, 1), (60, 1), (151, 1), (202, 1), (1329, 1)], [(3, 1), (12, 1), (39, 1), (47, 1), (60, 1), (62, 1), (135, 1), (403, 1), (756, 1), (1100, 1), (1330, 1), (1331, 1), (1332, 1), (1333, 1), (1334, 1), (1335, 1)], [(13, 1), (14, 1), (19, 1), (61, 1), (83, 1), (643, 1), (756, 1), (1336, 1), (1337, 1)], [(3, 1), (12, 1), (32, 1), (117, 1), (380, 1)], [(14, 1), (60, 1), (141, 1), (257, 1), (1232, 1), (1338, 1), (1339, 1), (1340, 1)], [(0, 1), (6, 1), (12, 1), (14, 1), (32, 1), (33, 1), (47, 1), (60, 1), (88, 1), (90, 1), (91, 1), (93, 1), (94, 1), (97, 1), (98, 1), (100, 1), (462, 1), (1341, 1), (1342, 1)], [(0, 1), (6, 1), (10, 1), (14, 1), (16, 1), (39, 1), (61, 2), (157, 1), (269, 1), (743, 1), (1343, 1), (1344, 1), (1345, 1), (1346, 1), (1347, 1), (1348, 1)], [(3, 1), (12, 1), (363, 1), (452, 1), (460, 1), (736, 1), (1349, 1), (1350, 1), (1351, 1), (1352, 1)], [(0, 1), (14, 1), (32, 1), (47, 1), (60, 1), (61, 1), (77, 1), (121, 1), (122, 1), (123, 1), (161, 1), (201, 1), (517, 1), (539, 1), (590, 2), (1353, 1), (1354, 1), (1355, 1), (1356, 1)], [(6, 2), (12, 1), (14, 1), (24, 1), (32, 1), (44, 1), (47, 1), (60, 2), (61, 1), (69, 1), (114, 1), (263, 1), (460, 1), (505, 1), (688, 1), (911, 1), (955, 1), (1357, 1), (1358, 1), (1359, 1), (1360, 1), (1361, 2), (1362, 1), (1363, 1), (1364, 1), (1365, 1), (1366, 1)], [(3, 1), (32, 1), (61, 2), (161, 1), (173, 1), (184, 1), (227, 1), (949, 1), (989, 1), (1367, 1), (1368, 1)], [(0, 1), (12, 1), (14, 1), (39, 1), (47, 1), (341, 1), (464, 1), (1369, 1)], [(3, 1), (32, 1), (148, 1), (161, 1), (1370, 1), (1371, 1)], [(3, 1), (32, 1), (373, 1), (1372, 1), (1373, 1), (1374, 1), (1375, 1)], [(7, 1), (25, 1), (32, 1), (39, 1), (62, 1), (135, 1), (161, 1), (403, 1), (571, 1), (1376, 1)], [(14, 1), (39, 1), (60, 1), (202, 1), (1377, 1), (1378, 1)], [(14, 1), (47, 1), (60, 1), (141, 1), (257, 1), (410, 1), (411, 1), (443, 1), (1379, 1), (1380, 1), (1381, 1), (1382, 1), (1383, 1), (1384, 1)], [(14, 1), (61, 1), (1385, 1), (1386, 1), (1387, 1), (1388, 1)], [(6, 1), (14, 1), (16, 1), (61, 1), (141, 1), (257, 1), (1232, 1), (1389, 1), (1390, 1), (1391, 1)], [(10, 1), (14, 1), (39, 1), (47, 1), (564, 1), (896, 1), (1057, 1), (1392, 1)], [(3, 2), (6, 2), (12, 2), (15, 2), (32, 2), (60, 1), (117, 1), (132, 1), (443, 1), (448, 1), (620, 2), (621, 1)], [(6, 1), (12, 1), (25, 1), (37, 1), (39, 1), (47, 2), (60, 1), (161, 1), (1020, 1), (1027, 1), (1111, 1), (1393, 1), (1394, 1), (1395, 1), (1396, 1)], [(25, 1), (30, 1), (61, 1), (69, 1), (77, 1), (93, 1), (97, 1), (161, 1), (1394, 1), (1397, 1), (1398, 1)], [(3, 1), (1399, 1), (1400, 1), (1401, 2)], [(0, 1), (3, 1), (39, 1), (47, 1), (135, 1), (369, 1), (403, 1), (1402, 1), (1403, 1), (1404, 1), (1405, 1)], [(16, 1), (31, 1), (32, 1), (61, 2), (62, 1), (85, 1), (93, 1), (395, 1), (896, 1), (1406, 1), (1407, 1), (1408, 1), (1409, 1), (1410, 1), (1411, 1)], [(32, 1), (47, 1), (61, 1), (77, 2), (154, 1), (157, 1), (342, 1), (625, 1), (1412, 1), (1413, 1), (1414, 1), (1415, 1)], [(3, 1), (27, 1), (31, 1), (32, 1), (60, 1), (61, 1), (225, 1), (347, 1), (688, 1), (725, 1), (898, 1), (1416, 1), (1417, 1)], [(6, 1), (9, 1), (12, 1), (14, 1), (61, 1), (825, 1), (1418, 1), (1419, 1)], [(13, 1), (14, 1), (16, 1), (86, 1), (497, 1), (533, 1), (613, 1), (1420, 1)], [(39, 1), (60, 1), (69, 1), (74, 1), (83, 1), (85, 1), (158, 1), (176, 1), (1421, 1)], [(12, 1), (16, 1), (69, 1), (112, 1), (158, 1), (228, 1), (340, 1), (481, 1), (743, 1), (828, 1), (1422, 1), (1423, 1), (1424, 1)], [(3, 1), (324, 1), (1425, 1), (1426, 1), (1427, 1), (1428, 1), (1429, 1)], [(0, 1), (3, 1), (12, 1), (31, 1), (33, 1), (39, 1), (47, 1), (91, 1), (98, 1), (135, 1), (172, 1), (402, 1), (461, 1), (462, 1), (466, 1), (1430, 1)], [(12, 1), (340, 1), (697, 1), (1431, 1)], [(14, 2), (16, 1), (27, 2), (60, 1), (69, 1), (114, 2), (184, 1), (201, 1), (263, 1), (485, 1), (576, 1), (756, 2), (981, 1), (1432, 1), (1433, 2), (1434, 1)], [(3, 1), (32, 1), (161, 1), (789, 1), (1435, 1)], [(6, 1), (12, 1), (14, 1), (19, 1), (49, 1), (105, 1), (310, 1), (1000, 1), (1436, 1)], [(6, 1), (12, 1), (14, 1), (60, 1), (93, 1), (301, 1), (924, 1), (1437, 1), (1438, 1), (1439, 1), (1440, 1)], [(60, 1), (62, 1), (154, 1), (161, 1), (201, 1), (733, 1), (815, 1), (1441, 1), (1442, 1)], [(12, 1), (14, 1), (49, 1), (60, 1), (84, 1), (105, 1), (158, 1), (964, 1), (1443, 1), (1444, 1)], [(14, 1), (39, 1), (60, 1), (61, 2), (77, 1), (84, 1), (227, 1), (228, 1), (365, 1), (576, 1), (636, 1), (756, 1), (853, 2), (864, 1), (1091, 1), (1382, 1), (1384, 1), (1445, 1), (1446, 1), (1447, 1)], [(47, 1), (154, 1), (161, 1), (731, 1), (1378, 1), (1448, 1), (1449, 1), (1450, 1)], [(12, 1), (14, 1), (32, 1), (122, 2), (1451, 1)], [(14, 1), (654, 1), (1452, 1), (1453, 1)], [(12, 1), (14, 1), (39, 1), (47, 1), (1454, 1), (1455, 1)], [(3, 1), (6, 1), (13, 1), (14, 1), (25, 1), (69, 1), (224, 1), (306, 1), (460, 1), (1214, 1), (1423, 1), (1456, 1), (1457, 1), (1458, 1), (1459, 1), (1460, 2)], [(10, 1), (14, 1), (39, 1), (60, 2), (61, 1), (81, 1), (314, 1), (1049, 1), (1461, 1), (1462, 1), (1463, 1)], [(6, 1), (24, 1), (31, 2), (74, 1), (80, 1), (93, 1), (112, 1), (227, 1), (481, 1), (512, 1), (1464, 1), (1465, 1)], [(12, 1), (14, 1), (49, 1), (105, 1), (271, 1), (374, 1)], [(3, 1), (17, 1), (32, 1), (61, 1), (161, 1), (1466, 1), (1467, 1)], [(3, 1), (4, 1), (32, 1), (61, 2), (62, 1), (227, 1), (360, 1), (726, 1), (1468, 1), (1469, 1), (1470, 1), (1471, 1), (1472, 1), (1473, 1), (1474, 1)], [(3, 1), (12, 2), (13, 1), (14, 1), (47, 1), (60, 1), (61, 1), (141, 1), (227, 1), (516, 1), (756, 1), (1475, 1), (1476, 2), (1477, 1), (1478, 1), (1479, 1), (1480, 1), (1481, 1), (1482, 1), (1483, 1), (1484, 1), (1485, 1)], [(14, 1), (25, 2), (31, 1), (32, 1), (61, 1), (283, 1), (887, 1), (973, 1), (1486, 1)], [(12, 2), (14, 1), (39, 1), (47, 1), (49, 1), (60, 1), (62, 1), (151, 1), (674, 1), (1024, 1), (1487, 1), (1488, 1), (1489, 1)], [(3, 1), (14, 1), (39, 1), (60, 1), (61, 1), (80, 1), (83, 1), (141, 1), (154, 1), (161, 2), (201, 1), (360, 2), (366, 2), (373, 1), (884, 1), (1153, 1), (1215, 1), (1388, 1), (1490, 1), (1491, 1), (1492, 2), (1493, 1), (1494, 1), (1495, 2)], [(14, 1), (39, 1), (49, 1), (86, 1), (449, 1), (522, 1), (1496, 1)], [(12, 1), (14, 1), (60, 1), (105, 1), (228, 1), (287, 1), (1280, 1), (1497, 1)], [(12, 1), (14, 1), (39, 1), (49, 1), (60, 1), (202, 1), (262, 1), (1498, 1), (1499, 1)], [(6, 2), (24, 1), (25, 1), (30, 1), (32, 1), (148, 1), (161, 1), (973, 1), (1500, 1), (1501, 1), (1502, 2)], [(0, 1), (12, 2), (14, 2), (39, 1), (47, 1), (60, 1), (70, 1), (77, 1), (224, 1), (227, 1), (403, 1), (538, 1), (545, 2), (669, 1), (1110, 1), (1503, 1), (1504, 1), (1505, 1), (1506, 1), (1507, 1), (1508, 1), (1509, 1)], [(12, 1), (25, 1), (149, 1), (751, 1), (1510, 1), (1511, 1)], [(3, 1), (6, 1), (14, 1), (16, 1), (24, 1), (31, 1), (32, 1), (60, 1), (61, 1), (1229, 1), (1448, 1), (1467, 1), (1512, 1), (1513, 1), (1514, 1), (1515, 1)], [(3, 1), (14, 1), (31, 1), (39, 1), (77, 1), (419, 1), (747, 1), (1516, 1), (1517, 1), (1518, 1)], [(0, 1), (7, 1), (32, 1), (154, 1), (161, 1), (172, 1), (259, 1), (263, 1), (576, 1), (1519, 1), (1520, 1), (1521, 1), (1522, 1)], [(0, 1), (14, 2), (16, 1), (21, 1), (29, 1), (76, 1), (80, 1), (172, 1), (321, 1), (909, 1), (1110, 1), (1287, 1), (1334, 1), (1523, 1), (1524, 1), (1525, 1), (1526, 1), (1527, 1), (1528, 1), (1529, 1), (1530, 1)], [(6, 1), (12, 1), (14, 1), (39, 1), (61, 1), (290, 1), (514, 1), (1531, 1)], [(47, 1), (60, 2), (123, 2), (154, 1), (161, 2), (201, 3), (430, 2), (514, 1), (536, 1), (537, 1), (836, 1), (1469, 1), (1495, 1), (1532, 1), (1533, 1), (1534, 1)], [(0, 2), (12, 1), (14, 1), (33, 1), (39, 1), (410, 1), (411, 1), (745, 1), (1200, 1), (1535, 2)], [(6, 1), (12, 1), (14, 1), (32, 1), (44, 1), (376, 1), (909, 1), (1220, 1), (1422, 1), (1536, 1), (1537, 1), (1538, 1), (1539, 1)], [(6, 3), (12, 2), (14, 1), (19, 1), (39, 1), (47, 1), (84, 1), (201, 1), (259, 1), (934, 1), (1140, 1), (1144, 1), (1484, 1), (1540, 1), (1541, 1), (1542, 1), (1543, 1)], [(3, 1), (12, 1), (14, 1), (31, 2), (39, 1), (60, 1), (81, 1), (747, 1), (862, 1), (1495, 1)], [(12, 1), (14, 1), (16, 1), (49, 1), (105, 1), (711, 1), (1544, 1)], [(39, 1), (226, 1), (304, 1), (476, 1), (1545, 1), (1546, 1)], [(3, 1), (10, 1), (13, 1), (227, 1), (636, 1), (678, 1), (1547, 1)], [(10, 1), (14, 1), (39, 1), (81, 1), (93, 1), (97, 1), (143, 1), (154, 1), (168, 1), (246, 1), (290, 1), (726, 1), (949, 1), (1548, 1), (1549, 1), (1550, 1)], [(3, 1), (6, 1), (31, 1), (32, 1), (792, 1), (1551, 1), (1552, 1), (1553, 1)], [(12, 1), (14, 1), (49, 1), (60, 1), (105, 1), (675, 1), (789, 1)], [(7, 1), (10, 1), (13, 1), (14, 1), (534, 1), (650, 1), (762, 1), (1554, 1)], [(10, 1), (14, 2), (39, 1), (47, 1), (61, 1), (170, 1), (172, 1), (193, 1), (842, 1), (1441, 1), (1555, 1), (1556, 1)], [(4, 1), (14, 1), (31, 1), (39, 1), (60, 1), (112, 1), (593, 1), (1557, 1)], [(12, 1), (14, 1), (39, 1), (47, 1), (508, 1), (919, 1), (1558, 1)], [(14, 1), (20, 1), (32, 1), (702, 1), (1399, 1), (1559, 1)], [(3, 1), (39, 1), (83, 1), (1560, 1), (1561, 1)], [(3, 1), (12, 2), (14, 1), (39, 1), (60, 1), (69, 1), (290, 1), (363, 1), (452, 1), (460, 1), (828, 1), (1562, 1), (1563, 1), (1564, 1)], [(6, 1), (12, 1), (14, 1), (39, 1), (49, 1), (60, 1), (61, 2), (96, 1), (112, 1), (202, 1), (1111, 1), (1477, 1)], [(3, 1), (6, 1), (31, 1), (32, 1), (86, 1), (509, 1), (1565, 1), (1566, 1), (1567, 1)], [(13, 1), (112, 1), (705, 1), (750, 1), (1301, 1), (1568, 1), (1569, 1)], [(0, 1), (3, 2), (6, 1), (31, 2), (32, 2), (34, 2), (53, 1), (170, 1), (594, 1), (1570, 1), (1571, 1), (1572, 1), (1573, 1)], [(12, 1), (14, 1), (39, 1), (78, 1), (1574, 1), (1575, 1), (1576, 1)], [(6, 1), (12, 1), (25, 1), (47, 1), (161, 1), (184, 1), (201, 2), (259, 1), (306, 1), (682, 1), (733, 1), (836, 1), (1577, 1), (1578, 1), (1579, 1), (1580, 1)], [(0, 1), (12, 2), (14, 2), (27, 1), (39, 1), (47, 1), (60, 1), (105, 1), (228, 1), (259, 1), (355, 1), (410, 1), (411, 1), (895, 1), (1191, 1), (1581, 1), (1582, 1), (1583, 1), (1584, 1), (1585, 1)], [(13, 2), (25, 1), (84, 1), (576, 1), (604, 1), (1385, 1), (1586, 1), (1587, 1), (1588, 1)], [(0, 1), (6, 1), (12, 1), (14, 1), (15, 1), (39, 1), (228, 1), (410, 1), (582, 1), (620, 1), (909, 1), (1589, 1), (1590, 1), (1591, 1)], [(10, 1), (12, 1), (14, 1), (39, 1), (47, 1), (49, 1), (60, 1), (827, 1), (828, 1), (1592, 1)], [(14, 1), (32, 1), (45, 1), (1593, 1)], [(12, 1), (14, 1), (30, 1), (39, 1), (47, 1), (60, 1), (85, 1), (148, 1), (342, 1), (779, 1), (1431, 1), (1594, 1), (1595, 1)], [(14, 1), (20, 1), (60, 1), (69, 2), (84, 1), (105, 1), (224, 1), (481, 1), (1596, 2), (1597, 1), (1598, 1), (1599, 2), (1600, 1), (1601, 1)], [(6, 2), (32, 1), (60, 1), (61, 1), (154, 1), (161, 2), (168, 1), (199, 1), (201, 1), (259, 2), (373, 1), (1602, 1), (1603, 1), (1604, 1), (1605, 1), (1606, 1), (1607, 1), (1608, 1)], [(12, 1), (16, 1), (25, 1), (32, 1), (92, 1), (301, 1), (348, 1), (1609, 1)], [(3, 1), (24, 1), (39, 1), (135, 1), (154, 1), (161, 3), (184, 1), (227, 1), (1610, 1), (1611, 1)], [(3, 1), (32, 1), (44, 1), (60, 1), (61, 1), (373, 1), (548, 1), (667, 1), (737, 1), (1393, 1), (1398, 1), (1612, 1)], [(25, 1), (31, 1), (47, 1), (61, 2), (117, 1), (221, 1), (696, 1), (1288, 1), (1435, 1)], [(0, 1), (3, 1), (12, 1), (31, 1), (39, 1), (60, 1), (62, 1), (100, 1), (135, 1), (401, 1), (461, 1), (462, 1), (1332, 1), (1613, 1), (1614, 1), (1615, 1)], [(3, 1), (16, 1), (32, 1), (161, 1), (201, 1), (205, 1), (259, 1), (712, 1), (861, 1), (1190, 1), (1616, 1)], [(3, 1), (12, 1), (47, 1), (60, 1), (69, 1), (277, 1), (306, 1), (906, 1), (1617, 1), (1618, 1), (1619, 1), (1620, 1)], [(12, 1), (39, 1), (76, 1), (79, 1), (184, 1), (1334, 1), (1621, 1), (1622, 1)], [(12, 1), (14, 1), (16, 1), (39, 1), (44, 1), (49, 1), (60, 1), (61, 1), (251, 1), (1359, 1), (1364, 1), (1623, 1), (1624, 1), (1625, 1), (1626, 1)], [(3, 1), (6, 2), (12, 1), (39, 1), (47, 1), (304, 1), (829, 1), (1455, 1), (1627, 1), (1628, 1), (1629, 1)], [(86, 1), (340, 1), (449, 1), (1630, 1)], [(7, 1), (12, 1), (14, 1), (16, 1), (60, 2), (83, 1), (143, 1), (347, 2), (369, 1), (374, 1), (517, 1), (798, 1), (1110, 1), (1235, 1), (1293, 1), (1631, 1), (1632, 1), (1633, 1), (1634, 1), (1635, 1), (1636, 1)], [(3, 1), (12, 1), (23, 1), (30, 1), (32, 1), (61, 1), (84, 1), (161, 1), (170, 1), (201, 1), (578, 1), (814, 1), (1637, 1), (1638, 1), (1639, 1), (1640, 1)], [(0, 1), (3, 1), (39, 1), (60, 1), (77, 2), (82, 1), (161, 1), (201, 1), (418, 1), (1005, 1), (1072, 1), (1153, 1), (1169, 1), (1520, 1), (1641, 1), (1642, 1), (1643, 1), (1644, 1), (1645, 1)], [(25, 1), (32, 1), (161, 1), (201, 1), (1343, 1), (1646, 1)], [(14, 2), (39, 1), (47, 1), (201, 1), (669, 1), (1140, 1), (1647, 1)], [(12, 1), (14, 1), (18, 1), (25, 1), (60, 1), (61, 1), (69, 1), (80, 1), (93, 1), (184, 1), (363, 1), (403, 1), (636, 1), (733, 1), (884, 1), (981, 1), (1199, 1), (1215, 1), (1310, 1), (1492, 1), (1495, 2), (1524, 1), (1648, 1), (1649, 1), (1650, 1), (1651, 1)], [(0, 1), (25, 1), (31, 1), (45, 1), (86, 1), (148, 1), (196, 1), (225, 1), (358, 1), (747, 1)], [(25, 1), (44, 1), (301, 1), (493, 1), (1652, 1), (1653, 1), (1654, 1)], [(12, 1), (14, 1), (39, 1), (49, 1), (1655, 1)], [(6, 1), (12, 2), (13, 1), (61, 1), (84, 1), (277, 1), (373, 2), (1656, 1), (1657, 1), (1658, 1), (1659, 1), (1660, 1), (1661, 1), (1662, 1), (1663, 1), (1664, 1)], [(12, 1), (14, 1), (16, 1), (39, 1), (62, 1), (87, 1), (154, 1), (165, 1), (170, 1), (172, 1), (201, 1), (263, 1), (536, 1), (1665, 1)], [(6, 1), (12, 1), (39, 1), (79, 1), (85, 1), (184, 1), (309, 1), (756, 1), (833, 1), (1666, 1), (1667, 1), (1668, 1)], [(3, 1), (60, 1), (83, 1), (227, 1), (229, 1), (360, 1)], [(0, 1), (6, 1), (14, 1), (61, 1), (105, 1), (657, 1), (954, 1), (1194, 1), (1195, 1), (1197, 1), (1669, 1), (1670, 1), (1671, 1), (1672, 1)], [(6, 1), (14, 1), (24, 1), (47, 1), (85, 1), (148, 1), (257, 1), (437, 1), (1673, 1)], [(0, 2), (14, 1), (32, 1), (76, 1), (89, 1), (96, 1), (98, 1), (172, 1), (461, 1), (462, 1), (571, 1), (1341, 1), (1674, 1)], [(12, 1), (14, 1), (69, 1), (80, 1), (1036, 1), (1293, 1), (1675, 1), (1676, 1)], [(3, 1), (7, 1), (12, 1), (13, 1), (25, 1), (27, 1), (165, 1), (170, 1), (172, 1), (225, 1), (231, 1), (259, 1), (448, 1), (697, 1), (1110, 1), (1441, 1)], [(3, 1), (16, 1), (31, 1), (32, 1), (57, 1), (1351, 1), (1677, 1)], [(12, 1), (14, 1), (24, 1), (39, 1), (47, 1), (102, 1), (259, 1), (425, 1)], [(3, 1), (39, 1), (47, 1), (304, 1), (1190, 1), (1678, 1)], [(47, 1), (105, 1), (161, 1), (227, 1), (440, 1), (1155, 1)], [(13, 1), (27, 3), (84, 1), (717, 1), (1660, 1), (1679, 3), (1680, 1), (1681, 1), (1682, 1)], [(14, 1), (16, 1), (141, 1), (257, 1), (901, 1), (1001, 1), (1102, 1), (1683, 1)], [(0, 1), (3, 1), (16, 1), (32, 1), (161, 1), (201, 1), (259, 1), (386, 1), (1684, 1), (1685, 1), (1686, 1)], [(10, 1), (12, 1), (14, 1), (39, 1), (47, 1), (49, 1), (60, 1), (202, 1), (1687, 1), (1688, 1), (1689, 1)], [(6, 1), (12, 1), (14, 1), (32, 1), (34, 1), (141, 1), (522, 1), (1223, 1), (1542, 1), (1690, 1)], [(6, 1), (25, 1), (32, 1), (47, 1), (61, 1), (161, 1), (246, 1), (259, 1), (321, 1), (412, 1), (1691, 1), (1692, 1)], [(12, 1), (16, 1), (44, 2), (54, 1), (61, 1), (77, 1), (105, 1), (161, 2), (201, 1), (227, 1), (232, 2), (246, 1), (395, 1), (460, 1), (470, 1), (634, 2), (661, 1), (669, 1), (794, 1), (1223, 1), (1278, 1), (1388, 1), (1693, 1), (1694, 1), (1695, 1), (1696, 1), (1697, 1), (1698, 1), (1699, 1), (1700, 1)], [(6, 2), (12, 1), (14, 1), (16, 1), (19, 1), (61, 1), (105, 1), (171, 1), (1542, 1), (1556, 1), (1701, 1), (1702, 1)], [(0, 2), (3, 1), (6, 1), (12, 2), (13, 1), (47, 1), (83, 1), (93, 1), (228, 1), (403, 1), (1118, 1), (1382, 1), (1447, 1), (1663, 2), (1703, 1), (1704, 1), (1705, 1), (1706, 1), (1707, 1)], [(5, 1), (14, 1), (32, 1), (216, 1), (1340, 1), (1708, 1)], [(0, 1), (6, 1), (14, 1), (39, 1), (939, 1), (1418, 2), (1709, 1), (1710, 1), (1711, 1)], [(6, 1), (14, 1), (32, 1), (34, 1), (227, 1), (442, 1), (962, 1), (1712, 1), (1713, 1), (1714, 1)], [(14, 1), (25, 1), (32, 1), (61, 1), (161, 1), (1715, 1)], [(3, 1), (32, 1), (69, 1), (117, 1), (172, 1), (227, 1), (256, 1), (367, 1), (1695, 1), (1716, 1), (1717, 1)], [(6, 1), (12, 1), (14, 1), (16, 1), (19, 1), (39, 1), (49, 1), (100, 1), (794, 1), (832, 1), (844, 1), (877, 1), (1718, 1), (1719, 1), (1720, 1)], [(6, 1), (12, 2), (13, 1), (18, 1), (47, 1), (61, 1), (84, 1), (112, 1), (143, 1), (184, 1), (198, 1), (227, 1), (343, 1), (357, 1), (370, 1), (538, 1), (571, 1), (771, 1), (1326, 1), (1524, 1), (1632, 1), (1721, 1), (1722, 1), (1723, 1), (1724, 1), (1725, 1)], [(6, 1), (14, 1), (60, 1), (141, 1), (142, 1), (148, 1), (1726, 1), (1727, 1), (1728, 1), (1729, 1)], [(6, 1), (16, 1), (25, 1), (31, 1), (32, 1), (44, 1), (47, 1), (60, 1), (61, 2), (148, 1), (336, 1), (376, 1), (460, 1), (564, 1), (869, 1), (1730, 1), (1731, 1), (1732, 1), (1733, 1), (1734, 2)], [(3, 1), (7, 1), (32, 1), (44, 1), (161, 1), (345, 1), (851, 1)], [(6, 1), (25, 1), (161, 1), (164, 1), (259, 1), (404, 1), (446, 1), (1153, 1), (1735, 1), (1736, 1), (1737, 1)], [(12, 1), (14, 1), (49, 1), (55, 1), (58, 1), (105, 1), (287, 1), (1738, 1)], [(14, 1), (16, 1), (24, 1), (49, 1), (105, 1), (674, 1), (1739, 1), (1740, 1)], [(12, 1), (14, 1), (16, 1), (49, 1), (105, 1), (249, 1), (613, 1), (847, 1), (1741, 1)], [(3, 1), (30, 1), (39, 1), (60, 1), (61, 1), (154, 1), (161, 1), (347, 1), (349, 1), (1084, 1), (1742, 1)], [(12, 1), (14, 1), (39, 1), (45, 1), (47, 1), (228, 1), (481, 1), (1440, 1), (1539, 1), (1743, 1), (1744, 1), (1745, 1)], [(6, 1), (14, 1), (39, 1), (47, 1), (60, 1), (86, 1), (94, 1), (249, 1), (363, 1), (1178, 1), (1264, 1), (1746, 1), (1747, 1), (1748, 1), (1749, 1), (1750, 1), (1751, 1), (1752, 1)], [(6, 1), (14, 1), (16, 1), (25, 1), (32, 1), (37, 1), (44, 1), (60, 1), (123, 1), (161, 3), (834, 1), (1349, 1), (1431, 1), (1495, 1), (1542, 1), (1753, 1), (1754, 1), (1755, 1), (1756, 1), (1757, 1)], [(7, 1), (10, 1), (14, 1), (39, 1), (80, 1), (228, 1), (258, 1), (556, 1), (949, 1), (1758, 1), (1759, 1), (1760, 1)], [(105, 1), (227, 1), (313, 1), (762, 1), (1212, 1), (1761, 1), (1762, 1)], [(3, 1), (13, 1), (1099, 1), (1763, 1), (1764, 1)], [(25, 1), (32, 1), (161, 1), (201, 1), (1311, 1), (1442, 1)], [(0, 1), (3, 1), (12, 3), (13, 1), (47, 2), (60, 2), (82, 1), (97, 1), (196, 1), (901, 1), (1118, 1), (1765, 1), (1766, 1), (1767, 1), (1768, 1), (1769, 1), (1770, 1), (1771, 1), (1772, 1), (1773, 1), (1774, 1), (1775, 1), (1776, 1)], [(3, 1), (14, 1), (32, 1), (161, 1), (201, 1), (519, 1), (844, 1), (901, 1), (949, 1), (1178, 1), (1777, 1), (1778, 1)], [(3, 1), (39, 1), (60, 1), (154, 1), (161, 1), (201, 2), (771, 1), (815, 1), (1522, 1), (1779, 1)], [(0, 1), (6, 1), (12, 3), (13, 1), (14, 1), (19, 1), (91, 1), (98, 1), (402, 1), (461, 1), (462, 1), (466, 2), (1674, 1), (1780, 1)], [(3, 1), (12, 1), (14, 1), (17, 1), (31, 1), (60, 1), (69, 1), (135, 1), (364, 1), (1781, 1)], [(0, 1), (6, 1), (12, 1), (14, 1), (39, 1), (47, 1), (1271, 1), (1272, 1), (1782, 1), (1783, 1)], [(13, 1), (14, 1), (27, 1), (170, 1), (201, 1), (225, 1), (594, 1), (1110, 1), (1352, 1), (1784, 1)], [(3, 1), (13, 1), (14, 1), (25, 1), (27, 1), (32, 1), (161, 1), (201, 1), (227, 1), (779, 1), (1007, 1), (1388, 1), (1785, 1), (1786, 1)], [(3, 1), (6, 1), (12, 1), (13, 1), (14, 2), (535, 1), (828, 1), (909, 1), (1044, 1), (1787, 1), (1788, 1), (1789, 1), (1790, 1), (1791, 1)], [(6, 1), (14, 1), (39, 1), (100, 1), (1792, 1), (1793, 1)], [(0, 1), (6, 1), (10, 1), (14, 2), (25, 1), (39, 1), (47, 1), (80, 1), (247, 1), (564, 1), (1794, 1), (1795, 1), (1796, 2), (1797, 1), (1798, 1)], [(14, 1), (39, 1), (60, 1), (61, 1), (202, 1), (496, 1), (540, 1), (1799, 1), (1800, 1)], [(12, 1), (14, 1), (16, 1), (39, 1), (49, 1), (287, 1), (776, 1), (1801, 1)], [(3, 1), (6, 1), (16, 1), (25, 1), (161, 1), (196, 1), (200, 1), (1802, 1), (1803, 1), (1804, 1)], [(3, 1), (14, 1), (32, 1), (161, 1), (168, 1), (263, 1), (366, 1), (949, 1)], [(0, 1), (3, 1), (227, 1), (464, 1), (545, 1), (615, 1), (1000, 1), (1805, 1)], [(1, 1), (6, 1), (12, 1), (14, 1), (39, 1), (662, 1), (1806, 1)], [(3, 1), (7, 1), (26, 1), (27, 1), (32, 1), (143, 1), (161, 1), (1807, 1), (1808, 1)], [(6, 1), (10, 1), (14, 1), (39, 1), (60, 1), (262, 1), (1190, 1), (1809, 1), (1810, 1)], [(3, 1), (6, 1), (39, 1), (304, 1), (1102, 1)], [(12, 1), (25, 1), (32, 1), (34, 1), (1440, 1), (1811, 1), (1812, 1)], [(6, 1), (14, 1), (17, 1), (39, 1), (61, 1), (1122, 1), (1123, 1), (1124, 1), (1125, 1), (1126, 1), (1127, 1), (1364, 1), (1813, 1)], [(0, 1), (14, 1), (16, 1), (69, 1), (76, 1), (117, 1), (201, 1), (576, 1), (1084, 1), (1647, 1), (1814, 1), (1815, 1), (1816, 1), (1817, 1), (1818, 1), (1819, 1)], [(0, 1), (6, 1), (12, 1), (14, 1), (16, 1), (30, 1), (39, 1), (47, 1), (85, 1), (245, 2), (700, 1), (702, 2), (703, 1), (1340, 1), (1820, 1), (1821, 1), (1822, 1), (1823, 1), (1824, 1)], [(32, 1), (60, 2), (69, 1), (83, 1), (112, 1), (176, 1), (697, 1), (775, 1), (1825, 1), (1826, 1), (1827, 2)], [(0, 1), (3, 1), (12, 2), (39, 1), (47, 2), (1516, 1), (1828, 1), (1829, 1), (1830, 2)], [(3, 1), (13, 1), (1831, 1), (1832, 1)], [(10, 1), (12, 1), (14, 1), (39, 1), (47, 1), (60, 1), (202, 1), (228, 1), (342, 1), (659, 1), (1259, 1)], [(7, 1), (12, 1), (14, 1), (39, 1), (49, 1), (62, 1), (80, 1), (97, 1), (228, 1), (258, 1), (949, 1), (1084, 1), (1833, 1)], [(14, 1), (16, 1), (61, 1), (140, 1), (708, 1), (1834, 1), (1835, 1), (1836, 1), (1837, 1), (1838, 1), (1839, 1)], [(14, 1), (39, 1), (61, 1), (1385, 1), (1840, 1)], [(3, 1), (6, 1), (32, 1), (112, 1), (161, 1), (815, 1), (1841, 1)], [(12, 1), (14, 1), (49, 1), (105, 1), (844, 1), (877, 1), (1842, 1), (1843, 1)], [(14, 2), (17, 1), (47, 1), (60, 1), (61, 2), (105, 1), (112, 1), (117, 1), (141, 1), (201, 1), (202, 1), (227, 2), (430, 1), (733, 2), (989, 1), (1100, 1), (1207, 1), (1844, 1), (1845, 1), (1846, 1), (1847, 1)], [(12, 1), (14, 2), (39, 1), (47, 1), (105, 1), (136, 1), (381, 1), (576, 1), (949, 1), (1358, 1), (1848, 1)], [(3, 1), (7, 1), (10, 1), (13, 1), (159, 1), (176, 1), (373, 1), (650, 1), (726, 1), (995, 1)], [(14, 1), (17, 1), (32, 1), (1164, 1), (1849, 1)], [(25, 1), (61, 1), (725, 1), (1215, 1), (1850, 1)], [(0, 1), (12, 1), (14, 1), (39, 1), (180, 1), (182, 3), (410, 1), (411, 1), (1851, 1), (1852, 1)], [(3, 1), (31, 1), (32, 1), (34, 1), (60, 1), (96, 1), (300, 1), (634, 1), (760, 1), (1232, 1), (1853, 1)], [(12, 1), (14, 1), (39, 1), (47, 1), (158, 1), (171, 1), (287, 1), (1072, 1), (1110, 1), (1280, 1)], [(12, 1), (14, 1), (31, 1), (39, 1), (227, 1), (481, 1), (1066, 1), (1854, 1)], [(14, 1), (32, 1), (1646, 1), (1855, 1), (1856, 1), (1857, 1), (1858, 1)], [(0, 1), (14, 1), (24, 1), (80, 1), (84, 1), (141, 1), (168, 1), (224, 1), (303, 1), (305, 1), (446, 1), (1062, 1), (1296, 1), (1636, 1), (1739, 1), (1859, 1), (1860, 1), (1861, 1)], [(0, 1), (12, 1), (14, 1), (39, 1), (410, 1), (411, 1), (1862, 1), (1863, 2), (1864, 1)], [(12, 1), (13, 1), (14, 1), (47, 1), (314, 1), (1865, 1), (1866, 1), (1867, 1)], [(0, 1), (3, 1), (33, 1), (39, 1), (69, 1), (82, 1), (154, 1), (161, 2), (172, 1), (201, 1), (227, 1), (301, 1), (321, 2), (483, 1), (516, 1), (643, 1), (905, 1), (1091, 1), (1100, 1), (1223, 1), (1683, 1), (1868, 1), (1869, 1), (1870, 1), (1871, 1)], [(3, 1), (7, 1), (32, 1), (47, 1), (172, 1), (466, 1), (760, 1), (1192, 1), (1739, 1), (1742, 1), (1872, 1), (1873, 1)], [(14, 1), (39, 1), (86, 1), (170, 1), (225, 1), (228, 1), (1874, 1)], [(12, 1), (14, 1), (39, 1), (122, 1), (1451, 1)], [(0, 1), (6, 1), (12, 3), (14, 1), (39, 1), (47, 2), (1271, 1), (1272, 1), (1409, 1), (1448, 1), (1875, 1), (1876, 1)], [(6, 1), (14, 1), (45, 1), (61, 1), (69, 1), (80, 1), (149, 1), (157, 1), (306, 1), (964, 1), (1153, 1), (1244, 1), (1293, 1)], [(0, 1), (3, 2), (6, 2), (14, 1), (25, 1), (31, 1), (32, 1), (34, 1), (69, 1), (141, 1), (158, 1), (190, 1), (224, 1), (246, 1), (257, 1), (1877, 1), (1878, 1), (1879, 1), (1880, 1)], [(0, 1), (12, 1), (21, 1), (22, 1), (128, 1), (410, 1), (620, 1), (883, 1), (1881, 1), (1882, 1)], [(0, 1), (13, 1), (14, 1), (16, 1), (39, 1), (86, 1), (959, 1), (960, 1)], [(10, 1), (14, 1), (39, 1), (506, 1), (1742, 1), (1883, 1)], [(0, 2), (3, 1), (12, 3), (14, 1), (32, 1), (39, 1), (47, 3), (60, 1), (443, 1), (663, 1), (1388, 1), (1884, 3), (1885, 1), (1886, 1), (1887, 1)], [(3, 1), (32, 1), (96, 1), (112, 1), (1888, 1)], [(12, 1), (14, 1), (39, 1), (62, 1), (1302, 1), (1889, 1), (1890, 1)], [(31, 2), (47, 1), (77, 1), (84, 1), (85, 2), (93, 1), (227, 1), (229, 1), (259, 1), (636, 1), (686, 1), (876, 1), (1891, 1), (1892, 1)], [(3, 1), (16, 1), (32, 1), (57, 1), (161, 1), (1893, 1), (1894, 1), (1895, 1)], [(6, 1), (14, 2), (24, 1), (30, 1), (60, 1), (61, 1), (69, 1), (80, 1), (149, 1), (981, 1), (1484, 1), (1896, 1), (1897, 1)], [(3, 1), (4, 1), (16, 1), (39, 1), (47, 1), (61, 2), (69, 1), (83, 1), (460, 1), (544, 1), (636, 1), (733, 1), (1199, 1), (1898, 1)], [(3, 1), (32, 1), (45, 1), (161, 1), (329, 1), (813, 1)], [(12, 1), (14, 1), (31, 1), (39, 1), (49, 1), (60, 1), (79, 1), (80, 1), (81, 1), (227, 1), (481, 1)], [(6, 1), (12, 2), (14, 2), (39, 1), (47, 1), (80, 1), (189, 1), (901, 1), (1899, 1), (1900, 1), (1901, 1), (1902, 1)], [(0, 2), (3, 1), (14, 2), (16, 1), (17, 1), (25, 1), (32, 1), (47, 1), (60, 2), (61, 2), (117, 1), (161, 6), (227, 1), (246, 1), (262, 2), (367, 1), (398, 1), (540, 1), (700, 1), (1100, 1), (1107, 1), (1188, 1), (1492, 2), (1903, 2), (1904, 1), (1905, 1), (1906, 1), (1907, 1), (1908, 1)], [(14, 1), (39, 1), (518, 1), (1909, 1)], [(6, 1), (12, 1), (14, 1), (49, 1), (60, 2), (105, 1), (466, 1), (789, 1), (1084, 1), (1910, 1), (1911, 1)], [(6, 1), (13, 1), (14, 1), (19, 1), (441, 1), (576, 1), (1912, 1)], [(14, 2), (39, 1), (61, 1), (469, 1), (1913, 1)], [(3, 1), (12, 2), (37, 1), (44, 1), (47, 1), (164, 1), (1914, 1), (1915, 1), (1916, 1), (1917, 1), (1918, 1)], [(12, 1), (14, 1), (39, 1), (47, 1), (1919, 1), (1920, 1), (1921, 1)], [(0, 1), (12, 1), (14, 1), (39, 1), (410, 1), (411, 1), (676, 1), (1922, 1), (1923, 1), (1924, 1)], [(3, 1), (31, 2), (32, 1), (83, 1), (536, 1), (635, 1), (725, 1)], [(3, 1), (32, 1), (161, 1), (496, 1), (588, 1), (590, 1)], [(0, 1), (12, 1), (14, 2), (39, 1), (61, 1), (141, 1), (290, 1), (1882, 1), (1925, 2), (1926, 1)], [(0, 1), (3, 1), (12, 1), (31, 1), (33, 1), (39, 1), (47, 1), (62, 1), (135, 1), (402, 1), (461, 1), (462, 1), (568, 1), (576, 1), (1843, 2), (1927, 1)], [(6, 1), (12, 2), (14, 1), (47, 1), (309, 1), (331, 1), (959, 1), (1928, 1)], [(12, 1), (25, 1), (32, 1), (47, 1), (112, 1), (161, 1), (201, 1), (221, 1), (228, 1), (1542, 1)], [(0, 1), (12, 1), (60, 2), (76, 1), (89, 1), (90, 1), (94, 1), (96, 1), (98, 1), (461, 1), (462, 1), (466, 1), (1332, 1), (1929, 1)], [(6, 1), (12, 2), (14, 1), (39, 1), (244, 1), (309, 1), (1930, 1), (1931, 1)], [(0, 1), (12, 1), (14, 1), (39, 1), (49, 1), (60, 1), (69, 1), (202, 1), (540, 1), (576, 1), (590, 1), (661, 1), (1932, 1)], [(3, 1), (12, 1), (32, 1), (44, 1), (96, 1), (161, 1), (760, 1), (1933, 1)], [(12, 1), (14, 1), (16, 1), (39, 1), (784, 1), (1183, 1), (1934, 1), (1935, 1)], [(3, 1), (14, 1), (25, 1), (39, 1), (60, 1), (1936, 1), (1937, 1)], [(3, 1), (12, 1), (32, 1), (60, 1), (1938, 1), (1939, 1), (1940, 1), (1941, 1)], [(3, 1), (13, 1), (16, 1), (24, 1), (227, 1), (1326, 1), (1715, 1), (1942, 1), (1943, 1), (1944, 1), (1945, 1), (1946, 1)], [(12, 4), (14, 1), (47, 1), (60, 1), (84, 1), (105, 1), (172, 1), (492, 1), (1088, 1), (1164, 1), (1947, 1), (1948, 1), (1949, 1), (1950, 1), (1951, 1), (1952, 1), (1953, 1), (1954, 1), (1955, 1)], [(0, 1), (12, 1), (14, 1), (25, 1), (47, 1), (61, 1), (84, 1), (281, 1), (282, 1), (283, 1), (1956, 2), (1957, 1)], [(3, 1), (39, 1), (1958, 1), (1959, 1)], [(14, 1), (16, 1), (60, 2), (61, 1), (69, 1), (277, 1), (818, 1), (1579, 1), (1873, 1), (1960, 1), (1961, 1), (1962, 1)], [(25, 1), (128, 1), (161, 1), (201, 1), (227, 1), (344, 1), (460, 1), (635, 1), (717, 1), (725, 1), (973, 1), (1440, 1)], [(3, 1), (4, 1), (30, 1), (32, 1), (161, 1), (394, 1), (1334, 1), (1854, 1)], [(0, 1), (6, 1), (12, 2), (14, 3), (19, 1), (27, 2), (39, 2), (49, 1), (60, 3), (61, 1), (84, 1), (148, 1), (161, 2), (201, 2), (202, 1), (621, 1), (650, 1), (675, 1), (717, 1), (802, 1), (877, 1), (973, 1), (1084, 1), (1388, 1), (1495, 2), (1684, 1), (1963, 1), (1964, 1), (1965, 1)], [(0, 1), (6, 1), (12, 1), (13, 1), (14, 2), (39, 1), (47, 1), (148, 2), (217, 1), (264, 1), (265, 1), (1966, 2), (1967, 1)], [(6, 1), (14, 1), (60, 1), (62, 1), (87, 1), (559, 1), (949, 1), (1968, 1), (1969, 1), (1970, 1)], [(12, 1), (49, 1), (60, 1), (202, 1), (340, 1), (571, 1), (1971, 1)], [(3, 1), (6, 1), (12, 1), (15, 1), (22, 1), (31, 1), (76, 1), (128, 1), (135, 1), (143, 1), (158, 1), (620, 1), (904, 1), (1110, 1), (1388, 1), (1972, 1), (1973, 1)], [(6, 1), (25, 1), (27, 1), (30, 1), (32, 1), (61, 1), (69, 1), (98, 1), (161, 1), (189, 1), (257, 2), (284, 1), (910, 1), (1565, 1), (1974, 1)], [(6, 1), (14, 1), (16, 1), (32, 1), (34, 1), (61, 1), (85, 1), (123, 1), (620, 1), (1053, 1), (1346, 1), (1590, 1), (1975, 1), (1976, 1)], [(6, 1), (12, 1), (14, 1), (33, 1), (49, 1), (105, 1), (500, 1), (648, 1)], [(6, 1), (12, 1), (49, 1), (105, 1), (227, 1), (648, 1), (997, 1), (1977, 1)], [(3, 1), (7, 1), (13, 1), (27, 1), (170, 1), (225, 1), (1326, 1), (1441, 1), (1978, 1)], [(12, 1), (14, 1), (39, 1), (49, 1), (60, 1), (140, 1), (1979, 1), (1980, 1)], [(3, 1), (7, 1), (13, 1), (34, 1), (626, 1), (1981, 1), (1982, 1)], [(3, 1), (32, 1), (60, 1), (83, 1), (148, 1), (161, 1), (224, 1), (662, 1), (1734, 1), (1983, 1), (1984, 1), (1985, 1), (1986, 1)], [(0, 1), (6, 1), (12, 1), (14, 1), (39, 1), (190, 1), (410, 1), (411, 1), (1987, 1), (1988, 1)], [(14, 1), (31, 1), (39, 1), (1389, 1), (1700, 1)], [(0, 1), (14, 2), (18, 2), (24, 2), (60, 3), (84, 2), (161, 2), (263, 2), (418, 2), (535, 1), (688, 2), (814, 2), (1467, 2), (1692, 1)], [(6, 2), (12, 2), (14, 1), (32, 1), (34, 1), (141, 1), (150, 1), (152, 1), (1719, 1), (1989, 1), (1990, 1), (1991, 1)], [(0, 1), (12, 2), (14, 1), (27, 1), (29, 1), (33, 1), (39, 1), (47, 1), (86, 1), (98, 1), (100, 1), (172, 1), (402, 1), (461, 1), (462, 1), (1271, 1), (1272, 1), (1342, 1), (1674, 1)], [(13, 1), (14, 1), (16, 1), (84, 1), (105, 1), (813, 1), (1755, 1), (1992, 1), (1993, 1), (1994, 1), (1995, 1)], [(60, 1), (201, 1), (937, 1), (1498, 1), (1872, 1), (1996, 1), (1997, 1)], [(14, 1), (17, 1), (32, 1), (60, 1), (117, 1), (143, 1), (697, 1)], [(3, 1), (12, 1), (14, 1), (39, 2), (83, 1), (161, 2), (164, 1), (184, 1), (227, 1), (403, 1), (576, 1), (1212, 1), (1347, 1), (1998, 1)], [(14, 2), (61, 1), (141, 1), (154, 1), (202, 1), (825, 1), (1999, 1)], [(6, 2), (14, 1), (19, 1), (44, 1), (60, 1), (61, 1), (69, 1), (96, 1), (148, 1), (501, 1), (981, 1), (2000, 1), (2001, 1), (2002, 1), (2003, 1)], [(0, 1), (6, 1), (12, 1), (14, 1), (39, 1), (410, 1), (411, 1), (590, 1), (2004, 1), (2005, 1), (2006, 1), (2007, 2)], [(25, 1), (27, 1), (161, 1), (201, 1), (386, 1), (1592, 1), (2008, 1)], [(0, 1), (13, 1), (14, 1), (20, 1), (2009, 1), (2010, 1), (2011, 1), (2012, 1)], [(12, 1), (14, 1), (44, 1), (49, 1), (60, 2), (105, 1), (151, 1), (202, 1), (934, 1), (1224, 1), (1801, 1), (2013, 1), (2014, 1), (2015, 1)], [(3, 1), (29, 1), (32, 1), (373, 1), (374, 1), (649, 1), (1232, 1)], [(14, 1), (16, 1), (17, 1), (87, 1), (540, 1), (590, 1), (2016, 1)], [(25, 1), (32, 1), (161, 1), (539, 1), (540, 1), (2017, 1)], [(0, 1), (3, 2), (12, 2), (32, 1), (44, 2), (60, 1), (164, 1), (343, 1), (443, 1), (452, 1), (919, 1), (1985, 1), (2018, 1), (2019, 3), (2020, 1)], [(0, 1), (6, 1), (17, 1), (44, 1), (446, 1), (1126, 1), (1933, 1), (1994, 1), (2021, 1), (2022, 1), (2023, 1), (2024, 1), (2025, 1), (2026, 1)], [(3, 1), (31, 1), (32, 1), (61, 1), (149, 1), (794, 1), (1836, 1), (2027, 1)], [(3, 1), (14, 1), (32, 1), (60, 1), (69, 2), (117, 1), (148, 1), (161, 2), (576, 1), (1492, 1), (1495, 1), (2028, 1), (2029, 1)], [(6, 1), (14, 1), (32, 1), (45, 1), (314, 1), (1095, 1)], [(33, 1), (37, 1), (39, 1), (60, 1), (112, 1), (139, 1), (762, 1), (1072, 1), (1341, 1), (1595, 1), (2030, 1), (2031, 1)], [(0, 1), (14, 1), (39, 1), (2032, 1), (2033, 1)], [(10, 1), (12, 1), (14, 1), (39, 1), (47, 1), (148, 1), (476, 1), (564, 1), (1629, 1), (2034, 1)], [(12, 2), (13, 1), (14, 1), (47, 2), (61, 4), (650, 1), (762, 1), (2035, 1), (2036, 2), (2037, 1), (2038, 2), (2039, 1)], [(25, 1), (60, 1), (61, 1), (94, 1), (128, 1), (259, 1), (263, 1), (1178, 1), (1264, 1)], [(3, 1), (32, 1), (37, 1), (60, 1), (61, 1), (161, 1), (363, 1), (676, 1), (678, 1), (1027, 1)], [(14, 1), (39, 1), (45, 1), (47, 1), (1186, 1)], [(12, 3), (14, 1), (27, 1), (47, 1), (910, 1), (1095, 1), (2040, 1), (2041, 1)], [(0, 1), (12, 1), (24, 1), (61, 1), (269, 1), (340, 1), (410, 1), (411, 1), (696, 2), (2042, 1)], [(0, 1), (3, 1), (12, 4), (14, 1), (25, 1), (27, 2), (31, 2), (44, 1), (47, 1), (56, 1), (60, 1), (69, 1), (84, 1), (184, 1), (234, 2), (258, 1), (361, 1), (376, 1), (403, 1), (448, 2), (449, 1), (676, 1), (726, 1), (773, 1), (844, 1), (901, 1), (932, 1), (937, 1), (1298, 1), (1388, 1), (1492, 1), (1695, 1), (2043, 1), (2044, 1), (2045, 1), (2046, 1), (2047, 1), (2048, 3), (2049, 2), (2050, 1), (2051, 1), (2052, 1)], [(14, 1), (23, 1), (39, 1), (69, 1), (76, 2), (79, 1), (122, 1), (161, 2), (184, 1), (201, 2), (346, 1), (347, 1), (460, 1), (661, 1), (1636, 1), (2053, 1), (2054, 1)], [(3, 1), (32, 1), (301, 1), (2055, 1)], [(13, 1), (884, 1), (2056, 1), (2057, 1), (2058, 1)], [(0, 1), (6, 1), (12, 1), (19, 1), (25, 1), (32, 1), (82, 1), (89, 1), (96, 1), (98, 1), (331, 1), (461, 1), (462, 1), (466, 1)], [(12, 1), (14, 1), (49, 1), (56, 1), (58, 1), (60, 1), (105, 1), (503, 1), (1281, 1), (2059, 1)], [(12, 1), (39, 1), (44, 1), (47, 1), (60, 1), (61, 1), (143, 1), (154, 1), (653, 1), (750, 1), (1421, 1), (2060, 1), (2061, 1), (2062, 1)], [(3, 1), (31, 1), (39, 1), (62, 1), (135, 1), (189, 1), (1388, 1)], [(14, 1), (25, 1), (27, 1), (31, 2), (32, 1), (47, 1), (60, 1), (303, 1), (461, 1), (985, 1), (2063, 1), (2064, 1), (2065, 1)], [(6, 1), (12, 1), (14, 1), (32, 1), (45, 1), (47, 1), (270, 1), (1111, 1), (1477, 1)], [(12, 1), (14, 1), (39, 1), (47, 1), (92, 1), (830, 1), (2066, 1), (2067, 1)], [(12, 1), (14, 1), (39, 1), (49, 1), (60, 1), (151, 1), (202, 1), (537, 1), (2068, 1)], [(14, 1), (39, 1), (83, 1), (906, 1), (907, 1), (1100, 1)], [(6, 1), (14, 1), (19, 1), (39, 1), (79, 1), (85, 1), (184, 1), (2069, 1), (2070, 1)], [(3, 1), (32, 1), (79, 1), (2071, 1), (2072, 1)], [(10, 1), (14, 1), (39, 1), (47, 1), (310, 1), (498, 1), (564, 1), (778, 1)], [(6, 1), (12, 1), (39, 1), (341, 1), (1811, 1), (2073, 1)], [(3, 1), (32, 1), (149, 1), (2074, 2), (2075, 2)], [(12, 1), (25, 1), (161, 2), (184, 1), (201, 1), (259, 1), (661, 1), (744, 1), (2076, 1), (2077, 1), (2078, 1)], [(3, 1), (13, 1), (44, 1), (60, 2), (82, 1), (201, 1), (623, 1), (1811, 1), (2079, 1), (2080, 1)], [(3, 1), (6, 1), (16, 1), (32, 1), (60, 1), (161, 1), (2029, 1), (2081, 1), (2082, 1), (2083, 1), (2084, 1), (2085, 1)], [(12, 1), (14, 1), (39, 1), (44, 1), (827, 1), (828, 1), (1072, 1), (1592, 1)], [(12, 1), (47, 1), (60, 1), (123, 2), (128, 1), (410, 1), (632, 1), (862, 1), (1592, 1), (2086, 1), (2087, 1), (2088, 1)], [(13, 1), (19, 1), (60, 1), (300, 1), (887, 1), (2089, 1), (2090, 1)], [(0, 1), (25, 1), (32, 1), (96, 1), (161, 1), (162, 1), (172, 1), (760, 1), (2091, 1)], [(6, 1), (13, 1), (14, 1), (60, 1), (150, 1), (228, 1), (482, 1), (576, 1), (1505, 1), (2092, 1), (2093, 1)], [(0, 1), (10, 1), (14, 1), (25, 1), (61, 2), (123, 1), (128, 1), (149, 1), (152, 1), (153, 1), (167, 1), (168, 1), (270, 1), (661, 1), (676, 1), (1179, 1), (2094, 1), (2095, 1)], [(3, 1), (12, 1), (13, 1), (61, 1), (2096, 1), (2097, 1), (2098, 1), (2099, 1), (2100, 1), (2101, 1)], [(6, 1), (12, 1), (14, 1), (39, 1), (61, 1), (152, 1), (998, 1), (1448, 1), (2102, 1)], [(14, 1), (27, 1), (39, 1), (60, 1), (1293, 1), (2103, 1), (2104, 1), (2105, 1), (2106, 1)], [(3, 1), (6, 3), (14, 1), (24, 2), (32, 1), (60, 1), (61, 5), (69, 1), (77, 1), (84, 1), (184, 2), (227, 1), (301, 1), (361, 1), (949, 1), (1435, 1), (2107, 2), (2108, 3), (2109, 2), (2110, 1), (2111, 1), (2112, 2), (2113, 1), (2114, 1), (2115, 1)], [(25, 1), (61, 2), (382, 1), (2116, 1), (2117, 1)], [(14, 1), (16, 1), (57, 1), (60, 1), (541, 1), (668, 1), (1349, 1), (2118, 1), (2119, 1)], [(12, 1), (25, 1), (27, 1), (32, 1), (161, 1), (201, 1), (416, 1), (417, 1), (1263, 1), (2120, 1)], [(3, 1), (13, 1), (14, 1), (16, 1), (33, 2), (47, 1), (80, 1), (355, 1), (512, 1), (1907, 1), (2121, 1), (2122, 1), (2123, 1)], [(14, 1), (47, 1), (61, 1), (289, 1), (1110, 1), (2124, 1), (2125, 1), (2126, 1)], [(14, 1), (27, 1), (39, 1), (60, 1), (61, 2), (86, 1), (141, 1), (143, 1), (158, 1), (202, 1), (469, 1), (509, 1), (817, 1), (819, 1), (2082, 1), (2127, 1), (2128, 1), (2129, 1)], [(26, 1), (29, 1), (128, 1), (201, 1), (227, 1)], [(0, 1), (12, 1), (14, 1), (39, 1), (410, 1), (411, 1), (2130, 1), (2131, 1)], [(25, 1), (27, 1), (31, 1), (86, 1), (112, 1), (937, 1), (2132, 1), (2133, 1), (2134, 1)], [(6, 1), (12, 1), (14, 1), (76, 1), (460, 1), (669, 1), (1336, 1), (1684, 1), (2135, 1)], [(12, 1), (14, 1), (19, 1), (32, 1), (47, 1), (373, 1), (2136, 1), (2137, 1), (2138, 1), (2139, 1), (2140, 1), (2141, 1), (2142, 1), (2143, 1)], [(10, 1), (12, 1), (14, 1), (39, 1), (47, 1), (49, 1), (481, 1), (536, 1), (2144, 1)], [(3, 1), (6, 1), (7, 1), (32, 1), (161, 1), (344, 1), (2145, 1)], [(39, 1), (56, 1), (60, 1), (2146, 1), (2147, 1)], [(12, 1), (14, 1), (17, 1), (105, 1), (794, 1), (1621, 1), (1762, 1), (2148, 1), (2149, 1)], [(6, 1), (31, 1), (39, 1), (227, 1), (2150, 1), (2151, 1)], [(25, 1), (61, 1), (174, 1), (341, 1), (684, 1), (2152, 1), (2153, 1)], [(3, 1), (12, 1), (32, 1), (44, 1), (161, 1), (201, 1), (285, 1), (352, 1), (905, 1), (2154, 1), (2155, 1), (2156, 1)], [(10, 1), (12, 1), (14, 1), (39, 1), (47, 2), (228, 1), (607, 1), (2157, 1), (2158, 1)], [(14, 1), (60, 1), (69, 1), (1592, 1), (2008, 1), (2159, 1), (2160, 1), (2161, 1)], [(12, 1), (14, 1), (16, 1), (49, 1), (105, 1), (674, 1), (1984, 1)], [(14, 1), (45, 2), (85, 1), (128, 2), (227, 2), (329, 1), (604, 1), (650, 1), (725, 2), (726, 2), (1110, 1), (2162, 1), (2163, 1), (2164, 1), (2165, 1), (2166, 1)], [(25, 1), (49, 1), (143, 1), (161, 1), (164, 1), (247, 1), (702, 1), (2167, 1)], [(12, 1), (14, 1), (39, 1), (81, 1), (151, 1), (154, 1), (161, 2), (482, 1), (634, 1), (747, 1), (949, 1)], [(12, 1), (14, 1), (39, 1), (47, 1), (435, 1), (904, 1), (1277, 1)], [(0, 2), (3, 1), (12, 3), (14, 1), (32, 1), (39, 1), (47, 3), (60, 1), (443, 1), (663, 1), (1388, 1), (1663, 1), (1884, 3), (1886, 1), (1887, 1), (2168, 1)], [(12, 1), (39, 1), (60, 1), (61, 1), (82, 1), (85, 1), (224, 1), (277, 1), (321, 1), (364, 1), (1140, 1), (1332, 1), (1482, 1), (1495, 1), (2169, 1), (2170, 1)], [(3, 1), (13, 1), (14, 1), (29, 1), (60, 1), (61, 2), (89, 1), (172, 1), (175, 1), (1007, 1), (1264, 1), (2171, 1), (2172, 1)], [(12, 1), (14, 1), (19, 1), (47, 1), (128, 1), (940, 1), (2090, 1), (2173, 1)], [(0, 5), (12, 1), (20, 1), (27, 1), (268, 1), (340, 1), (410, 1), (411, 1), (980, 1), (1344, 1), (1346, 2), (2095, 1)], [(14, 2), (17, 1), (32, 1), (44, 1), (45, 1), (61, 1), (84, 1), (196, 1), (257, 1), (270, 1), (676, 1), (1448, 1), (1607, 1)], [(6, 1), (14, 1), (53, 1), (60, 1), (61, 1), (69, 1), (77, 1), (259, 1), (345, 1), (981, 1), (1025, 1), (1244, 1), (2174, 1)], [(3, 1), (61, 1), (227, 1), (2175, 1), (2176, 1), (2177, 1), (2178, 1)], [(13, 1), (26, 1), (93, 1), (161, 1), (196, 1), (201, 1), (250, 1), (345, 1), (346, 1), (350, 1), (574, 1), (633, 1), (635, 1), (909, 1)], [(12, 1), (37, 1), (60, 1), (61, 2), (157, 1), (225, 1), (226, 1), (285, 1), (374, 1), (575, 1), (1546, 1), (2179, 1)], [(12, 1), (14, 1), (39, 1), (47, 1), (154, 1), (819, 1), (2180, 1), (2181, 1)], [(6, 1), (13, 1), (14, 1), (148, 1), (2182, 1), (2183, 1)], [(23, 1), (25, 1), (60, 1), (161, 1), (201, 1), (1636, 1), (2184, 1)], [(3, 1), (7, 1), (12, 1), (13, 1), (14, 2), (21, 1), (47, 1), (60, 1), (535, 1), (1287, 1), (1690, 1), (2185, 1)], [(0, 1), (3, 1), (31, 1), (61, 1), (82, 1), (86, 1), (149, 1), (815, 1), (847, 1), (1807, 1), (2186, 1)], [(10, 1), (14, 1), (39, 1), (62, 1), (317, 1), (2187, 1), (2188, 1)], [(3, 4), (16, 1), (39, 1), (61, 1), (84, 1), (92, 1), (93, 1), (119, 1), (161, 2), (165, 1), (272, 1), (300, 1), (1111, 1), (1903, 1), (2189, 1), (2190, 1), (2191, 1), (2192, 1), (2193, 1), (2194, 1), (2195, 1), (2196, 2)], [(3, 1), (31, 1), (32, 1), (60, 1), (792, 1), (2197, 1), (2198, 1), (2199, 1), (2200, 1)], [(9, 1), (12, 3), (14, 1), (27, 1), (47, 1), (2201, 1), (2202, 1), (2203, 1), (2204, 1)], [(12, 1), (76, 1), (331, 1), (481, 1), (2205, 1), (2206, 1), (2207, 1)], [(3, 1), (7, 1), (13, 1), (14, 1), (27, 1), (60, 1), (61, 2), (77, 1), (80, 1), (170, 1), (176, 1), (184, 1), (225, 1), (279, 1), (361, 1), (576, 1), (633, 1), (650, 1), (762, 1), (1441, 1), (2208, 1), (2209, 1)], [(3, 1), (31, 1), (39, 1), (135, 1), (154, 1), (227, 1), (517, 1), (794, 1), (1666, 1), (1697, 2), (2210, 1)], [(3, 1), (32, 1), (77, 1), (161, 1), (201, 1), (625, 1), (2211, 1), (2212, 1)], [(10, 1), (25, 1), (60, 1), (161, 1), (201, 1), (262, 1), (263, 1), (287, 1), (725, 1), (1102, 1), (1495, 1), (1498, 1), (1499, 1), (2213, 1)], [(0, 1), (6, 2), (12, 2), (14, 2), (32, 1), (60, 1), (105, 1), (443, 1), (448, 1), (1009, 1), (1123, 1), (1346, 2), (2214, 2)], [(3, 1), (6, 1), (32, 1), (161, 1), (201, 1), (437, 1), (775, 1), (2215, 1)], [(10, 1), (12, 1), (14, 1), (39, 1), (47, 1), (61, 1), (80, 1), (269, 1), (949, 1), (1072, 1), (1111, 1), (2094, 1), (2216, 1)], [(14, 1), (25, 1), (32, 1), (61, 1), (161, 1), (184, 1), (201, 1), (430, 1), (949, 1), (2217, 1)], [(3, 1), (84, 1), (282, 2), (301, 1), (621, 1), (2218, 2)], [(14, 2), (24, 1), (39, 1), (60, 1), (69, 1), (83, 1), (2219, 1), (2220, 1)], [(6, 1), (12, 1), (14, 1), (49, 1), (60, 1), (100, 1), (105, 1), (259, 1), (390, 1), (1145, 1), (1628, 1), (1841, 1), (2221, 1), (2222, 1)], [(12, 1), (16, 1), (39, 1), (69, 1), (79, 1), (85, 1), (184, 1), (517, 1), (540, 1), (750, 1), (1882, 1), (2223, 1)], [(3, 1), (6, 1), (12, 2), (14, 1), (33, 2), (49, 1), (84, 1), (135, 1), (164, 1), (1359, 1), (1364, 2), (1447, 1), (1671, 1), (2224, 1), (2225, 1), (2226, 1), (2227, 1)], [(6, 1), (14, 1), (39, 1), (352, 1), (674, 1), (2155, 1)], [(3, 1), (6, 1), (13, 1), (30, 1), (61, 1), (277, 1), (1259, 1), (2228, 1), (2229, 1)], [(3, 1), (6, 1), (7, 1), (10, 1), (12, 3), (16, 1), (24, 1), (27, 1), (47, 1), (61, 1), (76, 1), (117, 1), (161, 2), (184, 1), (257, 1), (568, 1), (651, 2), (1111, 1), (1397, 1), (1484, 1), (1690, 1), (1933, 1), (2230, 1), (2231, 1), (2232, 1), (2233, 1), (2234, 1), (2235, 1)], [(3, 1), (25, 1), (31, 1), (32, 2), (44, 1), (60, 1), (132, 1), (161, 1), (217, 1), (279, 1), (1388, 1), (1531, 1), (2236, 1), (2237, 1), (2238, 1)], [(12, 1), (14, 1), (39, 1), (49, 1), (60, 1), (2239, 1), (2240, 1), (2241, 1), (2242, 1)], [(3, 1), (4, 1), (13, 1), (16, 1), (20, 1), (61, 1), (161, 1), (360, 1), (373, 1), (2243, 1), (2244, 1)], [(3, 1), (12, 1), (14, 1), (30, 1), (32, 1), (61, 1), (84, 1), (161, 1), (198, 1), (200, 1), (216, 1), (621, 2), (757, 1), (1331, 1)], [(31, 1), (61, 1), (77, 1), (85, 1), (157, 1), (481, 1), (2245, 1), (2246, 1), (2247, 1)], [(3, 1), (6, 1), (14, 1), (16, 1), (19, 1), (32, 1), (60, 1), (61, 2), (69, 2), (82, 1), (114, 2), (117, 1), (196, 1), (200, 1), (227, 1), (257, 1), (324, 1), (568, 1), (726, 1), (1548, 1), (2248, 1), (2249, 1), (2250, 1), (2251, 1)], [(12, 1), (14, 1), (47, 1), (60, 1), (69, 1), (1561, 1), (1641, 1), (1854, 1), (2252, 1)], [(7, 1), (12, 1), (14, 1), (39, 1), (49, 1), (62, 1), (80, 1), (97, 1), (228, 1), (258, 1), (442, 1), (949, 1), (2253, 1)], [(14, 1), (23, 1), (25, 1), (27, 1), (32, 1), (69, 1), (161, 1), (196, 1), (201, 1), (225, 1), (227, 1), (346, 1), (2254, 1)], [(3, 1), (4, 1), (6, 1), (12, 1), (14, 1), (32, 1), (47, 1), (60, 1), (69, 1), (217, 1), (572, 1), (636, 1), (1426, 1), (2255, 1), (2256, 1), (2257, 1)], [(12, 1), (14, 1), (39, 1), (47, 1), (150, 1), (482, 1), (564, 1), (2258, 1)], [(12, 2), (14, 1), (39, 1), (47, 1), (61, 1), (154, 1), (184, 1), (289, 1), (786, 1), (802, 1), (856, 1), (896, 1), (916, 1), (1342, 1), (2259, 1), (2260, 1), (2261, 1), (2262, 1), (2263, 1), (2264, 1), (2265, 1), (2266, 1)], [(3, 2), (6, 1), (16, 1), (31, 1), (32, 1), (39, 1), (69, 1), (117, 1), (279, 1), (300, 1), (581, 1), (2267, 1), (2268, 1)], [(0, 2), (12, 1), (14, 2), (18, 1), (39, 1), (60, 1), (80, 1), (201, 1), (246, 1), (279, 1), (367, 1), (460, 1), (635, 1), (742, 1), (862, 1), (930, 1), (1314, 1), (1431, 1), (1446, 1), (1524, 1), (1541, 1), (1811, 1), (2269, 1), (2270, 1)], [(14, 1), (39, 1), (47, 1), (61, 1), (75, 1), (139, 1), (1549, 1), (2271, 1)], [(14, 1), (39, 1), (86, 1), (290, 1), (1084, 1), (2272, 1)], [(14, 1), (69, 1), (84, 1), (105, 1), (775, 1), (2273, 1), (2274, 1), (2275, 2), (2276, 1), (2277, 2)], [(14, 1), (39, 1), (742, 1), (2278, 1), (2279, 1)], [(12, 1), (14, 1), (16, 1), (25, 1), (49, 1), (57, 1), (77, 1), (105, 2), (161, 1), (287, 1), (1351, 1), (2280, 1)], [(0, 1), (12, 3), (14, 1), (23, 2), (39, 1), (365, 1), (410, 1), (940, 1), (2281, 1), (2282, 1)], [(10, 1), (14, 1), (17, 1), (39, 1), (60, 1), (61, 1), (112, 1), (189, 1), (2283, 1), (2284, 1), (2285, 1)], [(6, 1), (14, 1), (19, 1), (29, 1), (39, 1), (62, 1), (86, 1), (2286, 1)], [(3, 1), (6, 1), (7, 1), (14, 1), (25, 1), (39, 1), (47, 1), (105, 1), (135, 1), (247, 1), (500, 1), (582, 1), (635, 1), (1033, 1), (2287, 1), (2288, 1), (2289, 1)], [(3, 1), (27, 1), (32, 1), (161, 1), (762, 1), (839, 1), (2290, 1)], [(3, 1), (31, 1), (32, 1), (86, 1), (1639, 1), (2291, 1), (2292, 1)], [(14, 1), (39, 1), (172, 1), (1693, 2), (2137, 1)], [(14, 1), (16, 1), (32, 1), (143, 1), (775, 1), (1123, 1), (1164, 1), (1484, 1), (2293, 1), (2294, 1)], [(14, 1), (39, 1), (61, 1), (2295, 1), (2296, 1)], [(60, 1), (161, 1), (201, 1), (262, 1), (1102, 1), (1495, 1)], [(10, 1), (12, 1), (14, 1), (39, 1), (47, 1), (228, 1), (2157, 1), (2297, 1), (2298, 1)], [(7, 1), (105, 1), (128, 1), (313, 1), (839, 1), (1901, 1), (2299, 1), (2300, 1)], [(31, 1), (61, 1), (227, 1), (481, 1), (2301, 1), (2302, 1), (2303, 1)], [(0, 1), (16, 1), (20, 1), (24, 2), (60, 1), (61, 2), (161, 2), (227, 1), (257, 1), (271, 1), (300, 1), (318, 1), (858, 1), (2304, 1), (2305, 1), (2306, 1), (2307, 1), (2308, 1), (2309, 1)], [(10, 1), (14, 1), (17, 1), (25, 1), (61, 1), (112, 1), (161, 2), (250, 1), (259, 1), (901, 1), (945, 1), (1739, 1), (2310, 1)], [(3, 1), (12, 2), (13, 1), (27, 1), (47, 1), (61, 1), (69, 1), (77, 1), (148, 1), (359, 1), (361, 1), (650, 1), (1676, 1), (1964, 1), (2311, 1), (2312, 2), (2313, 1), (2314, 1)], [(44, 1), (76, 1), (161, 1), (200, 1), (201, 1), (259, 1), (460, 1), (1515, 1), (2315, 1)], [(0, 1), (6, 1), (13, 1), (14, 2), (105, 1), (141, 1), (150, 1), (257, 1), (576, 1), (756, 1), (2142, 1), (2316, 1), (2317, 1)], [(6, 2), (14, 1), (60, 1), (69, 1), (112, 1), (123, 1), (290, 1), (499, 1), (815, 1), (1542, 1), (2159, 1)], [(39, 1), (150, 1), (151, 1), (152, 1), (154, 1), (161, 1), (1431, 1)], [(6, 1), (12, 1), (14, 1), (19, 1), (49, 1), (128, 1), (2090, 1), (2318, 1)], [(3, 1), (32, 1), (862, 1), (2319, 1), (2320, 1)], [(0, 1), (6, 1), (13, 1), (14, 3), (19, 1), (61, 2), (69, 1), (80, 1), (325, 2), (1426, 1), (1658, 1), (2321, 1), (2322, 1)], [(3, 1), (6, 1), (61, 1), (336, 1), (1467, 1), (1738, 1), (2323, 1)], [(16, 1), (32, 1), (57, 1), (154, 1), (224, 1), (842, 1), (2324, 1), (2325, 1)], [(12, 1), (14, 1), (39, 1), (47, 1), (162, 1), (676, 2), (985, 1), (2326, 1), (2327, 1)], [(6, 1), (12, 1), (14, 1), (16, 1), (24, 1), (39, 1), (49, 1), (60, 1), (69, 1), (193, 1), (259, 1), (271, 1), (1841, 1), (2328, 1)], [(12, 1), (14, 1), (16, 1), (17, 1), (39, 1), (1579, 1), (2329, 1), (2330, 1)], [(12, 2), (20, 1), (39, 1), (47, 2), (62, 1), (69, 1), (112, 1), (158, 1), (224, 1), (340, 1), (343, 2), (828, 1), (1110, 1), (2331, 1)], [(3, 1), (12, 2), (14, 1), (16, 1), (23, 1), (32, 1), (47, 2), (61, 4), (125, 1), (128, 1), (1025, 1), (1092, 1), (2218, 1), (2332, 1), (2333, 1), (2334, 2), (2335, 1)], [(12, 1), (19, 1), (60, 1), (79, 1), (81, 1), (228, 1), (340, 1), (2336, 1)], [(6, 1), (12, 1), (14, 1), (39, 1), (49, 1), (116, 1), (203, 1), (205, 1), (1690, 1)], [(14, 1), (61, 1), (691, 1), (1867, 1), (2337, 1), (2338, 1), (2339, 1)], [(10, 1), (14, 1), (16, 1), (24, 1), (39, 1), (1111, 1), (1113, 1), (1542, 1), (1977, 1), (1988, 1), (2340, 1)], [(3, 1), (13, 1), (60, 1), (1333, 1), (1334, 1), (1335, 1), (1495, 1), (1622, 1)], [(6, 1), (12, 1), (14, 1), (39, 1), (171, 1), (945, 1), (1542, 1), (2341, 1), (2342, 1)], [(12, 1), (14, 1), (49, 1), (60, 1), (105, 1), (151, 1), (776, 1), (937, 1)], [(3, 1), (16, 1), (39, 1), (61, 1), (442, 1), (697, 1), (1605, 1), (2062, 1), (2343, 1)], [(0, 2), (6, 1), (12, 1), (14, 1), (39, 1), (47, 2), (60, 1), (264, 1), (265, 1), (403, 1), (443, 1), (446, 1), (1901, 1), (2344, 1), (2345, 1), (2346, 1), (2347, 1), (2348, 1), (2349, 1)], [(6, 1), (14, 1), (17, 1), (61, 1), (356, 1), (2280, 1), (2350, 1)], [(6, 1), (14, 3), (39, 1), (47, 2), (60, 1), (61, 1), (83, 1), (105, 1), (141, 1), (288, 1), (711, 1), (984, 1), (1111, 2), (1994, 1), (2142, 1), (2305, 1), (2351, 1)], [(13, 1), (98, 1), (100, 1), (461, 1), (462, 1), (1342, 1), (1674, 1), (2352, 1)], [(0, 1), (6, 2), (13, 1), (14, 1), (20, 1), (34, 1), (141, 1), (1182, 1), (1379, 1), (1876, 1), (2353, 1), (2354, 1)], [(3, 1), (12, 1), (32, 1), (44, 1), (60, 1), (112, 1), (224, 1), (775, 1), (776, 1), (2355, 1)], [(14, 1), (84, 1), (105, 1), (142, 1), (329, 1), (813, 1), (814, 1), (2128, 1), (2356, 1), (2357, 1)], [(10, 1), (12, 1), (14, 1), (39, 1), (47, 1), (49, 1), (489, 1), (1947, 1)], [(12, 1), (13, 1), (14, 1), (654, 1), (973, 1), (2358, 1), (2359, 1)], [(14, 1), (39, 1), (47, 1), (86, 1), (601, 1), (1254, 1), (2360, 1)], [(12, 1), (14, 1), (39, 1), (80, 1), (353, 1), (1277, 1), (1323, 1), (2361, 1), (2362, 1)], [(3, 1), (32, 1), (61, 1), (83, 1), (112, 1), (161, 1), (937, 1), (2363, 1)], [(14, 1), (16, 1), (39, 1), (154, 1), (201, 1), (959, 1), (960, 1)], [(14, 2), (16, 3), (69, 1), (123, 1), (374, 1), (517, 1), (695, 1), (708, 1), (945, 1), (1025, 1), (1417, 1), (1441, 1), (1542, 1), (2364, 1), (2365, 1), (2366, 1)], [(13, 1), (23, 1), (26, 2), (161, 1), (168, 1), (201, 1), (289, 1), (643, 1), (2367, 1)], [(3, 1), (12, 1), (45, 2), (47, 1), (60, 1), (77, 1), (86, 2), (105, 1), (184, 1), (227, 1), (257, 1), (650, 1), (762, 1), (1417, 1), (2368, 1), (2369, 1)], [(12, 2), (13, 1), (14, 1), (27, 1), (39, 1), (60, 1), (165, 1), (170, 1), (1459, 1), (2370, 1), (2371, 1)], [(0, 1), (3, 1), (6, 2), (12, 1), (25, 1), (61, 2), (117, 1), (172, 2), (301, 1), (362, 2), (866, 1), (919, 1), (1131, 1), (1549, 1), (1932, 1), (2372, 1), (2373, 2), (2374, 1), (2375, 1)], [(12, 1), (14, 1), (39, 1), (47, 1), (454, 1), (482, 1), (2376, 1), (2377, 1)], [(24, 1), (25, 1), (161, 1), (164, 1), (259, 1), (847, 1), (853, 1), (1731, 1), (2378, 1)], [(154, 1), (161, 1), (571, 1), (2379, 1)], [(6, 1), (13, 1), (14, 1), (1336, 1), (2380, 1), (2381, 1), (2382, 1), (2383, 1)], [(12, 1), (13, 1), (14, 1), (343, 1), (2384, 1), (2385, 1)], [(12, 1), (14, 1), (16, 1), (24, 1), (60, 1), (61, 2), (69, 1), (141, 1), (149, 1), (164, 1), (196, 1), (227, 1), (331, 1), (481, 1), (589, 1), (1432, 1), (2245, 1), (2356, 1), (2386, 1), (2387, 1), (2388, 1), (2389, 1)], [(0, 1), (3, 1), (6, 1), (12, 4), (14, 1), (32, 1), (39, 1), (60, 1), (119, 1), (141, 1), (224, 1), (443, 1), (2390, 1), (2391, 1), (2392, 1), (2393, 1)], [(14, 2), (16, 1), (39, 1), (60, 1), (61, 1), (69, 1), (83, 1), (143, 1), (711, 1), (1677, 1), (2338, 1), (2394, 1), (2395, 1)], [(3, 1), (32, 1), (37, 1), (61, 1), (161, 1), (1332, 1), (1692, 1)], [(6, 1), (12, 2), (14, 1), (19, 1), (25, 1), (37, 1), (39, 1), (60, 1), (172, 1), (402, 1), (481, 1), (1057, 1), (1356, 1), (1595, 1), (2396, 1), (2397, 1)], [(12, 1), (14, 1), (37, 1), (39, 1), (60, 1), (61, 1), (290, 1), (599, 1), (1038, 1), (2398, 1), (2399, 1)], [(6, 1), (25, 1), (61, 1), (148, 1), (161, 1), (518, 1), (519, 1), (610, 1), (1084, 1), (2400, 1)], [(0, 1), (13, 1), (14, 1), (17, 1), (24, 1), (61, 1), (2401, 1), (2402, 1), (2403, 1), (2404, 1), (2405, 1), (2406, 1)], [(0, 1), (12, 1), (14, 1), (24, 1), (30, 1), (45, 1), (47, 1), (60, 1), (117, 1), (161, 1), (201, 1), (329, 1), (1347, 1), (1495, 1), (1975, 1), (2407, 1), (2408, 1), (2409, 1)], [(3, 1), (6, 1), (16, 1), (24, 1), (31, 1), (32, 1), (34, 1), (76, 1), (259, 1), (541, 1), (819, 1), (955, 1), (1711, 1), (2410, 1), (2411, 1)], [(3, 1), (6, 2), (32, 1), (60, 1), (61, 2), (69, 1), (373, 1), (678, 1), (1393, 1), (1446, 1), (1757, 1), (2412, 1), (2413, 1), (2414, 1)], [(3, 1), (27, 2), (29, 1), (32, 1), (34, 1), (161, 1), (165, 1), (225, 1), (259, 1)], [(13, 1), (14, 1), (16, 1), (148, 1), (2415, 1), (2416, 1), (2417, 1), (2418, 1), (2419, 1)], [(0, 1), (6, 1), (12, 2), (14, 1), (128, 1), (397, 2), (2420, 2), (2421, 1), (2422, 1), (2423, 1)], [(14, 1), (39, 1), (158, 1), (304, 1), (2424, 1)], [(0, 1), (3, 1), (32, 1), (62, 1), (148, 1), (247, 1), (363, 1), (508, 1), (726, 1), (2425, 1), (2426, 1)], [(0, 1), (12, 2), (25, 1), (27, 1), (32, 1), (37, 1), (60, 1), (61, 1), (76, 1), (80, 1), (117, 1), (161, 1), (234, 1), (534, 1), (861, 1), (934, 1), (1431, 1), (2427, 1), (2428, 1), (2429, 1), (2430, 1)], [(0, 1), (3, 1), (6, 1), (32, 1), (161, 1), (668, 1), (669, 1), (1129, 2), (2431, 2), (2432, 1)], [(12, 1), (14, 1), (16, 1), (39, 1), (49, 1), (60, 1), (62, 1), (128, 1), (151, 1), (287, 1), (309, 1), (392, 1), (725, 1), (762, 1), (1495, 1), (2433, 1), (2434, 1), (2435, 1)], [(6, 1), (14, 1), (123, 1), (158, 1), (517, 1), (981, 1), (1421, 1), (1431, 1)], [(3, 1), (32, 1), (60, 1), (443, 1), (1562, 2), (2436, 1), (2437, 1)], [(0, 1), (12, 1), (14, 1), (39, 1), (61, 1), (348, 2), (410, 1), (411, 1)], [(25, 1), (31, 1), (61, 1), (162, 1), (450, 1), (2082, 1), (2438, 1), (2439, 1)], [(0, 1), (12, 1), (14, 2), (39, 1), (61, 1), (69, 1), (142, 1), (569, 1), (934, 1), (2440, 1), (2441, 1)], [(3, 1), (39, 1), (61, 1), (69, 1), (80, 1), (84, 1), (158, 1), (161, 2), (184, 1), (246, 1), (259, 1), (304, 1), (767, 1), (778, 1), (955, 1), (1216, 1), (1666, 1), (2442, 1), (2443, 1)], [(3, 1), (161, 1), (227, 1), (2444, 1), (2445, 1)], [(10, 1), (14, 1), (16, 1), (17, 1), (39, 1), (49, 1), (86, 1), (189, 1), (815, 1), (2283, 1), (2284, 1)], [(3, 1), (6, 1), (14, 1), (32, 1), (39, 1), (80, 1), (259, 1), (448, 1), (717, 1), (901, 1), (1475, 1), (2446, 1), (2447, 1)], [(14, 1), (16, 1), (60, 1), (141, 1), (257, 1), (1043, 2), (1578, 1), (2448, 1)], [(3, 2), (6, 1), (14, 1), (31, 3), (32, 1), (60, 1), (69, 1), (128, 1), (161, 1), (535, 1), (1215, 1), (2316, 1), (2449, 1), (2450, 1), (2451, 1)], [(3, 1), (164, 1), (205, 1), (911, 1), (1636, 1), (1734, 1)], [(7, 1), (12, 1), (14, 1), (31, 1), (39, 1), (62, 1), (81, 1), (290, 1), (403, 1), (419, 1)], [(3, 1), (493, 2), (1383, 1), (2452, 1), (2453, 1)], [(12, 1), (14, 1), (39, 1), (49, 1), (225, 1), (403, 1), (650, 1), (937, 1)], [(6, 1), (14, 1), (32, 1), (34, 1), (2454, 1), (2455, 1), (2456, 1)], [(3, 1), (116, 1), (2457, 1), (2458, 1), (2459, 1)], [(3, 1), (31, 1), (32, 1), (77, 1), (227, 1), (499, 1), (815, 1), (2460, 1)], [(12, 2), (14, 1), (31, 1), (39, 1), (143, 1), (290, 1), (481, 1), (1871, 1), (2461, 1), (2462, 1)], [(12, 1), (25, 1), (61, 1), (77, 1), (143, 1), (148, 1), (324, 1), (459, 1), (1284, 1), (1859, 1), (1966, 1), (2287, 1), (2463, 1), (2464, 1), (2465, 1), (2466, 1), (2467, 1), (2468, 1), (2469, 1), (2470, 1), (2471, 1)], [(3, 1), (12, 1), (14, 1), (31, 1), (39, 1), (81, 1), (227, 1), (481, 1), (2010, 1)], [(32, 1), (34, 1), (668, 1), (2472, 1), (2473, 1)], [(3, 2), (14, 1), (31, 1), (44, 1), (47, 1), (61, 1), (77, 1), (80, 3), (84, 1), (164, 1), (257, 1), (361, 1), (452, 1), (665, 1), (828, 1), (1100, 1), (1442, 1), (1480, 1), (1537, 1), (2474, 1), (2475, 1), (2476, 1), (2477, 1), (2478, 1), (2479, 1), (2480, 1), (2481, 1), (2482, 1), (2483, 1), (2484, 1), (2485, 1)], [(3, 1), (6, 1), (12, 2), (39, 1), (202, 1), (952, 1), (1484, 1), (2234, 1), (2486, 2), (2487, 1), (2488, 2)], [(0, 1), (6, 1), (12, 1), (14, 2), (39, 1), (53, 1), (77, 1), (80, 1), (228, 1), (289, 1), (318, 1), (363, 1), (452, 1), (913, 1), (2489, 1), (2490, 1)], [(25, 1), (32, 1), (61, 2), (149, 1), (157, 1), (224, 1), (1243, 1), (2491, 1)], [(12, 1), (14, 1), (39, 1), (80, 1), (277, 1), (556, 1), (762, 1), (895, 1), (1277, 1), (1719, 1), (2492, 1)], [(12, 1), (14, 1), (16, 1), (39, 1), (49, 1), (151, 1), (1488, 1), (2493, 1)], [(3, 1), (10, 1), (31, 1), (39, 1), (47, 1), (143, 1), (158, 1), (1111, 1), (2494, 1), (2495, 1)], [(14, 1), (16, 1), (27, 1), (60, 1), (61, 2), (84, 1), (141, 1), (227, 1), (454, 1), (935, 1), (2496, 1), (2497, 1), (2498, 1), (2499, 1)], [(12, 1), (14, 1), (39, 1), (49, 1), (482, 1), (1263, 1)], [(12, 1), (14, 1), (39, 1), (71, 1), (172, 1), (228, 1), (2500, 1), (2501, 1), (2502, 1)], [(0, 1), (3, 1), (6, 1), (12, 1), (13, 1), (19, 1), (35, 1), (136, 1), (184, 1), (227, 1), (301, 1), (355, 1), (483, 1), (574, 1), (576, 1), (1013, 1), (1416, 1), (1624, 1), (2205, 1), (2503, 1), (2504, 1)], [(14, 1), (60, 1), (61, 1), (80, 1), (141, 1), (257, 1), (341, 1), (397, 1), (1539, 1), (1883, 1), (2505, 1), (2506, 1)], [(0, 1), (12, 2), (13, 1), (14, 2), (39, 1), (47, 1), (69, 1), (314, 1), (464, 2), (1243, 1), (1815, 1), (2491, 1), (2507, 1)], [(12, 1), (14, 1), (49, 1), (60, 1), (105, 1), (150, 1), (151, 1), (152, 1), (290, 1)], [(12, 1), (13, 1), (24, 1), (47, 1), (257, 1), (258, 1), (1104, 1), (1684, 1), (2327, 1), (2508, 1), (2509, 1)], [(3, 1), (32, 1), (117, 1), (244, 1), (594, 1), (595, 1)], [(6, 1), (12, 1), (14, 1), (35, 1), (39, 1), (47, 2), (61, 1), (85, 1), (398, 1), (538, 1), (1006, 1), (1110, 1), (1430, 1), (2510, 1), (2511, 1), (2512, 1)], [(14, 1), (24, 1), (25, 1), (32, 1), (224, 1), (2513, 1)], [(25, 1), (27, 1), (32, 1), (161, 1), (172, 1), (760, 1), (979, 1), (1232, 1), (1538, 1), (2514, 1), (2515, 1)], [(4, 1), (12, 1), (14, 1), (16, 1), (84, 1), (105, 1), (301, 1), (940, 1), (1100, 1), (1110, 1), (1134, 1), (2042, 1), (2516, 1), (2517, 2)], [(3, 2), (31, 2), (39, 1), (45, 1), (227, 1), (460, 1), (2518, 1), (2519, 1)], [(6, 1), (12, 1), (14, 1), (27, 1), (39, 1), (60, 1), (97, 1), (119, 1), (131, 1), (206, 1), (334, 1), (806, 1), (2520, 1), (2521, 1)], [(2, 1), (12, 1), (13, 1), (168, 1), (357, 1), (392, 1), (905, 1), (2522, 1)], [(14, 1), (61, 1), (533, 1), (1287, 1), (1526, 1), (1651, 1), (2523, 1)], [(3, 1), (32, 1), (161, 1), (571, 1), (2524, 1)], [(3, 1), (32, 1), (60, 1), (117, 1), (161, 1), (259, 1), (363, 1), (1046, 1)], [(3, 1), (12, 1), (13, 1), (47, 1), (60, 1), (1495, 1), (1948, 1), (2108, 1), (2327, 1), (2525, 1)], [(12, 1), (14, 1), (39, 1), (98, 1), (203, 1), (506, 1), (1398, 1), (2526, 1)], [(3, 1), (13, 1), (93, 1), (168, 1), (652, 1), (1082, 1)], [(3, 2), (4, 1), (6, 1), (12, 1), (14, 1), (31, 1), (32, 1), (39, 1), (45, 2), (60, 2), (69, 2), (82, 1), (86, 3), (196, 1), (574, 1), (819, 1), (981, 1), (1100, 1), (1434, 2), (2527, 1), (2528, 2)], [(12, 1), (16, 1), (25, 1), (152, 1), (536, 1), (1695, 1), (2529, 1), (2530, 1)], [(6, 1), (12, 1), (14, 1), (164, 1), (2270, 1), (2415, 1), (2531, 1), (2532, 1)], [(12, 2), (14, 1), (32, 1), (44, 1), (47, 1), (60, 1), (216, 1), (309, 1), (392, 2), (669, 1), (1323, 1), (2533, 1), (2534, 1), (2535, 1)], [(3, 1), (32, 1), (117, 1), (1388, 1), (2536, 1), (2537, 1)], [(3, 1), (39, 1), (61, 1), (1398, 1), (1959, 1), (2538, 1)], [(14, 1), (39, 1), (61, 1), (143, 1), (442, 1), (2082, 1), (2539, 1), (2540, 1), (2541, 1)], [(12, 1), (14, 1), (16, 1), (39, 1), (49, 1), (794, 1), (1801, 1), (2542, 1)], [(6, 1), (12, 1), (23, 1), (27, 1), (39, 1), (44, 1), (76, 1), (79, 1), (161, 2), (184, 1), (201, 2), (205, 1), (460, 1), (574, 1), (1110, 1), (2128, 1), (2367, 1), (2543, 1), (2544, 1), (2545, 1), (2546, 1)], [(3, 1), (6, 1), (32, 1), (61, 1), (77, 1), (161, 1), (259, 1), (458, 1), (575, 1)], [(3, 1), (31, 1), (32, 1), (37, 1), (47, 1), (61, 1), (2547, 1), (2548, 1), (2549, 1)], [(3, 1), (7, 1), (10, 1), (12, 1), (13, 1), (20, 1), (60, 1), (158, 1), (244, 1), (247, 1), (955, 1), (1171, 1), (2198, 1), (2550, 1)], [(25, 1), (32, 1), (83, 1), (161, 1), (435, 1), (1388, 1), (2218, 1)], [(14, 1), (39, 1), (838, 1), (1321, 1), (2551, 1)], [(3, 1), (13, 1), (148, 1), (459, 1), (971, 2), (2552, 1), (2553, 1), (2554, 1)], [(12, 1), (14, 1), (16, 1), (39, 1), (49, 1), (292, 1), (294, 1), (686, 1), (2555, 1)], [(6, 1), (23, 1), (25, 1), (29, 1), (32, 1), (61, 1), (128, 1), (161, 1), (201, 1), (384, 1), (697, 1), (949, 1)], [(16, 1), (229, 1), (300, 1), (360, 1)], [(3, 1), (31, 1), (32, 1), (162, 1), (349, 1), (1294, 1)], [(3, 1), (14, 1), (32, 1), (489, 1), (1268, 1), (1277, 1), (2556, 1)], [(12, 1), (14, 1), (27, 1), (31, 1), (86, 1), (170, 2), (225, 1), (306, 1), (1440, 1), (2557, 1), (2558, 1)], [(0, 1), (6, 1), (12, 1), (14, 1), (39, 1), (47, 1), (1271, 1), (1272, 1), (1301, 1), (2547, 1), (2559, 1)], [(3, 1), (77, 1), (161, 1), (164, 1), (259, 1), (344, 1), (828, 1), (1205, 1), (2560, 1), (2561, 1), (2562, 1)], [(21, 1), (32, 1), (34, 1), (77, 1), (84, 2), (172, 2), (227, 1), (583, 1), (634, 1), (676, 1), (1831, 1), (2133, 1), (2248, 1), (2563, 1)], [(12, 2), (25, 1), (32, 1), (47, 1), (77, 1), (161, 1), (201, 1), (273, 1), (361, 1), (507, 2), (651, 1), (949, 1), (973, 1), (2564, 1)], [(10, 1), (12, 1), (14, 2), (39, 1), (47, 1), (80, 1), (476, 1), (2508, 1), (2565, 1)], [(14, 1), (32, 1), (1273, 1), (2069, 1), (2566, 1)], [(0, 1), (3, 1), (32, 1), (33, 1), (94, 1), (98, 1), (461, 1), (462, 1), (1674, 1), (1843, 1), (2567, 1)], [(6, 1), (12, 1), (14, 1), (31, 1), (60, 1), (61, 2), (69, 1), (84, 1), (85, 1), (184, 1), (231, 1), (279, 1), (442, 1), (661, 1), (925, 1), (1207, 1), (1522, 1), (1722, 2), (2568, 1), (2569, 2), (2570, 1)], [(12, 1), (14, 1), (16, 1), (17, 1), (39, 1), (675, 1), (844, 1), (1084, 1), (1347, 1), (2571, 1)], [(25, 1), (27, 1), (32, 1), (161, 1), (201, 1), (352, 1), (833, 1), (2155, 1), (2572, 1)], [(3, 1), (32, 1), (44, 1), (60, 1), (61, 1), (142, 1), (161, 1), (909, 1), (1084, 1), (1298, 1), (1636, 1), (1697, 1), (1728, 1)], [(6, 2), (10, 1), (14, 1), (17, 1), (39, 1), (60, 1), (84, 1), (702, 1), (851, 1), (2573, 1), (2574, 1), (2575, 1)], [(3, 1), (84, 1), (576, 1), (1249, 1), (1762, 1), (2576, 1), (2577, 2), (2578, 1)], [(12, 1), (49, 1), (60, 1), (202, 1), (340, 1), (773, 1), (2579, 1)], [(0, 1), (60, 1), (76, 1), (151, 1), (460, 1), (571, 1), (636, 2), (856, 1), (1867, 1), (2122, 1), (2580, 1), (2581, 1)], [(6, 1), (25, 1), (32, 1), (161, 2), (184, 1), (259, 1), (373, 1), (398, 1), (1583, 1), (1843, 1), (2017, 1), (2076, 2), (2582, 1), (2583, 1)], [(7, 1), (12, 1), (14, 1), (44, 1), (84, 1), (654, 1), (853, 1), (1876, 1), (2584, 1), (2585, 1)], [(3, 1), (6, 1), (31, 1), (32, 1), (535, 1), (2586, 1), (2587, 1), (2588, 1)], [(12, 1), (14, 1), (49, 1), (60, 1), (105, 1), (202, 1), (771, 1), (1779, 1)], [(3, 1), (13, 1), (82, 1), (697, 1), (726, 1), (2589, 1)], [(12, 2), (14, 1), (25, 1), (136, 1), (196, 1), (227, 1), (486, 1), (744, 1), (2590, 1), (2591, 1), (2592, 1), (2593, 1)], [(14, 1), (32, 1), (47, 1), (60, 1), (69, 1), (77, 1), (341, 1), (2594, 1), (2595, 1), (2596, 1), (2597, 1), (2598, 1)], [(25, 1), (32, 1), (301, 1), (771, 1), (1779, 1)], [(14, 1), (61, 1), (631, 1), (2599, 1), (2600, 1), (2601, 1)], [(12, 1), (14, 1), (39, 1), (2602, 1), (2603, 1)], [(3, 1), (17, 1), (32, 1), (61, 1), (161, 1), (575, 1), (684, 1), (2368, 1)], [(0, 1), (3, 1), (6, 1), (13, 1), (14, 1), (32, 1), (33, 1), (69, 1), (77, 2), (331, 1), (634, 1), (1085, 1), (1110, 1), (2050, 1), (2604, 1), (2605, 1), (2606, 1)], [(3, 1), (6, 1), (32, 1), (39, 1), (45, 1), (69, 1), (161, 2), (201, 1), (247, 1), (363, 1), (1495, 1), (1651, 1), (2607, 1)], [(3, 1), (6, 1), (32, 1), (161, 1), (201, 1), (847, 1), (1988, 1), (2608, 1), (2609, 1)], [(14, 1), (61, 2), (62, 1), (136, 1), (164, 1), (1399, 1), (1542, 1), (1671, 1), (2415, 1)], [(6, 1), (14, 1), (16, 1), (61, 1), (194, 1), (1199, 1), (2610, 1), (2611, 1), (2612, 1), (2613, 1), (2614, 1)], [(0, 1), (12, 1), (14, 1), (39, 1), (410, 1), (411, 1), (1344, 1), (1563, 1), (2613, 1), (2615, 1)], [(105, 1), (154, 1), (224, 1), (828, 1), (1071, 1), (1592, 1)], [(3, 1), (13, 1), (14, 1), (27, 1), (259, 1), (448, 1), (460, 1), (636, 1), (726, 1), (2244, 1), (2616, 1), (2617, 1)], [(7, 1), (14, 2), (39, 1), (47, 2), (54, 1), (61, 3), (184, 1), (607, 2), (717, 2), (2618, 1), (2619, 1)], [(14, 1), (39, 1), (47, 1), (86, 1), (1254, 1), (2620, 1), (2621, 1)], [(3, 1), (39, 1), (60, 1), (62, 1), (134, 1), (448, 1), (452, 1), (512, 1), (576, 1), (897, 1), (2608, 2), (2622, 1)], [(14, 2), (32, 1), (60, 1), (314, 1), (2623, 1)], [(12, 1), (14, 1), (39, 1), (49, 1), (60, 1), (202, 1), (2624, 1), (2625, 1), (2626, 1)], [(0, 1), (7, 1), (13, 1), (14, 1), (25, 1), (27, 2), (32, 1), (61, 1), (69, 1), (76, 1), (170, 1), (225, 2), (234, 1), (259, 1), (361, 1), (448, 1), (452, 1), (460, 1), (635, 1), (697, 1), (840, 1), (1441, 1), (2215, 1), (2627, 1)], [(3, 1), (7, 1), (13, 1), (14, 1), (20, 1), (25, 1), (27, 1), (61, 1), (80, 1), (170, 1), (172, 1), (225, 1), (247, 1), (697, 1), (1076, 1), (1441, 1), (1599, 1), (1872, 1), (2628, 1)], [(3, 1), (12, 1), (32, 1), (47, 1), (148, 1), (161, 1), (247, 1), (303, 1), (363, 1), (725, 1), (726, 1), (814, 1), (2431, 1), (2606, 1), (2629, 1)], [(25, 1), (161, 1), (201, 1), (676, 1), (1190, 1), (1434, 1)], [(12, 1), (14, 1), (39, 1), (47, 1), (228, 1), (673, 1), (1448, 1), (2630, 1), (2631, 1), (2632, 1)], [(3, 1), (13, 1), (20, 1), (60, 1), (306, 1), (373, 1), (403, 1), (443, 1), (748, 1), (751, 1), (1938, 1), (2633, 1)], [(0, 2), (6, 2), (12, 2), (14, 1), (39, 1), (47, 1), (80, 1), (83, 1), (143, 1), (355, 1), (535, 1), (621, 1), (898, 1), (933, 1), (954, 1), (1194, 1), (1448, 2), (1605, 1), (2634, 1), (2635, 1), (2636, 1), (2637, 1)], [(14, 1), (25, 1), (1224, 1), (2638, 1), (2639, 1), (2640, 1), (2641, 1)], [(2642, 1), (2643, 1), (2644, 1)], [(3, 1), (31, 1), (112, 1), (241, 1), (1211, 1), (1213, 1)], [(12, 1), (14, 1), (16, 1), (39, 1), (49, 1), (60, 1), (148, 1), (1119, 1), (1814, 1), (2088, 1)], [(0, 1), (12, 1), (14, 1), (39, 1), (49, 1), (139, 1), (556, 1), (1543, 1), (2645, 1), (2646, 1), (2647, 1)], [(3, 1), (6, 1), (31, 1), (512, 1), (2303, 1), (2648, 1)], [(14, 1), (16, 2), (39, 1), (84, 1), (86, 1), (97, 1), (123, 1), (959, 2), (960, 1), (2649, 1)], [(3, 1), (32, 1), (61, 1), (360, 1), (732, 1), (2650, 1), (2651, 1), (2652, 1)], [(6, 1), (12, 1), (14, 1), (60, 1), (61, 1), (69, 1), (83, 1), (340, 1), (636, 1), (757, 1)], [(6, 1), (14, 1), (16, 1), (60, 1), (69, 1), (224, 1), (376, 1), (651, 1), (1102, 1), (1180, 1), (1570, 1), (2653, 1), (2654, 1), (2655, 1), (2656, 1)], [(12, 1), (14, 1), (39, 1), (69, 1), (1719, 1), (2657, 1)], [(0, 1), (25, 1), (27, 1), (32, 1), (61, 1), (161, 1), (910, 1), (1544, 1), (1697, 1), (2658, 1), (2659, 1)], [(12, 1), (16, 1), (25, 1), (31, 1), (32, 1), (1646, 1), (1930, 1), (2660, 1)], [(0, 1), (3, 1), (39, 1), (60, 1), (149, 1), (154, 1), (161, 2), (201, 2), (366, 1), (1153, 1), (1442, 1), (2661, 1), (2662, 1), (2663, 1)], [(3, 1), (31, 1), (32, 1), (61, 1), (64, 1), (2664, 1), (2665, 1)], [(0, 1), (24, 1), (25, 1), (227, 1), (467, 1), (813, 1), (2604, 1), (2666, 1), (2667, 1), (2668, 1), (2669, 1), (2670, 1)], [(0, 1), (3, 1), (14, 1), (60, 1), (69, 1), (104, 1), (116, 1), (201, 1), (576, 1), (1548, 1), (2069, 1), (2671, 1), (2672, 1), (2673, 1), (2674, 1)], [(3, 1), (13, 1), (14, 1), (39, 1), (69, 1), (314, 1), (2675, 1)], [(3, 1), (6, 1), (12, 1), (32, 1), (161, 2), (184, 1), (347, 2), (357, 1), (1636, 1), (1639, 1), (2676, 1), (2677, 1)], [(12, 1), (14, 1), (31, 1), (39, 1), (49, 1), (227, 1), (481, 1), (533, 1), (1492, 1), (2144, 1), (2678, 1)], [(16, 1), (25, 1), (32, 1), (61, 1), (161, 1), (169, 1), (201, 1), (1215, 1), (2679, 1), (2680, 1)], [(60, 1), (154, 1), (161, 1), (1000, 1), (1401, 1), (1932, 1), (2681, 1), (2682, 1), (2683, 1), (2684, 1)], [(13, 1), (14, 1), (321, 1), (2685, 1), (2686, 1)], [(12, 1), (14, 1), (39, 1), (49, 1), (60, 1), (163, 1), (202, 1), (1102, 1), (2687, 1)], [(3, 1), (13, 1), (21, 1), (60, 1), (227, 1), (583, 1), (650, 1), (678, 1), (906, 1), (907, 1), (984, 1), (2688, 1), (2689, 1), (2690, 1)], [(0, 1), (6, 2), (12, 1), (14, 2), (16, 1), (61, 2), (69, 1), (80, 1), (122, 1), (1291, 1), (1293, 1), (1628, 1), (1950, 1), (1975, 1), (2048, 1), (2058, 1), (2691, 1), (2692, 1), (2693, 1), (2694, 1), (2695, 1)], [(14, 1), (16, 1), (17, 1), (19, 1), (21, 1), (84, 1), (128, 1), (583, 1), (906, 1), (907, 1)], [(14, 2), (16, 1), (17, 1), (24, 1), (44, 1), (60, 2), (61, 1), (69, 2), (96, 1), (442, 1), (650, 1), (815, 1), (2078, 1), (2696, 1), (2697, 1), (2698, 1), (2699, 1)], [(0, 1), (14, 1), (39, 1), (410, 1), (411, 1), (2364, 1), (2700, 1)], [(3, 1), (2316, 1), (2701, 1), (2702, 1), (2703, 1)], [(3, 1), (12, 1), (19, 1), (44, 1), (164, 1), (196, 1), (270, 1), (279, 1), (331, 1), (696, 1), (1110, 1)], [(10, 1), (14, 2), (24, 1), (31, 1), (39, 1), (440, 1), (744, 1), (2704, 1), (2705, 1)], [(25, 1), (32, 1), (161, 1), (571, 1), (995, 1)], [(14, 1), (25, 1), (27, 1), (32, 1), (833, 1), (855, 1), (2222, 1), (2706, 1), (2707, 1)], [(0, 1), (14, 1), (39, 1), (232, 1), (410, 1), (1933, 1), (2062, 3), (2125, 1), (2708, 1)], [(13, 1), (14, 1), (61, 1), (170, 1), (201, 1), (1071, 1), (1352, 1), (1784, 1), (2709, 1)], [(6, 1), (14, 1), (60, 1), (69, 1), (84, 1), (287, 1), (436, 1), (762, 1), (1280, 1), (1423, 1), (2710, 1), (2711, 1)], [(10, 1), (14, 1), (39, 1), (81, 1), (93, 1), (97, 1), (143, 1), (154, 1), (168, 1), (246, 1), (290, 1), (726, 1), (949, 1), (1548, 1), (2712, 1), (2713, 1)], [(14, 1), (31, 1), (2714, 1), (2715, 1)], [(3, 1), (13, 1), (20, 1), (33, 1), (39, 1), (62, 2), (135, 1), (373, 1), (534, 1), (635, 1), (2548, 1)], [(0, 1), (12, 2), (14, 1), (39, 1), (161, 1), (410, 1), (712, 1), (2205, 2), (2434, 1), (2498, 1), (2716, 1), (2717, 2), (2718, 1)], [(14, 1), (17, 1), (32, 1), (39, 1), (60, 2), (148, 1), (151, 1), (202, 1), (2719, 1)], [(3, 1), (32, 1), (833, 1), (2707, 1), (2720, 1), (2721, 1)], [(3, 1), (6, 1), (39, 1), (726, 1), (910, 1), (2482, 1), (2722, 1), (2723, 1)], [(14, 1), (60, 1), (61, 1), (69, 1), (77, 1), (404, 1), (697, 1), (981, 1), (2724, 1), (2725, 1), (2726, 1)], [(12, 1), (13, 1), (14, 1), (16, 1), (47, 1), (61, 1), (69, 1), (123, 1), (150, 1), (357, 1), (363, 1), (460, 1), (475, 1), (574, 1), (1484, 1), (2234, 1), (2236, 1), (2454, 1), (2727, 1), (2728, 1), (2729, 1)], [(60, 1), (336, 1), (1549, 1), (1862, 1), (2730, 1)], [(14, 1), (32, 1), (34, 1), (84, 1), (141, 1), (229, 1), (1458, 1)], [(14, 1), (39, 1), (61, 1), (1923, 1), (2731, 1)], [(0, 1), (14, 1), (27, 1), (29, 1), (31, 1), (39, 1), (47, 1), (98, 1), (172, 1), (461, 1), (462, 1), (1271, 1), (1674, 1), (2732, 1), (2733, 1)], [(3, 1), (32, 1), (77, 1), (161, 1), (201, 1), (675, 1), (973, 1), (1777, 1), (2734, 1)], [(3, 1), (416, 1), (1204, 1), (1206, 1), (2735, 1)], [(0, 1), (12, 1), (14, 1), (39, 1), (410, 1), (411, 1), (2736, 1), (2737, 1), (2738, 1)], [(14, 1), (61, 1), (84, 1), (289, 1), (2739, 1), (2740, 1), (2741, 1)], [(0, 1), (13, 1), (14, 1), (39, 1), (130, 1), (189, 1), (493, 1), (2742, 1)], [(6, 1), (12, 1), (14, 1), (32, 1), (61, 1), (148, 1), (476, 1), (1629, 1), (2743, 1)], [(12, 1), (16, 1), (39, 1), (44, 1), (57, 1), (60, 1), (154, 1), (161, 1), (287, 1), (839, 1), (2744, 1), (2745, 1)], [(14, 1), (16, 1), (18, 1), (21, 1), (32, 1), (60, 1), (61, 1), (122, 1), (123, 1), (798, 1), (990, 2), (1431, 1), (1524, 1), (2353, 1), (2690, 1), (2746, 1), (2747, 1), (2748, 1), (2749, 1)], [(0, 2), (3, 1), (13, 1), (31, 2), (39, 1), (85, 1), (96, 1), (158, 1), (184, 1), (227, 1), (2750, 1)], [(14, 1), (16, 1), (39, 1), (148, 1), (767, 1), (2751, 1)], [(12, 1), (25, 1), (27, 1), (30, 1), (32, 1), (156, 1), (161, 1), (201, 1), (416, 1), (417, 1), (937, 1)], [(0, 1), (12, 1), (14, 1), (39, 1), (410, 1), (411, 1), (1739, 1), (2752, 1), (2753, 1)], [(12, 1), (14, 1), (39, 1), (49, 1), (60, 2), (61, 1), (202, 1), (2464, 1), (2754, 1), (2755, 1), (2756, 1), (2757, 1), (2758, 1)], [(3, 1), (14, 1), (60, 1), (83, 1), (164, 1), (1606, 1), (2759, 1)], [(3, 1), (6, 2), (17, 1), (32, 1), (161, 1), (356, 1), (825, 1), (1349, 1), (1351, 1), (2118, 1), (2760, 1)], [(0, 1), (6, 1), (12, 1), (13, 1), (14, 1), (39, 1), (49, 1), (60, 1), (329, 1), (756, 1)], [(0, 1), (6, 1), (25, 1), (161, 1), (164, 1), (259, 1), (558, 1), (1001, 1), (1153, 1), (2049, 1), (2761, 1), (2762, 1), (2763, 1)], [(0, 1), (3, 2), (17, 1), (61, 1), (143, 1), (227, 1), (446, 1), (450, 1), (919, 1), (1130, 1), (1388, 1), (1548, 1), (2249, 1), (2450, 1), (2764, 1), (2765, 1), (2766, 1)], [(3, 1), (14, 2), (39, 1), (60, 1), (61, 1), (154, 1), (161, 3), (1111, 1), (1495, 1), (1691, 1), (2119, 1), (2767, 1)], [(12, 1), (14, 1), (16, 1), (39, 1), (49, 1), (61, 1), (122, 1), (497, 1), (517, 1), (2768, 1), (2769, 1)], [(6, 1), (14, 1), (60, 1), (69, 1), (84, 1), (86, 1), (148, 1), (1340, 1), (1671, 1), (1811, 1), (2770, 1)], [(3, 1), (6, 2), (19, 1), (32, 1), (61, 1), (77, 1), (161, 1), (259, 1), (522, 1), (634, 1), (1343, 1)], [(12, 1), (14, 2), (85, 1), (164, 1), (184, 1), (222, 1), (301, 1), (1699, 1), (2209, 1), (2771, 1)], [(25, 1), (32, 1), (161, 1), (1003, 1), (2008, 1), (2642, 1), (2772, 1), (2773, 1)], [(0, 1), (25, 1), (32, 1), (60, 1), (161, 1), (279, 1), (978, 1), (1046, 1), (1074, 1), (2774, 1), (2775, 1), (2776, 1)], [(0, 1), (6, 1), (7, 1), (12, 1), (14, 1), (24, 1), (47, 1), (61, 1), (85, 1), (184, 1), (220, 1), (448, 1), (542, 1), (930, 1), (1128, 1), (1250, 1), (1434, 1), (2235, 1), (2566, 1), (2777, 1), (2778, 1), (2779, 1), (2780, 1), (2781, 1)], [(14, 1), (148, 1), (979, 1), (1094, 1), (1734, 1), (2476, 1), (2782, 1), (2783, 1), (2784, 1)], [(3, 1), (39, 1), (227, 1), (2785, 1), (2786, 1), (2787, 1), (2788, 1)], [(3, 1), (32, 1), (44, 1), (161, 1), (792, 1), (1340, 1), (1639, 1), (1733, 1), (2677, 1)], [(12, 1), (14, 2), (39, 1), (47, 1), (61, 2), (76, 1), (117, 1), (161, 1), (193, 1), (844, 1), (1212, 1), (2789, 2)], [(0, 1), (12, 1), (14, 1), (39, 1), (61, 2), (410, 1), (411, 1), (2790, 1), (2791, 1)], [(3, 1), (7, 1), (13, 1), (14, 1), (161, 2), (263, 1), (536, 1), (574, 1), (2792, 1), (2793, 1), (2794, 1)], [(3, 1), (12, 1), (16, 1), (39, 1), (154, 1), (161, 2), (227, 1), (267, 1), (973, 1), (1431, 1), (1965, 1), (2795, 1), (2796, 1), (2797, 1)], [(6, 1), (12, 1), (14, 1), (39, 1), (228, 1), (1503, 1), (2424, 1), (2798, 1), (2799, 1)], [(0, 1), (6, 1), (12, 1), (13, 1), (14, 1), (39, 1), (49, 1), (60, 1), (97, 1), (131, 1), (206, 1), (329, 1), (390, 1), (935, 1), (1393, 1)], [(3, 1), (6, 1), (12, 2), (14, 1), (31, 1), (39, 1), (45, 1), (80, 1), (81, 1), (86, 1), (224, 1), (228, 1), (576, 1), (2651, 1)], [(3, 1), (7, 1), (39, 1), (62, 1), (135, 1), (143, 1), (2800, 1), (2801, 1)], [(27, 1), (29, 1), (86, 1), (340, 1), (1970, 1)], [(6, 1), (19, 1), (60, 1), (61, 2), (85, 1), (161, 1), (300, 1), (1031, 1), (2802, 1), (2803, 1), (2804, 1)], [(3, 1), (32, 1), (77, 1), (161, 1), (201, 1), (2595, 1), (2805, 1)], [(0, 1), (25, 1), (31, 1), (39, 1), (61, 1), (196, 1), (353, 1), (400, 1), (784, 1), (1202, 1), (1469, 1), (2806, 1), (2807, 1)], [(6, 1), (13, 1), (14, 1), (2380, 1), (2381, 1), (2382, 1), (2383, 1), (2808, 1)], [(12, 1), (14, 1), (16, 1), (39, 1), (49, 1), (226, 1), (249, 1), (498, 1), (590, 1), (914, 1), (981, 1), (1932, 1)], [(12, 1), (14, 1), (16, 1), (39, 1), (61, 1), (503, 1), (696, 1), (756, 1), (2809, 1)], [(6, 1), (12, 1), (25, 1), (32, 1), (161, 1), (201, 1), (2029, 1), (2810, 1), (2811, 1)], [(16, 1), (21, 1), (60, 2), (84, 1), (128, 3), (154, 1), (584, 1), (635, 2), (907, 1), (1495, 2), (1674, 1), (2812, 1), (2813, 1)], [(0, 1), (31, 1), (39, 1), (60, 1), (128, 1), (172, 1), (225, 1), (227, 1), (259, 1), (263, 1), (2133, 1), (2814, 1), (2815, 1)], [(0, 1), (25, 1), (32, 1), (161, 1), (201, 1), (262, 1), (1263, 1), (1467, 1), (1498, 1), (2781, 1)], [(6, 1), (12, 1), (14, 1), (49, 1), (84, 1), (105, 1), (408, 1), (709, 1), (945, 1), (1318, 1), (1697, 1), (2816, 1), (2817, 1), (2818, 1), (2819, 1)], [(12, 1), (14, 1), (16, 1), (26, 1), (39, 1), (49, 1), (247, 1), (556, 1), (2820, 1)], [(12, 1), (14, 1), (60, 1), (105, 1), (116, 1), (1323, 1), (1336, 1), (1690, 1), (2821, 1)], [(12, 1), (14, 1), (27, 1), (39, 1), (49, 1), (435, 1), (1232, 1)], [(3, 1), (12, 1), (39, 1), (304, 1), (2822, 1), (2823, 1)], [(0, 1), (3, 1), (6, 1), (12, 4), (14, 1), (32, 1), (39, 1), (60, 1), (119, 1), (141, 1), (224, 1), (443, 1), (2391, 1), (2393, 1), (2824, 1), (2825, 1)], [(12, 2), (14, 1), (16, 1), (39, 1), (49, 1), (143, 1), (695, 1), (794, 1), (2826, 1), (2827, 1), (2828, 1)], [(3, 1), (31, 1), (32, 1), (112, 1), (2829, 1)], [(0, 1), (6, 1), (12, 1), (14, 1), (16, 1), (24, 1), (47, 1), (60, 1), (61, 1), (274, 1), (392, 1), (491, 1), (536, 1), (1287, 1), (1524, 1), (2830, 1), (2831, 1), (2832, 1), (2833, 1), (2834, 1), (2835, 1), (2836, 1), (2837, 1), (2838, 1)], [(0, 1), (3, 1), (12, 1), (32, 1), (47, 1), (402, 1), (416, 1), (601, 1), (1212, 1), (1555, 1), (1692, 1), (2511, 1)], [(0, 1), (10, 1), (14, 1), (39, 1), (277, 1), (564, 1), (985, 1), (992, 1), (1734, 1), (2839, 1)], [(12, 1), (14, 1), (39, 1), (47, 1), (1886, 1), (2840, 1), (2841, 1)], [(14, 1), (154, 1), (1806, 1), (2079, 1)], [(0, 1), (3, 1), (12, 2), (14, 1), (32, 1), (39, 1), (47, 1), (60, 1), (443, 1), (1531, 1), (1646, 1), (2842, 1), (2843, 1), (2844, 1)], [(6, 1), (10, 1), (14, 1), (16, 1), (39, 1), (49, 1), (60, 1), (61, 1), (96, 1), (158, 1), (162, 1), (202, 1), (271, 1), (760, 1), (1111, 1), (2256, 1)], [(16, 1), (61, 1), (84, 1), (340, 1), (813, 1), (1007, 1), (1276, 1), (2845, 1), (2846, 1), (2847, 1), (2848, 1), (2849, 1), (2850, 1), (2851, 2)], [(3, 1), (32, 1), (161, 1), (1102, 1), (2316, 1), (2852, 1)], [(12, 1), (14, 1), (17, 1), (47, 2), (60, 1), (61, 2), (123, 1), (158, 1), (290, 1), (409, 1), (1388, 1), (1962, 1), (2769, 1), (2853, 1), (2854, 1), (2855, 1), (2856, 1), (2857, 1)], [(12, 1), (14, 1), (39, 1), (47, 1), (1393, 1), (2858, 1), (2859, 1), (2860, 1), (2861, 1), (2862, 1), (2863, 1), (2864, 1)], [(25, 1), (32, 1), (47, 1), (161, 1), (259, 1), (1217, 1), (2865, 1)], [(25, 1), (32, 1), (61, 2), (96, 1), (112, 1), (122, 1), (123, 1), (161, 1), (2370, 1)], [(39, 1), (62, 1), (154, 1), (301, 1), (949, 1), (2866, 1)], [(25, 1), (31, 1), (60, 1), (77, 1), (80, 1), (83, 1), (85, 1), (94, 1), (151, 1), (161, 1), (227, 1), (257, 1), (263, 1), (482, 1), (499, 1), (1190, 1), (1492, 1), (2867, 1), (2868, 1)], [(6, 1), (14, 1), (39, 1), (60, 1), (162, 1), (289, 1), (441, 1), (1347, 1), (1434, 1), (1841, 1), (2869, 1)], [(6, 1), (14, 1), (39, 1), (61, 1), (942, 1), (2870, 1), (2871, 1)], [(3, 1), (7, 1), (14, 1), (236, 2), (448, 1), (460, 1), (2872, 1)], [(14, 2), (25, 1), (30, 1), (31, 1), (60, 1), (61, 1), (257, 1), (910, 1), (1357, 1), (1974, 1), (2526, 1), (2873, 1)], [(3, 1), (14, 1), (24, 1), (39, 1), (141, 1), (154, 1), (161, 1), (442, 1), (460, 1), (483, 1)], [(25, 1), (32, 1), (60, 1), (61, 1), (149, 1), (161, 1), (1074, 1), (1094, 1), (2368, 1), (2874, 1), (2875, 1)], [(3, 1), (7, 1), (12, 3), (32, 1), (80, 1), (258, 2), (448, 1), (460, 1), (726, 1), (760, 2), (881, 1), (1149, 2), (2077, 1), (2876, 1), (2877, 1), (2878, 1), (2879, 1), (2880, 1)], [(3, 1), (32, 1), (301, 1), (2881, 1), (2882, 1)], [(16, 1), (24, 1), (25, 1), (39, 1), (61, 1), (784, 1), (1923, 1), (2231, 1), (2883, 1), (2884, 1), (2885, 1), (2886, 1)], [(6, 1), (14, 1), (32, 1), (60, 1), (61, 2), (69, 1), (77, 1), (196, 1), (247, 1), (268, 1), (270, 1), (271, 1), (676, 1), (1406, 1), (2887, 1)], [(6, 1), (14, 1), (31, 1), (61, 1), (227, 1), (417, 1), (481, 1), (483, 1)], [(3, 1), (32, 1), (77, 1), (161, 1), (633, 1), (697, 1)], [(6, 1), (14, 1), (32, 1), (34, 1), (141, 1), (303, 1), (2041, 1), (2888, 1)], [(6, 1), (31, 1), (39, 1), (80, 1), (85, 1), (282, 1), (512, 1), (576, 1), (717, 1), (725, 1), (1451, 1), (1492, 1), (2889, 1)], [(0, 1), (13, 1), (14, 1), (86, 1), (105, 1), (299, 1), (2890, 1)], [(0, 2), (12, 1), (14, 2), (32, 1), (39, 1), (410, 1), (411, 1), (448, 1), (1083, 1), (1954, 1), (2891, 1), (2892, 1)], [(16, 1), (21, 1), (32, 1), (60, 1), (61, 1), (226, 1), (259, 1), (374, 1), (583, 1), (1367, 1), (2893, 1), (2894, 1)], [(12, 1), (14, 1), (16, 1), (39, 1), (49, 1), (60, 1), (112, 1), (162, 1), (234, 1), (1738, 1), (2371, 2)], [(14, 1), (32, 1), (112, 1), (911, 1), (2895, 1), (2896, 1), (2897, 1)], [(16, 1), (39, 1), (60, 1), (112, 1), (148, 1), (154, 1), (161, 1), (556, 1), (1731, 1), (1926, 1), (2676, 1), (2898, 1), (2899, 1), (2900, 1), (2901, 1)], [(0, 1), (12, 1), (14, 2), (39, 1), (62, 1), (228, 1), (1244, 1), (1691, 1), (2256, 1), (2902, 1)], [(0, 1), (12, 1), (13, 1), (112, 1), (357, 1), (386, 1), (1617, 2), (2903, 1), (2904, 1), (2905, 1)], [(12, 1), (14, 1), (39, 1), (148, 1), (228, 1), (355, 1), (1848, 1), (2496, 1), (2906, 1), (2907, 1)], [(3, 1), (6, 1), (12, 1), (13, 1), (24, 1), (27, 1), (376, 1), (417, 1), (621, 1), (2082, 1), (2867, 1), (2908, 1), (2909, 1)], [(12, 1), (25, 1), (32, 1), (49, 1), (161, 1), (202, 1), (382, 1), (1074, 1)], [(6, 1), (12, 1), (14, 1), (39, 1), (61, 1), (81, 1), (84, 1), (228, 1), (314, 1), (365, 1), (1170, 1), (1215, 1)], [(13, 1), (14, 1), (2910, 1), (2911, 1)], [(14, 1), (17, 1), (39, 1), (61, 1), (85, 1), (2912, 1), (2913, 1)], [(6, 2), (14, 1), (25, 1), (60, 2), (61, 1), (201, 1), (249, 1), (251, 1), (390, 1), (408, 1), (409, 1), (1388, 1), (1695, 1), (2213, 1), (2680, 1), (2774, 1), (2914, 1), (2915, 1), (2916, 1), (2917, 1)], [(6, 1), (80, 1), (84, 1), (221, 1), (227, 1), (257, 1), (263, 1), (531, 2), (832, 1), (840, 1), (1635, 1), (1695, 1), (2489, 1), (2724, 1), (2918, 1), (2919, 1)], [(14, 1), (39, 1), (2898, 1), (2920, 1), (2921, 1), (2922, 1)], [(3, 1), (7, 1), (13, 1), (60, 1), (485, 1), (2923, 1), (2924, 1), (2925, 1)], [(1, 1), (12, 2), (39, 1), (60, 1), (69, 1), (79, 1), (196, 1), (1334, 1), (2528, 1)], [(10, 1), (12, 1), (14, 1), (19, 1), (31, 1), (47, 2), (80, 1), (105, 1), (112, 1), (122, 1), (295, 1), (2926, 1)], [(12, 1), (14, 2), (17, 1), (84, 2), (141, 1), (257, 2), (1189, 1), (1328, 1), (1539, 1), (1596, 1), (2927, 1), (2928, 1), (2929, 1), (2930, 1)], [(0, 1), (12, 3), (14, 1), (16, 1), (47, 1), (60, 2), (77, 1), (79, 1), (80, 1), (128, 1), (617, 1), (733, 1), (1186, 1), (1255, 1), (1818, 1), (1988, 1), (2931, 1), (2932, 1), (2933, 1), (2934, 1), (2935, 1)], [(12, 1), (14, 1), (21, 1), (32, 1), (60, 1), (69, 1), (93, 1), (149, 1), (184, 1), (582, 1), (1287, 1), (1431, 1), (1519, 1), (2125, 1), (2936, 1), (2937, 1)], [(6, 2), (12, 2), (60, 1), (61, 1), (74, 1), (80, 1), (84, 1), (91, 1), (105, 1), (123, 1), (404, 1), (621, 1), (749, 1), (762, 1), (957, 1), (1094, 1), (1110, 2), (1207, 1), (2609, 1), (2938, 1), (2939, 1), (2940, 1), (2941, 1), (2942, 1)], [(24, 1), (25, 1), (44, 1), (61, 3), (116, 1), (161, 2), (201, 1), (271, 1), (651, 1), (940, 1), (1047, 1), (1647, 1), (1656, 1), (1818, 1), (2107, 1), (2943, 1), (2944, 1), (2945, 1)], [(14, 1), (20, 1), (31, 1), (32, 1), (86, 1), (221, 1), (227, 1), (367, 1), (481, 1), (1234, 1), (1421, 1), (2857, 1), (2946, 1)], [(14, 1), (86, 1), (105, 1), (299, 1), (1206, 1), (2947, 1)], [(3, 1), (14, 1), (39, 1), (83, 1), (154, 1), (161, 1), (184, 1), (201, 1), (989, 1), (1578, 1), (2618, 1), (2948, 1)], [(6, 1), (76, 1), (319, 1), (322, 1), (832, 1), (2949, 1)], [(0, 1), (6, 1), (27, 1), (60, 2), (61, 1), (279, 1), (300, 1), (783, 1), (1467, 1), (2351, 1), (2356, 1), (2950, 1), (2951, 1), (2952, 1), (2953, 2), (2954, 1)], [(3, 1), (84, 1), (416, 1), (771, 1), (1356, 1), (2511, 1), (2581, 1), (2802, 2), (2955, 1)], [(3, 1), (31, 1), (32, 1), (767, 1), (2911, 1), (2956, 1)], [(6, 1), (12, 1), (13, 1), (14, 2), (69, 1), (227, 1), (481, 1), (939, 1), (1071, 1), (2957, 1), (2958, 1), (2959, 1), (2960, 1), (2961, 1), (2962, 1)], [(0, 1), (3, 1), (14, 1), (32, 1), (725, 1), (2963, 1), (2964, 1), (2965, 1), (2966, 1), (2967, 1)], [(3, 1), (32, 1), (161, 1), (201, 1), (262, 1), (1102, 1), (1498, 1), (1499, 1)], [(3, 1), (27, 1), (32, 1), (61, 1), (161, 1), (242, 1), (563, 1)], [(123, 1), (290, 1), (1230, 1), (2968, 1)], [(6, 1), (14, 1), (32, 1), (47, 1), (161, 2), (201, 1), (226, 1), (259, 1), (279, 2), (460, 1), (519, 1), (1382, 1), (1707, 1), (2969, 1), (2970, 1)], [(25, 1), (32, 1), (94, 1), (161, 1), (201, 1), (815, 1), (2971, 1)], [(0, 1), (16, 1), (37, 1), (39, 1), (47, 1), (60, 1), (61, 1), (80, 1), (81, 1), (154, 1), (161, 1), (196, 1), (200, 1), (201, 1), (231, 1), (416, 1), (590, 1), (860, 1), (1151, 1), (2548, 1), (2841, 1), (2972, 1), (2973, 1), (2974, 1), (2975, 1)], [(14, 1), (39, 1), (53, 1), (861, 1), (2361, 1), (2940, 1), (2976, 1), (2977, 1)], [(12, 1), (14, 1), (16, 1), (39, 1), (49, 1), (2972, 1), (2978, 1), (2979, 1)], [(14, 1), (60, 1), (84, 1), (105, 1), (244, 1), (2095, 1), (2980, 1), (2981, 1)], [(3, 1), (16, 1), (37, 1), (39, 1), (304, 1), (2982, 1)], [(14, 1), (25, 1), (39, 1), (117, 1), (2710, 1), (2967, 1), (2983, 1)], [(24, 1), (25, 1), (32, 1), (44, 1), (161, 1), (232, 1), (756, 1), (911, 1), (1739, 2), (2107, 1)], [(6, 1), (25, 1), (161, 1), (164, 1), (259, 1), (1027, 1), (1417, 1), (1994, 1)], [(14, 2), (25, 1), (32, 1), (60, 1), (61, 1), (69, 1), (77, 1), (80, 1), (84, 2), (128, 1), (159, 1), (227, 1), (229, 1), (301, 1), (363, 1), (458, 1), (576, 1), (632, 1), (636, 1), (673, 1), (957, 1), (1153, 1), (2159, 1), (2984, 1), (2985, 1)], [(6, 1), (12, 2), (14, 1), (27, 1), (39, 1), (172, 1), (1008, 1), (1010, 1), (1011, 1), (1012, 1), (1013, 1), (1014, 1), (2986, 1)], [(3, 1), (39, 1), (304, 1), (2987, 1), (2988, 1), (2989, 1)], [(3, 1), (6, 1), (19, 1), (32, 1), (33, 1), (251, 1), (726, 1), (1992, 1), (2990, 1), (2991, 1)], [(12, 1), (14, 1), (39, 1), (47, 1), (86, 1), (130, 1), (828, 1), (2992, 1)], [(14, 1), (39, 1), (47, 1), (86, 1), (1254, 1), (2993, 1)], [(3, 1), (25, 1), (39, 1), (61, 1), (196, 1), (199, 1), (696, 1), (1555, 1)], [(13, 2), (14, 1), (17, 1), (61, 1), (84, 1), (162, 1), (576, 1), (650, 1), (1088, 1), (1488, 1), (1950, 1), (1951, 1), (1953, 1)], [(12, 1), (14, 1), (49, 1), (105, 1), (229, 1), (2765, 1)], [(6, 1), (12, 2), (14, 1), (24, 1), (39, 1), (47, 1), (1212, 1), (1836, 1), (2994, 1), (2995, 1)], [(12, 1), (14, 1), (39, 1), (49, 1), (60, 2), (231, 1), (839, 1), (2526, 1), (2924, 1)], [(0, 1), (6, 1), (14, 1), (61, 2), (84, 1), (105, 1), (489, 1), (813, 1), (1163, 1), (1556, 1), (2208, 1), (2996, 2), (2997, 1)], [(0, 2), (6, 1), (12, 1), (47, 1), (61, 1), (69, 2), (76, 1), (171, 1), (472, 1), (601, 1), (832, 1), (1356, 1), (1921, 1), (2062, 1), (2209, 1), (2394, 1), (2998, 1), (2999, 1), (3000, 1), (3001, 1), (3002, 1), (3003, 1)], [(21, 1), (31, 1), (60, 1), (61, 1), (85, 1), (184, 1), (267, 1), (583, 1), (789, 1), (1495, 1), (1524, 1), (2802, 1), (3004, 1)], [(3, 2), (12, 1), (39, 1), (60, 1), (154, 1), (161, 2), (227, 1), (258, 1), (705, 1), (1549, 1), (2876, 1)], [(6, 1), (12, 2), (14, 1), (16, 1), (49, 1), (105, 1), (1122, 1), (1281, 1), (1351, 1), (3005, 1), (3006, 1), (3007, 1)], [(3, 1), (32, 1), (47, 1), (99, 1), (116, 1), (161, 1), (201, 1), (634, 1), (2133, 1), (3008, 1), (3009, 1)], [(3, 2), (6, 2), (9, 1), (12, 1), (16, 1), (19, 1), (39, 1), (60, 1), (61, 1), (83, 1), (85, 1), (154, 1), (161, 2), (201, 1), (860, 1), (945, 1), (1111, 1), (1475, 1), (2365, 1), (3010, 1)], [(19, 1), (25, 1), (44, 1), (96, 1), (161, 1), (162, 1), (673, 1), (760, 1), (1738, 1), (3005, 1), (3011, 1), (3012, 1)], [(14, 1), (45, 1), (84, 1), (105, 1), (985, 1), (1066, 1)], [(14, 1), (21, 1), (80, 1), (533, 1), (1100, 1), (1110, 1)], [(14, 1), (517, 1), (989, 1), (3013, 1)], [(0, 1), (13, 1), (14, 1), (39, 1), (86, 1), (130, 1), (1143, 1), (2765, 1)], [(0, 1), (3, 1), (12, 1), (14, 1), (31, 1), (69, 1), (84, 1), (263, 1), (361, 1), (397, 1), (1907, 1), (2420, 1), (2421, 1), (2422, 1), (3014, 1)], [(25, 1), (32, 1), (61, 1), (161, 1), (1211, 1), (1213, 1), (1358, 1), (2948, 1)], [(3, 1), (259, 1), (1092, 1), (2142, 1), (3015, 1), (3016, 1)], [(3, 1), (16, 1), (25, 1), (39, 1), (149, 1), (161, 1), (992, 1)], [(25, 1), (32, 1), (61, 1), (149, 1), (161, 1), (269, 1), (696, 1), (743, 1), (1293, 1)], [(0, 1), (12, 1), (14, 1), (39, 1), (47, 1), (1271, 1), (1272, 1), (3017, 1), (3018, 1), (3019, 1), (3020, 1)], [(3, 1), (32, 1), (83, 1), (96, 1), (202, 1), (403, 1), (650, 1), (760, 1), (774, 1), (1619, 1), (3021, 1)], [(0, 1), (10, 1), (12, 1), (14, 2), (39, 2), (410, 1), (411, 1), (564, 1), (3022, 1), (3023, 1), (3024, 1)], [(3, 1), (39, 1), (60, 1), (154, 1), (161, 1), (356, 1), (650, 1), (762, 1), (1602, 1), (1608, 1)], [(31, 1), (61, 1), (83, 1), (227, 1), (481, 1), (3025, 1), (3026, 1)], [(3, 1), (13, 1), (161, 1), (1202, 1), (1981, 1), (3027, 1)], [(14, 1), (30, 1), (60, 1), (61, 1), (141, 1), (162, 1), (202, 1), (789, 1), (1178, 1), (3028, 1), (3029, 1)], [(14, 1), (17, 1), (61, 1), (105, 1), (1122, 1), (1123, 1), (1124, 1), (1125, 1), (1126, 1), (1127, 1), (1671, 1), (2025, 1), (3030, 1)], [(14, 1), (227, 1), (599, 1), (1424, 1), (3031, 1)], [(3, 1), (14, 1), (32, 1), (161, 1), (201, 1), (893, 1), (949, 1), (2656, 1)], [(14, 1), (39, 1), (60, 1), (363, 1), (905, 1), (1293, 1), (2106, 1), (3032, 1)], [(3, 1), (4, 1), (32, 1), (161, 1), (3033, 1)], [(6, 1), (14, 1), (16, 1), (17, 1), (61, 1), (84, 1), (105, 1), (355, 1), (1350, 1), (1448, 1), (1484, 1), (2118, 2), (3034, 1), (3035, 1)], [(3, 1), (6, 1), (12, 2), (39, 1), (47, 1), (60, 1), (224, 1), (227, 1), (443, 1), (1020, 1), (1484, 1), (2234, 1), (2567, 1), (3036, 1)], [(12, 1), (14, 2), (16, 1), (39, 1), (49, 1), (60, 1), (149, 1), (151, 1), (201, 1), (287, 1), (575, 1), (1604, 1), (3037, 1), (3038, 1)], [(3, 1), (39, 1), (47, 1), (60, 1), (83, 1), (116, 1), (149, 1), (152, 1), (726, 1), (802, 1), (932, 1), (2256, 1), (3039, 1), (3040, 1)], [(19, 1), (154, 1), (185, 1), (392, 1), (856, 1), (3041, 1)], [(10, 1), (14, 1), (39, 1), (62, 1), (317, 1), (1477, 1)], [(0, 1), (14, 1), (154, 1), (1562, 1), (3042, 1), (3043, 1), (3044, 1)], [(0, 1), (14, 1), (39, 1), (568, 1), (3045, 1), (3046, 1)], [(3, 1), (12, 1), (14, 1), (31, 2), (39, 1), (60, 1), (81, 1), (227, 1), (656, 1), (747, 1), (862, 1)], [(0, 1), (7, 1), (14, 1), (16, 1), (24, 1), (32, 2), (34, 2), (47, 1), (168, 1), (259, 1), (635, 1), (2013, 1), (2340, 1), (3047, 2), (3048, 1), (3049, 1)], [(24, 1), (61, 1), (77, 1), (149, 1), (161, 1), (198, 1), (216, 1), (226, 1), (1092, 1), (1289, 1), (3050, 1), (3051, 1)], [(0, 1), (10, 1), (14, 1), (17, 1), (39, 1), (80, 1), (262, 1), (287, 1), (1102, 1), (1356, 1), (3052, 1), (3053, 1), (3054, 1), (3055, 1)], [(3, 1), (31, 2), (60, 1), (77, 2), (83, 1), (329, 1), (1080, 1), (1600, 1)], [(0, 1), (6, 1), (9, 1), (12, 1), (14, 1), (25, 1), (44, 1), (61, 1), (69, 1), (80, 1), (161, 2), (164, 1), (201, 2), (259, 2), (439, 1), (519, 1), (860, 1), (973, 2), (1178, 1), (1410, 1), (1484, 1), (1495, 1), (2505, 1), (2969, 1)], [(6, 1), (12, 1), (14, 1), (39, 1), (47, 1), (148, 1), (751, 1), (3056, 1)], [(6, 1), (19, 1), (32, 1), (37, 1), (60, 1), (76, 1), (158, 1), (373, 1), (2291, 1), (3057, 1)], [(13, 1), (14, 1), (856, 1), (1259, 1), (2352, 1), (3058, 1), (3059, 1), (3060, 1)], [(6, 1), (12, 1), (32, 1), (47, 1), (62, 1), (86, 1), (484, 1), (1309, 1), (1811, 1), (3061, 1)], [(6, 1), (77, 1), (1215, 1), (1722, 1), (3062, 1)], [(6, 1), (12, 1), (14, 1), (19, 1), (35, 1), (105, 1), (277, 1), (398, 1), (1025, 1), (1145, 1)], [(14, 1), (61, 1), (76, 1), (77, 1), (157, 1), (184, 1), (259, 1), (448, 1), (498, 1), (1083, 1), (1516, 2), (3063, 1)], [(6, 1), (12, 1), (14, 1), (16, 2), (17, 1), (39, 1), (60, 2), (61, 1), (158, 1), (290, 1), (394, 1), (460, 1), (1049, 1), (1050, 1), (1052, 1), (1053, 1), (1054, 1), (1055, 1), (1056, 1), (3064, 1)], [(14, 1), (39, 1), (3065, 1)], [(0, 1), (25, 1), (32, 1), (96, 1), (156, 1), (161, 1), (164, 1), (201, 1)], [(12, 1), (16, 1), (49, 1), (340, 1), (794, 1), (3066, 1)], [(12, 1), (14, 1), (27, 1), (69, 1), (708, 1), (1393, 1), (3067, 1), (3068, 1)], [(14, 1), (39, 1), (62, 1), (234, 1), (1388, 1)], [(12, 1), (14, 1), (39, 1), (60, 1), (202, 1), (1145, 1), (1377, 1), (1378, 1), (2208, 1), (3069, 1)], [(14, 1), (39, 1), (435, 1), (3070, 1)], [(10, 1), (12, 1), (14, 1), (39, 1), (47, 1), (228, 1), (318, 1), (1263, 1)], [(12, 1), (14, 1), (16, 1), (39, 1), (49, 1), (986, 1), (1062, 1), (3071, 1)], [(3, 1), (39, 1), (142, 1), (304, 1), (896, 1), (993, 1), (1286, 1), (1388, 1), (1726, 1), (3072, 1), (3073, 1)], [(19, 1), (25, 1), (32, 1), (44, 1), (60, 1), (96, 1), (161, 1), (688, 1), (2893, 1)], [(12, 1), (14, 1), (39, 1), (47, 1), (909, 2)], [(14, 1), (16, 1), (86, 1), (1202, 1), (1547, 1), (2408, 1), (2506, 1), (3074, 1)], [(12, 1), (25, 1), (31, 1), (164, 1), (165, 1), (247, 1), (520, 1), (599, 1), (1690, 1), (3075, 1)], [(3, 1), (12, 1), (14, 1), (39, 1), (69, 1), (168, 1), (184, 1), (930, 1), (1189, 1), (2215, 2)], [(0, 1), (10, 1), (14, 1), (39, 1), (47, 1), (62, 1), (228, 1), (317, 1), (318, 1), (1950, 1), (2598, 1), (3076, 1), (3077, 1)], [(3, 1), (6, 1), (16, 1), (31, 1), (61, 2), (76, 1), (128, 1), (135, 1), (832, 1), (1287, 1), (2949, 1), (3078, 1)], [(0, 1), (12, 1), (14, 1), (39, 1), (410, 1), (411, 1), (1556, 1), (2369, 1)], [(14, 1), (17, 1), (60, 1), (69, 1), (3079, 1)], [(6, 3), (12, 1), (14, 2), (16, 1), (39, 1), (53, 1), (61, 1), (69, 1), (77, 1), (84, 1), (92, 1), (93, 1), (161, 3), (227, 1), (259, 1), (272, 1), (277, 1), (367, 1), (1555, 1), (1690, 1), (2194, 1), (2280, 1), (3080, 1), (3081, 1), (3082, 1), (3083, 1), (3084, 1), (3085, 1), (3086, 1), (3087, 1), (3088, 1)], [(12, 1), (14, 1), (31, 2), (39, 1), (47, 1), (86, 1), (154, 1), (460, 1), (536, 1), (733, 2), (1215, 1), (1532, 1), (2064, 1)], [(0, 1), (3, 2), (17, 1), (61, 1), (143, 1), (227, 1), (450, 1), (497, 1), (1130, 1), (1388, 1), (1548, 1), (2249, 1), (2402, 1), (2450, 1), (2765, 1), (2766, 1)], [(12, 1), (14, 1), (39, 1), (49, 1), (60, 2), (437, 1), (937, 1), (1416, 1), (1932, 1)], [(3, 1), (12, 1), (13, 1), (300, 1), (301, 1), (403, 1), (650, 1), (896, 2), (3089, 2), (3090, 1)], [(14, 1), (16, 1), (49, 1), (105, 1), (116, 1), (601, 1), (675, 1), (1025, 1)], [(3, 1), (18, 1), (39, 1), (47, 1), (85, 1), (184, 1), (227, 1), (2161, 1), (3091, 1), (3092, 1), (3093, 1)], [(6, 1), (14, 1), (17, 1), (25, 1), (44, 1), (161, 3), (227, 1), (356, 1), (363, 1), (717, 1), (957, 1), (1571, 1), (3094, 1), (3095, 1), (3096, 1)], [(12, 1), (14, 1), (31, 1), (47, 1), (83, 1), (128, 1), (290, 1), (794, 1), (3097, 1), (3098, 1)], [(3, 1), (12, 1), (14, 1), (16, 1), (39, 1), (61, 1), (154, 1), (158, 1), (161, 4), (321, 1), (472, 1), (732, 1), (1492, 1), (2620, 1), (2651, 1), (3099, 1), (3100, 1)], [(12, 1), (14, 1), (39, 1), (747, 1), (1189, 1), (1323, 1), (3101, 1)], [(25, 1), (31, 1), (32, 1), (44, 1), (435, 1), (760, 1), (1232, 1)], [(3, 1), (12, 1), (32, 1), (161, 2), (165, 1), (170, 1), (1440, 1)], [(14, 1), (24, 1), (39, 1), (47, 1), (60, 1), (1361, 1), (2618, 1), (2948, 1), (3102, 1), (3103, 1), (3104, 1)], [(0, 1), (32, 1), (154, 1), (161, 1), (201, 1), (262, 1), (1102, 1), (1467, 1), (1498, 1), (2330, 1)], [(3, 2), (6, 1), (22, 1), (39, 1), (47, 1), (60, 2), (61, 1), (227, 2), (1140, 1), (3105, 1), (3106, 1), (3107, 1)], [(31, 1), (201, 1), (226, 1), (1280, 1), (1635, 1), (3108, 1)], [(12, 1), (14, 1), (39, 1), (141, 1), (228, 1), (363, 1), (489, 1), (1738, 1), (2887, 1)], [(3, 1), (16, 1), (24, 1), (39, 1), (61, 1), (69, 1), (267, 1), (304, 1), (460, 1), (535, 1), (541, 1), (650, 1), (762, 1), (844, 1), (1254, 1)], [(3, 1), (7, 1), (10, 1), (13, 1), (24, 1), (460, 1), (1592, 1), (2055, 1), (3109, 1)], [(3, 1), (12, 1), (32, 1), (65, 1), (161, 1), (2886, 1), (3110, 1)], [(0, 1), (12, 1), (14, 1), (39, 1), (410, 1), (411, 1), (1096, 1), (2998, 3), (3111, 1), (3112, 1)], [(12, 1), (14, 1), (29, 1), (39, 1), (49, 1), (3113, 1), (3114, 1)], [(10, 1), (12, 1), (14, 1), (47, 1), (128, 1), (228, 1), (1905, 1), (2063, 1)], [(14, 1), (76, 1), (1183, 1), (3115, 1)], [(12, 1), (14, 1), (39, 1), (47, 1), (152, 1), (1388, 1), (3116, 1)], [(14, 1), (39, 1), (3117, 1), (3118, 1)], [(0, 1), (6, 1), (16, 1), (25, 1), (77, 2), (161, 1), (259, 1), (651, 1), (1110, 1), (1281, 1), (1477, 1), (1590, 1), (1746, 1), (3119, 1), (3120, 1), (3121, 1)], [(3, 1), (7, 1), (13, 1), (27, 1), (60, 1), (303, 1), (448, 1), (593, 1), (741, 1), (815, 1), (949, 1), (3122, 1), (3123, 1)], [(0, 1), (12, 2), (14, 2), (16, 1), (25, 1), (32, 1), (39, 1), (47, 1), (69, 1), (112, 1), (161, 1), (201, 1), (226, 1), (227, 1), (246, 1), (341, 1), (364, 1), (571, 1), (935, 1), (1388, 1), (1811, 1), (2370, 1), (3124, 1), (3125, 1)], [(3, 1), (6, 1), (10, 2), (16, 2), (26, 1), (27, 1), (32, 1), (60, 1), (69, 2), (148, 1), (161, 1), (201, 1), (250, 1), (376, 2), (460, 1), (815, 2), (884, 1), (1492, 1), (2058, 1), (2724, 1), (2886, 1)], [(0, 1), (14, 2), (60, 1), (61, 3), (69, 2), (104, 1), (112, 1), (227, 1), (324, 1), (519, 2), (610, 1), (674, 1), (981, 1), (1084, 1), (1178, 1), (1633, 1), (2400, 1), (3126, 1), (3127, 1), (3128, 1)], [(6, 1), (12, 1), (39, 1), (341, 1), (353, 1), (3129, 1)], [(6, 1), (10, 1), (14, 1), (39, 1), (47, 1), (564, 1), (2202, 1), (3130, 1), (3131, 1)], [(6, 1), (12, 2), (21, 1), (47, 1), (76, 1), (196, 1), (540, 1), (583, 1), (2329, 1), (3132, 1), (3133, 1), (3134, 1), (3135, 1)], [(12, 1), (14, 1), (15, 1), (22, 1), (39, 1), (76, 1), (80, 1), (959, 1), (1140, 1), (2341, 1), (2342, 1), (3136, 1)], [(3, 1), (16, 1), (18, 1), (32, 1), (161, 1), (184, 1), (227, 1), (263, 1), (949, 1), (2663, 1)], [(6, 1), (12, 1), (14, 2), (69, 1), (76, 1), (184, 1), (441, 1), (460, 1), (576, 1), (1477, 1), (1719, 1), (1836, 1), (2754, 1), (3094, 1), (3119, 1), (3137, 1), (3138, 1)], [(3, 1), (6, 1), (16, 1), (25, 1), (301, 1), (3139, 1), (3140, 1), (3141, 1), (3142, 1), (3143, 1)], [(12, 1), (14, 1), (31, 1), (60, 1), (61, 1), (76, 1), (105, 1), (287, 1), (517, 1), (534, 1), (1072, 1), (1280, 1), (2241, 1)], [(6, 1), (12, 1), (14, 1), (39, 1), (60, 1), (515, 1), (1484, 1), (2105, 1), (2234, 1), (3144, 1)], [(3, 1), (31, 1), (32, 1), (416, 1), (3145, 1), (3146, 1)], [(61, 1), (105, 1), (148, 1), (227, 1), (301, 1), (493, 1), (643, 1), (675, 1), (884, 1), (1084, 1), (1176, 1), (1178, 1), (2179, 1), (3147, 1), (3148, 1), (3149, 1)], [(14, 2), (60, 2), (69, 1), (122, 1), (632, 1), (992, 1), (2427, 1), (3150, 1)], [(14, 1), (31, 1), (39, 1), (60, 1), (69, 1), (81, 1), (85, 1), (184, 1), (224, 1), (226, 1), (535, 1), (1287, 1), (1526, 1)], [(14, 1), (39, 1), (47, 1), (86, 1), (1204, 1), (1206, 1), (1254, 1), (3151, 1)], [(676, 1), (1406, 1), (1762, 1), (3152, 1)], [(13, 1), (14, 1), (20, 1), (750, 1), (3153, 1), (3154, 1)], [(19, 1), (25, 1), (60, 1), (161, 1), (1049, 1), (1361, 1), (3155, 1), (3156, 1)], [(12, 1), (44, 1), (86, 1), (130, 1), (340, 1), (828, 1), (3157, 1), (3158, 1), (3159, 1)], [(117, 1), (485, 1), (1722, 1), (3160, 1), (3161, 1), (3162, 1)], [(6, 1), (12, 1), (16, 1), (25, 1), (27, 2), (32, 1), (57, 1), (61, 1), (77, 1), (161, 1), (306, 1), (489, 1), (1677, 1), (1947, 1), (2106, 1), (2335, 1), (3163, 1)], [(14, 1), (32, 1), (61, 1), (97, 1), (154, 1), (161, 3), (227, 1), (229, 1), (472, 1), (747, 1), (994, 1), (1532, 1), (1570, 1), (3164, 1)], [(0, 1), (14, 1), (39, 1), (79, 1), (491, 1), (1099, 1), (1465, 1), (1994, 1), (3165, 1), (3166, 1), (3167, 1)], [(6, 1), (25, 1), (32, 1), (91, 1), (98, 1), (161, 1), (201, 1), (1434, 1), (2443, 1), (3168, 1), (3169, 1)], [(14, 1), (47, 1), (481, 1), (1336, 1), (2256, 1), (3170, 1)], [(3, 1), (39, 1), (69, 2), (304, 1), (460, 1), (535, 1), (725, 1), (3171, 1)], [(3, 1), (13, 1), (227, 1), (301, 1), (439, 1), (607, 1), (1806, 1)], [(16, 1), (25, 1), (32, 1), (47, 1), (61, 1), (77, 1), (184, 1), (224, 1), (702, 1), (981, 1), (1254, 1), (1433, 1), (3172, 1), (3173, 1), (3174, 1), (3175, 1), (3176, 1)], [(12, 1), (14, 1), (16, 1), (39, 1), (49, 1), (756, 1), (3177, 1)], [(12, 1), (14, 1), (39, 1), (47, 1), (3178, 1), (3179, 1), (3180, 1), (3181, 1)], [(12, 1), (14, 1), (24, 1), (39, 1), (49, 1), (60, 1), (112, 1), (202, 1), (1204, 1), (2890, 1)], [(13, 1), (14, 1), (27, 1), (60, 1), (161, 1), (165, 1), (534, 1), (2084, 1), (2724, 1)], [(3, 1), (13, 1), (20, 1), (373, 1), (3182, 1), (3183, 1)], [(10, 1), (14, 1), (16, 1), (39, 1), (84, 1), (394, 1), (3184, 1), (3185, 1), (3186, 1)], [(33, 1), (39, 1), (112, 1), (632, 1), (3187, 1), (3188, 1)], [(128, 1), (2537, 1), (2771, 1), (3189, 1)], [(3, 1), (32, 1), (161, 1), (201, 1), (1211, 1), (3161, 1), (3190, 1), (3191, 1)], [(3, 1), (6, 1), (25, 1), (39, 1), (60, 1), (61, 1), (149, 1), (1102, 1), (2852, 1), (3192, 1), (3193, 1)], [(14, 2), (60, 1), (61, 1), (80, 1), (141, 1), (150, 1), (151, 1), (161, 2), (227, 1), (257, 1), (482, 1), (489, 1), (551, 1), (1495, 1), (3194, 1), (3195, 1), (3196, 1), (3197, 1), (3198, 1)], [(14, 2), (47, 1), (60, 1), (80, 1), (84, 1), (228, 1), (337, 1), (367, 1), (376, 1), (448, 1), (460, 1), (547, 1), (636, 1), (726, 1), (3199, 1), (3200, 1), (3201, 1), (3202, 1)], [(7, 1), (14, 1), (31, 1), (39, 1), (62, 1), (81, 1), (228, 1), (258, 1), (1492, 1), (2548, 1)], [(6, 1), (12, 2), (14, 1), (25, 1), (28, 1), (32, 1), (47, 1), (1131, 1), (1503, 1), (1628, 1), (3203, 1), (3204, 1)], [(12, 1), (39, 1), (172, 1), (226, 1), (404, 2), (529, 1), (874, 1), (1562, 2), (3205, 1), (3206, 1), (3207, 1)], [(0, 1), (27, 1), (60, 2), (61, 2), (89, 1), (135, 1), (143, 1), (161, 2), (163, 1), (227, 1), (258, 1), (263, 1), (360, 1), (731, 1), (732, 1), (855, 1), (860, 1), (1388, 1), (1442, 1), (1448, 1), (1495, 1), (3208, 1), (3209, 1)], [(0, 1), (10, 1), (12, 1), (14, 1), (39, 1), (47, 1), (60, 1), (61, 1), (202, 1), (228, 1), (318, 1), (919, 1), (3210, 1), (3211, 1), (3212, 1), (3213, 1), (3214, 1), (3215, 1), (3216, 1), (3217, 1)], [(3, 1), (6, 1), (32, 1), (47, 1), (86, 1), (472, 1), (851, 1), (896, 1), (3218, 1), (3219, 1)], [(3, 1), (13, 1), (17, 1), (44, 1), (61, 2), (227, 1), (345, 1), (650, 1), (1336, 1), (1337, 1), (2567, 1), (3220, 1), (3221, 1)], [(12, 1), (16, 1), (49, 1), (340, 1), (519, 1), (1224, 1), (3222, 1), (3223, 1)], [(3, 1), (13, 1), (84, 1), (161, 1), (196, 1), (259, 1), (497, 1), (604, 1), (2911, 1), (3224, 1), (3225, 1)], [(0, 1), (6, 1), (25, 1), (47, 1), (61, 1), (161, 1), (164, 1), (247, 1), (1737, 1), (3226, 1), (3227, 1), (3228, 1), (3229, 1), (3230, 1), (3231, 1)], [(25, 1), (32, 1), (143, 1), (161, 1), (540, 1), (585, 1), (590, 1), (995, 1)], [(0, 1), (6, 1), (53, 1), (60, 1), (105, 1), (143, 1), (436, 1), (489, 1), (1542, 1), (1543, 1), (1571, 1), (3232, 1), (3233, 1), (3234, 1)], [(3, 1), (39, 1), (304, 1), (3235, 1)], [(0, 1), (13, 1), (14, 1), (31, 1), (39, 1), (85, 1), (184, 1), (227, 1), (448, 1), (656, 1), (3123, 1)], [(0, 1), (7, 1), (13, 1), (14, 1), (25, 1), (27, 2), (32, 1), (61, 1), (69, 1), (76, 1), (170, 1), (225, 2), (234, 1), (259, 1), (361, 1), (448, 1), (452, 1), (460, 1), (635, 1), (697, 1), (840, 1), (1441, 1), (2215, 1), (2627, 1)], [(6, 1), (14, 1), (37, 1), (39, 1), (105, 1), (520, 1), (751, 1), (1332, 1), (3236, 1), (3237, 1)], [(6, 1), (7, 1), (14, 1), (60, 1), (69, 1), (931, 1), (981, 1), (1476, 1), (3238, 1)], [(6, 2), (12, 2), (25, 1), (44, 1), (77, 1), (161, 1), (259, 2), (279, 1), (594, 1), (845, 1), (860, 1), (1164, 1), (1350, 1), (1484, 1), (3048, 1), (3094, 1), (3239, 1), (3240, 1), (3241, 1), (3242, 1), (3243, 1), (3244, 1)], [(10, 1), (14, 1), (39, 1), (60, 1), (535, 1), (725, 1), (860, 1), (1038, 1), (2408, 1), (3245, 1)], [(3, 2), (12, 1), (84, 1), (86, 1), (227, 1), (257, 1), (448, 1), (578, 1), (2082, 1), (2267, 1), (3246, 1), (3247, 1)], [(3, 1), (26, 1), (29, 1), (32, 1), (128, 1), (161, 1), (201, 1), (949, 1)], [(3, 1), (17, 1), (32, 1), (143, 1), (161, 1), (259, 1), (1738, 1)], [(12, 1), (14, 1), (76, 1), (386, 1), (460, 1), (798, 1), (2135, 1)], [(14, 1), (16, 1), (17, 1), (31, 1), (3248, 1)], [(3, 1), (32, 1), (44, 1), (161, 1), (225, 1), (1739, 1), (3249, 1)], [(12, 2), (14, 1), (39, 1), (47, 1), (60, 1), (69, 1), (83, 1), (117, 1), (143, 1), (274, 1), (309, 1), (1025, 1), (1191, 1), (1992, 1), (2232, 1), (3250, 1)], [(6, 1), (12, 2), (14, 1), (27, 1), (39, 1), (172, 1), (1008, 1), (1010, 1), (1011, 1), (1012, 1), (1013, 1), (1014, 1), (3251, 1)], [(3, 1), (31, 1), (32, 1), (259, 1), (683, 1), (3252, 1), (3253, 1), (3254, 1)], [(6, 1), (12, 2), (13, 1), (14, 1), (49, 1), (123, 1), (654, 1), (887, 1), (1622, 1), (2090, 1), (2443, 1), (2454, 1), (3255, 1), (3256, 1)], [(3, 1), (32, 1), (1988, 1), (3257, 1)], [(0, 1), (12, 3), (14, 1), (16, 1), (61, 1), (80, 1), (361, 1), (392, 1), (1377, 1), (2516, 1), (2831, 1), (3258, 1), (3259, 1), (3260, 1)], [(6, 1), (12, 2), (14, 1), (16, 1), (49, 1), (105, 1), (709, 1), (711, 1), (3261, 1), (3262, 1)], [(12, 1), (27, 1), (69, 1), (161, 1), (175, 1), (201, 1), (279, 1), (357, 1), (460, 1), (634, 1), (1118, 1), (1492, 1), (3009, 1), (3263, 1), (3264, 1), (3265, 1), (3266, 1)], [(14, 1), (17, 1), (24, 1), (61, 1), (650, 1), (964, 1), (1443, 1), (1444, 2), (2972, 2)], [(0, 1), (20, 2), (25, 2), (27, 1), (32, 1), (39, 1), (44, 1), (47, 1), (77, 1), (80, 1), (84, 1), (151, 1), (154, 1), (161, 3), (259, 1), (1217, 1), (1633, 1), (1740, 1), (2083, 1), (2218, 1), (2903, 1), (3267, 1), (3268, 1)], [(32, 1), (61, 1), (76, 1), (161, 1), (575, 1), (684, 1), (2560, 1)], [(61, 1), (340, 1), (3269, 1)], [(13, 1), (632, 1), (1592, 1), (2008, 1)], [(0, 1), (3, 1), (32, 1), (161, 1), (259, 1), (1075, 1), (3270, 1)], [(32, 1), (980, 1), (2515, 1)], [(32, 1), (34, 1), (158, 1), (227, 1), (259, 1), (418, 1), (3271, 1), (3272, 1), (3273, 1), (3274, 1)], [(0, 1), (13, 1), (19, 1), (185, 1), (256, 1), (744, 1), (2077, 1), (3275, 1)], [(3, 1), (39, 1), (47, 1), (60, 1), (69, 1), (76, 1), (77, 1), (84, 2), (135, 1), (416, 1), (601, 2), (1336, 1), (1690, 1), (2040, 1), (2808, 1), (3192, 1), (3220, 1), (3276, 1), (3277, 1), (3278, 1), (3279, 1)], [(3, 1), (17, 1), (32, 1), (161, 1), (184, 1), (860, 1), (949, 1)], [(12, 2), (14, 1), (39, 1), (47, 1), (49, 1), (167, 1), (171, 1), (370, 1), (1081, 1), (1204, 1), (2049, 1), (3280, 1)], [(3, 1), (7, 1), (10, 1), (12, 1), (13, 1), (14, 1), (80, 1), (309, 1), (512, 1), (1301, 1)], [(14, 2), (654, 1), (708, 1), (798, 1), (1363, 1), (1691, 1), (3281, 1)], [(6, 1), (25, 1), (32, 1), (112, 1), (161, 1), (201, 1), (495, 1), (617, 1)], [(12, 1), (14, 1), (39, 1), (47, 1), (464, 1), (2491, 1), (3282, 1)], [(12, 1), (14, 1), (16, 1), (39, 1), (49, 1), (62, 1), (287, 1), (1291, 1), (2106, 1), (2425, 1), (3283, 1), (3284, 1), (3285, 1)], [(6, 1), (25, 1), (61, 1), (148, 1), (161, 1), (518, 1), (519, 1), (610, 1), (1084, 1), (2400, 1)], [(3, 1), (6, 2), (13, 1), (19, 1), (61, 1), (69, 1), (83, 1), (196, 1), (277, 1), (789, 1), (884, 1), (2739, 1), (2750, 1), (3286, 1), (3287, 1), (3288, 1)], [(13, 1), (24, 1), (77, 1), (80, 1), (154, 1), (161, 2), (201, 1), (227, 1), (279, 1), (572, 1), (733, 1), (957, 1), (1351, 1), (1532, 1), (1831, 1)], [(14, 1), (17, 1), (61, 1), (105, 1), (1122, 1), (1123, 1), (1124, 1), (1125, 1), (1126, 1), (1127, 1), (1671, 1), (3289, 1)], [(6, 1), (16, 1), (25, 1), (32, 1), (49, 1), (161, 1), (247, 1), (491, 1), (702, 1), (851, 1), (3015, 1), (3290, 1)], [(3, 1), (158, 1), (1214, 1)], [(3, 1), (12, 1), (13, 1), (14, 1), (61, 1), (161, 1), (234, 1), (306, 1), (460, 1), (535, 1), (556, 1), (697, 1), (1492, 1), (3291, 1), (3292, 1), (3293, 1), (3294, 1), (3295, 2), (3296, 1)], [(76, 1), (77, 1), (279, 1), (355, 1), (934, 2), (935, 1), (1139, 1), (3297, 2)], [(14, 1), (128, 1), (3298, 1), (3299, 1)], [(6, 1), (17, 1), (25, 1), (32, 1), (44, 1), (61, 1), (77, 1), (83, 1), (116, 1), (161, 1), (171, 1), (196, 1), (259, 1), (303, 1), (390, 1), (697, 1), (992, 1), (1236, 1), (1237, 1), (1480, 1), (1542, 1), (3140, 1), (3155, 1), (3300, 1)], [(12, 1), (14, 1), (39, 1), (49, 1), (60, 1), (187, 1), (828, 1), (937, 1), (1296, 1)], [(12, 1), (14, 1), (27, 1), (39, 1), (128, 1), (878, 1), (919, 1), (2216, 1), (3301, 1), (3302, 1)], [(0, 1), (6, 1), (14, 1), (17, 1), (39, 1), (61, 1), (657, 1), (954, 1), (1194, 1), (1195, 1), (1197, 1), (1669, 1), (2606, 1), (3303, 1)], [(14, 2), (39, 1), (60, 1), (61, 1), (64, 1), (69, 1), (83, 1), (143, 1), (1111, 1), (3304, 1)], [(6, 1), (12, 1), (14, 1), (31, 1), (39, 1), (45, 1), (86, 1), (228, 1), (481, 1), (1965, 1), (3305, 1), (3306, 1)], [(3, 1), (33, 1), (61, 1), (360, 1), (547, 1), (3307, 1), (3308, 1)], [(0, 1), (6, 1), (13, 1), (14, 1), (39, 1), (86, 1), (130, 1), (3309, 1), (3310, 1), (3311, 1)], [(14, 1), (16, 1), (18, 1), (21, 1), (27, 1), (85, 1), (148, 1), (184, 1), (225, 1), (259, 1), (583, 1), (1524, 1), (1674, 1), (3312, 1), (3313, 1)], [(14, 1), (985, 1), (2890, 1)], [(3, 1), (7, 1), (12, 2), (13, 1), (14, 1), (27, 2), (47, 1), (141, 1), (170, 1), (225, 1), (228, 1), (363, 1), (441, 1), (574, 1), (697, 1), (876, 1), (1441, 1), (2425, 1), (2794, 1)], [(12, 1), (39, 1), (47, 1), (76, 1), (77, 1), (79, 1), (301, 1), (460, 1), (493, 1), (675, 1), (802, 2), (1118, 1), (2505, 1), (3190, 1), (3314, 1), (3315, 1), (3316, 2), (3317, 1), (3318, 2), (3319, 2)], [(12, 1), (14, 1), (39, 1), (47, 1), (2327, 1), (3320, 1), (3321, 1)], [(14, 1), (39, 1), (170, 1), (2106, 1), (3322, 1)], [(14, 1), (16, 1), (306, 1), (1691, 1), (2389, 1), (3323, 1), (3324, 1), (3325, 1)], [(0, 1), (12, 1), (14, 1), (27, 1), (39, 1), (47, 1), (60, 1), (61, 1), (184, 1), (1129, 1), (1225, 1), (1921, 1), (3326, 1), (3327, 1), (3328, 1), (3329, 1), (3330, 1)], [(12, 1), (14, 1), (39, 1), (47, 1), (158, 1), (343, 1), (1110, 1), (3008, 1)], [(12, 1), (14, 1), (128, 1), (343, 1), (587, 1), (827, 1), (1255, 1)], [(16, 1), (32, 1), (61, 1), (161, 1), (226, 1), (259, 1), (270, 1), (271, 1), (503, 1), (696, 1), (3331, 1)], [(14, 1), (128, 1), (3332, 1), (3333, 1), (3334, 1)], [(12, 1), (14, 1), (39, 1), (1333, 1), (1335, 1), (2327, 1)], [(12, 1), (14, 1), (37, 1), (39, 1), (49, 1), (60, 1), (154, 1), (161, 1), (201, 1), (262, 1), (1102, 1), (2145, 1)], [(0, 1), (3, 1), (7, 1), (39, 1), (80, 1), (128, 1), (258, 1), (446, 1), (908, 1), (1214, 1), (1421, 1), (1495, 1), (3335, 1)], [(12, 1), (14, 1), (17, 1), (39, 1), (47, 1), (61, 1), (149, 1), (153, 1), (2637, 1)], [(25, 1), (32, 1), (161, 1), (172, 1), (373, 1), (760, 1), (2133, 1), (3336, 1), (3337, 1)], [(25, 1), (61, 1), (161, 1), (292, 1), (717, 1), (1636, 1)], [(0, 1), (6, 1), (14, 1), (16, 1), (39, 1), (97, 1), (1579, 1), (1742, 1), (1960, 1), (3338, 1), (3339, 1)], [(10, 1), (14, 1), (39, 1), (83, 1), (152, 1), (1738, 1), (3340, 1)], [(10, 1), (14, 1), (39, 1), (314, 1), (674, 1), (908, 1), (1084, 1)], [(3, 1), (6, 1), (14, 1), (16, 1), (31, 1), (39, 1), (141, 1), (300, 1), (635, 1), (3341, 1), (3342, 1)], [(25, 1), (32, 1), (44, 1), (161, 1), (346, 1), (841, 2), (1639, 1), (3343, 1)], [(13, 1), (14, 1), (485, 1), (706, 1), (2069, 1)], [(0, 1), (12, 1), (25, 1), (201, 1), (262, 1), (725, 1), (1597, 1), (1629, 1), (3344, 1)], [(14, 1), (60, 1), (69, 1), (201, 1), (277, 1), (460, 1), (1385, 1), (2159, 1), (3345, 1)], [(3, 1), (12, 1), (60, 1), (93, 1), (1100, 1), (2800, 1), (3346, 1)], [(14, 1), (47, 1), (61, 2), (84, 1), (182, 1), (1020, 1), (3347, 1), (3348, 1)], [(14, 1), (39, 1), (3349, 1)], [(14, 1), (31, 2), (39, 1), (84, 1), (86, 1), (168, 1), (259, 1), (460, 1), (536, 1), (635, 1), (1563, 1), (2680, 1), (2896, 1), (3047, 1), (3049, 1), (3350, 1)], [(3, 1), (143, 1), (505, 1), (905, 1), (1831, 1), (3351, 1), (3352, 1), (3353, 1)], [(14, 1), (39, 1), (3354, 1)], [(14, 1), (19, 1), (39, 1), (47, 2), (1331, 1), (3355, 1), (3356, 1)], [(3, 1), (12, 1), (15, 1), (21, 1), (22, 1), (31, 1), (60, 1), (135, 1), (304, 1), (337, 1), (583, 1), (621, 1), (2122, 1)], [(14, 1), (16, 1), (39, 1), (86, 1), (3357, 1), (3358, 1), (3359, 1), (3360, 1)], [(0, 1), (6, 1), (12, 1), (14, 1), (25, 1), (32, 1), (39, 1), (61, 1), (161, 1), (1393, 1), (2755, 1), (3216, 1), (3361, 1), (3362, 1), (3363, 1)], [(3, 1), (31, 1), (32, 1), (112, 1), (3364, 1)], [(3, 1), (12, 1), (14, 1), (16, 2), (39, 1), (47, 1), (60, 1), (61, 1), (69, 1), (227, 1), (245, 1), (301, 1), (425, 1), (507, 1), (2515, 1), (3365, 1)], [(12, 1), (14, 1), (27, 1), (39, 1), (171, 1), (489, 1), (1268, 1), (1277, 1)], [(6, 1), (14, 1), (17, 1), (39, 1), (47, 1), (84, 1), (85, 1), (439, 1), (880, 1), (1954, 1), (2327, 2), (2349, 1), (2454, 2), (3366, 2)], [(13, 1), (151, 1), (154, 1), (301, 1), (909, 1)], [(14, 1), (39, 1), (60, 1), (202, 1), (1377, 1), (1378, 1)], [(14, 1), (39, 1), (3367, 1), (3368, 1)], [(12, 1), (32, 1), (82, 1), (112, 1), (123, 1), (227, 1), (686, 1), (3369, 1)], [(14, 1), (16, 1), (17, 1), (19, 1), (21, 1), (84, 1), (128, 1), (907, 1)], [(7, 1), (13, 1), (14, 1), (1115, 1)], [(25, 1), (161, 1), (164, 1), (1592, 1), (2535, 1), (3370, 1), (3371, 1)], [(14, 1), (60, 1), (69, 1), (750, 1), (1340, 1), (3372, 1), (3373, 1), (3374, 1)], [(6, 2), (12, 1), (14, 1), (16, 1), (49, 1), (105, 1), (313, 1), (1164, 1), (3375, 1), (3376, 1)], [(0, 1), (12, 1), (14, 1), (39, 1), (410, 1), (411, 1), (3367, 2), (3377, 1), (3378, 1)], [(0, 1), (12, 1), (14, 1), (39, 1), (47, 1), (1271, 1), (1272, 1), (1633, 1), (2356, 1), (2900, 1)], [(6, 1), (12, 1), (14, 1), (49, 1), (60, 1), (105, 1), (839, 1), (1164, 1), (1555, 1), (1556, 1), (1622, 1)], [(32, 1), (85, 1), (1519, 1), (3280, 1), (3379, 1), (3380, 1)], [(3, 1), (7, 1), (32, 1), (148, 1), (3381, 1)], [(0, 1), (6, 1), (25, 1), (26, 1), (32, 1), (161, 1), (1249, 1), (1980, 1), (3382, 1)], [(0, 1), (3, 1), (6, 1), (12, 2), (14, 1), (19, 1), (39, 1), (47, 1), (54, 1), (60, 1), (61, 2), (123, 2), (517, 1), (526, 1), (839, 1), (1271, 1), (1272, 1), (1859, 1), (2511, 1), (3383, 1)], [(12, 1), (14, 2), (69, 1), (123, 1), (628, 1), (650, 1), (813, 1), (1484, 1), (2234, 1), (3013, 1)], [(3, 1), (32, 1), (161, 1), (162, 1), (201, 1), (213, 1), (634, 1)], [(14, 1), (25, 1), (31, 1), (32, 1), (61, 2), (184, 1), (536, 1), (557, 1), (558, 1), (636, 1)], [(3, 1), (32, 1), (44, 1), (161, 1), (201, 2), (571, 1), (3384, 1), (3385, 1), (3386, 1)], [(12, 1), (15, 1), (18, 1), (21, 1), (22, 1), (76, 1), (80, 1), (227, 1), (301, 1), (321, 1), (583, 1), (621, 1), (895, 1), (1273, 1), (1440, 1)], [(13, 1), (14, 1), (533, 1), (1062, 1), (3387, 1)], [(3, 1), (12, 1), (69, 1), (392, 1), (582, 1), (650, 1), (762, 1), (784, 1), (1555, 1), (2218, 1), (2886, 1)], [(6, 1), (14, 1), (16, 1), (47, 1), (60, 1), (1970, 1), (2205, 1), (3388, 1), (3389, 1), (3390, 1), (3391, 1)], [(16, 1), (25, 1), (32, 1), (57, 1), (143, 1), (161, 1), (394, 1), (3392, 1)], [(0, 1), (3, 1), (32, 1), (919, 1), (2450, 1), (3393, 1), (3394, 1)], [(12, 1), (14, 2), (16, 1), (32, 1), (39, 1), (1388, 1), (1857, 1), (3395, 1), (3396, 1), (3397, 1)], [(0, 1), (6, 1), (12, 1), (14, 1), (16, 1), (30, 1), (39, 1), (47, 1), (85, 1), (245, 2), (700, 1), (702, 2), (703, 1), (1340, 1), (1820, 1), (1821, 1), (1822, 1), (1823, 1), (3398, 1)], [(13, 1), (31, 1), (60, 2), (86, 1), (227, 1), (576, 1), (705, 1), (847, 1), (2316, 1), (3399, 1)], [(6, 1), (12, 1), (14, 1), (39, 1), (49, 1), (60, 1), (390, 1), (408, 1), (409, 1)], [(10, 1), (12, 1), (14, 1), (39, 1), (62, 1), (422, 1), (756, 1), (824, 1), (3400, 1)], [(6, 1), (13, 1), (14, 1), (20, 1), (386, 1), (1617, 1), (2904, 1), (3286, 1), (3401, 1)], [(3, 1), (14, 1), (16, 1), (32, 1), (39, 1), (69, 1), (117, 1), (148, 1), (261, 1)], [(13, 1), (141, 1), (810, 1), (1568, 1), (3402, 1)], [(12, 1), (14, 1), (49, 1), (60, 1), (105, 1), (232, 1), (234, 1), (1204, 1), (1206, 1)], [(0, 1), (12, 1), (14, 1), (39, 1), (47, 1), (85, 1), (150, 1), (224, 1), (227, 1), (264, 1), (265, 1), (309, 1)], [(13, 1), (14, 1), (61, 1), (654, 1), (925, 1), (3403, 1), (3404, 1), (3405, 1), (3406, 1), (3407, 1), (3408, 1)], [(14, 1), (25, 1), (39, 1), (47, 1), (60, 1), (61, 1), (148, 1), (440, 1), (919, 1), (2432, 1), (2737, 1), (3409, 1)], [(12, 1), (14, 1), (39, 1), (47, 1), (61, 1), (119, 1), (751, 1), (832, 1), (2062, 1)], [(0, 1), (6, 1), (13, 1), (16, 1), (24, 1), (25, 1), (27, 1), (47, 1), (239, 1), (241, 1), (301, 2), (403, 1), (604, 2), (964, 1), (1492, 1), (2774, 1), (3347, 1), (3410, 2), (3411, 1), (3412, 1), (3413, 1), (3414, 1), (3415, 1), (3416, 1), (3417, 1)], [(0, 1), (14, 1), (16, 1), (17, 1), (25, 1), (27, 1), (39, 1), (61, 1), (161, 1), (234, 1), (259, 1), (449, 1), (661, 1), (804, 1), (989, 1), (1435, 1)], [(3, 1), (12, 1), (31, 1), (32, 1), (42, 1), (3418, 1), (3419, 1), (3420, 1)], [(14, 1), (60, 2), (93, 2), (906, 1), (907, 1), (1975, 1)], [(10, 1), (12, 1), (14, 1), (39, 1), (47, 1), (49, 1), (224, 1), (2297, 1), (3421, 1), (3422, 1), (3423, 1)], [(12, 1), (16, 1), (32, 2), (34, 1), (57, 1), (154, 2), (161, 2), (798, 1), (839, 1), (955, 1), (3005, 1), (3035, 1)], [(0, 1), (3, 1), (16, 1), (39, 1), (154, 1), (161, 2), (184, 1), (201, 2), (349, 1), (814, 1), (972, 1), (1638, 1)], [(3, 1), (12, 1), (32, 1), (47, 2), (61, 1), (161, 1), (283, 1), (289, 1), (704, 1), (3424, 1), (3425, 1)], [(0, 1), (6, 1), (14, 1), (39, 1), (1120, 1), (3426, 1), (3427, 1), (3428, 1), (3429, 1)], [(0, 1), (6, 1), (7, 1), (14, 2), (19, 1), (25, 1), (31, 1), (32, 1), (47, 1), (61, 1), (92, 1), (161, 1), (172, 2), (201, 2), (258, 1), (437, 1), (535, 1), (576, 1), (643, 1), (726, 1), (731, 1), (840, 1), (1351, 1), (1388, 1), (1492, 2), (2340, 1), (2548, 1), (2613, 1), (2655, 1), (2819, 1), (2878, 1), (2881, 1), (3399, 1), (3430, 1), (3431, 1), (3432, 1)], [(6, 1), (12, 1), (13, 1), (14, 1), (2380, 1), (2381, 1), (2382, 1), (2383, 1), (3433, 1)], [(10, 1), (14, 1), (39, 1), (81, 1), (93, 1), (97, 1), (143, 1), (154, 1), (168, 1), (246, 1), (290, 1), (726, 1), (949, 1), (1025, 1), (1548, 1), (3434, 1)], [(12, 1), (14, 1), (39, 1), (60, 1), (86, 1), (202, 1), (259, 1), (363, 1), (896, 1), (956, 1), (3435, 1)], [(12, 1), (14, 1), (16, 1), (39, 1), (49, 1), (287, 1), (1633, 1), (2859, 1), (3436, 1)], [(7, 1), (25, 1), (32, 1), (161, 1), (162, 1), (931, 1)], [(3, 2), (39, 1), (3437, 1)], [(12, 1), (14, 1), (33, 1), (39, 1), (44, 1), (77, 1), (301, 1), (908, 1), (1636, 1), (2021, 1), (3438, 1)], [(7, 1), (13, 1), (14, 1), (16, 1), (20, 1), (60, 2), (69, 1), (163, 1), (244, 1), (263, 1)], [(12, 1), (49, 1), (60, 1), (151, 1), (202, 1), (340, 1), (1386, 1)], [(12, 1), (14, 1), (16, 1), (27, 1), (39, 1), (47, 1), (61, 1), (489, 1), (617, 1), (1102, 1), (1948, 1), (2361, 1), (3193, 1), (3439, 1)], [(3, 1), (12, 1), (60, 1), (80, 1), (81, 1), (228, 1), (340, 1), (484, 1), (621, 1), (3440, 1), (3441, 1)], [(6, 2), (12, 1), (13, 1), (60, 1), (227, 1), (922, 1), (1287, 1), (1876, 1), (3442, 1), (3443, 1), (3444, 1), (3445, 1), (3446, 1), (3447, 1)], [(6, 1), (12, 3), (14, 2), (16, 1), (32, 2), (47, 2), (69, 1), (128, 1), (373, 1), (1484, 2), (1646, 1), (2234, 1), (2516, 1), (3448, 1), (3449, 1), (3450, 1), (3451, 1)], [(14, 1), (61, 1), (743, 1), (1345, 1)], [(3, 1), (25, 2), (80, 1), (551, 1), (775, 1), (1077, 1)], [(25, 1), (27, 1), (31, 1), (32, 1), (61, 1), (225, 1), (760, 1), (1783, 1)], [(6, 1), (12, 1), (14, 1), (16, 1), (49, 1), (60, 1), (61, 1), (105, 1), (351, 1), (851, 1), (1503, 1), (3452, 1)], [(0, 1), (14, 2), (32, 1), (39, 1), (69, 1), (2037, 1), (3453, 1), (3454, 1)], [(12, 1), (14, 1), (32, 1), (990, 1), (997, 1), (1484, 1), (3455, 1)], [(14, 1), (16, 1), (61, 1), (83, 1), (141, 1), (152, 1), (937, 1), (3456, 1)], [(3, 1), (12, 1), (14, 1), (31, 2), (39, 1), (44, 1), (47, 1), (85, 1), (158, 1), (184, 1), (227, 1), (282, 1), (3457, 1), (3458, 1)], [(3, 1), (32, 1), (61, 1), (117, 1), (365, 1), (471, 1), (472, 1)], [(0, 1), (3, 1), (6, 1), (12, 1), (31, 1), (39, 1), (62, 1), (135, 1), (341, 1), (464, 1), (2063, 1), (3459, 1)], [(14, 1), (25, 1), (3460, 1), (3461, 1), (3462, 1)], [(3, 1), (14, 1), (17, 1), (60, 1), (69, 1), (747, 1), (2190, 1), (3463, 1)], [(12, 1), (14, 1), (26, 1), (27, 1), (39, 1), (49, 1), (60, 2), (148, 1), (259, 1), (762, 1), (2182, 1), (3464, 1)], [(24, 1), (31, 1), (32, 1), (43, 1), (60, 1), (76, 1), (80, 1), (282, 1), (283, 1), (1214, 1), (1658, 1), (2857, 1), (2934, 1), (3465, 1)], [(3, 1), (7, 1), (13, 1), (60, 1), (61, 3), (307, 1), (526, 1), (1385, 1), (1606, 1)], [(12, 1), (13, 1), (27, 1), (61, 1), (1323, 1), (2106, 1), (2717, 1), (3101, 1), (3466, 1), (3467, 1), (3468, 1), (3469, 1)], [(61, 1), (76, 1), (86, 1), (112, 1), (143, 1), (832, 1), (2062, 1), (3470, 1), (3471, 1), (3472, 1), (3473, 1)], [(0, 1), (24, 1), (25, 1), (31, 1), (44, 1), (61, 2), (84, 1), (164, 1), (202, 1), (213, 1), (224, 1), (259, 2), (941, 1), (1038, 1), (1291, 1), (2107, 1), (2922, 1), (3295, 1), (3474, 1)], [(6, 1), (14, 1), (19, 1), (61, 1), (83, 1), (94, 1), (154, 1), (161, 2), (164, 1), (168, 1), (169, 2), (184, 1), (198, 1), (201, 1), (257, 1), (258, 1), (263, 1), (2511, 1), (2680, 1), (3475, 1), (3476, 1), (3477, 1)], [(3, 1), (16, 1), (32, 1), (37, 1), (60, 1), (61, 1), (69, 1), (149, 1), (472, 1), (945, 1), (1111, 1), (3478, 1), (3479, 1)], [(10, 1), (12, 1), (14, 1), (27, 1), (39, 1), (69, 1), (74, 1), (112, 1), (143, 1), (271, 1), (310, 1), (842, 1), (1531, 1), (1579, 1), (2475, 1)], [(25, 1), (32, 1), (61, 1), (161, 1), (227, 1), (365, 1), (471, 1), (472, 1), (1244, 1)], [(3, 1), (27, 2), (31, 1), (61, 1), (225, 1), (227, 1), (380, 1), (725, 1), (1442, 1)], [(6, 1), (14, 1), (16, 2), (24, 1), (31, 2), (39, 1), (60, 1), (83, 1), (85, 2), (95, 1), (176, 1), (201, 1), (289, 1), (861, 1), (2132, 1), (3480, 1)], [(12, 1), (14, 1), (39, 1), (47, 1), (225, 1), (736, 1), (737, 1)], [(3, 1), (31, 1), (1215, 1), (1279, 1)], [(14, 1), (309, 1), (392, 1), (452, 1), (3481, 1)], [(3, 1), (13, 1), (31, 1), (259, 1), (514, 1)], [(12, 1), (14, 1), (39, 1), (47, 1), (61, 1), (987, 1), (1693, 1), (2659, 2), (3280, 1), (3482, 1)], [(6, 1), (14, 1), (47, 1), (141, 1), (227, 1), (229, 1), (292, 1), (1082, 1), (3483, 1)], [(0, 1), (6, 1), (12, 1), (14, 1), (39, 1), (61, 2), (410, 1), (411, 1), (776, 1), (3155, 1), (3197, 1)], [(3, 1), (6, 2), (9, 1), (12, 3), (13, 1), (20, 1), (47, 1), (61, 1), (77, 1), (85, 1), (184, 1), (227, 1), (410, 1), (464, 1), (571, 1), (576, 1), (919, 2), (1136, 1), (2146, 1), (2682, 3), (2971, 2), (3484, 1)], [(0, 1), (12, 1), (14, 1), (39, 1), (410, 1), (411, 1), (788, 1), (855, 1), (1007, 1), (2163, 3)], [(3, 1), (32, 1), (161, 2), (725, 1), (1215, 1), (1600, 1), (3485, 1), (3486, 1)], [(3, 1), (32, 1), (47, 1), (161, 1), (259, 1), (1217, 1), (3487, 1)], [(6, 1), (12, 1), (19, 1), (32, 1), (60, 1), (154, 1), (185, 1), (1099, 1), (1101, 1), (3488, 1), (3489, 1), (3490, 1)], [(13, 1), (14, 1), (533, 1), (654, 1), (855, 1), (3491, 1), (3492, 1)], [(6, 1), (39, 1), (79, 1), (85, 1), (184, 1), (459, 1), (3317, 1), (3493, 1), (3494, 1)], [(3, 1), (14, 1), (16, 1), (25, 1), (54, 1), (61, 2), (80, 1), (161, 1), (300, 1), (549, 1), (813, 1), (861, 1), (2119, 1), (3495, 1), (3496, 1), (3497, 1), (3498, 1)], [(3, 1), (7, 1), (13, 1), (236, 1), (1215, 1), (3499, 1)], [(0, 1), (3, 1), (6, 1), (12, 4), (14, 1), (32, 1), (39, 1), (60, 1), (119, 1), (141, 1), (224, 1), (443, 1), (2390, 1), (2391, 1), (2393, 1), (3500, 1)], [(6, 1), (12, 2), (14, 1), (76, 1), (309, 1), (594, 1), (595, 1), (1904, 1), (2880, 1), (3501, 1)], [(14, 1), (39, 1), (60, 1), (76, 1), (83, 1), (559, 1), (3502, 1), (3503, 1)], [(6, 1), (12, 2), (14, 1), (164, 1), (184, 1), (306, 1), (2019, 1), (2462, 2), (3504, 1)], [(0, 1), (3, 1), (32, 1), (62, 1), (161, 1), (571, 1), (1074, 1), (2663, 1), (3505, 1), (3506, 1)], [(7, 1), (13, 1), (643, 1), (1171, 1), (2663, 1)], [(0, 1), (12, 1), (60, 1), (202, 1), (228, 1), (340, 1), (1377, 1), (1378, 1), (3069, 1), (3435, 1)], [(3, 1), (32, 1), (95, 1), (96, 1), (156, 1), (161, 1), (168, 1), (3507, 1)], [(14, 1), (24, 1), (47, 1), (61, 1), (231, 1), (839, 1), (981, 1), (1164, 1), (1298, 1), (1485, 1), (1542, 1), (3375, 1), (3508, 1)], [(0, 1), (12, 1), (14, 1), (39, 1), (410, 1), (411, 1), (697, 1), (3509, 1), (3510, 1)], [(12, 1), (14, 1), (16, 2), (287, 1), (781, 1), (1351, 1), (1556, 1), (2119, 1), (2817, 1), (3511, 1), (3512, 1)], [(14, 1), (39, 1), (86, 1), (130, 1), (908, 1)], [(12, 1), (14, 1), (27, 1), (39, 1), (611, 1), (866, 1), (3513, 1), (3514, 1), (3515, 1)], [(12, 2), (14, 1), (39, 1), (47, 2), (1490, 1), (3516, 1), (3517, 1), (3518, 1), (3519, 1), (3520, 1)], [(3, 1), (16, 1), (17, 1), (47, 1), (61, 2), (289, 1), (329, 1), (452, 1), (844, 1), (861, 1), (1232, 1), (1277, 1), (1296, 1), (3521, 1)], [(12, 1), (25, 1), (31, 1), (32, 1), (47, 1), (71, 1), (1646, 1), (2039, 1), (3522, 1), (3523, 1)], [(12, 1), (14, 1), (39, 1), (47, 2), (1406, 1), (2104, 1), (2329, 1), (2637, 1)], [(9, 1), (12, 1), (16, 1), (25, 1), (39, 1), (44, 1), (69, 1), (81, 1), (184, 1), (498, 1), (574, 1), (604, 1), (613, 1), (784, 1), (1666, 1), (3288, 1), (3524, 1)], [(3, 1), (31, 1), (32, 1), (148, 1), (3525, 1), (3526, 1)], [(25, 1), (32, 1), (149, 1), (161, 1), (3527, 1)], [(32, 1), (34, 1), (234, 1), (819, 1), (1062, 1), (2050, 1), (3528, 1)], [(6, 1), (12, 1), (14, 1), (39, 1), (878, 1), (882, 1), (1369, 1), (3529, 1), (3530, 1)], [(0, 1), (6, 3), (16, 1), (47, 1), (61, 2), (69, 1), (77, 1), (154, 1), (161, 1), (227, 1), (272, 1), (499, 1), (516, 1), (775, 1), (1164, 1), (1239, 1), (2515, 1), (2537, 1), (3284, 1), (3531, 1), (3532, 1), (3533, 1), (3534, 1), (3535, 1)], [(14, 1), (61, 1), (79, 1), (95, 1), (141, 1), (3536, 1)], [(12, 1), (14, 1), (47, 1), (654, 1), (1475, 1), (1622, 1), (2256, 1)], [(3, 1), (14, 1), (32, 1), (60, 1), (69, 1), (97, 1), (117, 1), (161, 1), (225, 1)], [(3, 1), (12, 2), (16, 2), (32, 1), (57, 1), (161, 1), (696, 1), (1351, 1), (2042, 1), (2050, 1), (2817, 1), (3537, 1), (3538, 1)], [(14, 1), (287, 1), (708, 1), (1280, 1), (3539, 1), (3540, 1)], [(12, 1), (16, 1), (25, 1), (31, 2), (60, 1), (61, 1), (329, 1), (609, 1), (1398, 1), (2349, 1), (2775, 1), (3541, 1)], [(3, 1), (14, 1), (23, 1), (26, 1), (27, 1), (32, 1), (76, 1), (141, 1), (161, 2), (184, 1), (201, 1), (259, 1), (949, 1), (2351, 1), (3542, 1), (3543, 1)], [(10, 1), (14, 1), (39, 1), (60, 1), (202, 1), (833, 1), (2707, 1), (3544, 1)], [(25, 1), (32, 1), (47, 1), (161, 1), (259, 1), (979, 1), (1296, 1), (2520, 1), (3545, 1)], [(6, 1), (12, 1), (14, 1), (27, 1), (39, 1), (49, 1), (287, 1), (776, 1), (3546, 1)], [(25, 1), (32, 1), (77, 1), (676, 1), (839, 1)], [(6, 1), (12, 1), (14, 2), (16, 2), (25, 1), (61, 2), (80, 1), (97, 1), (161, 2), (201, 1), (376, 1), (576, 1), (651, 2), (882, 1), (922, 1), (1111, 2), (1475, 1), (2515, 1), (2560, 1), (3547, 1), (3548, 1), (3549, 1)], [(6, 1), (12, 2), (14, 1), (16, 1), (39, 1), (410, 1), (882, 1), (1085, 1), (1185, 1), (3550, 1), (3551, 1)], [(12, 1), (16, 1), (85, 1), (161, 1), (168, 1), (170, 1), (201, 1), (259, 1), (384, 1), (1231, 1), (1440, 1), (1635, 1), (2724, 1), (3552, 1), (3553, 1)], [(3, 1), (6, 1), (19, 1), (32, 1), (60, 1), (61, 1), (161, 1), (905, 1), (1363, 1), (2454, 1)], [(6, 1), (12, 1), (14, 1), (39, 1), (152, 1), (172, 1), (304, 1), (955, 1), (3028, 1), (3051, 1)], [(25, 1), (96, 1), (112, 1), (161, 1), (162, 1)], [(32, 1), (76, 1), (733, 1), (906, 1), (907, 1), (1519, 1), (3554, 1), (3555, 1), (3556, 1)], [(0, 1), (3, 1), (6, 1), (12, 1), (14, 1), (19, 1), (32, 1), (39, 1), (47, 1), (60, 1), (61, 1), (69, 1), (131, 1), (184, 1), (257, 1), (297, 1), (373, 1), (425, 1), (725, 1), (1393, 1), (1446, 1), (1495, 1), (2925, 1), (2941, 1), (3557, 1)], [(3, 1), (12, 2), (14, 1), (32, 1), (39, 1), (47, 1), (76, 2), (98, 1), (402, 1), (448, 2), (461, 1), (462, 1), (713, 1), (1110, 1), (3558, 1)], [(12, 1), (14, 1), (16, 1), (39, 1), (44, 1), (49, 1), (60, 1), (69, 1), (139, 1), (151, 1), (161, 1), (162, 1), (814, 1), (1277, 1), (1488, 1), (3559, 1)], [(0, 1), (3, 1), (14, 1), (16, 1), (32, 1), (44, 1), (47, 1), (60, 1), (76, 1), (83, 1), (148, 2), (161, 3), (176, 1), (258, 1), (263, 2), (300, 1), (304, 1), (337, 1), (448, 2), (460, 1), (571, 1), (860, 1), (1020, 1), (1074, 1), (1649, 1), (3506, 1), (3560, 1)], [(12, 1), (14, 2), (39, 1), (47, 1), (264, 1), (3561, 1)], [(14, 1), (80, 2), (141, 1), (257, 1), (376, 1), (1214, 1), (1744, 1), (3342, 1)], [(3, 1), (32, 1), (61, 1), (161, 1), (1637, 1), (2356, 1), (3562, 1), (3563, 1)], [(6, 1), (16, 1), (19, 1), (25, 1), (27, 1), (161, 1), (260, 1), (460, 1), (789, 1), (1395, 1), (1762, 1), (1994, 1), (2909, 1), (3011, 1), (3564, 1), (3565, 1)], [(3, 1), (6, 1), (16, 1), (31, 1), (61, 2), (76, 1), (128, 1), (135, 1), (832, 1), (1287, 1), (2949, 1), (3078, 1)], [(14, 1), (39, 1), (61, 1), (999, 1), (3566, 1)], [(0, 1), (3, 1), (4, 1), (13, 1), (37, 1), (62, 1), (117, 2), (143, 1), (158, 1), (161, 2), (201, 1), (285, 1), (460, 1), (1376, 1), (2361, 1), (2834, 1), (3567, 1)], [(0, 1), (3, 1), (12, 2), (14, 1), (31, 1), (39, 1), (47, 2), (76, 1), (98, 1), (100, 1), (135, 1), (402, 1), (461, 1), (462, 1), (464, 1), (1332, 1), (1342, 1), (2352, 1), (3568, 1)], [(12, 1), (14, 1), (39, 1), (49, 1), (60, 1), (77, 1), (202, 1), (259, 1), (345, 1), (3423, 1)], [(0, 1), (14, 1), (39, 1), (160, 1), (324, 1), (337, 1), (726, 1), (949, 1), (1823, 1), (2884, 1), (3123, 1)], [(3, 1), (12, 1), (27, 1), (31, 1), (32, 1), (158, 1), (576, 1), (1933, 1), (3363, 1)], [(3, 1), (4, 1), (12, 2), (14, 1), (27, 1), (32, 1), (62, 1), (69, 1), (726, 1), (1024, 1), (1095, 1), (1291, 1), (1422, 1), (1548, 1), (2425, 1), (3569, 1), (3570, 1), (3571, 1)], [(0, 1), (12, 1), (33, 1), (340, 1), (410, 1), (411, 1), (1200, 1), (3572, 2)], [(12, 1), (14, 1), (39, 1), (47, 1), (235, 1), (1110, 1), (1543, 1), (2436, 1)], [(0, 1), (6, 1), (12, 1), (14, 1), (16, 1), (24, 1), (39, 1), (230, 1), (395, 1), (1542, 1), (3573, 1), (3574, 1), (3575, 1)], [(6, 1), (12, 1), (14, 1), (19, 1), (49, 1), (105, 1), (271, 1)], [(6, 1), (12, 1), (14, 1), (47, 1), (128, 1), (216, 1), (351, 1), (1346, 1), (3576, 1), (3577, 1)], [(3, 1), (4, 1), (6, 1), (7, 1), (12, 3), (32, 1), (62, 1), (143, 1), (376, 1), (1206, 1), (1968, 1), (2355, 1), (3578, 2), (3579, 2), (3580, 1)], [(6, 1), (14, 1), (19, 1), (460, 1), (1991, 1), (3581, 1), (3582, 1), (3583, 1), (3584, 1), (3585, 1), (3586, 1)], [(12, 1), (25, 1), (32, 1), (47, 1), (161, 1), (416, 1), (3587, 1), (3588, 1), (3589, 1)], [(53, 1), (76, 1), (460, 1), (669, 1), (2655, 1), (3474, 1), (3590, 1), (3591, 1)], [(12, 1), (14, 2), (18, 1), (39, 1), (80, 1), (112, 1), (128, 1), (591, 1), (592, 1), (1700, 1), (3592, 1), (3593, 1)], [(12, 1), (14, 1), (49, 1), (60, 1), (105, 1), (287, 1), (673, 1), (934, 1), (1102, 1), (3344, 1), (3594, 1)], [(3, 1), (39, 1), (44, 1), (61, 1), (360, 1), (732, 1), (1100, 1), (1495, 1)], [(3, 1), (4, 1), (12, 1), (16, 1), (32, 1), (69, 1), (158, 1), (227, 1), (229, 1), (290, 1)], [(27, 1), (39, 1), (154, 1), (287, 1), (1280, 1), (3595, 1), (3596, 1)], [(6, 1), (12, 1), (35, 1), (47, 1), (340, 1), (803, 1), (3597, 1), (3598, 1), (3599, 1)], [(3, 1), (12, 1), (32, 1), (77, 1), (161, 1), (599, 1), (634, 1), (3600, 1)], [(86, 1), (97, 1), (123, 1), (340, 1), (959, 1), (960, 1)], [(25, 1), (96, 1), (172, 1), (301, 1), (760, 1), (910, 1), (1100, 1), (1496, 1), (3601, 1), (3602, 1)], [(3, 1), (14, 1), (80, 1), (83, 1), (141, 1), (176, 1), (257, 1), (576, 1), (751, 1), (1391, 1), (1536, 1)], [(14, 1), (16, 1), (60, 1), (61, 1), (128, 1), (148, 1), (508, 1), (1524, 1), (1850, 1), (1965, 1), (3603, 1), (3604, 1), (3605, 1)], [(3, 1), (7, 1), (10, 1), (13, 1), (14, 1), (27, 1), (61, 1), (80, 1), (148, 1), (165, 1), (170, 1), (172, 1), (225, 1), (226, 1), (633, 1), (1076, 1), (1441, 1), (2209, 1)], [(14, 1), (84, 1), (1264, 1), (3606, 1), (3607, 1)], [(12, 1), (14, 1), (39, 1), (49, 1), (60, 1), (150, 1), (482, 1), (949, 1)], [(0, 1), (6, 1), (12, 3), (14, 1), (16, 1), (17, 1), (37, 1), (39, 1), (47, 1), (60, 1), (61, 2), (64, 1), (143, 1), (196, 1), (264, 1), (1132, 1), (1543, 1), (1632, 1), (3005, 1), (3047, 1), (3048, 1), (3608, 1), (3609, 1), (3610, 1)], [(6, 1), (14, 1), (141, 1), (257, 1), (1994, 1), (2737, 1), (3409, 1), (3578, 1)], [(6, 1), (12, 1), (14, 1), (49, 1), (128, 1), (3611, 1), (3612, 1), (3613, 1)], [(0, 1), (12, 2), (14, 2), (39, 1), (60, 1), (61, 2), (93, 1), (120, 1), (123, 1), (226, 1), (360, 3), (535, 1), (537, 1), (538, 1), (541, 1), (733, 1), (901, 2), (1441, 1), (1542, 1)], [(3, 1), (31, 1), (32, 1), (60, 1), (61, 1), (69, 1), (247, 1), (784, 1), (2886, 1)], [(3, 1), (6, 1), (10, 1), (12, 2), (14, 2), (19, 1), (39, 1), (47, 1), (80, 1), (81, 1), (128, 1), (227, 1), (448, 1), (607, 1), (2157, 1), (3614, 1)], [(6, 1), (12, 1), (14, 1), (39, 1), (46, 1), (47, 1), (61, 1), (1433, 1), (3164, 1), (3551, 1), (3615, 1), (3616, 1), (3617, 1), (3618, 1), (3619, 1), (3620, 1)], [(3, 1), (12, 1), (27, 1), (32, 1), (161, 1), (285, 1), (352, 1), (687, 1), (905, 1), (2155, 1), (3621, 1), (3622, 1)], [(14, 1), (60, 1), (69, 1), (76, 1), (80, 1), (93, 1), (306, 1), (1293, 1), (3503, 1), (3623, 1)], [(12, 1), (33, 1), (76, 1), (105, 1), (131, 1), (143, 1), (171, 1), (172, 1), (2949, 1), (3624, 1), (3625, 1)], [(12, 2), (25, 1), (27, 1), (162, 1), (232, 1), (259, 1), (301, 3), (374, 1), (576, 1), (876, 1), (1273, 1), (1492, 1), (2566, 1), (2797, 1), (3626, 1), (3627, 1)], [(14, 1), (39, 1), (86, 1), (112, 1), (221, 1), (290, 1), (1215, 1)], [(13, 1), (14, 1), (3628, 1), (3629, 1)], [(12, 1), (14, 1), (31, 1), (39, 1), (80, 1), (81, 1), (221, 1), (227, 1), (481, 1), (3630, 1)], [(3, 1), (32, 1), (57, 1), (60, 1), (102, 1), (161, 1), (1391, 1)], [(14, 1), (16, 1), (24, 1), (39, 1), (318, 1), (1113, 1), (1448, 1), (3631, 1)], [(0, 1), (3, 1), (27, 1), (39, 1), (44, 1), (60, 1), (61, 2), (80, 1), (154, 1), (161, 2), (196, 1), (201, 1), (227, 1), (229, 1), (259, 1), (341, 1), (366, 1), (452, 1), (605, 1), (733, 2), (1071, 1), (1492, 1), (1532, 1), (1561, 1), (1580, 2), (1641, 1), (1907, 1), (2039, 1), (3632, 1), (3633, 1), (3634, 1), (3635, 1), (3636, 1), (3637, 1)], [(6, 1), (12, 1), (13, 1), (14, 1), (16, 1), (19, 1), (39, 1), (60, 1), (61, 1), (259, 1), (360, 1), (995, 1), (1469, 1), (1692, 1)], [(25, 1), (32, 1), (61, 1), (161, 1), (717, 1), (3638, 1)], [(14, 1), (39, 1), (1549, 1), (3639, 1)], [(3, 1), (32, 1), (47, 1), (161, 1), (259, 1), (1217, 1), (2596, 1), (3347, 1)], [(12, 1), (14, 2), (31, 1), (39, 1), (61, 1), (80, 1), (81, 1), (144, 1), (231, 1), (238, 1), (535, 1), (635, 1), (2010, 1)], [(13, 1), (14, 1), (314, 1), (3640, 1)], [(32, 1), (37, 1), (60, 1), (69, 1), (85, 1), (151, 1), (263, 1), (472, 1), (776, 1)], [(24, 1), (32, 1), (60, 1), (69, 1), (83, 1), (85, 1), (361, 1), (373, 1), (386, 1), (1393, 1), (1399, 1), (1739, 1), (3641, 1)], [(6, 1), (12, 1), (14, 1), (39, 1), (80, 1), (120, 1), (141, 1), (360, 1), (410, 1), (459, 1), (3642, 1), (3643, 1)], [(3, 1), (32, 1), (161, 1), (201, 1), (1003, 1), (1099, 1), (1230, 1), (3644, 1)], [(0, 1), (3, 1), (32, 1), (117, 1), (1815, 1), (2514, 1), (2863, 1), (3645, 1), (3646, 1)], [(14, 1), (25, 1), (32, 1), (77, 1), (161, 1), (360, 1), (754, 1)], [(12, 1), (14, 1), (23, 1), (39, 1), (60, 1), (201, 1), (202, 1), (346, 1), (1340, 1), (3353, 1)], [(0, 1), (12, 1), (14, 1), (24, 1), (39, 1), (61, 1), (410, 1), (411, 1), (737, 1), (1206, 2), (2469, 2), (3647, 2), (3648, 1)], [(6, 1), (25, 1), (32, 1), (60, 1), (161, 1), (549, 1), (673, 1), (776, 1), (1074, 1)], [(14, 1), (221, 1), (985, 1), (1671, 1), (2205, 1), (3649, 1)], [(3, 1), (14, 1), (32, 1), (39, 1), (47, 1), (69, 1), (455, 1), (3650, 1), (3651, 1), (3652, 1)], [(10, 1), (14, 1), (17, 1), (39, 1), (47, 1), (144, 1), (158, 1), (564, 1), (985, 1), (3653, 1)], [(3, 1), (32, 1), (161, 1), (533, 1), (3654, 1), (3655, 1)], [(3, 1), (14, 1), (31, 1), (32, 1), (61, 1), (184, 1), (725, 1), (949, 1), (1939, 1)], [(3, 1), (12, 1), (13, 1), (275, 1), (277, 1), (335, 1), (625, 1), (3656, 1), (3657, 2)], [(12, 1), (14, 2), (39, 1), (47, 1), (61, 1), (751, 1), (998, 1), (2503, 1)], [(3, 1), (31, 1), (196, 1), (227, 1), (229, 1), (3658, 1)], [(25, 1), (32, 1), (301, 1), (1963, 1), (3659, 1)], [(0, 1), (12, 1), (14, 1), (39, 1), (410, 1), (411, 1), (3660, 1), (3661, 1)], [(14, 1), (60, 1), (69, 1), (83, 1), (340, 1), (654, 1), (3662, 1)], [(6, 1), (12, 1), (13, 1), (14, 1), (61, 1), (172, 1), (653, 1), (3178, 1), (3583, 1), (3663, 1), (3664, 1), (3665, 1), (3666, 1)], [(7, 1), (13, 1), (14, 1), (20, 1), (77, 1), (3667, 1), (3668, 1), (3669, 1)], [(20, 1), (25, 1), (32, 1), (34, 1), (47, 1), (161, 1), (170, 1), (201, 1), (227, 1), (300, 1), (431, 1), (594, 1), (1352, 1)], [(14, 1), (60, 1), (177, 1), (227, 1), (844, 1), (992, 1), (3670, 1), (3671, 1)], [(3, 1), (31, 1), (32, 1), (60, 1), (61, 1), (86, 1), (363, 1), (452, 1), (2680, 1), (3672, 1)], [(14, 1), (39, 1), (3673, 1)], [(0, 1), (12, 1), (13, 1), (14, 1), (49, 1), (128, 1), (2301, 1)], [(3, 1), (6, 1), (13, 1), (47, 2), (61, 1), (76, 1), (77, 1), (123, 1), (301, 1), (493, 1), (1363, 2), (1407, 1), (2548, 1), (2717, 1), (3621, 1), (3674, 1), (3675, 1), (3676, 1), (3677, 1)], [(60, 1), (62, 1), (151, 1), (154, 1), (161, 2), (164, 1), (259, 1), (634, 1), (909, 1), (1495, 1)], [(14, 1), (636, 1), (3678, 1), (3679, 1)], [(6, 1), (12, 1), (14, 1), (15, 1), (22, 1), (39, 1), (47, 1), (53, 1), (620, 1), (621, 1), (906, 1), (907, 1), (1140, 1)], [(6, 1), (12, 2), (14, 1), (31, 1), (39, 1), (60, 1), (81, 1), (228, 1), (309, 1), (314, 1)], [(3, 1), (32, 1), (122, 1), (3680, 1), (3681, 1)], [(6, 1), (14, 3), (84, 1), (141, 1), (257, 1), (1499, 1), (2889, 1), (3005, 1), (3682, 1), (3683, 1)], [(14, 1), (39, 1), (47, 1), (86, 1), (3684, 1), (3685, 1)], [(12, 1), (14, 2), (16, 1), (24, 1), (60, 1), (61, 1), (85, 1), (148, 1), (161, 2), (184, 1), (440, 1), (572, 1), (937, 1), (1446, 1), (1467, 1), (1624, 1), (2051, 1), (2511, 1), (2863, 1), (3686, 1)], [(0, 2), (3, 1), (14, 1), (60, 1), (69, 1), (148, 1), (201, 2), (954, 1), (981, 1), (1194, 1), (2269, 1), (2505, 1), (3145, 1), (3308, 1), (3687, 1), (3688, 1), (3689, 1)], [(12, 1), (14, 1), (31, 1), (128, 1), (157, 1), (949, 1), (3690, 1)], [(10, 1), (12, 1), (27, 1), (31, 1), (205, 1), (227, 1), (318, 1), (452, 1), (1100, 1), (1130, 1), (3029, 1), (3283, 1)], [(0, 1), (6, 1), (12, 2), (14, 2), (39, 2), (47, 1), (143, 1), (271, 1), (1346, 2), (2349, 1), (3636, 1), (3691, 1), (3692, 1), (3693, 1), (3694, 1)], [(12, 1), (14, 1), (24, 1), (33, 1), (39, 1), (157, 1), (172, 1), (353, 1), (784, 1), (3695, 1)], [(6, 1), (14, 1), (39, 1), (422, 1), (497, 1), (3696, 1), (3697, 1), (3698, 1), (3699, 1)], [(6, 1), (14, 2), (39, 1), (45, 1), (49, 1), (60, 1), (81, 1), (151, 1)], [(6, 1), (12, 1), (14, 1), (39, 1), (49, 1), (1223, 1), (3700, 1), (3701, 1)], [(0, 1), (14, 1), (32, 1), (39, 1), (61, 1), (69, 1), (341, 1), (3702, 1), (3703, 1), (3704, 1)], [(25, 1), (32, 1), (33, 1), (44, 1), (61, 1), (83, 1), (84, 1), (200, 1), (1111, 1), (1164, 3), (1954, 1), (2494, 1)], [(3, 1), (32, 1), (161, 1), (833, 1), (3705, 1), (3706, 1)], [(0, 1), (10, 1), (14, 1), (39, 1), (60, 1), (86, 1), (287, 1), (416, 1), (1759, 1), (2215, 1), (2861, 1)], [(14, 1), (49, 1), (84, 1), (105, 1), (169, 1), (1215, 1), (3707, 1)], [(14, 1), (39, 1), (60, 1), (61, 1), (170, 1), (318, 1), (1441, 1), (2301, 1)], [(12, 1), (14, 1), (16, 1), (39, 1), (53, 1), (1296, 1), (1572, 1), (1573, 1), (3708, 1), (3709, 1)], [(25, 1), (32, 1), (161, 1), (168, 1), (1997, 1), (2106, 1), (2515, 1)], [(0, 1), (6, 1), (12, 1), (14, 1), (16, 1), (30, 1), (39, 1), (47, 1), (85, 1), (245, 2), (700, 1), (702, 2), (703, 1), (1340, 1), (1820, 1), (1822, 1), (1823, 1), (3262, 1)], [(6, 1), (14, 1), (39, 1), (60, 1), (69, 1), (83, 1), (198, 1), (353, 1), (582, 1), (3710, 1)], [(3, 1), (7, 1), (39, 1), (60, 1), (1511, 1), (3711, 1), (3712, 1)], [(3, 1), (6, 2), (12, 1), (32, 1), (61, 1), (2171, 1), (2442, 1), (2650, 1), (3405, 1), (3713, 1), (3714, 1), (3715, 1)], [(3, 2), (6, 1), (12, 2), (14, 1), (18, 1), (27, 1), (39, 1), (69, 1), (84, 1), (148, 1), (157, 1), (158, 1), (304, 1), (460, 2), (717, 1), (1084, 1), (1440, 1), (1524, 1), (2443, 3), (3716, 1), (3717, 1)], [(0, 1), (14, 2), (16, 2), (32, 1), (60, 1), (61, 1), (148, 1), (161, 2), (184, 1), (226, 1), (258, 1), (442, 2), (485, 1), (576, 1), (962, 1), (1873, 2), (2133, 1), (2592, 1), (3718, 1), (3719, 1)], [(14, 1), (16, 1), (141, 1), (257, 1), (441, 1), (3720, 1), (3721, 1), (3722, 1), (3723, 1)], [(3, 1), (16, 1), (32, 1), (61, 1), (161, 1), (249, 1), (394, 1), (1027, 1), (3724, 1)], [(3, 1), (12, 1), (32, 1), (47, 1), (161, 1), (1356, 1), (2498, 1), (3725, 1)], [(6, 1), (12, 1), (228, 1), (309, 1), (340, 1), (1172, 1), (1388, 1), (3726, 1)], [(25, 1), (32, 1), (161, 1), (2665, 1), (3727, 1), (3728, 1)], [(3, 1), (12, 1), (14, 2), (31, 1), (39, 1), (49, 1), (60, 1), (81, 1), (84, 1), (85, 1), (460, 1), (2661, 1), (3729, 1)], [(12, 1), (25, 1), (32, 1), (47, 1), (61, 1), (161, 1), (259, 1), (819, 1), (1658, 1), (3730, 1), (3731, 1)], [(0, 1), (14, 1), (25, 1), (32, 1), (876, 1), (3732, 1), (3733, 1)], [(12, 1), (22, 1), (76, 1), (128, 1), (959, 1), (3358, 1), (3359, 1)], [(0, 1), (3, 1), (6, 1), (16, 1), (32, 1), (148, 1), (164, 2), (301, 1), (771, 1), (784, 1), (1556, 1), (3341, 1), (3734, 1), (3735, 1), (3736, 1)], [(14, 1), (39, 1), (594, 1), (3051, 1), (3737, 1)], [(7, 1), (10, 1), (14, 1), (39, 1), (47, 1), (49, 1), (62, 1), (1388, 1), (1448, 1), (2444, 1)], [(14, 1), (16, 1), (61, 1), (141, 1), (244, 1), (257, 1), (395, 1), (784, 1), (919, 1), (3161, 1), (3738, 1)], [(10, 1), (14, 1), (39, 1), (172, 1), (1426, 1), (1833, 1), (2525, 1)], [(12, 1), (14, 1), (39, 1), (158, 1), (321, 1)], [(25, 1), (44, 1), (61, 1), (161, 1), (164, 1), (225, 1), (789, 1), (3739, 1)], [(0, 2), (6, 1), (12, 1), (14, 1), (39, 1), (410, 1), (411, 1), (1346, 1), (3181, 1), (3740, 1), (3741, 1), (3742, 1)], [(3, 1), (31, 2), (39, 1), (69, 1), (86, 1), (114, 1), (154, 1), (184, 1), (222, 1), (259, 1), (279, 1), (376, 1), (1492, 1), (1656, 1), (3155, 1), (3743, 1)], [(3, 1), (14, 1), (39, 1), (61, 1), (69, 1), (143, 1), (176, 1), (263, 1), (304, 1), (360, 1), (460, 2), (576, 1), (2717, 1)], [(14, 1), (32, 1), (34, 1), (47, 1), (141, 1), (440, 1), (3744, 1)], [(3, 1), (31, 1), (32, 1), (60, 1), (61, 1), (150, 1), (151, 1), (1050, 1), (2316, 1)], [(3, 1), (12, 2), (49, 1), (161, 1), (164, 1), (259, 1), (613, 1), (844, 1), (1490, 1), (1741, 1), (2548, 1), (3745, 1)], [(0, 1), (1, 1), (6, 1), (9, 1), (14, 1), (47, 1), (61, 1), (141, 1), (149, 1), (161, 1), (172, 1), (201, 1), (354, 1), (411, 1), (469, 1), (590, 1), (851, 1), (1401, 1), (1492, 1), (2843, 1), (3746, 1), (3747, 1), (3748, 1), (3749, 1), (3750, 1)], [(0, 1), (6, 1), (12, 2), (14, 1), (44, 1), (60, 1), (61, 1), (105, 1), (161, 1), (184, 1), (200, 1), (227, 1), (300, 1), (957, 1), (1484, 1), (1495, 1), (1542, 1), (1841, 1), (2118, 1), (3011, 1), (3570, 1), (3751, 1)], [(0, 1), (3, 1), (6, 1), (7, 1), (10, 1), (12, 1), (13, 1), (60, 3), (61, 1), (69, 1), (259, 1), (290, 1), (307, 1), (374, 2), (390, 1), (526, 1), (647, 1), (661, 1), (762, 1), (1273, 1), (2250, 1), (3752, 1)], [(12, 1), (25, 1), (47, 1), (67, 1), (161, 1), (162, 1), (164, 1), (1592, 1), (3753, 1)], [(10, 1), (14, 1), (39, 1), (60, 1), (87, 1), (170, 1), (318, 1), (1441, 1)], [(3, 1), (6, 1), (102, 1), (1816, 1), (1818, 1), (1841, 1), (1992, 1), (2193, 1)], [(3, 1), (6, 1), (12, 1), (39, 1), (44, 1), (47, 1), (149, 1), (227, 1), (270, 1), (1531, 1), (1542, 1), (1886, 1), (3754, 1)], [(12, 1), (49, 1), (60, 1), (202, 1), (340, 1), (1356, 1), (2810, 1), (3747, 1)], [(12, 1), (14, 1), (39, 1), (47, 1), (60, 1), (264, 1), (1490, 1), (1692, 1), (2425, 1)], [(12, 1), (14, 1), (33, 1), (39, 1), (80, 1), (81, 1), (112, 1), (3506, 1)], [(3, 1), (13, 1), (14, 1), (27, 1), (69, 2), (77, 1), (84, 1), (112, 1), (141, 1), (448, 1), (547, 1), (635, 1), (725, 1), (726, 1), (929, 1), (973, 1), (2456, 1), (3752, 1), (3755, 1), (3756, 1), (3757, 1)], [(14, 1), (3758, 1), (3759, 1)], [(16, 1), (25, 1), (32, 1), (139, 1), (161, 1), (259, 1), (3760, 1), (3761, 1)], [(16, 1), (32, 1), (161, 1), (201, 1), (937, 1), (2218, 1), (3762, 1)], [(14, 1), (39, 1), (86, 1), (1854, 1), (3763, 1)], [(3, 1), (32, 1), (61, 1), (161, 1), (1417, 1), (2368, 1), (2457, 1), (3764, 1)], [(25, 1), (32, 1), (161, 1), (244, 1), (2029, 1), (3627, 1), (3765, 1), (3766, 1), (3767, 1)], [(3, 1), (12, 1), (32, 1), (47, 1), (370, 1), (372, 2), (373, 1), (375, 2), (376, 1), (649, 1), (760, 1)], [(6, 1), (12, 1), (14, 1), (33, 1), (39, 1), (44, 1), (49, 1), (60, 1), (91, 1), (96, 1), (202, 1), (2003, 1), (3768, 1)], [(6, 1), (14, 1), (37, 1), (60, 1), (69, 1), (74, 1), (592, 1), (981, 1), (1607, 1), (1753, 1)], [(12, 1), (14, 1), (24, 1), (39, 1), (47, 1), (162, 1), (634, 1), (911, 1), (1531, 1)], [(25, 1), (161, 1), (196, 1), (2682, 1), (3769, 1), (3770, 1)], [(6, 1), (10, 1), (14, 1), (60, 1), (61, 2), (89, 1), (141, 1), (168, 1), (202, 1), (855, 1), (2197, 1), (3161, 1), (3771, 1)], [(6, 1), (12, 1), (14, 1), (39, 1), (112, 1), (123, 1), (172, 1), (943, 1), (3048, 1), (3053, 1), (3772, 1)], [(6, 1), (25, 1), (27, 1), (32, 1), (61, 3), (198, 1), (373, 1), (442, 1), (751, 1), (866, 1), (3773, 1), (3774, 1), (3775, 1)], [(14, 1), (47, 1), (61, 3), (81, 1), (141, 1), (143, 1), (176, 1), (1002, 1), (1326, 1), (3776, 1), (3777, 1)], [(12, 1), (13, 1), (14, 1), (60, 1), (61, 1), (150, 1), (227, 1), (482, 1), (609, 1), (3778, 1)], [(7, 1), (12, 1), (14, 1), (31, 2), (77, 1), (505, 1), (593, 1)], [(0, 1), (3, 1), (7, 1), (32, 1), (1519, 1), (3779, 1), (3780, 1), (3781, 1)], [(0, 1), (3, 1), (13, 1), (31, 1), (39, 1), (442, 1), (962, 1)], [(0, 1), (6, 1), (12, 1), (14, 1), (39, 1), (47, 1), (288, 1), (402, 1), (2067, 1), (3782, 1), (3783, 1)], [(3, 1), (32, 1), (44, 1), (161, 1), (201, 2), (571, 1), (1136, 1), (2481, 1), (3384, 1), (3386, 1), (3784, 1), (3785, 1)], [(61, 1), (154, 1), (161, 1), (442, 1), (789, 1), (2592, 1), (3786, 1)], [(25, 1), (32, 1), (69, 2), (143, 1), (301, 1), (571, 1), (3127, 1), (3787, 1), (3788, 1)], [(12, 2), (14, 1), (49, 1), (105, 1), (702, 1), (1671, 1), (3789, 1), (3790, 1)], [(6, 1), (12, 1), (14, 1), (128, 1), (1691, 1), (3791, 1), (3792, 1)], [(12, 3), (13, 1), (47, 1), (60, 1), (61, 1), (634, 1), (747, 1), (756, 1), (910, 1), (1110, 1), (1130, 1), (2142, 1), (2461, 1), (2462, 1), (3655, 1), (3793, 1), (3794, 1), (3795, 1), (3796, 1)], [(12, 1), (14, 1), (39, 1), (60, 1), (96, 1), (162, 1), (202, 1), (760, 1), (2208, 1)], [(12, 1), (14, 1), (39, 1), (49, 1), (482, 1), (1263, 1)], [(14, 1), (29, 1), (39, 1), (1317, 1)], [(3, 1), (27, 1), (32, 1), (161, 1), (285, 1), (771, 1), (905, 1), (3797, 1), (3798, 1)], [(3, 1), (13, 1), (14, 1), (20, 1), (44, 1), (60, 1), (116, 1), (195, 1), (270, 1), (306, 1), (448, 1), (574, 1), (711, 1), (1094, 2), (1188, 1), (3799, 1), (3800, 1)], [(0, 1), (6, 1), (25, 1), (47, 1), (161, 1), (164, 1), (259, 1), (1737, 1), (2894, 1), (3229, 1), (3231, 3), (3801, 1), (3802, 1), (3803, 1)], [(16, 1), (56, 1), (76, 1), (161, 1), (164, 1), (259, 1), (839, 1), (1661, 1), (3804, 1)], [(0, 1), (3, 1), (13, 1), (44, 1), (168, 1), (905, 1), (1722, 1), (3503, 1), (3805, 1), (3806, 1)], [(3, 1), (17, 1), (32, 1), (143, 1), (161, 1), (259, 1), (1490, 1)], [(3, 1), (32, 1), (161, 1), (201, 1), (957, 1), (1236, 1), (1351, 1), (1738, 1)], [(6, 1), (12, 1), (14, 1), (16, 1), (39, 1), (95, 1), (2632, 1), (2907, 1), (3807, 1)], [(14, 1), (39, 1), (756, 1), (1483, 1)], [(0, 2), (12, 1), (14, 1), (39, 1), (410, 1), (411, 1), (745, 1), (3808, 1), (3809, 1), (3810, 2)], [(0, 1), (14, 1), (17, 1), (61, 1), (105, 1), (657, 1), (954, 1), (1194, 1), (1195, 1), (1197, 1), (1669, 1), (1671, 1), (3811, 1), (3812, 1)], [(14, 2), (34, 1), (47, 1), (60, 1), (61, 2), (69, 1), (83, 1), (123, 1), (168, 1), (184, 1), (259, 1), (363, 1), (448, 1), (524, 1), (535, 1), (576, 1), (621, 1), (635, 1), (726, 1), (930, 1), (981, 1), (1229, 1), (1287, 1), (1529, 1), (2089, 1), (2378, 1)], [(0, 1), (3, 1), (6, 2), (12, 2), (14, 1), (32, 1), (35, 1), (39, 1), (60, 1), (69, 1), (217, 1), (443, 1), (756, 2), (881, 2), (1379, 1), (2205, 1)], [(3, 1), (12, 1), (27, 2), (32, 1), (35, 1), (61, 1), (74, 1), (161, 1), (247, 1), (1232, 1), (2044, 1), (2514, 1), (3813, 1)], [(3, 1), (13, 1), (26, 1), (201, 1), (263, 1), (363, 1), (2367, 1)], [(31, 1), (39, 1), (60, 1), (97, 1), (131, 1), (154, 1), (206, 1), (362, 1), (747, 1), (949, 1)], [(3, 1), (6, 1), (12, 2), (27, 1), (32, 1), (60, 1), (443, 1), (3157, 2), (3400, 1), (3814, 1), (3815, 1), (3816, 1)], [(6, 1), (12, 1), (14, 1), (19, 1), (39, 1), (47, 1), (288, 1), (1212, 1), (2885, 1)], [(25, 1), (32, 1), (149, 1), (224, 1), (672, 1), (754, 1)], [(12, 1), (14, 3), (27, 1), (39, 1), (61, 1), (141, 1), (143, 1), (161, 1), (200, 1), (439, 1), (589, 1), (1463, 1), (1543, 1), (1556, 1), (1933, 1), (3148, 1), (3817, 1), (3818, 1), (3819, 1)], [(12, 1), (14, 1), (39, 1), (1033, 1), (1921, 1), (2367, 1)], [(14, 1), (60, 1), (141, 1), (202, 1), (257, 1), (303, 1), (346, 1), (347, 1), (3820, 1)], [(3, 2), (6, 2), (19, 1), (39, 1), (61, 1), (196, 1), (224, 1), (1562, 1), (2965, 1), (3051, 1)], [(3, 1), (6, 1), (32, 1), (77, 1), (390, 1), (636, 1), (854, 1), (2329, 1), (2460, 1), (2717, 1), (3821, 1)], [(0, 1), (3, 1), (27, 1), (32, 1), (39, 1), (123, 1), (3057, 1), (3346, 1), (3822, 1), (3823, 1)], [(3, 1), (6, 1), (24, 1), (32, 1), (161, 1), (697, 1), (910, 1), (1434, 1), (1739, 1)], [(12, 1), (14, 1), (39, 1), (49, 1), (60, 1), (158, 1), (227, 1), (3347, 1)], [(10, 1), (14, 1), (16, 1), (17, 1), (39, 1), (123, 1), (269, 1), (743, 1), (1111, 1), (1113, 1), (1556, 1), (2274, 1), (2885, 1), (3824, 1)], [(6, 1), (32, 1), (34, 1), (185, 1), (1659, 1), (1663, 1)], [(6, 1), (61, 1), (76, 1), (84, 1), (161, 2), (172, 1), (184, 1), (257, 1), (353, 1), (487, 1), (491, 1), (661, 1), (784, 1), (1236, 1), (1449, 1), (2340, 1), (3047, 1), (3068, 1), (3825, 1)], [(6, 1), (14, 1), (621, 1), (650, 1), (1386, 1), (3826, 1), (3827, 1), (3828, 1), (3829, 1), (3830, 1)], [(39, 1), (289, 1), (1136, 1)], [(13, 2), (14, 1), (24, 1), (84, 1), (154, 1), (576, 1), (3695, 1), (3831, 1), (3832, 1)], [(3, 1), (31, 1), (32, 1), (86, 1), (259, 1), (290, 1), (686, 1), (1215, 1)], [(6, 1), (25, 1), (32, 1), (161, 1), (201, 1), (661, 1), (1932, 1), (3833, 1)], [(12, 1), (14, 1), (39, 1), (47, 1), (2265, 1), (2836, 1), (3218, 1), (3834, 1)], [(6, 1), (12, 2), (14, 1), (25, 1), (32, 1), (47, 1), (633, 2), (656, 1), (829, 1), (1082, 2), (1484, 1), (2349, 1), (3835, 1), (3836, 1), (3837, 1), (3838, 1)], [(3, 1), (13, 1), (16, 1), (20, 1), (329, 1), (472, 1), (733, 1), (1048, 1), (3839, 1), (3840, 1), (3841, 1), (3842, 1)], [(14, 1), (39, 1), (3528, 1)], [(0, 2), (3, 1), (12, 1), (14, 2), (16, 1), (20, 1), (31, 1), (32, 1), (39, 1), (69, 1), (83, 1), (84, 1), (184, 1), (227, 1), (1467, 1), (1515, 1), (1695, 1), (3049, 1), (3843, 1), (3844, 1), (3845, 1)], [(0, 1), (3, 1), (6, 1), (12, 1), (84, 1), (86, 2), (277, 1), (304, 1), (361, 1), (737, 1), (901, 3), (1102, 1), (1903, 1), (2349, 1), (2636, 1), (3419, 1)], [(6, 1), (25, 1), (32, 1), (61, 3), (83, 1), (161, 1), (247, 1), (269, 1), (271, 1), (697, 1), (743, 1), (1111, 1), (3846, 1), (3847, 1)], [(6, 1), (12, 1), (14, 1), (60, 1), (493, 2), (784, 1), (1323, 1), (3848, 1), (3849, 1), (3850, 1)], [(0, 1), (12, 1), (14, 1), (39, 1), (303, 1), (410, 1), (411, 1), (1224, 1), (2183, 1), (2367, 1), (3851, 1), (3852, 1)], [(0, 1), (12, 5), (14, 3), (33, 1), (39, 3), (46, 1), (47, 3), (224, 1), (369, 1), (403, 1), (592, 1), (686, 1), (878, 1), (1271, 1), (1272, 1), (1480, 1), (1485, 1), (2567, 1), (3581, 1), (3752, 1), (3853, 1), (3854, 1), (3855, 1), (3856, 1), (3857, 2)], [(13, 1), (14, 1), (20, 1), (31, 1), (460, 1), (604, 1), (635, 1), (3858, 1), (3859, 1), (3860, 1)], [(0, 1), (3, 1), (32, 1), (47, 1), (168, 1), (175, 1), (439, 1), (493, 1), (635, 1), (662, 1), (905, 1), (2269, 1), (3861, 1), (3862, 1)], [(12, 1), (14, 1), (39, 1), (47, 1), (61, 1), (97, 1), (244, 1), (634, 1), (676, 1), (2256, 1)], [(0, 2), (6, 1), (12, 1), (14, 3), (39, 2), (61, 2), (69, 1), (172, 1), (412, 1), (460, 1), (788, 1), (1344, 1), (3621, 1), (3675, 1), (3850, 1), (3863, 1), (3864, 1), (3865, 1), (3866, 1), (3867, 1), (3868, 1), (3869, 1), (3870, 1)], [(25, 1), (32, 1), (77, 1), (161, 1), (201, 1), (634, 1), (676, 1), (935, 1), (2133, 1), (2281, 1)], [(12, 3), (14, 1), (39, 1), (47, 1), (717, 1), (878, 1), (1155, 1), (2256, 1), (2269, 1)], [(3, 1), (16, 1), (24, 1), (32, 1), (161, 1), (201, 1), (1979, 1), (3871, 1), (3872, 1), (3873, 1)], [(14, 1), (613, 1), (650, 1), (762, 1), (906, 1), (907, 1), (1230, 1), (3283, 1), (3671, 1), (3874, 1), (3875, 1), (3876, 1)], [(3, 1), (31, 1), (39, 1), (62, 1), (135, 1), (1526, 1), (2523, 1)], [(3, 1), (7, 1), (27, 1), (32, 1), (161, 1), (225, 1), (344, 1), (3776, 1)], [(3, 1), (6, 1), (32, 1), (161, 1), (1655, 1), (2088, 1), (3877, 1)], [(3, 1), (6, 1), (19, 1), (27, 1), (39, 1), (61, 1), (304, 1), (669, 1), (1094, 1), (3314, 1), (3315, 1), (3878, 1), (3879, 1), (3880, 1)], [(12, 1), (14, 1), (32, 1), (85, 1), (184, 1), (217, 1), (576, 1), (1948, 1), (3286, 1), (3881, 1)], [(10, 1), (12, 1), (14, 1), (27, 1), (39, 1), (69, 1), (74, 1), (112, 1), (143, 1), (271, 1), (842, 1), (1531, 1), (1579, 1), (3882, 1), (3883, 1)], [(6, 1), (13, 1), (14, 1), (2380, 1), (2381, 1), (2382, 1), (2383, 1), (2808, 1)], [(3, 1), (6, 1), (47, 1), (83, 1), (198, 1), (1214, 1), (1480, 1), (2108, 1), (3884, 1), (3885, 1), (3886, 1), (3887, 1)], [(0, 1), (6, 1), (12, 1), (14, 2), (39, 2), (47, 1), (1477, 1), (1692, 1), (1985, 1), (3102, 1), (3888, 1)], [(6, 1), (13, 1), (47, 1), (277, 1), (450, 1), (1129, 1), (3889, 1), (3890, 1), (3891, 1), (3892, 1), (3893, 1)], [(14, 1), (39, 1), (61, 1), (841, 1), (2498, 1), (3894, 1)], [(3, 1), (4, 1), (25, 1), (39, 1), (45, 1), (47, 1), (161, 2), (1892, 1)], [(84, 1), (154, 1), (161, 1), (576, 1), (733, 1), (1012, 1)], [(25, 1), (32, 1), (161, 1), (201, 1), (262, 1), (839, 1)], [(6, 1), (13, 1), (61, 1), (93, 1), (161, 1), (643, 1), (1139, 1), (1222, 2)], [(3, 1), (6, 2), (12, 2), (13, 1), (25, 1), (32, 1), (47, 1), (61, 1), (82, 1), (227, 1), (301, 2), (374, 1), (485, 1), (621, 1), (1388, 1), (1458, 1), (1490, 1), (1505, 1), (3895, 1), (3896, 1), (3897, 1), (3898, 1)], [(12, 2), (13, 1), (14, 1), (32, 1), (47, 1), (1189, 1), (1549, 1), (1714, 1), (2456, 1)], [(0, 1), (10, 1), (61, 1), (69, 1), (83, 1), (94, 1), (105, 1), (112, 1), (148, 1), (154, 1), (161, 3), (232, 1), (300, 1), (937, 1), (1495, 1), (3899, 1), (3900, 1), (3901, 1), (3902, 1)], [(12, 1), (14, 1), (49, 1), (60, 1), (105, 1), (410, 1), (789, 1), (877, 1), (3903, 1)], [(25, 1), (27, 1), (44, 1), (84, 1), (148, 1), (161, 1), (201, 1), (633, 1), (697, 1), (937, 1), (1263, 1), (1734, 2)], [(10, 1), (14, 1), (39, 1), (47, 1), (744, 1), (2399, 1), (3904, 1)], [(12, 1), (25, 1), (27, 1), (47, 1), (61, 1), (255, 1), (3905, 1), (3906, 1), (3907, 1), (3908, 1)], [(12, 1), (14, 1), (39, 1), (49, 1), (60, 1), (162, 1), (201, 1), (202, 1), (259, 1), (2082, 1), (2123, 1)], [(60, 1), (76, 1), (93, 1), (161, 2), (184, 1), (1377, 1), (1378, 1), (3209, 1)], [(6, 1), (16, 1), (32, 1), (54, 1), (57, 1), (161, 1), (226, 1), (541, 1), (592, 1)], [(3, 1), (31, 2), (39, 1), (61, 1), (62, 1), (135, 1), (460, 1), (828, 1), (1592, 1)], [(0, 1), (12, 1), (14, 1), (39, 1), (60, 1), (202, 1), (228, 1), (862, 1), (3069, 1), (3435, 1)], [(10, 1), (14, 1), (39, 1), (287, 1), (1072, 1), (1280, 1), (3909, 1)], [(25, 1), (27, 1), (347, 1), (688, 1), (1417, 1), (1440, 1), (3910, 1), (3911, 1)], [(3, 1), (31, 1), (32, 1), (855, 1), (1094, 1), (2768, 1), (3912, 1), (3913, 1)], [(6, 1), (14, 1), (20, 1), (45, 1), (60, 2), (61, 1), (69, 1), (81, 1), (83, 1), (84, 1), (277, 1), (717, 1), (726, 1), (733, 1), (1110, 1), (2222, 1), (2511, 1), (2680, 1), (3355, 1), (3914, 1), (3915, 1), (3916, 1)], [(0, 1), (12, 1), (14, 1), (39, 1), (302, 1), (410, 1), (411, 1), (3917, 1), (3918, 1)], [(0, 1), (6, 1), (12, 1), (14, 1), (39, 1), (62, 1), (84, 1), (439, 1), (497, 1), (1477, 1), (3919, 1), (3920, 1)], [(6, 1), (14, 1), (39, 1), (45, 2), (72, 1), (80, 1), (86, 2), (224, 1), (505, 1), (905, 1), (3921, 1)], [(3, 1), (7, 1), (26, 1), (27, 1), (37, 1), (47, 2), (61, 2), (161, 1), (184, 1), (224, 1), (259, 1), (726, 1), (841, 1), (3922, 1), (3923, 1)], [(12, 1), (14, 1), (16, 1), (49, 1), (105, 1), (1394, 1), (1739, 1), (3924, 1), (3925, 1)], [(0, 1), (6, 2), (14, 1), (28, 1), (69, 1), (76, 1), (83, 1), (141, 1), (161, 1), (184, 1), (257, 1), (263, 1), (303, 2), (725, 1), (930, 1), (3922, 1), (3926, 1), (3927, 1)], [(3, 1), (6, 1), (39, 1), (61, 1), (157, 1), (304, 1), (1066, 1), (1440, 1), (1557, 1), (2270, 1)], [(6, 1), (25, 1), (39, 1), (53, 1), (77, 1), (161, 1), (1543, 1), (1571, 1), (3928, 1), (3929, 1)], [(0, 1), (6, 1), (24, 1), (25, 1), (32, 1), (61, 1), (161, 2), (227, 1), (259, 1), (1701, 1), (2429, 1), (2534, 1), (3930, 1), (3931, 1)], [(0, 1), (6, 1), (12, 1), (14, 1), (18, 1), (60, 1), (93, 1), (164, 1), (340, 1), (669, 1), (839, 1), (1542, 1), (3932, 1), (3933, 1), (3934, 1)], [(3, 1), (6, 1), (7, 1), (13, 1), (512, 1), (750, 1), (1301, 1)], [(0, 3), (3, 2), (12, 1), (32, 2), (47, 1), (69, 2), (84, 1), (116, 1), (416, 1), (861, 1), (1131, 1), (1921, 1), (2137, 1), (3935, 1), (3936, 1)], [(0, 1), (14, 1), (39, 1), (47, 1), (146, 1), (582, 1), (3937, 1), (3938, 1)], [(6, 1), (12, 4), (14, 2), (16, 1), (17, 1), (47, 1), (60, 1), (61, 1), (69, 1), (84, 1), (353, 1), (733, 1), (1293, 1), (1440, 1), (1464, 1), (1524, 1), (3008, 1), (3053, 1), (3109, 2), (3939, 1), (3940, 1), (3941, 1), (3942, 1)], [(3, 1), (7, 1), (10, 1), (13, 1), (717, 1), (3943, 1), (3944, 1), (3945, 1), (3946, 1)], [(0, 1), (14, 1), (27, 1), (61, 1), (141, 1), (216, 1), (361, 1), (410, 1), (411, 1), (2467, 2), (3824, 2), (3947, 1), (3948, 1)], [(12, 1), (14, 1), (16, 1), (39, 1), (172, 1), (882, 1), (3949, 1), (3950, 1), (3951, 1), (3952, 1), (3953, 1)], [(12, 1), (35, 1), (60, 1), (105, 1), (227, 1), (355, 1), (945, 1), (1448, 1), (1542, 1), (3954, 1), (3955, 1)], [(0, 1), (12, 1), (14, 3), (39, 1), (410, 1), (411, 1), (3956, 1), (3957, 1)], [(3, 1), (6, 1), (12, 1), (25, 1), (44, 1), (60, 1), (83, 1), (85, 1), (161, 2), (259, 1), (324, 1), (676, 1), (1025, 1), (3958, 1), (3959, 1)], [(3, 1), (7, 1), (32, 1), (39, 1), (62, 2), (135, 1), (161, 1), (263, 1), (571, 1), (2548, 1)], [(24, 2), (31, 1), (60, 1), (84, 1), (163, 1), (227, 1), (481, 1), (1440, 1), (1536, 2)], [(3, 1), (10, 1), (13, 1), (20, 1), (373, 1), (636, 1), (1495, 1), (2547, 1)], [(3, 1), (6, 1), (32, 1), (47, 1), (61, 1), (82, 1), (161, 1), (901, 1), (3713, 1), (3960, 2)], [(14, 1), (16, 1), (20, 1), (31, 1), (60, 2), (61, 1), (84, 1), (93, 2), (105, 1), (151, 1), (154, 1), (161, 2), (310, 1), (559, 1), (910, 1), (1656, 1), (1801, 1), (3961, 2)], [(0, 1), (25, 1), (31, 1), (32, 1), (83, 1), (151, 1), (1102, 1), (2316, 1), (2852, 1), (3962, 1), (3963, 1)], [(6, 1), (10, 1), (12, 1), (14, 2), (16, 1), (17, 1), (39, 2), (112, 1), (533, 1), (635, 1), (1579, 1), (3964, 1), (3965, 1)], [(14, 1), (39, 1), (3966, 1)], [(3, 1), (96, 1), (112, 1), (1100, 1), (1277, 1), (3967, 1)], [(0, 2), (61, 1), (76, 2), (79, 1), (259, 1), (301, 1), (762, 2), (788, 1), (1080, 1), (1189, 1), (1388, 1), (1549, 2), (3968, 1), (3969, 1)], [(0, 1), (3, 1), (6, 3), (60, 1), (61, 3), (97, 1), (117, 1), (123, 1), (161, 2), (221, 1), (227, 2), (247, 1), (271, 1), (1304, 2), (2618, 1), (2975, 1), (3970, 1), (3971, 1), (3972, 1), (3973, 1), (3974, 1), (3975, 1)], [(6, 1), (16, 1), (17, 1), (61, 1), (105, 1), (227, 1), (450, 1), (1633, 1), (2432, 1), (2466, 1), (2514, 2), (3286, 1), (3948, 1), (3976, 1)], [(3, 1), (31, 1), (32, 1), (47, 1), (61, 1), (259, 1), (1217, 1), (1344, 1), (3977, 1)], [(12, 1), (14, 1), (39, 1), (60, 1), (202, 1), (1377, 1), (1378, 1)], [(3, 1), (24, 1), (32, 1), (161, 1), (2133, 1), (3715, 1), (3978, 1), (3979, 1)], [(12, 1), (13, 2), (25, 1), (84, 1), (161, 1), (246, 1), (259, 1), (576, 1), (747, 1), (836, 1), (3980, 1)], [(14, 1), (86, 1), (221, 1), (229, 1), (290, 1), (460, 1)], [(12, 1), (14, 1), (105, 1), (355, 1), (3981, 1), (3982, 1)], [(3, 1), (12, 1), (14, 1), (47, 1), (61, 1), (84, 1), (196, 1), (227, 1), (259, 1), (355, 1), (460, 1), (491, 1), (589, 3), (636, 1), (747, 1), (836, 1), (1140, 1), (1388, 1)], [(31, 1), (32, 1), (85, 1), (358, 1), (794, 1), (2106, 1)], [(0, 1), (3, 1), (4, 1), (39, 1), (60, 2), (61, 1), (69, 1), (83, 1), (149, 1), (161, 2), (227, 2), (263, 1), (860, 1), (1077, 1), (1279, 1), (1492, 1), (2180, 1), (2649, 1), (2775, 1), (3983, 1), (3984, 1), (3985, 1), (3986, 1)], [(12, 1), (14, 1), (33, 1), (39, 1), (2567, 1)], [(3, 1), (32, 1), (148, 1), (161, 1), (3987, 1), (3988, 1), (3989, 1)], [(25, 1), (32, 1), (61, 1), (149, 1), (161, 1), (865, 1)], [(14, 1), (31, 2), (37, 1), (39, 1), (61, 1), (79, 1), (184, 2), (196, 1), (771, 1), (844, 1), (964, 1), (1968, 1), (3990, 1)], [(25, 1), (32, 1), (117, 1), (143, 1), (161, 1), (431, 1), (3991, 1)], [(0, 1), (12, 1), (13, 1), (14, 1), (39, 1), (49, 1), (1204, 1), (1206, 1)], [(3, 1), (39, 1), (60, 1), (69, 1), (135, 1), (304, 1), (3992, 1)], [(6, 1), (12, 1), (14, 1), (16, 1), (39, 1), (49, 1), (60, 1), (61, 1), (76, 1), (390, 1), (1737, 1), (2368, 1), (2457, 1), (3993, 1), (3994, 1)], [(14, 1), (16, 1), (17, 1), (24, 1), (60, 1), (69, 1), (84, 1), (143, 1), (576, 1), (955, 1), (1110, 1), (2495, 2)], [(39, 1), (62, 1), (3995, 1), (3996, 1)], [(3, 1), (39, 1), (83, 1), (605, 1), (3670, 1), (3997, 1), (3998, 1)], [(14, 1), (39, 1), (60, 1), (84, 1), (828, 1), (1204, 1), (1206, 1), (1954, 1), (3999, 1), (4000, 1)], [(0, 1), (3, 1), (14, 1), (39, 1), (154, 1), (161, 2), (184, 1), (836, 1), (3983, 1)], [(6, 1), (12, 1), (14, 1), (53, 1), (76, 1), (939, 1), (3591, 1), (4001, 1), (4002, 1)], [(3, 1), (6, 1), (12, 2), (27, 1), (32, 1), (60, 1), (443, 1), (2608, 1), (3157, 2), (3400, 1), (3814, 1), (3816, 1)], [(0, 1), (6, 1), (12, 1), (14, 1), (92, 1), (847, 1), (1484, 1), (1522, 1), (1937, 1), (2341, 1), (2342, 1), (3647, 1), (4003, 1), (4004, 1)], [(0, 1), (6, 1), (14, 1), (61, 1), (105, 1), (657, 1), (954, 1), (1194, 1), (1195, 1), (1197, 1), (1669, 1), (1672, 1), (4005, 1), (4006, 1)], [(3, 1), (32, 1), (61, 1), (77, 1), (161, 1), (625, 1), (4007, 1)], [(12, 2), (14, 1), (16, 1), (61, 1), (1100, 1), (1314, 1), (4008, 1), (4009, 1), (4010, 1), (4011, 1)], [(14, 1), (39, 1), (60, 1), (61, 1), (69, 1), (83, 1), (227, 1), (576, 1), (3145, 1), (4012, 1)], [(10, 1), (14, 1), (39, 1), (47, 1), (61, 2), (564, 1), (1822, 1), (2831, 1), (4013, 1), (4014, 1)], [(3, 1), (6, 1), (24, 1), (31, 1), (116, 1), (128, 1), (156, 1), (257, 1), (949, 1), (1190, 1)], [(12, 2), (14, 1), (15, 1), (21, 1), (22, 1), (39, 1), (47, 1), (60, 1), (418, 1), (435, 1), (1140, 1), (1229, 1), (1524, 1), (4015, 1), (4016, 1)], [(6, 2), (12, 2), (14, 1), (49, 1), (128, 1), (675, 1), (1739, 1), (1836, 1), (3203, 1), (4017, 1), (4018, 1)], [(12, 2), (13, 1), (14, 1), (47, 1), (61, 1), (231, 1), (355, 1), (935, 1), (3116, 1), (4019, 1), (4020, 2), (4021, 1)], [(14, 1), (39, 1), (61, 1), (3874, 1), (4022, 1)], [(3, 1), (12, 1), (39, 1), (47, 1), (154, 1), (161, 1), (201, 2), (661, 1), (3384, 1), (3386, 1), (4023, 1)], [(12, 1), (14, 1), (39, 1), (47, 1), (973, 1), (4024, 1), (4025, 1)], [(7, 1), (105, 1), (154, 1), (162, 1), (200, 1), (234, 1), (2245, 1)], [(3, 1), (31, 1), (86, 1), (196, 1), (540, 1), (590, 1), (1932, 1), (4026, 1)], [(10, 1), (14, 1), (25, 1), (39, 1), (45, 1), (61, 1), (80, 1), (82, 1), (157, 1), (449, 1), (989, 1), (4027, 1)], [(25, 1), (32, 1), (60, 1), (84, 1), (112, 1), (301, 1), (435, 1), (489, 1), (673, 1), (4028, 1), (4029, 1), (4030, 1)], [(14, 1), (39, 1), (4031, 1)], [(12, 1), (13, 1), (175, 1), (301, 1), (643, 1), (1440, 1)], [(14, 1), (16, 2), (49, 1), (105, 1), (287, 1), (751, 1), (1801, 1), (4032, 1)], [(16, 1), (27, 1), (39, 1), (102, 1), (104, 1), (116, 1), (123, 1), (896, 1), (1111, 1), (2274, 1), (4033, 1), (4034, 1)], [(12, 1), (25, 1), (49, 1), (100, 1), (161, 1), (259, 1), (340, 1), (844, 1), (2571, 1), (4035, 1)], [(3, 1), (12, 1), (32, 1), (83, 2), (84, 1), (161, 2), (184, 1), (263, 1), (576, 1), (661, 1), (732, 1), (949, 1)], [(14, 1), (937, 1), (1388, 1), (4036, 1)], [(3, 1), (14, 1), (25, 2), (32, 2), (60, 1), (69, 1), (71, 2), (175, 2), (184, 2), (227, 2), (467, 1), (576, 1), (930, 1), (1229, 1), (1693, 1), (2061, 1), (4037, 1)], [(3, 1), (12, 1), (39, 1), (123, 1), (452, 1), (693, 1), (1515, 1)], [(31, 1), (61, 1), (80, 1), (227, 1), (397, 1), (481, 1), (535, 1), (2246, 1), (2876, 1)], [(3, 1), (6, 1), (13, 2), (31, 1), (84, 1), (512, 1), (576, 1), (1464, 1)], [(7, 1), (13, 1), (14, 1), (4038, 1)], [(6, 1), (12, 1), (14, 2), (25, 1), (29, 1), (80, 1), (83, 1), (84, 1), (85, 1), (112, 1), (141, 1), (221, 1), (257, 1), (435, 2), (562, 1), (813, 1), (2839, 1), (4039, 1), (4040, 1), (4041, 1)], [(6, 1), (12, 1), (14, 1), (32, 1), (61, 1), (148, 1), (476, 1), (933, 1), (1629, 1)], [(12, 1), (14, 1), (39, 1), (47, 1), (148, 1), (4042, 1)], [(7, 1), (12, 2), (32, 1), (45, 1), (47, 2), (76, 1), (422, 1), (591, 1), (1006, 1), (1409, 1), (4043, 1)], [(6, 1), (12, 1), (14, 3), (18, 1), (21, 1), (39, 1), (60, 1), (149, 1), (184, 1), (583, 1), (1140, 1), (1287, 1), (2378, 1), (4044, 1)], [(6, 1), (14, 1), (32, 1), (60, 1), (69, 1), (83, 1), (329, 1), (1841, 1)], [(6, 1), (12, 1), (14, 1), (39, 1), (1494, 1), (2325, 1), (4045, 1), (4046, 1)], [(14, 1), (69, 1), (164, 1), (321, 1), (1692, 1), (4047, 1)], [(25, 1), (32, 1), (61, 1), (161, 1), (688, 1), (1515, 1), (2128, 1), (4048, 1)], [(12, 1), (13, 1), (14, 1), (44, 1), (60, 1), (161, 1), (172, 1), (232, 1), (675, 1), (697, 1), (908, 1), (910, 1), (911, 1), (1224, 1), (2084, 1)], [(10, 1), (14, 1), (16, 1), (17, 1), (39, 1), (189, 1), (232, 1), (234, 1), (1102, 1)], [(3, 1), (12, 1), (31, 2), (39, 1), (47, 1), (83, 1), (135, 1), (898, 1), (2793, 1), (4049, 1), (4050, 1), (4051, 1)], [(6, 1), (12, 3), (32, 1), (85, 1), (97, 1), (184, 1), (222, 1), (227, 1), (309, 1), (582, 1), (1095, 1), (1333, 1), (1948, 1), (2512, 1), (3948, 1), (4052, 1)], [(3, 1), (4, 1), (14, 1), (31, 1), (39, 1), (60, 1), (69, 1), (77, 1), (83, 1), (643, 1), (725, 1), (1215, 1)], [(6, 1), (12, 2), (14, 1), (128, 1), (171, 1), (1690, 1), (4053, 1)], [(12, 1), (14, 1), (47, 1), (128, 1), (291, 1), (1977, 1), (4054, 1)], [(14, 1), (227, 1), (599, 1), (1424, 1), (1537, 1), (4055, 1)], [(0, 1), (3, 1), (14, 1), (31, 2), (37, 1), (60, 1), (61, 1), (69, 1), (83, 1), (86, 1), (149, 1), (172, 1), (198, 1), (227, 1), (279, 1), (331, 1), (481, 1), (489, 1), (576, 1), (1215, 1), (1244, 1), (1492, 1), (2680, 1), (3150, 1)], [(13, 1), (27, 1), (61, 1), (161, 1), (643, 1), (1485, 1), (2118, 1), (4056, 1), (4057, 1), (4058, 1)], [(12, 1), (16, 1), (17, 2), (24, 1), (44, 1), (60, 1), (61, 3), (76, 1), (94, 1), (143, 1), (161, 1), (227, 1), (259, 1), (263, 1), (402, 1), (1164, 1), (1351, 1), (1542, 1), (1556, 1), (2179, 1), (3051, 1), (4059, 1), (4060, 1), (4061, 1)], [(3, 1), (32, 1), (60, 1), (161, 1), (201, 1), (571, 1), (1225, 1), (2680, 1)], [(12, 1), (39, 1), (47, 1), (49, 1), (112, 1), (1110, 1), (1451, 1), (1970, 1)], [(13, 1), (161, 1), (201, 1), (643, 1), (2008, 1), (2642, 1), (2692, 1)], [(14, 1), (39, 1), (152, 1), (4062, 1)], [(12, 1), (14, 1), (47, 1), (164, 1), (289, 1), (4063, 1), (4064, 1)], [(3, 1), (32, 1), (161, 1), (168, 1), (201, 1), (205, 1), (486, 1), (937, 1), (4065, 1), (4066, 1), (4067, 1)], [(12, 1), (14, 1), (24, 1), (31, 1), (39, 1), (49, 1), (60, 1), (184, 1), (202, 1), (227, 1), (306, 1), (1467, 1), (3133, 1), (3674, 1), (4068, 1), (4069, 1)], [(3, 2), (6, 1), (31, 2), (39, 1), (77, 1), (85, 1), (128, 1), (184, 1), (576, 1), (661, 1), (725, 1), (898, 1), (1215, 2)], [(12, 1), (16, 1), (25, 1), (27, 1), (60, 1), (139, 1), (161, 1), (164, 1), (232, 1), (247, 1), (287, 1), (1933, 1), (2421, 1), (2422, 1)], [(3, 1), (39, 1), (304, 1), (4070, 1)], [(0, 1), (3, 1), (27, 1), (39, 1), (61, 1), (83, 1), (154, 1), (161, 2), (301, 2), (360, 1), (366, 1), (369, 1), (403, 1), (634, 1), (733, 1), (884, 1), (931, 1), (973, 1), (1062, 1), (1388, 1), (1435, 1), (1492, 1), (1728, 1), (1739, 1), (4071, 1), (4072, 1)], [(0, 1), (12, 1), (14, 1), (39, 1), (61, 1), (140, 1), (153, 1), (410, 1), (411, 1), (1836, 1)], [(0, 1), (10, 2), (14, 2), (39, 2), (564, 1), (4073, 1), (4074, 1)], [(4, 1), (12, 1), (14, 1), (17, 1), (39, 1), (49, 1), (60, 2), (189, 1), (460, 1), (2924, 1), (3729, 1)], [(0, 1), (6, 1), (12, 1), (13, 1), (32, 1), (61, 1), (227, 1), (235, 1), (910, 1), (1220, 1), (1221, 1), (1326, 1), (1476, 1), (3783, 1), (4075, 1)], [(6, 1), (12, 1), (14, 1), (39, 1), (49, 1), (60, 1), (248, 1), (390, 1), (480, 1), (789, 1)], [(10, 1), (14, 1), (24, 1), (39, 1), (44, 1), (60, 1), (83, 1), (162, 1), (234, 1), (491, 1), (789, 1), (1104, 1), (1361, 1), (1446, 1), (1480, 1), (1816, 1), (2216, 1), (3142, 1), (3634, 1), (4076, 1), (4077, 1)], [(3, 1), (12, 1), (14, 1), (24, 1), (39, 1), (81, 1), (481, 1), (1440, 1), (1938, 1), (3690, 1), (4078, 1)], [(12, 2), (14, 1), (44, 1), (77, 1), (128, 1), (225, 1), (228, 1), (369, 1), (756, 1), (2504, 1), (4079, 1)], [(10, 1), (14, 1), (39, 1), (49, 1), (844, 1), (877, 1), (4080, 1)], [(14, 1), (39, 1), (144, 1), (446, 1), (786, 1), (973, 1), (4081, 1)], [(6, 1), (14, 1), (162, 1), (2069, 1), (2288, 1), (4082, 1)], [(3, 1), (12, 1), (31, 1), (32, 1), (47, 1), (61, 1), (891, 1), (3386, 1), (3979, 1)], [(6, 1), (7, 1), (32, 1), (34, 1), (572, 1), (862, 1), (1110, 1), (2618, 1), (4083, 1), (4084, 1)], [(0, 1), (14, 1), (19, 1), (22, 1), (61, 1), (76, 2), (128, 1), (141, 1), (184, 1), (185, 1), (392, 1), (410, 1)], [(0, 2), (12, 1), (14, 2), (60, 1), (227, 1), (481, 1), (924, 1), (930, 1), (1647, 2), (1695, 1), (2515, 1), (3847, 1), (4085, 1), (4086, 1), (4087, 1)], [(14, 1), (39, 1), (61, 1), (83, 1), (497, 1), (2052, 1), (3185, 1), (4088, 1), (4089, 1), (4090, 1)], [(6, 1), (12, 1), (14, 1), (19, 1), (39, 1), (49, 1), (60, 1), (77, 1), (116, 1), (117, 1), (3509, 1)], [(3, 1), (16, 1), (32, 1), (61, 1), (605, 1), (1241, 1), (1606, 1), (4091, 1)], [(3, 1), (60, 1), (93, 1), (257, 1), (1542, 1), (2651, 1), (4092, 1)], [(3, 1), (39, 1), (304, 1), (1017, 1), (1388, 1)], [(6, 1), (14, 1), (25, 1), (61, 2), (84, 1), (123, 1), (128, 1), (158, 1), (161, 2), (227, 1), (259, 1), (271, 1), (290, 1), (351, 1), (361, 1), (470, 1), (1111, 1), (1236, 1), (1524, 1), (1671, 1), (2094, 1), (2256, 1), (4093, 1)], [(0, 1), (10, 1), (14, 1), (39, 1), (47, 1), (2566, 1), (3395, 1), (3809, 1), (4094, 1), (4095, 1), (4096, 1)], [(0, 1), (12, 3), (14, 1), (33, 1), (39, 1), (44, 1), (47, 1), (60, 1), (98, 1), (122, 1), (402, 1), (461, 1), (462, 1), (466, 1), (737, 1), (1110, 1), (1332, 1), (2003, 1), (2939, 1), (4097, 1)], [(3, 1), (6, 1), (12, 1), (32, 1), (47, 1), (61, 1), (148, 1), (149, 1), (497, 1), (582, 1), (1326, 1), (4098, 1), (4099, 1), (4100, 1), (4101, 1), (4102, 1)], [(12, 1), (15, 1), (22, 1), (47, 1), (53, 1), (76, 1), (128, 1), (1690, 1), (4103, 1)], [(3, 1), (61, 1), (149, 1), (460, 1), (594, 1), (595, 1), (2186, 1)], [(25, 1), (161, 1), (162, 1), (164, 1), (224, 1), (1280, 1), (3422, 1), (4104, 1)], [(6, 1), (12, 1), (14, 1), (39, 1), (152, 1), (171, 1), (2193, 1), (4105, 1)], [(14, 1), (31, 1), (47, 1), (86, 1), (271, 1), (1075, 1)], [(14, 1), (39, 1), (61, 1), (329, 1), (989, 1), (2462, 1), (4106, 1)], [(6, 1), (12, 2), (47, 1), (340, 1), (1385, 1), (1886, 1), (2421, 1), (2422, 1), (4107, 1)], [(61, 1), (76, 1), (196, 1), (227, 1), (229, 1), (246, 1), (376, 1), (599, 1), (1422, 1), (1617, 1), (2048, 1), (2399, 1), (2655, 1), (4108, 1)], [(14, 1), (39, 1), (47, 1), (175, 1), (469, 1), (4109, 1)], [(3, 1), (32, 1), (161, 1), (571, 1), (2773, 1), (3687, 1)], [(14, 1), (39, 1), (4110, 1)], [(25, 1), (32, 1), (83, 1), (161, 1), (1102, 1), (2316, 1), (3948, 1)], [(10, 1), (14, 1), (39, 1), (81, 1), (93, 1), (97, 1), (143, 1), (154, 1), (168, 1), (246, 1), (290, 1), (726, 1), (949, 1), (1548, 1), (1549, 1), (4111, 1)], [(3, 1), (27, 1), (31, 2), (32, 1), (184, 1), (227, 1), (344, 1), (349, 1), (725, 1), (949, 1)], [(0, 1), (6, 1), (12, 2), (14, 1), (32, 1), (61, 1), (85, 2), (106, 1), (148, 1), (164, 1), (301, 1), (309, 1), (335, 2), (339, 1), (472, 1), (1714, 1), (1815, 1), (2162, 1), (2443, 1), (4112, 1)], [(12, 1), (14, 1), (16, 1), (39, 1), (49, 1), (153, 1), (1232, 1), (1538, 1)], [(25, 1), (32, 1), (149, 1), (161, 1), (224, 1), (246, 1), (2157, 1)], [(24, 1), (39, 1), (341, 1), (3416, 1), (4113, 1)], [(10, 1), (14, 1), (39, 1), (47, 1), (1537, 1), (1865, 1), (3700, 1), (4114, 1), (4115, 1)], [(6, 1), (13, 1), (14, 1), (61, 1), (148, 1), (1288, 1), (4116, 1)], [(3, 1), (14, 1), (25, 1), (39, 1), (60, 1), (62, 1), (135, 1), (161, 1), (418, 1), (498, 1), (571, 1), (654, 1), (1215, 1), (4117, 1), (4118, 1)], [(6, 1), (12, 1), (14, 1), (19, 1), (39, 1), (46, 1), (47, 1), (60, 1), (61, 1), (1484, 1), (2564, 1), (4119, 1)], [(0, 1), (3, 2), (17, 1), (61, 1), (143, 1), (227, 1), (450, 1), (1130, 1), (1388, 1), (1548, 1), (2249, 1), (2450, 1), (2765, 1), (2766, 1), (3797, 1)], [(14, 1), (25, 1), (172, 1), (344, 1), (1963, 1), (2205, 1), (4120, 1), (4121, 1)], [(0, 1), (3, 1), (13, 1), (19, 1), (44, 1), (345, 1), (460, 1), (1182, 1), (2256, 1)], [(0, 1), (12, 1), (14, 1), (16, 1), (39, 1), (61, 2), (140, 1), (194, 1), (696, 2), (1632, 1), (4122, 1)], [(76, 1), (460, 1), (2081, 1), (3871, 1), (4123, 1)], [(3, 1), (6, 1), (32, 1), (151, 1), (161, 1), (541, 1), (668, 1), (2411, 1)], [(3, 1), (14, 2), (18, 1), (32, 1), (60, 1), (83, 1), (84, 1), (161, 1), (184, 2), (263, 1), (361, 1), (367, 1), (732, 1), (949, 1), (1001, 1), (1388, 1), (3938, 1)], [(12, 1), (14, 1), (39, 1), (47, 1), (49, 1), (60, 1), (202, 1), (259, 1), (394, 1), (1217, 1), (4124, 1)], [(0, 1), (6, 1), (12, 1), (14, 2), (19, 1), (39, 1), (60, 2), (80, 1), (120, 1), (277, 1), (306, 1), (360, 1), (576, 1), (3306, 1)], [(12, 2), (14, 1), (60, 1), (61, 1), (69, 1), (184, 1), (226, 1), (742, 1), (750, 2), (4125, 1), (4126, 1), (4127, 1), (4128, 1)], [(6, 1), (12, 1), (14, 1), (39, 1), (83, 1), (86, 1), (2444, 1), (4129, 1), (4130, 1)], [(12, 1), (14, 1), (16, 1), (39, 1), (49, 1), (138, 1), (139, 1), (152, 1), (1697, 1)], [(12, 1), (14, 1), (39, 1), (60, 1), (69, 1), (83, 1), (172, 1), (376, 1), (4131, 1), (4132, 1), (4133, 1), (4134, 1)], [(25, 1), (32, 1), (61, 2), (442, 1), (544, 1), (2568, 1), (2596, 1), (4135, 1)], [(6, 1), (12, 1), (14, 1), (39, 1), (49, 1), (2618, 1), (2906, 1), (3407, 1), (4136, 1), (4137, 1), (4138, 1)], [(14, 1), (32, 1), (196, 1), (726, 1), (4139, 1), (4140, 1)], [(6, 1), (12, 1), (14, 1), (39, 1), (79, 1), (135, 1), (301, 1), (460, 1), (2269, 1)], [(12, 1), (13, 1), (14, 1), (84, 1), (3636, 1), (4094, 3), (4141, 1), (4142, 1)], [(12, 2), (14, 1), (47, 1), (128, 1), (175, 1), (878, 1), (1833, 1), (4143, 1)], [(3, 1), (12, 1), (19, 1), (31, 1), (39, 1), (47, 1), (62, 1), (135, 1), (216, 1), (4144, 1)], [(7, 1), (10, 1), (13, 1), (27, 1), (161, 1), (643, 1), (2050, 1), (2724, 1)], [(10, 1), (14, 1), (17, 1), (39, 1), (60, 1), (540, 1), (590, 1), (1579, 1)], [(3, 1), (4, 1), (13, 1), (14, 1), (17, 1), (37, 1), (83, 1), (161, 1), (184, 1), (196, 1), (373, 1), (635, 1), (856, 1), (1071, 1), (4145, 1), (4146, 1), (4147, 1), (4148, 1)], [(61, 1), (112, 1), (340, 1), (496, 1), (1199, 1), (4149, 1)], [(7, 1), (31, 1), (39, 1), (47, 1), (60, 2), (61, 1), (77, 1), (83, 1), (84, 2), (85, 1), (93, 1), (117, 1), (128, 1), (135, 1), (143, 1), (331, 1), (355, 1), (363, 1), (394, 1), (403, 1), (650, 1), (851, 1), (1691, 1), (1964, 1), (2898, 1), (4150, 1), (4151, 1), (4152, 1)], [(12, 1), (14, 1), (39, 1), (60, 1), (2283, 1), (4153, 2), (4154, 1)], [(14, 1), (3118, 1), (4155, 1)], [(12, 1), (14, 1), (39, 1), (49, 1), (844, 1), (4156, 1), (4157, 1)], [(13, 1), (14, 1), (4158, 2), (4159, 2)], [(0, 1), (6, 1), (12, 2), (14, 2), (27, 1), (39, 2), (60, 1), (79, 1), (93, 1), (449, 1), (737, 1), (878, 1), (1674, 1), (2366, 1), (3387, 1)], [(14, 2), (61, 1), (69, 1), (84, 1), (2369, 1), (3610, 1), (4160, 1), (4161, 1)], [(25, 1), (32, 1), (60, 1), (61, 1), (84, 1), (139, 1), (224, 1), (676, 1), (1254, 1), (1268, 1), (2494, 1), (3732, 1), (4162, 1), (4163, 1), (4164, 1)], [(0, 1), (8, 1), (12, 1), (14, 1), (16, 1), (39, 1), (49, 1), (815, 1), (2421, 1), (2422, 1), (4165, 1), (4166, 1)], [(3, 1), (6, 1), (12, 1), (31, 1), (32, 1), (47, 1), (61, 1), (259, 1), (397, 1), (1110, 1), (1485, 1), (1501, 1), (4167, 1), (4168, 1)], [(14, 1), (17, 1), (31, 1), (32, 1), (61, 1), (85, 1), (128, 1), (143, 1), (157, 1), (298, 1), (2624, 1)], [(3, 2), (14, 1), (31, 1), (39, 1), (86, 1), (184, 1), (725, 1), (1440, 1), (1442, 1)], [(10, 1), (14, 1), (39, 1), (81, 1), (93, 1), (97, 1), (143, 1), (154, 1), (168, 1), (246, 1), (290, 1), (726, 1), (913, 1), (949, 1), (1548, 1), (2489, 1)], [(12, 1), (14, 1), (39, 1), (49, 1), (60, 1), (86, 1), (202, 1), (385, 1), (2133, 1), (2205, 1)], [(10, 1), (14, 1), (39, 1), (617, 1), (901, 1), (4169, 1)], [(0, 1), (12, 1), (14, 1), (39, 1), (410, 1), (411, 1), (1346, 1), (4170, 1), (4171, 1)], [(3, 1), (12, 1), (32, 1), (44, 1), (161, 1), (201, 1), (346, 1), (1110, 1), (2050, 1), (3421, 1), (4172, 1), (4173, 1)], [(14, 1), (39, 1), (86, 1), (828, 1), (4174, 1)], [(12, 1), (14, 1), (39, 1), (47, 1), (60, 1), (61, 2), (80, 1), (83, 1), (116, 1), (148, 1), (289, 1), (297, 1), (520, 1), (726, 1), (880, 2), (1599, 1), (1923, 1), (2739, 1), (3230, 1), (3697, 1), (4175, 1), (4176, 1), (4177, 1)], [(12, 1), (13, 1), (14, 1), (355, 1), (654, 1), (1110, 1), (1822, 1), (1921, 2), (3191, 1), (4178, 1)], [(6, 1), (14, 1), (29, 1), (562, 1), (712, 1), (4179, 1)], [(3, 1), (32, 1), (44, 1), (1401, 2), (2450, 1), (4180, 1), (4181, 1)], [(3, 1), (12, 1), (25, 1), (39, 1), (60, 1), (161, 1), (957, 1), (1351, 1), (4182, 1)], [(12, 1), (14, 1), (31, 1), (47, 1), (49, 1), (105, 1), (841, 1)], [(12, 1), (14, 1), (17, 1), (39, 1), (62, 1), (81, 1), (1763, 1)], [(6, 1), (10, 1), (14, 1), (17, 1), (39, 1), (500, 1), (3965, 1)], [(6, 1), (10, 1), (14, 1), (27, 1), (39, 1), (60, 1), (776, 1), (1446, 1), (2051, 1), (2208, 1), (2885, 1), (4183, 1), (4184, 1)], [(25, 1), (27, 1), (31, 2), (32, 1), (61, 1), (80, 1), (170, 1), (225, 1), (346, 1), (1441, 1)], [(14, 1), (24, 1), (30, 1), (39, 1), (44, 1), (60, 1), (61, 1), (69, 1), (202, 1), (666, 1), (2208, 1), (2707, 1), (3189, 1), (4185, 1), (4186, 1)], [(12, 1), (14, 1), (47, 1), (158, 1), (196, 1), (981, 1), (1246, 1), (1421, 1), (2372, 1), (3870, 1)], [(13, 1), (14, 1), (497, 2), (498, 1), (604, 1), (650, 1), (1145, 1), (4187, 1)], [(3, 1), (16, 1), (32, 1), (57, 1), (161, 1), (959, 1), (4188, 1)], [(0, 2), (3, 1), (12, 3), (14, 1), (32, 1), (39, 1), (47, 3), (60, 1), (443, 1), (663, 1), (1388, 1), (1884, 3), (1886, 1), (1887, 1), (4189, 1)], [(23, 1), (25, 1), (61, 1), (161, 1), (164, 1), (259, 1), (4190, 1)], [(6, 1), (12, 1), (14, 1), (19, 1), (105, 1), (122, 1), (150, 1)], [(3, 1), (39, 1), (62, 1), (135, 1), (360, 1), (732, 1), (4191, 1)], [(12, 1), (14, 1), (128, 2), (171, 1), (339, 1), (798, 1), (4192, 1), (4193, 1), (4194, 1)], [(10, 1), (25, 1), (149, 1), (246, 1), (2030, 1), (3950, 1), (4195, 1), (4196, 1)], [(0, 1), (12, 1), (14, 1), (306, 1), (1323, 1), (2132, 1), (2134, 1), (2863, 1), (4197, 1), (4198, 1), (4199, 1), (4200, 1)], [(3, 1), (13, 1), (20, 1), (60, 1), (259, 1), (403, 1), (443, 1), (1323, 1), (3015, 1), (4201, 1)], [(14, 1), (84, 1), (96, 1), (105, 1), (314, 1), (762, 1), (4202, 1)], [(14, 1), (16, 1), (39, 1), (49, 1), (61, 1), (162, 1), (489, 1), (1111, 1), (1236, 1)], [(0, 1), (12, 1), (25, 1), (31, 1), (39, 1), (47, 1), (158, 1), (222, 1), (259, 1), (828, 1), (1110, 1), (1592, 2), (1892, 1)], [(3, 1), (12, 1), (32, 1), (44, 1), (47, 1), (60, 1), (69, 1), (161, 1), (201, 1), (227, 1), (472, 1), (895, 1), (2797, 1), (4203, 1), (4204, 1), (4205, 1)], [(12, 1), (14, 1), (39, 1), (60, 1), (202, 1), (262, 1), (496, 1), (784, 1), (1498, 1), (2886, 1)], [(0, 1), (6, 1), (12, 1), (13, 1), (14, 1), (39, 1), (49, 1), (60, 1), (329, 1), (756, 1)], [(0, 1), (12, 1), (14, 1), (39, 1), (61, 2), (410, 1), (411, 1), (1633, 2), (2483, 1), (2859, 1), (3436, 2)], [(12, 1), (14, 1), (47, 1), (49, 1), (53, 1), (105, 1), (828, 1)], [(12, 1), (14, 1), (16, 1), (39, 1), (395, 1), (4206, 1)], [(6, 2), (12, 2), (14, 3), (27, 1), (39, 1), (61, 2), (69, 2), (80, 1), (141, 1), (143, 1), (176, 1), (201, 1), (226, 1), (227, 1), (244, 1), (301, 1), (362, 1), (460, 1), (661, 1), (932, 1), (1216, 1), (1221, 1), (1326, 1), (1347, 1), (1503, 1), (1524, 1), (1671, 1), (3009, 1), (4207, 1), (4208, 1), (4209, 1), (4210, 1), (4211, 2), (4212, 1), (4213, 1), (4214, 1), (4215, 1), (4216, 1)], [(12, 1), (14, 1), (39, 1), (47, 1), (480, 1), (508, 1), (613, 1), (767, 1)], [(45, 1), (196, 1), (1542, 1)], [(12, 2), (13, 1), (14, 1), (16, 1), (47, 1), (336, 1), (973, 1), (4217, 1), (4218, 1), (4219, 1)], [(3, 1), (12, 1), (14, 1), (44, 1), (61, 2), (96, 1), (161, 1), (224, 1), (259, 1), (300, 1), (487, 1), (708, 1), (1100, 1), (1949, 1), (4220, 1), (4221, 2)], [(12, 1), (14, 1), (39, 1), (116, 1), (171, 1), (911, 1), (1739, 1), (4222, 1), (4223, 1)], [(6, 1), (14, 1), (1091, 1), (1970, 1), (4224, 1), (4225, 1)], [(14, 2), (31, 1), (47, 1), (60, 1), (80, 1), (141, 1), (172, 1), (184, 1), (257, 1), (599, 1), (1502, 1), (1646, 1), (1806, 1), (4226, 1), (4227, 1)], [(10, 1), (14, 1), (39, 1), (81, 1), (93, 1), (97, 1), (143, 1), (154, 1), (168, 1), (246, 1), (290, 1), (726, 1), (949, 1), (1548, 1), (4228, 1)], [(14, 1), (128, 1), (4229, 1), (4230, 1)], [(6, 1), (32, 1), (154, 1), (224, 2), (246, 1), (373, 1), (919, 1), (2682, 1)], [(6, 1), (12, 1), (13, 1), (14, 2), (16, 1), (32, 1), (39, 1), (69, 1), (227, 1), (373, 1), (374, 1), (1417, 1), (1876, 2), (3548, 1), (4231, 1), (4232, 1), (4233, 1), (4234, 1)], [(12, 1), (14, 1), (31, 1), (39, 1), (45, 1), (227, 1), (228, 1), (449, 1), (452, 1), (985, 1), (1130, 1), (1215, 1), (4235, 1)], [(12, 1), (14, 1), (105, 1), (621, 1), (3690, 1), (4236, 1), (4237, 1)], [(14, 2), (16, 1), (21, 1), (60, 1), (61, 1), (128, 1), (154, 1), (161, 2), (184, 1), (259, 1), (621, 1), (1178, 1), (1264, 1), (1376, 1), (1495, 1), (2089, 1), (2177, 1), (2515, 1), (2944, 1)], [(3, 2), (6, 1), (31, 1), (39, 1), (86, 1), (1066, 1), (4238, 1)], [(7, 1), (12, 1), (14, 1), (16, 1), (47, 1), (60, 1), (69, 1), (158, 1), (259, 1), (583, 1), (584, 1), (650, 1), (762, 1), (1217, 1), (1542, 1), (1881, 1), (4239, 1)], [(12, 1), (14, 1), (33, 1), (39, 1), (47, 2), (91, 1), (264, 1), (463, 1)], [(10, 1), (13, 1), (14, 3), (47, 1), (60, 1), (97, 1), (161, 1), (201, 1), (231, 1), (302, 1), (485, 1), (534, 1), (4056, 1), (4057, 1), (4240, 1), (4241, 1)], [(3, 1), (6, 1), (12, 2), (13, 1), (491, 1), (1921, 1), (2514, 1), (4242, 1), (4243, 1), (4244, 1), (4245, 1)], [(14, 1), (39, 1), (61, 1), (3896, 1), (4246, 1)], [(32, 1), (154, 1), (161, 1), (634, 1), (1122, 1), (4247, 1)], [(6, 1), (12, 1), (14, 1), (16, 1), (49, 1), (105, 1), (711, 1), (1090, 1), (4248, 1)], [(3, 1), (14, 1), (18, 1), (25, 1), (39, 1), (60, 1), (161, 2), (263, 1), (300, 1), (418, 1), (499, 1), (1492, 1), (3711, 1), (4249, 1)], [(0, 1), (3, 1), (12, 1), (14, 1), (27, 1), (32, 1), (47, 1), (61, 1), (69, 1), (128, 1), (157, 1), (161, 2), (259, 1), (303, 1), (306, 1), (669, 1), (949, 1), (973, 1), (1636, 1), (2443, 1), (3169, 1)], [(14, 1), (39, 1), (4250, 1)], [(6, 1), (12, 1), (14, 1), (39, 1), (60, 1), (61, 1), (104, 1), (245, 1), (351, 1), (3148, 1), (4251, 1), (4252, 1)], [(12, 1), (14, 1), (24, 1), (39, 1), (47, 1), (60, 1), (298, 1), (441, 1), (589, 1), (686, 1), (839, 1), (1932, 1), (2349, 1), (4253, 1), (4254, 1)], [(6, 1), (12, 2), (14, 1), (105, 1), (228, 1), (309, 1), (877, 1), (3401, 1)], [(6, 1), (25, 1), (32, 1), (54, 1), (161, 1), (224, 1), (539, 1), (540, 1), (2769, 1)], [(3, 1), (32, 1), (161, 1), (713, 1), (925, 1), (2737, 1), (3013, 1), (4255, 1)], [(3, 1), (12, 1), (13, 1), (44, 1), (47, 1), (499, 1), (2256, 1), (4256, 1), (4257, 1), (4258, 1)], [(6, 1), (12, 1), (14, 1), (25, 1), (32, 1), (161, 1), (314, 1), (484, 1)], [(14, 1), (31, 1), (60, 1), (61, 1), (69, 1), (159, 1), (459, 1), (541, 1), (650, 1), (1199, 1), (1469, 1), (2159, 1)], [(6, 1), (12, 1), (14, 1), (69, 2), (80, 1), (119, 1), (227, 1), (1293, 1), (1452, 1), (2415, 1), (2416, 1), (3013, 1), (3200, 1)], [(14, 1), (16, 1), (60, 1), (69, 1), (85, 1), (112, 1), (344, 1), (981, 1), (3043, 1), (3550, 1), (4259, 1), (4260, 1), (4261, 1), (4262, 1)], [(25, 1), (32, 1), (47, 1), (161, 1), (201, 1), (1002, 1), (1003, 1), (4263, 1)], [(3, 2), (12, 2), (32, 1), (69, 1), (80, 2), (143, 1), (227, 2), (448, 1), (460, 1), (499, 1), (582, 1), (1110, 1), (1471, 2), (1630, 1), (2202, 1), (3342, 2), (4264, 1)], [(4, 1), (12, 1), (39, 1), (47, 1), (83, 1), (154, 1), (201, 1), (331, 1), (1580, 1)], [(6, 1), (12, 2), (14, 2), (32, 1), (39, 1), (228, 1), (309, 1), (448, 1), (910, 1), (2157, 1), (3695, 1)], [(6, 2), (25, 1), (32, 1), (61, 1), (161, 1), (201, 1), (262, 1), (356, 1), (1498, 1), (2623, 1), (2769, 1), (3918, 1), (4265, 1), (4266, 1)], [(3, 1), (32, 1), (161, 1), (244, 1), (259, 1), (4267, 1)], [(0, 1), (12, 1), (340, 1), (410, 1), (411, 1), (4268, 1), (4269, 1), (4270, 1)], [(6, 1), (9, 1), (12, 1), (25, 1), (31, 1), (69, 1), (184, 1), (676, 1), (756, 1), (901, 1), (2107, 1), (4271, 1)], [(0, 1), (12, 1), (14, 1), (39, 1), (410, 1), (411, 1), (4272, 1), (4273, 1)], [(3, 1), (6, 1), (32, 1), (61, 1), (112, 1), (117, 1), (143, 1), (161, 1), (263, 1), (1029, 1), (1199, 1)], [(12, 1), (25, 1), (32, 1), (161, 1), (196, 1), (1025, 1), (1281, 1), (1349, 1), (1351, 1)], [(0, 1), (25, 1), (62, 1), (95, 1), (161, 1), (164, 1), (259, 1), (2425, 1), (3507, 1), (4274, 1)], [(0, 1), (3, 1), (6, 1), (12, 3), (14, 1), (32, 1), (39, 1), (47, 1), (60, 1), (443, 1), (464, 2), (1346, 1), (1985, 1), (4275, 1), (4276, 1), (4277, 1), (4278, 2)], [(0, 1), (3, 2), (14, 1), (32, 1), (61, 1), (120, 1), (128, 1), (149, 1), (161, 1), (172, 1), (360, 1), (576, 1), (635, 1), (1118, 1), (4279, 2)], [(3, 1), (26, 1), (29, 1), (32, 1), (161, 1), (201, 1), (384, 1), (1440, 1), (4280, 1)], [(0, 1), (13, 1), (14, 2), (44, 1), (45, 1), (61, 2), (117, 1), (161, 2), (201, 1), (227, 1), (329, 1), (345, 1), (380, 1), (394, 1), (430, 1), (571, 1), (643, 1), (1172, 1), (1215, 1), (2548, 1), (3835, 1), (4281, 1)], [(0, 1), (12, 1), (14, 1), (39, 1), (279, 1), (410, 1), (411, 1), (935, 1), (1351, 1), (4215, 1), (4282, 1), (4283, 2)], [(6, 1), (14, 1), (45, 1), (60, 1), (69, 1), (403, 1), (981, 1), (2203, 1), (4284, 1)], [(12, 1), (14, 1), (39, 1), (121, 1), (201, 1), (571, 1), (882, 1), (1058, 1)], [(31, 1), (39, 1), (45, 1), (80, 1), (82, 1), (86, 1), (227, 1), (828, 1), (1592, 1)], [(12, 1), (14, 1), (16, 1), (39, 1), (49, 1), (60, 1), (139, 1), (151, 1), (2051, 1), (3367, 1), (3378, 1)], [(3, 1), (14, 1), (32, 1), (61, 1), (77, 1), (128, 1), (161, 1), (625, 1), (815, 1), (3917, 1), (4285, 1)], [(3, 1), (13, 1), (20, 1), (60, 1), (751, 1), (1495, 1), (2218, 1), (3835, 1), (4286, 1)], [(14, 2), (44, 1), (69, 1), (80, 1), (844, 1), (1092, 1), (1273, 1), (1293, 1), (2880, 1), (4287, 1), (4288, 1), (4289, 1)], [(6, 1), (12, 1), (14, 1), (128, 1), (184, 1), (601, 1), (1535, 1), (1590, 1), (1896, 1), (1932, 1), (2374, 1), (4290, 1)], [(3, 1), (13, 1), (1377, 1), (1378, 1), (4291, 1)], [(3, 1), (31, 1), (32, 1), (36, 1), (86, 1), (4292, 1)], [(25, 1), (32, 1), (61, 1), (161, 1), (1084, 1), (4293, 1)], [(39, 1), (61, 1), (112, 1), (636, 1), (1237, 1)], [(0, 1), (12, 1), (14, 1), (16, 1), (49, 1), (105, 1), (203, 1), (711, 1), (1556, 1), (4294, 1)], [(3, 1), (7, 1), (13, 1), (148, 1), (225, 1), (227, 1), (301, 1), (460, 1), (697, 1), (1310, 1)], [(6, 1), (19, 1), (32, 1), (60, 1), (83, 1), (839, 1), (4002, 1), (4295, 1)], [(62, 1), (116, 1), (4296, 1)], [(3, 1), (12, 1), (32, 1), (374, 1), (2291, 1), (2777, 1)], [(0, 1), (6, 1), (39, 1), (47, 1), (105, 1), (227, 1), (228, 1), (235, 1), (259, 1), (499, 1), (1140, 1), (1278, 1), (3112, 1), (4297, 1), (4298, 1), (4299, 1)], [(3, 1), (6, 1), (32, 1), (61, 1), (93, 1), (161, 1), (201, 1), (259, 1), (290, 1), (1222, 2), (4300, 1)], [(14, 1), (16, 1), (17, 1), (61, 1), (150, 1), (896, 1), (4301, 1), (4302, 1)], [(39, 1), (61, 1), (154, 1), (161, 1), (184, 1), (201, 1), (258, 1), (376, 1), (485, 1), (870, 1), (1131, 1), (2657, 1), (4303, 1), (4304, 1)], [(3, 1), (4, 1), (12, 1), (39, 1), (47, 1), (61, 1), (83, 1), (123, 1), (246, 1), (290, 1), (517, 1), (1629, 1), (4083, 1)], [(0, 2), (3, 1), (4, 1), (6, 1), (14, 4), (17, 1), (39, 1), (47, 1), (60, 1), (61, 2), (62, 1), (80, 1), (97, 2), (122, 1), (123, 2), (154, 1), (161, 6), (201, 1), (221, 1), (227, 1), (257, 2), (259, 1), (271, 1), (576, 2), (675, 1), (794, 2), (1100, 1), (1110, 1), (1190, 1), (1253, 1), (1357, 1), (1388, 1), (1615, 1), (1818, 1), (1903, 1), (2017, 1), (2637, 1), (2885, 1), (4305, 1), (4306, 1), (4307, 1), (4308, 1)], [(0, 2), (3, 1), (24, 1), (39, 1), (61, 3), (77, 1), (83, 1), (117, 1), (176, 1), (410, 1), (661, 1), (732, 1), (1306, 1), (1739, 1), (2429, 1), (4309, 1)], [(3, 1), (12, 2), (39, 1), (47, 1), (62, 1), (281, 1), (282, 1), (403, 1), (535, 1), (4310, 1)], [(10, 1), (14, 1), (39, 1), (49, 1), (828, 1), (4311, 1)], [(6, 1), (12, 1), (14, 1), (19, 1), (39, 1), (49, 1), (60, 1), (390, 1), (409, 1), (4312, 1)], [(14, 1), (32, 1), (112, 1), (241, 1), (4313, 1)], [(0, 1), (12, 1), (14, 1), (25, 1), (80, 1), (141, 1), (257, 1), (582, 1), (1647, 1), (1692, 1), (2051, 1), (3124, 1), (3387, 1), (4071, 1)], [(12, 1), (14, 1), (16, 1), (49, 1), (105, 1), (151, 1), (287, 1), (4314, 1), (4315, 1)], [(12, 1), (25, 1), (32, 1), (47, 2), (161, 1), (283, 1), (800, 1), (1509, 1), (2511, 1), (4316, 1), (4317, 1)], [(1, 1), (3, 1), (13, 1), (14, 1), (161, 1), (201, 1), (460, 1), (1722, 1), (4318, 1), (4319, 1), (4320, 1)], [(6, 1), (7, 1), (10, 1), (12, 1), (14, 1), (25, 1), (39, 1), (45, 1), (77, 1), (159, 1), (726, 1), (1435, 1), (2009, 1), (4321, 1), (4322, 1)], [(14, 1), (61, 1), (69, 1), (140, 1), (149, 1), (696, 1), (708, 1)], [(13, 1), (14, 1), (20, 1), (60, 1), (636, 1), (854, 1), (4323, 1), (4324, 1)], [(0, 1), (14, 1), (19, 1), (30, 1), (39, 1), (83, 1), (85, 1), (496, 1), (497, 1), (675, 1), (908, 1), (1062, 1), (1084, 1), (1933, 1), (3387, 1), (4325, 1), (4326, 1)], [(3, 1), (13, 1), (61, 1), (170, 1), (201, 1), (225, 1), (594, 1), (1352, 1), (1784, 1)], [(76, 1), (227, 1), (301, 1), (2107, 1), (4327, 1)], [(6, 1), (12, 2), (14, 1), (32, 1), (34, 1), (47, 2), (60, 1), (148, 1), (161, 1), (300, 1), (392, 1), (440, 1), (949, 1), (4328, 1), (4329, 1), (4330, 1)], [(12, 1), (14, 1), (39, 1), (46, 1), (47, 1), (4331, 1), (4332, 1), (4333, 1)], [(0, 1), (3, 2), (14, 4), (18, 1), (31, 2), (32, 2), (60, 1), (80, 1), (81, 1), (84, 1), (141, 1), (184, 1), (282, 1), (301, 1), (337, 1), (367, 1), (460, 1), (571, 1), (599, 1), (621, 1), (1495, 1), (3399, 1), (4334, 1), (4335, 1)], [(4, 1), (60, 1), (61, 1), (77, 1), (80, 1), (154, 1), (161, 2), (201, 1), (360, 1), (363, 1), (418, 1), (574, 1), (734, 1), (1495, 1), (1649, 1), (2407, 1), (2794, 1), (4151, 1), (4336, 1)], [(12, 1), (39, 1), (47, 1), (1490, 1), (1555, 1), (1692, 1), (4337, 1), (4338, 1)], [(0, 1), (6, 1), (14, 1), (16, 1), (31, 1), (61, 1), (176, 1), (395, 1), (1126, 1), (1690, 1), (4339, 1), (4340, 1), (4341, 1)], [(3, 1), (12, 1), (16, 1), (29, 1), (31, 1), (32, 1), (47, 1), (61, 1), (80, 1), (168, 1), (1846, 1), (3142, 1), (3192, 1), (4342, 1), (4343, 1), (4344, 1), (4345, 1)], [(0, 1), (14, 1), (16, 1), (83, 1), (141, 1), (257, 1), (403, 1), (508, 1), (686, 1), (1451, 1), (1970, 1), (3502, 1), (4346, 1)], [(14, 1), (17, 1), (39, 1), (47, 1), (61, 1), (85, 1), (564, 1), (4347, 1)], [(14, 1), (39, 1), (47, 1), (86, 1), (1254, 1), (3509, 1), (4348, 1)], [(0, 1), (14, 1), (39, 1), (56, 1), (77, 1), (564, 1), (4349, 1), (4350, 1)], [(0, 1), (6, 1), (14, 1), (19, 1), (39, 1), (56, 1), (271, 1), (743, 1), (1556, 1), (3691, 1), (4351, 1)], [(25, 1), (32, 1), (161, 1), (201, 1), (262, 1), (4352, 1)], [(3, 1), (13, 1), (31, 1), (105, 1), (359, 1), (1308, 1), (4353, 1)], [(14, 1), (80, 1), (141, 1), (196, 1), (257, 1), (1539, 1), (2205, 1), (4354, 1), (4355, 1)], [(0, 1), (3, 1), (32, 1), (161, 1), (4356, 1), (4357, 1), (4358, 1)], [(3, 1), (27, 1), (32, 1), (161, 1), (201, 1), (234, 1), (416, 1), (417, 1)], [(10, 1), (14, 1), (39, 1), (60, 1), (61, 3), (202, 1), (348, 1), (3731, 1), (4359, 1)], [(12, 2), (76, 1), (460, 1), (1334, 1), (1622, 1), (4360, 1)], [(6, 1), (7, 1), (12, 1), (14, 1), (32, 1), (34, 1), (141, 1), (309, 1), (855, 1)], [(0, 1), (14, 1), (39, 1), (2106, 1), (4361, 1), (4362, 1)], [(6, 1), (12, 1), (14, 1), (16, 2), (17, 1), (39, 1), (60, 2), (61, 1), (158, 1), (290, 1), (394, 1), (460, 1), (1049, 1), (1050, 1), (1052, 1), (1053, 1), (1054, 1), (1055, 1), (1056, 1), (1475, 1)], [(12, 1), (14, 1), (39, 1), (47, 1), (747, 1), (1683, 1), (3102, 1), (4136, 1), (4363, 1)], [(21, 1), (31, 1), (60, 1), (85, 1), (86, 1), (583, 1), (3718, 1), (3914, 1), (4364, 1)], [(3, 1), (32, 1), (45, 1), (82, 1), (86, 1), (269, 1)], [(3, 1), (10, 1), (14, 1), (16, 1), (39, 1), (61, 2), (80, 1), (86, 1), (116, 1), (143, 2), (259, 1), (271, 1), (576, 1), (1448, 1), (1579, 1), (2556, 1), (3800, 1)], [(10, 1), (14, 1), (39, 1), (60, 1), (202, 1), (571, 1), (659, 1), (986, 1), (1062, 1)], [(3, 1), (32, 1), (61, 2), (161, 1), (590, 1), (1932, 1), (4365, 1)], [(3, 1), (16, 1), (32, 1), (57, 1), (301, 1), (4366, 1)], [(3, 1), (17, 1), (24, 1), (44, 1), (61, 1), (76, 1), (161, 1), (196, 1), (259, 1), (271, 1), (272, 1), (3047, 1)], [(12, 1), (14, 1), (39, 1), (61, 1), (80, 1), (81, 1), (84, 1), (227, 1), (228, 1), (535, 1), (1202, 1), (1854, 1), (4367, 1)], [(3, 1), (12, 1), (14, 1), (27, 1), (32, 1), (39, 1), (44, 1), (46, 1), (47, 1), (69, 1), (403, 1), (1094, 1), (2909, 1), (3616, 1), (4368, 1), (4369, 1), (4370, 1), (4371, 1)], [(14, 1), (61, 1), (2947, 1), (4372, 1), (4373, 1), (4374, 1)], [(6, 1), (12, 1), (14, 1), (16, 1), (39, 1), (54, 1), (123, 1), (152, 1), (285, 1), (334, 1), (599, 1), (749, 1), (1753, 1), (4375, 1)], [(12, 1), (14, 1), (39, 1), (47, 1), (61, 1), (84, 1), (459, 1), (656, 1), (767, 1), (778, 1), (2655, 1), (2769, 1)], [(14, 1), (16, 1), (105, 1), (152, 1), (813, 1), (1762, 1), (4376, 1), (4377, 1)], [(13, 1), (154, 1), (161, 1), (1870, 1), (2495, 1)], [(12, 2), (14, 1), (16, 1), (39, 1), (49, 1), (57, 1), (60, 1), (202, 1), (1351, 1), (4378, 1), (4379, 1)], [(3, 1), (6, 1), (12, 1), (24, 1), (31, 1), (32, 1), (47, 1), (363, 1), (674, 1), (744, 1), (1739, 1), (2128, 1), (3353, 1)], [(14, 1), (164, 1), (4380, 1), (4381, 1)], [(24, 1), (25, 1), (32, 1), (161, 1), (259, 1), (487, 1), (4382, 1)], [(16, 1), (39, 1), (150, 1), (151, 1), (152, 1), (154, 1), (161, 1), (435, 1), (794, 1), (830, 1)], [(14, 1), (26, 1), (27, 1), (60, 1), (69, 1), (96, 1), (112, 1), (1719, 1), (1907, 1)], [(184, 1), (930, 1), (2358, 1), (4383, 1), (4384, 1), (4385, 1), (4386, 1), (4387, 1), (4388, 1), (4389, 1)], [(3, 1), (32, 1), (77, 1), (161, 1), (201, 1), (675, 1), (973, 1), (1777, 1), (2734, 1)], [(12, 1), (14, 1), (16, 2), (39, 1), (49, 1), (287, 1), (776, 1), (1288, 1), (1801, 1)], [(0, 1), (12, 1), (14, 1), (39, 1), (410, 1), (411, 1), (1027, 2), (4390, 1), (4391, 1)], [(3, 1), (31, 1), (32, 1), (61, 1), (1320, 1), (3127, 1), (4392, 1)], [(6, 1), (60, 1), (69, 1), (83, 1), (329, 1), (340, 1), (4393, 1)], [(0, 1), (3, 1), (6, 1), (31, 2), (39, 1), (60, 1), (61, 1), (85, 1), (279, 1), (535, 1), (978, 1), (1279, 1), (1649, 1), (2084, 1), (2202, 1), (4320, 1), (4394, 1), (4395, 1), (4396, 1)], [(3, 1), (12, 1), (27, 1), (32, 1), (60, 1), (161, 1), (201, 1), (205, 1), (231, 1), (571, 1), (611, 1), (675, 1), (937, 1), (2708, 1), (4036, 1), (4397, 1)], [(25, 1), (27, 1), (31, 1), (32, 1), (60, 1), (257, 1), (263, 1), (540, 1), (590, 1), (858, 1), (1818, 1)], [(3, 1), (13, 1), (31, 1), (200, 1), (225, 1), (460, 1)], [(25, 1), (32, 1), (60, 1), (161, 1), (201, 1), (247, 1), (262, 1), (1074, 1), (2528, 1), (4398, 1)], [(6, 1), (12, 1), (14, 1), (49, 1), (60, 1), (84, 1), (97, 1), (105, 1), (390, 1), (1477, 1), (1690, 1), (3549, 1), (4399, 1), (4400, 1)], [(3, 1), (12, 1), (13, 1), (47, 1), (161, 1), (171, 1), (201, 1), (460, 1), (3182, 1), (4401, 1), (4402, 1)], [(14, 2), (69, 1), (201, 1), (1806, 1), (2910, 1), (4403, 1), (4404, 1)], [(6, 1), (14, 1), (31, 1), (53, 1), (60, 1), (105, 1), (656, 1), (827, 1), (828, 1), (1592, 1), (3164, 1)], [(0, 1), (6, 1), (12, 1), (19, 1), (25, 1), (32, 1), (82, 1), (89, 1), (96, 1), (98, 1), (331, 1), (461, 1), (462, 1), (466, 1)], [(6, 1), (12, 2), (14, 1), (39, 1), (49, 1), (60, 2), (131, 1), (362, 1), (621, 1)], [(0, 1), (6, 1), (10, 1), (14, 1), (39, 1), (60, 1), (343, 1), (390, 1), (409, 1), (505, 1), (1090, 1), (1799, 1), (4405, 1), (4406, 1)], [(12, 1), (14, 1), (16, 1), (39, 1), (161, 1), (2112, 1), (4407, 1)], [(7, 1), (10, 1), (14, 1), (39, 1), (62, 1), (80, 2), (228, 1), (258, 1), (556, 1), (949, 1), (1214, 1), (1340, 1), (1960, 1), (2253, 1), (3187, 1), (4408, 1)], [(3, 1), (6, 1), (32, 1), (61, 1), (116, 1), (161, 1), (195, 1), (259, 1), (271, 1)], [(12, 1), (14, 1), (32, 1), (143, 1), (1531, 1), (4409, 1), (4410, 1), (4411, 1)], [(0, 2), (6, 1), (12, 4), (14, 3), (25, 1), (32, 1), (39, 2), (47, 1), (60, 1), (76, 1), (92, 1), (172, 1), (395, 1), (981, 1), (1388, 1), (3033, 1), (3203, 2), (3220, 1), (3362, 1), (4412, 1), (4413, 1), (4414, 1), (4415, 1)], [(0, 1), (6, 1), (13, 1), (14, 1), (83, 1), (237, 1), (390, 1), (2941, 1), (4416, 1), (4417, 1), (4418, 1), (4419, 1)], [(3, 1), (32, 1), (161, 1), (184, 1), (247, 1), (259, 1), (363, 1), (725, 1), (3272, 1)], [(3, 1), (27, 1), (29, 1), (32, 1), (34, 1), (61, 1), (170, 1), (224, 1), (225, 1), (259, 1)], [(164, 1), (4127, 1), (4420, 1), (4421, 1), (4422, 1), (4423, 1), (4424, 1), (4425, 1), (4426, 1), (4427, 2)], [(10, 1), (14, 1), (39, 1), (47, 1), (1526, 1), (2523, 1), (4428, 1), (4429, 1)], [(12, 1), (14, 1), (39, 1), (60, 1), (62, 1), (95, 1), (151, 1), (202, 1), (3507, 1)], [(14, 1), (39, 1), (599, 1), (4430, 1), (4431, 1)], [(3, 1), (16, 1), (31, 1), (60, 1), (61, 1), (86, 1), (128, 1), (509, 1), (717, 1), (2029, 1), (4432, 1), (4433, 1)], [(25, 1), (32, 1), (151, 1), (161, 1), (538, 1), (541, 1), (813, 1), (1102, 1), (1153, 1), (1485, 1)], [(6, 1), (14, 1), (32, 1), (3047, 1), (4434, 1), (4435, 1)], [(0, 1), (3, 2), (12, 1), (32, 1), (84, 1), (117, 1), (285, 1), (361, 1), (382, 1), (866, 1), (1030, 2), (1100, 1), (1531, 1), (3189, 1), (4185, 1), (4436, 1), (4437, 1)], [(0, 1), (3, 1), (13, 1), (32, 1), (2165, 1), (3810, 1), (4438, 1), (4439, 1), (4440, 1)], [(3, 2), (27, 1), (39, 1), (44, 1), (60, 2), (69, 1), (117, 1), (161, 2), (168, 1), (435, 1), (460, 1), (571, 1), (873, 1), (875, 1), (979, 1), (2381, 1), (4441, 1), (4442, 1)], [(0, 1), (14, 1), (19, 1), (25, 1), (141, 1), (185, 1), (410, 1), (481, 1), (3033, 1)], [(10, 1), (14, 1), (17, 1), (39, 1), (47, 1), (272, 1), (479, 1), (4443, 1)], [(3, 1), (6, 1), (31, 1), (32, 1), (2659, 1), (4444, 1), (4445, 1)], [(10, 1), (12, 1), (14, 1), (39, 1), (47, 1), (49, 1), (827, 1), (828, 1), (4446, 1)], [(6, 1), (10, 1), (14, 1), (19, 1), (39, 1), (79, 1), (80, 1), (81, 1), (306, 1), (4447, 1)], [(6, 1), (12, 1), (19, 1), (22, 1), (32, 1), (34, 1), (44, 1), (227, 1), (879, 1), (983, 1), (4448, 1), (4449, 1)], [(6, 1), (12, 1), (14, 1), (39, 1), (47, 1), (2209, 1), (2219, 1), (3783, 1), (4450, 1), (4451, 1), (4452, 1), (4453, 1), (4454, 1), (4455, 1)], [(14, 1), (17, 1), (39, 1), (60, 1), (61, 1), (202, 1), (289, 1), (497, 1), (696, 1), (3155, 1), (4456, 1)], [(3, 1), (32, 1), (161, 1), (540, 1), (1800, 1), (3674, 1)], [(6, 1), (12, 1), (14, 1), (131, 1), (164, 1), (3585, 1), (4457, 1), (4458, 1)], [(6, 1), (10, 1), (12, 1), (14, 1), (39, 1), (47, 1), (564, 1), (3133, 1), (3387, 1), (4459, 1)], [(6, 1), (12, 2), (14, 1), (16, 1), (39, 1), (549, 1), (775, 1), (3116, 1), (3837, 1)], [(39, 1), (60, 1), (79, 1), (560, 1), (4460, 1)], [(0, 1), (12, 1), (14, 1), (24, 1), (39, 1), (61, 1), (410, 1), (411, 1), (1025, 1), (1191, 1), (1323, 1), (2618, 1), (4461, 1)], [(0, 1), (12, 1), (14, 2), (32, 1), (69, 1), (80, 1), (460, 1), (750, 1), (3591, 1), (3881, 1)], [(14, 2), (25, 1), (32, 1), (39, 1), (161, 1), (4462, 1), (4463, 1)], [(3, 1), (7, 1), (13, 1), (259, 1), (460, 1), (1055, 1), (4038, 1), (4464, 1)], [(3, 1), (14, 1), (26, 1), (60, 1), (69, 1), (80, 2), (157, 1), (161, 2), (304, 1), (344, 1), (535, 1), (661, 1), (668, 1), (905, 1), (930, 1), (1107, 1), (1388, 1), (1416, 2), (1417, 1), (4465, 1)], [(3, 1), (7, 1), (13, 1), (1606, 1), (4466, 1)], [(6, 1), (12, 1), (14, 1), (39, 1), (247, 1), (564, 1), (4467, 1), (4468, 1), (4469, 1)], [(0, 1), (6, 1), (14, 1), (39, 1), (47, 1), (304, 1), (828, 1), (4470, 1), (4471, 1), (4472, 1)], [(0, 1), (6, 1), (14, 1), (16, 1), (39, 1), (97, 1), (1579, 1), (1742, 1), (1960, 1), (3338, 1), (3339, 1)], [(0, 1), (16, 1), (25, 1), (139, 1), (161, 1), (164, 1), (172, 1), (259, 1), (668, 1), (669, 1), (825, 1), (4006, 1), (4473, 1), (4474, 2)], [(14, 1), (19, 1), (61, 1), (309, 1), (756, 1), (1926, 1)], [(12, 1), (25, 1), (31, 1), (49, 1), (340, 1), (1467, 1), (3726, 1)], [(4, 1), (18, 1), (25, 1), (32, 1), (49, 1), (60, 1), (69, 1), (77, 2), (161, 1), (201, 1), (263, 1), (324, 1), (440, 1), (452, 1), (460, 1), (668, 1), (815, 1), (1153, 1), (4475, 1), (4476, 1), (4477, 1)], [(6, 1), (9, 1), (12, 2), (14, 1), (60, 1), (93, 1), (141, 1), (161, 1), (201, 1), (263, 1), (390, 1), (661, 1), (876, 1), (1066, 1), (1310, 1), (1492, 1), (3772, 1)], [(0, 1), (39, 1), (77, 1), (128, 1), (1186, 1), (2771, 1), (3134, 1), (4478, 1)], [(19, 1), (21, 1), (32, 1), (76, 1), (508, 1), (583, 1)], [(12, 1), (39, 1), (47, 1), (61, 1), (341, 1), (2205, 1), (2717, 1)], [(0, 1), (3, 1), (21, 1), (22, 1), (172, 1), (1007, 1), (1320, 1), (4479, 1)], [(3, 1), (17, 1), (112, 1), (2759, 1), (4480, 1)], [(0, 1), (16, 1), (21, 1), (31, 1), (85, 1), (128, 1), (410, 1), (583, 1), (584, 1), (906, 1), (907, 1)], [(6, 2), (60, 1), (201, 1), (1190, 1), (1495, 1), (2566, 1), (3751, 1), (4076, 1), (4481, 1)], [(3, 1), (16, 1), (32, 1), (37, 1), (44, 1), (60, 2), (69, 1), (93, 1), (472, 2), (668, 1), (669, 1), (2948, 2), (4482, 1), (4483, 1)], [(3, 1), (876, 1), (1606, 1), (4185, 1), (4484, 1)], [(14, 1), (27, 1), (39, 1), (86, 1), (901, 1), (981, 1), (985, 1), (1404, 1), (1450, 1), (4485, 1)], [(12, 1), (14, 1), (32, 1), (819, 1), (2128, 1), (4486, 1)], [(3, 1), (6, 1), (2070, 1), (4487, 1), (4488, 1), (4489, 1)], [(14, 2), (60, 1), (93, 1), (224, 1), (370, 1), (460, 1), (4104, 1), (4490, 1), (4491, 1)], [(6, 1), (12, 1), (14, 1), (16, 1), (39, 1), (119, 1), (146, 1), (1622, 1), (3507, 1), (4492, 1)], [(14, 1), (37, 1), (39, 1), (60, 1), (69, 1), (83, 1), (143, 1), (825, 1), (2494, 1), (4493, 1), (4494, 1), (4495, 1)], [(6, 1), (12, 2), (14, 2), (32, 1), (39, 1), (60, 1), (69, 1), (549, 1), (794, 1), (1357, 1), (2886, 1), (4496, 1), (4497, 1), (4498, 1), (4499, 1)], [(14, 1), (128, 1), (4500, 1), (4501, 1)], [(12, 1), (14, 1), (47, 1), (49, 1), (105, 1), (189, 1), (4502, 1), (4503, 1)], [(0, 1), (12, 1), (13, 1), (14, 1), (30, 1), (31, 1), (39, 1), (80, 1), (81, 1), (224, 1), (329, 1), (643, 1)], [(25, 1), (47, 1), (86, 1), (896, 1), (954, 1), (3810, 1), (4185, 1), (4438, 1), (4504, 1), (4505, 1)], [(14, 1), (3441, 1), (4506, 1)], [(12, 2), (14, 1), (143, 1), (172, 1), (708, 1), (804, 1), (1094, 1), (1163, 1), (1818, 1), (1841, 1), (1843, 1), (4507, 1), (4508, 1), (4509, 1)], [(3, 1), (4, 1), (32, 1), (62, 1), (3597, 1), (4510, 1), (4511, 1), (4512, 1), (4513, 1)], [(6, 1), (12, 1), (14, 1), (25, 1), (31, 1), (39, 1), (49, 1), (60, 2), (61, 1), (123, 1), (143, 1), (263, 1), (277, 1), (540, 1), (590, 1), (858, 1), (1645, 1), (1799, 1), (1800, 2), (2454, 1), (3738, 1), (4514, 1), (4515, 1)], [(12, 1), (14, 1), (39, 1), (49, 1), (60, 1), (287, 1), (725, 1), (1052, 1)], [(3, 1), (6, 1), (32, 1), (96, 1), (112, 1), (161, 1), (1841, 1)], [(13, 1), (14, 1), (31, 1), (61, 1), (154, 1), (157, 1), (1001, 1)], [(12, 1), (25, 1), (44, 1), (47, 1), (301, 1), (481, 1), (1100, 1), (2107, 1), (4516, 1), (4517, 1)], [(3, 1), (32, 1), (86, 1), (94, 1), (1211, 1), (3161, 1), (4518, 1)], [(14, 1), (17, 1), (21, 1), (61, 1), (76, 1), (583, 1), (1287, 1)], [(3, 1), (18, 2), (31, 2), (39, 1), (69, 1), (158, 1), (300, 1), (304, 1), (460, 1), (949, 1), (1215, 1), (1492, 1)], [(6, 1), (13, 1), (14, 1), (2380, 1), (2381, 1), (2382, 1), (2383, 1), (2608, 1)], [(3, 1), (4, 1), (14, 1), (32, 1), (47, 1), (60, 1), (61, 2), (69, 1), (2008, 1), (2656, 1), (2717, 1), (4519, 1)], [(12, 1), (14, 1), (31, 1), (39, 1), (81, 1), (227, 1), (481, 1), (1440, 1), (1854, 1)], [(10, 1), (14, 1), (39, 1), (47, 1), (564, 1), (1423, 1)], [(3, 1), (12, 1), (31, 1), (39, 1), (47, 1), (135, 1), (1204, 1), (1536, 1), (1537, 1)], [(12, 1), (14, 1), (31, 1), (39, 1), (61, 1), (77, 1), (221, 1), (227, 1), (245, 1), (533, 1), (1092, 1)], [(14, 1), (1440, 1), (1597, 1), (1635, 1), (3570, 1), (4520, 1)], [(3, 1), (12, 1), (148, 1), (491, 1), (1369, 1), (1546, 1), (4521, 1), (4522, 1)], [(6, 1), (25, 1), (30, 1), (61, 1), (161, 1), (725, 1), (1191, 1), (1690, 1), (2803, 1), (4523, 1), (4524, 1)], [(6, 2), (60, 1), (61, 1), (117, 1), (154, 1), (161, 2), (1326, 1), (1346, 1), (1495, 1), (2369, 1), (4525, 1), (4526, 1), (4527, 1), (4528, 1)], [(3, 1), (32, 1), (61, 1), (161, 1), (1492, 1), (1844, 1), (1948, 1), (2705, 1), (4529, 1), (4530, 1)], [(6, 1), (13, 1), (14, 1), (919, 1), (1863, 1), (2380, 1), (2383, 1), (2598, 1), (2808, 1)], [(25, 1), (30, 1), (32, 1), (96, 1), (162, 1), (224, 1), (760, 1), (1191, 1)], [(6, 1), (25, 1), (32, 1), (161, 1), (201, 1), (262, 1), (2329, 1), (2330, 1)], [(13, 1), (154, 1), (161, 1), (201, 1), (4531, 1), (4532, 1)], [(13, 1), (61, 1), (77, 1), (161, 1), (259, 1), (499, 1), (643, 1), (1178, 1), (3028, 2)], [(14, 2), (60, 1), (61, 1), (80, 1), (141, 1), (376, 1), (668, 1), (1693, 1), (1931, 1), (3342, 1)], [(14, 1), (39, 1), (60, 1), (61, 1), (69, 1), (83, 1), (2245, 1), (4533, 1)], [(13, 1), (141, 1), (1568, 1), (1700, 1), (4534, 1), (4535, 1)], [(25, 1), (161, 1), (164, 1), (232, 1), (794, 1), (4536, 1), (4537, 1)], [(0, 1), (14, 1), (17, 1), (39, 1), (60, 1), (151, 1), (202, 1), (482, 1), (4314, 1)], [(6, 1), (12, 1), (16, 1), (25, 1), (61, 1), (69, 1), (76, 1), (161, 2), (201, 1), (736, 1), (782, 1), (1449, 1), (1570, 1), (1999, 1), (2250, 1), (2458, 1), (4538, 1), (4539, 1), (4540, 1)], [(14, 1), (39, 1), (2444, 1), (3264, 1)], [(12, 1), (14, 1), (39, 1), (47, 1), (469, 1), (3342, 1), (4172, 1), (4541, 1)], [(3, 1), (12, 1), (14, 1), (60, 1), (69, 2), (77, 1), (84, 1), (93, 1), (201, 1), (282, 1), (856, 1), (2088, 1), (4404, 1), (4542, 1), (4543, 1)], [(14, 2), (17, 1), (21, 1), (61, 1), (85, 1), (226, 1), (574, 1), (583, 1), (650, 1), (813, 1), (906, 1), (907, 1), (1287, 1), (3208, 1)], [(12, 1), (25, 1), (31, 1), (32, 1), (47, 1), (1646, 1), (2843, 1), (3550, 1)], [(12, 1), (25, 1), (31, 1), (32, 1), (47, 1), (1646, 1), (4544, 1), (4545, 1), (4546, 1)], [(3, 1), (32, 1), (77, 1), (301, 1), (342, 1), (625, 1)], [(0, 1), (12, 1), (13, 1), (14, 2), (60, 1), (88, 1), (89, 1), (90, 1), (96, 1), (97, 1), (98, 1), (224, 1), (405, 1), (460, 1), (461, 1), (462, 1), (466, 1), (1214, 1), (1230, 1), (1674, 1)], [(3, 1), (14, 1), (39, 1), (61, 1), (329, 1), (448, 1), (460, 1), (4547, 1)], [(3, 1), (7, 1), (13, 1), (27, 1), (726, 1), (893, 1), (932, 1)], [(7, 1), (14, 1), (39, 1), (60, 1), (69, 1), (76, 1), (79, 1), (89, 1), (96, 1), (98, 1), (184, 1), (196, 1), (227, 1), (258, 1), (452, 1), (461, 1), (462, 1), (466, 1), (895, 1), (1002, 1), (1025, 1), (1139, 1), (1388, 1), (1674, 1), (1719, 1)], [(3, 1), (32, 1), (47, 1), (161, 1), (1002, 1), (1003, 1), (1464, 1)], [(14, 1), (39, 1), (61, 1), (269, 1), (1389, 1)], [(0, 1), (1, 1), (3, 1), (12, 1), (14, 1), (16, 1), (17, 1), (27, 1), (39, 1), (47, 1), (61, 2), (437, 1), (1113, 1), (1988, 1), (4548, 1), (4549, 1), (4550, 1), (4551, 1)], [(14, 1), (27, 1), (141, 1), (321, 1), (828, 1), (1326, 1), (4552, 1)], [(25, 1), (27, 1), (32, 1), (112, 1), (161, 1), (257, 1), (1113, 1), (3065, 1)], [(0, 2), (6, 1), (32, 1), (47, 1), (76, 1), (89, 1), (90, 1), (94, 1), (96, 1), (98, 1), (461, 1), (462, 1), (466, 1), (1341, 1), (1614, 1)], [(6, 1), (13, 1), (31, 1), (87, 1), (154, 1), (512, 1)], [(3, 1), (32, 1), (60, 1), (443, 1), (729, 1), (802, 2), (4553, 1)], [(3, 1), (855, 1), (862, 1), (4554, 1)], [(6, 1), (12, 1), (25, 1), (60, 1), (62, 1), (116, 1), (151, 1), (161, 1), (164, 1), (176, 1), (1666, 1), (1690, 1), (2329, 1)], [(3, 1), (12, 1), (13, 1), (47, 1), (158, 1), (576, 1), (726, 1), (756, 1), (1416, 1), (3776, 1), (4555, 1), (4556, 1), (4557, 1)], [(25, 1), (32, 1), (61, 1), (143, 1), (161, 1), (271, 1), (3057, 1), (3300, 1)], [(14, 1), (39, 1), (60, 1), (61, 1), (69, 1), (83, 1), (227, 1), (3473, 1), (3763, 1)], [(12, 1), (14, 1), (39, 1), (49, 1), (676, 1), (4558, 1)], [(0, 1), (6, 1), (12, 2), (14, 2), (39, 2), (47, 1), (143, 1), (271, 1), (1164, 1), (1346, 2), (1625, 1), (2349, 1), (3636, 1), (3691, 1), (3693, 1)], [(12, 2), (25, 1), (30, 1), (32, 1), (47, 1), (61, 1), (97, 1), (161, 3), (201, 1), (224, 1), (227, 2), (257, 1), (258, 1), (259, 1), (437, 1), (540, 1), (661, 1), (973, 1), (1178, 2), (2797, 1), (3986, 1), (4559, 2), (4560, 1), (4561, 1), (4562, 1)], [(12, 1), (25, 1), (32, 1), (571, 1), (2898, 1), (4563, 1), (4564, 1), (4565, 1)], [(0, 1), (13, 1), (19, 1), (25, 1), (44, 1), (149, 1), (576, 1), (815, 1), (1336, 1), (2021, 1), (3057, 1), (4566, 1)], [(0, 1), (6, 1), (12, 1), (14, 1), (60, 1), (61, 1), (273, 1), (442, 1), (636, 1), (806, 1), (962, 1), (3718, 1)], [(6, 1), (12, 1), (14, 1), (16, 1), (33, 1), (39, 1), (61, 1), (268, 1), (1783, 1), (3889, 1), (4567, 1), (4568, 1)], [(6, 1), (25, 1), (32, 1), (60, 1), (61, 1), (161, 1), (201, 1), (262, 1), (271, 1), (353, 1), (762, 1), (842, 1), (1102, 1), (4569, 1), (4570, 1)], [(25, 1), (32, 1), (94, 1), (472, 1), (1990, 1), (4571, 1)], [(12, 2), (14, 1), (39, 1), (47, 1), (896, 1), (998, 1), (3242, 1), (4572, 1)], [(0, 1), (12, 5), (14, 2), (32, 1), (39, 1), (47, 1), (60, 1), (224, 1), (443, 1), (475, 1), (491, 2), (1346, 1), (1369, 1), (1770, 1), (2922, 1), (4573, 1), (4574, 1)], [(3, 1), (32, 1), (149, 1), (161, 1), (1691, 1)], [(6, 1), (14, 1), (19, 1), (32, 1), (34, 1), (172, 1), (335, 1), (599, 1), (1599, 1), (4575, 1), (4576, 1)], [(3, 1), (6, 1), (12, 1), (14, 1), (19, 1), (39, 1), (44, 1), (47, 1), (61, 2), (92, 1), (196, 1), (601, 1), (696, 1), (4577, 1), (4578, 1), (4579, 1)], [(14, 1), (16, 1), (17, 1), (23, 1), (27, 1), (39, 1), (61, 2), (146, 1), (675, 1), (1739, 1), (2504, 1), (4580, 1)], [(10, 1), (12, 1), (14, 1), (27, 1), (39, 1), (205, 1), (234, 1), (318, 1), (3283, 1)], [(12, 1), (13, 1), (47, 1), (154, 1), (161, 1), (794, 1), (910, 1), (4581, 1), (4582, 1)], [(25, 1), (31, 1), (86, 1), (1155, 1), (4466, 1)], [(14, 1), (105, 1), (193, 1), (861, 1), (1555, 1), (1556, 1), (1994, 1), (2457, 1)], [(6, 2), (12, 2), (14, 1), (53, 1), (61, 1), (376, 1), (828, 1), (1146, 1), (4583, 1), (4584, 1), (4585, 1), (4586, 1)], [(3, 1), (31, 1), (39, 1), (47, 1), (135, 1), (3192, 1), (4587, 1)], [(3, 1), (14, 1), (39, 2), (61, 1), (69, 1), (238, 1), (244, 1), (962, 1), (998, 1), (2466, 1)], [(6, 1), (12, 1), (14, 1), (16, 1), (49, 1), (105, 1), (351, 1), (709, 1), (710, 1), (711, 1)], [(10, 1), (14, 2), (39, 2), (564, 1), (2109, 1), (2110, 1)], [(3, 1), (31, 1), (32, 1), (61, 2), (259, 1), (634, 1), (1801, 1), (2329, 1), (3193, 1)], [(6, 1), (14, 1), (39, 1), (116, 1), (2369, 1), (3050, 1), (3647, 1), (4588, 2)], [(3, 1), (32, 1), (60, 1), (61, 1), (149, 1), (161, 1), (673, 1), (1074, 1), (4589, 1), (4590, 1)], [(6, 1), (14, 2), (39, 1), (60, 1), (61, 1), (69, 1), (83, 1), (153, 1), (2808, 1)], [(14, 1), (39, 1), (61, 1), (1935, 1), (4591, 1)], [(12, 1), (14, 1), (39, 1), (47, 1), (1137, 1), (1921, 1), (3280, 1), (4592, 1)], [(3, 1), (12, 1), (32, 1), (60, 1), (443, 1), (828, 1), (1204, 1), (1206, 1), (2049, 1), (4593, 1)], [(39, 1), (86, 1), (449, 1), (915, 1), (4594, 1)], [(0, 2), (12, 2), (14, 1), (23, 1), (24, 1), (32, 1), (47, 2), (61, 2), (158, 1), (828, 1), (1220, 1), (1422, 1), (3109, 1), (4595, 1), (4596, 1), (4597, 1)], [(0, 1), (19, 1), (22, 1), (61, 1), (85, 1), (128, 1), (184, 1), (185, 1), (363, 1), (392, 1), (410, 1), (572, 1)], [(3, 1), (12, 1), (13, 1), (14, 1), (26, 1), (27, 2), (29, 2), (39, 1), (47, 1), (69, 1), (86, 1), (128, 1), (157, 1), (171, 1), (224, 1), (304, 1), (412, 1), (448, 1), (449, 1), (460, 1), (499, 1), (1071, 1), (4194, 1)], [(10, 1), (14, 1), (17, 1), (33, 1), (39, 1), (60, 1), (205, 1), (1204, 1), (1592, 1)], [(13, 1), (26, 1), (27, 1), (83, 1), (161, 1), (643, 1), (2724, 1)], [(3, 1), (24, 1), (27, 1), (32, 1), (87, 1), (161, 1), (298, 1), (1467, 1), (4068, 1)], [(0, 1), (12, 1), (14, 1), (39, 1), (47, 1), (1271, 1), (1272, 1), (1988, 1)], [(13, 1), (14, 1), (201, 1), (246, 1), (589, 1), (1719, 1), (3013, 1)], [(25, 1), (32, 1), (47, 1), (259, 1), (301, 1), (1217, 1), (1970, 1), (4598, 1)], [(6, 1), (10, 1), (14, 1), (16, 1), (39, 1), (355, 1), (356, 1), (594, 1), (1579, 1), (4599, 1)], [(12, 1), (14, 1), (16, 1), (25, 1), (39, 1), (47, 1), (77, 1), (152, 1), (161, 1), (356, 1), (959, 1), (1164, 1), (1722, 1), (2087, 1), (2280, 1), (2515, 1), (4600, 1), (4601, 1), (4602, 1), (4603, 1)], [(3, 1), (7, 1), (20, 1), (32, 1), (39, 1), (47, 1), (62, 1), (135, 1), (161, 1), (263, 1), (373, 1), (403, 1), (571, 1), (2548, 1)], [(0, 1), (6, 1), (17, 1), (27, 1), (31, 1), (47, 1), (116, 1), (226, 1), (287, 1), (909, 1), (982, 1), (2241, 1), (2526, 1), (4604, 1)], [(12, 1), (14, 1), (16, 1), (39, 1), (412, 1), (788, 1), (940, 1), (2106, 1)], [(3, 1), (61, 1), (1084, 1), (1394, 1), (2505, 1), (2700, 1), (4605, 1)], [(6, 1), (12, 1), (14, 1), (39, 1), (49, 1), (60, 1), (329, 1), (756, 1), (4606, 1)], [(0, 1), (12, 1), (14, 1), (16, 1), (37, 1), (39, 1), (158, 1), (1000, 1), (1436, 1), (1597, 1), (4094, 1), (4607, 1), (4608, 1)], [(3, 1), (7, 1), (13, 1), (112, 1), (163, 1), (678, 1)], [(0, 1), (10, 1), (14, 1), (26, 1), (105, 1), (161, 1), (227, 1), (303, 1), (346, 1), (731, 1), (908, 1), (4609, 1)], [(6, 1), (13, 1), (61, 1), (85, 1), (341, 1), (576, 1), (604, 1), (1806, 1), (2040, 1), (2910, 1)], [(0, 1), (12, 1), (14, 1), (39, 1), (47, 1), (1201, 1), (1243, 1), (2491, 1), (4610, 1)], [(24, 1), (32, 1), (85, 1), (905, 1), (2170, 1), (4611, 1)], [(3, 1), (12, 1), (13, 2), (14, 1), (31, 1), (61, 1), (69, 2), (84, 1), (143, 1), (149, 2), (171, 1), (460, 1), (3561, 2), (4150, 1)], [(10, 1), (12, 1), (14, 2), (39, 1), (47, 1), (61, 2), (80, 1), (919, 1), (1296, 1), (1480, 1), (2526, 1), (4104, 1), (4612, 1), (4613, 1), (4614, 1), (4615, 1), (4616, 1)], [(0, 1), (3, 3), (5, 2), (13, 1), (14, 1), (39, 1), (61, 1), (83, 1), (84, 2), (448, 2), (460, 1), (534, 1), (650, 1), (828, 1), (1172, 1), (1656, 1), (2008, 1), (2157, 1), (2717, 2), (4617, 1), (4618, 1), (4619, 1)], [(0, 1), (13, 1), (14, 1), (20, 1), (33, 1), (60, 1), (61, 1), (300, 1), (636, 1), (1199, 1), (1309, 1), (2246, 1), (2449, 1), (4620, 1), (4621, 1)], [(14, 1), (39, 1), (86, 1), (130, 1), (481, 1), (3288, 1)], [(14, 1), (24, 1), (60, 1), (69, 1), (83, 1), (340, 1), (1199, 1), (4622, 1)], [(12, 1), (47, 1), (105, 1), (227, 1), (402, 1), (508, 1), (945, 1), (1024, 1), (1542, 1), (3010, 1), (4369, 1)], [(12, 1), (14, 1), (27, 1), (60, 1), (337, 1), (789, 1), (1025, 1), (1388, 1), (2044, 1), (4623, 1), (4624, 1)], [(14, 1), (17, 1), (61, 1), (105, 1), (172, 1), (287, 1), (1264, 1), (4625, 1)], [(3, 1), (6, 1), (12, 2), (14, 1), (18, 1), (39, 1), (76, 1), (184, 1), (222, 1), (535, 1), (536, 1), (1441, 1), (1763, 1), (1979, 1), (4626, 1), (4627, 1)], [(0, 1), (6, 2), (14, 1), (44, 1), (60, 1), (69, 1), (356, 1), (462, 1), (541, 1), (634, 1), (934, 1), (981, 1), (1693, 1), (2618, 1), (4628, 1)], [(3, 1), (6, 1), (7, 1), (13, 1), (60, 1), (61, 1), (163, 1), (227, 1), (294, 1), (355, 1), (4629, 1)], [(12, 1), (14, 1), (39, 1), (49, 1), (844, 1), (4157, 1), (4630, 1)], [(3, 1), (14, 1), (32, 1), (74, 1), (126, 1), (516, 1), (1191, 1), (1965, 1), (4631, 1), (4632, 1), (4633, 1)], [(0, 1), (12, 1), (14, 2), (19, 1), (39, 2), (47, 2), (196, 1), (463, 2), (472, 1), (981, 1), (1271, 1), (1272, 1), (2349, 1), (2567, 1), (3237, 1), (3488, 1)], [(12, 1), (14, 1), (16, 1), (49, 1), (60, 1), (84, 1), (105, 1), (634, 1), (2853, 1), (4365, 1), (4634, 1), (4635, 1), (4636, 1), (4637, 1), (4638, 1)], [(10, 1), (14, 1), (39, 1), (148, 1), (564, 1), (1629, 1), (4639, 1)], [(25, 1), (32, 1), (161, 1), (201, 1), (262, 1), (1102, 1), (3050, 1)], [(12, 1), (24, 1), (27, 1), (84, 1), (105, 1), (148, 1), (386, 1), (697, 1), (729, 1), (1224, 1), (1632, 1), (2343, 2), (2903, 1), (4640, 1)], [(25, 1), (32, 1), (60, 1), (161, 1), (201, 2), (877, 1), (2754, 1), (2755, 1), (2757, 1), (2758, 1), (4641, 1)], [(0, 1), (13, 1), (22, 1), (85, 1), (128, 1), (184, 1), (3091, 1), (4642, 1), (4643, 1)], [(0, 1), (6, 1), (14, 1), (17, 1), (61, 1), (105, 1), (239, 1), (657, 1), (954, 1), (1194, 1), (1195, 1), (1197, 1), (1669, 1), (4005, 1)], [(14, 1), (44, 1), (60, 2), (69, 1), (576, 1), (981, 1), (1487, 1), (1492, 1), (1582, 1), (1706, 1), (2659, 1), (4644, 1), (4645, 1), (4646, 1)], [(6, 1), (61, 2), (154, 1), (161, 2), (231, 1), (360, 1), (363, 1), (1440, 1), (1441, 1), (2077, 1)], [(6, 1), (10, 1), (14, 1), (39, 1), (60, 1), (202, 1), (287, 1), (2558, 1), (4647, 1)], [(6, 2), (14, 1), (31, 2), (39, 1), (45, 1), (80, 1), (81, 1), (82, 1), (85, 1), (86, 1), (158, 1), (184, 1), (224, 1), (226, 1), (661, 1), (1421, 1)], [(3, 1), (14, 1), (31, 2), (32, 1), (60, 1), (184, 1), (725, 1), (949, 1), (1225, 1)], [(47, 1), (86, 1), (171, 1), (340, 1), (798, 1), (828, 1), (1433, 1), (4446, 1)], [(14, 1), (17, 1), (25, 2), (32, 2), (61, 1), (143, 2), (161, 2), (259, 1), (1738, 1), (4648, 1)], [(6, 1), (25, 1), (27, 1), (31, 1), (789, 1), (1194, 1), (4005, 1), (4649, 1), (4650, 1)], [(12, 1), (45, 1), (47, 1), (340, 1), (891, 1), (1186, 1)], [(0, 1), (3, 1), (6, 2), (12, 2), (14, 1), (27, 1), (32, 1), (39, 1), (44, 1), (69, 1), (83, 1), (2450, 1), (4651, 1), (4652, 1), (4653, 1), (4654, 2)], [(3, 1), (14, 1), (32, 1), (61, 2), (80, 1), (161, 1), (170, 1), (594, 1), (1352, 1), (1784, 1), (2050, 1)], [(0, 1), (6, 1), (25, 1), (35, 1), (49, 1), (143, 1), (161, 1), (164, 1), (259, 1), (479, 1), (1153, 1), (1503, 1), (1737, 1), (2894, 1), (3231, 1), (3745, 1), (3801, 1)], [(3, 1), (31, 1), (32, 2), (60, 1), (151, 1), (2411, 1)], [(14, 1), (39, 1), (148, 1), (152, 1), (227, 1), (775, 1), (1467, 1)], [(14, 1), (16, 1), (60, 1), (69, 1), (246, 1), (533, 1), (604, 1), (613, 1), (1666, 1), (4655, 1)], [(3, 1), (32, 1), (161, 1), (201, 1), (259, 1), (1102, 1), (4656, 1)], [(16, 1), (32, 1), (57, 1), (161, 1), (1122, 1), (1351, 1), (3983, 1), (4657, 1), (4658, 1), (4659, 1)], [(27, 1), (148, 1), (158, 1), (697, 1), (985, 1), (1085, 1), (2343, 1), (4660, 1), (4661, 1)], [(3, 1), (39, 1), (61, 1), (122, 1), (123, 1), (154, 1), (4662, 1), (4663, 1)], [(12, 1), (25, 1), (31, 1), (32, 1), (47, 1), (61, 1), (247, 1), (1129, 1), (4664, 1), (4665, 1)], [(25, 1), (74, 1), (301, 1), (435, 1), (1269, 1), (1270, 1), (4666, 1)], [(12, 2), (13, 1), (14, 3), (39, 1), (49, 2), (60, 1), (69, 1), (329, 1), (654, 1), (984, 1), (2863, 1), (2973, 1)], [(39, 1), (61, 1), (76, 1), (79, 1), (89, 1), (161, 1), (168, 1), (184, 1), (4395, 1), (4667, 1)], [(25, 1), (32, 1), (77, 1), (161, 1), (201, 1), (625, 1), (626, 1), (4476, 1), (4668, 1)], [(3, 1), (32, 1), (60, 1), (161, 1), (386, 1), (684, 1), (697, 1), (4358, 1)], [(12, 1), (14, 2), (31, 1), (39, 1), (60, 2), (69, 2), (85, 1), (112, 1), (184, 1), (226, 1), (469, 1), (1001, 1), (1171, 1), (1633, 1), (2208, 1), (3436, 1), (4031, 1), (4669, 1), (4670, 1), (4671, 1), (4672, 1)], [(0, 1), (3, 1), (14, 1), (31, 1), (47, 1), (60, 1), (93, 1), (135, 1), (401, 1), (461, 1), (462, 1), (466, 1), (1341, 1), (1614, 1), (4673, 1)], [(6, 1), (12, 1), (128, 1), (227, 1), (506, 1), (997, 1), (2378, 1), (4674, 1), (4675, 1)], [(14, 2), (30, 1), (60, 2), (61, 1), (69, 1), (93, 1), (981, 1), (1164, 1), (1244, 1), (4676, 1)], [(13, 1), (14, 1), (4677, 1), (4678, 1)], [(13, 1), (14, 1), (77, 1), (329, 1), (430, 1), (576, 1), (1524, 1), (2352, 1), (3060, 1)], [(14, 1), (39, 1), (47, 1), (86, 1), (825, 1), (1254, 1), (4679, 1)], [(13, 1), (77, 1), (85, 1), (161, 1), (227, 1), (2225, 1), (4680, 1), (4681, 1)], [(0, 1), (14, 1), (60, 1), (69, 1), (361, 1), (498, 1), (604, 1), (3347, 1), (4682, 1)], [(0, 2), (6, 1), (12, 1), (32, 1), (47, 1), (76, 1), (89, 1), (94, 1), (96, 1), (98, 1), (100, 1), (461, 1), (462, 1), (1341, 1), (1342, 1), (1356, 1), (4683, 1)], [(3, 1), (31, 1), (39, 1), (62, 1), (247, 1), (317, 1), (398, 1), (2772, 1), (4684, 1), (4685, 1), (4686, 1)], [(3, 1), (6, 1), (31, 1), (32, 1), (61, 1), (540, 1), (590, 1), (2769, 1)], [(6, 1), (12, 2), (14, 1), (35, 1), (60, 2), (84, 1), (172, 1), (285, 1), (398, 1), (463, 1), (1025, 1), (1027, 1), (1132, 1), (1229, 2), (1467, 1)], [(0, 1), (12, 1), (14, 1), (39, 1), (410, 1), (411, 1), (4687, 1), (4688, 1)], [(0, 2), (3, 1), (32, 1), (161, 1), (496, 1), (1280, 1), (4689, 1), (4690, 1)], [(6, 1), (12, 2), (14, 1), (19, 1), (39, 1), (47, 1), (77, 1), (83, 1), (607, 1), (1254, 1), (1757, 1), (2885, 1), (4691, 1), (4692, 1), (4693, 1), (4694, 1)], [(13, 1), (14, 1), (172, 1), (227, 1), (1410, 1), (2097, 1), (2098, 1), (2101, 1), (4695, 1)], [(0, 1), (12, 1), (14, 1), (39, 1), (410, 1), (411, 1), (4032, 1), (4696, 1), (4697, 1)], [(12, 1), (14, 1), (39, 1), (45, 1), (49, 1), (4698, 1)], [(24, 1), (32, 1), (60, 1), (69, 1), (85, 1), (373, 1), (1393, 1), (1739, 1), (1873, 1), (1948, 1), (4699, 1)], [(3, 1), (13, 1), (20, 1), (34, 1), (1287, 1), (1526, 1), (1981, 1), (4700, 1)], [(12, 1), (14, 1), (16, 1), (39, 1), (828, 1), (1262, 1), (1431, 1)], [(6, 1), (12, 2), (14, 1), (39, 1), (46, 1), (47, 2), (901, 1), (1480, 1), (2645, 1), (4111, 1), (4701, 1), (4702, 1), (4703, 1), (4704, 1)], [(6, 1), (12, 1), (14, 1), (19, 1), (39, 1), (47, 1), (61, 1), (194, 1), (634, 1), (696, 1), (2307, 1)], [(0, 1), (3, 1), (6, 1), (13, 1), (47, 1), (828, 1), (1308, 1), (1426, 2), (1472, 1), (4705, 1), (4706, 1), (4707, 1), (4708, 1), (4709, 1), (4710, 1), (4711, 1)], [(14, 1), (16, 1), (33, 1), (88, 1), (91, 1), (100, 1), (227, 1), (591, 1), (1085, 1), (1569, 1), (4712, 1)], [(0, 1), (3, 1), (6, 1), (12, 1), (13, 1), (24, 2), (80, 1), (198, 1), (224, 1), (227, 1), (277, 1), (582, 1), (1055, 1), (1102, 1), (1476, 1), (2599, 1), (4071, 1), (4713, 1), (4714, 1), (4715, 1), (4716, 1)], [(3, 1), (39, 1), (60, 1), (154, 1), (161, 2), (184, 1), (227, 1), (329, 1), (955, 1), (2550, 1)], [(3, 1), (7, 1), (12, 1), (14, 1), (31, 1), (39, 1), (49, 1), (60, 1), (62, 2), (128, 1), (202, 1), (571, 1), (576, 1), (2548, 2)], [(25, 2), (27, 1), (32, 1), (80, 1), (112, 1), (161, 1), (201, 1), (224, 1), (303, 1), (499, 1), (815, 1), (1440, 1), (2065, 1)], [(6, 1), (14, 1), (39, 1), (61, 1), (86, 1), (221, 1), (1217, 1), (4717, 1)], [(31, 1), (39, 1), (79, 1), (460, 1), (862, 1)], [(0, 1), (3, 2), (6, 1), (12, 1), (14, 1), (32, 1), (80, 2), (161, 1), (247, 1), (289, 1), (336, 1), (599, 1), (1110, 1), (1379, 1), (3228, 1), (4162, 1), (4718, 1), (4719, 1)], [(3, 1), (31, 1), (32, 1), (86, 1), (269, 1), (352, 1), (657, 1)], [(13, 1), (14, 1), (169, 1), (856, 1), (4720, 1), (4721, 1), (4722, 1)], [(3, 1), (6, 1), (32, 1), (158, 1), (225, 1), (373, 1), (4543, 1), (4723, 1), (4724, 1)], [(3, 1), (12, 1), (13, 1), (33, 1), (896, 1), (933, 1), (4725, 1)], [(3, 1), (6, 1), (13, 1), (392, 1), (634, 1), (3064, 1)], [(25, 1), (27, 1), (31, 1), (32, 1), (60, 1), (257, 1), (263, 1), (540, 1), (590, 1), (858, 1), (1818, 1)], [(14, 1), (17, 1), (61, 1), (576, 1), (705, 1), (1343, 1), (1347, 1), (2511, 1)], [(12, 1), (14, 1), (39, 1), (49, 1), (4726, 1), (4727, 1)], [(14, 1), (32, 1), (37, 1), (60, 1), (69, 1), (226, 1), (4728, 1), (4729, 1), (4730, 1), (4731, 1)], [(12, 1), (14, 1), (47, 1), (60, 1), (69, 1), (76, 1), (77, 1), (80, 1), (148, 1), (634, 1), (1309, 1), (2512, 1), (3342, 1), (4732, 1), (4733, 1), (4734, 1), (4735, 1), (4736, 1), (4737, 1), (4738, 1)], [(0, 1), (14, 1), (16, 1), (27, 1), (39, 1), (61, 1), (69, 1), (161, 1), (277, 1), (279, 1), (576, 1), (634, 1), (866, 1), (1441, 1), (1638, 1), (1882, 1), (2897, 1), (4739, 1), (4740, 1)], [(12, 1), (14, 1), (17, 1), (61, 1), (485, 1), (669, 1), (1684, 1), (3824, 1), (4608, 1)], [(0, 1), (12, 1), (13, 1), (14, 2), (31, 1), (39, 2), (60, 1), (76, 2), (77, 1), (79, 1), (86, 2), (184, 1), (634, 2), (676, 1), (784, 2), (1495, 1), (2133, 1), (2886, 1)], [(12, 1), (14, 1), (32, 1), (45, 1), (47, 1), (86, 1), (123, 1), (290, 1), (1236, 1)], [(12, 1), (14, 2), (16, 1), (24, 1), (39, 1), (105, 1), (112, 1), (459, 1), (1186, 1), (2788, 1), (3632, 1), (4741, 1)], [(14, 1), (60, 1), (61, 2), (69, 1), (84, 1), (153, 1), (224, 1), (227, 1), (813, 1), (979, 1), (1323, 1), (2463, 1), (2470, 2)], [(0, 1), (3, 1), (12, 1), (14, 1), (31, 1), (32, 1), (39, 1), (69, 1), (205, 1), (1294, 1), (4742, 1)], [(3, 1), (16, 1), (32, 1), (161, 1), (259, 1), (651, 1), (1111, 1), (1477, 1)], [(47, 1), (621, 1), (1033, 1), (2128, 1), (2431, 1), (4743, 1), (4744, 1), (4745, 1)], [(12, 1), (13, 1), (14, 1), (19, 1), (47, 1), (61, 1), (949, 1), (2482, 1), (3057, 1), (4746, 1)], [(3, 1), (25, 1), (39, 1), (61, 1), (77, 1), (161, 2), (196, 1), (201, 1), (352, 1), (485, 1), (499, 1), (628, 1), (661, 1), (717, 1), (814, 1), (842, 1), (930, 1), (1084, 1), (1807, 1), (2064, 1), (2077, 1), (2769, 1), (3164, 1), (4747, 1), (4748, 1), (4749, 1)], [(36, 1), (60, 1), (148, 1), (227, 2), (257, 1), (726, 1), (1695, 1), (3161, 1), (4750, 1), (4751, 1), (4752, 1)], [(3, 1), (32, 1), (161, 1), (839, 1), (4753, 1)], [(23, 1), (25, 1), (26, 1), (31, 1), (32, 1), (61, 1), (1294, 1), (1417, 1)], [(6, 1), (25, 1), (32, 1), (60, 2), (143, 1), (161, 1), (201, 1), (259, 1), (1207, 1), (1759, 1), (2088, 1), (2495, 1), (4194, 1), (4754, 1), (4755, 1), (4756, 1)], [(0, 1), (12, 1), (14, 1), (39, 1), (47, 1), (497, 1), (578, 1), (2361, 1), (3691, 1), (4757, 1)], [(6, 1), (39, 1), (341, 1), (934, 1), (2040, 1), (4758, 1)], [(6, 1), (12, 1), (14, 1), (39, 1), (49, 1), (60, 1), (61, 1), (143, 1), (202, 1), (231, 1), (272, 1), (775, 1), (1164, 1), (1348, 1), (2765, 1), (3610, 1), (4759, 1), (4760, 1), (4761, 1), (4762, 1)], [(12, 2), (14, 1), (39, 1), (46, 1), (47, 1), (172, 1), (189, 1), (4763, 1), (4764, 1)], [(6, 1), (14, 1), (32, 1), (47, 1), (53, 1), (76, 1), (277, 1), (373, 1), (594, 1), (1350, 1), (1738, 1), (2340, 1), (3203, 1), (4765, 1), (4766, 1), (4767, 1)], [(6, 1), (14, 1), (16, 1), (49, 1), (105, 1), (2863, 1), (2907, 1), (4768, 1), (4769, 1)], [(12, 1), (14, 1), (105, 1), (353, 1), (632, 1), (1043, 1), (2689, 1), (4770, 1)], [(25, 1), (32, 1), (61, 1), (77, 1), (161, 1), (732, 1), (4771, 1), (4772, 1)], [(0, 1), (6, 1), (12, 2), (14, 1), (39, 1), (114, 1), (116, 1), (172, 1), (196, 1), (621, 1), (1323, 1), (2132, 1), (3321, 1), (4773, 1)], [(12, 1), (14, 1), (39, 1), (49, 1), (60, 1), (202, 1), (1183, 1), (3191, 1), (4146, 1)], [(12, 1), (14, 1), (39, 1), (49, 1), (139, 1), (1739, 1), (3149, 1)], [(12, 1), (14, 1), (39, 1), (49, 1), (4774, 1)], [(12, 1), (14, 1), (39, 1), (47, 1), (49, 1), (158, 1), (828, 1), (1110, 1), (4775, 1)], [(0, 1), (39, 1), (76, 1), (79, 1), (161, 1), (184, 1), (246, 1), (306, 1), (604, 1), (1666, 1), (3347, 1), (4682, 1)], [(3, 1), (31, 1), (39, 1), (60, 1), (304, 1), (394, 1), (756, 1)], [(0, 1), (6, 1), (14, 1), (16, 1), (39, 1), (93, 1), (1222, 1), (1321, 1), (1323, 1), (4776, 1), (4777, 1), (4778, 1), (4779, 1)], [(12, 1), (14, 1), (39, 1), (60, 1), (61, 1), (149, 1), (300, 1), (308, 1), (1498, 1), (2839, 1), (2884, 1)], [(10, 1), (14, 1), (39, 1), (47, 1), (61, 1), (1136, 1), (1385, 1), (4780, 1), (4781, 1), (4782, 1)], [(16, 1), (32, 1), (61, 1), (76, 1), (161, 2), (184, 1), (258, 1), (373, 1), (540, 1), (590, 1), (604, 1), (2769, 1)], [(13, 2), (14, 2), (20, 1), (69, 1), (161, 1), (259, 1), (321, 1), (357, 1), (3003, 1), (4783, 2), (4784, 1)], [(16, 1), (25, 1), (32, 1), (96, 1), (112, 1), (161, 1), (162, 1), (271, 1)], [(25, 1), (27, 1), (64, 1), (79, 1), (83, 1), (1873, 1), (3930, 1), (4785, 1), (4786, 1)], [(0, 1), (12, 1), (14, 1), (39, 1), (410, 1), (411, 1), (832, 1), (3386, 1), (4787, 1), (4788, 1)], [(14, 1), (30, 1), (47, 1), (60, 1), (141, 1), (172, 1), (257, 1), (1954, 1), (1991, 1), (2526, 1), (4047, 1), (4789, 1), (4790, 1), (4791, 1), (4792, 1), (4793, 1), (4794, 1)], [(6, 1), (12, 1), (14, 1), (24, 1), (39, 1), (47, 1), (386, 1), (998, 1), (2791, 1)], [(16, 1), (32, 1), (57, 1), (154, 1), (161, 1), (1351, 1), (4409, 1)], [(6, 1), (12, 1), (14, 1), (39, 1), (49, 1), (500, 1), (1359, 1), (1364, 1)], [(0, 1), (13, 1), (14, 1), (314, 1), (571, 1), (4795, 1)], [(6, 1), (13, 1), (14, 1), (19, 1), (441, 1), (576, 1), (2291, 1)], [(12, 1), (14, 1), (39, 1), (49, 1), (60, 1), (61, 1), (77, 1), (202, 1), (625, 1), (4796, 1)], [(10, 1), (14, 1), (27, 1), (39, 1), (791, 1), (828, 1), (1250, 1), (1538, 1), (2049, 1)], [(6, 1), (12, 1), (14, 1), (39, 1), (49, 1), (877, 1), (1891, 1)], [(13, 1), (14, 1), (61, 1), (141, 1), (632, 1), (1692, 1), (1935, 1)], [(3, 1), (16, 1), (31, 1), (32, 1), (61, 2), (1094, 1), (1624, 1), (1762, 1), (3458, 1), (4797, 2), (4798, 1)], [(0, 1), (12, 1), (14, 1), (39, 1), (47, 1), (464, 1), (545, 1), (4799, 1), (4800, 1), (4801, 1)], [(288, 1), (2504, 1), (3140, 1), (4802, 1), (4803, 1), (4804, 1)], [(3, 1), (27, 1), (31, 1), (32, 1), (61, 1), (86, 1), (749, 1), (1675, 1), (1786, 1)], [(12, 1), (27, 1), (39, 1), (45, 1), (47, 1), (750, 1), (1186, 1)], [(3, 2), (6, 1), (12, 1), (32, 1), (39, 1), (47, 1), (60, 1), (69, 1), (224, 1), (227, 1), (402, 1), (440, 1), (443, 1), (3700, 1), (4805, 1)], [(3, 2), (39, 1), (60, 1), (392, 1), (756, 1), (4445, 1)], [(14, 1), (39, 1), (45, 1), (61, 1), (4806, 1)], [(14, 1), (39, 1), (61, 1), (3368, 1), (4807, 1)], [(0, 1), (3, 1), (6, 1), (12, 4), (14, 1), (32, 1), (39, 1), (60, 1), (119, 1), (141, 1), (224, 1), (443, 1), (2391, 1), (2393, 1), (2824, 1), (2825, 1)], [(6, 1), (16, 1), (25, 1), (69, 1), (93, 1), (246, 1), (301, 1), (634, 1), (747, 1), (1358, 1), (3015, 1), (4808, 1), (4809, 1)], [(3, 1), (13, 1), (61, 1), (222, 1), (301, 1), (972, 1), (1217, 1), (4810, 1)], [(3, 1), (27, 1), (32, 1), (37, 1), (161, 1), (771, 1), (2773, 1)], [(14, 1), (17, 1), (60, 1), (84, 1), (231, 1), (533, 1), (839, 1), (2526, 1), (2924, 1), (3870, 1), (4811, 1)], [(6, 1), (12, 1), (14, 1), (39, 1), (61, 1), (81, 1), (1440, 1), (4078, 1), (4812, 1), (4813, 1)], [(25, 1), (32, 1), (161, 1), (762, 1), (839, 1), (909, 1), (4689, 1)], [(3, 1), (32, 1), (149, 1), (161, 1), (3636, 1), (4814, 1)], [(12, 1), (14, 1), (39, 1), (49, 1), (856, 1), (2927, 1), (4815, 1)], [(14, 1), (16, 1), (27, 1), (60, 1), (61, 2), (84, 1), (114, 1), (141, 1), (158, 1), (202, 1), (289, 1), (686, 1), (1440, 1), (3241, 1), (4816, 1)], [(77, 1), (155, 1), (227, 2), (1143, 1), (1304, 1), (4817, 1), (4818, 1)], [(3, 1), (14, 1), (16, 1), (39, 2), (44, 1), (97, 1), (176, 1), (310, 1), (448, 1), (1346, 1), (3800, 1), (4819, 1), (4820, 1), (4821, 1)], [(0, 1), (3, 1), (6, 1), (14, 1), (16, 1), (31, 1), (61, 1), (161, 2), (176, 1), (224, 1), (512, 2), (2528, 1), (2932, 1)], [(16, 1), (25, 1), (47, 1), (161, 1), (164, 1), (247, 1), (695, 1), (1433, 1), (1542, 1), (3233, 1), (4822, 1), (4823, 1)], [(6, 1), (25, 1), (32, 1), (61, 3), (161, 1), (259, 1), (271, 1), (503, 1), (696, 1), (1713, 1)], [(3, 1), (32, 1), (61, 1), (161, 1), (259, 1), (4779, 1), (4824, 1)], [(14, 1), (4244, 1), (4825, 1), (4826, 1)], [(0, 1), (14, 1), (39, 1), (69, 1), (94, 1), (446, 1), (1407, 1), (2676, 1), (4827, 1)], [(0, 1), (3, 1), (10, 1), (14, 3), (25, 1), (39, 2), (47, 1), (69, 1), (161, 1), (201, 1), (279, 1), (1388, 1), (1606, 1), (2570, 1), (3029, 1), (4828, 1), (4829, 1)], [(14, 1), (25, 1), (32, 1), (161, 1), (762, 1), (4830, 1)], [(12, 1), (14, 1), (985, 1), (1388, 1), (4831, 1), (4832, 1), (4833, 1), (4834, 1), (4835, 1), (4836, 1)], [(12, 3), (14, 1), (25, 1), (47, 1), (148, 1), (172, 1), (184, 1), (290, 1), (340, 1), (382, 1), (392, 1), (2717, 1), (4837, 1), (4838, 1), (4839, 1), (4840, 1)], [(6, 1), (12, 1), (14, 1), (16, 1), (39, 1), (61, 1), (196, 1), (425, 1), (1122, 1), (1349, 1), (2515, 1), (4841, 1)], [(3, 1), (16, 1), (32, 1), (161, 1), (313, 1), (316, 1), (839, 1), (3048, 1)], [(12, 1), (14, 1), (16, 1), (49, 1), (105, 1), (441, 1), (877, 1), (4842, 1)], [(14, 1), (16, 1), (39, 1), (436, 1), (489, 1), (858, 1), (1386, 1), (1542, 1), (2494, 1), (3005, 1), (3142, 1)], [(6, 1), (12, 1), (14, 1), (19, 1), (49, 1), (60, 1), (61, 1), (105, 1), (1421, 1), (3857, 1), (4733, 1), (4843, 1)], [(6, 1), (12, 1), (14, 1), (105, 1), (165, 1), (224, 1), (225, 1), (228, 1), (4844, 1)], [(10, 1), (14, 1), (27, 1), (39, 1), (61, 1), (858, 1), (4845, 1)], [(6, 1), (25, 1), (123, 1), (151, 1), (224, 1), (725, 1), (1102, 1)], [(14, 1), (25, 1), (31, 2), (32, 1), (61, 1), (184, 1), (536, 1), (1850, 1)], [(12, 1), (27, 1), (82, 1), (227, 1), (481, 1), (2876, 1), (3208, 1), (4846, 1), (4847, 1)], [(0, 1), (6, 2), (25, 1), (32, 1), (60, 1), (61, 1), (74, 1), (161, 1), (259, 1), (313, 1), (1046, 1), (1074, 1), (1111, 1), (1495, 1), (3047, 1), (4848, 1), (4849, 1), (4850, 1)], [(6, 1), (12, 2), (14, 2), (25, 1), (61, 3), (69, 1), (80, 1), (84, 1), (86, 1), (353, 1), (422, 1), (533, 1), (731, 1), (1087, 1), (1324, 1), (1336, 1), (1956, 2), (2528, 1), (3211, 1), (4851, 1), (4852, 1), (4853, 1)], [(3, 1), (6, 1), (31, 1), (32, 1), (69, 1), (112, 1), (217, 1)], [(14, 1), (39, 1), (61, 1), (3332, 1)], [(6, 1), (12, 1), (14, 1), (39, 1), (60, 1), (1044, 1), (4854, 1), (4855, 1), (4856, 1), (4857, 1), (4858, 1)], [(25, 1), (31, 1), (32, 1), (49, 1), (298, 1), (1763, 1), (4859, 1)], [(6, 1), (12, 1), (14, 1), (19, 1), (39, 1), (47, 1), (61, 1), (246, 1), (1489, 1), (2050, 1), (2378, 1)], [(25, 1), (32, 1), (142, 1), (148, 1), (161, 1), (581, 1), (1638, 1), (1742, 1)], [(14, 1), (32, 1), (44, 1), (439, 1), (1433, 1), (3164, 1), (3615, 1), (4860, 1), (4861, 1)], [(12, 1), (14, 1), (39, 1), (77, 1), (235, 1), (625, 1), (4862, 1)], [(6, 1), (14, 2), (25, 1), (32, 1), (39, 1), (80, 1), (247, 1), (301, 2), (1215, 2)], [(0, 1), (12, 1), (14, 1), (39, 1), (61, 2), (410, 1), (411, 1), (4863, 1), (4864, 1), (4865, 2)], [(9, 1), (12, 1), (14, 1), (61, 1), (919, 1), (4439, 1), (4866, 1), (4867, 1)], [(6, 1), (12, 2), (14, 1), (47, 1), (62, 1), (80, 1), (455, 1), (542, 1), (1110, 1), (2320, 1), (3697, 1), (3699, 1), (4868, 1), (4869, 1), (4870, 1), (4871, 1)], [(3, 1), (6, 1), (31, 1), (282, 1), (4872, 1)], [(14, 1), (39, 1), (47, 1), (86, 1), (1254, 1), (4873, 1)], [(0, 1), (6, 1), (12, 1), (14, 1), (49, 1), (105, 1), (279, 1), (351, 1), (446, 1), (709, 1), (1555, 1)], [(6, 1), (12, 3), (14, 1), (27, 1), (39, 1), (44, 1), (47, 1), (54, 1), (60, 1), (82, 1), (464, 1), (2717, 1), (4874, 1), (4875, 1), (4876, 1), (4877, 1), (4878, 1), (4879, 1), (4880, 1)], [(3, 1), (6, 1), (32, 1), (102, 1), (161, 1), (1622, 1), (2515, 1)], [(3, 1), (32, 1), (61, 2), (77, 1), (112, 1), (161, 1), (360, 1), (1306, 1), (4881, 1)], [(14, 1), (24, 1), (25, 1), (47, 1), (61, 1), (69, 1), (91, 1), (143, 1), (172, 1), (466, 1), (1632, 1), (2232, 1), (4769, 1), (4882, 1), (4883, 1), (4884, 1), (4885, 1)], [(0, 1), (3, 2), (13, 1), (60, 1), (881, 1), (947, 1), (1326, 1), (1479, 1), (4131, 1), (4489, 1), (4886, 1), (4887, 1), (4888, 1)], [(14, 1), (16, 1), (17, 1), (794, 1), (1272, 1), (2472, 1), (3013, 1), (3094, 1), (3947, 1)], [(14, 1), (27, 1), (76, 1), (141, 1), (170, 1), (225, 1), (257, 1), (4889, 1)], [(0, 1), (6, 1), (9, 1), (16, 1), (25, 1), (37, 1), (92, 1), (161, 1), (472, 1), (535, 1), (989, 1), (2002, 1), (2765, 1), (2907, 1), (3507, 1), (4071, 1)], [(14, 2), (16, 1), (47, 1), (50, 1), (61, 1), (105, 1), (172, 1), (227, 1), (440, 1), (576, 1), (697, 1), (2058, 1), (4624, 1), (4890, 1)], [(3, 1), (6, 1), (32, 1), (161, 1), (201, 1), (398, 1), (416, 1), (1998, 1)], [(6, 1), (14, 1), (20, 1), (61, 1), (80, 1), (105, 1), (141, 1), (184, 1), (222, 1), (224, 1), (227, 1), (257, 1), (910, 1), (1223, 1), (2077, 1), (3756, 1), (4891, 1)], [(14, 1), (18, 3), (39, 1), (60, 1), (83, 1), (143, 1), (158, 1), (201, 1), (227, 2), (263, 1), (279, 1), (365, 1), (449, 1), (535, 1), (536, 1), (732, 1), (1492, 1), (1524, 1), (1903, 1), (2618, 1), (3772, 1), (4892, 1), (4893, 1)], [(6, 1), (19, 1), (25, 1), (161, 1), (164, 1), (259, 1), (601, 1), (1127, 1), (1462, 1), (4894, 1)], [(12, 1), (14, 1), (27, 1), (32, 1), (165, 1), (225, 1), (4895, 1)], [(14, 1), (16, 1), (17, 1), (61, 1), (390, 1), (985, 1), (1191, 1), (2326, 1), (2612, 1)], [(6, 1), (13, 1), (14, 1), (2380, 1), (2381, 1), (2382, 1), (2383, 1), (4896, 1)], [(12, 1), (14, 1), (39, 1), (47, 1), (2109, 1), (2223, 1), (4194, 1)], [(3, 1), (12, 1), (13, 1), (16, 1), (27, 1), (201, 1), (908, 1), (1110, 1), (1224, 1), (2355, 1), (2867, 1), (4897, 1), (4898, 1)], [(14, 1), (39, 1), (47, 1), (86, 1), (1254, 1), (4899, 1)], [(0, 1), (13, 1), (14, 1), (19, 1), (20, 1), (373, 1), (650, 1), (969, 1), (971, 1), (4185, 1), (4900, 1)], [(3, 1), (6, 1), (61, 1), (104, 1), (825, 1), (1857, 1), (2476, 1), (4901, 1), (4902, 1), (4903, 1)], [(3, 1), (6, 1), (7, 1), (13, 1), (69, 1), (81, 1), (83, 1), (448, 1), (512, 1), (574, 1), (949, 1), (1451, 1), (2794, 1), (4904, 1)], [(12, 1), (14, 1), (27, 1), (39, 1), (170, 1), (225, 1), (228, 1), (1441, 1), (2131, 1)], [(12, 1), (14, 1), (39, 1), (228, 1), (828, 1), (4905, 1)], [(14, 1), (39, 1), (2567, 1), (4906, 1)], [(25, 1), (44, 1), (47, 1), (60, 3), (161, 2), (201, 1), (205, 1), (437, 1), (562, 1), (830, 1), (1298, 1), (1495, 1), (1501, 1), (2839, 1), (3221, 1), (4907, 1)], [(14, 2), (47, 1), (61, 1), (736, 1), (2880, 1), (4908, 1), (4909, 1)], [(14, 2), (21, 1), (39, 1), (60, 1), (80, 1), (85, 1), (86, 1), (247, 1), (290, 1), (363, 1), (1287, 1), (1563, 1)], [(39, 1), (161, 1), (184, 1), (819, 1), (3079, 1)], [(12, 1), (14, 1), (32, 1), (1385, 1), (1386, 1), (1387, 1), (3690, 1)], [(0, 1), (12, 1), (14, 1), (39, 1), (410, 1), (411, 1), (2300, 1), (4910, 1)], [(6, 1), (13, 1), (14, 1), (572, 1), (2685, 1), (2738, 1), (3872, 1), (4731, 1)], [(3, 2), (13, 1), (39, 1), (160, 1), (448, 1), (717, 1), (1997, 1)], [(12, 1), (13, 1), (14, 1), (47, 1), (363, 1), (584, 1), (879, 1), (2150, 1), (4911, 1)], [(12, 1), (49, 1), (105, 1), (227, 1), (1084, 1), (3193, 1), (4035, 1)], [(25, 1), (61, 2), (161, 1), (164, 1), (224, 1), (789, 1), (1326, 1), (1388, 1), (4912, 1)], [(16, 1), (25, 1), (32, 1), (161, 1), (201, 1), (417, 1), (937, 1), (1399, 1)], [(3, 1), (10, 1), (13, 1), (14, 1), (61, 1), (170, 1), (262, 1), (300, 1), (448, 1), (460, 1), (576, 1), (594, 1), (1352, 1), (1784, 1), (4913, 1)], [(14, 1), (32, 1), (61, 2), (157, 1), (594, 1), (595, 1)], [(10, 1), (14, 1), (16, 1), (39, 1), (60, 1), (1954, 1), (2368, 1), (3038, 1), (4914, 1), (4915, 1), (4916, 2)], [(6, 1), (14, 1), (47, 1), (92, 1), (141, 1), (257, 1), (392, 1), (1671, 1), (4917, 1), (4918, 1)], [(16, 1), (25, 1), (32, 1), (161, 1), (201, 1), (249, 1), (634, 1), (839, 1), (3016, 1)], [(12, 1), (14, 3), (47, 1), (61, 1), (141, 1), (148, 1), (158, 1), (184, 1), (364, 1), (460, 1), (481, 1), (485, 1), (1393, 3), (1599, 1), (4919, 1), (4920, 1)], [(61, 1), (154, 1), (161, 1), (201, 1), (229, 1), (536, 1), (860, 1), (1639, 1), (4336, 1), (4921, 1)], [(12, 1), (14, 1), (84, 1), (105, 1), (3636, 1), (4094, 4), (4922, 1), (4923, 1), (4924, 1)], [(0, 1), (14, 1), (16, 1), (27, 1), (39, 1), (60, 1), (61, 3), (80, 1), (85, 1), (148, 1), (161, 1), (168, 1), (300, 1), (763, 1), (925, 2), (930, 1), (949, 1), (1722, 1), (1930, 1), (2107, 1), (4925, 2), (4926, 1)], [(12, 1), (14, 1), (39, 1), (49, 1), (196, 1), (489, 1), (3011, 1)], [(13, 1), (14, 1), (20, 1), (27, 1), (34, 1), (80, 1), (141, 1), (165, 1), (170, 1), (225, 1), (227, 1), (258, 1)], [(0, 1), (12, 1), (14, 1), (39, 1), (61, 2), (410, 1), (411, 1), (3242, 1), (4094, 1), (4927, 1), (4928, 1)], [(0, 1), (3, 1), (31, 1), (76, 1), (88, 1), (89, 1), (94, 1), (96, 1), (97, 2), (98, 1), (135, 1), (462, 1), (4673, 1)], [(12, 1), (14, 1), (16, 2), (27, 1), (49, 1), (105, 1), (151, 1), (287, 1), (551, 1), (726, 1), (1801, 1), (2133, 1), (4929, 1)], [(3, 1), (7, 1), (13, 1), (300, 1), (676, 1), (1417, 1), (4454, 1)], [(0, 1), (25, 1), (32, 1), (33, 1), (60, 1), (74, 1), (161, 1), (162, 1), (172, 1), (205, 1), (259, 1), (435, 1), (489, 1), (1948, 1), (3850, 1), (4696, 1), (4930, 1), (4931, 1), (4932, 1)], [(14, 1), (282, 1), (698, 1), (1100, 1)], [(0, 1), (25, 1), (32, 1), (112, 1), (161, 1), (201, 1), (3613, 1), (4479, 1), (4770, 1)], [(25, 1), (32, 1), (44, 1), (161, 1), (2082, 1), (4194, 1), (4279, 1)], [(25, 1), (32, 1), (61, 1), (161, 1), (533, 1), (1003, 1), (4933, 1)], [(6, 1), (12, 2), (14, 1), (16, 1), (24, 1), (25, 1), (31, 1), (86, 1), (202, 1), (368, 1), (476, 1), (481, 1), (768, 1), (814, 1), (1020, 1), (4934, 1), (4935, 1)], [(6, 1), (14, 2), (39, 1), (60, 2), (69, 1), (83, 1), (86, 1), (217, 1), (1469, 1), (4936, 1)], [(14, 1), (39, 1), (2112, 1), (2115, 1)], [(0, 1), (14, 1), (141, 1), (257, 1), (410, 1), (1549, 1), (2061, 1), (2125, 1), (4937, 1)], [(3, 1), (12, 1), (32, 1), (161, 1), (1930, 1), (2886, 1), (4938, 1), (4939, 1)], [(3, 1), (61, 1), (92, 1), (227, 1), (4302, 1)], [(0, 1), (9, 1), (12, 1), (14, 1), (32, 1), (47, 1), (439, 1), (1037, 1), (4168, 1), (4940, 1)], [(12, 1), (14, 1), (39, 1), (60, 1), (86, 1), (202, 1), (259, 1), (363, 1), (896, 1), (956, 1), (3435, 1)], [(13, 1), (14, 2), (47, 3), (105, 2), (2030, 2), (3203, 2), (3220, 2), (4941, 2), (4942, 1), (4943, 1)], [(0, 1), (10, 1), (14, 1), (16, 1), (39, 1), (47, 1), (264, 1), (265, 1), (360, 1), (503, 1), (1556, 1)], [(6, 1), (23, 1), (25, 1), (32, 1), (39, 1), (47, 1), (60, 1), (79, 1), (96, 1), (98, 1), (122, 1), (373, 1), (448, 1), (461, 1), (462, 1), (940, 1), (1025, 1), (2076, 1), (2944, 1)], [(6, 1), (12, 1), (25, 1), (164, 1), (301, 1), (1503, 1), (1826, 1), (3174, 1), (4194, 1), (4944, 1), (4945, 1)], [(6, 2), (25, 1), (161, 1), (199, 1), (860, 1), (1102, 1), (1348, 2), (1992, 1), (2193, 1)], [(25, 1), (32, 1), (60, 1), (151, 1), (161, 1), (1102, 1), (2316, 1), (2687, 1)], [(3, 1), (31, 1), (39, 1), (61, 1), (69, 1), (161, 1), (184, 1), (304, 1), (535, 1), (732, 1), (1495, 1)], [(13, 1), (14, 1), (20, 1), (31, 1), (1072, 1), (4783, 1)], [(3, 2), (16, 1), (25, 1), (32, 2), (60, 1), (161, 2), (201, 1), (249, 1), (300, 1), (348, 1), (373, 1), (634, 1), (2133, 1), (4946, 1), (4947, 1)], [(3, 1), (13, 1), (143, 1), (2202, 1), (2559, 1), (4948, 1), (4949, 1)], [(12, 1), (14, 1), (39, 1), (49, 1), (828, 1), (2599, 1), (4950, 2)], [(0, 1), (10, 2), (14, 2), (39, 2), (47, 1), (508, 1), (564, 1), (1309, 1), (2951, 1), (3368, 1), (4951, 1)], [(25, 1), (32, 1), (161, 2), (184, 1), (227, 1), (1211, 1), (3161, 1), (4952, 1), (4953, 1)], [(6, 1), (32, 1), (34, 1), (47, 1), (224, 1), (1214, 1), (2527, 1), (3241, 1), (3347, 1), (4104, 1)], [(6, 1), (12, 1), (25, 1), (32, 1), (61, 1), (161, 1), (255, 1), (728, 1), (1124, 1), (2886, 1), (3037, 1), (3038, 1), (3627, 1), (4954, 1), (4955, 1), (4956, 1)], [(0, 1), (3, 1), (6, 1), (25, 1), (39, 1), (60, 1), (77, 1), (158, 1), (161, 1), (201, 1), (394, 1), (989, 1), (1356, 1), (3186, 1), (3473, 1), (4957, 1)], [(6, 1), (14, 1), (16, 2), (17, 1), (39, 1), (44, 1), (61, 3), (64, 1), (80, 1), (85, 1), (263, 1), (277, 1), (356, 1), (576, 1), (775, 1), (884, 1), (1347, 1), (1441, 1), (1542, 1), (1606, 2), (1738, 1), (2193, 1), (3693, 1), (4958, 1), (4959, 1)], [(3, 1), (14, 1), (16, 1), (31, 2), (39, 1), (85, 1), (184, 1), (224, 1), (226, 1), (246, 1), (4960, 1)], [(3, 1), (32, 1), (117, 1), (4961, 1)], [(13, 1), (84, 1), (253, 1), (1099, 1), (1336, 1), (3220, 1), (4962, 1)], [(14, 1), (49, 1), (105, 1), (461, 1), (844, 1), (4157, 1)], [(3, 2), (6, 1), (12, 2), (16, 1), (31, 1), (47, 2), (60, 1), (61, 1), (84, 1), (143, 1), (227, 1), (259, 1), (541, 1), (634, 1), (700, 1), (1542, 1), (3164, 1), (4050, 1), (4963, 1), (4964, 1)], [(14, 1), (21, 1), (325, 1), (583, 1), (4965, 1)], [(3, 1), (4, 1), (13, 1), (161, 1), (4477, 1)], [(0, 1), (12, 2), (14, 1), (39, 1), (410, 1), (411, 1), (1500, 2), (3293, 1), (4966, 1)], [(6, 1), (25, 1), (31, 1), (39, 1), (47, 1), (60, 1), (440, 1), (517, 1), (540, 1), (669, 1), (914, 1), (1416, 1), (1800, 1), (2769, 1)], [(14, 1), (16, 1), (39, 1), (56, 1), (148, 1), (1624, 1), (4967, 1)], [(0, 1), (6, 1), (14, 2), (31, 2), (61, 1), (83, 1), (86, 1), (227, 1), (231, 1), (361, 1), (365, 1), (481, 1), (815, 1), (932, 1), (2302, 1)], [(0, 1), (3, 1), (6, 1), (12, 1), (14, 1), (25, 1), (32, 2), (44, 1), (60, 2), (131, 1), (298, 1), (443, 1), (542, 1), (962, 1), (1985, 1), (3157, 1), (4968, 1), (4969, 1), (4970, 1)], [(6, 1), (12, 2), (14, 1), (15, 1), (25, 1), (47, 1), (1484, 1), (3631, 1), (4206, 1), (4621, 1), (4971, 1), (4972, 1), (4973, 1), (4974, 1), (4975, 1), (4976, 1)], [(14, 1), (31, 1), (39, 1), (78, 1), (227, 1), (435, 1), (481, 1), (1592, 1)], [(12, 1), (14, 1), (16, 1), (39, 1), (139, 1), (151, 1), (937, 1), (1102, 1), (3344, 1)], [(16, 1), (25, 1), (32, 1), (161, 1), (571, 1), (725, 1), (1948, 1), (2663, 1)], [(14, 1), (441, 1), (549, 1), (4977, 1), (4978, 1)], [(6, 1), (10, 1), (12, 1), (14, 1), (39, 1), (60, 1), (61, 1), (3185, 1), (4979, 1), (4980, 1), (4981, 1)], [(3, 1), (7, 1), (13, 1), (27, 1), (170, 1), (225, 1), (1326, 1), (1441, 1), (2131, 1)], [(6, 1), (12, 1), (14, 1), (32, 1), (34, 1), (150, 1), (309, 1), (2316, 1)], [(25, 1), (148, 1), (149, 1), (161, 1), (460, 1), (563, 1), (574, 1), (836, 1)], [(14, 1), (39, 1), (60, 1), (79, 1), (2090, 1), (2318, 1), (2561, 1), (4982, 1), (4983, 1)], [(12, 1), (31, 1), (60, 1), (79, 1), (80, 1), (81, 1), (227, 1), (228, 1), (340, 1), (481, 1), (4984, 1)], [(12, 1), (14, 2), (69, 1), (84, 2), (105, 1), (489, 1), (607, 1), (813, 1), (1407, 1), (1446, 1), (1633, 1), (4248, 1), (4985, 1), (4986, 1)], [(3, 1), (7, 2), (13, 1), (60, 1), (62, 1), (83, 1), (163, 1), (258, 1), (448, 1), (949, 1), (4987, 1)], [(6, 1), (14, 1), (17, 1), (61, 1), (105, 1), (1122, 1), (1123, 1), (1124, 1), (1125, 1), (1126, 1), (1127, 1), (4988, 1)], [(3, 1), (32, 1), (37, 1), (60, 1), (64, 1), (117, 1), (249, 1), (472, 1), (634, 1)], [(12, 1), (14, 1), (16, 1), (22, 1), (39, 1), (49, 1), (1762, 1), (1914, 1), (2906, 1), (4989, 1), (4990, 1)], [(14, 2), (17, 1), (18, 1), (61, 2), (84, 1), (224, 1), (361, 1), (3630, 1), (4991, 1), (4992, 1), (4993, 1)], [(13, 1), (14, 1), (61, 1), (170, 1), (513, 1), (594, 1), (1352, 1), (1388, 1), (1784, 1)], [(3, 1), (24, 1), (32, 1), (161, 1), (162, 1), (549, 1), (674, 1), (4914, 1)], [(0, 1), (12, 1), (14, 1), (24, 1), (39, 1), (410, 1), (411, 1), (2112, 1), (2638, 1), (4994, 1), (4995, 1), (4996, 1)], [(3, 1), (6, 1), (12, 1), (14, 1), (32, 1), (60, 1), (61, 2), (80, 1), (84, 1), (112, 2), (148, 1), (176, 1), (184, 1), (362, 1), (448, 1), (794, 2), (1480, 1), (2209, 1), (3366, 2), (3713, 1), (3714, 1), (4257, 1), (4997, 1), (4998, 1), (4999, 1), (5000, 1)], [(0, 2), (31, 1), (39, 1), (47, 1), (60, 2), (61, 1), (84, 1), (85, 1), (128, 1), (227, 1), (241, 1), (499, 1), (604, 1), (1492, 1), (1892, 1), (2163, 1), (2166, 1), (2241, 1), (2508, 1), (2625, 1), (3347, 1), (4091, 1), (4682, 1), (5001, 1), (5002, 1)], [(6, 1), (10, 1), (14, 1), (61, 1), (105, 1), (112, 1), (141, 1), (157, 1), (5003, 1), (5004, 1), (5005, 1), (5006, 1)], [(0, 1), (3, 1), (6, 1), (14, 1), (25, 1), (47, 1), (77, 1), (158, 1), (161, 3), (227, 2), (229, 2), (263, 1), (340, 1), (368, 1), (460, 1), (489, 1), (576, 1), (924, 1), (1153, 1), (1898, 1), (2107, 1), (2774, 1)], [(0, 1), (14, 1), (60, 1), (61, 1), (151, 2), (1501, 1), (5007, 1), (5008, 1), (5009, 1)], [(6, 1), (12, 1), (14, 1), (49, 1), (128, 1), (648, 1), (5010, 1), (5011, 1), (5012, 1)], [(0, 1), (14, 1), (39, 1), (410, 1), (411, 1), (5013, 1), (5014, 1)], [(3, 1), (23, 1), (32, 1), (44, 1), (161, 1), (201, 1), (674, 1), (697, 1), (833, 1), (2107, 1)], [(0, 1), (3, 2), (39, 2), (300, 1), (448, 1), (604, 1), (2548, 1), (4119, 1), (5015, 1)], [(12, 1), (14, 2), (18, 1), (27, 1), (39, 2), (60, 2), (77, 1), (117, 1), (217, 1), (227, 1), (244, 1), (279, 1), (331, 1), (418, 1), (452, 1), (881, 1), (1140, 1), (1215, 1), (1492, 2), (1695, 1), (3986, 1), (5001, 1), (5016, 1)], [(25, 1), (32, 1), (60, 1), (61, 2), (62, 1), (77, 1), (84, 1), (93, 2), (97, 1), (112, 1), (123, 1), (161, 1), (201, 1), (363, 1), (1332, 1), (5017, 1), (5018, 1), (5019, 1)], [(0, 1), (12, 1), (21, 1), (32, 1), (47, 1), (76, 1), (116, 1), (1215, 1), (1287, 1), (1519, 1), (1921, 1), (2183, 1), (2265, 1), (3507, 1), (5020, 1)], [(14, 1), (16, 2), (287, 1), (441, 1), (592, 1), (2094, 1), (5021, 1), (5022, 1)], [(6, 1), (12, 2), (14, 2), (32, 1), (35, 1), (39, 1), (47, 1), (60, 1), (69, 1), (224, 1), (443, 1), (807, 1), (1273, 1), (2566, 1), (5023, 1), (5024, 1)], [(14, 1), (16, 1), (27, 1), (60, 1), (61, 1), (69, 1), (259, 1), (263, 1), (271, 1), (981, 1), (2836, 1), (2894, 1)], [(12, 1), (14, 1), (39, 1), (47, 1), (49, 1), (53, 1), (3008, 1), (5025, 1)], [(12, 1), (14, 1), (39, 1), (49, 1), (60, 1), (61, 1), (202, 1), (380, 1), (876, 1)], [(14, 1), (39, 1), (829, 1), (1062, 1)], [(3, 1), (13, 1), (24, 1), (802, 1), (3870, 1), (5026, 1), (5027, 1), (5028, 1)], [(14, 3), (19, 1), (33, 1), (37, 1), (44, 1), (60, 3), (61, 2), (161, 1), (246, 1), (321, 1), (351, 1), (1182, 1), (1200, 1), (1340, 1), (1388, 1), (1421, 1), (5029, 1), (5030, 1), (5031, 1), (5032, 1)], [(0, 1), (6, 1), (10, 1), (14, 1), (39, 1), (47, 1), (61, 2), (80, 1), (161, 1), (170, 1), (226, 1), (435, 1), (1441, 1), (1728, 1), (2462, 1), (2526, 1), (4950, 1), (5033, 1)], [(0, 1), (3, 1), (13, 1), (227, 1), (439, 1), (853, 1), (1445, 1), (1811, 1), (5034, 1)], [(12, 1), (14, 1), (39, 1), (47, 1), (77, 1), (775, 1), (3465, 1), (3593, 1)], [(12, 2), (14, 1), (19, 2), (44, 1), (47, 1), (60, 1), (69, 1), (172, 1), (402, 1), (570, 1), (712, 1), (833, 1), (896, 1), (981, 1), (4720, 1)], [(0, 3), (6, 2), (14, 2), (16, 1), (17, 2), (25, 1), (32, 1), (37, 1), (45, 1), (60, 2), (61, 2), (69, 2), (76, 2), (86, 1), (93, 1), (94, 1), (135, 1), (141, 1), (143, 1), (154, 1), (158, 1), (161, 4), (185, 1), (201, 1), (227, 1), (259, 2), (263, 2), (271, 1), (272, 1), (321, 1), (373, 1), (394, 1), (485, 1), (840, 1), (858, 1), (995, 1), (1344, 1), (1469, 2), (1485, 1), (1492, 1), (1759, 1), (3362, 1), (3674, 1), (5035, 1), (5036, 1), (5037, 1), (5038, 1), (5039, 1)], [(27, 2), (31, 1), (39, 1), (60, 1), (61, 1), (85, 1), (634, 1), (794, 2), (860, 1), (1697, 1), (1699, 1), (2213, 1)], [(6, 1), (12, 1), (14, 2), (122, 1), (123, 1), (201, 1), (226, 1), (227, 1), (366, 2), (397, 1), (448, 1), (459, 2), (540, 1), (717, 1), (733, 1), (747, 1), (815, 1), (2587, 1), (2618, 1), (3536, 1), (3914, 1), (5040, 1), (5041, 1)], [(3, 1), (7, 1), (460, 1), (862, 1)], [(16, 1), (25, 1), (32, 1), (161, 1), (201, 1), (416, 1), (919, 1), (5042, 1)], [(12, 1), (14, 1), (128, 1), (5043, 1)], [(0, 1), (12, 1), (14, 1), (39, 1), (410, 1), (411, 1), (3324, 1), (4409, 1), (5044, 1)], [(25, 1), (31, 1), (32, 1), (86, 1), (162, 1), (374, 1), (591, 1), (655, 1)], [(0, 1), (12, 1), (14, 1), (16, 1), (39, 1), (476, 1), (3483, 1), (4071, 1), (5045, 1), (5046, 1)], [(0, 1), (12, 1), (14, 1), (105, 1), (410, 1), (411, 1), (1883, 1), (5047, 1), (5048, 1), (5049, 1)], [(3, 1), (45, 1), (201, 1), (412, 1)], [(0, 1), (25, 1), (32, 1), (60, 1), (76, 1), (89, 1), (94, 1), (96, 1), (461, 1), (462, 1), (466, 1), (771, 1), (938, 1)], [(14, 1), (32, 1), (60, 1), (61, 1), (69, 1), (360, 1), (617, 1), (2245, 1)], [(14, 1), (39, 1), (47, 1), (86, 1), (1254, 1), (2281, 1), (5050, 1)], [(6, 1), (12, 1), (14, 1), (19, 1), (49, 1), (105, 1), (1447, 1), (1542, 1), (5051, 1)], [(14, 1), (16, 2), (25, 1), (126, 1), (148, 1), (939, 1), (1194, 1), (2844, 1), (5052, 1), (5053, 1), (5054, 1)], [(6, 1), (14, 1), (61, 1), (69, 1), (203, 1), (270, 1), (708, 1), (1348, 1), (3051, 1), (5055, 1)], [(25, 1), (32, 1), (39, 1), (161, 2), (247, 1), (1215, 1)], [(13, 1), (14, 1), (289, 1), (618, 1), (938, 1), (1381, 1), (5056, 1), (5057, 1), (5058, 1)], [(3, 1), (23, 1), (31, 1), (32, 1), (61, 1), (346, 1), (814, 1), (3353, 1), (5059, 1)], [(14, 1), (27, 1), (32, 1), (161, 1), (201, 1), (263, 1), (430, 1), (893, 1), (949, 1), (1328, 1), (1599, 1)], [(0, 2), (14, 1), (17, 1), (25, 1), (60, 1), (77, 1), (94, 1), (141, 1), (161, 1), (201, 2), (249, 2), (263, 1), (390, 1), (408, 1), (409, 2), (686, 1), (1695, 1), (2213, 1), (2680, 1), (5060, 1)], [(14, 1), (32, 1), (44, 1), (148, 1), (172, 1), (361, 1), (394, 1), (760, 1), (1279, 1), (1363, 1), (1739, 1), (1873, 1)], [(6, 1), (14, 1), (16, 1), (17, 1), (39, 1), (61, 2), (157, 1), (194, 1), (2613, 1), (5061, 1)], [(3, 1), (14, 1), (39, 1), (60, 1), (143, 1), (154, 1), (161, 1), (3033, 1)], [(3, 1), (4, 1), (6, 2), (19, 1), (32, 1), (60, 1), (61, 1), (69, 1), (436, 1), (847, 1), (3241, 1), (3536, 1)], [(0, 1), (3, 1), (6, 1), (60, 1), (61, 4), (93, 1), (117, 1), (161, 2), (184, 1), (300, 1), (651, 1), (756, 1), (1948, 1), (5062, 1)], [(6, 1), (10, 1), (14, 1), (16, 1), (39, 1), (61, 1), (271, 1), (503, 1), (696, 1), (3847, 1), (4399, 1)], [(0, 1), (6, 1), (12, 2), (13, 1), (14, 2), (39, 1), (80, 1), (1484, 1), (1938, 1), (2234, 1), (5063, 1)], [(3, 1), (32, 1), (61, 1), (148, 1), (373, 1), (655, 1), (2755, 1)], [(6, 1), (3286, 1), (3636, 1)], [(12, 1), (14, 1), (49, 1), (60, 1), (105, 1), (205, 1), (789, 1), (1314, 1), (2183, 1), (4079, 1)], [(6, 1), (19, 1), (25, 1), (61, 1), (161, 1), (259, 1), (271, 1)], [(12, 1), (25, 1), (32, 1), (77, 1), (161, 1), (165, 1), (247, 1), (1351, 1), (1597, 1), (5064, 1), (5065, 1)], [(10, 1), (14, 1), (16, 1), (39, 1), (47, 1), (86, 1), (97, 1), (123, 1), (959, 1), (960, 1)], [(6, 1), (12, 2), (14, 1), (16, 1), (19, 1), (39, 1), (61, 1), (259, 1), (306, 1), (879, 1), (882, 1), (983, 1), (1358, 1), (5066, 1)], [(14, 1), (39, 1), (437, 1), (1237, 1), (5067, 1), (5068, 1)], [(3, 1), (32, 1), (571, 1), (1048, 1)], [(14, 1), (39, 1), (47, 1), (202, 1), (535, 1), (1707, 1), (2107, 1), (5069, 1)], [(12, 1), (14, 1), (16, 1), (39, 1), (49, 1), (423, 1), (1421, 1), (3246, 1)], [(6, 1), (12, 1), (24, 1), (47, 1), (84, 1), (122, 1), (123, 1), (149, 1), (257, 1), (1091, 1), (1347, 1), (1475, 1), (1579, 1), (1667, 1), (2004, 1), (4307, 1), (4393, 1), (5070, 1), (5071, 1)], [(14, 1), (39, 1), (47, 1), (89, 1), (95, 1), (558, 1)], [(3, 1), (6, 1), (39, 1), (304, 1), (2353, 1), (5072, 1), (5073, 1)], [(6, 1), (12, 1), (25, 1), (49, 1), (97, 1), (131, 1), (161, 1), (164, 1), (206, 1), (247, 1), (5074, 1)], [(6, 1), (12, 1), (14, 1), (39, 1), (49, 1), (60, 1), (117, 1), (390, 1), (1994, 1)], [(14, 1), (32, 1), (533, 1), (5075, 1), (5076, 1)], [(32, 1), (60, 1), (201, 1), (1356, 1), (5077, 1)], [(12, 1), (14, 1), (62, 1), (128, 1), (161, 1), (201, 1), (227, 1), (306, 1), (626, 1), (2100, 1), (5078, 1)], [(14, 1), (32, 1), (61, 1), (122, 1), (154, 1), (541, 1), (669, 1), (1094, 1), (2768, 1)], [(6, 1), (12, 1), (14, 2), (16, 1), (19, 1), (39, 1), (61, 1), (116, 1), (1343, 1), (3691, 1), (5071, 1), (5079, 1), (5080, 1), (5081, 1)], [(0, 1), (3, 1), (7, 1), (20, 1), (32, 1), (60, 1), (80, 1), (161, 2), (576, 1), (1877, 1), (2330, 1), (3957, 1), (4753, 1), (5082, 1), (5083, 1), (5084, 1)], [(0, 1), (12, 1), (14, 1), (105, 1), (410, 1), (411, 1), (3242, 1), (4815, 1), (5085, 1)], [(6, 1), (14, 1), (39, 1), (45, 1), (84, 1), (96, 1), (314, 1), (2125, 1)], [(3, 1), (6, 1), (25, 1), (39, 1), (61, 1), (161, 1), (5086, 1)], [(12, 1), (14, 1), (39, 1), (228, 1), (488, 1), (5087, 1), (5088, 1)], [(3, 1), (12, 3), (14, 2), (19, 2), (47, 2), (61, 1), (80, 1), (184, 1), (304, 1), (756, 1), (930, 1), (1476, 1), (1478, 1), (1481, 1), (1482, 1), (1484, 1)], [(3, 1), (6, 1), (13, 1), (60, 2), (61, 1), (76, 1), (161, 1), (227, 1), (452, 1), (535, 1), (576, 1), (856, 2), (905, 1), (1440, 1), (1492, 1), (2100, 1), (3608, 1), (3914, 1), (5089, 1), (5090, 1), (5091, 1), (5092, 1), (5093, 1), (5094, 1), (5095, 1), (5096, 1)], [(6, 1), (12, 1), (14, 1), (19, 1), (39, 1), (79, 1), (85, 1), (184, 1), (3237, 1), (5097, 1), (5098, 1)], [(3, 1), (12, 1), (31, 1), (32, 1), (47, 1), (61, 1), (86, 1), (94, 1), (97, 1), (1095, 1), (1171, 1), (1548, 1), (2067, 1)], [(16, 1), (25, 1), (32, 1), (112, 1), (161, 1), (201, 1), (676, 1), (5099, 1)], [(3, 1), (31, 1), (83, 1), (84, 1), (279, 2), (851, 1), (978, 1), (1719, 1), (2774, 1)], [(10, 1), (12, 1), (14, 1), (39, 1), (47, 1), (148, 1), (476, 1), (564, 1), (1629, 1), (5100, 1)], [(25, 1), (61, 1), (149, 1), (157, 1), (5101, 1)], [(3, 1), (27, 1), (32, 1), (161, 1), (184, 1), (227, 1), (263, 1), (344, 1), (725, 1), (949, 1), (5102, 1)], [(3, 2), (4, 2), (14, 1), (31, 1), (32, 1), (60, 1), (61, 1), (69, 1), (84, 1), (762, 1), (1522, 1), (1546, 1), (3220, 1), (5103, 1), (5104, 1), (5105, 1)], [(18, 2), (27, 1), (76, 1), (77, 1), (263, 2), (893, 2)], [(12, 1), (25, 1), (60, 1), (161, 1), (164, 1), (247, 1), (1446, 1), (2329, 1), (3697, 1), (5106, 1)], [(10, 1), (14, 1), (16, 1), (17, 1), (39, 1), (271, 1), (4365, 1), (5107, 1), (5108, 1)], [(14, 1), (32, 1), (1500, 1), (1501, 1), (5109, 1), (5110, 1)], [(14, 1), (25, 1), (32, 1), (44, 1), (60, 1), (114, 1), (536, 1), (976, 2), (4397, 1), (4817, 1), (5111, 1), (5112, 1), (5113, 1)], [(12, 2), (27, 1), (37, 1), (47, 1), (86, 1), (143, 1), (172, 1), (185, 1), (340, 1), (1979, 1), (3156, 1), (4195, 1)], [(10, 1), (14, 1), (39, 1), (47, 1), (61, 1), (80, 1), (148, 1), (227, 1), (1124, 1), (1562, 1), (5114, 1), (5115, 1)], [(13, 1), (25, 1), (341, 1), (4952, 1), (5116, 1), (5117, 1)], [(6, 1), (25, 1), (61, 1), (161, 1), (164, 1), (1206, 1), (1434, 1), (5118, 1), (5119, 1), (5120, 1)], [(12, 1), (15, 1), (22, 1), (27, 1), (39, 1), (47, 1), (146, 1), (290, 1), (621, 1), (726, 1), (832, 1), (1287, 1)], [(13, 1), (60, 1), (1410, 1), (2097, 1), (2098, 1), (2100, 1), (2101, 2), (4695, 1)], [(0, 1), (3, 1), (39, 1), (61, 1), (69, 1), (184, 1), (263, 1), (301, 1), (304, 1), (344, 1), (360, 1), (366, 1), (485, 1), (1012, 1), (1492, 1), (5121, 1), (5122, 1), (5123, 1)], [(3, 1), (12, 2), (32, 1), (83, 1), (176, 1), (747, 1), (1189, 1), (1323, 1), (3101, 1)], [(3, 1), (14, 1), (16, 1), (32, 1), (37, 1), (47, 1), (60, 1), (69, 1), (84, 1), (172, 1), (448, 1), (472, 1), (842, 1), (937, 1), (2128, 1), (2655, 1), (5124, 2), (5125, 1), (5126, 1)], [(12, 1), (22, 1), (47, 1), (53, 1), (128, 1), (290, 1), (620, 1), (883, 1)], [(12, 1), (14, 1), (31, 1), (128, 1), (227, 1), (228, 1), (481, 1), (582, 1), (931, 1), (5127, 1)], [(25, 1), (32, 1), (47, 1), (81, 1), (161, 1), (225, 1), (259, 1), (363, 1), (717, 1), (1388, 1)], [(12, 1), (76, 1), (84, 1), (225, 1), (262, 1), (833, 1), (5128, 1)], [(13, 1), (14, 1), (20, 1), (31, 2), (44, 1), (61, 2), (69, 2), (345, 1), (373, 1), (460, 1), (650, 1), (2596, 2), (3906, 1), (5129, 1), (5130, 1)], [(3, 2), (31, 2), (39, 1), (44, 1), (61, 1), (279, 1), (460, 1), (978, 1), (5131, 1)], [(14, 1), (32, 1), (61, 1), (143, 1), (154, 1), (161, 2), (943, 1), (1153, 1), (3048, 1), (3693, 1), (4128, 1), (5132, 1), (5133, 1)], [(25, 1), (32, 1), (47, 1), (301, 1), (1211, 1), (2498, 1), (3725, 1)], [(3, 1), (10, 1), (30, 1), (77, 1), (84, 1), (324, 1), (729, 1), (802, 1), (811, 1), (2988, 1), (3187, 1), (5134, 1), (5135, 1)], [(6, 2), (12, 1), (14, 1), (39, 1), (49, 1), (60, 1), (61, 2), (259, 1), (678, 1), (792, 1), (1984, 1), (2498, 1), (2758, 1), (5136, 1), (5137, 1), (5138, 1)], [(0, 1), (6, 1), (12, 1), (14, 1), (39, 1), (49, 1), (97, 2), (206, 1), (410, 1), (500, 1), (3755, 1)], [(3, 1), (32, 1), (77, 1), (161, 1), (499, 1), (1216, 1), (1377, 1), (1378, 1)], [(25, 1), (27, 1), (61, 1), (69, 1), (158, 1), (184, 1), (301, 1), (712, 1), (962, 1), (1082, 1), (1399, 1), (5139, 1), (5140, 2)], [(0, 1), (7, 1), (31, 1), (39, 1), (112, 1), (287, 1), (1905, 1), (3690, 1), (5114, 1)], [(12, 2), (14, 1), (31, 1), (39, 1), (49, 2), (84, 2), (112, 1), (128, 1), (227, 1), (418, 1), (457, 1), (481, 1), (733, 1), (1304, 1)], [(0, 1), (12, 1), (14, 1), (39, 1), (61, 2), (410, 1), (411, 1), (925, 1), (5141, 1), (5142, 1)], [(3, 1), (32, 1), (259, 1), (5143, 1), (5144, 1)], [(3, 1), (27, 1), (60, 1), (165, 1), (170, 1), (225, 1), (259, 1), (374, 1), (1695, 1)], [(3, 1), (21, 1), (22, 1), (32, 1), (86, 1), (583, 1), (584, 1)], [(0, 1), (14, 3), (18, 1), (27, 2), (60, 1), (61, 2), (141, 1), (161, 1), (201, 3), (231, 1), (259, 1), (836, 1), (860, 1), (1140, 1), (1492, 1), (1524, 1), (1578, 1), (1580, 1), (1870, 1), (4892, 1), (5145, 1), (5146, 1), (5147, 1)], [(6, 1), (39, 1), (60, 1), (79, 1), (128, 1), (309, 1), (329, 1), (392, 1), (491, 1), (582, 1), (617, 1), (2434, 1), (5148, 1)], [(6, 1), (12, 1), (61, 1), (128, 1), (154, 1), (161, 1), (227, 1), (360, 1), (364, 1), (893, 1), (1469, 1), (1524, 1), (4336, 1)], [(0, 1), (1, 1), (3, 2), (6, 1), (14, 1), (32, 2), (34, 1), (39, 1), (60, 1), (128, 1), (148, 1), (448, 2), (493, 1), (497, 1), (896, 1), (1519, 1), (3881, 1), (4292, 1), (5149, 2)], [(1, 1), (3, 1), (6, 1), (12, 1), (27, 1), (32, 1), (47, 2), (61, 1), (119, 1), (302, 1), (472, 1), (535, 1), (668, 1), (751, 1), (775, 1), (2613, 1), (3632, 1), (4729, 1), (5083, 1), (5150, 1), (5151, 1)], [(6, 1), (12, 1), (32, 1), (60, 1), (61, 1), (360, 1), (987, 1), (4753, 1), (5152, 1)], [(12, 1), (31, 1), (32, 1), (47, 1), (85, 1), (298, 1), (1431, 1), (2009, 1), (2680, 1)], [(0, 1), (12, 1), (14, 1), (33, 1), (39, 1), (88, 1), (98, 1), (100, 1), (462, 1), (1070, 1), (1342, 1), (1901, 1), (5153, 1)], [(14, 1), (16, 1), (47, 1), (2516, 1), (5154, 1), (5155, 1), (5156, 1)], [(12, 1), (14, 1), (39, 1), (49, 1), (60, 1), (61, 1), (112, 1), (202, 1), (3534, 1), (5157, 1)], [(3, 1), (10, 1), (14, 1), (39, 1), (49, 1), (60, 1), (77, 1), (81, 1), (86, 1), (143, 1), (815, 1), (2902, 1), (5158, 1)], [(12, 1), (14, 1), (39, 1), (47, 1), (85, 1), (906, 1), (907, 1), (3009, 1), (4428, 1)], [(16, 1), (21, 1), (25, 1), (32, 1), (60, 1), (161, 1), (576, 1), (584, 1), (725, 1), (2679, 1)], [(3, 1), (148, 1), (908, 1), (1224, 1), (4712, 1)], [(340, 1), (1048, 1), (1279, 1)], [(7, 1), (13, 1), (27, 2), (69, 1), (225, 1), (258, 1), (633, 1), (697, 1), (747, 1), (2050, 1)], [(10, 1), (14, 1), (39, 1), (47, 1), (564, 1), (5159, 1), (5160, 1)], [(3, 1), (39, 1), (304, 1), (4996, 1)], [(25, 1), (32, 1), (341, 1), (5161, 1), (5162, 1)], [(12, 1), (14, 1), (16, 1), (39, 1), (228, 1), (659, 1), (2246, 1), (3723, 1), (5161, 1)], [(12, 2), (14, 1), (32, 1), (47, 1), (60, 2), (61, 1), (62, 1), (77, 1), (80, 1), (86, 1), (159, 1), (287, 1), (340, 1), (571, 2), (901, 1), (1480, 1), (1579, 1), (2587, 1), (2927, 1), (5163, 2)], [(12, 1), (14, 1), (39, 1), (49, 1), (150, 1), (1801, 1), (1998, 1)], [(3, 1), (13, 1), (27, 1), (161, 1), (349, 1), (1440, 1), (4117, 1), (5164, 1)], [(3, 1), (32, 1), (373, 1), (1569, 1), (2476, 1), (5165, 1), (5166, 1)], [(10, 1), (12, 1), (14, 1), (31, 1), (47, 1), (105, 1), (741, 1), (1854, 1), (1871, 1), (5167, 1)], [(6, 1), (14, 1), (32, 1), (61, 1), (1542, 1), (2017, 1), (4730, 1), (5168, 1)], [(6, 1), (19, 1), (25, 1), (32, 1), (161, 1), (229, 1), (247, 1), (5033, 1)], [(3, 1), (32, 1), (47, 1), (121, 1), (143, 1), (161, 1), (416, 1), (995, 1), (3983, 1)], [(3, 1), (6, 2), (14, 1), (24, 1), (32, 1), (39, 1), (47, 1), (86, 1), (141, 1), (227, 1), (259, 1), (448, 1), (1283, 1), (5169, 1), (5170, 1)], [(12, 1), (14, 1), (16, 1), (39, 1), (60, 1), (69, 1), (83, 1), (158, 1), (290, 1), (480, 1), (767, 1)], [(25, 1), (31, 1), (32, 1), (86, 1), (1637, 1), (1638, 1), (1639, 1)], [(0, 1), (14, 2), (25, 1), (32, 1), (571, 1), (762, 1), (1512, 1), (1759, 1), (5122, 1), (5171, 1)], [(14, 1), (32, 1), (44, 1), (439, 1), (5172, 1), (5173, 1)], [(6, 1), (12, 1), (14, 1), (39, 1), (47, 1), (269, 1), (736, 1), (737, 1), (2589, 1)], [(16, 1), (21, 1), (25, 1), (31, 1), (60, 1), (263, 1), (583, 1), (584, 1), (2679, 1)], [(12, 1), (14, 1), (39, 1), (49, 1), (85, 1), (100, 1), (844, 1), (877, 1), (4080, 1)], [(0, 1), (12, 3), (14, 1), (39, 1), (47, 2), (228, 1), (314, 1), (341, 1), (464, 1), (1722, 1), (3455, 1), (4245, 1)], [(0, 1), (12, 1), (14, 1), (24, 1), (39, 1), (61, 2), (410, 1), (411, 1), (5174, 1), (5175, 1), (5176, 1)], [(12, 1), (128, 1), (184, 1), (282, 2), (1189, 1), (2218, 2)], [(10, 1), (12, 1), (14, 2), (27, 1), (47, 1), (60, 1), (80, 1), (105, 1), (283, 1), (1293, 1), (2106, 1), (2250, 1), (3032, 1)], [(13, 1), (14, 1), (17, 1), (650, 1), (5177, 1), (5178, 1)], [(10, 1), (12, 1), (14, 1), (31, 1), (39, 1), (47, 1), (227, 1), (287, 1), (533, 1), (1280, 1), (2711, 1)], [(0, 1), (13, 1), (14, 1), (32, 1), (154, 1), (161, 1), (498, 1)], [(14, 1), (39, 1), (5179, 1)], [(14, 1), (16, 1), (84, 1), (105, 1), (676, 1), (813, 1), (1873, 1), (5180, 1)], [(14, 1), (39, 1), (140, 1), (469, 1), (1446, 1), (2051, 1)], [(6, 1), (14, 2), (19, 1), (25, 1), (32, 1), (61, 1), (141, 1), (390, 1), (460, 1), (499, 1), (549, 1), (1555, 1), (2322, 1), (5181, 1), (5182, 1)], [(0, 1), (14, 1), (47, 1), (84, 1), (743, 1), (2106, 1), (2930, 1), (5183, 1), (5184, 1), (5185, 1), (5186, 1)], [(14, 1), (20, 1), (80, 1), (105, 1), (117, 2), (141, 1), (184, 1), (224, 1), (257, 1), (3191, 1), (3208, 1), (5187, 1), (5188, 1)], [(6, 1), (12, 1), (14, 1), (49, 1), (84, 1), (105, 1), (1350, 1), (1448, 1), (1755, 1), (5189, 1)], [(12, 1), (14, 1), (392, 1), (460, 1), (5190, 1)], [(0, 1), (12, 2), (13, 1), (98, 1), (227, 1), (402, 1), (461, 1), (462, 1), (466, 1), (1674, 1), (2352, 1)], [(3, 1), (31, 1), (32, 1), (2111, 1), (5119, 1)], [(12, 1), (25, 1), (61, 1), (62, 1), (255, 1), (263, 1), (277, 1), (1254, 1), (1695, 1), (1757, 1), (2079, 1), (2328, 1), (2560, 1)], [(0, 1), (3, 1), (6, 1), (12, 3), (14, 1), (32, 1), (39, 1), (47, 1), (60, 1), (443, 1), (464, 2), (1346, 1), (1985, 1), (2228, 1), (4276, 1), (4278, 2), (4758, 1), (5191, 1)], [(10, 1), (14, 1), (16, 1), (17, 1), (39, 1), (61, 1), (394, 1), (1100, 1), (1155, 1), (3186, 1), (5192, 1)], [(0, 1), (12, 1), (14, 1), (76, 1), (82, 1), (747, 1), (959, 1), (4366, 1), (5193, 1), (5194, 1)], [(3, 1), (39, 1), (304, 1), (5195, 1)], [(3, 1), (32, 1), (77, 1), (1940, 1), (4094, 1), (5196, 1), (5197, 1), (5198, 1)], [(12, 1), (14, 1), (16, 2), (39, 1), (46, 1), (47, 1), (61, 1), (224, 1), (576, 1), (1363, 1), (1492, 1), (2534, 1), (5199, 1), (5200, 1)], [(3, 1), (4, 1), (84, 1), (481, 1), (1939, 1), (5201, 1), (5202, 1)], [(3, 1), (6, 2), (14, 1), (39, 1), (61, 1), (161, 2), (184, 1), (196, 1), (227, 1), (503, 1), (1029, 1), (1082, 1), (1236, 1), (1237, 1), (1343, 1), (1556, 1), (1988, 1), (5203, 1)], [(14, 2), (31, 2), (61, 1), (62, 2), (69, 1), (80, 1), (135, 2), (448, 1), (460, 1), (725, 1), (1293, 1), (1846, 1), (1903, 1)], [(12, 1), (14, 2), (16, 1), (24, 1), (27, 1), (39, 1), (47, 1), (60, 1), (654, 1), (825, 1), (3102, 1), (3285, 1), (5204, 1), (5205, 1)], [(0, 1), (12, 1), (14, 1), (16, 1), (39, 1), (1806, 1), (2208, 1), (2910, 1), (3745, 1), (4292, 1), (5206, 1)], [(12, 1), (14, 1), (60, 1), (93, 1), (301, 1), (309, 1), (392, 1), (1431, 1), (1440, 1)], [(3, 1), (6, 1), (32, 1), (61, 1), (161, 1), (247, 1), (932, 1), (4105, 1), (5207, 1)], [(0, 1), (3, 1), (32, 1), (161, 1), (1102, 1), (2316, 1), (4753, 1), (5208, 1)], [(12, 1), (14, 1), (16, 1), (32, 1), (47, 1), (269, 1), (743, 1), (1164, 1), (2181, 1), (2531, 1), (5209, 1)], [(12, 1), (14, 1), (39, 1), (49, 1), (844, 1), (877, 1), (1842, 1), (1843, 1)], [(6, 1), (12, 2), (14, 1), (21, 1), (32, 1), (33, 1), (60, 1), (76, 1), (128, 1), (249, 1), (621, 1), (839, 1), (1111, 1), (1519, 1), (1529, 1)], [(12, 1), (14, 1), (47, 1), (105, 1), (228, 1), (654, 1), (1102, 1), (3181, 1), (5210, 1), (5211, 1), (5212, 1)], [(3, 1), (12, 1), (14, 2), (31, 1), (39, 1), (49, 1), (60, 1), (81, 1), (460, 1), (1075, 1)], [(3, 1), (4, 1), (1120, 1), (1216, 1)], [(14, 1), (69, 1), (708, 1), (5213, 1)], [(6, 2), (7, 2), (13, 1), (14, 2), (19, 1), (44, 1), (60, 1), (83, 1), (161, 1), (201, 1), (259, 1), (306, 1), (460, 1), (2514, 1), (3554, 1), (5214, 1), (5215, 1)], [(0, 1), (12, 1), (14, 1), (39, 1), (44, 1), (49, 1), (60, 1), (151, 1), (202, 1), (1224, 1), (2015, 1), (4314, 1), (5216, 1)], [(3, 1), (27, 1), (31, 1), (32, 1), (61, 1), (247, 1), (2504, 1), (5217, 1), (5218, 1)], [(3, 1), (7, 1), (13, 1), (62, 1), (163, 1), (534, 1), (661, 1), (726, 1), (878, 1), (4286, 1)], [(10, 1), (12, 1), (14, 1), (39, 1), (47, 2), (4104, 1), (5219, 1), (5220, 1)], [(12, 1), (16, 1), (24, 1), (49, 1), (340, 1), (3731, 1), (4608, 1), (5221, 1), (5222, 1)], [(25, 1), (61, 1), (1287, 1), (1767, 1), (5223, 1)], [(0, 1), (12, 1), (14, 1), (39, 1), (47, 1), (1271, 1), (1272, 1), (5224, 1), (5225, 1)], [(3, 1), (16, 1), (19, 1), (24, 1), (32, 1), (44, 1), (77, 1), (201, 1), (224, 1), (259, 1), (1542, 1), (1667, 1), (2176, 1), (5226, 1), (5227, 1), (5228, 1), (5229, 1), (5230, 1), (5231, 1)], [(6, 1), (12, 3), (14, 1), (39, 1), (47, 1), (100, 2), (172, 1), (287, 1), (693, 1), (741, 1), (1550, 1), (1979, 1), (5232, 1), (5233, 1), (5234, 1)], [(10, 1), (14, 1), (33, 1), (39, 1), (49, 1), (3008, 1)], [(7, 1), (10, 1), (14, 1), (304, 1), (5235, 1), (5236, 1)], [(12, 1), (14, 1), (39, 1), (60, 1), (425, 1), (493, 1), (634, 1), (756, 1), (2133, 1)], [(12, 1), (128, 1), (526, 1), (5237, 1), (5238, 1)], [(14, 1), (25, 1), (47, 1), (60, 1), (61, 1), (123, 1), (196, 2), (238, 1), (363, 1), (448, 1), (459, 1), (621, 1), (832, 1), (924, 1), (1287, 1), (2158, 1), (2349, 1), (2378, 1), (5239, 1), (5240, 1)], [(14, 2), (32, 1), (60, 1), (69, 1), (85, 1), (231, 1), (836, 1), (981, 1), (1340, 1), (1388, 1), (1531, 1), (1806, 1), (2111, 1)], [(0, 1), (6, 2), (12, 2), (14, 2), (32, 1), (60, 1), (105, 1), (443, 1), (448, 1), (1123, 1), (1346, 2), (2214, 2), (5241, 1)], [(3, 1), (32, 1), (44, 1), (96, 1), (112, 1), (161, 1), (394, 1)], [(3, 1), (143, 1), (1120, 1), (2088, 1), (5053, 1), (5242, 1), (5243, 1)], [(14, 1), (39, 1), (2731, 1), (5244, 1)], [(12, 1), (25, 1), (27, 1), (32, 1), (61, 2), (112, 1), (134, 1), (161, 1), (762, 1), (815, 1), (1933, 1)], [(6, 1), (13, 1), (19, 1), (154, 1), (301, 1), (576, 1), (1110, 1), (5245, 1), (5246, 1)], [(31, 1), (37, 1), (39, 1), (79, 1), (184, 1), (537, 1), (5247, 1)], [(12, 1), (47, 1), (76, 1), (93, 1), (158, 1), (161, 1), (184, 1), (303, 1), (345, 1), (363, 1), (2367, 1), (5248, 1)], [(3, 1), (6, 2), (13, 1), (19, 1), (22, 1), (80, 1), (83, 1), (93, 1), (2142, 1), (2462, 1), (2618, 1), (3738, 1), (3992, 1), (5249, 1), (5250, 1), (5251, 1)], [(14, 1), (39, 1), (49, 1), (617, 1), (1883, 1), (2890, 1)], [(3, 1), (83, 1), (324, 1), (403, 1), (518, 1), (519, 1), (611, 1), (719, 1), (1178, 1), (1909, 1), (5252, 1), (5253, 1)], [(14, 1), (17, 1), (84, 1), (4660, 1), (5254, 1)], [(3, 1), (27, 1), (32, 1), (161, 1), (259, 1), (292, 1), (435, 1), (5255, 1), (5256, 1)], [(3, 1), (27, 1), (32, 1), (161, 1), (771, 1), (2773, 1)], [(4, 1), (7, 1), (14, 1), (25, 1), (32, 1), (112, 1), (301, 1), (314, 1), (448, 1), (650, 1), (762, 1), (3208, 1)], [(3, 1), (32, 1), (60, 1), (452, 1), (601, 1), (1763, 1)], [(6, 2), (25, 1), (32, 1), (161, 1), (196, 1), (259, 1), (503, 1), (1556, 1), (1753, 1), (4578, 1), (5227, 1)], [(3, 1), (12, 1), (16, 1), (25, 1), (32, 1), (37, 1), (47, 1), (61, 2), (62, 1), (84, 1), (158, 1), (161, 1), (257, 1), (321, 1), (472, 1), (542, 1), (576, 1), (1031, 1), (1388, 1), (1440, 1), (1814, 1), (5115, 1), (5257, 1), (5258, 1), (5259, 1), (5260, 1), (5261, 1)], [(3, 1), (4, 1), (31, 1), (39, 1), (86, 1), (460, 1), (862, 1), (2759, 1), (5262, 1)], [(12, 1), (14, 1), (16, 1), (39, 1), (49, 1), (844, 1), (1174, 1), (1592, 1), (5263, 1)], [(0, 1), (6, 1), (12, 1), (14, 1), (16, 1), (30, 1), (39, 1), (47, 1), (85, 1), (245, 2), (700, 1), (702, 2), (703, 1), (1340, 1), (1820, 1), (1822, 1), (1823, 1), (5264, 1)], [(14, 2), (47, 1), (61, 1), (161, 1), (196, 1), (1111, 1), (1236, 1), (1343, 1), (1347, 1), (1544, 1), (2042, 1), (5265, 1), (5266, 1)], [(0, 1), (3, 1), (12, 1), (31, 1), (33, 1), (39, 1), (47, 1), (62, 1), (135, 1), (402, 1), (461, 1), (462, 1), (568, 1), (576, 1), (1843, 2), (1927, 1)], [(24, 1), (25, 1), (32, 1), (61, 1), (97, 1), (161, 1), (196, 1), (259, 1), (621, 1), (651, 1), (2230, 1), (4265, 1), (5267, 1)], [(3, 1), (7, 1), (89, 1), (397, 1), (855, 1), (4882, 1)], [(25, 1), (32, 1), (44, 1), (301, 1), (493, 1), (833, 1), (3747, 1), (4957, 1)], [(0, 1), (3, 1), (13, 1), (14, 1), (16, 1), (31, 1), (32, 1), (62, 1), (69, 1), (621, 1), (697, 2), (1923, 2), (2296, 2), (2678, 1), (5268, 1)], [(13, 1), (14, 1), (37, 1), (61, 2), (74, 1), (940, 1), (1484, 1), (3425, 1), (5269, 1)], [(0, 1), (3, 1), (6, 1), (32, 1), (161, 1), (775, 1), (1864, 1), (2343, 1), (5109, 1), (5270, 2)], [(6, 1), (12, 1), (19, 1), (76, 1), (3583, 1), (4635, 1), (4637, 1), (5271, 1), (5272, 1)], [(3, 1), (7, 1), (13, 1), (27, 1), (170, 1), (225, 1), (1326, 1), (1441, 1), (1978, 1)], [(3, 1), (32, 1), (161, 1), (1391, 1), (1467, 1), (5273, 1)], [(12, 1), (14, 2), (31, 1), (39, 1), (49, 1), (60, 2), (184, 1), (249, 1), (259, 1), (613, 1), (1421, 1), (1741, 1), (5274, 1), (5275, 1)], [(6, 1), (14, 1), (24, 1), (84, 1), (226, 1), (910, 1), (2478, 1), (4883, 1), (5276, 1), (5277, 1), (5278, 1), (5279, 1)], [(14, 1), (84, 1), (5280, 1), (5281, 1), (5282, 1)], [(6, 1), (12, 1), (14, 1), (16, 1), (39, 1), (57, 1), (202, 1), (576, 1), (1111, 1), (4753, 1), (5283, 1), (5284, 1)], [(12, 1), (14, 1), (39, 1), (60, 1), (61, 1), (228, 1), (582, 1), (717, 1), (855, 1), (1597, 1), (2349, 1), (5285, 1)], [(0, 1), (3, 1), (6, 1), (44, 1), (60, 2), (82, 1), (161, 2), (300, 1), (363, 1), (460, 1), (648, 1), (930, 1), (1129, 1), (5286, 1), (5287, 2), (5288, 1)], [(31, 1), (39, 1), (61, 1), (94, 1), (599, 1), (956, 1), (957, 1)], [(3, 1), (6, 1), (12, 1), (14, 1), (31, 1), (32, 1), (80, 1), (244, 1), (259, 1), (686, 1), (839, 1), (1279, 1), (1448, 1), (2511, 1), (2663, 1), (2958, 1)], [(0, 1), (19, 1), (32, 1), (47, 1), (82, 1), (196, 1), (227, 1), (463, 1), (747, 1), (2567, 1)], [(6, 1), (25, 1), (30, 1), (32, 1), (61, 1), (84, 1), (161, 1), (201, 1), (259, 1), (303, 1), (661, 1), (814, 1), (1638, 1), (5289, 1)], [(14, 1), (32, 1), (39, 1), (69, 1), (904, 1), (1131, 1), (1519, 1), (1796, 1), (5215, 1), (5290, 1), (5291, 1), (5292, 1)], [(6, 1), (12, 1), (14, 1), (39, 1), (148, 1), (2537, 1), (5293, 1), (5294, 1)], [(3, 1), (39, 1), (47, 1), (60, 1), (69, 1), (112, 1), (154, 1), (161, 2), (227, 1), (395, 1), (669, 1), (1495, 1), (3608, 1), (5295, 1)], [(6, 1), (39, 1), (47, 1), (79, 1), (306, 1), (1020, 1), (1306, 1), (1625, 1)], [(6, 2), (12, 1), (22, 1), (128, 1), (1345, 1), (5296, 1), (5297, 1), (5298, 1)], [(0, 1), (12, 1), (14, 1), (16, 2), (25, 1), (27, 1), (31, 2), (32, 1), (37, 1), (60, 1), (69, 1), (161, 2), (201, 2), (227, 1), (256, 1), (259, 2), (472, 1), (651, 3), (669, 1), (1421, 1), (1435, 1), (2077, 1), (2245, 1), (2515, 1), (3564, 1), (5299, 1), (5300, 1)], [(10, 1), (12, 1), (14, 1), (17, 1), (27, 1), (39, 1), (287, 1), (830, 1), (1987, 1), (5301, 1), (5302, 1)], [(12, 1), (14, 1), (650, 1), (1323, 1), (5303, 1), (5304, 1), (5305, 1)], [(6, 1), (25, 1), (161, 1), (164, 1), (910, 1), (1994, 1), (5207, 1), (5306, 1)], [(3, 2), (31, 1), (39, 1), (60, 1), (168, 1), (259, 1), (1160, 1), (1162, 1)], [(6, 1), (12, 1), (14, 1), (60, 1), (86, 1), (105, 1), (148, 1), (264, 1), (303, 1), (937, 1), (2184, 1)], [(10, 1), (14, 1), (39, 1), (62, 1), (317, 1), (318, 1), (5307, 1)], [(6, 1), (12, 1), (14, 1), (39, 1), (49, 1), (60, 1), (148, 1), (4310, 1), (5096, 1), (5308, 1), (5309, 1)], [(6, 1), (12, 1), (14, 1), (39, 1), (794, 1), (910, 1), (5310, 1)], [(14, 1), (83, 1), (282, 1), (361, 1), (5311, 1)], [(12, 1), (14, 1), (27, 1), (128, 1), (157, 1), (225, 1), (3690, 1)], [(0, 1), (12, 1), (13, 1), (14, 1), (98, 1), (461, 1), (462, 1), (466, 1), (1929, 1)], [(10, 1), (14, 1), (17, 1), (39, 1), (60, 2), (362, 1), (444, 1), (576, 1), (882, 1)], [(13, 1), (14, 1), (27, 1), (34, 1), (47, 1), (61, 1), (1095, 1), (2256, 1), (5312, 1), (5313, 1)], [(14, 1), (39, 1), (1062, 1), (4769, 1)], [(14, 2), (25, 1), (32, 1), (60, 1), (128, 1), (149, 1), (542, 1), (576, 1), (650, 1), (725, 1), (1153, 1), (1310, 1), (3536, 1), (3690, 2), (5314, 1)], [(3, 1), (25, 1), (32, 1), (61, 1), (1111, 1), (1556, 1), (2696, 1), (3034, 1)], [(3, 1), (32, 1), (34, 1), (227, 1), (370, 1), (1334, 1), (5315, 1)], [(0, 2), (12, 1), (61, 1), (340, 1), (410, 1), (411, 1), (5316, 1), (5317, 1), (5318, 1), (5319, 1)], [(10, 1), (14, 1), (16, 1), (17, 1), (39, 1), (69, 1), (83, 1), (94, 1), (202, 1), (300, 1), (301, 1), (373, 1), (403, 1), (576, 1), (976, 1), (1492, 1), (1516, 1), (1619, 1), (1806, 1), (3723, 1), (5320, 1), (5321, 1)], [(3, 1), (16, 1), (32, 1), (62, 1), (102, 1), (161, 1), (441, 1), (876, 1), (1074, 1), (1111, 1), (5322, 1)], [(0, 2), (12, 1), (14, 2), (32, 1), (39, 1), (410, 1), (411, 1), (448, 1), (2831, 1), (5323, 1), (5324, 1)], [(14, 1), (39, 1), (47, 1), (140, 1), (564, 1), (3050, 1)], [(0, 1), (6, 1), (12, 4), (14, 1), (60, 2), (85, 1), (184, 1), (1334, 2), (1621, 1), (1622, 2), (3581, 1), (4360, 2), (5325, 2), (5326, 1), (5327, 1)], [(3, 1), (14, 1), (31, 1), (32, 1), (61, 1), (86, 1), (184, 1), (260, 1), (261, 1), (949, 1), (4036, 1)], [(14, 1), (39, 1), (61, 2), (84, 1), (762, 1), (3210, 1), (5328, 1), (5329, 1)], [(3, 1), (32, 1), (161, 2), (201, 1), (382, 1), (536, 1), (1074, 1), (1278, 1), (2388, 1)], [(3, 1), (25, 1), (31, 1), (39, 1), (60, 2), (94, 1), (154, 1), (161, 2), (263, 1), (443, 1), (534, 1), (571, 1), (1074, 1), (1495, 1)], [(3, 1), (14, 1), (32, 1), (161, 1), (184, 1), (201, 1), (836, 1), (949, 1), (1385, 1)], [(12, 2), (14, 1), (39, 1), (76, 1), (81, 1), (196, 1), (1323, 1), (1407, 1), (1431, 1)], [(16, 1), (31, 2), (37, 1), (39, 1), (61, 1), (85, 1), (184, 1), (226, 1), (1183, 1), (1431, 1), (1516, 1), (1595, 1)], [(3, 1), (23, 1), (32, 1), (161, 1), (201, 1), (247, 1), (973, 1), (5330, 1)], [(12, 1), (14, 1), (16, 1), (39, 1), (140, 1), (830, 1), (2521, 1)], [(3, 1), (7, 1), (13, 1), (60, 1), (149, 1), (1304, 1), (3399, 1)], [(25, 1), (31, 1), (32, 1), (60, 1), (61, 1), (69, 1), (313, 1), (316, 1), (1194, 1), (2197, 1), (4094, 1), (5331, 1), (5332, 1)], [(12, 1), (14, 1), (39, 1), (49, 1), (60, 1), (151, 1), (202, 1), (4032, 1)], [(24, 1), (39, 1), (60, 1), (79, 1), (158, 1), (686, 1), (3317, 1), (5333, 1)], [(14, 1), (985, 1), (1460, 1), (5334, 1)], [(14, 2), (61, 3), (154, 1), (161, 1), (168, 1), (213, 1), (291, 1), (355, 1), (1647, 1), (5335, 1), (5336, 1), (5337, 1)], [(32, 1), (76, 1), (161, 1), (201, 1), (262, 1), (1102, 1), (3054, 1)], [(0, 1), (3, 2), (17, 1), (61, 1), (143, 1), (227, 1), (450, 1), (911, 1), (1130, 1), (1388, 1), (1548, 1), (2249, 1), (2450, 1), (2765, 1), (2766, 1), (3690, 1), (4657, 1)], [(3, 1), (6, 1), (31, 1), (32, 1), (535, 1), (617, 1), (5338, 1)], [(12, 1), (14, 1), (39, 1), (47, 1), (1857, 1), (5339, 1)], [(14, 1), (17, 1), (25, 1), (32, 1), (143, 1), (161, 1), (4076, 1)], [(25, 1), (27, 1), (96, 1), (112, 1), (225, 1), (301, 1)], [(3, 1), (6, 1), (31, 1), (32, 1), (1385, 1), (2495, 1), (5340, 1), (5341, 1)], [(3, 1), (31, 1), (61, 1), (227, 1), (2444, 1), (2445, 1)], [(3, 1), (27, 1), (31, 1), (32, 1), (60, 2), (61, 1), (149, 1), (158, 1), (171, 1), (225, 1), (300, 1), (373, 1), (3257, 1), (4543, 1)], [(0, 1), (25, 1), (32, 1), (161, 1), (201, 1), (661, 1), (1932, 1), (3843, 1), (5342, 1)], [(6, 1), (12, 1), (14, 1), (19, 1), (39, 1), (419, 1), (589, 1), (2827, 1), (5343, 1), (5344, 1)], [(0, 1), (39, 1), (196, 1), (341, 1), (866, 1), (1889, 1), (2559, 1), (5329, 1)], [(12, 1), (14, 1), (39, 1), (47, 1), (1006, 1), (2286, 1)], [(12, 1), (14, 1), (39, 1), (49, 1), (828, 1), (5345, 1)], [(13, 1), (14, 1), (632, 1), (893, 1)], [(10, 1), (14, 1), (16, 1), (17, 1), (19, 1), (39, 1), (60, 1), (61, 1), (231, 1), (287, 1), (505, 1), (541, 1), (1280, 1), (1358, 1), (1421, 1)], [(39, 1), (62, 1), (154, 1), (161, 1), (457, 1), (949, 1), (1164, 1), (5346, 1), (5347, 1), (5348, 1)], [(3, 1), (12, 1), (32, 1), (49, 1), (161, 1), (259, 1), (365, 1), (858, 1)], [(14, 1), (60, 1), (61, 1), (69, 1), (143, 1), (265, 1), (270, 1), (1100, 1), (1323, 1), (5349, 1)], [(3, 1), (32, 1), (77, 1), (161, 1), (5235, 1), (5350, 1), (5351, 1), (5352, 1), (5353, 1)], [(12, 1), (14, 1), (39, 1), (47, 1), (148, 1), (5354, 1)], [(6, 1), (12, 2), (14, 1), (47, 2), (61, 2), (84, 1), (135, 1), (143, 1), (161, 1), (170, 1), (175, 1), (301, 1), (362, 1), (1153, 1), (1388, 1), (1568, 1), (1678, 1), (2062, 1), (2131, 1), (3190, 1), (4986, 1), (5355, 1)], [(14, 1), (27, 1), (60, 1), (61, 2), (69, 1), (84, 1), (749, 1), (866, 1), (2515, 1), (5356, 1), (5357, 1), (5358, 1)], [(14, 1), (61, 1), (105, 1), (1122, 1), (1123, 1), (1124, 1), (1125, 1), (1126, 1), (1127, 1), (1671, 1), (1672, 1), (5359, 1), (5360, 1)], [(3, 1), (32, 1), (47, 1), (161, 1), (201, 1), (416, 1), (973, 1), (2183, 1), (4079, 1)], [(3, 1), (6, 2), (12, 2), (13, 1), (20, 1), (47, 1), (60, 1), (92, 1), (176, 1), (246, 1), (364, 1), (1954, 1), (5361, 1), (5362, 1), (5363, 1), (5364, 1)], [(3, 2), (6, 2), (14, 1), (39, 2), (47, 2), (61, 3), (278, 2), (368, 1), (451, 1), (676, 1), (2349, 2), (3278, 1), (5365, 1), (5366, 2)], [(14, 1), (39, 1), (86, 1), (97, 1), (123, 1), (5367, 1)], [(0, 1), (6, 2), (12, 2), (24, 1), (32, 1), (39, 1), (47, 1), (57, 1), (143, 1), (154, 2), (161, 3), (227, 1), (331, 1), (541, 1), (842, 1), (876, 1), (1110, 1), (1759, 1), (3584, 1), (3585, 1)], [(0, 2), (14, 1), (16, 1), (161, 3), (201, 1), (226, 1), (227, 2), (229, 1), (246, 1), (541, 3), (589, 1), (628, 1), (669, 3), (836, 1), (860, 1), (1388, 1), (1719, 1), (2443, 1), (2769, 1)], [(6, 1), (12, 1), (14, 1), (16, 2), (17, 1), (39, 1), (60, 2), (61, 1), (158, 1), (290, 1), (394, 1), (460, 1), (1049, 1), (1050, 1), (1052, 1), (1053, 1), (1054, 1), (1055, 1), (1056, 1), (4417, 1)], [(12, 1), (27, 1), (61, 1), (76, 1), (161, 1), (184, 1), (201, 2), (231, 1), (257, 1), (260, 1), (353, 1), (784, 1), (884, 1), (901, 1), (2118, 1), (2606, 1), (2909, 1), (3342, 1), (5368, 1), (5369, 1)], [(12, 1), (14, 2), (16, 2), (33, 1), (49, 1), (69, 1), (80, 1), (756, 1), (1293, 1), (1477, 1), (1748, 1), (2353, 1)], [(14, 1), (39, 1), (62, 1), (5370, 1), (5371, 1)], [(10, 1), (12, 1), (14, 1), (16, 1), (39, 1), (47, 1), (49, 1), (636, 1), (5372, 1)], [(0, 1), (3, 1), (32, 1), (39, 1), (604, 1), (5373, 1)], [(3, 1), (31, 1), (32, 1), (60, 1), (2197, 1), (5374, 1), (5375, 1)], [(3, 1), (31, 2), (32, 1), (60, 2), (61, 1), (80, 1), (163, 1), (360, 1), (574, 1), (884, 1), (1311, 1), (1495, 1)], [(16, 1), (86, 1), (97, 1), (123, 1), (340, 1), (959, 1), (960, 1)], [(6, 2), (8, 1), (14, 1), (25, 1), (61, 1), (105, 1), (123, 1), (143, 1), (154, 1), (161, 3), (184, 1), (259, 1), (290, 1), (307, 1), (344, 1), (930, 1), (1726, 1), (2613, 1), (4809, 1), (4920, 1), (5376, 1)], [(0, 1), (12, 1), (14, 1), (39, 1), (47, 1), (1271, 1), (1272, 1), (1762, 1), (2494, 1), (4745, 1)], [(0, 1), (6, 1), (12, 1), (14, 2), (39, 1), (53, 1), (77, 1), (80, 1), (228, 1), (289, 1), (318, 1), (363, 1), (452, 1), (2490, 1), (3375, 1), (5055, 1)], [(39, 1), (47, 1), (61, 1), (112, 1), (343, 1), (621, 1), (1164, 1), (1448, 1), (5377, 1), (5378, 1)], [(0, 1), (6, 1), (14, 1), (18, 2), (37, 1), (60, 1), (161, 1), (165, 1), (184, 1), (246, 2), (263, 1), (357, 1), (363, 1), (364, 1), (418, 1), (517, 1), (571, 1), (634, 1), (669, 1), (1440, 1), (1441, 1), (1464, 1), (1665, 1), (2285, 1), (2659, 1), (2769, 1), (3608, 1), (5123, 1), (5379, 1)], [(14, 1), (39, 1), (5380, 1)], [(6, 2), (12, 1), (25, 1), (27, 1), (32, 1), (61, 1), (69, 2), (77, 1), (80, 1), (161, 3), (201, 2), (227, 2), (303, 1), (376, 1), (562, 1), (668, 1), (675, 1), (784, 1), (973, 1), (1492, 1), (2029, 1), (3413, 1), (5381, 2), (5382, 1), (5383, 1)], [(3, 1), (61, 1), (259, 1), (360, 1), (460, 1), (732, 1), (5384, 1), (5385, 1), (5386, 1)], [(12, 1), (14, 1), (39, 1), (62, 1), (343, 1), (493, 1), (2480, 1), (3621, 1)], [(12, 1), (31, 1), (80, 1), (83, 1), (87, 1), (128, 1), (228, 1), (247, 1), (3097, 1), (5387, 1)], [(10, 1), (12, 1), (14, 1), (39, 1), (47, 1), (49, 1), (60, 1), (202, 1), (262, 1), (934, 1), (1738, 1), (3048, 1), (5388, 1)], [(13, 1), (27, 1), (161, 1), (201, 1), (226, 1), (486, 1), (576, 1), (815, 1), (1546, 1), (1636, 1)], [(14, 1), (39, 1), (277, 1), (634, 1), (676, 1), (726, 2), (832, 1), (878, 1), (1070, 1), (1268, 1), (1388, 1), (2327, 1), (2514, 1), (2649, 1), (2906, 1), (4016, 1), (5389, 1)], [(3, 1), (12, 1), (14, 1), (39, 1), (47, 1), (61, 2), (81, 1), (84, 1), (161, 1), (503, 1), (949, 1), (1072, 1), (1110, 1), (1111, 1), (1556, 1), (5390, 1)], [(3, 1), (13, 1), (1377, 1), (1378, 1), (5391, 1), (5392, 1), (5393, 1)], [(14, 1), (16, 1), (959, 1), (1300, 1), (1446, 1), (5394, 1)], [(25, 1), (32, 1), (86, 1), (725, 1), (1084, 1), (1742, 1), (2958, 1)], [(10, 1), (14, 1), (39, 1), (81, 1), (93, 1), (97, 1), (143, 1), (154, 1), (168, 1), (246, 1), (290, 1), (726, 1), (949, 1), (1548, 1), (1633, 1), (5395, 1)], [(3, 1), (47, 1), (60, 1), (61, 1), (69, 1), (862, 1), (3182, 1), (3990, 1), (5396, 1), (5397, 1)], [(3, 1), (19, 1), (25, 1), (39, 1), (60, 1), (416, 1), (1810, 1), (2558, 1), (5398, 1)], [(12, 1), (24, 1), (49, 1), (61, 1), (340, 1), (910, 1), (1460, 1), (2284, 1), (4078, 1), (5399, 1)], [(12, 1), (14, 1), (25, 1), (39, 1), (49, 1), (161, 1), (201, 1), (277, 1), (1052, 1), (4542, 1)], [(14, 1), (32, 1), (60, 2), (1421, 1), (2808, 1), (3401, 1)], [(6, 1), (10, 1), (12, 1), (14, 1), (39, 1), (171, 1), (204, 1), (288, 1), (410, 1), (411, 1), (2066, 1), (5360, 1), (5400, 1)], [(25, 1), (31, 1), (39, 1), (44, 1), (86, 1), (259, 1), (271, 1), (4257, 1)], [(32, 1), (60, 1), (61, 1), (149, 1), (203, 1), (205, 2), (1253, 1), (2368, 1)], [(6, 1), (12, 1), (14, 1), (16, 1), (39, 1), (119, 1), (1236, 1), (3155, 1), (5401, 1), (5402, 1)], [(0, 1), (14, 1), (41, 1), (475, 1), (5403, 1), (5404, 1)], [(3, 1), (61, 1), (640, 1), (1495, 1), (3044, 1), (4884, 1)], [(10, 1), (14, 1), (39, 1), (81, 1), (93, 1), (97, 1), (143, 1), (154, 1), (168, 1), (246, 1), (290, 1), (726, 1), (949, 1), (1548, 1), (3287, 1)], [(6, 1), (76, 1), (548, 1), (1398, 1), (2945, 1), (4398, 1), (5405, 1)], [(3, 1), (13, 1), (632, 1), (3079, 1)], [(0, 1), (10, 1), (14, 2), (17, 1), (25, 1), (32, 1), (39, 1), (564, 1), (5406, 1)], [(12, 3), (14, 1), (61, 1), (69, 1), (76, 1), (80, 1), (321, 1), (1483, 1), (1484, 1), (2234, 1), (4360, 1), (5407, 1), (5408, 1)], [(14, 1), (39, 1), (5409, 1), (5410, 1)], [(3, 1), (30, 1), (32, 1), (161, 1), (540, 1), (590, 1), (1047, 1)], [(6, 1), (12, 1), (14, 1), (39, 1), (60, 1), (995, 1), (1215, 1), (1597, 1), (1722, 1)], [(9, 1), (12, 2), (14, 1), (17, 1), (25, 2), (32, 1), (61, 1), (85, 1), (259, 2), (472, 1), (533, 1), (924, 1), (930, 1), (1099, 2), (1216, 1), (1388, 1), (2443, 1), (5411, 2)], [(1, 1), (10, 1), (12, 1), (14, 1), (17, 1), (39, 1), (47, 1), (150, 1), (202, 1), (1280, 1)], [(3, 1), (25, 1), (39, 1), (60, 1), (161, 1), (540, 1), (590, 1)], [(32, 1), (69, 1), (76, 1), (161, 1), (300, 1), (373, 1), (1393, 1), (3013, 1), (5412, 1), (5413, 1)], [(0, 1), (6, 1), (14, 1), (16, 1), (27, 1), (39, 1), (69, 1), (75, 1), (104, 1), (128, 1), (152, 1), (1013, 1), (2218, 1), (2516, 1), (3570, 1), (5109, 1), (5414, 1), (5415, 1)], [(12, 1), (16, 1), (25, 1), (32, 1), (69, 1), (158, 1), (161, 1), (196, 1), (227, 1), (589, 1), (924, 1), (1186, 1), (3137, 1), (3558, 1), (4932, 1), (5416, 1), (5417, 1), (5418, 1)], [(10, 1), (14, 1), (39, 1), (80, 1), (154, 1), (949, 1), (1666, 1), (2503, 1), (2504, 1), (5419, 1), (5420, 1)], [(6, 1), (12, 2), (14, 1), (47, 1), (49, 2), (53, 2), (105, 1), (378, 1), (828, 1)], [(3, 1), (14, 1), (141, 1), (143, 1), (161, 1), (162, 1), (226, 1), (257, 1), (271, 1), (394, 1), (5421, 1)], [(12, 1), (14, 1), (39, 1), (116, 1), (228, 1), (1172, 1), (2378, 1), (3498, 1)], [(0, 1), (6, 1), (14, 1), (24, 1), (60, 1), (80, 1), (93, 1), (141, 1), (161, 1), (168, 1), (257, 1), (1336, 1), (1448, 2), (1495, 1), (1818, 1), (2118, 1), (2232, 1), (2808, 1), (3170, 1), (3745, 1)], [(0, 1), (3, 1), (6, 1), (25, 1), (43, 1), (259, 1), (1469, 1), (5422, 1)], [(32, 1), (161, 1), (226, 1), (590, 1), (1932, 1)], [(12, 1), (14, 1), (16, 1), (24, 1), (105, 1), (2599, 1), (4084, 1), (5423, 1)], [(6, 1), (12, 1), (14, 1), (16, 1), (39, 1), (193, 1), (194, 1), (1058, 1), (5424, 1)], [(3, 1), (6, 1), (19, 1), (31, 1), (39, 1), (79, 1), (81, 1), (135, 1), (306, 1)], [(0, 1), (13, 1), (14, 1), (161, 1), (1188, 1), (5425, 1)], [(0, 1), (14, 2), (20, 1), (39, 1), (47, 1), (60, 1), (61, 1), (141, 1), (168, 1), (184, 1), (257, 1), (363, 1), (448, 1), (2609, 1), (2772, 1), (3347, 1), (3368, 1), (4084, 1), (5426, 1), (5427, 1), (5428, 1), (5429, 1), (5430, 1)], [(6, 1), (25, 1), (30, 1), (44, 1), (60, 1), (61, 1), (82, 1), (97, 1), (152, 1), (161, 1), (201, 1), (268, 1), (1477, 1), (2515, 1), (5227, 1), (5431, 1)], [(31, 1), (39, 1), (77, 1), (227, 1), (259, 1), (345, 1)], [(12, 1), (14, 1), (39, 1), (61, 1), (878, 1), (1334, 1), (1811, 1), (1890, 1), (5432, 1)]]\n"
          ]
        }
      ]
    },
    {
      "cell_type": "code",
      "source": [
        "from gensim import models\n",
        "\n",
        "# train the model\n",
        "tfidf = models.TfidfModel(bow_corpus_q1)\n",
        "\n",
        "# transform the \"system minors\" string\n",
        "words = \"system minors\".lower().split()\n",
        "print(tfidf[dictionary_q1.doc2bow(words)])"
      ],
      "metadata": {
        "colab": {
          "base_uri": "https://localhost:8080/"
        },
        "id": "dAee98-JTfis",
        "outputId": "6f44e5d0-8d9c-4cac-ecf9-d7bbebedc8b4"
      },
      "execution_count": 24,
      "outputs": [
        {
          "output_type": "stream",
          "name": "stdout",
          "text": [
            "[(260, 1.0)]\n"
          ]
        }
      ]
    },
    {
      "cell_type": "code",
      "source": [
        "from gensim import similarities\n",
        "\n",
        "index = similarities.SparseMatrixSimilarity(tfidf[bow_corpus_q1], num_features=12)"
      ],
      "metadata": {
        "id": "cXLhbMkXU3yF"
      },
      "execution_count": 25,
      "outputs": []
    },
    {
      "cell_type": "code",
      "source": [
        "#query_document = 'system engineering'.split()\n",
        "query_bow = [dictionary_q2.doc2bow(text) for text in df_clean['q2']]\n"
      ],
      "metadata": {
        "id": "JF_PpGRHU8Qv"
      },
      "execution_count": 29,
      "outputs": []
    },
    {
      "cell_type": "code",
      "source": [
        "#query_bow = dictionary_q1.doc2bow( [dictionary_q2.doc2bow(text) for text in df_clean['q2']])\n",
        "sims = index[tfidf[query_bow]]\n",
        "#print(list(enumerate(sims)))"
      ],
      "metadata": {
        "id": "eUT_FR1SXgAE"
      },
      "execution_count": null,
      "outputs": []
    },
    {
      "cell_type": "markdown",
      "source": [
        "# DOC2VEC"
      ],
      "metadata": {
        "id": "o6Kc5Iq7Eytg"
      }
    },
    {
      "cell_type": "code",
      "source": [
        "from gensim.models.doc2vec import Doc2Vec, TaggedDocument\n",
        "\n",
        "q1_doc2vec = [TaggedDocument(d, [i]) for i, d in enumerate(df_clean['q1'])]\n",
        "q1_doc2vec = [TaggedDocument(d, [i]) for i, d in enumerate(df_clean['q2'])]"
      ],
      "metadata": {
        "id": "EiBf9Ijjebta"
      },
      "execution_count": 19,
      "outputs": []
    },
    {
      "cell_type": "code",
      "source": [
        "X_sw_test[:2]"
      ],
      "metadata": {
        "colab": {
          "base_uri": "https://localhost:8080/"
        },
        "id": "caGjcyL9ev0V",
        "outputId": "eed2ef2c-06e8-496f-a93b-d6a20b70ab90"
      },
      "execution_count": 21,
      "outputs": [
        {
          "output_type": "execute_result",
          "data": {
            "text/plain": [
              "[TaggedDocument(words=['what', 'do', 'the', 'pakistani', 'think', 'about', 'india'], tags=[0]),\n",
              " TaggedDocument(words=['what', 'be', 'the', 'fast', 'way', 'to', 'get', 'skinny'], tags=[1])]"
            ]
          },
          "metadata": {},
          "execution_count": 21
        }
      ]
    },
    {
      "cell_type": "code",
      "source": [
        "model = gensim.models.doc2vec.Doc2Vec(vector_size=50, min_count=2, epochs=40)"
      ],
      "metadata": {
        "colab": {
          "base_uri": "https://localhost:8080/"
        },
        "id": "fw3vukTufZPz",
        "outputId": "8791ef5b-a5bf-4372-80c0-e9a17f804b87"
      },
      "execution_count": 22,
      "outputs": [
        {
          "output_type": "stream",
          "name": "stderr",
          "text": [
            "WARNING:gensim.models.base_any2vec:consider setting layer size to a multiple of 4 for greater performance\n"
          ]
        }
      ]
    },
    {
      "cell_type": "code",
      "source": [
        "model[0]"
      ],
      "metadata": {
        "colab": {
          "base_uri": "https://localhost:8080/"
        },
        "id": "o78qq1nOB-1z",
        "outputId": "1dfac94b-eefe-4011-8e58-29be1faef256"
      },
      "execution_count": 45,
      "outputs": [
        {
          "output_type": "execute_result",
          "data": {
            "text/plain": [
              "array([-0.14346737,  0.07367106, -0.08637749, -0.16156931,  0.05178611,\n",
              "       -0.12005797,  0.02251495,  0.12360012,  0.08418518,  0.0670051 ,\n",
              "        0.04393555,  0.08234134, -0.0355239 , -0.07640567,  0.01656204,\n",
              "        0.13114704,  0.02962174,  0.04989212, -0.0579648 ,  0.09834328,\n",
              "        0.04894318,  0.10887893,  0.14718623, -0.01500463, -0.06308912,\n",
              "       -0.09290814,  0.08607521,  0.01644696, -0.01485473,  0.04643139,\n",
              "       -0.15119122,  0.07412843,  0.13147098,  0.01730472,  0.04320083,\n",
              "       -0.12658969, -0.0311023 ,  0.05521949, -0.01891625, -0.11537345,\n",
              "       -0.03366362,  0.05427921, -0.02984735,  0.2237516 ,  0.04548423,\n",
              "        0.15428916,  0.00101094,  0.09230774, -0.00215006, -0.051616  ],\n",
              "      dtype=float32)"
            ]
          },
          "metadata": {},
          "execution_count": 45
        }
      ]
    },
    {
      "cell_type": "code",
      "source": [
        "model.build_vocab(X_sw_train)"
      ],
      "metadata": {
        "id": "B-oVGMNjfd4m"
      },
      "execution_count": 23,
      "outputs": []
    },
    {
      "cell_type": "code",
      "source": [
        "X_sw_train[:2]"
      ],
      "metadata": {
        "colab": {
          "base_uri": "https://localhost:8080/"
        },
        "id": "7t3wqzzpBaN-",
        "outputId": "2be09166-4aa7-47b6-b0eb-ff0c197b9219"
      },
      "execution_count": 43,
      "outputs": [
        {
          "output_type": "execute_result",
          "data": {
            "text/plain": [
              "[TaggedDocument(words=['what', 'do', 'pakistanis', 'think', 'about', 'indian', 'people'], tags=[0]),\n",
              " TaggedDocument(words=['be', 'there', 'a', 'fast', 'way', 'to', 'get', 'skinny'], tags=[1])]"
            ]
          },
          "metadata": {},
          "execution_count": 43
        }
      ]
    },
    {
      "cell_type": "code",
      "source": [
        "model_trained = model.train(X_sw_train, total_examples=model.corpus_count, epochs=model.epochs)"
      ],
      "metadata": {
        "colab": {
          "base_uri": "https://localhost:8080/"
        },
        "id": "fVfVtCZlfjXz",
        "outputId": "4c3c6440-680c-4b49-be52-ff5d618b3acb"
      },
      "execution_count": 46,
      "outputs": [
        {
          "output_type": "stream",
          "name": "stderr",
          "text": [
            "WARNING:gensim.models.base_any2vec:Effective 'alpha' higher than previous training cycles\n"
          ]
        }
      ]
    },
    {
      "cell_type": "code",
      "source": [
        "model_trained[0]"
      ],
      "metadata": {
        "colab": {
          "base_uri": "https://localhost:8080/",
          "height": 166
        },
        "id": "cuRwl0amCQ-W",
        "outputId": "48979c69-d47f-4102-abe5-f3e2d9b1b5f9"
      },
      "execution_count": 47,
      "outputs": [
        {
          "output_type": "error",
          "ename": "TypeError",
          "evalue": "ignored",
          "traceback": [
            "\u001b[0;31m---------------------------------------------------------------------------\u001b[0m",
            "\u001b[0;31mTypeError\u001b[0m                                 Traceback (most recent call last)",
            "\u001b[0;32m<ipython-input-47-21ae9750d5a4>\u001b[0m in \u001b[0;36m<module>\u001b[0;34m\u001b[0m\n\u001b[0;32m----> 1\u001b[0;31m \u001b[0mmodel_trained\u001b[0m\u001b[0;34m[\u001b[0m\u001b[0;36m0\u001b[0m\u001b[0;34m]\u001b[0m\u001b[0;34m\u001b[0m\u001b[0;34m\u001b[0m\u001b[0m\n\u001b[0m",
            "\u001b[0;31mTypeError\u001b[0m: 'NoneType' object is not subscriptable"
          ]
        }
      ]
    },
    {
      "cell_type": "code",
      "source": [
        "vector = model.infer_vector(['only', 'you', 'can', 'prevent', 'forest', 'fires'])\n",
        "print(vector)"
      ],
      "metadata": {
        "colab": {
          "base_uri": "https://localhost:8080/"
        },
        "id": "tDeH4qsnfydo",
        "outputId": "1ac216a7-3914-4f84-f967-ba2afc830abc"
      },
      "execution_count": 25,
      "outputs": [
        {
          "output_type": "stream",
          "name": "stdout",
          "text": [
            "[ 0.04499007  0.0864236  -0.03706289 -0.03678551 -0.00906008 -0.16343848\n",
            " -0.0572757   0.07899299  0.13047796  0.06490028  0.01566632  0.04707143\n",
            "  0.03655515 -0.04805838  0.02168971 -0.07778078 -0.06048888 -0.06047449\n",
            " -0.0252022  -0.01896362  0.00943103  0.09845986  0.09864224 -0.04846334\n",
            " -0.08397691 -0.06900182  0.00543577  0.01739913 -0.01718567  0.08056425\n",
            " -0.13684279  0.01523853 -0.01372935 -0.09392435  0.06325174 -0.04838404\n",
            " -0.05876615  0.00459609 -0.06808765 -0.05414576 -0.00331771 -0.02095827\n",
            " -0.02220751  0.14215772  0.04132379  0.16295572 -0.02652618  0.05572951\n",
            " -0.01935194 -0.04076494]\n"
          ]
        }
      ]
    },
    {
      "cell_type": "markdown",
      "source": [
        "#otro intento doc2vec"
      ],
      "metadata": {
        "id": "4JEn5Q2Mfy5k"
      }
    },
    {
      "cell_type": "code",
      "source": [
        "from gensim.models.doc2vec import Doc2Vec, TaggedDocument\n",
        "\n",
        "X_sw_train_tag1 = [TaggedDocument(d, [i]) for i, d in enumerate(X_cleaned['q1'])]\n",
        "X_sw_train_tag2 = [TaggedDocument(d, [i]) for i, d in enumerate(X_cleaned['q2'])]\n"
      ],
      "metadata": {
        "id": "YhCOMr8UE1ol"
      },
      "execution_count": 89,
      "outputs": []
    },
    {
      "cell_type": "code",
      "source": [
        "from gensim.models.doc2vec import Doc2Vec, TaggedDocument\n",
        "\n",
        "X_train_tag1 = [TaggedDocument(d, [i]) for i, d in enumerate(X_cleaned['q1'])]\n",
        "X_train_tag2 = [TaggedDocument(d, [i]) for i, d in enumerate(X_cleaned['q2'])]"
      ],
      "metadata": {
        "id": "i_eaWk7pOxdW"
      },
      "execution_count": 14,
      "outputs": []
    },
    {
      "cell_type": "code",
      "source": [
        "X_train_tag1[0:5]"
      ],
      "metadata": {
        "colab": {
          "base_uri": "https://localhost:8080/"
        },
        "id": "phyAH0jnz8ei",
        "outputId": "f45fa89c-f031-4858-9695-e0f394cdce52"
      },
      "execution_count": 106,
      "outputs": [
        {
          "output_type": "execute_result",
          "data": {
            "text/plain": [
              "[TaggedDocument(words='why do prophet muhammad marry 6 year old girl why dint he think to adopt her keep calm and answer', tags=[0]),\n",
              " TaggedDocument(words='how instagram be helpful', tags=[1]),\n",
              " TaggedDocument(words='be there an app that give you recipe base on what you have in the fridge', tags=[2]),\n",
              " TaggedDocument(words='what do the phrase shes get character mean', tags=[3]),\n",
              " TaggedDocument(words='what do lamb chop taste like', tags=[4])]"
            ]
          },
          "metadata": {},
          "execution_count": 106
        }
      ]
    },
    {
      "cell_type": "code",
      "source": [
        "X_sw_test_tag1 = [TaggedDocument(d, [i]) for i, d in enumerate(X_sw_test['q1'])]\n",
        "X_sw_test_tag2 = [TaggedDocument(d, [i]) for i, d in enumerate(X_sw_test['q2'])]"
      ],
      "metadata": {
        "id": "3jt8oJWZeHO0"
      },
      "execution_count": 104,
      "outputs": []
    },
    {
      "cell_type": "code",
      "source": [
        "X_train_tagged = X_train_tag1 + X_train_tag2\n",
        "#X_train_tagged\n",
        "\n",
        "#X_test_tagged = X_sw_test_tag1 + X_sw_test_tag2\n"
      ],
      "metadata": {
        "id": "VEc7KTq9YEJW"
      },
      "execution_count": 17,
      "outputs": []
    },
    {
      "cell_type": "code",
      "source": [
        "X_train_tagged"
      ],
      "metadata": {
        "colab": {
          "base_uri": "https://localhost:8080/",
          "height": 166
        },
        "id": "gDS9Kw3JD1qK",
        "outputId": "ebdbd8fd-f47e-4f00-8d9c-b473b65391bc"
      },
      "execution_count": 50,
      "outputs": [
        {
          "output_type": "error",
          "ename": "NameError",
          "evalue": "ignored",
          "traceback": [
            "\u001b[0;31m---------------------------------------------------------------------------\u001b[0m",
            "\u001b[0;31mNameError\u001b[0m                                 Traceback (most recent call last)",
            "\u001b[0;32m<ipython-input-50-87071413a6fd>\u001b[0m in \u001b[0;36m<module>\u001b[0;34m\u001b[0m\n\u001b[0;32m----> 1\u001b[0;31m \u001b[0mX_train_tagged\u001b[0m\u001b[0;34m\u001b[0m\u001b[0;34m\u001b[0m\u001b[0m\n\u001b[0m",
            "\u001b[0;31mNameError\u001b[0m: name 'X_train_tagged' is not defined"
          ]
        }
      ]
    },
    {
      "cell_type": "code",
      "source": [
        "tag1 = pd.DataFrame(X_sw_train_tag1, index=X_cleaned.index)\n",
        "tag2 = pd.DataFrame(X_sw_train_tag2, index=X_cleaned.index)\n",
        "y = X_cleaned['is_duplicate']\n",
        "X = pd.concat([tag1, tag2, y], axis=1)\n",
        "X"
      ],
      "metadata": {
        "colab": {
          "base_uri": "https://localhost:8080/",
          "height": 424
        },
        "id": "tVf9d8tZeViJ",
        "outputId": "71ba168b-31ba-4936-80fa-0221c8625992"
      },
      "execution_count": 81,
      "outputs": [
        {
          "output_type": "execute_result",
          "data": {
            "text/plain": [
              "                                                    words    tags  \\\n",
              "28991   why do prophet muhammad marry 6 year old girl ...     [0]   \n",
              "4032                             how instagram be helpful     [1]   \n",
              "279529  be there an app that give you recipe base on w...     [2]   \n",
              "12645          what do the phrase shes get character mean     [3]   \n",
              "378194                       what do lamb chop taste like     [4]   \n",
              "...                                                   ...     ...   \n",
              "95497   how do it feel to be bisexual or a lesbian in ...  [3095]   \n",
              "275875   what be some way to get rid of zit on my earlobe  [3096]   \n",
              "368403  what be the function of smooth endoplasmic ret...  [3097]   \n",
              "204445  what be the difference between say i love you ...  [3098]   \n",
              "379615              what be the best breed of cat for you  [3099]   \n",
              "\n",
              "                                                    words    tags  \\\n",
              "28991   do prophet muhammad actually marry a six year ...     [0]   \n",
              "4032                                how do instagram work     [1]   \n",
              "279529  be there an app or website that can suggest re...     [2]   \n",
              "12645   what do this phrase mean he be president of th...     [3]   \n",
              "378194                            what do lamb taste like     [4]   \n",
              "...                                                   ...     ...   \n",
              "95497       whenhow do you first realize your bisexuality  [3095]   \n",
              "275875                how do i get rid of a zit on my ear  [3096]   \n",
              "368403  what be the definition and function of smooth ...  [3097]   \n",
              "204445  love what be the difference between i love you...  [3098]   \n",
              "379615           what be the best breed of cat for family  [3099]   \n",
              "\n",
              "        is_duplicate  \n",
              "28991              1  \n",
              "4032               0  \n",
              "279529             1  \n",
              "12645              0  \n",
              "378194             0  \n",
              "...              ...  \n",
              "95497              0  \n",
              "275875             1  \n",
              "368403             0  \n",
              "204445             0  \n",
              "379615             0  \n",
              "\n",
              "[3100 rows x 5 columns]"
            ],
            "text/html": [
              "\n",
              "  <div id=\"df-2fe35495-62d0-497c-98cf-45af476d1980\">\n",
              "    <div class=\"colab-df-container\">\n",
              "      <div>\n",
              "<style scoped>\n",
              "    .dataframe tbody tr th:only-of-type {\n",
              "        vertical-align: middle;\n",
              "    }\n",
              "\n",
              "    .dataframe tbody tr th {\n",
              "        vertical-align: top;\n",
              "    }\n",
              "\n",
              "    .dataframe thead th {\n",
              "        text-align: right;\n",
              "    }\n",
              "</style>\n",
              "<table border=\"1\" class=\"dataframe\">\n",
              "  <thead>\n",
              "    <tr style=\"text-align: right;\">\n",
              "      <th></th>\n",
              "      <th>words</th>\n",
              "      <th>tags</th>\n",
              "      <th>words</th>\n",
              "      <th>tags</th>\n",
              "      <th>is_duplicate</th>\n",
              "    </tr>\n",
              "  </thead>\n",
              "  <tbody>\n",
              "    <tr>\n",
              "      <th>28991</th>\n",
              "      <td>why do prophet muhammad marry 6 year old girl ...</td>\n",
              "      <td>[0]</td>\n",
              "      <td>do prophet muhammad actually marry a six year ...</td>\n",
              "      <td>[0]</td>\n",
              "      <td>1</td>\n",
              "    </tr>\n",
              "    <tr>\n",
              "      <th>4032</th>\n",
              "      <td>how instagram be helpful</td>\n",
              "      <td>[1]</td>\n",
              "      <td>how do instagram work</td>\n",
              "      <td>[1]</td>\n",
              "      <td>0</td>\n",
              "    </tr>\n",
              "    <tr>\n",
              "      <th>279529</th>\n",
              "      <td>be there an app that give you recipe base on w...</td>\n",
              "      <td>[2]</td>\n",
              "      <td>be there an app or website that can suggest re...</td>\n",
              "      <td>[2]</td>\n",
              "      <td>1</td>\n",
              "    </tr>\n",
              "    <tr>\n",
              "      <th>12645</th>\n",
              "      <td>what do the phrase shes get character mean</td>\n",
              "      <td>[3]</td>\n",
              "      <td>what do this phrase mean he be president of th...</td>\n",
              "      <td>[3]</td>\n",
              "      <td>0</td>\n",
              "    </tr>\n",
              "    <tr>\n",
              "      <th>378194</th>\n",
              "      <td>what do lamb chop taste like</td>\n",
              "      <td>[4]</td>\n",
              "      <td>what do lamb taste like</td>\n",
              "      <td>[4]</td>\n",
              "      <td>0</td>\n",
              "    </tr>\n",
              "    <tr>\n",
              "      <th>...</th>\n",
              "      <td>...</td>\n",
              "      <td>...</td>\n",
              "      <td>...</td>\n",
              "      <td>...</td>\n",
              "      <td>...</td>\n",
              "    </tr>\n",
              "    <tr>\n",
              "      <th>95497</th>\n",
              "      <td>how do it feel to be bisexual or a lesbian in ...</td>\n",
              "      <td>[3095]</td>\n",
              "      <td>whenhow do you first realize your bisexuality</td>\n",
              "      <td>[3095]</td>\n",
              "      <td>0</td>\n",
              "    </tr>\n",
              "    <tr>\n",
              "      <th>275875</th>\n",
              "      <td>what be some way to get rid of zit on my earlobe</td>\n",
              "      <td>[3096]</td>\n",
              "      <td>how do i get rid of a zit on my ear</td>\n",
              "      <td>[3096]</td>\n",
              "      <td>1</td>\n",
              "    </tr>\n",
              "    <tr>\n",
              "      <th>368403</th>\n",
              "      <td>what be the function of smooth endoplasmic ret...</td>\n",
              "      <td>[3097]</td>\n",
              "      <td>what be the definition and function of smooth ...</td>\n",
              "      <td>[3097]</td>\n",
              "      <td>0</td>\n",
              "    </tr>\n",
              "    <tr>\n",
              "      <th>204445</th>\n",
              "      <td>what be the difference between say i love you ...</td>\n",
              "      <td>[3098]</td>\n",
              "      <td>love what be the difference between i love you...</td>\n",
              "      <td>[3098]</td>\n",
              "      <td>0</td>\n",
              "    </tr>\n",
              "    <tr>\n",
              "      <th>379615</th>\n",
              "      <td>what be the best breed of cat for you</td>\n",
              "      <td>[3099]</td>\n",
              "      <td>what be the best breed of cat for family</td>\n",
              "      <td>[3099]</td>\n",
              "      <td>0</td>\n",
              "    </tr>\n",
              "  </tbody>\n",
              "</table>\n",
              "<p>3100 rows × 5 columns</p>\n",
              "</div>\n",
              "      <button class=\"colab-df-convert\" onclick=\"convertToInteractive('df-2fe35495-62d0-497c-98cf-45af476d1980')\"\n",
              "              title=\"Convert this dataframe to an interactive table.\"\n",
              "              style=\"display:none;\">\n",
              "        \n",
              "  <svg xmlns=\"http://www.w3.org/2000/svg\" height=\"24px\"viewBox=\"0 0 24 24\"\n",
              "       width=\"24px\">\n",
              "    <path d=\"M0 0h24v24H0V0z\" fill=\"none\"/>\n",
              "    <path d=\"M18.56 5.44l.94 2.06.94-2.06 2.06-.94-2.06-.94-.94-2.06-.94 2.06-2.06.94zm-11 1L8.5 8.5l.94-2.06 2.06-.94-2.06-.94L8.5 2.5l-.94 2.06-2.06.94zm10 10l.94 2.06.94-2.06 2.06-.94-2.06-.94-.94-2.06-.94 2.06-2.06.94z\"/><path d=\"M17.41 7.96l-1.37-1.37c-.4-.4-.92-.59-1.43-.59-.52 0-1.04.2-1.43.59L10.3 9.45l-7.72 7.72c-.78.78-.78 2.05 0 2.83L4 21.41c.39.39.9.59 1.41.59.51 0 1.02-.2 1.41-.59l7.78-7.78 2.81-2.81c.8-.78.8-2.07 0-2.86zM5.41 20L4 18.59l7.72-7.72 1.47 1.35L5.41 20z\"/>\n",
              "  </svg>\n",
              "      </button>\n",
              "      \n",
              "  <style>\n",
              "    .colab-df-container {\n",
              "      display:flex;\n",
              "      flex-wrap:wrap;\n",
              "      gap: 12px;\n",
              "    }\n",
              "\n",
              "    .colab-df-convert {\n",
              "      background-color: #E8F0FE;\n",
              "      border: none;\n",
              "      border-radius: 50%;\n",
              "      cursor: pointer;\n",
              "      display: none;\n",
              "      fill: #1967D2;\n",
              "      height: 32px;\n",
              "      padding: 0 0 0 0;\n",
              "      width: 32px;\n",
              "    }\n",
              "\n",
              "    .colab-df-convert:hover {\n",
              "      background-color: #E2EBFA;\n",
              "      box-shadow: 0px 1px 2px rgba(60, 64, 67, 0.3), 0px 1px 3px 1px rgba(60, 64, 67, 0.15);\n",
              "      fill: #174EA6;\n",
              "    }\n",
              "\n",
              "    [theme=dark] .colab-df-convert {\n",
              "      background-color: #3B4455;\n",
              "      fill: #D2E3FC;\n",
              "    }\n",
              "\n",
              "    [theme=dark] .colab-df-convert:hover {\n",
              "      background-color: #434B5C;\n",
              "      box-shadow: 0px 1px 3px 1px rgba(0, 0, 0, 0.15);\n",
              "      filter: drop-shadow(0px 1px 2px rgba(0, 0, 0, 0.3));\n",
              "      fill: #FFFFFF;\n",
              "    }\n",
              "  </style>\n",
              "\n",
              "      <script>\n",
              "        const buttonEl =\n",
              "          document.querySelector('#df-2fe35495-62d0-497c-98cf-45af476d1980 button.colab-df-convert');\n",
              "        buttonEl.style.display =\n",
              "          google.colab.kernel.accessAllowed ? 'block' : 'none';\n",
              "\n",
              "        async function convertToInteractive(key) {\n",
              "          const element = document.querySelector('#df-2fe35495-62d0-497c-98cf-45af476d1980');\n",
              "          const dataTable =\n",
              "            await google.colab.kernel.invokeFunction('convertToInteractive',\n",
              "                                                     [key], {});\n",
              "          if (!dataTable) return;\n",
              "\n",
              "          const docLinkHtml = 'Like what you see? Visit the ' +\n",
              "            '<a target=\"_blank\" href=https://colab.research.google.com/notebooks/data_table.ipynb>data table notebook</a>'\n",
              "            + ' to learn more about interactive tables.';\n",
              "          element.innerHTML = '';\n",
              "          dataTable['output_type'] = 'display_data';\n",
              "          await google.colab.output.renderOutput(dataTable, element);\n",
              "          const docLink = document.createElement('div');\n",
              "          docLink.innerHTML = docLinkHtml;\n",
              "          element.appendChild(docLink);\n",
              "        }\n",
              "      </script>\n",
              "    </div>\n",
              "  </div>\n",
              "  "
            ]
          },
          "metadata": {},
          "execution_count": 81
        }
      ]
    },
    {
      "cell_type": "code",
      "source": [
        "y = X['is_duplicate']\n",
        "X_train, X_test, y_train, y_test = train_test_split(X, y, stratify = y,test_size = 0.2, random_state = 0)"
      ],
      "metadata": {
        "id": "j1p11UCDf3WL"
      },
      "execution_count": 82,
      "outputs": []
    },
    {
      "cell_type": "code",
      "source": [
        "print(X_train.shape)\n",
        "print(X_test.shape)\n",
        "print(y_test.shape)\n",
        "print(y_train.shape)"
      ],
      "metadata": {
        "colab": {
          "base_uri": "https://localhost:8080/"
        },
        "id": "fg8SPojAgMsK",
        "outputId": "da5e6892-9c5e-4981-f08a-d0049266f445"
      },
      "execution_count": 83,
      "outputs": [
        {
          "output_type": "stream",
          "name": "stdout",
          "text": [
            "(2480, 5)\n",
            "(620, 5)\n",
            "(620,)\n",
            "(2480,)\n"
          ]
        }
      ]
    },
    {
      "cell_type": "code",
      "source": [
        "def rf_clf(X_train, X_test, y_train, y_test):\n",
        "    '''Parameter tuning for Random Forest Classifier and model fit'''\n",
        "    \n",
        "    splits = ShuffleSplit(n_splits = 1, test_size = .2, random_state = 0)\n",
        "    rf_param_grid = {'n_estimators':[200, 500, 800], 'min_samples_split':[5, 15], 'max_depth': [70, 150, None]}\n",
        "    rf_clf = RandomForestClassifier(random_state = 0)\n",
        "    \n",
        "    rf_search = HalvingGridSearchCV(rf_clf, rf_param_grid, cv = splits, factor = 2, scoring = 'accuracy', \n",
        "                                        max_resources = 40, aggressive_elimination = True,verbose = 0)\n",
        "    rf_search.fit(X_train, y_train)\n",
        "    \n",
        "    rf_model = rf_search.best_estimator_\n",
        "    \n",
        "    y_pred = rf_model.predict(X_test)\n",
        "    \n",
        "    log_loss = metrics.log_loss(y_test, y_pred)\n",
        "    accuracy = metrics.accuracy_score(y_test, y_pred)\n",
        "    precision = metrics.precision_score(y_test, y_pred)\n",
        "    recall = metrics.recall_score(y_test, y_pred)\n",
        "    f1_score = metrics.f1_score(y_test, y_pred)\n",
        "    print (rf_model)\n",
        "    #print('log loss', rf_loss_bow, '\\nacc', rf_acc_bow)\n",
        "    return accuracy, precision, recall, f1_score, log_loss, y_pred, rf_model  "
      ],
      "metadata": {
        "id": "rE-NPYnwgaQu"
      },
      "execution_count": 76,
      "outputs": []
    },
    {
      "cell_type": "code",
      "source": [
        "def rfClassifer(n_estimators, trainingSet, label, testSet):\n",
        "\n",
        "    logging.basicConfig(format='%(asctime)s : %(levelname)s : %(message)s', level=logging.INFO)\n",
        "\n",
        "    forest = RandomForestClassifier(n_estimators)\n",
        "    forest = forest.fit(trainingSet, label)\n",
        "    result = forest.predict(testSet)\n",
        "\n",
        "    return result"
      ],
      "metadata": {
        "id": "ScurlEf_hZxz"
      },
      "execution_count": 91,
      "outputs": []
    },
    {
      "cell_type": "code",
      "source": [
        "result = cfun.rfClassifer(3, X_train, y_train, X_test)"
      ],
      "metadata": {
        "colab": {
          "base_uri": "https://localhost:8080/",
          "height": 166
        },
        "id": "HddIEv-onP-Z",
        "outputId": "cef174f5-13fd-4c60-c134-122a8b4cf278"
      },
      "execution_count": 92,
      "outputs": [
        {
          "output_type": "error",
          "ename": "NameError",
          "evalue": "ignored",
          "traceback": [
            "\u001b[0;31m---------------------------------------------------------------------------\u001b[0m",
            "\u001b[0;31mNameError\u001b[0m                                 Traceback (most recent call last)",
            "\u001b[0;32m<ipython-input-92-ed344a367998>\u001b[0m in \u001b[0;36m<module>\u001b[0;34m\u001b[0m\n\u001b[0;32m----> 1\u001b[0;31m \u001b[0mresult\u001b[0m \u001b[0;34m=\u001b[0m \u001b[0mcfun\u001b[0m\u001b[0;34m.\u001b[0m\u001b[0mrfClassifer\u001b[0m\u001b[0;34m(\u001b[0m\u001b[0;36m3\u001b[0m\u001b[0;34m,\u001b[0m \u001b[0mX_train\u001b[0m\u001b[0;34m,\u001b[0m \u001b[0my_train\u001b[0m\u001b[0;34m,\u001b[0m \u001b[0mX_test\u001b[0m\u001b[0;34m)\u001b[0m\u001b[0;34m\u001b[0m\u001b[0;34m\u001b[0m\u001b[0m\n\u001b[0m",
            "\u001b[0;31mNameError\u001b[0m: name 'cfun' is not defined"
          ]
        }
      ]
    },
    {
      "cell_type": "code",
      "source": [
        "acc_rf, precision_rf, recall_rf, f1_score_rf, log_loss_rf, y_pred_rf, berf  = rf_clf(X_train, X_test, y_train, y_test)"
      ],
      "metadata": {
        "colab": {
          "base_uri": "https://localhost:8080/",
          "height": 311
        },
        "id": "z00cMcwOgbxT",
        "outputId": "630f7563-355a-49fa-ea8c-7e314fbb0c01"
      },
      "execution_count": 77,
      "outputs": [
        {
          "output_type": "error",
          "ename": "ValueError",
          "evalue": "ignored",
          "traceback": [
            "\u001b[0;31m---------------------------------------------------------------------------\u001b[0m",
            "\u001b[0;31mValueError\u001b[0m                                Traceback (most recent call last)",
            "\u001b[0;32m<ipython-input-77-b2e4caff9094>\u001b[0m in \u001b[0;36m<module>\u001b[0;34m\u001b[0m\n\u001b[0;32m----> 1\u001b[0;31m \u001b[0macc_rf\u001b[0m\u001b[0;34m,\u001b[0m \u001b[0mprecision_rf\u001b[0m\u001b[0;34m,\u001b[0m \u001b[0mrecall_rf\u001b[0m\u001b[0;34m,\u001b[0m \u001b[0mf1_score_rf\u001b[0m\u001b[0;34m,\u001b[0m \u001b[0mlog_loss_rf\u001b[0m\u001b[0;34m,\u001b[0m \u001b[0my_pred_rf\u001b[0m\u001b[0;34m,\u001b[0m \u001b[0mberf\u001b[0m  \u001b[0;34m=\u001b[0m \u001b[0mrf_clf\u001b[0m\u001b[0;34m(\u001b[0m\u001b[0mX_train\u001b[0m\u001b[0;34m,\u001b[0m \u001b[0mX_test\u001b[0m\u001b[0;34m,\u001b[0m \u001b[0my_train\u001b[0m\u001b[0;34m,\u001b[0m \u001b[0my_test\u001b[0m\u001b[0;34m)\u001b[0m\u001b[0;34m\u001b[0m\u001b[0;34m\u001b[0m\u001b[0m\n\u001b[0m",
            "\u001b[0;32m<ipython-input-76-054a881afa4e>\u001b[0m in \u001b[0;36mrf_clf\u001b[0;34m(X_train, X_test, y_train, y_test)\u001b[0m\n\u001b[1;32m      8\u001b[0m     rf_search = HalvingGridSearchCV(rf_clf, rf_param_grid, cv = splits, factor = 2, scoring = 'accuracy', \n\u001b[1;32m      9\u001b[0m                                         max_resources = 40, aggressive_elimination = True,verbose = 0)\n\u001b[0;32m---> 10\u001b[0;31m     \u001b[0mrf_search\u001b[0m\u001b[0;34m.\u001b[0m\u001b[0mfit\u001b[0m\u001b[0;34m(\u001b[0m\u001b[0mX_train\u001b[0m\u001b[0;34m,\u001b[0m \u001b[0my_train\u001b[0m\u001b[0;34m)\u001b[0m\u001b[0;34m\u001b[0m\u001b[0;34m\u001b[0m\u001b[0m\n\u001b[0m\u001b[1;32m     11\u001b[0m \u001b[0;34m\u001b[0m\u001b[0m\n\u001b[1;32m     12\u001b[0m     \u001b[0mrf_model\u001b[0m \u001b[0;34m=\u001b[0m \u001b[0mrf_search\u001b[0m\u001b[0;34m.\u001b[0m\u001b[0mbest_estimator_\u001b[0m\u001b[0;34m\u001b[0m\u001b[0;34m\u001b[0m\u001b[0m\n",
            "\u001b[0;32m/usr/local/lib/python3.7/dist-packages/sklearn/model_selection/_search_successive_halving.py\u001b[0m in \u001b[0;36mfit\u001b[0;34m(self, X, y, groups, **fit_params)\u001b[0m\n\u001b[1;32m    260\u001b[0m         \u001b[0mself\u001b[0m\u001b[0;34m.\u001b[0m\u001b[0m_n_samples_orig\u001b[0m \u001b[0;34m=\u001b[0m \u001b[0m_num_samples\u001b[0m\u001b[0;34m(\u001b[0m\u001b[0mX\u001b[0m\u001b[0;34m)\u001b[0m\u001b[0;34m\u001b[0m\u001b[0;34m\u001b[0m\u001b[0m\n\u001b[1;32m    261\u001b[0m \u001b[0;34m\u001b[0m\u001b[0m\n\u001b[0;32m--> 262\u001b[0;31m         \u001b[0msuper\u001b[0m\u001b[0;34m(\u001b[0m\u001b[0;34m)\u001b[0m\u001b[0;34m.\u001b[0m\u001b[0mfit\u001b[0m\u001b[0;34m(\u001b[0m\u001b[0mX\u001b[0m\u001b[0;34m,\u001b[0m \u001b[0my\u001b[0m\u001b[0;34m=\u001b[0m\u001b[0my\u001b[0m\u001b[0;34m,\u001b[0m \u001b[0mgroups\u001b[0m\u001b[0;34m=\u001b[0m\u001b[0mgroups\u001b[0m\u001b[0;34m,\u001b[0m \u001b[0;34m**\u001b[0m\u001b[0mfit_params\u001b[0m\u001b[0;34m)\u001b[0m\u001b[0;34m\u001b[0m\u001b[0;34m\u001b[0m\u001b[0m\n\u001b[0m\u001b[1;32m    263\u001b[0m \u001b[0;34m\u001b[0m\u001b[0m\n\u001b[1;32m    264\u001b[0m         \u001b[0;31m# Set best_score_: BaseSearchCV does not set it, as refit is a callable\u001b[0m\u001b[0;34m\u001b[0m\u001b[0;34m\u001b[0m\u001b[0;34m\u001b[0m\u001b[0m\n",
            "\u001b[0;32m/usr/local/lib/python3.7/dist-packages/sklearn/model_selection/_search.py\u001b[0m in \u001b[0;36mfit\u001b[0;34m(self, X, y, groups, **fit_params)\u001b[0m\n\u001b[1;32m    924\u001b[0m             \u001b[0mrefit_start_time\u001b[0m \u001b[0;34m=\u001b[0m \u001b[0mtime\u001b[0m\u001b[0;34m.\u001b[0m\u001b[0mtime\u001b[0m\u001b[0;34m(\u001b[0m\u001b[0;34m)\u001b[0m\u001b[0;34m\u001b[0m\u001b[0;34m\u001b[0m\u001b[0m\n\u001b[1;32m    925\u001b[0m             \u001b[0;32mif\u001b[0m \u001b[0my\u001b[0m \u001b[0;32mis\u001b[0m \u001b[0;32mnot\u001b[0m \u001b[0;32mNone\u001b[0m\u001b[0;34m:\u001b[0m\u001b[0;34m\u001b[0m\u001b[0;34m\u001b[0m\u001b[0m\n\u001b[0;32m--> 926\u001b[0;31m                 \u001b[0mself\u001b[0m\u001b[0;34m.\u001b[0m\u001b[0mbest_estimator_\u001b[0m\u001b[0;34m.\u001b[0m\u001b[0mfit\u001b[0m\u001b[0;34m(\u001b[0m\u001b[0mX\u001b[0m\u001b[0;34m,\u001b[0m \u001b[0my\u001b[0m\u001b[0;34m,\u001b[0m \u001b[0;34m**\u001b[0m\u001b[0mfit_params\u001b[0m\u001b[0;34m)\u001b[0m\u001b[0;34m\u001b[0m\u001b[0;34m\u001b[0m\u001b[0m\n\u001b[0m\u001b[1;32m    927\u001b[0m             \u001b[0;32melse\u001b[0m\u001b[0;34m:\u001b[0m\u001b[0;34m\u001b[0m\u001b[0;34m\u001b[0m\u001b[0m\n\u001b[1;32m    928\u001b[0m                 \u001b[0mself\u001b[0m\u001b[0;34m.\u001b[0m\u001b[0mbest_estimator_\u001b[0m\u001b[0;34m.\u001b[0m\u001b[0mfit\u001b[0m\u001b[0;34m(\u001b[0m\u001b[0mX\u001b[0m\u001b[0;34m,\u001b[0m \u001b[0;34m**\u001b[0m\u001b[0mfit_params\u001b[0m\u001b[0;34m)\u001b[0m\u001b[0;34m\u001b[0m\u001b[0;34m\u001b[0m\u001b[0m\n",
            "\u001b[0;32m/usr/local/lib/python3.7/dist-packages/sklearn/ensemble/_forest.py\u001b[0m in \u001b[0;36mfit\u001b[0;34m(self, X, y, sample_weight)\u001b[0m\n\u001b[1;32m    326\u001b[0m             \u001b[0;32mraise\u001b[0m \u001b[0mValueError\u001b[0m\u001b[0;34m(\u001b[0m\u001b[0;34m\"sparse multilabel-indicator for y is not supported.\"\u001b[0m\u001b[0;34m)\u001b[0m\u001b[0;34m\u001b[0m\u001b[0;34m\u001b[0m\u001b[0m\n\u001b[1;32m    327\u001b[0m         X, y = self._validate_data(\n\u001b[0;32m--> 328\u001b[0;31m             \u001b[0mX\u001b[0m\u001b[0;34m,\u001b[0m \u001b[0my\u001b[0m\u001b[0;34m,\u001b[0m \u001b[0mmulti_output\u001b[0m\u001b[0;34m=\u001b[0m\u001b[0;32mTrue\u001b[0m\u001b[0;34m,\u001b[0m \u001b[0maccept_sparse\u001b[0m\u001b[0;34m=\u001b[0m\u001b[0;34m\"csc\"\u001b[0m\u001b[0;34m,\u001b[0m \u001b[0mdtype\u001b[0m\u001b[0;34m=\u001b[0m\u001b[0mDTYPE\u001b[0m\u001b[0;34m\u001b[0m\u001b[0;34m\u001b[0m\u001b[0m\n\u001b[0m\u001b[1;32m    329\u001b[0m         )\n\u001b[1;32m    330\u001b[0m         \u001b[0;32mif\u001b[0m \u001b[0msample_weight\u001b[0m \u001b[0;32mis\u001b[0m \u001b[0;32mnot\u001b[0m \u001b[0;32mNone\u001b[0m\u001b[0;34m:\u001b[0m\u001b[0;34m\u001b[0m\u001b[0;34m\u001b[0m\u001b[0m\n",
            "\u001b[0;32m/usr/local/lib/python3.7/dist-packages/sklearn/base.py\u001b[0m in \u001b[0;36m_validate_data\u001b[0;34m(self, X, y, reset, validate_separately, **check_params)\u001b[0m\n\u001b[1;32m    579\u001b[0m                 \u001b[0my\u001b[0m \u001b[0;34m=\u001b[0m \u001b[0mcheck_array\u001b[0m\u001b[0;34m(\u001b[0m\u001b[0my\u001b[0m\u001b[0;34m,\u001b[0m \u001b[0;34m**\u001b[0m\u001b[0mcheck_y_params\u001b[0m\u001b[0;34m)\u001b[0m\u001b[0;34m\u001b[0m\u001b[0;34m\u001b[0m\u001b[0m\n\u001b[1;32m    580\u001b[0m             \u001b[0;32melse\u001b[0m\u001b[0;34m:\u001b[0m\u001b[0;34m\u001b[0m\u001b[0;34m\u001b[0m\u001b[0m\n\u001b[0;32m--> 581\u001b[0;31m                 \u001b[0mX\u001b[0m\u001b[0;34m,\u001b[0m \u001b[0my\u001b[0m \u001b[0;34m=\u001b[0m \u001b[0mcheck_X_y\u001b[0m\u001b[0;34m(\u001b[0m\u001b[0mX\u001b[0m\u001b[0;34m,\u001b[0m \u001b[0my\u001b[0m\u001b[0;34m,\u001b[0m \u001b[0;34m**\u001b[0m\u001b[0mcheck_params\u001b[0m\u001b[0;34m)\u001b[0m\u001b[0;34m\u001b[0m\u001b[0;34m\u001b[0m\u001b[0m\n\u001b[0m\u001b[1;32m    582\u001b[0m             \u001b[0mout\u001b[0m \u001b[0;34m=\u001b[0m \u001b[0mX\u001b[0m\u001b[0;34m,\u001b[0m \u001b[0my\u001b[0m\u001b[0;34m\u001b[0m\u001b[0;34m\u001b[0m\u001b[0m\n\u001b[1;32m    583\u001b[0m \u001b[0;34m\u001b[0m\u001b[0m\n",
            "\u001b[0;32m/usr/local/lib/python3.7/dist-packages/sklearn/utils/validation.py\u001b[0m in \u001b[0;36mcheck_X_y\u001b[0;34m(X, y, accept_sparse, accept_large_sparse, dtype, order, copy, force_all_finite, ensure_2d, allow_nd, multi_output, ensure_min_samples, ensure_min_features, y_numeric, estimator)\u001b[0m\n\u001b[1;32m    974\u001b[0m         \u001b[0mensure_min_samples\u001b[0m\u001b[0;34m=\u001b[0m\u001b[0mensure_min_samples\u001b[0m\u001b[0;34m,\u001b[0m\u001b[0;34m\u001b[0m\u001b[0;34m\u001b[0m\u001b[0m\n\u001b[1;32m    975\u001b[0m         \u001b[0mensure_min_features\u001b[0m\u001b[0;34m=\u001b[0m\u001b[0mensure_min_features\u001b[0m\u001b[0;34m,\u001b[0m\u001b[0;34m\u001b[0m\u001b[0;34m\u001b[0m\u001b[0m\n\u001b[0;32m--> 976\u001b[0;31m         \u001b[0mestimator\u001b[0m\u001b[0;34m=\u001b[0m\u001b[0mestimator\u001b[0m\u001b[0;34m,\u001b[0m\u001b[0;34m\u001b[0m\u001b[0;34m\u001b[0m\u001b[0m\n\u001b[0m\u001b[1;32m    977\u001b[0m     )\n\u001b[1;32m    978\u001b[0m \u001b[0;34m\u001b[0m\u001b[0m\n",
            "\u001b[0;32m/usr/local/lib/python3.7/dist-packages/sklearn/utils/validation.py\u001b[0m in \u001b[0;36mcheck_array\u001b[0;34m(array, accept_sparse, accept_large_sparse, dtype, order, copy, force_all_finite, ensure_2d, allow_nd, ensure_min_samples, ensure_min_features, estimator)\u001b[0m\n\u001b[1;32m    744\u001b[0m                     \u001b[0marray\u001b[0m \u001b[0;34m=\u001b[0m \u001b[0marray\u001b[0m\u001b[0;34m.\u001b[0m\u001b[0mastype\u001b[0m\u001b[0;34m(\u001b[0m\u001b[0mdtype\u001b[0m\u001b[0;34m,\u001b[0m \u001b[0mcasting\u001b[0m\u001b[0;34m=\u001b[0m\u001b[0;34m\"unsafe\"\u001b[0m\u001b[0;34m,\u001b[0m \u001b[0mcopy\u001b[0m\u001b[0;34m=\u001b[0m\u001b[0;32mFalse\u001b[0m\u001b[0;34m)\u001b[0m\u001b[0;34m\u001b[0m\u001b[0;34m\u001b[0m\u001b[0m\n\u001b[1;32m    745\u001b[0m                 \u001b[0;32melse\u001b[0m\u001b[0;34m:\u001b[0m\u001b[0;34m\u001b[0m\u001b[0;34m\u001b[0m\u001b[0m\n\u001b[0;32m--> 746\u001b[0;31m                     \u001b[0marray\u001b[0m \u001b[0;34m=\u001b[0m \u001b[0mnp\u001b[0m\u001b[0;34m.\u001b[0m\u001b[0masarray\u001b[0m\u001b[0;34m(\u001b[0m\u001b[0marray\u001b[0m\u001b[0;34m,\u001b[0m \u001b[0morder\u001b[0m\u001b[0;34m=\u001b[0m\u001b[0morder\u001b[0m\u001b[0;34m,\u001b[0m \u001b[0mdtype\u001b[0m\u001b[0;34m=\u001b[0m\u001b[0mdtype\u001b[0m\u001b[0;34m)\u001b[0m\u001b[0;34m\u001b[0m\u001b[0;34m\u001b[0m\u001b[0m\n\u001b[0m\u001b[1;32m    747\u001b[0m             \u001b[0;32mexcept\u001b[0m \u001b[0mComplexWarning\u001b[0m \u001b[0;32mas\u001b[0m \u001b[0mcomplex_warning\u001b[0m\u001b[0;34m:\u001b[0m\u001b[0;34m\u001b[0m\u001b[0;34m\u001b[0m\u001b[0m\n\u001b[1;32m    748\u001b[0m                 raise ValueError(\n",
            "\u001b[0;32m/usr/local/lib/python3.7/dist-packages/pandas/core/generic.py\u001b[0m in \u001b[0;36m__array__\u001b[0;34m(self, dtype)\u001b[0m\n\u001b[1;32m   1991\u001b[0m \u001b[0;34m\u001b[0m\u001b[0m\n\u001b[1;32m   1992\u001b[0m     \u001b[0;32mdef\u001b[0m \u001b[0m__array__\u001b[0m\u001b[0;34m(\u001b[0m\u001b[0mself\u001b[0m\u001b[0;34m,\u001b[0m \u001b[0mdtype\u001b[0m\u001b[0;34m:\u001b[0m \u001b[0mNpDtype\u001b[0m \u001b[0;34m|\u001b[0m \u001b[0;32mNone\u001b[0m \u001b[0;34m=\u001b[0m \u001b[0;32mNone\u001b[0m\u001b[0;34m)\u001b[0m \u001b[0;34m->\u001b[0m \u001b[0mnp\u001b[0m\u001b[0;34m.\u001b[0m\u001b[0mndarray\u001b[0m\u001b[0;34m:\u001b[0m\u001b[0;34m\u001b[0m\u001b[0;34m\u001b[0m\u001b[0m\n\u001b[0;32m-> 1993\u001b[0;31m         \u001b[0;32mreturn\u001b[0m \u001b[0mnp\u001b[0m\u001b[0;34m.\u001b[0m\u001b[0masarray\u001b[0m\u001b[0;34m(\u001b[0m\u001b[0mself\u001b[0m\u001b[0;34m.\u001b[0m\u001b[0m_values\u001b[0m\u001b[0;34m,\u001b[0m \u001b[0mdtype\u001b[0m\u001b[0;34m=\u001b[0m\u001b[0mdtype\u001b[0m\u001b[0;34m)\u001b[0m\u001b[0;34m\u001b[0m\u001b[0;34m\u001b[0m\u001b[0m\n\u001b[0m\u001b[1;32m   1994\u001b[0m \u001b[0;34m\u001b[0m\u001b[0m\n\u001b[1;32m   1995\u001b[0m     def __array_wrap__(\n",
            "\u001b[0;31mValueError\u001b[0m: could not convert string to float: 'what be the best reply when someone say my best wish to you'"
          ]
        }
      ]
    },
    {
      "cell_type": "code",
      "source": [],
      "metadata": {
        "colab": {
          "base_uri": "https://localhost:8080/",
          "height": 235
        },
        "id": "oHUMB43Qhawz",
        "outputId": "087ab0bc-3ff6-4c6d-97a3-f976f4d99a66"
      },
      "execution_count": 36,
      "outputs": [
        {
          "output_type": "error",
          "ename": "NameError",
          "evalue": "ignored",
          "traceback": [
            "\u001b[0;31m---------------------------------------------------------------------------\u001b[0m",
            "\u001b[0;31mNameError\u001b[0m                                 Traceback (most recent call last)",
            "\u001b[0;32m<ipython-input-36-99c6105f36b9>\u001b[0m in \u001b[0;36m<module>\u001b[0;34m\u001b[0m\n\u001b[1;32m      1\u001b[0m \u001b[0mn_estimators\u001b[0m \u001b[0;34m=\u001b[0m \u001b[0;36m10\u001b[0m\u001b[0;34m\u001b[0m\u001b[0;34m\u001b[0m\u001b[0m\n\u001b[1;32m      2\u001b[0m \u001b[0mmax_depth\u001b[0m \u001b[0;34m=\u001b[0m \u001b[0;36m3\u001b[0m\u001b[0;34m\u001b[0m\u001b[0;34m\u001b[0m\u001b[0m\n\u001b[0;32m----> 3\u001b[0;31m random_forest = RandomForestClassifier(\n\u001b[0m\u001b[1;32m      4\u001b[0m     \u001b[0mn_estimators\u001b[0m\u001b[0;34m=\u001b[0m\u001b[0mn_estimators\u001b[0m\u001b[0;34m,\u001b[0m \u001b[0mmax_depth\u001b[0m\u001b[0;34m=\u001b[0m\u001b[0mmax_depth\u001b[0m\u001b[0;34m,\u001b[0m \u001b[0mrandom_state\u001b[0m\u001b[0;34m=\u001b[0m\u001b[0;36m10\u001b[0m\u001b[0;34m\u001b[0m\u001b[0;34m\u001b[0m\u001b[0m\n\u001b[1;32m      5\u001b[0m )\n",
            "\u001b[0;31mNameError\u001b[0m: name 'RandomForestClassifier' is not defined"
          ]
        }
      ]
    },
    {
      "cell_type": "code",
      "source": [
        "from sklearn.ensemble import RandomForestClassifier"
      ],
      "metadata": {
        "id": "EDHMC5x2hKye"
      },
      "execution_count": 37,
      "outputs": []
    },
    {
      "cell_type": "code",
      "source": [
        "n_estimators = 10\n",
        "max_depth = 3\n",
        "random_forest = RandomForestClassifier(\n",
        "    n_estimators=n_estimators, max_depth=max_depth, random_state=10\n",
        ")\n",
        "random_forest.fit(X_sw_train, y_train)"
      ],
      "metadata": {
        "colab": {
          "base_uri": "https://localhost:8080/",
          "height": 381
        },
        "id": "jXycWmcfABMd",
        "outputId": "a5f0b7fc-c24f-442b-c485-9cdc0eb1bd6f"
      },
      "execution_count": 49,
      "outputs": [
        {
          "output_type": "error",
          "ename": "ValueError",
          "evalue": "ignored",
          "traceback": [
            "\u001b[0;31m---------------------------------------------------------------------------\u001b[0m",
            "\u001b[0;31mValueError\u001b[0m                                Traceback (most recent call last)",
            "\u001b[0;32m<ipython-input-49-fed15a2653f4>\u001b[0m in \u001b[0;36m<module>\u001b[0;34m\u001b[0m\n\u001b[1;32m      4\u001b[0m     \u001b[0mn_estimators\u001b[0m\u001b[0;34m=\u001b[0m\u001b[0mn_estimators\u001b[0m\u001b[0;34m,\u001b[0m \u001b[0mmax_depth\u001b[0m\u001b[0;34m=\u001b[0m\u001b[0mmax_depth\u001b[0m\u001b[0;34m,\u001b[0m \u001b[0mrandom_state\u001b[0m\u001b[0;34m=\u001b[0m\u001b[0;36m10\u001b[0m\u001b[0;34m\u001b[0m\u001b[0;34m\u001b[0m\u001b[0m\n\u001b[1;32m      5\u001b[0m )\n\u001b[0;32m----> 6\u001b[0;31m \u001b[0mrandom_forest\u001b[0m\u001b[0;34m.\u001b[0m\u001b[0mfit\u001b[0m\u001b[0;34m(\u001b[0m\u001b[0mX_sw_train\u001b[0m\u001b[0;34m,\u001b[0m \u001b[0my_train\u001b[0m\u001b[0;34m)\u001b[0m\u001b[0;34m\u001b[0m\u001b[0;34m\u001b[0m\u001b[0m\n\u001b[0m",
            "\u001b[0;32m/usr/local/lib/python3.7/dist-packages/sklearn/ensemble/_forest.py\u001b[0m in \u001b[0;36mfit\u001b[0;34m(self, X, y, sample_weight)\u001b[0m\n\u001b[1;32m    326\u001b[0m             \u001b[0;32mraise\u001b[0m \u001b[0mValueError\u001b[0m\u001b[0;34m(\u001b[0m\u001b[0;34m\"sparse multilabel-indicator for y is not supported.\"\u001b[0m\u001b[0;34m)\u001b[0m\u001b[0;34m\u001b[0m\u001b[0;34m\u001b[0m\u001b[0m\n\u001b[1;32m    327\u001b[0m         X, y = self._validate_data(\n\u001b[0;32m--> 328\u001b[0;31m             \u001b[0mX\u001b[0m\u001b[0;34m,\u001b[0m \u001b[0my\u001b[0m\u001b[0;34m,\u001b[0m \u001b[0mmulti_output\u001b[0m\u001b[0;34m=\u001b[0m\u001b[0;32mTrue\u001b[0m\u001b[0;34m,\u001b[0m \u001b[0maccept_sparse\u001b[0m\u001b[0;34m=\u001b[0m\u001b[0;34m\"csc\"\u001b[0m\u001b[0;34m,\u001b[0m \u001b[0mdtype\u001b[0m\u001b[0;34m=\u001b[0m\u001b[0mDTYPE\u001b[0m\u001b[0;34m\u001b[0m\u001b[0;34m\u001b[0m\u001b[0m\n\u001b[0m\u001b[1;32m    329\u001b[0m         )\n\u001b[1;32m    330\u001b[0m         \u001b[0;32mif\u001b[0m \u001b[0msample_weight\u001b[0m \u001b[0;32mis\u001b[0m \u001b[0;32mnot\u001b[0m \u001b[0;32mNone\u001b[0m\u001b[0;34m:\u001b[0m\u001b[0;34m\u001b[0m\u001b[0;34m\u001b[0m\u001b[0m\n",
            "\u001b[0;32m/usr/local/lib/python3.7/dist-packages/sklearn/base.py\u001b[0m in \u001b[0;36m_validate_data\u001b[0;34m(self, X, y, reset, validate_separately, **check_params)\u001b[0m\n\u001b[1;32m    579\u001b[0m                 \u001b[0my\u001b[0m \u001b[0;34m=\u001b[0m \u001b[0mcheck_array\u001b[0m\u001b[0;34m(\u001b[0m\u001b[0my\u001b[0m\u001b[0;34m,\u001b[0m \u001b[0;34m**\u001b[0m\u001b[0mcheck_y_params\u001b[0m\u001b[0;34m)\u001b[0m\u001b[0;34m\u001b[0m\u001b[0;34m\u001b[0m\u001b[0m\n\u001b[1;32m    580\u001b[0m             \u001b[0;32melse\u001b[0m\u001b[0;34m:\u001b[0m\u001b[0;34m\u001b[0m\u001b[0;34m\u001b[0m\u001b[0m\n\u001b[0;32m--> 581\u001b[0;31m                 \u001b[0mX\u001b[0m\u001b[0;34m,\u001b[0m \u001b[0my\u001b[0m \u001b[0;34m=\u001b[0m \u001b[0mcheck_X_y\u001b[0m\u001b[0;34m(\u001b[0m\u001b[0mX\u001b[0m\u001b[0;34m,\u001b[0m \u001b[0my\u001b[0m\u001b[0;34m,\u001b[0m \u001b[0;34m**\u001b[0m\u001b[0mcheck_params\u001b[0m\u001b[0;34m)\u001b[0m\u001b[0;34m\u001b[0m\u001b[0;34m\u001b[0m\u001b[0m\n\u001b[0m\u001b[1;32m    582\u001b[0m             \u001b[0mout\u001b[0m \u001b[0;34m=\u001b[0m \u001b[0mX\u001b[0m\u001b[0;34m,\u001b[0m \u001b[0my\u001b[0m\u001b[0;34m\u001b[0m\u001b[0;34m\u001b[0m\u001b[0m\n\u001b[1;32m    583\u001b[0m \u001b[0;34m\u001b[0m\u001b[0m\n",
            "\u001b[0;32m/usr/local/lib/python3.7/dist-packages/sklearn/utils/validation.py\u001b[0m in \u001b[0;36mcheck_X_y\u001b[0;34m(X, y, accept_sparse, accept_large_sparse, dtype, order, copy, force_all_finite, ensure_2d, allow_nd, multi_output, ensure_min_samples, ensure_min_features, y_numeric, estimator)\u001b[0m\n\u001b[1;32m    974\u001b[0m         \u001b[0mensure_min_samples\u001b[0m\u001b[0;34m=\u001b[0m\u001b[0mensure_min_samples\u001b[0m\u001b[0;34m,\u001b[0m\u001b[0;34m\u001b[0m\u001b[0;34m\u001b[0m\u001b[0m\n\u001b[1;32m    975\u001b[0m         \u001b[0mensure_min_features\u001b[0m\u001b[0;34m=\u001b[0m\u001b[0mensure_min_features\u001b[0m\u001b[0;34m,\u001b[0m\u001b[0;34m\u001b[0m\u001b[0;34m\u001b[0m\u001b[0m\n\u001b[0;32m--> 976\u001b[0;31m         \u001b[0mestimator\u001b[0m\u001b[0;34m=\u001b[0m\u001b[0mestimator\u001b[0m\u001b[0;34m,\u001b[0m\u001b[0;34m\u001b[0m\u001b[0;34m\u001b[0m\u001b[0m\n\u001b[0m\u001b[1;32m    977\u001b[0m     )\n\u001b[1;32m    978\u001b[0m \u001b[0;34m\u001b[0m\u001b[0m\n",
            "\u001b[0;32m/usr/local/lib/python3.7/dist-packages/sklearn/utils/validation.py\u001b[0m in \u001b[0;36mcheck_array\u001b[0;34m(array, accept_sparse, accept_large_sparse, dtype, order, copy, force_all_finite, ensure_2d, allow_nd, ensure_min_samples, ensure_min_features, estimator)\u001b[0m\n\u001b[1;32m    744\u001b[0m                     \u001b[0marray\u001b[0m \u001b[0;34m=\u001b[0m \u001b[0marray\u001b[0m\u001b[0;34m.\u001b[0m\u001b[0mastype\u001b[0m\u001b[0;34m(\u001b[0m\u001b[0mdtype\u001b[0m\u001b[0;34m,\u001b[0m \u001b[0mcasting\u001b[0m\u001b[0;34m=\u001b[0m\u001b[0;34m\"unsafe\"\u001b[0m\u001b[0;34m,\u001b[0m \u001b[0mcopy\u001b[0m\u001b[0;34m=\u001b[0m\u001b[0;32mFalse\u001b[0m\u001b[0;34m)\u001b[0m\u001b[0;34m\u001b[0m\u001b[0;34m\u001b[0m\u001b[0m\n\u001b[1;32m    745\u001b[0m                 \u001b[0;32melse\u001b[0m\u001b[0;34m:\u001b[0m\u001b[0;34m\u001b[0m\u001b[0;34m\u001b[0m\u001b[0m\n\u001b[0;32m--> 746\u001b[0;31m                     \u001b[0marray\u001b[0m \u001b[0;34m=\u001b[0m \u001b[0mnp\u001b[0m\u001b[0;34m.\u001b[0m\u001b[0masarray\u001b[0m\u001b[0;34m(\u001b[0m\u001b[0marray\u001b[0m\u001b[0;34m,\u001b[0m \u001b[0morder\u001b[0m\u001b[0;34m=\u001b[0m\u001b[0morder\u001b[0m\u001b[0;34m,\u001b[0m \u001b[0mdtype\u001b[0m\u001b[0;34m=\u001b[0m\u001b[0mdtype\u001b[0m\u001b[0;34m)\u001b[0m\u001b[0;34m\u001b[0m\u001b[0;34m\u001b[0m\u001b[0m\n\u001b[0m\u001b[1;32m    747\u001b[0m             \u001b[0;32mexcept\u001b[0m \u001b[0mComplexWarning\u001b[0m \u001b[0;32mas\u001b[0m \u001b[0mcomplex_warning\u001b[0m\u001b[0;34m:\u001b[0m\u001b[0;34m\u001b[0m\u001b[0;34m\u001b[0m\u001b[0m\n\u001b[1;32m    748\u001b[0m                 raise ValueError(\n",
            "\u001b[0;31mValueError\u001b[0m: setting an array element with a sequence. The requested array has an inhomogeneous shape after 2 dimensions. The detected shape was (3100, 2) + inhomogeneous part."
          ]
        }
      ]
    },
    {
      "cell_type": "code",
      "source": [
        "y_train = df_clean['is_duplicate']"
      ],
      "metadata": {
        "id": "81VkMu4LAJRa"
      },
      "execution_count": 41,
      "outputs": []
    },
    {
      "cell_type": "markdown",
      "source": [
        "# Doc2Vec and similarity"
      ],
      "metadata": {
        "id": "3KGLlVi8l0Vg"
      }
    },
    {
      "cell_type": "code",
      "source": [
        "model_doc2vec = Doc2Vec(vector_size =20, window=2, min_count=1, epochs=50)"
      ],
      "metadata": {
        "id": "0ZfyygZkKFJZ"
      },
      "execution_count": 18,
      "outputs": []
    },
    {
      "cell_type": "code",
      "source": [
        "model_doc2vec.build_vocab(X_train_tagged)"
      ],
      "metadata": {
        "colab": {
          "base_uri": "https://localhost:8080/"
        },
        "id": "BU3rL6SLYgMi",
        "outputId": "10d34619-5aea-4848-ee86-da555d55cd9e"
      },
      "execution_count": 19,
      "outputs": [
        {
          "output_type": "stream",
          "name": "stderr",
          "text": [
            "WARNING:gensim.models.doc2vec:Each 'words' should be a list of words (usually unicode strings). First 'words' here is instead plain <class 'str'>.\n"
          ]
        }
      ]
    },
    {
      "cell_type": "code",
      "source": [
        "model_doc2vec.train(X_train_tagged, total_examples=model_doc2vec.corpus_count, epochs=model_doc2vec.epochs)"
      ],
      "metadata": {
        "id": "AXi1c0RkZ8iR"
      },
      "execution_count": 20,
      "outputs": []
    },
    {
      "cell_type": "code",
      "source": [
        "print(model_doc2vec.infer_vector(X_sw_test))"
      ],
      "metadata": {
        "colab": {
          "base_uri": "https://localhost:8080/"
        },
        "id": "RLGzGKoUaLis",
        "outputId": "45de5651-3467-430d-de75-a1ebebc1df5b"
      },
      "execution_count": 109,
      "outputs": [
        {
          "output_type": "stream",
          "name": "stdout",
          "text": [
            "[ 0.00553507 -0.02057612 -0.00601494  0.01590716  0.00477619 -0.00957217\n",
            " -0.01354616  0.01898067 -0.00717559  0.00853975  0.00150559 -0.01450056\n",
            " -0.00628278 -0.02179538 -0.01993607 -0.02084691  0.00312932 -0.0190215\n",
            " -0.00581192  0.01894295]\n"
          ]
        }
      ]
    },
    {
      "cell_type": "code",
      "source": [
        "#TEST THE MODEL ON X_sw_test\n",
        "\n",
        "test = model_doc2vec.infer_vector(X_sw_test)\n",
        "model_doc2vec.docvecs.most_similar(positive = [test])\n",
        "#positive = List of sentences that contribute positively.\n"
      ],
      "metadata": {
        "colab": {
          "base_uri": "https://localhost:8080/"
        },
        "id": "-Jk8EZ4JaZR5",
        "outputId": "982064a8-5552-44f6-9097-b2e94a3159d8"
      },
      "execution_count": 90,
      "outputs": [
        {
          "output_type": "execute_result",
          "data": {
            "text/plain": [
              "[(1607, 0.3674626350402832),\n",
              " (1454, 0.3508557975292206),\n",
              " (1876, 0.3459669351577759),\n",
              " (2316, 0.3180397152900696),\n",
              " (1868, 0.31006860733032227),\n",
              " (389, 0.3054264485836029),\n",
              " (1438, 0.28425800800323486),\n",
              " (1760, 0.272051066160202),\n",
              " (2109, 0.2675776481628418),\n",
              " (2054, 0.2670101821422577)]"
            ]
          },
          "metadata": {},
          "execution_count": 90
        }
      ]
    },
    {
      "cell_type": "code",
      "source": [
        "X_sw_train.iloc[2054]"
      ],
      "metadata": {
        "colab": {
          "base_uri": "https://localhost:8080/"
        },
        "id": "jtLmqK2xcp7o",
        "outputId": "705b572d-0cac-4b40-82e6-1a69725baf06"
      },
      "execution_count": 103,
      "outputs": [
        {
          "output_type": "execute_result",
          "data": {
            "text/plain": [
              "q1              what be the best self help book you have read ...\n",
              "q2                   what be the top self help book i should read\n",
              "is_duplicate                                                    1\n",
              "Name: 106969, dtype: object"
            ]
          },
          "metadata": {},
          "execution_count": 103
        }
      ]
    },
    {
      "cell_type": "code",
      "source": [],
      "metadata": {
        "id": "GTxnmXBj_ZwF"
      },
      "execution_count": null,
      "outputs": []
    },
    {
      "cell_type": "markdown",
      "source": [
        "#random"
      ],
      "metadata": {
        "id": "p1mTBnQj_ayf"
      }
    },
    {
      "cell_type": "code",
      "source": [],
      "metadata": {
        "id": "HXSnBt56_ccG"
      },
      "execution_count": null,
      "outputs": []
    },
    {
      "cell_type": "markdown",
      "source": [
        "# Models"
      ],
      "metadata": {
        "id": "Db0sdczpcF0h"
      }
    },
    {
      "cell_type": "code",
      "source": [
        "labels = preprocessing.LabelEncoder()\n",
        "# Convert continous y values to categorical\n",
        "y_train_cat= labels.fit_transform(y_train)\n",
        "print(y_train_cat)\n",
        "\n",
        "#y_val_cat = labels.fit_transform(y_val)\n",
        "#print(y_val_cat)\n",
        "\n",
        "y_test_cat = labels.fit_transform(y_test)\n",
        "print(y_test_cat)"
      ],
      "metadata": {
        "colab": {
          "base_uri": "https://localhost:8080/"
        },
        "id": "PtAVwt53gdtm",
        "outputId": "71ce8222-ccf0-4fa0-9ab8-cc871d08c055"
      },
      "execution_count": 110,
      "outputs": [
        {
          "output_type": "stream",
          "name": "stdout",
          "text": [
            "[0 1 0 ... 1 0 0]\n",
            "[1 1 0 0 0 0 1 1 1 0 1 1 0 1 0 0 0 1 0 0 0 0 1 0 0 0 0 0 1 1 1 0 0 1 0 0 1\n",
            " 0 1 1 0 1 1 0 0 0 1 0 0 0 0 1 1 1 0 0 0 1 0 0 1 0 0 0 0 0 0 0 1 1 0 0 1 1\n",
            " 0 1 1 1 0 0 1 0 0 0 0 0 0 0 1 1 0 0 1 0 0 0 1 1 0 1 0 1 1 0 1 1 1 0 1 0 0\n",
            " 0 1 0 0 0 0 0 1 0 0 1 0 1 0 1 1 0 1 1 0 0 1 0 1 0 1 1 0 0 1 0 0 1 0 0 0 0\n",
            " 0 0 0 0 0 0 0 0 1 0 1 0 0 1 1 0 1 0 0 0 0 0 0 1 0 0 0 0 0 0 1 1 0 1 0 0 0\n",
            " 0 0 1 0 1 0 0 0 0 1 1 0 1 0 0 1 1 1 1 0 1 0 0 0 0 0 0 0 0 1 1 0 1 1 0 0 0\n",
            " 0 1 1 0 0 0 0 0 1 0 1 0 0 0 0 0 0 0 0 1 0 0 0 0 1 1 1 0 0 1 0 0 1 0 0 1 0\n",
            " 1 0 0 0 1 1 0 0 1 0 0 0 1 0 1 1 1 1 0 0 1 1 0 1 0 1 0 0 0 0 1 1 0 0 0 1 0\n",
            " 0 0 0 1 0 0 1 0 0 0 0 0 1 1 0 0 0 1 0 0 0 0 0 0 0 0 0 0 0 0 0 0 1 0 1 1 1\n",
            " 0 1 0 0 0 0 1 0 0 0 0 1 0 0 1 0 1 1 1 1 1 0 0 1 0 1 0 1 0 0 1 0 0 0 0 0 0\n",
            " 0 1 0 0 0 1 0 1 0 0 0 0 1 0 1 0 0 0 1 1 0 1 1 1 0 0 0 0 0 0 1 0 0 1 1 0 0\n",
            " 0 0 0 1 1 1 0 0 1 0 1 0 0 1 0 0 1 1 0 1 0 0 0 1 0 1 0 0 0 0 0 1 1 0 1 0 0\n",
            " 0 1 1 0 0 1 1 0 1 1 1 1 0 1 1 0 0 0 0 1 0 1 0 0 1 1 1 0 1 1 0 0 1 0 0 0 1\n",
            " 0 1 1 1 0 0 1 0 0 1 0 0 0 0 0 1 1 0 0 1 0 0 0 0 0 0 0 0 0 1 0 0 1 1 0 0 0\n",
            " 0 1 0 1 1 0 0 1 1 1 0 0 1 1 1 0 1 0 0 0 0 0 0 0 0 0 0 0 0 0 1 1 0 0 1 1 0\n",
            " 0 1 0 0 1 1 1 1 0 1 0 0 0 1 0 1 0 0 0 0 1 1 0 0 1 0 1 1 0 0 0 0 1 1 1 0 0\n",
            " 1 0 1 0 0 0 0 0 0 1 1 0 0 0 1 0 1 0 1 0 0 0 0 1 0 0 0 0]\n"
          ]
        }
      ]
    },
    {
      "cell_type": "code",
      "source": [],
      "metadata": {
        "id": "36YqlzzGDegl"
      },
      "execution_count": null,
      "outputs": []
    },
    {
      "cell_type": "markdown",
      "source": [
        "# try"
      ],
      "metadata": {
        "id": "_jKX0DCWDfYn"
      }
    },
    {
      "cell_type": "code",
      "source": [
        "df_clean"
      ],
      "metadata": {
        "colab": {
          "base_uri": "https://localhost:8080/",
          "height": 424
        },
        "id": "gyHeMUzkFXzs",
        "outputId": "0186b24d-dfba-4da0-917d-dd16377bec95"
      },
      "execution_count": 65,
      "outputs": [
        {
          "output_type": "execute_result",
          "data": {
            "text/plain": [
              "                                                       q1  \\\n",
              "35916   [what, do, pakistanis, think, about, indian, p...   \n",
              "100235         [be, there, a, fast, way, to, get, skinny]   \n",
              "269467  [can, we, write, ssc, 10th, exam, without, joi...   \n",
              "305636  [what, do, the, french, mon, amour, mean, in, ...   \n",
              "305191  [what, be, the, best, way, to, reduce, thigh, ...   \n",
              "...                                                   ...   \n",
              "139298     [how, do, i, use, instagram, on, my, computer]   \n",
              "48895   [how, do, you, treat, a, hematoma, cause, when...   \n",
              "42561   [what, be, the, food, you, can, eat, every, da...   \n",
              "16821   [what, be, the, difference, between, procedura...   \n",
              "72617   [what, be, the, best, service, to, refresh, my...   \n",
              "\n",
              "                                                       q2  is_duplicate  \n",
              "35916     [what, do, the, pakistani, think, about, india]             1  \n",
              "100235        [what, be, the, fast, way, to, get, skinny]             1  \n",
              "269467                 [how, do, i, manage, my, proposal]             0  \n",
              "305636                  [what, do, don, mean, in, french]             0  \n",
              "305191         [how, do, i, reduce, my, thigh, size, man]             1  \n",
              "...                                                   ...           ...  \n",
              "139298     [what, be, the, best, way, to, use, instagram]             0  \n",
              "48895       [why, be, hematoma, cause, when, draw, blood]             0  \n",
              "42561   [can, you, eat, same, thing, every, day, and, ...             1  \n",
              "16821   [what, be, the, difference, between, procedura...             1  \n",
              "72617   [how, can, a, character, get, involve, in, tim...             0  \n",
              "\n",
              "[3100 rows x 3 columns]"
            ],
            "text/html": [
              "\n",
              "  <div id=\"df-3a2ad59e-4fcc-4408-89fb-a3bbec119408\">\n",
              "    <div class=\"colab-df-container\">\n",
              "      <div>\n",
              "<style scoped>\n",
              "    .dataframe tbody tr th:only-of-type {\n",
              "        vertical-align: middle;\n",
              "    }\n",
              "\n",
              "    .dataframe tbody tr th {\n",
              "        vertical-align: top;\n",
              "    }\n",
              "\n",
              "    .dataframe thead th {\n",
              "        text-align: right;\n",
              "    }\n",
              "</style>\n",
              "<table border=\"1\" class=\"dataframe\">\n",
              "  <thead>\n",
              "    <tr style=\"text-align: right;\">\n",
              "      <th></th>\n",
              "      <th>q1</th>\n",
              "      <th>q2</th>\n",
              "      <th>is_duplicate</th>\n",
              "    </tr>\n",
              "  </thead>\n",
              "  <tbody>\n",
              "    <tr>\n",
              "      <th>35916</th>\n",
              "      <td>[what, do, pakistanis, think, about, indian, p...</td>\n",
              "      <td>[what, do, the, pakistani, think, about, india]</td>\n",
              "      <td>1</td>\n",
              "    </tr>\n",
              "    <tr>\n",
              "      <th>100235</th>\n",
              "      <td>[be, there, a, fast, way, to, get, skinny]</td>\n",
              "      <td>[what, be, the, fast, way, to, get, skinny]</td>\n",
              "      <td>1</td>\n",
              "    </tr>\n",
              "    <tr>\n",
              "      <th>269467</th>\n",
              "      <td>[can, we, write, ssc, 10th, exam, without, joi...</td>\n",
              "      <td>[how, do, i, manage, my, proposal]</td>\n",
              "      <td>0</td>\n",
              "    </tr>\n",
              "    <tr>\n",
              "      <th>305636</th>\n",
              "      <td>[what, do, the, french, mon, amour, mean, in, ...</td>\n",
              "      <td>[what, do, don, mean, in, french]</td>\n",
              "      <td>0</td>\n",
              "    </tr>\n",
              "    <tr>\n",
              "      <th>305191</th>\n",
              "      <td>[what, be, the, best, way, to, reduce, thigh, ...</td>\n",
              "      <td>[how, do, i, reduce, my, thigh, size, man]</td>\n",
              "      <td>1</td>\n",
              "    </tr>\n",
              "    <tr>\n",
              "      <th>...</th>\n",
              "      <td>...</td>\n",
              "      <td>...</td>\n",
              "      <td>...</td>\n",
              "    </tr>\n",
              "    <tr>\n",
              "      <th>139298</th>\n",
              "      <td>[how, do, i, use, instagram, on, my, computer]</td>\n",
              "      <td>[what, be, the, best, way, to, use, instagram]</td>\n",
              "      <td>0</td>\n",
              "    </tr>\n",
              "    <tr>\n",
              "      <th>48895</th>\n",
              "      <td>[how, do, you, treat, a, hematoma, cause, when...</td>\n",
              "      <td>[why, be, hematoma, cause, when, draw, blood]</td>\n",
              "      <td>0</td>\n",
              "    </tr>\n",
              "    <tr>\n",
              "      <th>42561</th>\n",
              "      <td>[what, be, the, food, you, can, eat, every, da...</td>\n",
              "      <td>[can, you, eat, same, thing, every, day, and, ...</td>\n",
              "      <td>1</td>\n",
              "    </tr>\n",
              "    <tr>\n",
              "      <th>16821</th>\n",
              "      <td>[what, be, the, difference, between, procedura...</td>\n",
              "      <td>[what, be, the, difference, between, procedura...</td>\n",
              "      <td>1</td>\n",
              "    </tr>\n",
              "    <tr>\n",
              "      <th>72617</th>\n",
              "      <td>[what, be, the, best, service, to, refresh, my...</td>\n",
              "      <td>[how, can, a, character, get, involve, in, tim...</td>\n",
              "      <td>0</td>\n",
              "    </tr>\n",
              "  </tbody>\n",
              "</table>\n",
              "<p>3100 rows × 3 columns</p>\n",
              "</div>\n",
              "      <button class=\"colab-df-convert\" onclick=\"convertToInteractive('df-3a2ad59e-4fcc-4408-89fb-a3bbec119408')\"\n",
              "              title=\"Convert this dataframe to an interactive table.\"\n",
              "              style=\"display:none;\">\n",
              "        \n",
              "  <svg xmlns=\"http://www.w3.org/2000/svg\" height=\"24px\"viewBox=\"0 0 24 24\"\n",
              "       width=\"24px\">\n",
              "    <path d=\"M0 0h24v24H0V0z\" fill=\"none\"/>\n",
              "    <path d=\"M18.56 5.44l.94 2.06.94-2.06 2.06-.94-2.06-.94-.94-2.06-.94 2.06-2.06.94zm-11 1L8.5 8.5l.94-2.06 2.06-.94-2.06-.94L8.5 2.5l-.94 2.06-2.06.94zm10 10l.94 2.06.94-2.06 2.06-.94-2.06-.94-.94-2.06-.94 2.06-2.06.94z\"/><path d=\"M17.41 7.96l-1.37-1.37c-.4-.4-.92-.59-1.43-.59-.52 0-1.04.2-1.43.59L10.3 9.45l-7.72 7.72c-.78.78-.78 2.05 0 2.83L4 21.41c.39.39.9.59 1.41.59.51 0 1.02-.2 1.41-.59l7.78-7.78 2.81-2.81c.8-.78.8-2.07 0-2.86zM5.41 20L4 18.59l7.72-7.72 1.47 1.35L5.41 20z\"/>\n",
              "  </svg>\n",
              "      </button>\n",
              "      \n",
              "  <style>\n",
              "    .colab-df-container {\n",
              "      display:flex;\n",
              "      flex-wrap:wrap;\n",
              "      gap: 12px;\n",
              "    }\n",
              "\n",
              "    .colab-df-convert {\n",
              "      background-color: #E8F0FE;\n",
              "      border: none;\n",
              "      border-radius: 50%;\n",
              "      cursor: pointer;\n",
              "      display: none;\n",
              "      fill: #1967D2;\n",
              "      height: 32px;\n",
              "      padding: 0 0 0 0;\n",
              "      width: 32px;\n",
              "    }\n",
              "\n",
              "    .colab-df-convert:hover {\n",
              "      background-color: #E2EBFA;\n",
              "      box-shadow: 0px 1px 2px rgba(60, 64, 67, 0.3), 0px 1px 3px 1px rgba(60, 64, 67, 0.15);\n",
              "      fill: #174EA6;\n",
              "    }\n",
              "\n",
              "    [theme=dark] .colab-df-convert {\n",
              "      background-color: #3B4455;\n",
              "      fill: #D2E3FC;\n",
              "    }\n",
              "\n",
              "    [theme=dark] .colab-df-convert:hover {\n",
              "      background-color: #434B5C;\n",
              "      box-shadow: 0px 1px 3px 1px rgba(0, 0, 0, 0.15);\n",
              "      filter: drop-shadow(0px 1px 2px rgba(0, 0, 0, 0.3));\n",
              "      fill: #FFFFFF;\n",
              "    }\n",
              "  </style>\n",
              "\n",
              "      <script>\n",
              "        const buttonEl =\n",
              "          document.querySelector('#df-3a2ad59e-4fcc-4408-89fb-a3bbec119408 button.colab-df-convert');\n",
              "        buttonEl.style.display =\n",
              "          google.colab.kernel.accessAllowed ? 'block' : 'none';\n",
              "\n",
              "        async function convertToInteractive(key) {\n",
              "          const element = document.querySelector('#df-3a2ad59e-4fcc-4408-89fb-a3bbec119408');\n",
              "          const dataTable =\n",
              "            await google.colab.kernel.invokeFunction('convertToInteractive',\n",
              "                                                     [key], {});\n",
              "          if (!dataTable) return;\n",
              "\n",
              "          const docLinkHtml = 'Like what you see? Visit the ' +\n",
              "            '<a target=\"_blank\" href=https://colab.research.google.com/notebooks/data_table.ipynb>data table notebook</a>'\n",
              "            + ' to learn more about interactive tables.';\n",
              "          element.innerHTML = '';\n",
              "          dataTable['output_type'] = 'display_data';\n",
              "          await google.colab.output.renderOutput(dataTable, element);\n",
              "          const docLink = document.createElement('div');\n",
              "          docLink.innerHTML = docLinkHtml;\n",
              "          element.appendChild(docLink);\n",
              "        }\n",
              "      </script>\n",
              "    </div>\n",
              "  </div>\n",
              "  "
            ]
          },
          "metadata": {},
          "execution_count": 65
        }
      ]
    },
    {
      "cell_type": "code",
      "source": [
        "# import\n",
        "from gensim.models.doc2vec import Doc2Vec, TaggedDocument\n",
        "q1_tag = [TaggedDocument(d, [i]) for i, d in enumerate(df_clean['q1'])]\n",
        "q2_tag = [TaggedDocument(d, [i]) for i, d in enumerate(df_clean['q2'])]\n",
        "#tagged_data"
      ],
      "metadata": {
        "id": "NQgOZXNGDg22"
      },
      "execution_count": 16,
      "outputs": []
    },
    {
      "cell_type": "code",
      "source": [
        "q1_model = Doc2Vec(q1_tag, vector_size = 20, window = 2, min_count = 1, epochs = 100)\n",
        "q2_model = Doc2Vec(q2_tag, vector_size = 20, window = 2, min_count = 1, epochs = 100)"
      ],
      "metadata": {
        "id": "86WLyp4t1FjV"
      },
      "execution_count": 17,
      "outputs": []
    },
    {
      "cell_type": "code",
      "source": [
        "q1_model[0]"
      ],
      "metadata": {
        "colab": {
          "base_uri": "https://localhost:8080/"
        },
        "id": "h9MRYcs_4ync",
        "outputId": "827214fa-d523-4fc4-a17c-7e15dfe089ea"
      },
      "execution_count": 31,
      "outputs": [
        {
          "output_type": "execute_result",
          "data": {
            "text/plain": [
              "array([ 0.5810266 ,  1.2083697 ,  0.9162264 , -0.0174998 , -0.15741944,\n",
              "       -1.4726185 , -0.62223524,  0.5812599 ,  0.7438206 , -0.04712546,\n",
              "       -0.8470433 ,  0.6188074 ,  0.6834843 ,  0.34443977, -0.66070366,\n",
              "        0.66500264,  0.1121475 , -0.8982408 ,  0.18651539, -0.18247873],\n",
              "      dtype=float32)"
            ]
          },
          "metadata": {},
          "execution_count": 31
        }
      ]
    },
    {
      "cell_type": "code",
      "source": [],
      "metadata": {
        "id": "Tkgqy7yH65gv"
      },
      "execution_count": 33,
      "outputs": []
    },
    {
      "cell_type": "code",
      "source": [
        "# #cosine similarity - to finish \n",
        "# test_doc = word_tokenize(\"What is the step by step guide to invest\".lower())\n",
        "# test_doc_vector = model.infer_vector(test_doc)\n",
        "# model.docvecs.most_similar(positive = [test_doc_vector])\n"
      ],
      "metadata": {
        "colab": {
          "base_uri": "https://localhost:8080/"
        },
        "id": "Xs18YdDfG9sm",
        "outputId": "944f9527-f1a4-4f20-eebf-da6bfef775bc"
      },
      "execution_count": 76,
      "outputs": [
        {
          "output_type": "execute_result",
          "data": {
            "text/plain": [
              "[(1555, 0.7962811589241028),\n",
              " (2760, 0.7377956509590149),\n",
              " (1810, 0.7373658418655396),\n",
              " (2765, 0.7061798572540283),\n",
              " (2729, 0.6963450312614441),\n",
              " (1806, 0.688534677028656),\n",
              " (1839, 0.685553789138794),\n",
              " (2233, 0.6750451326370239),\n",
              " (1854, 0.6687722206115723),\n",
              " (2190, 0.6662200093269348)]"
            ]
          },
          "metadata": {},
          "execution_count": 76
        }
      ]
    },
    {
      "cell_type": "code",
      "source": [
        "from gensim.models.doc2vec import Doc2Vec, TaggedDocument\n",
        "q1 = [TaggedDocument(d, [i]) for i, d in enumerate(df_clean['q1'])]\n",
        "q2 = [TaggedDocument(d, [i]) for i, d in enumerate(df_clean['q2'])]\n",
        "#tagged_data"
      ],
      "metadata": {
        "id": "dSbOk1BAHycB"
      },
      "execution_count": 78,
      "outputs": []
    },
    {
      "cell_type": "code",
      "source": [
        "tagged_data = q1 + q2"
      ],
      "metadata": {
        "id": "X3no5Dp9Km3e"
      },
      "execution_count": 79,
      "outputs": []
    },
    {
      "cell_type": "code",
      "source": [
        "model = Doc2Vec(tagged_data, vector_size = 20, window = 2, min_count = 1, epochs = 100)\n",
        "model"
      ],
      "metadata": {
        "colab": {
          "base_uri": "https://localhost:8080/"
        },
        "id": "JwWuni6YKpG7",
        "outputId": "0131a50c-3377-41dd-d7c4-06f907aa1876"
      },
      "execution_count": 85,
      "outputs": [
        {
          "output_type": "execute_result",
          "data": {
            "text/plain": [
              "<gensim.models.doc2vec.Doc2Vec at 0x7f3fe79a1910>"
            ]
          },
          "metadata": {},
          "execution_count": 85
        }
      ]
    },
    {
      "cell_type": "code",
      "source": [
        "# test_doc = word_tokenize(\"What is the step by step guide to invest\".lower())\n",
        "# test_doc_vector = model.infer_vector(test_doc)\n",
        "# model.docvecs.most_similar(positive = [test_doc_vector])"
      ],
      "metadata": {
        "colab": {
          "base_uri": "https://localhost:8080/"
        },
        "id": "n-08F7PrLCCz",
        "outputId": "6304016b-6858-4dba-cd8d-a940a72d2a43"
      },
      "execution_count": 81,
      "outputs": [
        {
          "output_type": "execute_result",
          "data": {
            "text/plain": [
              "[(1854, 0.8070089221000671),\n",
              " (42, 0.7843912839889526),\n",
              " (958, 0.779266357421875),\n",
              " (1183, 0.7622733116149902),\n",
              " (1839, 0.7594348192214966),\n",
              " (2007, 0.7579702138900757),\n",
              " (2760, 0.7547283172607422),\n",
              " (909, 0.7446797490119934),\n",
              " (2765, 0.7345895767211914),\n",
              " (1835, 0.732286810874939)]"
            ]
          },
          "metadata": {},
          "execution_count": 81
        }
      ]
    },
    {
      "cell_type": "code",
      "source": [],
      "metadata": {
        "id": "9ItKPpcL4tsl"
      },
      "execution_count": null,
      "outputs": []
    },
    {
      "cell_type": "markdown",
      "source": [
        "#try svc"
      ],
      "metadata": {
        "id": "NEvRzCStIR3z"
      }
    },
    {
      "cell_type": "code",
      "source": [
        "doc2vec_data = np.concatenate([q1_model[0], q2_model[0]])\n",
        "doc2vec_data"
      ],
      "metadata": {
        "colab": {
          "base_uri": "https://localhost:8080/"
        },
        "id": "CVeDjcim030U",
        "outputId": "c2de20d8-19e1-4da7-9458-4ab839a38081"
      },
      "execution_count": 38,
      "outputs": [
        {
          "output_type": "execute_result",
          "data": {
            "text/plain": [
              "array([ 0.5810266 ,  1.2083697 ,  0.9162264 , -0.0174998 , -0.15741944,\n",
              "       -1.4726185 , -0.62223524,  0.5812599 ,  0.7438206 , -0.04712546,\n",
              "       -0.8470433 ,  0.6188074 ,  0.6834843 ,  0.34443977, -0.66070366,\n",
              "        0.66500264,  0.1121475 , -0.8982408 ,  0.18651539, -0.18247873,\n",
              "        1.481154  ,  0.9385288 ,  0.7077114 ,  0.99032164, -0.01401499,\n",
              "        0.03580603,  0.6962059 , -0.12830243,  0.4736636 , -0.28460807,\n",
              "       -0.9491731 ,  0.17938454,  0.9872916 ,  0.70210314, -0.6939416 ,\n",
              "        2.0760696 ,  0.17848212, -0.14690156,  1.9990524 ,  1.2086005 ],\n",
              "      dtype=float32)"
            ]
          },
          "metadata": {},
          "execution_count": 38
        }
      ]
    },
    {
      "cell_type": "code",
      "source": [
        "q1_arr = q1_model[0] \n",
        "\n",
        "for i in range(2999):\n",
        "  arrT = q1_model[i+1]\n",
        "  q1_arr = np.vstack([q1_arr, arrT])\n",
        "\n",
        "print(q1_arr)"
      ],
      "metadata": {
        "colab": {
          "base_uri": "https://localhost:8080/"
        },
        "id": "FAnspgow7K6H",
        "outputId": "b5d2d3ed-e706-4fd9-a444-7fa13fa20080"
      },
      "execution_count": 53,
      "outputs": [
        {
          "output_type": "stream",
          "name": "stdout",
          "text": [
            "[[ 0.5810266   1.2083697   0.9162264  ... -0.8982408   0.18651539\n",
            "  -0.18247873]\n",
            " [-0.07754783  0.57327145 -0.31971028 ... -0.22801255  1.1117383\n",
            "   0.32918173]\n",
            " [-1.0053186  -0.52901155 -0.73507607 ... -0.2930685   0.610467\n",
            "   0.5802145 ]\n",
            " ...\n",
            " [ 0.7498941  -0.4870866  -0.54625773 ... -0.93611306  0.41861948\n",
            "  -0.7085733 ]\n",
            " [ 0.37088498 -0.1587948   0.32154924 ... -0.28210035  0.68039924\n",
            "  -0.40266022]\n",
            " [-0.1347055  -0.20586298  0.2859487  ... -0.04282287  0.6394209\n",
            "   0.29231715]]\n"
          ]
        }
      ]
    },
    {
      "cell_type": "code",
      "source": [
        "from numpy import vstack"
      ],
      "metadata": {
        "id": "ZanE2NI1Hlzy"
      },
      "execution_count": 50,
      "outputs": []
    },
    {
      "cell_type": "code",
      "source": [
        "q1_df = pd.DataFrame(q1_arr)\n",
        "q1_df.shape"
      ],
      "metadata": {
        "colab": {
          "base_uri": "https://localhost:8080/"
        },
        "id": "sXBYYtC5H9ig",
        "outputId": "1d3f6035-df82-4a0e-dd83-ff7c63a82119"
      },
      "execution_count": 56,
      "outputs": [
        {
          "output_type": "execute_result",
          "data": {
            "text/plain": [
              "(3000, 20)"
            ]
          },
          "metadata": {},
          "execution_count": 56
        }
      ]
    },
    {
      "cell_type": "code",
      "source": [
        "q2_df = pd.DataFrame(q2_arr)\n",
        "q2_df.shape"
      ],
      "metadata": {
        "colab": {
          "base_uri": "https://localhost:8080/"
        },
        "id": "5RrBXSO2IWIw",
        "outputId": "3b4e39cb-42d5-4f79-d6de-8357ad3b0b2c"
      },
      "execution_count": 58,
      "outputs": [
        {
          "output_type": "execute_result",
          "data": {
            "text/plain": [
              "(3000, 20)"
            ]
          },
          "metadata": {},
          "execution_count": 58
        }
      ]
    },
    {
      "cell_type": "code",
      "source": [
        "q2_arr = q2_model[0] \n",
        "\n",
        "for i in range(2999):\n",
        "  arrT = q2_model[i+1]\n",
        "  q2_arr = np.vstack([q2_arr, arrT])\n",
        "\n",
        "print(q2_arr)"
      ],
      "metadata": {
        "colab": {
          "base_uri": "https://localhost:8080/"
        },
        "id": "71ijyCJrIPEG",
        "outputId": "c72abb52-67e6-47da-8c03-08ba6bc431ef"
      },
      "execution_count": 57,
      "outputs": [
        {
          "output_type": "stream",
          "name": "stdout",
          "text": [
            "[[ 1.4811540e+00  9.3852878e-01  7.0771140e-01 ... -1.4690156e-01\n",
            "   1.9990524e+00  1.2086005e+00]\n",
            " [ 4.8501411e-01 -1.8047783e-01  4.3742090e-01 ... -2.3784493e-01\n",
            "   7.8135693e-01  3.2830998e-01]\n",
            " [-4.5950159e-02 -1.2032396e-01  2.2239833e-01 ...  3.5680946e-02\n",
            "   8.3187902e-01 -1.2083004e-01]\n",
            " ...\n",
            " [ 1.0095431e+00 -1.2337197e+00 -8.0943614e-01 ... -2.1735021e-01\n",
            "   1.9523093e-01 -4.6974349e-01]\n",
            " [ 1.6711544e-02 -1.3244456e-01 -2.8724796e-01 ... -9.9119626e-02\n",
            "   5.5358613e-01  2.1528772e-01]\n",
            " [-1.9789477e-01 -3.3766299e-01 -1.4754611e-01 ... -4.0167922e-01\n",
            "   2.7842870e-01 -1.3564983e-03]]\n"
          ]
        }
      ]
    },
    {
      "cell_type": "code",
      "source": [
        "X_df = pd.concat([q1_df, q2_df], axis=1)\n",
        "#df_X = pd.concat([X_df, y_df], axis=1)\n",
        "X_df.shape"
      ],
      "metadata": {
        "colab": {
          "base_uri": "https://localhost:8080/"
        },
        "id": "FLYHuoFEIZ4X",
        "outputId": "df7af857-bebd-4201-d1fa-3eb54e190363"
      },
      "execution_count": 80,
      "outputs": [
        {
          "output_type": "execute_result",
          "data": {
            "text/plain": [
              "(3000, 40)"
            ]
          },
          "metadata": {},
          "execution_count": 80
        }
      ]
    },
    {
      "cell_type": "code",
      "source": [
        "y = df_clean['is_duplicate']\n",
        "y = np.array(y)\n",
        "y_df = pd.DataFrame(y)\n",
        "y_df"
      ],
      "metadata": {
        "colab": {
          "base_uri": "https://localhost:8080/",
          "height": 424
        },
        "id": "tAzcN6EdJCEq",
        "outputId": "33a42c11-be9d-4b07-9a97-7fa08d38daaf"
      },
      "execution_count": 75,
      "outputs": [
        {
          "output_type": "execute_result",
          "data": {
            "text/plain": [
              "      0\n",
              "0     0\n",
              "1     0\n",
              "2     0\n",
              "3     1\n",
              "4     0\n",
              "...  ..\n",
              "3095  1\n",
              "3096  0\n",
              "3097  0\n",
              "3098  0\n",
              "3099  1\n",
              "\n",
              "[3100 rows x 1 columns]"
            ],
            "text/html": [
              "\n",
              "  <div id=\"df-8fc0e6bf-454e-406f-8c73-b65686bbd5f2\">\n",
              "    <div class=\"colab-df-container\">\n",
              "      <div>\n",
              "<style scoped>\n",
              "    .dataframe tbody tr th:only-of-type {\n",
              "        vertical-align: middle;\n",
              "    }\n",
              "\n",
              "    .dataframe tbody tr th {\n",
              "        vertical-align: top;\n",
              "    }\n",
              "\n",
              "    .dataframe thead th {\n",
              "        text-align: right;\n",
              "    }\n",
              "</style>\n",
              "<table border=\"1\" class=\"dataframe\">\n",
              "  <thead>\n",
              "    <tr style=\"text-align: right;\">\n",
              "      <th></th>\n",
              "      <th>0</th>\n",
              "    </tr>\n",
              "  </thead>\n",
              "  <tbody>\n",
              "    <tr>\n",
              "      <th>0</th>\n",
              "      <td>0</td>\n",
              "    </tr>\n",
              "    <tr>\n",
              "      <th>1</th>\n",
              "      <td>0</td>\n",
              "    </tr>\n",
              "    <tr>\n",
              "      <th>2</th>\n",
              "      <td>0</td>\n",
              "    </tr>\n",
              "    <tr>\n",
              "      <th>3</th>\n",
              "      <td>1</td>\n",
              "    </tr>\n",
              "    <tr>\n",
              "      <th>4</th>\n",
              "      <td>0</td>\n",
              "    </tr>\n",
              "    <tr>\n",
              "      <th>...</th>\n",
              "      <td>...</td>\n",
              "    </tr>\n",
              "    <tr>\n",
              "      <th>3095</th>\n",
              "      <td>1</td>\n",
              "    </tr>\n",
              "    <tr>\n",
              "      <th>3096</th>\n",
              "      <td>0</td>\n",
              "    </tr>\n",
              "    <tr>\n",
              "      <th>3097</th>\n",
              "      <td>0</td>\n",
              "    </tr>\n",
              "    <tr>\n",
              "      <th>3098</th>\n",
              "      <td>0</td>\n",
              "    </tr>\n",
              "    <tr>\n",
              "      <th>3099</th>\n",
              "      <td>1</td>\n",
              "    </tr>\n",
              "  </tbody>\n",
              "</table>\n",
              "<p>3100 rows × 1 columns</p>\n",
              "</div>\n",
              "      <button class=\"colab-df-convert\" onclick=\"convertToInteractive('df-8fc0e6bf-454e-406f-8c73-b65686bbd5f2')\"\n",
              "              title=\"Convert this dataframe to an interactive table.\"\n",
              "              style=\"display:none;\">\n",
              "        \n",
              "  <svg xmlns=\"http://www.w3.org/2000/svg\" height=\"24px\"viewBox=\"0 0 24 24\"\n",
              "       width=\"24px\">\n",
              "    <path d=\"M0 0h24v24H0V0z\" fill=\"none\"/>\n",
              "    <path d=\"M18.56 5.44l.94 2.06.94-2.06 2.06-.94-2.06-.94-.94-2.06-.94 2.06-2.06.94zm-11 1L8.5 8.5l.94-2.06 2.06-.94-2.06-.94L8.5 2.5l-.94 2.06-2.06.94zm10 10l.94 2.06.94-2.06 2.06-.94-2.06-.94-.94-2.06-.94 2.06-2.06.94z\"/><path d=\"M17.41 7.96l-1.37-1.37c-.4-.4-.92-.59-1.43-.59-.52 0-1.04.2-1.43.59L10.3 9.45l-7.72 7.72c-.78.78-.78 2.05 0 2.83L4 21.41c.39.39.9.59 1.41.59.51 0 1.02-.2 1.41-.59l7.78-7.78 2.81-2.81c.8-.78.8-2.07 0-2.86zM5.41 20L4 18.59l7.72-7.72 1.47 1.35L5.41 20z\"/>\n",
              "  </svg>\n",
              "      </button>\n",
              "      \n",
              "  <style>\n",
              "    .colab-df-container {\n",
              "      display:flex;\n",
              "      flex-wrap:wrap;\n",
              "      gap: 12px;\n",
              "    }\n",
              "\n",
              "    .colab-df-convert {\n",
              "      background-color: #E8F0FE;\n",
              "      border: none;\n",
              "      border-radius: 50%;\n",
              "      cursor: pointer;\n",
              "      display: none;\n",
              "      fill: #1967D2;\n",
              "      height: 32px;\n",
              "      padding: 0 0 0 0;\n",
              "      width: 32px;\n",
              "    }\n",
              "\n",
              "    .colab-df-convert:hover {\n",
              "      background-color: #E2EBFA;\n",
              "      box-shadow: 0px 1px 2px rgba(60, 64, 67, 0.3), 0px 1px 3px 1px rgba(60, 64, 67, 0.15);\n",
              "      fill: #174EA6;\n",
              "    }\n",
              "\n",
              "    [theme=dark] .colab-df-convert {\n",
              "      background-color: #3B4455;\n",
              "      fill: #D2E3FC;\n",
              "    }\n",
              "\n",
              "    [theme=dark] .colab-df-convert:hover {\n",
              "      background-color: #434B5C;\n",
              "      box-shadow: 0px 1px 3px 1px rgba(0, 0, 0, 0.15);\n",
              "      filter: drop-shadow(0px 1px 2px rgba(0, 0, 0, 0.3));\n",
              "      fill: #FFFFFF;\n",
              "    }\n",
              "  </style>\n",
              "\n",
              "      <script>\n",
              "        const buttonEl =\n",
              "          document.querySelector('#df-8fc0e6bf-454e-406f-8c73-b65686bbd5f2 button.colab-df-convert');\n",
              "        buttonEl.style.display =\n",
              "          google.colab.kernel.accessAllowed ? 'block' : 'none';\n",
              "\n",
              "        async function convertToInteractive(key) {\n",
              "          const element = document.querySelector('#df-8fc0e6bf-454e-406f-8c73-b65686bbd5f2');\n",
              "          const dataTable =\n",
              "            await google.colab.kernel.invokeFunction('convertToInteractive',\n",
              "                                                     [key], {});\n",
              "          if (!dataTable) return;\n",
              "\n",
              "          const docLinkHtml = 'Like what you see? Visit the ' +\n",
              "            '<a target=\"_blank\" href=https://colab.research.google.com/notebooks/data_table.ipynb>data table notebook</a>'\n",
              "            + ' to learn more about interactive tables.';\n",
              "          element.innerHTML = '';\n",
              "          dataTable['output_type'] = 'display_data';\n",
              "          await google.colab.output.renderOutput(dataTable, element);\n",
              "          const docLink = document.createElement('div');\n",
              "          docLink.innerHTML = docLinkHtml;\n",
              "          element.appendChild(docLink);\n",
              "        }\n",
              "      </script>\n",
              "    </div>\n",
              "  </div>\n",
              "  "
            ]
          },
          "metadata": {},
          "execution_count": 75
        }
      ]
    },
    {
      "cell_type": "code",
      "source": [
        "df = X_df.join(y_df, lsuffix='_left', rsuffix='_right')\n",
        "df"
      ],
      "metadata": {
        "colab": {
          "base_uri": "https://localhost:8080/",
          "height": 488
        },
        "id": "vTvJqYCoLkaJ",
        "outputId": "97b131e0-5786-4d9f-c603-7ada8adbd267"
      },
      "execution_count": 84,
      "outputs": [
        {
          "output_type": "execute_result",
          "data": {
            "text/plain": [
              "        0_left         1         2         3         4         5         6  \\\n",
              "0     0.581027  1.208370  0.916226 -0.017500 -0.157419 -1.472618 -0.622235   \n",
              "1    -0.077548  0.573271 -0.319710  0.156488 -1.124121 -0.494646  0.209814   \n",
              "2    -1.005319 -0.529012 -0.735076 -0.087035  0.656220 -0.940712  0.234486   \n",
              "3     0.236661 -0.340131  0.474591  0.305714 -0.357004 -0.738526  0.123583   \n",
              "4     0.253025  0.219740 -0.217731 -0.361429 -0.113995 -0.800904  0.112391   \n",
              "...        ...       ...       ...       ...       ...       ...       ...   \n",
              "2995  0.501749  0.380240  0.004502  0.444053 -0.068857  0.119434  0.552885   \n",
              "2996  0.643296  0.253637  0.037233  0.322196 -0.028288 -1.029146 -0.631035   \n",
              "2997  0.749894 -0.487087 -0.546258 -1.720051 -0.247620 -0.538750 -0.818423   \n",
              "2998  0.370885 -0.158795  0.321549  0.193105 -0.041239 -0.654309 -0.426082   \n",
              "2999 -0.134705 -0.205863  0.285949  0.443176 -0.121093 -0.206675 -0.025949   \n",
              "\n",
              "             7         8         9  ...        11        12        13  \\\n",
              "0     0.581260  0.743821 -0.047125  ...  0.179385  0.987292  0.702103   \n",
              "1    -0.245632  0.363747  1.211124  ...  0.416060  0.834830  0.093918   \n",
              "2    -0.171080  0.701527 -0.418393  ...  0.298512  0.261643  0.354140   \n",
              "3     0.420354 -0.321707  0.342781  ... -1.139340  0.298838  0.307555   \n",
              "4    -0.371718  0.667065  0.249858  ...  1.000945 -0.193619  0.709927   \n",
              "...        ...       ...       ...  ...       ...       ...       ...   \n",
              "2995  0.994120  1.652993 -0.973230  ... -0.185514  0.676677  1.004518   \n",
              "2996 -0.318620  0.015862 -0.135705  ...  0.048253  0.596732  0.522567   \n",
              "2997  0.388426  0.368137 -0.801490  ...  0.548187  0.017583 -0.267069   \n",
              "2998 -0.762172  0.477382  0.582717  ...  0.083249  0.422974  0.554576   \n",
              "2999  0.191628  0.561119 -0.571215  ...  0.532350  0.729219 -0.379228   \n",
              "\n",
              "            14        15        16        17        18        19  0_right  \n",
              "0    -0.693942  2.076070  0.178482 -0.146902  1.999052  1.208601        0  \n",
              "1    -0.092923 -0.249957 -0.469445 -0.237845  0.781357  0.328310        0  \n",
              "2    -0.577934 -0.701905  0.071875  0.035681  0.831879 -0.120830        0  \n",
              "3    -0.253113  0.140093  0.129347 -0.380358  1.209907 -0.250593        1  \n",
              "4    -0.765053  0.579880 -0.265695 -0.915273  0.360893  0.595944        0  \n",
              "...        ...       ...       ...       ...       ...       ...      ...  \n",
              "2995 -0.937552 -0.374168  0.306625  0.200239  1.416152  0.399804        0  \n",
              "2996 -0.264217 -0.171991 -0.212232 -0.398130  0.354515  0.228741        0  \n",
              "2997  0.154549  0.436526  0.355640 -0.217350  0.195231 -0.469743        1  \n",
              "2998 -0.001491  0.607132 -0.624293 -0.099120  0.553586  0.215288        1  \n",
              "2999 -0.230921 -0.586442 -0.275378 -0.401679  0.278429 -0.001356        0  \n",
              "\n",
              "[3000 rows x 41 columns]"
            ],
            "text/html": [
              "\n",
              "  <div id=\"df-6eb45aea-35e9-48d2-b245-4b2121a7eb9b\">\n",
              "    <div class=\"colab-df-container\">\n",
              "      <div>\n",
              "<style scoped>\n",
              "    .dataframe tbody tr th:only-of-type {\n",
              "        vertical-align: middle;\n",
              "    }\n",
              "\n",
              "    .dataframe tbody tr th {\n",
              "        vertical-align: top;\n",
              "    }\n",
              "\n",
              "    .dataframe thead th {\n",
              "        text-align: right;\n",
              "    }\n",
              "</style>\n",
              "<table border=\"1\" class=\"dataframe\">\n",
              "  <thead>\n",
              "    <tr style=\"text-align: right;\">\n",
              "      <th></th>\n",
              "      <th>0_left</th>\n",
              "      <th>1</th>\n",
              "      <th>2</th>\n",
              "      <th>3</th>\n",
              "      <th>4</th>\n",
              "      <th>5</th>\n",
              "      <th>6</th>\n",
              "      <th>7</th>\n",
              "      <th>8</th>\n",
              "      <th>9</th>\n",
              "      <th>...</th>\n",
              "      <th>11</th>\n",
              "      <th>12</th>\n",
              "      <th>13</th>\n",
              "      <th>14</th>\n",
              "      <th>15</th>\n",
              "      <th>16</th>\n",
              "      <th>17</th>\n",
              "      <th>18</th>\n",
              "      <th>19</th>\n",
              "      <th>0_right</th>\n",
              "    </tr>\n",
              "  </thead>\n",
              "  <tbody>\n",
              "    <tr>\n",
              "      <th>0</th>\n",
              "      <td>0.581027</td>\n",
              "      <td>1.208370</td>\n",
              "      <td>0.916226</td>\n",
              "      <td>-0.017500</td>\n",
              "      <td>-0.157419</td>\n",
              "      <td>-1.472618</td>\n",
              "      <td>-0.622235</td>\n",
              "      <td>0.581260</td>\n",
              "      <td>0.743821</td>\n",
              "      <td>-0.047125</td>\n",
              "      <td>...</td>\n",
              "      <td>0.179385</td>\n",
              "      <td>0.987292</td>\n",
              "      <td>0.702103</td>\n",
              "      <td>-0.693942</td>\n",
              "      <td>2.076070</td>\n",
              "      <td>0.178482</td>\n",
              "      <td>-0.146902</td>\n",
              "      <td>1.999052</td>\n",
              "      <td>1.208601</td>\n",
              "      <td>0</td>\n",
              "    </tr>\n",
              "    <tr>\n",
              "      <th>1</th>\n",
              "      <td>-0.077548</td>\n",
              "      <td>0.573271</td>\n",
              "      <td>-0.319710</td>\n",
              "      <td>0.156488</td>\n",
              "      <td>-1.124121</td>\n",
              "      <td>-0.494646</td>\n",
              "      <td>0.209814</td>\n",
              "      <td>-0.245632</td>\n",
              "      <td>0.363747</td>\n",
              "      <td>1.211124</td>\n",
              "      <td>...</td>\n",
              "      <td>0.416060</td>\n",
              "      <td>0.834830</td>\n",
              "      <td>0.093918</td>\n",
              "      <td>-0.092923</td>\n",
              "      <td>-0.249957</td>\n",
              "      <td>-0.469445</td>\n",
              "      <td>-0.237845</td>\n",
              "      <td>0.781357</td>\n",
              "      <td>0.328310</td>\n",
              "      <td>0</td>\n",
              "    </tr>\n",
              "    <tr>\n",
              "      <th>2</th>\n",
              "      <td>-1.005319</td>\n",
              "      <td>-0.529012</td>\n",
              "      <td>-0.735076</td>\n",
              "      <td>-0.087035</td>\n",
              "      <td>0.656220</td>\n",
              "      <td>-0.940712</td>\n",
              "      <td>0.234486</td>\n",
              "      <td>-0.171080</td>\n",
              "      <td>0.701527</td>\n",
              "      <td>-0.418393</td>\n",
              "      <td>...</td>\n",
              "      <td>0.298512</td>\n",
              "      <td>0.261643</td>\n",
              "      <td>0.354140</td>\n",
              "      <td>-0.577934</td>\n",
              "      <td>-0.701905</td>\n",
              "      <td>0.071875</td>\n",
              "      <td>0.035681</td>\n",
              "      <td>0.831879</td>\n",
              "      <td>-0.120830</td>\n",
              "      <td>0</td>\n",
              "    </tr>\n",
              "    <tr>\n",
              "      <th>3</th>\n",
              "      <td>0.236661</td>\n",
              "      <td>-0.340131</td>\n",
              "      <td>0.474591</td>\n",
              "      <td>0.305714</td>\n",
              "      <td>-0.357004</td>\n",
              "      <td>-0.738526</td>\n",
              "      <td>0.123583</td>\n",
              "      <td>0.420354</td>\n",
              "      <td>-0.321707</td>\n",
              "      <td>0.342781</td>\n",
              "      <td>...</td>\n",
              "      <td>-1.139340</td>\n",
              "      <td>0.298838</td>\n",
              "      <td>0.307555</td>\n",
              "      <td>-0.253113</td>\n",
              "      <td>0.140093</td>\n",
              "      <td>0.129347</td>\n",
              "      <td>-0.380358</td>\n",
              "      <td>1.209907</td>\n",
              "      <td>-0.250593</td>\n",
              "      <td>1</td>\n",
              "    </tr>\n",
              "    <tr>\n",
              "      <th>4</th>\n",
              "      <td>0.253025</td>\n",
              "      <td>0.219740</td>\n",
              "      <td>-0.217731</td>\n",
              "      <td>-0.361429</td>\n",
              "      <td>-0.113995</td>\n",
              "      <td>-0.800904</td>\n",
              "      <td>0.112391</td>\n",
              "      <td>-0.371718</td>\n",
              "      <td>0.667065</td>\n",
              "      <td>0.249858</td>\n",
              "      <td>...</td>\n",
              "      <td>1.000945</td>\n",
              "      <td>-0.193619</td>\n",
              "      <td>0.709927</td>\n",
              "      <td>-0.765053</td>\n",
              "      <td>0.579880</td>\n",
              "      <td>-0.265695</td>\n",
              "      <td>-0.915273</td>\n",
              "      <td>0.360893</td>\n",
              "      <td>0.595944</td>\n",
              "      <td>0</td>\n",
              "    </tr>\n",
              "    <tr>\n",
              "      <th>...</th>\n",
              "      <td>...</td>\n",
              "      <td>...</td>\n",
              "      <td>...</td>\n",
              "      <td>...</td>\n",
              "      <td>...</td>\n",
              "      <td>...</td>\n",
              "      <td>...</td>\n",
              "      <td>...</td>\n",
              "      <td>...</td>\n",
              "      <td>...</td>\n",
              "      <td>...</td>\n",
              "      <td>...</td>\n",
              "      <td>...</td>\n",
              "      <td>...</td>\n",
              "      <td>...</td>\n",
              "      <td>...</td>\n",
              "      <td>...</td>\n",
              "      <td>...</td>\n",
              "      <td>...</td>\n",
              "      <td>...</td>\n",
              "      <td>...</td>\n",
              "    </tr>\n",
              "    <tr>\n",
              "      <th>2995</th>\n",
              "      <td>0.501749</td>\n",
              "      <td>0.380240</td>\n",
              "      <td>0.004502</td>\n",
              "      <td>0.444053</td>\n",
              "      <td>-0.068857</td>\n",
              "      <td>0.119434</td>\n",
              "      <td>0.552885</td>\n",
              "      <td>0.994120</td>\n",
              "      <td>1.652993</td>\n",
              "      <td>-0.973230</td>\n",
              "      <td>...</td>\n",
              "      <td>-0.185514</td>\n",
              "      <td>0.676677</td>\n",
              "      <td>1.004518</td>\n",
              "      <td>-0.937552</td>\n",
              "      <td>-0.374168</td>\n",
              "      <td>0.306625</td>\n",
              "      <td>0.200239</td>\n",
              "      <td>1.416152</td>\n",
              "      <td>0.399804</td>\n",
              "      <td>0</td>\n",
              "    </tr>\n",
              "    <tr>\n",
              "      <th>2996</th>\n",
              "      <td>0.643296</td>\n",
              "      <td>0.253637</td>\n",
              "      <td>0.037233</td>\n",
              "      <td>0.322196</td>\n",
              "      <td>-0.028288</td>\n",
              "      <td>-1.029146</td>\n",
              "      <td>-0.631035</td>\n",
              "      <td>-0.318620</td>\n",
              "      <td>0.015862</td>\n",
              "      <td>-0.135705</td>\n",
              "      <td>...</td>\n",
              "      <td>0.048253</td>\n",
              "      <td>0.596732</td>\n",
              "      <td>0.522567</td>\n",
              "      <td>-0.264217</td>\n",
              "      <td>-0.171991</td>\n",
              "      <td>-0.212232</td>\n",
              "      <td>-0.398130</td>\n",
              "      <td>0.354515</td>\n",
              "      <td>0.228741</td>\n",
              "      <td>0</td>\n",
              "    </tr>\n",
              "    <tr>\n",
              "      <th>2997</th>\n",
              "      <td>0.749894</td>\n",
              "      <td>-0.487087</td>\n",
              "      <td>-0.546258</td>\n",
              "      <td>-1.720051</td>\n",
              "      <td>-0.247620</td>\n",
              "      <td>-0.538750</td>\n",
              "      <td>-0.818423</td>\n",
              "      <td>0.388426</td>\n",
              "      <td>0.368137</td>\n",
              "      <td>-0.801490</td>\n",
              "      <td>...</td>\n",
              "      <td>0.548187</td>\n",
              "      <td>0.017583</td>\n",
              "      <td>-0.267069</td>\n",
              "      <td>0.154549</td>\n",
              "      <td>0.436526</td>\n",
              "      <td>0.355640</td>\n",
              "      <td>-0.217350</td>\n",
              "      <td>0.195231</td>\n",
              "      <td>-0.469743</td>\n",
              "      <td>1</td>\n",
              "    </tr>\n",
              "    <tr>\n",
              "      <th>2998</th>\n",
              "      <td>0.370885</td>\n",
              "      <td>-0.158795</td>\n",
              "      <td>0.321549</td>\n",
              "      <td>0.193105</td>\n",
              "      <td>-0.041239</td>\n",
              "      <td>-0.654309</td>\n",
              "      <td>-0.426082</td>\n",
              "      <td>-0.762172</td>\n",
              "      <td>0.477382</td>\n",
              "      <td>0.582717</td>\n",
              "      <td>...</td>\n",
              "      <td>0.083249</td>\n",
              "      <td>0.422974</td>\n",
              "      <td>0.554576</td>\n",
              "      <td>-0.001491</td>\n",
              "      <td>0.607132</td>\n",
              "      <td>-0.624293</td>\n",
              "      <td>-0.099120</td>\n",
              "      <td>0.553586</td>\n",
              "      <td>0.215288</td>\n",
              "      <td>1</td>\n",
              "    </tr>\n",
              "    <tr>\n",
              "      <th>2999</th>\n",
              "      <td>-0.134705</td>\n",
              "      <td>-0.205863</td>\n",
              "      <td>0.285949</td>\n",
              "      <td>0.443176</td>\n",
              "      <td>-0.121093</td>\n",
              "      <td>-0.206675</td>\n",
              "      <td>-0.025949</td>\n",
              "      <td>0.191628</td>\n",
              "      <td>0.561119</td>\n",
              "      <td>-0.571215</td>\n",
              "      <td>...</td>\n",
              "      <td>0.532350</td>\n",
              "      <td>0.729219</td>\n",
              "      <td>-0.379228</td>\n",
              "      <td>-0.230921</td>\n",
              "      <td>-0.586442</td>\n",
              "      <td>-0.275378</td>\n",
              "      <td>-0.401679</td>\n",
              "      <td>0.278429</td>\n",
              "      <td>-0.001356</td>\n",
              "      <td>0</td>\n",
              "    </tr>\n",
              "  </tbody>\n",
              "</table>\n",
              "<p>3000 rows × 41 columns</p>\n",
              "</div>\n",
              "      <button class=\"colab-df-convert\" onclick=\"convertToInteractive('df-6eb45aea-35e9-48d2-b245-4b2121a7eb9b')\"\n",
              "              title=\"Convert this dataframe to an interactive table.\"\n",
              "              style=\"display:none;\">\n",
              "        \n",
              "  <svg xmlns=\"http://www.w3.org/2000/svg\" height=\"24px\"viewBox=\"0 0 24 24\"\n",
              "       width=\"24px\">\n",
              "    <path d=\"M0 0h24v24H0V0z\" fill=\"none\"/>\n",
              "    <path d=\"M18.56 5.44l.94 2.06.94-2.06 2.06-.94-2.06-.94-.94-2.06-.94 2.06-2.06.94zm-11 1L8.5 8.5l.94-2.06 2.06-.94-2.06-.94L8.5 2.5l-.94 2.06-2.06.94zm10 10l.94 2.06.94-2.06 2.06-.94-2.06-.94-.94-2.06-.94 2.06-2.06.94z\"/><path d=\"M17.41 7.96l-1.37-1.37c-.4-.4-.92-.59-1.43-.59-.52 0-1.04.2-1.43.59L10.3 9.45l-7.72 7.72c-.78.78-.78 2.05 0 2.83L4 21.41c.39.39.9.59 1.41.59.51 0 1.02-.2 1.41-.59l7.78-7.78 2.81-2.81c.8-.78.8-2.07 0-2.86zM5.41 20L4 18.59l7.72-7.72 1.47 1.35L5.41 20z\"/>\n",
              "  </svg>\n",
              "      </button>\n",
              "      \n",
              "  <style>\n",
              "    .colab-df-container {\n",
              "      display:flex;\n",
              "      flex-wrap:wrap;\n",
              "      gap: 12px;\n",
              "    }\n",
              "\n",
              "    .colab-df-convert {\n",
              "      background-color: #E8F0FE;\n",
              "      border: none;\n",
              "      border-radius: 50%;\n",
              "      cursor: pointer;\n",
              "      display: none;\n",
              "      fill: #1967D2;\n",
              "      height: 32px;\n",
              "      padding: 0 0 0 0;\n",
              "      width: 32px;\n",
              "    }\n",
              "\n",
              "    .colab-df-convert:hover {\n",
              "      background-color: #E2EBFA;\n",
              "      box-shadow: 0px 1px 2px rgba(60, 64, 67, 0.3), 0px 1px 3px 1px rgba(60, 64, 67, 0.15);\n",
              "      fill: #174EA6;\n",
              "    }\n",
              "\n",
              "    [theme=dark] .colab-df-convert {\n",
              "      background-color: #3B4455;\n",
              "      fill: #D2E3FC;\n",
              "    }\n",
              "\n",
              "    [theme=dark] .colab-df-convert:hover {\n",
              "      background-color: #434B5C;\n",
              "      box-shadow: 0px 1px 3px 1px rgba(0, 0, 0, 0.15);\n",
              "      filter: drop-shadow(0px 1px 2px rgba(0, 0, 0, 0.3));\n",
              "      fill: #FFFFFF;\n",
              "    }\n",
              "  </style>\n",
              "\n",
              "      <script>\n",
              "        const buttonEl =\n",
              "          document.querySelector('#df-6eb45aea-35e9-48d2-b245-4b2121a7eb9b button.colab-df-convert');\n",
              "        buttonEl.style.display =\n",
              "          google.colab.kernel.accessAllowed ? 'block' : 'none';\n",
              "\n",
              "        async function convertToInteractive(key) {\n",
              "          const element = document.querySelector('#df-6eb45aea-35e9-48d2-b245-4b2121a7eb9b');\n",
              "          const dataTable =\n",
              "            await google.colab.kernel.invokeFunction('convertToInteractive',\n",
              "                                                     [key], {});\n",
              "          if (!dataTable) return;\n",
              "\n",
              "          const docLinkHtml = 'Like what you see? Visit the ' +\n",
              "            '<a target=\"_blank\" href=https://colab.research.google.com/notebooks/data_table.ipynb>data table notebook</a>'\n",
              "            + ' to learn more about interactive tables.';\n",
              "          element.innerHTML = '';\n",
              "          dataTable['output_type'] = 'display_data';\n",
              "          await google.colab.output.renderOutput(dataTable, element);\n",
              "          const docLink = document.createElement('div');\n",
              "          docLink.innerHTML = docLinkHtml;\n",
              "          element.appendChild(docLink);\n",
              "        }\n",
              "      </script>\n",
              "    </div>\n",
              "  </div>\n",
              "  "
            ]
          },
          "metadata": {},
          "execution_count": 84
        }
      ]
    },
    {
      "cell_type": "code",
      "source": [
        "y= df['0_right']\n",
        "X_train, X_test, y_train, y_test = train_test_split(df, y, stratify = y, test_size = 0.2, random_state = 0)"
      ],
      "metadata": {
        "id": "ri8gKtUPL1vf"
      },
      "execution_count": 86,
      "outputs": []
    },
    {
      "cell_type": "code",
      "source": [
        "from sklearn.ensemble import RandomForestClassifier\n",
        "from sklearn.datasets import make_classification\n",
        "#X, y = make_classification(random_state=0, shuffle=False)\n",
        "clf = RandomForestClassifier(max_depth=2, random_state=0)\n",
        "clf.fit(X_train, y_train)\n"
      ],
      "metadata": {
        "colab": {
          "base_uri": "https://localhost:8080/"
        },
        "id": "Y5BHAFQDMHwB",
        "outputId": "81763b0b-0183-4950-f8f6-6ec7635bba5b"
      },
      "execution_count": 90,
      "outputs": [
        {
          "output_type": "execute_result",
          "data": {
            "text/plain": [
              "RandomForestClassifier(max_depth=2, random_state=0)"
            ]
          },
          "metadata": {},
          "execution_count": 90
        }
      ]
    },
    {
      "cell_type": "code",
      "source": [
        "from sklearn.model_selection import ShuffleSplit"
      ],
      "metadata": {
        "id": "3z7vRVH3NY2o"
      },
      "execution_count": 93,
      "outputs": []
    },
    {
      "cell_type": "code",
      "source": [
        "from sklearn.ensemble import RandomForestClassifier\n",
        "from sklearn.experimental import enable_halving_search_cv  # noqa\n",
        "from sklearn.model_selection import HalvingGridSearchCV"
      ],
      "metadata": {
        "id": "yCZImk8qNjgJ"
      },
      "execution_count": 96,
      "outputs": []
    },
    {
      "cell_type": "code",
      "source": [
        "def rf_clf(X_train, X_test, y_train, y_test):\n",
        "    '''Parameter tuning for Random Forest Classifier and model fit'''\n",
        "    \n",
        "    splits = ShuffleSplit(n_splits = 1, test_size = .2, random_state = 0)\n",
        "    rf_param_grid = {'n_estimators':[200, 500, 800], 'min_samples_split':[5, 15], 'max_depth': [70, 150, None]}\n",
        "    rf_clf = RandomForestClassifier(random_state = 0)\n",
        "    \n",
        "    rf_bow_search = HalvingGridSearchCV(rf_clf, rf_param_grid, cv = splits, factor = 2, scoring = 'accuracy', \n",
        "                                        max_resources = 40, aggressive_elimination = True,verbose = 0)\n",
        "    rf_bow_search.fit(X_train, y_train)\n",
        "    \n",
        "    rf_bow_model = rf_bow_search.best_estimator_\n",
        "    \n",
        "    y_pred = rf_bow_model.predict(X_test)\n",
        "    \n",
        "    log_loss = metrics.log_loss(y_test, y_pred)\n",
        "    accuracy = metrics.accuracy_score(y_test, y_pred)\n",
        "    precision = metrics.precision_score(y_test, y_pred)\n",
        "    recall = metrics.recall_score(y_test, y_pred)\n",
        "    f1_score = metrics.f1_score(y_test, y_pred)\n",
        "    print (rf_bow_model)\n",
        "    #print('log loss', rf_loss_bow, '\\nacc', rf_acc_bow)\n",
        "    return accuracy, precision, recall, f1_score, log_loss, y_pred, rf_bow_model"
      ],
      "metadata": {
        "id": "eeWzYQJ7NEo4"
      },
      "execution_count": 91,
      "outputs": []
    },
    {
      "cell_type": "code",
      "source": [
        "acc_rf, precision_rf, recall_rf, f1_score_rf, log_loss_rf, y_pred_rf, berf  = rf_clf(X_train, X_test, y_train, y_test)"
      ],
      "metadata": {
        "colab": {
          "base_uri": "https://localhost:8080/"
        },
        "id": "k__5u6WrNHFo",
        "outputId": "816bf57d-74a7-4c08-db9e-c691fbf44b46"
      },
      "execution_count": 97,
      "outputs": [
        {
          "output_type": "stream",
          "name": "stdout",
          "text": [
            "RandomForestClassifier(min_samples_split=15, n_estimators=500, random_state=0)\n"
          ]
        }
      ]
    },
    {
      "cell_type": "code",
      "source": [],
      "metadata": {
        "id": "tfQMOsl5OEDC"
      },
      "execution_count": null,
      "outputs": []
    }
  ]
}
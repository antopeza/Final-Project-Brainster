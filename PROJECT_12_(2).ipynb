{
  "cells": [
    {
      "cell_type": "markdown",
      "metadata": {
        "id": "view-in-github",
        "colab_type": "text"
      },
      "source": [
        "<a href=\"https://colab.research.google.com/github/antopeza/Final-Project-Brainster/blob/main/PROJECT_12_(2).ipynb\" target=\"_parent\"><img src=\"https://colab.research.google.com/assets/colab-badge.svg\" alt=\"Open In Colab\"/></a>"
      ]
    },
    {
      "cell_type": "code",
      "execution_count": 1,
      "id": "98173428",
      "metadata": {
        "colab": {
          "base_uri": "https://localhost:8080/"
        },
        "id": "98173428",
        "outputId": "ce7e2384-2a51-4fd7-ef69-2bb6695b812e"
      },
      "outputs": [
        {
          "output_type": "stream",
          "name": "stderr",
          "text": [
            "[nltk_data] Downloading package stopwords to /root/nltk_data...\n",
            "[nltk_data]   Unzipping corpora/stopwords.zip.\n",
            "[nltk_data] Downloading package wordnet to /root/nltk_data...\n",
            "[nltk_data] Downloading package averaged_perceptron_tagger to\n",
            "[nltk_data]     /root/nltk_data...\n",
            "[nltk_data]   Unzipping taggers/averaged_perceptron_tagger.zip.\n",
            "[nltk_data] Downloading package punkt to /root/nltk_data...\n",
            "[nltk_data]   Unzipping tokenizers/punkt.zip.\n"
          ]
        }
      ],
      "source": [
        "import pandas as pd\n",
        "import numpy as np\n",
        "import matplotlib.pyplot as plt\n",
        "\n",
        "\n",
        "import nltk  \n",
        "import re \n",
        "from string import punctuation\n",
        "from nltk.tokenize import WordPunctTokenizer, PunktSentenceTokenizer\n",
        "from nltk.corpus import wordnet, stopwords\n",
        "from nltk.stem import WordNetLemmatizer, PorterStemmer\n",
        "nltk.download('stopwords')\n",
        "nltk.download('wordnet')\n",
        "nltk.download('averaged_perceptron_tagger')\n",
        "nltk.download('punkt')\n",
        "\n",
        "import string\n",
        "import os\n",
        "import pickle\n",
        "\n",
        "from sklearn.preprocessing import LabelEncoder\n",
        "from sklearn.feature_extraction.text import CountVectorizer, TfidfVectorizer\n",
        "from sklearn.linear_model import LogisticRegression\n",
        "from sklearn import preprocessing\n",
        "from sklearn.metrics import classification_report, confusion_matrix\n",
        "from sklearn.linear_model import SGDClassifier\n",
        "from sklearn.metrics import accuracy_score\n",
        "\n",
        "from keras.preprocessing.text import Tokenizer\n",
        "from keras.preprocessing.sequence import pad_sequences\n",
        "from keras.models import Model, Sequential\n",
        "from keras.layers import Input, Embedding, LSTM, Dense\n",
        "\n",
        "import warnings\n",
        "warnings.filterwarnings('ignore')"
      ]
    },
    {
      "cell_type": "markdown",
      "id": "a769ff36",
      "metadata": {
        "id": "a769ff36"
      },
      "source": [
        "## Read and inspect data"
      ]
    },
    {
      "cell_type": "code",
      "source": [
        "from google.colab import drive \n",
        "drive.mount('/drive')"
      ],
      "metadata": {
        "colab": {
          "base_uri": "https://localhost:8080/"
        },
        "id": "riwWVxTyzu_K",
        "outputId": "4f7a3e61-bf3d-4607-db36-3b4a311bd183"
      },
      "id": "riwWVxTyzu_K",
      "execution_count": 3,
      "outputs": [
        {
          "output_type": "stream",
          "name": "stdout",
          "text": [
            "Mounted at /drive\n"
          ]
        }
      ]
    },
    {
      "cell_type": "code",
      "execution_count": 5,
      "id": "bf666e2b",
      "metadata": {
        "colab": {
          "base_uri": "https://localhost:8080/"
        },
        "id": "bf666e2b",
        "outputId": "d1cdfbff-5598-41c4-8d83-94ed5a5d9dd2"
      },
      "outputs": [
        {
          "output_type": "stream",
          "name": "stdout",
          "text": [
            "<class 'pandas.core.frame.DataFrame'>\n",
            "RangeIndex: 404290 entries, 0 to 404289\n",
            "Data columns (total 6 columns):\n",
            " #   Column        Non-Null Count   Dtype \n",
            "---  ------        --------------   ----- \n",
            " 0   id            404290 non-null  int64 \n",
            " 1   qid1          404290 non-null  int64 \n",
            " 2   qid2          404290 non-null  int64 \n",
            " 3   question1     404289 non-null  object\n",
            " 4   question2     404288 non-null  object\n",
            " 5   is_duplicate  404290 non-null  int64 \n",
            "dtypes: int64(4), object(2)\n",
            "memory usage: 18.5+ MB\n"
          ]
        }
      ],
      "source": [
        "raw_train_data = pd.read_csv('/drive/My Drive/MACHINE LEARNING/FINAL PROJECT/train.csv')\n",
        "raw_train_data.info()"
      ]
    },
    {
      "cell_type": "code",
      "execution_count": null,
      "id": "fccae355",
      "metadata": {
        "id": "fccae355",
        "outputId": "71218846-0f45-45aa-d5ed-3df67e79679d"
      },
      "outputs": [
        {
          "data": {
            "text/html": [
              "<div>\n",
              "<style scoped>\n",
              "    .dataframe tbody tr th:only-of-type {\n",
              "        vertical-align: middle;\n",
              "    }\n",
              "\n",
              "    .dataframe tbody tr th {\n",
              "        vertical-align: top;\n",
              "    }\n",
              "\n",
              "    .dataframe thead th {\n",
              "        text-align: right;\n",
              "    }\n",
              "</style>\n",
              "<table border=\"1\" class=\"dataframe\">\n",
              "  <thead>\n",
              "    <tr style=\"text-align: right;\">\n",
              "      <th></th>\n",
              "      <th>id</th>\n",
              "      <th>qid1</th>\n",
              "      <th>qid2</th>\n",
              "      <th>question1</th>\n",
              "      <th>question2</th>\n",
              "      <th>is_duplicate</th>\n",
              "    </tr>\n",
              "  </thead>\n",
              "  <tbody>\n",
              "    <tr>\n",
              "      <th>0</th>\n",
              "      <td>0</td>\n",
              "      <td>1</td>\n",
              "      <td>2</td>\n",
              "      <td>What is the step by step guide to invest in sh...</td>\n",
              "      <td>What is the step by step guide to invest in sh...</td>\n",
              "      <td>0</td>\n",
              "    </tr>\n",
              "    <tr>\n",
              "      <th>1</th>\n",
              "      <td>1</td>\n",
              "      <td>3</td>\n",
              "      <td>4</td>\n",
              "      <td>What is the story of Kohinoor (Koh-i-Noor) Dia...</td>\n",
              "      <td>What would happen if the Indian government sto...</td>\n",
              "      <td>0</td>\n",
              "    </tr>\n",
              "    <tr>\n",
              "      <th>2</th>\n",
              "      <td>2</td>\n",
              "      <td>5</td>\n",
              "      <td>6</td>\n",
              "      <td>How can I increase the speed of my internet co...</td>\n",
              "      <td>How can Internet speed be increased by hacking...</td>\n",
              "      <td>0</td>\n",
              "    </tr>\n",
              "    <tr>\n",
              "      <th>3</th>\n",
              "      <td>3</td>\n",
              "      <td>7</td>\n",
              "      <td>8</td>\n",
              "      <td>Why am I mentally very lonely? How can I solve...</td>\n",
              "      <td>Find the remainder when [math]23^{24}[/math] i...</td>\n",
              "      <td>0</td>\n",
              "    </tr>\n",
              "    <tr>\n",
              "      <th>4</th>\n",
              "      <td>4</td>\n",
              "      <td>9</td>\n",
              "      <td>10</td>\n",
              "      <td>Which one dissolve in water quikly sugar, salt...</td>\n",
              "      <td>Which fish would survive in salt water?</td>\n",
              "      <td>0</td>\n",
              "    </tr>\n",
              "  </tbody>\n",
              "</table>\n",
              "</div>"
            ],
            "text/plain": [
              "   id  qid1  qid2                                          question1  \\\n",
              "0   0     1     2  What is the step by step guide to invest in sh...   \n",
              "1   1     3     4  What is the story of Kohinoor (Koh-i-Noor) Dia...   \n",
              "2   2     5     6  How can I increase the speed of my internet co...   \n",
              "3   3     7     8  Why am I mentally very lonely? How can I solve...   \n",
              "4   4     9    10  Which one dissolve in water quikly sugar, salt...   \n",
              "\n",
              "                                           question2  is_duplicate  \n",
              "0  What is the step by step guide to invest in sh...             0  \n",
              "1  What would happen if the Indian government sto...             0  \n",
              "2  How can Internet speed be increased by hacking...             0  \n",
              "3  Find the remainder when [math]23^{24}[/math] i...             0  \n",
              "4            Which fish would survive in salt water?             0  "
            ]
          },
          "execution_count": 96,
          "metadata": {},
          "output_type": "execute_result"
        }
      ],
      "source": [
        "raw_train_data.head(5)"
      ]
    },
    {
      "cell_type": "code",
      "execution_count": null,
      "id": "a5d8fec0",
      "metadata": {
        "id": "a5d8fec0",
        "outputId": "dd5026d5-df2c-40a4-acdd-2c8d464d208d"
      },
      "outputs": [
        {
          "data": {
            "text/plain": [
              "id               int64\n",
              "qid1             int64\n",
              "qid2             int64\n",
              "question1       object\n",
              "question2       object\n",
              "is_duplicate     int64\n",
              "dtype: object"
            ]
          },
          "execution_count": 97,
          "metadata": {},
          "output_type": "execute_result"
        }
      ],
      "source": [
        "raw_train_data.dtypes"
      ]
    },
    {
      "cell_type": "code",
      "execution_count": null,
      "id": "f9192b86",
      "metadata": {
        "id": "f9192b86",
        "outputId": "9183ac09-d736-4971-85b0-ac1bf44c5b78"
      },
      "outputs": [
        {
          "name": "stderr",
          "output_type": "stream",
          "text": [
            "C:\\Users\\43664\\anaconda3\\lib\\site-packages\\IPython\\core\\interactiveshell.py:3444: DtypeWarning: Columns (0) have mixed types.Specify dtype option on import or set low_memory=False.\n",
            "  exec(code_obj, self.user_global_ns, self.user_ns)\n"
          ]
        },
        {
          "data": {
            "text/html": [
              "<div>\n",
              "<style scoped>\n",
              "    .dataframe tbody tr th:only-of-type {\n",
              "        vertical-align: middle;\n",
              "    }\n",
              "\n",
              "    .dataframe tbody tr th {\n",
              "        vertical-align: top;\n",
              "    }\n",
              "\n",
              "    .dataframe thead th {\n",
              "        text-align: right;\n",
              "    }\n",
              "</style>\n",
              "<table border=\"1\" class=\"dataframe\">\n",
              "  <thead>\n",
              "    <tr style=\"text-align: right;\">\n",
              "      <th></th>\n",
              "      <th>test_id</th>\n",
              "      <th>question1</th>\n",
              "      <th>question2</th>\n",
              "    </tr>\n",
              "  </thead>\n",
              "  <tbody>\n",
              "    <tr>\n",
              "      <th>0</th>\n",
              "      <td>0</td>\n",
              "      <td>How does the Surface Pro himself 4 compare wit...</td>\n",
              "      <td>Why did Microsoft choose core m3 and not core ...</td>\n",
              "    </tr>\n",
              "    <tr>\n",
              "      <th>1</th>\n",
              "      <td>1</td>\n",
              "      <td>Should I have a hair transplant at age 24? How...</td>\n",
              "      <td>How much cost does hair transplant require?</td>\n",
              "    </tr>\n",
              "    <tr>\n",
              "      <th>2</th>\n",
              "      <td>2</td>\n",
              "      <td>What but is the best way to send money from Ch...</td>\n",
              "      <td>What you send money to China?</td>\n",
              "    </tr>\n",
              "    <tr>\n",
              "      <th>3</th>\n",
              "      <td>3</td>\n",
              "      <td>Which food not emulsifiers?</td>\n",
              "      <td>What foods fibre?</td>\n",
              "    </tr>\n",
              "    <tr>\n",
              "      <th>4</th>\n",
              "      <td>4</td>\n",
              "      <td>How \"aberystwyth\" start reading?</td>\n",
              "      <td>How their can I start reading?</td>\n",
              "    </tr>\n",
              "  </tbody>\n",
              "</table>\n",
              "</div>"
            ],
            "text/plain": [
              "  test_id                                          question1  \\\n",
              "0       0  How does the Surface Pro himself 4 compare wit...   \n",
              "1       1  Should I have a hair transplant at age 24? How...   \n",
              "2       2  What but is the best way to send money from Ch...   \n",
              "3       3                        Which food not emulsifiers?   \n",
              "4       4                   How \"aberystwyth\" start reading?   \n",
              "\n",
              "                                           question2  \n",
              "0  Why did Microsoft choose core m3 and not core ...  \n",
              "1        How much cost does hair transplant require?  \n",
              "2                      What you send money to China?  \n",
              "3                                  What foods fibre?  \n",
              "4                     How their can I start reading?  "
            ]
          },
          "execution_count": 4,
          "metadata": {},
          "output_type": "execute_result"
        }
      ],
      "source": [
        "raw_test_data = pd.read_csv('test.csv')\n",
        "raw_test_data.head(5)"
      ]
    },
    {
      "cell_type": "code",
      "execution_count": null,
      "id": "c3fecc41",
      "metadata": {
        "id": "c3fecc41",
        "outputId": "e5520779-01b7-4623-eb05-1484ce6ad7da"
      },
      "outputs": [
        {
          "name": "stdout",
          "output_type": "stream",
          "text": [
            "id              0\n",
            "qid1            0\n",
            "qid2            0\n",
            "question1       1\n",
            "question2       2\n",
            "is_duplicate    0\n",
            "dtype: int64\n"
          ]
        }
      ],
      "source": [
        "print(raw_train_data.isnull().sum())"
      ]
    },
    {
      "cell_type": "code",
      "execution_count": null,
      "id": "1c2c094d",
      "metadata": {
        "id": "1c2c094d",
        "outputId": "cc0e6a78-9cb6-4077-f3b6-aa77baae4ab6"
      },
      "outputs": [
        {
          "data": {
            "text/plain": [
              "test_id      0\n",
              "question1    4\n",
              "question2    6\n",
              "dtype: int64"
            ]
          },
          "execution_count": 5,
          "metadata": {},
          "output_type": "execute_result"
        }
      ],
      "source": [
        "raw_test_data.isnull().sum()"
      ]
    },
    {
      "cell_type": "markdown",
      "id": "b08d3586",
      "metadata": {
        "id": "b08d3586"
      },
      "source": [
        "## Data Preparation"
      ]
    },
    {
      "cell_type": "code",
      "execution_count": 6,
      "id": "5745c2c1",
      "metadata": {
        "scrolled": true,
        "id": "5745c2c1"
      },
      "outputs": [],
      "source": [
        "train_data = raw_train_data.dropna(axis=0)\n",
        "test_data = raw_train_data.dropna(axis=0)"
      ]
    },
    {
      "cell_type": "code",
      "execution_count": null,
      "id": "bcb03ad5",
      "metadata": {
        "id": "bcb03ad5",
        "outputId": "5145c708-fe7a-4c52-b2e2-7435b4437b59"
      },
      "outputs": [
        {
          "data": {
            "text/plain": [
              "id              0\n",
              "qid1            0\n",
              "qid2            0\n",
              "question1       0\n",
              "question2       0\n",
              "is_duplicate    0\n",
              "dtype: int64"
            ]
          },
          "execution_count": 100,
          "metadata": {},
          "output_type": "execute_result"
        }
      ],
      "source": [
        "train_data.isnull().sum()"
      ]
    },
    {
      "cell_type": "code",
      "execution_count": null,
      "id": "d9465ad5",
      "metadata": {
        "id": "d9465ad5",
        "outputId": "450b66d8-358f-49bd-80d0-5d5925936d86"
      },
      "outputs": [
        {
          "data": {
            "text/plain": [
              "id              0\n",
              "qid1            0\n",
              "qid2            0\n",
              "question1       0\n",
              "question2       0\n",
              "is_duplicate    0\n",
              "dtype: int64"
            ]
          },
          "execution_count": 9,
          "metadata": {},
          "output_type": "execute_result"
        }
      ],
      "source": [
        "test_data.isnull().sum()"
      ]
    },
    {
      "cell_type": "code",
      "execution_count": 7,
      "id": "0aef1ed7",
      "metadata": {
        "colab": {
          "base_uri": "https://localhost:8080/",
          "height": 206
        },
        "id": "0aef1ed7",
        "outputId": "7052eda5-6d2b-4ed3-9f3d-d80c6eedf724"
      },
      "outputs": [
        {
          "output_type": "execute_result",
          "data": {
            "text/plain": [
              "                                           question1  \\\n",
              "0  What is the step by step guide to invest in sh...   \n",
              "1  What is the story of Kohinoor (Koh-i-Noor) Dia...   \n",
              "2  How can I increase the speed of my internet co...   \n",
              "3  Why am I mentally very lonely? How can I solve...   \n",
              "4  Which one dissolve in water quikly sugar, salt...   \n",
              "\n",
              "                                           question2  is_duplicate  \n",
              "0  What is the step by step guide to invest in sh...             0  \n",
              "1  What would happen if the Indian government sto...             0  \n",
              "2  How can Internet speed be increased by hacking...             0  \n",
              "3  Find the remainder when [math]23^{24}[/math] i...             0  \n",
              "4            Which fish would survive in salt water?             0  "
            ],
            "text/html": [
              "\n",
              "  <div id=\"df-35967382-4adc-4468-9492-12ed58ab638a\">\n",
              "    <div class=\"colab-df-container\">\n",
              "      <div>\n",
              "<style scoped>\n",
              "    .dataframe tbody tr th:only-of-type {\n",
              "        vertical-align: middle;\n",
              "    }\n",
              "\n",
              "    .dataframe tbody tr th {\n",
              "        vertical-align: top;\n",
              "    }\n",
              "\n",
              "    .dataframe thead th {\n",
              "        text-align: right;\n",
              "    }\n",
              "</style>\n",
              "<table border=\"1\" class=\"dataframe\">\n",
              "  <thead>\n",
              "    <tr style=\"text-align: right;\">\n",
              "      <th></th>\n",
              "      <th>question1</th>\n",
              "      <th>question2</th>\n",
              "      <th>is_duplicate</th>\n",
              "    </tr>\n",
              "  </thead>\n",
              "  <tbody>\n",
              "    <tr>\n",
              "      <th>0</th>\n",
              "      <td>What is the step by step guide to invest in sh...</td>\n",
              "      <td>What is the step by step guide to invest in sh...</td>\n",
              "      <td>0</td>\n",
              "    </tr>\n",
              "    <tr>\n",
              "      <th>1</th>\n",
              "      <td>What is the story of Kohinoor (Koh-i-Noor) Dia...</td>\n",
              "      <td>What would happen if the Indian government sto...</td>\n",
              "      <td>0</td>\n",
              "    </tr>\n",
              "    <tr>\n",
              "      <th>2</th>\n",
              "      <td>How can I increase the speed of my internet co...</td>\n",
              "      <td>How can Internet speed be increased by hacking...</td>\n",
              "      <td>0</td>\n",
              "    </tr>\n",
              "    <tr>\n",
              "      <th>3</th>\n",
              "      <td>Why am I mentally very lonely? How can I solve...</td>\n",
              "      <td>Find the remainder when [math]23^{24}[/math] i...</td>\n",
              "      <td>0</td>\n",
              "    </tr>\n",
              "    <tr>\n",
              "      <th>4</th>\n",
              "      <td>Which one dissolve in water quikly sugar, salt...</td>\n",
              "      <td>Which fish would survive in salt water?</td>\n",
              "      <td>0</td>\n",
              "    </tr>\n",
              "  </tbody>\n",
              "</table>\n",
              "</div>\n",
              "      <button class=\"colab-df-convert\" onclick=\"convertToInteractive('df-35967382-4adc-4468-9492-12ed58ab638a')\"\n",
              "              title=\"Convert this dataframe to an interactive table.\"\n",
              "              style=\"display:none;\">\n",
              "        \n",
              "  <svg xmlns=\"http://www.w3.org/2000/svg\" height=\"24px\"viewBox=\"0 0 24 24\"\n",
              "       width=\"24px\">\n",
              "    <path d=\"M0 0h24v24H0V0z\" fill=\"none\"/>\n",
              "    <path d=\"M18.56 5.44l.94 2.06.94-2.06 2.06-.94-2.06-.94-.94-2.06-.94 2.06-2.06.94zm-11 1L8.5 8.5l.94-2.06 2.06-.94-2.06-.94L8.5 2.5l-.94 2.06-2.06.94zm10 10l.94 2.06.94-2.06 2.06-.94-2.06-.94-.94-2.06-.94 2.06-2.06.94z\"/><path d=\"M17.41 7.96l-1.37-1.37c-.4-.4-.92-.59-1.43-.59-.52 0-1.04.2-1.43.59L10.3 9.45l-7.72 7.72c-.78.78-.78 2.05 0 2.83L4 21.41c.39.39.9.59 1.41.59.51 0 1.02-.2 1.41-.59l7.78-7.78 2.81-2.81c.8-.78.8-2.07 0-2.86zM5.41 20L4 18.59l7.72-7.72 1.47 1.35L5.41 20z\"/>\n",
              "  </svg>\n",
              "      </button>\n",
              "      \n",
              "  <style>\n",
              "    .colab-df-container {\n",
              "      display:flex;\n",
              "      flex-wrap:wrap;\n",
              "      gap: 12px;\n",
              "    }\n",
              "\n",
              "    .colab-df-convert {\n",
              "      background-color: #E8F0FE;\n",
              "      border: none;\n",
              "      border-radius: 50%;\n",
              "      cursor: pointer;\n",
              "      display: none;\n",
              "      fill: #1967D2;\n",
              "      height: 32px;\n",
              "      padding: 0 0 0 0;\n",
              "      width: 32px;\n",
              "    }\n",
              "\n",
              "    .colab-df-convert:hover {\n",
              "      background-color: #E2EBFA;\n",
              "      box-shadow: 0px 1px 2px rgba(60, 64, 67, 0.3), 0px 1px 3px 1px rgba(60, 64, 67, 0.15);\n",
              "      fill: #174EA6;\n",
              "    }\n",
              "\n",
              "    [theme=dark] .colab-df-convert {\n",
              "      background-color: #3B4455;\n",
              "      fill: #D2E3FC;\n",
              "    }\n",
              "\n",
              "    [theme=dark] .colab-df-convert:hover {\n",
              "      background-color: #434B5C;\n",
              "      box-shadow: 0px 1px 3px 1px rgba(0, 0, 0, 0.15);\n",
              "      filter: drop-shadow(0px 1px 2px rgba(0, 0, 0, 0.3));\n",
              "      fill: #FFFFFF;\n",
              "    }\n",
              "  </style>\n",
              "\n",
              "      <script>\n",
              "        const buttonEl =\n",
              "          document.querySelector('#df-35967382-4adc-4468-9492-12ed58ab638a button.colab-df-convert');\n",
              "        buttonEl.style.display =\n",
              "          google.colab.kernel.accessAllowed ? 'block' : 'none';\n",
              "\n",
              "        async function convertToInteractive(key) {\n",
              "          const element = document.querySelector('#df-35967382-4adc-4468-9492-12ed58ab638a');\n",
              "          const dataTable =\n",
              "            await google.colab.kernel.invokeFunction('convertToInteractive',\n",
              "                                                     [key], {});\n",
              "          if (!dataTable) return;\n",
              "\n",
              "          const docLinkHtml = 'Like what you see? Visit the ' +\n",
              "            '<a target=\"_blank\" href=https://colab.research.google.com/notebooks/data_table.ipynb>data table notebook</a>'\n",
              "            + ' to learn more about interactive tables.';\n",
              "          element.innerHTML = '';\n",
              "          dataTable['output_type'] = 'display_data';\n",
              "          await google.colab.output.renderOutput(dataTable, element);\n",
              "          const docLink = document.createElement('div');\n",
              "          docLink.innerHTML = docLinkHtml;\n",
              "          element.appendChild(docLink);\n",
              "        }\n",
              "      </script>\n",
              "    </div>\n",
              "  </div>\n",
              "  "
            ]
          },
          "metadata": {},
          "execution_count": 7
        }
      ],
      "source": [
        "train_data = train_data.drop(['id', 'qid1', 'qid2'], axis=1)\n",
        "train_data.head(5)"
      ]
    },
    {
      "cell_type": "code",
      "execution_count": null,
      "id": "93b2e97e",
      "metadata": {
        "id": "93b2e97e",
        "outputId": "11f3752b-b950-4fe1-a267-5d5cb802c9dc"
      },
      "outputs": [
        {
          "data": {
            "text/plain": [
              "'What is the step by step guide to invest in share market in india?'"
            ]
          },
          "execution_count": 104,
          "metadata": {},
          "output_type": "execute_result"
        }
      ],
      "source": [
        "train_data['question1'].iloc[0]"
      ]
    },
    {
      "cell_type": "code",
      "execution_count": 8,
      "id": "e7b9f3bd",
      "metadata": {
        "id": "e7b9f3bd"
      },
      "outputs": [],
      "source": [
        "train_copy = train_data.copy()"
      ]
    },
    {
      "cell_type": "markdown",
      "id": "fb9b8643",
      "metadata": {
        "id": "fb9b8643"
      },
      "source": [
        "## Text Preparation"
      ]
    },
    {
      "cell_type": "code",
      "execution_count": 9,
      "id": "ed42e01b",
      "metadata": {
        "id": "ed42e01b"
      },
      "outputs": [],
      "source": [
        "## REMOVE ACCENTED CHARACTERS Sómě Áccěntěd těxt ##\n",
        "import unicodedata\n",
        "\n",
        "def remove_accented_chars_func(text):\n",
        "    return unicodedata.normalize('NFKD', str(text)).encode('ascii', 'ignore').decode('utf-8', 'ignore')\n",
        "\n",
        "## REMOVE PUNCTUATION ##\n",
        "\n",
        "def remove_punctuation_func(text):\n",
        "    return re.sub(r'[^a-zA-Z0-9]', ' ', str(text))\n",
        "\n",
        "## REMOVE IRRELEVANT CHARACTERS \n",
        "\n",
        "def remove_irr_char_func(text):\n",
        "    return re.sub(r'[^a-zA-Z]', ' ', str(text))\n",
        "\n",
        "## REMOVE EXTRA WHITESPACEs ##\n",
        "\n",
        "def remove_extra_whitespaces_func(text):\n",
        "    return re.sub(r'^\\s*|\\s\\s*', ' ', str(text)).strip()\n",
        "\n",
        "## COUNT OF STRINGS ##\n",
        "\n",
        "def word_count_func(text):\n",
        "    return len(str(text).split())"
      ]
    },
    {
      "cell_type": "code",
      "execution_count": 10,
      "id": "695543c4",
      "metadata": {
        "colab": {
          "base_uri": "https://localhost:8080/",
          "height": 206
        },
        "id": "695543c4",
        "outputId": "4fac3e0f-07e5-4d30-c53f-f07d558aba93"
      },
      "outputs": [
        {
          "output_type": "execute_result",
          "data": {
            "text/plain": [
              "                                           question1  \\\n",
              "0  what is the step by step guide to invest in sh...   \n",
              "1   what is the story of kohinoor koh i noor diamond   \n",
              "2  how can i increase the speed of my internet co...   \n",
              "3   why am i mentally very lonely how can i solve it   \n",
              "4  which one dissolve in water quikly sugar salt ...   \n",
              "\n",
              "                                           question2  is_duplicate  \n",
              "0  what is the step by step guide to invest in sh...             0  \n",
              "1  what would happen if the indian government sto...             0  \n",
              "2  how can internet speed be increased by hacking...             0  \n",
              "3    find the remainder when math math is divided by             0  \n",
              "4             which fish would survive in salt water             0  "
            ],
            "text/html": [
              "\n",
              "  <div id=\"df-7c2de738-f6c2-4353-a056-151e9bb481e9\">\n",
              "    <div class=\"colab-df-container\">\n",
              "      <div>\n",
              "<style scoped>\n",
              "    .dataframe tbody tr th:only-of-type {\n",
              "        vertical-align: middle;\n",
              "    }\n",
              "\n",
              "    .dataframe tbody tr th {\n",
              "        vertical-align: top;\n",
              "    }\n",
              "\n",
              "    .dataframe thead th {\n",
              "        text-align: right;\n",
              "    }\n",
              "</style>\n",
              "<table border=\"1\" class=\"dataframe\">\n",
              "  <thead>\n",
              "    <tr style=\"text-align: right;\">\n",
              "      <th></th>\n",
              "      <th>question1</th>\n",
              "      <th>question2</th>\n",
              "      <th>is_duplicate</th>\n",
              "    </tr>\n",
              "  </thead>\n",
              "  <tbody>\n",
              "    <tr>\n",
              "      <th>0</th>\n",
              "      <td>what is the step by step guide to invest in sh...</td>\n",
              "      <td>what is the step by step guide to invest in sh...</td>\n",
              "      <td>0</td>\n",
              "    </tr>\n",
              "    <tr>\n",
              "      <th>1</th>\n",
              "      <td>what is the story of kohinoor koh i noor diamond</td>\n",
              "      <td>what would happen if the indian government sto...</td>\n",
              "      <td>0</td>\n",
              "    </tr>\n",
              "    <tr>\n",
              "      <th>2</th>\n",
              "      <td>how can i increase the speed of my internet co...</td>\n",
              "      <td>how can internet speed be increased by hacking...</td>\n",
              "      <td>0</td>\n",
              "    </tr>\n",
              "    <tr>\n",
              "      <th>3</th>\n",
              "      <td>why am i mentally very lonely how can i solve it</td>\n",
              "      <td>find the remainder when math math is divided by</td>\n",
              "      <td>0</td>\n",
              "    </tr>\n",
              "    <tr>\n",
              "      <th>4</th>\n",
              "      <td>which one dissolve in water quikly sugar salt ...</td>\n",
              "      <td>which fish would survive in salt water</td>\n",
              "      <td>0</td>\n",
              "    </tr>\n",
              "  </tbody>\n",
              "</table>\n",
              "</div>\n",
              "      <button class=\"colab-df-convert\" onclick=\"convertToInteractive('df-7c2de738-f6c2-4353-a056-151e9bb481e9')\"\n",
              "              title=\"Convert this dataframe to an interactive table.\"\n",
              "              style=\"display:none;\">\n",
              "        \n",
              "  <svg xmlns=\"http://www.w3.org/2000/svg\" height=\"24px\"viewBox=\"0 0 24 24\"\n",
              "       width=\"24px\">\n",
              "    <path d=\"M0 0h24v24H0V0z\" fill=\"none\"/>\n",
              "    <path d=\"M18.56 5.44l.94 2.06.94-2.06 2.06-.94-2.06-.94-.94-2.06-.94 2.06-2.06.94zm-11 1L8.5 8.5l.94-2.06 2.06-.94-2.06-.94L8.5 2.5l-.94 2.06-2.06.94zm10 10l.94 2.06.94-2.06 2.06-.94-2.06-.94-.94-2.06-.94 2.06-2.06.94z\"/><path d=\"M17.41 7.96l-1.37-1.37c-.4-.4-.92-.59-1.43-.59-.52 0-1.04.2-1.43.59L10.3 9.45l-7.72 7.72c-.78.78-.78 2.05 0 2.83L4 21.41c.39.39.9.59 1.41.59.51 0 1.02-.2 1.41-.59l7.78-7.78 2.81-2.81c.8-.78.8-2.07 0-2.86zM5.41 20L4 18.59l7.72-7.72 1.47 1.35L5.41 20z\"/>\n",
              "  </svg>\n",
              "      </button>\n",
              "      \n",
              "  <style>\n",
              "    .colab-df-container {\n",
              "      display:flex;\n",
              "      flex-wrap:wrap;\n",
              "      gap: 12px;\n",
              "    }\n",
              "\n",
              "    .colab-df-convert {\n",
              "      background-color: #E8F0FE;\n",
              "      border: none;\n",
              "      border-radius: 50%;\n",
              "      cursor: pointer;\n",
              "      display: none;\n",
              "      fill: #1967D2;\n",
              "      height: 32px;\n",
              "      padding: 0 0 0 0;\n",
              "      width: 32px;\n",
              "    }\n",
              "\n",
              "    .colab-df-convert:hover {\n",
              "      background-color: #E2EBFA;\n",
              "      box-shadow: 0px 1px 2px rgba(60, 64, 67, 0.3), 0px 1px 3px 1px rgba(60, 64, 67, 0.15);\n",
              "      fill: #174EA6;\n",
              "    }\n",
              "\n",
              "    [theme=dark] .colab-df-convert {\n",
              "      background-color: #3B4455;\n",
              "      fill: #D2E3FC;\n",
              "    }\n",
              "\n",
              "    [theme=dark] .colab-df-convert:hover {\n",
              "      background-color: #434B5C;\n",
              "      box-shadow: 0px 1px 3px 1px rgba(0, 0, 0, 0.15);\n",
              "      filter: drop-shadow(0px 1px 2px rgba(0, 0, 0, 0.3));\n",
              "      fill: #FFFFFF;\n",
              "    }\n",
              "  </style>\n",
              "\n",
              "      <script>\n",
              "        const buttonEl =\n",
              "          document.querySelector('#df-7c2de738-f6c2-4353-a056-151e9bb481e9 button.colab-df-convert');\n",
              "        buttonEl.style.display =\n",
              "          google.colab.kernel.accessAllowed ? 'block' : 'none';\n",
              "\n",
              "        async function convertToInteractive(key) {\n",
              "          const element = document.querySelector('#df-7c2de738-f6c2-4353-a056-151e9bb481e9');\n",
              "          const dataTable =\n",
              "            await google.colab.kernel.invokeFunction('convertToInteractive',\n",
              "                                                     [key], {});\n",
              "          if (!dataTable) return;\n",
              "\n",
              "          const docLinkHtml = 'Like what you see? Visit the ' +\n",
              "            '<a target=\"_blank\" href=https://colab.research.google.com/notebooks/data_table.ipynb>data table notebook</a>'\n",
              "            + ' to learn more about interactive tables.';\n",
              "          element.innerHTML = '';\n",
              "          dataTable['output_type'] = 'display_data';\n",
              "          await google.colab.output.renderOutput(dataTable, element);\n",
              "          const docLink = document.createElement('div');\n",
              "          docLink.innerHTML = docLinkHtml;\n",
              "          element.appendChild(docLink);\n",
              "        }\n",
              "      </script>\n",
              "    </div>\n",
              "  </div>\n",
              "  "
            ]
          },
          "metadata": {},
          "execution_count": 10
        }
      ],
      "source": [
        "train_copy['question1'] = train_copy['question1'].str.lower()\n",
        "train_copy['question2'] = train_copy['question2'].str.lower()\n",
        "\n",
        "train_copy['question1'] = train_copy['question1'].apply(remove_accented_chars_func)\n",
        "train_copy['question2'] = train_copy['question2'].apply(remove_accented_chars_func)\n",
        "\n",
        "train_copy['question1'] = train_copy['question1'].apply(remove_punctuation_func)\n",
        "train_copy['question2'] = train_copy['question2'].apply(remove_punctuation_func)\n",
        "\n",
        "train_copy['question1'] = train_copy['question1'].apply(remove_irr_char_func)\n",
        "train_copy['question2'] = train_copy['question2'].apply(remove_irr_char_func)\n",
        "\n",
        "train_copy['question1'] = train_copy['question1'].apply(remove_extra_whitespaces_func)\n",
        "train_copy['question2'] = train_copy['question2'].apply(remove_extra_whitespaces_func)\n",
        "\n",
        "train_copy.head(5)"
      ]
    },
    {
      "cell_type": "markdown",
      "id": "ec85816a",
      "metadata": {
        "id": "ec85816a"
      },
      "source": [
        "## Split data"
      ]
    },
    {
      "cell_type": "code",
      "execution_count": 11,
      "id": "5e209d87",
      "metadata": {
        "colab": {
          "base_uri": "https://localhost:8080/",
          "height": 206
        },
        "id": "5e209d87",
        "outputId": "7397f869-f931-4984-f731-a11c20e84f21"
      },
      "outputs": [
        {
          "output_type": "execute_result",
          "data": {
            "text/plain": [
              "                                           question1  \\\n",
              "0  what is the step by step guide to invest in sh...   \n",
              "1   what is the story of kohinoor koh i noor diamond   \n",
              "2  how can i increase the speed of my internet co...   \n",
              "3   why am i mentally very lonely how can i solve it   \n",
              "4  which one dissolve in water quikly sugar salt ...   \n",
              "\n",
              "                                           question2  \n",
              "0  what is the step by step guide to invest in sh...  \n",
              "1  what would happen if the indian government sto...  \n",
              "2  how can internet speed be increased by hacking...  \n",
              "3    find the remainder when math math is divided by  \n",
              "4             which fish would survive in salt water  "
            ],
            "text/html": [
              "\n",
              "  <div id=\"df-ef824166-c364-4223-96d6-8bc4f8de975f\">\n",
              "    <div class=\"colab-df-container\">\n",
              "      <div>\n",
              "<style scoped>\n",
              "    .dataframe tbody tr th:only-of-type {\n",
              "        vertical-align: middle;\n",
              "    }\n",
              "\n",
              "    .dataframe tbody tr th {\n",
              "        vertical-align: top;\n",
              "    }\n",
              "\n",
              "    .dataframe thead th {\n",
              "        text-align: right;\n",
              "    }\n",
              "</style>\n",
              "<table border=\"1\" class=\"dataframe\">\n",
              "  <thead>\n",
              "    <tr style=\"text-align: right;\">\n",
              "      <th></th>\n",
              "      <th>question1</th>\n",
              "      <th>question2</th>\n",
              "    </tr>\n",
              "  </thead>\n",
              "  <tbody>\n",
              "    <tr>\n",
              "      <th>0</th>\n",
              "      <td>what is the step by step guide to invest in sh...</td>\n",
              "      <td>what is the step by step guide to invest in sh...</td>\n",
              "    </tr>\n",
              "    <tr>\n",
              "      <th>1</th>\n",
              "      <td>what is the story of kohinoor koh i noor diamond</td>\n",
              "      <td>what would happen if the indian government sto...</td>\n",
              "    </tr>\n",
              "    <tr>\n",
              "      <th>2</th>\n",
              "      <td>how can i increase the speed of my internet co...</td>\n",
              "      <td>how can internet speed be increased by hacking...</td>\n",
              "    </tr>\n",
              "    <tr>\n",
              "      <th>3</th>\n",
              "      <td>why am i mentally very lonely how can i solve it</td>\n",
              "      <td>find the remainder when math math is divided by</td>\n",
              "    </tr>\n",
              "    <tr>\n",
              "      <th>4</th>\n",
              "      <td>which one dissolve in water quikly sugar salt ...</td>\n",
              "      <td>which fish would survive in salt water</td>\n",
              "    </tr>\n",
              "  </tbody>\n",
              "</table>\n",
              "</div>\n",
              "      <button class=\"colab-df-convert\" onclick=\"convertToInteractive('df-ef824166-c364-4223-96d6-8bc4f8de975f')\"\n",
              "              title=\"Convert this dataframe to an interactive table.\"\n",
              "              style=\"display:none;\">\n",
              "        \n",
              "  <svg xmlns=\"http://www.w3.org/2000/svg\" height=\"24px\"viewBox=\"0 0 24 24\"\n",
              "       width=\"24px\">\n",
              "    <path d=\"M0 0h24v24H0V0z\" fill=\"none\"/>\n",
              "    <path d=\"M18.56 5.44l.94 2.06.94-2.06 2.06-.94-2.06-.94-.94-2.06-.94 2.06-2.06.94zm-11 1L8.5 8.5l.94-2.06 2.06-.94-2.06-.94L8.5 2.5l-.94 2.06-2.06.94zm10 10l.94 2.06.94-2.06 2.06-.94-2.06-.94-.94-2.06-.94 2.06-2.06.94z\"/><path d=\"M17.41 7.96l-1.37-1.37c-.4-.4-.92-.59-1.43-.59-.52 0-1.04.2-1.43.59L10.3 9.45l-7.72 7.72c-.78.78-.78 2.05 0 2.83L4 21.41c.39.39.9.59 1.41.59.51 0 1.02-.2 1.41-.59l7.78-7.78 2.81-2.81c.8-.78.8-2.07 0-2.86zM5.41 20L4 18.59l7.72-7.72 1.47 1.35L5.41 20z\"/>\n",
              "  </svg>\n",
              "      </button>\n",
              "      \n",
              "  <style>\n",
              "    .colab-df-container {\n",
              "      display:flex;\n",
              "      flex-wrap:wrap;\n",
              "      gap: 12px;\n",
              "    }\n",
              "\n",
              "    .colab-df-convert {\n",
              "      background-color: #E8F0FE;\n",
              "      border: none;\n",
              "      border-radius: 50%;\n",
              "      cursor: pointer;\n",
              "      display: none;\n",
              "      fill: #1967D2;\n",
              "      height: 32px;\n",
              "      padding: 0 0 0 0;\n",
              "      width: 32px;\n",
              "    }\n",
              "\n",
              "    .colab-df-convert:hover {\n",
              "      background-color: #E2EBFA;\n",
              "      box-shadow: 0px 1px 2px rgba(60, 64, 67, 0.3), 0px 1px 3px 1px rgba(60, 64, 67, 0.15);\n",
              "      fill: #174EA6;\n",
              "    }\n",
              "\n",
              "    [theme=dark] .colab-df-convert {\n",
              "      background-color: #3B4455;\n",
              "      fill: #D2E3FC;\n",
              "    }\n",
              "\n",
              "    [theme=dark] .colab-df-convert:hover {\n",
              "      background-color: #434B5C;\n",
              "      box-shadow: 0px 1px 3px 1px rgba(0, 0, 0, 0.15);\n",
              "      filter: drop-shadow(0px 1px 2px rgba(0, 0, 0, 0.3));\n",
              "      fill: #FFFFFF;\n",
              "    }\n",
              "  </style>\n",
              "\n",
              "      <script>\n",
              "        const buttonEl =\n",
              "          document.querySelector('#df-ef824166-c364-4223-96d6-8bc4f8de975f button.colab-df-convert');\n",
              "        buttonEl.style.display =\n",
              "          google.colab.kernel.accessAllowed ? 'block' : 'none';\n",
              "\n",
              "        async function convertToInteractive(key) {\n",
              "          const element = document.querySelector('#df-ef824166-c364-4223-96d6-8bc4f8de975f');\n",
              "          const dataTable =\n",
              "            await google.colab.kernel.invokeFunction('convertToInteractive',\n",
              "                                                     [key], {});\n",
              "          if (!dataTable) return;\n",
              "\n",
              "          const docLinkHtml = 'Like what you see? Visit the ' +\n",
              "            '<a target=\"_blank\" href=https://colab.research.google.com/notebooks/data_table.ipynb>data table notebook</a>'\n",
              "            + ' to learn more about interactive tables.';\n",
              "          element.innerHTML = '';\n",
              "          dataTable['output_type'] = 'display_data';\n",
              "          await google.colab.output.renderOutput(dataTable, element);\n",
              "          const docLink = document.createElement('div');\n",
              "          docLink.innerHTML = docLinkHtml;\n",
              "          element.appendChild(docLink);\n",
              "        }\n",
              "      </script>\n",
              "    </div>\n",
              "  </div>\n",
              "  "
            ]
          },
          "metadata": {},
          "execution_count": 11
        }
      ],
      "source": [
        "features = ['question1', 'question2']\n",
        "\n",
        "X_data = train_copy[features]\n",
        "X_data.head()"
      ]
    },
    {
      "cell_type": "code",
      "execution_count": 12,
      "id": "e9472ca7",
      "metadata": {
        "colab": {
          "base_uri": "https://localhost:8080/"
        },
        "id": "e9472ca7",
        "outputId": "696d9463-dba0-43ea-e222-4123b76f7df1"
      },
      "outputs": [
        {
          "output_type": "execute_result",
          "data": {
            "text/plain": [
              "0    0\n",
              "1    0\n",
              "2    0\n",
              "3    0\n",
              "4    0\n",
              "Name: is_duplicate, dtype: int64"
            ]
          },
          "metadata": {},
          "execution_count": 12
        }
      ],
      "source": [
        "y_data = train_copy['is_duplicate']\n",
        "y_data.head(5)"
      ]
    },
    {
      "cell_type": "code",
      "execution_count": 13,
      "id": "f29440ad",
      "metadata": {
        "colab": {
          "base_uri": "https://localhost:8080/"
        },
        "id": "f29440ad",
        "outputId": "71ac80ba-45aa-46f9-f3a9-07b134ebf15b"
      },
      "outputs": [
        {
          "output_type": "stream",
          "name": "stdout",
          "text": [
            "Whole dataset:  404287\n",
            "X_train size = 8085\n",
            "X_split size = 396202\n",
            "y_train size = 8085\n",
            "y_split size = 396202\n"
          ]
        }
      ],
      "source": [
        "# Split the set into train and split data into 60/40, random_state 0\n",
        "\n",
        "from sklearn.model_selection import train_test_split\n",
        "X_train, X_split, y_train, y_split = train_test_split(X_data, y_data, test_size=0.98, random_state = 0)  ## cambiar test size\n",
        "\n",
        "print(\"Whole dataset: \", len(train_copy))\n",
        "print(\"X_train size =\", len(X_train))\n",
        "print(\"X_split size =\", len(X_split))\n",
        "print(\"y_train size =\", len(y_train))\n",
        "print(\"y_split size =\", len(y_split))"
      ]
    },
    {
      "cell_type": "code",
      "execution_count": null,
      "id": "7db3871b",
      "metadata": {
        "id": "7db3871b",
        "outputId": "a78f7d44-9f1c-405f-da39-f8f559adc281"
      },
      "outputs": [
        {
          "name": "stdout",
          "output_type": "stream",
          "text": [
            "Whole dataset:  404287\n",
            "X_test size = 80857\n",
            "X_val size = 80858\n",
            "y_test size = 80857\n",
            "y_val size = 80858\n"
          ]
        }
      ],
      "source": [
        "# Split the set into test and validation into 50/50 (from 40% of the splitted data), random_state 0\n",
        "\n",
        "from sklearn.model_selection import train_test_split\n",
        "X_test, X_val, y_test, y_val = train_test_split(X_split, y_split, test_size=0.50, random_state = 0)\n",
        "\n",
        "print(\"Whole dataset: \", len(train_copy))\n",
        "print(\"X_test size =\", len(X_test))\n",
        "print(\"X_val size =\", len(X_val))\n",
        "print(\"y_test size =\", len(y_test))\n",
        "print(\"y_val size =\", len(y_val))"
      ]
    },
    {
      "cell_type": "code",
      "execution_count": null,
      "id": "192a5593",
      "metadata": {
        "id": "192a5593",
        "outputId": "520db68c-54c5-4ded-f18f-74e29c68fbfc"
      },
      "outputs": [
        {
          "data": {
            "text/html": [
              "<div>\n",
              "<style scoped>\n",
              "    .dataframe tbody tr th:only-of-type {\n",
              "        vertical-align: middle;\n",
              "    }\n",
              "\n",
              "    .dataframe tbody tr th {\n",
              "        vertical-align: top;\n",
              "    }\n",
              "\n",
              "    .dataframe thead th {\n",
              "        text-align: right;\n",
              "    }\n",
              "</style>\n",
              "<table border=\"1\" class=\"dataframe\">\n",
              "  <thead>\n",
              "    <tr style=\"text-align: right;\">\n",
              "      <th></th>\n",
              "      <th>question1</th>\n",
              "      <th>question2</th>\n",
              "    </tr>\n",
              "  </thead>\n",
              "  <tbody>\n",
              "    <tr>\n",
              "      <th>189347</th>\n",
              "      <td>what are the most asked mainframe interview qu...</td>\n",
              "      <td>what is the most asked question in an interview</td>\n",
              "    </tr>\n",
              "    <tr>\n",
              "      <th>327140</th>\n",
              "      <td>how long should i wait for my bitcoin core wal...</td>\n",
              "      <td>can one set up a bitcoin wallet under false id...</td>\n",
              "    </tr>\n",
              "    <tr>\n",
              "      <th>126940</th>\n",
              "      <td>i got selected for internship at inria th june...</td>\n",
              "      <td>i got selected for internship at inria th june...</td>\n",
              "    </tr>\n",
              "    <tr>\n",
              "      <th>78406</th>\n",
              "      <td>how do you stay fit if you don t like the gym</td>\n",
              "      <td>how can i stay fit with out going gym</td>\n",
              "    </tr>\n",
              "    <tr>\n",
              "      <th>372855</th>\n",
              "      <td>what is the best budget hotels in cochin for a...</td>\n",
              "      <td>what is the best budget hotels in mussoorie fo...</td>\n",
              "    </tr>\n",
              "  </tbody>\n",
              "</table>\n",
              "</div>"
            ],
            "text/plain": [
              "                                                question1  \\\n",
              "189347  what are the most asked mainframe interview qu...   \n",
              "327140  how long should i wait for my bitcoin core wal...   \n",
              "126940  i got selected for internship at inria th june...   \n",
              "78406       how do you stay fit if you don t like the gym   \n",
              "372855  what is the best budget hotels in cochin for a...   \n",
              "\n",
              "                                                question2  \n",
              "189347    what is the most asked question in an interview  \n",
              "327140  can one set up a bitcoin wallet under false id...  \n",
              "126940  i got selected for internship at inria th june...  \n",
              "78406               how can i stay fit with out going gym  \n",
              "372855  what is the best budget hotels in mussoorie fo...  "
            ]
          },
          "execution_count": 143,
          "metadata": {},
          "output_type": "execute_result"
        }
      ],
      "source": [
        "X_val.head(5)"
      ]
    },
    {
      "cell_type": "markdown",
      "id": "bf6c947d",
      "metadata": {
        "id": "bf6c947d"
      },
      "source": [
        "## Text Normalization"
      ]
    },
    {
      "cell_type": "markdown",
      "id": "c930da31",
      "metadata": {
        "id": "c930da31"
      },
      "source": [
        "## Tokenization"
      ]
    },
    {
      "cell_type": "code",
      "execution_count": 14,
      "id": "a98d56e7",
      "metadata": {
        "id": "a98d56e7"
      },
      "outputs": [],
      "source": [
        "### X_train ###\n",
        "## QUESTION 1 ##\n",
        "X_train_text_q1 = X_train['question1'] \n",
        "\n",
        "X_train_q1 = []\n",
        "\n",
        "for sent_train_q1 in X_train_text_q1:\n",
        "    \n",
        "    #lowercase\n",
        "    #sent = sent.lower()\n",
        "  \n",
        "    sent_train_q1 = sent_train_q1.translate(str.maketrans('', '', string.punctuation))\n",
        "\n",
        "  ## tokenize ##\n",
        "    train_tokens_q1 = nltk.word_tokenize(sent_train_q1)\n",
        "\n",
        "  ## remove stop-words ##\n",
        "    english_stopwords = stopwords.words('english')\n",
        "    #english_stopwords = english_stopwords + ['did', 'could', 'would', 'have', 'had', 'has', 'might', 'should', 'was', 'were', 'does', 'much', 'br', 'n']\n",
        "    train_tokens_q1 = [el for el in train_tokens_q1 if not el in english_stopwords]\n",
        "\n",
        "  ## lemmatization ##\n",
        " \n",
        "    #train_tokens_lemma_q1 = [wnl.lemmatize(el, get_wordnet_pos(nltk.pos_tag([el])[0][1])) for el in train_tokens_q1]\n",
        "\n",
        "  ## add to output list ##\n",
        "    X_train_q1.append(\" \".join(train_tokens_q1))"
      ]
    },
    {
      "cell_type": "code",
      "execution_count": 15,
      "id": "e8fce6a4",
      "metadata": {
        "id": "e8fce6a4"
      },
      "outputs": [],
      "source": [
        "### X_train ###\n",
        "## QUESTION 2 ##\n",
        "X_train_text_q2 = X_train['question2'] \n",
        "\n",
        "X_train_q2 = []\n",
        "\n",
        "for sent_train_q2 in X_train_text_q2:\n",
        "    \n",
        "    #lowercase\n",
        "    #sent = sent.lower()\n",
        "  \n",
        "    sent_train_q2 = sent_train_q2.translate(str.maketrans('', '', string.punctuation))\n",
        "\n",
        "  ## tokenize ##\n",
        "    train_tokens_q2 = nltk.word_tokenize(sent_train_q2)\n",
        "\n",
        "  ## remove stop-words ##\n",
        "    english_stopwords = stopwords.words('english')\n",
        "    #english_stopwords = english_stopwords + ['did', 'could', 'would', 'have', 'had', 'has', 'might', 'should', 'was', 'were', 'does', 'much', 'br', 'n']\n",
        "    train_tokens_q2 = [el for el in train_tokens_q2 if not el in english_stopwords]\n",
        "\n",
        "  ## lemmatization ##\n",
        " \n",
        "    #train_tokens_lemma_q2 = [wnl.lemmatize(el, get_wordnet_pos(nltk.pos_tag([el])[0][1])) for el in train_tokens_q1]\n",
        "\n",
        "  ## add to output list ##\n",
        "    X_train_q2.append(\" \".join(train_tokens_q2))"
      ]
    },
    {
      "cell_type": "code",
      "execution_count": null,
      "id": "b219b59f",
      "metadata": {
        "id": "b219b59f"
      },
      "outputs": [],
      "source": [
        "### X_test ###\n",
        "## QUESTION 1 ##\n",
        "X_test_text_q1 = X_test['question1'] \n",
        "\n",
        "X_test_q1 = []\n",
        "\n",
        "for sent_test_q1 in X_test_text_q1:\n",
        "    \n",
        "    #lowercase\n",
        "    #sent = sent.lower()\n",
        "  \n",
        "    sent_test_q1 = sent_test_q1.translate(str.maketrans('', '', string.punctuation))\n",
        "\n",
        "  ## tokenize ##\n",
        "    test_tokens_q1 = nltk.word_tokenize(sent_test_q1)\n",
        "\n",
        "  ## remove stop-words ##\n",
        "    english_stopwords = stopwords.words('english')\n",
        "    #english_stopwords = english_stopwords + ['did', 'could', 'would', 'have', 'had', 'has', 'might', 'should', 'was', 'were', 'does', 'much', 'br', 'n']\n",
        "    test_tokens_q1 = [el for el in test_tokens_q1 if not el in english_stopwords]\n",
        "\n",
        "  ## lemmatization ##\n",
        " \n",
        "    #test_tokens_lemma_q1 = [wnl.lemmatize(el, get_wordnet_pos(nltk.pos_tag([el])[0][1])) for el in test_tokens_q1]\n",
        "\n",
        "  ## add to output list ##\n",
        "    X_test_q1.append(\" \".join(test_tokens_q1))"
      ]
    },
    {
      "cell_type": "code",
      "execution_count": null,
      "id": "e49b1549",
      "metadata": {
        "id": "e49b1549"
      },
      "outputs": [],
      "source": [
        "### X_test ###\n",
        "## QUESTION 1 ##\n",
        "X_test_text_q2 = X_test['question2'] \n",
        "\n",
        "X_test_q2 = []\n",
        "\n",
        "for sent_test_q2 in X_test_text_q2:\n",
        "    \n",
        "    #lowercase\n",
        "    #sent = sent.lower()\n",
        "  \n",
        "    sent_test_q2 = sent_test_q2.translate(str.maketrans('', '', string.punctuation))\n",
        "\n",
        "  ## tokenize ##\n",
        "    test_tokens_q2 = nltk.word_tokenize(sent_test_q2)\n",
        "\n",
        "  ## remove stop-words ##\n",
        "    english_stopwords = stopwords.words('english')\n",
        "    #english_stopwords = english_stopwords + ['did', 'could', 'would', 'have', 'had', 'has', 'might', 'should', 'was', 'were', 'does', 'much', 'br', 'n']\n",
        "    test_tokens_q2 = [el for el in test_tokens_q2 if not el in english_stopwords]\n",
        "\n",
        "  ## lemmatization ##\n",
        " \n",
        "    #test_tokens_lemma_q2 = [wnl.lemmatize(el, get_wordnet_pos(nltk.pos_tag([el])[0][1])) for el in test_tokens_q2]\n",
        "\n",
        "  ## add to output list ##\n",
        "    X_test_q2.append(\" \".join(test_tokens_q2))"
      ]
    },
    {
      "cell_type": "code",
      "execution_count": null,
      "id": "d5479cad",
      "metadata": {
        "id": "d5479cad"
      },
      "outputs": [],
      "source": [
        "### X_val ###\n",
        "## QUESTION 1 ##\n",
        "X_val_text_q1 = X_val['question1'] \n",
        "\n",
        "X_val_q1 = []\n",
        "\n",
        "for sent_val_q1 in X_val_text_q1:\n",
        "    \n",
        "    #lowercase\n",
        "    #sent = sent.lower()\n",
        "  \n",
        "    sent_val_q1 = sent_val_q1.translate(str.maketrans('', '', string.punctuation))\n",
        "\n",
        "  ## tokenize ##\n",
        "    val_tokens_q1 = nltk.word_tokenize(sent_val_q1)\n",
        "\n",
        "  ## remove stop-words ##\n",
        "    english_stopwords = stopwords.words('english')\n",
        "    #english_stopwords = english_stopwords + ['did', 'could', 'would', 'have', 'had', 'has', 'might', 'should', 'was', 'were', 'does', 'much', 'br', 'n']\n",
        "    val_tokens_q1 = [el for el in val_tokens_q1 if not el in english_stopwords]\n",
        "\n",
        "  ## lemmatization ##\n",
        " \n",
        "    #val_tokens_lemma_q1 = [wnl.lemmatize(el, get_wordnet_pos(nltk.pos_tag([el])[0][1])) for el in val_tokens_q1]\n",
        "\n",
        "  ## add to output list ##\n",
        "    X_val_q1.append(\" \".join(val_tokens_q1))"
      ]
    },
    {
      "cell_type": "code",
      "execution_count": null,
      "id": "ad820fd4",
      "metadata": {
        "id": "ad820fd4"
      },
      "outputs": [],
      "source": [
        "### X_val ###\n",
        "## QUESTION 2 ##\n",
        "X_val_text_q2 = X_val['question2'] \n",
        "\n",
        "X_val_q2 = []\n",
        "\n",
        "for sent_val_q2 in X_val_text_q2:\n",
        "    \n",
        "    #lowercase\n",
        "    #sent = sent.lower()\n",
        "  \n",
        "    sent_val_q2 = sent_val_q2.translate(str.maketrans('', '', string.punctuation))\n",
        "\n",
        "  ## tokenize ##\n",
        "    val_tokens_q2 = nltk.word_tokenize(sent_val_q2)\n",
        "\n",
        "  ## remove stop-words ##\n",
        "    english_stopwords = stopwords.words('english')\n",
        "    #english_stopwords = english_stopwords + ['did', 'could', 'would', 'have', 'had', 'has', 'might', 'should', 'was', 'were', 'does', 'much', 'br', 'n']\n",
        "    val_tokens_q2 = [el for el in val_tokens_q2 if not el in english_stopwords]\n",
        "\n",
        "  ## lemmatization ##\n",
        " \n",
        "    #val_tokens_lemma_q2 = [wnl.lemmatize(el, get_wordnet_pos(nltk.pos_tag([el])[0][1])) for el in val_tokens_q2]\n",
        "\n",
        "  ## add to output list ##\n",
        "    X_val_q2.append(\" \".join(val_tokens_q2))"
      ]
    },
    {
      "cell_type": "code",
      "execution_count": null,
      "id": "98913adf",
      "metadata": {
        "scrolled": true,
        "id": "98913adf",
        "outputId": "649920e0-85f3-41bd-abce-21e44535c597"
      },
      "outputs": [
        {
          "data": {
            "text/plain": [
              "0    What is the step by step guide to invest in sh...\n",
              "1    What is the story of Kohinoor (Koh-i-Noor) Dia...\n",
              "2    How can I increase the speed of my internet co...\n",
              "3    Why am I mentally very lonely? How can I solve...\n",
              "4    Which one dissolve in water quikly sugar, salt...\n",
              "5    Astrology: I am a Capricorn Sun Cap moon and c...\n",
              "6                                  Should I buy tiago?\n",
              "7                       How can I be a good geologist?\n",
              "8                      When do you use シ instead of し?\n",
              "9    Motorola (company): Can I hack my Charter Moto...\n",
              "Name: question1, dtype: object"
            ]
          },
          "execution_count": 21,
          "metadata": {},
          "output_type": "execute_result"
        }
      ],
      "source": [
        "train_copy['question1'][:10]"
      ]
    },
    {
      "cell_type": "code",
      "execution_count": null,
      "id": "c26b5fe4",
      "metadata": {
        "id": "c26b5fe4",
        "outputId": "78879e7e-98c3-44c7-fa45-9f729f50229c"
      },
      "outputs": [
        {
          "data": {
            "text/plain": [
              "['asked question interview',\n",
              " 'one set bitcoin wallet false identity',\n",
              " 'got selected internship inria th june th sep eligible charpak research scholarship please specify long',\n",
              " 'stay fit going gym',\n",
              " 'best budget hotels mussoorie accommodation friends coming new year eve',\n",
              " 'property price decrease india money demonetisation',\n",
              " 'color mn',\n",
              " 'donald j trump presidency affect opportunities offered non us students',\n",
              " 'best coaching institute gate chandigarh',\n",
              " 'benjamin netanyahu display childish behaviors consistent basis']"
            ]
          },
          "execution_count": 163,
          "metadata": {},
          "output_type": "execute_result"
        }
      ],
      "source": [
        "X_val_q2[:10] "
      ]
    },
    {
      "cell_type": "code",
      "execution_count": null,
      "id": "c9509375",
      "metadata": {
        "id": "c9509375",
        "outputId": "7cc65234-639f-4759-dc3a-f1f9b2ba440c"
      },
      "outputs": [
        {
          "name": "stdout",
          "output_type": "stream",
          "text": [
            "                                           question1  \\\n",
            "0          step step guide invest share market india   \n",
            "1                    story kohinoor kohinoor diamond   \n",
            "2       increase speed internet connection using vpn   \n",
            "3                              mentally lonely solve   \n",
            "4  one dissolve water quikly sugar salt methane c...   \n",
            "\n",
            "                                           question2  \n",
            "0                step step guide invest share market  \n",
            "1  would happen indian government stole kohinoor ...  \n",
            "2               internet speed increased hacking dns  \n",
            "3           find remainder math2324math divided 2423  \n",
            "4                      fish would survive salt water  \n",
            "                                           question1\n",
            "0          step step guide invest share market india\n",
            "1                    story kohinoor kohinoor diamond\n",
            "2       increase speed internet connection using vpn\n",
            "3                              mentally lonely solve\n",
            "4  one dissolve water quikly sugar salt methane c...\n",
            "                                           question2\n",
            "0                step step guide invest share market\n",
            "1  would happen indian government stole kohinoor ...\n",
            "2               internet speed increased hacking dns\n",
            "3           find remainder math2324math divided 2423\n",
            "4                      fish would survive salt water\n"
          ]
        }
      ],
      "source": [
        "# df_q1 = pd.DataFrame(train_text_q1, columns=['question1'])\n",
        "# df_q2 = pd.DataFrame(train_text_q2, columns=['question2'])\n",
        "# #train_df = pd.concat([df_q1, df_q2], axis=0)\n",
        "# train_df = df_q1.join(df_q2, lsuffix='_left', rsuffix='_right')\n",
        "# print(train_df.head(5))"
      ]
    },
    {
      "cell_type": "code",
      "execution_count": 16,
      "id": "c07900e9",
      "metadata": {
        "colab": {
          "base_uri": "https://localhost:8080/",
          "height": 424
        },
        "id": "c07900e9",
        "outputId": "14355fed-b6e7-4577-b34d-4be5cb69cf8a"
      },
      "outputs": [
        {
          "output_type": "execute_result",
          "data": {
            "text/plain": [
              "                                  question1  \\\n",
              "0                   learn objective c swift   \n",
              "1                 current technology trends   \n",
              "2                      animals humans laugh   \n",
              "3                              cat lick cat   \n",
              "4                 good dual identity movies   \n",
              "...                                     ...   \n",
              "8080                           java android   \n",
              "8081                proper length men pants   \n",
              "8082  know whether want mbbs something else   \n",
              "8083             hack snapchat chat history   \n",
              "8084             social media changed world   \n",
              "\n",
              "                                  question2  \n",
              "0       start learn first objective c swift  \n",
              "1                      current technologies  \n",
              "2     besides humans animals shed tears cry  \n",
              "3                                  lick cat  \n",
              "4                      remember movies like  \n",
              "...                                     ...  \n",
              "8080                         r java android  \n",
              "8081           proper length men suit pants  \n",
              "8082         know really want become doctor  \n",
              "8083              spy snapchat chat history  \n",
              "8084            social medial changed world  \n",
              "\n",
              "[8085 rows x 2 columns]"
            ],
            "text/html": [
              "\n",
              "  <div id=\"df-e3fe9756-16ad-48c6-ae09-5153aacefab3\">\n",
              "    <div class=\"colab-df-container\">\n",
              "      <div>\n",
              "<style scoped>\n",
              "    .dataframe tbody tr th:only-of-type {\n",
              "        vertical-align: middle;\n",
              "    }\n",
              "\n",
              "    .dataframe tbody tr th {\n",
              "        vertical-align: top;\n",
              "    }\n",
              "\n",
              "    .dataframe thead th {\n",
              "        text-align: right;\n",
              "    }\n",
              "</style>\n",
              "<table border=\"1\" class=\"dataframe\">\n",
              "  <thead>\n",
              "    <tr style=\"text-align: right;\">\n",
              "      <th></th>\n",
              "      <th>question1</th>\n",
              "      <th>question2</th>\n",
              "    </tr>\n",
              "  </thead>\n",
              "  <tbody>\n",
              "    <tr>\n",
              "      <th>0</th>\n",
              "      <td>learn objective c swift</td>\n",
              "      <td>start learn first objective c swift</td>\n",
              "    </tr>\n",
              "    <tr>\n",
              "      <th>1</th>\n",
              "      <td>current technology trends</td>\n",
              "      <td>current technologies</td>\n",
              "    </tr>\n",
              "    <tr>\n",
              "      <th>2</th>\n",
              "      <td>animals humans laugh</td>\n",
              "      <td>besides humans animals shed tears cry</td>\n",
              "    </tr>\n",
              "    <tr>\n",
              "      <th>3</th>\n",
              "      <td>cat lick cat</td>\n",
              "      <td>lick cat</td>\n",
              "    </tr>\n",
              "    <tr>\n",
              "      <th>4</th>\n",
              "      <td>good dual identity movies</td>\n",
              "      <td>remember movies like</td>\n",
              "    </tr>\n",
              "    <tr>\n",
              "      <th>...</th>\n",
              "      <td>...</td>\n",
              "      <td>...</td>\n",
              "    </tr>\n",
              "    <tr>\n",
              "      <th>8080</th>\n",
              "      <td>java android</td>\n",
              "      <td>r java android</td>\n",
              "    </tr>\n",
              "    <tr>\n",
              "      <th>8081</th>\n",
              "      <td>proper length men pants</td>\n",
              "      <td>proper length men suit pants</td>\n",
              "    </tr>\n",
              "    <tr>\n",
              "      <th>8082</th>\n",
              "      <td>know whether want mbbs something else</td>\n",
              "      <td>know really want become doctor</td>\n",
              "    </tr>\n",
              "    <tr>\n",
              "      <th>8083</th>\n",
              "      <td>hack snapchat chat history</td>\n",
              "      <td>spy snapchat chat history</td>\n",
              "    </tr>\n",
              "    <tr>\n",
              "      <th>8084</th>\n",
              "      <td>social media changed world</td>\n",
              "      <td>social medial changed world</td>\n",
              "    </tr>\n",
              "  </tbody>\n",
              "</table>\n",
              "<p>8085 rows × 2 columns</p>\n",
              "</div>\n",
              "      <button class=\"colab-df-convert\" onclick=\"convertToInteractive('df-e3fe9756-16ad-48c6-ae09-5153aacefab3')\"\n",
              "              title=\"Convert this dataframe to an interactive table.\"\n",
              "              style=\"display:none;\">\n",
              "        \n",
              "  <svg xmlns=\"http://www.w3.org/2000/svg\" height=\"24px\"viewBox=\"0 0 24 24\"\n",
              "       width=\"24px\">\n",
              "    <path d=\"M0 0h24v24H0V0z\" fill=\"none\"/>\n",
              "    <path d=\"M18.56 5.44l.94 2.06.94-2.06 2.06-.94-2.06-.94-.94-2.06-.94 2.06-2.06.94zm-11 1L8.5 8.5l.94-2.06 2.06-.94-2.06-.94L8.5 2.5l-.94 2.06-2.06.94zm10 10l.94 2.06.94-2.06 2.06-.94-2.06-.94-.94-2.06-.94 2.06-2.06.94z\"/><path d=\"M17.41 7.96l-1.37-1.37c-.4-.4-.92-.59-1.43-.59-.52 0-1.04.2-1.43.59L10.3 9.45l-7.72 7.72c-.78.78-.78 2.05 0 2.83L4 21.41c.39.39.9.59 1.41.59.51 0 1.02-.2 1.41-.59l7.78-7.78 2.81-2.81c.8-.78.8-2.07 0-2.86zM5.41 20L4 18.59l7.72-7.72 1.47 1.35L5.41 20z\"/>\n",
              "  </svg>\n",
              "      </button>\n",
              "      \n",
              "  <style>\n",
              "    .colab-df-container {\n",
              "      display:flex;\n",
              "      flex-wrap:wrap;\n",
              "      gap: 12px;\n",
              "    }\n",
              "\n",
              "    .colab-df-convert {\n",
              "      background-color: #E8F0FE;\n",
              "      border: none;\n",
              "      border-radius: 50%;\n",
              "      cursor: pointer;\n",
              "      display: none;\n",
              "      fill: #1967D2;\n",
              "      height: 32px;\n",
              "      padding: 0 0 0 0;\n",
              "      width: 32px;\n",
              "    }\n",
              "\n",
              "    .colab-df-convert:hover {\n",
              "      background-color: #E2EBFA;\n",
              "      box-shadow: 0px 1px 2px rgba(60, 64, 67, 0.3), 0px 1px 3px 1px rgba(60, 64, 67, 0.15);\n",
              "      fill: #174EA6;\n",
              "    }\n",
              "\n",
              "    [theme=dark] .colab-df-convert {\n",
              "      background-color: #3B4455;\n",
              "      fill: #D2E3FC;\n",
              "    }\n",
              "\n",
              "    [theme=dark] .colab-df-convert:hover {\n",
              "      background-color: #434B5C;\n",
              "      box-shadow: 0px 1px 3px 1px rgba(0, 0, 0, 0.15);\n",
              "      filter: drop-shadow(0px 1px 2px rgba(0, 0, 0, 0.3));\n",
              "      fill: #FFFFFF;\n",
              "    }\n",
              "  </style>\n",
              "\n",
              "      <script>\n",
              "        const buttonEl =\n",
              "          document.querySelector('#df-e3fe9756-16ad-48c6-ae09-5153aacefab3 button.colab-df-convert');\n",
              "        buttonEl.style.display =\n",
              "          google.colab.kernel.accessAllowed ? 'block' : 'none';\n",
              "\n",
              "        async function convertToInteractive(key) {\n",
              "          const element = document.querySelector('#df-e3fe9756-16ad-48c6-ae09-5153aacefab3');\n",
              "          const dataTable =\n",
              "            await google.colab.kernel.invokeFunction('convertToInteractive',\n",
              "                                                     [key], {});\n",
              "          if (!dataTable) return;\n",
              "\n",
              "          const docLinkHtml = 'Like what you see? Visit the ' +\n",
              "            '<a target=\"_blank\" href=https://colab.research.google.com/notebooks/data_table.ipynb>data table notebook</a>'\n",
              "            + ' to learn more about interactive tables.';\n",
              "          element.innerHTML = '';\n",
              "          dataTable['output_type'] = 'display_data';\n",
              "          await google.colab.output.renderOutput(dataTable, element);\n",
              "          const docLink = document.createElement('div');\n",
              "          docLink.innerHTML = docLinkHtml;\n",
              "          element.appendChild(docLink);\n",
              "        }\n",
              "      </script>\n",
              "    </div>\n",
              "  </div>\n",
              "  "
            ]
          },
          "metadata": {},
          "execution_count": 16
        }
      ],
      "source": [
        "df_q1 = pd.DataFrame(X_train_q1, columns=['question1'])\n",
        "df_q2 = pd.DataFrame(X_train_q2, columns=['question2'])\n",
        "# #train_df = pd.concat([df_q1, df_q2], axis=0)\n",
        "train_df = df_q1.join(df_q2, lsuffix='_left', rsuffix='_right')\n",
        "train_df"
      ]
    },
    {
      "cell_type": "code",
      "execution_count": null,
      "id": "c57eabbd",
      "metadata": {
        "id": "c57eabbd",
        "outputId": "d1f9dc5b-9db3-453c-bcc3-b3169e76cd12"
      },
      "outputs": [
        {
          "data": {
            "text/html": [
              "<div>\n",
              "<style scoped>\n",
              "    .dataframe tbody tr th:only-of-type {\n",
              "        vertical-align: middle;\n",
              "    }\n",
              "\n",
              "    .dataframe tbody tr th {\n",
              "        vertical-align: top;\n",
              "    }\n",
              "\n",
              "    .dataframe thead th {\n",
              "        text-align: right;\n",
              "    }\n",
              "</style>\n",
              "<table border=\"1\" class=\"dataframe\">\n",
              "  <thead>\n",
              "    <tr style=\"text-align: right;\">\n",
              "      <th></th>\n",
              "      <th>question1</th>\n",
              "      <th>question2</th>\n",
              "    </tr>\n",
              "  </thead>\n",
              "  <tbody>\n",
              "    <tr>\n",
              "      <th>0</th>\n",
              "      <td>best pick line person ever said</td>\n",
              "      <td>epic pick line ever</td>\n",
              "    </tr>\n",
              "    <tr>\n",
              "      <th>1</th>\n",
              "      <td>meaning cc engine</td>\n",
              "      <td>cc engine indicate</td>\n",
              "    </tr>\n",
              "    <tr>\n",
              "      <th>2</th>\n",
              "      <td>borivali churchgate kalyan cst journey better</td>\n",
              "      <td>someone think think soulmate</td>\n",
              "    </tr>\n",
              "    <tr>\n",
              "      <th>3</th>\n",
              "      <td>cool psychological hacks</td>\n",
              "      <td>reverse psychology life hacks</td>\n",
              "    </tr>\n",
              "    <tr>\n",
              "      <th>4</th>\n",
              "      <td>create empire st century</td>\n",
              "      <td>ever empire st century</td>\n",
              "    </tr>\n",
              "    <tr>\n",
              "      <th>...</th>\n",
              "      <td>...</td>\n",
              "      <td>...</td>\n",
              "    </tr>\n",
              "    <tr>\n",
              "      <th>242567</th>\n",
              "      <td>java android</td>\n",
              "      <td>r java android</td>\n",
              "    </tr>\n",
              "    <tr>\n",
              "      <th>242568</th>\n",
              "      <td>proper length men pants</td>\n",
              "      <td>proper length men suit pants</td>\n",
              "    </tr>\n",
              "    <tr>\n",
              "      <th>242569</th>\n",
              "      <td>know whether want mbbs something else</td>\n",
              "      <td>know really want become doctor</td>\n",
              "    </tr>\n",
              "    <tr>\n",
              "      <th>242570</th>\n",
              "      <td>hack snapchat chat history</td>\n",
              "      <td>spy snapchat chat history</td>\n",
              "    </tr>\n",
              "    <tr>\n",
              "      <th>242571</th>\n",
              "      <td>social media changed world</td>\n",
              "      <td>social medial changed world</td>\n",
              "    </tr>\n",
              "  </tbody>\n",
              "</table>\n",
              "<p>242572 rows × 2 columns</p>\n",
              "</div>"
            ],
            "text/plain": [
              "                                            question1  \\\n",
              "0                     best pick line person ever said   \n",
              "1                                   meaning cc engine   \n",
              "2       borivali churchgate kalyan cst journey better   \n",
              "3                            cool psychological hacks   \n",
              "4                            create empire st century   \n",
              "...                                               ...   \n",
              "242567                                   java android   \n",
              "242568                        proper length men pants   \n",
              "242569          know whether want mbbs something else   \n",
              "242570                     hack snapchat chat history   \n",
              "242571                     social media changed world   \n",
              "\n",
              "                             question2  \n",
              "0                  epic pick line ever  \n",
              "1                   cc engine indicate  \n",
              "2         someone think think soulmate  \n",
              "3        reverse psychology life hacks  \n",
              "4               ever empire st century  \n",
              "...                                ...  \n",
              "242567                  r java android  \n",
              "242568    proper length men suit pants  \n",
              "242569  know really want become doctor  \n",
              "242570       spy snapchat chat history  \n",
              "242571     social medial changed world  \n",
              "\n",
              "[242572 rows x 2 columns]"
            ]
          },
          "execution_count": 207,
          "metadata": {},
          "output_type": "execute_result"
        }
      ],
      "source": [
        "train_df"
      ]
    },
    {
      "cell_type": "markdown",
      "id": "c1e40532",
      "metadata": {
        "id": "c1e40532"
      },
      "source": [
        "## Labelling target variable"
      ]
    },
    {
      "cell_type": "code",
      "execution_count": 17,
      "id": "6efd294c",
      "metadata": {
        "colab": {
          "base_uri": "https://localhost:8080/",
          "height": 253
        },
        "id": "6efd294c",
        "outputId": "3e22843c-81c0-4575-a89f-3ed9d666940f"
      },
      "outputs": [
        {
          "output_type": "stream",
          "name": "stdout",
          "text": [
            "[1 1 0 ... 1 1 1]\n"
          ]
        },
        {
          "output_type": "error",
          "ename": "NameError",
          "evalue": "ignored",
          "traceback": [
            "\u001b[0;31m---------------------------------------------------------------------------\u001b[0m",
            "\u001b[0;31mNameError\u001b[0m                                 Traceback (most recent call last)",
            "\u001b[0;32m<ipython-input-17-50bf2af3315b>\u001b[0m in \u001b[0;36m<module>\u001b[0;34m\u001b[0m\n\u001b[1;32m      4\u001b[0m \u001b[0mprint\u001b[0m\u001b[0;34m(\u001b[0m\u001b[0my_train_cat\u001b[0m\u001b[0;34m)\u001b[0m\u001b[0;34m\u001b[0m\u001b[0;34m\u001b[0m\u001b[0m\n\u001b[1;32m      5\u001b[0m \u001b[0;34m\u001b[0m\u001b[0m\n\u001b[0;32m----> 6\u001b[0;31m \u001b[0my_val_cat\u001b[0m \u001b[0;34m=\u001b[0m \u001b[0mlabels\u001b[0m\u001b[0;34m.\u001b[0m\u001b[0mfit_transform\u001b[0m\u001b[0;34m(\u001b[0m\u001b[0my_val\u001b[0m\u001b[0;34m)\u001b[0m\u001b[0;34m\u001b[0m\u001b[0;34m\u001b[0m\u001b[0m\n\u001b[0m\u001b[1;32m      7\u001b[0m \u001b[0mprint\u001b[0m\u001b[0;34m(\u001b[0m\u001b[0my_val_cat\u001b[0m\u001b[0;34m)\u001b[0m\u001b[0;34m\u001b[0m\u001b[0;34m\u001b[0m\u001b[0m\n\u001b[1;32m      8\u001b[0m \u001b[0;34m\u001b[0m\u001b[0m\n",
            "\u001b[0;31mNameError\u001b[0m: name 'y_val' is not defined"
          ]
        }
      ],
      "source": [
        "labels = preprocessing.LabelEncoder()\n",
        "# Convert continous y values to categorical\n",
        "y_train_cat= labels.fit_transform(y_train)\n",
        "print(y_train_cat)\n",
        "\n",
        "y_val_cat = labels.fit_transform(y_val)\n",
        "print(y_val_cat)\n",
        "\n",
        "y_test_cat = labels.fit_transform(y_test)\n",
        "print(y_test_cat)"
      ]
    },
    {
      "cell_type": "markdown",
      "id": "b8d359e2",
      "metadata": {
        "id": "b8d359e2"
      },
      "source": [
        "## Models \n"
      ]
    },
    {
      "cell_type": "code",
      "execution_count": null,
      "id": "d6b526a2",
      "metadata": {
        "id": "d6b526a2",
        "outputId": "c14c9889-6868-4684-f2e3-f01a6a1930ad"
      },
      "outputs": [
        {
          "ename": "MemoryError",
          "evalue": "Unable to allocate 17.2 GiB for an array with shape (80856, 28594) and data type int64",
          "output_type": "error",
          "traceback": [
            "\u001b[1;31m---------------------------------------------------------------------------\u001b[0m",
            "\u001b[1;31mMemoryError\u001b[0m                               Traceback (most recent call last)",
            "\u001b[1;32m~\\AppData\\Local\\Temp/ipykernel_2216/183009235.py\u001b[0m in \u001b[0;36m<module>\u001b[1;34m\u001b[0m\n\u001b[0;32m      6\u001b[0m \u001b[0mcorpus\u001b[0m \u001b[1;33m=\u001b[0m  \u001b[1;33m[\u001b[0m\u001b[0mquestions\u001b[0m\u001b[1;33m]\u001b[0m\u001b[1;33m\u001b[0m\u001b[1;33m\u001b[0m\u001b[0m\n\u001b[0;32m      7\u001b[0m \u001b[1;33m\u001b[0m\u001b[0m\n\u001b[1;32m----> 8\u001b[1;33m \u001b[0mX_train_q1_arr\u001b[0m\u001b[1;33m,\u001b[0m \u001b[0mX_train_q2_arr\u001b[0m \u001b[1;33m=\u001b[0m \u001b[0mnp\u001b[0m\u001b[1;33m.\u001b[0m\u001b[0mvsplit\u001b[0m\u001b[1;33m(\u001b[0m\u001b[0mcount_vect\u001b[0m\u001b[1;33m.\u001b[0m\u001b[0mfit_transform\u001b[0m\u001b[1;33m(\u001b[0m\u001b[0mquestions\u001b[0m\u001b[1;33m)\u001b[0m\u001b[1;33m.\u001b[0m\u001b[0mtoarray\u001b[0m\u001b[1;33m(\u001b[0m\u001b[1;33m)\u001b[0m\u001b[1;33m,\u001b[0m \u001b[1;36m2\u001b[0m\u001b[1;33m)\u001b[0m\u001b[1;33m\u001b[0m\u001b[1;33m\u001b[0m\u001b[0m\n\u001b[0m\u001b[0;32m      9\u001b[0m \u001b[1;33m\u001b[0m\u001b[0m\n\u001b[0;32m     10\u001b[0m \u001b[1;31m#corpus = [train_text_q1, train_text_q2]\u001b[0m\u001b[1;33m\u001b[0m\u001b[1;33m\u001b[0m\u001b[0m\n",
            "\u001b[1;32m~\\anaconda3\\lib\\site-packages\\scipy\\sparse\\compressed.py\u001b[0m in \u001b[0;36mtoarray\u001b[1;34m(self, order, out)\u001b[0m\n\u001b[0;32m   1029\u001b[0m         \u001b[1;32mif\u001b[0m \u001b[0mout\u001b[0m \u001b[1;32mis\u001b[0m \u001b[1;32mNone\u001b[0m \u001b[1;32mand\u001b[0m \u001b[0morder\u001b[0m \u001b[1;32mis\u001b[0m \u001b[1;32mNone\u001b[0m\u001b[1;33m:\u001b[0m\u001b[1;33m\u001b[0m\u001b[1;33m\u001b[0m\u001b[0m\n\u001b[0;32m   1030\u001b[0m             \u001b[0morder\u001b[0m \u001b[1;33m=\u001b[0m \u001b[0mself\u001b[0m\u001b[1;33m.\u001b[0m\u001b[0m_swap\u001b[0m\u001b[1;33m(\u001b[0m\u001b[1;34m'cf'\u001b[0m\u001b[1;33m)\u001b[0m\u001b[1;33m[\u001b[0m\u001b[1;36m0\u001b[0m\u001b[1;33m]\u001b[0m\u001b[1;33m\u001b[0m\u001b[1;33m\u001b[0m\u001b[0m\n\u001b[1;32m-> 1031\u001b[1;33m         \u001b[0mout\u001b[0m \u001b[1;33m=\u001b[0m \u001b[0mself\u001b[0m\u001b[1;33m.\u001b[0m\u001b[0m_process_toarray_args\u001b[0m\u001b[1;33m(\u001b[0m\u001b[0morder\u001b[0m\u001b[1;33m,\u001b[0m \u001b[0mout\u001b[0m\u001b[1;33m)\u001b[0m\u001b[1;33m\u001b[0m\u001b[1;33m\u001b[0m\u001b[0m\n\u001b[0m\u001b[0;32m   1032\u001b[0m         \u001b[1;32mif\u001b[0m \u001b[1;32mnot\u001b[0m \u001b[1;33m(\u001b[0m\u001b[0mout\u001b[0m\u001b[1;33m.\u001b[0m\u001b[0mflags\u001b[0m\u001b[1;33m.\u001b[0m\u001b[0mc_contiguous\u001b[0m \u001b[1;32mor\u001b[0m \u001b[0mout\u001b[0m\u001b[1;33m.\u001b[0m\u001b[0mflags\u001b[0m\u001b[1;33m.\u001b[0m\u001b[0mf_contiguous\u001b[0m\u001b[1;33m)\u001b[0m\u001b[1;33m:\u001b[0m\u001b[1;33m\u001b[0m\u001b[1;33m\u001b[0m\u001b[0m\n\u001b[0;32m   1033\u001b[0m             \u001b[1;32mraise\u001b[0m \u001b[0mValueError\u001b[0m\u001b[1;33m(\u001b[0m\u001b[1;34m'Output array must be C or F contiguous'\u001b[0m\u001b[1;33m)\u001b[0m\u001b[1;33m\u001b[0m\u001b[1;33m\u001b[0m\u001b[0m\n",
            "\u001b[1;32m~\\anaconda3\\lib\\site-packages\\scipy\\sparse\\base.py\u001b[0m in \u001b[0;36m_process_toarray_args\u001b[1;34m(self, order, out)\u001b[0m\n\u001b[0;32m   1200\u001b[0m             \u001b[1;32mreturn\u001b[0m \u001b[0mout\u001b[0m\u001b[1;33m\u001b[0m\u001b[1;33m\u001b[0m\u001b[0m\n\u001b[0;32m   1201\u001b[0m         \u001b[1;32melse\u001b[0m\u001b[1;33m:\u001b[0m\u001b[1;33m\u001b[0m\u001b[1;33m\u001b[0m\u001b[0m\n\u001b[1;32m-> 1202\u001b[1;33m             \u001b[1;32mreturn\u001b[0m \u001b[0mnp\u001b[0m\u001b[1;33m.\u001b[0m\u001b[0mzeros\u001b[0m\u001b[1;33m(\u001b[0m\u001b[0mself\u001b[0m\u001b[1;33m.\u001b[0m\u001b[0mshape\u001b[0m\u001b[1;33m,\u001b[0m \u001b[0mdtype\u001b[0m\u001b[1;33m=\u001b[0m\u001b[0mself\u001b[0m\u001b[1;33m.\u001b[0m\u001b[0mdtype\u001b[0m\u001b[1;33m,\u001b[0m \u001b[0morder\u001b[0m\u001b[1;33m=\u001b[0m\u001b[0morder\u001b[0m\u001b[1;33m)\u001b[0m\u001b[1;33m\u001b[0m\u001b[1;33m\u001b[0m\u001b[0m\n\u001b[0m\u001b[0;32m   1203\u001b[0m \u001b[1;33m\u001b[0m\u001b[0m\n\u001b[0;32m   1204\u001b[0m \u001b[1;33m\u001b[0m\u001b[0m\n",
            "\u001b[1;31mMemoryError\u001b[0m: Unable to allocate 17.2 GiB for an array with shape (80856, 28594) and data type int64"
          ]
        }
      ],
      "source": [
        "\n",
        "from sklearn.feature_extraction.text import CountVectorizer\n",
        "\n",
        "questions = list(X_train_q1) + list(X_train_q2)\n",
        "\n",
        "count_vect = CountVectorizer()\n",
        "corpus =  [questions]\n",
        "\n",
        "X_train_q1_arr, X_train_q2_arr = np.vsplit(count_vect.fit_transform(questions).toarray(), 2)\n",
        "\n",
        "#corpus = [train_text_q1, train_text_q2]\n",
        "\n",
        "X_train_counts = count_vect.fit_transform(X_train_q1_arr, X_train_q2_arr)\n"
      ]
    },
    {
      "cell_type": "code",
      "execution_count": 18,
      "id": "03966f35",
      "metadata": {
        "id": "03966f35"
      },
      "outputs": [],
      "source": [
        "from sklearn.feature_extraction.text import CountVectorizer\n",
        "\n",
        "questions = list(train_df['question1']) + list(train_df['question2'])\n",
        "\n",
        "count_vect = CountVectorizer()\n",
        "\n",
        "X_train_q1_arr, X_train_q2_arr = np.vsplit(count_vect.fit_transform(questions).toarray(), 2)\n"
      ]
    },
    {
      "cell_type": "code",
      "source": [],
      "metadata": {
        "id": "rhghgryg1vhi"
      },
      "id": "rhghgryg1vhi",
      "execution_count": null,
      "outputs": []
    },
    {
      "cell_type": "code",
      "execution_count": null,
      "id": "80ec5371",
      "metadata": {
        "id": "80ec5371"
      },
      "outputs": [],
      "source": [
        "from sklearn.feature_extraction.text import TfidfVectorizer\n",
        "vectorizer = TfidfVectorizer()\n",
        "\n",
        "trsfm=vectorizer.fit_transform(corpus)\n",
        "\n",
        "\n",
        "\n",
        "from sklearn.metrics.pairwise import cosine_similarity\n",
        "\n",
        "cosine_similarity(trsfm[0:1], trsfm)\n",
        "\n",
        "cosine_similarity(trsfm[0:1], trsfm)"
      ]
    },
    {
      "cell_type": "code",
      "execution_count": null,
      "id": "0269df10",
      "metadata": {
        "id": "0269df10",
        "outputId": "24bac734-1188-4272-8ba4-d0ce6c7d3036"
      },
      "outputs": [
        {
          "ename": "SyntaxError",
          "evalue": "unexpected EOF while parsing (Temp/ipykernel_2216/819094467.py, line 3)",
          "output_type": "error",
          "traceback": [
            "\u001b[1;36m  File \u001b[1;32m\"C:\\Users\\43664\\AppData\\Local\\Temp/ipykernel_2216/819094467.py\"\u001b[1;36m, line \u001b[1;32m3\u001b[0m\n\u001b[1;33m    cosine_similarity(#texto 1 , texto 2)\u001b[0m\n\u001b[1;37m                                         ^\u001b[0m\n\u001b[1;31mSyntaxError\u001b[0m\u001b[1;31m:\u001b[0m unexpected EOF while parsing\n"
          ]
        }
      ],
      "source": [
        "from sklearn.metrics.pairwise import cosine_similarity\n",
        "\n",
        "cosine_similarity(#texto 1 , texto 2)"
      ]
    },
    {
      "cell_type": "code",
      "execution_count": null,
      "id": "d53db576",
      "metadata": {
        "id": "d53db576"
      },
      "outputs": [],
      "source": []
    }
  ],
  "metadata": {
    "kernelspec": {
      "display_name": "Python 3 (ipykernel)",
      "language": "python",
      "name": "python3"
    },
    "language_info": {
      "codemirror_mode": {
        "name": "ipython",
        "version": 3
      },
      "file_extension": ".py",
      "mimetype": "text/x-python",
      "name": "python",
      "nbconvert_exporter": "python",
      "pygments_lexer": "ipython3",
      "version": "3.9.7"
    },
    "colab": {
      "provenance": [],
      "include_colab_link": true
    }
  },
  "nbformat": 4,
  "nbformat_minor": 5
}
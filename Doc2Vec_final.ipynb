{
  "nbformat": 4,
  "nbformat_minor": 0,
  "metadata": {
    "colab": {
      "provenance": [],
      "collapsed_sections": [
        "uhX3GryDHeLw",
        "3KGLlVi8l0Vg"
      ],
      "authorship_tag": "ABX9TyPBo9NJ0S44pvUnBjcgdDum",
      "include_colab_link": true
    },
    "kernelspec": {
      "name": "python3",
      "display_name": "Python 3"
    },
    "language_info": {
      "name": "python"
    }
  },
  "cells": [
    {
      "cell_type": "markdown",
      "metadata": {
        "id": "view-in-github",
        "colab_type": "text"
      },
      "source": [
        "<a href=\"https://colab.research.google.com/github/antopeza/Final-Project-Brainster/blob/main/Doc2Vec_final.ipynb\" target=\"_parent\"><img src=\"https://colab.research.google.com/assets/colab-badge.svg\" alt=\"Open In Colab\"/></a>"
      ]
    },
    {
      "cell_type": "code",
      "execution_count": 1,
      "metadata": {
        "id": "e-KBkFqJDgmY"
      },
      "outputs": [],
      "source": [
        "import pandas as pd\n",
        "import numpy as np\n",
        "from numpy import random\n",
        "from numpy import vstack\n",
        "import matplotlib.pyplot as plt\n",
        "import os \n",
        "\n",
        "import re\n",
        "\n",
        "import string\n",
        "from string import punctuation\n",
        "\n",
        "from sklearn.model_selection import ShuffleSplit\n",
        "from sklearn.ensemble import RandomForestClassifier\n",
        "from sklearn.experimental import enable_halving_search_cv \n",
        "from sklearn.model_selection import HalvingGridSearchCV\n",
        "\n",
        "from sklearn.model_selection import train_test_split, GridSearchCV\n",
        "from sklearn.pipeline import Pipeline\n",
        "from gensim.models.doc2vec import Doc2Vec, TaggedDocument\n",
        "from sklearn.feature_extraction.text import CountVectorizer, TfidfVectorizer\n",
        "from sklearn.linear_model import LogisticRegression\n",
        "from sklearn import svm\n",
        "from sklearn.svm import SVC\n",
        "from sklearn.svm import LinearSVC\n",
        "import sklearn.metrics as metrics\n",
        "from sklearn.metrics import classification_report, confusion_matrix, accuracy_score\n",
        "\n",
        "import xgboost as xgb\n",
        "\n",
        "import nltk\n",
        "from nltk.stem import WordNetLemmatizer, PorterStemmer, LancasterStemmer\n",
        "from nltk.corpus import wordnet, stopwords\n",
        "from nltk import pos_tag, word_tokenize\n",
        "\n",
        "import gensim\n",
        "from gensim.parsing.preprocessing import remove_stopwords\n",
        "\n",
        "from keras.preprocessing.text import Tokenizer\n",
        "from keras_preprocessing.sequence import pad_sequences\n",
        "from keras.models import Model, Sequential, load_model\n",
        "from keras.layers import Input, Embedding, LSTM, Dense\n",
        "from keras.callbacks import ModelCheckpoint, EarlyStopping\n",
        "\n",
        "from imblearn.over_sampling import SMOTE\n",
        "from collections import Counter\n",
        "\n",
        "#from scikeras.wrappers import KerasClassifier\n",
        "\n",
        "import pickle\n",
        "from pickle import dump\n",
        "from pickle import load\n",
        "\n",
        "from imblearn.over_sampling import SMOTE\n",
        "from collections import Counter\n",
        "\n",
        "%matplotlib inline\n",
        "import warnings\n",
        "warnings.filterwarnings('ignore')"
      ]
    },
    {
      "cell_type": "code",
      "source": [
        "from google.colab import drive \n",
        "drive.mount('/drive')"
      ],
      "metadata": {
        "colab": {
          "base_uri": "https://localhost:8080/"
        },
        "id": "UBbY-W7bD2F6",
        "outputId": "3ef9febf-172b-4d7f-f6ff-edea326ca545"
      },
      "execution_count": 2,
      "outputs": [
        {
          "output_type": "stream",
          "name": "stdout",
          "text": [
            "Mounted at /drive\n"
          ]
        }
      ]
    },
    {
      "cell_type": "code",
      "source": [
        "nltk.download(\"punkt\")\n",
        "nltk.download(\"stopwords\")\n",
        "nltk.download(\"wordnet\")\n",
        "nltk.download(\"averaged_perceptron_tagger\")\n",
        "nltk.download('omw-1.4')"
      ],
      "metadata": {
        "colab": {
          "base_uri": "https://localhost:8080/"
        },
        "id": "ok8svMpmDmG9",
        "outputId": "7a88af85-28ad-47fe-a79a-b8338704e27c"
      },
      "execution_count": 3,
      "outputs": [
        {
          "output_type": "stream",
          "name": "stderr",
          "text": [
            "[nltk_data] Downloading package punkt to /root/nltk_data...\n",
            "[nltk_data]   Unzipping tokenizers/punkt.zip.\n",
            "[nltk_data] Downloading package stopwords to /root/nltk_data...\n",
            "[nltk_data]   Unzipping corpora/stopwords.zip.\n",
            "[nltk_data] Downloading package wordnet to /root/nltk_data...\n",
            "[nltk_data] Downloading package averaged_perceptron_tagger to\n",
            "[nltk_data]     /root/nltk_data...\n",
            "[nltk_data]   Unzipping taggers/averaged_perceptron_tagger.zip.\n",
            "[nltk_data] Downloading package omw-1.4 to /root/nltk_data...\n"
          ]
        },
        {
          "output_type": "execute_result",
          "data": {
            "text/plain": [
              "True"
            ]
          },
          "metadata": {},
          "execution_count": 3
        }
      ]
    },
    {
      "cell_type": "code",
      "source": [
        "stops = set(stopwords.words('english'))\n",
        "#print(stops)"
      ],
      "metadata": {
        "id": "eihupDCWDobb"
      },
      "execution_count": 4,
      "outputs": []
    },
    {
      "cell_type": "code",
      "source": [
        "stemmer =  PorterStemmer()\n",
        "lemmer = WordNetLemmatizer()"
      ],
      "metadata": {
        "id": "zkLm5h4mDqlo"
      },
      "execution_count": 5,
      "outputs": []
    },
    {
      "cell_type": "code",
      "source": [
        "#df_raw = pd.read_csv(path)\n",
        "df_raw = pd.read_csv('/drive/My Drive/MACHINE LEARNING/FINAL PROJECT/train.csv')"
      ],
      "metadata": {
        "id": "GVt98k6CDuZo"
      },
      "execution_count": 6,
      "outputs": []
    },
    {
      "cell_type": "code",
      "source": [
        "# print('shape of df  = ', df_raw.shape)\n",
        "# print()\n",
        "# df_raw.head(2)"
      ],
      "metadata": {
        "colab": {
          "base_uri": "https://localhost:8080/",
          "height": 148
        },
        "id": "yT4ICsPwDw65",
        "outputId": "67609490-41b7-429d-d62b-6a697db7fda5"
      },
      "execution_count": null,
      "outputs": [
        {
          "output_type": "stream",
          "name": "stdout",
          "text": [
            "shape of df  =  (404290, 6)\n",
            "\n"
          ]
        },
        {
          "output_type": "execute_result",
          "data": {
            "text/plain": [
              "   id  qid1  qid2                                          question1  \\\n",
              "0   0     1     2  What is the step by step guide to invest in sh...   \n",
              "1   1     3     4  What is the story of Kohinoor (Koh-i-Noor) Dia...   \n",
              "\n",
              "                                           question2  is_duplicate  \n",
              "0  What is the step by step guide to invest in sh...             0  \n",
              "1  What would happen if the Indian government sto...             0  "
            ],
            "text/html": [
              "\n",
              "  <div id=\"df-cd655c27-016e-4fe4-b129-5bf2cb240328\">\n",
              "    <div class=\"colab-df-container\">\n",
              "      <div>\n",
              "<style scoped>\n",
              "    .dataframe tbody tr th:only-of-type {\n",
              "        vertical-align: middle;\n",
              "    }\n",
              "\n",
              "    .dataframe tbody tr th {\n",
              "        vertical-align: top;\n",
              "    }\n",
              "\n",
              "    .dataframe thead th {\n",
              "        text-align: right;\n",
              "    }\n",
              "</style>\n",
              "<table border=\"1\" class=\"dataframe\">\n",
              "  <thead>\n",
              "    <tr style=\"text-align: right;\">\n",
              "      <th></th>\n",
              "      <th>id</th>\n",
              "      <th>qid1</th>\n",
              "      <th>qid2</th>\n",
              "      <th>question1</th>\n",
              "      <th>question2</th>\n",
              "      <th>is_duplicate</th>\n",
              "    </tr>\n",
              "  </thead>\n",
              "  <tbody>\n",
              "    <tr>\n",
              "      <th>0</th>\n",
              "      <td>0</td>\n",
              "      <td>1</td>\n",
              "      <td>2</td>\n",
              "      <td>What is the step by step guide to invest in sh...</td>\n",
              "      <td>What is the step by step guide to invest in sh...</td>\n",
              "      <td>0</td>\n",
              "    </tr>\n",
              "    <tr>\n",
              "      <th>1</th>\n",
              "      <td>1</td>\n",
              "      <td>3</td>\n",
              "      <td>4</td>\n",
              "      <td>What is the story of Kohinoor (Koh-i-Noor) Dia...</td>\n",
              "      <td>What would happen if the Indian government sto...</td>\n",
              "      <td>0</td>\n",
              "    </tr>\n",
              "  </tbody>\n",
              "</table>\n",
              "</div>\n",
              "      <button class=\"colab-df-convert\" onclick=\"convertToInteractive('df-cd655c27-016e-4fe4-b129-5bf2cb240328')\"\n",
              "              title=\"Convert this dataframe to an interactive table.\"\n",
              "              style=\"display:none;\">\n",
              "        \n",
              "  <svg xmlns=\"http://www.w3.org/2000/svg\" height=\"24px\"viewBox=\"0 0 24 24\"\n",
              "       width=\"24px\">\n",
              "    <path d=\"M0 0h24v24H0V0z\" fill=\"none\"/>\n",
              "    <path d=\"M18.56 5.44l.94 2.06.94-2.06 2.06-.94-2.06-.94-.94-2.06-.94 2.06-2.06.94zm-11 1L8.5 8.5l.94-2.06 2.06-.94-2.06-.94L8.5 2.5l-.94 2.06-2.06.94zm10 10l.94 2.06.94-2.06 2.06-.94-2.06-.94-.94-2.06-.94 2.06-2.06.94z\"/><path d=\"M17.41 7.96l-1.37-1.37c-.4-.4-.92-.59-1.43-.59-.52 0-1.04.2-1.43.59L10.3 9.45l-7.72 7.72c-.78.78-.78 2.05 0 2.83L4 21.41c.39.39.9.59 1.41.59.51 0 1.02-.2 1.41-.59l7.78-7.78 2.81-2.81c.8-.78.8-2.07 0-2.86zM5.41 20L4 18.59l7.72-7.72 1.47 1.35L5.41 20z\"/>\n",
              "  </svg>\n",
              "      </button>\n",
              "      \n",
              "  <style>\n",
              "    .colab-df-container {\n",
              "      display:flex;\n",
              "      flex-wrap:wrap;\n",
              "      gap: 12px;\n",
              "    }\n",
              "\n",
              "    .colab-df-convert {\n",
              "      background-color: #E8F0FE;\n",
              "      border: none;\n",
              "      border-radius: 50%;\n",
              "      cursor: pointer;\n",
              "      display: none;\n",
              "      fill: #1967D2;\n",
              "      height: 32px;\n",
              "      padding: 0 0 0 0;\n",
              "      width: 32px;\n",
              "    }\n",
              "\n",
              "    .colab-df-convert:hover {\n",
              "      background-color: #E2EBFA;\n",
              "      box-shadow: 0px 1px 2px rgba(60, 64, 67, 0.3), 0px 1px 3px 1px rgba(60, 64, 67, 0.15);\n",
              "      fill: #174EA6;\n",
              "    }\n",
              "\n",
              "    [theme=dark] .colab-df-convert {\n",
              "      background-color: #3B4455;\n",
              "      fill: #D2E3FC;\n",
              "    }\n",
              "\n",
              "    [theme=dark] .colab-df-convert:hover {\n",
              "      background-color: #434B5C;\n",
              "      box-shadow: 0px 1px 3px 1px rgba(0, 0, 0, 0.15);\n",
              "      filter: drop-shadow(0px 1px 2px rgba(0, 0, 0, 0.3));\n",
              "      fill: #FFFFFF;\n",
              "    }\n",
              "  </style>\n",
              "\n",
              "      <script>\n",
              "        const buttonEl =\n",
              "          document.querySelector('#df-cd655c27-016e-4fe4-b129-5bf2cb240328 button.colab-df-convert');\n",
              "        buttonEl.style.display =\n",
              "          google.colab.kernel.accessAllowed ? 'block' : 'none';\n",
              "\n",
              "        async function convertToInteractive(key) {\n",
              "          const element = document.querySelector('#df-cd655c27-016e-4fe4-b129-5bf2cb240328');\n",
              "          const dataTable =\n",
              "            await google.colab.kernel.invokeFunction('convertToInteractive',\n",
              "                                                     [key], {});\n",
              "          if (!dataTable) return;\n",
              "\n",
              "          const docLinkHtml = 'Like what you see? Visit the ' +\n",
              "            '<a target=\"_blank\" href=https://colab.research.google.com/notebooks/data_table.ipynb>data table notebook</a>'\n",
              "            + ' to learn more about interactive tables.';\n",
              "          element.innerHTML = '';\n",
              "          dataTable['output_type'] = 'display_data';\n",
              "          await google.colab.output.renderOutput(dataTable, element);\n",
              "          const docLink = document.createElement('div');\n",
              "          docLink.innerHTML = docLinkHtml;\n",
              "          element.appendChild(docLink);\n",
              "        }\n",
              "      </script>\n",
              "    </div>\n",
              "  </div>\n",
              "  "
            ]
          },
          "metadata": {},
          "execution_count": 7
        }
      ]
    },
    {
      "cell_type": "code",
      "source": [
        "#df_raw[df_raw.isnull().any(axis=1)]"
      ],
      "metadata": {
        "colab": {
          "base_uri": "https://localhost:8080/",
          "height": 143
        },
        "id": "nmzhM5GaD9su",
        "outputId": "c3e94bff-8b6e-487d-9be2-565308dd1ad8"
      },
      "execution_count": null,
      "outputs": [
        {
          "output_type": "execute_result",
          "data": {
            "text/plain": [
              "            id    qid1    qid2                         question1  \\\n",
              "105780  105780  174363  174364    How can I develop android app?   \n",
              "201841  201841  303951  174364  How can I create an Android app?   \n",
              "363362  363362  493340  493341                               NaN   \n",
              "\n",
              "                                                question2  is_duplicate  \n",
              "105780                                                NaN             0  \n",
              "201841                                                NaN             0  \n",
              "363362  My Chinese name is Haichao Yu. What English na...             0  "
            ],
            "text/html": [
              "\n",
              "  <div id=\"df-fa75a78e-c84b-4341-91c8-7849db624abb\">\n",
              "    <div class=\"colab-df-container\">\n",
              "      <div>\n",
              "<style scoped>\n",
              "    .dataframe tbody tr th:only-of-type {\n",
              "        vertical-align: middle;\n",
              "    }\n",
              "\n",
              "    .dataframe tbody tr th {\n",
              "        vertical-align: top;\n",
              "    }\n",
              "\n",
              "    .dataframe thead th {\n",
              "        text-align: right;\n",
              "    }\n",
              "</style>\n",
              "<table border=\"1\" class=\"dataframe\">\n",
              "  <thead>\n",
              "    <tr style=\"text-align: right;\">\n",
              "      <th></th>\n",
              "      <th>id</th>\n",
              "      <th>qid1</th>\n",
              "      <th>qid2</th>\n",
              "      <th>question1</th>\n",
              "      <th>question2</th>\n",
              "      <th>is_duplicate</th>\n",
              "    </tr>\n",
              "  </thead>\n",
              "  <tbody>\n",
              "    <tr>\n",
              "      <th>105780</th>\n",
              "      <td>105780</td>\n",
              "      <td>174363</td>\n",
              "      <td>174364</td>\n",
              "      <td>How can I develop android app?</td>\n",
              "      <td>NaN</td>\n",
              "      <td>0</td>\n",
              "    </tr>\n",
              "    <tr>\n",
              "      <th>201841</th>\n",
              "      <td>201841</td>\n",
              "      <td>303951</td>\n",
              "      <td>174364</td>\n",
              "      <td>How can I create an Android app?</td>\n",
              "      <td>NaN</td>\n",
              "      <td>0</td>\n",
              "    </tr>\n",
              "    <tr>\n",
              "      <th>363362</th>\n",
              "      <td>363362</td>\n",
              "      <td>493340</td>\n",
              "      <td>493341</td>\n",
              "      <td>NaN</td>\n",
              "      <td>My Chinese name is Haichao Yu. What English na...</td>\n",
              "      <td>0</td>\n",
              "    </tr>\n",
              "  </tbody>\n",
              "</table>\n",
              "</div>\n",
              "      <button class=\"colab-df-convert\" onclick=\"convertToInteractive('df-fa75a78e-c84b-4341-91c8-7849db624abb')\"\n",
              "              title=\"Convert this dataframe to an interactive table.\"\n",
              "              style=\"display:none;\">\n",
              "        \n",
              "  <svg xmlns=\"http://www.w3.org/2000/svg\" height=\"24px\"viewBox=\"0 0 24 24\"\n",
              "       width=\"24px\">\n",
              "    <path d=\"M0 0h24v24H0V0z\" fill=\"none\"/>\n",
              "    <path d=\"M18.56 5.44l.94 2.06.94-2.06 2.06-.94-2.06-.94-.94-2.06-.94 2.06-2.06.94zm-11 1L8.5 8.5l.94-2.06 2.06-.94-2.06-.94L8.5 2.5l-.94 2.06-2.06.94zm10 10l.94 2.06.94-2.06 2.06-.94-2.06-.94-.94-2.06-.94 2.06-2.06.94z\"/><path d=\"M17.41 7.96l-1.37-1.37c-.4-.4-.92-.59-1.43-.59-.52 0-1.04.2-1.43.59L10.3 9.45l-7.72 7.72c-.78.78-.78 2.05 0 2.83L4 21.41c.39.39.9.59 1.41.59.51 0 1.02-.2 1.41-.59l7.78-7.78 2.81-2.81c.8-.78.8-2.07 0-2.86zM5.41 20L4 18.59l7.72-7.72 1.47 1.35L5.41 20z\"/>\n",
              "  </svg>\n",
              "      </button>\n",
              "      \n",
              "  <style>\n",
              "    .colab-df-container {\n",
              "      display:flex;\n",
              "      flex-wrap:wrap;\n",
              "      gap: 12px;\n",
              "    }\n",
              "\n",
              "    .colab-df-convert {\n",
              "      background-color: #E8F0FE;\n",
              "      border: none;\n",
              "      border-radius: 50%;\n",
              "      cursor: pointer;\n",
              "      display: none;\n",
              "      fill: #1967D2;\n",
              "      height: 32px;\n",
              "      padding: 0 0 0 0;\n",
              "      width: 32px;\n",
              "    }\n",
              "\n",
              "    .colab-df-convert:hover {\n",
              "      background-color: #E2EBFA;\n",
              "      box-shadow: 0px 1px 2px rgba(60, 64, 67, 0.3), 0px 1px 3px 1px rgba(60, 64, 67, 0.15);\n",
              "      fill: #174EA6;\n",
              "    }\n",
              "\n",
              "    [theme=dark] .colab-df-convert {\n",
              "      background-color: #3B4455;\n",
              "      fill: #D2E3FC;\n",
              "    }\n",
              "\n",
              "    [theme=dark] .colab-df-convert:hover {\n",
              "      background-color: #434B5C;\n",
              "      box-shadow: 0px 1px 3px 1px rgba(0, 0, 0, 0.15);\n",
              "      filter: drop-shadow(0px 1px 2px rgba(0, 0, 0, 0.3));\n",
              "      fill: #FFFFFF;\n",
              "    }\n",
              "  </style>\n",
              "\n",
              "      <script>\n",
              "        const buttonEl =\n",
              "          document.querySelector('#df-fa75a78e-c84b-4341-91c8-7849db624abb button.colab-df-convert');\n",
              "        buttonEl.style.display =\n",
              "          google.colab.kernel.accessAllowed ? 'block' : 'none';\n",
              "\n",
              "        async function convertToInteractive(key) {\n",
              "          const element = document.querySelector('#df-fa75a78e-c84b-4341-91c8-7849db624abb');\n",
              "          const dataTable =\n",
              "            await google.colab.kernel.invokeFunction('convertToInteractive',\n",
              "                                                     [key], {});\n",
              "          if (!dataTable) return;\n",
              "\n",
              "          const docLinkHtml = 'Like what you see? Visit the ' +\n",
              "            '<a target=\"_blank\" href=https://colab.research.google.com/notebooks/data_table.ipynb>data table notebook</a>'\n",
              "            + ' to learn more about interactive tables.';\n",
              "          element.innerHTML = '';\n",
              "          dataTable['output_type'] = 'display_data';\n",
              "          await google.colab.output.renderOutput(dataTable, element);\n",
              "          const docLink = document.createElement('div');\n",
              "          docLink.innerHTML = docLinkHtml;\n",
              "          element.appendChild(docLink);\n",
              "        }\n",
              "      </script>\n",
              "    </div>\n",
              "  </div>\n",
              "  "
            ]
          },
          "metadata": {},
          "execution_count": 8
        }
      ]
    },
    {
      "cell_type": "code",
      "source": [
        "#df_raw = df_raw.fillna(\"\")\n",
        "#df_raw.isnull().sum()"
      ],
      "metadata": {
        "colab": {
          "base_uri": "https://localhost:8080/"
        },
        "id": "U6MgVQvXEDkK",
        "outputId": "ca6de248-8e95-4565-d0b0-8fb32a97a583"
      },
      "execution_count": null,
      "outputs": [
        {
          "output_type": "execute_result",
          "data": {
            "text/plain": [
              "id              0\n",
              "qid1            0\n",
              "qid2            0\n",
              "question1       0\n",
              "question2       0\n",
              "is_duplicate    0\n",
              "dtype: int64"
            ]
          },
          "metadata": {},
          "execution_count": 8
        }
      ]
    },
    {
      "cell_type": "code",
      "source": [
        "# randomly selected samples from df for the new df to perform operations\n",
        "df = df_raw.sample(5000)\n",
        "df = df[['question1', 'question2', 'is_duplicate']]\n",
        "print(df.shape)"
      ],
      "metadata": {
        "colab": {
          "base_uri": "https://localhost:8080/"
        },
        "id": "GXqgqnxiESn0",
        "outputId": "2ded3959-da30-4aa6-8b55-a2476f75b993"
      },
      "execution_count": 7,
      "outputs": [
        {
          "output_type": "stream",
          "name": "stdout",
          "text": [
            "(5000, 3)\n"
          ]
        }
      ]
    },
    {
      "cell_type": "code",
      "source": [
        "#df_copy = df.copy()"
      ],
      "metadata": {
        "id": "Bl3kqF6NQ6pn"
      },
      "execution_count": null,
      "outputs": []
    },
    {
      "cell_type": "markdown",
      "source": [
        "# Clean Data"
      ],
      "metadata": {
        "id": "u9_jhJzDjWUy"
      }
    },
    {
      "cell_type": "code",
      "source": [
        "def get_wordnet_pos(tag):\n",
        "    if tag.startswith(\"N\"):\n",
        "        return wordnet.NOUN\n",
        "    if tag.startswith(\"J\"):\n",
        "        return wordnet.ADJ\n",
        "    if tag.startswith(\"V\"):\n",
        "        return wordnet.VERB\n",
        "    if tag.startswith(\"R\"):\n",
        "        return wordnet.ADV\n",
        "    return wordnet.NOUN\n",
        "\n",
        "def clean_sentence(sentence, stopwords = False, lemmatize = False, stem = False):\n",
        "    sentence = sentence.lower().strip()\n",
        "    sentence = re.sub(r'[^a-z0-9\\s]', '', sentence)  # removing all caracters that are not alpha numeric\n",
        "    #sentence = re.sub(r'\\s{2,}', ' ', sentence\n",
        "   \n",
        "    sentence = sentence.translate(str.maketrans('', '', string.punctuation))  # remove punctuation\n",
        "    \n",
        "    if stopwords:\n",
        "        sentence = remove_stopwords(sentence)  \n",
        "        \n",
        "    if lemmatize:\n",
        "        nltk_tagged = nltk.pos_tag(nltk.word_tokenize(sentence))\n",
        "        wn_tagged = map(lambda x: (x[0], get_wordnet_pos(x[1])), nltk_tagged)\n",
        "        res_words = []\n",
        "        for word, tag in wn_tagged:\n",
        "            if tag is None:\n",
        "                res_words.append(word)\n",
        "            else :\n",
        "                res_words.append(lemmer.lemmatize(word, tag))\n",
        "        sentence = \" \".join(res_words)\n",
        "        \n",
        "    if stem:\n",
        "        sent_stemmed = ''\n",
        "        for word in sentence.split():\n",
        "            sent_stemmed += ' '+ stemmer.stem(word)\n",
        "        sentence = sent_stemmed\n",
        "   \n",
        "    return sentence\n",
        "\n",
        "def get_cleaned_senteces(df, stopwords = False, lemmatize = False, stem = False):\n",
        "    #sents1 = dfq[['question1']]  \n",
        "    #sents2 = dfq[['question2']]\n",
        "    cleaned_sentences1 = []\n",
        "    cleaned_sentences2 = []\n",
        "    \n",
        "    for index, row in df.iterrows():\n",
        "        # print (index, row)\n",
        "        cleaned1 = clean_sentence(row['question1'], stopwords, lemmatize, stem) \n",
        "        cleaned2 = clean_sentence(row['question2'], stopwords, lemmatize, stem)\n",
        "\n",
        "        cleaned_sentences1.append(cleaned1)\n",
        "        cleaned_sentences2.append(cleaned2)\n",
        "    return cleaned_sentences1, cleaned_sentences2"
      ],
      "metadata": {
        "id": "ynqJ5flWEUEk"
      },
      "execution_count": 8,
      "outputs": []
    },
    {
      "cell_type": "code",
      "source": [
        "def to_df(q1cleaned, q2cleaned, df):\n",
        "    '''cleaned sentences to df'''\n",
        "    X_temp1 = pd.DataFrame()\n",
        "    X_temp2 = pd.DataFrame()\n",
        "    X_temp1['q1'] = pd.DataFrame(q1cleaned, index = df.index)\n",
        "    X_temp2['q2'] = pd.DataFrame(q2cleaned, index = df.index)\n",
        "    X_temp = pd.concat([X_temp1, X_temp2], axis = 1)\n",
        "    X_temp['is_duplicate'] = df_raw['is_duplicate']\n",
        "    return X_temp"
      ],
      "metadata": {
        "id": "V-k52RcgEiWV"
      },
      "execution_count": 9,
      "outputs": []
    },
    {
      "cell_type": "markdown",
      "source": [
        "#### With Stopwords, lemmatized"
      ],
      "metadata": {
        "id": "5ljrxCFPk7D8"
      }
    },
    {
      "cell_type": "code",
      "source": [
        "# With stopwords lemmatized, not stemmed\n",
        "q1_sw_lemma, q2_sw_lemma = get_cleaned_senteces(df, stopwords = False, lemmatize = True, stem = False)\n",
        "assert len(q1_sw_lemma) == len(q2_sw_lemma)\n",
        "df_sw_lemma = to_df(q1_sw_lemma, q2_sw_lemma, df)\n",
        "df_sw_lemma.shape"
      ],
      "metadata": {
        "colab": {
          "base_uri": "https://localhost:8080/"
        },
        "id": "S7oZESZlOaV1",
        "outputId": "138fdd51-634f-4272-c22c-ded7cb2c522e"
      },
      "execution_count": 10,
      "outputs": [
        {
          "output_type": "execute_result",
          "data": {
            "text/plain": [
              "(5000, 3)"
            ]
          },
          "metadata": {},
          "execution_count": 10
        }
      ]
    },
    {
      "cell_type": "markdown",
      "source": [
        "#### With Stopwords, stemmed"
      ],
      "metadata": {
        "id": "g4spCai9lC7-"
      }
    },
    {
      "cell_type": "code",
      "source": [
        "q1_sw_stem, q2_sw_stem = get_cleaned_senteces(df, stopwords = False, lemmatize = False, stem = True)\n",
        "assert len(q1_sw_stem) == len(q2_sw_stem)\n",
        "df_sw_stem = to_df(q1_sw_stem, q2_sw_stem, df)\n",
        "df_sw_stem.shape"
      ],
      "metadata": {
        "colab": {
          "base_uri": "https://localhost:8080/"
        },
        "id": "nNAC16bYRtr_",
        "outputId": "04765ab9-3ca0-4636-fe71-693e5de84ffa"
      },
      "execution_count": 11,
      "outputs": [
        {
          "output_type": "execute_result",
          "data": {
            "text/plain": [
              "(5000, 3)"
            ]
          },
          "metadata": {},
          "execution_count": 11
        }
      ]
    },
    {
      "cell_type": "markdown",
      "source": [
        "#### With stopwords, not lemmatized nor stemmed"
      ],
      "metadata": {
        "id": "1BSvoisylMEZ"
      }
    },
    {
      "cell_type": "code",
      "source": [
        "q1_sw, q2_sw = get_cleaned_senteces(df, stopwords = False, lemmatize = False, stem = False)\n",
        "assert len(q1_sw) == len(q2_sw)\n",
        "df_sw = to_df(q1_sw, q2_sw, df)\n",
        "df_sw.shape"
      ],
      "metadata": {
        "id": "2EEjzuUglWuA",
        "outputId": "689f9445-06c1-413c-80ae-28e542906978",
        "colab": {
          "base_uri": "https://localhost:8080/"
        }
      },
      "execution_count": 12,
      "outputs": [
        {
          "output_type": "execute_result",
          "data": {
            "text/plain": [
              "(5000, 3)"
            ]
          },
          "metadata": {},
          "execution_count": 12
        }
      ]
    },
    {
      "cell_type": "markdown",
      "source": [
        "#### Without Stopwords, lemmatized\n"
      ],
      "metadata": {
        "id": "jX9Hu4HqmGjq"
      }
    },
    {
      "cell_type": "code",
      "source": [
        "q1_lemma, q2_lemma = get_cleaned_senteces(df, stopwords = True, lemmatize = True, stem = False)\n",
        "assert len(q1_lemma) == len(q2_lemma)\n",
        "df_lemma = to_df(q1_lemma, q2_lemma, df)\n",
        "df_lemma.shape"
      ],
      "metadata": {
        "colab": {
          "base_uri": "https://localhost:8080/"
        },
        "id": "RvPtJo-zmQnv",
        "outputId": "75a4c256-46be-485e-a18d-bdaec4a5b4b4"
      },
      "execution_count": 13,
      "outputs": [
        {
          "output_type": "execute_result",
          "data": {
            "text/plain": [
              "(5000, 3)"
            ]
          },
          "metadata": {},
          "execution_count": 13
        }
      ]
    },
    {
      "cell_type": "markdown",
      "source": [
        "#### Without Stopwords, stemmed"
      ],
      "metadata": {
        "id": "8Vf2MjpLmay-"
      }
    },
    {
      "cell_type": "code",
      "source": [
        "q1_stem, q2_stem = get_cleaned_senteces(df, stopwords = True, lemmatize = False, stem = True)\n",
        "assert len(q1_stem) == len(q2_stem)\n",
        "df_stem = to_df(q1_stem, q2_stem, df)\n",
        "df_stem.shape"
      ],
      "metadata": {
        "id": "mewxphR3mgz6",
        "outputId": "3fa3638d-c544-46f6-8f04-8b271e861fb8",
        "colab": {
          "base_uri": "https://localhost:8080/"
        }
      },
      "execution_count": 14,
      "outputs": [
        {
          "output_type": "execute_result",
          "data": {
            "text/plain": [
              "(5000, 3)"
            ]
          },
          "metadata": {},
          "execution_count": 14
        }
      ]
    },
    {
      "cell_type": "markdown",
      "source": [
        "#### Without Stopwords, not lemmatized nor stemmed"
      ],
      "metadata": {
        "id": "yGc3K6pAnQpn"
      }
    },
    {
      "cell_type": "code",
      "source": [
        "q1_out, q2_out = get_cleaned_senteces(df, stopwords = True, lemmatize = False, stem = False)\n",
        "assert len(q1_out) == len(q2_out)\n",
        "df_out = to_df(q1_out, q2_out, df)\n",
        "df_out.shape"
      ],
      "metadata": {
        "id": "G4zZgJhdnPqd",
        "outputId": "3921d2ca-6256-4892-a8bb-02dd540a0370",
        "colab": {
          "base_uri": "https://localhost:8080/"
        }
      },
      "execution_count": 15,
      "outputs": [
        {
          "output_type": "execute_result",
          "data": {
            "text/plain": [
              "(5000, 3)"
            ]
          },
          "metadata": {},
          "execution_count": 15
        }
      ]
    },
    {
      "cell_type": "code",
      "source": [
        "display ('With stopwords, without lemma and stem', df_sw.iloc[[22]])\n",
        "display ('With stopwords, lemmatized and without stem', df_sw_lemma.iloc[[22]])\n",
        "display ('With stopwords, stemmed and without lemma', df_sw_stem.iloc[[22]])\n",
        "display ('Without stopwords, lemma and stem', df_out.iloc[[22]])\n",
        "display ('Without stopwords and stem, lemmatized', df_lemma.iloc[[22]])\n",
        "display ('Without stopwords and lemma, stemmed', df_stem.iloc[[22]])"
      ],
      "metadata": {
        "id": "JQeieU-pHxLu",
        "outputId": "aee631a5-c78f-4fe5-f11b-8ea38e0076ef",
        "colab": {
          "base_uri": "https://localhost:8080/",
          "height": 509
        }
      },
      "execution_count": 16,
      "outputs": [
        {
          "output_type": "display_data",
          "data": {
            "text/plain": [
              "'With stopwords, without lemma and stem'"
            ],
            "application/vnd.google.colaboratory.intrinsic+json": {
              "type": "string"
            }
          },
          "metadata": {}
        },
        {
          "output_type": "display_data",
          "data": {
            "text/plain": [
              "                                                   q1  \\\n",
              "397754  how important should sex be in a relationship   \n",
              "\n",
              "                                                       q2  is_duplicate  \n",
              "397754  how important is sex in a successful relationship             1  "
            ],
            "text/html": [
              "\n",
              "  <div id=\"df-3d08fc95-1283-4c61-b877-321c3114d1f0\">\n",
              "    <div class=\"colab-df-container\">\n",
              "      <div>\n",
              "<style scoped>\n",
              "    .dataframe tbody tr th:only-of-type {\n",
              "        vertical-align: middle;\n",
              "    }\n",
              "\n",
              "    .dataframe tbody tr th {\n",
              "        vertical-align: top;\n",
              "    }\n",
              "\n",
              "    .dataframe thead th {\n",
              "        text-align: right;\n",
              "    }\n",
              "</style>\n",
              "<table border=\"1\" class=\"dataframe\">\n",
              "  <thead>\n",
              "    <tr style=\"text-align: right;\">\n",
              "      <th></th>\n",
              "      <th>q1</th>\n",
              "      <th>q2</th>\n",
              "      <th>is_duplicate</th>\n",
              "    </tr>\n",
              "  </thead>\n",
              "  <tbody>\n",
              "    <tr>\n",
              "      <th>397754</th>\n",
              "      <td>how important should sex be in a relationship</td>\n",
              "      <td>how important is sex in a successful relationship</td>\n",
              "      <td>1</td>\n",
              "    </tr>\n",
              "  </tbody>\n",
              "</table>\n",
              "</div>\n",
              "      <button class=\"colab-df-convert\" onclick=\"convertToInteractive('df-3d08fc95-1283-4c61-b877-321c3114d1f0')\"\n",
              "              title=\"Convert this dataframe to an interactive table.\"\n",
              "              style=\"display:none;\">\n",
              "        \n",
              "  <svg xmlns=\"http://www.w3.org/2000/svg\" height=\"24px\"viewBox=\"0 0 24 24\"\n",
              "       width=\"24px\">\n",
              "    <path d=\"M0 0h24v24H0V0z\" fill=\"none\"/>\n",
              "    <path d=\"M18.56 5.44l.94 2.06.94-2.06 2.06-.94-2.06-.94-.94-2.06-.94 2.06-2.06.94zm-11 1L8.5 8.5l.94-2.06 2.06-.94-2.06-.94L8.5 2.5l-.94 2.06-2.06.94zm10 10l.94 2.06.94-2.06 2.06-.94-2.06-.94-.94-2.06-.94 2.06-2.06.94z\"/><path d=\"M17.41 7.96l-1.37-1.37c-.4-.4-.92-.59-1.43-.59-.52 0-1.04.2-1.43.59L10.3 9.45l-7.72 7.72c-.78.78-.78 2.05 0 2.83L4 21.41c.39.39.9.59 1.41.59.51 0 1.02-.2 1.41-.59l7.78-7.78 2.81-2.81c.8-.78.8-2.07 0-2.86zM5.41 20L4 18.59l7.72-7.72 1.47 1.35L5.41 20z\"/>\n",
              "  </svg>\n",
              "      </button>\n",
              "      \n",
              "  <style>\n",
              "    .colab-df-container {\n",
              "      display:flex;\n",
              "      flex-wrap:wrap;\n",
              "      gap: 12px;\n",
              "    }\n",
              "\n",
              "    .colab-df-convert {\n",
              "      background-color: #E8F0FE;\n",
              "      border: none;\n",
              "      border-radius: 50%;\n",
              "      cursor: pointer;\n",
              "      display: none;\n",
              "      fill: #1967D2;\n",
              "      height: 32px;\n",
              "      padding: 0 0 0 0;\n",
              "      width: 32px;\n",
              "    }\n",
              "\n",
              "    .colab-df-convert:hover {\n",
              "      background-color: #E2EBFA;\n",
              "      box-shadow: 0px 1px 2px rgba(60, 64, 67, 0.3), 0px 1px 3px 1px rgba(60, 64, 67, 0.15);\n",
              "      fill: #174EA6;\n",
              "    }\n",
              "\n",
              "    [theme=dark] .colab-df-convert {\n",
              "      background-color: #3B4455;\n",
              "      fill: #D2E3FC;\n",
              "    }\n",
              "\n",
              "    [theme=dark] .colab-df-convert:hover {\n",
              "      background-color: #434B5C;\n",
              "      box-shadow: 0px 1px 3px 1px rgba(0, 0, 0, 0.15);\n",
              "      filter: drop-shadow(0px 1px 2px rgba(0, 0, 0, 0.3));\n",
              "      fill: #FFFFFF;\n",
              "    }\n",
              "  </style>\n",
              "\n",
              "      <script>\n",
              "        const buttonEl =\n",
              "          document.querySelector('#df-3d08fc95-1283-4c61-b877-321c3114d1f0 button.colab-df-convert');\n",
              "        buttonEl.style.display =\n",
              "          google.colab.kernel.accessAllowed ? 'block' : 'none';\n",
              "\n",
              "        async function convertToInteractive(key) {\n",
              "          const element = document.querySelector('#df-3d08fc95-1283-4c61-b877-321c3114d1f0');\n",
              "          const dataTable =\n",
              "            await google.colab.kernel.invokeFunction('convertToInteractive',\n",
              "                                                     [key], {});\n",
              "          if (!dataTable) return;\n",
              "\n",
              "          const docLinkHtml = 'Like what you see? Visit the ' +\n",
              "            '<a target=\"_blank\" href=https://colab.research.google.com/notebooks/data_table.ipynb>data table notebook</a>'\n",
              "            + ' to learn more about interactive tables.';\n",
              "          element.innerHTML = '';\n",
              "          dataTable['output_type'] = 'display_data';\n",
              "          await google.colab.output.renderOutput(dataTable, element);\n",
              "          const docLink = document.createElement('div');\n",
              "          docLink.innerHTML = docLinkHtml;\n",
              "          element.appendChild(docLink);\n",
              "        }\n",
              "      </script>\n",
              "    </div>\n",
              "  </div>\n",
              "  "
            ]
          },
          "metadata": {}
        },
        {
          "output_type": "display_data",
          "data": {
            "text/plain": [
              "'With stopwords, lemmatized and without stem'"
            ],
            "application/vnd.google.colaboratory.intrinsic+json": {
              "type": "string"
            }
          },
          "metadata": {}
        },
        {
          "output_type": "display_data",
          "data": {
            "text/plain": [
              "                                                   q1  \\\n",
              "397754  how important should sex be in a relationship   \n",
              "\n",
              "                                                       q2  is_duplicate  \n",
              "397754  how important be sex in a successful relationship             1  "
            ],
            "text/html": [
              "\n",
              "  <div id=\"df-dfd9e11c-8d3e-47a3-b8fa-5d754debc3d7\">\n",
              "    <div class=\"colab-df-container\">\n",
              "      <div>\n",
              "<style scoped>\n",
              "    .dataframe tbody tr th:only-of-type {\n",
              "        vertical-align: middle;\n",
              "    }\n",
              "\n",
              "    .dataframe tbody tr th {\n",
              "        vertical-align: top;\n",
              "    }\n",
              "\n",
              "    .dataframe thead th {\n",
              "        text-align: right;\n",
              "    }\n",
              "</style>\n",
              "<table border=\"1\" class=\"dataframe\">\n",
              "  <thead>\n",
              "    <tr style=\"text-align: right;\">\n",
              "      <th></th>\n",
              "      <th>q1</th>\n",
              "      <th>q2</th>\n",
              "      <th>is_duplicate</th>\n",
              "    </tr>\n",
              "  </thead>\n",
              "  <tbody>\n",
              "    <tr>\n",
              "      <th>397754</th>\n",
              "      <td>how important should sex be in a relationship</td>\n",
              "      <td>how important be sex in a successful relationship</td>\n",
              "      <td>1</td>\n",
              "    </tr>\n",
              "  </tbody>\n",
              "</table>\n",
              "</div>\n",
              "      <button class=\"colab-df-convert\" onclick=\"convertToInteractive('df-dfd9e11c-8d3e-47a3-b8fa-5d754debc3d7')\"\n",
              "              title=\"Convert this dataframe to an interactive table.\"\n",
              "              style=\"display:none;\">\n",
              "        \n",
              "  <svg xmlns=\"http://www.w3.org/2000/svg\" height=\"24px\"viewBox=\"0 0 24 24\"\n",
              "       width=\"24px\">\n",
              "    <path d=\"M0 0h24v24H0V0z\" fill=\"none\"/>\n",
              "    <path d=\"M18.56 5.44l.94 2.06.94-2.06 2.06-.94-2.06-.94-.94-2.06-.94 2.06-2.06.94zm-11 1L8.5 8.5l.94-2.06 2.06-.94-2.06-.94L8.5 2.5l-.94 2.06-2.06.94zm10 10l.94 2.06.94-2.06 2.06-.94-2.06-.94-.94-2.06-.94 2.06-2.06.94z\"/><path d=\"M17.41 7.96l-1.37-1.37c-.4-.4-.92-.59-1.43-.59-.52 0-1.04.2-1.43.59L10.3 9.45l-7.72 7.72c-.78.78-.78 2.05 0 2.83L4 21.41c.39.39.9.59 1.41.59.51 0 1.02-.2 1.41-.59l7.78-7.78 2.81-2.81c.8-.78.8-2.07 0-2.86zM5.41 20L4 18.59l7.72-7.72 1.47 1.35L5.41 20z\"/>\n",
              "  </svg>\n",
              "      </button>\n",
              "      \n",
              "  <style>\n",
              "    .colab-df-container {\n",
              "      display:flex;\n",
              "      flex-wrap:wrap;\n",
              "      gap: 12px;\n",
              "    }\n",
              "\n",
              "    .colab-df-convert {\n",
              "      background-color: #E8F0FE;\n",
              "      border: none;\n",
              "      border-radius: 50%;\n",
              "      cursor: pointer;\n",
              "      display: none;\n",
              "      fill: #1967D2;\n",
              "      height: 32px;\n",
              "      padding: 0 0 0 0;\n",
              "      width: 32px;\n",
              "    }\n",
              "\n",
              "    .colab-df-convert:hover {\n",
              "      background-color: #E2EBFA;\n",
              "      box-shadow: 0px 1px 2px rgba(60, 64, 67, 0.3), 0px 1px 3px 1px rgba(60, 64, 67, 0.15);\n",
              "      fill: #174EA6;\n",
              "    }\n",
              "\n",
              "    [theme=dark] .colab-df-convert {\n",
              "      background-color: #3B4455;\n",
              "      fill: #D2E3FC;\n",
              "    }\n",
              "\n",
              "    [theme=dark] .colab-df-convert:hover {\n",
              "      background-color: #434B5C;\n",
              "      box-shadow: 0px 1px 3px 1px rgba(0, 0, 0, 0.15);\n",
              "      filter: drop-shadow(0px 1px 2px rgba(0, 0, 0, 0.3));\n",
              "      fill: #FFFFFF;\n",
              "    }\n",
              "  </style>\n",
              "\n",
              "      <script>\n",
              "        const buttonEl =\n",
              "          document.querySelector('#df-dfd9e11c-8d3e-47a3-b8fa-5d754debc3d7 button.colab-df-convert');\n",
              "        buttonEl.style.display =\n",
              "          google.colab.kernel.accessAllowed ? 'block' : 'none';\n",
              "\n",
              "        async function convertToInteractive(key) {\n",
              "          const element = document.querySelector('#df-dfd9e11c-8d3e-47a3-b8fa-5d754debc3d7');\n",
              "          const dataTable =\n",
              "            await google.colab.kernel.invokeFunction('convertToInteractive',\n",
              "                                                     [key], {});\n",
              "          if (!dataTable) return;\n",
              "\n",
              "          const docLinkHtml = 'Like what you see? Visit the ' +\n",
              "            '<a target=\"_blank\" href=https://colab.research.google.com/notebooks/data_table.ipynb>data table notebook</a>'\n",
              "            + ' to learn more about interactive tables.';\n",
              "          element.innerHTML = '';\n",
              "          dataTable['output_type'] = 'display_data';\n",
              "          await google.colab.output.renderOutput(dataTable, element);\n",
              "          const docLink = document.createElement('div');\n",
              "          docLink.innerHTML = docLinkHtml;\n",
              "          element.appendChild(docLink);\n",
              "        }\n",
              "      </script>\n",
              "    </div>\n",
              "  </div>\n",
              "  "
            ]
          },
          "metadata": {}
        },
        {
          "output_type": "display_data",
          "data": {
            "text/plain": [
              "'With stopwords, stemmed and without lemma'"
            ],
            "application/vnd.google.colaboratory.intrinsic+json": {
              "type": "string"
            }
          },
          "metadata": {}
        },
        {
          "output_type": "display_data",
          "data": {
            "text/plain": [
              "                                                 q1  \\\n",
              "397754   how import should sex be in a relationship   \n",
              "\n",
              "                                                  q2  is_duplicate  \n",
              "397754   how import is sex in a success relationship             1  "
            ],
            "text/html": [
              "\n",
              "  <div id=\"df-d46682d4-17a4-4d2f-a436-518cf515bc2c\">\n",
              "    <div class=\"colab-df-container\">\n",
              "      <div>\n",
              "<style scoped>\n",
              "    .dataframe tbody tr th:only-of-type {\n",
              "        vertical-align: middle;\n",
              "    }\n",
              "\n",
              "    .dataframe tbody tr th {\n",
              "        vertical-align: top;\n",
              "    }\n",
              "\n",
              "    .dataframe thead th {\n",
              "        text-align: right;\n",
              "    }\n",
              "</style>\n",
              "<table border=\"1\" class=\"dataframe\">\n",
              "  <thead>\n",
              "    <tr style=\"text-align: right;\">\n",
              "      <th></th>\n",
              "      <th>q1</th>\n",
              "      <th>q2</th>\n",
              "      <th>is_duplicate</th>\n",
              "    </tr>\n",
              "  </thead>\n",
              "  <tbody>\n",
              "    <tr>\n",
              "      <th>397754</th>\n",
              "      <td>how import should sex be in a relationship</td>\n",
              "      <td>how import is sex in a success relationship</td>\n",
              "      <td>1</td>\n",
              "    </tr>\n",
              "  </tbody>\n",
              "</table>\n",
              "</div>\n",
              "      <button class=\"colab-df-convert\" onclick=\"convertToInteractive('df-d46682d4-17a4-4d2f-a436-518cf515bc2c')\"\n",
              "              title=\"Convert this dataframe to an interactive table.\"\n",
              "              style=\"display:none;\">\n",
              "        \n",
              "  <svg xmlns=\"http://www.w3.org/2000/svg\" height=\"24px\"viewBox=\"0 0 24 24\"\n",
              "       width=\"24px\">\n",
              "    <path d=\"M0 0h24v24H0V0z\" fill=\"none\"/>\n",
              "    <path d=\"M18.56 5.44l.94 2.06.94-2.06 2.06-.94-2.06-.94-.94-2.06-.94 2.06-2.06.94zm-11 1L8.5 8.5l.94-2.06 2.06-.94-2.06-.94L8.5 2.5l-.94 2.06-2.06.94zm10 10l.94 2.06.94-2.06 2.06-.94-2.06-.94-.94-2.06-.94 2.06-2.06.94z\"/><path d=\"M17.41 7.96l-1.37-1.37c-.4-.4-.92-.59-1.43-.59-.52 0-1.04.2-1.43.59L10.3 9.45l-7.72 7.72c-.78.78-.78 2.05 0 2.83L4 21.41c.39.39.9.59 1.41.59.51 0 1.02-.2 1.41-.59l7.78-7.78 2.81-2.81c.8-.78.8-2.07 0-2.86zM5.41 20L4 18.59l7.72-7.72 1.47 1.35L5.41 20z\"/>\n",
              "  </svg>\n",
              "      </button>\n",
              "      \n",
              "  <style>\n",
              "    .colab-df-container {\n",
              "      display:flex;\n",
              "      flex-wrap:wrap;\n",
              "      gap: 12px;\n",
              "    }\n",
              "\n",
              "    .colab-df-convert {\n",
              "      background-color: #E8F0FE;\n",
              "      border: none;\n",
              "      border-radius: 50%;\n",
              "      cursor: pointer;\n",
              "      display: none;\n",
              "      fill: #1967D2;\n",
              "      height: 32px;\n",
              "      padding: 0 0 0 0;\n",
              "      width: 32px;\n",
              "    }\n",
              "\n",
              "    .colab-df-convert:hover {\n",
              "      background-color: #E2EBFA;\n",
              "      box-shadow: 0px 1px 2px rgba(60, 64, 67, 0.3), 0px 1px 3px 1px rgba(60, 64, 67, 0.15);\n",
              "      fill: #174EA6;\n",
              "    }\n",
              "\n",
              "    [theme=dark] .colab-df-convert {\n",
              "      background-color: #3B4455;\n",
              "      fill: #D2E3FC;\n",
              "    }\n",
              "\n",
              "    [theme=dark] .colab-df-convert:hover {\n",
              "      background-color: #434B5C;\n",
              "      box-shadow: 0px 1px 3px 1px rgba(0, 0, 0, 0.15);\n",
              "      filter: drop-shadow(0px 1px 2px rgba(0, 0, 0, 0.3));\n",
              "      fill: #FFFFFF;\n",
              "    }\n",
              "  </style>\n",
              "\n",
              "      <script>\n",
              "        const buttonEl =\n",
              "          document.querySelector('#df-d46682d4-17a4-4d2f-a436-518cf515bc2c button.colab-df-convert');\n",
              "        buttonEl.style.display =\n",
              "          google.colab.kernel.accessAllowed ? 'block' : 'none';\n",
              "\n",
              "        async function convertToInteractive(key) {\n",
              "          const element = document.querySelector('#df-d46682d4-17a4-4d2f-a436-518cf515bc2c');\n",
              "          const dataTable =\n",
              "            await google.colab.kernel.invokeFunction('convertToInteractive',\n",
              "                                                     [key], {});\n",
              "          if (!dataTable) return;\n",
              "\n",
              "          const docLinkHtml = 'Like what you see? Visit the ' +\n",
              "            '<a target=\"_blank\" href=https://colab.research.google.com/notebooks/data_table.ipynb>data table notebook</a>'\n",
              "            + ' to learn more about interactive tables.';\n",
              "          element.innerHTML = '';\n",
              "          dataTable['output_type'] = 'display_data';\n",
              "          await google.colab.output.renderOutput(dataTable, element);\n",
              "          const docLink = document.createElement('div');\n",
              "          docLink.innerHTML = docLinkHtml;\n",
              "          element.appendChild(docLink);\n",
              "        }\n",
              "      </script>\n",
              "    </div>\n",
              "  </div>\n",
              "  "
            ]
          },
          "metadata": {}
        },
        {
          "output_type": "display_data",
          "data": {
            "text/plain": [
              "'Without stopwords, lemma and stem'"
            ],
            "application/vnd.google.colaboratory.intrinsic+json": {
              "type": "string"
            }
          },
          "metadata": {}
        },
        {
          "output_type": "display_data",
          "data": {
            "text/plain": [
              "                                q1                                     q2  \\\n",
              "397754  important sex relationship  important sex successful relationship   \n",
              "\n",
              "        is_duplicate  \n",
              "397754             1  "
            ],
            "text/html": [
              "\n",
              "  <div id=\"df-27955305-b19a-400f-9ca8-d029621b1e54\">\n",
              "    <div class=\"colab-df-container\">\n",
              "      <div>\n",
              "<style scoped>\n",
              "    .dataframe tbody tr th:only-of-type {\n",
              "        vertical-align: middle;\n",
              "    }\n",
              "\n",
              "    .dataframe tbody tr th {\n",
              "        vertical-align: top;\n",
              "    }\n",
              "\n",
              "    .dataframe thead th {\n",
              "        text-align: right;\n",
              "    }\n",
              "</style>\n",
              "<table border=\"1\" class=\"dataframe\">\n",
              "  <thead>\n",
              "    <tr style=\"text-align: right;\">\n",
              "      <th></th>\n",
              "      <th>q1</th>\n",
              "      <th>q2</th>\n",
              "      <th>is_duplicate</th>\n",
              "    </tr>\n",
              "  </thead>\n",
              "  <tbody>\n",
              "    <tr>\n",
              "      <th>397754</th>\n",
              "      <td>important sex relationship</td>\n",
              "      <td>important sex successful relationship</td>\n",
              "      <td>1</td>\n",
              "    </tr>\n",
              "  </tbody>\n",
              "</table>\n",
              "</div>\n",
              "      <button class=\"colab-df-convert\" onclick=\"convertToInteractive('df-27955305-b19a-400f-9ca8-d029621b1e54')\"\n",
              "              title=\"Convert this dataframe to an interactive table.\"\n",
              "              style=\"display:none;\">\n",
              "        \n",
              "  <svg xmlns=\"http://www.w3.org/2000/svg\" height=\"24px\"viewBox=\"0 0 24 24\"\n",
              "       width=\"24px\">\n",
              "    <path d=\"M0 0h24v24H0V0z\" fill=\"none\"/>\n",
              "    <path d=\"M18.56 5.44l.94 2.06.94-2.06 2.06-.94-2.06-.94-.94-2.06-.94 2.06-2.06.94zm-11 1L8.5 8.5l.94-2.06 2.06-.94-2.06-.94L8.5 2.5l-.94 2.06-2.06.94zm10 10l.94 2.06.94-2.06 2.06-.94-2.06-.94-.94-2.06-.94 2.06-2.06.94z\"/><path d=\"M17.41 7.96l-1.37-1.37c-.4-.4-.92-.59-1.43-.59-.52 0-1.04.2-1.43.59L10.3 9.45l-7.72 7.72c-.78.78-.78 2.05 0 2.83L4 21.41c.39.39.9.59 1.41.59.51 0 1.02-.2 1.41-.59l7.78-7.78 2.81-2.81c.8-.78.8-2.07 0-2.86zM5.41 20L4 18.59l7.72-7.72 1.47 1.35L5.41 20z\"/>\n",
              "  </svg>\n",
              "      </button>\n",
              "      \n",
              "  <style>\n",
              "    .colab-df-container {\n",
              "      display:flex;\n",
              "      flex-wrap:wrap;\n",
              "      gap: 12px;\n",
              "    }\n",
              "\n",
              "    .colab-df-convert {\n",
              "      background-color: #E8F0FE;\n",
              "      border: none;\n",
              "      border-radius: 50%;\n",
              "      cursor: pointer;\n",
              "      display: none;\n",
              "      fill: #1967D2;\n",
              "      height: 32px;\n",
              "      padding: 0 0 0 0;\n",
              "      width: 32px;\n",
              "    }\n",
              "\n",
              "    .colab-df-convert:hover {\n",
              "      background-color: #E2EBFA;\n",
              "      box-shadow: 0px 1px 2px rgba(60, 64, 67, 0.3), 0px 1px 3px 1px rgba(60, 64, 67, 0.15);\n",
              "      fill: #174EA6;\n",
              "    }\n",
              "\n",
              "    [theme=dark] .colab-df-convert {\n",
              "      background-color: #3B4455;\n",
              "      fill: #D2E3FC;\n",
              "    }\n",
              "\n",
              "    [theme=dark] .colab-df-convert:hover {\n",
              "      background-color: #434B5C;\n",
              "      box-shadow: 0px 1px 3px 1px rgba(0, 0, 0, 0.15);\n",
              "      filter: drop-shadow(0px 1px 2px rgba(0, 0, 0, 0.3));\n",
              "      fill: #FFFFFF;\n",
              "    }\n",
              "  </style>\n",
              "\n",
              "      <script>\n",
              "        const buttonEl =\n",
              "          document.querySelector('#df-27955305-b19a-400f-9ca8-d029621b1e54 button.colab-df-convert');\n",
              "        buttonEl.style.display =\n",
              "          google.colab.kernel.accessAllowed ? 'block' : 'none';\n",
              "\n",
              "        async function convertToInteractive(key) {\n",
              "          const element = document.querySelector('#df-27955305-b19a-400f-9ca8-d029621b1e54');\n",
              "          const dataTable =\n",
              "            await google.colab.kernel.invokeFunction('convertToInteractive',\n",
              "                                                     [key], {});\n",
              "          if (!dataTable) return;\n",
              "\n",
              "          const docLinkHtml = 'Like what you see? Visit the ' +\n",
              "            '<a target=\"_blank\" href=https://colab.research.google.com/notebooks/data_table.ipynb>data table notebook</a>'\n",
              "            + ' to learn more about interactive tables.';\n",
              "          element.innerHTML = '';\n",
              "          dataTable['output_type'] = 'display_data';\n",
              "          await google.colab.output.renderOutput(dataTable, element);\n",
              "          const docLink = document.createElement('div');\n",
              "          docLink.innerHTML = docLinkHtml;\n",
              "          element.appendChild(docLink);\n",
              "        }\n",
              "      </script>\n",
              "    </div>\n",
              "  </div>\n",
              "  "
            ]
          },
          "metadata": {}
        },
        {
          "output_type": "display_data",
          "data": {
            "text/plain": [
              "'Without stopwords and stem, lemmatized'"
            ],
            "application/vnd.google.colaboratory.intrinsic+json": {
              "type": "string"
            }
          },
          "metadata": {}
        },
        {
          "output_type": "display_data",
          "data": {
            "text/plain": [
              "                                q1                                     q2  \\\n",
              "397754  important sex relationship  important sex successful relationship   \n",
              "\n",
              "        is_duplicate  \n",
              "397754             1  "
            ],
            "text/html": [
              "\n",
              "  <div id=\"df-a418787e-8183-4352-8f2d-5bdbaea6f370\">\n",
              "    <div class=\"colab-df-container\">\n",
              "      <div>\n",
              "<style scoped>\n",
              "    .dataframe tbody tr th:only-of-type {\n",
              "        vertical-align: middle;\n",
              "    }\n",
              "\n",
              "    .dataframe tbody tr th {\n",
              "        vertical-align: top;\n",
              "    }\n",
              "\n",
              "    .dataframe thead th {\n",
              "        text-align: right;\n",
              "    }\n",
              "</style>\n",
              "<table border=\"1\" class=\"dataframe\">\n",
              "  <thead>\n",
              "    <tr style=\"text-align: right;\">\n",
              "      <th></th>\n",
              "      <th>q1</th>\n",
              "      <th>q2</th>\n",
              "      <th>is_duplicate</th>\n",
              "    </tr>\n",
              "  </thead>\n",
              "  <tbody>\n",
              "    <tr>\n",
              "      <th>397754</th>\n",
              "      <td>important sex relationship</td>\n",
              "      <td>important sex successful relationship</td>\n",
              "      <td>1</td>\n",
              "    </tr>\n",
              "  </tbody>\n",
              "</table>\n",
              "</div>\n",
              "      <button class=\"colab-df-convert\" onclick=\"convertToInteractive('df-a418787e-8183-4352-8f2d-5bdbaea6f370')\"\n",
              "              title=\"Convert this dataframe to an interactive table.\"\n",
              "              style=\"display:none;\">\n",
              "        \n",
              "  <svg xmlns=\"http://www.w3.org/2000/svg\" height=\"24px\"viewBox=\"0 0 24 24\"\n",
              "       width=\"24px\">\n",
              "    <path d=\"M0 0h24v24H0V0z\" fill=\"none\"/>\n",
              "    <path d=\"M18.56 5.44l.94 2.06.94-2.06 2.06-.94-2.06-.94-.94-2.06-.94 2.06-2.06.94zm-11 1L8.5 8.5l.94-2.06 2.06-.94-2.06-.94L8.5 2.5l-.94 2.06-2.06.94zm10 10l.94 2.06.94-2.06 2.06-.94-2.06-.94-.94-2.06-.94 2.06-2.06.94z\"/><path d=\"M17.41 7.96l-1.37-1.37c-.4-.4-.92-.59-1.43-.59-.52 0-1.04.2-1.43.59L10.3 9.45l-7.72 7.72c-.78.78-.78 2.05 0 2.83L4 21.41c.39.39.9.59 1.41.59.51 0 1.02-.2 1.41-.59l7.78-7.78 2.81-2.81c.8-.78.8-2.07 0-2.86zM5.41 20L4 18.59l7.72-7.72 1.47 1.35L5.41 20z\"/>\n",
              "  </svg>\n",
              "      </button>\n",
              "      \n",
              "  <style>\n",
              "    .colab-df-container {\n",
              "      display:flex;\n",
              "      flex-wrap:wrap;\n",
              "      gap: 12px;\n",
              "    }\n",
              "\n",
              "    .colab-df-convert {\n",
              "      background-color: #E8F0FE;\n",
              "      border: none;\n",
              "      border-radius: 50%;\n",
              "      cursor: pointer;\n",
              "      display: none;\n",
              "      fill: #1967D2;\n",
              "      height: 32px;\n",
              "      padding: 0 0 0 0;\n",
              "      width: 32px;\n",
              "    }\n",
              "\n",
              "    .colab-df-convert:hover {\n",
              "      background-color: #E2EBFA;\n",
              "      box-shadow: 0px 1px 2px rgba(60, 64, 67, 0.3), 0px 1px 3px 1px rgba(60, 64, 67, 0.15);\n",
              "      fill: #174EA6;\n",
              "    }\n",
              "\n",
              "    [theme=dark] .colab-df-convert {\n",
              "      background-color: #3B4455;\n",
              "      fill: #D2E3FC;\n",
              "    }\n",
              "\n",
              "    [theme=dark] .colab-df-convert:hover {\n",
              "      background-color: #434B5C;\n",
              "      box-shadow: 0px 1px 3px 1px rgba(0, 0, 0, 0.15);\n",
              "      filter: drop-shadow(0px 1px 2px rgba(0, 0, 0, 0.3));\n",
              "      fill: #FFFFFF;\n",
              "    }\n",
              "  </style>\n",
              "\n",
              "      <script>\n",
              "        const buttonEl =\n",
              "          document.querySelector('#df-a418787e-8183-4352-8f2d-5bdbaea6f370 button.colab-df-convert');\n",
              "        buttonEl.style.display =\n",
              "          google.colab.kernel.accessAllowed ? 'block' : 'none';\n",
              "\n",
              "        async function convertToInteractive(key) {\n",
              "          const element = document.querySelector('#df-a418787e-8183-4352-8f2d-5bdbaea6f370');\n",
              "          const dataTable =\n",
              "            await google.colab.kernel.invokeFunction('convertToInteractive',\n",
              "                                                     [key], {});\n",
              "          if (!dataTable) return;\n",
              "\n",
              "          const docLinkHtml = 'Like what you see? Visit the ' +\n",
              "            '<a target=\"_blank\" href=https://colab.research.google.com/notebooks/data_table.ipynb>data table notebook</a>'\n",
              "            + ' to learn more about interactive tables.';\n",
              "          element.innerHTML = '';\n",
              "          dataTable['output_type'] = 'display_data';\n",
              "          await google.colab.output.renderOutput(dataTable, element);\n",
              "          const docLink = document.createElement('div');\n",
              "          docLink.innerHTML = docLinkHtml;\n",
              "          element.appendChild(docLink);\n",
              "        }\n",
              "      </script>\n",
              "    </div>\n",
              "  </div>\n",
              "  "
            ]
          },
          "metadata": {}
        },
        {
          "output_type": "display_data",
          "data": {
            "text/plain": [
              "'Without stopwords and lemma, stemmed'"
            ],
            "application/vnd.google.colaboratory.intrinsic+json": {
              "type": "string"
            }
          },
          "metadata": {}
        },
        {
          "output_type": "display_data",
          "data": {
            "text/plain": [
              "                              q1                                q2  \\\n",
              "397754   import sex relationship   import sex success relationship   \n",
              "\n",
              "        is_duplicate  \n",
              "397754             1  "
            ],
            "text/html": [
              "\n",
              "  <div id=\"df-8eab6ea3-d6b4-42ad-ac21-3a91cd0e2aff\">\n",
              "    <div class=\"colab-df-container\">\n",
              "      <div>\n",
              "<style scoped>\n",
              "    .dataframe tbody tr th:only-of-type {\n",
              "        vertical-align: middle;\n",
              "    }\n",
              "\n",
              "    .dataframe tbody tr th {\n",
              "        vertical-align: top;\n",
              "    }\n",
              "\n",
              "    .dataframe thead th {\n",
              "        text-align: right;\n",
              "    }\n",
              "</style>\n",
              "<table border=\"1\" class=\"dataframe\">\n",
              "  <thead>\n",
              "    <tr style=\"text-align: right;\">\n",
              "      <th></th>\n",
              "      <th>q1</th>\n",
              "      <th>q2</th>\n",
              "      <th>is_duplicate</th>\n",
              "    </tr>\n",
              "  </thead>\n",
              "  <tbody>\n",
              "    <tr>\n",
              "      <th>397754</th>\n",
              "      <td>import sex relationship</td>\n",
              "      <td>import sex success relationship</td>\n",
              "      <td>1</td>\n",
              "    </tr>\n",
              "  </tbody>\n",
              "</table>\n",
              "</div>\n",
              "      <button class=\"colab-df-convert\" onclick=\"convertToInteractive('df-8eab6ea3-d6b4-42ad-ac21-3a91cd0e2aff')\"\n",
              "              title=\"Convert this dataframe to an interactive table.\"\n",
              "              style=\"display:none;\">\n",
              "        \n",
              "  <svg xmlns=\"http://www.w3.org/2000/svg\" height=\"24px\"viewBox=\"0 0 24 24\"\n",
              "       width=\"24px\">\n",
              "    <path d=\"M0 0h24v24H0V0z\" fill=\"none\"/>\n",
              "    <path d=\"M18.56 5.44l.94 2.06.94-2.06 2.06-.94-2.06-.94-.94-2.06-.94 2.06-2.06.94zm-11 1L8.5 8.5l.94-2.06 2.06-.94-2.06-.94L8.5 2.5l-.94 2.06-2.06.94zm10 10l.94 2.06.94-2.06 2.06-.94-2.06-.94-.94-2.06-.94 2.06-2.06.94z\"/><path d=\"M17.41 7.96l-1.37-1.37c-.4-.4-.92-.59-1.43-.59-.52 0-1.04.2-1.43.59L10.3 9.45l-7.72 7.72c-.78.78-.78 2.05 0 2.83L4 21.41c.39.39.9.59 1.41.59.51 0 1.02-.2 1.41-.59l7.78-7.78 2.81-2.81c.8-.78.8-2.07 0-2.86zM5.41 20L4 18.59l7.72-7.72 1.47 1.35L5.41 20z\"/>\n",
              "  </svg>\n",
              "      </button>\n",
              "      \n",
              "  <style>\n",
              "    .colab-df-container {\n",
              "      display:flex;\n",
              "      flex-wrap:wrap;\n",
              "      gap: 12px;\n",
              "    }\n",
              "\n",
              "    .colab-df-convert {\n",
              "      background-color: #E8F0FE;\n",
              "      border: none;\n",
              "      border-radius: 50%;\n",
              "      cursor: pointer;\n",
              "      display: none;\n",
              "      fill: #1967D2;\n",
              "      height: 32px;\n",
              "      padding: 0 0 0 0;\n",
              "      width: 32px;\n",
              "    }\n",
              "\n",
              "    .colab-df-convert:hover {\n",
              "      background-color: #E2EBFA;\n",
              "      box-shadow: 0px 1px 2px rgba(60, 64, 67, 0.3), 0px 1px 3px 1px rgba(60, 64, 67, 0.15);\n",
              "      fill: #174EA6;\n",
              "    }\n",
              "\n",
              "    [theme=dark] .colab-df-convert {\n",
              "      background-color: #3B4455;\n",
              "      fill: #D2E3FC;\n",
              "    }\n",
              "\n",
              "    [theme=dark] .colab-df-convert:hover {\n",
              "      background-color: #434B5C;\n",
              "      box-shadow: 0px 1px 3px 1px rgba(0, 0, 0, 0.15);\n",
              "      filter: drop-shadow(0px 1px 2px rgba(0, 0, 0, 0.3));\n",
              "      fill: #FFFFFF;\n",
              "    }\n",
              "  </style>\n",
              "\n",
              "      <script>\n",
              "        const buttonEl =\n",
              "          document.querySelector('#df-8eab6ea3-d6b4-42ad-ac21-3a91cd0e2aff button.colab-df-convert');\n",
              "        buttonEl.style.display =\n",
              "          google.colab.kernel.accessAllowed ? 'block' : 'none';\n",
              "\n",
              "        async function convertToInteractive(key) {\n",
              "          const element = document.querySelector('#df-8eab6ea3-d6b4-42ad-ac21-3a91cd0e2aff');\n",
              "          const dataTable =\n",
              "            await google.colab.kernel.invokeFunction('convertToInteractive',\n",
              "                                                     [key], {});\n",
              "          if (!dataTable) return;\n",
              "\n",
              "          const docLinkHtml = 'Like what you see? Visit the ' +\n",
              "            '<a target=\"_blank\" href=https://colab.research.google.com/notebooks/data_table.ipynb>data table notebook</a>'\n",
              "            + ' to learn more about interactive tables.';\n",
              "          element.innerHTML = '';\n",
              "          dataTable['output_type'] = 'display_data';\n",
              "          await google.colab.output.renderOutput(dataTable, element);\n",
              "          const docLink = document.createElement('div');\n",
              "          docLink.innerHTML = docLinkHtml;\n",
              "          element.appendChild(docLink);\n",
              "        }\n",
              "      </script>\n",
              "    </div>\n",
              "  </div>\n",
              "  "
            ]
          },
          "metadata": {}
        }
      ]
    },
    {
      "cell_type": "code",
      "source": [
        "# print('Value counts:\\n', X_sw_train['is_duplicate'].value_counts())\n",
        "# print('\\nPercent of labels value:\\n', X_sw_train['is_duplicate'].value_counts()/X_sw_train['is_duplicate'].count()*100)\n",
        "# X_sw_train['is_duplicate'].value_counts().plot(kind = 'bar')\n",
        "# plt.title('\\nDistribution of train labels', color = 'purple', size = 12)\n",
        "# plt.show()"
      ],
      "metadata": {
        "id": "pDav_LwGEmzm"
      },
      "execution_count": null,
      "outputs": []
    },
    {
      "cell_type": "code",
      "source": [
        "# print('Value counts:\\n', X_sw_test['is_duplicate'].value_counts())\n",
        "# print('\\nPercent of labels value:\\n', X_sw_test['is_duplicate'].value_counts()/X_sw_test['is_duplicate'].count()*100)\n",
        "# X_sw_test['is_duplicate'].value_counts().plot(kind = 'bar')\n",
        "# plt.title('\\nDistribution of test labels', color = 'purple', size = 12)\n",
        "# plt.show()"
      ],
      "metadata": {
        "id": "3_2e5g9UXY4Q"
      },
      "execution_count": null,
      "outputs": []
    },
    {
      "cell_type": "code",
      "source": [
        "# display (X_sw_train.head(2))\n",
        "# display(X_sw_test.head(2))\n",
        "# display(df_clean.head(2))"
      ],
      "metadata": {
        "id": "HGkjnpdXEoXd"
      },
      "execution_count": null,
      "outputs": []
    },
    {
      "cell_type": "code",
      "source": [
        "#X_sw_test[X_sw_test.isnull().any(axis=1)]"
      ],
      "metadata": {
        "id": "758pchOPXiy4"
      },
      "execution_count": null,
      "outputs": []
    },
    {
      "cell_type": "markdown",
      "source": [
        "### TOKENIZATION"
      ],
      "metadata": {
        "id": "Tkas5cGGBk-G"
      }
    },
    {
      "cell_type": "code",
      "source": [
        "def tokenization(text):\n",
        "    tokens = re.split(' ',text)\n",
        "    return tokens\n",
        "def token(text):\n",
        "    text = text.apply(lambda x: tokenization(x))\n",
        "    return text"
      ],
      "metadata": {
        "id": "05E4u-vAKISG"
      },
      "execution_count": 17,
      "outputs": []
    },
    {
      "cell_type": "code",
      "source": [
        "#Tokenize - lemmatized data without stopwords\n",
        "df_lemma['q1'] = df_lemma['q1'].pipe(token) \n",
        "df_lemma['q2'] = df_lemma['q2'].pipe(token) \n",
        "df_lemma.head(2)"
      ],
      "metadata": {
        "id": "9-cgiLi0KsmR",
        "outputId": "1a323f5a-6a2d-4976-f18e-390eced37f10",
        "colab": {
          "base_uri": "https://localhost:8080/",
          "height": 112
        }
      },
      "execution_count": 18,
      "outputs": [
        {
          "output_type": "execute_result",
          "data": {
            "text/plain": [
              "                                                      q1  \\\n",
              "84883  [happen, carol, husband, mike, wife, brady, bu...   \n",
              "6371                           [best, password, manager]   \n",
              "\n",
              "                                           q2  is_duplicate  \n",
              "84883  [happen, husbandwife, midlife, crisis]             0  \n",
              "6371         [whats, good, password, manager]             1  "
            ],
            "text/html": [
              "\n",
              "  <div id=\"df-00d29b64-5cd6-4b28-9d05-e52fdb6adb7d\">\n",
              "    <div class=\"colab-df-container\">\n",
              "      <div>\n",
              "<style scoped>\n",
              "    .dataframe tbody tr th:only-of-type {\n",
              "        vertical-align: middle;\n",
              "    }\n",
              "\n",
              "    .dataframe tbody tr th {\n",
              "        vertical-align: top;\n",
              "    }\n",
              "\n",
              "    .dataframe thead th {\n",
              "        text-align: right;\n",
              "    }\n",
              "</style>\n",
              "<table border=\"1\" class=\"dataframe\">\n",
              "  <thead>\n",
              "    <tr style=\"text-align: right;\">\n",
              "      <th></th>\n",
              "      <th>q1</th>\n",
              "      <th>q2</th>\n",
              "      <th>is_duplicate</th>\n",
              "    </tr>\n",
              "  </thead>\n",
              "  <tbody>\n",
              "    <tr>\n",
              "      <th>84883</th>\n",
              "      <td>[happen, carol, husband, mike, wife, brady, bu...</td>\n",
              "      <td>[happen, husbandwife, midlife, crisis]</td>\n",
              "      <td>0</td>\n",
              "    </tr>\n",
              "    <tr>\n",
              "      <th>6371</th>\n",
              "      <td>[best, password, manager]</td>\n",
              "      <td>[whats, good, password, manager]</td>\n",
              "      <td>1</td>\n",
              "    </tr>\n",
              "  </tbody>\n",
              "</table>\n",
              "</div>\n",
              "      <button class=\"colab-df-convert\" onclick=\"convertToInteractive('df-00d29b64-5cd6-4b28-9d05-e52fdb6adb7d')\"\n",
              "              title=\"Convert this dataframe to an interactive table.\"\n",
              "              style=\"display:none;\">\n",
              "        \n",
              "  <svg xmlns=\"http://www.w3.org/2000/svg\" height=\"24px\"viewBox=\"0 0 24 24\"\n",
              "       width=\"24px\">\n",
              "    <path d=\"M0 0h24v24H0V0z\" fill=\"none\"/>\n",
              "    <path d=\"M18.56 5.44l.94 2.06.94-2.06 2.06-.94-2.06-.94-.94-2.06-.94 2.06-2.06.94zm-11 1L8.5 8.5l.94-2.06 2.06-.94-2.06-.94L8.5 2.5l-.94 2.06-2.06.94zm10 10l.94 2.06.94-2.06 2.06-.94-2.06-.94-.94-2.06-.94 2.06-2.06.94z\"/><path d=\"M17.41 7.96l-1.37-1.37c-.4-.4-.92-.59-1.43-.59-.52 0-1.04.2-1.43.59L10.3 9.45l-7.72 7.72c-.78.78-.78 2.05 0 2.83L4 21.41c.39.39.9.59 1.41.59.51 0 1.02-.2 1.41-.59l7.78-7.78 2.81-2.81c.8-.78.8-2.07 0-2.86zM5.41 20L4 18.59l7.72-7.72 1.47 1.35L5.41 20z\"/>\n",
              "  </svg>\n",
              "      </button>\n",
              "      \n",
              "  <style>\n",
              "    .colab-df-container {\n",
              "      display:flex;\n",
              "      flex-wrap:wrap;\n",
              "      gap: 12px;\n",
              "    }\n",
              "\n",
              "    .colab-df-convert {\n",
              "      background-color: #E8F0FE;\n",
              "      border: none;\n",
              "      border-radius: 50%;\n",
              "      cursor: pointer;\n",
              "      display: none;\n",
              "      fill: #1967D2;\n",
              "      height: 32px;\n",
              "      padding: 0 0 0 0;\n",
              "      width: 32px;\n",
              "    }\n",
              "\n",
              "    .colab-df-convert:hover {\n",
              "      background-color: #E2EBFA;\n",
              "      box-shadow: 0px 1px 2px rgba(60, 64, 67, 0.3), 0px 1px 3px 1px rgba(60, 64, 67, 0.15);\n",
              "      fill: #174EA6;\n",
              "    }\n",
              "\n",
              "    [theme=dark] .colab-df-convert {\n",
              "      background-color: #3B4455;\n",
              "      fill: #D2E3FC;\n",
              "    }\n",
              "\n",
              "    [theme=dark] .colab-df-convert:hover {\n",
              "      background-color: #434B5C;\n",
              "      box-shadow: 0px 1px 3px 1px rgba(0, 0, 0, 0.15);\n",
              "      filter: drop-shadow(0px 1px 2px rgba(0, 0, 0, 0.3));\n",
              "      fill: #FFFFFF;\n",
              "    }\n",
              "  </style>\n",
              "\n",
              "      <script>\n",
              "        const buttonEl =\n",
              "          document.querySelector('#df-00d29b64-5cd6-4b28-9d05-e52fdb6adb7d button.colab-df-convert');\n",
              "        buttonEl.style.display =\n",
              "          google.colab.kernel.accessAllowed ? 'block' : 'none';\n",
              "\n",
              "        async function convertToInteractive(key) {\n",
              "          const element = document.querySelector('#df-00d29b64-5cd6-4b28-9d05-e52fdb6adb7d');\n",
              "          const dataTable =\n",
              "            await google.colab.kernel.invokeFunction('convertToInteractive',\n",
              "                                                     [key], {});\n",
              "          if (!dataTable) return;\n",
              "\n",
              "          const docLinkHtml = 'Like what you see? Visit the ' +\n",
              "            '<a target=\"_blank\" href=https://colab.research.google.com/notebooks/data_table.ipynb>data table notebook</a>'\n",
              "            + ' to learn more about interactive tables.';\n",
              "          element.innerHTML = '';\n",
              "          dataTable['output_type'] = 'display_data';\n",
              "          await google.colab.output.renderOutput(dataTable, element);\n",
              "          const docLink = document.createElement('div');\n",
              "          docLink.innerHTML = docLinkHtml;\n",
              "          element.appendChild(docLink);\n",
              "        }\n",
              "      </script>\n",
              "    </div>\n",
              "  </div>\n",
              "  "
            ]
          },
          "metadata": {},
          "execution_count": 18
        }
      ]
    },
    {
      "cell_type": "code",
      "source": [
        "# Tokenize - lemmatized data with stopwords\n",
        "df_sw_lemma['q1'] = df_sw_lemma['q1'].pipe(token) \n",
        "df_sw_lemma['q2'] = df_sw_lemma['q2'].pipe(token) \n",
        "df_sw_lemma.head(2)"
      ],
      "metadata": {
        "id": "0OBQgw2Sp9qL",
        "outputId": "2cc7946d-d080-4ca7-8a83-24047b25456d",
        "colab": {
          "base_uri": "https://localhost:8080/",
          "height": 112
        }
      },
      "execution_count": 19,
      "outputs": [
        {
          "output_type": "execute_result",
          "data": {
            "text/plain": [
              "                                                      q1  \\\n",
              "84883  [what, happen, to, carol, first, husband, and,...   \n",
              "6371            [what, be, the, best, password, manager]   \n",
              "\n",
              "                                                      q2  is_duplicate  \n",
              "84883  [what, will, happen, to, your, husbandwife, af...             0  \n",
              "6371                 [whats, a, good, password, manager]             1  "
            ],
            "text/html": [
              "\n",
              "  <div id=\"df-2e9d72f1-334a-4f0f-bb30-bfa8a235d9b4\">\n",
              "    <div class=\"colab-df-container\">\n",
              "      <div>\n",
              "<style scoped>\n",
              "    .dataframe tbody tr th:only-of-type {\n",
              "        vertical-align: middle;\n",
              "    }\n",
              "\n",
              "    .dataframe tbody tr th {\n",
              "        vertical-align: top;\n",
              "    }\n",
              "\n",
              "    .dataframe thead th {\n",
              "        text-align: right;\n",
              "    }\n",
              "</style>\n",
              "<table border=\"1\" class=\"dataframe\">\n",
              "  <thead>\n",
              "    <tr style=\"text-align: right;\">\n",
              "      <th></th>\n",
              "      <th>q1</th>\n",
              "      <th>q2</th>\n",
              "      <th>is_duplicate</th>\n",
              "    </tr>\n",
              "  </thead>\n",
              "  <tbody>\n",
              "    <tr>\n",
              "      <th>84883</th>\n",
              "      <td>[what, happen, to, carol, first, husband, and,...</td>\n",
              "      <td>[what, will, happen, to, your, husbandwife, af...</td>\n",
              "      <td>0</td>\n",
              "    </tr>\n",
              "    <tr>\n",
              "      <th>6371</th>\n",
              "      <td>[what, be, the, best, password, manager]</td>\n",
              "      <td>[whats, a, good, password, manager]</td>\n",
              "      <td>1</td>\n",
              "    </tr>\n",
              "  </tbody>\n",
              "</table>\n",
              "</div>\n",
              "      <button class=\"colab-df-convert\" onclick=\"convertToInteractive('df-2e9d72f1-334a-4f0f-bb30-bfa8a235d9b4')\"\n",
              "              title=\"Convert this dataframe to an interactive table.\"\n",
              "              style=\"display:none;\">\n",
              "        \n",
              "  <svg xmlns=\"http://www.w3.org/2000/svg\" height=\"24px\"viewBox=\"0 0 24 24\"\n",
              "       width=\"24px\">\n",
              "    <path d=\"M0 0h24v24H0V0z\" fill=\"none\"/>\n",
              "    <path d=\"M18.56 5.44l.94 2.06.94-2.06 2.06-.94-2.06-.94-.94-2.06-.94 2.06-2.06.94zm-11 1L8.5 8.5l.94-2.06 2.06-.94-2.06-.94L8.5 2.5l-.94 2.06-2.06.94zm10 10l.94 2.06.94-2.06 2.06-.94-2.06-.94-.94-2.06-.94 2.06-2.06.94z\"/><path d=\"M17.41 7.96l-1.37-1.37c-.4-.4-.92-.59-1.43-.59-.52 0-1.04.2-1.43.59L10.3 9.45l-7.72 7.72c-.78.78-.78 2.05 0 2.83L4 21.41c.39.39.9.59 1.41.59.51 0 1.02-.2 1.41-.59l7.78-7.78 2.81-2.81c.8-.78.8-2.07 0-2.86zM5.41 20L4 18.59l7.72-7.72 1.47 1.35L5.41 20z\"/>\n",
              "  </svg>\n",
              "      </button>\n",
              "      \n",
              "  <style>\n",
              "    .colab-df-container {\n",
              "      display:flex;\n",
              "      flex-wrap:wrap;\n",
              "      gap: 12px;\n",
              "    }\n",
              "\n",
              "    .colab-df-convert {\n",
              "      background-color: #E8F0FE;\n",
              "      border: none;\n",
              "      border-radius: 50%;\n",
              "      cursor: pointer;\n",
              "      display: none;\n",
              "      fill: #1967D2;\n",
              "      height: 32px;\n",
              "      padding: 0 0 0 0;\n",
              "      width: 32px;\n",
              "    }\n",
              "\n",
              "    .colab-df-convert:hover {\n",
              "      background-color: #E2EBFA;\n",
              "      box-shadow: 0px 1px 2px rgba(60, 64, 67, 0.3), 0px 1px 3px 1px rgba(60, 64, 67, 0.15);\n",
              "      fill: #174EA6;\n",
              "    }\n",
              "\n",
              "    [theme=dark] .colab-df-convert {\n",
              "      background-color: #3B4455;\n",
              "      fill: #D2E3FC;\n",
              "    }\n",
              "\n",
              "    [theme=dark] .colab-df-convert:hover {\n",
              "      background-color: #434B5C;\n",
              "      box-shadow: 0px 1px 3px 1px rgba(0, 0, 0, 0.15);\n",
              "      filter: drop-shadow(0px 1px 2px rgba(0, 0, 0, 0.3));\n",
              "      fill: #FFFFFF;\n",
              "    }\n",
              "  </style>\n",
              "\n",
              "      <script>\n",
              "        const buttonEl =\n",
              "          document.querySelector('#df-2e9d72f1-334a-4f0f-bb30-bfa8a235d9b4 button.colab-df-convert');\n",
              "        buttonEl.style.display =\n",
              "          google.colab.kernel.accessAllowed ? 'block' : 'none';\n",
              "\n",
              "        async function convertToInteractive(key) {\n",
              "          const element = document.querySelector('#df-2e9d72f1-334a-4f0f-bb30-bfa8a235d9b4');\n",
              "          const dataTable =\n",
              "            await google.colab.kernel.invokeFunction('convertToInteractive',\n",
              "                                                     [key], {});\n",
              "          if (!dataTable) return;\n",
              "\n",
              "          const docLinkHtml = 'Like what you see? Visit the ' +\n",
              "            '<a target=\"_blank\" href=https://colab.research.google.com/notebooks/data_table.ipynb>data table notebook</a>'\n",
              "            + ' to learn more about interactive tables.';\n",
              "          element.innerHTML = '';\n",
              "          dataTable['output_type'] = 'display_data';\n",
              "          await google.colab.output.renderOutput(dataTable, element);\n",
              "          const docLink = document.createElement('div');\n",
              "          docLink.innerHTML = docLinkHtml;\n",
              "          element.appendChild(docLink);\n",
              "        }\n",
              "      </script>\n",
              "    </div>\n",
              "  </div>\n",
              "  "
            ]
          },
          "metadata": {},
          "execution_count": 19
        }
      ]
    },
    {
      "cell_type": "code",
      "source": [
        "# Tokenize - Stemmed data with stopwords\n",
        "df_sw_stem['q1'] = df_sw_stem['q1'].pipe(token) \n",
        "df_sw_stem['q2'] = df_sw_stem['q2'].pipe(token) \n",
        "df_sw_stem.head(2)"
      ],
      "metadata": {
        "id": "oST0zN9yp2vX",
        "outputId": "d90188c3-0e69-45fa-8ce3-2cc7055c8b6b",
        "colab": {
          "base_uri": "https://localhost:8080/",
          "height": 112
        }
      },
      "execution_count": 20,
      "outputs": [
        {
          "output_type": "execute_result",
          "data": {
            "text/plain": [
              "                                                      q1  \\\n",
              "84883  [, what, happen, to, carol, first, husband, an...   \n",
              "6371            [, what, is, the, best, password, manag]   \n",
              "\n",
              "                                                      q2  is_duplicate  \n",
              "84883  [, what, will, happen, to, your, husbandwif, a...             0  \n",
              "6371                  [, what, a, good, password, manag]             1  "
            ],
            "text/html": [
              "\n",
              "  <div id=\"df-d3c58fd0-53ac-4d7b-a13a-70013005dcc8\">\n",
              "    <div class=\"colab-df-container\">\n",
              "      <div>\n",
              "<style scoped>\n",
              "    .dataframe tbody tr th:only-of-type {\n",
              "        vertical-align: middle;\n",
              "    }\n",
              "\n",
              "    .dataframe tbody tr th {\n",
              "        vertical-align: top;\n",
              "    }\n",
              "\n",
              "    .dataframe thead th {\n",
              "        text-align: right;\n",
              "    }\n",
              "</style>\n",
              "<table border=\"1\" class=\"dataframe\">\n",
              "  <thead>\n",
              "    <tr style=\"text-align: right;\">\n",
              "      <th></th>\n",
              "      <th>q1</th>\n",
              "      <th>q2</th>\n",
              "      <th>is_duplicate</th>\n",
              "    </tr>\n",
              "  </thead>\n",
              "  <tbody>\n",
              "    <tr>\n",
              "      <th>84883</th>\n",
              "      <td>[, what, happen, to, carol, first, husband, an...</td>\n",
              "      <td>[, what, will, happen, to, your, husbandwif, a...</td>\n",
              "      <td>0</td>\n",
              "    </tr>\n",
              "    <tr>\n",
              "      <th>6371</th>\n",
              "      <td>[, what, is, the, best, password, manag]</td>\n",
              "      <td>[, what, a, good, password, manag]</td>\n",
              "      <td>1</td>\n",
              "    </tr>\n",
              "  </tbody>\n",
              "</table>\n",
              "</div>\n",
              "      <button class=\"colab-df-convert\" onclick=\"convertToInteractive('df-d3c58fd0-53ac-4d7b-a13a-70013005dcc8')\"\n",
              "              title=\"Convert this dataframe to an interactive table.\"\n",
              "              style=\"display:none;\">\n",
              "        \n",
              "  <svg xmlns=\"http://www.w3.org/2000/svg\" height=\"24px\"viewBox=\"0 0 24 24\"\n",
              "       width=\"24px\">\n",
              "    <path d=\"M0 0h24v24H0V0z\" fill=\"none\"/>\n",
              "    <path d=\"M18.56 5.44l.94 2.06.94-2.06 2.06-.94-2.06-.94-.94-2.06-.94 2.06-2.06.94zm-11 1L8.5 8.5l.94-2.06 2.06-.94-2.06-.94L8.5 2.5l-.94 2.06-2.06.94zm10 10l.94 2.06.94-2.06 2.06-.94-2.06-.94-.94-2.06-.94 2.06-2.06.94z\"/><path d=\"M17.41 7.96l-1.37-1.37c-.4-.4-.92-.59-1.43-.59-.52 0-1.04.2-1.43.59L10.3 9.45l-7.72 7.72c-.78.78-.78 2.05 0 2.83L4 21.41c.39.39.9.59 1.41.59.51 0 1.02-.2 1.41-.59l7.78-7.78 2.81-2.81c.8-.78.8-2.07 0-2.86zM5.41 20L4 18.59l7.72-7.72 1.47 1.35L5.41 20z\"/>\n",
              "  </svg>\n",
              "      </button>\n",
              "      \n",
              "  <style>\n",
              "    .colab-df-container {\n",
              "      display:flex;\n",
              "      flex-wrap:wrap;\n",
              "      gap: 12px;\n",
              "    }\n",
              "\n",
              "    .colab-df-convert {\n",
              "      background-color: #E8F0FE;\n",
              "      border: none;\n",
              "      border-radius: 50%;\n",
              "      cursor: pointer;\n",
              "      display: none;\n",
              "      fill: #1967D2;\n",
              "      height: 32px;\n",
              "      padding: 0 0 0 0;\n",
              "      width: 32px;\n",
              "    }\n",
              "\n",
              "    .colab-df-convert:hover {\n",
              "      background-color: #E2EBFA;\n",
              "      box-shadow: 0px 1px 2px rgba(60, 64, 67, 0.3), 0px 1px 3px 1px rgba(60, 64, 67, 0.15);\n",
              "      fill: #174EA6;\n",
              "    }\n",
              "\n",
              "    [theme=dark] .colab-df-convert {\n",
              "      background-color: #3B4455;\n",
              "      fill: #D2E3FC;\n",
              "    }\n",
              "\n",
              "    [theme=dark] .colab-df-convert:hover {\n",
              "      background-color: #434B5C;\n",
              "      box-shadow: 0px 1px 3px 1px rgba(0, 0, 0, 0.15);\n",
              "      filter: drop-shadow(0px 1px 2px rgba(0, 0, 0, 0.3));\n",
              "      fill: #FFFFFF;\n",
              "    }\n",
              "  </style>\n",
              "\n",
              "      <script>\n",
              "        const buttonEl =\n",
              "          document.querySelector('#df-d3c58fd0-53ac-4d7b-a13a-70013005dcc8 button.colab-df-convert');\n",
              "        buttonEl.style.display =\n",
              "          google.colab.kernel.accessAllowed ? 'block' : 'none';\n",
              "\n",
              "        async function convertToInteractive(key) {\n",
              "          const element = document.querySelector('#df-d3c58fd0-53ac-4d7b-a13a-70013005dcc8');\n",
              "          const dataTable =\n",
              "            await google.colab.kernel.invokeFunction('convertToInteractive',\n",
              "                                                     [key], {});\n",
              "          if (!dataTable) return;\n",
              "\n",
              "          const docLinkHtml = 'Like what you see? Visit the ' +\n",
              "            '<a target=\"_blank\" href=https://colab.research.google.com/notebooks/data_table.ipynb>data table notebook</a>'\n",
              "            + ' to learn more about interactive tables.';\n",
              "          element.innerHTML = '';\n",
              "          dataTable['output_type'] = 'display_data';\n",
              "          await google.colab.output.renderOutput(dataTable, element);\n",
              "          const docLink = document.createElement('div');\n",
              "          docLink.innerHTML = docLinkHtml;\n",
              "          element.appendChild(docLink);\n",
              "        }\n",
              "      </script>\n",
              "    </div>\n",
              "  </div>\n",
              "  "
            ]
          },
          "metadata": {},
          "execution_count": 20
        }
      ]
    },
    {
      "cell_type": "code",
      "source": [
        "# Tokenize - Stemmed data without stopwords\n",
        "df_stem['q1'] = df_stem['q1'].pipe(token) \n",
        "df_stem['q2'] = df_stem['q2'].pipe(token) \n",
        "df_stem.head(2)"
      ],
      "metadata": {
        "id": "7IGKOueUSbnc",
        "outputId": "42455e05-c1cb-41e6-fb20-a38b50fb0530",
        "colab": {
          "base_uri": "https://localhost:8080/",
          "height": 112
        }
      },
      "execution_count": 21,
      "outputs": [
        {
          "output_type": "execute_result",
          "data": {
            "text/plain": [
              "                                                      q1  \\\n",
              "84883  [, happen, carol, husband, mike, wife, bradi, ...   \n",
              "6371                           [, best, password, manag]   \n",
              "\n",
              "                                          q2  is_duplicate  \n",
              "84883  [, happen, husbandwif, midlif, crisi]             0  \n",
              "6371         [, what, good, password, manag]             1  "
            ],
            "text/html": [
              "\n",
              "  <div id=\"df-9c4c3567-a40e-4d48-aca1-1a5f43bc4852\">\n",
              "    <div class=\"colab-df-container\">\n",
              "      <div>\n",
              "<style scoped>\n",
              "    .dataframe tbody tr th:only-of-type {\n",
              "        vertical-align: middle;\n",
              "    }\n",
              "\n",
              "    .dataframe tbody tr th {\n",
              "        vertical-align: top;\n",
              "    }\n",
              "\n",
              "    .dataframe thead th {\n",
              "        text-align: right;\n",
              "    }\n",
              "</style>\n",
              "<table border=\"1\" class=\"dataframe\">\n",
              "  <thead>\n",
              "    <tr style=\"text-align: right;\">\n",
              "      <th></th>\n",
              "      <th>q1</th>\n",
              "      <th>q2</th>\n",
              "      <th>is_duplicate</th>\n",
              "    </tr>\n",
              "  </thead>\n",
              "  <tbody>\n",
              "    <tr>\n",
              "      <th>84883</th>\n",
              "      <td>[, happen, carol, husband, mike, wife, bradi, ...</td>\n",
              "      <td>[, happen, husbandwif, midlif, crisi]</td>\n",
              "      <td>0</td>\n",
              "    </tr>\n",
              "    <tr>\n",
              "      <th>6371</th>\n",
              "      <td>[, best, password, manag]</td>\n",
              "      <td>[, what, good, password, manag]</td>\n",
              "      <td>1</td>\n",
              "    </tr>\n",
              "  </tbody>\n",
              "</table>\n",
              "</div>\n",
              "      <button class=\"colab-df-convert\" onclick=\"convertToInteractive('df-9c4c3567-a40e-4d48-aca1-1a5f43bc4852')\"\n",
              "              title=\"Convert this dataframe to an interactive table.\"\n",
              "              style=\"display:none;\">\n",
              "        \n",
              "  <svg xmlns=\"http://www.w3.org/2000/svg\" height=\"24px\"viewBox=\"0 0 24 24\"\n",
              "       width=\"24px\">\n",
              "    <path d=\"M0 0h24v24H0V0z\" fill=\"none\"/>\n",
              "    <path d=\"M18.56 5.44l.94 2.06.94-2.06 2.06-.94-2.06-.94-.94-2.06-.94 2.06-2.06.94zm-11 1L8.5 8.5l.94-2.06 2.06-.94-2.06-.94L8.5 2.5l-.94 2.06-2.06.94zm10 10l.94 2.06.94-2.06 2.06-.94-2.06-.94-.94-2.06-.94 2.06-2.06.94z\"/><path d=\"M17.41 7.96l-1.37-1.37c-.4-.4-.92-.59-1.43-.59-.52 0-1.04.2-1.43.59L10.3 9.45l-7.72 7.72c-.78.78-.78 2.05 0 2.83L4 21.41c.39.39.9.59 1.41.59.51 0 1.02-.2 1.41-.59l7.78-7.78 2.81-2.81c.8-.78.8-2.07 0-2.86zM5.41 20L4 18.59l7.72-7.72 1.47 1.35L5.41 20z\"/>\n",
              "  </svg>\n",
              "      </button>\n",
              "      \n",
              "  <style>\n",
              "    .colab-df-container {\n",
              "      display:flex;\n",
              "      flex-wrap:wrap;\n",
              "      gap: 12px;\n",
              "    }\n",
              "\n",
              "    .colab-df-convert {\n",
              "      background-color: #E8F0FE;\n",
              "      border: none;\n",
              "      border-radius: 50%;\n",
              "      cursor: pointer;\n",
              "      display: none;\n",
              "      fill: #1967D2;\n",
              "      height: 32px;\n",
              "      padding: 0 0 0 0;\n",
              "      width: 32px;\n",
              "    }\n",
              "\n",
              "    .colab-df-convert:hover {\n",
              "      background-color: #E2EBFA;\n",
              "      box-shadow: 0px 1px 2px rgba(60, 64, 67, 0.3), 0px 1px 3px 1px rgba(60, 64, 67, 0.15);\n",
              "      fill: #174EA6;\n",
              "    }\n",
              "\n",
              "    [theme=dark] .colab-df-convert {\n",
              "      background-color: #3B4455;\n",
              "      fill: #D2E3FC;\n",
              "    }\n",
              "\n",
              "    [theme=dark] .colab-df-convert:hover {\n",
              "      background-color: #434B5C;\n",
              "      box-shadow: 0px 1px 3px 1px rgba(0, 0, 0, 0.15);\n",
              "      filter: drop-shadow(0px 1px 2px rgba(0, 0, 0, 0.3));\n",
              "      fill: #FFFFFF;\n",
              "    }\n",
              "  </style>\n",
              "\n",
              "      <script>\n",
              "        const buttonEl =\n",
              "          document.querySelector('#df-9c4c3567-a40e-4d48-aca1-1a5f43bc4852 button.colab-df-convert');\n",
              "        buttonEl.style.display =\n",
              "          google.colab.kernel.accessAllowed ? 'block' : 'none';\n",
              "\n",
              "        async function convertToInteractive(key) {\n",
              "          const element = document.querySelector('#df-9c4c3567-a40e-4d48-aca1-1a5f43bc4852');\n",
              "          const dataTable =\n",
              "            await google.colab.kernel.invokeFunction('convertToInteractive',\n",
              "                                                     [key], {});\n",
              "          if (!dataTable) return;\n",
              "\n",
              "          const docLinkHtml = 'Like what you see? Visit the ' +\n",
              "            '<a target=\"_blank\" href=https://colab.research.google.com/notebooks/data_table.ipynb>data table notebook</a>'\n",
              "            + ' to learn more about interactive tables.';\n",
              "          element.innerHTML = '';\n",
              "          dataTable['output_type'] = 'display_data';\n",
              "          await google.colab.output.renderOutput(dataTable, element);\n",
              "          const docLink = document.createElement('div');\n",
              "          docLink.innerHTML = docLinkHtml;\n",
              "          element.appendChild(docLink);\n",
              "        }\n",
              "      </script>\n",
              "    </div>\n",
              "  </div>\n",
              "  "
            ]
          },
          "metadata": {},
          "execution_count": 21
        }
      ]
    },
    {
      "cell_type": "code",
      "source": [
        "# Tokenize - With stopwords, not lemmatized nor stemmed\n",
        "df_sw['q1'] = df_sw['q1'].pipe(token) \n",
        "df_sw['q2'] = df_sw['q2'].pipe(token) \n",
        "df_stem.head(2)"
      ],
      "metadata": {
        "id": "aMHmrhBfpbb7",
        "outputId": "c95b3e0e-f019-41e0-a524-defc94fcafae",
        "colab": {
          "base_uri": "https://localhost:8080/",
          "height": 112
        }
      },
      "execution_count": 22,
      "outputs": [
        {
          "output_type": "execute_result",
          "data": {
            "text/plain": [
              "                                                      q1  \\\n",
              "84883  [, happen, carol, husband, mike, wife, bradi, ...   \n",
              "6371                           [, best, password, manag]   \n",
              "\n",
              "                                          q2  is_duplicate  \n",
              "84883  [, happen, husbandwif, midlif, crisi]             0  \n",
              "6371         [, what, good, password, manag]             1  "
            ],
            "text/html": [
              "\n",
              "  <div id=\"df-c1296db9-ae33-4825-9090-af22583674ca\">\n",
              "    <div class=\"colab-df-container\">\n",
              "      <div>\n",
              "<style scoped>\n",
              "    .dataframe tbody tr th:only-of-type {\n",
              "        vertical-align: middle;\n",
              "    }\n",
              "\n",
              "    .dataframe tbody tr th {\n",
              "        vertical-align: top;\n",
              "    }\n",
              "\n",
              "    .dataframe thead th {\n",
              "        text-align: right;\n",
              "    }\n",
              "</style>\n",
              "<table border=\"1\" class=\"dataframe\">\n",
              "  <thead>\n",
              "    <tr style=\"text-align: right;\">\n",
              "      <th></th>\n",
              "      <th>q1</th>\n",
              "      <th>q2</th>\n",
              "      <th>is_duplicate</th>\n",
              "    </tr>\n",
              "  </thead>\n",
              "  <tbody>\n",
              "    <tr>\n",
              "      <th>84883</th>\n",
              "      <td>[, happen, carol, husband, mike, wife, bradi, ...</td>\n",
              "      <td>[, happen, husbandwif, midlif, crisi]</td>\n",
              "      <td>0</td>\n",
              "    </tr>\n",
              "    <tr>\n",
              "      <th>6371</th>\n",
              "      <td>[, best, password, manag]</td>\n",
              "      <td>[, what, good, password, manag]</td>\n",
              "      <td>1</td>\n",
              "    </tr>\n",
              "  </tbody>\n",
              "</table>\n",
              "</div>\n",
              "      <button class=\"colab-df-convert\" onclick=\"convertToInteractive('df-c1296db9-ae33-4825-9090-af22583674ca')\"\n",
              "              title=\"Convert this dataframe to an interactive table.\"\n",
              "              style=\"display:none;\">\n",
              "        \n",
              "  <svg xmlns=\"http://www.w3.org/2000/svg\" height=\"24px\"viewBox=\"0 0 24 24\"\n",
              "       width=\"24px\">\n",
              "    <path d=\"M0 0h24v24H0V0z\" fill=\"none\"/>\n",
              "    <path d=\"M18.56 5.44l.94 2.06.94-2.06 2.06-.94-2.06-.94-.94-2.06-.94 2.06-2.06.94zm-11 1L8.5 8.5l.94-2.06 2.06-.94-2.06-.94L8.5 2.5l-.94 2.06-2.06.94zm10 10l.94 2.06.94-2.06 2.06-.94-2.06-.94-.94-2.06-.94 2.06-2.06.94z\"/><path d=\"M17.41 7.96l-1.37-1.37c-.4-.4-.92-.59-1.43-.59-.52 0-1.04.2-1.43.59L10.3 9.45l-7.72 7.72c-.78.78-.78 2.05 0 2.83L4 21.41c.39.39.9.59 1.41.59.51 0 1.02-.2 1.41-.59l7.78-7.78 2.81-2.81c.8-.78.8-2.07 0-2.86zM5.41 20L4 18.59l7.72-7.72 1.47 1.35L5.41 20z\"/>\n",
              "  </svg>\n",
              "      </button>\n",
              "      \n",
              "  <style>\n",
              "    .colab-df-container {\n",
              "      display:flex;\n",
              "      flex-wrap:wrap;\n",
              "      gap: 12px;\n",
              "    }\n",
              "\n",
              "    .colab-df-convert {\n",
              "      background-color: #E8F0FE;\n",
              "      border: none;\n",
              "      border-radius: 50%;\n",
              "      cursor: pointer;\n",
              "      display: none;\n",
              "      fill: #1967D2;\n",
              "      height: 32px;\n",
              "      padding: 0 0 0 0;\n",
              "      width: 32px;\n",
              "    }\n",
              "\n",
              "    .colab-df-convert:hover {\n",
              "      background-color: #E2EBFA;\n",
              "      box-shadow: 0px 1px 2px rgba(60, 64, 67, 0.3), 0px 1px 3px 1px rgba(60, 64, 67, 0.15);\n",
              "      fill: #174EA6;\n",
              "    }\n",
              "\n",
              "    [theme=dark] .colab-df-convert {\n",
              "      background-color: #3B4455;\n",
              "      fill: #D2E3FC;\n",
              "    }\n",
              "\n",
              "    [theme=dark] .colab-df-convert:hover {\n",
              "      background-color: #434B5C;\n",
              "      box-shadow: 0px 1px 3px 1px rgba(0, 0, 0, 0.15);\n",
              "      filter: drop-shadow(0px 1px 2px rgba(0, 0, 0, 0.3));\n",
              "      fill: #FFFFFF;\n",
              "    }\n",
              "  </style>\n",
              "\n",
              "      <script>\n",
              "        const buttonEl =\n",
              "          document.querySelector('#df-c1296db9-ae33-4825-9090-af22583674ca button.colab-df-convert');\n",
              "        buttonEl.style.display =\n",
              "          google.colab.kernel.accessAllowed ? 'block' : 'none';\n",
              "\n",
              "        async function convertToInteractive(key) {\n",
              "          const element = document.querySelector('#df-c1296db9-ae33-4825-9090-af22583674ca');\n",
              "          const dataTable =\n",
              "            await google.colab.kernel.invokeFunction('convertToInteractive',\n",
              "                                                     [key], {});\n",
              "          if (!dataTable) return;\n",
              "\n",
              "          const docLinkHtml = 'Like what you see? Visit the ' +\n",
              "            '<a target=\"_blank\" href=https://colab.research.google.com/notebooks/data_table.ipynb>data table notebook</a>'\n",
              "            + ' to learn more about interactive tables.';\n",
              "          element.innerHTML = '';\n",
              "          dataTable['output_type'] = 'display_data';\n",
              "          await google.colab.output.renderOutput(dataTable, element);\n",
              "          const docLink = document.createElement('div');\n",
              "          docLink.innerHTML = docLinkHtml;\n",
              "          element.appendChild(docLink);\n",
              "        }\n",
              "      </script>\n",
              "    </div>\n",
              "  </div>\n",
              "  "
            ]
          },
          "metadata": {},
          "execution_count": 22
        }
      ]
    },
    {
      "cell_type": "code",
      "source": [
        "# Tokenize - Without stopwords, not lemmatized nor stemmed\n",
        "df_out['q1'] = df_out['q1'].pipe(token) \n",
        "df_out['q2'] = df_out['q2'].pipe(token) \n",
        "df_out.head(2)"
      ],
      "metadata": {
        "id": "mOIFw09PplSu",
        "outputId": "18ff318a-f04e-4598-af0d-1d4088b3bcff",
        "colab": {
          "base_uri": "https://localhost:8080/",
          "height": 112
        }
      },
      "execution_count": 23,
      "outputs": [
        {
          "output_type": "execute_result",
          "data": {
            "text/plain": [
              "                                                      q1  \\\n",
              "84883  [happened, carols, husband, mikes, wife, brady...   \n",
              "6371                           [best, password, manager]   \n",
              "\n",
              "                                           q2  is_duplicate  \n",
              "84883  [happen, husbandwife, midlife, crisis]             0  \n",
              "6371         [whats, good, password, manager]             1  "
            ],
            "text/html": [
              "\n",
              "  <div id=\"df-e246f652-c9da-4ac9-bb54-3efc21a21f35\">\n",
              "    <div class=\"colab-df-container\">\n",
              "      <div>\n",
              "<style scoped>\n",
              "    .dataframe tbody tr th:only-of-type {\n",
              "        vertical-align: middle;\n",
              "    }\n",
              "\n",
              "    .dataframe tbody tr th {\n",
              "        vertical-align: top;\n",
              "    }\n",
              "\n",
              "    .dataframe thead th {\n",
              "        text-align: right;\n",
              "    }\n",
              "</style>\n",
              "<table border=\"1\" class=\"dataframe\">\n",
              "  <thead>\n",
              "    <tr style=\"text-align: right;\">\n",
              "      <th></th>\n",
              "      <th>q1</th>\n",
              "      <th>q2</th>\n",
              "      <th>is_duplicate</th>\n",
              "    </tr>\n",
              "  </thead>\n",
              "  <tbody>\n",
              "    <tr>\n",
              "      <th>84883</th>\n",
              "      <td>[happened, carols, husband, mikes, wife, brady...</td>\n",
              "      <td>[happen, husbandwife, midlife, crisis]</td>\n",
              "      <td>0</td>\n",
              "    </tr>\n",
              "    <tr>\n",
              "      <th>6371</th>\n",
              "      <td>[best, password, manager]</td>\n",
              "      <td>[whats, good, password, manager]</td>\n",
              "      <td>1</td>\n",
              "    </tr>\n",
              "  </tbody>\n",
              "</table>\n",
              "</div>\n",
              "      <button class=\"colab-df-convert\" onclick=\"convertToInteractive('df-e246f652-c9da-4ac9-bb54-3efc21a21f35')\"\n",
              "              title=\"Convert this dataframe to an interactive table.\"\n",
              "              style=\"display:none;\">\n",
              "        \n",
              "  <svg xmlns=\"http://www.w3.org/2000/svg\" height=\"24px\"viewBox=\"0 0 24 24\"\n",
              "       width=\"24px\">\n",
              "    <path d=\"M0 0h24v24H0V0z\" fill=\"none\"/>\n",
              "    <path d=\"M18.56 5.44l.94 2.06.94-2.06 2.06-.94-2.06-.94-.94-2.06-.94 2.06-2.06.94zm-11 1L8.5 8.5l.94-2.06 2.06-.94-2.06-.94L8.5 2.5l-.94 2.06-2.06.94zm10 10l.94 2.06.94-2.06 2.06-.94-2.06-.94-.94-2.06-.94 2.06-2.06.94z\"/><path d=\"M17.41 7.96l-1.37-1.37c-.4-.4-.92-.59-1.43-.59-.52 0-1.04.2-1.43.59L10.3 9.45l-7.72 7.72c-.78.78-.78 2.05 0 2.83L4 21.41c.39.39.9.59 1.41.59.51 0 1.02-.2 1.41-.59l7.78-7.78 2.81-2.81c.8-.78.8-2.07 0-2.86zM5.41 20L4 18.59l7.72-7.72 1.47 1.35L5.41 20z\"/>\n",
              "  </svg>\n",
              "      </button>\n",
              "      \n",
              "  <style>\n",
              "    .colab-df-container {\n",
              "      display:flex;\n",
              "      flex-wrap:wrap;\n",
              "      gap: 12px;\n",
              "    }\n",
              "\n",
              "    .colab-df-convert {\n",
              "      background-color: #E8F0FE;\n",
              "      border: none;\n",
              "      border-radius: 50%;\n",
              "      cursor: pointer;\n",
              "      display: none;\n",
              "      fill: #1967D2;\n",
              "      height: 32px;\n",
              "      padding: 0 0 0 0;\n",
              "      width: 32px;\n",
              "    }\n",
              "\n",
              "    .colab-df-convert:hover {\n",
              "      background-color: #E2EBFA;\n",
              "      box-shadow: 0px 1px 2px rgba(60, 64, 67, 0.3), 0px 1px 3px 1px rgba(60, 64, 67, 0.15);\n",
              "      fill: #174EA6;\n",
              "    }\n",
              "\n",
              "    [theme=dark] .colab-df-convert {\n",
              "      background-color: #3B4455;\n",
              "      fill: #D2E3FC;\n",
              "    }\n",
              "\n",
              "    [theme=dark] .colab-df-convert:hover {\n",
              "      background-color: #434B5C;\n",
              "      box-shadow: 0px 1px 3px 1px rgba(0, 0, 0, 0.15);\n",
              "      filter: drop-shadow(0px 1px 2px rgba(0, 0, 0, 0.3));\n",
              "      fill: #FFFFFF;\n",
              "    }\n",
              "  </style>\n",
              "\n",
              "      <script>\n",
              "        const buttonEl =\n",
              "          document.querySelector('#df-e246f652-c9da-4ac9-bb54-3efc21a21f35 button.colab-df-convert');\n",
              "        buttonEl.style.display =\n",
              "          google.colab.kernel.accessAllowed ? 'block' : 'none';\n",
              "\n",
              "        async function convertToInteractive(key) {\n",
              "          const element = document.querySelector('#df-e246f652-c9da-4ac9-bb54-3efc21a21f35');\n",
              "          const dataTable =\n",
              "            await google.colab.kernel.invokeFunction('convertToInteractive',\n",
              "                                                     [key], {});\n",
              "          if (!dataTable) return;\n",
              "\n",
              "          const docLinkHtml = 'Like what you see? Visit the ' +\n",
              "            '<a target=\"_blank\" href=https://colab.research.google.com/notebooks/data_table.ipynb>data table notebook</a>'\n",
              "            + ' to learn more about interactive tables.';\n",
              "          element.innerHTML = '';\n",
              "          dataTable['output_type'] = 'display_data';\n",
              "          await google.colab.output.renderOutput(dataTable, element);\n",
              "          const docLink = document.createElement('div');\n",
              "          docLink.innerHTML = docLinkHtml;\n",
              "          element.appendChild(docLink);\n",
              "        }\n",
              "      </script>\n",
              "    </div>\n",
              "  </div>\n",
              "  "
            ]
          },
          "metadata": {},
          "execution_count": 23
        }
      ]
    },
    {
      "cell_type": "code",
      "source": [
        "df_sw_lemma.head(2)"
      ],
      "metadata": {
        "id": "rKqo_jv7upuE",
        "outputId": "a951ec6c-6555-45fe-c73c-9d3250c8e92d",
        "colab": {
          "base_uri": "https://localhost:8080/",
          "height": 112
        }
      },
      "execution_count": 24,
      "outputs": [
        {
          "output_type": "execute_result",
          "data": {
            "text/plain": [
              "                                                      q1  \\\n",
              "84883  [what, happen, to, carol, first, husband, and,...   \n",
              "6371            [what, be, the, best, password, manager]   \n",
              "\n",
              "                                                      q2  is_duplicate  \n",
              "84883  [what, will, happen, to, your, husbandwife, af...             0  \n",
              "6371                 [whats, a, good, password, manager]             1  "
            ],
            "text/html": [
              "\n",
              "  <div id=\"df-fcf56ce8-e3dd-4f8e-9e64-ab0bf227f484\">\n",
              "    <div class=\"colab-df-container\">\n",
              "      <div>\n",
              "<style scoped>\n",
              "    .dataframe tbody tr th:only-of-type {\n",
              "        vertical-align: middle;\n",
              "    }\n",
              "\n",
              "    .dataframe tbody tr th {\n",
              "        vertical-align: top;\n",
              "    }\n",
              "\n",
              "    .dataframe thead th {\n",
              "        text-align: right;\n",
              "    }\n",
              "</style>\n",
              "<table border=\"1\" class=\"dataframe\">\n",
              "  <thead>\n",
              "    <tr style=\"text-align: right;\">\n",
              "      <th></th>\n",
              "      <th>q1</th>\n",
              "      <th>q2</th>\n",
              "      <th>is_duplicate</th>\n",
              "    </tr>\n",
              "  </thead>\n",
              "  <tbody>\n",
              "    <tr>\n",
              "      <th>84883</th>\n",
              "      <td>[what, happen, to, carol, first, husband, and,...</td>\n",
              "      <td>[what, will, happen, to, your, husbandwife, af...</td>\n",
              "      <td>0</td>\n",
              "    </tr>\n",
              "    <tr>\n",
              "      <th>6371</th>\n",
              "      <td>[what, be, the, best, password, manager]</td>\n",
              "      <td>[whats, a, good, password, manager]</td>\n",
              "      <td>1</td>\n",
              "    </tr>\n",
              "  </tbody>\n",
              "</table>\n",
              "</div>\n",
              "      <button class=\"colab-df-convert\" onclick=\"convertToInteractive('df-fcf56ce8-e3dd-4f8e-9e64-ab0bf227f484')\"\n",
              "              title=\"Convert this dataframe to an interactive table.\"\n",
              "              style=\"display:none;\">\n",
              "        \n",
              "  <svg xmlns=\"http://www.w3.org/2000/svg\" height=\"24px\"viewBox=\"0 0 24 24\"\n",
              "       width=\"24px\">\n",
              "    <path d=\"M0 0h24v24H0V0z\" fill=\"none\"/>\n",
              "    <path d=\"M18.56 5.44l.94 2.06.94-2.06 2.06-.94-2.06-.94-.94-2.06-.94 2.06-2.06.94zm-11 1L8.5 8.5l.94-2.06 2.06-.94-2.06-.94L8.5 2.5l-.94 2.06-2.06.94zm10 10l.94 2.06.94-2.06 2.06-.94-2.06-.94-.94-2.06-.94 2.06-2.06.94z\"/><path d=\"M17.41 7.96l-1.37-1.37c-.4-.4-.92-.59-1.43-.59-.52 0-1.04.2-1.43.59L10.3 9.45l-7.72 7.72c-.78.78-.78 2.05 0 2.83L4 21.41c.39.39.9.59 1.41.59.51 0 1.02-.2 1.41-.59l7.78-7.78 2.81-2.81c.8-.78.8-2.07 0-2.86zM5.41 20L4 18.59l7.72-7.72 1.47 1.35L5.41 20z\"/>\n",
              "  </svg>\n",
              "      </button>\n",
              "      \n",
              "  <style>\n",
              "    .colab-df-container {\n",
              "      display:flex;\n",
              "      flex-wrap:wrap;\n",
              "      gap: 12px;\n",
              "    }\n",
              "\n",
              "    .colab-df-convert {\n",
              "      background-color: #E8F0FE;\n",
              "      border: none;\n",
              "      border-radius: 50%;\n",
              "      cursor: pointer;\n",
              "      display: none;\n",
              "      fill: #1967D2;\n",
              "      height: 32px;\n",
              "      padding: 0 0 0 0;\n",
              "      width: 32px;\n",
              "    }\n",
              "\n",
              "    .colab-df-convert:hover {\n",
              "      background-color: #E2EBFA;\n",
              "      box-shadow: 0px 1px 2px rgba(60, 64, 67, 0.3), 0px 1px 3px 1px rgba(60, 64, 67, 0.15);\n",
              "      fill: #174EA6;\n",
              "    }\n",
              "\n",
              "    [theme=dark] .colab-df-convert {\n",
              "      background-color: #3B4455;\n",
              "      fill: #D2E3FC;\n",
              "    }\n",
              "\n",
              "    [theme=dark] .colab-df-convert:hover {\n",
              "      background-color: #434B5C;\n",
              "      box-shadow: 0px 1px 3px 1px rgba(0, 0, 0, 0.15);\n",
              "      filter: drop-shadow(0px 1px 2px rgba(0, 0, 0, 0.3));\n",
              "      fill: #FFFFFF;\n",
              "    }\n",
              "  </style>\n",
              "\n",
              "      <script>\n",
              "        const buttonEl =\n",
              "          document.querySelector('#df-fcf56ce8-e3dd-4f8e-9e64-ab0bf227f484 button.colab-df-convert');\n",
              "        buttonEl.style.display =\n",
              "          google.colab.kernel.accessAllowed ? 'block' : 'none';\n",
              "\n",
              "        async function convertToInteractive(key) {\n",
              "          const element = document.querySelector('#df-fcf56ce8-e3dd-4f8e-9e64-ab0bf227f484');\n",
              "          const dataTable =\n",
              "            await google.colab.kernel.invokeFunction('convertToInteractive',\n",
              "                                                     [key], {});\n",
              "          if (!dataTable) return;\n",
              "\n",
              "          const docLinkHtml = 'Like what you see? Visit the ' +\n",
              "            '<a target=\"_blank\" href=https://colab.research.google.com/notebooks/data_table.ipynb>data table notebook</a>'\n",
              "            + ' to learn more about interactive tables.';\n",
              "          element.innerHTML = '';\n",
              "          dataTable['output_type'] = 'display_data';\n",
              "          await google.colab.output.renderOutput(dataTable, element);\n",
              "          const docLink = document.createElement('div');\n",
              "          docLink.innerHTML = docLinkHtml;\n",
              "          element.appendChild(docLink);\n",
              "        }\n",
              "      </script>\n",
              "    </div>\n",
              "  </div>\n",
              "  "
            ]
          },
          "metadata": {},
          "execution_count": 24
        }
      ]
    },
    {
      "cell_type": "markdown",
      "source": [
        "# Doc2Vec function"
      ],
      "metadata": {
        "id": "3S2Ypm0hqKUq"
      }
    },
    {
      "cell_type": "code",
      "source": [
        "# Creating DataFrame for Evaluations\n",
        "result_tf = pd.DataFrame(columns = ['Model Name', 'Accuracy', 'Precision', 'Recall', 'F1_score', 'Log_loss'])\n",
        "result_tf.head()"
      ],
      "metadata": {
        "id": "XqDyNVdFiRAN"
      },
      "execution_count": null,
      "outputs": []
    },
    {
      "cell_type": "code",
      "source": [
        "def res(model, acc, precision, recall, f1_score, log_loss):\n",
        "    result_tf.loc[len(result_tf)]   = [model, acc, precision, recall, f1_score, log_loss]\n",
        "    pd.set_option('display.max_rows', None)\n",
        "    display (result_tf)\n",
        "    return result_tf"
      ],
      "metadata": {
        "id": "FoiQjQK0iSBb"
      },
      "execution_count": null,
      "outputs": []
    },
    {
      "cell_type": "code",
      "source": [
        "from gensim.models.doc2vec import Doc2Vec, TaggedDocument\n",
        "def doc2vec(df):\n",
        "  q1 = [TaggedDocument(d, [i]) for i, d in enumerate(df['q1'])]\n",
        "  q2 = [TaggedDocument(d, [i]) for i, d in enumerate(df['q2'])]\n",
        "  return q1, q2"
      ],
      "metadata": {
        "id": "mUvNpFMKqSkP"
      },
      "execution_count": 25,
      "outputs": []
    },
    {
      "cell_type": "code",
      "source": [
        "def model_doc2vec(q1, dm, vector, window, epochs):\n",
        "  q1 = Doc2Vec(q1, dm = dm, vector_size = vector, window = window, min_count = 2, epochs = epochs)\n",
        "  return q1"
      ],
      "metadata": {
        "id": "DI9pvKAVseUy"
      },
      "execution_count": 26,
      "outputs": []
    },
    {
      "cell_type": "markdown",
      "source": [
        "### Run Doc2Vec Function"
      ],
      "metadata": {
        "id": "3jTAR0XNxm4g"
      }
    },
    {
      "cell_type": "code",
      "source": [
        "#lemmatized, without stopwords\n",
        "q1_lemma_d2v, q2_lemma_d2v = doc2vec(df_lemma)\n",
        "assert len(q1_lemma_d2v) == len(q2_lemma_d2v)"
      ],
      "metadata": {
        "id": "eNIW8JQlxzeb"
      },
      "execution_count": 27,
      "outputs": []
    },
    {
      "cell_type": "code",
      "source": [
        "#lemmatized with stopwords\n",
        "q1_sw_lemma_d2v, q2_sw_lemma_d2v = doc2vec(df_sw_lemma)\n",
        "assert len(q1_sw_lemma_d2v) == len(q2_sw_lemma_d2v)"
      ],
      "metadata": {
        "id": "bFWM_faxyGCL"
      },
      "execution_count": 28,
      "outputs": []
    },
    {
      "cell_type": "code",
      "source": [
        "#Stemmed without stopwords\n",
        "q1_stem_d2v, q2_stem_d2v = doc2vec(df_stem)\n",
        "assert len(q1_stem_d2v) == len(q2_stem_d2v)"
      ],
      "metadata": {
        "id": "0-QZvc5Sx88k"
      },
      "execution_count": 29,
      "outputs": []
    },
    {
      "cell_type": "code",
      "source": [
        "#Stemmed with stopwords\n",
        "q1_sw_stem_d2v, q2_sw_stem_d2v = doc2vec(df_sw_stem)\n",
        "assert len(q1_sw_stem_d2v) == len(q2_sw_stem_d2v)"
      ],
      "metadata": {
        "id": "aPizJEgayCVz"
      },
      "execution_count": 30,
      "outputs": []
    },
    {
      "cell_type": "code",
      "source": [
        "#With Stopwords, not lemmatized, not stemmed\n",
        "q1_sw_d2v, q2_sw_d2v = doc2vec(df_sw)\n",
        "assert len(q1_sw_d2v) == len(q2_sw_d2v)"
      ],
      "metadata": {
        "id": "oFwzTiP6xqly"
      },
      "execution_count": 31,
      "outputs": []
    },
    {
      "cell_type": "code",
      "source": [
        "#Without stopwords, not lemmatized, not stemmed \n",
        "q1_out_d2v, q2_out_d2v = doc2vec(df_out)\n",
        "assert len(q1_out_d2v) == len(q2_out_d2v)"
      ],
      "metadata": {
        "id": "iBdztD6MxkWq"
      },
      "execution_count": 32,
      "outputs": []
    },
    {
      "cell_type": "markdown",
      "source": [
        "### Activating Doc2Vec model"
      ],
      "metadata": {
        "id": "pTJYpxOJzIcc"
      }
    },
    {
      "cell_type": "code",
      "source": [
        "#PARAMETER FOR DOC2VEC MODEL \n",
        "dm = 1\n",
        "window = 3\n",
        "vector = 100\n",
        "epochs = 30"
      ],
      "metadata": {
        "id": "9rLS83NPtOdV"
      },
      "execution_count": 33,
      "outputs": []
    },
    {
      "cell_type": "code",
      "source": [
        "#lemmatized, without stopwords\n",
        "X_q1_lemma_d2v = model_doc2vec(q1_lemma_d2v, dm, vector, window, epochs)\n",
        "X_q2_lemma_d2v = model_doc2vec(q2_lemma_d2v, dm,  vector, window, epochs)"
      ],
      "metadata": {
        "id": "YkmAVk10zOK0"
      },
      "execution_count": 34,
      "outputs": []
    },
    {
      "cell_type": "code",
      "source": [
        "#lemmatized, with stopwords\n",
        "X_q1_sw_lemma_d2v = model_doc2vec(q1_sw_lemma_d2v, dm, vector, window, epochs)\n",
        "X_q2_sw_lemma_d2v = model_doc2vec(q2_sw_lemma_d2v, dm, vector, window, epochs)"
      ],
      "metadata": {
        "id": "2H31DHSSzHR0"
      },
      "execution_count": 38,
      "outputs": []
    },
    {
      "cell_type": "code",
      "source": [
        "#Stemmed, without stopwords\n",
        "X_q1_stem_d2v = model_doc2vec(q1_stem_d2v, dm, vector, window, epochs)\n",
        "X_q2_stem_d2v = model_doc2vec(q2_stem_d2v, dm, vector, window, epochs)"
      ],
      "metadata": {
        "id": "D9x--QGbrOXX"
      },
      "execution_count": 37,
      "outputs": []
    },
    {
      "cell_type": "code",
      "source": [
        "#Stemmed, with stopwords\n",
        "X_q1_sw_stem_d2v = model_doc2vec(q1_sw_stem_d2v, dm, vector, window, epochs)\n",
        "X_q2_sw_stem_d2v = model_doc2vec(q2_sw_stem_d2v, dm, vector, window, epochs)"
      ],
      "metadata": {
        "id": "x1DQ7wK7ryNu"
      },
      "execution_count": 39,
      "outputs": []
    },
    {
      "cell_type": "code",
      "source": [
        "#With Stopwords, not lemmatized, not stemmed\n",
        "X_q1_sw_d2v = model_doc2vec(q1_sw_d2v, dm, vector, window, epochs)\n",
        "X_q2_sw_d2v = model_doc2vec(q2_sw_d2v, dm, vector, window, epochs)"
      ],
      "metadata": {
        "id": "Zp94XpJbz7pw"
      },
      "execution_count": 40,
      "outputs": []
    },
    {
      "cell_type": "code",
      "source": [
        "#Without stopwords, not lemmatized, not stemmed \n",
        "X_q1_out_d2v = model_doc2vec(q1_out_d2v, dm, vector, window, epochs)\n",
        "X_q2_out_d2v = model_doc2vec(q2_out_d2v, dm, vector, window, epochs)\n"
      ],
      "metadata": {
        "id": "R_iMv56A0HXt"
      },
      "execution_count": 41,
      "outputs": []
    },
    {
      "cell_type": "markdown",
      "source": [
        "#### Convert to array "
      ],
      "metadata": {
        "id": "px9h8tDG0fPZ"
      }
    },
    {
      "cell_type": "code",
      "source": [
        "# Lemmatized, without stopwords, not stemmed\n",
        "\n",
        "size = len(df) - 1\n",
        "arr_q1_lemma = X_q1_lemma_d2v[0] \n",
        "\n",
        "for i in range(size):\n",
        "  arrT = X_q1_lemma_d2v[i+1]\n",
        "  arr_q1_lemma = np.vstack([arr_q1_lemma, arrT])\n",
        "\n",
        "arr_q2_lemma = X_q2_lemma_d2v[0] \n",
        "\n",
        "for i in range(size):\n",
        "  arrT = X_q2_lemma_d2v[i+1]\n",
        "  arr_q2_lemma = np.vstack([arr_q2_lemma, arrT])\n",
        "\n",
        "assert arr_q1_lemma.shape == arr_q2_lemma.shape\n",
        "\n",
        "#arr_q1_lemma = create_arrays(X_q1_lemma_d2v)\n",
        "#arr_q2_lemma = create_arrays(X_q2_lemma_d2v)"
      ],
      "metadata": {
        "id": "QFtn0fye5INs"
      },
      "execution_count": 42,
      "outputs": []
    },
    {
      "cell_type": "code",
      "source": [
        "# Lemmatized, with stopwords, not stemmed\n",
        "\n",
        "size = len(df) - 1\n",
        "arr_q1_sw_lemma = X_q1_sw_lemma_d2v[0] \n",
        "\n",
        "for i in range(size):\n",
        "  arrT = X_q1_sw_lemma_d2v[i+1]\n",
        "  arr_q1_sw_lemma = np.vstack([arr_q1_sw_lemma, arrT])\n",
        "\n",
        "arr_q2_sw_lemma = X_q2_sw_lemma_d2v[0] \n",
        "\n",
        "for i in range(size):\n",
        "  arrT = X_q2_sw_lemma_d2v[i+1]\n",
        "  arr_q2_sw_lemma = np.vstack([arr_q2_sw_lemma, arrT])\n",
        "\n",
        "assert arr_q1_sw_lemma.shape == arr_q2_sw_lemma.shape\n",
        "\n",
        "# arr_q1_sw_lemma = create_arrays(X_q1_sw_lemma_d2v)\n",
        "# arr_q2_sw_lemma = create_arrays(X_q2_sw_lemma_d2v) "
      ],
      "metadata": {
        "id": "0BRNEZMv5U2X"
      },
      "execution_count": 43,
      "outputs": []
    },
    {
      "cell_type": "code",
      "source": [
        "# Stemmed, without stopwords, not lemmatized\n",
        "\n",
        "size = len(df) - 1\n",
        "arr_q1_stem = X_q1_stem_d2v[0] \n",
        "\n",
        "for i in range(size):\n",
        "  arrT = X_q1_stem_d2v[i+1]\n",
        "  arr_q1_stem = np.vstack([arr_q1_stem, arrT])\n",
        "\n",
        "arr_q2_stem = X_q2_stem_d2v[0] \n",
        "\n",
        "for i in range(size):\n",
        "  arrT = X_q2_stem_d2v[i+1]\n",
        "  arr_q2_stem = np.vstack([arr_q2_stem, arrT])\n",
        "\n",
        "assert arr_q1_stem.shape == arr_q2_stem.shape\n",
        "\n",
        "# arr_q1_stem = create_arrays(X_q1_stem_d2v)\n",
        "# arr_q2_stem = create_arrays(X_q2_stem_d2v)"
      ],
      "metadata": {
        "id": "em1SzG5d5g8Y"
      },
      "execution_count": 44,
      "outputs": []
    },
    {
      "cell_type": "code",
      "source": [
        "# Stemmed, with stopwords, not lemmatized \n",
        "\n",
        "size = len(df) - 1\n",
        "arr_q1_sw_stem = X_q1_sw_stem_d2v[0] \n",
        "\n",
        "for i in range(size):\n",
        "  arrT = X_q1_sw_stem_d2v[i+1]\n",
        "  arr_q1_sw_stem = np.vstack([arr_q1_sw_stem, arrT])\n",
        "\n",
        "arr_q2_sw_stem = X_q2_sw_stem_d2v[0] \n",
        "\n",
        "for i in range(size):\n",
        "  arrT = X_q2_sw_stem_d2v[i+1]\n",
        "  arr_q2_sw_stem = np.vstack([arr_q2_sw_stem, arrT])\n",
        "\n",
        "assert arr_q1_sw_stem.shape == arr_q2_sw_stem.shape\n",
        "\n",
        "# arr_q1_sw_stem = create_arrays(X_q1_sw_stem_d2v)\n",
        "# arr_q2_sw_stem = create_arrays(X_q2_sw_stem_d2v)"
      ],
      "metadata": {
        "id": "LPF52ZUt5oZf"
      },
      "execution_count": 45,
      "outputs": []
    },
    {
      "cell_type": "code",
      "source": [
        "# Without stopwords, not lemmatized, not stemmed\n",
        "size = len(df) - 1\n",
        "arr_q1_out = X_q1_out_d2v[0] \n",
        "\n",
        "for i in range(size):\n",
        "  arrT = X_q1_out_d2v[i+1]\n",
        "  arr_q1_out = np.vstack([arr_q1_out, arrT])\n",
        "\n",
        "arr_q2_out = X_q2_out_d2v[0] \n",
        "\n",
        "for i in range(size):\n",
        "  arrT = X_q2_out_d2v[i+1]\n",
        "  arr_q2_out = np.vstack([arr_q2_out, arrT])\n",
        "\n",
        "assert arr_q1_out.shape == arr_q2_out.shape"
      ],
      "metadata": {
        "id": "oVwHxnT706KA"
      },
      "execution_count": 46,
      "outputs": []
    },
    {
      "cell_type": "code",
      "source": [
        "# With stopword, not lemmatized, not stemmed\n",
        "\n",
        "size = len(df) - 1\n",
        "arr_q1_sw = X_q1_sw_d2v[0] \n",
        "\n",
        "for i in range(size):\n",
        "  arrT = X_q1_sw_d2v[i+1]\n",
        "  arr_q1_sw = np.vstack([arr_q1_sw, arrT])\n",
        "\n",
        "arr_q2_sw = X_q2_sw_d2v[0] \n",
        "\n",
        "for i in range(size):\n",
        "  arrT = X_q2_sw_d2v[i+1]\n",
        "  arr_q2_sw = np.vstack([arr_q2_sw, arrT])\n",
        "\n",
        "assert arr_q1_sw.shape == arr_q2_sw.shape"
      ],
      "metadata": {
        "id": "Kr_x8xVm5Bda"
      },
      "execution_count": 47,
      "outputs": []
    },
    {
      "cell_type": "markdown",
      "source": [
        "### Convert to dataframe "
      ],
      "metadata": {
        "id": "e5y_8A2VDe2K"
      }
    },
    {
      "cell_type": "code",
      "source": [
        "def df_arr(arr_q1, arr_q2, df):\n",
        "  temp1 = pd.DataFrame(arr_q1)\n",
        "  temp2 = pd.DataFrame(arr_q2)\n",
        "  X_temp = pd.concat([temp1, temp2], axis=1)\n",
        "  y = df['is_duplicate']\n",
        "  y = np.array(y)\n",
        "  y_df = pd.DataFrame(y)\n",
        "  df_X = X_temp.join(y_df,  lsuffix='_left', rsuffix='_right')\n",
        "  #X_temp['is_duplicate'] = df['is_duplicate']\n",
        "  return df_X"
      ],
      "metadata": {
        "id": "EZBLIoGx6lqA"
      },
      "execution_count": 48,
      "outputs": []
    },
    {
      "cell_type": "code",
      "source": [
        "# Dataframe - Lemmatized without stopwords \n",
        "lemma_df = df_arr(arr_q1_lemma, arr_q2_lemma, df)"
      ],
      "metadata": {
        "id": "iWL38OcEDzmH"
      },
      "execution_count": 49,
      "outputs": []
    },
    {
      "cell_type": "code",
      "source": [
        "# Dataframe - Lemmatized with stopwords \n",
        "sw_lemma_df = df_arr(arr_q1_sw_lemma, arr_q2_sw_lemma, df)"
      ],
      "metadata": {
        "id": "Egehn2ulFf5e"
      },
      "execution_count": 50,
      "outputs": []
    },
    {
      "cell_type": "code",
      "source": [
        "# Dataframe - Stemmed without stopwords \n",
        "stem_df = df_arr(arr_q1_stem, arr_q2_stem, df)"
      ],
      "metadata": {
        "id": "_SVL-Hg3G5ez"
      },
      "execution_count": 51,
      "outputs": []
    },
    {
      "cell_type": "code",
      "source": [
        "# Dataframe - Lemmatized with stopwords \n",
        "sw_stem_df = df_arr(arr_q1_sw_stem, arr_q2_sw_stem, df)"
      ],
      "metadata": {
        "id": "oMNLK2DBG_I2"
      },
      "execution_count": 52,
      "outputs": []
    },
    {
      "cell_type": "code",
      "source": [
        "# Dataframe - With stopwords, not lemmatized, not stemmed\n",
        "sw_df = df_arr(arr_q1_sw, arr_q2_sw, df)"
      ],
      "metadata": {
        "id": "7F2zrTu6HE8w"
      },
      "execution_count": 53,
      "outputs": []
    },
    {
      "cell_type": "code",
      "source": [
        "# Dataframe - Without stopwords, not lemmatized, not stemmed\n",
        "out_df = df_arr(arr_q1_out, arr_q2_out, df)"
      ],
      "metadata": {
        "id": "JzKJvV5sHRz5"
      },
      "execution_count": 54,
      "outputs": []
    },
    {
      "cell_type": "markdown",
      "source": [
        "### Split Data"
      ],
      "metadata": {
        "id": "uhX3GryDHeLw"
      }
    },
    {
      "cell_type": "code",
      "source": [
        "# Lemmatized with stopwords \n",
        "y_sw_lemma= sw_lemma_df['0_right']\n",
        "X_train_sw_lemma, X_test_sw_lemma, y_train_sw_lemma, y_test_sw_lemma = train_test_split(sw_lemma_df, y_sw_lemma, stratify = y_sw_lemma, test_size = 0.15, random_state = 42)"
      ],
      "metadata": {
        "id": "5cvCwCIMHf2m"
      },
      "execution_count": 55,
      "outputs": []
    },
    {
      "cell_type": "code",
      "source": [
        "# Lemmatized without stopwords \n",
        "y_lemma= lemma_df['0_right']\n",
        "X_train_lemma, X_test_lemma, y_train_lemma, y_test_lemma = train_test_split(lemma_df, y_lemma, stratify = y_lemma, test_size = 0.15, random_state = 42)"
      ],
      "metadata": {
        "id": "vODYoycbIs7w"
      },
      "execution_count": 56,
      "outputs": []
    },
    {
      "cell_type": "code",
      "source": [
        "# Stemmed with stopwords \n",
        "y_sw_stem= sw_stem_df['0_right']\n",
        "X_train_sw_stem, X_test_sw_stem, y_train_sw_stem, y_test_sw_stem = train_test_split(sw_stem_df, y_sw_stem, stratify = y_sw_stem, test_size = 0.15, random_state = 42)"
      ],
      "metadata": {
        "id": "CrTS7I77I1x-"
      },
      "execution_count": 57,
      "outputs": []
    },
    {
      "cell_type": "code",
      "source": [
        "# Stemmed without stopwords \n",
        "y_stem= stem_df['0_right']\n",
        "X_train_stem, X_test_stem, y_train_stem, y_test_stem = train_test_split(stem_df, y_stem, stratify = y_stem, test_size = 0.15, random_state = 42)"
      ],
      "metadata": {
        "id": "90g_DHHmJDQ1"
      },
      "execution_count": 58,
      "outputs": []
    },
    {
      "cell_type": "code",
      "source": [
        "# With Stopwords, not lemmatized, not stemmed \n",
        "y_sw= sw_df['0_right']\n",
        "X_train_sw, X_test_sw, y_train_sw, y_test_sw = train_test_split(sw_df, y_sw, stratify = y_sw, test_size = 0.15, random_state = 42)"
      ],
      "metadata": {
        "id": "Msewo_c9JMrV"
      },
      "execution_count": 59,
      "outputs": []
    },
    {
      "cell_type": "code",
      "source": [
        "# Without Stopwords, not lemmatized, not stemmed \n",
        "y_out= out_df['0_right']\n",
        "X_train_out, X_test_out, y_train_out, y_test_out = train_test_split(out_df, y_out, stratify = y_out, test_size = 0.15, random_state = 42)"
      ],
      "metadata": {
        "id": "h5LEe63lJmZ-"
      },
      "execution_count": 60,
      "outputs": []
    },
    {
      "cell_type": "markdown",
      "source": [
        "# MODELS"
      ],
      "metadata": {
        "id": "f4QFQjaCKfk6"
      }
    },
    {
      "cell_type": "code",
      "source": [
        "# Creating DataFrame for Evaluations\n",
        "result_se = pd.DataFrame(columns = ['Model Name', 'Accuracy', 'Precision', 'Recall', 'F1_score', 'Log_loss'])\n",
        "result_se.head()"
      ],
      "metadata": {
        "colab": {
          "base_uri": "https://localhost:8080/",
          "height": 49
        },
        "id": "qKtT2-uaqqdc",
        "outputId": "ddc2ec8f-9140-4767-ee2f-775c35ffc824"
      },
      "execution_count": null,
      "outputs": [
        {
          "output_type": "execute_result",
          "data": {
            "text/plain": [
              "Empty DataFrame\n",
              "Columns: [Model Name, Accuracy, Precision, Recall, F1_score, Log_loss]\n",
              "Index: []"
            ],
            "text/html": [
              "\n",
              "  <div id=\"df-3a62374d-c3e0-44b4-9d57-6d9223a6949e\">\n",
              "    <div class=\"colab-df-container\">\n",
              "      <div>\n",
              "<style scoped>\n",
              "    .dataframe tbody tr th:only-of-type {\n",
              "        vertical-align: middle;\n",
              "    }\n",
              "\n",
              "    .dataframe tbody tr th {\n",
              "        vertical-align: top;\n",
              "    }\n",
              "\n",
              "    .dataframe thead th {\n",
              "        text-align: right;\n",
              "    }\n",
              "</style>\n",
              "<table border=\"1\" class=\"dataframe\">\n",
              "  <thead>\n",
              "    <tr style=\"text-align: right;\">\n",
              "      <th></th>\n",
              "      <th>Model Name</th>\n",
              "      <th>Accuracy</th>\n",
              "      <th>Precision</th>\n",
              "      <th>Recall</th>\n",
              "      <th>F1_score</th>\n",
              "      <th>Log_loss</th>\n",
              "    </tr>\n",
              "  </thead>\n",
              "  <tbody>\n",
              "  </tbody>\n",
              "</table>\n",
              "</div>\n",
              "      <button class=\"colab-df-convert\" onclick=\"convertToInteractive('df-3a62374d-c3e0-44b4-9d57-6d9223a6949e')\"\n",
              "              title=\"Convert this dataframe to an interactive table.\"\n",
              "              style=\"display:none;\">\n",
              "        \n",
              "  <svg xmlns=\"http://www.w3.org/2000/svg\" height=\"24px\"viewBox=\"0 0 24 24\"\n",
              "       width=\"24px\">\n",
              "    <path d=\"M0 0h24v24H0V0z\" fill=\"none\"/>\n",
              "    <path d=\"M18.56 5.44l.94 2.06.94-2.06 2.06-.94-2.06-.94-.94-2.06-.94 2.06-2.06.94zm-11 1L8.5 8.5l.94-2.06 2.06-.94-2.06-.94L8.5 2.5l-.94 2.06-2.06.94zm10 10l.94 2.06.94-2.06 2.06-.94-2.06-.94-.94-2.06-.94 2.06-2.06.94z\"/><path d=\"M17.41 7.96l-1.37-1.37c-.4-.4-.92-.59-1.43-.59-.52 0-1.04.2-1.43.59L10.3 9.45l-7.72 7.72c-.78.78-.78 2.05 0 2.83L4 21.41c.39.39.9.59 1.41.59.51 0 1.02-.2 1.41-.59l7.78-7.78 2.81-2.81c.8-.78.8-2.07 0-2.86zM5.41 20L4 18.59l7.72-7.72 1.47 1.35L5.41 20z\"/>\n",
              "  </svg>\n",
              "      </button>\n",
              "      \n",
              "  <style>\n",
              "    .colab-df-container {\n",
              "      display:flex;\n",
              "      flex-wrap:wrap;\n",
              "      gap: 12px;\n",
              "    }\n",
              "\n",
              "    .colab-df-convert {\n",
              "      background-color: #E8F0FE;\n",
              "      border: none;\n",
              "      border-radius: 50%;\n",
              "      cursor: pointer;\n",
              "      display: none;\n",
              "      fill: #1967D2;\n",
              "      height: 32px;\n",
              "      padding: 0 0 0 0;\n",
              "      width: 32px;\n",
              "    }\n",
              "\n",
              "    .colab-df-convert:hover {\n",
              "      background-color: #E2EBFA;\n",
              "      box-shadow: 0px 1px 2px rgba(60, 64, 67, 0.3), 0px 1px 3px 1px rgba(60, 64, 67, 0.15);\n",
              "      fill: #174EA6;\n",
              "    }\n",
              "\n",
              "    [theme=dark] .colab-df-convert {\n",
              "      background-color: #3B4455;\n",
              "      fill: #D2E3FC;\n",
              "    }\n",
              "\n",
              "    [theme=dark] .colab-df-convert:hover {\n",
              "      background-color: #434B5C;\n",
              "      box-shadow: 0px 1px 3px 1px rgba(0, 0, 0, 0.15);\n",
              "      filter: drop-shadow(0px 1px 2px rgba(0, 0, 0, 0.3));\n",
              "      fill: #FFFFFF;\n",
              "    }\n",
              "  </style>\n",
              "\n",
              "      <script>\n",
              "        const buttonEl =\n",
              "          document.querySelector('#df-3a62374d-c3e0-44b4-9d57-6d9223a6949e button.colab-df-convert');\n",
              "        buttonEl.style.display =\n",
              "          google.colab.kernel.accessAllowed ? 'block' : 'none';\n",
              "\n",
              "        async function convertToInteractive(key) {\n",
              "          const element = document.querySelector('#df-3a62374d-c3e0-44b4-9d57-6d9223a6949e');\n",
              "          const dataTable =\n",
              "            await google.colab.kernel.invokeFunction('convertToInteractive',\n",
              "                                                     [key], {});\n",
              "          if (!dataTable) return;\n",
              "\n",
              "          const docLinkHtml = 'Like what you see? Visit the ' +\n",
              "            '<a target=\"_blank\" href=https://colab.research.google.com/notebooks/data_table.ipynb>data table notebook</a>'\n",
              "            + ' to learn more about interactive tables.';\n",
              "          element.innerHTML = '';\n",
              "          dataTable['output_type'] = 'display_data';\n",
              "          await google.colab.output.renderOutput(dataTable, element);\n",
              "          const docLink = document.createElement('div');\n",
              "          docLink.innerHTML = docLinkHtml;\n",
              "          element.appendChild(docLink);\n",
              "        }\n",
              "      </script>\n",
              "    </div>\n",
              "  </div>\n",
              "  "
            ]
          },
          "metadata": {},
          "execution_count": 44
        }
      ]
    },
    {
      "cell_type": "code",
      "source": [
        "def res(model, acc, precision, recall, f1_score, log_loss):\n",
        "    result_se.loc[len(result_se)]   = [model, acc, precision, recall, f1_score, log_loss]\n",
        "    pd.set_option('display.max_rows', None)\n",
        "    display (result_se)\n",
        "    return result_se"
      ],
      "metadata": {
        "id": "5P_-2CmgqtcC"
      },
      "execution_count": null,
      "outputs": []
    },
    {
      "cell_type": "markdown",
      "source": [
        "### Random Forest"
      ],
      "metadata": {
        "id": "WCOguGYTKjGO"
      }
    },
    {
      "cell_type": "code",
      "source": [
        "def rf_clf(X_train, X_test, y_train, y_test):\n",
        "    '''Parameter tuning for Random Forest Classifier and model fit'''\n",
        "    \n",
        "    #splits = ShuffleSplit(n_splits = 1, test_size = .2, random_state = 0)\n",
        "\n",
        "    rf_clf = RandomForestClassifier(random_state = 0)\n",
        "    rf_param_grid = { \"max_depth\": [3, None],\n",
        "               \"min_samples_split\": [40]\n",
        "              }\n",
        "    \n",
        "    \n",
        "    rf_search = HalvingGridSearchCV(rf_clf, rf_param_grid, scoring='accuracy', resource='n_estimators', max_resources=5,              \n",
        "                              random_state=0).fit(X_train, y_train)\n",
        "    \n",
        "    rf_model = rf_search.best_estimator_\n",
        "\n",
        "    y_pred = rf_model.predict(X_test)\n",
        "    \n",
        "    log_loss = metrics.log_loss(y_test, y_pred)\n",
        "    accuracy = metrics.accuracy_score(y_test, y_pred)\n",
        "    precision = metrics.precision_score(y_test, y_pred)\n",
        "    recall = metrics.recall_score(y_test, y_pred)\n",
        "    f1_score = metrics.f1_score(y_test, y_pred)\n",
        "    print (rf_model)\n",
        "    #print('log loss', rf_loss_bow, '\\nacc', rf_acc_bow)\n",
        "    return accuracy, precision, recall, f1_score, log_loss, y_pred, rf_model"
      ],
      "metadata": {
        "id": "LNQI_3FN6AsI"
      },
      "execution_count": 61,
      "outputs": []
    },
    {
      "cell_type": "code",
      "source": [
        "acc_rf, precision_rf, recall_rf, f1_score_rf, log_loss_rf, y_pred_rf, berf = rf_clf(X_train_lemma, X_test_lemma, y_train_lemma, y_test_lemma)"
      ],
      "metadata": {
        "colab": {
          "base_uri": "https://localhost:8080/"
        },
        "id": "T1Vz2MRsiw9-",
        "outputId": "3ee3651a-04dc-4686-fd01-911211af9726"
      },
      "execution_count": null,
      "outputs": [
        {
          "output_type": "stream",
          "name": "stdout",
          "text": [
            "RandomForestClassifier(min_samples_split=40, n_estimators=3, random_state=0)\n"
          ]
        }
      ]
    },
    {
      "cell_type": "code",
      "source": [
        "report_DV_rf = classification_report(y_pred_rf, y_test_lemma)\n",
        "matrix_DV_rf = confusion_matrix(y_pred_rf, y_test_lemma)\n",
        "print('Classification Report - RF\\n', report_DV_rf)\n",
        "print()\n",
        "print('Confusion Matrix - RF\\n', matrix_DV_rf)"
      ],
      "metadata": {
        "colab": {
          "base_uri": "https://localhost:8080/"
        },
        "id": "opb6mgg5nlop",
        "outputId": "e07adf0c-1cc9-4618-a5d8-7d564f6c7c73"
      },
      "execution_count": null,
      "outputs": [
        {
          "output_type": "stream",
          "name": "stdout",
          "text": [
            "Classification Report - RF\n",
            "               precision    recall  f1-score   support\n",
            "\n",
            "           0       0.99      0.94      0.96       507\n",
            "           1       0.89      0.98      0.93       243\n",
            "\n",
            "    accuracy                           0.95       750\n",
            "   macro avg       0.94      0.96      0.95       750\n",
            "weighted avg       0.96      0.95      0.95       750\n",
            "\n",
            "\n",
            "Confusion Matrix - RF\n",
            " [[478  29]\n",
            " [  6 237]]\n"
          ]
        }
      ]
    },
    {
      "cell_type": "markdown",
      "source": [
        "## Logistic Regression"
      ],
      "metadata": {
        "id": "SbVvYvLKKm1Q"
      }
    },
    {
      "cell_type": "code",
      "source": [
        "def lr_clf(X_train, X_test, y_train, y_test):\n",
        "    '''Parameter tuning for Logistic Regression Classifier and model fit'''\n",
        "    \n",
        "    splits = ShuffleSplit(n_splits = 1, test_size = .2, random_state = 0)\n",
        "    lr_param_grid = {'C':[0.001]}     \n",
        "    lr_clf = LogisticRegression(C=0.001, random_state = 0)\n",
        "   \n",
        "    lr_search = HalvingGridSearchCV(lr_clf, lr_param_grid, scoring = 'accuracy')\n",
        "    lr_clf.fit(X_train, y_train)\n",
        "    \n",
        "    lr_model = lr_search.best_estimator_\n",
        "    \n",
        "    y_pred = lr_clf.predict(X_test)\n",
        "    \n",
        "    log_loss = metrics.log_loss(y_test, y_pred)\n",
        "    accuracy = metrics.accuracy_score(y_test, y_pred)\n",
        "    precision = metrics.precision_score(y_test, y_pred)\n",
        "    recall = metrics.recall_score(y_test, y_pred)\n",
        "    f1_score = metrics.f1_score(y_test, y_pred)\n",
        "    #print (lr_model)\n",
        "    #print('log loss', rf_loss_bow, '\\nacc', rf_acc_bow)\n",
        "    return accuracy, precision, recall, f1_score, log_loss, y_pred, lr_model"
      ],
      "metadata": {
        "id": "8bfjRhbEKo8C"
      },
      "execution_count": null,
      "outputs": []
    },
    {
      "cell_type": "code",
      "source": [
        "acc_lr, precision_lr, recall_lr, f1_score_lr, log_loss_lr, y_pred_lr, belr  = lr_clf(X_train_lemma, X_test_lemma, y_train_lemma, y_test_lemma)"
      ],
      "metadata": {
        "colab": {
          "base_uri": "https://localhost:8080/",
          "height": 171
        },
        "id": "_1uDbiDZkisW",
        "outputId": "f746da1e-fa99-4b35-95ac-abc280461197"
      },
      "execution_count": null,
      "outputs": [
        {
          "output_type": "error",
          "ename": "ValueError",
          "evalue": "ignored",
          "traceback": [
            "\u001b[0;31m---------------------------------------------------------------------------\u001b[0m",
            "\u001b[0;31mValueError\u001b[0m                                Traceback (most recent call last)",
            "\u001b[0;32m<ipython-input-63-0e9d03abc393>\u001b[0m in \u001b[0;36m<module>\u001b[0;34m\u001b[0m\n\u001b[0;32m----> 1\u001b[0;31m \u001b[0macc_lr\u001b[0m\u001b[0;34m,\u001b[0m \u001b[0mprecision_lr\u001b[0m\u001b[0;34m,\u001b[0m \u001b[0mrecall_lr\u001b[0m\u001b[0;34m,\u001b[0m \u001b[0mf1_score_lr\u001b[0m\u001b[0;34m,\u001b[0m \u001b[0mlog_loss_lr\u001b[0m\u001b[0;34m,\u001b[0m \u001b[0my_pred_lr\u001b[0m\u001b[0;34m,\u001b[0m \u001b[0mbelr\u001b[0m  \u001b[0;34m=\u001b[0m \u001b[0mlr_clf\u001b[0m\u001b[0;34m(\u001b[0m\u001b[0mX_train_lemma\u001b[0m\u001b[0;34m,\u001b[0m \u001b[0mX_test_lemma\u001b[0m\u001b[0;34m,\u001b[0m \u001b[0my_train_lemma\u001b[0m\u001b[0;34m,\u001b[0m \u001b[0my_test_lemma\u001b[0m\u001b[0;34m)\u001b[0m\u001b[0;34m\u001b[0m\u001b[0;34m\u001b[0m\u001b[0m\n\u001b[0m",
            "\u001b[0;31mValueError\u001b[0m: not enough values to unpack (expected 7, got 6)"
          ]
        }
      ]
    },
    {
      "cell_type": "markdown",
      "source": [
        "# Support Vector Classification - SVC"
      ],
      "metadata": {
        "id": "zsXrp_CDq05P"
      }
    },
    {
      "cell_type": "code",
      "source": [
        "def svc_clf(X_train, X_test, y_train, y_test):\n",
        "    '''Parameter tuning for XGB Classifier and model fit'''\n",
        "   \n",
        "    splits = ShuffleSplit(n_splits = 1, test_size = .2, random_state = 0)\n",
        "    \n",
        "    #svc_param_grid = {'C': [0.1, 10, 100], 'gamma': [1, 0.1, 0.01], 'kernel': ['sigmoid', 'linear', 'poly', 'rbf']}\n",
        "    #svc_param_grid = {'C': [0.1, 100], 'gamma': [1, 0.1, 0.01], 'kernel': ['sigmoid', 'poly', 'rbf']}\n",
        "    svc_param_grid = {'C': [10], \n",
        "              'gamma': [6], \n",
        "               'kernel': [ 'sigmoid']}\n",
        "    svc_clf = SVC()\n",
        "   # gamma='scale'\n",
        "    svc_search = HalvingGridSearchCV(svc_clf, svc_param_grid, factor = 2, scoring = 'accuracy')\n",
        "    svc_search.fit(X_train, y_train)\n",
        "    \n",
        "    svc_model = svc_search.best_params_\n",
        "    svc_model_est = svc_search.best_estimator_\n",
        "    \n",
        "    y_pred = svc_model_est.predict(X_test)\n",
        "    \n",
        "    log_loss = metrics.log_loss(y_test, y_pred)\n",
        "    accuracy = metrics.accuracy_score(y_test, y_pred)\n",
        "    precision = metrics.precision_score(y_test, y_pred, average='weighted')\n",
        "    recall = metrics.recall_score(y_test, y_pred, average='weighted')\n",
        "    f1_score = metrics.f1_score(y_test, y_pred, average='macro')\n",
        "    print (svc_model)\n",
        "    return accuracy, precision, recall, f1_score, log_loss, y_pred, svc_model_est  "
      ],
      "metadata": {
        "id": "7mihAwFj2dK_"
      },
      "execution_count": 62,
      "outputs": []
    },
    {
      "cell_type": "code",
      "source": [
        "acc_svc, precision_svc, recall_svc, f1_score_svc, log_loss_svc, y_pred_svc, besvc = svc_clf(X_train_lemma.values,\n",
        "                                                                                            X_test_lemma.values, y_train_lemma, y_test_lemma)"
      ],
      "metadata": {
        "colab": {
          "base_uri": "https://localhost:8080/"
        },
        "id": "OXge4KvfkwvZ",
        "outputId": "2d379969-6fa0-4b5b-c659-1814e856d53f"
      },
      "execution_count": null,
      "outputs": [
        {
          "output_type": "stream",
          "name": "stdout",
          "text": [
            "{'C': 1, 'kernel': 'sigmoid'}\n"
          ]
        }
      ]
    },
    {
      "cell_type": "code",
      "source": [
        "report_svc = classification_report(y_pred_svc, y_test_lemma)\n",
        "matrix_svc = confusion_matrix(y_pred_svc, y_test_lemma)\n",
        "print('Classification Report - SVC\\n', report_svc)\n",
        "print()\n",
        "print('Confusion Matrix - SVC\\n', matrix_svc)"
      ],
      "metadata": {
        "colab": {
          "base_uri": "https://localhost:8080/"
        },
        "id": "D4J_edDboNdA",
        "outputId": "88dd67de-7810-4aea-8daf-2be6e8c1f20e"
      },
      "execution_count": null,
      "outputs": [
        {
          "output_type": "stream",
          "name": "stdout",
          "text": [
            "Classification Report - SVC\n",
            "               precision    recall  f1-score   support\n",
            "\n",
            "           0       1.00      1.00      1.00      4753\n",
            "           1       1.00      1.00      1.00      2747\n",
            "\n",
            "    accuracy                           1.00      7500\n",
            "   macro avg       1.00      1.00      1.00      7500\n",
            "weighted avg       1.00      1.00      1.00      7500\n",
            "\n",
            "\n",
            "Confusion Matrix - SVC\n",
            " [[4751    2]\n",
            " [   0 2747]]\n"
          ]
        }
      ]
    },
    {
      "cell_type": "markdown",
      "source": [
        "# Activate algorithm functions"
      ],
      "metadata": {
        "id": "k7Cf5LDnw4fq"
      }
    },
    {
      "cell_type": "markdown",
      "source": [
        "#### On Lemmatized data"
      ],
      "metadata": {
        "id": "hgKbFubUw-kb"
      }
    },
    {
      "cell_type": "code",
      "source": [
        "# Lemmatized, without stopwords  \n",
        "\n",
        "#Random Forest\n",
        "acc_rf_lemma, precision_rf_lemma, recall_rf_lemma, f1_score_rf_lemma, log_loss_rf_lemma, y_pred_rf_lemma, berf_lemma  = rf_clf(X_train_lemma, X_test_lemma, y_train_lemma, y_test_lemma)\n",
        "\n",
        "report_rf_lemma = classification_report(y_pred_rf_lemma, y_test_lemma)\n",
        "matrix_rf_lemma = confusion_matrix(y_pred_rf_lemma, y_test_lemma)\n",
        "print('Classification Report - RF\\n', report_rf_lemma)\n",
        "print()\n",
        "print('Confusion Matrix - RF\\n', matrix_rf_lemma)\n",
        "\n",
        "# #Logistic Regression\n",
        "# acc_lr_lemma, precision_lr_lemma, recall_lr_lemma, f1_score_lr_lemma, log_loss_lr_lemma,  y_pred_lr_lemma, belr_lemma = lr_clf(X_train_lemma, X_test_lemma, y_train_lemma, y_test_lemma)\n",
        "# print()\n",
        "\n",
        "\n",
        "# report_lr_lemma = classification_report(y_pred_lr_lemma, y_test_lemma)\n",
        "# matrix_lr_lemma = confusion_matrix(y_pred_lr_lemma, y_test_lemma)\n",
        "# print('Classification Report - Logistic Regression\\n', report_lr_lemma)\n",
        "# print()\n",
        "# print('Confusion Matrix - Logistic Regression\\n', matrix_lr_lemma)\n",
        "\n",
        "# SVC \n",
        "acc_svc_lemma, precision_svc_lemma, recall_svc_lemma, f1_score_svc_lemma, log_loss_svc_lemma, y_pred_svc_lemma, besvc_lemma = svc_clf(X_train_lemma, X_test_lemma, y_train_lemma, y_test_lemma)\n",
        "\n",
        "report_svc_lemma = classification_report(y_pred_svc_lemma, y_test_lemma)\n",
        "matrix_svc_lemma = confusion_matrix(y_pred_svc_lemma, y_test_lemma)\n",
        "\n",
        "print('Classification Report - SVC\\n', report_svc_lemma)\n",
        "print()\n",
        "print('Confusion Matrix - SVC\\n', matrix_svc_lemma)"
      ],
      "metadata": {
        "colab": {
          "base_uri": "https://localhost:8080/"
        },
        "id": "1-hudrcTK0G_",
        "outputId": "a2f98cdc-b07f-44e5-e456-2764cf7d4057"
      },
      "execution_count": 63,
      "outputs": [
        {
          "output_type": "stream",
          "name": "stdout",
          "text": [
            "RandomForestClassifier(min_samples_split=40, n_estimators=5, random_state=0)\n",
            "Classification Report - RF\n",
            "               precision    recall  f1-score   support\n",
            "\n",
            "           0       0.97      0.94      0.96       485\n",
            "           1       0.90      0.95      0.92       265\n",
            "\n",
            "    accuracy                           0.95       750\n",
            "   macro avg       0.94      0.95      0.94       750\n",
            "weighted avg       0.95      0.95      0.95       750\n",
            "\n",
            "\n",
            "Confusion Matrix - RF\n",
            " [[457  28]\n",
            " [ 13 252]]\n",
            "{'C': 10, 'gamma': 6, 'kernel': 'sigmoid'}\n",
            "Classification Report - SVC\n",
            "               precision    recall  f1-score   support\n",
            "\n",
            "           0       0.78      0.76      0.77       485\n",
            "           1       0.58      0.61      0.59       265\n",
            "\n",
            "    accuracy                           0.71       750\n",
            "   macro avg       0.68      0.68      0.68       750\n",
            "weighted avg       0.71      0.71      0.71       750\n",
            "\n",
            "\n",
            "Confusion Matrix - SVC\n",
            " [[367 118]\n",
            " [103 162]]\n"
          ]
        }
      ]
    },
    {
      "cell_type": "code",
      "source": [
        "# Creating DataFrame for Evaluations\n",
        "result_lemma = pd.DataFrame(columns = ['Model Name', 'Accuracy', 'Precision', 'Recall', 'F1_score', 'Log_loss'])\n",
        "result_lemma.head()"
      ],
      "metadata": {
        "colab": {
          "base_uri": "https://localhost:8080/",
          "height": 49
        },
        "id": "4fxtc3SGRUu8",
        "outputId": "7438c1fc-f183-4a1b-dc93-86c5611b95fa"
      },
      "execution_count": null,
      "outputs": [
        {
          "output_type": "execute_result",
          "data": {
            "text/plain": [
              "Empty DataFrame\n",
              "Columns: [Model Name, Accuracy, Precision, Recall, F1_score, Log_loss]\n",
              "Index: []"
            ],
            "text/html": [
              "\n",
              "  <div id=\"df-52da26b8-a191-4940-b9c7-44a051b680b8\">\n",
              "    <div class=\"colab-df-container\">\n",
              "      <div>\n",
              "<style scoped>\n",
              "    .dataframe tbody tr th:only-of-type {\n",
              "        vertical-align: middle;\n",
              "    }\n",
              "\n",
              "    .dataframe tbody tr th {\n",
              "        vertical-align: top;\n",
              "    }\n",
              "\n",
              "    .dataframe thead th {\n",
              "        text-align: right;\n",
              "    }\n",
              "</style>\n",
              "<table border=\"1\" class=\"dataframe\">\n",
              "  <thead>\n",
              "    <tr style=\"text-align: right;\">\n",
              "      <th></th>\n",
              "      <th>Model Name</th>\n",
              "      <th>Accuracy</th>\n",
              "      <th>Precision</th>\n",
              "      <th>Recall</th>\n",
              "      <th>F1_score</th>\n",
              "      <th>Log_loss</th>\n",
              "    </tr>\n",
              "  </thead>\n",
              "  <tbody>\n",
              "  </tbody>\n",
              "</table>\n",
              "</div>\n",
              "      <button class=\"colab-df-convert\" onclick=\"convertToInteractive('df-52da26b8-a191-4940-b9c7-44a051b680b8')\"\n",
              "              title=\"Convert this dataframe to an interactive table.\"\n",
              "              style=\"display:none;\">\n",
              "        \n",
              "  <svg xmlns=\"http://www.w3.org/2000/svg\" height=\"24px\"viewBox=\"0 0 24 24\"\n",
              "       width=\"24px\">\n",
              "    <path d=\"M0 0h24v24H0V0z\" fill=\"none\"/>\n",
              "    <path d=\"M18.56 5.44l.94 2.06.94-2.06 2.06-.94-2.06-.94-.94-2.06-.94 2.06-2.06.94zm-11 1L8.5 8.5l.94-2.06 2.06-.94-2.06-.94L8.5 2.5l-.94 2.06-2.06.94zm10 10l.94 2.06.94-2.06 2.06-.94-2.06-.94-.94-2.06-.94 2.06-2.06.94z\"/><path d=\"M17.41 7.96l-1.37-1.37c-.4-.4-.92-.59-1.43-.59-.52 0-1.04.2-1.43.59L10.3 9.45l-7.72 7.72c-.78.78-.78 2.05 0 2.83L4 21.41c.39.39.9.59 1.41.59.51 0 1.02-.2 1.41-.59l7.78-7.78 2.81-2.81c.8-.78.8-2.07 0-2.86zM5.41 20L4 18.59l7.72-7.72 1.47 1.35L5.41 20z\"/>\n",
              "  </svg>\n",
              "      </button>\n",
              "      \n",
              "  <style>\n",
              "    .colab-df-container {\n",
              "      display:flex;\n",
              "      flex-wrap:wrap;\n",
              "      gap: 12px;\n",
              "    }\n",
              "\n",
              "    .colab-df-convert {\n",
              "      background-color: #E8F0FE;\n",
              "      border: none;\n",
              "      border-radius: 50%;\n",
              "      cursor: pointer;\n",
              "      display: none;\n",
              "      fill: #1967D2;\n",
              "      height: 32px;\n",
              "      padding: 0 0 0 0;\n",
              "      width: 32px;\n",
              "    }\n",
              "\n",
              "    .colab-df-convert:hover {\n",
              "      background-color: #E2EBFA;\n",
              "      box-shadow: 0px 1px 2px rgba(60, 64, 67, 0.3), 0px 1px 3px 1px rgba(60, 64, 67, 0.15);\n",
              "      fill: #174EA6;\n",
              "    }\n",
              "\n",
              "    [theme=dark] .colab-df-convert {\n",
              "      background-color: #3B4455;\n",
              "      fill: #D2E3FC;\n",
              "    }\n",
              "\n",
              "    [theme=dark] .colab-df-convert:hover {\n",
              "      background-color: #434B5C;\n",
              "      box-shadow: 0px 1px 3px 1px rgba(0, 0, 0, 0.15);\n",
              "      filter: drop-shadow(0px 1px 2px rgba(0, 0, 0, 0.3));\n",
              "      fill: #FFFFFF;\n",
              "    }\n",
              "  </style>\n",
              "\n",
              "      <script>\n",
              "        const buttonEl =\n",
              "          document.querySelector('#df-52da26b8-a191-4940-b9c7-44a051b680b8 button.colab-df-convert');\n",
              "        buttonEl.style.display =\n",
              "          google.colab.kernel.accessAllowed ? 'block' : 'none';\n",
              "\n",
              "        async function convertToInteractive(key) {\n",
              "          const element = document.querySelector('#df-52da26b8-a191-4940-b9c7-44a051b680b8');\n",
              "          const dataTable =\n",
              "            await google.colab.kernel.invokeFunction('convertToInteractive',\n",
              "                                                     [key], {});\n",
              "          if (!dataTable) return;\n",
              "\n",
              "          const docLinkHtml = 'Like what you see? Visit the ' +\n",
              "            '<a target=\"_blank\" href=https://colab.research.google.com/notebooks/data_table.ipynb>data table notebook</a>'\n",
              "            + ' to learn more about interactive tables.';\n",
              "          element.innerHTML = '';\n",
              "          dataTable['output_type'] = 'display_data';\n",
              "          await google.colab.output.renderOutput(dataTable, element);\n",
              "          const docLink = document.createElement('div');\n",
              "          docLink.innerHTML = docLinkHtml;\n",
              "          element.appendChild(docLink);\n",
              "        }\n",
              "      </script>\n",
              "    </div>\n",
              "  </div>\n",
              "  "
            ]
          },
          "metadata": {},
          "execution_count": 78
        }
      ]
    },
    {
      "cell_type": "code",
      "source": [
        "# result_lemma = res('RandomForest Classifier',acc_rf_lemma, precision_rf_lemma, recall_rf_lemma, f1_score_rf_lemma, log_loss_rf_lemma, y_pred_rf_lemma, berf_lemma)\n",
        "# result_lemma = res('Logistic Regression', acc_lr_lemma, precision_lr_lemma, recall_lr_lemma, f1_score_lr_lemma, log_loss_lr_lemma,  y_pred_lr_lemma, belr_lemma)\n",
        "# result_lemma = res('SVC Classifier', acc_svc_lemma, precision_svc_lemma, recall_svc_lemma, f1_score_svc_lemma, log_loss_svc_lemma, y_pred_svc_lemma, besvc_lemma)"
      ],
      "metadata": {
        "id": "_r2KX2MERbCZ"
      },
      "execution_count": null,
      "outputs": []
    },
    {
      "cell_type": "markdown",
      "source": [
        "## Lemmatized with stopwords"
      ],
      "metadata": {
        "id": "ptMT75OG9DtP"
      }
    },
    {
      "cell_type": "code",
      "source": [
        "# Lemmatized, with stopwords\n",
        "\n",
        "#Random Forest\n",
        "acc_rf_sw_lemma, precision_rf_sw_lemma, recall_rf_sw_lemma, f1_score_rf_sw_lemma, log_loss_rf_sw_lemma, y_pred_rf_sw_lemma, berf_sw_lemma  = rf_clf(X_train_sw_lemma, X_test_sw_lemma, y_train_sw_lemma, y_test_sw_lemma)\n",
        "\n",
        "report_rf_sw_lemma = classification_report(y_pred_rf_sw_lemma, y_test_sw_lemma)\n",
        "matrix_rf_sw_lemma = confusion_matrix(y_pred_rf_sw_lemma, y_test_sw_lemma)\n",
        "print('Classification Report - RF\\n', report_rf_sw_lemma)\n",
        "print()\n",
        "print('Confusion Matrix - RF\\n', matrix_rf_sw_lemma)\n",
        "print()\n",
        "\n",
        "# #Logistic Regression\n",
        "# acc_lr_sw_lemma, precision_lr_sw_lemma, recall_lr_sw_lemma, f1_score_lr_sw_lemma, log_loss_lr_sw_lemma,  y_pred_lr_sw_lemma, belr_sw_lemma = lr_clf(X_train_sw_lemma, X_test_sw_lemma, y_train_sw_lemma, y_test_sw_lemma)\n",
        "# print()\n",
        "\n",
        "\n",
        "# report_lr_sw_lemma = classification_report(y_pred_lr_sw_lemma, y_test_sw_lemma)\n",
        "# matrix_lr_sw_lemma = confusion_matrix(y_pred_lr_sw_lemma, y_test_sw_lemma)\n",
        "# print('Classification Report - Logistic Regression\\n', report_lr_sw_lemma)\n",
        "# print()\n",
        "# print('Confusion Matrix - Logistic Regression\\n', matrix_lr_sw_lemma)\n",
        "\n",
        "\n",
        "# SVC \n",
        "acc_svc_sw_lemma, precision_svc_sw_lemma, recall_svc_sw_lemma, f1_score_svc_sw_lemma, log_loss_svc_sw_lemma, y_pred_svc_sw_lemma, besvc_sw_lemma = svc_clf(X_train_sw_lemma, X_test_sw_lemma, y_train_sw_lemma, y_test_sw_lemma)\n",
        "\n",
        "report_svc_sw_lemma = classification_report(y_pred_svc_sw_lemma, y_test_sw_lemma)\n",
        "matrix_svc_sw_lemma = confusion_matrix(y_pred_svc_sw_lemma, y_test_sw_lemma)\n",
        "\n",
        "print('Classification Report - SVC\\n', report_svc_sw_lemma)\n",
        "print()\n",
        "print('Confusion Matrix - SVC\\n', matrix_svc_sw_lemma)"
      ],
      "metadata": {
        "colab": {
          "base_uri": "https://localhost:8080/"
        },
        "id": "59MSTGOoK5dM",
        "outputId": "0ce3b1e3-6449-4fe1-bc91-8d867f53b908"
      },
      "execution_count": 64,
      "outputs": [
        {
          "output_type": "stream",
          "name": "stdout",
          "text": [
            "RandomForestClassifier(min_samples_split=40, n_estimators=5, random_state=0)\n",
            "Classification Report - RF\n",
            "               precision    recall  f1-score   support\n",
            "\n",
            "           0       0.97      0.92      0.95       495\n",
            "           1       0.86      0.95      0.90       255\n",
            "\n",
            "    accuracy                           0.93       750\n",
            "   macro avg       0.92      0.93      0.92       750\n",
            "weighted avg       0.93      0.93      0.93       750\n",
            "\n",
            "\n",
            "Confusion Matrix - RF\n",
            " [[456  39]\n",
            " [ 14 241]]\n",
            "\n",
            "{'C': 10, 'gamma': 6, 'kernel': 'sigmoid'}\n",
            "Classification Report - SVC\n",
            "               precision    recall  f1-score   support\n",
            "\n",
            "           0       0.72      0.71      0.72       472\n",
            "           1       0.52      0.52      0.52       278\n",
            "\n",
            "    accuracy                           0.64       750\n",
            "   macro avg       0.62      0.62      0.62       750\n",
            "weighted avg       0.64      0.64      0.64       750\n",
            "\n",
            "\n",
            "Confusion Matrix - SVC\n",
            " [[337 135]\n",
            " [133 145]]\n"
          ]
        }
      ]
    },
    {
      "cell_type": "code",
      "source": [
        "# Creating DataFrame for Evaluations\n",
        "result_sw_lemma = pd.DataFrame(columns = ['Model Name', 'Accuracy', 'Precision', 'Recall', 'F1_score', 'Log_loss'])\n",
        "result_sw_lemma.head()"
      ],
      "metadata": {
        "id": "uK5ecUYAPSgY"
      },
      "execution_count": null,
      "outputs": []
    },
    {
      "cell_type": "code",
      "source": [
        "# result_sw_lemma = res('RandomForest Classifier', acc_rf_sw_lemma, precision_rf_sw_lemma, recall_rf_sw_lemma, f1_score_rf_sw_lemma, log_loss_rf_sw_lemma, y_pred_rf_sw_lemma, berf_sw_lemma)\n",
        "# result_sw_lemma = res('Logistic Regression', acc_lr_sw_lemma, precision_lr_sw_lemma, recall_lr_sw_lemma, f1_score_lr_sw_lemma, log_loss_lr_sw_lemma,  y_pred_lr_sw_lemma, belr_sw_lemma)\n",
        "# result_sw_lemma = res('SVC Classifier', acc_svc_sw_lemma, precision_svc_sw_lemma, recall_svc_sw_lemma, f1_score_svc_sw_lemma, log_loss_svc_sw_lemma, y_pred_svc_sw_lemma, besvc_sw_lemma)"
      ],
      "metadata": {
        "id": "X402iAKY9xdY"
      },
      "execution_count": null,
      "outputs": []
    },
    {
      "cell_type": "markdown",
      "source": [
        "# With stopwords, not lemmatized nor stemmed"
      ],
      "metadata": {
        "id": "SRfvTuPUy2pO"
      }
    },
    {
      "cell_type": "code",
      "source": [
        "# With stopwords, not lemmatized, nor stemmed\n",
        "\n",
        "#Random Forest\n",
        "acc_rf_sw, precision_rf_sw, recall_rf_sw, f1_score_rf_sw, log_loss_rf_sw, y_pred_rf_sw, berf_sw  = rf_clf(X_train_sw, X_test_sw, y_train_sw, y_test_sw)\n",
        "\n",
        "report_rf_sw = classification_report(y_pred_rf_sw, y_test_sw)\n",
        "matrix_rf_sw = confusion_matrix(y_pred_rf_sw, y_test_sw)\n",
        "print('Classification Report - RF\\n', report_rf_sw)\n",
        "print()\n",
        "print('Confusion Matrix - RF\\n', matrix_rf_sw)\n",
        "print()\n",
        "\n",
        "# #Logistic Regression\n",
        "# acc_lr_sw, precision_lr_sw, recall_lr_sw, f1_score_lr_sw, log_loss_lr_sw,  y_pred_lr_sw, belr_sw = lr_clf(X_train_sw, X_test_sw, y_train_sw, y_test_sw)\n",
        "# print()\n",
        "# report_lr_sw = classification_report(y_pred_lr_sw, y_test_sw)\n",
        "# matrix_lr_sw = confusion_matrix(y_pred_lr_sw, y_test_sw)\n",
        "# print('Classification Report - Logistic Regression\\n', report_lr_sw)\n",
        "# print()\n",
        "# print('Confusion Matrix - Logistic Regression\\n', matrix_lr_sw)\n",
        "\n",
        "\n",
        "# SVC \n",
        "acc_svc_sw, precision_svc_sw, recall_svc_sw, f1_score_svc_sw, log_loss_svc_sw, y_pred_svc_sw, besvc_sw= svc_clf(X_train_sw, X_test_sw, y_train_sw, y_test_sw)\n",
        "\n",
        "report_svc_sw = classification_report(y_pred_svc_sw, y_test_sw)\n",
        "matrix_svc_sw = confusion_matrix(y_pred_svc_sw, y_test_sw)\n",
        "\n",
        "print('Classification Report - SVC\\n', report_svc_sw)\n",
        "print()\n",
        "print('Confusion Matrix - SVC\\n', matrix_svc_sw)"
      ],
      "metadata": {
        "colab": {
          "base_uri": "https://localhost:8080/"
        },
        "id": "xCNGgMoEy6Sx",
        "outputId": "0f330e06-0121-4595-90db-dd59764f962d"
      },
      "execution_count": 65,
      "outputs": [
        {
          "output_type": "stream",
          "name": "stdout",
          "text": [
            "RandomForestClassifier(min_samples_split=40, n_estimators=5, random_state=0)\n",
            "Classification Report - RF\n",
            "               precision    recall  f1-score   support\n",
            "\n",
            "           0       0.97      0.94      0.95       483\n",
            "           1       0.90      0.94      0.92       267\n",
            "\n",
            "    accuracy                           0.94       750\n",
            "   macro avg       0.93      0.94      0.94       750\n",
            "weighted avg       0.94      0.94      0.94       750\n",
            "\n",
            "\n",
            "Confusion Matrix - RF\n",
            " [[455  28]\n",
            " [ 15 252]]\n",
            "\n",
            "{'C': 10, 'gamma': 6, 'kernel': 'sigmoid'}\n",
            "Classification Report - SVC\n",
            "               precision    recall  f1-score   support\n",
            "\n",
            "           0       0.69      0.69      0.69       470\n",
            "           1       0.49      0.49      0.49       280\n",
            "\n",
            "    accuracy                           0.62       750\n",
            "   macro avg       0.59      0.59      0.59       750\n",
            "weighted avg       0.62      0.62      0.62       750\n",
            "\n",
            "\n",
            "Confusion Matrix - SVC\n",
            " [[326 144]\n",
            " [144 136]]\n"
          ]
        }
      ]
    },
    {
      "cell_type": "code",
      "source": [
        "# Creating DataFrame for Evaluations\n",
        "result_sw = pd.DataFrame(columns = ['Model Name', 'Accuracy', 'Precision', 'Recall', 'F1_score', 'Log_loss'])\n",
        "result_sw.head()"
      ],
      "metadata": {
        "id": "7UCg0N8e-qXj"
      },
      "execution_count": null,
      "outputs": []
    },
    {
      "cell_type": "code",
      "source": [
        "# result_sw = res('RandomForest Classifier', acc_rf_sw, precision_rf_sw, recall_rf_sw, f1_score_rf_sw, log_loss_rf_sw, y_pred_rf_sw, berf_sw)\n",
        "# result_sw = res('Logistic Regression',acc_lr_sw, precision_lr_sw, recall_lr_sw, f1_score_lr_sw, log_loss_lr_sw,  y_pred_lr_sw, belr_sw)\n",
        "# result_sw = res('SVC Classifier', acc_svc_sw, precision_svc_sw, recall_svc_sw, f1_score_svc_sw, log_loss_svc_sw, y_pred_svc_sw, besvc_sw)"
      ],
      "metadata": {
        "id": "b0B-1zUQ8gwm"
      },
      "execution_count": null,
      "outputs": []
    },
    {
      "cell_type": "markdown",
      "source": [
        "### Without stopwords, not lemmatized nor stemmed"
      ],
      "metadata": {
        "id": "GI9p1Fqoxj5p"
      }
    },
    {
      "cell_type": "code",
      "source": [
        "# Without stopwords, not lemmatized, nor stemmed\n",
        "\n",
        "#Random Forest\n",
        "acc_rf_out, precision_rf_out, recall_rf_out, f1_score_rf_out, log_loss_rf_out, y_pred_rf_out, berf_out  = rf_clf(X_train_out, X_test_out, y_train_out, y_test_out)\n",
        "\n",
        "report_rf_out = classification_report(y_pred_rf_out, y_test_out)\n",
        "matrix_rf_out = confusion_matrix(y_pred_rf_out, y_test_out)\n",
        "print('Classification Report - RF\\n', report_rf_out)\n",
        "print()\n",
        "print('Confusion Matrix - RF\\n', matrix_rf_out)\n",
        "print()\n",
        "\n",
        "# #Logistic Regression\n",
        "# acc_lr_out, precision_lr_out, recall_lr_out, f1_score_lr_out, log_loss_lr_out,  y_pred_lr_out, belr_out = lr_clf(X_train_out, X_test_out, y_train_out, y_test_out)\n",
        "# print()\n",
        "# report_lr_out = classification_report(y_pred_lr_out, y_test_out)\n",
        "# matrix_lr_out = confusion_matrix(y_pred_lr_out, y_test_out)\n",
        "# print('Classification Report - Logistic Regression\\n', report_lr_out)\n",
        "# print()\n",
        "# print('Confusion Matrix - Logistic Regression\\n', matrix_lr_out)\n",
        "\n",
        "\n",
        "# SVC \n",
        "acc_svc_out, precision_svc_out, recall_svc_out, f1_score_svc_out, log_loss_svc_out, y_pred_svc_out, besvc_out = svc_clf(X_train_out, X_test_out, y_train_out, y_test_out)\n",
        "\n",
        "report_svc_out = classification_report(y_pred_svc_out, y_test_out)\n",
        "matrix_svc_out = confusion_matrix(y_pred_svc_out, y_test_out)\n",
        "\n",
        "print('Classification Report - SVC\\n', report_svc_out)\n",
        "print()\n",
        "print('Confusion Matrix - SVC\\n', matrix_svc_out)"
      ],
      "metadata": {
        "id": "Tf2xdrk_xntZ",
        "colab": {
          "base_uri": "https://localhost:8080/"
        },
        "outputId": "0bcf647f-0ba1-4867-a347-32705bfb5450"
      },
      "execution_count": 66,
      "outputs": [
        {
          "output_type": "stream",
          "name": "stdout",
          "text": [
            "RandomForestClassifier(min_samples_split=40, n_estimators=5, random_state=0)\n",
            "Classification Report - RF\n",
            "               precision    recall  f1-score   support\n",
            "\n",
            "           0       0.97      0.97      0.97       471\n",
            "           1       0.95      0.96      0.96       279\n",
            "\n",
            "    accuracy                           0.97       750\n",
            "   macro avg       0.96      0.96      0.96       750\n",
            "weighted avg       0.97      0.97      0.97       750\n",
            "\n",
            "\n",
            "Confusion Matrix - RF\n",
            " [[458  13]\n",
            " [ 12 267]]\n",
            "\n",
            "{'C': 10, 'gamma': 6, 'kernel': 'sigmoid'}\n",
            "Classification Report - SVC\n",
            "               precision    recall  f1-score   support\n",
            "\n",
            "           0       0.79      0.78      0.78       474\n",
            "           1       0.62      0.63      0.63       276\n",
            "\n",
            "    accuracy                           0.73       750\n",
            "   macro avg       0.71      0.71      0.71       750\n",
            "weighted avg       0.73      0.73      0.73       750\n",
            "\n",
            "\n",
            "Confusion Matrix - SVC\n",
            " [[369 105]\n",
            " [101 175]]\n"
          ]
        }
      ]
    },
    {
      "cell_type": "code",
      "source": [
        "# Creating DataFrame for Evaluations\n",
        "result_out = pd.DataFrame(columns = ['Model Name', 'Accuracy', 'Precision', 'Recall', 'F1_score', 'Log_loss'])\n",
        "result_out.head()"
      ],
      "metadata": {
        "id": "LATu_IGZ8NhC"
      },
      "execution_count": null,
      "outputs": []
    },
    {
      "cell_type": "code",
      "source": [
        "# result_out = res('RandomForest Classifier', acc_rf_out, precision_rf_out, recall_rf_out, f1_score_rf_out, log_loss_rf_out, y_pred_rf_out, berf_out)\n",
        "# result_out = res('Logistic Regression', acc_lr_out, precision_lr_out, recall_lr_out, f1_score_lr_out, log_loss_lr_out,  y_pred_lr_out, belr_out)\n",
        "# result_out = res('SVC Classifier', acc_svc_out, precision_svc_out, recall_svc_out, f1_score_svc_out, log_loss_svc_out, y_pred_svc_out, besvc_out)"
      ],
      "metadata": {
        "id": "rKqUdIe1_hiJ"
      },
      "execution_count": null,
      "outputs": []
    },
    {
      "cell_type": "markdown",
      "source": [
        "# Stemmed data with stopwords"
      ],
      "metadata": {
        "id": "970VJSBbzvSo"
      }
    },
    {
      "cell_type": "code",
      "source": [
        "# Stemmed with stopwords\n",
        "\n",
        "#Random Forest\n",
        "acc_rf_sw_stem, precision_rf_sw_stem, recall_rf_sw_stem, f1_score_rf_sw_stem, log_loss_rf_sw_stem, y_pred_rf_sw_stem, berf_sw_stem  = rf_clf(X_train_sw_stem, X_test_sw_stem, y_train_sw_stem, y_test_sw_stem)\n",
        "\n",
        "report_rf_sw_stem = classification_report(y_pred_rf_sw_stem, y_test_sw_stem)\n",
        "matrix_rf_sw_stem = confusion_matrix(y_pred_rf_sw_stem, y_test_sw_stem)\n",
        "print('Classification Report - RF\\n', report_rf_sw_stem)\n",
        "print()\n",
        "print('Confusion Matrix - RF\\n', matrix_rf_sw_stem)\n",
        "print()\n",
        "\n",
        "\n",
        "# #Logistic Regression\n",
        "# acc_lr_sw_stem, precision_lr_sw_stem, recall_lr_sw_stem, f1_score_lr_sw_stem, log_loss_lr_sw_stem,  y_pred_lr_sw_stem, belr_sw_stem = lr_clf(X_train_sw_stem, X_test_sw_stem, y_train_sw_stem, y_test_sw_stem)\n",
        "# print()\n",
        "# report_lr_sw_stem = classification_report(y_pred_lr_sw_stem, y_test_sw_stem)\n",
        "# matrix_lr_sw_stem = confusion_matrix(y_pred_lr_sw_stem, y_test_sw_stem)\n",
        "# print('Classification Report - Logistic Regression\\n', report_lr_sw_stem)\n",
        "# print()\n",
        "# print('Confusion Matrix - Logistic Regression\\n', matrix_lr_sw_stem)\n",
        "\n",
        "\n",
        "# SVC \n",
        "acc_svc_sw_stem, precision_svc_sw_stem, recall_svc_sw_stem, f1_score_svc_sw_stem, log_loss_svc_sw_stem, y_pred_svc_sw_stem, besvc_sw_stem = svc_clf(X_train_sw_stem, X_test_sw_stem, y_train_sw_stem, y_test_sw_stem)\n",
        "\n",
        "report_svc_sw_stem = classification_report(y_pred_svc_sw_stem, y_test_sw_stem)\n",
        "matrix_svc_sw_stem = confusion_matrix(y_pred_svc_sw_stem, y_test_sw_stem)\n",
        "\n",
        "print('Classification Report - SVC\\n', report_svc_sw_stem)\n",
        "print()\n",
        "print('Confusion Matrix - SVC\\n', matrix_svc_sw_stem)"
      ],
      "metadata": {
        "id": "ZZcoPW3hzxqC",
        "colab": {
          "base_uri": "https://localhost:8080/"
        },
        "outputId": "4d83986a-15b8-4b03-89b7-4690ae4eeb89"
      },
      "execution_count": null,
      "outputs": [
        {
          "output_type": "stream",
          "name": "stdout",
          "text": [
            "RandomForestClassifier(min_samples_split=40, n_estimators=5, random_state=0)\n",
            "Classification Report - RF\n",
            "               precision    recall  f1-score   support\n",
            "\n",
            "           0       0.98      0.95      0.97       486\n",
            "           1       0.91      0.97      0.94       264\n",
            "\n",
            "    accuracy                           0.96       750\n",
            "   macro avg       0.95      0.96      0.95       750\n",
            "weighted avg       0.96      0.96      0.96       750\n",
            "\n",
            "\n",
            "Confusion Matrix - RF\n",
            " [[462  24]\n",
            " [  8 256]]\n",
            "\n"
          ]
        }
      ]
    },
    {
      "cell_type": "code",
      "source": [
        "# Creating DataFrame for Evaluations\n",
        "result_sw_stem = pd.DataFrame(columns = ['Model Name', 'Accuracy', 'Precision', 'Recall', 'F1_score', 'Log_loss'])\n",
        "result_sw_stem.head()"
      ],
      "metadata": {
        "id": "l-BImBMj74zE"
      },
      "execution_count": null,
      "outputs": []
    },
    {
      "cell_type": "code",
      "source": [
        "# result_sw_stem = res('RandomForest Classifier', acc_rf_sw_stem, precision_rf_sw_stem, recall_rf_sw_stem, f1_score_rf_sw_stem, log_loss_rf_sw_stem, y_pred_rf_sw_stem, berf_sw_stem)\n",
        "# result_sw_stem = res('Logistic Regression', acc_lr_sw_stem, precision_lr_sw_stem, recall_lr_sw_stem, f1_score_lr_sw_stem, log_loss_lr_sw_stem,  y_pred_lr_sw_stem, belr_sw_stem)\n",
        "# result_sw_stem = res('SVC Classifier', acc_svc_sw_stem, precision_svc_sw_stem, recall_svc_sw_stem, f1_score_svc_sw_stem, log_loss_svc_sw_stem, y_pred_svc_sw_stem, besvc_sw_stem)"
      ],
      "metadata": {
        "id": "66h_oBQeCM0x"
      },
      "execution_count": null,
      "outputs": []
    },
    {
      "cell_type": "markdown",
      "source": [
        "# Stemmed without stopwords\n"
      ],
      "metadata": {
        "id": "wliNwVz00kaD"
      }
    },
    {
      "cell_type": "code",
      "source": [
        "# Stemmed with stopwords\n",
        "\n",
        "#Random Forest\n",
        "acc_rf_stem, precision_rf_stem, recall_rf_stem, f1_score_rf_stem, log_loss_rf_stem, y_pred_rf_stem, berf_stem  = rf_clf(X_train_stem, X_test_stem, y_train_stem, y_test_stem)\n",
        "\n",
        "report_rf_stem = classification_report(y_pred_rf_stem, y_test_stem)\n",
        "matrix_rf_stem = confusion_matrix(y_pred_rf_stem, y_test_stem)\n",
        "print('Classification Report - RF\\n', report_rf_stem)\n",
        "print()\n",
        "print('Confusion Matrix - RF\\n', matrix_rf_stem)\n",
        "print()\n",
        "\n",
        "# #Logistic Regression\n",
        "# acc_lr_stem, precision_lr_stem, recall_lr_stem, f1_score_lr_stem, log_loss_lr_stem,  y_pred_lr_stem, belr_stem = lr_clf(X_train_stem, X_test_stem, y_train_stem, y_test_stem)\n",
        "# print()\n",
        "# report_lr_stem = classification_report(y_pred_lr_stem, y_test_stem)\n",
        "# matrix_lr_stem = confusion_matrix(y_pred_lr_stem, y_test_stem)\n",
        "# print('Classification Report - Logistic Regression\\n', report_lr_stem)\n",
        "# print()\n",
        "# print('Confusion Matrix - Logistic Regression\\n', matrix_lr_stem)\n",
        "\n",
        "# SVC \n",
        "acc_svc_stem, precision_svc_stem, recall_svc_stem, f1_score_svc_stem, log_loss_svc_stem, y_pred_svc_stem, besvc_stem = svc_clf(X_train_stem, X_test_stem, y_train_stem, y_test_stem)\n",
        "\n",
        "report_svc_stem = classification_report(y_pred_svc_stem, y_test_stem)\n",
        "matrix_svc_stem = confusion_matrix(y_pred_svc_stem, y_test_stem)\n",
        "\n",
        "print('Classification Report - SVC\\n', report_svc_stem)\n",
        "print()\n",
        "print('Confusion Matrix - SVC\\n', matrix_svc_stem)"
      ],
      "metadata": {
        "id": "40HD7PM30m5p"
      },
      "execution_count": null,
      "outputs": []
    },
    {
      "cell_type": "code",
      "source": [
        "# Creating DataFrame for Evaluations\n",
        "result_stem = pd.DataFrame(columns = ['Model Name', 'Accuracy', 'Precision', 'Recall', 'F1_score', 'Log_loss'])\n",
        "result_stem.head()"
      ],
      "metadata": {
        "id": "bVvgKjvE4GtT"
      },
      "execution_count": null,
      "outputs": []
    },
    {
      "cell_type": "code",
      "source": [
        "# result_stem = res('RandomForest Classifier', acc_rf_stem, precision_rf_stem, recall_rf_stem, f1_score_rf_stem, log_loss_rf_stem, y_pred_rf_stem, berf_stem)\n",
        "# result_stem = res('Logistic Regression', acc_lr_stem, precision_lr_stem, recall_lr_stem, f1_score_lr_stem, log_loss_lr_stem,  y_pred_lr_stem, belr_stem)\n",
        "# result_stem = res('SVC Classifier', acc_svc_stem, precision_svc_stem, recall_svc_stem, f1_score_svc_stem, log_loss_svc_stem, y_pred_svc_stem, besvc_stem)"
      ],
      "metadata": {
        "id": "jQgJu3rR4Yao"
      },
      "execution_count": null,
      "outputs": []
    },
    {
      "cell_type": "markdown",
      "source": [
        "# Cosine Similarity"
      ],
      "metadata": {
        "id": "pkMao6QHvHqD"
      }
    },
    {
      "cell_type": "code",
      "source": [
        "from sklearn.metrics.pairwise import cosine_similarity"
      ],
      "metadata": {
        "id": "V3jwkfmLvJqV"
      },
      "execution_count": null,
      "outputs": []
    },
    {
      "cell_type": "code",
      "source": [
        "#cosine = cosine_similarity(X_train_lemma, y_train_lemma, dense_output=True)"
      ],
      "metadata": {
        "id": "4rRip2xcvM2Q"
      },
      "execution_count": null,
      "outputs": []
    },
    {
      "cell_type": "code",
      "source": [
        "cosine_similarity(arr_q1_lemma , arr_q2_lemma, dense_output=True)"
      ],
      "metadata": {
        "colab": {
          "base_uri": "https://localhost:8080/"
        },
        "id": "gqh3J2fN0kQe",
        "outputId": "d1763a84-b980-4f75-a7f2-61aac6414a1d"
      },
      "execution_count": null,
      "outputs": [
        {
          "output_type": "execute_result",
          "data": {
            "text/plain": [
              "array([[0.77353704, 0.6493094 , 0.7844405 , ..., 0.61083734, 0.6324987 ,\n",
              "        0.8206404 ],\n",
              "       [0.33382827, 0.8227184 , 0.5351572 , ..., 0.5696451 , 0.4045978 ,\n",
              "        0.5432366 ],\n",
              "       [0.57329106, 0.65007234, 0.86115694, ..., 0.77194357, 0.52491057,\n",
              "        0.7496874 ],\n",
              "       ...,\n",
              "       [0.5479884 , 0.5654626 , 0.74211514, ..., 0.8167627 , 0.58999306,\n",
              "        0.8312438 ],\n",
              "       [0.63509995, 0.54801077, 0.78231716, ..., 0.63727254, 0.88014674,\n",
              "        0.81301326],\n",
              "       [0.6825827 , 0.6387254 , 0.84284997, ..., 0.6468858 , 0.6542733 ,\n",
              "        0.8440794 ]], dtype=float32)"
            ]
          },
          "metadata": {},
          "execution_count": 113
        }
      ]
    },
    {
      "cell_type": "code",
      "source": [
        "cosine_similarity(arr_q1_lemma , arr_q2_lemma)\n",
        "cosine_similarity(arr_q1_sw_lemma , arr_q2_sw_lemma)\n",
        "cosine_similarity(arr_q1_stem , arr_q2_stem)\n",
        "cosine_similarity(arr_q1_sw_stem , arr_q2_sw_stem)\n",
        "cosine_similarity(arr_q1_sw , arr_q2_sw)\n",
        "cosine_similarity(arr_q1_out , arr_q2_out)"
      ],
      "metadata": {
        "id": "ELyMvNJI1vfA"
      },
      "execution_count": null,
      "outputs": []
    },
    {
      "cell_type": "code",
      "source": [],
      "metadata": {
        "id": "MjfKG8stgpkC"
      },
      "execution_count": null,
      "outputs": []
    },
    {
      "cell_type": "markdown",
      "source": [
        "# Prediction"
      ],
      "metadata": {
        "id": "15usX6qVgqDR"
      }
    },
    {
      "cell_type": "code",
      "source": [
        "def prediction(s1, s2, model):\n",
        "    import pandas as pd\n",
        "    import numpy as np\n",
        "    import re\n",
        "    import string\n",
        "    from string import punctuation\n",
        "    import nltk\n",
        "    from nltk.stem import WordNetLemmatizer, PorterStemmer, LancasterStemmer\n",
        "    from nltk.corpus import wordnet, stopwords\n",
        "    from nltk import pos_tag, word_tokenize\n",
        "    import gensim\n",
        "    from gensim.parsing.preprocessing import remove_stopwords\n",
        "    from gensim.models.doc2vec import Doc2Vec, TaggedDocument\n",
        "    from keras.preprocessing.text import Tokenizer\n",
        "    import warnings\n",
        "    warnings.filterwarnings('ignore')\n",
        "    \n",
        "    stops = set(stopwords.words('english'))\n",
        "    \n",
        "    stemmer =  PorterStemmer()\n",
        "    lemmer = WordNetLemmatizer()\n",
        "\n",
        "    def get_wordnet_pos(tag):\n",
        "        if tag.startswith(\"N\"):\n",
        "            return wordnet.NOUN\n",
        "        if tag.startswith(\"J\"):\n",
        "            return wordnet.ADJ\n",
        "        if tag.startswith(\"V\"):\n",
        "            return wordnet.VERB\n",
        "        if tag.startswith(\"R\"):\n",
        "            return wordnet.ADV\n",
        "        return wordnet.NOUN\n",
        "\n",
        "    def clean_sentence(sentence, stopwords = False, lemmatize = False, stem = False):\n",
        "        sentence = sentence.lower().strip()\n",
        "        sentence = sentence.encode(\"ascii\", errors=\"ignore\").decode()\n",
        "        sentence = re.sub(r'[^a-z0-9\\s]', '', sentence)  # removing all caracters that are not alpha numeric\n",
        "   \n",
        "        sentence = sentence.translate(str.maketrans('', '', string.punctuation))  # remove punctuation\n",
        "    \n",
        "        if stopwords:\n",
        "            sentence = remove_stopwords(sentence) \n",
        "    \n",
        "        not_1 = []\n",
        "        for word in sentence.split():\n",
        "            if len(word) > 1:\n",
        "                not_1.append(word)\n",
        "        sentence = ' '.join(not_1) \n",
        "\n",
        "        if lemmatize:\n",
        "            nltk_tagged = nltk.pos_tag(nltk.word_tokenize(sentence))\n",
        "            wn_tagged = map(lambda x: (x[0], get_wordnet_pos(x[1])), nltk_tagged)\n",
        "            res_words = []\n",
        "            for word, tag in wn_tagged:\n",
        "                if tag is None:\n",
        "                    res_words.append(word)\n",
        "                else :\n",
        "                    res_words.append(lemmer.lemmatize(word, tag))\n",
        "            sentence = \" \".join(res_words)\n",
        "        \n",
        "        if stem:\n",
        "            sent_stemmed = ''\n",
        "            for word in sentence.split():\n",
        "                sent_stemmed += ' '+ stemmer.stem(word)\n",
        "            sentence = sent_stemmed\n",
        "    \n",
        "        return sentence\n",
        "\n",
        "    def get_cleaned_senteces(df, stopwords = False, lemmatize = False, stem = False):\n",
        "        cleaned_sentences1 = []\n",
        "        cleaned_sentences2 = []\n",
        "    \n",
        "        for index, row in df.iterrows():\n",
        "       \n",
        "            cleaned1 = clean_sentence(row['qs1'], stopwords, lemmatize, stem) \n",
        "            cleaned2 = clean_sentence(row['qs2'], stopwords, lemmatize, stem)\n",
        "\n",
        "            cleaned_sentences1.append(cleaned1)\n",
        "            cleaned_sentences2.append(cleaned2)\n",
        "        return cleaned_sentences1, cleaned_sentences2\n",
        "\n",
        "    def to_df(q1cleaned, q2cleaned, df):\n",
        "        '''cleaned sentences to df'''\n",
        "        X_temp1 = pd.DataFrame()\n",
        "        X_temp2 = pd.DataFrame()\n",
        "        X_temp1['qs1'] = pd.DataFrame(q1cleaned, index = df.index)\n",
        "        X_temp2['qs2'] = pd.DataFrame(q2cleaned, index = df.index)\n",
        "        X_temp = pd.concat([X_temp1, X_temp2], axis = 1) \n",
        "        return X_temp \n",
        "\n",
        "    sdf = pd.DataFrame(columns = ['qs1', 'qs2'])\n",
        "    sdf.loc[len(sdf)]   = [s1, s2]\n",
        "    \n",
        "    q1_swt, q2_swt = get_cleaned_senteces(sdf, stopwords = False, lemmatize = True, stem = False)\n",
        "    assert len(q1_swt) == len(q2_swt)\n",
        "  \n",
        "    s1 = [TaggedDocument(d, [i]) for i, d in enumerate(q1_swt)]\n",
        "    s2 = [TaggedDocument(d, [i]) for i, d in enumerate(q2_swt)]\n",
        "\n",
        "    cv1 = Doc2Vec(s1, dm = 1, vector_size = 100, window = 3, min_count = 2, epochs = 30)\n",
        "    cv2 = Doc2Vec(s2, dm = 1, vector_size = 100, window = 3, min_count = 2, epochs = 30)\n",
        "\n",
        "    arr_s1 = np.array(cv1[0]).reshape(1, 100)\n",
        "    arr_s2 = np.array(cv2[0]).reshape(1, 100)\n",
        "    temp1 = pd.DataFrame(arr_s1)\n",
        "    temp2 = pd.DataFrame(arr_s2)\n",
        "    X_temp = pd.concat([temp1, temp2], axis=1)\n",
        "    X_temp['y'] = 5\n",
        "  \n",
        "    predict = model.predict(X_temp)\n",
        "    return predict\n"
      ],
      "metadata": {
        "id": "mxnim4CGgr__"
      },
      "execution_count": null,
      "outputs": []
    },
    {
      "cell_type": "code",
      "source": [
        "prediction(s1, s2, besvc)"
      ],
      "metadata": {
        "id": "0wCLGecVmv7Q",
        "outputId": "bb1ed79f-741b-4182-a776-baa691c12725",
        "colab": {
          "base_uri": "https://localhost:8080/"
        }
      },
      "execution_count": null,
      "outputs": [
        {
          "output_type": "stream",
          "name": "stderr",
          "text": [
            "WARNING:gensim.models.doc2vec:Each 'words' should be a list of words (usually unicode strings). First 'words' here is instead plain <class 'str'>.\n",
            "WARNING:gensim.models.doc2vec:Each 'words' should be a list of words (usually unicode strings). First 'words' here is instead plain <class 'str'>.\n"
          ]
        },
        {
          "output_type": "execute_result",
          "data": {
            "text/plain": [
              "array([1])"
            ]
          },
          "metadata": {},
          "execution_count": 145
        }
      ]
    },
    {
      "cell_type": "code",
      "source": [
        "# label = 0\n",
        "s1 = \"How many keywords are there in PERL Programming Language in the latest version?\"\n",
        "s2 = \"How many keywords are there in the Racket programming language of the latest version?\"\n",
        "s1, s2 = s2, s1"
      ],
      "metadata": {
        "id": "UkqPAQxfhJZf"
      },
      "execution_count": null,
      "outputs": []
    },
    {
      "cell_type": "code",
      "source": [
        "# Label 1\n",
        "s3 = \"What should I do to be a great geologist?\"\n",
        "s4 = \"How can I be a great geologist?\"\n",
        "s1, s2 = s1, s2"
      ],
      "metadata": {
        "id": "X7RJGmM3hMTf"
      },
      "execution_count": null,
      "outputs": []
    },
    {
      "cell_type": "code",
      "source": [
        "# 0, 1\n",
        "print('Prediction Random Forest', prediction(s1, s2, berf), prediction(s3, s4, berf))\n",
        "#print('Prediction Logistic Regression', prediction(s1, s2, belr), prediction(s3, s4, belr))\n",
        "#print('Prediction XGB', prediction(s2, s1, bexgb), prediction(s3, s4, bexgb))\n",
        "print('Prediction SVC', prediction(s1, s2, besvc), prediction(s3, s4, besvc))\n",
        "#print('Prediction Linear SVC', prediction(s1, s2, belsvc), prediction(s3, s4, belsvc))\n",
        "#print('Prediction LighGBM', prediction(s1, s2, belgbm), prediction(s3, s4, belgbm))\n",
        "#print('Prediction SGD', prediction(s1, s2, besgd), prediction(s3, s4, besgd))\n",
        "#print('Prediction modelTf', prediction(s1, s2, modelTf), prediction(s3, s4, modelTf))"
      ],
      "metadata": {
        "colab": {
          "base_uri": "https://localhost:8080/"
        },
        "id": "CVxnK4KOhO5d",
        "outputId": "543e822b-f91e-4e1d-87d7-10a98af98757"
      },
      "execution_count": null,
      "outputs": [
        {
          "output_type": "stream",
          "name": "stderr",
          "text": [
            "WARNING:gensim.models.doc2vec:Each 'words' should be a list of words (usually unicode strings). First 'words' here is instead plain <class 'str'>.\n",
            "WARNING:gensim.models.doc2vec:Each 'words' should be a list of words (usually unicode strings). First 'words' here is instead plain <class 'str'>.\n",
            "WARNING:gensim.models.doc2vec:Each 'words' should be a list of words (usually unicode strings). First 'words' here is instead plain <class 'str'>.\n",
            "WARNING:gensim.models.doc2vec:Each 'words' should be a list of words (usually unicode strings). First 'words' here is instead plain <class 'str'>.\n",
            "WARNING:gensim.models.doc2vec:Each 'words' should be a list of words (usually unicode strings). First 'words' here is instead plain <class 'str'>.\n",
            "WARNING:gensim.models.doc2vec:Each 'words' should be a list of words (usually unicode strings). First 'words' here is instead plain <class 'str'>.\n",
            "WARNING:gensim.models.doc2vec:Each 'words' should be a list of words (usually unicode strings). First 'words' here is instead plain <class 'str'>.\n"
          ]
        },
        {
          "output_type": "stream",
          "name": "stdout",
          "text": [
            "Prediction Random Forest [0] [0]\n"
          ]
        },
        {
          "output_type": "stream",
          "name": "stderr",
          "text": [
            "WARNING:gensim.models.doc2vec:Each 'words' should be a list of words (usually unicode strings). First 'words' here is instead plain <class 'str'>.\n"
          ]
        },
        {
          "output_type": "stream",
          "name": "stdout",
          "text": [
            "Prediction SVC [1] [1]\n"
          ]
        }
      ]
    }
  ]
}